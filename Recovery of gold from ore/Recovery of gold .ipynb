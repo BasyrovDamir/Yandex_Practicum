{
 "cells": [
  {
   "cell_type": "markdown",
   "metadata": {},
   "source": [
    "# Восстановление золота из руды"
   ]
  },
  {
   "cell_type": "markdown",
   "metadata": {},
   "source": [
    "Подготовьте прототип модели машинного обучения для «Цифры». Компания разрабатывает решения для эффективной работы промышленных предприятий.\n",
    "\n",
    "Модель должна предсказать коэффициент восстановления золота из золотосодержащей руды. Используйте данные с параметрами добычи и очистки. \n",
    "\n",
    "Модель поможет оптимизировать производство, чтобы не запускать предприятие с убыточными характеристиками.\n",
    "\n",
    "Вам нужно:\n",
    "\n",
    "1. Подготовить данные;\n",
    "2. Провести исследовательский анализ данных;\n",
    "3. Построить и обучить модель.\n",
    "\n",
    "Чтобы выполнить проект, обращайтесь к библиотекам *pandas*, *matplotlib* и *sklearn.* Вам поможет их документация."
   ]
  },
  {
   "cell_type": "markdown",
   "metadata": {},
   "source": [
    "## Подготовка данных"
   ]
  },
  {
   "cell_type": "markdown",
   "metadata": {},
   "source": [
    "### Откройте файлы и изучите их"
   ]
  },
  {
   "cell_type": "code",
   "execution_count": 1,
   "metadata": {},
   "outputs": [],
   "source": [
    "import pandas as pd\n",
    "import seaborn as sns\n",
    "import numpy as np\n",
    "from sklearn.metrics import mean_absolute_error, make_scorer\n",
    "from sklearn.linear_model import LinearRegression\n",
    "from sklearn.ensemble import RandomForestRegressor\n",
    "from sklearn.model_selection import train_test_split\n",
    "from sklearn.preprocessing import StandardScaler\n",
    "from sklearn.model_selection import cross_val_score\n",
    "from sklearn.tree import DecisionTreeRegressor\n",
    "import matplotlib.pyplot as plt\n",
    "import math\n",
    "from decimal import Decimal\n",
    "import warnings\n",
    "warnings.filterwarnings(\"ignore\")\n",
    "from pandas.core.reshape.merge import merge\n",
    "from sklearn.model_selection import GridSearchCV\n",
    "from sklearn.ensemble import RandomForestClassifier"
   ]
  },
  {
   "cell_type": "code",
   "execution_count": 2,
   "metadata": {},
   "outputs": [],
   "source": [
    "train_df = pd.read_csv('/datasets/gold_recovery_train_new.csv')"
   ]
  },
  {
   "cell_type": "code",
   "execution_count": 3,
   "metadata": {},
   "outputs": [
    {
     "data": {
      "text/html": [
       "<div>\n",
       "<style scoped>\n",
       "    .dataframe tbody tr th:only-of-type {\n",
       "        vertical-align: middle;\n",
       "    }\n",
       "\n",
       "    .dataframe tbody tr th {\n",
       "        vertical-align: top;\n",
       "    }\n",
       "\n",
       "    .dataframe thead th {\n",
       "        text-align: right;\n",
       "    }\n",
       "</style>\n",
       "<table border=\"1\" class=\"dataframe\">\n",
       "  <thead>\n",
       "    <tr style=\"text-align: right;\">\n",
       "      <th></th>\n",
       "      <th>date</th>\n",
       "      <th>final.output.concentrate_ag</th>\n",
       "      <th>final.output.concentrate_pb</th>\n",
       "      <th>final.output.concentrate_sol</th>\n",
       "      <th>final.output.concentrate_au</th>\n",
       "      <th>final.output.recovery</th>\n",
       "      <th>final.output.tail_ag</th>\n",
       "      <th>final.output.tail_pb</th>\n",
       "      <th>final.output.tail_sol</th>\n",
       "      <th>final.output.tail_au</th>\n",
       "      <th>...</th>\n",
       "      <th>secondary_cleaner.state.floatbank4_a_air</th>\n",
       "      <th>secondary_cleaner.state.floatbank4_a_level</th>\n",
       "      <th>secondary_cleaner.state.floatbank4_b_air</th>\n",
       "      <th>secondary_cleaner.state.floatbank4_b_level</th>\n",
       "      <th>secondary_cleaner.state.floatbank5_a_air</th>\n",
       "      <th>secondary_cleaner.state.floatbank5_a_level</th>\n",
       "      <th>secondary_cleaner.state.floatbank5_b_air</th>\n",
       "      <th>secondary_cleaner.state.floatbank5_b_level</th>\n",
       "      <th>secondary_cleaner.state.floatbank6_a_air</th>\n",
       "      <th>secondary_cleaner.state.floatbank6_a_level</th>\n",
       "    </tr>\n",
       "  </thead>\n",
       "  <tbody>\n",
       "    <tr>\n",
       "      <th>0</th>\n",
       "      <td>2016-01-15 00:00:00</td>\n",
       "      <td>6.055403</td>\n",
       "      <td>9.889648</td>\n",
       "      <td>5.507324</td>\n",
       "      <td>42.192020</td>\n",
       "      <td>70.541216</td>\n",
       "      <td>10.411962</td>\n",
       "      <td>0.895447</td>\n",
       "      <td>16.904297</td>\n",
       "      <td>2.143149</td>\n",
       "      <td>...</td>\n",
       "      <td>14.016835</td>\n",
       "      <td>-502.488007</td>\n",
       "      <td>12.099931</td>\n",
       "      <td>-504.715942</td>\n",
       "      <td>9.925633</td>\n",
       "      <td>-498.310211</td>\n",
       "      <td>8.079666</td>\n",
       "      <td>-500.470978</td>\n",
       "      <td>14.151341</td>\n",
       "      <td>-605.841980</td>\n",
       "    </tr>\n",
       "    <tr>\n",
       "      <th>1</th>\n",
       "      <td>2016-01-15 01:00:00</td>\n",
       "      <td>6.029369</td>\n",
       "      <td>9.968944</td>\n",
       "      <td>5.257781</td>\n",
       "      <td>42.701629</td>\n",
       "      <td>69.266198</td>\n",
       "      <td>10.462676</td>\n",
       "      <td>0.927452</td>\n",
       "      <td>16.634514</td>\n",
       "      <td>2.224930</td>\n",
       "      <td>...</td>\n",
       "      <td>13.992281</td>\n",
       "      <td>-505.503262</td>\n",
       "      <td>11.950531</td>\n",
       "      <td>-501.331529</td>\n",
       "      <td>10.039245</td>\n",
       "      <td>-500.169983</td>\n",
       "      <td>7.984757</td>\n",
       "      <td>-500.582168</td>\n",
       "      <td>13.998353</td>\n",
       "      <td>-599.787184</td>\n",
       "    </tr>\n",
       "    <tr>\n",
       "      <th>2</th>\n",
       "      <td>2016-01-15 02:00:00</td>\n",
       "      <td>6.055926</td>\n",
       "      <td>10.213995</td>\n",
       "      <td>5.383759</td>\n",
       "      <td>42.657501</td>\n",
       "      <td>68.116445</td>\n",
       "      <td>10.507046</td>\n",
       "      <td>0.953716</td>\n",
       "      <td>16.208849</td>\n",
       "      <td>2.257889</td>\n",
       "      <td>...</td>\n",
       "      <td>14.015015</td>\n",
       "      <td>-502.520901</td>\n",
       "      <td>11.912783</td>\n",
       "      <td>-501.133383</td>\n",
       "      <td>10.070913</td>\n",
       "      <td>-500.129135</td>\n",
       "      <td>8.013877</td>\n",
       "      <td>-500.517572</td>\n",
       "      <td>14.028663</td>\n",
       "      <td>-601.427363</td>\n",
       "    </tr>\n",
       "    <tr>\n",
       "      <th>3</th>\n",
       "      <td>2016-01-15 03:00:00</td>\n",
       "      <td>6.047977</td>\n",
       "      <td>9.977019</td>\n",
       "      <td>4.858634</td>\n",
       "      <td>42.689819</td>\n",
       "      <td>68.347543</td>\n",
       "      <td>10.422762</td>\n",
       "      <td>0.883763</td>\n",
       "      <td>16.532835</td>\n",
       "      <td>2.146849</td>\n",
       "      <td>...</td>\n",
       "      <td>14.036510</td>\n",
       "      <td>-500.857308</td>\n",
       "      <td>11.999550</td>\n",
       "      <td>-501.193686</td>\n",
       "      <td>9.970366</td>\n",
       "      <td>-499.201640</td>\n",
       "      <td>7.977324</td>\n",
       "      <td>-500.255908</td>\n",
       "      <td>14.005551</td>\n",
       "      <td>-599.996129</td>\n",
       "    </tr>\n",
       "    <tr>\n",
       "      <th>4</th>\n",
       "      <td>2016-01-15 04:00:00</td>\n",
       "      <td>6.148599</td>\n",
       "      <td>10.142511</td>\n",
       "      <td>4.939416</td>\n",
       "      <td>42.774141</td>\n",
       "      <td>66.927016</td>\n",
       "      <td>10.360302</td>\n",
       "      <td>0.792826</td>\n",
       "      <td>16.525686</td>\n",
       "      <td>2.055292</td>\n",
       "      <td>...</td>\n",
       "      <td>14.027298</td>\n",
       "      <td>-499.838632</td>\n",
       "      <td>11.953070</td>\n",
       "      <td>-501.053894</td>\n",
       "      <td>9.925709</td>\n",
       "      <td>-501.686727</td>\n",
       "      <td>7.894242</td>\n",
       "      <td>-500.356035</td>\n",
       "      <td>13.996647</td>\n",
       "      <td>-601.496691</td>\n",
       "    </tr>\n",
       "  </tbody>\n",
       "</table>\n",
       "<p>5 rows × 87 columns</p>\n",
       "</div>"
      ],
      "text/plain": [
       "                  date  final.output.concentrate_ag  \\\n",
       "0  2016-01-15 00:00:00                     6.055403   \n",
       "1  2016-01-15 01:00:00                     6.029369   \n",
       "2  2016-01-15 02:00:00                     6.055926   \n",
       "3  2016-01-15 03:00:00                     6.047977   \n",
       "4  2016-01-15 04:00:00                     6.148599   \n",
       "\n",
       "   final.output.concentrate_pb  final.output.concentrate_sol  \\\n",
       "0                     9.889648                      5.507324   \n",
       "1                     9.968944                      5.257781   \n",
       "2                    10.213995                      5.383759   \n",
       "3                     9.977019                      4.858634   \n",
       "4                    10.142511                      4.939416   \n",
       "\n",
       "   final.output.concentrate_au  final.output.recovery  final.output.tail_ag  \\\n",
       "0                    42.192020              70.541216             10.411962   \n",
       "1                    42.701629              69.266198             10.462676   \n",
       "2                    42.657501              68.116445             10.507046   \n",
       "3                    42.689819              68.347543             10.422762   \n",
       "4                    42.774141              66.927016             10.360302   \n",
       "\n",
       "   final.output.tail_pb  final.output.tail_sol  final.output.tail_au  ...  \\\n",
       "0              0.895447              16.904297              2.143149  ...   \n",
       "1              0.927452              16.634514              2.224930  ...   \n",
       "2              0.953716              16.208849              2.257889  ...   \n",
       "3              0.883763              16.532835              2.146849  ...   \n",
       "4              0.792826              16.525686              2.055292  ...   \n",
       "\n",
       "   secondary_cleaner.state.floatbank4_a_air  \\\n",
       "0                                 14.016835   \n",
       "1                                 13.992281   \n",
       "2                                 14.015015   \n",
       "3                                 14.036510   \n",
       "4                                 14.027298   \n",
       "\n",
       "   secondary_cleaner.state.floatbank4_a_level  \\\n",
       "0                                 -502.488007   \n",
       "1                                 -505.503262   \n",
       "2                                 -502.520901   \n",
       "3                                 -500.857308   \n",
       "4                                 -499.838632   \n",
       "\n",
       "   secondary_cleaner.state.floatbank4_b_air  \\\n",
       "0                                 12.099931   \n",
       "1                                 11.950531   \n",
       "2                                 11.912783   \n",
       "3                                 11.999550   \n",
       "4                                 11.953070   \n",
       "\n",
       "   secondary_cleaner.state.floatbank4_b_level  \\\n",
       "0                                 -504.715942   \n",
       "1                                 -501.331529   \n",
       "2                                 -501.133383   \n",
       "3                                 -501.193686   \n",
       "4                                 -501.053894   \n",
       "\n",
       "   secondary_cleaner.state.floatbank5_a_air  \\\n",
       "0                                  9.925633   \n",
       "1                                 10.039245   \n",
       "2                                 10.070913   \n",
       "3                                  9.970366   \n",
       "4                                  9.925709   \n",
       "\n",
       "   secondary_cleaner.state.floatbank5_a_level  \\\n",
       "0                                 -498.310211   \n",
       "1                                 -500.169983   \n",
       "2                                 -500.129135   \n",
       "3                                 -499.201640   \n",
       "4                                 -501.686727   \n",
       "\n",
       "   secondary_cleaner.state.floatbank5_b_air  \\\n",
       "0                                  8.079666   \n",
       "1                                  7.984757   \n",
       "2                                  8.013877   \n",
       "3                                  7.977324   \n",
       "4                                  7.894242   \n",
       "\n",
       "   secondary_cleaner.state.floatbank5_b_level  \\\n",
       "0                                 -500.470978   \n",
       "1                                 -500.582168   \n",
       "2                                 -500.517572   \n",
       "3                                 -500.255908   \n",
       "4                                 -500.356035   \n",
       "\n",
       "   secondary_cleaner.state.floatbank6_a_air  \\\n",
       "0                                 14.151341   \n",
       "1                                 13.998353   \n",
       "2                                 14.028663   \n",
       "3                                 14.005551   \n",
       "4                                 13.996647   \n",
       "\n",
       "   secondary_cleaner.state.floatbank6_a_level  \n",
       "0                                 -605.841980  \n",
       "1                                 -599.787184  \n",
       "2                                 -601.427363  \n",
       "3                                 -599.996129  \n",
       "4                                 -601.496691  \n",
       "\n",
       "[5 rows x 87 columns]"
      ]
     },
     "execution_count": 3,
     "metadata": {},
     "output_type": "execute_result"
    }
   ],
   "source": [
    "train_df.head()"
   ]
  },
  {
   "cell_type": "code",
   "execution_count": 4,
   "metadata": {},
   "outputs": [
    {
     "name": "stdout",
     "output_type": "stream",
     "text": [
      "<class 'pandas.core.frame.DataFrame'>\n",
      "RangeIndex: 14149 entries, 0 to 14148\n",
      "Data columns (total 87 columns):\n",
      " #   Column                                              Non-Null Count  Dtype  \n",
      "---  ------                                              --------------  -----  \n",
      " 0   date                                                14149 non-null  object \n",
      " 1   final.output.concentrate_ag                         14148 non-null  float64\n",
      " 2   final.output.concentrate_pb                         14148 non-null  float64\n",
      " 3   final.output.concentrate_sol                        13938 non-null  float64\n",
      " 4   final.output.concentrate_au                         14149 non-null  float64\n",
      " 5   final.output.recovery                               14149 non-null  float64\n",
      " 6   final.output.tail_ag                                14149 non-null  float64\n",
      " 7   final.output.tail_pb                                14049 non-null  float64\n",
      " 8   final.output.tail_sol                               14144 non-null  float64\n",
      " 9   final.output.tail_au                                14149 non-null  float64\n",
      " 10  primary_cleaner.input.sulfate                       14129 non-null  float64\n",
      " 11  primary_cleaner.input.depressant                    14117 non-null  float64\n",
      " 12  primary_cleaner.input.feed_size                     14149 non-null  float64\n",
      " 13  primary_cleaner.input.xanthate                      14049 non-null  float64\n",
      " 14  primary_cleaner.output.concentrate_ag               14149 non-null  float64\n",
      " 15  primary_cleaner.output.concentrate_pb               14063 non-null  float64\n",
      " 16  primary_cleaner.output.concentrate_sol              13863 non-null  float64\n",
      " 17  primary_cleaner.output.concentrate_au               14149 non-null  float64\n",
      " 18  primary_cleaner.output.tail_ag                      14148 non-null  float64\n",
      " 19  primary_cleaner.output.tail_pb                      14134 non-null  float64\n",
      " 20  primary_cleaner.output.tail_sol                     14103 non-null  float64\n",
      " 21  primary_cleaner.output.tail_au                      14149 non-null  float64\n",
      " 22  primary_cleaner.state.floatbank8_a_air              14145 non-null  float64\n",
      " 23  primary_cleaner.state.floatbank8_a_level            14148 non-null  float64\n",
      " 24  primary_cleaner.state.floatbank8_b_air              14145 non-null  float64\n",
      " 25  primary_cleaner.state.floatbank8_b_level            14148 non-null  float64\n",
      " 26  primary_cleaner.state.floatbank8_c_air              14147 non-null  float64\n",
      " 27  primary_cleaner.state.floatbank8_c_level            14148 non-null  float64\n",
      " 28  primary_cleaner.state.floatbank8_d_air              14146 non-null  float64\n",
      " 29  primary_cleaner.state.floatbank8_d_level            14148 non-null  float64\n",
      " 30  rougher.calculation.sulfate_to_au_concentrate       14148 non-null  float64\n",
      " 31  rougher.calculation.floatbank10_sulfate_to_au_feed  14148 non-null  float64\n",
      " 32  rougher.calculation.floatbank11_sulfate_to_au_feed  14148 non-null  float64\n",
      " 33  rougher.calculation.au_pb_ratio                     14149 non-null  float64\n",
      " 34  rougher.input.feed_ag                               14149 non-null  float64\n",
      " 35  rougher.input.feed_pb                               14049 non-null  float64\n",
      " 36  rougher.input.feed_rate                             14141 non-null  float64\n",
      " 37  rougher.input.feed_size                             14005 non-null  float64\n",
      " 38  rougher.input.feed_sol                              14071 non-null  float64\n",
      " 39  rougher.input.feed_au                               14149 non-null  float64\n",
      " 40  rougher.input.floatbank10_sulfate                   14120 non-null  float64\n",
      " 41  rougher.input.floatbank10_xanthate                  14141 non-null  float64\n",
      " 42  rougher.input.floatbank11_sulfate                   14113 non-null  float64\n",
      " 43  rougher.input.floatbank11_xanthate                  13721 non-null  float64\n",
      " 44  rougher.output.concentrate_ag                       14149 non-null  float64\n",
      " 45  rougher.output.concentrate_pb                       14149 non-null  float64\n",
      " 46  rougher.output.concentrate_sol                      14127 non-null  float64\n",
      " 47  rougher.output.concentrate_au                       14149 non-null  float64\n",
      " 48  rougher.output.recovery                             14149 non-null  float64\n",
      " 49  rougher.output.tail_ag                              14148 non-null  float64\n",
      " 50  rougher.output.tail_pb                              14149 non-null  float64\n",
      " 51  rougher.output.tail_sol                             14149 non-null  float64\n",
      " 52  rougher.output.tail_au                              14149 non-null  float64\n",
      " 53  rougher.state.floatbank10_a_air                     14148 non-null  float64\n",
      " 54  rougher.state.floatbank10_a_level                   14148 non-null  float64\n",
      " 55  rougher.state.floatbank10_b_air                     14148 non-null  float64\n",
      " 56  rougher.state.floatbank10_b_level                   14148 non-null  float64\n",
      " 57  rougher.state.floatbank10_c_air                     14148 non-null  float64\n",
      " 58  rougher.state.floatbank10_c_level                   14148 non-null  float64\n",
      " 59  rougher.state.floatbank10_d_air                     14149 non-null  float64\n",
      " 60  rougher.state.floatbank10_d_level                   14149 non-null  float64\n",
      " 61  rougher.state.floatbank10_e_air                     13713 non-null  float64\n",
      " 62  rougher.state.floatbank10_e_level                   14149 non-null  float64\n",
      " 63  rougher.state.floatbank10_f_air                     14149 non-null  float64\n",
      " 64  rougher.state.floatbank10_f_level                   14149 non-null  float64\n",
      " 65  secondary_cleaner.output.tail_ag                    14147 non-null  float64\n",
      " 66  secondary_cleaner.output.tail_pb                    14139 non-null  float64\n",
      " 67  secondary_cleaner.output.tail_sol                   12544 non-null  float64\n",
      " 68  secondary_cleaner.output.tail_au                    14149 non-null  float64\n",
      " 69  secondary_cleaner.state.floatbank2_a_air            13932 non-null  float64\n",
      " 70  secondary_cleaner.state.floatbank2_a_level          14148 non-null  float64\n",
      " 71  secondary_cleaner.state.floatbank2_b_air            14128 non-null  float64\n",
      " 72  secondary_cleaner.state.floatbank2_b_level          14148 non-null  float64\n",
      " 73  secondary_cleaner.state.floatbank3_a_air            14145 non-null  float64\n",
      " 74  secondary_cleaner.state.floatbank3_a_level          14148 non-null  float64\n",
      " 75  secondary_cleaner.state.floatbank3_b_air            14148 non-null  float64\n",
      " 76  secondary_cleaner.state.floatbank3_b_level          14148 non-null  float64\n",
      " 77  secondary_cleaner.state.floatbank4_a_air            14143 non-null  float64\n",
      " 78  secondary_cleaner.state.floatbank4_a_level          14148 non-null  float64\n",
      " 79  secondary_cleaner.state.floatbank4_b_air            14148 non-null  float64\n",
      " 80  secondary_cleaner.state.floatbank4_b_level          14148 non-null  float64\n",
      " 81  secondary_cleaner.state.floatbank5_a_air            14148 non-null  float64\n",
      " 82  secondary_cleaner.state.floatbank5_a_level          14148 non-null  float64\n",
      " 83  secondary_cleaner.state.floatbank5_b_air            14148 non-null  float64\n",
      " 84  secondary_cleaner.state.floatbank5_b_level          14148 non-null  float64\n",
      " 85  secondary_cleaner.state.floatbank6_a_air            14147 non-null  float64\n",
      " 86  secondary_cleaner.state.floatbank6_a_level          14148 non-null  float64\n",
      "dtypes: float64(86), object(1)\n",
      "memory usage: 9.4+ MB\n"
     ]
    }
   ],
   "source": [
    "train_df.info()"
   ]
  },
  {
   "cell_type": "code",
   "execution_count": 5,
   "metadata": {},
   "outputs": [],
   "source": [
    "test_df = pd.read_csv('/datasets/gold_recovery_test_new.csv')"
   ]
  },
  {
   "cell_type": "code",
   "execution_count": 6,
   "metadata": {},
   "outputs": [
    {
     "data": {
      "text/html": [
       "<div>\n",
       "<style scoped>\n",
       "    .dataframe tbody tr th:only-of-type {\n",
       "        vertical-align: middle;\n",
       "    }\n",
       "\n",
       "    .dataframe tbody tr th {\n",
       "        vertical-align: top;\n",
       "    }\n",
       "\n",
       "    .dataframe thead th {\n",
       "        text-align: right;\n",
       "    }\n",
       "</style>\n",
       "<table border=\"1\" class=\"dataframe\">\n",
       "  <thead>\n",
       "    <tr style=\"text-align: right;\">\n",
       "      <th></th>\n",
       "      <th>date</th>\n",
       "      <th>primary_cleaner.input.sulfate</th>\n",
       "      <th>primary_cleaner.input.depressant</th>\n",
       "      <th>primary_cleaner.input.feed_size</th>\n",
       "      <th>primary_cleaner.input.xanthate</th>\n",
       "      <th>primary_cleaner.state.floatbank8_a_air</th>\n",
       "      <th>primary_cleaner.state.floatbank8_a_level</th>\n",
       "      <th>primary_cleaner.state.floatbank8_b_air</th>\n",
       "      <th>primary_cleaner.state.floatbank8_b_level</th>\n",
       "      <th>primary_cleaner.state.floatbank8_c_air</th>\n",
       "      <th>...</th>\n",
       "      <th>secondary_cleaner.state.floatbank4_a_air</th>\n",
       "      <th>secondary_cleaner.state.floatbank4_a_level</th>\n",
       "      <th>secondary_cleaner.state.floatbank4_b_air</th>\n",
       "      <th>secondary_cleaner.state.floatbank4_b_level</th>\n",
       "      <th>secondary_cleaner.state.floatbank5_a_air</th>\n",
       "      <th>secondary_cleaner.state.floatbank5_a_level</th>\n",
       "      <th>secondary_cleaner.state.floatbank5_b_air</th>\n",
       "      <th>secondary_cleaner.state.floatbank5_b_level</th>\n",
       "      <th>secondary_cleaner.state.floatbank6_a_air</th>\n",
       "      <th>secondary_cleaner.state.floatbank6_a_level</th>\n",
       "    </tr>\n",
       "  </thead>\n",
       "  <tbody>\n",
       "    <tr>\n",
       "      <th>0</th>\n",
       "      <td>2016-09-01 00:59:59</td>\n",
       "      <td>210.800909</td>\n",
       "      <td>14.993118</td>\n",
       "      <td>8.080000</td>\n",
       "      <td>1.005021</td>\n",
       "      <td>1398.981301</td>\n",
       "      <td>-500.225577</td>\n",
       "      <td>1399.144926</td>\n",
       "      <td>-499.919735</td>\n",
       "      <td>1400.102998</td>\n",
       "      <td>...</td>\n",
       "      <td>12.023554</td>\n",
       "      <td>-497.795834</td>\n",
       "      <td>8.016656</td>\n",
       "      <td>-501.289139</td>\n",
       "      <td>7.946562</td>\n",
       "      <td>-432.317850</td>\n",
       "      <td>4.872511</td>\n",
       "      <td>-500.037437</td>\n",
       "      <td>26.705889</td>\n",
       "      <td>-499.709414</td>\n",
       "    </tr>\n",
       "    <tr>\n",
       "      <th>1</th>\n",
       "      <td>2016-09-01 01:59:59</td>\n",
       "      <td>215.392455</td>\n",
       "      <td>14.987471</td>\n",
       "      <td>8.080000</td>\n",
       "      <td>0.990469</td>\n",
       "      <td>1398.777912</td>\n",
       "      <td>-500.057435</td>\n",
       "      <td>1398.055362</td>\n",
       "      <td>-499.778182</td>\n",
       "      <td>1396.151033</td>\n",
       "      <td>...</td>\n",
       "      <td>12.058140</td>\n",
       "      <td>-498.695773</td>\n",
       "      <td>8.130979</td>\n",
       "      <td>-499.634209</td>\n",
       "      <td>7.958270</td>\n",
       "      <td>-525.839648</td>\n",
       "      <td>4.878850</td>\n",
       "      <td>-500.162375</td>\n",
       "      <td>25.019940</td>\n",
       "      <td>-499.819438</td>\n",
       "    </tr>\n",
       "    <tr>\n",
       "      <th>2</th>\n",
       "      <td>2016-09-01 02:59:59</td>\n",
       "      <td>215.259946</td>\n",
       "      <td>12.884934</td>\n",
       "      <td>7.786667</td>\n",
       "      <td>0.996043</td>\n",
       "      <td>1398.493666</td>\n",
       "      <td>-500.868360</td>\n",
       "      <td>1398.860436</td>\n",
       "      <td>-499.764529</td>\n",
       "      <td>1398.075709</td>\n",
       "      <td>...</td>\n",
       "      <td>11.962366</td>\n",
       "      <td>-498.767484</td>\n",
       "      <td>8.096893</td>\n",
       "      <td>-500.827423</td>\n",
       "      <td>8.071056</td>\n",
       "      <td>-500.801673</td>\n",
       "      <td>4.905125</td>\n",
       "      <td>-499.828510</td>\n",
       "      <td>24.994862</td>\n",
       "      <td>-500.622559</td>\n",
       "    </tr>\n",
       "    <tr>\n",
       "      <th>3</th>\n",
       "      <td>2016-09-01 03:59:59</td>\n",
       "      <td>215.336236</td>\n",
       "      <td>12.006805</td>\n",
       "      <td>7.640000</td>\n",
       "      <td>0.863514</td>\n",
       "      <td>1399.618111</td>\n",
       "      <td>-498.863574</td>\n",
       "      <td>1397.440120</td>\n",
       "      <td>-499.211024</td>\n",
       "      <td>1400.129303</td>\n",
       "      <td>...</td>\n",
       "      <td>12.033091</td>\n",
       "      <td>-498.350935</td>\n",
       "      <td>8.074946</td>\n",
       "      <td>-499.474407</td>\n",
       "      <td>7.897085</td>\n",
       "      <td>-500.868509</td>\n",
       "      <td>4.931400</td>\n",
       "      <td>-499.963623</td>\n",
       "      <td>24.948919</td>\n",
       "      <td>-498.709987</td>\n",
       "    </tr>\n",
       "    <tr>\n",
       "      <th>4</th>\n",
       "      <td>2016-09-01 04:59:59</td>\n",
       "      <td>199.099327</td>\n",
       "      <td>10.682530</td>\n",
       "      <td>7.530000</td>\n",
       "      <td>0.805575</td>\n",
       "      <td>1401.268123</td>\n",
       "      <td>-500.808305</td>\n",
       "      <td>1398.128818</td>\n",
       "      <td>-499.504543</td>\n",
       "      <td>1402.172226</td>\n",
       "      <td>...</td>\n",
       "      <td>12.025367</td>\n",
       "      <td>-500.786497</td>\n",
       "      <td>8.054678</td>\n",
       "      <td>-500.397500</td>\n",
       "      <td>8.107890</td>\n",
       "      <td>-509.526725</td>\n",
       "      <td>4.957674</td>\n",
       "      <td>-500.360026</td>\n",
       "      <td>25.003331</td>\n",
       "      <td>-500.856333</td>\n",
       "    </tr>\n",
       "  </tbody>\n",
       "</table>\n",
       "<p>5 rows × 53 columns</p>\n",
       "</div>"
      ],
      "text/plain": [
       "                  date  primary_cleaner.input.sulfate  \\\n",
       "0  2016-09-01 00:59:59                     210.800909   \n",
       "1  2016-09-01 01:59:59                     215.392455   \n",
       "2  2016-09-01 02:59:59                     215.259946   \n",
       "3  2016-09-01 03:59:59                     215.336236   \n",
       "4  2016-09-01 04:59:59                     199.099327   \n",
       "\n",
       "   primary_cleaner.input.depressant  primary_cleaner.input.feed_size  \\\n",
       "0                         14.993118                         8.080000   \n",
       "1                         14.987471                         8.080000   \n",
       "2                         12.884934                         7.786667   \n",
       "3                         12.006805                         7.640000   \n",
       "4                         10.682530                         7.530000   \n",
       "\n",
       "   primary_cleaner.input.xanthate  primary_cleaner.state.floatbank8_a_air  \\\n",
       "0                        1.005021                             1398.981301   \n",
       "1                        0.990469                             1398.777912   \n",
       "2                        0.996043                             1398.493666   \n",
       "3                        0.863514                             1399.618111   \n",
       "4                        0.805575                             1401.268123   \n",
       "\n",
       "   primary_cleaner.state.floatbank8_a_level  \\\n",
       "0                               -500.225577   \n",
       "1                               -500.057435   \n",
       "2                               -500.868360   \n",
       "3                               -498.863574   \n",
       "4                               -500.808305   \n",
       "\n",
       "   primary_cleaner.state.floatbank8_b_air  \\\n",
       "0                             1399.144926   \n",
       "1                             1398.055362   \n",
       "2                             1398.860436   \n",
       "3                             1397.440120   \n",
       "4                             1398.128818   \n",
       "\n",
       "   primary_cleaner.state.floatbank8_b_level  \\\n",
       "0                               -499.919735   \n",
       "1                               -499.778182   \n",
       "2                               -499.764529   \n",
       "3                               -499.211024   \n",
       "4                               -499.504543   \n",
       "\n",
       "   primary_cleaner.state.floatbank8_c_air  ...  \\\n",
       "0                             1400.102998  ...   \n",
       "1                             1396.151033  ...   \n",
       "2                             1398.075709  ...   \n",
       "3                             1400.129303  ...   \n",
       "4                             1402.172226  ...   \n",
       "\n",
       "   secondary_cleaner.state.floatbank4_a_air  \\\n",
       "0                                 12.023554   \n",
       "1                                 12.058140   \n",
       "2                                 11.962366   \n",
       "3                                 12.033091   \n",
       "4                                 12.025367   \n",
       "\n",
       "   secondary_cleaner.state.floatbank4_a_level  \\\n",
       "0                                 -497.795834   \n",
       "1                                 -498.695773   \n",
       "2                                 -498.767484   \n",
       "3                                 -498.350935   \n",
       "4                                 -500.786497   \n",
       "\n",
       "   secondary_cleaner.state.floatbank4_b_air  \\\n",
       "0                                  8.016656   \n",
       "1                                  8.130979   \n",
       "2                                  8.096893   \n",
       "3                                  8.074946   \n",
       "4                                  8.054678   \n",
       "\n",
       "   secondary_cleaner.state.floatbank4_b_level  \\\n",
       "0                                 -501.289139   \n",
       "1                                 -499.634209   \n",
       "2                                 -500.827423   \n",
       "3                                 -499.474407   \n",
       "4                                 -500.397500   \n",
       "\n",
       "   secondary_cleaner.state.floatbank5_a_air  \\\n",
       "0                                  7.946562   \n",
       "1                                  7.958270   \n",
       "2                                  8.071056   \n",
       "3                                  7.897085   \n",
       "4                                  8.107890   \n",
       "\n",
       "   secondary_cleaner.state.floatbank5_a_level  \\\n",
       "0                                 -432.317850   \n",
       "1                                 -525.839648   \n",
       "2                                 -500.801673   \n",
       "3                                 -500.868509   \n",
       "4                                 -509.526725   \n",
       "\n",
       "   secondary_cleaner.state.floatbank5_b_air  \\\n",
       "0                                  4.872511   \n",
       "1                                  4.878850   \n",
       "2                                  4.905125   \n",
       "3                                  4.931400   \n",
       "4                                  4.957674   \n",
       "\n",
       "   secondary_cleaner.state.floatbank5_b_level  \\\n",
       "0                                 -500.037437   \n",
       "1                                 -500.162375   \n",
       "2                                 -499.828510   \n",
       "3                                 -499.963623   \n",
       "4                                 -500.360026   \n",
       "\n",
       "   secondary_cleaner.state.floatbank6_a_air  \\\n",
       "0                                 26.705889   \n",
       "1                                 25.019940   \n",
       "2                                 24.994862   \n",
       "3                                 24.948919   \n",
       "4                                 25.003331   \n",
       "\n",
       "   secondary_cleaner.state.floatbank6_a_level  \n",
       "0                                 -499.709414  \n",
       "1                                 -499.819438  \n",
       "2                                 -500.622559  \n",
       "3                                 -498.709987  \n",
       "4                                 -500.856333  \n",
       "\n",
       "[5 rows x 53 columns]"
      ]
     },
     "execution_count": 6,
     "metadata": {},
     "output_type": "execute_result"
    }
   ],
   "source": [
    "test_df.head()"
   ]
  },
  {
   "cell_type": "code",
   "execution_count": 7,
   "metadata": {},
   "outputs": [
    {
     "name": "stdout",
     "output_type": "stream",
     "text": [
      "<class 'pandas.core.frame.DataFrame'>\n",
      "RangeIndex: 5290 entries, 0 to 5289\n",
      "Data columns (total 53 columns):\n",
      " #   Column                                      Non-Null Count  Dtype  \n",
      "---  ------                                      --------------  -----  \n",
      " 0   date                                        5290 non-null   object \n",
      " 1   primary_cleaner.input.sulfate               5286 non-null   float64\n",
      " 2   primary_cleaner.input.depressant            5285 non-null   float64\n",
      " 3   primary_cleaner.input.feed_size             5290 non-null   float64\n",
      " 4   primary_cleaner.input.xanthate              5286 non-null   float64\n",
      " 5   primary_cleaner.state.floatbank8_a_air      5290 non-null   float64\n",
      " 6   primary_cleaner.state.floatbank8_a_level    5290 non-null   float64\n",
      " 7   primary_cleaner.state.floatbank8_b_air      5290 non-null   float64\n",
      " 8   primary_cleaner.state.floatbank8_b_level    5290 non-null   float64\n",
      " 9   primary_cleaner.state.floatbank8_c_air      5290 non-null   float64\n",
      " 10  primary_cleaner.state.floatbank8_c_level    5290 non-null   float64\n",
      " 11  primary_cleaner.state.floatbank8_d_air      5290 non-null   float64\n",
      " 12  primary_cleaner.state.floatbank8_d_level    5290 non-null   float64\n",
      " 13  rougher.input.feed_ag                       5290 non-null   float64\n",
      " 14  rougher.input.feed_pb                       5290 non-null   float64\n",
      " 15  rougher.input.feed_rate                     5287 non-null   float64\n",
      " 16  rougher.input.feed_size                     5289 non-null   float64\n",
      " 17  rougher.input.feed_sol                      5269 non-null   float64\n",
      " 18  rougher.input.feed_au                       5290 non-null   float64\n",
      " 19  rougher.input.floatbank10_sulfate           5285 non-null   float64\n",
      " 20  rougher.input.floatbank10_xanthate          5290 non-null   float64\n",
      " 21  rougher.input.floatbank11_sulfate           5282 non-null   float64\n",
      " 22  rougher.input.floatbank11_xanthate          5265 non-null   float64\n",
      " 23  rougher.state.floatbank10_a_air             5290 non-null   float64\n",
      " 24  rougher.state.floatbank10_a_level           5290 non-null   float64\n",
      " 25  rougher.state.floatbank10_b_air             5290 non-null   float64\n",
      " 26  rougher.state.floatbank10_b_level           5290 non-null   float64\n",
      " 27  rougher.state.floatbank10_c_air             5290 non-null   float64\n",
      " 28  rougher.state.floatbank10_c_level           5290 non-null   float64\n",
      " 29  rougher.state.floatbank10_d_air             5290 non-null   float64\n",
      " 30  rougher.state.floatbank10_d_level           5290 non-null   float64\n",
      " 31  rougher.state.floatbank10_e_air             5290 non-null   float64\n",
      " 32  rougher.state.floatbank10_e_level           5290 non-null   float64\n",
      " 33  rougher.state.floatbank10_f_air             5290 non-null   float64\n",
      " 34  rougher.state.floatbank10_f_level           5290 non-null   float64\n",
      " 35  secondary_cleaner.state.floatbank2_a_air    5287 non-null   float64\n",
      " 36  secondary_cleaner.state.floatbank2_a_level  5290 non-null   float64\n",
      " 37  secondary_cleaner.state.floatbank2_b_air    5288 non-null   float64\n",
      " 38  secondary_cleaner.state.floatbank2_b_level  5290 non-null   float64\n",
      " 39  secondary_cleaner.state.floatbank3_a_air    5281 non-null   float64\n",
      " 40  secondary_cleaner.state.floatbank3_a_level  5290 non-null   float64\n",
      " 41  secondary_cleaner.state.floatbank3_b_air    5290 non-null   float64\n",
      " 42  secondary_cleaner.state.floatbank3_b_level  5290 non-null   float64\n",
      " 43  secondary_cleaner.state.floatbank4_a_air    5290 non-null   float64\n",
      " 44  secondary_cleaner.state.floatbank4_a_level  5290 non-null   float64\n",
      " 45  secondary_cleaner.state.floatbank4_b_air    5290 non-null   float64\n",
      " 46  secondary_cleaner.state.floatbank4_b_level  5290 non-null   float64\n",
      " 47  secondary_cleaner.state.floatbank5_a_air    5290 non-null   float64\n",
      " 48  secondary_cleaner.state.floatbank5_a_level  5290 non-null   float64\n",
      " 49  secondary_cleaner.state.floatbank5_b_air    5290 non-null   float64\n",
      " 50  secondary_cleaner.state.floatbank5_b_level  5290 non-null   float64\n",
      " 51  secondary_cleaner.state.floatbank6_a_air    5290 non-null   float64\n",
      " 52  secondary_cleaner.state.floatbank6_a_level  5290 non-null   float64\n",
      "dtypes: float64(52), object(1)\n",
      "memory usage: 2.1+ MB\n"
     ]
    }
   ],
   "source": [
    "test_df.info()"
   ]
  },
  {
   "cell_type": "code",
   "execution_count": 8,
   "metadata": {},
   "outputs": [],
   "source": [
    "full_df = pd.read_csv('/datasets/gold_recovery_full_new.csv')"
   ]
  },
  {
   "cell_type": "code",
   "execution_count": 9,
   "metadata": {},
   "outputs": [
    {
     "name": "stdout",
     "output_type": "stream",
     "text": [
      "<class 'pandas.core.frame.DataFrame'>\n",
      "RangeIndex: 19439 entries, 0 to 19438\n",
      "Data columns (total 87 columns):\n",
      " #   Column                                              Non-Null Count  Dtype  \n",
      "---  ------                                              --------------  -----  \n",
      " 0   date                                                19439 non-null  object \n",
      " 1   final.output.concentrate_ag                         19438 non-null  float64\n",
      " 2   final.output.concentrate_pb                         19438 non-null  float64\n",
      " 3   final.output.concentrate_sol                        19228 non-null  float64\n",
      " 4   final.output.concentrate_au                         19439 non-null  float64\n",
      " 5   final.output.recovery                               19439 non-null  float64\n",
      " 6   final.output.tail_ag                                19438 non-null  float64\n",
      " 7   final.output.tail_pb                                19338 non-null  float64\n",
      " 8   final.output.tail_sol                               19433 non-null  float64\n",
      " 9   final.output.tail_au                                19439 non-null  float64\n",
      " 10  primary_cleaner.input.sulfate                       19415 non-null  float64\n",
      " 11  primary_cleaner.input.depressant                    19402 non-null  float64\n",
      " 12  primary_cleaner.input.feed_size                     19439 non-null  float64\n",
      " 13  primary_cleaner.input.xanthate                      19335 non-null  float64\n",
      " 14  primary_cleaner.output.concentrate_ag               19439 non-null  float64\n",
      " 15  primary_cleaner.output.concentrate_pb               19323 non-null  float64\n",
      " 16  primary_cleaner.output.concentrate_sol              19069 non-null  float64\n",
      " 17  primary_cleaner.output.concentrate_au               19439 non-null  float64\n",
      " 18  primary_cleaner.output.tail_ag                      19435 non-null  float64\n",
      " 19  primary_cleaner.output.tail_pb                      19418 non-null  float64\n",
      " 20  primary_cleaner.output.tail_sol                     19377 non-null  float64\n",
      " 21  primary_cleaner.output.tail_au                      19439 non-null  float64\n",
      " 22  primary_cleaner.state.floatbank8_a_air              19435 non-null  float64\n",
      " 23  primary_cleaner.state.floatbank8_a_level            19438 non-null  float64\n",
      " 24  primary_cleaner.state.floatbank8_b_air              19435 non-null  float64\n",
      " 25  primary_cleaner.state.floatbank8_b_level            19438 non-null  float64\n",
      " 26  primary_cleaner.state.floatbank8_c_air              19437 non-null  float64\n",
      " 27  primary_cleaner.state.floatbank8_c_level            19438 non-null  float64\n",
      " 28  primary_cleaner.state.floatbank8_d_air              19436 non-null  float64\n",
      " 29  primary_cleaner.state.floatbank8_d_level            19438 non-null  float64\n",
      " 30  rougher.calculation.sulfate_to_au_concentrate       19437 non-null  float64\n",
      " 31  rougher.calculation.floatbank10_sulfate_to_au_feed  19437 non-null  float64\n",
      " 32  rougher.calculation.floatbank11_sulfate_to_au_feed  19437 non-null  float64\n",
      " 33  rougher.calculation.au_pb_ratio                     19439 non-null  float64\n",
      " 34  rougher.input.feed_ag                               19439 non-null  float64\n",
      " 35  rougher.input.feed_pb                               19339 non-null  float64\n",
      " 36  rougher.input.feed_rate                             19428 non-null  float64\n",
      " 37  rougher.input.feed_size                             19294 non-null  float64\n",
      " 38  rougher.input.feed_sol                              19340 non-null  float64\n",
      " 39  rougher.input.feed_au                               19439 non-null  float64\n",
      " 40  rougher.input.floatbank10_sulfate                   19405 non-null  float64\n",
      " 41  rougher.input.floatbank10_xanthate                  19431 non-null  float64\n",
      " 42  rougher.input.floatbank11_sulfate                   19395 non-null  float64\n",
      " 43  rougher.input.floatbank11_xanthate                  18986 non-null  float64\n",
      " 44  rougher.output.concentrate_ag                       19439 non-null  float64\n",
      " 45  rougher.output.concentrate_pb                       19439 non-null  float64\n",
      " 46  rougher.output.concentrate_sol                      19416 non-null  float64\n",
      " 47  rougher.output.concentrate_au                       19439 non-null  float64\n",
      " 48  rougher.output.recovery                             19439 non-null  float64\n",
      " 49  rougher.output.tail_ag                              19438 non-null  float64\n",
      " 50  rougher.output.tail_pb                              19439 non-null  float64\n",
      " 51  rougher.output.tail_sol                             19439 non-null  float64\n",
      " 52  rougher.output.tail_au                              19439 non-null  float64\n",
      " 53  rougher.state.floatbank10_a_air                     19438 non-null  float64\n",
      " 54  rougher.state.floatbank10_a_level                   19438 non-null  float64\n",
      " 55  rougher.state.floatbank10_b_air                     19438 non-null  float64\n",
      " 56  rougher.state.floatbank10_b_level                   19438 non-null  float64\n",
      " 57  rougher.state.floatbank10_c_air                     19438 non-null  float64\n",
      " 58  rougher.state.floatbank10_c_level                   19438 non-null  float64\n",
      " 59  rougher.state.floatbank10_d_air                     19439 non-null  float64\n",
      " 60  rougher.state.floatbank10_d_level                   19439 non-null  float64\n",
      " 61  rougher.state.floatbank10_e_air                     19003 non-null  float64\n",
      " 62  rougher.state.floatbank10_e_level                   19439 non-null  float64\n",
      " 63  rougher.state.floatbank10_f_air                     19439 non-null  float64\n",
      " 64  rougher.state.floatbank10_f_level                   19439 non-null  float64\n",
      " 65  secondary_cleaner.output.tail_ag                    19437 non-null  float64\n",
      " 66  secondary_cleaner.output.tail_pb                    19427 non-null  float64\n",
      " 67  secondary_cleaner.output.tail_sol                   17691 non-null  float64\n",
      " 68  secondary_cleaner.output.tail_au                    19439 non-null  float64\n",
      " 69  secondary_cleaner.state.floatbank2_a_air            19219 non-null  float64\n",
      " 70  secondary_cleaner.state.floatbank2_a_level          19438 non-null  float64\n",
      " 71  secondary_cleaner.state.floatbank2_b_air            19416 non-null  float64\n",
      " 72  secondary_cleaner.state.floatbank2_b_level          19438 non-null  float64\n",
      " 73  secondary_cleaner.state.floatbank3_a_air            19426 non-null  float64\n",
      " 74  secondary_cleaner.state.floatbank3_a_level          19438 non-null  float64\n",
      " 75  secondary_cleaner.state.floatbank3_b_air            19438 non-null  float64\n",
      " 76  secondary_cleaner.state.floatbank3_b_level          19438 non-null  float64\n",
      " 77  secondary_cleaner.state.floatbank4_a_air            19433 non-null  float64\n",
      " 78  secondary_cleaner.state.floatbank4_a_level          19438 non-null  float64\n",
      " 79  secondary_cleaner.state.floatbank4_b_air            19438 non-null  float64\n",
      " 80  secondary_cleaner.state.floatbank4_b_level          19438 non-null  float64\n",
      " 81  secondary_cleaner.state.floatbank5_a_air            19438 non-null  float64\n",
      " 82  secondary_cleaner.state.floatbank5_a_level          19438 non-null  float64\n",
      " 83  secondary_cleaner.state.floatbank5_b_air            19438 non-null  float64\n",
      " 84  secondary_cleaner.state.floatbank5_b_level          19438 non-null  float64\n",
      " 85  secondary_cleaner.state.floatbank6_a_air            19437 non-null  float64\n",
      " 86  secondary_cleaner.state.floatbank6_a_level          19438 non-null  float64\n",
      "dtypes: float64(86), object(1)\n",
      "memory usage: 12.9+ MB\n"
     ]
    }
   ],
   "source": [
    "full_df.info()"
   ]
  },
  {
   "cell_type": "markdown",
   "metadata": {},
   "source": [
    "- При первом осмотре видим, что в тестовой выборке отсуствуют фичи. в тестовой 53, в остальных по 87. Так же данные в признаках распределены неравномерно и с беспорядком."
   ]
  },
  {
   "cell_type": "markdown",
   "metadata": {},
   "source": [
    "### Проверьте, что эффективность обогащения рассчитана правильно. Вычислите её на обучающей выборке для признака rougher.output.recovery. Найдите MAE между вашими расчётами и значением признака. Опишите выводы."
   ]
  },
  {
   "cell_type": "code",
   "execution_count": 10,
   "metadata": {},
   "outputs": [],
   "source": [
    "# Создаем выборку из показателей для расчета эффективности обогащения\n",
    "data_train = train_df[['rougher.output.concentrate_au','rougher.output.recovery', 'rougher.output.tail_au',  'rougher.input.feed_au']]"
   ]
  },
  {
   "cell_type": "code",
   "execution_count": 11,
   "metadata": {},
   "outputs": [
    {
     "data": {
      "text/html": [
       "<div>\n",
       "<style scoped>\n",
       "    .dataframe tbody tr th:only-of-type {\n",
       "        vertical-align: middle;\n",
       "    }\n",
       "\n",
       "    .dataframe tbody tr th {\n",
       "        vertical-align: top;\n",
       "    }\n",
       "\n",
       "    .dataframe thead th {\n",
       "        text-align: right;\n",
       "    }\n",
       "</style>\n",
       "<table border=\"1\" class=\"dataframe\">\n",
       "  <thead>\n",
       "    <tr style=\"text-align: right;\">\n",
       "      <th></th>\n",
       "      <th>rougher.output.concentrate_au</th>\n",
       "      <th>rougher.output.recovery</th>\n",
       "      <th>rougher.output.tail_au</th>\n",
       "      <th>rougher.input.feed_au</th>\n",
       "    </tr>\n",
       "  </thead>\n",
       "  <tbody>\n",
       "    <tr>\n",
       "      <th>0</th>\n",
       "      <td>19.793808</td>\n",
       "      <td>87.107763</td>\n",
       "      <td>1.170244</td>\n",
       "      <td>6.486150</td>\n",
       "    </tr>\n",
       "    <tr>\n",
       "      <th>1</th>\n",
       "      <td>20.050975</td>\n",
       "      <td>86.843261</td>\n",
       "      <td>1.184827</td>\n",
       "      <td>6.478583</td>\n",
       "    </tr>\n",
       "    <tr>\n",
       "      <th>2</th>\n",
       "      <td>19.737170</td>\n",
       "      <td>86.842308</td>\n",
       "      <td>1.162562</td>\n",
       "      <td>6.362222</td>\n",
       "    </tr>\n",
       "    <tr>\n",
       "      <th>3</th>\n",
       "      <td>19.320810</td>\n",
       "      <td>87.226430</td>\n",
       "      <td>1.079755</td>\n",
       "      <td>6.118189</td>\n",
       "    </tr>\n",
       "    <tr>\n",
       "      <th>4</th>\n",
       "      <td>19.216101</td>\n",
       "      <td>86.688794</td>\n",
       "      <td>1.012642</td>\n",
       "      <td>5.663707</td>\n",
       "    </tr>\n",
       "  </tbody>\n",
       "</table>\n",
       "</div>"
      ],
      "text/plain": [
       "   rougher.output.concentrate_au  rougher.output.recovery  \\\n",
       "0                      19.793808                87.107763   \n",
       "1                      20.050975                86.843261   \n",
       "2                      19.737170                86.842308   \n",
       "3                      19.320810                87.226430   \n",
       "4                      19.216101                86.688794   \n",
       "\n",
       "   rougher.output.tail_au  rougher.input.feed_au  \n",
       "0                1.170244               6.486150  \n",
       "1                1.184827               6.478583  \n",
       "2                1.162562               6.362222  \n",
       "3                1.079755               6.118189  \n",
       "4                1.012642               5.663707  "
      ]
     },
     "execution_count": 11,
     "metadata": {},
     "output_type": "execute_result"
    }
   ],
   "source": [
    "data_train.head(5)"
   ]
  },
  {
   "cell_type": "code",
   "execution_count": 12,
   "metadata": {},
   "outputs": [
    {
     "name": "stdout",
     "output_type": "stream",
     "text": [
      "<class 'pandas.core.frame.DataFrame'>\n",
      "RangeIndex: 14149 entries, 0 to 14148\n",
      "Data columns (total 4 columns):\n",
      " #   Column                         Non-Null Count  Dtype  \n",
      "---  ------                         --------------  -----  \n",
      " 0   rougher.output.concentrate_au  14149 non-null  float64\n",
      " 1   rougher.output.recovery        14149 non-null  float64\n",
      " 2   rougher.output.tail_au         14149 non-null  float64\n",
      " 3   rougher.input.feed_au          14149 non-null  float64\n",
      "dtypes: float64(4)\n",
      "memory usage: 442.3 KB\n"
     ]
    }
   ],
   "source": [
    "data_train.info()"
   ]
  },
  {
   "cell_type": "code",
   "execution_count": 13,
   "metadata": {},
   "outputs": [],
   "source": [
    "data_train = data_train.loc[data_train['rougher.output.recovery'].isna() != True].dropna()"
   ]
  },
  {
   "cell_type": "code",
   "execution_count": 14,
   "metadata": {},
   "outputs": [
    {
     "name": "stdout",
     "output_type": "stream",
     "text": [
      "<class 'pandas.core.frame.DataFrame'>\n",
      "Int64Index: 14149 entries, 0 to 14148\n",
      "Data columns (total 4 columns):\n",
      " #   Column                         Non-Null Count  Dtype  \n",
      "---  ------                         --------------  -----  \n",
      " 0   rougher.output.concentrate_au  14149 non-null  float64\n",
      " 1   rougher.output.recovery        14149 non-null  float64\n",
      " 2   rougher.output.tail_au         14149 non-null  float64\n",
      " 3   rougher.input.feed_au          14149 non-null  float64\n",
      "dtypes: float64(4)\n",
      "memory usage: 552.7 KB\n"
     ]
    }
   ],
   "source": [
    "data_train.info()"
   ]
  },
  {
   "cell_type": "code",
   "execution_count": 15,
   "metadata": {},
   "outputs": [],
   "source": [
    "# Функция рассчитывающая эффективность обогащения\n",
    "def recovery(row):\n",
    "    # c - доля золота в концентрате после флотации/очистки;\n",
    "    c = row[ 'rougher.output.concentrate_au']\n",
    "    # F — доля золота в сырье/концентрате до флотации/очистки;\n",
    "    f = row['rougher.input.feed_au']\n",
    "    # T — доля золота в отвальных хвостах после флотации/очистки\n",
    "    t = row['rougher.output.tail_au']\n",
    "    recovery = (c * (f - t) )/( f * (c - t))\n",
    "    return recovery * 100"
   ]
  },
  {
   "cell_type": "code",
   "execution_count": 16,
   "metadata": {},
   "outputs": [],
   "source": [
    "# Добавляем в выборку столбец с рассчитанной по формуле эффективностью обогащения\n",
    "data_train['formula_recovery'] = data_train.apply(recovery, axis=1)"
   ]
  },
  {
   "cell_type": "code",
   "execution_count": 17,
   "metadata": {},
   "outputs": [
    {
     "data": {
      "text/html": [
       "<div>\n",
       "<style scoped>\n",
       "    .dataframe tbody tr th:only-of-type {\n",
       "        vertical-align: middle;\n",
       "    }\n",
       "\n",
       "    .dataframe tbody tr th {\n",
       "        vertical-align: top;\n",
       "    }\n",
       "\n",
       "    .dataframe thead th {\n",
       "        text-align: right;\n",
       "    }\n",
       "</style>\n",
       "<table border=\"1\" class=\"dataframe\">\n",
       "  <thead>\n",
       "    <tr style=\"text-align: right;\">\n",
       "      <th></th>\n",
       "      <th>rougher.output.concentrate_au</th>\n",
       "      <th>rougher.output.recovery</th>\n",
       "      <th>rougher.output.tail_au</th>\n",
       "      <th>rougher.input.feed_au</th>\n",
       "      <th>formula_recovery</th>\n",
       "    </tr>\n",
       "  </thead>\n",
       "  <tbody>\n",
       "    <tr>\n",
       "      <th>0</th>\n",
       "      <td>19.793808</td>\n",
       "      <td>87.107763</td>\n",
       "      <td>1.170244</td>\n",
       "      <td>6.486150</td>\n",
       "      <td>87.107763</td>\n",
       "    </tr>\n",
       "    <tr>\n",
       "      <th>1</th>\n",
       "      <td>20.050975</td>\n",
       "      <td>86.843261</td>\n",
       "      <td>1.184827</td>\n",
       "      <td>6.478583</td>\n",
       "      <td>86.843261</td>\n",
       "    </tr>\n",
       "    <tr>\n",
       "      <th>2</th>\n",
       "      <td>19.737170</td>\n",
       "      <td>86.842308</td>\n",
       "      <td>1.162562</td>\n",
       "      <td>6.362222</td>\n",
       "      <td>86.842308</td>\n",
       "    </tr>\n",
       "    <tr>\n",
       "      <th>3</th>\n",
       "      <td>19.320810</td>\n",
       "      <td>87.226430</td>\n",
       "      <td>1.079755</td>\n",
       "      <td>6.118189</td>\n",
       "      <td>87.226430</td>\n",
       "    </tr>\n",
       "    <tr>\n",
       "      <th>4</th>\n",
       "      <td>19.216101</td>\n",
       "      <td>86.688794</td>\n",
       "      <td>1.012642</td>\n",
       "      <td>5.663707</td>\n",
       "      <td>86.688794</td>\n",
       "    </tr>\n",
       "  </tbody>\n",
       "</table>\n",
       "</div>"
      ],
      "text/plain": [
       "   rougher.output.concentrate_au  rougher.output.recovery  \\\n",
       "0                      19.793808                87.107763   \n",
       "1                      20.050975                86.843261   \n",
       "2                      19.737170                86.842308   \n",
       "3                      19.320810                87.226430   \n",
       "4                      19.216101                86.688794   \n",
       "\n",
       "   rougher.output.tail_au  rougher.input.feed_au  formula_recovery  \n",
       "0                1.170244               6.486150         87.107763  \n",
       "1                1.184827               6.478583         86.843261  \n",
       "2                1.162562               6.362222         86.842308  \n",
       "3                1.079755               6.118189         87.226430  \n",
       "4                1.012642               5.663707         86.688794  "
      ]
     },
     "execution_count": 17,
     "metadata": {},
     "output_type": "execute_result"
    }
   ],
   "source": [
    "data_train.head()"
   ]
  },
  {
   "cell_type": "code",
   "execution_count": 18,
   "metadata": {},
   "outputs": [
    {
     "data": {
      "text/plain": [
       "9.73512347450521e-15"
      ]
     },
     "execution_count": 18,
     "metadata": {},
     "output_type": "execute_result"
    }
   ],
   "source": [
    "# Считаем МАЕ между полученной эффективностью обогащения и данными из таблицы\n",
    "mean_absolute_error(data_train['rougher.output.recovery'], data_train['formula_recovery'])"
   ]
  },
  {
   "cell_type": "markdown",
   "metadata": {},
   "source": [
    "###### Вывод\n",
    "- Мы вычислили Эффективность обогащения, рассчитанную по формуле: recovery = (c * (f - t) )/( f * (c - t))\n",
    "- Низкое стандартное отклонение указывает на то, что значения имеют тенденцию быть близкими к среднему значению. Можно считать, что наша эффективность рассчитано правильно"
   ]
  },
  {
   "cell_type": "markdown",
   "metadata": {},
   "source": [
    "### Проанализируйте признаки, недоступные в тестовой выборке. Что это за параметры? К какому типу относятся?"
   ]
  },
  {
   "cell_type": "code",
   "execution_count": 19,
   "metadata": {},
   "outputs": [
    {
     "name": "stdout",
     "output_type": "stream",
     "text": [
      "final.output.concentrate_ag\n",
      "final.output.concentrate_pb\n",
      "final.output.concentrate_sol\n",
      "final.output.concentrate_au\n",
      "final.output.recovery\n",
      "final.output.tail_ag\n",
      "final.output.tail_pb\n",
      "final.output.tail_sol\n",
      "final.output.tail_au\n",
      "primary_cleaner.output.concentrate_ag\n",
      "primary_cleaner.output.concentrate_pb\n",
      "primary_cleaner.output.concentrate_sol\n",
      "primary_cleaner.output.concentrate_au\n",
      "primary_cleaner.output.tail_ag\n",
      "primary_cleaner.output.tail_pb\n",
      "primary_cleaner.output.tail_sol\n",
      "primary_cleaner.output.tail_au\n",
      "rougher.calculation.sulfate_to_au_concentrate\n",
      "rougher.calculation.floatbank10_sulfate_to_au_feed\n",
      "rougher.calculation.floatbank11_sulfate_to_au_feed\n",
      "rougher.calculation.au_pb_ratio\n",
      "rougher.output.concentrate_ag\n",
      "rougher.output.concentrate_pb\n",
      "rougher.output.concentrate_sol\n",
      "rougher.output.concentrate_au\n",
      "rougher.output.recovery\n",
      "rougher.output.tail_ag\n",
      "rougher.output.tail_pb\n",
      "rougher.output.tail_sol\n",
      "rougher.output.tail_au\n",
      "secondary_cleaner.output.tail_ag\n",
      "secondary_cleaner.output.tail_pb\n",
      "secondary_cleaner.output.tail_sol\n",
      "secondary_cleaner.output.tail_au\n"
     ]
    }
   ],
   "source": [
    "# Получаем список колонок недоступных в тестовой выборке\n",
    "for column in train_df.columns:\n",
    "    if column not in test_df.columns:\n",
    "        print(column)"
   ]
  },
  {
   "cell_type": "markdown",
   "metadata": {},
   "source": [
    "###### Вывод"
   ]
  },
  {
   "cell_type": "markdown",
   "metadata": {},
   "source": [
    "###### В тестовой выборке недоступны данные на этапах:\n",
    "###### Флотация:\n",
    "- Расчетные характеристики;\n",
    "- Концентрация серебра, свинца, золы, золота в сырье после флотации.\n",
    "- Концентрация серебра, свинца, золы, золота в отвальных хвостах после флотации.\n",
    "###### Первый этап чистки:\n",
    "- Концентрация серебра, свинца, золы, золота в сырье после первого этапа чистки.\n",
    "- Концентрация серебра, свинца, золы, золота в отвальных хвостах после первого этапа чистки.\n",
    "###### Второй этап чистки:\n",
    "- Концентрация серебра, свинца, золы, золота в отвальных хвостах после второго этапа чистки.\n",
    "###### Финальный концентрат:\n",
    "- Концентрация серебра, свинца, золы, золота в отвальных хвостах на финальной стадии.\n",
    "- Концентрация серебра, свинца, золы, золота в финальном концентрате.\n",
    "- Эффективность обогащения сырья."
   ]
  },
  {
   "cell_type": "markdown",
   "metadata": {},
   "source": [
    "### Проведите предобработку данных."
   ]
  },
  {
   "cell_type": "code",
   "execution_count": 20,
   "metadata": {},
   "outputs": [],
   "source": [
    "# Список целевых признаков\n",
    "targets = ['rougher.output.recovery', 'final.output.recovery']"
   ]
  },
  {
   "cell_type": "code",
   "execution_count": 21,
   "metadata": {},
   "outputs": [
    {
     "data": {
      "text/html": [
       "<div>\n",
       "<style scoped>\n",
       "    .dataframe tbody tr th:only-of-type {\n",
       "        vertical-align: middle;\n",
       "    }\n",
       "\n",
       "    .dataframe tbody tr th {\n",
       "        vertical-align: top;\n",
       "    }\n",
       "\n",
       "    .dataframe thead th {\n",
       "        text-align: right;\n",
       "    }\n",
       "</style>\n",
       "<table border=\"1\" class=\"dataframe\">\n",
       "  <thead>\n",
       "    <tr style=\"text-align: right;\">\n",
       "      <th></th>\n",
       "      <th>date</th>\n",
       "      <th>primary_cleaner.input.sulfate</th>\n",
       "      <th>primary_cleaner.input.depressant</th>\n",
       "      <th>primary_cleaner.input.feed_size</th>\n",
       "      <th>primary_cleaner.input.xanthate</th>\n",
       "      <th>primary_cleaner.state.floatbank8_a_air</th>\n",
       "      <th>primary_cleaner.state.floatbank8_a_level</th>\n",
       "      <th>primary_cleaner.state.floatbank8_b_air</th>\n",
       "      <th>primary_cleaner.state.floatbank8_b_level</th>\n",
       "      <th>primary_cleaner.state.floatbank8_c_air</th>\n",
       "      <th>...</th>\n",
       "      <th>secondary_cleaner.state.floatbank4_a_air</th>\n",
       "      <th>secondary_cleaner.state.floatbank4_a_level</th>\n",
       "      <th>secondary_cleaner.state.floatbank4_b_air</th>\n",
       "      <th>secondary_cleaner.state.floatbank4_b_level</th>\n",
       "      <th>secondary_cleaner.state.floatbank5_a_air</th>\n",
       "      <th>secondary_cleaner.state.floatbank5_a_level</th>\n",
       "      <th>secondary_cleaner.state.floatbank5_b_air</th>\n",
       "      <th>secondary_cleaner.state.floatbank5_b_level</th>\n",
       "      <th>secondary_cleaner.state.floatbank6_a_air</th>\n",
       "      <th>secondary_cleaner.state.floatbank6_a_level</th>\n",
       "    </tr>\n",
       "  </thead>\n",
       "  <tbody>\n",
       "    <tr>\n",
       "      <th>0</th>\n",
       "      <td>2016-09-01 00:59:59</td>\n",
       "      <td>210.800909</td>\n",
       "      <td>14.993118</td>\n",
       "      <td>8.080000</td>\n",
       "      <td>1.005021</td>\n",
       "      <td>1398.981301</td>\n",
       "      <td>-500.225577</td>\n",
       "      <td>1399.144926</td>\n",
       "      <td>-499.919735</td>\n",
       "      <td>1400.102998</td>\n",
       "      <td>...</td>\n",
       "      <td>12.023554</td>\n",
       "      <td>-497.795834</td>\n",
       "      <td>8.016656</td>\n",
       "      <td>-501.289139</td>\n",
       "      <td>7.946562</td>\n",
       "      <td>-432.317850</td>\n",
       "      <td>4.872511</td>\n",
       "      <td>-500.037437</td>\n",
       "      <td>26.705889</td>\n",
       "      <td>-499.709414</td>\n",
       "    </tr>\n",
       "    <tr>\n",
       "      <th>1</th>\n",
       "      <td>2016-09-01 01:59:59</td>\n",
       "      <td>215.392455</td>\n",
       "      <td>14.987471</td>\n",
       "      <td>8.080000</td>\n",
       "      <td>0.990469</td>\n",
       "      <td>1398.777912</td>\n",
       "      <td>-500.057435</td>\n",
       "      <td>1398.055362</td>\n",
       "      <td>-499.778182</td>\n",
       "      <td>1396.151033</td>\n",
       "      <td>...</td>\n",
       "      <td>12.058140</td>\n",
       "      <td>-498.695773</td>\n",
       "      <td>8.130979</td>\n",
       "      <td>-499.634209</td>\n",
       "      <td>7.958270</td>\n",
       "      <td>-525.839648</td>\n",
       "      <td>4.878850</td>\n",
       "      <td>-500.162375</td>\n",
       "      <td>25.019940</td>\n",
       "      <td>-499.819438</td>\n",
       "    </tr>\n",
       "    <tr>\n",
       "      <th>2</th>\n",
       "      <td>2016-09-01 02:59:59</td>\n",
       "      <td>215.259946</td>\n",
       "      <td>12.884934</td>\n",
       "      <td>7.786667</td>\n",
       "      <td>0.996043</td>\n",
       "      <td>1398.493666</td>\n",
       "      <td>-500.868360</td>\n",
       "      <td>1398.860436</td>\n",
       "      <td>-499.764529</td>\n",
       "      <td>1398.075709</td>\n",
       "      <td>...</td>\n",
       "      <td>11.962366</td>\n",
       "      <td>-498.767484</td>\n",
       "      <td>8.096893</td>\n",
       "      <td>-500.827423</td>\n",
       "      <td>8.071056</td>\n",
       "      <td>-500.801673</td>\n",
       "      <td>4.905125</td>\n",
       "      <td>-499.828510</td>\n",
       "      <td>24.994862</td>\n",
       "      <td>-500.622559</td>\n",
       "    </tr>\n",
       "    <tr>\n",
       "      <th>3</th>\n",
       "      <td>2016-09-01 03:59:59</td>\n",
       "      <td>215.336236</td>\n",
       "      <td>12.006805</td>\n",
       "      <td>7.640000</td>\n",
       "      <td>0.863514</td>\n",
       "      <td>1399.618111</td>\n",
       "      <td>-498.863574</td>\n",
       "      <td>1397.440120</td>\n",
       "      <td>-499.211024</td>\n",
       "      <td>1400.129303</td>\n",
       "      <td>...</td>\n",
       "      <td>12.033091</td>\n",
       "      <td>-498.350935</td>\n",
       "      <td>8.074946</td>\n",
       "      <td>-499.474407</td>\n",
       "      <td>7.897085</td>\n",
       "      <td>-500.868509</td>\n",
       "      <td>4.931400</td>\n",
       "      <td>-499.963623</td>\n",
       "      <td>24.948919</td>\n",
       "      <td>-498.709987</td>\n",
       "    </tr>\n",
       "    <tr>\n",
       "      <th>4</th>\n",
       "      <td>2016-09-01 04:59:59</td>\n",
       "      <td>199.099327</td>\n",
       "      <td>10.682530</td>\n",
       "      <td>7.530000</td>\n",
       "      <td>0.805575</td>\n",
       "      <td>1401.268123</td>\n",
       "      <td>-500.808305</td>\n",
       "      <td>1398.128818</td>\n",
       "      <td>-499.504543</td>\n",
       "      <td>1402.172226</td>\n",
       "      <td>...</td>\n",
       "      <td>12.025367</td>\n",
       "      <td>-500.786497</td>\n",
       "      <td>8.054678</td>\n",
       "      <td>-500.397500</td>\n",
       "      <td>8.107890</td>\n",
       "      <td>-509.526725</td>\n",
       "      <td>4.957674</td>\n",
       "      <td>-500.360026</td>\n",
       "      <td>25.003331</td>\n",
       "      <td>-500.856333</td>\n",
       "    </tr>\n",
       "  </tbody>\n",
       "</table>\n",
       "<p>5 rows × 53 columns</p>\n",
       "</div>"
      ],
      "text/plain": [
       "                  date  primary_cleaner.input.sulfate  \\\n",
       "0  2016-09-01 00:59:59                     210.800909   \n",
       "1  2016-09-01 01:59:59                     215.392455   \n",
       "2  2016-09-01 02:59:59                     215.259946   \n",
       "3  2016-09-01 03:59:59                     215.336236   \n",
       "4  2016-09-01 04:59:59                     199.099327   \n",
       "\n",
       "   primary_cleaner.input.depressant  primary_cleaner.input.feed_size  \\\n",
       "0                         14.993118                         8.080000   \n",
       "1                         14.987471                         8.080000   \n",
       "2                         12.884934                         7.786667   \n",
       "3                         12.006805                         7.640000   \n",
       "4                         10.682530                         7.530000   \n",
       "\n",
       "   primary_cleaner.input.xanthate  primary_cleaner.state.floatbank8_a_air  \\\n",
       "0                        1.005021                             1398.981301   \n",
       "1                        0.990469                             1398.777912   \n",
       "2                        0.996043                             1398.493666   \n",
       "3                        0.863514                             1399.618111   \n",
       "4                        0.805575                             1401.268123   \n",
       "\n",
       "   primary_cleaner.state.floatbank8_a_level  \\\n",
       "0                               -500.225577   \n",
       "1                               -500.057435   \n",
       "2                               -500.868360   \n",
       "3                               -498.863574   \n",
       "4                               -500.808305   \n",
       "\n",
       "   primary_cleaner.state.floatbank8_b_air  \\\n",
       "0                             1399.144926   \n",
       "1                             1398.055362   \n",
       "2                             1398.860436   \n",
       "3                             1397.440120   \n",
       "4                             1398.128818   \n",
       "\n",
       "   primary_cleaner.state.floatbank8_b_level  \\\n",
       "0                               -499.919735   \n",
       "1                               -499.778182   \n",
       "2                               -499.764529   \n",
       "3                               -499.211024   \n",
       "4                               -499.504543   \n",
       "\n",
       "   primary_cleaner.state.floatbank8_c_air  ...  \\\n",
       "0                             1400.102998  ...   \n",
       "1                             1396.151033  ...   \n",
       "2                             1398.075709  ...   \n",
       "3                             1400.129303  ...   \n",
       "4                             1402.172226  ...   \n",
       "\n",
       "   secondary_cleaner.state.floatbank4_a_air  \\\n",
       "0                                 12.023554   \n",
       "1                                 12.058140   \n",
       "2                                 11.962366   \n",
       "3                                 12.033091   \n",
       "4                                 12.025367   \n",
       "\n",
       "   secondary_cleaner.state.floatbank4_a_level  \\\n",
       "0                                 -497.795834   \n",
       "1                                 -498.695773   \n",
       "2                                 -498.767484   \n",
       "3                                 -498.350935   \n",
       "4                                 -500.786497   \n",
       "\n",
       "   secondary_cleaner.state.floatbank4_b_air  \\\n",
       "0                                  8.016656   \n",
       "1                                  8.130979   \n",
       "2                                  8.096893   \n",
       "3                                  8.074946   \n",
       "4                                  8.054678   \n",
       "\n",
       "   secondary_cleaner.state.floatbank4_b_level  \\\n",
       "0                                 -501.289139   \n",
       "1                                 -499.634209   \n",
       "2                                 -500.827423   \n",
       "3                                 -499.474407   \n",
       "4                                 -500.397500   \n",
       "\n",
       "   secondary_cleaner.state.floatbank5_a_air  \\\n",
       "0                                  7.946562   \n",
       "1                                  7.958270   \n",
       "2                                  8.071056   \n",
       "3                                  7.897085   \n",
       "4                                  8.107890   \n",
       "\n",
       "   secondary_cleaner.state.floatbank5_a_level  \\\n",
       "0                                 -432.317850   \n",
       "1                                 -525.839648   \n",
       "2                                 -500.801673   \n",
       "3                                 -500.868509   \n",
       "4                                 -509.526725   \n",
       "\n",
       "   secondary_cleaner.state.floatbank5_b_air  \\\n",
       "0                                  4.872511   \n",
       "1                                  4.878850   \n",
       "2                                  4.905125   \n",
       "3                                  4.931400   \n",
       "4                                  4.957674   \n",
       "\n",
       "   secondary_cleaner.state.floatbank5_b_level  \\\n",
       "0                                 -500.037437   \n",
       "1                                 -500.162375   \n",
       "2                                 -499.828510   \n",
       "3                                 -499.963623   \n",
       "4                                 -500.360026   \n",
       "\n",
       "   secondary_cleaner.state.floatbank6_a_air  \\\n",
       "0                                 26.705889   \n",
       "1                                 25.019940   \n",
       "2                                 24.994862   \n",
       "3                                 24.948919   \n",
       "4                                 25.003331   \n",
       "\n",
       "   secondary_cleaner.state.floatbank6_a_level  \n",
       "0                                 -499.709414  \n",
       "1                                 -499.819438  \n",
       "2                                 -500.622559  \n",
       "3                                 -498.709987  \n",
       "4                                 -500.856333  \n",
       "\n",
       "[5 rows x 53 columns]"
      ]
     },
     "execution_count": 21,
     "metadata": {},
     "output_type": "execute_result"
    }
   ],
   "source": [
    "test_df.head()"
   ]
  },
  {
   "cell_type": "code",
   "execution_count": 22,
   "metadata": {},
   "outputs": [],
   "source": [
    "test_df_1 = test_df.merge(full_df[['final.output.recovery', 'rougher.output.recovery', 'date']], on='date', how='left')"
   ]
  },
  {
   "cell_type": "code",
   "execution_count": 23,
   "metadata": {},
   "outputs": [
    {
     "name": "stdout",
     "output_type": "stream",
     "text": [
      "Было: (5290, 53) \n",
      "Стало (5290, 55)\n"
     ]
    }
   ],
   "source": [
    "print('Было:',test_df.shape,'\\nСтало',test_df_1.shape)"
   ]
  },
  {
   "cell_type": "code",
   "execution_count": 24,
   "metadata": {},
   "outputs": [
    {
     "data": {
      "text/html": [
       "<div>\n",
       "<style scoped>\n",
       "    .dataframe tbody tr th:only-of-type {\n",
       "        vertical-align: middle;\n",
       "    }\n",
       "\n",
       "    .dataframe tbody tr th {\n",
       "        vertical-align: top;\n",
       "    }\n",
       "\n",
       "    .dataframe thead th {\n",
       "        text-align: right;\n",
       "    }\n",
       "</style>\n",
       "<table border=\"1\" class=\"dataframe\">\n",
       "  <thead>\n",
       "    <tr style=\"text-align: right;\">\n",
       "      <th></th>\n",
       "      <th>date</th>\n",
       "      <th>primary_cleaner.input.sulfate</th>\n",
       "      <th>primary_cleaner.input.depressant</th>\n",
       "      <th>primary_cleaner.input.feed_size</th>\n",
       "      <th>primary_cleaner.input.xanthate</th>\n",
       "      <th>primary_cleaner.state.floatbank8_a_air</th>\n",
       "      <th>primary_cleaner.state.floatbank8_a_level</th>\n",
       "      <th>primary_cleaner.state.floatbank8_b_air</th>\n",
       "      <th>primary_cleaner.state.floatbank8_b_level</th>\n",
       "      <th>primary_cleaner.state.floatbank8_c_air</th>\n",
       "      <th>...</th>\n",
       "      <th>secondary_cleaner.state.floatbank4_b_air</th>\n",
       "      <th>secondary_cleaner.state.floatbank4_b_level</th>\n",
       "      <th>secondary_cleaner.state.floatbank5_a_air</th>\n",
       "      <th>secondary_cleaner.state.floatbank5_a_level</th>\n",
       "      <th>secondary_cleaner.state.floatbank5_b_air</th>\n",
       "      <th>secondary_cleaner.state.floatbank5_b_level</th>\n",
       "      <th>secondary_cleaner.state.floatbank6_a_air</th>\n",
       "      <th>secondary_cleaner.state.floatbank6_a_level</th>\n",
       "      <th>final.output.recovery</th>\n",
       "      <th>rougher.output.recovery</th>\n",
       "    </tr>\n",
       "  </thead>\n",
       "  <tbody>\n",
       "    <tr>\n",
       "      <th>0</th>\n",
       "      <td>2016-09-01 00:59:59</td>\n",
       "      <td>210.800909</td>\n",
       "      <td>14.993118</td>\n",
       "      <td>8.080000</td>\n",
       "      <td>1.005021</td>\n",
       "      <td>1398.981301</td>\n",
       "      <td>-500.225577</td>\n",
       "      <td>1399.144926</td>\n",
       "      <td>-499.919735</td>\n",
       "      <td>1400.102998</td>\n",
       "      <td>...</td>\n",
       "      <td>8.016656</td>\n",
       "      <td>-501.289139</td>\n",
       "      <td>7.946562</td>\n",
       "      <td>-432.317850</td>\n",
       "      <td>4.872511</td>\n",
       "      <td>-500.037437</td>\n",
       "      <td>26.705889</td>\n",
       "      <td>-499.709414</td>\n",
       "      <td>70.273583</td>\n",
       "      <td>89.993421</td>\n",
       "    </tr>\n",
       "    <tr>\n",
       "      <th>1</th>\n",
       "      <td>2016-09-01 01:59:59</td>\n",
       "      <td>215.392455</td>\n",
       "      <td>14.987471</td>\n",
       "      <td>8.080000</td>\n",
       "      <td>0.990469</td>\n",
       "      <td>1398.777912</td>\n",
       "      <td>-500.057435</td>\n",
       "      <td>1398.055362</td>\n",
       "      <td>-499.778182</td>\n",
       "      <td>1396.151033</td>\n",
       "      <td>...</td>\n",
       "      <td>8.130979</td>\n",
       "      <td>-499.634209</td>\n",
       "      <td>7.958270</td>\n",
       "      <td>-525.839648</td>\n",
       "      <td>4.878850</td>\n",
       "      <td>-500.162375</td>\n",
       "      <td>25.019940</td>\n",
       "      <td>-499.819438</td>\n",
       "      <td>68.910432</td>\n",
       "      <td>88.089657</td>\n",
       "    </tr>\n",
       "    <tr>\n",
       "      <th>2</th>\n",
       "      <td>2016-09-01 02:59:59</td>\n",
       "      <td>215.259946</td>\n",
       "      <td>12.884934</td>\n",
       "      <td>7.786667</td>\n",
       "      <td>0.996043</td>\n",
       "      <td>1398.493666</td>\n",
       "      <td>-500.868360</td>\n",
       "      <td>1398.860436</td>\n",
       "      <td>-499.764529</td>\n",
       "      <td>1398.075709</td>\n",
       "      <td>...</td>\n",
       "      <td>8.096893</td>\n",
       "      <td>-500.827423</td>\n",
       "      <td>8.071056</td>\n",
       "      <td>-500.801673</td>\n",
       "      <td>4.905125</td>\n",
       "      <td>-499.828510</td>\n",
       "      <td>24.994862</td>\n",
       "      <td>-500.622559</td>\n",
       "      <td>68.143213</td>\n",
       "      <td>88.412756</td>\n",
       "    </tr>\n",
       "    <tr>\n",
       "      <th>3</th>\n",
       "      <td>2016-09-01 03:59:59</td>\n",
       "      <td>215.336236</td>\n",
       "      <td>12.006805</td>\n",
       "      <td>7.640000</td>\n",
       "      <td>0.863514</td>\n",
       "      <td>1399.618111</td>\n",
       "      <td>-498.863574</td>\n",
       "      <td>1397.440120</td>\n",
       "      <td>-499.211024</td>\n",
       "      <td>1400.129303</td>\n",
       "      <td>...</td>\n",
       "      <td>8.074946</td>\n",
       "      <td>-499.474407</td>\n",
       "      <td>7.897085</td>\n",
       "      <td>-500.868509</td>\n",
       "      <td>4.931400</td>\n",
       "      <td>-499.963623</td>\n",
       "      <td>24.948919</td>\n",
       "      <td>-498.709987</td>\n",
       "      <td>67.776393</td>\n",
       "      <td>87.360133</td>\n",
       "    </tr>\n",
       "    <tr>\n",
       "      <th>4</th>\n",
       "      <td>2016-09-01 04:59:59</td>\n",
       "      <td>199.099327</td>\n",
       "      <td>10.682530</td>\n",
       "      <td>7.530000</td>\n",
       "      <td>0.805575</td>\n",
       "      <td>1401.268123</td>\n",
       "      <td>-500.808305</td>\n",
       "      <td>1398.128818</td>\n",
       "      <td>-499.504543</td>\n",
       "      <td>1402.172226</td>\n",
       "      <td>...</td>\n",
       "      <td>8.054678</td>\n",
       "      <td>-500.397500</td>\n",
       "      <td>8.107890</td>\n",
       "      <td>-509.526725</td>\n",
       "      <td>4.957674</td>\n",
       "      <td>-500.360026</td>\n",
       "      <td>25.003331</td>\n",
       "      <td>-500.856333</td>\n",
       "      <td>61.467078</td>\n",
       "      <td>83.236367</td>\n",
       "    </tr>\n",
       "    <tr>\n",
       "      <th>...</th>\n",
       "      <td>...</td>\n",
       "      <td>...</td>\n",
       "      <td>...</td>\n",
       "      <td>...</td>\n",
       "      <td>...</td>\n",
       "      <td>...</td>\n",
       "      <td>...</td>\n",
       "      <td>...</td>\n",
       "      <td>...</td>\n",
       "      <td>...</td>\n",
       "      <td>...</td>\n",
       "      <td>...</td>\n",
       "      <td>...</td>\n",
       "      <td>...</td>\n",
       "      <td>...</td>\n",
       "      <td>...</td>\n",
       "      <td>...</td>\n",
       "      <td>...</td>\n",
       "      <td>...</td>\n",
       "      <td>...</td>\n",
       "      <td>...</td>\n",
       "    </tr>\n",
       "    <tr>\n",
       "      <th>5285</th>\n",
       "      <td>2017-12-31 19:59:59</td>\n",
       "      <td>173.957757</td>\n",
       "      <td>15.963399</td>\n",
       "      <td>8.070000</td>\n",
       "      <td>0.896701</td>\n",
       "      <td>1401.930554</td>\n",
       "      <td>-499.728848</td>\n",
       "      <td>1401.441445</td>\n",
       "      <td>-499.193423</td>\n",
       "      <td>1399.810313</td>\n",
       "      <td>...</td>\n",
       "      <td>12.069155</td>\n",
       "      <td>-499.673279</td>\n",
       "      <td>7.977259</td>\n",
       "      <td>-499.516126</td>\n",
       "      <td>5.933319</td>\n",
       "      <td>-499.965973</td>\n",
       "      <td>8.987171</td>\n",
       "      <td>-499.755909</td>\n",
       "      <td>68.919891</td>\n",
       "      <td>95.172585</td>\n",
       "    </tr>\n",
       "    <tr>\n",
       "      <th>5286</th>\n",
       "      <td>2017-12-31 20:59:59</td>\n",
       "      <td>172.910270</td>\n",
       "      <td>16.002605</td>\n",
       "      <td>8.070000</td>\n",
       "      <td>0.896519</td>\n",
       "      <td>1447.075722</td>\n",
       "      <td>-494.716823</td>\n",
       "      <td>1448.851892</td>\n",
       "      <td>-465.963026</td>\n",
       "      <td>1443.890424</td>\n",
       "      <td>...</td>\n",
       "      <td>13.365371</td>\n",
       "      <td>-499.122723</td>\n",
       "      <td>9.288553</td>\n",
       "      <td>-496.892967</td>\n",
       "      <td>7.372897</td>\n",
       "      <td>-499.942956</td>\n",
       "      <td>8.986832</td>\n",
       "      <td>-499.903761</td>\n",
       "      <td>68.440582</td>\n",
       "      <td>94.575036</td>\n",
       "    </tr>\n",
       "    <tr>\n",
       "      <th>5287</th>\n",
       "      <td>2017-12-31 21:59:59</td>\n",
       "      <td>171.135718</td>\n",
       "      <td>15.993669</td>\n",
       "      <td>8.070000</td>\n",
       "      <td>1.165996</td>\n",
       "      <td>1498.836182</td>\n",
       "      <td>-501.770403</td>\n",
       "      <td>1499.572353</td>\n",
       "      <td>-495.516347</td>\n",
       "      <td>1502.749213</td>\n",
       "      <td>...</td>\n",
       "      <td>15.101425</td>\n",
       "      <td>-499.936252</td>\n",
       "      <td>10.989181</td>\n",
       "      <td>-498.347898</td>\n",
       "      <td>9.020944</td>\n",
       "      <td>-500.040448</td>\n",
       "      <td>8.982038</td>\n",
       "      <td>-497.789882</td>\n",
       "      <td>67.092759</td>\n",
       "      <td>93.018138</td>\n",
       "    </tr>\n",
       "    <tr>\n",
       "      <th>5288</th>\n",
       "      <td>2017-12-31 22:59:59</td>\n",
       "      <td>179.697158</td>\n",
       "      <td>15.438979</td>\n",
       "      <td>8.070000</td>\n",
       "      <td>1.501068</td>\n",
       "      <td>1498.466243</td>\n",
       "      <td>-500.483984</td>\n",
       "      <td>1497.986986</td>\n",
       "      <td>-519.200340</td>\n",
       "      <td>1496.569047</td>\n",
       "      <td>...</td>\n",
       "      <td>15.026853</td>\n",
       "      <td>-499.723143</td>\n",
       "      <td>11.011607</td>\n",
       "      <td>-499.985046</td>\n",
       "      <td>9.009783</td>\n",
       "      <td>-499.937902</td>\n",
       "      <td>9.012660</td>\n",
       "      <td>-500.154284</td>\n",
       "      <td>68.061186</td>\n",
       "      <td>92.599042</td>\n",
       "    </tr>\n",
       "    <tr>\n",
       "      <th>5289</th>\n",
       "      <td>2017-12-31 23:59:59</td>\n",
       "      <td>181.556856</td>\n",
       "      <td>14.995850</td>\n",
       "      <td>8.070000</td>\n",
       "      <td>1.623454</td>\n",
       "      <td>1498.096303</td>\n",
       "      <td>-499.796922</td>\n",
       "      <td>1501.743791</td>\n",
       "      <td>-505.146931</td>\n",
       "      <td>1499.535978</td>\n",
       "      <td>...</td>\n",
       "      <td>14.914199</td>\n",
       "      <td>-499.948518</td>\n",
       "      <td>10.986607</td>\n",
       "      <td>-500.658027</td>\n",
       "      <td>8.989497</td>\n",
       "      <td>-500.337588</td>\n",
       "      <td>8.988632</td>\n",
       "      <td>-500.764937</td>\n",
       "      <td>71.699976</td>\n",
       "      <td>91.177695</td>\n",
       "    </tr>\n",
       "  </tbody>\n",
       "</table>\n",
       "<p>5290 rows × 55 columns</p>\n",
       "</div>"
      ],
      "text/plain": [
       "                     date  primary_cleaner.input.sulfate  \\\n",
       "0     2016-09-01 00:59:59                     210.800909   \n",
       "1     2016-09-01 01:59:59                     215.392455   \n",
       "2     2016-09-01 02:59:59                     215.259946   \n",
       "3     2016-09-01 03:59:59                     215.336236   \n",
       "4     2016-09-01 04:59:59                     199.099327   \n",
       "...                   ...                            ...   \n",
       "5285  2017-12-31 19:59:59                     173.957757   \n",
       "5286  2017-12-31 20:59:59                     172.910270   \n",
       "5287  2017-12-31 21:59:59                     171.135718   \n",
       "5288  2017-12-31 22:59:59                     179.697158   \n",
       "5289  2017-12-31 23:59:59                     181.556856   \n",
       "\n",
       "      primary_cleaner.input.depressant  primary_cleaner.input.feed_size  \\\n",
       "0                            14.993118                         8.080000   \n",
       "1                            14.987471                         8.080000   \n",
       "2                            12.884934                         7.786667   \n",
       "3                            12.006805                         7.640000   \n",
       "4                            10.682530                         7.530000   \n",
       "...                                ...                              ...   \n",
       "5285                         15.963399                         8.070000   \n",
       "5286                         16.002605                         8.070000   \n",
       "5287                         15.993669                         8.070000   \n",
       "5288                         15.438979                         8.070000   \n",
       "5289                         14.995850                         8.070000   \n",
       "\n",
       "      primary_cleaner.input.xanthate  primary_cleaner.state.floatbank8_a_air  \\\n",
       "0                           1.005021                             1398.981301   \n",
       "1                           0.990469                             1398.777912   \n",
       "2                           0.996043                             1398.493666   \n",
       "3                           0.863514                             1399.618111   \n",
       "4                           0.805575                             1401.268123   \n",
       "...                              ...                                     ...   \n",
       "5285                        0.896701                             1401.930554   \n",
       "5286                        0.896519                             1447.075722   \n",
       "5287                        1.165996                             1498.836182   \n",
       "5288                        1.501068                             1498.466243   \n",
       "5289                        1.623454                             1498.096303   \n",
       "\n",
       "      primary_cleaner.state.floatbank8_a_level  \\\n",
       "0                                  -500.225577   \n",
       "1                                  -500.057435   \n",
       "2                                  -500.868360   \n",
       "3                                  -498.863574   \n",
       "4                                  -500.808305   \n",
       "...                                        ...   \n",
       "5285                               -499.728848   \n",
       "5286                               -494.716823   \n",
       "5287                               -501.770403   \n",
       "5288                               -500.483984   \n",
       "5289                               -499.796922   \n",
       "\n",
       "      primary_cleaner.state.floatbank8_b_air  \\\n",
       "0                                1399.144926   \n",
       "1                                1398.055362   \n",
       "2                                1398.860436   \n",
       "3                                1397.440120   \n",
       "4                                1398.128818   \n",
       "...                                      ...   \n",
       "5285                             1401.441445   \n",
       "5286                             1448.851892   \n",
       "5287                             1499.572353   \n",
       "5288                             1497.986986   \n",
       "5289                             1501.743791   \n",
       "\n",
       "      primary_cleaner.state.floatbank8_b_level  \\\n",
       "0                                  -499.919735   \n",
       "1                                  -499.778182   \n",
       "2                                  -499.764529   \n",
       "3                                  -499.211024   \n",
       "4                                  -499.504543   \n",
       "...                                        ...   \n",
       "5285                               -499.193423   \n",
       "5286                               -465.963026   \n",
       "5287                               -495.516347   \n",
       "5288                               -519.200340   \n",
       "5289                               -505.146931   \n",
       "\n",
       "      primary_cleaner.state.floatbank8_c_air  ...  \\\n",
       "0                                1400.102998  ...   \n",
       "1                                1396.151033  ...   \n",
       "2                                1398.075709  ...   \n",
       "3                                1400.129303  ...   \n",
       "4                                1402.172226  ...   \n",
       "...                                      ...  ...   \n",
       "5285                             1399.810313  ...   \n",
       "5286                             1443.890424  ...   \n",
       "5287                             1502.749213  ...   \n",
       "5288                             1496.569047  ...   \n",
       "5289                             1499.535978  ...   \n",
       "\n",
       "      secondary_cleaner.state.floatbank4_b_air  \\\n",
       "0                                     8.016656   \n",
       "1                                     8.130979   \n",
       "2                                     8.096893   \n",
       "3                                     8.074946   \n",
       "4                                     8.054678   \n",
       "...                                        ...   \n",
       "5285                                 12.069155   \n",
       "5286                                 13.365371   \n",
       "5287                                 15.101425   \n",
       "5288                                 15.026853   \n",
       "5289                                 14.914199   \n",
       "\n",
       "      secondary_cleaner.state.floatbank4_b_level  \\\n",
       "0                                    -501.289139   \n",
       "1                                    -499.634209   \n",
       "2                                    -500.827423   \n",
       "3                                    -499.474407   \n",
       "4                                    -500.397500   \n",
       "...                                          ...   \n",
       "5285                                 -499.673279   \n",
       "5286                                 -499.122723   \n",
       "5287                                 -499.936252   \n",
       "5288                                 -499.723143   \n",
       "5289                                 -499.948518   \n",
       "\n",
       "      secondary_cleaner.state.floatbank5_a_air  \\\n",
       "0                                     7.946562   \n",
       "1                                     7.958270   \n",
       "2                                     8.071056   \n",
       "3                                     7.897085   \n",
       "4                                     8.107890   \n",
       "...                                        ...   \n",
       "5285                                  7.977259   \n",
       "5286                                  9.288553   \n",
       "5287                                 10.989181   \n",
       "5288                                 11.011607   \n",
       "5289                                 10.986607   \n",
       "\n",
       "      secondary_cleaner.state.floatbank5_a_level  \\\n",
       "0                                    -432.317850   \n",
       "1                                    -525.839648   \n",
       "2                                    -500.801673   \n",
       "3                                    -500.868509   \n",
       "4                                    -509.526725   \n",
       "...                                          ...   \n",
       "5285                                 -499.516126   \n",
       "5286                                 -496.892967   \n",
       "5287                                 -498.347898   \n",
       "5288                                 -499.985046   \n",
       "5289                                 -500.658027   \n",
       "\n",
       "      secondary_cleaner.state.floatbank5_b_air  \\\n",
       "0                                     4.872511   \n",
       "1                                     4.878850   \n",
       "2                                     4.905125   \n",
       "3                                     4.931400   \n",
       "4                                     4.957674   \n",
       "...                                        ...   \n",
       "5285                                  5.933319   \n",
       "5286                                  7.372897   \n",
       "5287                                  9.020944   \n",
       "5288                                  9.009783   \n",
       "5289                                  8.989497   \n",
       "\n",
       "      secondary_cleaner.state.floatbank5_b_level  \\\n",
       "0                                    -500.037437   \n",
       "1                                    -500.162375   \n",
       "2                                    -499.828510   \n",
       "3                                    -499.963623   \n",
       "4                                    -500.360026   \n",
       "...                                          ...   \n",
       "5285                                 -499.965973   \n",
       "5286                                 -499.942956   \n",
       "5287                                 -500.040448   \n",
       "5288                                 -499.937902   \n",
       "5289                                 -500.337588   \n",
       "\n",
       "      secondary_cleaner.state.floatbank6_a_air  \\\n",
       "0                                    26.705889   \n",
       "1                                    25.019940   \n",
       "2                                    24.994862   \n",
       "3                                    24.948919   \n",
       "4                                    25.003331   \n",
       "...                                        ...   \n",
       "5285                                  8.987171   \n",
       "5286                                  8.986832   \n",
       "5287                                  8.982038   \n",
       "5288                                  9.012660   \n",
       "5289                                  8.988632   \n",
       "\n",
       "      secondary_cleaner.state.floatbank6_a_level  final.output.recovery  \\\n",
       "0                                    -499.709414              70.273583   \n",
       "1                                    -499.819438              68.910432   \n",
       "2                                    -500.622559              68.143213   \n",
       "3                                    -498.709987              67.776393   \n",
       "4                                    -500.856333              61.467078   \n",
       "...                                          ...                    ...   \n",
       "5285                                 -499.755909              68.919891   \n",
       "5286                                 -499.903761              68.440582   \n",
       "5287                                 -497.789882              67.092759   \n",
       "5288                                 -500.154284              68.061186   \n",
       "5289                                 -500.764937              71.699976   \n",
       "\n",
       "      rougher.output.recovery  \n",
       "0                   89.993421  \n",
       "1                   88.089657  \n",
       "2                   88.412756  \n",
       "3                   87.360133  \n",
       "4                   83.236367  \n",
       "...                       ...  \n",
       "5285                95.172585  \n",
       "5286                94.575036  \n",
       "5287                93.018138  \n",
       "5288                92.599042  \n",
       "5289                91.177695  \n",
       "\n",
       "[5290 rows x 55 columns]"
      ]
     },
     "execution_count": 24,
     "metadata": {},
     "output_type": "execute_result"
    }
   ],
   "source": [
    "test_df_1 "
   ]
  },
  {
   "cell_type": "code",
   "execution_count": 25,
   "metadata": {},
   "outputs": [],
   "source": [
    "df1 = train_df.agg(['min','max'])\n",
    "df2 = test_df_1.agg(['min','max'])\n",
    "df3 = full_df.agg(['min','max'])"
   ]
  },
  {
   "cell_type": "code",
   "execution_count": 26,
   "metadata": {},
   "outputs": [
    {
     "data": {
      "text/html": [
       "<div>\n",
       "<style scoped>\n",
       "    .dataframe tbody tr th:only-of-type {\n",
       "        vertical-align: middle;\n",
       "    }\n",
       "\n",
       "    .dataframe tbody tr th {\n",
       "        vertical-align: top;\n",
       "    }\n",
       "\n",
       "    .dataframe thead th {\n",
       "        text-align: right;\n",
       "    }\n",
       "</style>\n",
       "<table border=\"1\" class=\"dataframe\">\n",
       "  <thead>\n",
       "    <tr style=\"text-align: right;\">\n",
       "      <th></th>\n",
       "      <th>date</th>\n",
       "      <th>final.output.concentrate_ag</th>\n",
       "      <th>final.output.concentrate_pb</th>\n",
       "      <th>final.output.concentrate_sol</th>\n",
       "      <th>final.output.concentrate_au</th>\n",
       "      <th>final.output.recovery</th>\n",
       "      <th>final.output.tail_ag</th>\n",
       "      <th>final.output.tail_pb</th>\n",
       "      <th>final.output.tail_sol</th>\n",
       "      <th>final.output.tail_au</th>\n",
       "      <th>...</th>\n",
       "      <th>secondary_cleaner.state.floatbank4_a_air</th>\n",
       "      <th>secondary_cleaner.state.floatbank4_a_level</th>\n",
       "      <th>secondary_cleaner.state.floatbank4_b_air</th>\n",
       "      <th>secondary_cleaner.state.floatbank4_b_level</th>\n",
       "      <th>secondary_cleaner.state.floatbank5_a_air</th>\n",
       "      <th>secondary_cleaner.state.floatbank5_a_level</th>\n",
       "      <th>secondary_cleaner.state.floatbank5_b_air</th>\n",
       "      <th>secondary_cleaner.state.floatbank5_b_level</th>\n",
       "      <th>secondary_cleaner.state.floatbank6_a_air</th>\n",
       "      <th>secondary_cleaner.state.floatbank6_a_level</th>\n",
       "    </tr>\n",
       "  </thead>\n",
       "  <tbody>\n",
       "    <tr>\n",
       "      <th>min</th>\n",
       "      <td>2016-01-15 00:00:00</td>\n",
       "      <td>0.000000</td>\n",
       "      <td>0.000000</td>\n",
       "      <td>0.000000</td>\n",
       "      <td>0.000000</td>\n",
       "      <td>0.0</td>\n",
       "      <td>0.000000</td>\n",
       "      <td>0.000000</td>\n",
       "      <td>0.00000</td>\n",
       "      <td>0.000000</td>\n",
       "      <td>...</td>\n",
       "      <td>0.000000</td>\n",
       "      <td>-799.709069</td>\n",
       "      <td>0.000000</td>\n",
       "      <td>-799.889113</td>\n",
       "      <td>-0.372054</td>\n",
       "      <td>-797.142475</td>\n",
       "      <td>0.646208</td>\n",
       "      <td>-800.006180</td>\n",
       "      <td>0.195324</td>\n",
       "      <td>-809.398668</td>\n",
       "    </tr>\n",
       "    <tr>\n",
       "      <th>max</th>\n",
       "      <td>2018-08-18 10:59:59</td>\n",
       "      <td>16.001945</td>\n",
       "      <td>17.031899</td>\n",
       "      <td>18.124851</td>\n",
       "      <td>52.756638</td>\n",
       "      <td>100.0</td>\n",
       "      <td>19.552149</td>\n",
       "      <td>5.639565</td>\n",
       "      <td>22.31773</td>\n",
       "      <td>8.197408</td>\n",
       "      <td>...</td>\n",
       "      <td>30.115735</td>\n",
       "      <td>-245.239184</td>\n",
       "      <td>24.007913</td>\n",
       "      <td>-145.071088</td>\n",
       "      <td>43.709931</td>\n",
       "      <td>-275.073125</td>\n",
       "      <td>27.926001</td>\n",
       "      <td>-157.396071</td>\n",
       "      <td>32.188906</td>\n",
       "      <td>-104.427459</td>\n",
       "    </tr>\n",
       "  </tbody>\n",
       "</table>\n",
       "<p>2 rows × 87 columns</p>\n",
       "</div>"
      ],
      "text/plain": [
       "                    date  final.output.concentrate_ag  \\\n",
       "min  2016-01-15 00:00:00                     0.000000   \n",
       "max  2018-08-18 10:59:59                    16.001945   \n",
       "\n",
       "     final.output.concentrate_pb  final.output.concentrate_sol  \\\n",
       "min                     0.000000                      0.000000   \n",
       "max                    17.031899                     18.124851   \n",
       "\n",
       "     final.output.concentrate_au  final.output.recovery  final.output.tail_ag  \\\n",
       "min                     0.000000                    0.0              0.000000   \n",
       "max                    52.756638                  100.0             19.552149   \n",
       "\n",
       "     final.output.tail_pb  final.output.tail_sol  final.output.tail_au  ...  \\\n",
       "min              0.000000                0.00000              0.000000  ...   \n",
       "max              5.639565               22.31773              8.197408  ...   \n",
       "\n",
       "     secondary_cleaner.state.floatbank4_a_air  \\\n",
       "min                                  0.000000   \n",
       "max                                 30.115735   \n",
       "\n",
       "     secondary_cleaner.state.floatbank4_a_level  \\\n",
       "min                                 -799.709069   \n",
       "max                                 -245.239184   \n",
       "\n",
       "     secondary_cleaner.state.floatbank4_b_air  \\\n",
       "min                                  0.000000   \n",
       "max                                 24.007913   \n",
       "\n",
       "     secondary_cleaner.state.floatbank4_b_level  \\\n",
       "min                                 -799.889113   \n",
       "max                                 -145.071088   \n",
       "\n",
       "     secondary_cleaner.state.floatbank5_a_air  \\\n",
       "min                                 -0.372054   \n",
       "max                                 43.709931   \n",
       "\n",
       "     secondary_cleaner.state.floatbank5_a_level  \\\n",
       "min                                 -797.142475   \n",
       "max                                 -275.073125   \n",
       "\n",
       "     secondary_cleaner.state.floatbank5_b_air  \\\n",
       "min                                  0.646208   \n",
       "max                                 27.926001   \n",
       "\n",
       "     secondary_cleaner.state.floatbank5_b_level  \\\n",
       "min                                 -800.006180   \n",
       "max                                 -157.396071   \n",
       "\n",
       "     secondary_cleaner.state.floatbank6_a_air  \\\n",
       "min                                  0.195324   \n",
       "max                                 32.188906   \n",
       "\n",
       "     secondary_cleaner.state.floatbank6_a_level  \n",
       "min                                 -809.398668  \n",
       "max                                 -104.427459  \n",
       "\n",
       "[2 rows x 87 columns]"
      ]
     },
     "execution_count": 26,
     "metadata": {},
     "output_type": "execute_result"
    }
   ],
   "source": [
    "df1"
   ]
  },
  {
   "cell_type": "code",
   "execution_count": 27,
   "metadata": {},
   "outputs": [
    {
     "data": {
      "text/html": [
       "<div>\n",
       "<style scoped>\n",
       "    .dataframe tbody tr th:only-of-type {\n",
       "        vertical-align: middle;\n",
       "    }\n",
       "\n",
       "    .dataframe tbody tr th {\n",
       "        vertical-align: top;\n",
       "    }\n",
       "\n",
       "    .dataframe thead th {\n",
       "        text-align: right;\n",
       "    }\n",
       "</style>\n",
       "<table border=\"1\" class=\"dataframe\">\n",
       "  <thead>\n",
       "    <tr style=\"text-align: right;\">\n",
       "      <th></th>\n",
       "      <th>date</th>\n",
       "      <th>primary_cleaner.input.sulfate</th>\n",
       "      <th>primary_cleaner.input.depressant</th>\n",
       "      <th>primary_cleaner.input.feed_size</th>\n",
       "      <th>primary_cleaner.input.xanthate</th>\n",
       "      <th>primary_cleaner.state.floatbank8_a_air</th>\n",
       "      <th>primary_cleaner.state.floatbank8_a_level</th>\n",
       "      <th>primary_cleaner.state.floatbank8_b_air</th>\n",
       "      <th>primary_cleaner.state.floatbank8_b_level</th>\n",
       "      <th>primary_cleaner.state.floatbank8_c_air</th>\n",
       "      <th>...</th>\n",
       "      <th>secondary_cleaner.state.floatbank4_b_air</th>\n",
       "      <th>secondary_cleaner.state.floatbank4_b_level</th>\n",
       "      <th>secondary_cleaner.state.floatbank5_a_air</th>\n",
       "      <th>secondary_cleaner.state.floatbank5_a_level</th>\n",
       "      <th>secondary_cleaner.state.floatbank5_b_air</th>\n",
       "      <th>secondary_cleaner.state.floatbank5_b_level</th>\n",
       "      <th>secondary_cleaner.state.floatbank6_a_air</th>\n",
       "      <th>secondary_cleaner.state.floatbank6_a_level</th>\n",
       "      <th>final.output.recovery</th>\n",
       "      <th>rougher.output.recovery</th>\n",
       "    </tr>\n",
       "  </thead>\n",
       "  <tbody>\n",
       "    <tr>\n",
       "      <th>min</th>\n",
       "      <td>2016-09-01 00:59:59</td>\n",
       "      <td>2.566156</td>\n",
       "      <td>0.003839</td>\n",
       "      <td>5.65</td>\n",
       "      <td>0.004984</td>\n",
       "      <td>5.445860e-32</td>\n",
       "      <td>-795.316337</td>\n",
       "      <td>6.647490e-32</td>\n",
       "      <td>-799.997015</td>\n",
       "      <td>4.033736e-32</td>\n",
       "      <td>...</td>\n",
       "      <td>2.489718e-17</td>\n",
       "      <td>-800.836914</td>\n",
       "      <td>0.069227</td>\n",
       "      <td>-797.323986</td>\n",
       "      <td>0.528083</td>\n",
       "      <td>-800.220337</td>\n",
       "      <td>-0.079426</td>\n",
       "      <td>-809.741464</td>\n",
       "      <td>0.0</td>\n",
       "      <td>0.000000</td>\n",
       "    </tr>\n",
       "    <tr>\n",
       "      <th>max</th>\n",
       "      <td>2017-12-31 23:59:59</td>\n",
       "      <td>265.983123</td>\n",
       "      <td>40.000000</td>\n",
       "      <td>15.50</td>\n",
       "      <td>4.102454</td>\n",
       "      <td>2.103104e+03</td>\n",
       "      <td>-57.195404</td>\n",
       "      <td>1.813084e+03</td>\n",
       "      <td>-142.527229</td>\n",
       "      <td>1.715054e+03</td>\n",
       "      <td>...</td>\n",
       "      <td>3.126971e+01</td>\n",
       "      <td>-6.506986</td>\n",
       "      <td>25.258848</td>\n",
       "      <td>-244.483566</td>\n",
       "      <td>14.086866</td>\n",
       "      <td>-137.740004</td>\n",
       "      <td>26.705889</td>\n",
       "      <td>-123.307487</td>\n",
       "      <td>100.0</td>\n",
       "      <td>99.169699</td>\n",
       "    </tr>\n",
       "  </tbody>\n",
       "</table>\n",
       "<p>2 rows × 55 columns</p>\n",
       "</div>"
      ],
      "text/plain": [
       "                    date  primary_cleaner.input.sulfate  \\\n",
       "min  2016-09-01 00:59:59                       2.566156   \n",
       "max  2017-12-31 23:59:59                     265.983123   \n",
       "\n",
       "     primary_cleaner.input.depressant  primary_cleaner.input.feed_size  \\\n",
       "min                          0.003839                             5.65   \n",
       "max                         40.000000                            15.50   \n",
       "\n",
       "     primary_cleaner.input.xanthate  primary_cleaner.state.floatbank8_a_air  \\\n",
       "min                        0.004984                            5.445860e-32   \n",
       "max                        4.102454                            2.103104e+03   \n",
       "\n",
       "     primary_cleaner.state.floatbank8_a_level  \\\n",
       "min                               -795.316337   \n",
       "max                                -57.195404   \n",
       "\n",
       "     primary_cleaner.state.floatbank8_b_air  \\\n",
       "min                            6.647490e-32   \n",
       "max                            1.813084e+03   \n",
       "\n",
       "     primary_cleaner.state.floatbank8_b_level  \\\n",
       "min                               -799.997015   \n",
       "max                               -142.527229   \n",
       "\n",
       "     primary_cleaner.state.floatbank8_c_air  ...  \\\n",
       "min                            4.033736e-32  ...   \n",
       "max                            1.715054e+03  ...   \n",
       "\n",
       "     secondary_cleaner.state.floatbank4_b_air  \\\n",
       "min                              2.489718e-17   \n",
       "max                              3.126971e+01   \n",
       "\n",
       "     secondary_cleaner.state.floatbank4_b_level  \\\n",
       "min                                 -800.836914   \n",
       "max                                   -6.506986   \n",
       "\n",
       "     secondary_cleaner.state.floatbank5_a_air  \\\n",
       "min                                  0.069227   \n",
       "max                                 25.258848   \n",
       "\n",
       "     secondary_cleaner.state.floatbank5_a_level  \\\n",
       "min                                 -797.323986   \n",
       "max                                 -244.483566   \n",
       "\n",
       "     secondary_cleaner.state.floatbank5_b_air  \\\n",
       "min                                  0.528083   \n",
       "max                                 14.086866   \n",
       "\n",
       "     secondary_cleaner.state.floatbank5_b_level  \\\n",
       "min                                 -800.220337   \n",
       "max                                 -137.740004   \n",
       "\n",
       "     secondary_cleaner.state.floatbank6_a_air  \\\n",
       "min                                 -0.079426   \n",
       "max                                 26.705889   \n",
       "\n",
       "     secondary_cleaner.state.floatbank6_a_level  final.output.recovery  \\\n",
       "min                                 -809.741464                    0.0   \n",
       "max                                 -123.307487                  100.0   \n",
       "\n",
       "     rougher.output.recovery  \n",
       "min                 0.000000  \n",
       "max                99.169699  \n",
       "\n",
       "[2 rows x 55 columns]"
      ]
     },
     "execution_count": 27,
     "metadata": {},
     "output_type": "execute_result"
    }
   ],
   "source": [
    "df2"
   ]
  },
  {
   "cell_type": "code",
   "execution_count": 28,
   "metadata": {},
   "outputs": [
    {
     "data": {
      "text/html": [
       "<div>\n",
       "<style scoped>\n",
       "    .dataframe tbody tr th:only-of-type {\n",
       "        vertical-align: middle;\n",
       "    }\n",
       "\n",
       "    .dataframe tbody tr th {\n",
       "        vertical-align: top;\n",
       "    }\n",
       "\n",
       "    .dataframe thead th {\n",
       "        text-align: right;\n",
       "    }\n",
       "</style>\n",
       "<table border=\"1\" class=\"dataframe\">\n",
       "  <thead>\n",
       "    <tr style=\"text-align: right;\">\n",
       "      <th></th>\n",
       "      <th>date</th>\n",
       "      <th>final.output.concentrate_ag</th>\n",
       "      <th>final.output.concentrate_pb</th>\n",
       "      <th>final.output.concentrate_sol</th>\n",
       "      <th>final.output.concentrate_au</th>\n",
       "      <th>final.output.recovery</th>\n",
       "      <th>final.output.tail_ag</th>\n",
       "      <th>final.output.tail_pb</th>\n",
       "      <th>final.output.tail_sol</th>\n",
       "      <th>final.output.tail_au</th>\n",
       "      <th>...</th>\n",
       "      <th>secondary_cleaner.state.floatbank4_a_air</th>\n",
       "      <th>secondary_cleaner.state.floatbank4_a_level</th>\n",
       "      <th>secondary_cleaner.state.floatbank4_b_air</th>\n",
       "      <th>secondary_cleaner.state.floatbank4_b_level</th>\n",
       "      <th>secondary_cleaner.state.floatbank5_a_air</th>\n",
       "      <th>secondary_cleaner.state.floatbank5_a_level</th>\n",
       "      <th>secondary_cleaner.state.floatbank5_b_air</th>\n",
       "      <th>secondary_cleaner.state.floatbank5_b_level</th>\n",
       "      <th>secondary_cleaner.state.floatbank6_a_air</th>\n",
       "      <th>secondary_cleaner.state.floatbank6_a_level</th>\n",
       "    </tr>\n",
       "  </thead>\n",
       "  <tbody>\n",
       "    <tr>\n",
       "      <th>min</th>\n",
       "      <td>2016-01-15 00:00:00</td>\n",
       "      <td>0.000000</td>\n",
       "      <td>0.000000</td>\n",
       "      <td>0.00000</td>\n",
       "      <td>0.000000</td>\n",
       "      <td>0.0</td>\n",
       "      <td>0.000000</td>\n",
       "      <td>0.000000</td>\n",
       "      <td>0.00000</td>\n",
       "      <td>0.000000</td>\n",
       "      <td>...</td>\n",
       "      <td>0.000000</td>\n",
       "      <td>-799.798523</td>\n",
       "      <td>0.000000</td>\n",
       "      <td>-800.836914</td>\n",
       "      <td>-0.372054</td>\n",
       "      <td>-797.323986</td>\n",
       "      <td>0.528083</td>\n",
       "      <td>-800.220337</td>\n",
       "      <td>-0.079426</td>\n",
       "      <td>-809.741464</td>\n",
       "    </tr>\n",
       "    <tr>\n",
       "      <th>max</th>\n",
       "      <td>2018-08-18 10:59:59</td>\n",
       "      <td>16.001945</td>\n",
       "      <td>17.031899</td>\n",
       "      <td>19.61572</td>\n",
       "      <td>52.756638</td>\n",
       "      <td>100.0</td>\n",
       "      <td>19.552149</td>\n",
       "      <td>5.804178</td>\n",
       "      <td>22.31773</td>\n",
       "      <td>8.245022</td>\n",
       "      <td>...</td>\n",
       "      <td>30.115735</td>\n",
       "      <td>-245.239184</td>\n",
       "      <td>31.269706</td>\n",
       "      <td>-6.506986</td>\n",
       "      <td>43.709931</td>\n",
       "      <td>-244.483566</td>\n",
       "      <td>27.926001</td>\n",
       "      <td>-137.740004</td>\n",
       "      <td>32.188906</td>\n",
       "      <td>-104.427459</td>\n",
       "    </tr>\n",
       "  </tbody>\n",
       "</table>\n",
       "<p>2 rows × 87 columns</p>\n",
       "</div>"
      ],
      "text/plain": [
       "                    date  final.output.concentrate_ag  \\\n",
       "min  2016-01-15 00:00:00                     0.000000   \n",
       "max  2018-08-18 10:59:59                    16.001945   \n",
       "\n",
       "     final.output.concentrate_pb  final.output.concentrate_sol  \\\n",
       "min                     0.000000                       0.00000   \n",
       "max                    17.031899                      19.61572   \n",
       "\n",
       "     final.output.concentrate_au  final.output.recovery  final.output.tail_ag  \\\n",
       "min                     0.000000                    0.0              0.000000   \n",
       "max                    52.756638                  100.0             19.552149   \n",
       "\n",
       "     final.output.tail_pb  final.output.tail_sol  final.output.tail_au  ...  \\\n",
       "min              0.000000                0.00000              0.000000  ...   \n",
       "max              5.804178               22.31773              8.245022  ...   \n",
       "\n",
       "     secondary_cleaner.state.floatbank4_a_air  \\\n",
       "min                                  0.000000   \n",
       "max                                 30.115735   \n",
       "\n",
       "     secondary_cleaner.state.floatbank4_a_level  \\\n",
       "min                                 -799.798523   \n",
       "max                                 -245.239184   \n",
       "\n",
       "     secondary_cleaner.state.floatbank4_b_air  \\\n",
       "min                                  0.000000   \n",
       "max                                 31.269706   \n",
       "\n",
       "     secondary_cleaner.state.floatbank4_b_level  \\\n",
       "min                                 -800.836914   \n",
       "max                                   -6.506986   \n",
       "\n",
       "     secondary_cleaner.state.floatbank5_a_air  \\\n",
       "min                                 -0.372054   \n",
       "max                                 43.709931   \n",
       "\n",
       "     secondary_cleaner.state.floatbank5_a_level  \\\n",
       "min                                 -797.323986   \n",
       "max                                 -244.483566   \n",
       "\n",
       "     secondary_cleaner.state.floatbank5_b_air  \\\n",
       "min                                  0.528083   \n",
       "max                                 27.926001   \n",
       "\n",
       "     secondary_cleaner.state.floatbank5_b_level  \\\n",
       "min                                 -800.220337   \n",
       "max                                 -137.740004   \n",
       "\n",
       "     secondary_cleaner.state.floatbank6_a_air  \\\n",
       "min                                 -0.079426   \n",
       "max                                 32.188906   \n",
       "\n",
       "     secondary_cleaner.state.floatbank6_a_level  \n",
       "min                                 -809.741464  \n",
       "max                                 -104.427459  \n",
       "\n",
       "[2 rows x 87 columns]"
      ]
     },
     "execution_count": 28,
     "metadata": {},
     "output_type": "execute_result"
    }
   ],
   "source": [
    "df3"
   ]
  },
  {
   "cell_type": "code",
   "execution_count": 29,
   "metadata": {},
   "outputs": [
    {
     "data": {
      "text/plain": [
       "secondary_cleaner.output.tail_sol           1605\n",
       "rougher.state.floatbank10_e_air              436\n",
       "rougher.input.floatbank11_xanthate           428\n",
       "primary_cleaner.output.concentrate_sol       286\n",
       "secondary_cleaner.state.floatbank2_a_air     217\n",
       "                                            ... \n",
       "rougher.output.concentrate_pb                  0\n",
       "rougher.output.concentrate_au                  0\n",
       "rougher.output.recovery                        0\n",
       "rougher.output.tail_pb                         0\n",
       "date                                           0\n",
       "Length: 87, dtype: int64"
      ]
     },
     "execution_count": 29,
     "metadata": {},
     "output_type": "execute_result"
    }
   ],
   "source": [
    "train_df.isna().sum().sort_values(ascending=False)"
   ]
  },
  {
   "cell_type": "code",
   "execution_count": 30,
   "metadata": {},
   "outputs": [
    {
     "data": {
      "text/plain": [
       "rougher.input.floatbank11_xanthate            25\n",
       "rougher.input.feed_sol                        21\n",
       "secondary_cleaner.state.floatbank3_a_air       9\n",
       "rougher.input.floatbank11_sulfate              8\n",
       "primary_cleaner.input.depressant               5\n",
       "rougher.input.floatbank10_sulfate              5\n",
       "primary_cleaner.input.xanthate                 4\n",
       "primary_cleaner.input.sulfate                  4\n",
       "secondary_cleaner.state.floatbank2_a_air       3\n",
       "rougher.input.feed_rate                        3\n",
       "secondary_cleaner.state.floatbank2_b_air       2\n",
       "rougher.input.feed_size                        1\n",
       "secondary_cleaner.state.floatbank3_a_level     0\n",
       "secondary_cleaner.state.floatbank3_b_level     0\n",
       "secondary_cleaner.state.floatbank3_b_air       0\n",
       "secondary_cleaner.state.floatbank2_a_level     0\n",
       "rougher.state.floatbank10_f_level              0\n",
       "secondary_cleaner.state.floatbank2_b_level     0\n",
       "date                                           0\n",
       "rougher.state.floatbank10_e_level              0\n",
       "secondary_cleaner.state.floatbank4_a_air       0\n",
       "secondary_cleaner.state.floatbank4_a_level     0\n",
       "secondary_cleaner.state.floatbank4_b_air       0\n",
       "secondary_cleaner.state.floatbank4_b_level     0\n",
       "secondary_cleaner.state.floatbank5_a_air       0\n",
       "secondary_cleaner.state.floatbank5_a_level     0\n",
       "secondary_cleaner.state.floatbank5_b_air       0\n",
       "secondary_cleaner.state.floatbank5_b_level     0\n",
       "secondary_cleaner.state.floatbank6_a_air       0\n",
       "secondary_cleaner.state.floatbank6_a_level     0\n",
       "final.output.recovery                          0\n",
       "rougher.state.floatbank10_f_air                0\n",
       "rougher.state.floatbank10_c_air                0\n",
       "rougher.state.floatbank10_e_air                0\n",
       "rougher.state.floatbank10_d_level              0\n",
       "primary_cleaner.input.feed_size                0\n",
       "primary_cleaner.state.floatbank8_a_air         0\n",
       "primary_cleaner.state.floatbank8_a_level       0\n",
       "primary_cleaner.state.floatbank8_b_air         0\n",
       "primary_cleaner.state.floatbank8_b_level       0\n",
       "primary_cleaner.state.floatbank8_c_air         0\n",
       "primary_cleaner.state.floatbank8_c_level       0\n",
       "primary_cleaner.state.floatbank8_d_air         0\n",
       "primary_cleaner.state.floatbank8_d_level       0\n",
       "rougher.input.feed_ag                          0\n",
       "rougher.input.feed_pb                          0\n",
       "rougher.input.feed_au                          0\n",
       "rougher.input.floatbank10_xanthate             0\n",
       "rougher.state.floatbank10_a_air                0\n",
       "rougher.state.floatbank10_a_level              0\n",
       "rougher.state.floatbank10_b_air                0\n",
       "rougher.state.floatbank10_b_level              0\n",
       "rougher.state.floatbank10_c_level              0\n",
       "rougher.state.floatbank10_d_air                0\n",
       "rougher.output.recovery                        0\n",
       "dtype: int64"
      ]
     },
     "execution_count": 30,
     "metadata": {},
     "output_type": "execute_result"
    }
   ],
   "source": [
    "test_df_1.isna().sum().sort_values(ascending=False)"
   ]
  },
  {
   "cell_type": "code",
   "execution_count": 31,
   "metadata": {},
   "outputs": [
    {
     "data": {
      "text/plain": [
       "secondary_cleaner.output.tail_sol           1748\n",
       "rougher.input.floatbank11_xanthate           453\n",
       "rougher.state.floatbank10_e_air              436\n",
       "primary_cleaner.output.concentrate_sol       370\n",
       "secondary_cleaner.state.floatbank2_a_air     220\n",
       "                                            ... \n",
       "rougher.state.floatbank10_d_level              0\n",
       "rougher.state.floatbank10_d_air                0\n",
       "rougher.output.tail_pb                         0\n",
       "rougher.output.tail_sol                        0\n",
       "date                                           0\n",
       "Length: 87, dtype: int64"
      ]
     },
     "execution_count": 31,
     "metadata": {},
     "output_type": "execute_result"
    }
   ],
   "source": [
    "full_df.isna().sum().sort_values(ascending=False)"
   ]
  },
  {
   "cell_type": "code",
   "execution_count": 32,
   "metadata": {},
   "outputs": [
    {
     "name": "stdout",
     "output_type": "stream",
     "text": [
      "rougher.output.recovery    0\n",
      "final.output.recovery      0\n",
      "dtype: int64\n",
      "rougher.output.recovery    0\n",
      "final.output.recovery      0\n",
      "dtype: int64\n",
      "rougher.output.recovery    0\n",
      "final.output.recovery      0\n",
      "dtype: int64\n"
     ]
    }
   ],
   "source": [
    "for array in [test_df_1, full_df, train_df]:\n",
    "    print(array[targets].isna().sum())"
   ]
  },
  {
   "cell_type": "code",
   "execution_count": 33,
   "metadata": {},
   "outputs": [
    {
     "data": {
      "text/html": [
       "<div>\n",
       "<style scoped>\n",
       "    .dataframe tbody tr th:only-of-type {\n",
       "        vertical-align: middle;\n",
       "    }\n",
       "\n",
       "    .dataframe tbody tr th {\n",
       "        vertical-align: top;\n",
       "    }\n",
       "\n",
       "    .dataframe thead th {\n",
       "        text-align: right;\n",
       "    }\n",
       "</style>\n",
       "<table border=\"1\" class=\"dataframe\">\n",
       "  <thead>\n",
       "    <tr style=\"text-align: right;\">\n",
       "      <th></th>\n",
       "      <th>date</th>\n",
       "      <th>primary_cleaner.input.sulfate</th>\n",
       "      <th>primary_cleaner.input.depressant</th>\n",
       "      <th>primary_cleaner.input.feed_size</th>\n",
       "      <th>primary_cleaner.input.xanthate</th>\n",
       "      <th>primary_cleaner.state.floatbank8_a_air</th>\n",
       "      <th>primary_cleaner.state.floatbank8_a_level</th>\n",
       "      <th>primary_cleaner.state.floatbank8_b_air</th>\n",
       "      <th>primary_cleaner.state.floatbank8_b_level</th>\n",
       "      <th>primary_cleaner.state.floatbank8_c_air</th>\n",
       "      <th>...</th>\n",
       "      <th>secondary_cleaner.state.floatbank4_b_air</th>\n",
       "      <th>secondary_cleaner.state.floatbank4_b_level</th>\n",
       "      <th>secondary_cleaner.state.floatbank5_a_air</th>\n",
       "      <th>secondary_cleaner.state.floatbank5_a_level</th>\n",
       "      <th>secondary_cleaner.state.floatbank5_b_air</th>\n",
       "      <th>secondary_cleaner.state.floatbank5_b_level</th>\n",
       "      <th>secondary_cleaner.state.floatbank6_a_air</th>\n",
       "      <th>secondary_cleaner.state.floatbank6_a_level</th>\n",
       "      <th>final.output.recovery</th>\n",
       "      <th>rougher.output.recovery</th>\n",
       "    </tr>\n",
       "  </thead>\n",
       "  <tbody>\n",
       "    <tr>\n",
       "      <th>0</th>\n",
       "      <td>2016-01-15 00:00:00</td>\n",
       "      <td>127.092003</td>\n",
       "      <td>10.128295</td>\n",
       "      <td>7.25</td>\n",
       "      <td>0.988759</td>\n",
       "      <td>1549.775757</td>\n",
       "      <td>-498.912140</td>\n",
       "      <td>1551.434204</td>\n",
       "      <td>-516.403442</td>\n",
       "      <td>1549.873901</td>\n",
       "      <td>...</td>\n",
       "      <td>12.099931</td>\n",
       "      <td>-504.715942</td>\n",
       "      <td>9.925633</td>\n",
       "      <td>-498.310211</td>\n",
       "      <td>8.079666</td>\n",
       "      <td>-500.470978</td>\n",
       "      <td>14.151341</td>\n",
       "      <td>-605.841980</td>\n",
       "      <td>70.541216</td>\n",
       "      <td>87.107763</td>\n",
       "    </tr>\n",
       "    <tr>\n",
       "      <th>1</th>\n",
       "      <td>2016-01-15 01:00:00</td>\n",
       "      <td>125.629232</td>\n",
       "      <td>10.296251</td>\n",
       "      <td>7.25</td>\n",
       "      <td>1.002663</td>\n",
       "      <td>1576.166671</td>\n",
       "      <td>-500.904965</td>\n",
       "      <td>1575.950626</td>\n",
       "      <td>-499.865889</td>\n",
       "      <td>1575.994189</td>\n",
       "      <td>...</td>\n",
       "      <td>11.950531</td>\n",
       "      <td>-501.331529</td>\n",
       "      <td>10.039245</td>\n",
       "      <td>-500.169983</td>\n",
       "      <td>7.984757</td>\n",
       "      <td>-500.582168</td>\n",
       "      <td>13.998353</td>\n",
       "      <td>-599.787184</td>\n",
       "      <td>69.266198</td>\n",
       "      <td>86.843261</td>\n",
       "    </tr>\n",
       "    <tr>\n",
       "      <th>2</th>\n",
       "      <td>2016-01-15 02:00:00</td>\n",
       "      <td>123.819808</td>\n",
       "      <td>11.316280</td>\n",
       "      <td>7.25</td>\n",
       "      <td>0.991265</td>\n",
       "      <td>1601.556163</td>\n",
       "      <td>-499.997791</td>\n",
       "      <td>1600.386685</td>\n",
       "      <td>-500.607762</td>\n",
       "      <td>1602.003542</td>\n",
       "      <td>...</td>\n",
       "      <td>11.912783</td>\n",
       "      <td>-501.133383</td>\n",
       "      <td>10.070913</td>\n",
       "      <td>-500.129135</td>\n",
       "      <td>8.013877</td>\n",
       "      <td>-500.517572</td>\n",
       "      <td>14.028663</td>\n",
       "      <td>-601.427363</td>\n",
       "      <td>68.116445</td>\n",
       "      <td>86.842308</td>\n",
       "    </tr>\n",
       "    <tr>\n",
       "      <th>3</th>\n",
       "      <td>2016-01-15 03:00:00</td>\n",
       "      <td>122.270188</td>\n",
       "      <td>11.322140</td>\n",
       "      <td>7.25</td>\n",
       "      <td>0.996739</td>\n",
       "      <td>1599.968720</td>\n",
       "      <td>-500.951778</td>\n",
       "      <td>1600.659236</td>\n",
       "      <td>-499.677094</td>\n",
       "      <td>1600.304144</td>\n",
       "      <td>...</td>\n",
       "      <td>11.999550</td>\n",
       "      <td>-501.193686</td>\n",
       "      <td>9.970366</td>\n",
       "      <td>-499.201640</td>\n",
       "      <td>7.977324</td>\n",
       "      <td>-500.255908</td>\n",
       "      <td>14.005551</td>\n",
       "      <td>-599.996129</td>\n",
       "      <td>68.347543</td>\n",
       "      <td>87.226430</td>\n",
       "    </tr>\n",
       "    <tr>\n",
       "      <th>4</th>\n",
       "      <td>2016-01-15 04:00:00</td>\n",
       "      <td>117.988169</td>\n",
       "      <td>11.913613</td>\n",
       "      <td>7.25</td>\n",
       "      <td>1.009869</td>\n",
       "      <td>1601.339707</td>\n",
       "      <td>-498.975456</td>\n",
       "      <td>1601.437854</td>\n",
       "      <td>-500.323246</td>\n",
       "      <td>1599.581894</td>\n",
       "      <td>...</td>\n",
       "      <td>11.953070</td>\n",
       "      <td>-501.053894</td>\n",
       "      <td>9.925709</td>\n",
       "      <td>-501.686727</td>\n",
       "      <td>7.894242</td>\n",
       "      <td>-500.356035</td>\n",
       "      <td>13.996647</td>\n",
       "      <td>-601.496691</td>\n",
       "      <td>66.927016</td>\n",
       "      <td>86.688794</td>\n",
       "    </tr>\n",
       "  </tbody>\n",
       "</table>\n",
       "<p>5 rows × 55 columns</p>\n",
       "</div>"
      ],
      "text/plain": [
       "                  date  primary_cleaner.input.sulfate  \\\n",
       "0  2016-01-15 00:00:00                     127.092003   \n",
       "1  2016-01-15 01:00:00                     125.629232   \n",
       "2  2016-01-15 02:00:00                     123.819808   \n",
       "3  2016-01-15 03:00:00                     122.270188   \n",
       "4  2016-01-15 04:00:00                     117.988169   \n",
       "\n",
       "   primary_cleaner.input.depressant  primary_cleaner.input.feed_size  \\\n",
       "0                         10.128295                             7.25   \n",
       "1                         10.296251                             7.25   \n",
       "2                         11.316280                             7.25   \n",
       "3                         11.322140                             7.25   \n",
       "4                         11.913613                             7.25   \n",
       "\n",
       "   primary_cleaner.input.xanthate  primary_cleaner.state.floatbank8_a_air  \\\n",
       "0                        0.988759                             1549.775757   \n",
       "1                        1.002663                             1576.166671   \n",
       "2                        0.991265                             1601.556163   \n",
       "3                        0.996739                             1599.968720   \n",
       "4                        1.009869                             1601.339707   \n",
       "\n",
       "   primary_cleaner.state.floatbank8_a_level  \\\n",
       "0                               -498.912140   \n",
       "1                               -500.904965   \n",
       "2                               -499.997791   \n",
       "3                               -500.951778   \n",
       "4                               -498.975456   \n",
       "\n",
       "   primary_cleaner.state.floatbank8_b_air  \\\n",
       "0                             1551.434204   \n",
       "1                             1575.950626   \n",
       "2                             1600.386685   \n",
       "3                             1600.659236   \n",
       "4                             1601.437854   \n",
       "\n",
       "   primary_cleaner.state.floatbank8_b_level  \\\n",
       "0                               -516.403442   \n",
       "1                               -499.865889   \n",
       "2                               -500.607762   \n",
       "3                               -499.677094   \n",
       "4                               -500.323246   \n",
       "\n",
       "   primary_cleaner.state.floatbank8_c_air  ...  \\\n",
       "0                             1549.873901  ...   \n",
       "1                             1575.994189  ...   \n",
       "2                             1602.003542  ...   \n",
       "3                             1600.304144  ...   \n",
       "4                             1599.581894  ...   \n",
       "\n",
       "   secondary_cleaner.state.floatbank4_b_air  \\\n",
       "0                                 12.099931   \n",
       "1                                 11.950531   \n",
       "2                                 11.912783   \n",
       "3                                 11.999550   \n",
       "4                                 11.953070   \n",
       "\n",
       "   secondary_cleaner.state.floatbank4_b_level  \\\n",
       "0                                 -504.715942   \n",
       "1                                 -501.331529   \n",
       "2                                 -501.133383   \n",
       "3                                 -501.193686   \n",
       "4                                 -501.053894   \n",
       "\n",
       "   secondary_cleaner.state.floatbank5_a_air  \\\n",
       "0                                  9.925633   \n",
       "1                                 10.039245   \n",
       "2                                 10.070913   \n",
       "3                                  9.970366   \n",
       "4                                  9.925709   \n",
       "\n",
       "   secondary_cleaner.state.floatbank5_a_level  \\\n",
       "0                                 -498.310211   \n",
       "1                                 -500.169983   \n",
       "2                                 -500.129135   \n",
       "3                                 -499.201640   \n",
       "4                                 -501.686727   \n",
       "\n",
       "   secondary_cleaner.state.floatbank5_b_air  \\\n",
       "0                                  8.079666   \n",
       "1                                  7.984757   \n",
       "2                                  8.013877   \n",
       "3                                  7.977324   \n",
       "4                                  7.894242   \n",
       "\n",
       "   secondary_cleaner.state.floatbank5_b_level  \\\n",
       "0                                 -500.470978   \n",
       "1                                 -500.582168   \n",
       "2                                 -500.517572   \n",
       "3                                 -500.255908   \n",
       "4                                 -500.356035   \n",
       "\n",
       "   secondary_cleaner.state.floatbank6_a_air  \\\n",
       "0                                 14.151341   \n",
       "1                                 13.998353   \n",
       "2                                 14.028663   \n",
       "3                                 14.005551   \n",
       "4                                 13.996647   \n",
       "\n",
       "   secondary_cleaner.state.floatbank6_a_level  final.output.recovery  \\\n",
       "0                                 -605.841980              70.541216   \n",
       "1                                 -599.787184              69.266198   \n",
       "2                                 -601.427363              68.116445   \n",
       "3                                 -599.996129              68.347543   \n",
       "4                                 -601.496691              66.927016   \n",
       "\n",
       "   rougher.output.recovery  \n",
       "0                87.107763  \n",
       "1                86.843261  \n",
       "2                86.842308  \n",
       "3                87.226430  \n",
       "4                86.688794  \n",
       "\n",
       "[5 rows x 55 columns]"
      ]
     },
     "execution_count": 33,
     "metadata": {},
     "output_type": "execute_result"
    }
   ],
   "source": [
    "# Убираем из обучающей выборки столбцы, отсутствующие в тестовой выборке\n",
    "train_df = train_df[test_df_1.columns]\n",
    "train_df.head()"
   ]
  },
  {
   "cell_type": "code",
   "execution_count": 34,
   "metadata": {},
   "outputs": [
    {
     "data": {
      "text/plain": [
       "date                                          0\n",
       "primary_cleaner.input.sulfate                 0\n",
       "primary_cleaner.input.depressant              0\n",
       "primary_cleaner.input.feed_size               0\n",
       "primary_cleaner.input.xanthate                0\n",
       "primary_cleaner.state.floatbank8_a_air        0\n",
       "primary_cleaner.state.floatbank8_a_level      0\n",
       "primary_cleaner.state.floatbank8_b_air        0\n",
       "primary_cleaner.state.floatbank8_b_level      0\n",
       "primary_cleaner.state.floatbank8_c_air        0\n",
       "primary_cleaner.state.floatbank8_c_level      0\n",
       "primary_cleaner.state.floatbank8_d_air        0\n",
       "primary_cleaner.state.floatbank8_d_level      0\n",
       "rougher.input.feed_ag                         0\n",
       "rougher.input.feed_pb                         0\n",
       "rougher.input.feed_rate                       0\n",
       "rougher.input.feed_size                       0\n",
       "rougher.input.feed_sol                        0\n",
       "rougher.input.feed_au                         0\n",
       "rougher.input.floatbank10_sulfate             0\n",
       "rougher.input.floatbank10_xanthate            0\n",
       "rougher.input.floatbank11_sulfate             0\n",
       "rougher.input.floatbank11_xanthate            0\n",
       "rougher.state.floatbank10_a_air               0\n",
       "rougher.state.floatbank10_a_level             0\n",
       "rougher.state.floatbank10_b_air               0\n",
       "rougher.state.floatbank10_b_level             0\n",
       "rougher.state.floatbank10_c_air               0\n",
       "rougher.state.floatbank10_c_level             0\n",
       "rougher.state.floatbank10_d_air               0\n",
       "rougher.state.floatbank10_d_level             0\n",
       "rougher.state.floatbank10_e_air               0\n",
       "rougher.state.floatbank10_e_level             0\n",
       "rougher.state.floatbank10_f_air               0\n",
       "rougher.state.floatbank10_f_level             0\n",
       "secondary_cleaner.state.floatbank2_a_air      0\n",
       "secondary_cleaner.state.floatbank2_a_level    0\n",
       "secondary_cleaner.state.floatbank2_b_air      0\n",
       "secondary_cleaner.state.floatbank2_b_level    0\n",
       "secondary_cleaner.state.floatbank3_a_air      0\n",
       "secondary_cleaner.state.floatbank3_a_level    0\n",
       "secondary_cleaner.state.floatbank3_b_air      0\n",
       "secondary_cleaner.state.floatbank3_b_level    0\n",
       "secondary_cleaner.state.floatbank4_a_air      0\n",
       "secondary_cleaner.state.floatbank4_a_level    0\n",
       "secondary_cleaner.state.floatbank4_b_air      0\n",
       "secondary_cleaner.state.floatbank4_b_level    0\n",
       "secondary_cleaner.state.floatbank5_a_air      0\n",
       "secondary_cleaner.state.floatbank5_a_level    0\n",
       "secondary_cleaner.state.floatbank5_b_air      0\n",
       "secondary_cleaner.state.floatbank5_b_level    0\n",
       "secondary_cleaner.state.floatbank6_a_air      0\n",
       "secondary_cleaner.state.floatbank6_a_level    0\n",
       "final.output.recovery                         0\n",
       "rougher.output.recovery                       0\n",
       "dtype: int64"
      ]
     },
     "execution_count": 34,
     "metadata": {},
     "output_type": "execute_result"
    }
   ],
   "source": [
    "# Заполняем пропущенные значения у нецелевых признаков. \n",
    "test_df_1 = test_df_1.dropna()\n",
    "test_df_1.isna().sum()"
   ]
  },
  {
   "cell_type": "code",
   "execution_count": 35,
   "metadata": {},
   "outputs": [
    {
     "data": {
      "text/plain": [
       "date                                          0\n",
       "primary_cleaner.input.sulfate                 0\n",
       "primary_cleaner.input.depressant              0\n",
       "primary_cleaner.input.feed_size               0\n",
       "primary_cleaner.input.xanthate                0\n",
       "primary_cleaner.state.floatbank8_a_air        0\n",
       "primary_cleaner.state.floatbank8_a_level      0\n",
       "primary_cleaner.state.floatbank8_b_air        0\n",
       "primary_cleaner.state.floatbank8_b_level      0\n",
       "primary_cleaner.state.floatbank8_c_air        0\n",
       "primary_cleaner.state.floatbank8_c_level      0\n",
       "primary_cleaner.state.floatbank8_d_air        0\n",
       "primary_cleaner.state.floatbank8_d_level      0\n",
       "rougher.input.feed_ag                         0\n",
       "rougher.input.feed_pb                         0\n",
       "rougher.input.feed_rate                       0\n",
       "rougher.input.feed_size                       0\n",
       "rougher.input.feed_sol                        0\n",
       "rougher.input.feed_au                         0\n",
       "rougher.input.floatbank10_sulfate             0\n",
       "rougher.input.floatbank10_xanthate            0\n",
       "rougher.input.floatbank11_sulfate             0\n",
       "rougher.input.floatbank11_xanthate            0\n",
       "rougher.state.floatbank10_a_air               0\n",
       "rougher.state.floatbank10_a_level             0\n",
       "rougher.state.floatbank10_b_air               0\n",
       "rougher.state.floatbank10_b_level             0\n",
       "rougher.state.floatbank10_c_air               0\n",
       "rougher.state.floatbank10_c_level             0\n",
       "rougher.state.floatbank10_d_air               0\n",
       "rougher.state.floatbank10_d_level             0\n",
       "rougher.state.floatbank10_e_air               0\n",
       "rougher.state.floatbank10_e_level             0\n",
       "rougher.state.floatbank10_f_air               0\n",
       "rougher.state.floatbank10_f_level             0\n",
       "secondary_cleaner.state.floatbank2_a_air      0\n",
       "secondary_cleaner.state.floatbank2_a_level    0\n",
       "secondary_cleaner.state.floatbank2_b_air      0\n",
       "secondary_cleaner.state.floatbank2_b_level    0\n",
       "secondary_cleaner.state.floatbank3_a_air      0\n",
       "secondary_cleaner.state.floatbank3_a_level    0\n",
       "secondary_cleaner.state.floatbank3_b_air      0\n",
       "secondary_cleaner.state.floatbank3_b_level    0\n",
       "secondary_cleaner.state.floatbank4_a_air      0\n",
       "secondary_cleaner.state.floatbank4_a_level    0\n",
       "secondary_cleaner.state.floatbank4_b_air      0\n",
       "secondary_cleaner.state.floatbank4_b_level    0\n",
       "secondary_cleaner.state.floatbank5_a_air      0\n",
       "secondary_cleaner.state.floatbank5_a_level    0\n",
       "secondary_cleaner.state.floatbank5_b_air      0\n",
       "secondary_cleaner.state.floatbank5_b_level    0\n",
       "secondary_cleaner.state.floatbank6_a_air      0\n",
       "secondary_cleaner.state.floatbank6_a_level    0\n",
       "final.output.recovery                         0\n",
       "rougher.output.recovery                       0\n",
       "dtype: int64"
      ]
     },
     "execution_count": 35,
     "metadata": {},
     "output_type": "execute_result"
    }
   ],
   "source": [
    "train_df = train_df.dropna()\n",
    "train_df.isna().sum()"
   ]
  },
  {
   "cell_type": "code",
   "execution_count": 36,
   "metadata": {},
   "outputs": [
    {
     "data": {
      "text/plain": [
       "date                                          0\n",
       "final.output.concentrate_ag                   0\n",
       "final.output.concentrate_pb                   0\n",
       "final.output.concentrate_sol                  0\n",
       "final.output.concentrate_au                   0\n",
       "                                             ..\n",
       "secondary_cleaner.state.floatbank5_a_level    0\n",
       "secondary_cleaner.state.floatbank5_b_air      0\n",
       "secondary_cleaner.state.floatbank5_b_level    0\n",
       "secondary_cleaner.state.floatbank6_a_air      0\n",
       "secondary_cleaner.state.floatbank6_a_level    0\n",
       "Length: 87, dtype: int64"
      ]
     },
     "execution_count": 36,
     "metadata": {},
     "output_type": "execute_result"
    }
   ],
   "source": [
    "full_df = full_df.dropna()\n",
    "full_df.isna().sum()"
   ]
  },
  {
   "cell_type": "code",
   "execution_count": 37,
   "metadata": {},
   "outputs": [
    {
     "data": {
      "text/plain": [
       "date                                          0\n",
       "secondary_cleaner.state.floatbank3_b_air      0\n",
       "rougher.state.floatbank10_d_level             0\n",
       "rougher.state.floatbank10_e_air               0\n",
       "rougher.state.floatbank10_e_level             0\n",
       "rougher.state.floatbank10_f_air               0\n",
       "rougher.state.floatbank10_f_level             0\n",
       "secondary_cleaner.state.floatbank2_a_air      0\n",
       "secondary_cleaner.state.floatbank2_a_level    0\n",
       "secondary_cleaner.state.floatbank2_b_air      0\n",
       "secondary_cleaner.state.floatbank2_b_level    0\n",
       "secondary_cleaner.state.floatbank3_a_air      0\n",
       "secondary_cleaner.state.floatbank3_a_level    0\n",
       "secondary_cleaner.state.floatbank3_b_level    0\n",
       "rougher.state.floatbank10_c_level             0\n",
       "secondary_cleaner.state.floatbank4_a_air      0\n",
       "secondary_cleaner.state.floatbank4_a_level    0\n",
       "secondary_cleaner.state.floatbank4_b_air      0\n",
       "secondary_cleaner.state.floatbank4_b_level    0\n",
       "secondary_cleaner.state.floatbank5_a_air      0\n",
       "secondary_cleaner.state.floatbank5_a_level    0\n",
       "secondary_cleaner.state.floatbank5_b_air      0\n",
       "secondary_cleaner.state.floatbank5_b_level    0\n",
       "secondary_cleaner.state.floatbank6_a_air      0\n",
       "secondary_cleaner.state.floatbank6_a_level    0\n",
       "final.output.recovery                         0\n",
       "rougher.state.floatbank10_d_air               0\n",
       "rougher.state.floatbank10_c_air               0\n",
       "primary_cleaner.input.sulfate                 0\n",
       "rougher.input.feed_ag                         0\n",
       "primary_cleaner.input.depressant              0\n",
       "primary_cleaner.input.feed_size               0\n",
       "primary_cleaner.input.xanthate                0\n",
       "primary_cleaner.state.floatbank8_a_air        0\n",
       "primary_cleaner.state.floatbank8_a_level      0\n",
       "primary_cleaner.state.floatbank8_b_air        0\n",
       "primary_cleaner.state.floatbank8_b_level      0\n",
       "primary_cleaner.state.floatbank8_c_air        0\n",
       "primary_cleaner.state.floatbank8_c_level      0\n",
       "primary_cleaner.state.floatbank8_d_air        0\n",
       "primary_cleaner.state.floatbank8_d_level      0\n",
       "rougher.input.feed_pb                         0\n",
       "rougher.state.floatbank10_b_level             0\n",
       "rougher.input.feed_rate                       0\n",
       "rougher.input.feed_size                       0\n",
       "rougher.input.feed_sol                        0\n",
       "rougher.input.feed_au                         0\n",
       "rougher.input.floatbank10_sulfate             0\n",
       "rougher.input.floatbank10_xanthate            0\n",
       "rougher.input.floatbank11_sulfate             0\n",
       "rougher.input.floatbank11_xanthate            0\n",
       "rougher.state.floatbank10_a_air               0\n",
       "rougher.state.floatbank10_a_level             0\n",
       "rougher.state.floatbank10_b_air               0\n",
       "rougher.output.recovery                       0\n",
       "dtype: int64"
      ]
     },
     "execution_count": 37,
     "metadata": {},
     "output_type": "execute_result"
    }
   ],
   "source": [
    "train_df.isna().sum().sort_values(ascending=False)"
   ]
  },
  {
   "cell_type": "code",
   "execution_count": 38,
   "metadata": {},
   "outputs": [
    {
     "data": {
      "text/plain": [
       "date                                          0\n",
       "secondary_cleaner.state.floatbank3_b_air      0\n",
       "rougher.state.floatbank10_d_level             0\n",
       "rougher.state.floatbank10_e_air               0\n",
       "rougher.state.floatbank10_e_level             0\n",
       "rougher.state.floatbank10_f_air               0\n",
       "rougher.state.floatbank10_f_level             0\n",
       "secondary_cleaner.state.floatbank2_a_air      0\n",
       "secondary_cleaner.state.floatbank2_a_level    0\n",
       "secondary_cleaner.state.floatbank2_b_air      0\n",
       "secondary_cleaner.state.floatbank2_b_level    0\n",
       "secondary_cleaner.state.floatbank3_a_air      0\n",
       "secondary_cleaner.state.floatbank3_a_level    0\n",
       "secondary_cleaner.state.floatbank3_b_level    0\n",
       "rougher.state.floatbank10_c_level             0\n",
       "secondary_cleaner.state.floatbank4_a_air      0\n",
       "secondary_cleaner.state.floatbank4_a_level    0\n",
       "secondary_cleaner.state.floatbank4_b_air      0\n",
       "secondary_cleaner.state.floatbank4_b_level    0\n",
       "secondary_cleaner.state.floatbank5_a_air      0\n",
       "secondary_cleaner.state.floatbank5_a_level    0\n",
       "secondary_cleaner.state.floatbank5_b_air      0\n",
       "secondary_cleaner.state.floatbank5_b_level    0\n",
       "secondary_cleaner.state.floatbank6_a_air      0\n",
       "secondary_cleaner.state.floatbank6_a_level    0\n",
       "final.output.recovery                         0\n",
       "rougher.state.floatbank10_d_air               0\n",
       "rougher.state.floatbank10_c_air               0\n",
       "primary_cleaner.input.sulfate                 0\n",
       "rougher.input.feed_ag                         0\n",
       "primary_cleaner.input.depressant              0\n",
       "primary_cleaner.input.feed_size               0\n",
       "primary_cleaner.input.xanthate                0\n",
       "primary_cleaner.state.floatbank8_a_air        0\n",
       "primary_cleaner.state.floatbank8_a_level      0\n",
       "primary_cleaner.state.floatbank8_b_air        0\n",
       "primary_cleaner.state.floatbank8_b_level      0\n",
       "primary_cleaner.state.floatbank8_c_air        0\n",
       "primary_cleaner.state.floatbank8_c_level      0\n",
       "primary_cleaner.state.floatbank8_d_air        0\n",
       "primary_cleaner.state.floatbank8_d_level      0\n",
       "rougher.input.feed_pb                         0\n",
       "rougher.state.floatbank10_b_level             0\n",
       "rougher.input.feed_rate                       0\n",
       "rougher.input.feed_size                       0\n",
       "rougher.input.feed_sol                        0\n",
       "rougher.input.feed_au                         0\n",
       "rougher.input.floatbank10_sulfate             0\n",
       "rougher.input.floatbank10_xanthate            0\n",
       "rougher.input.floatbank11_sulfate             0\n",
       "rougher.input.floatbank11_xanthate            0\n",
       "rougher.state.floatbank10_a_air               0\n",
       "rougher.state.floatbank10_a_level             0\n",
       "rougher.state.floatbank10_b_air               0\n",
       "rougher.output.recovery                       0\n",
       "dtype: int64"
      ]
     },
     "execution_count": 38,
     "metadata": {},
     "output_type": "execute_result"
    }
   ],
   "source": [
    "test_df_1.isna().sum().sort_values(ascending=False)"
   ]
  },
  {
   "cell_type": "code",
   "execution_count": 39,
   "metadata": {},
   "outputs": [
    {
     "data": {
      "text/plain": [
       "date                                          0\n",
       "rougher.state.floatbank10_b_air               0\n",
       "rougher.state.floatbank10_f_air               0\n",
       "rougher.state.floatbank10_e_level             0\n",
       "rougher.state.floatbank10_e_air               0\n",
       "                                             ..\n",
       "primary_cleaner.state.floatbank8_c_level      0\n",
       "primary_cleaner.state.floatbank8_c_air        0\n",
       "primary_cleaner.state.floatbank8_b_level      0\n",
       "primary_cleaner.state.floatbank8_b_air        0\n",
       "secondary_cleaner.state.floatbank6_a_level    0\n",
       "Length: 87, dtype: int64"
      ]
     },
     "execution_count": 39,
     "metadata": {},
     "output_type": "execute_result"
    }
   ],
   "source": [
    "full_df.isna().sum().sort_values(ascending=False)"
   ]
  },
  {
   "cell_type": "markdown",
   "metadata": {},
   "source": [
    "###### Вывод"
   ]
  },
  {
   "cell_type": "markdown",
   "metadata": {},
   "source": [
    "- Была проведена формула вычисления эффективности обогащения.\n",
    "- Было проанализированы признаки, недоступные в тестовой выборке\n",
    "- Была провели предобработку данных:\n",
    "- В тестовую выборку я добавил столбцы с целевыми признаками;\n",
    "- В обучающей выборке я удалил столбцы, которых не было в тестовой выборке;\n",
    "- Во всех трех наборах данных мы заполнили пропущенные значения у нецелевых признаков с помощью метода \"ffill\", так как присутствует сортировка по времени"
   ]
  },
  {
   "cell_type": "markdown",
   "metadata": {},
   "source": [
    "## Анализ данных"
   ]
  },
  {
   "cell_type": "markdown",
   "metadata": {},
   "source": [
    "### Посмотрите, как меняется концентрация металлов (Au, Ag, Pb) на различных этапах очистки. Опишите выводы."
   ]
  },
  {
   "cell_type": "code",
   "execution_count": 40,
   "metadata": {},
   "outputs": [
    {
     "data": {
      "text/html": [
       "<div>\n",
       "<style scoped>\n",
       "    .dataframe tbody tr th:only-of-type {\n",
       "        vertical-align: middle;\n",
       "    }\n",
       "\n",
       "    .dataframe tbody tr th {\n",
       "        vertical-align: top;\n",
       "    }\n",
       "\n",
       "    .dataframe thead th {\n",
       "        text-align: right;\n",
       "    }\n",
       "</style>\n",
       "<table border=\"1\" class=\"dataframe\">\n",
       "  <thead>\n",
       "    <tr style=\"text-align: right;\">\n",
       "      <th></th>\n",
       "      <th>date</th>\n",
       "      <th>final.output.concentrate_ag</th>\n",
       "      <th>final.output.concentrate_pb</th>\n",
       "      <th>final.output.concentrate_sol</th>\n",
       "      <th>final.output.concentrate_au</th>\n",
       "      <th>final.output.recovery</th>\n",
       "      <th>final.output.tail_ag</th>\n",
       "      <th>final.output.tail_pb</th>\n",
       "      <th>final.output.tail_sol</th>\n",
       "      <th>final.output.tail_au</th>\n",
       "      <th>...</th>\n",
       "      <th>secondary_cleaner.state.floatbank4_a_air</th>\n",
       "      <th>secondary_cleaner.state.floatbank4_a_level</th>\n",
       "      <th>secondary_cleaner.state.floatbank4_b_air</th>\n",
       "      <th>secondary_cleaner.state.floatbank4_b_level</th>\n",
       "      <th>secondary_cleaner.state.floatbank5_a_air</th>\n",
       "      <th>secondary_cleaner.state.floatbank5_a_level</th>\n",
       "      <th>secondary_cleaner.state.floatbank5_b_air</th>\n",
       "      <th>secondary_cleaner.state.floatbank5_b_level</th>\n",
       "      <th>secondary_cleaner.state.floatbank6_a_air</th>\n",
       "      <th>secondary_cleaner.state.floatbank6_a_level</th>\n",
       "    </tr>\n",
       "  </thead>\n",
       "  <tbody>\n",
       "    <tr>\n",
       "      <th>0</th>\n",
       "      <td>2016-01-15 00:00:00</td>\n",
       "      <td>6.055403</td>\n",
       "      <td>9.889648</td>\n",
       "      <td>5.507324</td>\n",
       "      <td>42.192020</td>\n",
       "      <td>70.541216</td>\n",
       "      <td>10.411962</td>\n",
       "      <td>0.895447</td>\n",
       "      <td>16.904297</td>\n",
       "      <td>2.143149</td>\n",
       "      <td>...</td>\n",
       "      <td>14.016835</td>\n",
       "      <td>-502.488007</td>\n",
       "      <td>12.099931</td>\n",
       "      <td>-504.715942</td>\n",
       "      <td>9.925633</td>\n",
       "      <td>-498.310211</td>\n",
       "      <td>8.079666</td>\n",
       "      <td>-500.470978</td>\n",
       "      <td>14.151341</td>\n",
       "      <td>-605.841980</td>\n",
       "    </tr>\n",
       "    <tr>\n",
       "      <th>1</th>\n",
       "      <td>2016-01-15 01:00:00</td>\n",
       "      <td>6.029369</td>\n",
       "      <td>9.968944</td>\n",
       "      <td>5.257781</td>\n",
       "      <td>42.701629</td>\n",
       "      <td>69.266198</td>\n",
       "      <td>10.462676</td>\n",
       "      <td>0.927452</td>\n",
       "      <td>16.634514</td>\n",
       "      <td>2.224930</td>\n",
       "      <td>...</td>\n",
       "      <td>13.992281</td>\n",
       "      <td>-505.503262</td>\n",
       "      <td>11.950531</td>\n",
       "      <td>-501.331529</td>\n",
       "      <td>10.039245</td>\n",
       "      <td>-500.169983</td>\n",
       "      <td>7.984757</td>\n",
       "      <td>-500.582168</td>\n",
       "      <td>13.998353</td>\n",
       "      <td>-599.787184</td>\n",
       "    </tr>\n",
       "    <tr>\n",
       "      <th>2</th>\n",
       "      <td>2016-01-15 02:00:00</td>\n",
       "      <td>6.055926</td>\n",
       "      <td>10.213995</td>\n",
       "      <td>5.383759</td>\n",
       "      <td>42.657501</td>\n",
       "      <td>68.116445</td>\n",
       "      <td>10.507046</td>\n",
       "      <td>0.953716</td>\n",
       "      <td>16.208849</td>\n",
       "      <td>2.257889</td>\n",
       "      <td>...</td>\n",
       "      <td>14.015015</td>\n",
       "      <td>-502.520901</td>\n",
       "      <td>11.912783</td>\n",
       "      <td>-501.133383</td>\n",
       "      <td>10.070913</td>\n",
       "      <td>-500.129135</td>\n",
       "      <td>8.013877</td>\n",
       "      <td>-500.517572</td>\n",
       "      <td>14.028663</td>\n",
       "      <td>-601.427363</td>\n",
       "    </tr>\n",
       "    <tr>\n",
       "      <th>3</th>\n",
       "      <td>2016-01-15 03:00:00</td>\n",
       "      <td>6.047977</td>\n",
       "      <td>9.977019</td>\n",
       "      <td>4.858634</td>\n",
       "      <td>42.689819</td>\n",
       "      <td>68.347543</td>\n",
       "      <td>10.422762</td>\n",
       "      <td>0.883763</td>\n",
       "      <td>16.532835</td>\n",
       "      <td>2.146849</td>\n",
       "      <td>...</td>\n",
       "      <td>14.036510</td>\n",
       "      <td>-500.857308</td>\n",
       "      <td>11.999550</td>\n",
       "      <td>-501.193686</td>\n",
       "      <td>9.970366</td>\n",
       "      <td>-499.201640</td>\n",
       "      <td>7.977324</td>\n",
       "      <td>-500.255908</td>\n",
       "      <td>14.005551</td>\n",
       "      <td>-599.996129</td>\n",
       "    </tr>\n",
       "    <tr>\n",
       "      <th>4</th>\n",
       "      <td>2016-01-15 04:00:00</td>\n",
       "      <td>6.148599</td>\n",
       "      <td>10.142511</td>\n",
       "      <td>4.939416</td>\n",
       "      <td>42.774141</td>\n",
       "      <td>66.927016</td>\n",
       "      <td>10.360302</td>\n",
       "      <td>0.792826</td>\n",
       "      <td>16.525686</td>\n",
       "      <td>2.055292</td>\n",
       "      <td>...</td>\n",
       "      <td>14.027298</td>\n",
       "      <td>-499.838632</td>\n",
       "      <td>11.953070</td>\n",
       "      <td>-501.053894</td>\n",
       "      <td>9.925709</td>\n",
       "      <td>-501.686727</td>\n",
       "      <td>7.894242</td>\n",
       "      <td>-500.356035</td>\n",
       "      <td>13.996647</td>\n",
       "      <td>-601.496691</td>\n",
       "    </tr>\n",
       "  </tbody>\n",
       "</table>\n",
       "<p>5 rows × 87 columns</p>\n",
       "</div>"
      ],
      "text/plain": [
       "                  date  final.output.concentrate_ag  \\\n",
       "0  2016-01-15 00:00:00                     6.055403   \n",
       "1  2016-01-15 01:00:00                     6.029369   \n",
       "2  2016-01-15 02:00:00                     6.055926   \n",
       "3  2016-01-15 03:00:00                     6.047977   \n",
       "4  2016-01-15 04:00:00                     6.148599   \n",
       "\n",
       "   final.output.concentrate_pb  final.output.concentrate_sol  \\\n",
       "0                     9.889648                      5.507324   \n",
       "1                     9.968944                      5.257781   \n",
       "2                    10.213995                      5.383759   \n",
       "3                     9.977019                      4.858634   \n",
       "4                    10.142511                      4.939416   \n",
       "\n",
       "   final.output.concentrate_au  final.output.recovery  final.output.tail_ag  \\\n",
       "0                    42.192020              70.541216             10.411962   \n",
       "1                    42.701629              69.266198             10.462676   \n",
       "2                    42.657501              68.116445             10.507046   \n",
       "3                    42.689819              68.347543             10.422762   \n",
       "4                    42.774141              66.927016             10.360302   \n",
       "\n",
       "   final.output.tail_pb  final.output.tail_sol  final.output.tail_au  ...  \\\n",
       "0              0.895447              16.904297              2.143149  ...   \n",
       "1              0.927452              16.634514              2.224930  ...   \n",
       "2              0.953716              16.208849              2.257889  ...   \n",
       "3              0.883763              16.532835              2.146849  ...   \n",
       "4              0.792826              16.525686              2.055292  ...   \n",
       "\n",
       "   secondary_cleaner.state.floatbank4_a_air  \\\n",
       "0                                 14.016835   \n",
       "1                                 13.992281   \n",
       "2                                 14.015015   \n",
       "3                                 14.036510   \n",
       "4                                 14.027298   \n",
       "\n",
       "   secondary_cleaner.state.floatbank4_a_level  \\\n",
       "0                                 -502.488007   \n",
       "1                                 -505.503262   \n",
       "2                                 -502.520901   \n",
       "3                                 -500.857308   \n",
       "4                                 -499.838632   \n",
       "\n",
       "   secondary_cleaner.state.floatbank4_b_air  \\\n",
       "0                                 12.099931   \n",
       "1                                 11.950531   \n",
       "2                                 11.912783   \n",
       "3                                 11.999550   \n",
       "4                                 11.953070   \n",
       "\n",
       "   secondary_cleaner.state.floatbank4_b_level  \\\n",
       "0                                 -504.715942   \n",
       "1                                 -501.331529   \n",
       "2                                 -501.133383   \n",
       "3                                 -501.193686   \n",
       "4                                 -501.053894   \n",
       "\n",
       "   secondary_cleaner.state.floatbank5_a_air  \\\n",
       "0                                  9.925633   \n",
       "1                                 10.039245   \n",
       "2                                 10.070913   \n",
       "3                                  9.970366   \n",
       "4                                  9.925709   \n",
       "\n",
       "   secondary_cleaner.state.floatbank5_a_level  \\\n",
       "0                                 -498.310211   \n",
       "1                                 -500.169983   \n",
       "2                                 -500.129135   \n",
       "3                                 -499.201640   \n",
       "4                                 -501.686727   \n",
       "\n",
       "   secondary_cleaner.state.floatbank5_b_air  \\\n",
       "0                                  8.079666   \n",
       "1                                  7.984757   \n",
       "2                                  8.013877   \n",
       "3                                  7.977324   \n",
       "4                                  7.894242   \n",
       "\n",
       "   secondary_cleaner.state.floatbank5_b_level  \\\n",
       "0                                 -500.470978   \n",
       "1                                 -500.582168   \n",
       "2                                 -500.517572   \n",
       "3                                 -500.255908   \n",
       "4                                 -500.356035   \n",
       "\n",
       "   secondary_cleaner.state.floatbank6_a_air  \\\n",
       "0                                 14.151341   \n",
       "1                                 13.998353   \n",
       "2                                 14.028663   \n",
       "3                                 14.005551   \n",
       "4                                 13.996647   \n",
       "\n",
       "   secondary_cleaner.state.floatbank6_a_level  \n",
       "0                                 -605.841980  \n",
       "1                                 -599.787184  \n",
       "2                                 -601.427363  \n",
       "3                                 -599.996129  \n",
       "4                                 -601.496691  \n",
       "\n",
       "[5 rows x 87 columns]"
      ]
     },
     "execution_count": 40,
     "metadata": {},
     "output_type": "execute_result"
    }
   ],
   "source": [
    "full_df.head()"
   ]
  },
  {
   "cell_type": "code",
   "execution_count": 41,
   "metadata": {},
   "outputs": [],
   "source": [
    "period = ['rougher.input.feed_ag', \n",
    "           'rougher.input.feed_pb', \n",
    "           'rougher.input.feed_au', \n",
    "           'rougher.output.concentrate_ag', \n",
    "           'rougher.output.concentrate_pb', \n",
    "           'rougher.output.concentrate_au', \n",
    "           'primary_cleaner.output.concentrate_ag', \n",
    "           'primary_cleaner.output.concentrate_pb', \n",
    "           'primary_cleaner.output.concentrate_au', \n",
    "           'final.output.concentrate_ag', \n",
    "           'final.output.concentrate_pb', \n",
    "           'final.output.concentrate_au'\n",
    "         ]"
   ]
  },
  {
   "cell_type": "code",
   "execution_count": 42,
   "metadata": {},
   "outputs": [],
   "source": [
    "metals = full_df[period]"
   ]
  },
  {
   "cell_type": "code",
   "execution_count": 43,
   "metadata": {},
   "outputs": [
    {
     "data": {
      "text/plain": [
       "(16094, 12)"
      ]
     },
     "execution_count": 43,
     "metadata": {},
     "output_type": "execute_result"
    }
   ],
   "source": [
    "metals.shape"
   ]
  },
  {
   "cell_type": "code",
   "execution_count": 44,
   "metadata": {},
   "outputs": [
    {
     "data": {
      "text/html": [
       "<div>\n",
       "<style scoped>\n",
       "    .dataframe tbody tr th:only-of-type {\n",
       "        vertical-align: middle;\n",
       "    }\n",
       "\n",
       "    .dataframe tbody tr th {\n",
       "        vertical-align: top;\n",
       "    }\n",
       "\n",
       "    .dataframe thead th {\n",
       "        text-align: right;\n",
       "    }\n",
       "</style>\n",
       "<table border=\"1\" class=\"dataframe\">\n",
       "  <thead>\n",
       "    <tr style=\"text-align: right;\">\n",
       "      <th></th>\n",
       "      <th>rougher.input.feed_ag</th>\n",
       "      <th>rougher.input.feed_pb</th>\n",
       "      <th>rougher.input.feed_au</th>\n",
       "      <th>rougher.output.concentrate_ag</th>\n",
       "      <th>rougher.output.concentrate_pb</th>\n",
       "      <th>rougher.output.concentrate_au</th>\n",
       "      <th>primary_cleaner.output.concentrate_ag</th>\n",
       "      <th>primary_cleaner.output.concentrate_pb</th>\n",
       "      <th>primary_cleaner.output.concentrate_au</th>\n",
       "      <th>final.output.concentrate_ag</th>\n",
       "      <th>final.output.concentrate_pb</th>\n",
       "      <th>final.output.concentrate_au</th>\n",
       "    </tr>\n",
       "  </thead>\n",
       "  <tbody>\n",
       "    <tr>\n",
       "      <th>0</th>\n",
       "      <td>6.100378</td>\n",
       "      <td>2.284912</td>\n",
       "      <td>6.486150</td>\n",
       "      <td>11.500771</td>\n",
       "      <td>7.101074</td>\n",
       "      <td>19.793808</td>\n",
       "      <td>8.547551</td>\n",
       "      <td>10.389648</td>\n",
       "      <td>34.174427</td>\n",
       "      <td>6.055403</td>\n",
       "      <td>9.889648</td>\n",
       "      <td>42.192020</td>\n",
       "    </tr>\n",
       "    <tr>\n",
       "      <th>1</th>\n",
       "      <td>6.161113</td>\n",
       "      <td>2.266033</td>\n",
       "      <td>6.478583</td>\n",
       "      <td>11.615865</td>\n",
       "      <td>7.278807</td>\n",
       "      <td>20.050975</td>\n",
       "      <td>8.558743</td>\n",
       "      <td>10.497069</td>\n",
       "      <td>34.118526</td>\n",
       "      <td>6.029369</td>\n",
       "      <td>9.968944</td>\n",
       "      <td>42.701629</td>\n",
       "    </tr>\n",
       "    <tr>\n",
       "      <th>2</th>\n",
       "      <td>6.116455</td>\n",
       "      <td>2.159622</td>\n",
       "      <td>6.362222</td>\n",
       "      <td>11.695753</td>\n",
       "      <td>7.216833</td>\n",
       "      <td>19.737170</td>\n",
       "      <td>8.603505</td>\n",
       "      <td>10.354494</td>\n",
       "      <td>33.969464</td>\n",
       "      <td>6.055926</td>\n",
       "      <td>10.213995</td>\n",
       "      <td>42.657501</td>\n",
       "    </tr>\n",
       "    <tr>\n",
       "      <th>3</th>\n",
       "      <td>6.043309</td>\n",
       "      <td>2.037807</td>\n",
       "      <td>6.118189</td>\n",
       "      <td>11.915047</td>\n",
       "      <td>7.175616</td>\n",
       "      <td>19.320810</td>\n",
       "      <td>7.221879</td>\n",
       "      <td>8.496563</td>\n",
       "      <td>28.260743</td>\n",
       "      <td>6.047977</td>\n",
       "      <td>9.977019</td>\n",
       "      <td>42.689819</td>\n",
       "    </tr>\n",
       "    <tr>\n",
       "      <th>4</th>\n",
       "      <td>6.060915</td>\n",
       "      <td>1.786875</td>\n",
       "      <td>5.663707</td>\n",
       "      <td>12.411054</td>\n",
       "      <td>7.240205</td>\n",
       "      <td>19.216101</td>\n",
       "      <td>9.089428</td>\n",
       "      <td>9.986786</td>\n",
       "      <td>33.044932</td>\n",
       "      <td>6.148599</td>\n",
       "      <td>10.142511</td>\n",
       "      <td>42.774141</td>\n",
       "    </tr>\n",
       "  </tbody>\n",
       "</table>\n",
       "</div>"
      ],
      "text/plain": [
       "   rougher.input.feed_ag  rougher.input.feed_pb  rougher.input.feed_au  \\\n",
       "0               6.100378               2.284912               6.486150   \n",
       "1               6.161113               2.266033               6.478583   \n",
       "2               6.116455               2.159622               6.362222   \n",
       "3               6.043309               2.037807               6.118189   \n",
       "4               6.060915               1.786875               5.663707   \n",
       "\n",
       "   rougher.output.concentrate_ag  rougher.output.concentrate_pb  \\\n",
       "0                      11.500771                       7.101074   \n",
       "1                      11.615865                       7.278807   \n",
       "2                      11.695753                       7.216833   \n",
       "3                      11.915047                       7.175616   \n",
       "4                      12.411054                       7.240205   \n",
       "\n",
       "   rougher.output.concentrate_au  primary_cleaner.output.concentrate_ag  \\\n",
       "0                      19.793808                               8.547551   \n",
       "1                      20.050975                               8.558743   \n",
       "2                      19.737170                               8.603505   \n",
       "3                      19.320810                               7.221879   \n",
       "4                      19.216101                               9.089428   \n",
       "\n",
       "   primary_cleaner.output.concentrate_pb  \\\n",
       "0                              10.389648   \n",
       "1                              10.497069   \n",
       "2                              10.354494   \n",
       "3                               8.496563   \n",
       "4                               9.986786   \n",
       "\n",
       "   primary_cleaner.output.concentrate_au  final.output.concentrate_ag  \\\n",
       "0                              34.174427                     6.055403   \n",
       "1                              34.118526                     6.029369   \n",
       "2                              33.969464                     6.055926   \n",
       "3                              28.260743                     6.047977   \n",
       "4                              33.044932                     6.148599   \n",
       "\n",
       "   final.output.concentrate_pb  final.output.concentrate_au  \n",
       "0                     9.889648                    42.192020  \n",
       "1                     9.968944                    42.701629  \n",
       "2                    10.213995                    42.657501  \n",
       "3                     9.977019                    42.689819  \n",
       "4                    10.142511                    42.774141  "
      ]
     },
     "execution_count": 44,
     "metadata": {},
     "output_type": "execute_result"
    }
   ],
   "source": [
    "metals.head()"
   ]
  },
  {
   "cell_type": "code",
   "execution_count": 45,
   "metadata": {},
   "outputs": [],
   "source": [
    "# Напишем функцию для подсчета на каждом этапе золота, серебра и свинца\n",
    "def concentrations(data, metal):\n",
    "    if metal == 'ag':\n",
    "        t_metal = 'серебра'\n",
    "    elif metal == 'pb':\n",
    "        t_metal = 'свинца'\n",
    "    elif metal == 'au':\n",
    "        t_metal = 'золота'\n",
    "    print(f'Средняя концентрация {t_metal}:')\n",
    "    print(f'\\tисходного сырья = {data[f\"rougher.input.feed_{metal}\"].mean()}')\n",
    "    print(f'\\tпосле флотации = {data[f\"rougher.output.concentrate_{metal}\"].mean()}')\n",
    "    print(f'\\tпосле первичного этапа очистки = {data[f\"primary_cleaner.output.concentrate_{metal}\"].mean()}')\n",
    "    print(f'\\tв финальном концентрате = {data[f\"final.output.concentrate_{metal}\"].mean()}')"
   ]
  },
  {
   "cell_type": "code",
   "execution_count": 46,
   "metadata": {},
   "outputs": [
    {
     "name": "stdout",
     "output_type": "stream",
     "text": [
      "Средняя концентрация серебра:\n",
      "\tисходного сырья = 8.985280730057909\n",
      "\tпосле флотации = 12.084944858379451\n",
      "\tпосле первичного этапа очистки = 8.674852987693988\n",
      "\tв финальном концентрате = 5.190975683404247\n",
      "Средняя концентрация свинца:\n",
      "\tисходного сырья = 3.6366213175766076\n",
      "\tпосле флотации = 7.553095191381346\n",
      "\tпосле первичного этапа очистки = 9.884018203488715\n",
      "\tв финальном концентрате = 9.997593468101922\n",
      "Средняя концентрация золота:\n",
      "\tисходного сырья = 8.516990259152191\n",
      "\tпосле флотации = 20.05215197989563\n",
      "\tпосле первичного этапа очистки = 32.06555911061983\n",
      "\tв финальном концентрате = 44.30743739837964\n"
     ]
    }
   ],
   "source": [
    "for metal in ('ag', 'pb', 'au'):\n",
    "    concentrations(metals, metal)"
   ]
  },
  {
   "cell_type": "markdown",
   "metadata": {},
   "source": [
    "###### Вывод"
   ]
  },
  {
   "cell_type": "markdown",
   "metadata": {},
   "source": [
    "###### Серебро\n",
    "- Концентрация серебра повышается после флотации, затем идет снижение и в финальном концентрате ее становиться меньше, исходного сырья\n",
    "- Концентрация свинца повышается после флотации, с каждым этапом обработки концентрация увеличивается\n",
    "- Концентрация золота после флотации, увеличена в несколько раз с каждым этапом обработки. На финальном концентрате золота больше в 5 раз, чем в исходном сырье"
   ]
  },
  {
   "cell_type": "markdown",
   "metadata": {},
   "source": [
    "<div style=\"background: #cceeaa; padding: 5px; border: 1px solid green; border-radius: 5px;\">\n",
    "<font color='green'> \n",
    "<u>КОММЕНТАРИЙ РЕВЬЮЕРА</u>\n",
    "<font color='green'><br>\n",
    "ОК. Жалко только ,что нет удобного графического анализа. НО верно, видно, что золотишко растёт - и это хорошо, кому-то). Серебро падает - это логично, мы же производим золоот)<br>\n",
    "А свинец - побочное дитя химических реакций, поэтому не много увеличивается его содержание)<br>\n",
    "(график плотности sns.kdeplot с размещением на одном рисунке, например)"
   ]
  },
  {
   "attachments": {
    "image.png": {
     "image/png": "[encoded data removed]"
    }
   },
   "cell_type": "markdown",
   "metadata": {},
   "source": [
    "![image.png](attachment:image.png)"
   ]
  },
  {
   "cell_type": "markdown",
   "metadata": {},
   "source": [
    "### Сравните распределения размеров гранул сырья на обучающей и тестовой выборках. Если распределения сильно отличаются друг от друга, оценка модели будет неправильной."
   ]
  },
  {
   "cell_type": "code",
   "execution_count": 47,
   "metadata": {},
   "outputs": [
    {
     "data": {
      "image/png": "[encoded data removed]",
      "text/plain": [
       "<Figure size 1440x720 with 1 Axes>"
      ]
     },
     "metadata": {
      "needs_background": "light"
     },
     "output_type": "display_data"
    }
   ],
   "source": [
    "fig = plt.figure(figsize=(20, 10))\n",
    "fig.suptitle('Распределение размеров гранул сырья на обучающей и тестовой выборках в исходном сырье', fontsize = 20)\n",
    "plt.xlabel('Значение', fontsize=20)\n",
    "plt.ylabel('Кол-во', fontsize=20)\n",
    "\n",
    "\n",
    "train_df['rougher.input.feed_size'].hist(bins=100, alpha=0.6, label='train')\n",
    "test_df_1['rougher.input.feed_size'].hist(bins=100, alpha=0.6, label='test')\n",
    "\n",
    "plt.legend(fontsize=20)\n",
    "plt.show()"
   ]
  },
  {
   "cell_type": "code",
   "execution_count": 48,
   "metadata": {},
   "outputs": [
    {
     "data": {
      "image/png": "[encoded data removed]",
      "text/plain": [
       "<Figure size 1440x720 with 1 Axes>"
      ]
     },
     "metadata": {
      "needs_background": "light"
     },
     "output_type": "display_data"
    }
   ],
   "source": [
    "fig = plt.figure(figsize=(20, 10))\n",
    "fig.suptitle('Распределение размеров гранул сырья на обучающей и тестовой выборках после флотации', fontsize = 20)\n",
    "plt.xlabel('Значение', fontsize=20)\n",
    "plt.ylabel('Кол-во', fontsize=20)\n",
    "\n",
    "\n",
    "train_df['primary_cleaner.input.feed_size'].hist(bins=100, alpha=0.6, label='train')\n",
    "test_df_1['primary_cleaner.input.feed_size'].hist(bins=100, alpha=0.6, label='test')\n",
    "\n",
    "plt.legend(fontsize=20)\n",
    "plt.show()"
   ]
  },
  {
   "cell_type": "markdown",
   "metadata": {},
   "source": [
    "###### Вывод:\n",
    "- Распределение размеров гранул сырья на обучающей и тестовой выборках в исходном сырье имеет нормально распределение с незначительным левым смещением\n",
    "- Размеры гранул перед первичной очисткой обладают нормальным распределением."
   ]
  },
  {
   "cell_type": "markdown",
   "metadata": {},
   "source": [
    "<div style=\"background: #cceeaa; padding: 5px; border: 1px solid green; border-radius: 5px;\">\n",
    "<font color='green'> \n",
    "<u>КОММЕНТАРИЙ РЕВЬЮЕРА</u>\n",
    "<font color='green'><br>ОК,  верно, распределение для тестовой выборки немного отличается от такового для обучающей - первое сдвинуто немного в меньшую сторону. НО в целом размеры большинства частиц лежат в оптимальном интервале  40—100 мкм  («Флотация руды»: ООО \"Техноаналитприбор\":[сайт].URL:https://techade.ru/stati/flotatsiya-rudy) для обоих выборок. Поэтому, да, выборки подходят для оценки."
   ]
  },
  {
   "cell_type": "markdown",
   "metadata": {},
   "source": [
    "### Исследуйте суммарную концентрацию всех веществ на разных стадиях: в сырье, в черновом и финальном концентратах."
   ]
  },
  {
   "cell_type": "code",
   "execution_count": 40,
   "metadata": {},
   "outputs": [],
   "source": [
    "period = ['rougher.input.feed_ag', \n",
    "           'rougher.input.feed_pb', \n",
    "           'rougher.input.feed_au', \n",
    "           'rougher.output.concentrate_ag', \n",
    "           'rougher.output.concentrate_pb', \n",
    "           'rougher.output.concentrate_au', \n",
    "           'primary_cleaner.output.concentrate_ag', \n",
    "           'primary_cleaner.output.concentrate_pb', \n",
    "           'primary_cleaner.output.concentrate_au', \n",
    "           'final.output.concentrate_ag', \n",
    "           'final.output.concentrate_pb', \n",
    "           'final.output.concentrate_au'\n",
    "         ]"
   ]
  },
  {
   "cell_type": "code",
   "execution_count": 41,
   "metadata": {},
   "outputs": [],
   "source": [
    "sum_concentrations = full_df[period].copy()"
   ]
  },
  {
   "cell_type": "code",
   "execution_count": 42,
   "metadata": {},
   "outputs": [
    {
     "data": {
      "text/html": [
       "<div>\n",
       "<style scoped>\n",
       "    .dataframe tbody tr th:only-of-type {\n",
       "        vertical-align: middle;\n",
       "    }\n",
       "\n",
       "    .dataframe tbody tr th {\n",
       "        vertical-align: top;\n",
       "    }\n",
       "\n",
       "    .dataframe thead th {\n",
       "        text-align: right;\n",
       "    }\n",
       "</style>\n",
       "<table border=\"1\" class=\"dataframe\">\n",
       "  <thead>\n",
       "    <tr style=\"text-align: right;\">\n",
       "      <th></th>\n",
       "      <th>rougher.input.feed_ag</th>\n",
       "      <th>rougher.input.feed_pb</th>\n",
       "      <th>rougher.input.feed_au</th>\n",
       "      <th>rougher.output.concentrate_ag</th>\n",
       "      <th>rougher.output.concentrate_pb</th>\n",
       "      <th>rougher.output.concentrate_au</th>\n",
       "      <th>primary_cleaner.output.concentrate_ag</th>\n",
       "      <th>primary_cleaner.output.concentrate_pb</th>\n",
       "      <th>primary_cleaner.output.concentrate_au</th>\n",
       "      <th>final.output.concentrate_ag</th>\n",
       "      <th>final.output.concentrate_pb</th>\n",
       "      <th>final.output.concentrate_au</th>\n",
       "    </tr>\n",
       "  </thead>\n",
       "  <tbody>\n",
       "    <tr>\n",
       "      <th>0</th>\n",
       "      <td>6.100378</td>\n",
       "      <td>2.284912</td>\n",
       "      <td>6.486150</td>\n",
       "      <td>11.500771</td>\n",
       "      <td>7.101074</td>\n",
       "      <td>19.793808</td>\n",
       "      <td>8.547551</td>\n",
       "      <td>10.389648</td>\n",
       "      <td>34.174427</td>\n",
       "      <td>6.055403</td>\n",
       "      <td>9.889648</td>\n",
       "      <td>42.192020</td>\n",
       "    </tr>\n",
       "    <tr>\n",
       "      <th>1</th>\n",
       "      <td>6.161113</td>\n",
       "      <td>2.266033</td>\n",
       "      <td>6.478583</td>\n",
       "      <td>11.615865</td>\n",
       "      <td>7.278807</td>\n",
       "      <td>20.050975</td>\n",
       "      <td>8.558743</td>\n",
       "      <td>10.497069</td>\n",
       "      <td>34.118526</td>\n",
       "      <td>6.029369</td>\n",
       "      <td>9.968944</td>\n",
       "      <td>42.701629</td>\n",
       "    </tr>\n",
       "    <tr>\n",
       "      <th>2</th>\n",
       "      <td>6.116455</td>\n",
       "      <td>2.159622</td>\n",
       "      <td>6.362222</td>\n",
       "      <td>11.695753</td>\n",
       "      <td>7.216833</td>\n",
       "      <td>19.737170</td>\n",
       "      <td>8.603505</td>\n",
       "      <td>10.354494</td>\n",
       "      <td>33.969464</td>\n",
       "      <td>6.055926</td>\n",
       "      <td>10.213995</td>\n",
       "      <td>42.657501</td>\n",
       "    </tr>\n",
       "    <tr>\n",
       "      <th>3</th>\n",
       "      <td>6.043309</td>\n",
       "      <td>2.037807</td>\n",
       "      <td>6.118189</td>\n",
       "      <td>11.915047</td>\n",
       "      <td>7.175616</td>\n",
       "      <td>19.320810</td>\n",
       "      <td>7.221879</td>\n",
       "      <td>8.496563</td>\n",
       "      <td>28.260743</td>\n",
       "      <td>6.047977</td>\n",
       "      <td>9.977019</td>\n",
       "      <td>42.689819</td>\n",
       "    </tr>\n",
       "    <tr>\n",
       "      <th>4</th>\n",
       "      <td>6.060915</td>\n",
       "      <td>1.786875</td>\n",
       "      <td>5.663707</td>\n",
       "      <td>12.411054</td>\n",
       "      <td>7.240205</td>\n",
       "      <td>19.216101</td>\n",
       "      <td>9.089428</td>\n",
       "      <td>9.986786</td>\n",
       "      <td>33.044932</td>\n",
       "      <td>6.148599</td>\n",
       "      <td>10.142511</td>\n",
       "      <td>42.774141</td>\n",
       "    </tr>\n",
       "    <tr>\n",
       "      <th>...</th>\n",
       "      <td>...</td>\n",
       "      <td>...</td>\n",
       "      <td>...</td>\n",
       "      <td>...</td>\n",
       "      <td>...</td>\n",
       "      <td>...</td>\n",
       "      <td>...</td>\n",
       "      <td>...</td>\n",
       "      <td>...</td>\n",
       "      <td>...</td>\n",
       "      <td>...</td>\n",
       "      <td>...</td>\n",
       "    </tr>\n",
       "    <tr>\n",
       "      <th>19434</th>\n",
       "      <td>6.091855</td>\n",
       "      <td>4.617558</td>\n",
       "      <td>5.335862</td>\n",
       "      <td>11.124896</td>\n",
       "      <td>10.984003</td>\n",
       "      <td>18.603550</td>\n",
       "      <td>6.559174</td>\n",
       "      <td>12.445966</td>\n",
       "      <td>32.940215</td>\n",
       "      <td>3.224920</td>\n",
       "      <td>11.356233</td>\n",
       "      <td>46.713954</td>\n",
       "    </tr>\n",
       "    <tr>\n",
       "      <th>19435</th>\n",
       "      <td>6.121323</td>\n",
       "      <td>4.144989</td>\n",
       "      <td>4.838619</td>\n",
       "      <td>11.425983</td>\n",
       "      <td>10.888213</td>\n",
       "      <td>18.441436</td>\n",
       "      <td>6.612376</td>\n",
       "      <td>12.623947</td>\n",
       "      <td>32.925325</td>\n",
       "      <td>3.195978</td>\n",
       "      <td>11.349355</td>\n",
       "      <td>46.866780</td>\n",
       "    </tr>\n",
       "    <tr>\n",
       "      <th>19436</th>\n",
       "      <td>5.970515</td>\n",
       "      <td>4.020002</td>\n",
       "      <td>4.525061</td>\n",
       "      <td>8.523497</td>\n",
       "      <td>8.955135</td>\n",
       "      <td>15.111231</td>\n",
       "      <td>7.128896</td>\n",
       "      <td>12.633558</td>\n",
       "      <td>31.856742</td>\n",
       "      <td>3.109998</td>\n",
       "      <td>11.434366</td>\n",
       "      <td>46.795691</td>\n",
       "    </tr>\n",
       "    <tr>\n",
       "      <th>19437</th>\n",
       "      <td>6.048130</td>\n",
       "      <td>3.902537</td>\n",
       "      <td>4.362781</td>\n",
       "      <td>11.658799</td>\n",
       "      <td>10.655377</td>\n",
       "      <td>17.834772</td>\n",
       "      <td>7.490444</td>\n",
       "      <td>12.012378</td>\n",
       "      <td>30.770892</td>\n",
       "      <td>3.367241</td>\n",
       "      <td>11.625587</td>\n",
       "      <td>46.408188</td>\n",
       "    </tr>\n",
       "    <tr>\n",
       "      <th>19438</th>\n",
       "      <td>6.158718</td>\n",
       "      <td>3.875727</td>\n",
       "      <td>4.365491</td>\n",
       "      <td>11.959486</td>\n",
       "      <td>10.702148</td>\n",
       "      <td>17.804134</td>\n",
       "      <td>7.537584</td>\n",
       "      <td>11.650285</td>\n",
       "      <td>30.356618</td>\n",
       "      <td>3.598375</td>\n",
       "      <td>11.737832</td>\n",
       "      <td>46.299438</td>\n",
       "    </tr>\n",
       "  </tbody>\n",
       "</table>\n",
       "<p>16094 rows × 12 columns</p>\n",
       "</div>"
      ],
      "text/plain": [
       "       rougher.input.feed_ag  rougher.input.feed_pb  rougher.input.feed_au  \\\n",
       "0                   6.100378               2.284912               6.486150   \n",
       "1                   6.161113               2.266033               6.478583   \n",
       "2                   6.116455               2.159622               6.362222   \n",
       "3                   6.043309               2.037807               6.118189   \n",
       "4                   6.060915               1.786875               5.663707   \n",
       "...                      ...                    ...                    ...   \n",
       "19434               6.091855               4.617558               5.335862   \n",
       "19435               6.121323               4.144989               4.838619   \n",
       "19436               5.970515               4.020002               4.525061   \n",
       "19437               6.048130               3.902537               4.362781   \n",
       "19438               6.158718               3.875727               4.365491   \n",
       "\n",
       "       rougher.output.concentrate_ag  rougher.output.concentrate_pb  \\\n",
       "0                          11.500771                       7.101074   \n",
       "1                          11.615865                       7.278807   \n",
       "2                          11.695753                       7.216833   \n",
       "3                          11.915047                       7.175616   \n",
       "4                          12.411054                       7.240205   \n",
       "...                              ...                            ...   \n",
       "19434                      11.124896                      10.984003   \n",
       "19435                      11.425983                      10.888213   \n",
       "19436                       8.523497                       8.955135   \n",
       "19437                      11.658799                      10.655377   \n",
       "19438                      11.959486                      10.702148   \n",
       "\n",
       "       rougher.output.concentrate_au  primary_cleaner.output.concentrate_ag  \\\n",
       "0                          19.793808                               8.547551   \n",
       "1                          20.050975                               8.558743   \n",
       "2                          19.737170                               8.603505   \n",
       "3                          19.320810                               7.221879   \n",
       "4                          19.216101                               9.089428   \n",
       "...                              ...                                    ...   \n",
       "19434                      18.603550                               6.559174   \n",
       "19435                      18.441436                               6.612376   \n",
       "19436                      15.111231                               7.128896   \n",
       "19437                      17.834772                               7.490444   \n",
       "19438                      17.804134                               7.537584   \n",
       "\n",
       "       primary_cleaner.output.concentrate_pb  \\\n",
       "0                                  10.389648   \n",
       "1                                  10.497069   \n",
       "2                                  10.354494   \n",
       "3                                   8.496563   \n",
       "4                                   9.986786   \n",
       "...                                      ...   \n",
       "19434                              12.445966   \n",
       "19435                              12.623947   \n",
       "19436                              12.633558   \n",
       "19437                              12.012378   \n",
       "19438                              11.650285   \n",
       "\n",
       "       primary_cleaner.output.concentrate_au  final.output.concentrate_ag  \\\n",
       "0                                  34.174427                     6.055403   \n",
       "1                                  34.118526                     6.029369   \n",
       "2                                  33.969464                     6.055926   \n",
       "3                                  28.260743                     6.047977   \n",
       "4                                  33.044932                     6.148599   \n",
       "...                                      ...                          ...   \n",
       "19434                              32.940215                     3.224920   \n",
       "19435                              32.925325                     3.195978   \n",
       "19436                              31.856742                     3.109998   \n",
       "19437                              30.770892                     3.367241   \n",
       "19438                              30.356618                     3.598375   \n",
       "\n",
       "       final.output.concentrate_pb  final.output.concentrate_au  \n",
       "0                         9.889648                    42.192020  \n",
       "1                         9.968944                    42.701629  \n",
       "2                        10.213995                    42.657501  \n",
       "3                         9.977019                    42.689819  \n",
       "4                        10.142511                    42.774141  \n",
       "...                            ...                          ...  \n",
       "19434                    11.356233                    46.713954  \n",
       "19435                    11.349355                    46.866780  \n",
       "19436                    11.434366                    46.795691  \n",
       "19437                    11.625587                    46.408188  \n",
       "19438                    11.737832                    46.299438  \n",
       "\n",
       "[16094 rows x 12 columns]"
      ]
     },
     "execution_count": 42,
     "metadata": {},
     "output_type": "execute_result"
    }
   ],
   "source": [
    "sum_concentrations"
   ]
  },
  {
   "cell_type": "code",
   "execution_count": 43,
   "metadata": {},
   "outputs": [],
   "source": [
    "sum_concentrations['final_output_sum'] = sum_concentrations['final.output.concentrate_ag'] + sum_concentrations['final.output.concentrate_pb'] + sum_concentrations['final.output.concentrate_au']"
   ]
  },
  {
   "cell_type": "code",
   "execution_count": 44,
   "metadata": {},
   "outputs": [],
   "source": [
    "sum_concentrations['rougher_input_sum'] = sum_concentrations['rougher.input.feed_ag'] + sum_concentrations['rougher.input.feed_pb'] + sum_concentrations['rougher.input.feed_au']"
   ]
  },
  {
   "cell_type": "code",
   "execution_count": 45,
   "metadata": {},
   "outputs": [],
   "source": [
    "sum_concentrations['rougher_output_sum'] = sum_concentrations['rougher.output.concentrate_ag'] + sum_concentrations['rougher.output.concentrate_pb'] + sum_concentrations['rougher.output.concentrate_au']"
   ]
  },
  {
   "cell_type": "code",
   "execution_count": 46,
   "metadata": {
    "scrolled": true
   },
   "outputs": [
    {
     "data": {
      "text/html": [
       "<div>\n",
       "<style scoped>\n",
       "    .dataframe tbody tr th:only-of-type {\n",
       "        vertical-align: middle;\n",
       "    }\n",
       "\n",
       "    .dataframe tbody tr th {\n",
       "        vertical-align: top;\n",
       "    }\n",
       "\n",
       "    .dataframe thead th {\n",
       "        text-align: right;\n",
       "    }\n",
       "</style>\n",
       "<table border=\"1\" class=\"dataframe\">\n",
       "  <thead>\n",
       "    <tr style=\"text-align: right;\">\n",
       "      <th></th>\n",
       "      <th>rougher.input.feed_ag</th>\n",
       "      <th>rougher.input.feed_pb</th>\n",
       "      <th>rougher.input.feed_au</th>\n",
       "      <th>rougher.output.concentrate_ag</th>\n",
       "      <th>rougher.output.concentrate_pb</th>\n",
       "      <th>rougher.output.concentrate_au</th>\n",
       "      <th>primary_cleaner.output.concentrate_ag</th>\n",
       "      <th>primary_cleaner.output.concentrate_pb</th>\n",
       "      <th>primary_cleaner.output.concentrate_au</th>\n",
       "      <th>final.output.concentrate_ag</th>\n",
       "      <th>final.output.concentrate_pb</th>\n",
       "      <th>final.output.concentrate_au</th>\n",
       "      <th>final_output_sum</th>\n",
       "      <th>rougher_input_sum</th>\n",
       "      <th>rougher_output_sum</th>\n",
       "    </tr>\n",
       "  </thead>\n",
       "  <tbody>\n",
       "    <tr>\n",
       "      <th>0</th>\n",
       "      <td>6.100378</td>\n",
       "      <td>2.284912</td>\n",
       "      <td>6.486150</td>\n",
       "      <td>11.500771</td>\n",
       "      <td>7.101074</td>\n",
       "      <td>19.793808</td>\n",
       "      <td>8.547551</td>\n",
       "      <td>10.389648</td>\n",
       "      <td>34.174427</td>\n",
       "      <td>6.055403</td>\n",
       "      <td>9.889648</td>\n",
       "      <td>42.192020</td>\n",
       "      <td>58.137072</td>\n",
       "      <td>14.871440</td>\n",
       "      <td>38.395653</td>\n",
       "    </tr>\n",
       "    <tr>\n",
       "      <th>1</th>\n",
       "      <td>6.161113</td>\n",
       "      <td>2.266033</td>\n",
       "      <td>6.478583</td>\n",
       "      <td>11.615865</td>\n",
       "      <td>7.278807</td>\n",
       "      <td>20.050975</td>\n",
       "      <td>8.558743</td>\n",
       "      <td>10.497069</td>\n",
       "      <td>34.118526</td>\n",
       "      <td>6.029369</td>\n",
       "      <td>9.968944</td>\n",
       "      <td>42.701629</td>\n",
       "      <td>58.699942</td>\n",
       "      <td>14.905729</td>\n",
       "      <td>38.945647</td>\n",
       "    </tr>\n",
       "    <tr>\n",
       "      <th>2</th>\n",
       "      <td>6.116455</td>\n",
       "      <td>2.159622</td>\n",
       "      <td>6.362222</td>\n",
       "      <td>11.695753</td>\n",
       "      <td>7.216833</td>\n",
       "      <td>19.737170</td>\n",
       "      <td>8.603505</td>\n",
       "      <td>10.354494</td>\n",
       "      <td>33.969464</td>\n",
       "      <td>6.055926</td>\n",
       "      <td>10.213995</td>\n",
       "      <td>42.657501</td>\n",
       "      <td>58.927421</td>\n",
       "      <td>14.638299</td>\n",
       "      <td>38.649756</td>\n",
       "    </tr>\n",
       "    <tr>\n",
       "      <th>3</th>\n",
       "      <td>6.043309</td>\n",
       "      <td>2.037807</td>\n",
       "      <td>6.118189</td>\n",
       "      <td>11.915047</td>\n",
       "      <td>7.175616</td>\n",
       "      <td>19.320810</td>\n",
       "      <td>7.221879</td>\n",
       "      <td>8.496563</td>\n",
       "      <td>28.260743</td>\n",
       "      <td>6.047977</td>\n",
       "      <td>9.977019</td>\n",
       "      <td>42.689819</td>\n",
       "      <td>58.714815</td>\n",
       "      <td>14.199305</td>\n",
       "      <td>38.411473</td>\n",
       "    </tr>\n",
       "    <tr>\n",
       "      <th>4</th>\n",
       "      <td>6.060915</td>\n",
       "      <td>1.786875</td>\n",
       "      <td>5.663707</td>\n",
       "      <td>12.411054</td>\n",
       "      <td>7.240205</td>\n",
       "      <td>19.216101</td>\n",
       "      <td>9.089428</td>\n",
       "      <td>9.986786</td>\n",
       "      <td>33.044932</td>\n",
       "      <td>6.148599</td>\n",
       "      <td>10.142511</td>\n",
       "      <td>42.774141</td>\n",
       "      <td>59.065251</td>\n",
       "      <td>13.511497</td>\n",
       "      <td>38.867359</td>\n",
       "    </tr>\n",
       "  </tbody>\n",
       "</table>\n",
       "</div>"
      ],
      "text/plain": [
       "   rougher.input.feed_ag  rougher.input.feed_pb  rougher.input.feed_au  \\\n",
       "0               6.100378               2.284912               6.486150   \n",
       "1               6.161113               2.266033               6.478583   \n",
       "2               6.116455               2.159622               6.362222   \n",
       "3               6.043309               2.037807               6.118189   \n",
       "4               6.060915               1.786875               5.663707   \n",
       "\n",
       "   rougher.output.concentrate_ag  rougher.output.concentrate_pb  \\\n",
       "0                      11.500771                       7.101074   \n",
       "1                      11.615865                       7.278807   \n",
       "2                      11.695753                       7.216833   \n",
       "3                      11.915047                       7.175616   \n",
       "4                      12.411054                       7.240205   \n",
       "\n",
       "   rougher.output.concentrate_au  primary_cleaner.output.concentrate_ag  \\\n",
       "0                      19.793808                               8.547551   \n",
       "1                      20.050975                               8.558743   \n",
       "2                      19.737170                               8.603505   \n",
       "3                      19.320810                               7.221879   \n",
       "4                      19.216101                               9.089428   \n",
       "\n",
       "   primary_cleaner.output.concentrate_pb  \\\n",
       "0                              10.389648   \n",
       "1                              10.497069   \n",
       "2                              10.354494   \n",
       "3                               8.496563   \n",
       "4                               9.986786   \n",
       "\n",
       "   primary_cleaner.output.concentrate_au  final.output.concentrate_ag  \\\n",
       "0                              34.174427                     6.055403   \n",
       "1                              34.118526                     6.029369   \n",
       "2                              33.969464                     6.055926   \n",
       "3                              28.260743                     6.047977   \n",
       "4                              33.044932                     6.148599   \n",
       "\n",
       "   final.output.concentrate_pb  final.output.concentrate_au  final_output_sum  \\\n",
       "0                     9.889648                    42.192020         58.137072   \n",
       "1                     9.968944                    42.701629         58.699942   \n",
       "2                    10.213995                    42.657501         58.927421   \n",
       "3                     9.977019                    42.689819         58.714815   \n",
       "4                    10.142511                    42.774141         59.065251   \n",
       "\n",
       "   rougher_input_sum  rougher_output_sum  \n",
       "0          14.871440           38.395653  \n",
       "1          14.905729           38.945647  \n",
       "2          14.638299           38.649756  \n",
       "3          14.199305           38.411473  \n",
       "4          13.511497           38.867359  "
      ]
     },
     "execution_count": 46,
     "metadata": {},
     "output_type": "execute_result"
    }
   ],
   "source": [
    "sum_concentrations.head()"
   ]
  },
  {
   "cell_type": "code",
   "execution_count": 47,
   "metadata": {},
   "outputs": [],
   "source": [
    "full_sum = [sum_concentrations['rougher_input_sum'], sum_concentrations['rougher_output_sum'], sum_concentrations['final_output_sum']]"
   ]
  },
  {
   "cell_type": "code",
   "execution_count": 48,
   "metadata": {},
   "outputs": [
    {
     "data": {
      "text/plain": [
       "[Text(0.5, 1.0, 'График распределения суммарных концентраций всех веществ на разных стадиях')]"
      ]
     },
     "execution_count": 48,
     "metadata": {},
     "output_type": "execute_result"
    },
    {
     "data": {
      "image/png": "[encoded data removed]",
      "text/plain": [
       "<Figure size 432x288 with 1 Axes>"
      ]
     },
     "metadata": {
      "needs_background": "light"
     },
     "output_type": "display_data"
    }
   ],
   "source": [
    "sns.boxplot(data=full_sum).set(title = 'График распределения суммарных концентраций всех веществ на разных стадиях')"
   ]
  },
  {
   "cell_type": "markdown",
   "metadata": {},
   "source": [
    "###### Вывод\n",
    "- На графике наблюдается слишком много данных выходящих за нижнюю границу статистической значимости. Вероятно это вызвано нулевыми значениями на всех этапах производства"
   ]
  },
  {
   "cell_type": "code",
   "execution_count": 49,
   "metadata": {},
   "outputs": [],
   "source": [
    "# Удаляем из выборки  все данные, в которых сумма концентраций металлов на разных этапах равна 0.\n",
    "sum_delete = sum_concentrations.loc[sum_concentrations['rougher_output_sum'] > 0].copy()\n",
    "sum_delete = sum_delete.loc[sum_delete['final_output_sum'] > 0]\n",
    "sum_delete = sum_delete.loc[sum_delete['rougher_input_sum'] > 0]"
   ]
  },
  {
   "cell_type": "code",
   "execution_count": 50,
   "metadata": {},
   "outputs": [],
   "source": [
    "# По индексу из таблицы с чистыми данными удаляем строки с выбросами из тестовой, обучайющей и полной выборок\n",
    "test_df_1.drop(test_df_1[~test_df_1.index.isin(sum_delete.index)].index, inplace=True)\n",
    "train_df.drop(train_df[~train_df.index.isin(sum_delete.index)].index, inplace=True)\n",
    "full_df.drop(full_df[~full_df.index.isin(sum_delete.index)].index, inplace=True)"
   ]
  },
  {
   "cell_type": "markdown",
   "metadata": {},
   "source": [
    "## Модель"
   ]
  },
  {
   "cell_type": "markdown",
   "metadata": {},
   "source": [
    "### Напишите функцию для вычисления итоговой sMAPE."
   ]
  },
  {
   "cell_type": "code",
   "execution_count": 51,
   "metadata": {},
   "outputs": [],
   "source": [
    "def smape(target_1, predictions):    \n",
    "    a = abs(target_1 - predictions)\n",
    "    b = (abs(target_1) + abs(predictions)) / 2\n",
    "    errors = a / b\n",
    "    return errors.sum()/ errors.shape[0] * 100"
   ]
  },
  {
   "cell_type": "code",
   "execution_count": 52,
   "metadata": {},
   "outputs": [],
   "source": [
    "def ismape(smape_rougher, smape_final):\n",
    "    result = 0.25*smape_rougher + 0.75*smape_final\n",
    "    return result"
   ]
  },
  {
   "cell_type": "raw",
   "metadata": {},
   "source": [
    "def smape(target_1, predictions):    \n",
    "    a = abs(target_1 - predictions)\n",
    "    b = (abs(target_1) + abs(predictions)) / 2\n",
    "    errors = a / b\n",
    "    return errors.sum()/ errors.shape[0] * 100\n",
    "\n",
    "def ismape(smape_rougher, smape_final):\n",
    "    result = 0.25*smape_rougher + 0.75*smape_final\n",
    "    return result"
   ]
  },
  {
   "cell_type": "markdown",
   "metadata": {},
   "source": [
    "### Обучите разные модели и оцените их качество кросс-валидацией. Выберите лучшую модель и проверьте её на тестовой выборке."
   ]
  },
  {
   "cell_type": "code",
   "execution_count": 53,
   "metadata": {},
   "outputs": [],
   "source": [
    "# Выделяем независимые и целевые признаки в обучающей выборке\n",
    "X_train = train_df.drop(['rougher.output.recovery','final.output.recovery', 'date'],axis=1)\n",
    "y_rougher_train = train_df['rougher.output.recovery']\n",
    "y_final_train = train_df['final.output.recovery']"
   ]
  },
  {
   "cell_type": "code",
   "execution_count": 54,
   "metadata": {},
   "outputs": [],
   "source": [
    "# Стандартизируем данные обучающих признаков\n",
    "scaler = StandardScaler()\n",
    "scaler.fit(X_train)\n",
    "features_rougher = scaler.transform(X_train)"
   ]
  },
  {
   "cell_type": "code",
   "execution_count": 55,
   "metadata": {},
   "outputs": [],
   "source": [
    "# Создаем кастомный скорер\n",
    "custom_scorer = make_scorer(smape, greater_is_better=False)"
   ]
  },
  {
   "cell_type": "code",
   "execution_count": 56,
   "metadata": {},
   "outputs": [
    {
     "name": "stdout",
     "output_type": "stream",
     "text": [
      "Средняя sMAPE rougher на обучающей выборке модели LinearRegression: 11.75783729702447\n",
      "Средняя sMAPE final на обучающей выборке модели LinearRegression: 10.426557487475925\n"
     ]
    }
   ],
   "source": [
    "lr_model = LinearRegression()\n",
    "lr_rough = cross_val_score(lr_model, X_train, y_rougher_train, scoring=custom_scorer, cv=5)\n",
    "lr_final = cross_val_score(lr_model, X_train, y_final_train, scoring=custom_scorer, cv=5)\n",
    "print(\"Средняя sMAPE rougher на обучающей выборке модели LinearRegression:\", abs(lr_rough.mean()))\n",
    "print(\"Средняя sMAPE final на обучающей выборке модели LinearRegression:\", abs(lr_final.mean()))"
   ]
  },
  {
   "cell_type": "code",
   "execution_count": 66,
   "metadata": {},
   "outputs": [
    {
     "name": "stdout",
     "output_type": "stream",
     "text": [
      "Средняя sMAPE rougher на обучающей выборке модели DecisionTreeRegressor: 23.62617014436359\n",
      "Средняя sMAPE final на обучающей выборке модели DecisionTreeRegressor: 16.096900000456856\n"
     ]
    }
   ],
   "source": [
    "dtr_model = DecisionTreeRegressor()\n",
    "dtr_rough = cross_val_score(dtr_model, X_train, y_rougher_train, scoring=custom_scorer, cv=5)\n",
    "dtr_final = cross_val_score(dtr_model, X_train, y_final_train, scoring=custom_scorer, cv=5)\n",
    "print(\"Средняя sMAPE rougher на обучающей выборке модели DecisionTreeRegressor:\", abs(dtr_rough.mean()))\n",
    "print(\"Средняя sMAPE final на обучающей выборке модели DecisionTreeRegressor:\", abs(dtr_final.mean()))"
   ]
  },
  {
   "cell_type": "code",
   "execution_count": 67,
   "metadata": {},
   "outputs": [
    {
     "name": "stdout",
     "output_type": "stream",
     "text": [
      "модель DecisionTreeRegressor max_depth = 1:\n",
      "Средняя sMAPE rougher на обучающей выборке 10.853818809062563\n",
      "Средняя sMAPE final на обучающей выборке 8.887783910959893\n",
      "\n",
      "модель DecisionTreeRegressor max_depth = 2:\n",
      "Средняя sMAPE rougher на обучающей выборке 10.796861584582977\n",
      "Средняя sMAPE final на обучающей выборке 9.933405349215501\n",
      "\n",
      "модель DecisionTreeRegressor max_depth = 3:\n",
      "Средняя sMAPE rougher на обучающей выборке 10.700582482797355\n",
      "Средняя sMAPE final на обучающей выборке 10.19267189738955\n",
      "\n",
      "модель DecisionTreeRegressor max_depth = 4:\n",
      "Средняя sMAPE rougher на обучающей выборке 11.017432057022969\n",
      "Средняя sMAPE final на обучающей выборке 9.915112146064725\n",
      "\n",
      "модель DecisionTreeRegressor max_depth = 5:\n",
      "Средняя sMAPE rougher на обучающей выборке 11.353452325242364\n",
      "Средняя sMAPE final на обучающей выборке 10.10259251168258\n",
      "\n",
      "модель DecisionTreeRegressor max_depth = 6:\n",
      "Средняя sMAPE rougher на обучающей выборке 16.11994764297483\n",
      "Средняя sMAPE final на обучающей выборке 10.640080228626484\n",
      "\n",
      "модель DecisionTreeRegressor max_depth = 7:\n",
      "Средняя sMAPE rougher на обучающей выборке 17.62961922148481\n",
      "Средняя sMAPE final на обучающей выборке 11.784997970033958\n",
      "\n",
      "модель DecisionTreeRegressor max_depth = 8:\n",
      "Средняя sMAPE rougher на обучающей выборке 20.272584271283115\n",
      "Средняя sMAPE final на обучающей выборке 12.596482553371143\n",
      "\n",
      "модель DecisionTreeRegressor max_depth = 9:\n",
      "Средняя sMAPE rougher на обучающей выборке 21.370374111514067\n",
      "Средняя sMAPE final на обучающей выборке 13.620262337601924\n",
      "\n",
      "модель DecisionTreeRegressor max_depth = 10:\n",
      "Средняя sMAPE rougher на обучающей выборке 23.068083626033065\n",
      "Средняя sMAPE final на обучающей выборке 14.00494608606921\n",
      "\n"
     ]
    }
   ],
   "source": [
    "for i in range(1,11):\n",
    "    dtr_model = DecisionTreeRegressor(max_depth=i)\n",
    "    dtr_rough = cross_val_score(dtr_model, X_train, y_rougher_train, scoring=custom_scorer, cv=5)\n",
    "    dtr_final = cross_val_score(dtr_model, X_train, y_final_train, scoring=custom_scorer, cv=5)\n",
    "    print(f'модель DecisionTreeRegressor max_depth = {i}:')\n",
    "    print(\"Средняя sMAPE rougher на обучающей выборке\", abs(dtr_rough.mean()))\n",
    "    print(\"Средняя sMAPE final на обучающей выборке\", abs(dtr_final.mean()))\n",
    "    print()"
   ]
  },
  {
   "cell_type": "code",
   "execution_count": 68,
   "metadata": {},
   "outputs": [
    {
     "name": "stdout",
     "output_type": "stream",
     "text": [
      "Средняя sMAPE rougher на обучающей выборке модели RandomForestRegressor: 13.065800339475231\n",
      "Средняя sMAPE final на обучающей выборке модели RandomForestRegressor: 10.059917485200021\n"
     ]
    }
   ],
   "source": [
    "rfr_model = RandomForestRegressor(n_estimators=100)\n",
    "rfr_rough = cross_val_score(rfr_model, X_train, y_rougher_train, scoring=custom_scorer, cv=5)\n",
    "rfr_final = cross_val_score(rfr_model, X_train, y_final_train, scoring=custom_scorer, cv=5)\n",
    "print(\"Средняя sMAPE rougher на обучающей выборке модели RandomForestRegressor:\", abs(rfr_rough.mean()))\n",
    "print(\"Средняя sMAPE final на обучающей выборке модели RandomForestRegressor:\", abs(rfr_final.mean()))"
   ]
  },
  {
   "cell_type": "code",
   "execution_count": 69,
   "metadata": {},
   "outputs": [
    {
     "name": "stdout",
     "output_type": "stream",
     "text": [
      "модель RandomForestRegressor max_depth = 1:\n",
      "Средняя sMAPE rougher на обучающей выборке модели RandomForestRegressor: 10.861114237211549\n",
      "Средняя sMAPE final на обучающей выборке модели RandomForestRegressor: 8.813177073968237\n",
      "\n",
      "модель RandomForestRegressor max_depth = 2:\n",
      "Средняя sMAPE rougher на обучающей выборке модели RandomForestRegressor: 10.462561615758624\n",
      "Средняя sMAPE final на обучающей выборке модели RandomForestRegressor: 9.231119358565364\n",
      "\n",
      "модель RandomForestRegressor max_depth = 3:\n",
      "Средняя sMAPE rougher на обучающей выборке модели RandomForestRegressor: 10.189350630248777\n",
      "Средняя sMAPE final на обучающей выборке модели RandomForestRegressor: 9.437420711262693\n",
      "\n",
      "модель RandomForestRegressor max_depth = 4:\n",
      "Средняя sMAPE rougher на обучающей выборке модели RandomForestRegressor: 10.155487027983787\n",
      "Средняя sMAPE final на обучающей выборке модели RandomForestRegressor: 9.237445562084885\n",
      "\n",
      "модель RandomForestRegressor max_depth = 5:\n",
      "Средняя sMAPE rougher на обучающей выборке модели RandomForestRegressor: 10.32225077116462\n",
      "Средняя sMAPE final на обучающей выборке модели RandomForestRegressor: 9.194519445623385\n",
      "\n",
      "модель RandomForestRegressor max_depth = 6:\n",
      "Средняя sMAPE rougher на обучающей выборке модели RandomForestRegressor: 10.45226926051973\n",
      "Средняя sMAPE final на обучающей выборке модели RandomForestRegressor: 9.44079955589298\n",
      "\n",
      "модель RandomForestRegressor max_depth = 7:\n",
      "Средняя sMAPE rougher на обучающей выборке модели RandomForestRegressor: 10.989245962900716\n",
      "Средняя sMAPE final на обучающей выборке модели RandomForestRegressor: 9.736396270337739\n",
      "\n",
      "модель RandomForestRegressor max_depth = 8:\n",
      "Средняя sMAPE rougher на обучающей выборке модели RandomForestRegressor: 11.509030855558903\n",
      "Средняя sMAPE final на обучающей выборке модели RandomForestRegressor: 9.747373970787363\n",
      "\n",
      "модель RandomForestRegressor max_depth = 9:\n",
      "Средняя sMAPE rougher на обучающей выборке модели RandomForestRegressor: 11.748852873323568\n",
      "Средняя sMAPE final на обучающей выборке модели RandomForestRegressor: 9.842549971025324\n",
      "\n",
      "модель RandomForestRegressor max_depth = 10:\n",
      "Средняя sMAPE rougher на обучающей выборке модели RandomForestRegressor: 12.031528067957364\n",
      "Средняя sMAPE final на обучающей выборке модели RandomForestRegressor: 10.10012100766734\n",
      "\n"
     ]
    }
   ],
   "source": [
    "for i in range(1,11):\n",
    "    rfr_model = RandomForestRegressor(n_estimators=100, max_depth=i, random_state=12345)\n",
    "    rfr_rough = cross_val_score(rfr_model, X_train, y_rougher_train, scoring=custom_scorer, cv=5)\n",
    "    rfr_final = cross_val_score(rfr_model, X_train, y_final_train, scoring=custom_scorer, cv=5)\n",
    "    print(f'модель RandomForestRegressor max_depth = {i}:')\n",
    "    print(\"Средняя sMAPE rougher на обучающей выборке модели RandomForestRegressor:\", abs(rfr_rough.mean()))\n",
    "    print(\"Средняя sMAPE final на обучающей выборке модели RandomForestRegressor:\", abs(rfr_final.mean()))\n",
    "    print()"
   ]
  },
  {
   "cell_type": "markdown",
   "metadata": {},
   "source": [
    "###### Вывод: Наилучший результат на обучающей выборке показала модель RandomForestRegressor "
   ]
  },
  {
   "cell_type": "code",
   "execution_count": 57,
   "metadata": {},
   "outputs": [],
   "source": [
    "X_test = test_df_1.drop(['rougher.output.recovery','final.output.recovery', 'date'],axis=1)"
   ]
  },
  {
   "cell_type": "code",
   "execution_count": 68,
   "metadata": {},
   "outputs": [
    {
     "name": "stdout",
     "output_type": "stream",
     "text": [
      "среднее значение тестового rougher.output.recovery =  83.70908687803255\n"
     ]
    }
   ],
   "source": [
    "model = RandomForestRegressor(max_depth=5, random_state=12345, n_estimators=30)\n",
    "# обучаем модель для предсказания rougher.output.recovery\n",
    "model.fit(X_train, y_rougher_train)\n",
    "# предсказываем показатель для тестового rougher.output.recovery\n",
    "rougher_predict = model.predict(X_test)\n",
    "print('среднее значение тестового rougher.output.recovery = ', rougher_predict.mean())"
   ]
  },
  {
   "cell_type": "code",
   "execution_count": 69,
   "metadata": {},
   "outputs": [
    {
     "name": "stdout",
     "output_type": "stream",
     "text": [
      "среднее значение тестового final.output.recovery =  68.46517616195892\n"
     ]
    }
   ],
   "source": [
    "model = RandomForestRegressor(max_depth=3, random_state=12345, n_estimators=50)\n",
    "# обучаем модель для предсказания final.output.recovery\n",
    "model.fit(X_train, y_final_train)\n",
    "# предсказываем показатель для тестового final.output.recovery\n",
    "final_predict = model.predict(X_test)\n",
    "print('среднее значение тестового final.output.recovery = ', final_predict.mean())"
   ]
  },
  {
   "cell_type": "code",
   "execution_count": 70,
   "metadata": {},
   "outputs": [
    {
     "name": "stdout",
     "output_type": "stream",
     "text": [
      "Средняя sMAPE rougher на обучающей выборке: 9.847826414407564\n",
      "Средняя sMAPE final на обучающей выборке: 9.615709455825327\n",
      "финальное значение sMAPE 9.673738695470886\n"
     ]
    }
   ],
   "source": [
    "# Рассчитываем финальное значение sMAPE для предсказаний.\n",
    "test_rougher_predicted = rougher_predict.copy() # ДОБВИЛ COPY()\n",
    "test_final_predicted = final_predict.copy()\n",
    "test_rougher_target = test_df_1['rougher.output.recovery']\n",
    "test_final_target = test_df_1['final.output.recovery']\n",
    "print('Средняя sMAPE rougher на обучающей выборке:', smape(test_rougher_target, test_rougher_predicted).mean())\n",
    "print('Средняя sMAPE final на обучающей выборке:',smape(test_final_target, test_final_predicted).mean())\n",
    "print('финальное значение sMAPE',ismape(smape(test_rougher_target, test_rougher_predicted), smape(test_final_target, test_final_predicted)))"
   ]
  },
  {
   "cell_type": "code",
   "execution_count": 71,
   "metadata": {},
   "outputs": [
    {
     "data": {
      "text/plain": [
       "0       89.993421\n",
       "1       88.089657\n",
       "2       88.412756\n",
       "3       87.360133\n",
       "4       83.236367\n",
       "          ...    \n",
       "5285    95.172585\n",
       "5286    94.575036\n",
       "5287    93.018138\n",
       "5288    92.599042\n",
       "5289    91.177695\n",
       "Name: rougher.output.recovery, Length: 4643, dtype: float64"
      ]
     },
     "execution_count": 71,
     "metadata": {},
     "output_type": "execute_result"
    }
   ],
   "source": [
    "test_rougher_target"
   ]
  },
  {
   "cell_type": "code",
   "execution_count": 58,
   "metadata": {},
   "outputs": [
    {
     "name": "stdout",
     "output_type": "stream",
     "text": [
      "Средняя sMAPE rougher на обучающей выборке: 7.170628073838115\n",
      "Средняя sMAPE final на обучающей выборке: 6.4750480894064015\n",
      "финальное значение sMAPE 6.648943085514331\n"
     ]
    }
   ],
   "source": [
    "# Рассчитываем финальное значение sMAPE для константной модели\n",
    "const_rougher = pd.Series(train_df['rougher.output.recovery'].median(), range(len(train_df)))\n",
    "const_final = pd.Series(train_df['final.output.recovery'].median(), range(len(train_df)))\n",
    "print('Средняя sMAPE rougher на обучающей выборке:', smape(y_rougher_train, const_rougher).mean())\n",
    "print('Средняя sMAPE final на обучающей выборке:',smape(y_final_train, const_final).mean())\n",
    "print('финальное значение sMAPE',ismape(smape(y_rougher_train, const_rougher), smape(y_final_train, const_final)))"
   ]
  },
  {
   "cell_type": "markdown",
   "metadata": {},
   "source": [
    "###### Вывод:\n",
    "- sMAPE для предсказаний на тестовой модели получилось больше,  чем sMAPE рассчитанное на случайной модели. Дальнейшие выводы и статистические расчеты будут требовать дополнительный исследований, измерений и проработок."
   ]
  }
 ],
 "metadata": {
  "ExecuteTimeLog": [
   {
    "duration": 375,
    "start_time": "2022-03-13T23:11:52.511Z"
   },
   {
    "duration": 1549,
    "start_time": "2022-03-13T23:11:57.885Z"
   },
   {
    "duration": 365,
    "start_time": "2022-03-13T23:11:59.437Z"
   },
   {
    "duration": 35,
    "start_time": "2022-03-13T23:12:24.971Z"
   },
   {
    "duration": 25,
    "start_time": "2022-03-13T23:22:45.346Z"
   },
   {
    "duration": 5,
    "start_time": "2022-03-13T23:22:54.105Z"
   },
   {
    "duration": 360,
    "start_time": "2022-03-13T23:22:54.112Z"
   },
   {
    "duration": 29,
    "start_time": "2022-03-13T23:22:54.475Z"
   },
   {
    "duration": 25,
    "start_time": "2022-03-13T23:22:54.507Z"
   },
   {
    "duration": 419,
    "start_time": "2022-03-13T23:24:05.256Z"
   },
   {
    "duration": 5,
    "start_time": "2022-03-13T23:24:11.189Z"
   },
   {
    "duration": 359,
    "start_time": "2022-03-13T23:24:11.197Z"
   },
   {
    "duration": 35,
    "start_time": "2022-03-13T23:24:11.559Z"
   },
   {
    "duration": 26,
    "start_time": "2022-03-13T23:24:11.598Z"
   },
   {
    "duration": 381,
    "start_time": "2022-03-13T23:24:11.627Z"
   },
   {
    "duration": 32,
    "start_time": "2022-03-13T23:24:12.010Z"
   },
   {
    "duration": 24,
    "start_time": "2022-03-13T23:25:11.955Z"
   },
   {
    "duration": 1117,
    "start_time": "2022-03-15T21:54:58.935Z"
   },
   {
    "duration": 286,
    "start_time": "2022-03-15T21:55:00.054Z"
   },
   {
    "duration": 22,
    "start_time": "2022-03-15T21:55:00.342Z"
   },
   {
    "duration": 14,
    "start_time": "2022-03-15T21:55:00.366Z"
   },
   {
    "duration": 277,
    "start_time": "2022-03-15T21:55:00.381Z"
   },
   {
    "duration": 18,
    "start_time": "2022-03-15T21:55:00.660Z"
   },
   {
    "duration": 28,
    "start_time": "2022-03-15T21:55:00.680Z"
   },
   {
    "duration": 372,
    "start_time": "2022-03-15T21:55:00.711Z"
   },
   {
    "duration": 16,
    "start_time": "2022-03-15T21:56:38.775Z"
   },
   {
    "duration": 3,
    "start_time": "2022-03-15T22:00:47.788Z"
   },
   {
    "duration": 260,
    "start_time": "2022-03-15T22:00:47.793Z"
   },
   {
    "duration": 18,
    "start_time": "2022-03-15T22:00:48.055Z"
   },
   {
    "duration": 17,
    "start_time": "2022-03-15T22:00:48.074Z"
   },
   {
    "duration": 269,
    "start_time": "2022-03-15T22:00:48.093Z"
   },
   {
    "duration": 18,
    "start_time": "2022-03-15T22:00:48.363Z"
   },
   {
    "duration": 15,
    "start_time": "2022-03-15T22:00:48.382Z"
   },
   {
    "duration": 372,
    "start_time": "2022-03-15T22:00:48.399Z"
   },
   {
    "duration": 14,
    "start_time": "2022-03-15T22:00:48.774Z"
   },
   {
    "duration": 12,
    "start_time": "2022-03-15T22:02:27.358Z"
   },
   {
    "duration": 75,
    "start_time": "2022-03-15T22:06:53.905Z"
   },
   {
    "duration": 19,
    "start_time": "2022-03-15T22:06:54.394Z"
   },
   {
    "duration": 10,
    "start_time": "2022-03-15T22:06:56.773Z"
   },
   {
    "duration": 3,
    "start_time": "2022-03-15T22:07:02.175Z"
   },
   {
    "duration": 276,
    "start_time": "2022-03-15T22:07:02.180Z"
   },
   {
    "duration": 20,
    "start_time": "2022-03-15T22:07:02.458Z"
   },
   {
    "duration": 17,
    "start_time": "2022-03-15T22:07:02.480Z"
   },
   {
    "duration": 84,
    "start_time": "2022-03-15T22:07:02.499Z"
   },
   {
    "duration": 18,
    "start_time": "2022-03-15T22:07:02.585Z"
   },
   {
    "duration": 9,
    "start_time": "2022-03-15T22:07:02.605Z"
   },
   {
    "duration": 341,
    "start_time": "2022-03-15T22:07:02.632Z"
   },
   {
    "duration": 15,
    "start_time": "2022-03-15T22:07:02.975Z"
   },
   {
    "duration": 162,
    "start_time": "2022-03-16T14:58:07.419Z"
   },
   {
    "duration": 1433,
    "start_time": "2022-03-16T14:58:10.764Z"
   },
   {
    "duration": 259,
    "start_time": "2022-03-16T14:58:12.199Z"
   },
   {
    "duration": 21,
    "start_time": "2022-03-16T14:58:12.460Z"
   },
   {
    "duration": 16,
    "start_time": "2022-03-16T14:58:12.482Z"
   },
   {
    "duration": 86,
    "start_time": "2022-03-16T14:58:12.499Z"
   },
   {
    "duration": 18,
    "start_time": "2022-03-16T14:58:12.587Z"
   },
   {
    "duration": 18,
    "start_time": "2022-03-16T14:58:12.607Z"
   },
   {
    "duration": 349,
    "start_time": "2022-03-16T14:58:12.632Z"
   },
   {
    "duration": 16,
    "start_time": "2022-03-16T14:58:12.984Z"
   },
   {
    "duration": 3,
    "start_time": "2022-03-16T14:58:13.002Z"
   },
   {
    "duration": 8,
    "start_time": "2022-03-16T14:58:31.116Z"
   },
   {
    "duration": 10,
    "start_time": "2022-03-16T15:06:04.106Z"
   },
   {
    "duration": 5,
    "start_time": "2022-03-16T15:06:11.227Z"
   },
   {
    "duration": 10,
    "start_time": "2022-03-16T15:06:24.157Z"
   },
   {
    "duration": 8,
    "start_time": "2022-03-16T15:08:36.329Z"
   },
   {
    "duration": 8,
    "start_time": "2022-03-16T15:08:43.793Z"
   },
   {
    "duration": 15,
    "start_time": "2022-03-16T15:11:41.589Z"
   },
   {
    "duration": 9,
    "start_time": "2022-03-16T15:11:55.759Z"
   },
   {
    "duration": 9,
    "start_time": "2022-03-16T15:12:21.888Z"
   },
   {
    "duration": 10,
    "start_time": "2022-03-16T15:12:56.640Z"
   },
   {
    "duration": 6,
    "start_time": "2022-03-16T15:18:01.112Z"
   },
   {
    "duration": 8,
    "start_time": "2022-03-16T15:18:59.198Z"
   },
   {
    "duration": 7,
    "start_time": "2022-03-16T15:19:13.679Z"
   },
   {
    "duration": 1537,
    "start_time": "2022-03-17T00:49:18.646Z"
   },
   {
    "duration": 454,
    "start_time": "2022-03-17T00:49:20.185Z"
   },
   {
    "duration": 34,
    "start_time": "2022-03-17T00:49:20.642Z"
   },
   {
    "duration": 22,
    "start_time": "2022-03-17T00:49:20.678Z"
   },
   {
    "duration": 115,
    "start_time": "2022-03-17T00:49:20.702Z"
   },
   {
    "duration": 37,
    "start_time": "2022-03-17T00:49:20.819Z"
   },
   {
    "duration": 18,
    "start_time": "2022-03-17T00:49:20.859Z"
   },
   {
    "duration": 478,
    "start_time": "2022-03-17T00:49:20.880Z"
   },
   {
    "duration": 25,
    "start_time": "2022-03-17T00:49:21.363Z"
   },
   {
    "duration": 6,
    "start_time": "2022-03-17T00:49:21.392Z"
   },
   {
    "duration": 43,
    "start_time": "2022-03-17T00:49:21.401Z"
   },
   {
    "duration": 10,
    "start_time": "2022-03-17T00:49:21.448Z"
   },
   {
    "duration": 11,
    "start_time": "2022-03-17T00:49:21.461Z"
   },
   {
    "duration": 9,
    "start_time": "2022-03-17T00:49:21.474Z"
   },
   {
    "duration": 7,
    "start_time": "2022-03-17T00:49:21.486Z"
   },
   {
    "duration": 591,
    "start_time": "2022-03-17T00:49:21.495Z"
   },
   {
    "duration": 15,
    "start_time": "2022-03-17T00:49:48.632Z"
   },
   {
    "duration": 428,
    "start_time": "2022-03-17T00:52:43.386Z"
   },
   {
    "duration": 7,
    "start_time": "2022-03-17T00:52:53.647Z"
   },
   {
    "duration": 7,
    "start_time": "2022-03-17T00:53:15.408Z"
   },
   {
    "duration": 46,
    "start_time": "2022-03-17T13:15:37.433Z"
   },
   {
    "duration": 1771,
    "start_time": "2022-03-17T13:15:40.661Z"
   },
   {
    "duration": 292,
    "start_time": "2022-03-17T13:15:42.434Z"
   },
   {
    "duration": 23,
    "start_time": "2022-03-17T13:15:42.727Z"
   },
   {
    "duration": 31,
    "start_time": "2022-03-17T13:15:42.751Z"
   },
   {
    "duration": 77,
    "start_time": "2022-03-17T13:15:42.783Z"
   },
   {
    "duration": 21,
    "start_time": "2022-03-17T13:15:42.861Z"
   },
   {
    "duration": 12,
    "start_time": "2022-03-17T13:15:42.884Z"
   },
   {
    "duration": 370,
    "start_time": "2022-03-17T13:15:42.897Z"
   },
   {
    "duration": 21,
    "start_time": "2022-03-17T13:15:43.268Z"
   },
   {
    "duration": 4,
    "start_time": "2022-03-17T13:15:43.291Z"
   },
   {
    "duration": 10,
    "start_time": "2022-03-17T13:15:43.296Z"
   },
   {
    "duration": 10,
    "start_time": "2022-03-17T13:15:43.308Z"
   },
   {
    "duration": 9,
    "start_time": "2022-03-17T13:15:43.319Z"
   },
   {
    "duration": 9,
    "start_time": "2022-03-17T13:15:43.329Z"
   },
   {
    "duration": 5,
    "start_time": "2022-03-17T13:15:43.339Z"
   },
   {
    "duration": 179,
    "start_time": "2022-03-17T13:15:43.345Z"
   },
   {
    "duration": 8,
    "start_time": "2022-03-17T13:15:43.526Z"
   },
   {
    "duration": 8,
    "start_time": "2022-03-17T13:15:43.535Z"
   },
   {
    "duration": 73,
    "start_time": "2022-03-17T13:15:43.544Z"
   },
   {
    "duration": 7,
    "start_time": "2022-03-17T13:16:37.398Z"
   },
   {
    "duration": 47,
    "start_time": "2022-03-17T22:30:14.478Z"
   },
   {
    "duration": 1743,
    "start_time": "2022-03-17T22:30:17.476Z"
   },
   {
    "duration": 293,
    "start_time": "2022-03-17T22:30:19.221Z"
   },
   {
    "duration": 23,
    "start_time": "2022-03-17T22:30:19.516Z"
   },
   {
    "duration": 31,
    "start_time": "2022-03-17T22:30:19.541Z"
   },
   {
    "duration": 79,
    "start_time": "2022-03-17T22:30:19.574Z"
   },
   {
    "duration": 24,
    "start_time": "2022-03-17T22:30:19.655Z"
   },
   {
    "duration": 15,
    "start_time": "2022-03-17T22:30:19.681Z"
   },
   {
    "duration": 396,
    "start_time": "2022-03-17T22:30:19.698Z"
   },
   {
    "duration": 17,
    "start_time": "2022-03-17T22:30:20.096Z"
   },
   {
    "duration": 4,
    "start_time": "2022-03-17T22:30:20.115Z"
   },
   {
    "duration": 12,
    "start_time": "2022-03-17T22:30:20.120Z"
   },
   {
    "duration": 30,
    "start_time": "2022-03-17T22:30:20.133Z"
   },
   {
    "duration": 10,
    "start_time": "2022-03-17T22:30:20.165Z"
   },
   {
    "duration": 10,
    "start_time": "2022-03-17T22:30:20.177Z"
   },
   {
    "duration": 6,
    "start_time": "2022-03-17T22:30:20.188Z"
   },
   {
    "duration": 175,
    "start_time": "2022-03-17T22:30:20.196Z"
   },
   {
    "duration": 9,
    "start_time": "2022-03-17T22:30:20.373Z"
   },
   {
    "duration": 10,
    "start_time": "2022-03-17T22:30:20.383Z"
   },
   {
    "duration": 9,
    "start_time": "2022-03-17T22:30:20.394Z"
   },
   {
    "duration": 4,
    "start_time": "2022-03-17T22:30:20.405Z"
   },
   {
    "duration": 140,
    "start_time": "2022-03-17T22:30:20.410Z"
   },
   {
    "duration": 0,
    "start_time": "2022-03-17T22:30:20.552Z"
   },
   {
    "duration": 4,
    "start_time": "2022-03-17T22:32:40.202Z"
   },
   {
    "duration": 292,
    "start_time": "2022-03-17T22:32:40.208Z"
   },
   {
    "duration": 21,
    "start_time": "2022-03-17T22:32:40.502Z"
   },
   {
    "duration": 19,
    "start_time": "2022-03-17T22:32:40.524Z"
   },
   {
    "duration": 84,
    "start_time": "2022-03-17T22:32:40.545Z"
   },
   {
    "duration": 18,
    "start_time": "2022-03-17T22:32:40.631Z"
   },
   {
    "duration": 13,
    "start_time": "2022-03-17T22:32:40.662Z"
   },
   {
    "duration": 381,
    "start_time": "2022-03-17T22:32:40.677Z"
   },
   {
    "duration": 18,
    "start_time": "2022-03-17T22:32:41.060Z"
   },
   {
    "duration": 3,
    "start_time": "2022-03-17T22:32:41.080Z"
   },
   {
    "duration": 10,
    "start_time": "2022-03-17T22:32:41.085Z"
   },
   {
    "duration": 11,
    "start_time": "2022-03-17T22:32:41.097Z"
   },
   {
    "duration": 6,
    "start_time": "2022-03-17T22:32:41.110Z"
   },
   {
    "duration": 47,
    "start_time": "2022-03-17T22:32:41.119Z"
   },
   {
    "duration": 3,
    "start_time": "2022-03-17T22:32:41.168Z"
   },
   {
    "duration": 170,
    "start_time": "2022-03-17T22:32:41.173Z"
   },
   {
    "duration": 9,
    "start_time": "2022-03-17T22:32:41.344Z"
   },
   {
    "duration": 11,
    "start_time": "2022-03-17T22:32:41.355Z"
   },
   {
    "duration": 6,
    "start_time": "2022-03-17T22:32:41.367Z"
   },
   {
    "duration": 4,
    "start_time": "2022-03-17T22:32:41.375Z"
   },
   {
    "duration": 111,
    "start_time": "2022-03-17T22:32:41.380Z"
   },
   {
    "duration": 0,
    "start_time": "2022-03-17T22:32:41.493Z"
   },
   {
    "duration": 114,
    "start_time": "2022-03-17T22:33:38.031Z"
   },
   {
    "duration": 18,
    "start_time": "2022-03-17T22:33:39.071Z"
   },
   {
    "duration": 68,
    "start_time": "2022-03-17T22:34:07.321Z"
   },
   {
    "duration": 19,
    "start_time": "2022-03-17T22:34:07.901Z"
   },
   {
    "duration": 3,
    "start_time": "2022-03-17T22:34:42.692Z"
   },
   {
    "duration": 294,
    "start_time": "2022-03-17T22:34:42.698Z"
   },
   {
    "duration": 21,
    "start_time": "2022-03-17T22:34:42.994Z"
   },
   {
    "duration": 36,
    "start_time": "2022-03-17T22:34:43.017Z"
   },
   {
    "duration": 74,
    "start_time": "2022-03-17T22:34:43.055Z"
   },
   {
    "duration": 19,
    "start_time": "2022-03-17T22:34:43.131Z"
   },
   {
    "duration": 31,
    "start_time": "2022-03-17T22:34:43.151Z"
   },
   {
    "duration": 371,
    "start_time": "2022-03-17T22:34:43.184Z"
   },
   {
    "duration": 23,
    "start_time": "2022-03-17T22:34:43.557Z"
   },
   {
    "duration": 4,
    "start_time": "2022-03-17T22:34:43.581Z"
   },
   {
    "duration": 12,
    "start_time": "2022-03-17T22:34:43.586Z"
   },
   {
    "duration": 9,
    "start_time": "2022-03-17T22:34:43.600Z"
   },
   {
    "duration": 7,
    "start_time": "2022-03-17T22:34:43.610Z"
   },
   {
    "duration": 8,
    "start_time": "2022-03-17T22:34:43.620Z"
   },
   {
    "duration": 5,
    "start_time": "2022-03-17T22:34:43.630Z"
   },
   {
    "duration": 167,
    "start_time": "2022-03-17T22:34:43.664Z"
   },
   {
    "duration": 8,
    "start_time": "2022-03-17T22:34:43.833Z"
   },
   {
    "duration": 10,
    "start_time": "2022-03-17T22:34:43.843Z"
   },
   {
    "duration": 11,
    "start_time": "2022-03-17T22:34:43.854Z"
   },
   {
    "duration": 4,
    "start_time": "2022-03-17T22:34:43.867Z"
   },
   {
    "duration": 10,
    "start_time": "2022-03-17T22:34:43.873Z"
   },
   {
    "duration": 0,
    "start_time": "2022-03-17T22:34:43.885Z"
   },
   {
    "duration": 10,
    "start_time": "2022-03-17T22:35:06.470Z"
   },
   {
    "duration": 7,
    "start_time": "2022-03-17T22:35:19.200Z"
   },
   {
    "duration": 21,
    "start_time": "2022-03-17T22:35:20.778Z"
   },
   {
    "duration": 4,
    "start_time": "2022-03-17T22:35:25.571Z"
   },
   {
    "duration": 343,
    "start_time": "2022-03-17T22:35:25.577Z"
   },
   {
    "duration": 20,
    "start_time": "2022-03-17T22:35:25.921Z"
   },
   {
    "duration": 26,
    "start_time": "2022-03-17T22:35:25.943Z"
   },
   {
    "duration": 77,
    "start_time": "2022-03-17T22:35:25.972Z"
   },
   {
    "duration": 24,
    "start_time": "2022-03-17T22:35:26.051Z"
   },
   {
    "duration": 12,
    "start_time": "2022-03-17T22:35:26.077Z"
   },
   {
    "duration": 410,
    "start_time": "2022-03-17T22:35:26.091Z"
   },
   {
    "duration": 17,
    "start_time": "2022-03-17T22:35:26.503Z"
   },
   {
    "duration": 3,
    "start_time": "2022-03-17T22:35:26.521Z"
   },
   {
    "duration": 9,
    "start_time": "2022-03-17T22:35:26.526Z"
   },
   {
    "duration": 32,
    "start_time": "2022-03-17T22:35:26.536Z"
   },
   {
    "duration": 7,
    "start_time": "2022-03-17T22:35:26.570Z"
   },
   {
    "duration": 9,
    "start_time": "2022-03-17T22:35:26.580Z"
   },
   {
    "duration": 4,
    "start_time": "2022-03-17T22:35:26.591Z"
   },
   {
    "duration": 216,
    "start_time": "2022-03-17T22:35:26.597Z"
   },
   {
    "duration": 10,
    "start_time": "2022-03-17T22:35:26.815Z"
   },
   {
    "duration": 9,
    "start_time": "2022-03-17T22:35:26.827Z"
   },
   {
    "duration": 24,
    "start_time": "2022-03-17T22:35:26.838Z"
   },
   {
    "duration": 4,
    "start_time": "2022-03-17T22:35:26.864Z"
   },
   {
    "duration": 21,
    "start_time": "2022-03-17T22:35:26.870Z"
   },
   {
    "duration": 22,
    "start_time": "2022-03-17T22:35:26.893Z"
   },
   {
    "duration": 3,
    "start_time": "2022-03-17T22:59:16.040Z"
   },
   {
    "duration": 4,
    "start_time": "2022-03-17T22:59:21.051Z"
   },
   {
    "duration": 293,
    "start_time": "2022-03-17T22:59:21.057Z"
   },
   {
    "duration": 18,
    "start_time": "2022-03-17T22:59:21.352Z"
   },
   {
    "duration": 15,
    "start_time": "2022-03-17T22:59:21.372Z"
   },
   {
    "duration": 80,
    "start_time": "2022-03-17T22:59:21.389Z"
   },
   {
    "duration": 18,
    "start_time": "2022-03-17T22:59:21.471Z"
   },
   {
    "duration": 13,
    "start_time": "2022-03-17T22:59:21.490Z"
   },
   {
    "duration": 378,
    "start_time": "2022-03-17T22:59:21.505Z"
   },
   {
    "duration": 16,
    "start_time": "2022-03-17T22:59:21.885Z"
   },
   {
    "duration": 3,
    "start_time": "2022-03-17T22:59:21.903Z"
   },
   {
    "duration": 11,
    "start_time": "2022-03-17T22:59:21.908Z"
   },
   {
    "duration": 9,
    "start_time": "2022-03-17T22:59:21.921Z"
   },
   {
    "duration": 5,
    "start_time": "2022-03-17T22:59:21.932Z"
   },
   {
    "duration": 10,
    "start_time": "2022-03-17T22:59:21.964Z"
   },
   {
    "duration": 5,
    "start_time": "2022-03-17T22:59:21.975Z"
   },
   {
    "duration": 172,
    "start_time": "2022-03-17T22:59:21.982Z"
   },
   {
    "duration": 9,
    "start_time": "2022-03-17T22:59:22.155Z"
   },
   {
    "duration": 6,
    "start_time": "2022-03-17T22:59:22.166Z"
   },
   {
    "duration": 6,
    "start_time": "2022-03-17T22:59:22.174Z"
   },
   {
    "duration": 3,
    "start_time": "2022-03-17T22:59:22.181Z"
   },
   {
    "duration": 8,
    "start_time": "2022-03-17T22:59:22.186Z"
   },
   {
    "duration": 21,
    "start_time": "2022-03-17T22:59:22.196Z"
   },
   {
    "duration": 4,
    "start_time": "2022-03-17T22:59:22.218Z"
   },
   {
    "duration": 3,
    "start_time": "2022-03-17T23:00:50.589Z"
   },
   {
    "duration": 10,
    "start_time": "2022-03-17T23:01:15.079Z"
   },
   {
    "duration": 3,
    "start_time": "2022-03-17T23:05:54.512Z"
   },
   {
    "duration": 3,
    "start_time": "2022-03-17T23:06:08.112Z"
   },
   {
    "duration": 286,
    "start_time": "2022-03-17T23:06:08.117Z"
   },
   {
    "duration": 24,
    "start_time": "2022-03-17T23:06:08.405Z"
   },
   {
    "duration": 33,
    "start_time": "2022-03-17T23:06:08.431Z"
   },
   {
    "duration": 73,
    "start_time": "2022-03-17T23:06:08.466Z"
   },
   {
    "duration": 28,
    "start_time": "2022-03-17T23:06:08.541Z"
   },
   {
    "duration": 14,
    "start_time": "2022-03-17T23:06:08.571Z"
   },
   {
    "duration": 386,
    "start_time": "2022-03-17T23:06:08.587Z"
   },
   {
    "duration": 18,
    "start_time": "2022-03-17T23:06:08.975Z"
   },
   {
    "duration": 4,
    "start_time": "2022-03-17T23:06:08.995Z"
   },
   {
    "duration": 10,
    "start_time": "2022-03-17T23:06:09.001Z"
   },
   {
    "duration": 10,
    "start_time": "2022-03-17T23:06:09.013Z"
   },
   {
    "duration": 7,
    "start_time": "2022-03-17T23:06:09.024Z"
   },
   {
    "duration": 12,
    "start_time": "2022-03-17T23:06:09.063Z"
   },
   {
    "duration": 10,
    "start_time": "2022-03-17T23:06:09.076Z"
   },
   {
    "duration": 166,
    "start_time": "2022-03-17T23:06:09.087Z"
   },
   {
    "duration": 13,
    "start_time": "2022-03-17T23:06:09.255Z"
   },
   {
    "duration": 7,
    "start_time": "2022-03-17T23:06:09.270Z"
   },
   {
    "duration": 6,
    "start_time": "2022-03-17T23:06:09.278Z"
   },
   {
    "duration": 2,
    "start_time": "2022-03-17T23:06:09.286Z"
   },
   {
    "duration": 7,
    "start_time": "2022-03-17T23:06:09.290Z"
   },
   {
    "duration": 19,
    "start_time": "2022-03-17T23:06:09.299Z"
   },
   {
    "duration": 4,
    "start_time": "2022-03-17T23:06:09.319Z"
   },
   {
    "duration": 3,
    "start_time": "2022-03-17T23:07:20.843Z"
   },
   {
    "duration": 3,
    "start_time": "2022-03-17T23:07:26.462Z"
   },
   {
    "duration": 296,
    "start_time": "2022-03-17T23:07:26.467Z"
   },
   {
    "duration": 19,
    "start_time": "2022-03-17T23:07:26.765Z"
   },
   {
    "duration": 20,
    "start_time": "2022-03-17T23:07:26.786Z"
   },
   {
    "duration": 82,
    "start_time": "2022-03-17T23:07:26.808Z"
   },
   {
    "duration": 18,
    "start_time": "2022-03-17T23:07:26.892Z"
   },
   {
    "duration": 14,
    "start_time": "2022-03-17T23:07:26.911Z"
   },
   {
    "duration": 384,
    "start_time": "2022-03-17T23:07:26.927Z"
   },
   {
    "duration": 17,
    "start_time": "2022-03-17T23:07:27.313Z"
   },
   {
    "duration": 3,
    "start_time": "2022-03-17T23:07:27.333Z"
   },
   {
    "duration": 29,
    "start_time": "2022-03-17T23:07:27.338Z"
   },
   {
    "duration": 14,
    "start_time": "2022-03-17T23:07:27.369Z"
   },
   {
    "duration": 8,
    "start_time": "2022-03-17T23:07:27.384Z"
   },
   {
    "duration": 17,
    "start_time": "2022-03-17T23:07:27.394Z"
   },
   {
    "duration": 4,
    "start_time": "2022-03-17T23:07:27.412Z"
   },
   {
    "duration": 176,
    "start_time": "2022-03-17T23:07:27.418Z"
   },
   {
    "duration": 9,
    "start_time": "2022-03-17T23:07:27.595Z"
   },
   {
    "duration": 7,
    "start_time": "2022-03-17T23:07:27.605Z"
   },
   {
    "duration": 7,
    "start_time": "2022-03-17T23:07:27.614Z"
   },
   {
    "duration": 4,
    "start_time": "2022-03-17T23:07:27.622Z"
   },
   {
    "duration": 9,
    "start_time": "2022-03-17T23:07:27.627Z"
   },
   {
    "duration": 43,
    "start_time": "2022-03-17T23:07:27.638Z"
   },
   {
    "duration": 9,
    "start_time": "2022-03-17T23:07:27.683Z"
   },
   {
    "duration": 5,
    "start_time": "2022-03-17T23:07:27.693Z"
   },
   {
    "duration": 17,
    "start_time": "2022-03-17T23:08:43.302Z"
   },
   {
    "duration": 3,
    "start_time": "2022-03-17T23:08:49.797Z"
   },
   {
    "duration": 264,
    "start_time": "2022-03-17T23:08:49.802Z"
   },
   {
    "duration": 18,
    "start_time": "2022-03-17T23:08:50.068Z"
   },
   {
    "duration": 18,
    "start_time": "2022-03-17T23:08:50.087Z"
   },
   {
    "duration": 83,
    "start_time": "2022-03-17T23:08:50.107Z"
   },
   {
    "duration": 18,
    "start_time": "2022-03-17T23:08:50.191Z"
   },
   {
    "duration": 15,
    "start_time": "2022-03-17T23:08:50.210Z"
   },
   {
    "duration": 382,
    "start_time": "2022-03-17T23:08:50.227Z"
   },
   {
    "duration": 18,
    "start_time": "2022-03-17T23:08:50.610Z"
   },
   {
    "duration": 3,
    "start_time": "2022-03-17T23:08:50.630Z"
   },
   {
    "duration": 11,
    "start_time": "2022-03-17T23:08:50.634Z"
   },
   {
    "duration": 20,
    "start_time": "2022-03-17T23:08:50.646Z"
   },
   {
    "duration": 6,
    "start_time": "2022-03-17T23:08:50.667Z"
   },
   {
    "duration": 9,
    "start_time": "2022-03-17T23:08:50.675Z"
   },
   {
    "duration": 3,
    "start_time": "2022-03-17T23:08:50.685Z"
   },
   {
    "duration": 183,
    "start_time": "2022-03-17T23:08:50.690Z"
   },
   {
    "duration": 8,
    "start_time": "2022-03-17T23:08:50.875Z"
   },
   {
    "duration": 7,
    "start_time": "2022-03-17T23:08:50.884Z"
   },
   {
    "duration": 7,
    "start_time": "2022-03-17T23:08:50.893Z"
   },
   {
    "duration": 2,
    "start_time": "2022-03-17T23:08:50.902Z"
   },
   {
    "duration": 10,
    "start_time": "2022-03-17T23:08:50.905Z"
   },
   {
    "duration": 18,
    "start_time": "2022-03-17T23:08:50.917Z"
   },
   {
    "duration": 3,
    "start_time": "2022-03-17T23:08:50.962Z"
   },
   {
    "duration": 18,
    "start_time": "2022-03-17T23:08:50.967Z"
   },
   {
    "duration": 3,
    "start_time": "2022-03-17T23:10:22.500Z"
   },
   {
    "duration": 13,
    "start_time": "2022-03-17T23:10:23.460Z"
   },
   {
    "duration": 11,
    "start_time": "2022-03-17T23:14:31.315Z"
   },
   {
    "duration": 3,
    "start_time": "2022-03-17T23:15:22.345Z"
   },
   {
    "duration": 13,
    "start_time": "2022-03-17T23:15:22.855Z"
   },
   {
    "duration": 10,
    "start_time": "2022-03-17T23:16:07.375Z"
   },
   {
    "duration": 12,
    "start_time": "2022-03-17T23:16:45.154Z"
   },
   {
    "duration": 13,
    "start_time": "2022-03-17T23:17:01.124Z"
   },
   {
    "duration": 4,
    "start_time": "2022-03-17T23:18:18.516Z"
   },
   {
    "duration": 3,
    "start_time": "2022-03-17T23:19:56.311Z"
   },
   {
    "duration": 3,
    "start_time": "2022-03-17T23:19:56.643Z"
   },
   {
    "duration": 14,
    "start_time": "2022-03-17T23:19:57.060Z"
   },
   {
    "duration": 3,
    "start_time": "2022-03-17T23:20:19.980Z"
   },
   {
    "duration": 289,
    "start_time": "2022-03-17T23:20:19.985Z"
   },
   {
    "duration": 18,
    "start_time": "2022-03-17T23:20:20.276Z"
   },
   {
    "duration": 16,
    "start_time": "2022-03-17T23:20:20.296Z"
   },
   {
    "duration": 86,
    "start_time": "2022-03-17T23:20:20.315Z"
   },
   {
    "duration": 19,
    "start_time": "2022-03-17T23:20:20.403Z"
   },
   {
    "duration": 16,
    "start_time": "2022-03-17T23:20:20.423Z"
   },
   {
    "duration": 390,
    "start_time": "2022-03-17T23:20:20.441Z"
   },
   {
    "duration": 18,
    "start_time": "2022-03-17T23:20:20.832Z"
   },
   {
    "duration": 13,
    "start_time": "2022-03-17T23:20:20.851Z"
   },
   {
    "duration": 20,
    "start_time": "2022-03-17T23:20:20.865Z"
   },
   {
    "duration": 16,
    "start_time": "2022-03-17T23:20:20.887Z"
   },
   {
    "duration": 6,
    "start_time": "2022-03-17T23:20:20.904Z"
   },
   {
    "duration": 9,
    "start_time": "2022-03-17T23:20:20.913Z"
   },
   {
    "duration": 4,
    "start_time": "2022-03-17T23:20:20.923Z"
   },
   {
    "duration": 177,
    "start_time": "2022-03-17T23:20:20.928Z"
   },
   {
    "duration": 9,
    "start_time": "2022-03-17T23:20:21.106Z"
   },
   {
    "duration": 15,
    "start_time": "2022-03-17T23:20:21.116Z"
   },
   {
    "duration": 15,
    "start_time": "2022-03-17T23:20:21.133Z"
   },
   {
    "duration": 5,
    "start_time": "2022-03-17T23:20:21.150Z"
   },
   {
    "duration": 7,
    "start_time": "2022-03-17T23:20:21.162Z"
   },
   {
    "duration": 19,
    "start_time": "2022-03-17T23:20:21.170Z"
   },
   {
    "duration": 6,
    "start_time": "2022-03-17T23:20:21.191Z"
   },
   {
    "duration": 6,
    "start_time": "2022-03-17T23:20:21.198Z"
   },
   {
    "duration": 16,
    "start_time": "2022-03-17T23:20:21.205Z"
   },
   {
    "duration": 105,
    "start_time": "2022-03-18T09:44:30.869Z"
   },
   {
    "duration": 43,
    "start_time": "2022-03-18T09:44:55.656Z"
   },
   {
    "duration": 7,
    "start_time": "2022-03-18T09:45:35.364Z"
   },
   {
    "duration": 1562,
    "start_time": "2022-03-18T09:46:34.815Z"
   },
   {
    "duration": 264,
    "start_time": "2022-03-18T09:46:36.379Z"
   },
   {
    "duration": 22,
    "start_time": "2022-03-18T09:46:36.645Z"
   },
   {
    "duration": 17,
    "start_time": "2022-03-18T09:46:36.669Z"
   },
   {
    "duration": 85,
    "start_time": "2022-03-18T09:46:36.688Z"
   },
   {
    "duration": 20,
    "start_time": "2022-03-18T09:46:36.775Z"
   },
   {
    "duration": 22,
    "start_time": "2022-03-18T09:46:36.797Z"
   },
   {
    "duration": 361,
    "start_time": "2022-03-18T09:46:36.821Z"
   },
   {
    "duration": 17,
    "start_time": "2022-03-18T09:46:37.183Z"
   },
   {
    "duration": 4,
    "start_time": "2022-03-18T09:46:37.201Z"
   },
   {
    "duration": 16,
    "start_time": "2022-03-18T09:46:37.206Z"
   },
   {
    "duration": 22,
    "start_time": "2022-03-18T09:46:37.223Z"
   },
   {
    "duration": 9,
    "start_time": "2022-03-18T09:46:37.246Z"
   },
   {
    "duration": 28,
    "start_time": "2022-03-18T09:46:37.258Z"
   },
   {
    "duration": 12,
    "start_time": "2022-03-18T09:46:37.287Z"
   },
   {
    "duration": 166,
    "start_time": "2022-03-18T09:46:37.300Z"
   },
   {
    "duration": 9,
    "start_time": "2022-03-18T09:46:37.467Z"
   },
   {
    "duration": 9,
    "start_time": "2022-03-18T09:46:37.477Z"
   },
   {
    "duration": 10,
    "start_time": "2022-03-18T09:46:37.487Z"
   },
   {
    "duration": 3,
    "start_time": "2022-03-18T09:46:37.498Z"
   },
   {
    "duration": 9,
    "start_time": "2022-03-18T09:46:37.503Z"
   },
   {
    "duration": 39,
    "start_time": "2022-03-18T09:46:37.514Z"
   },
   {
    "duration": 13,
    "start_time": "2022-03-18T09:46:37.554Z"
   },
   {
    "duration": 4,
    "start_time": "2022-03-18T09:49:36.483Z"
   },
   {
    "duration": 306,
    "start_time": "2022-03-18T09:49:36.490Z"
   },
   {
    "duration": 19,
    "start_time": "2022-03-18T09:49:36.798Z"
   },
   {
    "duration": 32,
    "start_time": "2022-03-18T09:49:36.818Z"
   },
   {
    "duration": 73,
    "start_time": "2022-03-18T09:49:36.852Z"
   },
   {
    "duration": 27,
    "start_time": "2022-03-18T09:49:36.927Z"
   },
   {
    "duration": 55,
    "start_time": "2022-03-18T09:49:36.956Z"
   },
   {
    "duration": 367,
    "start_time": "2022-03-18T09:49:37.013Z"
   },
   {
    "duration": 17,
    "start_time": "2022-03-18T09:49:37.382Z"
   },
   {
    "duration": 4,
    "start_time": "2022-03-18T09:49:37.401Z"
   },
   {
    "duration": 31,
    "start_time": "2022-03-18T09:49:37.407Z"
   },
   {
    "duration": 10,
    "start_time": "2022-03-18T09:49:37.440Z"
   },
   {
    "duration": 9,
    "start_time": "2022-03-18T09:49:37.452Z"
   },
   {
    "duration": 9,
    "start_time": "2022-03-18T09:49:37.464Z"
   },
   {
    "duration": 7,
    "start_time": "2022-03-18T09:49:37.475Z"
   },
   {
    "duration": 211,
    "start_time": "2022-03-18T09:49:37.483Z"
   },
   {
    "duration": 9,
    "start_time": "2022-03-18T09:49:37.696Z"
   },
   {
    "duration": 9,
    "start_time": "2022-03-18T09:49:37.707Z"
   },
   {
    "duration": 24,
    "start_time": "2022-03-18T09:49:37.718Z"
   },
   {
    "duration": 3,
    "start_time": "2022-03-18T09:49:37.744Z"
   },
   {
    "duration": 11,
    "start_time": "2022-03-18T09:49:37.748Z"
   },
   {
    "duration": 23,
    "start_time": "2022-03-18T09:49:37.761Z"
   },
   {
    "duration": 25,
    "start_time": "2022-03-18T09:49:37.785Z"
   },
   {
    "duration": 13,
    "start_time": "2022-03-18T09:49:41.431Z"
   },
   {
    "duration": 16,
    "start_time": "2022-03-18T09:51:41.287Z"
   },
   {
    "duration": 9,
    "start_time": "2022-03-18T09:53:08.158Z"
   },
   {
    "duration": 7,
    "start_time": "2022-03-18T09:54:00.476Z"
   },
   {
    "duration": 7,
    "start_time": "2022-03-18T09:54:10.117Z"
   },
   {
    "duration": 6,
    "start_time": "2022-03-18T09:54:16.026Z"
   },
   {
    "duration": 10,
    "start_time": "2022-03-18T09:55:27.986Z"
   },
   {
    "duration": 9,
    "start_time": "2022-03-18T09:55:33.215Z"
   },
   {
    "duration": 12,
    "start_time": "2022-03-18T10:00:25.571Z"
   },
   {
    "duration": 9,
    "start_time": "2022-03-18T10:00:41.281Z"
   },
   {
    "duration": 24,
    "start_time": "2022-03-18T10:02:03.470Z"
   },
   {
    "duration": 7,
    "start_time": "2022-03-18T10:02:54.018Z"
   },
   {
    "duration": 7,
    "start_time": "2022-03-18T10:03:42.338Z"
   },
   {
    "duration": 23,
    "start_time": "2022-03-18T12:24:52.418Z"
   },
   {
    "duration": 67,
    "start_time": "2022-03-18T12:31:53.928Z"
   },
   {
    "duration": 4,
    "start_time": "2022-03-18T12:32:05.026Z"
   },
   {
    "duration": 291,
    "start_time": "2022-03-18T12:32:05.032Z"
   },
   {
    "duration": 22,
    "start_time": "2022-03-18T12:32:05.325Z"
   },
   {
    "duration": 18,
    "start_time": "2022-03-18T12:32:05.350Z"
   },
   {
    "duration": 91,
    "start_time": "2022-03-18T12:32:05.369Z"
   },
   {
    "duration": 19,
    "start_time": "2022-03-18T12:32:05.462Z"
   },
   {
    "duration": 14,
    "start_time": "2022-03-18T12:32:05.483Z"
   },
   {
    "duration": 366,
    "start_time": "2022-03-18T12:32:05.498Z"
   },
   {
    "duration": 17,
    "start_time": "2022-03-18T12:32:05.866Z"
   },
   {
    "duration": 5,
    "start_time": "2022-03-18T12:32:05.886Z"
   },
   {
    "duration": 17,
    "start_time": "2022-03-18T12:32:05.893Z"
   },
   {
    "duration": 23,
    "start_time": "2022-03-18T12:32:05.912Z"
   },
   {
    "duration": 12,
    "start_time": "2022-03-18T12:32:05.937Z"
   },
   {
    "duration": 12,
    "start_time": "2022-03-18T12:32:05.951Z"
   },
   {
    "duration": 8,
    "start_time": "2022-03-18T12:32:05.965Z"
   },
   {
    "duration": 173,
    "start_time": "2022-03-18T12:32:05.974Z"
   },
   {
    "duration": 10,
    "start_time": "2022-03-18T12:32:06.149Z"
   },
   {
    "duration": 5,
    "start_time": "2022-03-18T12:32:06.161Z"
   },
   {
    "duration": 7,
    "start_time": "2022-03-18T12:32:06.168Z"
   },
   {
    "duration": 3,
    "start_time": "2022-03-18T12:32:06.177Z"
   },
   {
    "duration": 21,
    "start_time": "2022-03-18T12:32:06.181Z"
   },
   {
    "duration": 39,
    "start_time": "2022-03-18T12:32:06.203Z"
   },
   {
    "duration": 9,
    "start_time": "2022-03-18T12:32:06.245Z"
   },
   {
    "duration": 24,
    "start_time": "2022-03-18T12:32:06.256Z"
   },
   {
    "duration": 13,
    "start_time": "2022-03-18T12:32:06.281Z"
   },
   {
    "duration": 42,
    "start_time": "2022-03-18T12:32:06.296Z"
   },
   {
    "duration": 3,
    "start_time": "2022-03-18T12:32:06.339Z"
   },
   {
    "duration": 6,
    "start_time": "2022-03-18T12:32:06.345Z"
   },
   {
    "duration": 4,
    "start_time": "2022-03-18T12:32:33.008Z"
   },
   {
    "duration": 9,
    "start_time": "2022-03-18T12:32:43.359Z"
   },
   {
    "duration": 3,
    "start_time": "2022-03-18T12:35:47.129Z"
   },
   {
    "duration": 4,
    "start_time": "2022-03-18T12:35:47.621Z"
   },
   {
    "duration": 3,
    "start_time": "2022-03-18T12:35:48.130Z"
   },
   {
    "duration": 12,
    "start_time": "2022-03-18T12:35:49.020Z"
   },
   {
    "duration": 4,
    "start_time": "2022-03-18T13:31:11.543Z"
   },
   {
    "duration": 296,
    "start_time": "2022-03-18T13:31:11.549Z"
   },
   {
    "duration": 19,
    "start_time": "2022-03-18T13:31:11.847Z"
   },
   {
    "duration": 30,
    "start_time": "2022-03-18T13:31:11.869Z"
   },
   {
    "duration": 82,
    "start_time": "2022-03-18T13:31:11.901Z"
   },
   {
    "duration": 19,
    "start_time": "2022-03-18T13:31:11.984Z"
   },
   {
    "duration": 47,
    "start_time": "2022-03-18T13:31:12.004Z"
   },
   {
    "duration": 382,
    "start_time": "2022-03-18T13:31:12.053Z"
   },
   {
    "duration": 17,
    "start_time": "2022-03-18T13:31:12.437Z"
   },
   {
    "duration": 23,
    "start_time": "2022-03-18T13:31:12.456Z"
   },
   {
    "duration": 38,
    "start_time": "2022-03-18T13:31:12.480Z"
   },
   {
    "duration": 43,
    "start_time": "2022-03-18T13:31:12.520Z"
   },
   {
    "duration": 16,
    "start_time": "2022-03-18T13:31:12.564Z"
   },
   {
    "duration": 45,
    "start_time": "2022-03-18T13:31:12.582Z"
   },
   {
    "duration": 22,
    "start_time": "2022-03-18T13:31:12.629Z"
   },
   {
    "duration": 176,
    "start_time": "2022-03-18T13:31:12.653Z"
   },
   {
    "duration": 9,
    "start_time": "2022-03-18T13:31:12.831Z"
   },
   {
    "duration": 9,
    "start_time": "2022-03-18T13:31:12.841Z"
   },
   {
    "duration": 9,
    "start_time": "2022-03-18T13:31:12.851Z"
   },
   {
    "duration": 3,
    "start_time": "2022-03-18T13:31:12.862Z"
   },
   {
    "duration": 9,
    "start_time": "2022-03-18T13:31:12.866Z"
   },
   {
    "duration": 21,
    "start_time": "2022-03-18T13:31:12.876Z"
   },
   {
    "duration": 10,
    "start_time": "2022-03-18T13:31:12.899Z"
   },
   {
    "duration": 48,
    "start_time": "2022-03-18T13:31:12.910Z"
   },
   {
    "duration": 6,
    "start_time": "2022-03-18T13:31:12.960Z"
   },
   {
    "duration": 23,
    "start_time": "2022-03-18T13:31:12.967Z"
   },
   {
    "duration": 5,
    "start_time": "2022-03-18T13:31:12.992Z"
   },
   {
    "duration": 6,
    "start_time": "2022-03-18T13:31:12.999Z"
   },
   {
    "duration": 6,
    "start_time": "2022-03-18T13:31:13.006Z"
   },
   {
    "duration": 35,
    "start_time": "2022-03-18T13:31:13.013Z"
   },
   {
    "duration": 5,
    "start_time": "2022-03-18T13:31:13.050Z"
   },
   {
    "duration": 17,
    "start_time": "2022-03-18T13:31:13.056Z"
   },
   {
    "duration": 4,
    "start_time": "2022-03-18T13:31:47.379Z"
   },
   {
    "duration": 9,
    "start_time": "2022-03-18T13:31:47.790Z"
   },
   {
    "duration": 457,
    "start_time": "2022-03-18T14:10:43.946Z"
   },
   {
    "duration": 383,
    "start_time": "2022-03-18T14:10:56.717Z"
   },
   {
    "duration": 4,
    "start_time": "2022-03-18T14:11:37.360Z"
   },
   {
    "duration": 620,
    "start_time": "2022-03-18T14:11:37.366Z"
   },
   {
    "duration": 22,
    "start_time": "2022-03-18T14:11:37.987Z"
   },
   {
    "duration": 28,
    "start_time": "2022-03-18T14:11:38.011Z"
   },
   {
    "duration": 78,
    "start_time": "2022-03-18T14:11:38.042Z"
   },
   {
    "duration": 26,
    "start_time": "2022-03-18T14:11:38.122Z"
   },
   {
    "duration": 29,
    "start_time": "2022-03-18T14:11:38.149Z"
   },
   {
    "duration": 391,
    "start_time": "2022-03-18T14:11:38.180Z"
   },
   {
    "duration": 17,
    "start_time": "2022-03-18T14:11:38.573Z"
   },
   {
    "duration": 3,
    "start_time": "2022-03-18T14:11:38.592Z"
   },
   {
    "duration": 30,
    "start_time": "2022-03-18T14:11:38.597Z"
   },
   {
    "duration": 24,
    "start_time": "2022-03-18T14:11:38.629Z"
   },
   {
    "duration": 24,
    "start_time": "2022-03-18T14:11:38.655Z"
   },
   {
    "duration": 29,
    "start_time": "2022-03-18T14:11:38.681Z"
   },
   {
    "duration": 6,
    "start_time": "2022-03-18T14:11:38.712Z"
   },
   {
    "duration": 178,
    "start_time": "2022-03-18T14:11:38.720Z"
   },
   {
    "duration": 9,
    "start_time": "2022-03-18T14:11:38.900Z"
   },
   {
    "duration": 31,
    "start_time": "2022-03-18T14:11:38.910Z"
   },
   {
    "duration": 14,
    "start_time": "2022-03-18T14:11:38.942Z"
   },
   {
    "duration": 4,
    "start_time": "2022-03-18T14:11:38.958Z"
   },
   {
    "duration": 25,
    "start_time": "2022-03-18T14:11:38.963Z"
   },
   {
    "duration": 23,
    "start_time": "2022-03-18T14:11:38.991Z"
   },
   {
    "duration": 28,
    "start_time": "2022-03-18T14:11:39.015Z"
   },
   {
    "duration": 24,
    "start_time": "2022-03-18T14:11:39.045Z"
   },
   {
    "duration": 18,
    "start_time": "2022-03-18T14:11:39.071Z"
   },
   {
    "duration": 27,
    "start_time": "2022-03-18T14:11:39.091Z"
   },
   {
    "duration": 8,
    "start_time": "2022-03-18T14:11:39.120Z"
   },
   {
    "duration": 9,
    "start_time": "2022-03-18T14:11:39.130Z"
   },
   {
    "duration": 7,
    "start_time": "2022-03-18T14:11:39.141Z"
   },
   {
    "duration": 14,
    "start_time": "2022-03-18T14:11:39.150Z"
   },
   {
    "duration": 6,
    "start_time": "2022-03-18T14:11:39.166Z"
   },
   {
    "duration": 11,
    "start_time": "2022-03-18T14:11:39.173Z"
   },
   {
    "duration": 3,
    "start_time": "2022-03-18T14:11:39.185Z"
   },
   {
    "duration": 418,
    "start_time": "2022-03-18T14:11:39.189Z"
   },
   {
    "duration": 11,
    "start_time": "2022-03-18T14:12:01.547Z"
   },
   {
    "duration": 4,
    "start_time": "2022-03-18T14:12:11.420Z"
   },
   {
    "duration": 321,
    "start_time": "2022-03-18T14:12:11.426Z"
   },
   {
    "duration": 21,
    "start_time": "2022-03-18T14:12:11.748Z"
   },
   {
    "duration": 108,
    "start_time": "2022-03-18T14:12:11.771Z"
   },
   {
    "duration": 79,
    "start_time": "2022-03-18T14:12:11.880Z"
   },
   {
    "duration": 19,
    "start_time": "2022-03-18T14:12:11.960Z"
   },
   {
    "duration": 14,
    "start_time": "2022-03-18T14:12:11.981Z"
   },
   {
    "duration": 404,
    "start_time": "2022-03-18T14:12:11.997Z"
   },
   {
    "duration": 17,
    "start_time": "2022-03-18T14:12:12.403Z"
   },
   {
    "duration": 15,
    "start_time": "2022-03-18T14:12:12.423Z"
   },
   {
    "duration": 13,
    "start_time": "2022-03-18T14:12:12.440Z"
   },
   {
    "duration": 11,
    "start_time": "2022-03-18T14:12:12.454Z"
   },
   {
    "duration": 5,
    "start_time": "2022-03-18T14:12:12.466Z"
   },
   {
    "duration": 14,
    "start_time": "2022-03-18T14:12:12.473Z"
   },
   {
    "duration": 3,
    "start_time": "2022-03-18T14:12:12.489Z"
   },
   {
    "duration": 176,
    "start_time": "2022-03-18T14:12:12.493Z"
   },
   {
    "duration": 9,
    "start_time": "2022-03-18T14:12:12.671Z"
   },
   {
    "duration": 7,
    "start_time": "2022-03-18T14:12:12.682Z"
   },
   {
    "duration": 7,
    "start_time": "2022-03-18T14:12:12.691Z"
   },
   {
    "duration": 4,
    "start_time": "2022-03-18T14:12:12.699Z"
   },
   {
    "duration": 35,
    "start_time": "2022-03-18T14:12:12.704Z"
   },
   {
    "duration": 20,
    "start_time": "2022-03-18T14:12:12.740Z"
   },
   {
    "duration": 9,
    "start_time": "2022-03-18T14:12:12.762Z"
   },
   {
    "duration": 23,
    "start_time": "2022-03-18T14:12:12.773Z"
   },
   {
    "duration": 15,
    "start_time": "2022-03-18T14:12:12.797Z"
   },
   {
    "duration": 38,
    "start_time": "2022-03-18T14:12:12.814Z"
   },
   {
    "duration": 6,
    "start_time": "2022-03-18T14:12:12.854Z"
   },
   {
    "duration": 5,
    "start_time": "2022-03-18T14:12:12.863Z"
   },
   {
    "duration": 7,
    "start_time": "2022-03-18T14:12:12.870Z"
   },
   {
    "duration": 16,
    "start_time": "2022-03-18T14:12:12.879Z"
   },
   {
    "duration": 5,
    "start_time": "2022-03-18T14:12:12.897Z"
   },
   {
    "duration": 12,
    "start_time": "2022-03-18T14:12:12.904Z"
   },
   {
    "duration": 2,
    "start_time": "2022-03-18T14:12:12.938Z"
   },
   {
    "duration": 30,
    "start_time": "2022-03-18T14:12:12.942Z"
   },
   {
    "duration": 119,
    "start_time": "2022-03-18T14:12:31.646Z"
   },
   {
    "duration": 10,
    "start_time": "2022-03-18T14:13:15.575Z"
   },
   {
    "duration": 9,
    "start_time": "2022-03-18T14:13:41.273Z"
   },
   {
    "duration": 10,
    "start_time": "2022-03-18T14:42:49.057Z"
   },
   {
    "duration": 4,
    "start_time": "2022-03-18T14:42:52.261Z"
   },
   {
    "duration": 387,
    "start_time": "2022-03-18T14:42:52.267Z"
   },
   {
    "duration": 18,
    "start_time": "2022-03-18T14:42:52.656Z"
   },
   {
    "duration": 23,
    "start_time": "2022-03-18T14:42:52.676Z"
   },
   {
    "duration": 79,
    "start_time": "2022-03-18T14:42:52.701Z"
   },
   {
    "duration": 18,
    "start_time": "2022-03-18T14:42:52.782Z"
   },
   {
    "duration": 15,
    "start_time": "2022-03-18T14:42:52.802Z"
   },
   {
    "duration": 404,
    "start_time": "2022-03-18T14:42:52.819Z"
   },
   {
    "duration": 25,
    "start_time": "2022-03-18T14:42:53.225Z"
   },
   {
    "duration": 3,
    "start_time": "2022-03-18T14:42:53.252Z"
   },
   {
    "duration": 11,
    "start_time": "2022-03-18T14:42:53.257Z"
   },
   {
    "duration": 12,
    "start_time": "2022-03-18T14:42:53.269Z"
   },
   {
    "duration": 5,
    "start_time": "2022-03-18T14:42:53.283Z"
   },
   {
    "duration": 17,
    "start_time": "2022-03-18T14:42:53.291Z"
   },
   {
    "duration": 29,
    "start_time": "2022-03-18T14:42:53.309Z"
   },
   {
    "duration": 173,
    "start_time": "2022-03-18T14:42:53.339Z"
   },
   {
    "duration": 8,
    "start_time": "2022-03-18T14:42:53.514Z"
   },
   {
    "duration": 18,
    "start_time": "2022-03-18T14:42:53.523Z"
   },
   {
    "duration": 9,
    "start_time": "2022-03-18T14:42:53.542Z"
   },
   {
    "duration": 2,
    "start_time": "2022-03-18T14:42:53.553Z"
   },
   {
    "duration": 11,
    "start_time": "2022-03-18T14:42:53.556Z"
   },
   {
    "duration": 22,
    "start_time": "2022-03-18T14:42:53.568Z"
   },
   {
    "duration": 10,
    "start_time": "2022-03-18T14:42:53.591Z"
   },
   {
    "duration": 50,
    "start_time": "2022-03-18T14:42:53.603Z"
   },
   {
    "duration": 7,
    "start_time": "2022-03-18T14:42:53.655Z"
   },
   {
    "duration": 20,
    "start_time": "2022-03-18T14:42:53.663Z"
   },
   {
    "duration": 3,
    "start_time": "2022-03-18T14:42:53.685Z"
   },
   {
    "duration": 9,
    "start_time": "2022-03-18T14:42:53.689Z"
   },
   {
    "duration": 7,
    "start_time": "2022-03-18T14:42:53.699Z"
   },
   {
    "duration": 38,
    "start_time": "2022-03-18T14:42:53.708Z"
   },
   {
    "duration": 5,
    "start_time": "2022-03-18T14:42:53.748Z"
   },
   {
    "duration": 12,
    "start_time": "2022-03-18T14:42:53.755Z"
   },
   {
    "duration": 10,
    "start_time": "2022-03-18T14:42:53.769Z"
   },
   {
    "duration": 4,
    "start_time": "2022-03-18T14:44:10.651Z"
   },
   {
    "duration": 323,
    "start_time": "2022-03-18T14:44:10.658Z"
   },
   {
    "duration": 20,
    "start_time": "2022-03-18T14:44:10.983Z"
   },
   {
    "duration": 33,
    "start_time": "2022-03-18T14:44:11.005Z"
   },
   {
    "duration": 86,
    "start_time": "2022-03-18T14:44:11.040Z"
   },
   {
    "duration": 20,
    "start_time": "2022-03-18T14:44:11.127Z"
   },
   {
    "duration": 19,
    "start_time": "2022-03-18T14:44:11.149Z"
   },
   {
    "duration": 415,
    "start_time": "2022-03-18T14:44:11.171Z"
   },
   {
    "duration": 19,
    "start_time": "2022-03-18T14:44:11.588Z"
   },
   {
    "duration": 4,
    "start_time": "2022-03-18T14:44:11.610Z"
   },
   {
    "duration": 30,
    "start_time": "2022-03-18T14:44:11.615Z"
   },
   {
    "duration": 17,
    "start_time": "2022-03-18T14:44:11.646Z"
   },
   {
    "duration": 8,
    "start_time": "2022-03-18T14:44:11.665Z"
   },
   {
    "duration": 15,
    "start_time": "2022-03-18T14:44:11.674Z"
   },
   {
    "duration": 8,
    "start_time": "2022-03-18T14:44:11.691Z"
   },
   {
    "duration": 185,
    "start_time": "2022-03-18T14:44:11.701Z"
   },
   {
    "duration": 11,
    "start_time": "2022-03-18T14:44:11.889Z"
   },
   {
    "duration": 28,
    "start_time": "2022-03-18T14:44:11.902Z"
   },
   {
    "duration": 15,
    "start_time": "2022-03-18T14:44:11.932Z"
   },
   {
    "duration": 12,
    "start_time": "2022-03-18T14:44:11.950Z"
   },
   {
    "duration": 16,
    "start_time": "2022-03-18T14:44:11.964Z"
   },
   {
    "duration": 27,
    "start_time": "2022-03-18T14:44:11.982Z"
   },
   {
    "duration": 11,
    "start_time": "2022-03-18T14:44:12.011Z"
   },
   {
    "duration": 32,
    "start_time": "2022-03-18T14:44:12.024Z"
   },
   {
    "duration": 12,
    "start_time": "2022-03-18T14:44:12.057Z"
   },
   {
    "duration": 20,
    "start_time": "2022-03-18T14:44:12.070Z"
   },
   {
    "duration": 3,
    "start_time": "2022-03-18T14:44:12.091Z"
   },
   {
    "duration": 13,
    "start_time": "2022-03-18T14:44:12.097Z"
   },
   {
    "duration": 37,
    "start_time": "2022-03-18T14:44:12.112Z"
   },
   {
    "duration": 19,
    "start_time": "2022-03-18T14:44:12.151Z"
   },
   {
    "duration": 9,
    "start_time": "2022-03-18T14:44:12.172Z"
   },
   {
    "duration": 14,
    "start_time": "2022-03-18T14:44:12.183Z"
   },
   {
    "duration": 363,
    "start_time": "2022-03-18T14:44:12.199Z"
   },
   {
    "duration": 482,
    "start_time": "2022-03-18T14:45:24.183Z"
   },
   {
    "duration": 494,
    "start_time": "2022-03-18T14:56:15.916Z"
   },
   {
    "duration": 4,
    "start_time": "2022-03-18T15:05:53.263Z"
   },
   {
    "duration": 305,
    "start_time": "2022-03-18T15:05:53.269Z"
   },
   {
    "duration": 18,
    "start_time": "2022-03-18T15:05:53.576Z"
   },
   {
    "duration": 20,
    "start_time": "2022-03-18T15:05:53.597Z"
   },
   {
    "duration": 91,
    "start_time": "2022-03-18T15:05:53.618Z"
   },
   {
    "duration": 26,
    "start_time": "2022-03-18T15:05:53.711Z"
   },
   {
    "duration": 12,
    "start_time": "2022-03-18T15:05:53.739Z"
   },
   {
    "duration": 410,
    "start_time": "2022-03-18T15:05:53.752Z"
   },
   {
    "duration": 18,
    "start_time": "2022-03-18T15:05:54.164Z"
   },
   {
    "duration": 3,
    "start_time": "2022-03-18T15:05:54.185Z"
   },
   {
    "duration": 14,
    "start_time": "2022-03-18T15:05:54.191Z"
   },
   {
    "duration": 32,
    "start_time": "2022-03-18T15:05:54.207Z"
   },
   {
    "duration": 7,
    "start_time": "2022-03-18T15:05:54.240Z"
   },
   {
    "duration": 15,
    "start_time": "2022-03-18T15:05:54.249Z"
   },
   {
    "duration": 4,
    "start_time": "2022-03-18T15:05:54.266Z"
   },
   {
    "duration": 176,
    "start_time": "2022-03-18T15:05:54.271Z"
   },
   {
    "duration": 9,
    "start_time": "2022-03-18T15:05:54.449Z"
   },
   {
    "duration": 6,
    "start_time": "2022-03-18T15:05:54.460Z"
   },
   {
    "duration": 7,
    "start_time": "2022-03-18T15:05:54.468Z"
   },
   {
    "duration": 5,
    "start_time": "2022-03-18T15:05:54.477Z"
   },
   {
    "duration": 10,
    "start_time": "2022-03-18T15:05:54.483Z"
   },
   {
    "duration": 44,
    "start_time": "2022-03-18T15:05:54.495Z"
   },
   {
    "duration": 11,
    "start_time": "2022-03-18T15:05:54.541Z"
   },
   {
    "duration": 24,
    "start_time": "2022-03-18T15:05:54.554Z"
   },
   {
    "duration": 9,
    "start_time": "2022-03-18T15:05:54.580Z"
   },
   {
    "duration": 22,
    "start_time": "2022-03-18T15:05:54.591Z"
   },
   {
    "duration": 22,
    "start_time": "2022-03-18T15:05:54.615Z"
   },
   {
    "duration": 5,
    "start_time": "2022-03-18T15:05:54.640Z"
   },
   {
    "duration": 7,
    "start_time": "2022-03-18T15:05:54.647Z"
   },
   {
    "duration": 16,
    "start_time": "2022-03-18T15:05:54.655Z"
   },
   {
    "duration": 7,
    "start_time": "2022-03-18T15:05:54.673Z"
   },
   {
    "duration": 16,
    "start_time": "2022-03-18T15:05:54.683Z"
   },
   {
    "duration": 653,
    "start_time": "2022-03-18T15:05:54.701Z"
   },
   {
    "duration": 584,
    "start_time": "2022-03-18T15:05:55.356Z"
   },
   {
    "duration": 4048,
    "start_time": "2022-03-18T20:39:02.802Z"
   },
   {
    "duration": 318,
    "start_time": "2022-03-18T20:39:06.853Z"
   },
   {
    "duration": 36,
    "start_time": "2022-03-18T20:39:07.173Z"
   },
   {
    "duration": 21,
    "start_time": "2022-03-18T20:39:07.212Z"
   },
   {
    "duration": 103,
    "start_time": "2022-03-18T20:39:07.235Z"
   },
   {
    "duration": 22,
    "start_time": "2022-03-18T20:39:07.340Z"
   },
   {
    "duration": 19,
    "start_time": "2022-03-18T20:39:07.364Z"
   },
   {
    "duration": 447,
    "start_time": "2022-03-18T20:39:07.385Z"
   },
   {
    "duration": 19,
    "start_time": "2022-03-18T20:39:07.834Z"
   },
   {
    "duration": 4,
    "start_time": "2022-03-18T20:39:07.857Z"
   },
   {
    "duration": 14,
    "start_time": "2022-03-18T20:39:07.862Z"
   },
   {
    "duration": 31,
    "start_time": "2022-03-18T20:39:07.878Z"
   },
   {
    "duration": 11,
    "start_time": "2022-03-18T20:39:07.910Z"
   },
   {
    "duration": 11,
    "start_time": "2022-03-18T20:39:07.923Z"
   },
   {
    "duration": 5,
    "start_time": "2022-03-18T20:39:07.936Z"
   },
   {
    "duration": 316,
    "start_time": "2022-03-18T20:39:07.943Z"
   },
   {
    "duration": 14,
    "start_time": "2022-03-18T20:39:08.262Z"
   },
   {
    "duration": 23,
    "start_time": "2022-03-18T20:39:08.278Z"
   },
   {
    "duration": 9,
    "start_time": "2022-03-18T20:39:08.303Z"
   },
   {
    "duration": 10,
    "start_time": "2022-03-18T20:39:08.314Z"
   },
   {
    "duration": 12,
    "start_time": "2022-03-18T20:39:08.325Z"
   },
   {
    "duration": 23,
    "start_time": "2022-03-18T20:39:08.339Z"
   },
   {
    "duration": 43,
    "start_time": "2022-03-18T20:39:08.364Z"
   },
   {
    "duration": 27,
    "start_time": "2022-03-18T20:39:08.409Z"
   },
   {
    "duration": 9,
    "start_time": "2022-03-18T20:39:08.438Z"
   },
   {
    "duration": 53,
    "start_time": "2022-03-18T20:39:08.449Z"
   },
   {
    "duration": 4,
    "start_time": "2022-03-18T20:39:08.505Z"
   },
   {
    "duration": 9,
    "start_time": "2022-03-18T20:39:08.513Z"
   },
   {
    "duration": 7,
    "start_time": "2022-03-18T20:39:08.524Z"
   },
   {
    "duration": 17,
    "start_time": "2022-03-18T20:39:08.533Z"
   },
   {
    "duration": 7,
    "start_time": "2022-03-18T20:39:08.552Z"
   },
   {
    "duration": 40,
    "start_time": "2022-03-18T20:39:08.561Z"
   },
   {
    "duration": 559,
    "start_time": "2022-03-18T20:39:08.603Z"
   },
   {
    "duration": 641,
    "start_time": "2022-03-18T20:39:09.164Z"
   },
   {
    "duration": 3,
    "start_time": "2022-03-18T20:39:09.807Z"
   },
   {
    "duration": 5,
    "start_time": "2022-03-18T20:43:05.713Z"
   },
   {
    "duration": 18,
    "start_time": "2022-03-18T20:43:33.195Z"
   },
   {
    "duration": 120,
    "start_time": "2022-03-18T20:52:56.065Z"
   },
   {
    "duration": 10,
    "start_time": "2022-03-18T20:53:25.358Z"
   },
   {
    "duration": 21,
    "start_time": "2022-03-18T20:54:51.945Z"
   },
   {
    "duration": 5,
    "start_time": "2022-03-18T20:56:42.642Z"
   },
   {
    "duration": 5,
    "start_time": "2022-03-18T20:57:30.662Z"
   },
   {
    "duration": 4,
    "start_time": "2022-03-18T20:58:38.483Z"
   },
   {
    "duration": 319,
    "start_time": "2022-03-18T20:58:38.490Z"
   },
   {
    "duration": 22,
    "start_time": "2022-03-18T20:58:38.811Z"
   },
   {
    "duration": 22,
    "start_time": "2022-03-18T20:58:38.835Z"
   },
   {
    "duration": 99,
    "start_time": "2022-03-18T20:58:38.859Z"
   },
   {
    "duration": 22,
    "start_time": "2022-03-18T20:58:38.960Z"
   },
   {
    "duration": 30,
    "start_time": "2022-03-18T20:58:38.984Z"
   },
   {
    "duration": 411,
    "start_time": "2022-03-18T20:58:39.016Z"
   },
   {
    "duration": 18,
    "start_time": "2022-03-18T20:58:39.429Z"
   },
   {
    "duration": 4,
    "start_time": "2022-03-18T20:58:39.449Z"
   },
   {
    "duration": 11,
    "start_time": "2022-03-18T20:58:39.455Z"
   },
   {
    "duration": 38,
    "start_time": "2022-03-18T20:58:39.468Z"
   },
   {
    "duration": 6,
    "start_time": "2022-03-18T20:58:39.508Z"
   },
   {
    "duration": 10,
    "start_time": "2022-03-18T20:58:39.518Z"
   },
   {
    "duration": 4,
    "start_time": "2022-03-18T20:58:39.530Z"
   },
   {
    "duration": 215,
    "start_time": "2022-03-18T20:58:39.536Z"
   },
   {
    "duration": 11,
    "start_time": "2022-03-18T20:58:39.753Z"
   },
   {
    "duration": 8,
    "start_time": "2022-03-18T20:58:39.766Z"
   },
   {
    "duration": 7,
    "start_time": "2022-03-18T20:58:39.776Z"
   },
   {
    "duration": 3,
    "start_time": "2022-03-18T20:58:39.803Z"
   },
   {
    "duration": 11,
    "start_time": "2022-03-18T20:58:39.809Z"
   },
   {
    "duration": 25,
    "start_time": "2022-03-18T20:58:39.822Z"
   },
   {
    "duration": 12,
    "start_time": "2022-03-18T20:58:39.849Z"
   },
   {
    "duration": 59,
    "start_time": "2022-03-18T20:58:39.863Z"
   },
   {
    "duration": 8,
    "start_time": "2022-03-18T20:58:39.924Z"
   },
   {
    "duration": 24,
    "start_time": "2022-03-18T20:58:39.934Z"
   },
   {
    "duration": 4,
    "start_time": "2022-03-18T20:58:39.961Z"
   },
   {
    "duration": 34,
    "start_time": "2022-03-18T20:58:39.967Z"
   },
   {
    "duration": 17,
    "start_time": "2022-03-18T20:58:40.003Z"
   },
   {
    "duration": 21,
    "start_time": "2022-03-18T20:58:40.021Z"
   },
   {
    "duration": 9,
    "start_time": "2022-03-18T20:58:40.044Z"
   },
   {
    "duration": 16,
    "start_time": "2022-03-18T20:58:40.055Z"
   },
   {
    "duration": 554,
    "start_time": "2022-03-18T20:58:40.073Z"
   },
   {
    "duration": 575,
    "start_time": "2022-03-18T20:58:40.629Z"
   },
   {
    "duration": 4,
    "start_time": "2022-03-18T20:58:41.206Z"
   },
   {
    "duration": 8,
    "start_time": "2022-03-18T20:58:41.212Z"
   },
   {
    "duration": 22,
    "start_time": "2022-03-18T20:58:41.222Z"
   },
   {
    "duration": 5,
    "start_time": "2022-03-18T20:58:41.246Z"
   },
   {
    "duration": 7,
    "start_time": "2022-03-18T20:58:41.253Z"
   },
   {
    "duration": 39,
    "start_time": "2022-03-18T20:58:41.262Z"
   },
   {
    "duration": 16,
    "start_time": "2022-03-18T21:05:51.535Z"
   },
   {
    "duration": 4,
    "start_time": "2022-03-18T21:05:58.694Z"
   },
   {
    "duration": 339,
    "start_time": "2022-03-18T21:05:58.700Z"
   },
   {
    "duration": 24,
    "start_time": "2022-03-18T21:05:59.041Z"
   },
   {
    "duration": 41,
    "start_time": "2022-03-18T21:05:59.067Z"
   },
   {
    "duration": 91,
    "start_time": "2022-03-18T21:05:59.110Z"
   },
   {
    "duration": 23,
    "start_time": "2022-03-18T21:05:59.203Z"
   },
   {
    "duration": 15,
    "start_time": "2022-03-18T21:05:59.228Z"
   },
   {
    "duration": 437,
    "start_time": "2022-03-18T21:05:59.244Z"
   },
   {
    "duration": 27,
    "start_time": "2022-03-18T21:05:59.684Z"
   },
   {
    "duration": 4,
    "start_time": "2022-03-18T21:05:59.713Z"
   },
   {
    "duration": 13,
    "start_time": "2022-03-18T21:05:59.718Z"
   },
   {
    "duration": 15,
    "start_time": "2022-03-18T21:05:59.733Z"
   },
   {
    "duration": 6,
    "start_time": "2022-03-18T21:05:59.750Z"
   },
   {
    "duration": 12,
    "start_time": "2022-03-18T21:05:59.758Z"
   },
   {
    "duration": 3,
    "start_time": "2022-03-18T21:05:59.801Z"
   },
   {
    "duration": 213,
    "start_time": "2022-03-18T21:05:59.806Z"
   },
   {
    "duration": 10,
    "start_time": "2022-03-18T21:06:00.021Z"
   },
   {
    "duration": 10,
    "start_time": "2022-03-18T21:06:00.034Z"
   },
   {
    "duration": 9,
    "start_time": "2022-03-18T21:06:00.046Z"
   },
   {
    "duration": 8,
    "start_time": "2022-03-18T21:06:00.057Z"
   },
   {
    "duration": 38,
    "start_time": "2022-03-18T21:06:00.067Z"
   },
   {
    "duration": 23,
    "start_time": "2022-03-18T21:06:00.107Z"
   },
   {
    "duration": 15,
    "start_time": "2022-03-18T21:06:00.132Z"
   },
   {
    "duration": 27,
    "start_time": "2022-03-18T21:06:00.151Z"
   },
   {
    "duration": 8,
    "start_time": "2022-03-18T21:06:00.201Z"
   },
   {
    "duration": 23,
    "start_time": "2022-03-18T21:06:00.211Z"
   },
   {
    "duration": 7,
    "start_time": "2022-03-18T21:06:00.235Z"
   },
   {
    "duration": 14,
    "start_time": "2022-03-18T21:06:00.244Z"
   },
   {
    "duration": 12,
    "start_time": "2022-03-18T21:06:00.260Z"
   },
   {
    "duration": 37,
    "start_time": "2022-03-18T21:06:00.274Z"
   },
   {
    "duration": 8,
    "start_time": "2022-03-18T21:06:00.314Z"
   },
   {
    "duration": 19,
    "start_time": "2022-03-18T21:06:00.324Z"
   },
   {
    "duration": 691,
    "start_time": "2022-03-18T21:06:00.345Z"
   },
   {
    "duration": 780,
    "start_time": "2022-03-18T21:06:01.038Z"
   },
   {
    "duration": 4,
    "start_time": "2022-03-18T21:06:01.820Z"
   },
   {
    "duration": 15,
    "start_time": "2022-03-18T21:06:01.826Z"
   },
   {
    "duration": 27,
    "start_time": "2022-03-18T21:06:01.843Z"
   },
   {
    "duration": 122,
    "start_time": "2022-03-18T21:06:01.872Z"
   },
   {
    "duration": 0,
    "start_time": "2022-03-18T21:06:01.996Z"
   },
   {
    "duration": 0,
    "start_time": "2022-03-18T21:06:01.998Z"
   },
   {
    "duration": 0,
    "start_time": "2022-03-18T21:06:01.999Z"
   },
   {
    "duration": 5,
    "start_time": "2022-03-18T21:06:17.404Z"
   },
   {
    "duration": 367,
    "start_time": "2022-03-18T21:06:17.412Z"
   },
   {
    "duration": 34,
    "start_time": "2022-03-18T21:06:17.781Z"
   },
   {
    "duration": 28,
    "start_time": "2022-03-18T21:06:17.818Z"
   },
   {
    "duration": 95,
    "start_time": "2022-03-18T21:06:17.848Z"
   },
   {
    "duration": 24,
    "start_time": "2022-03-18T21:06:17.945Z"
   },
   {
    "duration": 34,
    "start_time": "2022-03-18T21:06:17.971Z"
   },
   {
    "duration": 429,
    "start_time": "2022-03-18T21:06:18.006Z"
   },
   {
    "duration": 22,
    "start_time": "2022-03-18T21:06:18.437Z"
   },
   {
    "duration": 4,
    "start_time": "2022-03-18T21:06:18.463Z"
   },
   {
    "duration": 34,
    "start_time": "2022-03-18T21:06:18.469Z"
   },
   {
    "duration": 12,
    "start_time": "2022-03-18T21:06:18.505Z"
   },
   {
    "duration": 18,
    "start_time": "2022-03-18T21:06:18.519Z"
   },
   {
    "duration": 28,
    "start_time": "2022-03-18T21:06:18.539Z"
   },
   {
    "duration": 4,
    "start_time": "2022-03-18T21:06:18.568Z"
   },
   {
    "duration": 284,
    "start_time": "2022-03-18T21:06:18.575Z"
   },
   {
    "duration": 13,
    "start_time": "2022-03-18T21:06:18.861Z"
   },
   {
    "duration": 10,
    "start_time": "2022-03-18T21:06:18.876Z"
   },
   {
    "duration": 8,
    "start_time": "2022-03-18T21:06:18.902Z"
   },
   {
    "duration": 21,
    "start_time": "2022-03-18T21:06:18.912Z"
   },
   {
    "duration": 20,
    "start_time": "2022-03-18T21:06:18.935Z"
   },
   {
    "duration": 61,
    "start_time": "2022-03-18T21:06:18.957Z"
   },
   {
    "duration": 30,
    "start_time": "2022-03-18T21:06:19.020Z"
   },
   {
    "duration": 27,
    "start_time": "2022-03-18T21:06:19.052Z"
   },
   {
    "duration": 29,
    "start_time": "2022-03-18T21:06:19.081Z"
   },
   {
    "duration": 37,
    "start_time": "2022-03-18T21:06:19.112Z"
   },
   {
    "duration": 22,
    "start_time": "2022-03-18T21:06:19.150Z"
   },
   {
    "duration": 18,
    "start_time": "2022-03-18T21:06:19.176Z"
   },
   {
    "duration": 34,
    "start_time": "2022-03-18T21:06:19.196Z"
   },
   {
    "duration": 25,
    "start_time": "2022-03-18T21:06:19.233Z"
   },
   {
    "duration": 24,
    "start_time": "2022-03-18T21:06:19.260Z"
   },
   {
    "duration": 34,
    "start_time": "2022-03-18T21:06:19.286Z"
   },
   {
    "duration": 531,
    "start_time": "2022-03-18T21:06:19.322Z"
   },
   {
    "duration": 681,
    "start_time": "2022-03-18T21:06:19.855Z"
   },
   {
    "duration": 3,
    "start_time": "2022-03-18T21:06:20.538Z"
   },
   {
    "duration": 35,
    "start_time": "2022-03-18T21:06:20.543Z"
   },
   {
    "duration": 43,
    "start_time": "2022-03-18T21:06:20.580Z"
   },
   {
    "duration": 13,
    "start_time": "2022-03-18T21:06:20.625Z"
   },
   {
    "duration": 19,
    "start_time": "2022-03-18T21:06:20.640Z"
   },
   {
    "duration": 21,
    "start_time": "2022-03-18T21:06:20.661Z"
   },
   {
    "duration": 28,
    "start_time": "2022-03-18T21:06:20.684Z"
   },
   {
    "duration": 2433,
    "start_time": "2022-03-18T21:07:19.921Z"
   },
   {
    "duration": 16,
    "start_time": "2022-03-18T21:07:33.934Z"
   },
   {
    "duration": 3,
    "start_time": "2022-03-18T21:11:46.829Z"
   },
   {
    "duration": 131,
    "start_time": "2022-03-18T21:14:20.065Z"
   },
   {
    "duration": 4,
    "start_time": "2022-03-18T21:14:24.537Z"
   },
   {
    "duration": 323,
    "start_time": "2022-03-18T21:14:24.543Z"
   },
   {
    "duration": 21,
    "start_time": "2022-03-18T21:14:24.868Z"
   },
   {
    "duration": 18,
    "start_time": "2022-03-18T21:14:24.901Z"
   },
   {
    "duration": 99,
    "start_time": "2022-03-18T21:14:24.921Z"
   },
   {
    "duration": 23,
    "start_time": "2022-03-18T21:14:25.022Z"
   },
   {
    "duration": 19,
    "start_time": "2022-03-18T21:14:25.047Z"
   },
   {
    "duration": 416,
    "start_time": "2022-03-18T21:14:25.067Z"
   },
   {
    "duration": 24,
    "start_time": "2022-03-18T21:14:25.485Z"
   },
   {
    "duration": 4,
    "start_time": "2022-03-18T21:14:25.512Z"
   },
   {
    "duration": 12,
    "start_time": "2022-03-18T21:14:25.517Z"
   },
   {
    "duration": 12,
    "start_time": "2022-03-18T21:14:25.531Z"
   },
   {
    "duration": 7,
    "start_time": "2022-03-18T21:14:25.545Z"
   },
   {
    "duration": 47,
    "start_time": "2022-03-18T21:14:25.555Z"
   },
   {
    "duration": 4,
    "start_time": "2022-03-18T21:14:25.604Z"
   },
   {
    "duration": 193,
    "start_time": "2022-03-18T21:14:25.609Z"
   },
   {
    "duration": 9,
    "start_time": "2022-03-18T21:14:25.804Z"
   },
   {
    "duration": 10,
    "start_time": "2022-03-18T21:14:25.815Z"
   },
   {
    "duration": 10,
    "start_time": "2022-03-18T21:14:25.826Z"
   },
   {
    "duration": 3,
    "start_time": "2022-03-18T21:14:25.838Z"
   },
   {
    "duration": 13,
    "start_time": "2022-03-18T21:14:25.842Z"
   },
   {
    "duration": 54,
    "start_time": "2022-03-18T21:14:25.857Z"
   },
   {
    "duration": 11,
    "start_time": "2022-03-18T21:14:25.913Z"
   },
   {
    "duration": 26,
    "start_time": "2022-03-18T21:14:25.926Z"
   },
   {
    "duration": 8,
    "start_time": "2022-03-18T21:14:25.954Z"
   },
   {
    "duration": 62,
    "start_time": "2022-03-18T21:14:25.964Z"
   },
   {
    "duration": 6,
    "start_time": "2022-03-18T21:14:26.028Z"
   },
   {
    "duration": 10,
    "start_time": "2022-03-18T21:14:26.036Z"
   },
   {
    "duration": 10,
    "start_time": "2022-03-18T21:14:26.048Z"
   },
   {
    "duration": 17,
    "start_time": "2022-03-18T21:14:26.061Z"
   },
   {
    "duration": 21,
    "start_time": "2022-03-18T21:14:26.080Z"
   },
   {
    "duration": 13,
    "start_time": "2022-03-18T21:14:26.106Z"
   },
   {
    "duration": 549,
    "start_time": "2022-03-18T21:14:26.121Z"
   },
   {
    "duration": 649,
    "start_time": "2022-03-18T21:14:26.672Z"
   },
   {
    "duration": 3,
    "start_time": "2022-03-18T21:14:27.323Z"
   },
   {
    "duration": 10,
    "start_time": "2022-03-18T21:14:27.328Z"
   },
   {
    "duration": 19,
    "start_time": "2022-03-18T21:14:27.341Z"
   },
   {
    "duration": 9,
    "start_time": "2022-03-18T21:14:27.361Z"
   },
   {
    "duration": 8,
    "start_time": "2022-03-18T21:14:27.372Z"
   },
   {
    "duration": 5,
    "start_time": "2022-03-18T21:14:27.402Z"
   },
   {
    "duration": 16,
    "start_time": "2022-03-18T21:14:27.411Z"
   },
   {
    "duration": 6,
    "start_time": "2022-03-18T21:14:27.428Z"
   },
   {
    "duration": 160,
    "start_time": "2022-03-18T21:14:27.435Z"
   },
   {
    "duration": 6,
    "start_time": "2022-03-18T21:15:42.133Z"
   },
   {
    "duration": 339,
    "start_time": "2022-03-18T21:15:42.142Z"
   },
   {
    "duration": 27,
    "start_time": "2022-03-18T21:15:42.483Z"
   },
   {
    "duration": 166,
    "start_time": "2022-03-18T21:15:42.512Z"
   },
   {
    "duration": 86,
    "start_time": "2022-03-18T21:15:42.681Z"
   },
   {
    "duration": 21,
    "start_time": "2022-03-18T21:15:42.770Z"
   },
   {
    "duration": 14,
    "start_time": "2022-03-18T21:15:42.802Z"
   },
   {
    "duration": 418,
    "start_time": "2022-03-18T21:15:42.818Z"
   },
   {
    "duration": 20,
    "start_time": "2022-03-18T21:15:43.237Z"
   },
   {
    "duration": 4,
    "start_time": "2022-03-18T21:15:43.259Z"
   },
   {
    "duration": 13,
    "start_time": "2022-03-18T21:15:43.264Z"
   },
   {
    "duration": 31,
    "start_time": "2022-03-18T21:15:43.279Z"
   },
   {
    "duration": 11,
    "start_time": "2022-03-18T21:15:43.312Z"
   },
   {
    "duration": 11,
    "start_time": "2022-03-18T21:15:43.327Z"
   },
   {
    "duration": 4,
    "start_time": "2022-03-18T21:15:43.340Z"
   },
   {
    "duration": 203,
    "start_time": "2022-03-18T21:15:43.345Z"
   },
   {
    "duration": 10,
    "start_time": "2022-03-18T21:15:43.550Z"
   },
   {
    "duration": 8,
    "start_time": "2022-03-18T21:15:43.563Z"
   },
   {
    "duration": 28,
    "start_time": "2022-03-18T21:15:43.573Z"
   },
   {
    "duration": 3,
    "start_time": "2022-03-18T21:15:43.603Z"
   },
   {
    "duration": 12,
    "start_time": "2022-03-18T21:15:43.607Z"
   },
   {
    "duration": 24,
    "start_time": "2022-03-18T21:15:43.621Z"
   },
   {
    "duration": 11,
    "start_time": "2022-03-18T21:15:43.647Z"
   },
   {
    "duration": 55,
    "start_time": "2022-03-18T21:15:43.660Z"
   },
   {
    "duration": 11,
    "start_time": "2022-03-18T21:15:43.717Z"
   },
   {
    "duration": 26,
    "start_time": "2022-03-18T21:15:43.730Z"
   },
   {
    "duration": 7,
    "start_time": "2022-03-18T21:15:43.758Z"
   },
   {
    "duration": 17,
    "start_time": "2022-03-18T21:15:43.767Z"
   },
   {
    "duration": 16,
    "start_time": "2022-03-18T21:15:43.786Z"
   },
   {
    "duration": 18,
    "start_time": "2022-03-18T21:15:43.803Z"
   },
   {
    "duration": 9,
    "start_time": "2022-03-18T21:15:43.823Z"
   },
   {
    "duration": 17,
    "start_time": "2022-03-18T21:15:43.833Z"
   },
   {
    "duration": 557,
    "start_time": "2022-03-18T21:15:43.852Z"
   },
   {
    "duration": 563,
    "start_time": "2022-03-18T21:15:44.411Z"
   },
   {
    "duration": 4,
    "start_time": "2022-03-18T21:15:44.976Z"
   },
   {
    "duration": 24,
    "start_time": "2022-03-18T21:15:44.981Z"
   },
   {
    "duration": 69,
    "start_time": "2022-03-18T21:15:45.008Z"
   },
   {
    "duration": 31,
    "start_time": "2022-03-18T21:15:45.079Z"
   },
   {
    "duration": 28,
    "start_time": "2022-03-18T21:15:45.113Z"
   },
   {
    "duration": 28,
    "start_time": "2022-03-18T21:15:45.143Z"
   },
   {
    "duration": 18,
    "start_time": "2022-03-18T21:15:45.177Z"
   },
   {
    "duration": 37,
    "start_time": "2022-03-18T21:15:45.197Z"
   },
   {
    "duration": 153,
    "start_time": "2022-03-18T21:15:45.237Z"
   },
   {
    "duration": 4,
    "start_time": "2022-03-18T21:16:00.726Z"
   },
   {
    "duration": 352,
    "start_time": "2022-03-18T21:16:00.732Z"
   },
   {
    "duration": 27,
    "start_time": "2022-03-18T21:16:01.086Z"
   },
   {
    "duration": 27,
    "start_time": "2022-03-18T21:16:01.115Z"
   },
   {
    "duration": 98,
    "start_time": "2022-03-18T21:16:01.144Z"
   },
   {
    "duration": 23,
    "start_time": "2022-03-18T21:16:01.245Z"
   },
   {
    "duration": 32,
    "start_time": "2022-03-18T21:16:01.270Z"
   },
   {
    "duration": 421,
    "start_time": "2022-03-18T21:16:01.304Z"
   },
   {
    "duration": 20,
    "start_time": "2022-03-18T21:16:01.727Z"
   },
   {
    "duration": 4,
    "start_time": "2022-03-18T21:16:01.750Z"
   },
   {
    "duration": 18,
    "start_time": "2022-03-18T21:16:01.756Z"
   },
   {
    "duration": 32,
    "start_time": "2022-03-18T21:16:01.776Z"
   },
   {
    "duration": 13,
    "start_time": "2022-03-18T21:16:01.811Z"
   },
   {
    "duration": 14,
    "start_time": "2022-03-18T21:16:01.826Z"
   },
   {
    "duration": 4,
    "start_time": "2022-03-18T21:16:01.842Z"
   },
   {
    "duration": 194,
    "start_time": "2022-03-18T21:16:01.848Z"
   },
   {
    "duration": 10,
    "start_time": "2022-03-18T21:16:02.044Z"
   },
   {
    "duration": 13,
    "start_time": "2022-03-18T21:16:02.056Z"
   },
   {
    "duration": 22,
    "start_time": "2022-03-18T21:16:02.071Z"
   },
   {
    "duration": 16,
    "start_time": "2022-03-18T21:16:02.095Z"
   },
   {
    "duration": 15,
    "start_time": "2022-03-18T21:16:02.114Z"
   },
   {
    "duration": 23,
    "start_time": "2022-03-18T21:16:02.131Z"
   },
   {
    "duration": 16,
    "start_time": "2022-03-18T21:16:02.156Z"
   },
   {
    "duration": 48,
    "start_time": "2022-03-18T21:16:02.174Z"
   },
   {
    "duration": 60,
    "start_time": "2022-03-18T21:16:02.224Z"
   },
   {
    "duration": 40,
    "start_time": "2022-03-18T21:16:02.286Z"
   },
   {
    "duration": 22,
    "start_time": "2022-03-18T21:16:02.328Z"
   },
   {
    "duration": 37,
    "start_time": "2022-03-18T21:16:02.354Z"
   },
   {
    "duration": 119,
    "start_time": "2022-03-18T21:16:02.393Z"
   },
   {
    "duration": 39,
    "start_time": "2022-03-18T21:16:02.514Z"
   },
   {
    "duration": 9,
    "start_time": "2022-03-18T21:16:02.555Z"
   },
   {
    "duration": 33,
    "start_time": "2022-03-18T21:16:02.566Z"
   },
   {
    "duration": 533,
    "start_time": "2022-03-18T21:16:02.601Z"
   },
   {
    "duration": 714,
    "start_time": "2022-03-18T21:16:03.137Z"
   },
   {
    "duration": 4,
    "start_time": "2022-03-18T21:16:03.854Z"
   },
   {
    "duration": 21,
    "start_time": "2022-03-18T21:16:03.859Z"
   },
   {
    "duration": 46,
    "start_time": "2022-03-18T21:16:03.882Z"
   },
   {
    "duration": 14,
    "start_time": "2022-03-18T21:16:03.930Z"
   },
   {
    "duration": 14,
    "start_time": "2022-03-18T21:16:03.946Z"
   },
   {
    "duration": 27,
    "start_time": "2022-03-18T21:16:03.962Z"
   },
   {
    "duration": 27,
    "start_time": "2022-03-18T21:16:03.991Z"
   },
   {
    "duration": 10,
    "start_time": "2022-03-18T21:16:04.020Z"
   },
   {
    "duration": 138,
    "start_time": "2022-03-18T21:16:04.032Z"
   },
   {
    "duration": 145,
    "start_time": "2022-03-18T21:19:23.911Z"
   },
   {
    "duration": 5,
    "start_time": "2022-03-18T21:21:11.462Z"
   },
   {
    "duration": 320,
    "start_time": "2022-03-18T21:21:11.471Z"
   },
   {
    "duration": 26,
    "start_time": "2022-03-18T21:21:11.793Z"
   },
   {
    "duration": 19,
    "start_time": "2022-03-18T21:21:11.821Z"
   },
   {
    "duration": 104,
    "start_time": "2022-03-18T21:21:11.843Z"
   },
   {
    "duration": 22,
    "start_time": "2022-03-18T21:21:11.949Z"
   },
   {
    "duration": 29,
    "start_time": "2022-03-18T21:21:11.973Z"
   },
   {
    "duration": 410,
    "start_time": "2022-03-18T21:21:12.004Z"
   },
   {
    "duration": 19,
    "start_time": "2022-03-18T21:21:12.416Z"
   },
   {
    "duration": 5,
    "start_time": "2022-03-18T21:21:12.437Z"
   },
   {
    "duration": 21,
    "start_time": "2022-03-18T21:21:12.444Z"
   },
   {
    "duration": 29,
    "start_time": "2022-03-18T21:21:12.467Z"
   },
   {
    "duration": 18,
    "start_time": "2022-03-18T21:21:12.500Z"
   },
   {
    "duration": 21,
    "start_time": "2022-03-18T21:21:12.522Z"
   },
   {
    "duration": 16,
    "start_time": "2022-03-18T21:21:12.545Z"
   },
   {
    "duration": 192,
    "start_time": "2022-03-18T21:21:12.563Z"
   },
   {
    "duration": 10,
    "start_time": "2022-03-18T21:21:12.757Z"
   },
   {
    "duration": 24,
    "start_time": "2022-03-18T21:21:12.769Z"
   },
   {
    "duration": 20,
    "start_time": "2022-03-18T21:21:12.795Z"
   },
   {
    "duration": 18,
    "start_time": "2022-03-18T21:21:12.817Z"
   },
   {
    "duration": 25,
    "start_time": "2022-03-18T21:21:12.837Z"
   },
   {
    "duration": 29,
    "start_time": "2022-03-18T21:21:12.864Z"
   },
   {
    "duration": 27,
    "start_time": "2022-03-18T21:21:12.896Z"
   },
   {
    "duration": 32,
    "start_time": "2022-03-18T21:21:12.925Z"
   },
   {
    "duration": 19,
    "start_time": "2022-03-18T21:21:12.959Z"
   },
   {
    "duration": 37,
    "start_time": "2022-03-18T21:21:12.980Z"
   },
   {
    "duration": 22,
    "start_time": "2022-03-18T21:21:13.019Z"
   },
   {
    "duration": 41,
    "start_time": "2022-03-18T21:21:13.043Z"
   },
   {
    "duration": 35,
    "start_time": "2022-03-18T21:21:13.086Z"
   },
   {
    "duration": 19,
    "start_time": "2022-03-18T21:21:13.123Z"
   },
   {
    "duration": 5,
    "start_time": "2022-03-18T21:21:13.144Z"
   },
   {
    "duration": 14,
    "start_time": "2022-03-18T21:21:13.151Z"
   },
   {
    "duration": 548,
    "start_time": "2022-03-18T21:21:13.167Z"
   },
   {
    "duration": 659,
    "start_time": "2022-03-18T21:21:13.717Z"
   },
   {
    "duration": 3,
    "start_time": "2022-03-18T21:21:14.379Z"
   },
   {
    "duration": 19,
    "start_time": "2022-03-18T21:21:14.385Z"
   },
   {
    "duration": 21,
    "start_time": "2022-03-18T21:21:14.406Z"
   },
   {
    "duration": 7,
    "start_time": "2022-03-18T21:21:14.429Z"
   },
   {
    "duration": 7,
    "start_time": "2022-03-18T21:21:14.439Z"
   },
   {
    "duration": 5,
    "start_time": "2022-03-18T21:21:14.448Z"
   },
   {
    "duration": 19,
    "start_time": "2022-03-18T21:21:14.457Z"
   },
   {
    "duration": 29,
    "start_time": "2022-03-18T21:21:14.478Z"
   },
   {
    "duration": 153,
    "start_time": "2022-03-18T21:21:14.509Z"
   },
   {
    "duration": 13,
    "start_time": "2022-03-18T21:36:30.369Z"
   },
   {
    "duration": 15,
    "start_time": "2022-03-18T21:38:23.767Z"
   },
   {
    "duration": 4,
    "start_time": "2022-03-18T21:38:28.250Z"
   },
   {
    "duration": 305,
    "start_time": "2022-03-18T21:38:28.257Z"
   },
   {
    "duration": 23,
    "start_time": "2022-03-18T21:38:28.564Z"
   },
   {
    "duration": 20,
    "start_time": "2022-03-18T21:38:28.602Z"
   },
   {
    "duration": 102,
    "start_time": "2022-03-18T21:38:28.624Z"
   },
   {
    "duration": 23,
    "start_time": "2022-03-18T21:38:28.728Z"
   },
   {
    "duration": 15,
    "start_time": "2022-03-18T21:38:28.752Z"
   },
   {
    "duration": 436,
    "start_time": "2022-03-18T21:38:28.769Z"
   },
   {
    "duration": 20,
    "start_time": "2022-03-18T21:38:29.207Z"
   },
   {
    "duration": 4,
    "start_time": "2022-03-18T21:38:29.230Z"
   },
   {
    "duration": 17,
    "start_time": "2022-03-18T21:38:29.236Z"
   },
   {
    "duration": 14,
    "start_time": "2022-03-18T21:38:29.255Z"
   },
   {
    "duration": 32,
    "start_time": "2022-03-18T21:38:29.271Z"
   },
   {
    "duration": 12,
    "start_time": "2022-03-18T21:38:29.306Z"
   },
   {
    "duration": 7,
    "start_time": "2022-03-18T21:38:29.320Z"
   },
   {
    "duration": 203,
    "start_time": "2022-03-18T21:38:29.329Z"
   },
   {
    "duration": 10,
    "start_time": "2022-03-18T21:38:29.533Z"
   },
   {
    "duration": 9,
    "start_time": "2022-03-18T21:38:29.544Z"
   },
   {
    "duration": 8,
    "start_time": "2022-03-18T21:38:29.555Z"
   },
   {
    "duration": 4,
    "start_time": "2022-03-18T21:38:29.565Z"
   },
   {
    "duration": 30,
    "start_time": "2022-03-18T21:38:29.571Z"
   },
   {
    "duration": 26,
    "start_time": "2022-03-18T21:38:29.603Z"
   },
   {
    "duration": 14,
    "start_time": "2022-03-18T21:38:29.631Z"
   },
   {
    "duration": 28,
    "start_time": "2022-03-18T21:38:29.647Z"
   },
   {
    "duration": 29,
    "start_time": "2022-03-18T21:38:29.677Z"
   },
   {
    "duration": 23,
    "start_time": "2022-03-18T21:38:29.708Z"
   },
   {
    "duration": 5,
    "start_time": "2022-03-18T21:38:29.733Z"
   },
   {
    "duration": 5,
    "start_time": "2022-03-18T21:38:29.742Z"
   },
   {
    "duration": 7,
    "start_time": "2022-03-18T21:38:29.748Z"
   },
   {
    "duration": 46,
    "start_time": "2022-03-18T21:38:29.756Z"
   },
   {
    "duration": 5,
    "start_time": "2022-03-18T21:38:29.804Z"
   },
   {
    "duration": 13,
    "start_time": "2022-03-18T21:38:29.811Z"
   },
   {
    "duration": 560,
    "start_time": "2022-03-18T21:38:29.826Z"
   },
   {
    "duration": 574,
    "start_time": "2022-03-18T21:38:30.388Z"
   },
   {
    "duration": 3,
    "start_time": "2022-03-18T21:38:30.964Z"
   },
   {
    "duration": 22,
    "start_time": "2022-03-18T21:38:30.968Z"
   },
   {
    "duration": 24,
    "start_time": "2022-03-18T21:38:30.992Z"
   },
   {
    "duration": 15,
    "start_time": "2022-03-18T21:38:31.018Z"
   },
   {
    "duration": 9,
    "start_time": "2022-03-18T21:38:31.036Z"
   },
   {
    "duration": 6,
    "start_time": "2022-03-18T21:38:31.047Z"
   },
   {
    "duration": 23,
    "start_time": "2022-03-18T21:38:31.054Z"
   },
   {
    "duration": 22,
    "start_time": "2022-03-18T21:38:31.079Z"
   },
   {
    "duration": 276,
    "start_time": "2022-03-18T21:38:31.104Z"
   },
   {
    "duration": 20,
    "start_time": "2022-03-18T21:38:31.382Z"
   },
   {
    "duration": 4,
    "start_time": "2022-03-18T21:39:33.702Z"
   },
   {
    "duration": 338,
    "start_time": "2022-03-18T21:39:33.708Z"
   },
   {
    "duration": 22,
    "start_time": "2022-03-18T21:39:34.048Z"
   },
   {
    "duration": 37,
    "start_time": "2022-03-18T21:39:34.073Z"
   },
   {
    "duration": 89,
    "start_time": "2022-03-18T21:39:34.112Z"
   },
   {
    "duration": 22,
    "start_time": "2022-03-18T21:39:34.203Z"
   },
   {
    "duration": 22,
    "start_time": "2022-03-18T21:39:34.227Z"
   },
   {
    "duration": 416,
    "start_time": "2022-03-18T21:39:34.251Z"
   },
   {
    "duration": 18,
    "start_time": "2022-03-18T21:39:34.669Z"
   },
   {
    "duration": 6,
    "start_time": "2022-03-18T21:39:34.700Z"
   },
   {
    "duration": 28,
    "start_time": "2022-03-18T21:39:34.708Z"
   },
   {
    "duration": 16,
    "start_time": "2022-03-18T21:39:34.738Z"
   },
   {
    "duration": 8,
    "start_time": "2022-03-18T21:39:34.755Z"
   },
   {
    "duration": 27,
    "start_time": "2022-03-18T21:39:34.765Z"
   },
   {
    "duration": 4,
    "start_time": "2022-03-18T21:39:34.794Z"
   },
   {
    "duration": 186,
    "start_time": "2022-03-18T21:39:34.799Z"
   },
   {
    "duration": 15,
    "start_time": "2022-03-18T21:39:34.987Z"
   },
   {
    "duration": 8,
    "start_time": "2022-03-18T21:39:35.004Z"
   },
   {
    "duration": 13,
    "start_time": "2022-03-18T21:39:35.014Z"
   },
   {
    "duration": 12,
    "start_time": "2022-03-18T21:39:35.030Z"
   },
   {
    "duration": 21,
    "start_time": "2022-03-18T21:39:35.044Z"
   },
   {
    "duration": 28,
    "start_time": "2022-03-18T21:39:35.067Z"
   },
   {
    "duration": 13,
    "start_time": "2022-03-18T21:39:35.097Z"
   },
   {
    "duration": 28,
    "start_time": "2022-03-18T21:39:35.112Z"
   },
   {
    "duration": 18,
    "start_time": "2022-03-18T21:39:35.142Z"
   },
   {
    "duration": 41,
    "start_time": "2022-03-18T21:39:35.162Z"
   },
   {
    "duration": 3,
    "start_time": "2022-03-18T21:39:35.205Z"
   },
   {
    "duration": 12,
    "start_time": "2022-03-18T21:39:35.211Z"
   },
   {
    "duration": 11,
    "start_time": "2022-03-18T21:39:35.225Z"
   },
   {
    "duration": 24,
    "start_time": "2022-03-18T21:39:35.238Z"
   },
   {
    "duration": 12,
    "start_time": "2022-03-18T21:39:35.264Z"
   },
   {
    "duration": 15,
    "start_time": "2022-03-18T21:39:35.278Z"
   },
   {
    "duration": 535,
    "start_time": "2022-03-18T21:39:35.296Z"
   },
   {
    "duration": 546,
    "start_time": "2022-03-18T21:39:35.833Z"
   },
   {
    "duration": 3,
    "start_time": "2022-03-18T21:39:36.381Z"
   },
   {
    "duration": 19,
    "start_time": "2022-03-18T21:39:36.386Z"
   },
   {
    "duration": 18,
    "start_time": "2022-03-18T21:39:36.407Z"
   },
   {
    "duration": 9,
    "start_time": "2022-03-18T21:39:36.427Z"
   },
   {
    "duration": 7,
    "start_time": "2022-03-18T21:39:36.438Z"
   },
   {
    "duration": 6,
    "start_time": "2022-03-18T21:39:36.447Z"
   },
   {
    "duration": 27,
    "start_time": "2022-03-18T21:39:36.454Z"
   },
   {
    "duration": 19,
    "start_time": "2022-03-18T21:39:36.483Z"
   },
   {
    "duration": 155,
    "start_time": "2022-03-18T21:39:36.504Z"
   },
   {
    "duration": 14,
    "start_time": "2022-03-18T21:39:36.661Z"
   },
   {
    "duration": 14,
    "start_time": "2022-03-18T21:40:43.334Z"
   },
   {
    "duration": 13,
    "start_time": "2022-03-18T21:40:48.415Z"
   },
   {
    "duration": 14,
    "start_time": "2022-03-18T21:41:04.415Z"
   },
   {
    "duration": 18,
    "start_time": "2022-03-18T21:59:20.544Z"
   },
   {
    "duration": 16,
    "start_time": "2022-03-18T22:00:04.779Z"
   },
   {
    "duration": 9,
    "start_time": "2022-03-18T22:00:27.348Z"
   },
   {
    "duration": 14,
    "start_time": "2022-03-18T22:21:45.796Z"
   },
   {
    "duration": 3,
    "start_time": "2022-03-18T22:21:54.169Z"
   },
   {
    "duration": 311,
    "start_time": "2022-03-18T22:21:54.175Z"
   },
   {
    "duration": 32,
    "start_time": "2022-03-18T22:21:54.488Z"
   },
   {
    "duration": 152,
    "start_time": "2022-03-18T22:21:54.523Z"
   },
   {
    "duration": 91,
    "start_time": "2022-03-18T22:21:54.677Z"
   },
   {
    "duration": 32,
    "start_time": "2022-03-18T22:21:54.770Z"
   },
   {
    "duration": 16,
    "start_time": "2022-03-18T22:21:54.805Z"
   },
   {
    "duration": 409,
    "start_time": "2022-03-18T22:21:54.823Z"
   },
   {
    "duration": 20,
    "start_time": "2022-03-18T22:21:55.234Z"
   },
   {
    "duration": 3,
    "start_time": "2022-03-18T22:21:55.259Z"
   },
   {
    "duration": 38,
    "start_time": "2022-03-18T22:21:55.265Z"
   },
   {
    "duration": 13,
    "start_time": "2022-03-18T22:21:55.305Z"
   },
   {
    "duration": 14,
    "start_time": "2022-03-18T22:21:55.320Z"
   },
   {
    "duration": 12,
    "start_time": "2022-03-18T22:21:55.336Z"
   },
   {
    "duration": 4,
    "start_time": "2022-03-18T22:21:55.350Z"
   },
   {
    "duration": 204,
    "start_time": "2022-03-18T22:21:55.355Z"
   },
   {
    "duration": 9,
    "start_time": "2022-03-18T22:21:55.562Z"
   },
   {
    "duration": 9,
    "start_time": "2022-03-18T22:21:55.573Z"
   },
   {
    "duration": 22,
    "start_time": "2022-03-18T22:21:55.584Z"
   },
   {
    "duration": 3,
    "start_time": "2022-03-18T22:21:55.607Z"
   },
   {
    "duration": 11,
    "start_time": "2022-03-18T22:21:55.612Z"
   },
   {
    "duration": 24,
    "start_time": "2022-03-18T22:21:55.624Z"
   },
   {
    "duration": 13,
    "start_time": "2022-03-18T22:21:55.650Z"
   },
   {
    "duration": 59,
    "start_time": "2022-03-18T22:21:55.665Z"
   },
   {
    "duration": 9,
    "start_time": "2022-03-18T22:21:55.726Z"
   },
   {
    "duration": 23,
    "start_time": "2022-03-18T22:21:55.737Z"
   },
   {
    "duration": 4,
    "start_time": "2022-03-18T22:21:55.761Z"
   },
   {
    "duration": 32,
    "start_time": "2022-03-18T22:21:55.769Z"
   },
   {
    "duration": 9,
    "start_time": "2022-03-18T22:21:55.803Z"
   },
   {
    "duration": 16,
    "start_time": "2022-03-18T22:21:55.813Z"
   },
   {
    "duration": 7,
    "start_time": "2022-03-18T22:21:55.831Z"
   },
   {
    "duration": 19,
    "start_time": "2022-03-18T22:21:55.839Z"
   },
   {
    "duration": 534,
    "start_time": "2022-03-18T22:21:55.860Z"
   },
   {
    "duration": 561,
    "start_time": "2022-03-18T22:21:56.396Z"
   },
   {
    "duration": 3,
    "start_time": "2022-03-18T22:21:56.959Z"
   },
   {
    "duration": 12,
    "start_time": "2022-03-18T22:21:56.964Z"
   },
   {
    "duration": 31,
    "start_time": "2022-03-18T22:21:56.978Z"
   },
   {
    "duration": 5,
    "start_time": "2022-03-18T22:21:57.011Z"
   },
   {
    "duration": 7,
    "start_time": "2022-03-18T22:21:57.017Z"
   },
   {
    "duration": 6,
    "start_time": "2022-03-18T22:21:57.026Z"
   },
   {
    "duration": 18,
    "start_time": "2022-03-18T22:21:57.034Z"
   },
   {
    "duration": 5,
    "start_time": "2022-03-18T22:21:57.053Z"
   },
   {
    "duration": 176,
    "start_time": "2022-03-18T22:21:57.060Z"
   },
   {
    "duration": 11,
    "start_time": "2022-03-18T22:21:57.238Z"
   },
   {
    "duration": 11,
    "start_time": "2022-03-18T22:21:57.251Z"
   },
   {
    "duration": 21,
    "start_time": "2022-03-18T22:23:43.956Z"
   },
   {
    "duration": 12,
    "start_time": "2022-03-18T22:27:39.234Z"
   },
   {
    "duration": 11,
    "start_time": "2022-03-18T22:27:51.604Z"
   },
   {
    "duration": 12,
    "start_time": "2022-03-18T22:28:02.705Z"
   },
   {
    "duration": 11,
    "start_time": "2022-03-18T22:28:19.384Z"
   },
   {
    "duration": 16,
    "start_time": "2022-03-18T22:28:37.155Z"
   },
   {
    "duration": 29,
    "start_time": "2022-03-18T22:30:06.052Z"
   },
   {
    "duration": 4,
    "start_time": "2022-03-18T22:30:29.071Z"
   },
   {
    "duration": 535,
    "start_time": "2022-03-18T22:30:29.077Z"
   },
   {
    "duration": 22,
    "start_time": "2022-03-18T22:30:29.614Z"
   },
   {
    "duration": 19,
    "start_time": "2022-03-18T22:30:29.638Z"
   },
   {
    "duration": 99,
    "start_time": "2022-03-18T22:30:29.661Z"
   },
   {
    "duration": 25,
    "start_time": "2022-03-18T22:30:29.762Z"
   },
   {
    "duration": 18,
    "start_time": "2022-03-18T22:30:29.800Z"
   },
   {
    "duration": 425,
    "start_time": "2022-03-18T22:30:29.820Z"
   },
   {
    "duration": 19,
    "start_time": "2022-03-18T22:30:30.247Z"
   },
   {
    "duration": 6,
    "start_time": "2022-03-18T22:30:30.268Z"
   },
   {
    "duration": 32,
    "start_time": "2022-03-18T22:30:30.276Z"
   },
   {
    "duration": 23,
    "start_time": "2022-03-18T22:30:30.310Z"
   },
   {
    "duration": 8,
    "start_time": "2022-03-18T22:30:30.335Z"
   },
   {
    "duration": 21,
    "start_time": "2022-03-18T22:30:30.348Z"
   },
   {
    "duration": 19,
    "start_time": "2022-03-18T22:30:30.371Z"
   },
   {
    "duration": 236,
    "start_time": "2022-03-18T22:30:30.392Z"
   },
   {
    "duration": 12,
    "start_time": "2022-03-18T22:30:30.631Z"
   },
   {
    "duration": 35,
    "start_time": "2022-03-18T22:30:30.646Z"
   },
   {
    "duration": 27,
    "start_time": "2022-03-18T22:30:30.683Z"
   },
   {
    "duration": 25,
    "start_time": "2022-03-18T22:30:30.712Z"
   },
   {
    "duration": 30,
    "start_time": "2022-03-18T22:30:30.739Z"
   },
   {
    "duration": 41,
    "start_time": "2022-03-18T22:30:30.771Z"
   },
   {
    "duration": 36,
    "start_time": "2022-03-18T22:30:30.814Z"
   },
   {
    "duration": 36,
    "start_time": "2022-03-18T22:30:30.852Z"
   },
   {
    "duration": 23,
    "start_time": "2022-03-18T22:30:30.890Z"
   },
   {
    "duration": 33,
    "start_time": "2022-03-18T22:30:30.915Z"
   },
   {
    "duration": 16,
    "start_time": "2022-03-18T22:30:30.950Z"
   },
   {
    "duration": 78,
    "start_time": "2022-03-18T22:30:30.969Z"
   },
   {
    "duration": 18,
    "start_time": "2022-03-18T22:30:31.049Z"
   },
   {
    "duration": 68,
    "start_time": "2022-03-18T22:30:31.068Z"
   },
   {
    "duration": 19,
    "start_time": "2022-03-18T22:30:31.138Z"
   },
   {
    "duration": 27,
    "start_time": "2022-03-18T22:30:31.159Z"
   },
   {
    "duration": 683,
    "start_time": "2022-03-18T22:30:31.188Z"
   },
   {
    "duration": 562,
    "start_time": "2022-03-18T22:30:31.873Z"
   },
   {
    "duration": 3,
    "start_time": "2022-03-18T22:30:32.438Z"
   },
   {
    "duration": 15,
    "start_time": "2022-03-18T22:30:32.443Z"
   },
   {
    "duration": 83,
    "start_time": "2022-03-18T22:30:32.460Z"
   },
   {
    "duration": 79,
    "start_time": "2022-03-18T22:30:32.544Z"
   },
   {
    "duration": 41,
    "start_time": "2022-03-18T22:30:32.625Z"
   },
   {
    "duration": 9,
    "start_time": "2022-03-18T22:30:32.668Z"
   },
   {
    "duration": 19,
    "start_time": "2022-03-18T22:30:32.681Z"
   },
   {
    "duration": 17,
    "start_time": "2022-03-18T22:30:32.702Z"
   },
   {
    "duration": 147,
    "start_time": "2022-03-18T22:30:32.721Z"
   },
   {
    "duration": 11,
    "start_time": "2022-03-18T22:30:32.870Z"
   },
   {
    "duration": 41,
    "start_time": "2022-03-18T22:30:32.883Z"
   },
   {
    "duration": 1655,
    "start_time": "2022-03-19T10:14:16.855Z"
   },
   {
    "duration": 299,
    "start_time": "2022-03-19T10:14:18.512Z"
   },
   {
    "duration": 23,
    "start_time": "2022-03-19T10:14:18.812Z"
   },
   {
    "duration": 30,
    "start_time": "2022-03-19T10:14:18.837Z"
   },
   {
    "duration": 76,
    "start_time": "2022-03-19T10:14:18.868Z"
   },
   {
    "duration": 23,
    "start_time": "2022-03-19T10:14:18.946Z"
   },
   {
    "duration": 16,
    "start_time": "2022-03-19T10:14:18.971Z"
   },
   {
    "duration": 392,
    "start_time": "2022-03-19T10:14:18.988Z"
   },
   {
    "duration": 17,
    "start_time": "2022-03-19T10:14:19.382Z"
   },
   {
    "duration": 4,
    "start_time": "2022-03-19T10:14:19.402Z"
   },
   {
    "duration": 12,
    "start_time": "2022-03-19T10:14:19.407Z"
   },
   {
    "duration": 12,
    "start_time": "2022-03-19T10:14:19.421Z"
   },
   {
    "duration": 30,
    "start_time": "2022-03-19T10:14:19.434Z"
   },
   {
    "duration": 10,
    "start_time": "2022-03-19T10:14:19.466Z"
   },
   {
    "duration": 5,
    "start_time": "2022-03-19T10:14:19.477Z"
   },
   {
    "duration": 185,
    "start_time": "2022-03-19T10:14:19.484Z"
   },
   {
    "duration": 9,
    "start_time": "2022-03-19T10:14:19.671Z"
   },
   {
    "duration": 5,
    "start_time": "2022-03-19T10:14:19.682Z"
   },
   {
    "duration": 8,
    "start_time": "2022-03-19T10:14:19.688Z"
   },
   {
    "duration": 4,
    "start_time": "2022-03-19T10:14:19.697Z"
   },
   {
    "duration": 12,
    "start_time": "2022-03-19T10:14:19.703Z"
   },
   {
    "duration": 19,
    "start_time": "2022-03-19T10:14:19.716Z"
   },
   {
    "duration": 13,
    "start_time": "2022-03-19T10:14:19.762Z"
   },
   {
    "duration": 26,
    "start_time": "2022-03-19T10:14:19.777Z"
   },
   {
    "duration": 8,
    "start_time": "2022-03-19T10:14:19.805Z"
   },
   {
    "duration": 51,
    "start_time": "2022-03-19T10:14:19.815Z"
   },
   {
    "duration": 6,
    "start_time": "2022-03-19T10:14:19.868Z"
   },
   {
    "duration": 5,
    "start_time": "2022-03-19T10:14:19.878Z"
   },
   {
    "duration": 6,
    "start_time": "2022-03-19T10:14:19.885Z"
   },
   {
    "duration": 14,
    "start_time": "2022-03-19T10:14:19.892Z"
   },
   {
    "duration": 8,
    "start_time": "2022-03-19T10:14:19.907Z"
   },
   {
    "duration": 12,
    "start_time": "2022-03-19T10:14:19.917Z"
   },
   {
    "duration": 517,
    "start_time": "2022-03-19T10:14:19.931Z"
   },
   {
    "duration": 580,
    "start_time": "2022-03-19T10:14:20.449Z"
   },
   {
    "duration": 3,
    "start_time": "2022-03-19T10:14:21.031Z"
   },
   {
    "duration": 8,
    "start_time": "2022-03-19T10:14:21.036Z"
   },
   {
    "duration": 31,
    "start_time": "2022-03-19T10:14:21.045Z"
   },
   {
    "duration": 5,
    "start_time": "2022-03-19T10:14:21.078Z"
   },
   {
    "duration": 5,
    "start_time": "2022-03-19T10:14:21.085Z"
   },
   {
    "duration": 8,
    "start_time": "2022-03-19T10:14:21.091Z"
   },
   {
    "duration": 21,
    "start_time": "2022-03-19T10:14:21.100Z"
   },
   {
    "duration": 7,
    "start_time": "2022-03-19T10:14:21.123Z"
   },
   {
    "duration": 148,
    "start_time": "2022-03-19T10:14:21.132Z"
   },
   {
    "duration": 11,
    "start_time": "2022-03-19T10:14:21.282Z"
   },
   {
    "duration": 4,
    "start_time": "2022-03-19T10:14:21.294Z"
   },
   {
    "duration": 3,
    "start_time": "2022-03-19T10:15:24.454Z"
   },
   {
    "duration": 4,
    "start_time": "2022-03-19T10:15:34.455Z"
   },
   {
    "duration": 290,
    "start_time": "2022-03-19T10:15:34.461Z"
   },
   {
    "duration": 29,
    "start_time": "2022-03-19T10:15:34.753Z"
   },
   {
    "duration": 20,
    "start_time": "2022-03-19T10:15:34.784Z"
   },
   {
    "duration": 92,
    "start_time": "2022-03-19T10:15:34.806Z"
   },
   {
    "duration": 21,
    "start_time": "2022-03-19T10:15:34.899Z"
   },
   {
    "duration": 12,
    "start_time": "2022-03-19T10:15:34.921Z"
   },
   {
    "duration": 401,
    "start_time": "2022-03-19T10:15:34.935Z"
   },
   {
    "duration": 27,
    "start_time": "2022-03-19T10:15:35.339Z"
   },
   {
    "duration": 3,
    "start_time": "2022-03-19T10:15:35.368Z"
   },
   {
    "duration": 14,
    "start_time": "2022-03-19T10:15:35.373Z"
   },
   {
    "duration": 12,
    "start_time": "2022-03-19T10:15:35.388Z"
   },
   {
    "duration": 5,
    "start_time": "2022-03-19T10:15:35.402Z"
   },
   {
    "duration": 8,
    "start_time": "2022-03-19T10:15:35.409Z"
   },
   {
    "duration": 2,
    "start_time": "2022-03-19T10:15:35.419Z"
   },
   {
    "duration": 193,
    "start_time": "2022-03-19T10:15:35.423Z"
   },
   {
    "duration": 11,
    "start_time": "2022-03-19T10:15:35.617Z"
   },
   {
    "duration": 6,
    "start_time": "2022-03-19T10:15:35.630Z"
   },
   {
    "duration": 28,
    "start_time": "2022-03-19T10:15:35.637Z"
   },
   {
    "duration": 3,
    "start_time": "2022-03-19T10:15:35.667Z"
   },
   {
    "duration": 11,
    "start_time": "2022-03-19T10:15:35.672Z"
   },
   {
    "duration": 20,
    "start_time": "2022-03-19T10:15:35.684Z"
   },
   {
    "duration": 10,
    "start_time": "2022-03-19T10:15:35.705Z"
   },
   {
    "duration": 45,
    "start_time": "2022-03-19T10:15:35.719Z"
   },
   {
    "duration": 6,
    "start_time": "2022-03-19T10:15:35.766Z"
   },
   {
    "duration": 18,
    "start_time": "2022-03-19T10:15:35.774Z"
   },
   {
    "duration": 4,
    "start_time": "2022-03-19T10:15:35.793Z"
   },
   {
    "duration": 7,
    "start_time": "2022-03-19T10:15:35.799Z"
   },
   {
    "duration": 6,
    "start_time": "2022-03-19T10:15:35.808Z"
   },
   {
    "duration": 14,
    "start_time": "2022-03-19T10:15:35.815Z"
   },
   {
    "duration": 32,
    "start_time": "2022-03-19T10:15:35.831Z"
   },
   {
    "duration": 14,
    "start_time": "2022-03-19T10:15:35.865Z"
   },
   {
    "duration": 495,
    "start_time": "2022-03-19T10:15:35.881Z"
   },
   {
    "duration": 512,
    "start_time": "2022-03-19T10:15:36.377Z"
   },
   {
    "duration": 3,
    "start_time": "2022-03-19T10:15:36.891Z"
   },
   {
    "duration": 16,
    "start_time": "2022-03-19T10:15:36.896Z"
   },
   {
    "duration": 18,
    "start_time": "2022-03-19T10:15:36.914Z"
   },
   {
    "duration": 13,
    "start_time": "2022-03-19T10:15:36.933Z"
   },
   {
    "duration": 6,
    "start_time": "2022-03-19T10:15:36.948Z"
   },
   {
    "duration": 8,
    "start_time": "2022-03-19T10:15:36.956Z"
   },
   {
    "duration": 22,
    "start_time": "2022-03-19T10:15:36.966Z"
   },
   {
    "duration": 5,
    "start_time": "2022-03-19T10:15:36.990Z"
   },
   {
    "duration": 149,
    "start_time": "2022-03-19T10:15:36.997Z"
   },
   {
    "duration": 19,
    "start_time": "2022-03-19T10:15:37.148Z"
   },
   {
    "duration": 4,
    "start_time": "2022-03-19T10:15:37.168Z"
   },
   {
    "duration": 7,
    "start_time": "2022-03-19T10:15:37.173Z"
   },
   {
    "duration": 8,
    "start_time": "2022-03-19T10:24:12.527Z"
   },
   {
    "duration": 5,
    "start_time": "2022-03-19T10:24:18.046Z"
   },
   {
    "duration": 290,
    "start_time": "2022-03-19T10:24:18.053Z"
   },
   {
    "duration": 27,
    "start_time": "2022-03-19T10:24:18.345Z"
   },
   {
    "duration": 136,
    "start_time": "2022-03-19T10:24:18.375Z"
   },
   {
    "duration": 83,
    "start_time": "2022-03-19T10:24:18.513Z"
   },
   {
    "duration": 31,
    "start_time": "2022-03-19T10:24:18.597Z"
   },
   {
    "duration": 18,
    "start_time": "2022-03-19T10:24:18.631Z"
   },
   {
    "duration": 383,
    "start_time": "2022-03-19T10:24:18.651Z"
   },
   {
    "duration": 28,
    "start_time": "2022-03-19T10:24:19.035Z"
   },
   {
    "duration": 4,
    "start_time": "2022-03-19T10:24:19.066Z"
   },
   {
    "duration": 12,
    "start_time": "2022-03-19T10:24:19.072Z"
   },
   {
    "duration": 13,
    "start_time": "2022-03-19T10:24:19.086Z"
   },
   {
    "duration": 6,
    "start_time": "2022-03-19T10:24:19.101Z"
   },
   {
    "duration": 12,
    "start_time": "2022-03-19T10:24:19.108Z"
   },
   {
    "duration": 3,
    "start_time": "2022-03-19T10:24:19.122Z"
   },
   {
    "duration": 197,
    "start_time": "2022-03-19T10:24:19.127Z"
   },
   {
    "duration": 9,
    "start_time": "2022-03-19T10:24:19.326Z"
   },
   {
    "duration": 10,
    "start_time": "2022-03-19T10:24:19.337Z"
   },
   {
    "duration": 20,
    "start_time": "2022-03-19T10:24:19.348Z"
   },
   {
    "duration": 3,
    "start_time": "2022-03-19T10:24:19.369Z"
   },
   {
    "duration": 13,
    "start_time": "2022-03-19T10:24:19.373Z"
   },
   {
    "duration": 21,
    "start_time": "2022-03-19T10:24:19.387Z"
   },
   {
    "duration": 19,
    "start_time": "2022-03-19T10:24:19.410Z"
   },
   {
    "duration": 54,
    "start_time": "2022-03-19T10:24:19.431Z"
   },
   {
    "duration": 9,
    "start_time": "2022-03-19T10:24:19.487Z"
   },
   {
    "duration": 37,
    "start_time": "2022-03-19T10:24:19.498Z"
   },
   {
    "duration": 5,
    "start_time": "2022-03-19T10:24:19.537Z"
   },
   {
    "duration": 5,
    "start_time": "2022-03-19T10:24:19.563Z"
   },
   {
    "duration": 8,
    "start_time": "2022-03-19T10:24:19.569Z"
   },
   {
    "duration": 20,
    "start_time": "2022-03-19T10:24:19.579Z"
   },
   {
    "duration": 6,
    "start_time": "2022-03-19T10:24:19.601Z"
   },
   {
    "duration": 13,
    "start_time": "2022-03-19T10:24:19.608Z"
   },
   {
    "duration": 714,
    "start_time": "2022-03-19T10:24:19.623Z"
   },
   {
    "duration": 504,
    "start_time": "2022-03-19T10:24:20.339Z"
   },
   {
    "duration": 3,
    "start_time": "2022-03-19T10:24:20.845Z"
   },
   {
    "duration": 14,
    "start_time": "2022-03-19T10:24:20.849Z"
   },
   {
    "duration": 16,
    "start_time": "2022-03-19T10:24:20.864Z"
   },
   {
    "duration": 8,
    "start_time": "2022-03-19T10:24:20.881Z"
   },
   {
    "duration": 6,
    "start_time": "2022-03-19T10:24:20.890Z"
   },
   {
    "duration": 12,
    "start_time": "2022-03-19T10:24:20.898Z"
   },
   {
    "duration": 20,
    "start_time": "2022-03-19T10:24:20.912Z"
   },
   {
    "duration": 7,
    "start_time": "2022-03-19T10:24:20.934Z"
   },
   {
    "duration": 150,
    "start_time": "2022-03-19T10:24:20.942Z"
   },
   {
    "duration": 11,
    "start_time": "2022-03-19T10:24:21.093Z"
   },
   {
    "duration": 3,
    "start_time": "2022-03-19T10:24:21.106Z"
   },
   {
    "duration": 5,
    "start_time": "2022-03-19T10:24:21.111Z"
   },
   {
    "duration": 16,
    "start_time": "2022-03-19T10:24:21.117Z"
   },
   {
    "duration": 4,
    "start_time": "2022-03-19T10:24:35.412Z"
   },
   {
    "duration": 167,
    "start_time": "2022-03-19T10:26:13.329Z"
   },
   {
    "duration": 4,
    "start_time": "2022-03-19T10:26:21.637Z"
   },
   {
    "duration": 292,
    "start_time": "2022-03-19T10:26:21.643Z"
   },
   {
    "duration": 34,
    "start_time": "2022-03-19T10:26:21.936Z"
   },
   {
    "duration": 22,
    "start_time": "2022-03-19T10:26:21.972Z"
   },
   {
    "duration": 93,
    "start_time": "2022-03-19T10:26:21.995Z"
   },
   {
    "duration": 22,
    "start_time": "2022-03-19T10:26:22.089Z"
   },
   {
    "duration": 14,
    "start_time": "2022-03-19T10:26:22.112Z"
   },
   {
    "duration": 376,
    "start_time": "2022-03-19T10:26:22.128Z"
   },
   {
    "duration": 16,
    "start_time": "2022-03-19T10:26:22.506Z"
   },
   {
    "duration": 4,
    "start_time": "2022-03-19T10:26:22.525Z"
   },
   {
    "duration": 31,
    "start_time": "2022-03-19T10:26:22.530Z"
   },
   {
    "duration": 20,
    "start_time": "2022-03-19T10:26:22.562Z"
   },
   {
    "duration": 20,
    "start_time": "2022-03-19T10:26:22.584Z"
   },
   {
    "duration": 20,
    "start_time": "2022-03-19T10:26:22.605Z"
   },
   {
    "duration": 5,
    "start_time": "2022-03-19T10:26:22.627Z"
   },
   {
    "duration": 187,
    "start_time": "2022-03-19T10:26:22.633Z"
   },
   {
    "duration": 9,
    "start_time": "2022-03-19T10:26:22.821Z"
   },
   {
    "duration": 7,
    "start_time": "2022-03-19T10:26:22.832Z"
   },
   {
    "duration": 7,
    "start_time": "2022-03-19T10:26:22.841Z"
   },
   {
    "duration": 3,
    "start_time": "2022-03-19T10:26:22.864Z"
   },
   {
    "duration": 11,
    "start_time": "2022-03-19T10:26:22.868Z"
   },
   {
    "duration": 20,
    "start_time": "2022-03-19T10:26:22.880Z"
   },
   {
    "duration": 11,
    "start_time": "2022-03-19T10:26:22.902Z"
   },
   {
    "duration": 53,
    "start_time": "2022-03-19T10:26:22.915Z"
   },
   {
    "duration": 7,
    "start_time": "2022-03-19T10:26:22.969Z"
   },
   {
    "duration": 22,
    "start_time": "2022-03-19T10:26:22.977Z"
   },
   {
    "duration": 5,
    "start_time": "2022-03-19T10:26:23.000Z"
   },
   {
    "duration": 6,
    "start_time": "2022-03-19T10:26:23.008Z"
   },
   {
    "duration": 7,
    "start_time": "2022-03-19T10:26:23.015Z"
   },
   {
    "duration": 40,
    "start_time": "2022-03-19T10:26:23.023Z"
   },
   {
    "duration": 6,
    "start_time": "2022-03-19T10:26:23.065Z"
   },
   {
    "duration": 10,
    "start_time": "2022-03-19T10:26:23.073Z"
   },
   {
    "duration": 502,
    "start_time": "2022-03-19T10:26:23.085Z"
   },
   {
    "duration": 622,
    "start_time": "2022-03-19T10:26:23.589Z"
   },
   {
    "duration": 3,
    "start_time": "2022-03-19T10:26:24.212Z"
   },
   {
    "duration": 7,
    "start_time": "2022-03-19T10:26:24.217Z"
   },
   {
    "duration": 18,
    "start_time": "2022-03-19T10:26:24.226Z"
   },
   {
    "duration": 18,
    "start_time": "2022-03-19T10:26:24.245Z"
   },
   {
    "duration": 6,
    "start_time": "2022-03-19T10:26:24.265Z"
   },
   {
    "duration": 4,
    "start_time": "2022-03-19T10:26:24.273Z"
   },
   {
    "duration": 15,
    "start_time": "2022-03-19T10:26:24.279Z"
   },
   {
    "duration": 4,
    "start_time": "2022-03-19T10:26:24.295Z"
   },
   {
    "duration": 154,
    "start_time": "2022-03-19T10:26:24.300Z"
   },
   {
    "duration": 14,
    "start_time": "2022-03-19T10:26:24.456Z"
   },
   {
    "duration": 6,
    "start_time": "2022-03-19T10:26:24.471Z"
   },
   {
    "duration": 5,
    "start_time": "2022-03-19T10:26:24.478Z"
   },
   {
    "duration": 8,
    "start_time": "2022-03-19T10:26:24.484Z"
   },
   {
    "duration": 8,
    "start_time": "2022-03-19T10:26:24.494Z"
   },
   {
    "duration": 63,
    "start_time": "2022-03-19T10:26:24.504Z"
   },
   {
    "duration": 22,
    "start_time": "2022-03-19T10:34:28.363Z"
   },
   {
    "duration": 4,
    "start_time": "2022-03-19T10:34:51.539Z"
   },
   {
    "duration": 274,
    "start_time": "2022-03-19T10:34:51.544Z"
   },
   {
    "duration": 19,
    "start_time": "2022-03-19T10:34:51.820Z"
   },
   {
    "duration": 31,
    "start_time": "2022-03-19T10:34:51.842Z"
   },
   {
    "duration": 90,
    "start_time": "2022-03-19T10:34:51.874Z"
   },
   {
    "duration": 23,
    "start_time": "2022-03-19T10:34:51.966Z"
   },
   {
    "duration": 15,
    "start_time": "2022-03-19T10:34:51.991Z"
   },
   {
    "duration": 389,
    "start_time": "2022-03-19T10:34:52.008Z"
   },
   {
    "duration": 20,
    "start_time": "2022-03-19T10:34:52.399Z"
   },
   {
    "duration": 3,
    "start_time": "2022-03-19T10:34:52.422Z"
   },
   {
    "duration": 13,
    "start_time": "2022-03-19T10:34:52.427Z"
   },
   {
    "duration": 26,
    "start_time": "2022-03-19T10:34:52.441Z"
   },
   {
    "duration": 11,
    "start_time": "2022-03-19T10:34:52.469Z"
   },
   {
    "duration": 11,
    "start_time": "2022-03-19T10:34:52.482Z"
   },
   {
    "duration": 4,
    "start_time": "2022-03-19T10:34:52.494Z"
   },
   {
    "duration": 186,
    "start_time": "2022-03-19T10:34:52.500Z"
   },
   {
    "duration": 8,
    "start_time": "2022-03-19T10:34:52.688Z"
   },
   {
    "duration": 11,
    "start_time": "2022-03-19T10:34:52.698Z"
   },
   {
    "duration": 12,
    "start_time": "2022-03-19T10:34:52.711Z"
   },
   {
    "duration": 11,
    "start_time": "2022-03-19T10:34:52.725Z"
   },
   {
    "duration": 14,
    "start_time": "2022-03-19T10:34:52.738Z"
   },
   {
    "duration": 27,
    "start_time": "2022-03-19T10:34:52.754Z"
   },
   {
    "duration": 11,
    "start_time": "2022-03-19T10:34:52.783Z"
   },
   {
    "duration": 22,
    "start_time": "2022-03-19T10:34:52.796Z"
   },
   {
    "duration": 7,
    "start_time": "2022-03-19T10:34:52.820Z"
   },
   {
    "duration": 42,
    "start_time": "2022-03-19T10:34:52.829Z"
   },
   {
    "duration": 3,
    "start_time": "2022-03-19T10:34:52.873Z"
   },
   {
    "duration": 8,
    "start_time": "2022-03-19T10:34:52.879Z"
   },
   {
    "duration": 8,
    "start_time": "2022-03-19T10:34:52.888Z"
   },
   {
    "duration": 13,
    "start_time": "2022-03-19T10:34:52.898Z"
   },
   {
    "duration": 7,
    "start_time": "2022-03-19T10:34:52.913Z"
   },
   {
    "duration": 12,
    "start_time": "2022-03-19T10:34:52.921Z"
   },
   {
    "duration": 497,
    "start_time": "2022-03-19T10:34:52.935Z"
   },
   {
    "duration": 590,
    "start_time": "2022-03-19T10:34:53.434Z"
   },
   {
    "duration": 3,
    "start_time": "2022-03-19T10:34:54.026Z"
   },
   {
    "duration": 17,
    "start_time": "2022-03-19T10:34:54.030Z"
   },
   {
    "duration": 20,
    "start_time": "2022-03-19T10:34:54.048Z"
   },
   {
    "duration": 5,
    "start_time": "2022-03-19T10:34:54.069Z"
   },
   {
    "duration": 5,
    "start_time": "2022-03-19T10:34:54.076Z"
   },
   {
    "duration": 5,
    "start_time": "2022-03-19T10:34:54.082Z"
   },
   {
    "duration": 14,
    "start_time": "2022-03-19T10:34:54.089Z"
   },
   {
    "duration": 4,
    "start_time": "2022-03-19T10:34:54.105Z"
   },
   {
    "duration": 274,
    "start_time": "2022-03-19T10:34:54.111Z"
   },
   {
    "duration": 9,
    "start_time": "2022-03-19T10:34:54.387Z"
   },
   {
    "duration": 5,
    "start_time": "2022-03-19T10:34:54.397Z"
   },
   {
    "duration": 6,
    "start_time": "2022-03-19T10:34:54.404Z"
   },
   {
    "duration": 9,
    "start_time": "2022-03-19T10:34:54.411Z"
   },
   {
    "duration": 6,
    "start_time": "2022-03-19T10:34:54.422Z"
   },
   {
    "duration": 46,
    "start_time": "2022-03-19T10:34:54.429Z"
   },
   {
    "duration": 11,
    "start_time": "2022-03-19T11:44:07.343Z"
   },
   {
    "duration": 3,
    "start_time": "2022-03-19T11:44:14.175Z"
   },
   {
    "duration": 292,
    "start_time": "2022-03-19T11:44:14.180Z"
   },
   {
    "duration": 19,
    "start_time": "2022-03-19T11:44:14.474Z"
   },
   {
    "duration": 20,
    "start_time": "2022-03-19T11:44:14.495Z"
   },
   {
    "duration": 96,
    "start_time": "2022-03-19T11:44:14.517Z"
   },
   {
    "duration": 19,
    "start_time": "2022-03-19T11:44:14.614Z"
   },
   {
    "duration": 28,
    "start_time": "2022-03-19T11:44:14.635Z"
   },
   {
    "duration": 365,
    "start_time": "2022-03-19T11:44:14.665Z"
   },
   {
    "duration": 20,
    "start_time": "2022-03-19T11:44:15.032Z"
   },
   {
    "duration": 4,
    "start_time": "2022-03-19T11:44:15.063Z"
   },
   {
    "duration": 13,
    "start_time": "2022-03-19T11:44:15.069Z"
   },
   {
    "duration": 15,
    "start_time": "2022-03-19T11:44:15.084Z"
   },
   {
    "duration": 7,
    "start_time": "2022-03-19T11:44:15.101Z"
   },
   {
    "duration": 10,
    "start_time": "2022-03-19T11:44:15.110Z"
   },
   {
    "duration": 3,
    "start_time": "2022-03-19T11:44:15.122Z"
   },
   {
    "duration": 192,
    "start_time": "2022-03-19T11:44:15.126Z"
   },
   {
    "duration": 8,
    "start_time": "2022-03-19T11:44:15.320Z"
   },
   {
    "duration": 6,
    "start_time": "2022-03-19T11:44:15.330Z"
   },
   {
    "duration": 7,
    "start_time": "2022-03-19T11:44:15.337Z"
   },
   {
    "duration": 19,
    "start_time": "2022-03-19T11:44:15.345Z"
   },
   {
    "duration": 8,
    "start_time": "2022-03-19T11:44:15.366Z"
   },
   {
    "duration": 19,
    "start_time": "2022-03-19T11:44:15.376Z"
   },
   {
    "duration": 11,
    "start_time": "2022-03-19T11:44:15.396Z"
   },
   {
    "duration": 23,
    "start_time": "2022-03-19T11:44:15.409Z"
   },
   {
    "duration": 7,
    "start_time": "2022-03-19T11:44:15.463Z"
   },
   {
    "duration": 21,
    "start_time": "2022-03-19T11:44:15.472Z"
   },
   {
    "duration": 4,
    "start_time": "2022-03-19T11:44:15.495Z"
   },
   {
    "duration": 5,
    "start_time": "2022-03-19T11:44:15.502Z"
   },
   {
    "duration": 5,
    "start_time": "2022-03-19T11:44:15.509Z"
   },
   {
    "duration": 13,
    "start_time": "2022-03-19T11:44:15.515Z"
   },
   {
    "duration": 5,
    "start_time": "2022-03-19T11:44:15.530Z"
   },
   {
    "duration": 37,
    "start_time": "2022-03-19T11:44:15.537Z"
   },
   {
    "duration": 492,
    "start_time": "2022-03-19T11:44:15.575Z"
   },
   {
    "duration": 509,
    "start_time": "2022-03-19T11:44:16.069Z"
   },
   {
    "duration": 3,
    "start_time": "2022-03-19T11:44:16.580Z"
   },
   {
    "duration": 9,
    "start_time": "2022-03-19T11:44:16.585Z"
   },
   {
    "duration": 16,
    "start_time": "2022-03-19T11:44:16.596Z"
   },
   {
    "duration": 5,
    "start_time": "2022-03-19T11:44:16.614Z"
   },
   {
    "duration": 5,
    "start_time": "2022-03-19T11:44:16.621Z"
   },
   {
    "duration": 35,
    "start_time": "2022-03-19T11:44:16.628Z"
   },
   {
    "duration": 15,
    "start_time": "2022-03-19T11:44:16.665Z"
   },
   {
    "duration": 4,
    "start_time": "2022-03-19T11:44:16.682Z"
   },
   {
    "duration": 154,
    "start_time": "2022-03-19T11:44:16.688Z"
   },
   {
    "duration": 21,
    "start_time": "2022-03-19T11:44:16.844Z"
   },
   {
    "duration": 4,
    "start_time": "2022-03-19T11:44:16.867Z"
   },
   {
    "duration": 9,
    "start_time": "2022-03-19T11:44:16.873Z"
   },
   {
    "duration": 22,
    "start_time": "2022-03-19T11:44:16.884Z"
   },
   {
    "duration": 12,
    "start_time": "2022-03-19T11:44:16.907Z"
   },
   {
    "duration": 20,
    "start_time": "2022-03-19T11:44:16.920Z"
   },
   {
    "duration": 3,
    "start_time": "2022-03-19T11:44:16.942Z"
   },
   {
    "duration": 63,
    "start_time": "2022-03-19T11:44:16.947Z"
   },
   {
    "duration": 387,
    "start_time": "2022-03-19T11:47:16.995Z"
   },
   {
    "duration": 290,
    "start_time": "2022-03-19T11:47:17.384Z"
   },
   {
    "duration": 19,
    "start_time": "2022-03-19T11:47:17.675Z"
   },
   {
    "duration": 19,
    "start_time": "2022-03-19T11:47:17.695Z"
   },
   {
    "duration": 96,
    "start_time": "2022-03-19T11:47:17.716Z"
   },
   {
    "duration": 20,
    "start_time": "2022-03-19T11:47:17.813Z"
   },
   {
    "duration": 16,
    "start_time": "2022-03-19T11:47:17.834Z"
   },
   {
    "duration": 371,
    "start_time": "2022-03-19T11:47:17.863Z"
   },
   {
    "duration": 27,
    "start_time": "2022-03-19T11:47:18.236Z"
   },
   {
    "duration": 4,
    "start_time": "2022-03-19T11:47:18.264Z"
   },
   {
    "duration": 11,
    "start_time": "2022-03-19T11:47:18.269Z"
   },
   {
    "duration": 12,
    "start_time": "2022-03-19T11:47:18.282Z"
   },
   {
    "duration": 6,
    "start_time": "2022-03-19T11:47:18.295Z"
   },
   {
    "duration": 9,
    "start_time": "2022-03-19T11:47:18.304Z"
   },
   {
    "duration": 4,
    "start_time": "2022-03-19T11:47:18.315Z"
   },
   {
    "duration": 203,
    "start_time": "2022-03-19T11:47:18.321Z"
   },
   {
    "duration": 10,
    "start_time": "2022-03-19T11:47:18.526Z"
   },
   {
    "duration": 7,
    "start_time": "2022-03-19T11:47:18.537Z"
   },
   {
    "duration": 21,
    "start_time": "2022-03-19T11:47:18.546Z"
   },
   {
    "duration": 3,
    "start_time": "2022-03-19T11:47:18.570Z"
   },
   {
    "duration": 8,
    "start_time": "2022-03-19T11:47:18.575Z"
   },
   {
    "duration": 22,
    "start_time": "2022-03-19T11:47:18.585Z"
   },
   {
    "duration": 12,
    "start_time": "2022-03-19T11:47:18.609Z"
   },
   {
    "duration": 62,
    "start_time": "2022-03-19T11:47:18.622Z"
   },
   {
    "duration": 7,
    "start_time": "2022-03-19T11:47:18.685Z"
   },
   {
    "duration": 21,
    "start_time": "2022-03-19T11:47:18.693Z"
   },
   {
    "duration": 4,
    "start_time": "2022-03-19T11:47:18.715Z"
   },
   {
    "duration": 11,
    "start_time": "2022-03-19T11:47:18.721Z"
   },
   {
    "duration": 30,
    "start_time": "2022-03-19T11:47:18.734Z"
   },
   {
    "duration": 16,
    "start_time": "2022-03-19T11:47:18.766Z"
   },
   {
    "duration": 7,
    "start_time": "2022-03-19T11:47:18.784Z"
   },
   {
    "duration": 10,
    "start_time": "2022-03-19T11:47:18.793Z"
   },
   {
    "duration": 622,
    "start_time": "2022-03-19T11:47:18.805Z"
   },
   {
    "duration": 500,
    "start_time": "2022-03-19T11:47:19.429Z"
   },
   {
    "duration": 3,
    "start_time": "2022-03-19T11:47:19.931Z"
   },
   {
    "duration": 7,
    "start_time": "2022-03-19T11:47:19.936Z"
   },
   {
    "duration": 30,
    "start_time": "2022-03-19T11:47:19.944Z"
   },
   {
    "duration": 5,
    "start_time": "2022-03-19T11:47:19.976Z"
   },
   {
    "duration": 6,
    "start_time": "2022-03-19T11:47:19.983Z"
   },
   {
    "duration": 5,
    "start_time": "2022-03-19T11:47:19.990Z"
   },
   {
    "duration": 16,
    "start_time": "2022-03-19T11:47:19.999Z"
   },
   {
    "duration": 6,
    "start_time": "2022-03-19T11:47:20.017Z"
   },
   {
    "duration": 160,
    "start_time": "2022-03-19T11:47:20.024Z"
   },
   {
    "duration": 9,
    "start_time": "2022-03-19T11:47:20.186Z"
   },
   {
    "duration": 4,
    "start_time": "2022-03-19T11:47:20.196Z"
   },
   {
    "duration": 5,
    "start_time": "2022-03-19T11:47:20.201Z"
   },
   {
    "duration": 9,
    "start_time": "2022-03-19T11:47:20.207Z"
   },
   {
    "duration": 5,
    "start_time": "2022-03-19T11:47:20.217Z"
   },
   {
    "duration": 45,
    "start_time": "2022-03-19T11:47:20.223Z"
   },
   {
    "duration": 2,
    "start_time": "2022-03-19T11:47:20.270Z"
   },
   {
    "duration": 53,
    "start_time": "2022-03-19T11:47:20.274Z"
   },
   {
    "duration": 7,
    "start_time": "2022-03-19T12:05:43.807Z"
   },
   {
    "duration": 4,
    "start_time": "2022-03-19T12:42:01.729Z"
   },
   {
    "duration": 333,
    "start_time": "2022-03-19T12:42:01.735Z"
   },
   {
    "duration": 21,
    "start_time": "2022-03-19T12:42:02.070Z"
   },
   {
    "duration": 21,
    "start_time": "2022-03-19T12:42:02.093Z"
   },
   {
    "duration": 93,
    "start_time": "2022-03-19T12:42:02.116Z"
   },
   {
    "duration": 19,
    "start_time": "2022-03-19T12:42:02.211Z"
   },
   {
    "duration": 24,
    "start_time": "2022-03-19T12:42:02.232Z"
   },
   {
    "duration": 372,
    "start_time": "2022-03-19T12:42:02.257Z"
   },
   {
    "duration": 17,
    "start_time": "2022-03-19T12:42:02.631Z"
   },
   {
    "duration": 3,
    "start_time": "2022-03-19T12:42:02.664Z"
   },
   {
    "duration": 21,
    "start_time": "2022-03-19T12:42:02.669Z"
   },
   {
    "duration": 24,
    "start_time": "2022-03-19T12:42:02.691Z"
   },
   {
    "duration": 6,
    "start_time": "2022-03-19T12:42:02.717Z"
   },
   {
    "duration": 8,
    "start_time": "2022-03-19T12:42:02.724Z"
   },
   {
    "duration": 7,
    "start_time": "2022-03-19T12:42:02.733Z"
   },
   {
    "duration": 174,
    "start_time": "2022-03-19T12:42:02.741Z"
   },
   {
    "duration": 10,
    "start_time": "2022-03-19T12:42:02.917Z"
   },
   {
    "duration": 7,
    "start_time": "2022-03-19T12:42:02.928Z"
   },
   {
    "duration": 9,
    "start_time": "2022-03-19T12:42:02.936Z"
   },
   {
    "duration": 17,
    "start_time": "2022-03-19T12:42:02.947Z"
   },
   {
    "duration": 12,
    "start_time": "2022-03-19T12:42:02.965Z"
   },
   {
    "duration": 20,
    "start_time": "2022-03-19T12:42:02.978Z"
   },
   {
    "duration": 10,
    "start_time": "2022-03-19T12:42:03.000Z"
   },
   {
    "duration": 22,
    "start_time": "2022-03-19T12:42:03.012Z"
   },
   {
    "duration": 8,
    "start_time": "2022-03-19T12:42:03.062Z"
   },
   {
    "duration": 23,
    "start_time": "2022-03-19T12:42:03.072Z"
   },
   {
    "duration": 3,
    "start_time": "2022-03-19T12:42:03.097Z"
   },
   {
    "duration": 6,
    "start_time": "2022-03-19T12:42:03.103Z"
   },
   {
    "duration": 5,
    "start_time": "2022-03-19T12:42:03.111Z"
   },
   {
    "duration": 18,
    "start_time": "2022-03-19T12:42:03.118Z"
   },
   {
    "duration": 7,
    "start_time": "2022-03-19T12:42:03.137Z"
   },
   {
    "duration": 9,
    "start_time": "2022-03-19T12:42:03.163Z"
   },
   {
    "duration": 483,
    "start_time": "2022-03-19T12:42:03.173Z"
   },
   {
    "duration": 627,
    "start_time": "2022-03-19T12:42:03.658Z"
   },
   {
    "duration": 3,
    "start_time": "2022-03-19T12:42:04.287Z"
   },
   {
    "duration": 9,
    "start_time": "2022-03-19T12:42:04.291Z"
   },
   {
    "duration": 16,
    "start_time": "2022-03-19T12:42:04.302Z"
   },
   {
    "duration": 9,
    "start_time": "2022-03-19T12:42:04.319Z"
   },
   {
    "duration": 7,
    "start_time": "2022-03-19T12:42:04.329Z"
   },
   {
    "duration": 25,
    "start_time": "2022-03-19T12:42:04.338Z"
   },
   {
    "duration": 14,
    "start_time": "2022-03-19T12:42:04.365Z"
   },
   {
    "duration": 5,
    "start_time": "2022-03-19T12:42:04.381Z"
   },
   {
    "duration": 148,
    "start_time": "2022-03-19T12:42:04.387Z"
   },
   {
    "duration": 10,
    "start_time": "2022-03-19T12:42:04.537Z"
   },
   {
    "duration": 16,
    "start_time": "2022-03-19T12:42:04.549Z"
   },
   {
    "duration": 5,
    "start_time": "2022-03-19T12:42:04.567Z"
   },
   {
    "duration": 9,
    "start_time": "2022-03-19T12:42:04.573Z"
   },
   {
    "duration": 7,
    "start_time": "2022-03-19T12:42:04.583Z"
   },
   {
    "duration": 20,
    "start_time": "2022-03-19T12:42:04.591Z"
   },
   {
    "duration": 3,
    "start_time": "2022-03-19T12:42:04.612Z"
   },
   {
    "duration": 13,
    "start_time": "2022-03-19T12:42:04.616Z"
   },
   {
    "duration": 74,
    "start_time": "2022-03-19T12:42:04.631Z"
   },
   {
    "duration": 51,
    "start_time": "2022-03-19T12:45:23.407Z"
   },
   {
    "duration": 49,
    "start_time": "2022-03-19T12:45:44.095Z"
   },
   {
    "duration": 51,
    "start_time": "2022-03-19T16:37:44.395Z"
   },
   {
    "duration": 1793,
    "start_time": "2022-03-19T16:37:53.925Z"
   },
   {
    "duration": 308,
    "start_time": "2022-03-19T16:37:55.720Z"
   },
   {
    "duration": 27,
    "start_time": "2022-03-19T16:37:56.030Z"
   },
   {
    "duration": 20,
    "start_time": "2022-03-19T16:37:56.059Z"
   },
   {
    "duration": 82,
    "start_time": "2022-03-19T16:37:56.102Z"
   },
   {
    "duration": 24,
    "start_time": "2022-03-19T16:37:56.185Z"
   },
   {
    "duration": 21,
    "start_time": "2022-03-19T16:37:56.210Z"
   },
   {
    "duration": 401,
    "start_time": "2022-03-19T16:37:56.232Z"
   },
   {
    "duration": 21,
    "start_time": "2022-03-19T16:37:56.635Z"
   },
   {
    "duration": 4,
    "start_time": "2022-03-19T16:37:56.659Z"
   },
   {
    "duration": 13,
    "start_time": "2022-03-19T16:37:56.666Z"
   },
   {
    "duration": 11,
    "start_time": "2022-03-19T16:37:56.702Z"
   },
   {
    "duration": 10,
    "start_time": "2022-03-19T16:37:56.715Z"
   },
   {
    "duration": 11,
    "start_time": "2022-03-19T16:37:56.729Z"
   },
   {
    "duration": 6,
    "start_time": "2022-03-19T16:37:56.742Z"
   },
   {
    "duration": 217,
    "start_time": "2022-03-19T16:37:56.749Z"
   },
   {
    "duration": 10,
    "start_time": "2022-03-19T16:37:56.968Z"
   },
   {
    "duration": 21,
    "start_time": "2022-03-19T16:37:56.980Z"
   },
   {
    "duration": 7,
    "start_time": "2022-03-19T16:37:57.003Z"
   },
   {
    "duration": 90,
    "start_time": "2022-03-19T16:37:57.012Z"
   },
   {
    "duration": 0,
    "start_time": "2022-03-19T16:37:57.104Z"
   },
   {
    "duration": 0,
    "start_time": "2022-03-19T16:37:57.106Z"
   },
   {
    "duration": 0,
    "start_time": "2022-03-19T16:37:57.107Z"
   },
   {
    "duration": 0,
    "start_time": "2022-03-19T16:37:57.108Z"
   },
   {
    "duration": 0,
    "start_time": "2022-03-19T16:37:57.109Z"
   },
   {
    "duration": 0,
    "start_time": "2022-03-19T16:37:57.111Z"
   },
   {
    "duration": 0,
    "start_time": "2022-03-19T16:37:57.112Z"
   },
   {
    "duration": 0,
    "start_time": "2022-03-19T16:37:57.114Z"
   },
   {
    "duration": 0,
    "start_time": "2022-03-19T16:37:57.115Z"
   },
   {
    "duration": 0,
    "start_time": "2022-03-19T16:37:57.116Z"
   },
   {
    "duration": 0,
    "start_time": "2022-03-19T16:37:57.117Z"
   },
   {
    "duration": 0,
    "start_time": "2022-03-19T16:37:57.118Z"
   },
   {
    "duration": 0,
    "start_time": "2022-03-19T16:37:57.119Z"
   },
   {
    "duration": 0,
    "start_time": "2022-03-19T16:37:57.121Z"
   },
   {
    "duration": 0,
    "start_time": "2022-03-19T16:37:57.122Z"
   },
   {
    "duration": 0,
    "start_time": "2022-03-19T16:37:57.123Z"
   },
   {
    "duration": 0,
    "start_time": "2022-03-19T16:37:57.124Z"
   },
   {
    "duration": 0,
    "start_time": "2022-03-19T16:37:57.125Z"
   },
   {
    "duration": 0,
    "start_time": "2022-03-19T16:37:57.126Z"
   },
   {
    "duration": 0,
    "start_time": "2022-03-19T16:37:57.127Z"
   },
   {
    "duration": 0,
    "start_time": "2022-03-19T16:37:57.129Z"
   },
   {
    "duration": 0,
    "start_time": "2022-03-19T16:37:57.130Z"
   },
   {
    "duration": 0,
    "start_time": "2022-03-19T16:37:57.131Z"
   },
   {
    "duration": 0,
    "start_time": "2022-03-19T16:37:57.132Z"
   },
   {
    "duration": 0,
    "start_time": "2022-03-19T16:37:57.133Z"
   },
   {
    "duration": 0,
    "start_time": "2022-03-19T16:37:57.135Z"
   },
   {
    "duration": 0,
    "start_time": "2022-03-19T16:37:57.136Z"
   },
   {
    "duration": 0,
    "start_time": "2022-03-19T16:37:57.137Z"
   },
   {
    "duration": 0,
    "start_time": "2022-03-19T16:37:57.138Z"
   },
   {
    "duration": 0,
    "start_time": "2022-03-19T16:37:57.139Z"
   },
   {
    "duration": 0,
    "start_time": "2022-03-19T16:37:57.140Z"
   },
   {
    "duration": 0,
    "start_time": "2022-03-19T16:37:57.201Z"
   },
   {
    "duration": 11,
    "start_time": "2022-03-19T16:41:08.581Z"
   },
   {
    "duration": 4,
    "start_time": "2022-03-19T16:41:11.796Z"
   },
   {
    "duration": 487,
    "start_time": "2022-03-19T16:41:11.802Z"
   },
   {
    "duration": 28,
    "start_time": "2022-03-19T16:41:12.291Z"
   },
   {
    "duration": 18,
    "start_time": "2022-03-19T16:41:12.320Z"
   },
   {
    "duration": 96,
    "start_time": "2022-03-19T16:41:12.341Z"
   },
   {
    "duration": 21,
    "start_time": "2022-03-19T16:41:12.439Z"
   },
   {
    "duration": 16,
    "start_time": "2022-03-19T16:41:12.462Z"
   },
   {
    "duration": 426,
    "start_time": "2022-03-19T16:41:12.480Z"
   },
   {
    "duration": 19,
    "start_time": "2022-03-19T16:41:12.908Z"
   },
   {
    "duration": 4,
    "start_time": "2022-03-19T16:41:12.928Z"
   },
   {
    "duration": 14,
    "start_time": "2022-03-19T16:41:12.934Z"
   },
   {
    "duration": 15,
    "start_time": "2022-03-19T16:41:12.949Z"
   },
   {
    "duration": 38,
    "start_time": "2022-03-19T16:41:12.966Z"
   },
   {
    "duration": 11,
    "start_time": "2022-03-19T16:41:13.008Z"
   },
   {
    "duration": 5,
    "start_time": "2022-03-19T16:41:13.021Z"
   },
   {
    "duration": 201,
    "start_time": "2022-03-19T16:41:13.028Z"
   },
   {
    "duration": 9,
    "start_time": "2022-03-19T16:41:13.231Z"
   },
   {
    "duration": 7,
    "start_time": "2022-03-19T16:41:13.243Z"
   },
   {
    "duration": 14,
    "start_time": "2022-03-19T16:41:13.251Z"
   },
   {
    "duration": 3,
    "start_time": "2022-03-19T16:41:13.267Z"
   },
   {
    "duration": 35,
    "start_time": "2022-03-19T16:41:13.272Z"
   },
   {
    "duration": 23,
    "start_time": "2022-03-19T16:41:13.309Z"
   },
   {
    "duration": 14,
    "start_time": "2022-03-19T16:41:13.334Z"
   },
   {
    "duration": 71,
    "start_time": "2022-03-19T16:41:13.350Z"
   },
   {
    "duration": 28,
    "start_time": "2022-03-19T16:41:13.423Z"
   },
   {
    "duration": 9,
    "start_time": "2022-03-19T16:41:13.453Z"
   },
   {
    "duration": 54,
    "start_time": "2022-03-19T16:41:13.464Z"
   },
   {
    "duration": 8,
    "start_time": "2022-03-19T16:41:13.520Z"
   },
   {
    "duration": 6,
    "start_time": "2022-03-19T16:41:13.530Z"
   },
   {
    "duration": 12,
    "start_time": "2022-03-19T16:41:13.538Z"
   },
   {
    "duration": 16,
    "start_time": "2022-03-19T16:41:13.552Z"
   },
   {
    "duration": 6,
    "start_time": "2022-03-19T16:41:13.570Z"
   },
   {
    "duration": 11,
    "start_time": "2022-03-19T16:41:13.600Z"
   },
   {
    "duration": 580,
    "start_time": "2022-03-19T16:41:13.613Z"
   },
   {
    "duration": 622,
    "start_time": "2022-03-19T16:41:14.195Z"
   },
   {
    "duration": 4,
    "start_time": "2022-03-19T16:41:14.820Z"
   },
   {
    "duration": 14,
    "start_time": "2022-03-19T16:41:14.825Z"
   },
   {
    "duration": 20,
    "start_time": "2022-03-19T16:41:14.841Z"
   },
   {
    "duration": 8,
    "start_time": "2022-03-19T16:41:14.863Z"
   },
   {
    "duration": 29,
    "start_time": "2022-03-19T16:41:14.874Z"
   },
   {
    "duration": 6,
    "start_time": "2022-03-19T16:41:14.909Z"
   },
   {
    "duration": 26,
    "start_time": "2022-03-19T16:41:14.917Z"
   },
   {
    "duration": 4,
    "start_time": "2022-03-19T16:41:14.945Z"
   },
   {
    "duration": 190,
    "start_time": "2022-03-19T16:41:14.951Z"
   },
   {
    "duration": 12,
    "start_time": "2022-03-19T16:41:15.143Z"
   },
   {
    "duration": 5,
    "start_time": "2022-03-19T16:41:15.156Z"
   },
   {
    "duration": 7,
    "start_time": "2022-03-19T16:41:15.163Z"
   },
   {
    "duration": 34,
    "start_time": "2022-03-19T16:41:15.172Z"
   },
   {
    "duration": 7,
    "start_time": "2022-03-19T16:41:15.208Z"
   },
   {
    "duration": 28,
    "start_time": "2022-03-19T16:41:15.216Z"
   },
   {
    "duration": 3,
    "start_time": "2022-03-19T16:41:15.246Z"
   },
   {
    "duration": 86,
    "start_time": "2022-03-19T16:41:15.250Z"
   },
   {
    "duration": 69,
    "start_time": "2022-03-19T20:36:27.428Z"
   },
   {
    "duration": 2414,
    "start_time": "2022-03-19T20:36:31.456Z"
   },
   {
    "duration": 351,
    "start_time": "2022-03-19T20:36:33.873Z"
   },
   {
    "duration": 37,
    "start_time": "2022-03-19T20:36:34.227Z"
   },
   {
    "duration": 37,
    "start_time": "2022-03-19T20:36:34.284Z"
   },
   {
    "duration": 108,
    "start_time": "2022-03-19T20:36:34.324Z"
   },
   {
    "duration": 31,
    "start_time": "2022-03-19T20:36:34.434Z"
   },
   {
    "duration": 23,
    "start_time": "2022-03-19T20:36:34.483Z"
   },
   {
    "duration": 469,
    "start_time": "2022-03-19T20:36:34.509Z"
   },
   {
    "duration": 28,
    "start_time": "2022-03-19T20:36:34.983Z"
   },
   {
    "duration": 14,
    "start_time": "2022-03-19T20:36:35.017Z"
   },
   {
    "duration": 26,
    "start_time": "2022-03-19T20:36:35.034Z"
   },
   {
    "duration": 36,
    "start_time": "2022-03-19T20:36:35.062Z"
   },
   {
    "duration": 47,
    "start_time": "2022-03-19T20:36:35.099Z"
   },
   {
    "duration": 36,
    "start_time": "2022-03-19T20:36:35.149Z"
   },
   {
    "duration": 41,
    "start_time": "2022-03-19T20:36:35.187Z"
   },
   {
    "duration": 26,
    "start_time": "2022-03-19T20:36:35.231Z"
   },
   {
    "duration": 313,
    "start_time": "2022-03-19T20:36:35.259Z"
   },
   {
    "duration": 13,
    "start_time": "2022-03-19T20:36:35.575Z"
   },
   {
    "duration": 13,
    "start_time": "2022-03-19T20:36:35.590Z"
   },
   {
    "duration": 19,
    "start_time": "2022-03-19T20:36:35.605Z"
   },
   {
    "duration": 13,
    "start_time": "2022-03-19T20:36:35.626Z"
   },
   {
    "duration": 19,
    "start_time": "2022-03-19T20:36:35.641Z"
   },
   {
    "duration": 49,
    "start_time": "2022-03-19T20:36:35.662Z"
   },
   {
    "duration": 22,
    "start_time": "2022-03-19T20:36:35.714Z"
   },
   {
    "duration": 90,
    "start_time": "2022-03-19T20:36:35.738Z"
   },
   {
    "duration": 50,
    "start_time": "2022-03-19T20:36:35.831Z"
   },
   {
    "duration": 13,
    "start_time": "2022-03-19T20:36:35.884Z"
   },
   {
    "duration": 55,
    "start_time": "2022-03-19T20:36:35.906Z"
   },
   {
    "duration": 20,
    "start_time": "2022-03-19T20:36:35.964Z"
   },
   {
    "duration": 15,
    "start_time": "2022-03-19T20:36:35.987Z"
   },
   {
    "duration": 10,
    "start_time": "2022-03-19T20:36:36.004Z"
   },
   {
    "duration": 22,
    "start_time": "2022-03-19T20:36:36.016Z"
   },
   {
    "duration": 12,
    "start_time": "2022-03-19T20:36:36.041Z"
   },
   {
    "duration": 37,
    "start_time": "2022-03-19T20:36:36.055Z"
   },
   {
    "duration": 916,
    "start_time": "2022-03-19T20:36:36.095Z"
   },
   {
    "duration": 1023,
    "start_time": "2022-03-19T20:36:37.014Z"
   },
   {
    "duration": 4,
    "start_time": "2022-03-19T20:36:38.040Z"
   },
   {
    "duration": 16,
    "start_time": "2022-03-19T20:36:38.046Z"
   },
   {
    "duration": 36,
    "start_time": "2022-03-19T20:36:38.064Z"
   },
   {
    "duration": 16,
    "start_time": "2022-03-19T20:36:38.102Z"
   },
   {
    "duration": 10,
    "start_time": "2022-03-19T20:36:38.120Z"
   },
   {
    "duration": 15,
    "start_time": "2022-03-19T20:36:38.132Z"
   },
   {
    "duration": 36,
    "start_time": "2022-03-19T20:36:38.149Z"
   },
   {
    "duration": 14,
    "start_time": "2022-03-19T20:36:38.187Z"
   },
   {
    "duration": 227,
    "start_time": "2022-03-19T20:36:38.203Z"
   },
   {
    "duration": 15,
    "start_time": "2022-03-19T20:36:38.432Z"
   },
   {
    "duration": 6,
    "start_time": "2022-03-19T20:36:38.449Z"
   },
   {
    "duration": 26,
    "start_time": "2022-03-19T20:36:38.457Z"
   },
   {
    "duration": 27,
    "start_time": "2022-03-19T20:36:38.486Z"
   },
   {
    "duration": 21,
    "start_time": "2022-03-19T20:36:38.515Z"
   },
   {
    "duration": 53,
    "start_time": "2022-03-19T20:36:38.538Z"
   },
   {
    "duration": 4,
    "start_time": "2022-03-19T20:36:38.593Z"
   },
   {
    "duration": 85,
    "start_time": "2022-03-19T20:36:38.599Z"
   },
   {
    "duration": 56,
    "start_time": "2022-03-19T20:37:42.888Z"
   },
   {
    "duration": 6,
    "start_time": "2022-03-19T20:37:48.161Z"
   },
   {
    "duration": 392,
    "start_time": "2022-03-19T20:37:48.169Z"
   },
   {
    "duration": 37,
    "start_time": "2022-03-19T20:37:48.563Z"
   },
   {
    "duration": 30,
    "start_time": "2022-03-19T20:37:48.603Z"
   },
   {
    "duration": 112,
    "start_time": "2022-03-19T20:37:48.636Z"
   },
   {
    "duration": 36,
    "start_time": "2022-03-19T20:37:48.750Z"
   },
   {
    "duration": 23,
    "start_time": "2022-03-19T20:37:48.788Z"
   },
   {
    "duration": 491,
    "start_time": "2022-03-19T20:37:48.813Z"
   },
   {
    "duration": 26,
    "start_time": "2022-03-19T20:37:49.306Z"
   },
   {
    "duration": 5,
    "start_time": "2022-03-19T20:37:49.337Z"
   },
   {
    "duration": 46,
    "start_time": "2022-03-19T20:37:49.344Z"
   },
   {
    "duration": 23,
    "start_time": "2022-03-19T20:37:49.393Z"
   },
   {
    "duration": 10,
    "start_time": "2022-03-19T20:37:49.418Z"
   },
   {
    "duration": 18,
    "start_time": "2022-03-19T20:37:49.431Z"
   },
   {
    "duration": 35,
    "start_time": "2022-03-19T20:37:49.452Z"
   },
   {
    "duration": 477,
    "start_time": "2022-03-19T20:37:49.489Z"
   },
   {
    "duration": 20,
    "start_time": "2022-03-19T20:37:49.969Z"
   },
   {
    "duration": 20,
    "start_time": "2022-03-19T20:37:49.991Z"
   },
   {
    "duration": 15,
    "start_time": "2022-03-19T20:37:50.014Z"
   },
   {
    "duration": 12,
    "start_time": "2022-03-19T20:37:50.031Z"
   },
   {
    "duration": 28,
    "start_time": "2022-03-19T20:37:50.044Z"
   },
   {
    "duration": 38,
    "start_time": "2022-03-19T20:37:50.074Z"
   },
   {
    "duration": 24,
    "start_time": "2022-03-19T20:37:50.114Z"
   },
   {
    "duration": 76,
    "start_time": "2022-03-19T20:37:50.140Z"
   },
   {
    "duration": 34,
    "start_time": "2022-03-19T20:37:50.219Z"
   },
   {
    "duration": 29,
    "start_time": "2022-03-19T20:37:50.255Z"
   },
   {
    "duration": 41,
    "start_time": "2022-03-19T20:37:50.286Z"
   },
   {
    "duration": 5,
    "start_time": "2022-03-19T20:37:50.332Z"
   },
   {
    "duration": 15,
    "start_time": "2022-03-19T20:37:50.339Z"
   },
   {
    "duration": 39,
    "start_time": "2022-03-19T20:37:50.357Z"
   },
   {
    "duration": 29,
    "start_time": "2022-03-19T20:37:50.399Z"
   },
   {
    "duration": 13,
    "start_time": "2022-03-19T20:37:50.431Z"
   },
   {
    "duration": 31,
    "start_time": "2022-03-19T20:37:50.447Z"
   },
   {
    "duration": 889,
    "start_time": "2022-03-19T20:37:50.480Z"
   },
   {
    "duration": 941,
    "start_time": "2022-03-19T20:37:51.372Z"
   },
   {
    "duration": 4,
    "start_time": "2022-03-19T20:37:52.316Z"
   },
   {
    "duration": 13,
    "start_time": "2022-03-19T20:37:52.322Z"
   },
   {
    "duration": 46,
    "start_time": "2022-03-19T20:37:52.337Z"
   },
   {
    "duration": 6,
    "start_time": "2022-03-19T20:37:52.386Z"
   },
   {
    "duration": 7,
    "start_time": "2022-03-19T20:37:52.394Z"
   },
   {
    "duration": 6,
    "start_time": "2022-03-19T20:37:52.403Z"
   },
   {
    "duration": 35,
    "start_time": "2022-03-19T20:37:52.412Z"
   },
   {
    "duration": 4,
    "start_time": "2022-03-19T20:37:52.450Z"
   },
   {
    "duration": 270,
    "start_time": "2022-03-19T20:37:52.456Z"
   },
   {
    "duration": 12,
    "start_time": "2022-03-19T20:37:52.729Z"
   },
   {
    "duration": 5,
    "start_time": "2022-03-19T20:37:52.744Z"
   },
   {
    "duration": 33,
    "start_time": "2022-03-19T20:37:52.751Z"
   },
   {
    "duration": 10,
    "start_time": "2022-03-19T20:37:52.788Z"
   },
   {
    "duration": 8,
    "start_time": "2022-03-19T20:37:52.801Z"
   },
   {
    "duration": 24,
    "start_time": "2022-03-19T20:37:52.812Z"
   },
   {
    "duration": 44,
    "start_time": "2022-03-19T20:37:52.839Z"
   },
   {
    "duration": 76,
    "start_time": "2022-03-19T20:37:52.886Z"
   },
   {
    "duration": 74,
    "start_time": "2022-03-19T20:39:00.782Z"
   },
   {
    "duration": 7,
    "start_time": "2022-03-19T20:39:10.338Z"
   },
   {
    "duration": 411,
    "start_time": "2022-03-19T20:39:10.348Z"
   },
   {
    "duration": 32,
    "start_time": "2022-03-19T20:39:10.761Z"
   },
   {
    "duration": 153,
    "start_time": "2022-03-19T20:39:10.795Z"
   },
   {
    "duration": 90,
    "start_time": "2022-03-19T20:39:10.952Z"
   },
   {
    "duration": 53,
    "start_time": "2022-03-19T20:39:11.044Z"
   },
   {
    "duration": 45,
    "start_time": "2022-03-19T20:39:11.100Z"
   },
   {
    "duration": 468,
    "start_time": "2022-03-19T20:39:11.147Z"
   },
   {
    "duration": 26,
    "start_time": "2022-03-19T20:39:11.618Z"
   },
   {
    "duration": 5,
    "start_time": "2022-03-19T20:39:11.647Z"
   },
   {
    "duration": 51,
    "start_time": "2022-03-19T20:39:11.655Z"
   },
   {
    "duration": 20,
    "start_time": "2022-03-19T20:39:11.708Z"
   },
   {
    "duration": 13,
    "start_time": "2022-03-19T20:39:11.730Z"
   },
   {
    "duration": 13,
    "start_time": "2022-03-19T20:39:11.749Z"
   },
   {
    "duration": 17,
    "start_time": "2022-03-19T20:39:11.765Z"
   },
   {
    "duration": 299,
    "start_time": "2022-03-19T20:39:11.784Z"
   },
   {
    "duration": 14,
    "start_time": "2022-03-19T20:39:12.086Z"
   },
   {
    "duration": 10,
    "start_time": "2022-03-19T20:39:12.102Z"
   },
   {
    "duration": 12,
    "start_time": "2022-03-19T20:39:12.115Z"
   },
   {
    "duration": 52,
    "start_time": "2022-03-19T20:39:12.131Z"
   },
   {
    "duration": 11,
    "start_time": "2022-03-19T20:39:12.185Z"
   },
   {
    "duration": 32,
    "start_time": "2022-03-19T20:39:12.199Z"
   },
   {
    "duration": 18,
    "start_time": "2022-03-19T20:39:12.234Z"
   },
   {
    "duration": 65,
    "start_time": "2022-03-19T20:39:12.281Z"
   },
   {
    "duration": 57,
    "start_time": "2022-03-19T20:39:12.348Z"
   },
   {
    "duration": 9,
    "start_time": "2022-03-19T20:39:12.408Z"
   },
   {
    "duration": 33,
    "start_time": "2022-03-19T20:39:12.420Z"
   },
   {
    "duration": 28,
    "start_time": "2022-03-19T20:39:12.456Z"
   },
   {
    "duration": 21,
    "start_time": "2022-03-19T20:39:12.486Z"
   },
   {
    "duration": 11,
    "start_time": "2022-03-19T20:39:12.509Z"
   },
   {
    "duration": 24,
    "start_time": "2022-03-19T20:39:12.522Z"
   },
   {
    "duration": 18,
    "start_time": "2022-03-19T20:39:12.548Z"
   },
   {
    "duration": 26,
    "start_time": "2022-03-19T20:39:12.568Z"
   },
   {
    "duration": 904,
    "start_time": "2022-03-19T20:39:12.597Z"
   },
   {
    "duration": 911,
    "start_time": "2022-03-19T20:39:13.504Z"
   },
   {
    "duration": 4,
    "start_time": "2022-03-19T20:39:14.418Z"
   },
   {
    "duration": 8,
    "start_time": "2022-03-19T20:39:14.425Z"
   },
   {
    "duration": 51,
    "start_time": "2022-03-19T20:39:14.435Z"
   },
   {
    "duration": 9,
    "start_time": "2022-03-19T20:39:14.488Z"
   },
   {
    "duration": 5,
    "start_time": "2022-03-19T20:39:14.499Z"
   },
   {
    "duration": 6,
    "start_time": "2022-03-19T20:39:14.510Z"
   },
   {
    "duration": 27,
    "start_time": "2022-03-19T20:39:14.518Z"
   },
   {
    "duration": 37,
    "start_time": "2022-03-19T20:39:14.548Z"
   },
   {
    "duration": 255,
    "start_time": "2022-03-19T20:39:14.588Z"
   },
   {
    "duration": 14,
    "start_time": "2022-03-19T20:39:14.846Z"
   },
   {
    "duration": 20,
    "start_time": "2022-03-19T20:39:14.863Z"
   },
   {
    "duration": 6,
    "start_time": "2022-03-19T20:39:14.886Z"
   },
   {
    "duration": 11,
    "start_time": "2022-03-19T20:39:14.894Z"
   },
   {
    "duration": 8,
    "start_time": "2022-03-19T20:39:14.907Z"
   },
   {
    "duration": 23,
    "start_time": "2022-03-19T20:39:14.917Z"
   },
   {
    "duration": 40,
    "start_time": "2022-03-19T20:39:14.943Z"
   },
   {
    "duration": 75,
    "start_time": "2022-03-19T20:39:14.986Z"
   },
   {
    "duration": 6,
    "start_time": "2022-03-19T20:41:25.762Z"
   },
   {
    "duration": 9,
    "start_time": "2022-03-19T20:48:58.276Z"
   },
   {
    "duration": 11,
    "start_time": "2022-03-19T20:49:19.987Z"
   },
   {
    "duration": 14,
    "start_time": "2022-03-19T20:49:30.866Z"
   },
   {
    "duration": 11,
    "start_time": "2022-03-19T20:49:45.307Z"
   },
   {
    "duration": 11,
    "start_time": "2022-03-19T20:50:19.426Z"
   },
   {
    "duration": 45,
    "start_time": "2022-03-20T10:12:32.392Z"
   },
   {
    "duration": 6,
    "start_time": "2022-03-20T10:13:14.455Z"
   },
   {
    "duration": 7,
    "start_time": "2022-03-20T10:13:40.088Z"
   },
   {
    "duration": 6,
    "start_time": "2022-03-20T10:14:11.847Z"
   },
   {
    "duration": 6,
    "start_time": "2022-03-20T10:14:38.098Z"
   },
   {
    "duration": 1688,
    "start_time": "2022-03-20T10:14:43.190Z"
   },
   {
    "duration": 267,
    "start_time": "2022-03-20T10:14:44.880Z"
   },
   {
    "duration": 23,
    "start_time": "2022-03-20T10:14:45.148Z"
   },
   {
    "duration": 28,
    "start_time": "2022-03-20T10:14:45.173Z"
   },
   {
    "duration": 81,
    "start_time": "2022-03-20T10:14:45.203Z"
   },
   {
    "duration": 20,
    "start_time": "2022-03-20T10:14:45.285Z"
   },
   {
    "duration": 14,
    "start_time": "2022-03-20T10:14:45.307Z"
   },
   {
    "duration": 340,
    "start_time": "2022-03-20T10:14:45.323Z"
   },
   {
    "duration": 17,
    "start_time": "2022-03-20T10:14:45.665Z"
   },
   {
    "duration": 16,
    "start_time": "2022-03-20T10:14:45.685Z"
   },
   {
    "duration": 10,
    "start_time": "2022-03-20T10:14:45.703Z"
   },
   {
    "duration": 10,
    "start_time": "2022-03-20T10:14:45.714Z"
   },
   {
    "duration": 9,
    "start_time": "2022-03-20T10:14:45.725Z"
   },
   {
    "duration": 9,
    "start_time": "2022-03-20T10:14:45.735Z"
   },
   {
    "duration": 4,
    "start_time": "2022-03-20T10:14:45.746Z"
   },
   {
    "duration": 193,
    "start_time": "2022-03-20T10:14:45.752Z"
   },
   {
    "duration": 9,
    "start_time": "2022-03-20T10:14:45.947Z"
   },
   {
    "duration": 6,
    "start_time": "2022-03-20T10:14:45.958Z"
   },
   {
    "duration": 6,
    "start_time": "2022-03-20T10:14:45.965Z"
   },
   {
    "duration": 30,
    "start_time": "2022-03-20T10:14:45.972Z"
   },
   {
    "duration": 9,
    "start_time": "2022-03-20T10:14:46.003Z"
   },
   {
    "duration": 18,
    "start_time": "2022-03-20T10:14:46.013Z"
   },
   {
    "duration": 12,
    "start_time": "2022-03-20T10:14:46.033Z"
   },
   {
    "duration": 15,
    "start_time": "2022-03-20T10:14:46.046Z"
   },
   {
    "duration": 5,
    "start_time": "2022-03-20T10:14:46.063Z"
   },
   {
    "duration": 23,
    "start_time": "2022-03-20T10:14:46.101Z"
   },
   {
    "duration": 7,
    "start_time": "2022-03-20T10:14:46.126Z"
   },
   {
    "duration": 19,
    "start_time": "2022-03-20T10:14:46.137Z"
   },
   {
    "duration": 6,
    "start_time": "2022-03-20T10:14:46.158Z"
   },
   {
    "duration": 8,
    "start_time": "2022-03-20T10:14:46.165Z"
   },
   {
    "duration": 4,
    "start_time": "2022-03-20T10:14:46.200Z"
   },
   {
    "duration": 13,
    "start_time": "2022-03-20T10:14:46.206Z"
   },
   {
    "duration": 6,
    "start_time": "2022-03-20T10:14:46.221Z"
   },
   {
    "duration": 15,
    "start_time": "2022-03-20T10:14:46.229Z"
   },
   {
    "duration": 493,
    "start_time": "2022-03-20T10:14:46.246Z"
   },
   {
    "duration": 560,
    "start_time": "2022-03-20T10:14:46.741Z"
   },
   {
    "duration": 4,
    "start_time": "2022-03-20T10:14:47.303Z"
   },
   {
    "duration": 8,
    "start_time": "2022-03-20T10:14:47.309Z"
   },
   {
    "duration": 35,
    "start_time": "2022-03-20T10:14:47.318Z"
   },
   {
    "duration": 5,
    "start_time": "2022-03-20T10:14:47.355Z"
   },
   {
    "duration": 12,
    "start_time": "2022-03-20T10:14:47.361Z"
   },
   {
    "duration": 11,
    "start_time": "2022-03-20T10:14:47.374Z"
   },
   {
    "duration": 21,
    "start_time": "2022-03-20T10:14:47.387Z"
   },
   {
    "duration": 7,
    "start_time": "2022-03-20T10:14:47.409Z"
   },
   {
    "duration": 148,
    "start_time": "2022-03-20T10:14:47.417Z"
   },
   {
    "duration": 11,
    "start_time": "2022-03-20T10:14:47.567Z"
   },
   {
    "duration": 4,
    "start_time": "2022-03-20T10:14:47.580Z"
   },
   {
    "duration": 3,
    "start_time": "2022-03-20T10:14:47.601Z"
   },
   {
    "duration": 9,
    "start_time": "2022-03-20T10:14:47.606Z"
   },
   {
    "duration": 6,
    "start_time": "2022-03-20T10:14:47.617Z"
   },
   {
    "duration": 25,
    "start_time": "2022-03-20T10:14:47.625Z"
   },
   {
    "duration": 2,
    "start_time": "2022-03-20T10:14:47.652Z"
   },
   {
    "duration": 90,
    "start_time": "2022-03-20T10:14:47.656Z"
   },
   {
    "duration": 106,
    "start_time": "2022-03-20T10:16:42.882Z"
   },
   {
    "duration": 5,
    "start_time": "2022-03-20T10:17:07.337Z"
   },
   {
    "duration": 286,
    "start_time": "2022-03-20T10:17:07.344Z"
   },
   {
    "duration": 19,
    "start_time": "2022-03-20T10:17:07.632Z"
   },
   {
    "duration": 19,
    "start_time": "2022-03-20T10:17:07.653Z"
   },
   {
    "duration": 89,
    "start_time": "2022-03-20T10:17:07.674Z"
   },
   {
    "duration": 18,
    "start_time": "2022-03-20T10:17:07.764Z"
   },
   {
    "duration": 25,
    "start_time": "2022-03-20T10:17:07.784Z"
   },
   {
    "duration": 360,
    "start_time": "2022-03-20T10:17:07.811Z"
   },
   {
    "duration": 16,
    "start_time": "2022-03-20T10:17:08.173Z"
   },
   {
    "duration": 10,
    "start_time": "2022-03-20T10:17:08.191Z"
   },
   {
    "duration": 11,
    "start_time": "2022-03-20T10:17:08.203Z"
   },
   {
    "duration": 10,
    "start_time": "2022-03-20T10:17:08.215Z"
   },
   {
    "duration": 6,
    "start_time": "2022-03-20T10:17:08.226Z"
   },
   {
    "duration": 9,
    "start_time": "2022-03-20T10:17:08.233Z"
   },
   {
    "duration": 4,
    "start_time": "2022-03-20T10:17:08.244Z"
   },
   {
    "duration": 185,
    "start_time": "2022-03-20T10:17:08.249Z"
   },
   {
    "duration": 10,
    "start_time": "2022-03-20T10:17:08.435Z"
   },
   {
    "duration": 6,
    "start_time": "2022-03-20T10:17:08.446Z"
   },
   {
    "duration": 7,
    "start_time": "2022-03-20T10:17:08.453Z"
   },
   {
    "duration": 4,
    "start_time": "2022-03-20T10:17:08.461Z"
   },
   {
    "duration": 35,
    "start_time": "2022-03-20T10:17:08.466Z"
   },
   {
    "duration": 19,
    "start_time": "2022-03-20T10:17:08.503Z"
   },
   {
    "duration": 15,
    "start_time": "2022-03-20T10:17:08.523Z"
   },
   {
    "duration": 10,
    "start_time": "2022-03-20T10:17:08.540Z"
   },
   {
    "duration": 0,
    "start_time": "2022-03-20T10:17:08.552Z"
   },
   {
    "duration": 0,
    "start_time": "2022-03-20T10:17:08.554Z"
   },
   {
    "duration": 0,
    "start_time": "2022-03-20T10:17:08.555Z"
   },
   {
    "duration": 0,
    "start_time": "2022-03-20T10:17:08.556Z"
   },
   {
    "duration": 0,
    "start_time": "2022-03-20T10:17:08.557Z"
   },
   {
    "duration": 0,
    "start_time": "2022-03-20T10:17:08.558Z"
   },
   {
    "duration": 0,
    "start_time": "2022-03-20T10:17:08.558Z"
   },
   {
    "duration": 0,
    "start_time": "2022-03-20T10:17:08.559Z"
   },
   {
    "duration": 0,
    "start_time": "2022-03-20T10:17:08.560Z"
   },
   {
    "duration": 0,
    "start_time": "2022-03-20T10:17:08.561Z"
   },
   {
    "duration": 0,
    "start_time": "2022-03-20T10:17:08.563Z"
   },
   {
    "duration": 0,
    "start_time": "2022-03-20T10:17:08.564Z"
   },
   {
    "duration": 0,
    "start_time": "2022-03-20T10:17:08.600Z"
   },
   {
    "duration": 0,
    "start_time": "2022-03-20T10:17:08.602Z"
   },
   {
    "duration": 0,
    "start_time": "2022-03-20T10:17:08.603Z"
   },
   {
    "duration": 0,
    "start_time": "2022-03-20T10:17:08.604Z"
   },
   {
    "duration": 0,
    "start_time": "2022-03-20T10:17:08.605Z"
   },
   {
    "duration": 0,
    "start_time": "2022-03-20T10:17:08.606Z"
   },
   {
    "duration": 0,
    "start_time": "2022-03-20T10:17:08.607Z"
   },
   {
    "duration": 0,
    "start_time": "2022-03-20T10:17:08.608Z"
   },
   {
    "duration": 0,
    "start_time": "2022-03-20T10:17:08.609Z"
   },
   {
    "duration": 0,
    "start_time": "2022-03-20T10:17:08.610Z"
   },
   {
    "duration": 0,
    "start_time": "2022-03-20T10:17:08.611Z"
   },
   {
    "duration": 0,
    "start_time": "2022-03-20T10:17:08.612Z"
   },
   {
    "duration": 0,
    "start_time": "2022-03-20T10:17:08.613Z"
   },
   {
    "duration": 0,
    "start_time": "2022-03-20T10:17:08.614Z"
   },
   {
    "duration": 0,
    "start_time": "2022-03-20T10:17:08.615Z"
   },
   {
    "duration": 0,
    "start_time": "2022-03-20T10:17:08.616Z"
   },
   {
    "duration": 0,
    "start_time": "2022-03-20T10:17:08.616Z"
   },
   {
    "duration": 3,
    "start_time": "2022-03-20T10:17:45.685Z"
   },
   {
    "duration": 275,
    "start_time": "2022-03-20T10:17:45.690Z"
   },
   {
    "duration": 18,
    "start_time": "2022-03-20T10:17:45.967Z"
   },
   {
    "duration": 25,
    "start_time": "2022-03-20T10:17:45.987Z"
   },
   {
    "duration": 82,
    "start_time": "2022-03-20T10:17:46.014Z"
   },
   {
    "duration": 19,
    "start_time": "2022-03-20T10:17:46.098Z"
   },
   {
    "duration": 12,
    "start_time": "2022-03-20T10:17:46.119Z"
   },
   {
    "duration": 354,
    "start_time": "2022-03-20T10:17:46.133Z"
   },
   {
    "duration": 24,
    "start_time": "2022-03-20T10:17:46.489Z"
   },
   {
    "duration": 3,
    "start_time": "2022-03-20T10:17:46.515Z"
   },
   {
    "duration": 10,
    "start_time": "2022-03-20T10:17:46.520Z"
   },
   {
    "duration": 9,
    "start_time": "2022-03-20T10:17:46.531Z"
   },
   {
    "duration": 6,
    "start_time": "2022-03-20T10:17:46.541Z"
   },
   {
    "duration": 8,
    "start_time": "2022-03-20T10:17:46.549Z"
   },
   {
    "duration": 3,
    "start_time": "2022-03-20T10:17:46.559Z"
   },
   {
    "duration": 187,
    "start_time": "2022-03-20T10:17:46.564Z"
   },
   {
    "duration": 8,
    "start_time": "2022-03-20T10:17:46.753Z"
   },
   {
    "duration": 6,
    "start_time": "2022-03-20T10:17:46.763Z"
   },
   {
    "duration": 7,
    "start_time": "2022-03-20T10:17:46.770Z"
   },
   {
    "duration": 22,
    "start_time": "2022-03-20T10:17:46.779Z"
   },
   {
    "duration": 7,
    "start_time": "2022-03-20T10:17:46.802Z"
   },
   {
    "duration": 19,
    "start_time": "2022-03-20T10:17:46.810Z"
   },
   {
    "duration": 10,
    "start_time": "2022-03-20T10:17:46.830Z"
   },
   {
    "duration": 10,
    "start_time": "2022-03-20T10:17:46.841Z"
   },
   {
    "duration": 0,
    "start_time": "2022-03-20T10:17:46.852Z"
   },
   {
    "duration": 0,
    "start_time": "2022-03-20T10:17:46.853Z"
   },
   {
    "duration": 0,
    "start_time": "2022-03-20T10:17:46.854Z"
   },
   {
    "duration": 0,
    "start_time": "2022-03-20T10:17:46.855Z"
   },
   {
    "duration": 0,
    "start_time": "2022-03-20T10:17:46.856Z"
   },
   {
    "duration": 0,
    "start_time": "2022-03-20T10:17:46.857Z"
   },
   {
    "duration": 0,
    "start_time": "2022-03-20T10:17:46.858Z"
   },
   {
    "duration": 0,
    "start_time": "2022-03-20T10:17:46.859Z"
   },
   {
    "duration": 0,
    "start_time": "2022-03-20T10:17:46.860Z"
   },
   {
    "duration": 0,
    "start_time": "2022-03-20T10:17:46.861Z"
   },
   {
    "duration": 0,
    "start_time": "2022-03-20T10:17:46.862Z"
   },
   {
    "duration": 0,
    "start_time": "2022-03-20T10:17:46.863Z"
   },
   {
    "duration": 0,
    "start_time": "2022-03-20T10:17:46.902Z"
   },
   {
    "duration": 0,
    "start_time": "2022-03-20T10:17:46.903Z"
   },
   {
    "duration": 0,
    "start_time": "2022-03-20T10:17:46.904Z"
   },
   {
    "duration": 0,
    "start_time": "2022-03-20T10:17:46.905Z"
   },
   {
    "duration": 0,
    "start_time": "2022-03-20T10:17:46.906Z"
   },
   {
    "duration": 0,
    "start_time": "2022-03-20T10:17:46.907Z"
   },
   {
    "duration": 0,
    "start_time": "2022-03-20T10:17:46.908Z"
   },
   {
    "duration": 0,
    "start_time": "2022-03-20T10:17:46.909Z"
   },
   {
    "duration": 0,
    "start_time": "2022-03-20T10:17:46.910Z"
   },
   {
    "duration": 0,
    "start_time": "2022-03-20T10:17:46.911Z"
   },
   {
    "duration": 0,
    "start_time": "2022-03-20T10:17:46.912Z"
   },
   {
    "duration": 0,
    "start_time": "2022-03-20T10:17:46.913Z"
   },
   {
    "duration": 0,
    "start_time": "2022-03-20T10:17:46.914Z"
   },
   {
    "duration": 0,
    "start_time": "2022-03-20T10:17:46.915Z"
   },
   {
    "duration": 0,
    "start_time": "2022-03-20T10:17:46.916Z"
   },
   {
    "duration": 0,
    "start_time": "2022-03-20T10:17:46.917Z"
   },
   {
    "duration": 0,
    "start_time": "2022-03-20T10:17:46.918Z"
   },
   {
    "duration": 10,
    "start_time": "2022-03-20T10:21:20.250Z"
   },
   {
    "duration": 3,
    "start_time": "2022-03-20T10:21:36.121Z"
   },
   {
    "duration": 4,
    "start_time": "2022-03-20T10:21:47.272Z"
   },
   {
    "duration": 8,
    "start_time": "2022-03-20T10:22:00.691Z"
   },
   {
    "duration": 8,
    "start_time": "2022-03-20T10:23:32.570Z"
   },
   {
    "duration": 4,
    "start_time": "2022-03-20T10:23:45.050Z"
   },
   {
    "duration": 280,
    "start_time": "2022-03-20T10:23:45.056Z"
   },
   {
    "duration": 19,
    "start_time": "2022-03-20T10:23:45.337Z"
   },
   {
    "duration": 15,
    "start_time": "2022-03-20T10:23:45.358Z"
   },
   {
    "duration": 81,
    "start_time": "2022-03-20T10:23:45.375Z"
   },
   {
    "duration": 18,
    "start_time": "2022-03-20T10:23:45.457Z"
   },
   {
    "duration": 25,
    "start_time": "2022-03-20T10:23:45.477Z"
   },
   {
    "duration": 338,
    "start_time": "2022-03-20T10:23:45.503Z"
   },
   {
    "duration": 16,
    "start_time": "2022-03-20T10:23:45.843Z"
   },
   {
    "duration": 3,
    "start_time": "2022-03-20T10:23:45.862Z"
   },
   {
    "duration": 9,
    "start_time": "2022-03-20T10:23:45.867Z"
   },
   {
    "duration": 26,
    "start_time": "2022-03-20T10:23:45.878Z"
   },
   {
    "duration": 11,
    "start_time": "2022-03-20T10:23:45.906Z"
   },
   {
    "duration": 9,
    "start_time": "2022-03-20T10:23:45.918Z"
   },
   {
    "duration": 3,
    "start_time": "2022-03-20T10:23:45.929Z"
   },
   {
    "duration": 179,
    "start_time": "2022-03-20T10:23:45.934Z"
   },
   {
    "duration": 9,
    "start_time": "2022-03-20T10:23:46.114Z"
   },
   {
    "duration": 5,
    "start_time": "2022-03-20T10:23:46.125Z"
   },
   {
    "duration": 6,
    "start_time": "2022-03-20T10:23:46.132Z"
   },
   {
    "duration": 2,
    "start_time": "2022-03-20T10:23:46.140Z"
   },
   {
    "duration": 7,
    "start_time": "2022-03-20T10:23:46.144Z"
   },
   {
    "duration": 52,
    "start_time": "2022-03-20T10:23:46.153Z"
   },
   {
    "duration": 9,
    "start_time": "2022-03-20T10:23:46.207Z"
   },
   {
    "duration": 2,
    "start_time": "2022-03-20T10:23:46.218Z"
   },
   {
    "duration": 7,
    "start_time": "2022-03-20T10:23:46.222Z"
   },
   {
    "duration": 21,
    "start_time": "2022-03-20T10:23:46.230Z"
   },
   {
    "duration": 6,
    "start_time": "2022-03-20T10:23:46.252Z"
   },
   {
    "duration": 49,
    "start_time": "2022-03-20T10:23:46.261Z"
   },
   {
    "duration": 3,
    "start_time": "2022-03-20T10:23:46.311Z"
   },
   {
    "duration": 6,
    "start_time": "2022-03-20T10:23:46.315Z"
   },
   {
    "duration": 8,
    "start_time": "2022-03-20T10:23:46.323Z"
   },
   {
    "duration": 17,
    "start_time": "2022-03-20T10:23:46.332Z"
   },
   {
    "duration": 6,
    "start_time": "2022-03-20T10:23:46.350Z"
   },
   {
    "duration": 17,
    "start_time": "2022-03-20T10:23:46.357Z"
   },
   {
    "duration": 458,
    "start_time": "2022-03-20T10:23:46.375Z"
   },
   {
    "duration": 469,
    "start_time": "2022-03-20T10:23:46.835Z"
   },
   {
    "duration": 3,
    "start_time": "2022-03-20T10:23:47.306Z"
   },
   {
    "duration": 7,
    "start_time": "2022-03-20T10:23:47.311Z"
   },
   {
    "duration": 16,
    "start_time": "2022-03-20T10:23:47.320Z"
   },
   {
    "duration": 8,
    "start_time": "2022-03-20T10:23:47.337Z"
   },
   {
    "duration": 4,
    "start_time": "2022-03-20T10:23:47.346Z"
   },
   {
    "duration": 4,
    "start_time": "2022-03-20T10:23:47.352Z"
   },
   {
    "duration": 46,
    "start_time": "2022-03-20T10:23:47.357Z"
   },
   {
    "duration": 3,
    "start_time": "2022-03-20T10:23:47.405Z"
   },
   {
    "duration": 218,
    "start_time": "2022-03-20T10:23:47.410Z"
   },
   {
    "duration": 7,
    "start_time": "2022-03-20T10:23:47.630Z"
   },
   {
    "duration": 3,
    "start_time": "2022-03-20T10:23:47.639Z"
   },
   {
    "duration": 5,
    "start_time": "2022-03-20T10:23:47.643Z"
   },
   {
    "duration": 6,
    "start_time": "2022-03-20T10:23:47.650Z"
   },
   {
    "duration": 6,
    "start_time": "2022-03-20T10:23:47.657Z"
   },
   {
    "duration": 36,
    "start_time": "2022-03-20T10:23:47.665Z"
   },
   {
    "duration": 3,
    "start_time": "2022-03-20T10:23:47.702Z"
   },
   {
    "duration": 43,
    "start_time": "2022-03-20T10:23:47.707Z"
   },
   {
    "duration": 4,
    "start_time": "2022-03-20T10:24:45.358Z"
   },
   {
    "duration": 9,
    "start_time": "2022-03-20T10:34:22.137Z"
   },
   {
    "duration": 4,
    "start_time": "2022-03-20T10:34:28.456Z"
   },
   {
    "duration": 301,
    "start_time": "2022-03-20T10:34:28.462Z"
   },
   {
    "duration": 19,
    "start_time": "2022-03-20T10:34:28.764Z"
   },
   {
    "duration": 32,
    "start_time": "2022-03-20T10:34:28.786Z"
   },
   {
    "duration": 76,
    "start_time": "2022-03-20T10:34:28.820Z"
   },
   {
    "duration": 18,
    "start_time": "2022-03-20T10:34:28.898Z"
   },
   {
    "duration": 13,
    "start_time": "2022-03-20T10:34:28.918Z"
   },
   {
    "duration": 347,
    "start_time": "2022-03-20T10:34:28.933Z"
   },
   {
    "duration": 20,
    "start_time": "2022-03-20T10:34:29.282Z"
   },
   {
    "duration": 3,
    "start_time": "2022-03-20T10:34:29.305Z"
   },
   {
    "duration": 10,
    "start_time": "2022-03-20T10:34:29.309Z"
   },
   {
    "duration": 10,
    "start_time": "2022-03-20T10:34:29.320Z"
   },
   {
    "duration": 6,
    "start_time": "2022-03-20T10:34:29.332Z"
   },
   {
    "duration": 10,
    "start_time": "2022-03-20T10:34:29.339Z"
   },
   {
    "duration": 4,
    "start_time": "2022-03-20T10:34:29.350Z"
   },
   {
    "duration": 195,
    "start_time": "2022-03-20T10:34:29.355Z"
   },
   {
    "duration": 9,
    "start_time": "2022-03-20T10:34:29.552Z"
   },
   {
    "duration": 6,
    "start_time": "2022-03-20T10:34:29.564Z"
   },
   {
    "duration": 30,
    "start_time": "2022-03-20T10:34:29.572Z"
   },
   {
    "duration": 3,
    "start_time": "2022-03-20T10:34:29.604Z"
   },
   {
    "duration": 9,
    "start_time": "2022-03-20T10:34:29.609Z"
   },
   {
    "duration": 21,
    "start_time": "2022-03-20T10:34:29.620Z"
   },
   {
    "duration": 10,
    "start_time": "2022-03-20T10:34:29.642Z"
   },
   {
    "duration": 9,
    "start_time": "2022-03-20T10:34:29.654Z"
   },
   {
    "duration": 0,
    "start_time": "2022-03-20T10:34:29.702Z"
   },
   {
    "duration": 0,
    "start_time": "2022-03-20T10:34:29.703Z"
   },
   {
    "duration": 0,
    "start_time": "2022-03-20T10:34:29.704Z"
   },
   {
    "duration": 0,
    "start_time": "2022-03-20T10:34:29.705Z"
   },
   {
    "duration": 0,
    "start_time": "2022-03-20T10:34:29.706Z"
   },
   {
    "duration": 0,
    "start_time": "2022-03-20T10:34:29.707Z"
   },
   {
    "duration": 0,
    "start_time": "2022-03-20T10:34:29.708Z"
   },
   {
    "duration": 0,
    "start_time": "2022-03-20T10:34:29.709Z"
   },
   {
    "duration": 0,
    "start_time": "2022-03-20T10:34:29.710Z"
   },
   {
    "duration": 0,
    "start_time": "2022-03-20T10:34:29.711Z"
   },
   {
    "duration": 0,
    "start_time": "2022-03-20T10:34:29.712Z"
   },
   {
    "duration": 0,
    "start_time": "2022-03-20T10:34:29.713Z"
   },
   {
    "duration": 0,
    "start_time": "2022-03-20T10:34:29.714Z"
   },
   {
    "duration": 0,
    "start_time": "2022-03-20T10:34:29.715Z"
   },
   {
    "duration": 0,
    "start_time": "2022-03-20T10:34:29.716Z"
   },
   {
    "duration": 0,
    "start_time": "2022-03-20T10:34:29.717Z"
   },
   {
    "duration": 0,
    "start_time": "2022-03-20T10:34:29.718Z"
   },
   {
    "duration": 0,
    "start_time": "2022-03-20T10:34:29.719Z"
   },
   {
    "duration": 0,
    "start_time": "2022-03-20T10:34:29.720Z"
   },
   {
    "duration": 0,
    "start_time": "2022-03-20T10:34:29.721Z"
   },
   {
    "duration": 0,
    "start_time": "2022-03-20T10:34:29.722Z"
   },
   {
    "duration": 0,
    "start_time": "2022-03-20T10:34:29.722Z"
   },
   {
    "duration": 0,
    "start_time": "2022-03-20T10:34:29.723Z"
   },
   {
    "duration": 0,
    "start_time": "2022-03-20T10:34:29.724Z"
   },
   {
    "duration": 0,
    "start_time": "2022-03-20T10:34:29.725Z"
   },
   {
    "duration": 0,
    "start_time": "2022-03-20T10:34:29.726Z"
   },
   {
    "duration": 0,
    "start_time": "2022-03-20T10:34:29.727Z"
   },
   {
    "duration": 0,
    "start_time": "2022-03-20T10:34:29.728Z"
   },
   {
    "duration": 0,
    "start_time": "2022-03-20T10:34:29.729Z"
   },
   {
    "duration": 9,
    "start_time": "2022-03-20T10:35:30.598Z"
   },
   {
    "duration": 9,
    "start_time": "2022-03-20T10:36:03.218Z"
   },
   {
    "duration": 6,
    "start_time": "2022-03-20T11:15:34.205Z"
   },
   {
    "duration": 188,
    "start_time": "2022-03-20T11:15:48.014Z"
   },
   {
    "duration": 17,
    "start_time": "2022-03-20T11:28:44.834Z"
   },
   {
    "duration": 4,
    "start_time": "2022-03-20T11:28:51.132Z"
   },
   {
    "duration": 276,
    "start_time": "2022-03-20T11:28:51.138Z"
   },
   {
    "duration": 18,
    "start_time": "2022-03-20T11:28:51.416Z"
   },
   {
    "duration": 15,
    "start_time": "2022-03-20T11:28:51.436Z"
   },
   {
    "duration": 75,
    "start_time": "2022-03-20T11:28:51.453Z"
   },
   {
    "duration": 23,
    "start_time": "2022-03-20T11:28:51.530Z"
   },
   {
    "duration": 15,
    "start_time": "2022-03-20T11:28:51.555Z"
   },
   {
    "duration": 368,
    "start_time": "2022-03-20T11:28:51.572Z"
   },
   {
    "duration": 15,
    "start_time": "2022-03-20T11:28:51.942Z"
   },
   {
    "duration": 3,
    "start_time": "2022-03-20T11:28:51.960Z"
   },
   {
    "duration": 9,
    "start_time": "2022-03-20T11:28:51.965Z"
   },
   {
    "duration": 27,
    "start_time": "2022-03-20T11:28:51.975Z"
   },
   {
    "duration": 5,
    "start_time": "2022-03-20T11:28:52.003Z"
   },
   {
    "duration": 8,
    "start_time": "2022-03-20T11:28:52.009Z"
   },
   {
    "duration": 3,
    "start_time": "2022-03-20T11:28:52.018Z"
   },
   {
    "duration": 176,
    "start_time": "2022-03-20T11:28:52.023Z"
   },
   {
    "duration": 8,
    "start_time": "2022-03-20T11:28:52.201Z"
   },
   {
    "duration": 5,
    "start_time": "2022-03-20T11:28:52.210Z"
   },
   {
    "duration": 5,
    "start_time": "2022-03-20T11:28:52.217Z"
   },
   {
    "duration": 2,
    "start_time": "2022-03-20T11:28:52.224Z"
   },
   {
    "duration": 7,
    "start_time": "2022-03-20T11:28:52.228Z"
   },
   {
    "duration": 18,
    "start_time": "2022-03-20T11:28:52.237Z"
   },
   {
    "duration": 46,
    "start_time": "2022-03-20T11:28:52.256Z"
   },
   {
    "duration": 0,
    "start_time": "2022-03-20T11:28:52.304Z"
   },
   {
    "duration": 0,
    "start_time": "2022-03-20T11:28:52.306Z"
   },
   {
    "duration": 0,
    "start_time": "2022-03-20T11:28:52.306Z"
   },
   {
    "duration": 0,
    "start_time": "2022-03-20T11:28:52.307Z"
   },
   {
    "duration": 0,
    "start_time": "2022-03-20T11:28:52.308Z"
   },
   {
    "duration": 0,
    "start_time": "2022-03-20T11:28:52.309Z"
   },
   {
    "duration": 0,
    "start_time": "2022-03-20T11:28:52.310Z"
   },
   {
    "duration": 0,
    "start_time": "2022-03-20T11:28:52.311Z"
   },
   {
    "duration": 0,
    "start_time": "2022-03-20T11:28:52.312Z"
   },
   {
    "duration": 0,
    "start_time": "2022-03-20T11:28:52.313Z"
   },
   {
    "duration": 0,
    "start_time": "2022-03-20T11:28:52.314Z"
   },
   {
    "duration": 0,
    "start_time": "2022-03-20T11:28:52.315Z"
   },
   {
    "duration": 0,
    "start_time": "2022-03-20T11:28:52.316Z"
   },
   {
    "duration": 0,
    "start_time": "2022-03-20T11:28:52.317Z"
   },
   {
    "duration": 0,
    "start_time": "2022-03-20T11:28:52.318Z"
   },
   {
    "duration": 0,
    "start_time": "2022-03-20T11:28:52.319Z"
   },
   {
    "duration": 0,
    "start_time": "2022-03-20T11:28:52.319Z"
   },
   {
    "duration": 0,
    "start_time": "2022-03-20T11:28:52.320Z"
   },
   {
    "duration": 0,
    "start_time": "2022-03-20T11:28:52.321Z"
   },
   {
    "duration": 0,
    "start_time": "2022-03-20T11:28:52.322Z"
   },
   {
    "duration": 0,
    "start_time": "2022-03-20T11:28:52.323Z"
   },
   {
    "duration": 0,
    "start_time": "2022-03-20T11:28:52.324Z"
   },
   {
    "duration": 0,
    "start_time": "2022-03-20T11:28:52.325Z"
   },
   {
    "duration": 0,
    "start_time": "2022-03-20T11:28:52.326Z"
   },
   {
    "duration": 0,
    "start_time": "2022-03-20T11:28:52.327Z"
   },
   {
    "duration": 0,
    "start_time": "2022-03-20T11:28:52.328Z"
   },
   {
    "duration": 0,
    "start_time": "2022-03-20T11:28:52.329Z"
   },
   {
    "duration": 0,
    "start_time": "2022-03-20T11:28:52.329Z"
   },
   {
    "duration": 1,
    "start_time": "2022-03-20T11:28:52.330Z"
   },
   {
    "duration": 17,
    "start_time": "2022-03-20T11:29:43.173Z"
   },
   {
    "duration": 18,
    "start_time": "2022-03-20T11:30:35.822Z"
   },
   {
    "duration": 9,
    "start_time": "2022-03-20T11:31:56.330Z"
   },
   {
    "duration": 13,
    "start_time": "2022-03-20T11:33:00.020Z"
   },
   {
    "duration": 12,
    "start_time": "2022-03-20T11:33:09.140Z"
   },
   {
    "duration": 11,
    "start_time": "2022-03-20T11:33:33.440Z"
   },
   {
    "duration": 16,
    "start_time": "2022-03-20T11:34:06.157Z"
   },
   {
    "duration": 16,
    "start_time": "2022-03-20T11:34:55.261Z"
   },
   {
    "duration": 8,
    "start_time": "2022-03-20T11:35:08.408Z"
   },
   {
    "duration": 8,
    "start_time": "2022-03-20T11:35:15.268Z"
   },
   {
    "duration": 7,
    "start_time": "2022-03-20T11:35:24.268Z"
   },
   {
    "duration": 3,
    "start_time": "2022-03-20T11:39:25.955Z"
   },
   {
    "duration": 4,
    "start_time": "2022-03-20T11:39:46.745Z"
   },
   {
    "duration": 4,
    "start_time": "2022-03-20T11:39:56.898Z"
   },
   {
    "duration": 4,
    "start_time": "2022-03-20T11:40:20.093Z"
   },
   {
    "duration": 4,
    "start_time": "2022-03-20T12:29:31.975Z"
   },
   {
    "duration": 304,
    "start_time": "2022-03-20T12:29:31.981Z"
   },
   {
    "duration": 22,
    "start_time": "2022-03-20T12:29:32.286Z"
   },
   {
    "duration": 32,
    "start_time": "2022-03-20T12:29:32.311Z"
   },
   {
    "duration": 943,
    "start_time": "2022-03-20T12:29:32.345Z"
   },
   {
    "duration": 20,
    "start_time": "2022-03-20T12:29:33.290Z"
   },
   {
    "duration": 30,
    "start_time": "2022-03-20T12:29:33.311Z"
   },
   {
    "duration": 1216,
    "start_time": "2022-03-20T12:29:33.343Z"
   },
   {
    "duration": 17,
    "start_time": "2022-03-20T12:29:34.561Z"
   },
   {
    "duration": 4,
    "start_time": "2022-03-20T12:29:34.581Z"
   },
   {
    "duration": 7,
    "start_time": "2022-03-20T12:29:34.601Z"
   },
   {
    "duration": 9,
    "start_time": "2022-03-20T12:29:34.610Z"
   },
   {
    "duration": 6,
    "start_time": "2022-03-20T12:29:34.620Z"
   },
   {
    "duration": 9,
    "start_time": "2022-03-20T12:29:34.627Z"
   },
   {
    "duration": 3,
    "start_time": "2022-03-20T12:29:34.638Z"
   },
   {
    "duration": 197,
    "start_time": "2022-03-20T12:29:34.643Z"
   },
   {
    "duration": 10,
    "start_time": "2022-03-20T12:29:34.842Z"
   },
   {
    "duration": 6,
    "start_time": "2022-03-20T12:29:34.854Z"
   },
   {
    "duration": 9,
    "start_time": "2022-03-20T12:29:34.862Z"
   },
   {
    "duration": 3,
    "start_time": "2022-03-20T12:29:34.873Z"
   },
   {
    "duration": 28,
    "start_time": "2022-03-20T12:29:34.878Z"
   },
   {
    "duration": 20,
    "start_time": "2022-03-20T12:29:34.908Z"
   },
   {
    "duration": 178,
    "start_time": "2022-03-20T12:29:34.929Z"
   },
   {
    "duration": 0,
    "start_time": "2022-03-20T12:29:35.109Z"
   },
   {
    "duration": 0,
    "start_time": "2022-03-20T12:29:35.111Z"
   },
   {
    "duration": 0,
    "start_time": "2022-03-20T12:29:35.112Z"
   },
   {
    "duration": 0,
    "start_time": "2022-03-20T12:29:35.113Z"
   },
   {
    "duration": 0,
    "start_time": "2022-03-20T12:29:35.114Z"
   },
   {
    "duration": 0,
    "start_time": "2022-03-20T12:29:35.116Z"
   },
   {
    "duration": 0,
    "start_time": "2022-03-20T12:29:35.117Z"
   },
   {
    "duration": 0,
    "start_time": "2022-03-20T12:29:35.118Z"
   },
   {
    "duration": 0,
    "start_time": "2022-03-20T12:29:35.121Z"
   },
   {
    "duration": 0,
    "start_time": "2022-03-20T12:29:35.122Z"
   },
   {
    "duration": 0,
    "start_time": "2022-03-20T12:29:35.123Z"
   },
   {
    "duration": 0,
    "start_time": "2022-03-20T12:29:35.124Z"
   },
   {
    "duration": 0,
    "start_time": "2022-03-20T12:29:35.125Z"
   },
   {
    "duration": 0,
    "start_time": "2022-03-20T12:29:35.126Z"
   },
   {
    "duration": 1,
    "start_time": "2022-03-20T12:29:35.127Z"
   },
   {
    "duration": 0,
    "start_time": "2022-03-20T12:29:35.128Z"
   },
   {
    "duration": 0,
    "start_time": "2022-03-20T12:29:35.130Z"
   },
   {
    "duration": 0,
    "start_time": "2022-03-20T12:29:35.131Z"
   },
   {
    "duration": 0,
    "start_time": "2022-03-20T12:29:35.131Z"
   },
   {
    "duration": 0,
    "start_time": "2022-03-20T12:29:35.133Z"
   },
   {
    "duration": 0,
    "start_time": "2022-03-20T12:29:35.134Z"
   },
   {
    "duration": 0,
    "start_time": "2022-03-20T12:29:35.135Z"
   },
   {
    "duration": 0,
    "start_time": "2022-03-20T12:29:35.136Z"
   },
   {
    "duration": 0,
    "start_time": "2022-03-20T12:29:35.137Z"
   },
   {
    "duration": 0,
    "start_time": "2022-03-20T12:29:35.138Z"
   },
   {
    "duration": 0,
    "start_time": "2022-03-20T12:29:35.138Z"
   },
   {
    "duration": 0,
    "start_time": "2022-03-20T12:29:35.139Z"
   },
   {
    "duration": 0,
    "start_time": "2022-03-20T12:29:35.140Z"
   },
   {
    "duration": 0,
    "start_time": "2022-03-20T12:29:35.141Z"
   },
   {
    "duration": 0,
    "start_time": "2022-03-20T12:29:35.142Z"
   },
   {
    "duration": 0,
    "start_time": "2022-03-20T12:29:35.143Z"
   },
   {
    "duration": 0,
    "start_time": "2022-03-20T12:29:35.144Z"
   },
   {
    "duration": 0,
    "start_time": "2022-03-20T12:29:35.145Z"
   },
   {
    "duration": 153,
    "start_time": "2022-03-20T12:29:42.978Z"
   },
   {
    "duration": 18,
    "start_time": "2022-03-20T12:29:45.382Z"
   },
   {
    "duration": 19,
    "start_time": "2022-03-20T12:30:02.112Z"
   },
   {
    "duration": 19,
    "start_time": "2022-03-20T12:30:14.792Z"
   },
   {
    "duration": 9,
    "start_time": "2022-03-20T12:33:27.106Z"
   },
   {
    "duration": 11,
    "start_time": "2022-03-20T12:34:05.095Z"
   },
   {
    "duration": 16,
    "start_time": "2022-03-20T12:34:29.400Z"
   },
   {
    "duration": 132,
    "start_time": "2022-03-20T12:36:33.978Z"
   },
   {
    "duration": 17,
    "start_time": "2022-03-20T12:36:34.615Z"
   },
   {
    "duration": 17,
    "start_time": "2022-03-20T12:36:51.647Z"
   },
   {
    "duration": 18,
    "start_time": "2022-03-20T12:37:06.157Z"
   },
   {
    "duration": 85,
    "start_time": "2022-03-20T12:38:21.614Z"
   },
   {
    "duration": 146,
    "start_time": "2022-03-20T12:38:36.405Z"
   },
   {
    "duration": 17,
    "start_time": "2022-03-20T12:38:37.375Z"
   },
   {
    "duration": 154,
    "start_time": "2022-03-20T12:38:53.487Z"
   },
   {
    "duration": 20,
    "start_time": "2022-03-20T12:38:53.885Z"
   },
   {
    "duration": 17,
    "start_time": "2022-03-20T12:38:54.586Z"
   },
   {
    "duration": 16,
    "start_time": "2022-03-20T12:39:06.726Z"
   },
   {
    "duration": 17,
    "start_time": "2022-03-20T12:40:05.565Z"
   },
   {
    "duration": 12,
    "start_time": "2022-03-20T12:40:15.534Z"
   },
   {
    "duration": 8,
    "start_time": "2022-03-20T12:40:27.015Z"
   },
   {
    "duration": 8,
    "start_time": "2022-03-20T12:40:30.314Z"
   },
   {
    "duration": 9,
    "start_time": "2022-03-20T12:40:56.034Z"
   },
   {
    "duration": 8,
    "start_time": "2022-03-20T12:41:09.815Z"
   },
   {
    "duration": 11,
    "start_time": "2022-03-20T12:41:13.015Z"
   },
   {
    "duration": 8,
    "start_time": "2022-03-20T12:41:18.294Z"
   },
   {
    "duration": 10,
    "start_time": "2022-03-20T12:41:24.284Z"
   },
   {
    "duration": 9,
    "start_time": "2022-03-20T12:44:49.140Z"
   },
   {
    "duration": 7,
    "start_time": "2022-03-20T12:45:02.101Z"
   },
   {
    "duration": 10,
    "start_time": "2022-03-20T12:45:10.780Z"
   },
   {
    "duration": 70,
    "start_time": "2022-03-20T12:46:48.910Z"
   },
   {
    "duration": 9,
    "start_time": "2022-03-20T12:49:12.134Z"
   },
   {
    "duration": 18,
    "start_time": "2022-03-20T12:49:42.188Z"
   },
   {
    "duration": 22,
    "start_time": "2022-03-20T12:49:44.335Z"
   },
   {
    "duration": 7,
    "start_time": "2022-03-20T12:49:57.006Z"
   },
   {
    "duration": 43,
    "start_time": "2022-03-20T12:50:20.016Z"
   },
   {
    "duration": 37,
    "start_time": "2022-03-20T12:50:27.385Z"
   },
   {
    "duration": 8,
    "start_time": "2022-03-20T12:51:34.225Z"
   },
   {
    "duration": 58,
    "start_time": "2022-03-20T12:51:50.965Z"
   },
   {
    "duration": 21,
    "start_time": "2022-03-20T12:54:17.368Z"
   },
   {
    "duration": 7,
    "start_time": "2022-03-20T12:54:20.391Z"
   },
   {
    "duration": 8,
    "start_time": "2022-03-20T12:54:29.791Z"
   },
   {
    "duration": 24,
    "start_time": "2022-03-20T12:54:50.851Z"
   },
   {
    "duration": 8,
    "start_time": "2022-03-20T12:54:51.842Z"
   },
   {
    "duration": 8,
    "start_time": "2022-03-20T12:54:58.541Z"
   },
   {
    "duration": 10,
    "start_time": "2022-03-20T12:55:04.591Z"
   },
   {
    "duration": 4,
    "start_time": "2022-03-20T12:55:12.863Z"
   },
   {
    "duration": 294,
    "start_time": "2022-03-20T12:55:12.870Z"
   },
   {
    "duration": 35,
    "start_time": "2022-03-20T12:55:13.166Z"
   },
   {
    "duration": 29,
    "start_time": "2022-03-20T12:55:13.204Z"
   },
   {
    "duration": 76,
    "start_time": "2022-03-20T12:55:13.235Z"
   },
   {
    "duration": 19,
    "start_time": "2022-03-20T12:55:13.313Z"
   },
   {
    "duration": 19,
    "start_time": "2022-03-20T12:55:13.334Z"
   },
   {
    "duration": 364,
    "start_time": "2022-03-20T12:55:13.355Z"
   },
   {
    "duration": 17,
    "start_time": "2022-03-20T12:55:13.721Z"
   },
   {
    "duration": 4,
    "start_time": "2022-03-20T12:55:13.741Z"
   },
   {
    "duration": 14,
    "start_time": "2022-03-20T12:55:13.747Z"
   },
   {
    "duration": 10,
    "start_time": "2022-03-20T12:55:13.763Z"
   },
   {
    "duration": 32,
    "start_time": "2022-03-20T12:55:13.774Z"
   },
   {
    "duration": 11,
    "start_time": "2022-03-20T12:55:13.807Z"
   },
   {
    "duration": 5,
    "start_time": "2022-03-20T12:55:13.820Z"
   },
   {
    "duration": 176,
    "start_time": "2022-03-20T12:55:13.827Z"
   },
   {
    "duration": 9,
    "start_time": "2022-03-20T12:55:14.004Z"
   },
   {
    "duration": 6,
    "start_time": "2022-03-20T12:55:14.015Z"
   },
   {
    "duration": 6,
    "start_time": "2022-03-20T12:55:14.022Z"
   },
   {
    "duration": 5,
    "start_time": "2022-03-20T12:55:14.030Z"
   },
   {
    "duration": 7,
    "start_time": "2022-03-20T12:55:14.037Z"
   },
   {
    "duration": 57,
    "start_time": "2022-03-20T12:55:14.046Z"
   },
   {
    "duration": 164,
    "start_time": "2022-03-20T12:55:14.105Z"
   },
   {
    "duration": 18,
    "start_time": "2022-03-20T12:55:14.270Z"
   },
   {
    "duration": 28,
    "start_time": "2022-03-20T12:55:14.290Z"
   },
   {
    "duration": 19,
    "start_time": "2022-03-20T12:55:14.319Z"
   },
   {
    "duration": 9,
    "start_time": "2022-03-20T12:55:14.340Z"
   },
   {
    "duration": 8,
    "start_time": "2022-03-20T12:55:14.353Z"
   },
   {
    "duration": 39,
    "start_time": "2022-03-20T12:55:14.363Z"
   },
   {
    "duration": 11,
    "start_time": "2022-03-20T12:55:14.404Z"
   },
   {
    "duration": 21,
    "start_time": "2022-03-20T12:55:14.416Z"
   },
   {
    "duration": 9,
    "start_time": "2022-03-20T12:55:14.438Z"
   },
   {
    "duration": 22,
    "start_time": "2022-03-20T12:55:14.449Z"
   },
   {
    "duration": 33,
    "start_time": "2022-03-20T12:55:14.473Z"
   },
   {
    "duration": 19,
    "start_time": "2022-03-20T12:55:14.508Z"
   },
   {
    "duration": 4,
    "start_time": "2022-03-20T12:55:14.528Z"
   },
   {
    "duration": 6,
    "start_time": "2022-03-20T12:55:14.533Z"
   },
   {
    "duration": 10,
    "start_time": "2022-03-20T12:55:14.540Z"
   },
   {
    "duration": 17,
    "start_time": "2022-03-20T12:55:14.551Z"
   },
   {
    "duration": 31,
    "start_time": "2022-03-20T12:55:14.570Z"
   },
   {
    "duration": 14,
    "start_time": "2022-03-20T12:55:14.603Z"
   },
   {
    "duration": 492,
    "start_time": "2022-03-20T12:55:14.618Z"
   },
   {
    "duration": 562,
    "start_time": "2022-03-20T12:55:15.112Z"
   },
   {
    "duration": 2,
    "start_time": "2022-03-20T12:55:15.676Z"
   },
   {
    "duration": 8,
    "start_time": "2022-03-20T12:55:15.680Z"
   },
   {
    "duration": 24,
    "start_time": "2022-03-20T12:55:15.690Z"
   },
   {
    "duration": 5,
    "start_time": "2022-03-20T12:55:15.716Z"
   },
   {
    "duration": 4,
    "start_time": "2022-03-20T12:55:15.723Z"
   },
   {
    "duration": 4,
    "start_time": "2022-03-20T12:55:15.728Z"
   },
   {
    "duration": 15,
    "start_time": "2022-03-20T12:55:15.734Z"
   },
   {
    "duration": 8,
    "start_time": "2022-03-20T12:55:15.751Z"
   },
   {
    "duration": 146,
    "start_time": "2022-03-20T12:55:15.761Z"
   },
   {
    "duration": 8,
    "start_time": "2022-03-20T12:55:15.909Z"
   },
   {
    "duration": 4,
    "start_time": "2022-03-20T12:55:15.918Z"
   },
   {
    "duration": 8,
    "start_time": "2022-03-20T12:55:15.923Z"
   },
   {
    "duration": 6,
    "start_time": "2022-03-20T12:55:15.932Z"
   },
   {
    "duration": 11,
    "start_time": "2022-03-20T12:55:15.940Z"
   },
   {
    "duration": 14,
    "start_time": "2022-03-20T12:55:15.953Z"
   },
   {
    "duration": 2,
    "start_time": "2022-03-20T12:55:15.969Z"
   },
   {
    "duration": 4161,
    "start_time": "2022-03-20T12:55:15.972Z"
   },
   {
    "duration": 4,
    "start_time": "2022-03-20T12:56:19.347Z"
   },
   {
    "duration": 279,
    "start_time": "2022-03-20T12:56:19.354Z"
   },
   {
    "duration": 17,
    "start_time": "2022-03-20T12:56:19.635Z"
   },
   {
    "duration": 19,
    "start_time": "2022-03-20T12:56:19.654Z"
   },
   {
    "duration": 77,
    "start_time": "2022-03-20T12:56:19.676Z"
   },
   {
    "duration": 20,
    "start_time": "2022-03-20T12:56:19.755Z"
   },
   {
    "duration": 26,
    "start_time": "2022-03-20T12:56:19.776Z"
   },
   {
    "duration": 345,
    "start_time": "2022-03-20T12:56:19.803Z"
   },
   {
    "duration": 17,
    "start_time": "2022-03-20T12:56:20.150Z"
   },
   {
    "duration": 4,
    "start_time": "2022-03-20T12:56:20.168Z"
   },
   {
    "duration": 28,
    "start_time": "2022-03-20T12:56:20.173Z"
   },
   {
    "duration": 10,
    "start_time": "2022-03-20T12:56:20.203Z"
   },
   {
    "duration": 7,
    "start_time": "2022-03-20T12:56:20.214Z"
   },
   {
    "duration": 9,
    "start_time": "2022-03-20T12:56:20.224Z"
   },
   {
    "duration": 4,
    "start_time": "2022-03-20T12:56:20.235Z"
   },
   {
    "duration": 180,
    "start_time": "2022-03-20T12:56:20.240Z"
   },
   {
    "duration": 9,
    "start_time": "2022-03-20T12:56:20.421Z"
   },
   {
    "duration": 7,
    "start_time": "2022-03-20T12:56:20.431Z"
   },
   {
    "duration": 7,
    "start_time": "2022-03-20T12:56:20.439Z"
   },
   {
    "duration": 2,
    "start_time": "2022-03-20T12:56:20.447Z"
   },
   {
    "duration": 10,
    "start_time": "2022-03-20T12:56:20.451Z"
   },
   {
    "duration": 42,
    "start_time": "2022-03-20T12:56:20.463Z"
   },
   {
    "duration": 163,
    "start_time": "2022-03-20T12:56:20.507Z"
   },
   {
    "duration": 16,
    "start_time": "2022-03-20T12:56:20.672Z"
   },
   {
    "duration": 17,
    "start_time": "2022-03-20T12:56:20.701Z"
   },
   {
    "duration": 17,
    "start_time": "2022-03-20T12:56:20.720Z"
   },
   {
    "duration": 10,
    "start_time": "2022-03-20T12:56:20.738Z"
   },
   {
    "duration": 6,
    "start_time": "2022-03-20T12:56:20.750Z"
   },
   {
    "duration": 16,
    "start_time": "2022-03-20T12:56:20.758Z"
   },
   {
    "duration": 30,
    "start_time": "2022-03-20T12:56:20.775Z"
   },
   {
    "duration": 21,
    "start_time": "2022-03-20T12:56:20.808Z"
   },
   {
    "duration": 8,
    "start_time": "2022-03-20T12:56:20.831Z"
   },
   {
    "duration": 20,
    "start_time": "2022-03-20T12:56:20.841Z"
   },
   {
    "duration": 7,
    "start_time": "2022-03-20T12:56:20.863Z"
   },
   {
    "duration": 19,
    "start_time": "2022-03-20T12:56:20.900Z"
   },
   {
    "duration": 6,
    "start_time": "2022-03-20T12:56:20.921Z"
   },
   {
    "duration": 8,
    "start_time": "2022-03-20T12:56:20.928Z"
   },
   {
    "duration": 8,
    "start_time": "2022-03-20T12:56:20.937Z"
   },
   {
    "duration": 16,
    "start_time": "2022-03-20T12:56:20.946Z"
   },
   {
    "duration": 6,
    "start_time": "2022-03-20T12:56:20.964Z"
   },
   {
    "duration": 28,
    "start_time": "2022-03-20T12:56:20.973Z"
   },
   {
    "duration": 465,
    "start_time": "2022-03-20T12:56:21.003Z"
   },
   {
    "duration": 477,
    "start_time": "2022-03-20T12:56:21.469Z"
   },
   {
    "duration": 3,
    "start_time": "2022-03-20T12:56:21.948Z"
   },
   {
    "duration": 6,
    "start_time": "2022-03-20T12:56:21.953Z"
   },
   {
    "duration": 16,
    "start_time": "2022-03-20T12:56:21.961Z"
   },
   {
    "duration": 23,
    "start_time": "2022-03-20T12:56:21.978Z"
   },
   {
    "duration": 5,
    "start_time": "2022-03-20T12:56:22.003Z"
   },
   {
    "duration": 5,
    "start_time": "2022-03-20T12:56:22.009Z"
   },
   {
    "duration": 13,
    "start_time": "2022-03-20T12:56:22.016Z"
   },
   {
    "duration": 4,
    "start_time": "2022-03-20T12:56:22.031Z"
   },
   {
    "duration": 151,
    "start_time": "2022-03-20T12:56:22.037Z"
   },
   {
    "duration": 17,
    "start_time": "2022-03-20T12:56:22.190Z"
   },
   {
    "duration": 4,
    "start_time": "2022-03-20T12:56:22.208Z"
   },
   {
    "duration": 4,
    "start_time": "2022-03-20T12:56:22.213Z"
   },
   {
    "duration": 6,
    "start_time": "2022-03-20T12:56:22.219Z"
   },
   {
    "duration": 5,
    "start_time": "2022-03-20T12:56:22.226Z"
   },
   {
    "duration": 13,
    "start_time": "2022-03-20T12:56:22.233Z"
   },
   {
    "duration": 3,
    "start_time": "2022-03-20T12:56:22.247Z"
   },
   {
    "duration": 4293,
    "start_time": "2022-03-20T12:56:22.252Z"
   },
   {
    "duration": 8,
    "start_time": "2022-03-20T12:58:15.549Z"
   },
   {
    "duration": 11,
    "start_time": "2022-03-20T12:58:48.189Z"
   },
   {
    "duration": 9,
    "start_time": "2022-03-20T12:58:48.738Z"
   },
   {
    "duration": 8,
    "start_time": "2022-03-20T12:58:58.189Z"
   },
   {
    "duration": 4,
    "start_time": "2022-03-20T12:59:01.203Z"
   },
   {
    "duration": 303,
    "start_time": "2022-03-20T12:59:01.209Z"
   },
   {
    "duration": 19,
    "start_time": "2022-03-20T12:59:01.513Z"
   },
   {
    "duration": 15,
    "start_time": "2022-03-20T12:59:01.534Z"
   },
   {
    "duration": 78,
    "start_time": "2022-03-20T12:59:01.551Z"
   },
   {
    "duration": 18,
    "start_time": "2022-03-20T12:59:01.631Z"
   },
   {
    "duration": 14,
    "start_time": "2022-03-20T12:59:01.650Z"
   },
   {
    "duration": 361,
    "start_time": "2022-03-20T12:59:01.665Z"
   },
   {
    "duration": 17,
    "start_time": "2022-03-20T12:59:02.027Z"
   },
   {
    "duration": 3,
    "start_time": "2022-03-20T12:59:02.047Z"
   },
   {
    "duration": 12,
    "start_time": "2022-03-20T12:59:02.052Z"
   },
   {
    "duration": 10,
    "start_time": "2022-03-20T12:59:02.065Z"
   },
   {
    "duration": 27,
    "start_time": "2022-03-20T12:59:02.076Z"
   },
   {
    "duration": 12,
    "start_time": "2022-03-20T12:59:02.104Z"
   },
   {
    "duration": 3,
    "start_time": "2022-03-20T12:59:02.118Z"
   },
   {
    "duration": 182,
    "start_time": "2022-03-20T12:59:02.123Z"
   },
   {
    "duration": 8,
    "start_time": "2022-03-20T12:59:02.307Z"
   },
   {
    "duration": 7,
    "start_time": "2022-03-20T12:59:02.317Z"
   },
   {
    "duration": 6,
    "start_time": "2022-03-20T12:59:02.326Z"
   },
   {
    "duration": 2,
    "start_time": "2022-03-20T12:59:02.334Z"
   },
   {
    "duration": 8,
    "start_time": "2022-03-20T12:59:02.338Z"
   },
   {
    "duration": 57,
    "start_time": "2022-03-20T12:59:02.348Z"
   },
   {
    "duration": 157,
    "start_time": "2022-03-20T12:59:02.406Z"
   },
   {
    "duration": 18,
    "start_time": "2022-03-20T12:59:02.564Z"
   },
   {
    "duration": 30,
    "start_time": "2022-03-20T12:59:02.584Z"
   },
   {
    "duration": 16,
    "start_time": "2022-03-20T12:59:02.616Z"
   },
   {
    "duration": 9,
    "start_time": "2022-03-20T12:59:02.634Z"
   },
   {
    "duration": 7,
    "start_time": "2022-03-20T12:59:02.646Z"
   },
   {
    "duration": 12,
    "start_time": "2022-03-20T12:59:02.654Z"
   },
   {
    "duration": 36,
    "start_time": "2022-03-20T12:59:02.667Z"
   },
   {
    "duration": 19,
    "start_time": "2022-03-20T12:59:02.705Z"
   },
   {
    "duration": 12,
    "start_time": "2022-03-20T12:59:02.726Z"
   },
   {
    "duration": 7,
    "start_time": "2022-03-20T12:59:02.739Z"
   },
   {
    "duration": 16,
    "start_time": "2022-03-20T12:59:02.748Z"
   },
   {
    "duration": 4,
    "start_time": "2022-03-20T12:59:02.766Z"
   },
   {
    "duration": 34,
    "start_time": "2022-03-20T12:59:02.771Z"
   },
   {
    "duration": 5,
    "start_time": "2022-03-20T12:59:02.807Z"
   },
   {
    "duration": 16,
    "start_time": "2022-03-20T12:59:02.814Z"
   },
   {
    "duration": 6,
    "start_time": "2022-03-20T12:59:02.832Z"
   },
   {
    "duration": 18,
    "start_time": "2022-03-20T12:59:02.841Z"
   },
   {
    "duration": 584,
    "start_time": "2022-03-20T12:59:02.861Z"
   },
   {
    "duration": 487,
    "start_time": "2022-03-20T12:59:03.446Z"
   },
   {
    "duration": 3,
    "start_time": "2022-03-20T12:59:03.935Z"
   },
   {
    "duration": 15,
    "start_time": "2022-03-20T12:59:03.939Z"
   },
   {
    "duration": 16,
    "start_time": "2022-03-20T12:59:03.956Z"
   },
   {
    "duration": 6,
    "start_time": "2022-03-20T12:59:03.973Z"
   },
   {
    "duration": 22,
    "start_time": "2022-03-20T12:59:03.980Z"
   },
   {
    "duration": 6,
    "start_time": "2022-03-20T12:59:04.004Z"
   },
   {
    "duration": 15,
    "start_time": "2022-03-20T12:59:04.012Z"
   },
   {
    "duration": 6,
    "start_time": "2022-03-20T12:59:04.029Z"
   },
   {
    "duration": 154,
    "start_time": "2022-03-20T12:59:04.037Z"
   },
   {
    "duration": 10,
    "start_time": "2022-03-20T12:59:04.200Z"
   },
   {
    "duration": 3,
    "start_time": "2022-03-20T12:59:04.212Z"
   },
   {
    "duration": 6,
    "start_time": "2022-03-20T12:59:04.217Z"
   },
   {
    "duration": 6,
    "start_time": "2022-03-20T12:59:04.225Z"
   },
   {
    "duration": 5,
    "start_time": "2022-03-20T12:59:04.233Z"
   },
   {
    "duration": 17,
    "start_time": "2022-03-20T12:59:04.239Z"
   },
   {
    "duration": 2,
    "start_time": "2022-03-20T12:59:04.258Z"
   },
   {
    "duration": 3780,
    "start_time": "2022-03-20T12:59:04.262Z"
   },
   {
    "duration": 7,
    "start_time": "2022-03-20T12:59:51.168Z"
   },
   {
    "duration": 10,
    "start_time": "2022-03-20T13:00:02.787Z"
   },
   {
    "duration": 126,
    "start_time": "2022-03-20T13:02:05.925Z"
   },
   {
    "duration": 17,
    "start_time": "2022-03-20T13:02:07.083Z"
   },
   {
    "duration": 164,
    "start_time": "2022-03-20T13:02:23.565Z"
   },
   {
    "duration": 127,
    "start_time": "2022-03-20T13:02:39.814Z"
   },
   {
    "duration": 185,
    "start_time": "2022-03-20T13:03:01.935Z"
   },
   {
    "duration": 18,
    "start_time": "2022-03-20T13:03:04.045Z"
   },
   {
    "duration": 19,
    "start_time": "2022-03-20T13:09:59.959Z"
   },
   {
    "duration": 138,
    "start_time": "2022-03-20T13:10:02.318Z"
   },
   {
    "duration": 18,
    "start_time": "2022-03-20T13:10:02.728Z"
   },
   {
    "duration": 23,
    "start_time": "2022-03-20T13:10:13.719Z"
   },
   {
    "duration": 19,
    "start_time": "2022-03-20T13:11:19.268Z"
   },
   {
    "duration": 15,
    "start_time": "2022-03-20T13:11:49.207Z"
   },
   {
    "duration": 7,
    "start_time": "2022-03-20T13:11:54.463Z"
   },
   {
    "duration": 290,
    "start_time": "2022-03-20T13:11:54.473Z"
   },
   {
    "duration": 18,
    "start_time": "2022-03-20T13:11:54.765Z"
   },
   {
    "duration": 17,
    "start_time": "2022-03-20T13:11:54.800Z"
   },
   {
    "duration": 75,
    "start_time": "2022-03-20T13:11:54.819Z"
   },
   {
    "duration": 23,
    "start_time": "2022-03-20T13:11:54.896Z"
   },
   {
    "duration": 16,
    "start_time": "2022-03-20T13:11:54.921Z"
   },
   {
    "duration": 362,
    "start_time": "2022-03-20T13:11:54.939Z"
   },
   {
    "duration": 16,
    "start_time": "2022-03-20T13:11:55.303Z"
   },
   {
    "duration": 160,
    "start_time": "2022-03-20T13:11:55.322Z"
   },
   {
    "duration": 20,
    "start_time": "2022-03-20T13:11:55.484Z"
   },
   {
    "duration": 18,
    "start_time": "2022-03-20T13:11:55.506Z"
   },
   {
    "duration": 16,
    "start_time": "2022-03-20T13:11:55.526Z"
   },
   {
    "duration": 4,
    "start_time": "2022-03-20T13:11:55.544Z"
   },
   {
    "duration": 9,
    "start_time": "2022-03-20T13:11:55.550Z"
   },
   {
    "duration": 12,
    "start_time": "2022-03-20T13:11:55.561Z"
   },
   {
    "duration": 6,
    "start_time": "2022-03-20T13:11:55.602Z"
   },
   {
    "duration": 9,
    "start_time": "2022-03-20T13:11:55.610Z"
   },
   {
    "duration": 5,
    "start_time": "2022-03-20T13:11:55.620Z"
   },
   {
    "duration": 170,
    "start_time": "2022-03-20T13:11:55.626Z"
   },
   {
    "duration": 9,
    "start_time": "2022-03-20T13:11:55.801Z"
   },
   {
    "duration": 9,
    "start_time": "2022-03-20T13:11:55.812Z"
   },
   {
    "duration": 6,
    "start_time": "2022-03-20T13:11:55.823Z"
   },
   {
    "duration": 6,
    "start_time": "2022-03-20T13:11:55.830Z"
   },
   {
    "duration": 8,
    "start_time": "2022-03-20T13:11:55.837Z"
   },
   {
    "duration": 20,
    "start_time": "2022-03-20T13:11:55.847Z"
   },
   {
    "duration": 194,
    "start_time": "2022-03-20T13:11:55.868Z"
   },
   {
    "duration": 19,
    "start_time": "2022-03-20T13:11:56.067Z"
   },
   {
    "duration": 30,
    "start_time": "2022-03-20T13:11:56.088Z"
   },
   {
    "duration": 18,
    "start_time": "2022-03-20T13:11:56.120Z"
   },
   {
    "duration": 10,
    "start_time": "2022-03-20T13:11:56.140Z"
   },
   {
    "duration": 7,
    "start_time": "2022-03-20T13:11:56.152Z"
   },
   {
    "duration": 47,
    "start_time": "2022-03-20T13:11:56.161Z"
   },
   {
    "duration": 10,
    "start_time": "2022-03-20T13:11:56.209Z"
   },
   {
    "duration": 24,
    "start_time": "2022-03-20T13:11:56.221Z"
   },
   {
    "duration": 12,
    "start_time": "2022-03-20T13:11:56.247Z"
   },
   {
    "duration": 41,
    "start_time": "2022-03-20T13:11:56.261Z"
   },
   {
    "duration": 7,
    "start_time": "2022-03-20T13:11:56.304Z"
   },
   {
    "duration": 9,
    "start_time": "2022-03-20T13:11:56.313Z"
   },
   {
    "duration": 18,
    "start_time": "2022-03-20T13:11:56.324Z"
   },
   {
    "duration": 3,
    "start_time": "2022-03-20T13:11:56.344Z"
   },
   {
    "duration": 8,
    "start_time": "2022-03-20T13:11:56.349Z"
   },
   {
    "duration": 9,
    "start_time": "2022-03-20T13:11:56.358Z"
   },
   {
    "duration": 41,
    "start_time": "2022-03-20T13:11:56.369Z"
   },
   {
    "duration": 4,
    "start_time": "2022-03-20T13:11:56.412Z"
   },
   {
    "duration": 16,
    "start_time": "2022-03-20T13:11:56.418Z"
   },
   {
    "duration": 909,
    "start_time": "2022-03-20T13:11:56.436Z"
   },
   {
    "duration": 575,
    "start_time": "2022-03-20T13:11:57.347Z"
   },
   {
    "duration": 3,
    "start_time": "2022-03-20T13:11:57.923Z"
   },
   {
    "duration": 10,
    "start_time": "2022-03-20T13:11:57.927Z"
   },
   {
    "duration": 16,
    "start_time": "2022-03-20T13:11:57.938Z"
   },
   {
    "duration": 4,
    "start_time": "2022-03-20T13:11:57.956Z"
   },
   {
    "duration": 4,
    "start_time": "2022-03-20T13:11:57.962Z"
   },
   {
    "duration": 7,
    "start_time": "2022-03-20T13:11:57.968Z"
   },
   {
    "duration": 36,
    "start_time": "2022-03-20T13:11:57.976Z"
   },
   {
    "duration": 5,
    "start_time": "2022-03-20T13:11:58.014Z"
   },
   {
    "duration": 141,
    "start_time": "2022-03-20T13:11:58.020Z"
   },
   {
    "duration": 10,
    "start_time": "2022-03-20T13:11:58.163Z"
   },
   {
    "duration": 6,
    "start_time": "2022-03-20T13:11:58.175Z"
   },
   {
    "duration": 31,
    "start_time": "2022-03-20T13:11:58.183Z"
   },
   {
    "duration": 19,
    "start_time": "2022-03-20T13:11:58.216Z"
   },
   {
    "duration": 24,
    "start_time": "2022-03-20T13:11:58.237Z"
   },
   {
    "duration": 24,
    "start_time": "2022-03-20T13:11:58.263Z"
   },
   {
    "duration": 8,
    "start_time": "2022-03-20T13:11:58.289Z"
   },
   {
    "duration": 4441,
    "start_time": "2022-03-20T13:11:58.298Z"
   },
   {
    "duration": 101,
    "start_time": "2022-03-20T15:18:11.765Z"
   },
   {
    "duration": 75,
    "start_time": "2022-03-20T15:19:17.822Z"
   },
   {
    "duration": 91,
    "start_time": "2022-03-20T15:19:22.258Z"
   },
   {
    "duration": 24,
    "start_time": "2022-03-20T15:19:27.690Z"
   },
   {
    "duration": 3,
    "start_time": "2022-03-20T15:19:34.803Z"
   },
   {
    "duration": 3971,
    "start_time": "2022-03-20T15:19:34.808Z"
   },
   {
    "duration": 17,
    "start_time": "2022-03-20T15:19:38.781Z"
   },
   {
    "duration": 17,
    "start_time": "2022-03-20T15:19:38.800Z"
   },
   {
    "duration": 1473,
    "start_time": "2022-03-20T15:19:38.818Z"
   },
   {
    "duration": 21,
    "start_time": "2022-03-20T15:19:40.293Z"
   },
   {
    "duration": 13,
    "start_time": "2022-03-20T15:19:40.316Z"
   },
   {
    "duration": 4880,
    "start_time": "2022-03-20T15:19:40.331Z"
   },
   {
    "duration": 17,
    "start_time": "2022-03-20T15:19:45.213Z"
   },
   {
    "duration": 168,
    "start_time": "2022-03-20T15:19:45.233Z"
   },
   {
    "duration": 18,
    "start_time": "2022-03-20T15:19:45.403Z"
   },
   {
    "duration": 19,
    "start_time": "2022-03-20T15:19:45.422Z"
   },
   {
    "duration": 18,
    "start_time": "2022-03-20T15:19:45.443Z"
   },
   {
    "duration": 5,
    "start_time": "2022-03-20T15:19:45.463Z"
   },
   {
    "duration": 37,
    "start_time": "2022-03-20T15:19:45.469Z"
   },
   {
    "duration": 11,
    "start_time": "2022-03-20T15:19:45.508Z"
   },
   {
    "duration": 5,
    "start_time": "2022-03-20T15:19:45.521Z"
   },
   {
    "duration": 8,
    "start_time": "2022-03-20T15:19:45.527Z"
   },
   {
    "duration": 3,
    "start_time": "2022-03-20T15:19:45.536Z"
   },
   {
    "duration": 185,
    "start_time": "2022-03-20T15:19:45.540Z"
   },
   {
    "duration": 9,
    "start_time": "2022-03-20T15:19:45.726Z"
   },
   {
    "duration": 5,
    "start_time": "2022-03-20T15:19:45.737Z"
   },
   {
    "duration": 7,
    "start_time": "2022-03-20T15:19:45.743Z"
   },
   {
    "duration": 3,
    "start_time": "2022-03-20T15:19:45.752Z"
   },
   {
    "duration": 8,
    "start_time": "2022-03-20T15:19:45.756Z"
   },
   {
    "duration": 44,
    "start_time": "2022-03-20T15:19:45.766Z"
   },
   {
    "duration": 226,
    "start_time": "2022-03-20T15:19:45.811Z"
   },
   {
    "duration": 26,
    "start_time": "2022-03-20T15:19:46.043Z"
   },
   {
    "duration": 30,
    "start_time": "2022-03-20T15:19:46.071Z"
   },
   {
    "duration": 16,
    "start_time": "2022-03-20T15:19:46.103Z"
   },
   {
    "duration": 9,
    "start_time": "2022-03-20T15:19:46.121Z"
   },
   {
    "duration": 6,
    "start_time": "2022-03-20T15:19:46.132Z"
   },
   {
    "duration": 14,
    "start_time": "2022-03-20T15:19:46.139Z"
   },
   {
    "duration": 10,
    "start_time": "2022-03-20T15:19:46.154Z"
   },
   {
    "duration": 60,
    "start_time": "2022-03-20T15:19:46.166Z"
   },
   {
    "duration": 12,
    "start_time": "2022-03-20T15:19:46.228Z"
   },
   {
    "duration": 8,
    "start_time": "2022-03-20T15:19:46.242Z"
   },
   {
    "duration": 6,
    "start_time": "2022-03-20T15:19:46.252Z"
   },
   {
    "duration": 42,
    "start_time": "2022-03-20T15:19:46.260Z"
   },
   {
    "duration": 29,
    "start_time": "2022-03-20T15:19:46.304Z"
   },
   {
    "duration": 4,
    "start_time": "2022-03-20T15:19:46.334Z"
   },
   {
    "duration": 7,
    "start_time": "2022-03-20T15:19:46.340Z"
   },
   {
    "duration": 9,
    "start_time": "2022-03-20T15:19:46.349Z"
   },
   {
    "duration": 17,
    "start_time": "2022-03-20T15:19:46.359Z"
   },
   {
    "duration": 23,
    "start_time": "2022-03-20T15:19:46.378Z"
   },
   {
    "duration": 14,
    "start_time": "2022-03-20T15:19:46.402Z"
   },
   {
    "duration": 739,
    "start_time": "2022-03-20T15:19:46.418Z"
   },
   {
    "duration": 576,
    "start_time": "2022-03-20T15:19:47.159Z"
   },
   {
    "duration": 3,
    "start_time": "2022-03-20T15:19:47.737Z"
   },
   {
    "duration": 5,
    "start_time": "2022-03-20T15:19:47.742Z"
   },
   {
    "duration": 15,
    "start_time": "2022-03-20T15:19:47.748Z"
   },
   {
    "duration": 4,
    "start_time": "2022-03-20T15:19:47.765Z"
   },
   {
    "duration": 32,
    "start_time": "2022-03-20T15:19:47.770Z"
   },
   {
    "duration": 4,
    "start_time": "2022-03-20T15:19:47.804Z"
   },
   {
    "duration": 24,
    "start_time": "2022-03-20T15:19:47.809Z"
   },
   {
    "duration": 8,
    "start_time": "2022-03-20T15:19:47.835Z"
   },
   {
    "duration": 134,
    "start_time": "2022-03-20T15:19:47.844Z"
   },
   {
    "duration": 8,
    "start_time": "2022-03-20T15:19:47.979Z"
   },
   {
    "duration": 12,
    "start_time": "2022-03-20T15:19:47.989Z"
   },
   {
    "duration": 3,
    "start_time": "2022-03-20T15:19:48.002Z"
   },
   {
    "duration": 7,
    "start_time": "2022-03-20T15:19:48.006Z"
   },
   {
    "duration": 5,
    "start_time": "2022-03-20T15:19:48.014Z"
   },
   {
    "duration": 17,
    "start_time": "2022-03-20T15:19:48.020Z"
   },
   {
    "duration": 2,
    "start_time": "2022-03-20T15:19:48.039Z"
   },
   {
    "duration": 4503,
    "start_time": "2022-03-20T15:19:48.043Z"
   },
   {
    "duration": 164,
    "start_time": "2022-03-20T15:21:14.938Z"
   },
   {
    "duration": 4,
    "start_time": "2022-03-20T15:21:22.587Z"
   },
   {
    "duration": 4,
    "start_time": "2022-03-20T15:21:24.978Z"
   },
   {
    "duration": 314,
    "start_time": "2022-03-20T15:21:24.983Z"
   },
   {
    "duration": 19,
    "start_time": "2022-03-20T15:21:25.298Z"
   },
   {
    "duration": 17,
    "start_time": "2022-03-20T15:21:25.320Z"
   },
   {
    "duration": 91,
    "start_time": "2022-03-20T15:21:25.339Z"
   },
   {
    "duration": 18,
    "start_time": "2022-03-20T15:21:25.432Z"
   },
   {
    "duration": 13,
    "start_time": "2022-03-20T15:21:25.451Z"
   },
   {
    "duration": 371,
    "start_time": "2022-03-20T15:21:25.466Z"
   },
   {
    "duration": 17,
    "start_time": "2022-03-20T15:21:25.839Z"
   },
   {
    "duration": 173,
    "start_time": "2022-03-20T15:21:25.858Z"
   },
   {
    "duration": 17,
    "start_time": "2022-03-20T15:21:26.033Z"
   },
   {
    "duration": 19,
    "start_time": "2022-03-20T15:21:26.052Z"
   },
   {
    "duration": 37,
    "start_time": "2022-03-20T15:21:26.073Z"
   },
   {
    "duration": 5,
    "start_time": "2022-03-20T15:21:26.112Z"
   },
   {
    "duration": 10,
    "start_time": "2022-03-20T15:21:26.118Z"
   },
   {
    "duration": 10,
    "start_time": "2022-03-20T15:21:26.129Z"
   },
   {
    "duration": 6,
    "start_time": "2022-03-20T15:21:26.140Z"
   },
   {
    "duration": 9,
    "start_time": "2022-03-20T15:21:26.147Z"
   },
   {
    "duration": 5,
    "start_time": "2022-03-20T15:21:26.157Z"
   },
   {
    "duration": 191,
    "start_time": "2022-03-20T15:21:26.164Z"
   },
   {
    "duration": 8,
    "start_time": "2022-03-20T15:21:26.357Z"
   },
   {
    "duration": 7,
    "start_time": "2022-03-20T15:21:26.367Z"
   },
   {
    "duration": 9,
    "start_time": "2022-03-20T15:21:26.375Z"
   },
   {
    "duration": 2,
    "start_time": "2022-03-20T15:21:26.401Z"
   },
   {
    "duration": 7,
    "start_time": "2022-03-20T15:21:26.405Z"
   },
   {
    "duration": 19,
    "start_time": "2022-03-20T15:21:26.413Z"
   },
   {
    "duration": 168,
    "start_time": "2022-03-20T15:21:26.433Z"
   },
   {
    "duration": 16,
    "start_time": "2022-03-20T15:21:26.605Z"
   },
   {
    "duration": 19,
    "start_time": "2022-03-20T15:21:26.622Z"
   },
   {
    "duration": 16,
    "start_time": "2022-03-20T15:21:26.642Z"
   },
   {
    "duration": 10,
    "start_time": "2022-03-20T15:21:26.660Z"
   },
   {
    "duration": 35,
    "start_time": "2022-03-20T15:21:26.671Z"
   },
   {
    "duration": 9,
    "start_time": "2022-03-20T15:21:26.708Z"
   },
   {
    "duration": 8,
    "start_time": "2022-03-20T15:21:26.719Z"
   },
   {
    "duration": 20,
    "start_time": "2022-03-20T15:21:26.729Z"
   },
   {
    "duration": 12,
    "start_time": "2022-03-20T15:21:26.751Z"
   },
   {
    "duration": 42,
    "start_time": "2022-03-20T15:21:26.765Z"
   },
   {
    "duration": 8,
    "start_time": "2022-03-20T15:21:26.808Z"
   },
   {
    "duration": 10,
    "start_time": "2022-03-20T15:21:26.817Z"
   },
   {
    "duration": 19,
    "start_time": "2022-03-20T15:21:26.829Z"
   },
   {
    "duration": 5,
    "start_time": "2022-03-20T15:21:26.850Z"
   },
   {
    "duration": 10,
    "start_time": "2022-03-20T15:21:26.857Z"
   },
   {
    "duration": 34,
    "start_time": "2022-03-20T15:21:26.869Z"
   },
   {
    "duration": 14,
    "start_time": "2022-03-20T15:21:26.905Z"
   },
   {
    "duration": 5,
    "start_time": "2022-03-20T15:21:26.921Z"
   },
   {
    "duration": 17,
    "start_time": "2022-03-20T15:21:26.928Z"
   },
   {
    "duration": 508,
    "start_time": "2022-03-20T15:21:26.947Z"
   },
   {
    "duration": 596,
    "start_time": "2022-03-20T15:21:27.457Z"
   },
   {
    "duration": 3,
    "start_time": "2022-03-20T15:21:28.055Z"
   },
   {
    "duration": 7,
    "start_time": "2022-03-20T15:21:28.060Z"
   },
   {
    "duration": 33,
    "start_time": "2022-03-20T15:21:28.069Z"
   },
   {
    "duration": 5,
    "start_time": "2022-03-20T15:21:28.104Z"
   },
   {
    "duration": 6,
    "start_time": "2022-03-20T15:21:28.110Z"
   },
   {
    "duration": 5,
    "start_time": "2022-03-20T15:21:28.117Z"
   },
   {
    "duration": 13,
    "start_time": "2022-03-20T15:21:28.123Z"
   },
   {
    "duration": 8,
    "start_time": "2022-03-20T15:21:28.137Z"
   },
   {
    "duration": 154,
    "start_time": "2022-03-20T15:21:28.147Z"
   },
   {
    "duration": 9,
    "start_time": "2022-03-20T15:21:28.303Z"
   },
   {
    "duration": 3,
    "start_time": "2022-03-20T15:21:28.314Z"
   },
   {
    "duration": 6,
    "start_time": "2022-03-20T15:21:28.318Z"
   },
   {
    "duration": 7,
    "start_time": "2022-03-20T15:21:28.326Z"
   },
   {
    "duration": 6,
    "start_time": "2022-03-20T15:21:28.334Z"
   },
   {
    "duration": 18,
    "start_time": "2022-03-20T15:21:28.341Z"
   },
   {
    "duration": 3,
    "start_time": "2022-03-20T15:21:28.360Z"
   },
   {
    "duration": 4280,
    "start_time": "2022-03-20T15:21:28.365Z"
   },
   {
    "duration": 9,
    "start_time": "2022-03-20T15:22:53.757Z"
   },
   {
    "duration": 10,
    "start_time": "2022-03-20T15:23:09.976Z"
   },
   {
    "duration": 6,
    "start_time": "2022-03-20T15:23:16.685Z"
   },
   {
    "duration": 5,
    "start_time": "2022-03-20T15:23:27.596Z"
   },
   {
    "duration": 34,
    "start_time": "2022-03-20T15:24:01.495Z"
   },
   {
    "duration": 16,
    "start_time": "2022-03-20T15:24:08.405Z"
   },
   {
    "duration": 12,
    "start_time": "2022-03-20T15:24:35.814Z"
   },
   {
    "duration": 172,
    "start_time": "2022-03-20T15:27:18.949Z"
   },
   {
    "duration": 4169,
    "start_time": "2022-03-20T15:27:28.997Z"
   },
   {
    "duration": 3995,
    "start_time": "2022-03-20T15:28:02.640Z"
   },
   {
    "duration": 2188,
    "start_time": "2022-03-20T15:28:43.251Z"
   },
   {
    "duration": 2128,
    "start_time": "2022-03-20T15:29:37.592Z"
   },
   {
    "duration": 4068,
    "start_time": "2022-03-20T15:29:53.593Z"
   },
   {
    "duration": 4154,
    "start_time": "2022-03-20T15:30:20.770Z"
   },
   {
    "duration": 3912,
    "start_time": "2022-03-20T15:32:30.419Z"
   },
   {
    "duration": 5,
    "start_time": "2022-03-20T15:33:45.617Z"
   },
   {
    "duration": 4,
    "start_time": "2022-03-20T15:33:46.097Z"
   },
   {
    "duration": 43,
    "start_time": "2022-03-20T15:33:46.586Z"
   },
   {
    "duration": 5,
    "start_time": "2022-03-20T15:34:01.347Z"
   },
   {
    "duration": 3,
    "start_time": "2022-03-20T15:34:01.637Z"
   },
   {
    "duration": 16,
    "start_time": "2022-03-20T15:34:02.097Z"
   },
   {
    "duration": 2,
    "start_time": "2022-03-20T15:34:03.218Z"
   },
   {
    "duration": 3914,
    "start_time": "2022-03-20T15:34:03.557Z"
   },
   {
    "duration": 9,
    "start_time": "2022-03-20T15:39:08.604Z"
   },
   {
    "duration": 10,
    "start_time": "2022-03-20T15:45:03.419Z"
   },
   {
    "duration": 10,
    "start_time": "2022-03-20T15:46:24.316Z"
   },
   {
    "duration": 9,
    "start_time": "2022-03-20T15:46:29.112Z"
   },
   {
    "duration": 10,
    "start_time": "2022-03-20T15:46:32.305Z"
   },
   {
    "duration": 3811,
    "start_time": "2022-03-20T15:48:32.865Z"
   },
   {
    "duration": 4,
    "start_time": "2022-03-20T15:49:23.907Z"
   },
   {
    "duration": 299,
    "start_time": "2022-03-20T15:49:23.913Z"
   },
   {
    "duration": 31,
    "start_time": "2022-03-20T15:49:24.214Z"
   },
   {
    "duration": 23,
    "start_time": "2022-03-20T15:49:24.247Z"
   },
   {
    "duration": 80,
    "start_time": "2022-03-20T15:49:24.272Z"
   },
   {
    "duration": 18,
    "start_time": "2022-03-20T15:49:24.354Z"
   },
   {
    "duration": 17,
    "start_time": "2022-03-20T15:49:24.373Z"
   },
   {
    "duration": 363,
    "start_time": "2022-03-20T15:49:24.392Z"
   },
   {
    "duration": 16,
    "start_time": "2022-03-20T15:49:24.757Z"
   },
   {
    "duration": 168,
    "start_time": "2022-03-20T15:49:24.774Z"
   },
   {
    "duration": 16,
    "start_time": "2022-03-20T15:49:24.944Z"
   },
   {
    "duration": 24,
    "start_time": "2022-03-20T15:49:24.962Z"
   },
   {
    "duration": 27,
    "start_time": "2022-03-20T15:49:24.987Z"
   },
   {
    "duration": 3,
    "start_time": "2022-03-20T15:49:25.017Z"
   },
   {
    "duration": 30,
    "start_time": "2022-03-20T15:49:25.022Z"
   },
   {
    "duration": 14,
    "start_time": "2022-03-20T15:49:25.054Z"
   },
   {
    "duration": 26,
    "start_time": "2022-03-20T15:49:25.070Z"
   },
   {
    "duration": 23,
    "start_time": "2022-03-20T15:49:25.098Z"
   },
   {
    "duration": 16,
    "start_time": "2022-03-20T15:49:25.123Z"
   },
   {
    "duration": 185,
    "start_time": "2022-03-20T15:49:25.140Z"
   },
   {
    "duration": 9,
    "start_time": "2022-03-20T15:49:25.326Z"
   },
   {
    "duration": 13,
    "start_time": "2022-03-20T15:49:25.337Z"
   },
   {
    "duration": 15,
    "start_time": "2022-03-20T15:49:25.351Z"
   },
   {
    "duration": 8,
    "start_time": "2022-03-20T15:49:25.367Z"
   },
   {
    "duration": 23,
    "start_time": "2022-03-20T15:49:25.377Z"
   },
   {
    "duration": 27,
    "start_time": "2022-03-20T15:49:25.402Z"
   },
   {
    "duration": 168,
    "start_time": "2022-03-20T15:49:25.431Z"
   },
   {
    "duration": 16,
    "start_time": "2022-03-20T15:49:25.600Z"
   },
   {
    "duration": 24,
    "start_time": "2022-03-20T15:49:25.618Z"
   },
   {
    "duration": 29,
    "start_time": "2022-03-20T15:49:25.643Z"
   },
   {
    "duration": 8,
    "start_time": "2022-03-20T15:49:25.674Z"
   },
   {
    "duration": 17,
    "start_time": "2022-03-20T15:49:25.684Z"
   },
   {
    "duration": 18,
    "start_time": "2022-03-20T15:49:25.702Z"
   },
   {
    "duration": 12,
    "start_time": "2022-03-20T15:49:25.721Z"
   },
   {
    "duration": 44,
    "start_time": "2022-03-20T15:49:25.734Z"
   },
   {
    "duration": 14,
    "start_time": "2022-03-20T15:49:25.779Z"
   },
   {
    "duration": 13,
    "start_time": "2022-03-20T15:49:25.795Z"
   },
   {
    "duration": 22,
    "start_time": "2022-03-20T15:49:25.809Z"
   },
   {
    "duration": 20,
    "start_time": "2022-03-20T15:49:25.833Z"
   },
   {
    "duration": 28,
    "start_time": "2022-03-20T15:49:25.855Z"
   },
   {
    "duration": 10,
    "start_time": "2022-03-20T15:49:25.887Z"
   },
   {
    "duration": 13,
    "start_time": "2022-03-20T15:49:25.899Z"
   },
   {
    "duration": 14,
    "start_time": "2022-03-20T15:49:25.914Z"
   },
   {
    "duration": 29,
    "start_time": "2022-03-20T15:49:25.930Z"
   },
   {
    "duration": 25,
    "start_time": "2022-03-20T15:49:25.960Z"
   },
   {
    "duration": 42,
    "start_time": "2022-03-20T15:49:25.986Z"
   },
   {
    "duration": 471,
    "start_time": "2022-03-20T15:49:26.030Z"
   },
   {
    "duration": 470,
    "start_time": "2022-03-20T15:49:26.503Z"
   },
   {
    "duration": 4,
    "start_time": "2022-03-20T15:49:26.975Z"
   },
   {
    "duration": 34,
    "start_time": "2022-03-20T15:49:26.980Z"
   },
   {
    "duration": 27,
    "start_time": "2022-03-20T15:49:27.016Z"
   },
   {
    "duration": 23,
    "start_time": "2022-03-20T15:49:27.045Z"
   },
   {
    "duration": 13,
    "start_time": "2022-03-20T15:49:27.069Z"
   },
   {
    "duration": 19,
    "start_time": "2022-03-20T15:49:27.084Z"
   },
   {
    "duration": 37,
    "start_time": "2022-03-20T15:49:27.105Z"
   },
   {
    "duration": 23,
    "start_time": "2022-03-20T15:49:27.144Z"
   },
   {
    "duration": 160,
    "start_time": "2022-03-20T15:49:27.168Z"
   },
   {
    "duration": 9,
    "start_time": "2022-03-20T15:49:27.329Z"
   },
   {
    "duration": 16,
    "start_time": "2022-03-20T15:49:27.340Z"
   },
   {
    "duration": 32,
    "start_time": "2022-03-20T15:49:27.358Z"
   },
   {
    "duration": 12,
    "start_time": "2022-03-20T15:49:27.391Z"
   },
   {
    "duration": 10,
    "start_time": "2022-03-20T15:49:27.405Z"
   },
   {
    "duration": 20,
    "start_time": "2022-03-20T15:49:27.417Z"
   },
   {
    "duration": 3,
    "start_time": "2022-03-20T15:49:27.439Z"
   },
   {
    "duration": 4008,
    "start_time": "2022-03-20T15:49:27.443Z"
   },
   {
    "duration": 2609,
    "start_time": "2022-03-20T15:50:00.593Z"
   },
   {
    "duration": 4,
    "start_time": "2022-03-20T15:51:03.346Z"
   },
   {
    "duration": 313,
    "start_time": "2022-03-20T15:51:03.352Z"
   },
   {
    "duration": 19,
    "start_time": "2022-03-20T15:51:03.666Z"
   },
   {
    "duration": 134,
    "start_time": "2022-03-20T15:51:03.687Z"
   },
   {
    "duration": 75,
    "start_time": "2022-03-20T15:51:03.823Z"
   },
   {
    "duration": 19,
    "start_time": "2022-03-20T15:51:03.900Z"
   },
   {
    "duration": 13,
    "start_time": "2022-03-20T15:51:03.920Z"
   },
   {
    "duration": 360,
    "start_time": "2022-03-20T15:51:03.934Z"
   },
   {
    "duration": 20,
    "start_time": "2022-03-20T15:51:04.296Z"
   },
   {
    "duration": 169,
    "start_time": "2022-03-20T15:51:04.318Z"
   },
   {
    "duration": 20,
    "start_time": "2022-03-20T15:51:04.489Z"
   },
   {
    "duration": 18,
    "start_time": "2022-03-20T15:51:04.511Z"
   },
   {
    "duration": 16,
    "start_time": "2022-03-20T15:51:04.531Z"
   },
   {
    "duration": 5,
    "start_time": "2022-03-20T15:51:04.549Z"
   },
   {
    "duration": 10,
    "start_time": "2022-03-20T15:51:04.556Z"
   },
   {
    "duration": 34,
    "start_time": "2022-03-20T15:51:04.568Z"
   },
   {
    "duration": 5,
    "start_time": "2022-03-20T15:51:04.604Z"
   },
   {
    "duration": 9,
    "start_time": "2022-03-20T15:51:04.611Z"
   },
   {
    "duration": 3,
    "start_time": "2022-03-20T15:51:04.621Z"
   },
   {
    "duration": 186,
    "start_time": "2022-03-20T15:51:04.626Z"
   },
   {
    "duration": 8,
    "start_time": "2022-03-20T15:51:04.814Z"
   },
   {
    "duration": 5,
    "start_time": "2022-03-20T15:51:04.824Z"
   },
   {
    "duration": 7,
    "start_time": "2022-03-20T15:51:04.831Z"
   },
   {
    "duration": 2,
    "start_time": "2022-03-20T15:51:04.840Z"
   },
   {
    "duration": 7,
    "start_time": "2022-03-20T15:51:04.844Z"
   },
   {
    "duration": 49,
    "start_time": "2022-03-20T15:51:04.853Z"
   },
   {
    "duration": 169,
    "start_time": "2022-03-20T15:51:04.904Z"
   },
   {
    "duration": 24,
    "start_time": "2022-03-20T15:51:05.077Z"
   },
   {
    "duration": 19,
    "start_time": "2022-03-20T15:51:05.102Z"
   },
   {
    "duration": 18,
    "start_time": "2022-03-20T15:51:05.122Z"
   },
   {
    "duration": 10,
    "start_time": "2022-03-20T15:51:05.141Z"
   },
   {
    "duration": 6,
    "start_time": "2022-03-20T15:51:05.152Z"
   },
   {
    "duration": 42,
    "start_time": "2022-03-20T15:51:05.160Z"
   },
   {
    "duration": 11,
    "start_time": "2022-03-20T15:51:05.203Z"
   },
   {
    "duration": 22,
    "start_time": "2022-03-20T15:51:05.216Z"
   },
   {
    "duration": 14,
    "start_time": "2022-03-20T15:51:05.240Z"
   },
   {
    "duration": 10,
    "start_time": "2022-03-20T15:51:05.255Z"
   },
   {
    "duration": 41,
    "start_time": "2022-03-20T15:51:05.267Z"
   },
   {
    "duration": 11,
    "start_time": "2022-03-20T15:51:05.310Z"
   },
   {
    "duration": 20,
    "start_time": "2022-03-20T15:51:05.322Z"
   },
   {
    "duration": 4,
    "start_time": "2022-03-20T15:51:05.344Z"
   },
   {
    "duration": 7,
    "start_time": "2022-03-20T15:51:05.349Z"
   },
   {
    "duration": 9,
    "start_time": "2022-03-20T15:51:05.357Z"
   },
   {
    "duration": 43,
    "start_time": "2022-03-20T15:51:05.367Z"
   },
   {
    "duration": 4,
    "start_time": "2022-03-20T15:51:05.411Z"
   },
   {
    "duration": 15,
    "start_time": "2022-03-20T15:51:05.417Z"
   },
   {
    "duration": 469,
    "start_time": "2022-03-20T15:51:05.434Z"
   },
   {
    "duration": 479,
    "start_time": "2022-03-20T15:51:05.905Z"
   },
   {
    "duration": 3,
    "start_time": "2022-03-20T15:51:06.386Z"
   },
   {
    "duration": 13,
    "start_time": "2022-03-20T15:51:06.390Z"
   },
   {
    "duration": 16,
    "start_time": "2022-03-20T15:51:06.405Z"
   },
   {
    "duration": 5,
    "start_time": "2022-03-20T15:51:06.422Z"
   },
   {
    "duration": 5,
    "start_time": "2022-03-20T15:51:06.429Z"
   },
   {
    "duration": 3,
    "start_time": "2022-03-20T15:51:06.436Z"
   },
   {
    "duration": 15,
    "start_time": "2022-03-20T15:51:06.441Z"
   },
   {
    "duration": 6,
    "start_time": "2022-03-20T15:51:06.458Z"
   },
   {
    "duration": 170,
    "start_time": "2022-03-20T15:51:06.465Z"
   },
   {
    "duration": 9,
    "start_time": "2022-03-20T15:51:06.637Z"
   },
   {
    "duration": 3,
    "start_time": "2022-03-20T15:51:06.648Z"
   },
   {
    "duration": 7,
    "start_time": "2022-03-20T15:51:06.653Z"
   },
   {
    "duration": 8,
    "start_time": "2022-03-20T15:51:06.662Z"
   },
   {
    "duration": 6,
    "start_time": "2022-03-20T15:51:06.672Z"
   },
   {
    "duration": 17,
    "start_time": "2022-03-20T15:51:06.700Z"
   },
   {
    "duration": 2,
    "start_time": "2022-03-20T15:51:06.719Z"
   },
   {
    "duration": 2178,
    "start_time": "2022-03-20T15:51:06.723Z"
   },
   {
    "duration": 29385,
    "start_time": "2022-03-20T15:55:05.723Z"
   },
   {
    "duration": 4,
    "start_time": "2022-03-20T15:56:19.944Z"
   },
   {
    "duration": 295,
    "start_time": "2022-03-20T15:56:19.950Z"
   },
   {
    "duration": 18,
    "start_time": "2022-03-20T15:56:20.247Z"
   },
   {
    "duration": 16,
    "start_time": "2022-03-20T15:56:20.267Z"
   },
   {
    "duration": 80,
    "start_time": "2022-03-20T15:56:20.285Z"
   },
   {
    "duration": 21,
    "start_time": "2022-03-20T15:56:20.366Z"
   },
   {
    "duration": 25,
    "start_time": "2022-03-20T15:56:20.388Z"
   },
   {
    "duration": 390,
    "start_time": "2022-03-20T15:56:20.415Z"
   },
   {
    "duration": 18,
    "start_time": "2022-03-20T15:56:20.807Z"
   },
   {
    "duration": 4,
    "start_time": "2022-03-20T15:56:20.827Z"
   },
   {
    "duration": 13,
    "start_time": "2022-03-20T15:56:20.833Z"
   },
   {
    "duration": 16,
    "start_time": "2022-03-20T15:56:20.848Z"
   },
   {
    "duration": 6,
    "start_time": "2022-03-20T15:56:20.866Z"
   },
   {
    "duration": 36,
    "start_time": "2022-03-20T15:56:20.873Z"
   },
   {
    "duration": 4,
    "start_time": "2022-03-20T15:56:20.910Z"
   },
   {
    "duration": 186,
    "start_time": "2022-03-20T15:56:20.915Z"
   },
   {
    "duration": 10,
    "start_time": "2022-03-20T15:56:21.103Z"
   },
   {
    "duration": 6,
    "start_time": "2022-03-20T15:56:21.114Z"
   },
   {
    "duration": 9,
    "start_time": "2022-03-20T15:56:21.122Z"
   },
   {
    "duration": 8,
    "start_time": "2022-03-20T15:56:21.133Z"
   },
   {
    "duration": 11,
    "start_time": "2022-03-20T15:56:21.142Z"
   },
   {
    "duration": 26,
    "start_time": "2022-03-20T15:56:21.155Z"
   },
   {
    "duration": 178,
    "start_time": "2022-03-20T15:56:21.183Z"
   },
   {
    "duration": 17,
    "start_time": "2022-03-20T15:56:21.363Z"
   },
   {
    "duration": 33,
    "start_time": "2022-03-20T15:56:21.382Z"
   },
   {
    "duration": 18,
    "start_time": "2022-03-20T15:56:21.417Z"
   },
   {
    "duration": 9,
    "start_time": "2022-03-20T15:56:21.437Z"
   },
   {
    "duration": 7,
    "start_time": "2022-03-20T15:56:21.449Z"
   },
   {
    "duration": 44,
    "start_time": "2022-03-20T15:56:21.458Z"
   },
   {
    "duration": 14,
    "start_time": "2022-03-20T15:56:21.504Z"
   },
   {
    "duration": 30,
    "start_time": "2022-03-20T15:56:21.520Z"
   },
   {
    "duration": 17,
    "start_time": "2022-03-20T15:56:21.551Z"
   },
   {
    "duration": 35,
    "start_time": "2022-03-20T15:56:21.573Z"
   },
   {
    "duration": 11,
    "start_time": "2022-03-20T15:56:21.612Z"
   },
   {
    "duration": 15,
    "start_time": "2022-03-20T15:56:21.624Z"
   },
   {
    "duration": 19,
    "start_time": "2022-03-20T15:56:21.641Z"
   },
   {
    "duration": 4,
    "start_time": "2022-03-20T15:56:21.662Z"
   },
   {
    "duration": 41,
    "start_time": "2022-03-20T15:56:21.668Z"
   },
   {
    "duration": 8,
    "start_time": "2022-03-20T15:56:21.711Z"
   },
   {
    "duration": 19,
    "start_time": "2022-03-20T15:56:21.721Z"
   },
   {
    "duration": 13,
    "start_time": "2022-03-20T15:56:21.742Z"
   },
   {
    "duration": 26,
    "start_time": "2022-03-20T15:56:21.757Z"
   },
   {
    "duration": 657,
    "start_time": "2022-03-20T15:56:21.784Z"
   },
   {
    "duration": 530,
    "start_time": "2022-03-20T15:56:22.443Z"
   },
   {
    "duration": 2,
    "start_time": "2022-03-20T15:56:22.975Z"
   },
   {
    "duration": 25,
    "start_time": "2022-03-20T15:56:22.979Z"
   },
   {
    "duration": 27,
    "start_time": "2022-03-20T15:56:23.006Z"
   },
   {
    "duration": 13,
    "start_time": "2022-03-20T15:56:23.035Z"
   },
   {
    "duration": 20,
    "start_time": "2022-03-20T15:56:23.050Z"
   },
   {
    "duration": 10,
    "start_time": "2022-03-20T15:56:23.072Z"
   },
   {
    "duration": 18,
    "start_time": "2022-03-20T15:56:23.083Z"
   },
   {
    "duration": 4,
    "start_time": "2022-03-20T15:56:23.103Z"
   },
   {
    "duration": 137,
    "start_time": "2022-03-20T15:56:23.108Z"
   },
   {
    "duration": 10,
    "start_time": "2022-03-20T15:56:23.246Z"
   },
   {
    "duration": 4,
    "start_time": "2022-03-20T15:56:23.257Z"
   },
   {
    "duration": 6,
    "start_time": "2022-03-20T15:56:23.262Z"
   },
   {
    "duration": 6,
    "start_time": "2022-03-20T15:56:23.269Z"
   },
   {
    "duration": 26,
    "start_time": "2022-03-20T15:56:23.277Z"
   },
   {
    "duration": 18,
    "start_time": "2022-03-20T15:56:23.304Z"
   },
   {
    "duration": 3,
    "start_time": "2022-03-20T15:56:23.323Z"
   },
   {
    "duration": 2282,
    "start_time": "2022-03-20T15:56:23.327Z"
   },
   {
    "duration": 29471,
    "start_time": "2022-03-20T15:56:25.703Z"
   },
   {
    "duration": 8,
    "start_time": "2022-03-20T16:01:51.272Z"
   },
   {
    "duration": 4,
    "start_time": "2022-03-20T16:01:56.351Z"
   },
   {
    "duration": 307,
    "start_time": "2022-03-20T16:01:56.357Z"
   },
   {
    "duration": 20,
    "start_time": "2022-03-20T16:01:56.665Z"
   },
   {
    "duration": 20,
    "start_time": "2022-03-20T16:01:56.700Z"
   },
   {
    "duration": 76,
    "start_time": "2022-03-20T16:01:56.722Z"
   },
   {
    "duration": 18,
    "start_time": "2022-03-20T16:01:56.801Z"
   },
   {
    "duration": 15,
    "start_time": "2022-03-20T16:01:56.821Z"
   },
   {
    "duration": 364,
    "start_time": "2022-03-20T16:01:56.838Z"
   },
   {
    "duration": 17,
    "start_time": "2022-03-20T16:01:57.203Z"
   },
   {
    "duration": 3,
    "start_time": "2022-03-20T16:01:57.223Z"
   },
   {
    "duration": 11,
    "start_time": "2022-03-20T16:01:57.228Z"
   },
   {
    "duration": 10,
    "start_time": "2022-03-20T16:01:57.241Z"
   },
   {
    "duration": 5,
    "start_time": "2022-03-20T16:01:57.252Z"
   },
   {
    "duration": 8,
    "start_time": "2022-03-20T16:01:57.259Z"
   },
   {
    "duration": 3,
    "start_time": "2022-03-20T16:01:57.301Z"
   },
   {
    "duration": 176,
    "start_time": "2022-03-20T16:01:57.305Z"
   },
   {
    "duration": 9,
    "start_time": "2022-03-20T16:01:57.483Z"
   },
   {
    "duration": 5,
    "start_time": "2022-03-20T16:01:57.501Z"
   },
   {
    "duration": 7,
    "start_time": "2022-03-20T16:01:57.507Z"
   },
   {
    "duration": 2,
    "start_time": "2022-03-20T16:01:57.516Z"
   },
   {
    "duration": 9,
    "start_time": "2022-03-20T16:01:57.520Z"
   },
   {
    "duration": 22,
    "start_time": "2022-03-20T16:01:57.531Z"
   },
   {
    "duration": 181,
    "start_time": "2022-03-20T16:01:57.554Z"
   },
   {
    "duration": 17,
    "start_time": "2022-03-20T16:01:57.736Z"
   },
   {
    "duration": 17,
    "start_time": "2022-03-20T16:01:57.754Z"
   },
   {
    "duration": 34,
    "start_time": "2022-03-20T16:01:57.773Z"
   },
   {
    "duration": 10,
    "start_time": "2022-03-20T16:01:57.809Z"
   },
   {
    "duration": 7,
    "start_time": "2022-03-20T16:01:57.823Z"
   },
   {
    "duration": 10,
    "start_time": "2022-03-20T16:01:57.832Z"
   },
   {
    "duration": 9,
    "start_time": "2022-03-20T16:01:57.843Z"
   },
   {
    "duration": 54,
    "start_time": "2022-03-20T16:01:57.853Z"
   },
   {
    "duration": 12,
    "start_time": "2022-03-20T16:01:57.908Z"
   },
   {
    "duration": 7,
    "start_time": "2022-03-20T16:01:57.922Z"
   },
   {
    "duration": 6,
    "start_time": "2022-03-20T16:01:57.931Z"
   },
   {
    "duration": 9,
    "start_time": "2022-03-20T16:01:57.939Z"
   },
   {
    "duration": 17,
    "start_time": "2022-03-20T16:01:57.950Z"
   },
   {
    "duration": 4,
    "start_time": "2022-03-20T16:01:58.001Z"
   },
   {
    "duration": 7,
    "start_time": "2022-03-20T16:01:58.006Z"
   },
   {
    "duration": 6,
    "start_time": "2022-03-20T16:01:58.014Z"
   },
   {
    "duration": 16,
    "start_time": "2022-03-20T16:01:58.022Z"
   },
   {
    "duration": 11,
    "start_time": "2022-03-20T16:01:58.039Z"
   },
   {
    "duration": 17,
    "start_time": "2022-03-20T16:01:58.051Z"
   },
   {
    "duration": 455,
    "start_time": "2022-03-20T16:01:58.070Z"
   },
   {
    "duration": 594,
    "start_time": "2022-03-20T16:01:58.527Z"
   },
   {
    "duration": 3,
    "start_time": "2022-03-20T16:01:59.122Z"
   },
   {
    "duration": 20,
    "start_time": "2022-03-20T16:01:59.126Z"
   },
   {
    "duration": 29,
    "start_time": "2022-03-20T16:01:59.147Z"
   },
   {
    "duration": 11,
    "start_time": "2022-03-20T16:01:59.178Z"
   },
   {
    "duration": 15,
    "start_time": "2022-03-20T16:01:59.190Z"
   },
   {
    "duration": 12,
    "start_time": "2022-03-20T16:01:59.207Z"
   },
   {
    "duration": 20,
    "start_time": "2022-03-20T16:01:59.220Z"
   },
   {
    "duration": 26,
    "start_time": "2022-03-20T16:01:59.241Z"
   },
   {
    "duration": 127,
    "start_time": "2022-03-20T16:01:59.269Z"
   },
   {
    "duration": 10,
    "start_time": "2022-03-20T16:01:59.398Z"
   },
   {
    "duration": 8,
    "start_time": "2022-03-20T16:01:59.410Z"
   },
   {
    "duration": 32,
    "start_time": "2022-03-20T16:01:59.419Z"
   },
   {
    "duration": 18,
    "start_time": "2022-03-20T16:01:59.452Z"
   },
   {
    "duration": 27,
    "start_time": "2022-03-20T16:01:59.471Z"
   },
   {
    "duration": 25,
    "start_time": "2022-03-20T16:01:59.499Z"
   },
   {
    "duration": 4,
    "start_time": "2022-03-20T16:01:59.525Z"
   },
   {
    "duration": 2574,
    "start_time": "2022-03-20T16:01:59.530Z"
   },
   {
    "duration": 29558,
    "start_time": "2022-03-20T16:02:02.107Z"
   },
   {
    "duration": 3,
    "start_time": "2022-03-20T16:15:15.753Z"
   },
   {
    "duration": 334,
    "start_time": "2022-03-20T16:15:15.759Z"
   },
   {
    "duration": 25,
    "start_time": "2022-03-20T16:15:16.095Z"
   },
   {
    "duration": 19,
    "start_time": "2022-03-20T16:15:16.121Z"
   },
   {
    "duration": 89,
    "start_time": "2022-03-20T16:15:16.143Z"
   },
   {
    "duration": 20,
    "start_time": "2022-03-20T16:15:16.234Z"
   },
   {
    "duration": 13,
    "start_time": "2022-03-20T16:15:16.255Z"
   },
   {
    "duration": 381,
    "start_time": "2022-03-20T16:15:16.270Z"
   },
   {
    "duration": 16,
    "start_time": "2022-03-20T16:15:16.653Z"
   },
   {
    "duration": 3,
    "start_time": "2022-03-20T16:15:16.671Z"
   },
   {
    "duration": 9,
    "start_time": "2022-03-20T16:15:16.676Z"
   },
   {
    "duration": 10,
    "start_time": "2022-03-20T16:15:16.701Z"
   },
   {
    "duration": 6,
    "start_time": "2022-03-20T16:15:16.712Z"
   },
   {
    "duration": 8,
    "start_time": "2022-03-20T16:15:16.721Z"
   },
   {
    "duration": 3,
    "start_time": "2022-03-20T16:15:16.731Z"
   },
   {
    "duration": 182,
    "start_time": "2022-03-20T16:15:16.735Z"
   },
   {
    "duration": 8,
    "start_time": "2022-03-20T16:15:16.919Z"
   },
   {
    "duration": 6,
    "start_time": "2022-03-20T16:15:16.929Z"
   },
   {
    "duration": 7,
    "start_time": "2022-03-20T16:15:16.936Z"
   },
   {
    "duration": 3,
    "start_time": "2022-03-20T16:15:16.944Z"
   },
   {
    "duration": 8,
    "start_time": "2022-03-20T16:15:16.949Z"
   },
   {
    "duration": 45,
    "start_time": "2022-03-20T16:15:16.958Z"
   },
   {
    "duration": 171,
    "start_time": "2022-03-20T16:15:17.005Z"
   },
   {
    "duration": 17,
    "start_time": "2022-03-20T16:15:17.178Z"
   },
   {
    "duration": 20,
    "start_time": "2022-03-20T16:15:17.197Z"
   },
   {
    "duration": 17,
    "start_time": "2022-03-20T16:15:17.219Z"
   },
   {
    "duration": 11,
    "start_time": "2022-03-20T16:15:17.238Z"
   },
   {
    "duration": 7,
    "start_time": "2022-03-20T16:15:17.250Z"
   },
   {
    "duration": 11,
    "start_time": "2022-03-20T16:15:17.259Z"
   },
   {
    "duration": 10,
    "start_time": "2022-03-20T16:15:17.302Z"
   },
   {
    "duration": 22,
    "start_time": "2022-03-20T16:15:17.314Z"
   },
   {
    "duration": 14,
    "start_time": "2022-03-20T16:15:17.337Z"
   },
   {
    "duration": 7,
    "start_time": "2022-03-20T16:15:17.353Z"
   },
   {
    "duration": 40,
    "start_time": "2022-03-20T16:15:17.362Z"
   },
   {
    "duration": 11,
    "start_time": "2022-03-20T16:15:17.404Z"
   },
   {
    "duration": 20,
    "start_time": "2022-03-20T16:15:17.417Z"
   },
   {
    "duration": 4,
    "start_time": "2022-03-20T16:15:17.438Z"
   },
   {
    "duration": 6,
    "start_time": "2022-03-20T16:15:17.443Z"
   },
   {
    "duration": 9,
    "start_time": "2022-03-20T16:15:17.450Z"
   },
   {
    "duration": 40,
    "start_time": "2022-03-20T16:15:17.461Z"
   },
   {
    "duration": 4,
    "start_time": "2022-03-20T16:15:17.505Z"
   },
   {
    "duration": 13,
    "start_time": "2022-03-20T16:15:17.511Z"
   },
   {
    "duration": 466,
    "start_time": "2022-03-20T16:15:17.526Z"
   },
   {
    "duration": 474,
    "start_time": "2022-03-20T16:15:17.994Z"
   },
   {
    "duration": 3,
    "start_time": "2022-03-20T16:15:18.470Z"
   },
   {
    "duration": 9,
    "start_time": "2022-03-20T16:15:18.474Z"
   },
   {
    "duration": 24,
    "start_time": "2022-03-20T16:15:18.484Z"
   },
   {
    "duration": 5,
    "start_time": "2022-03-20T16:15:18.509Z"
   },
   {
    "duration": 5,
    "start_time": "2022-03-20T16:15:18.516Z"
   },
   {
    "duration": 4,
    "start_time": "2022-03-20T16:15:18.523Z"
   },
   {
    "duration": 16,
    "start_time": "2022-03-20T16:15:18.528Z"
   },
   {
    "duration": 6,
    "start_time": "2022-03-20T16:15:18.546Z"
   },
   {
    "duration": 148,
    "start_time": "2022-03-20T16:15:18.553Z"
   },
   {
    "duration": 9,
    "start_time": "2022-03-20T16:15:18.703Z"
   },
   {
    "duration": 10,
    "start_time": "2022-03-20T16:15:18.713Z"
   },
   {
    "duration": 0,
    "start_time": "2022-03-20T16:15:18.724Z"
   },
   {
    "duration": 0,
    "start_time": "2022-03-20T16:15:18.726Z"
   },
   {
    "duration": 0,
    "start_time": "2022-03-20T16:15:18.728Z"
   },
   {
    "duration": 0,
    "start_time": "2022-03-20T16:15:18.729Z"
   },
   {
    "duration": 0,
    "start_time": "2022-03-20T16:15:18.731Z"
   },
   {
    "duration": 0,
    "start_time": "2022-03-20T16:15:18.733Z"
   },
   {
    "duration": 0,
    "start_time": "2022-03-20T16:15:18.734Z"
   },
   {
    "duration": 0,
    "start_time": "2022-03-20T16:15:18.736Z"
   },
   {
    "duration": 10,
    "start_time": "2022-03-20T16:16:34.106Z"
   },
   {
    "duration": 18,
    "start_time": "2022-03-20T16:17:54.925Z"
   },
   {
    "duration": 4,
    "start_time": "2022-03-20T16:18:00.630Z"
   },
   {
    "duration": 338,
    "start_time": "2022-03-20T16:18:00.637Z"
   },
   {
    "duration": 26,
    "start_time": "2022-03-20T16:18:00.976Z"
   },
   {
    "duration": 161,
    "start_time": "2022-03-20T16:18:01.004Z"
   },
   {
    "duration": 90,
    "start_time": "2022-03-20T16:18:01.166Z"
   },
   {
    "duration": 26,
    "start_time": "2022-03-20T16:18:01.258Z"
   },
   {
    "duration": 23,
    "start_time": "2022-03-20T16:18:01.286Z"
   },
   {
    "duration": 369,
    "start_time": "2022-03-20T16:18:01.311Z"
   },
   {
    "duration": 16,
    "start_time": "2022-03-20T16:18:01.681Z"
   },
   {
    "duration": 16,
    "start_time": "2022-03-20T16:18:01.700Z"
   },
   {
    "duration": 26,
    "start_time": "2022-03-20T16:18:01.718Z"
   },
   {
    "duration": 16,
    "start_time": "2022-03-20T16:18:01.745Z"
   },
   {
    "duration": 10,
    "start_time": "2022-03-20T16:18:01.762Z"
   },
   {
    "duration": 14,
    "start_time": "2022-03-20T16:18:01.773Z"
   },
   {
    "duration": 3,
    "start_time": "2022-03-20T16:18:01.789Z"
   },
   {
    "duration": 172,
    "start_time": "2022-03-20T16:18:01.793Z"
   },
   {
    "duration": 9,
    "start_time": "2022-03-20T16:18:01.967Z"
   },
   {
    "duration": 14,
    "start_time": "2022-03-20T16:18:01.977Z"
   },
   {
    "duration": 27,
    "start_time": "2022-03-20T16:18:01.992Z"
   },
   {
    "duration": 10,
    "start_time": "2022-03-20T16:18:02.021Z"
   },
   {
    "duration": 26,
    "start_time": "2022-03-20T16:18:02.032Z"
   },
   {
    "duration": 25,
    "start_time": "2022-03-20T16:18:02.061Z"
   },
   {
    "duration": 166,
    "start_time": "2022-03-20T16:18:02.087Z"
   },
   {
    "duration": 17,
    "start_time": "2022-03-20T16:18:02.254Z"
   },
   {
    "duration": 29,
    "start_time": "2022-03-20T16:18:02.272Z"
   },
   {
    "duration": 16,
    "start_time": "2022-03-20T16:18:02.303Z"
   },
   {
    "duration": 17,
    "start_time": "2022-03-20T16:18:02.320Z"
   },
   {
    "duration": 7,
    "start_time": "2022-03-20T16:18:02.341Z"
   },
   {
    "duration": 27,
    "start_time": "2022-03-20T16:18:02.349Z"
   },
   {
    "duration": 10,
    "start_time": "2022-03-20T16:18:02.378Z"
   },
   {
    "duration": 31,
    "start_time": "2022-03-20T16:18:02.389Z"
   },
   {
    "duration": 19,
    "start_time": "2022-03-20T16:18:02.421Z"
   },
   {
    "duration": 11,
    "start_time": "2022-03-20T16:18:02.453Z"
   },
   {
    "duration": 23,
    "start_time": "2022-03-20T16:18:02.467Z"
   },
   {
    "duration": 13,
    "start_time": "2022-03-20T16:18:02.492Z"
   },
   {
    "duration": 18,
    "start_time": "2022-03-20T16:18:02.506Z"
   },
   {
    "duration": 8,
    "start_time": "2022-03-20T16:18:02.526Z"
   },
   {
    "duration": 18,
    "start_time": "2022-03-20T16:18:02.536Z"
   },
   {
    "duration": 18,
    "start_time": "2022-03-20T16:18:02.556Z"
   },
   {
    "duration": 23,
    "start_time": "2022-03-20T16:18:02.575Z"
   },
   {
    "duration": 7,
    "start_time": "2022-03-20T16:18:02.599Z"
   },
   {
    "duration": 27,
    "start_time": "2022-03-20T16:18:02.608Z"
   },
   {
    "duration": 467,
    "start_time": "2022-03-20T16:18:02.637Z"
   },
   {
    "duration": 479,
    "start_time": "2022-03-20T16:18:03.105Z"
   },
   {
    "duration": 4,
    "start_time": "2022-03-20T16:18:03.585Z"
   },
   {
    "duration": 12,
    "start_time": "2022-03-20T16:18:03.590Z"
   },
   {
    "duration": 18,
    "start_time": "2022-03-20T16:18:03.604Z"
   },
   {
    "duration": 5,
    "start_time": "2022-03-20T16:18:03.624Z"
   },
   {
    "duration": 5,
    "start_time": "2022-03-20T16:18:03.630Z"
   },
   {
    "duration": 8,
    "start_time": "2022-03-20T16:18:03.636Z"
   },
   {
    "duration": 15,
    "start_time": "2022-03-20T16:18:03.646Z"
   },
   {
    "duration": 6,
    "start_time": "2022-03-20T16:18:03.662Z"
   },
   {
    "duration": 150,
    "start_time": "2022-03-20T16:18:03.669Z"
   },
   {
    "duration": 9,
    "start_time": "2022-03-20T16:18:03.821Z"
   },
   {
    "duration": 14,
    "start_time": "2022-03-20T16:18:03.832Z"
   },
   {
    "duration": 3,
    "start_time": "2022-03-20T16:18:03.848Z"
   },
   {
    "duration": 4,
    "start_time": "2022-03-20T16:18:03.853Z"
   },
   {
    "duration": 11,
    "start_time": "2022-03-20T16:18:03.858Z"
   },
   {
    "duration": 31,
    "start_time": "2022-03-20T16:18:03.870Z"
   },
   {
    "duration": 16,
    "start_time": "2022-03-20T16:18:03.903Z"
   },
   {
    "duration": 3,
    "start_time": "2022-03-20T16:18:03.920Z"
   },
   {
    "duration": 2776,
    "start_time": "2022-03-20T16:18:03.925Z"
   },
   {
    "duration": 28375,
    "start_time": "2022-03-20T16:18:06.703Z"
   },
   {
    "duration": 13,
    "start_time": "2022-03-20T16:19:09.974Z"
   },
   {
    "duration": 4445,
    "start_time": "2022-03-20T16:19:27.527Z"
   },
   {
    "duration": 4,
    "start_time": "2022-03-20T16:27:32.912Z"
   },
   {
    "duration": 290,
    "start_time": "2022-03-20T16:27:32.919Z"
   },
   {
    "duration": 18,
    "start_time": "2022-03-20T16:27:33.210Z"
   },
   {
    "duration": 17,
    "start_time": "2022-03-20T16:27:33.231Z"
   },
   {
    "duration": 78,
    "start_time": "2022-03-20T16:27:33.249Z"
   },
   {
    "duration": 20,
    "start_time": "2022-03-20T16:27:33.328Z"
   },
   {
    "duration": 13,
    "start_time": "2022-03-20T16:27:33.350Z"
   },
   {
    "duration": 380,
    "start_time": "2022-03-20T16:27:33.364Z"
   },
   {
    "duration": 25,
    "start_time": "2022-03-20T16:27:33.746Z"
   },
   {
    "duration": 5,
    "start_time": "2022-03-20T16:27:33.775Z"
   },
   {
    "duration": 29,
    "start_time": "2022-03-20T16:27:33.782Z"
   },
   {
    "duration": 11,
    "start_time": "2022-03-20T16:27:33.813Z"
   },
   {
    "duration": 6,
    "start_time": "2022-03-20T16:27:33.826Z"
   },
   {
    "duration": 9,
    "start_time": "2022-03-20T16:27:33.833Z"
   },
   {
    "duration": 3,
    "start_time": "2022-03-20T16:27:33.844Z"
   },
   {
    "duration": 186,
    "start_time": "2022-03-20T16:27:33.849Z"
   },
   {
    "duration": 9,
    "start_time": "2022-03-20T16:27:34.037Z"
   },
   {
    "duration": 6,
    "start_time": "2022-03-20T16:27:34.048Z"
   },
   {
    "duration": 8,
    "start_time": "2022-03-20T16:27:34.055Z"
   },
   {
    "duration": 4,
    "start_time": "2022-03-20T16:27:34.064Z"
   },
   {
    "duration": 34,
    "start_time": "2022-03-20T16:27:34.070Z"
   },
   {
    "duration": 29,
    "start_time": "2022-03-20T16:27:34.106Z"
   },
   {
    "duration": 172,
    "start_time": "2022-03-20T16:27:34.137Z"
   },
   {
    "duration": 17,
    "start_time": "2022-03-20T16:27:34.310Z"
   },
   {
    "duration": 18,
    "start_time": "2022-03-20T16:27:34.329Z"
   },
   {
    "duration": 17,
    "start_time": "2022-03-20T16:27:34.348Z"
   },
   {
    "duration": 42,
    "start_time": "2022-03-20T16:27:34.367Z"
   },
   {
    "duration": 8,
    "start_time": "2022-03-20T16:27:34.414Z"
   },
   {
    "duration": 11,
    "start_time": "2022-03-20T16:27:34.423Z"
   },
   {
    "duration": 10,
    "start_time": "2022-03-20T16:27:34.435Z"
   },
   {
    "duration": 54,
    "start_time": "2022-03-20T16:27:34.446Z"
   },
   {
    "duration": 12,
    "start_time": "2022-03-20T16:27:34.502Z"
   },
   {
    "duration": 8,
    "start_time": "2022-03-20T16:27:34.516Z"
   },
   {
    "duration": 7,
    "start_time": "2022-03-20T16:27:34.525Z"
   },
   {
    "duration": 11,
    "start_time": "2022-03-20T16:27:34.534Z"
   },
   {
    "duration": 55,
    "start_time": "2022-03-20T16:27:34.546Z"
   },
   {
    "duration": 3,
    "start_time": "2022-03-20T16:27:34.603Z"
   },
   {
    "duration": 4,
    "start_time": "2022-03-20T16:27:34.609Z"
   },
   {
    "duration": 5,
    "start_time": "2022-03-20T16:27:34.615Z"
   },
   {
    "duration": 15,
    "start_time": "2022-03-20T16:27:34.622Z"
   },
   {
    "duration": 5,
    "start_time": "2022-03-20T16:27:34.638Z"
   },
   {
    "duration": 18,
    "start_time": "2022-03-20T16:27:34.645Z"
   },
   {
    "duration": 623,
    "start_time": "2022-03-20T16:27:34.665Z"
   },
   {
    "duration": 498,
    "start_time": "2022-03-20T16:27:35.289Z"
   },
   {
    "duration": 3,
    "start_time": "2022-03-20T16:27:35.788Z"
   },
   {
    "duration": 4,
    "start_time": "2022-03-20T16:27:35.802Z"
   },
   {
    "duration": 18,
    "start_time": "2022-03-20T16:27:35.808Z"
   },
   {
    "duration": 6,
    "start_time": "2022-03-20T16:27:35.828Z"
   },
   {
    "duration": 6,
    "start_time": "2022-03-20T16:27:35.835Z"
   },
   {
    "duration": 5,
    "start_time": "2022-03-20T16:27:35.842Z"
   },
   {
    "duration": 17,
    "start_time": "2022-03-20T16:27:35.849Z"
   },
   {
    "duration": 8,
    "start_time": "2022-03-20T16:27:35.868Z"
   },
   {
    "duration": 151,
    "start_time": "2022-03-20T16:27:35.902Z"
   },
   {
    "duration": 10,
    "start_time": "2022-03-20T16:27:36.055Z"
   },
   {
    "duration": 15,
    "start_time": "2022-03-20T16:27:36.067Z"
   },
   {
    "duration": 21,
    "start_time": "2022-03-20T16:27:36.083Z"
   },
   {
    "duration": 5,
    "start_time": "2022-03-20T16:27:36.106Z"
   },
   {
    "duration": 6,
    "start_time": "2022-03-20T16:27:36.113Z"
   },
   {
    "duration": 8,
    "start_time": "2022-03-20T16:27:36.121Z"
   },
   {
    "duration": 6,
    "start_time": "2022-03-20T16:27:36.130Z"
   },
   {
    "duration": 67,
    "start_time": "2022-03-20T16:27:36.138Z"
   },
   {
    "duration": 0,
    "start_time": "2022-03-20T16:27:36.207Z"
   },
   {
    "duration": 4,
    "start_time": "2022-03-20T16:28:18.189Z"
   },
   {
    "duration": 299,
    "start_time": "2022-03-20T16:28:18.195Z"
   },
   {
    "duration": 23,
    "start_time": "2022-03-20T16:28:18.495Z"
   },
   {
    "duration": 17,
    "start_time": "2022-03-20T16:28:18.520Z"
   },
   {
    "duration": 81,
    "start_time": "2022-03-20T16:28:18.538Z"
   },
   {
    "duration": 16,
    "start_time": "2022-03-20T16:28:18.621Z"
   },
   {
    "duration": 13,
    "start_time": "2022-03-20T16:28:18.639Z"
   },
   {
    "duration": 363,
    "start_time": "2022-03-20T16:28:18.654Z"
   },
   {
    "duration": 16,
    "start_time": "2022-03-20T16:28:19.018Z"
   },
   {
    "duration": 3,
    "start_time": "2022-03-20T16:28:19.037Z"
   },
   {
    "duration": 17,
    "start_time": "2022-03-20T16:28:19.041Z"
   },
   {
    "duration": 14,
    "start_time": "2022-03-20T16:28:19.060Z"
   },
   {
    "duration": 7,
    "start_time": "2022-03-20T16:28:19.076Z"
   },
   {
    "duration": 23,
    "start_time": "2022-03-20T16:28:19.085Z"
   },
   {
    "duration": 3,
    "start_time": "2022-03-20T16:28:19.110Z"
   },
   {
    "duration": 259,
    "start_time": "2022-03-20T16:28:19.115Z"
   },
   {
    "duration": 8,
    "start_time": "2022-03-20T16:28:19.376Z"
   },
   {
    "duration": 7,
    "start_time": "2022-03-20T16:28:19.385Z"
   },
   {
    "duration": 7,
    "start_time": "2022-03-20T16:28:19.401Z"
   },
   {
    "duration": 3,
    "start_time": "2022-03-20T16:28:19.409Z"
   },
   {
    "duration": 7,
    "start_time": "2022-03-20T16:28:19.414Z"
   },
   {
    "duration": 19,
    "start_time": "2022-03-20T16:28:19.422Z"
   },
   {
    "duration": 185,
    "start_time": "2022-03-20T16:28:19.442Z"
   },
   {
    "duration": 17,
    "start_time": "2022-03-20T16:28:19.629Z"
   },
   {
    "duration": 20,
    "start_time": "2022-03-20T16:28:19.647Z"
   },
   {
    "duration": 33,
    "start_time": "2022-03-20T16:28:19.668Z"
   },
   {
    "duration": 9,
    "start_time": "2022-03-20T16:28:19.702Z"
   },
   {
    "duration": 7,
    "start_time": "2022-03-20T16:28:19.714Z"
   },
   {
    "duration": 11,
    "start_time": "2022-03-20T16:28:19.722Z"
   },
   {
    "duration": 9,
    "start_time": "2022-03-20T16:28:19.734Z"
   },
   {
    "duration": 20,
    "start_time": "2022-03-20T16:28:19.745Z"
   },
   {
    "duration": 13,
    "start_time": "2022-03-20T16:28:19.801Z"
   },
   {
    "duration": 9,
    "start_time": "2022-03-20T16:28:19.815Z"
   },
   {
    "duration": 9,
    "start_time": "2022-03-20T16:28:19.825Z"
   },
   {
    "duration": 11,
    "start_time": "2022-03-20T16:28:19.836Z"
   },
   {
    "duration": 18,
    "start_time": "2022-03-20T16:28:19.849Z"
   },
   {
    "duration": 33,
    "start_time": "2022-03-20T16:28:19.869Z"
   },
   {
    "duration": 14,
    "start_time": "2022-03-20T16:28:19.904Z"
   },
   {
    "duration": 13,
    "start_time": "2022-03-20T16:28:19.920Z"
   },
   {
    "duration": 18,
    "start_time": "2022-03-20T16:28:19.935Z"
   },
   {
    "duration": 6,
    "start_time": "2022-03-20T16:28:19.955Z"
   },
   {
    "duration": 16,
    "start_time": "2022-03-20T16:28:19.962Z"
   },
   {
    "duration": 475,
    "start_time": "2022-03-20T16:28:19.979Z"
   },
   {
    "duration": 645,
    "start_time": "2022-03-20T16:28:20.456Z"
   },
   {
    "duration": 3,
    "start_time": "2022-03-20T16:28:21.102Z"
   },
   {
    "duration": 14,
    "start_time": "2022-03-20T16:28:21.107Z"
   },
   {
    "duration": 17,
    "start_time": "2022-03-20T16:28:21.123Z"
   },
   {
    "duration": 14,
    "start_time": "2022-03-20T16:28:21.141Z"
   },
   {
    "duration": 11,
    "start_time": "2022-03-20T16:28:21.156Z"
   },
   {
    "duration": 14,
    "start_time": "2022-03-20T16:28:21.169Z"
   },
   {
    "duration": 22,
    "start_time": "2022-03-20T16:28:21.185Z"
   },
   {
    "duration": 10,
    "start_time": "2022-03-20T16:28:21.208Z"
   },
   {
    "duration": 129,
    "start_time": "2022-03-20T16:28:21.220Z"
   },
   {
    "duration": 9,
    "start_time": "2022-03-20T16:28:21.351Z"
   },
   {
    "duration": 15,
    "start_time": "2022-03-20T16:28:21.362Z"
   },
   {
    "duration": 5,
    "start_time": "2022-03-20T16:28:21.379Z"
   },
   {
    "duration": 4,
    "start_time": "2022-03-20T16:28:21.400Z"
   },
   {
    "duration": 8,
    "start_time": "2022-03-20T16:28:21.405Z"
   },
   {
    "duration": 14,
    "start_time": "2022-03-20T16:28:21.415Z"
   },
   {
    "duration": 9,
    "start_time": "2022-03-20T16:28:21.431Z"
   },
   {
    "duration": 67,
    "start_time": "2022-03-20T16:28:21.441Z"
   },
   {
    "duration": 2684,
    "start_time": "2022-03-20T16:28:21.512Z"
   },
   {
    "duration": 3,
    "start_time": "2022-03-20T16:30:12.155Z"
   },
   {
    "duration": 306,
    "start_time": "2022-03-20T16:30:12.160Z"
   },
   {
    "duration": 19,
    "start_time": "2022-03-20T16:30:12.468Z"
   },
   {
    "duration": 27,
    "start_time": "2022-03-20T16:30:12.489Z"
   },
   {
    "duration": 74,
    "start_time": "2022-03-20T16:30:12.518Z"
   },
   {
    "duration": 21,
    "start_time": "2022-03-20T16:30:12.593Z"
   },
   {
    "duration": 21,
    "start_time": "2022-03-20T16:30:12.615Z"
   },
   {
    "duration": 347,
    "start_time": "2022-03-20T16:30:12.637Z"
   },
   {
    "duration": 20,
    "start_time": "2022-03-20T16:30:12.985Z"
   },
   {
    "duration": 3,
    "start_time": "2022-03-20T16:30:13.007Z"
   },
   {
    "duration": 17,
    "start_time": "2022-03-20T16:30:13.012Z"
   },
   {
    "duration": 29,
    "start_time": "2022-03-20T16:30:13.031Z"
   },
   {
    "duration": 14,
    "start_time": "2022-03-20T16:30:13.062Z"
   },
   {
    "duration": 15,
    "start_time": "2022-03-20T16:30:13.079Z"
   },
   {
    "duration": 10,
    "start_time": "2022-03-20T16:30:13.095Z"
   },
   {
    "duration": 172,
    "start_time": "2022-03-20T16:30:13.106Z"
   },
   {
    "duration": 9,
    "start_time": "2022-03-20T16:30:13.280Z"
   },
   {
    "duration": 12,
    "start_time": "2022-03-20T16:30:13.301Z"
   },
   {
    "duration": 14,
    "start_time": "2022-03-20T16:30:13.315Z"
   },
   {
    "duration": 15,
    "start_time": "2022-03-20T16:30:13.330Z"
   },
   {
    "duration": 24,
    "start_time": "2022-03-20T16:30:13.346Z"
   },
   {
    "duration": 21,
    "start_time": "2022-03-20T16:30:13.372Z"
   },
   {
    "duration": 173,
    "start_time": "2022-03-20T16:30:13.395Z"
   },
   {
    "duration": 18,
    "start_time": "2022-03-20T16:30:13.569Z"
   },
   {
    "duration": 33,
    "start_time": "2022-03-20T16:30:13.588Z"
   },
   {
    "duration": 41,
    "start_time": "2022-03-20T16:30:13.623Z"
   },
   {
    "duration": 22,
    "start_time": "2022-03-20T16:30:13.666Z"
   },
   {
    "duration": 13,
    "start_time": "2022-03-20T16:30:13.690Z"
   },
   {
    "duration": 22,
    "start_time": "2022-03-20T16:30:13.704Z"
   },
   {
    "duration": 10,
    "start_time": "2022-03-20T16:30:13.728Z"
   },
   {
    "duration": 35,
    "start_time": "2022-03-20T16:30:13.740Z"
   },
   {
    "duration": 15,
    "start_time": "2022-03-20T16:30:13.776Z"
   },
   {
    "duration": 18,
    "start_time": "2022-03-20T16:30:13.793Z"
   },
   {
    "duration": 10,
    "start_time": "2022-03-20T16:30:13.812Z"
   },
   {
    "duration": 26,
    "start_time": "2022-03-20T16:30:13.824Z"
   },
   {
    "duration": 20,
    "start_time": "2022-03-20T16:30:13.851Z"
   },
   {
    "duration": 17,
    "start_time": "2022-03-20T16:30:13.873Z"
   },
   {
    "duration": 18,
    "start_time": "2022-03-20T16:30:13.892Z"
   },
   {
    "duration": 13,
    "start_time": "2022-03-20T16:30:13.912Z"
   },
   {
    "duration": 21,
    "start_time": "2022-03-20T16:30:13.927Z"
   },
   {
    "duration": 6,
    "start_time": "2022-03-20T16:30:13.952Z"
   },
   {
    "duration": 34,
    "start_time": "2022-03-20T16:30:13.960Z"
   },
   {
    "duration": 486,
    "start_time": "2022-03-20T16:30:13.995Z"
   },
   {
    "duration": 483,
    "start_time": "2022-03-20T16:30:14.483Z"
   },
   {
    "duration": 3,
    "start_time": "2022-03-20T16:30:14.968Z"
   },
   {
    "duration": 46,
    "start_time": "2022-03-20T16:30:14.973Z"
   },
   {
    "duration": 38,
    "start_time": "2022-03-20T16:30:15.021Z"
   },
   {
    "duration": 14,
    "start_time": "2022-03-20T16:30:15.061Z"
   },
   {
    "duration": 18,
    "start_time": "2022-03-20T16:30:15.076Z"
   },
   {
    "duration": 17,
    "start_time": "2022-03-20T16:30:15.096Z"
   },
   {
    "duration": 24,
    "start_time": "2022-03-20T16:30:15.114Z"
   },
   {
    "duration": 26,
    "start_time": "2022-03-20T16:30:15.139Z"
   },
   {
    "duration": 131,
    "start_time": "2022-03-20T16:30:15.167Z"
   },
   {
    "duration": 9,
    "start_time": "2022-03-20T16:30:15.301Z"
   },
   {
    "duration": 17,
    "start_time": "2022-03-20T16:30:15.311Z"
   },
   {
    "duration": 18,
    "start_time": "2022-03-20T16:30:15.329Z"
   },
   {
    "duration": 7,
    "start_time": "2022-03-20T16:30:15.350Z"
   },
   {
    "duration": 21,
    "start_time": "2022-03-20T16:30:15.359Z"
   },
   {
    "duration": 14,
    "start_time": "2022-03-20T16:30:15.381Z"
   },
   {
    "duration": 31,
    "start_time": "2022-03-20T16:30:15.396Z"
   },
   {
    "duration": 23,
    "start_time": "2022-03-20T16:30:15.429Z"
   },
   {
    "duration": 1502,
    "start_time": "2022-03-20T16:30:15.503Z"
   },
   {
    "duration": 5,
    "start_time": "2022-03-20T16:31:37.931Z"
   },
   {
    "duration": 299,
    "start_time": "2022-03-20T16:31:37.938Z"
   },
   {
    "duration": 20,
    "start_time": "2022-03-20T16:31:38.239Z"
   },
   {
    "duration": 31,
    "start_time": "2022-03-20T16:31:38.262Z"
   },
   {
    "duration": 100,
    "start_time": "2022-03-20T16:31:38.295Z"
   },
   {
    "duration": 23,
    "start_time": "2022-03-20T16:31:38.396Z"
   },
   {
    "duration": 27,
    "start_time": "2022-03-20T16:31:38.420Z"
   },
   {
    "duration": 374,
    "start_time": "2022-03-20T16:31:38.449Z"
   },
   {
    "duration": 16,
    "start_time": "2022-03-20T16:31:38.825Z"
   },
   {
    "duration": 3,
    "start_time": "2022-03-20T16:31:38.844Z"
   },
   {
    "duration": 18,
    "start_time": "2022-03-20T16:31:38.849Z"
   },
   {
    "duration": 15,
    "start_time": "2022-03-20T16:31:38.868Z"
   },
   {
    "duration": 21,
    "start_time": "2022-03-20T16:31:38.885Z"
   },
   {
    "duration": 11,
    "start_time": "2022-03-20T16:31:38.907Z"
   },
   {
    "duration": 10,
    "start_time": "2022-03-20T16:31:38.919Z"
   },
   {
    "duration": 178,
    "start_time": "2022-03-20T16:31:38.931Z"
   },
   {
    "duration": 9,
    "start_time": "2022-03-20T16:31:39.111Z"
   },
   {
    "duration": 16,
    "start_time": "2022-03-20T16:31:39.122Z"
   },
   {
    "duration": 12,
    "start_time": "2022-03-20T16:31:39.140Z"
   },
   {
    "duration": 5,
    "start_time": "2022-03-20T16:31:39.154Z"
   },
   {
    "duration": 25,
    "start_time": "2022-03-20T16:31:39.161Z"
   },
   {
    "duration": 20,
    "start_time": "2022-03-20T16:31:39.188Z"
   },
   {
    "duration": 167,
    "start_time": "2022-03-20T16:31:39.209Z"
   },
   {
    "duration": 18,
    "start_time": "2022-03-20T16:31:39.378Z"
   },
   {
    "duration": 17,
    "start_time": "2022-03-20T16:31:39.401Z"
   },
   {
    "duration": 29,
    "start_time": "2022-03-20T16:31:39.419Z"
   },
   {
    "duration": 10,
    "start_time": "2022-03-20T16:31:39.450Z"
   },
   {
    "duration": 7,
    "start_time": "2022-03-20T16:31:39.464Z"
   },
   {
    "duration": 8,
    "start_time": "2022-03-20T16:31:39.473Z"
   },
   {
    "duration": 9,
    "start_time": "2022-03-20T16:31:39.501Z"
   },
   {
    "duration": 23,
    "start_time": "2022-03-20T16:31:39.512Z"
   },
   {
    "duration": 13,
    "start_time": "2022-03-20T16:31:39.537Z"
   },
   {
    "duration": 9,
    "start_time": "2022-03-20T16:31:39.552Z"
   },
   {
    "duration": 40,
    "start_time": "2022-03-20T16:31:39.562Z"
   },
   {
    "duration": 10,
    "start_time": "2022-03-20T16:31:39.603Z"
   },
   {
    "duration": 20,
    "start_time": "2022-03-20T16:31:39.615Z"
   },
   {
    "duration": 3,
    "start_time": "2022-03-20T16:31:39.637Z"
   },
   {
    "duration": 12,
    "start_time": "2022-03-20T16:31:39.641Z"
   },
   {
    "duration": 10,
    "start_time": "2022-03-20T16:31:39.655Z"
   },
   {
    "duration": 36,
    "start_time": "2022-03-20T16:31:39.666Z"
   },
   {
    "duration": 5,
    "start_time": "2022-03-20T16:31:39.704Z"
   },
   {
    "duration": 13,
    "start_time": "2022-03-20T16:31:39.711Z"
   },
   {
    "duration": 654,
    "start_time": "2022-03-20T16:31:39.725Z"
   },
   {
    "duration": 497,
    "start_time": "2022-03-20T16:31:40.380Z"
   },
   {
    "duration": 3,
    "start_time": "2022-03-20T16:31:40.878Z"
   },
   {
    "duration": 18,
    "start_time": "2022-03-20T16:31:40.883Z"
   },
   {
    "duration": 16,
    "start_time": "2022-03-20T16:31:40.902Z"
   },
   {
    "duration": 6,
    "start_time": "2022-03-20T16:31:40.919Z"
   },
   {
    "duration": 5,
    "start_time": "2022-03-20T16:31:40.926Z"
   },
   {
    "duration": 5,
    "start_time": "2022-03-20T16:31:40.932Z"
   },
   {
    "duration": 14,
    "start_time": "2022-03-20T16:31:40.939Z"
   },
   {
    "duration": 4,
    "start_time": "2022-03-20T16:31:40.955Z"
   },
   {
    "duration": 165,
    "start_time": "2022-03-20T16:31:40.960Z"
   },
   {
    "duration": 9,
    "start_time": "2022-03-20T16:31:41.127Z"
   },
   {
    "duration": 14,
    "start_time": "2022-03-20T16:31:41.138Z"
   },
   {
    "duration": 4,
    "start_time": "2022-03-20T16:31:41.154Z"
   },
   {
    "duration": 5,
    "start_time": "2022-03-20T16:31:41.160Z"
   },
   {
    "duration": 7,
    "start_time": "2022-03-20T16:31:41.166Z"
   },
   {
    "duration": 36,
    "start_time": "2022-03-20T16:31:41.175Z"
   },
   {
    "duration": 0,
    "start_time": "2022-03-20T16:31:41.212Z"
   },
   {
    "duration": 0,
    "start_time": "2022-03-20T16:31:41.214Z"
   },
   {
    "duration": 0,
    "start_time": "2022-03-20T16:31:41.215Z"
   },
   {
    "duration": 5,
    "start_time": "2022-03-20T16:31:58.678Z"
   },
   {
    "duration": 312,
    "start_time": "2022-03-20T16:31:58.685Z"
   },
   {
    "duration": 25,
    "start_time": "2022-03-20T16:31:59.002Z"
   },
   {
    "duration": 17,
    "start_time": "2022-03-20T16:31:59.029Z"
   },
   {
    "duration": 93,
    "start_time": "2022-03-20T16:31:59.048Z"
   },
   {
    "duration": 22,
    "start_time": "2022-03-20T16:31:59.144Z"
   },
   {
    "duration": 16,
    "start_time": "2022-03-20T16:31:59.168Z"
   },
   {
    "duration": 464,
    "start_time": "2022-03-20T16:31:59.186Z"
   },
   {
    "duration": 26,
    "start_time": "2022-03-20T16:31:59.652Z"
   },
   {
    "duration": 6,
    "start_time": "2022-03-20T16:31:59.680Z"
   },
   {
    "duration": 11,
    "start_time": "2022-03-20T16:31:59.702Z"
   },
   {
    "duration": 13,
    "start_time": "2022-03-20T16:31:59.715Z"
   },
   {
    "duration": 8,
    "start_time": "2022-03-20T16:31:59.731Z"
   },
   {
    "duration": 27,
    "start_time": "2022-03-20T16:31:59.743Z"
   },
   {
    "duration": 4,
    "start_time": "2022-03-20T16:31:59.773Z"
   },
   {
    "duration": 183,
    "start_time": "2022-03-20T16:31:59.779Z"
   },
   {
    "duration": 12,
    "start_time": "2022-03-20T16:31:59.964Z"
   },
   {
    "duration": 10,
    "start_time": "2022-03-20T16:31:59.977Z"
   },
   {
    "duration": 10,
    "start_time": "2022-03-20T16:32:00.000Z"
   },
   {
    "duration": 6,
    "start_time": "2022-03-20T16:32:00.012Z"
   },
   {
    "duration": 16,
    "start_time": "2022-03-20T16:32:00.020Z"
   },
   {
    "duration": 24,
    "start_time": "2022-03-20T16:32:00.038Z"
   },
   {
    "duration": 174,
    "start_time": "2022-03-20T16:32:00.064Z"
   },
   {
    "duration": 16,
    "start_time": "2022-03-20T16:32:00.240Z"
   },
   {
    "duration": 18,
    "start_time": "2022-03-20T16:32:00.258Z"
   },
   {
    "duration": 34,
    "start_time": "2022-03-20T16:32:00.278Z"
   },
   {
    "duration": 10,
    "start_time": "2022-03-20T16:32:00.314Z"
   },
   {
    "duration": 7,
    "start_time": "2022-03-20T16:32:00.326Z"
   },
   {
    "duration": 12,
    "start_time": "2022-03-20T16:32:00.335Z"
   },
   {
    "duration": 11,
    "start_time": "2022-03-20T16:32:00.349Z"
   },
   {
    "duration": 60,
    "start_time": "2022-03-20T16:32:00.361Z"
   },
   {
    "duration": 39,
    "start_time": "2022-03-20T16:32:00.423Z"
   },
   {
    "duration": 7,
    "start_time": "2022-03-20T16:32:00.464Z"
   },
   {
    "duration": 6,
    "start_time": "2022-03-20T16:32:00.473Z"
   },
   {
    "duration": 14,
    "start_time": "2022-03-20T16:32:00.481Z"
   },
   {
    "duration": 19,
    "start_time": "2022-03-20T16:32:00.502Z"
   },
   {
    "duration": 12,
    "start_time": "2022-03-20T16:32:00.523Z"
   },
   {
    "duration": 10,
    "start_time": "2022-03-20T16:32:00.536Z"
   },
   {
    "duration": 13,
    "start_time": "2022-03-20T16:32:00.548Z"
   },
   {
    "duration": 26,
    "start_time": "2022-03-20T16:32:00.563Z"
   },
   {
    "duration": 17,
    "start_time": "2022-03-20T16:32:00.594Z"
   },
   {
    "duration": 24,
    "start_time": "2022-03-20T16:32:00.613Z"
   },
   {
    "duration": 655,
    "start_time": "2022-03-20T16:32:00.639Z"
   },
   {
    "duration": 984,
    "start_time": "2022-03-20T16:32:01.296Z"
   },
   {
    "duration": 3,
    "start_time": "2022-03-20T16:32:02.283Z"
   },
   {
    "duration": 16,
    "start_time": "2022-03-20T16:32:02.288Z"
   },
   {
    "duration": 31,
    "start_time": "2022-03-20T16:32:02.306Z"
   },
   {
    "duration": 5,
    "start_time": "2022-03-20T16:32:02.339Z"
   },
   {
    "duration": 6,
    "start_time": "2022-03-20T16:32:02.346Z"
   },
   {
    "duration": 5,
    "start_time": "2022-03-20T16:32:02.354Z"
   },
   {
    "duration": 40,
    "start_time": "2022-03-20T16:32:02.361Z"
   },
   {
    "duration": 4,
    "start_time": "2022-03-20T16:32:02.403Z"
   },
   {
    "duration": 220,
    "start_time": "2022-03-20T16:32:02.408Z"
   },
   {
    "duration": 12,
    "start_time": "2022-03-20T16:32:02.630Z"
   },
   {
    "duration": 18,
    "start_time": "2022-03-20T16:32:02.644Z"
   },
   {
    "duration": 6,
    "start_time": "2022-03-20T16:32:02.664Z"
   },
   {
    "duration": 4,
    "start_time": "2022-03-20T16:32:02.672Z"
   },
   {
    "duration": 6,
    "start_time": "2022-03-20T16:32:02.701Z"
   },
   {
    "duration": 10,
    "start_time": "2022-03-20T16:32:02.709Z"
   },
   {
    "duration": 5,
    "start_time": "2022-03-20T16:32:02.720Z"
   },
   {
    "duration": 79,
    "start_time": "2022-03-20T16:32:02.726Z"
   },
   {
    "duration": 1595,
    "start_time": "2022-03-20T16:32:02.807Z"
   },
   {
    "duration": 4,
    "start_time": "2022-03-20T16:37:47.753Z"
   },
   {
    "duration": 301,
    "start_time": "2022-03-20T16:37:47.759Z"
   },
   {
    "duration": 20,
    "start_time": "2022-03-20T16:37:48.061Z"
   },
   {
    "duration": 28,
    "start_time": "2022-03-20T16:37:48.082Z"
   },
   {
    "duration": 74,
    "start_time": "2022-03-20T16:37:48.112Z"
   },
   {
    "duration": 19,
    "start_time": "2022-03-20T16:37:48.188Z"
   },
   {
    "duration": 11,
    "start_time": "2022-03-20T16:37:48.209Z"
   },
   {
    "duration": 381,
    "start_time": "2022-03-20T16:37:48.221Z"
   },
   {
    "duration": 16,
    "start_time": "2022-03-20T16:37:48.603Z"
   },
   {
    "duration": 3,
    "start_time": "2022-03-20T16:37:48.621Z"
   },
   {
    "duration": 10,
    "start_time": "2022-03-20T16:37:48.625Z"
   },
   {
    "duration": 10,
    "start_time": "2022-03-20T16:37:48.636Z"
   },
   {
    "duration": 5,
    "start_time": "2022-03-20T16:37:48.647Z"
   },
   {
    "duration": 8,
    "start_time": "2022-03-20T16:37:48.655Z"
   },
   {
    "duration": 37,
    "start_time": "2022-03-20T16:37:48.664Z"
   },
   {
    "duration": 162,
    "start_time": "2022-03-20T16:37:48.702Z"
   },
   {
    "duration": 8,
    "start_time": "2022-03-20T16:37:48.866Z"
   },
   {
    "duration": 6,
    "start_time": "2022-03-20T16:37:48.876Z"
   },
   {
    "duration": 22,
    "start_time": "2022-03-20T16:37:48.884Z"
   },
   {
    "duration": 3,
    "start_time": "2022-03-20T16:37:48.908Z"
   },
   {
    "duration": 7,
    "start_time": "2022-03-20T16:37:48.913Z"
   },
   {
    "duration": 19,
    "start_time": "2022-03-20T16:37:48.922Z"
   },
   {
    "duration": 179,
    "start_time": "2022-03-20T16:37:48.942Z"
   },
   {
    "duration": 16,
    "start_time": "2022-03-20T16:37:49.123Z"
   },
   {
    "duration": 18,
    "start_time": "2022-03-20T16:37:49.141Z"
   },
   {
    "duration": 16,
    "start_time": "2022-03-20T16:37:49.160Z"
   },
   {
    "duration": 9,
    "start_time": "2022-03-20T16:37:49.201Z"
   },
   {
    "duration": 7,
    "start_time": "2022-03-20T16:37:49.211Z"
   },
   {
    "duration": 10,
    "start_time": "2022-03-20T16:37:49.220Z"
   },
   {
    "duration": 10,
    "start_time": "2022-03-20T16:37:49.232Z"
   },
   {
    "duration": 20,
    "start_time": "2022-03-20T16:37:49.244Z"
   },
   {
    "duration": 40,
    "start_time": "2022-03-20T16:37:49.265Z"
   },
   {
    "duration": 8,
    "start_time": "2022-03-20T16:37:49.307Z"
   },
   {
    "duration": 5,
    "start_time": "2022-03-20T16:37:49.316Z"
   },
   {
    "duration": 9,
    "start_time": "2022-03-20T16:37:49.323Z"
   },
   {
    "duration": 17,
    "start_time": "2022-03-20T16:37:49.333Z"
   },
   {
    "duration": 5,
    "start_time": "2022-03-20T16:37:49.351Z"
   },
   {
    "duration": 14,
    "start_time": "2022-03-20T16:37:49.357Z"
   },
   {
    "duration": 32,
    "start_time": "2022-03-20T16:37:49.372Z"
   },
   {
    "duration": 14,
    "start_time": "2022-03-20T16:37:49.405Z"
   },
   {
    "duration": 4,
    "start_time": "2022-03-20T16:37:49.423Z"
   },
   {
    "duration": 15,
    "start_time": "2022-03-20T16:37:49.429Z"
   },
   {
    "duration": 469,
    "start_time": "2022-03-20T16:37:49.446Z"
   },
   {
    "duration": 463,
    "start_time": "2022-03-20T16:37:49.917Z"
   },
   {
    "duration": 3,
    "start_time": "2022-03-20T16:37:50.382Z"
   },
   {
    "duration": 17,
    "start_time": "2022-03-20T16:37:50.387Z"
   },
   {
    "duration": 16,
    "start_time": "2022-03-20T16:37:50.406Z"
   },
   {
    "duration": 5,
    "start_time": "2022-03-20T16:37:50.424Z"
   },
   {
    "duration": 6,
    "start_time": "2022-03-20T16:37:50.430Z"
   },
   {
    "duration": 5,
    "start_time": "2022-03-20T16:37:50.437Z"
   },
   {
    "duration": 22,
    "start_time": "2022-03-20T16:37:50.443Z"
   },
   {
    "duration": 7,
    "start_time": "2022-03-20T16:37:50.467Z"
   },
   {
    "duration": 287,
    "start_time": "2022-03-20T16:37:50.475Z"
   },
   {
    "duration": 9,
    "start_time": "2022-03-20T16:37:50.764Z"
   },
   {
    "duration": 27,
    "start_time": "2022-03-20T16:37:50.775Z"
   },
   {
    "duration": 4,
    "start_time": "2022-03-20T16:37:50.803Z"
   },
   {
    "duration": 4,
    "start_time": "2022-03-20T16:37:50.809Z"
   },
   {
    "duration": 9,
    "start_time": "2022-03-20T16:37:50.814Z"
   },
   {
    "duration": 0,
    "start_time": "2022-03-20T16:37:50.825Z"
   },
   {
    "duration": 6,
    "start_time": "2022-03-20T16:38:18.160Z"
   },
   {
    "duration": 5,
    "start_time": "2022-03-20T16:38:18.581Z"
   },
   {
    "duration": 328,
    "start_time": "2022-03-20T18:12:31.650Z"
   },
   {
    "duration": 328,
    "start_time": "2022-03-20T18:12:54.739Z"
   },
   {
    "duration": 197,
    "start_time": "2022-03-20T18:14:41.556Z"
   },
   {
    "duration": 216,
    "start_time": "2022-03-20T18:14:48.544Z"
   },
   {
    "duration": 4,
    "start_time": "2022-03-20T18:15:05.804Z"
   },
   {
    "duration": 330,
    "start_time": "2022-03-20T18:15:05.811Z"
   },
   {
    "duration": 19,
    "start_time": "2022-03-20T18:15:06.143Z"
   },
   {
    "duration": 17,
    "start_time": "2022-03-20T18:15:06.164Z"
   },
   {
    "duration": 97,
    "start_time": "2022-03-20T18:15:06.183Z"
   },
   {
    "duration": 20,
    "start_time": "2022-03-20T18:15:06.282Z"
   },
   {
    "duration": 11,
    "start_time": "2022-03-20T18:15:06.304Z"
   },
   {
    "duration": 397,
    "start_time": "2022-03-20T18:15:06.317Z"
   },
   {
    "duration": 17,
    "start_time": "2022-03-20T18:15:06.716Z"
   },
   {
    "duration": 4,
    "start_time": "2022-03-20T18:15:06.736Z"
   },
   {
    "duration": 16,
    "start_time": "2022-03-20T18:15:06.742Z"
   },
   {
    "duration": 12,
    "start_time": "2022-03-20T18:15:06.760Z"
   },
   {
    "duration": 32,
    "start_time": "2022-03-20T18:15:06.774Z"
   },
   {
    "duration": 11,
    "start_time": "2022-03-20T18:15:06.808Z"
   },
   {
    "duration": 12,
    "start_time": "2022-03-20T18:15:06.821Z"
   },
   {
    "duration": 182,
    "start_time": "2022-03-20T18:15:06.835Z"
   },
   {
    "duration": 10,
    "start_time": "2022-03-20T18:15:07.019Z"
   },
   {
    "duration": 6,
    "start_time": "2022-03-20T18:15:07.030Z"
   },
   {
    "duration": 7,
    "start_time": "2022-03-20T18:15:07.038Z"
   },
   {
    "duration": 3,
    "start_time": "2022-03-20T18:15:07.046Z"
   },
   {
    "duration": 8,
    "start_time": "2022-03-20T18:15:07.050Z"
   },
   {
    "duration": 52,
    "start_time": "2022-03-20T18:15:07.059Z"
   },
   {
    "duration": 175,
    "start_time": "2022-03-20T18:15:07.112Z"
   },
   {
    "duration": 20,
    "start_time": "2022-03-20T18:15:07.289Z"
   },
   {
    "duration": 18,
    "start_time": "2022-03-20T18:15:07.310Z"
   },
   {
    "duration": 19,
    "start_time": "2022-03-20T18:15:07.329Z"
   },
   {
    "duration": 13,
    "start_time": "2022-03-20T18:15:07.350Z"
   },
   {
    "duration": 8,
    "start_time": "2022-03-20T18:15:07.368Z"
   },
   {
    "duration": 33,
    "start_time": "2022-03-20T18:15:07.377Z"
   },
   {
    "duration": 10,
    "start_time": "2022-03-20T18:15:07.412Z"
   },
   {
    "duration": 23,
    "start_time": "2022-03-20T18:15:07.423Z"
   },
   {
    "duration": 16,
    "start_time": "2022-03-20T18:15:07.447Z"
   },
   {
    "duration": 41,
    "start_time": "2022-03-20T18:15:07.464Z"
   },
   {
    "duration": 6,
    "start_time": "2022-03-20T18:15:07.506Z"
   },
   {
    "duration": 9,
    "start_time": "2022-03-20T18:15:07.514Z"
   },
   {
    "duration": 17,
    "start_time": "2022-03-20T18:15:07.524Z"
   },
   {
    "duration": 5,
    "start_time": "2022-03-20T18:15:07.542Z"
   },
   {
    "duration": 12,
    "start_time": "2022-03-20T18:15:07.548Z"
   },
   {
    "duration": 9,
    "start_time": "2022-03-20T18:15:07.561Z"
   },
   {
    "duration": 34,
    "start_time": "2022-03-20T18:15:07.571Z"
   },
   {
    "duration": 4,
    "start_time": "2022-03-20T18:15:07.606Z"
   },
   {
    "duration": 12,
    "start_time": "2022-03-20T18:15:07.612Z"
   },
   {
    "duration": 681,
    "start_time": "2022-03-20T18:15:07.626Z"
   },
   {
    "duration": 596,
    "start_time": "2022-03-20T18:15:08.308Z"
   },
   {
    "duration": 3,
    "start_time": "2022-03-20T18:15:08.906Z"
   },
   {
    "duration": 7,
    "start_time": "2022-03-20T18:15:08.910Z"
   },
   {
    "duration": 16,
    "start_time": "2022-03-20T18:15:08.919Z"
   },
   {
    "duration": 4,
    "start_time": "2022-03-20T18:15:08.937Z"
   },
   {
    "duration": 4,
    "start_time": "2022-03-20T18:15:08.943Z"
   },
   {
    "duration": 5,
    "start_time": "2022-03-20T18:15:08.949Z"
   },
   {
    "duration": 46,
    "start_time": "2022-03-20T18:15:08.956Z"
   },
   {
    "duration": 5,
    "start_time": "2022-03-20T18:15:09.004Z"
   },
   {
    "duration": 141,
    "start_time": "2022-03-20T18:15:09.011Z"
   },
   {
    "duration": 8,
    "start_time": "2022-03-20T18:15:09.154Z"
   },
   {
    "duration": 15,
    "start_time": "2022-03-20T18:15:09.164Z"
   },
   {
    "duration": 3,
    "start_time": "2022-03-20T18:15:09.180Z"
   },
   {
    "duration": 3,
    "start_time": "2022-03-20T18:15:09.201Z"
   },
   {
    "duration": 8,
    "start_time": "2022-03-20T18:15:09.206Z"
   },
   {
    "duration": 5,
    "start_time": "2022-03-20T18:15:09.215Z"
   },
   {
    "duration": 45,
    "start_time": "2022-03-20T18:15:09.222Z"
   },
   {
    "duration": 0,
    "start_time": "2022-03-20T18:15:09.269Z"
   },
   {
    "duration": 0,
    "start_time": "2022-03-20T18:15:09.301Z"
   },
   {
    "duration": 0,
    "start_time": "2022-03-20T18:15:09.302Z"
   },
   {
    "duration": 5,
    "start_time": "2022-03-20T18:15:32.771Z"
   },
   {
    "duration": 4,
    "start_time": "2022-03-20T18:15:33.165Z"
   },
   {
    "duration": 22,
    "start_time": "2022-03-20T18:15:33.688Z"
   },
   {
    "duration": 3,
    "start_time": "2022-03-20T18:15:34.854Z"
   },
   {
    "duration": 3041,
    "start_time": "2022-03-20T18:15:35.768Z"
   },
   {
    "duration": 4,
    "start_time": "2022-03-20T18:15:51.207Z"
   },
   {
    "duration": 304,
    "start_time": "2022-03-20T18:15:51.213Z"
   },
   {
    "duration": 21,
    "start_time": "2022-03-20T18:15:51.520Z"
   },
   {
    "duration": 17,
    "start_time": "2022-03-20T18:15:51.543Z"
   },
   {
    "duration": 92,
    "start_time": "2022-03-20T18:15:51.562Z"
   },
   {
    "duration": 20,
    "start_time": "2022-03-20T18:15:51.656Z"
   },
   {
    "duration": 26,
    "start_time": "2022-03-20T18:15:51.678Z"
   },
   {
    "duration": 372,
    "start_time": "2022-03-20T18:15:51.707Z"
   },
   {
    "duration": 25,
    "start_time": "2022-03-20T18:15:52.082Z"
   },
   {
    "duration": 4,
    "start_time": "2022-03-20T18:15:52.109Z"
   },
   {
    "duration": 10,
    "start_time": "2022-03-20T18:15:52.115Z"
   },
   {
    "duration": 10,
    "start_time": "2022-03-20T18:15:52.127Z"
   },
   {
    "duration": 7,
    "start_time": "2022-03-20T18:15:52.138Z"
   },
   {
    "duration": 10,
    "start_time": "2022-03-20T18:15:52.146Z"
   },
   {
    "duration": 4,
    "start_time": "2022-03-20T18:15:52.157Z"
   },
   {
    "duration": 194,
    "start_time": "2022-03-20T18:15:52.162Z"
   },
   {
    "duration": 9,
    "start_time": "2022-03-20T18:15:52.358Z"
   },
   {
    "duration": 5,
    "start_time": "2022-03-20T18:15:52.369Z"
   },
   {
    "duration": 26,
    "start_time": "2022-03-20T18:15:52.375Z"
   },
   {
    "duration": 3,
    "start_time": "2022-03-20T18:15:52.402Z"
   },
   {
    "duration": 7,
    "start_time": "2022-03-20T18:15:52.406Z"
   },
   {
    "duration": 18,
    "start_time": "2022-03-20T18:15:52.415Z"
   },
   {
    "duration": 175,
    "start_time": "2022-03-20T18:15:52.435Z"
   },
   {
    "duration": 18,
    "start_time": "2022-03-20T18:15:52.611Z"
   },
   {
    "duration": 17,
    "start_time": "2022-03-20T18:15:52.631Z"
   },
   {
    "duration": 18,
    "start_time": "2022-03-20T18:15:52.649Z"
   },
   {
    "duration": 34,
    "start_time": "2022-03-20T18:15:52.671Z"
   },
   {
    "duration": 8,
    "start_time": "2022-03-20T18:15:52.707Z"
   },
   {
    "duration": 10,
    "start_time": "2022-03-20T18:15:52.717Z"
   },
   {
    "duration": 10,
    "start_time": "2022-03-20T18:15:52.729Z"
   },
   {
    "duration": 22,
    "start_time": "2022-03-20T18:15:52.741Z"
   },
   {
    "duration": 44,
    "start_time": "2022-03-20T18:15:52.764Z"
   },
   {
    "duration": 8,
    "start_time": "2022-03-20T18:15:52.809Z"
   },
   {
    "duration": 8,
    "start_time": "2022-03-20T18:15:52.818Z"
   },
   {
    "duration": 10,
    "start_time": "2022-03-20T18:15:52.828Z"
   },
   {
    "duration": 18,
    "start_time": "2022-03-20T18:15:52.839Z"
   },
   {
    "duration": 42,
    "start_time": "2022-03-20T18:15:52.859Z"
   },
   {
    "duration": 8,
    "start_time": "2022-03-20T18:15:52.903Z"
   },
   {
    "duration": 6,
    "start_time": "2022-03-20T18:15:52.913Z"
   },
   {
    "duration": 15,
    "start_time": "2022-03-20T18:15:52.921Z"
   },
   {
    "duration": 5,
    "start_time": "2022-03-20T18:15:52.938Z"
   },
   {
    "duration": 13,
    "start_time": "2022-03-20T18:15:52.945Z"
   },
   {
    "duration": 615,
    "start_time": "2022-03-20T18:15:52.959Z"
   },
   {
    "duration": 489,
    "start_time": "2022-03-20T18:15:53.576Z"
   },
   {
    "duration": 3,
    "start_time": "2022-03-20T18:15:54.067Z"
   },
   {
    "duration": 11,
    "start_time": "2022-03-20T18:15:54.072Z"
   },
   {
    "duration": 23,
    "start_time": "2022-03-20T18:15:54.085Z"
   },
   {
    "duration": 5,
    "start_time": "2022-03-20T18:15:54.110Z"
   },
   {
    "duration": 4,
    "start_time": "2022-03-20T18:15:54.117Z"
   },
   {
    "duration": 6,
    "start_time": "2022-03-20T18:15:54.122Z"
   },
   {
    "duration": 15,
    "start_time": "2022-03-20T18:15:54.130Z"
   },
   {
    "duration": 4,
    "start_time": "2022-03-20T18:15:54.146Z"
   },
   {
    "duration": 153,
    "start_time": "2022-03-20T18:15:54.152Z"
   },
   {
    "duration": 9,
    "start_time": "2022-03-20T18:15:54.307Z"
   },
   {
    "duration": 13,
    "start_time": "2022-03-20T18:15:54.318Z"
   },
   {
    "duration": 4,
    "start_time": "2022-03-20T18:15:54.333Z"
   },
   {
    "duration": 4,
    "start_time": "2022-03-20T18:15:54.338Z"
   },
   {
    "duration": 9,
    "start_time": "2022-03-20T18:15:54.343Z"
   },
   {
    "duration": 7,
    "start_time": "2022-03-20T18:15:54.354Z"
   },
   {
    "duration": 49,
    "start_time": "2022-03-20T18:15:54.363Z"
   },
   {
    "duration": 3,
    "start_time": "2022-03-20T18:15:54.413Z"
   },
   {
    "duration": 2699,
    "start_time": "2022-03-20T18:15:54.418Z"
   },
   {
    "duration": 12691,
    "start_time": "2022-03-20T18:15:57.120Z"
   },
   {
    "duration": 4,
    "start_time": "2022-03-20T18:16:22.463Z"
   },
   {
    "duration": 332,
    "start_time": "2022-03-20T18:16:22.470Z"
   },
   {
    "duration": 19,
    "start_time": "2022-03-20T18:16:22.804Z"
   },
   {
    "duration": 17,
    "start_time": "2022-03-20T18:16:22.826Z"
   },
   {
    "duration": 88,
    "start_time": "2022-03-20T18:16:22.845Z"
   },
   {
    "duration": 21,
    "start_time": "2022-03-20T18:16:22.935Z"
   },
   {
    "duration": 14,
    "start_time": "2022-03-20T18:16:22.958Z"
   },
   {
    "duration": 400,
    "start_time": "2022-03-20T18:16:22.974Z"
   },
   {
    "duration": 25,
    "start_time": "2022-03-20T18:16:23.376Z"
   },
   {
    "duration": 4,
    "start_time": "2022-03-20T18:16:23.402Z"
   },
   {
    "duration": 16,
    "start_time": "2022-03-20T18:16:23.407Z"
   },
   {
    "duration": 9,
    "start_time": "2022-03-20T18:16:23.424Z"
   },
   {
    "duration": 6,
    "start_time": "2022-03-20T18:16:23.435Z"
   },
   {
    "duration": 9,
    "start_time": "2022-03-20T18:16:23.442Z"
   },
   {
    "duration": 3,
    "start_time": "2022-03-20T18:16:23.452Z"
   },
   {
    "duration": 189,
    "start_time": "2022-03-20T18:16:23.457Z"
   },
   {
    "duration": 10,
    "start_time": "2022-03-20T18:16:23.647Z"
   },
   {
    "duration": 16,
    "start_time": "2022-03-20T18:16:23.658Z"
   },
   {
    "duration": 6,
    "start_time": "2022-03-20T18:16:23.676Z"
   },
   {
    "duration": 3,
    "start_time": "2022-03-20T18:16:23.683Z"
   },
   {
    "duration": 19,
    "start_time": "2022-03-20T18:16:23.687Z"
   },
   {
    "duration": 19,
    "start_time": "2022-03-20T18:16:23.708Z"
   },
   {
    "duration": 173,
    "start_time": "2022-03-20T18:16:23.728Z"
   },
   {
    "duration": 17,
    "start_time": "2022-03-20T18:16:23.905Z"
   },
   {
    "duration": 22,
    "start_time": "2022-03-20T18:16:23.924Z"
   },
   {
    "duration": 18,
    "start_time": "2022-03-20T18:16:23.948Z"
   },
   {
    "duration": 9,
    "start_time": "2022-03-20T18:16:23.967Z"
   },
   {
    "duration": 8,
    "start_time": "2022-03-20T18:16:24.002Z"
   },
   {
    "duration": 11,
    "start_time": "2022-03-20T18:16:24.011Z"
   },
   {
    "duration": 10,
    "start_time": "2022-03-20T18:16:24.023Z"
   },
   {
    "duration": 23,
    "start_time": "2022-03-20T18:16:24.034Z"
   },
   {
    "duration": 49,
    "start_time": "2022-03-20T18:16:24.059Z"
   },
   {
    "duration": 8,
    "start_time": "2022-03-20T18:16:24.110Z"
   },
   {
    "duration": 7,
    "start_time": "2022-03-20T18:16:24.119Z"
   },
   {
    "duration": 10,
    "start_time": "2022-03-20T18:16:24.127Z"
   },
   {
    "duration": 19,
    "start_time": "2022-03-20T18:16:24.138Z"
   },
   {
    "duration": 3,
    "start_time": "2022-03-20T18:16:24.158Z"
   },
   {
    "duration": 38,
    "start_time": "2022-03-20T18:16:24.163Z"
   },
   {
    "duration": 6,
    "start_time": "2022-03-20T18:16:24.203Z"
   },
   {
    "duration": 17,
    "start_time": "2022-03-20T18:16:24.210Z"
   },
   {
    "duration": 18,
    "start_time": "2022-03-20T18:16:24.228Z"
   },
   {
    "duration": 68,
    "start_time": "2022-03-20T18:16:24.247Z"
   },
   {
    "duration": 495,
    "start_time": "2022-03-20T18:16:24.316Z"
   },
   {
    "duration": 660,
    "start_time": "2022-03-20T18:16:24.813Z"
   },
   {
    "duration": 3,
    "start_time": "2022-03-20T18:16:25.474Z"
   },
   {
    "duration": 48,
    "start_time": "2022-03-20T18:16:25.479Z"
   },
   {
    "duration": 40,
    "start_time": "2022-03-20T18:16:25.529Z"
   },
   {
    "duration": 34,
    "start_time": "2022-03-20T18:16:25.570Z"
   },
   {
    "duration": 27,
    "start_time": "2022-03-20T18:16:25.605Z"
   },
   {
    "duration": 14,
    "start_time": "2022-03-20T18:16:25.634Z"
   },
   {
    "duration": 22,
    "start_time": "2022-03-20T18:16:25.650Z"
   },
   {
    "duration": 5,
    "start_time": "2022-03-20T18:16:25.674Z"
   },
   {
    "duration": 125,
    "start_time": "2022-03-20T18:16:25.680Z"
   },
   {
    "duration": 10,
    "start_time": "2022-03-20T18:16:25.807Z"
   },
   {
    "duration": 15,
    "start_time": "2022-03-20T18:16:25.818Z"
   },
   {
    "duration": 9,
    "start_time": "2022-03-20T18:16:25.835Z"
   },
   {
    "duration": 9,
    "start_time": "2022-03-20T18:16:25.846Z"
   },
   {
    "duration": 8,
    "start_time": "2022-03-20T18:16:25.857Z"
   },
   {
    "duration": 10,
    "start_time": "2022-03-20T18:16:25.867Z"
   },
   {
    "duration": 30,
    "start_time": "2022-03-20T18:16:25.878Z"
   },
   {
    "duration": 3,
    "start_time": "2022-03-20T18:16:25.910Z"
   },
   {
    "duration": 2989,
    "start_time": "2022-03-20T18:16:25.915Z"
   },
   {
    "duration": 9195,
    "start_time": "2022-03-20T18:16:28.906Z"
   },
   {
    "duration": 65894,
    "start_time": "2022-03-21T15:59:15.257Z"
   },
   {
    "duration": 281,
    "start_time": "2022-03-21T16:00:21.153Z"
   },
   {
    "duration": 34,
    "start_time": "2022-03-21T16:00:21.436Z"
   },
   {
    "duration": 18,
    "start_time": "2022-03-21T16:00:21.472Z"
   },
   {
    "duration": 82,
    "start_time": "2022-03-21T16:00:21.491Z"
   },
   {
    "duration": 19,
    "start_time": "2022-03-21T16:00:21.575Z"
   },
   {
    "duration": 12,
    "start_time": "2022-03-21T16:00:21.596Z"
   },
   {
    "duration": 374,
    "start_time": "2022-03-21T16:00:21.610Z"
   },
   {
    "duration": 17,
    "start_time": "2022-03-21T16:00:21.986Z"
   },
   {
    "duration": 3,
    "start_time": "2022-03-21T16:00:22.006Z"
   },
   {
    "duration": 10,
    "start_time": "2022-03-21T16:00:22.011Z"
   },
   {
    "duration": 10,
    "start_time": "2022-03-21T16:00:22.023Z"
   },
   {
    "duration": 66,
    "start_time": "2022-03-21T16:00:22.034Z"
   },
   {
    "duration": 10,
    "start_time": "2022-03-21T16:00:22.101Z"
   },
   {
    "duration": 5,
    "start_time": "2022-03-21T16:00:22.113Z"
   },
   {
    "duration": 162,
    "start_time": "2022-03-21T16:00:22.119Z"
   },
   {
    "duration": 9,
    "start_time": "2022-03-21T16:00:22.283Z"
   },
   {
    "duration": 6,
    "start_time": "2022-03-21T16:00:22.293Z"
   },
   {
    "duration": 6,
    "start_time": "2022-03-21T16:01:09.019Z"
   },
   {
    "duration": 2,
    "start_time": "2022-03-21T16:01:22.821Z"
   },
   {
    "duration": 7,
    "start_time": "2022-03-21T16:01:23.627Z"
   },
   {
    "duration": 20,
    "start_time": "2022-03-21T16:01:24.803Z"
   },
   {
    "duration": 26,
    "start_time": "2022-03-21T16:01:33.651Z"
   },
   {
    "duration": 164,
    "start_time": "2022-03-21T16:13:16.437Z"
   },
   {
    "duration": 19,
    "start_time": "2022-03-21T16:13:17.204Z"
   },
   {
    "duration": 19,
    "start_time": "2022-03-21T16:13:17.765Z"
   },
   {
    "duration": 18,
    "start_time": "2022-03-21T16:13:18.315Z"
   },
   {
    "duration": 10,
    "start_time": "2022-03-21T16:13:19.376Z"
   },
   {
    "duration": 9,
    "start_time": "2022-03-21T16:13:19.982Z"
   },
   {
    "duration": 12,
    "start_time": "2022-03-21T16:13:20.597Z"
   },
   {
    "duration": 12,
    "start_time": "2022-03-21T16:13:21.621Z"
   },
   {
    "duration": 35,
    "start_time": "2022-03-21T16:13:22.588Z"
   },
   {
    "duration": 19,
    "start_time": "2022-03-21T16:13:27.197Z"
   },
   {
    "duration": 12,
    "start_time": "2022-03-21T16:13:28.501Z"
   },
   {
    "duration": 10,
    "start_time": "2022-03-21T16:13:29.296Z"
   },
   {
    "duration": 14,
    "start_time": "2022-03-21T16:13:29.933Z"
   },
   {
    "duration": 18,
    "start_time": "2022-03-21T16:13:35.391Z"
   },
   {
    "duration": 3,
    "start_time": "2022-03-21T16:13:35.868Z"
   },
   {
    "duration": 4,
    "start_time": "2022-03-21T16:13:36.334Z"
   },
   {
    "duration": 4,
    "start_time": "2022-03-21T16:13:36.515Z"
   },
   {
    "duration": 14,
    "start_time": "2022-03-21T16:13:36.800Z"
   },
   {
    "duration": 4,
    "start_time": "2022-03-21T16:13:37.228Z"
   },
   {
    "duration": 9,
    "start_time": "2022-03-21T16:13:37.419Z"
   },
   {
    "duration": 496,
    "start_time": "2022-03-21T16:13:41.140Z"
   },
   {
    "duration": 574,
    "start_time": "2022-03-21T16:15:32.189Z"
   },
   {
    "duration": 3,
    "start_time": "2022-03-21T16:15:34.484Z"
   },
   {
    "duration": 4,
    "start_time": "2022-03-21T16:15:34.647Z"
   },
   {
    "duration": 18,
    "start_time": "2022-03-21T16:15:34.813Z"
   },
   {
    "duration": 5,
    "start_time": "2022-03-21T16:15:34.948Z"
   },
   {
    "duration": 5,
    "start_time": "2022-03-21T16:15:35.130Z"
   },
   {
    "duration": 5,
    "start_time": "2022-03-21T16:15:35.268Z"
   },
   {
    "duration": 16,
    "start_time": "2022-03-21T16:15:35.428Z"
   },
   {
    "duration": 3,
    "start_time": "2022-03-21T16:15:35.555Z"
   },
   {
    "duration": 125,
    "start_time": "2022-03-21T16:15:35.695Z"
   },
   {
    "duration": 11,
    "start_time": "2022-03-21T16:15:36.008Z"
   },
   {
    "duration": 19,
    "start_time": "2022-03-21T16:15:36.196Z"
   },
   {
    "duration": 4,
    "start_time": "2022-03-21T16:15:37.381Z"
   },
   {
    "duration": 3,
    "start_time": "2022-03-21T16:15:37.721Z"
   },
   {
    "duration": 8,
    "start_time": "2022-03-21T16:15:38.469Z"
   },
   {
    "duration": 4,
    "start_time": "2022-03-21T16:15:39.596Z"
   },
   {
    "duration": 18,
    "start_time": "2022-03-21T16:15:39.807Z"
   },
   {
    "duration": 3,
    "start_time": "2022-03-21T16:15:40.243Z"
   },
   {
    "duration": 2742,
    "start_time": "2022-03-21T16:16:01.326Z"
   },
   {
    "duration": 9510,
    "start_time": "2022-03-21T16:16:04.069Z"
   },
   {
    "duration": 158,
    "start_time": "2022-03-21T16:19:21.845Z"
   },
   {
    "duration": 2656,
    "start_time": "2022-03-21T16:43:15.039Z"
   },
   {
    "duration": 406,
    "start_time": "2022-03-21T16:43:17.699Z"
   },
   {
    "duration": 46,
    "start_time": "2022-03-21T16:43:18.108Z"
   },
   {
    "duration": 58,
    "start_time": "2022-03-21T16:43:18.157Z"
   },
   {
    "duration": 109,
    "start_time": "2022-03-21T16:43:18.218Z"
   },
   {
    "duration": 58,
    "start_time": "2022-03-21T16:43:18.330Z"
   },
   {
    "duration": 41,
    "start_time": "2022-03-21T16:43:18.391Z"
   },
   {
    "duration": 534,
    "start_time": "2022-03-21T16:43:18.435Z"
   },
   {
    "duration": 30,
    "start_time": "2022-03-21T16:43:18.972Z"
   },
   {
    "duration": 19,
    "start_time": "2022-03-21T16:43:19.010Z"
   },
   {
    "duration": 19,
    "start_time": "2022-03-21T16:43:19.032Z"
   },
   {
    "duration": 23,
    "start_time": "2022-03-21T16:43:19.053Z"
   },
   {
    "duration": 16,
    "start_time": "2022-03-21T16:43:19.087Z"
   },
   {
    "duration": 37,
    "start_time": "2022-03-21T16:43:19.106Z"
   },
   {
    "duration": 11,
    "start_time": "2022-03-21T16:43:19.146Z"
   },
   {
    "duration": 332,
    "start_time": "2022-03-21T16:43:19.163Z"
   },
   {
    "duration": 16,
    "start_time": "2022-03-21T16:43:19.498Z"
   },
   {
    "duration": 19,
    "start_time": "2022-03-21T16:43:19.517Z"
   },
   {
    "duration": 20,
    "start_time": "2022-03-21T16:43:19.539Z"
   },
   {
    "duration": 44,
    "start_time": "2022-03-21T16:43:19.562Z"
   },
   {
    "duration": 25,
    "start_time": "2022-03-21T16:43:19.610Z"
   },
   {
    "duration": 71,
    "start_time": "2022-03-21T16:43:19.638Z"
   },
   {
    "duration": 339,
    "start_time": "2022-03-21T16:43:19.712Z"
   },
   {
    "duration": 43,
    "start_time": "2022-03-21T16:43:20.055Z"
   },
   {
    "duration": 40,
    "start_time": "2022-03-21T16:43:20.102Z"
   },
   {
    "duration": 72,
    "start_time": "2022-03-21T16:43:20.145Z"
   },
   {
    "duration": 33,
    "start_time": "2022-03-21T16:43:20.221Z"
   },
   {
    "duration": 21,
    "start_time": "2022-03-21T16:43:20.263Z"
   },
   {
    "duration": 19,
    "start_time": "2022-03-21T16:43:20.292Z"
   },
   {
    "duration": 30,
    "start_time": "2022-03-21T16:43:20.314Z"
   },
   {
    "duration": 78,
    "start_time": "2022-03-21T16:43:20.347Z"
   },
   {
    "duration": 20,
    "start_time": "2022-03-21T16:43:20.428Z"
   },
   {
    "duration": 50,
    "start_time": "2022-03-21T16:43:20.451Z"
   },
   {
    "duration": 18,
    "start_time": "2022-03-21T16:43:20.503Z"
   },
   {
    "duration": 20,
    "start_time": "2022-03-21T16:43:20.524Z"
   },
   {
    "duration": 64,
    "start_time": "2022-03-21T16:43:20.547Z"
   },
   {
    "duration": 5,
    "start_time": "2022-03-21T16:43:20.614Z"
   },
   {
    "duration": 15,
    "start_time": "2022-03-21T16:43:20.621Z"
   },
   {
    "duration": 9,
    "start_time": "2022-03-21T16:43:20.638Z"
   },
   {
    "duration": 45,
    "start_time": "2022-03-21T16:43:20.650Z"
   },
   {
    "duration": 17,
    "start_time": "2022-03-21T16:43:20.697Z"
   },
   {
    "duration": 18,
    "start_time": "2022-03-21T16:43:20.717Z"
   },
   {
    "duration": 1564,
    "start_time": "2022-03-21T16:43:20.738Z"
   },
   {
    "duration": 1055,
    "start_time": "2022-03-21T16:43:22.308Z"
   },
   {
    "duration": 4,
    "start_time": "2022-03-21T16:43:23.366Z"
   },
   {
    "duration": 9,
    "start_time": "2022-03-21T16:43:23.383Z"
   },
   {
    "duration": 38,
    "start_time": "2022-03-21T16:43:23.395Z"
   },
   {
    "duration": 8,
    "start_time": "2022-03-21T16:43:23.436Z"
   },
   {
    "duration": 9,
    "start_time": "2022-03-21T16:43:23.447Z"
   },
   {
    "duration": 25,
    "start_time": "2022-03-21T16:43:23.459Z"
   },
   {
    "duration": 27,
    "start_time": "2022-03-21T16:43:23.487Z"
   },
   {
    "duration": 5,
    "start_time": "2022-03-21T16:43:23.517Z"
   },
   {
    "duration": 270,
    "start_time": "2022-03-21T16:43:23.524Z"
   },
   {
    "duration": 15,
    "start_time": "2022-03-21T16:43:23.797Z"
   },
   {
    "duration": 24,
    "start_time": "2022-03-21T16:43:23.814Z"
   },
   {
    "duration": 6,
    "start_time": "2022-03-21T16:43:23.840Z"
   },
   {
    "duration": 37,
    "start_time": "2022-03-21T16:43:23.850Z"
   },
   {
    "duration": 21,
    "start_time": "2022-03-21T16:43:23.892Z"
   },
   {
    "duration": 7,
    "start_time": "2022-03-21T16:43:23.916Z"
   },
   {
    "duration": 25,
    "start_time": "2022-03-21T16:43:23.925Z"
   },
   {
    "duration": 6,
    "start_time": "2022-03-21T16:43:23.952Z"
   },
   {
    "duration": 5738,
    "start_time": "2022-03-21T16:43:23.960Z"
   },
   {
    "duration": 13549,
    "start_time": "2022-03-21T16:43:29.701Z"
   },
   {
    "duration": 50,
    "start_time": "2022-03-21T21:37:00.597Z"
   },
   {
    "duration": 1791,
    "start_time": "2022-03-21T21:37:04.337Z"
   },
   {
    "duration": 318,
    "start_time": "2022-03-21T21:37:06.130Z"
   },
   {
    "duration": 27,
    "start_time": "2022-03-21T21:37:06.450Z"
   },
   {
    "duration": 20,
    "start_time": "2022-03-21T21:37:06.479Z"
   },
   {
    "duration": 101,
    "start_time": "2022-03-21T21:37:06.501Z"
   },
   {
    "duration": 29,
    "start_time": "2022-03-21T21:37:06.604Z"
   },
   {
    "duration": 15,
    "start_time": "2022-03-21T21:37:06.635Z"
   },
   {
    "duration": 415,
    "start_time": "2022-03-21T21:37:06.652Z"
   },
   {
    "duration": 21,
    "start_time": "2022-03-21T21:37:07.069Z"
   },
   {
    "duration": 5,
    "start_time": "2022-03-21T21:37:07.094Z"
   },
   {
    "duration": 32,
    "start_time": "2022-03-21T21:37:07.101Z"
   },
   {
    "duration": 16,
    "start_time": "2022-03-21T21:37:07.135Z"
   },
   {
    "duration": 9,
    "start_time": "2022-03-21T21:37:07.152Z"
   },
   {
    "duration": 10,
    "start_time": "2022-03-21T21:37:07.163Z"
   },
   {
    "duration": 6,
    "start_time": "2022-03-21T21:37:07.175Z"
   },
   {
    "duration": 201,
    "start_time": "2022-03-21T21:37:07.182Z"
   },
   {
    "duration": 9,
    "start_time": "2022-03-21T21:37:07.385Z"
   },
   {
    "duration": 8,
    "start_time": "2022-03-21T21:37:07.396Z"
   },
   {
    "duration": 8,
    "start_time": "2022-03-21T21:37:07.406Z"
   },
   {
    "duration": 3,
    "start_time": "2022-03-21T21:37:07.433Z"
   },
   {
    "duration": 76,
    "start_time": "2022-03-21T21:37:07.438Z"
   },
   {
    "duration": 0,
    "start_time": "2022-03-21T21:37:07.517Z"
   },
   {
    "duration": 0,
    "start_time": "2022-03-21T21:37:07.532Z"
   },
   {
    "duration": 0,
    "start_time": "2022-03-21T21:37:07.533Z"
   },
   {
    "duration": 0,
    "start_time": "2022-03-21T21:37:07.534Z"
   },
   {
    "duration": 0,
    "start_time": "2022-03-21T21:37:07.535Z"
   },
   {
    "duration": 0,
    "start_time": "2022-03-21T21:37:07.536Z"
   },
   {
    "duration": 0,
    "start_time": "2022-03-21T21:37:07.537Z"
   },
   {
    "duration": 0,
    "start_time": "2022-03-21T21:37:07.538Z"
   },
   {
    "duration": 0,
    "start_time": "2022-03-21T21:37:07.539Z"
   },
   {
    "duration": 0,
    "start_time": "2022-03-21T21:37:07.540Z"
   },
   {
    "duration": 0,
    "start_time": "2022-03-21T21:37:07.541Z"
   },
   {
    "duration": 0,
    "start_time": "2022-03-21T21:37:07.542Z"
   },
   {
    "duration": 0,
    "start_time": "2022-03-21T21:37:07.543Z"
   },
   {
    "duration": 0,
    "start_time": "2022-03-21T21:37:07.544Z"
   },
   {
    "duration": 0,
    "start_time": "2022-03-21T21:37:07.545Z"
   },
   {
    "duration": 0,
    "start_time": "2022-03-21T21:37:07.547Z"
   },
   {
    "duration": 0,
    "start_time": "2022-03-21T21:37:07.548Z"
   },
   {
    "duration": 0,
    "start_time": "2022-03-21T21:37:07.549Z"
   },
   {
    "duration": 0,
    "start_time": "2022-03-21T21:37:07.550Z"
   },
   {
    "duration": 0,
    "start_time": "2022-03-21T21:37:07.551Z"
   },
   {
    "duration": 0,
    "start_time": "2022-03-21T21:37:07.552Z"
   },
   {
    "duration": 0,
    "start_time": "2022-03-21T21:37:07.553Z"
   },
   {
    "duration": 0,
    "start_time": "2022-03-21T21:37:07.555Z"
   },
   {
    "duration": 0,
    "start_time": "2022-03-21T21:37:07.556Z"
   },
   {
    "duration": 0,
    "start_time": "2022-03-21T21:37:07.557Z"
   },
   {
    "duration": 0,
    "start_time": "2022-03-21T21:37:07.558Z"
   },
   {
    "duration": 0,
    "start_time": "2022-03-21T21:37:07.559Z"
   },
   {
    "duration": 0,
    "start_time": "2022-03-21T21:37:07.560Z"
   },
   {
    "duration": 0,
    "start_time": "2022-03-21T21:37:07.561Z"
   },
   {
    "duration": 0,
    "start_time": "2022-03-21T21:37:07.562Z"
   },
   {
    "duration": 0,
    "start_time": "2022-03-21T21:37:07.563Z"
   },
   {
    "duration": 0,
    "start_time": "2022-03-21T21:37:07.564Z"
   },
   {
    "duration": 0,
    "start_time": "2022-03-21T21:37:07.565Z"
   },
   {
    "duration": 0,
    "start_time": "2022-03-21T21:37:07.566Z"
   },
   {
    "duration": 0,
    "start_time": "2022-03-21T21:37:07.567Z"
   },
   {
    "duration": 0,
    "start_time": "2022-03-21T21:37:07.568Z"
   },
   {
    "duration": 1,
    "start_time": "2022-03-21T21:37:07.569Z"
   },
   {
    "duration": 0,
    "start_time": "2022-03-21T21:37:07.571Z"
   },
   {
    "duration": 0,
    "start_time": "2022-03-21T21:37:07.632Z"
   },
   {
    "duration": 0,
    "start_time": "2022-03-21T21:37:07.633Z"
   },
   {
    "duration": 0,
    "start_time": "2022-03-21T21:37:07.634Z"
   },
   {
    "duration": 0,
    "start_time": "2022-03-21T21:37:07.636Z"
   },
   {
    "duration": 18,
    "start_time": "2022-03-21T21:38:50.765Z"
   },
   {
    "duration": 14,
    "start_time": "2022-03-21T21:43:12.382Z"
   },
   {
    "duration": 15,
    "start_time": "2022-03-21T21:43:39.011Z"
   },
   {
    "duration": 28,
    "start_time": "2022-03-21T21:43:40.381Z"
   },
   {
    "duration": 16,
    "start_time": "2022-03-21T21:45:03.242Z"
   },
   {
    "duration": 4,
    "start_time": "2022-03-21T21:49:34.756Z"
   },
   {
    "duration": 25,
    "start_time": "2022-03-21T21:49:39.646Z"
   },
   {
    "duration": 109,
    "start_time": "2022-03-21T21:49:50.636Z"
   },
   {
    "duration": 7,
    "start_time": "2022-03-21T21:50:02.147Z"
   },
   {
    "duration": 7,
    "start_time": "2022-03-21T21:50:08.817Z"
   },
   {
    "duration": 15,
    "start_time": "2022-03-21T21:51:53.136Z"
   },
   {
    "duration": 14,
    "start_time": "2022-03-21T21:52:55.845Z"
   },
   {
    "duration": 15,
    "start_time": "2022-03-21T21:53:39.355Z"
   },
   {
    "duration": 21,
    "start_time": "2022-03-21T21:54:25.485Z"
   },
   {
    "duration": 137,
    "start_time": "2022-03-21T21:54:33.797Z"
   },
   {
    "duration": 138,
    "start_time": "2022-03-21T21:54:39.794Z"
   },
   {
    "duration": 159,
    "start_time": "2022-03-21T21:54:47.503Z"
   },
   {
    "duration": 14,
    "start_time": "2022-03-21T21:55:21.875Z"
   },
   {
    "duration": 10,
    "start_time": "2022-03-21T21:57:44.237Z"
   },
   {
    "duration": 9,
    "start_time": "2022-03-21T21:57:53.711Z"
   },
   {
    "duration": 11,
    "start_time": "2022-03-21T21:58:24.822Z"
   },
   {
    "duration": 15,
    "start_time": "2022-03-21T21:58:49.629Z"
   },
   {
    "duration": 9,
    "start_time": "2022-03-21T22:00:37.760Z"
   },
   {
    "duration": 15,
    "start_time": "2022-03-21T22:02:15.585Z"
   },
   {
    "duration": 9,
    "start_time": "2022-03-21T22:03:19.366Z"
   },
   {
    "duration": 9,
    "start_time": "2022-03-21T22:03:58.595Z"
   },
   {
    "duration": 10,
    "start_time": "2022-03-21T22:04:30.036Z"
   },
   {
    "duration": 16,
    "start_time": "2022-03-21T22:04:39.762Z"
   },
   {
    "duration": 4,
    "start_time": "2022-03-21T22:09:13.738Z"
   },
   {
    "duration": 343,
    "start_time": "2022-03-21T22:09:13.744Z"
   },
   {
    "duration": 20,
    "start_time": "2022-03-21T22:09:14.088Z"
   },
   {
    "duration": 30,
    "start_time": "2022-03-21T22:09:14.111Z"
   },
   {
    "duration": 89,
    "start_time": "2022-03-21T22:09:14.143Z"
   },
   {
    "duration": 22,
    "start_time": "2022-03-21T22:09:14.234Z"
   },
   {
    "duration": 16,
    "start_time": "2022-03-21T22:09:14.258Z"
   },
   {
    "duration": 419,
    "start_time": "2022-03-21T22:09:14.275Z"
   },
   {
    "duration": 19,
    "start_time": "2022-03-21T22:09:14.696Z"
   },
   {
    "duration": 3,
    "start_time": "2022-03-21T22:09:14.718Z"
   },
   {
    "duration": 12,
    "start_time": "2022-03-21T22:09:14.732Z"
   },
   {
    "duration": 12,
    "start_time": "2022-03-21T22:09:14.745Z"
   },
   {
    "duration": 12,
    "start_time": "2022-03-21T22:09:14.759Z"
   },
   {
    "duration": 13,
    "start_time": "2022-03-21T22:09:14.773Z"
   },
   {
    "duration": 10,
    "start_time": "2022-03-21T22:09:14.788Z"
   },
   {
    "duration": 187,
    "start_time": "2022-03-21T22:09:14.800Z"
   },
   {
    "duration": 9,
    "start_time": "2022-03-21T22:09:14.989Z"
   },
   {
    "duration": 7,
    "start_time": "2022-03-21T22:09:15.000Z"
   },
   {
    "duration": 25,
    "start_time": "2022-03-21T22:09:15.009Z"
   },
   {
    "duration": 9,
    "start_time": "2022-03-21T22:09:15.036Z"
   },
   {
    "duration": 28,
    "start_time": "2022-03-21T22:09:15.047Z"
   },
   {
    "duration": 25,
    "start_time": "2022-03-21T22:09:15.077Z"
   },
   {
    "duration": 0,
    "start_time": "2022-03-21T22:09:15.105Z"
   },
   {
    "duration": 0,
    "start_time": "2022-03-21T22:09:15.106Z"
   },
   {
    "duration": 0,
    "start_time": "2022-03-21T22:09:15.108Z"
   },
   {
    "duration": 0,
    "start_time": "2022-03-21T22:09:15.109Z"
   },
   {
    "duration": 0,
    "start_time": "2022-03-21T22:09:15.110Z"
   },
   {
    "duration": 0,
    "start_time": "2022-03-21T22:09:15.111Z"
   },
   {
    "duration": 0,
    "start_time": "2022-03-21T22:09:15.131Z"
   },
   {
    "duration": 0,
    "start_time": "2022-03-21T22:09:15.132Z"
   },
   {
    "duration": 0,
    "start_time": "2022-03-21T22:09:15.134Z"
   },
   {
    "duration": 0,
    "start_time": "2022-03-21T22:09:15.135Z"
   },
   {
    "duration": 0,
    "start_time": "2022-03-21T22:09:15.136Z"
   },
   {
    "duration": 0,
    "start_time": "2022-03-21T22:09:15.137Z"
   },
   {
    "duration": 0,
    "start_time": "2022-03-21T22:09:15.138Z"
   },
   {
    "duration": 0,
    "start_time": "2022-03-21T22:09:15.139Z"
   },
   {
    "duration": 0,
    "start_time": "2022-03-21T22:09:15.140Z"
   },
   {
    "duration": 0,
    "start_time": "2022-03-21T22:09:15.141Z"
   },
   {
    "duration": 0,
    "start_time": "2022-03-21T22:09:15.142Z"
   },
   {
    "duration": 0,
    "start_time": "2022-03-21T22:09:15.144Z"
   },
   {
    "duration": 0,
    "start_time": "2022-03-21T22:09:15.145Z"
   },
   {
    "duration": 0,
    "start_time": "2022-03-21T22:09:15.146Z"
   },
   {
    "duration": 0,
    "start_time": "2022-03-21T22:09:15.147Z"
   },
   {
    "duration": 0,
    "start_time": "2022-03-21T22:09:15.148Z"
   },
   {
    "duration": 0,
    "start_time": "2022-03-21T22:09:15.149Z"
   },
   {
    "duration": 0,
    "start_time": "2022-03-21T22:09:15.150Z"
   },
   {
    "duration": 0,
    "start_time": "2022-03-21T22:09:15.151Z"
   },
   {
    "duration": 0,
    "start_time": "2022-03-21T22:09:15.152Z"
   },
   {
    "duration": 0,
    "start_time": "2022-03-21T22:09:15.153Z"
   },
   {
    "duration": 0,
    "start_time": "2022-03-21T22:09:15.154Z"
   },
   {
    "duration": 0,
    "start_time": "2022-03-21T22:09:15.155Z"
   },
   {
    "duration": 0,
    "start_time": "2022-03-21T22:09:15.156Z"
   },
   {
    "duration": 0,
    "start_time": "2022-03-21T22:09:15.157Z"
   },
   {
    "duration": 0,
    "start_time": "2022-03-21T22:09:15.158Z"
   },
   {
    "duration": 0,
    "start_time": "2022-03-21T22:09:15.160Z"
   },
   {
    "duration": 0,
    "start_time": "2022-03-21T22:09:15.161Z"
   },
   {
    "duration": 0,
    "start_time": "2022-03-21T22:09:15.162Z"
   },
   {
    "duration": 0,
    "start_time": "2022-03-21T22:09:15.164Z"
   },
   {
    "duration": 0,
    "start_time": "2022-03-21T22:09:15.165Z"
   },
   {
    "duration": 0,
    "start_time": "2022-03-21T22:09:15.167Z"
   },
   {
    "duration": 0,
    "start_time": "2022-03-21T22:09:15.168Z"
   },
   {
    "duration": 0,
    "start_time": "2022-03-21T22:09:15.233Z"
   },
   {
    "duration": 0,
    "start_time": "2022-03-21T22:09:15.234Z"
   },
   {
    "duration": 0,
    "start_time": "2022-03-21T22:09:15.236Z"
   },
   {
    "duration": 5,
    "start_time": "2022-03-21T22:10:50.819Z"
   },
   {
    "duration": 358,
    "start_time": "2022-03-21T22:10:50.826Z"
   },
   {
    "duration": 20,
    "start_time": "2022-03-21T22:10:51.186Z"
   },
   {
    "duration": 30,
    "start_time": "2022-03-21T22:10:51.208Z"
   },
   {
    "duration": 86,
    "start_time": "2022-03-21T22:10:51.241Z"
   },
   {
    "duration": 21,
    "start_time": "2022-03-21T22:10:51.329Z"
   },
   {
    "duration": 16,
    "start_time": "2022-03-21T22:10:51.352Z"
   },
   {
    "duration": 410,
    "start_time": "2022-03-21T22:10:51.369Z"
   },
   {
    "duration": 19,
    "start_time": "2022-03-21T22:10:51.781Z"
   },
   {
    "duration": 3,
    "start_time": "2022-03-21T22:10:51.802Z"
   },
   {
    "duration": 30,
    "start_time": "2022-03-21T22:10:51.807Z"
   },
   {
    "duration": 17,
    "start_time": "2022-03-21T22:10:51.839Z"
   },
   {
    "duration": 6,
    "start_time": "2022-03-21T22:10:51.858Z"
   },
   {
    "duration": 10,
    "start_time": "2022-03-21T22:10:51.868Z"
   },
   {
    "duration": 15,
    "start_time": "2022-03-21T22:10:51.880Z"
   },
   {
    "duration": 187,
    "start_time": "2022-03-21T22:10:51.896Z"
   },
   {
    "duration": 9,
    "start_time": "2022-03-21T22:10:52.084Z"
   },
   {
    "duration": 8,
    "start_time": "2022-03-21T22:10:52.095Z"
   },
   {
    "duration": 8,
    "start_time": "2022-03-21T22:10:52.105Z"
   },
   {
    "duration": 4,
    "start_time": "2022-03-21T22:10:52.132Z"
   },
   {
    "duration": 23,
    "start_time": "2022-03-21T22:10:52.138Z"
   },
   {
    "duration": 21,
    "start_time": "2022-03-21T22:10:52.162Z"
   },
   {
    "duration": 0,
    "start_time": "2022-03-21T22:10:52.185Z"
   },
   {
    "duration": 1,
    "start_time": "2022-03-21T22:10:52.186Z"
   },
   {
    "duration": 0,
    "start_time": "2022-03-21T22:10:52.188Z"
   },
   {
    "duration": 0,
    "start_time": "2022-03-21T22:10:52.189Z"
   },
   {
    "duration": 0,
    "start_time": "2022-03-21T22:10:52.190Z"
   },
   {
    "duration": 0,
    "start_time": "2022-03-21T22:10:52.191Z"
   },
   {
    "duration": 0,
    "start_time": "2022-03-21T22:10:52.192Z"
   },
   {
    "duration": 0,
    "start_time": "2022-03-21T22:10:52.193Z"
   },
   {
    "duration": 0,
    "start_time": "2022-03-21T22:10:52.194Z"
   },
   {
    "duration": 0,
    "start_time": "2022-03-21T22:10:52.195Z"
   },
   {
    "duration": 0,
    "start_time": "2022-03-21T22:10:52.196Z"
   },
   {
    "duration": 0,
    "start_time": "2022-03-21T22:10:52.197Z"
   },
   {
    "duration": 0,
    "start_time": "2022-03-21T22:10:52.198Z"
   },
   {
    "duration": 0,
    "start_time": "2022-03-21T22:10:52.199Z"
   },
   {
    "duration": 0,
    "start_time": "2022-03-21T22:10:52.232Z"
   },
   {
    "duration": 0,
    "start_time": "2022-03-21T22:10:52.233Z"
   },
   {
    "duration": 0,
    "start_time": "2022-03-21T22:10:52.234Z"
   },
   {
    "duration": 0,
    "start_time": "2022-03-21T22:10:52.235Z"
   },
   {
    "duration": 0,
    "start_time": "2022-03-21T22:10:52.237Z"
   },
   {
    "duration": 0,
    "start_time": "2022-03-21T22:10:52.238Z"
   },
   {
    "duration": 0,
    "start_time": "2022-03-21T22:10:52.239Z"
   },
   {
    "duration": 0,
    "start_time": "2022-03-21T22:10:52.240Z"
   },
   {
    "duration": 0,
    "start_time": "2022-03-21T22:10:52.241Z"
   },
   {
    "duration": 0,
    "start_time": "2022-03-21T22:10:52.242Z"
   },
   {
    "duration": 0,
    "start_time": "2022-03-21T22:10:52.244Z"
   },
   {
    "duration": 0,
    "start_time": "2022-03-21T22:10:52.245Z"
   },
   {
    "duration": 0,
    "start_time": "2022-03-21T22:10:52.246Z"
   },
   {
    "duration": 0,
    "start_time": "2022-03-21T22:10:52.247Z"
   },
   {
    "duration": 0,
    "start_time": "2022-03-21T22:10:52.248Z"
   },
   {
    "duration": 0,
    "start_time": "2022-03-21T22:10:52.249Z"
   },
   {
    "duration": 0,
    "start_time": "2022-03-21T22:10:52.250Z"
   },
   {
    "duration": 0,
    "start_time": "2022-03-21T22:10:52.251Z"
   },
   {
    "duration": 0,
    "start_time": "2022-03-21T22:10:52.252Z"
   },
   {
    "duration": 0,
    "start_time": "2022-03-21T22:10:52.253Z"
   },
   {
    "duration": 0,
    "start_time": "2022-03-21T22:10:52.254Z"
   },
   {
    "duration": 0,
    "start_time": "2022-03-21T22:10:52.255Z"
   },
   {
    "duration": 0,
    "start_time": "2022-03-21T22:10:52.256Z"
   },
   {
    "duration": 0,
    "start_time": "2022-03-21T22:10:52.257Z"
   },
   {
    "duration": 0,
    "start_time": "2022-03-21T22:10:52.258Z"
   },
   {
    "duration": 0,
    "start_time": "2022-03-21T22:10:52.259Z"
   },
   {
    "duration": 0,
    "start_time": "2022-03-21T22:10:52.260Z"
   },
   {
    "duration": 0,
    "start_time": "2022-03-21T22:10:52.261Z"
   },
   {
    "duration": 25,
    "start_time": "2022-03-21T22:20:41.623Z"
   },
   {
    "duration": 3,
    "start_time": "2022-03-21T22:21:20.042Z"
   },
   {
    "duration": 4,
    "start_time": "2022-03-21T22:23:51.383Z"
   },
   {
    "duration": 323,
    "start_time": "2022-03-21T22:23:51.389Z"
   },
   {
    "duration": 20,
    "start_time": "2022-03-21T22:23:51.714Z"
   },
   {
    "duration": 23,
    "start_time": "2022-03-21T22:23:51.736Z"
   },
   {
    "duration": 88,
    "start_time": "2022-03-21T22:23:51.761Z"
   },
   {
    "duration": 19,
    "start_time": "2022-03-21T22:23:51.851Z"
   },
   {
    "duration": 15,
    "start_time": "2022-03-21T22:23:51.872Z"
   },
   {
    "duration": 401,
    "start_time": "2022-03-21T22:23:51.889Z"
   },
   {
    "duration": 18,
    "start_time": "2022-03-21T22:23:52.292Z"
   },
   {
    "duration": 3,
    "start_time": "2022-03-21T22:23:52.312Z"
   },
   {
    "duration": 21,
    "start_time": "2022-03-21T22:23:52.317Z"
   },
   {
    "duration": 12,
    "start_time": "2022-03-21T22:23:52.340Z"
   },
   {
    "duration": 8,
    "start_time": "2022-03-21T22:23:52.354Z"
   },
   {
    "duration": 10,
    "start_time": "2022-03-21T22:23:52.365Z"
   },
   {
    "duration": 5,
    "start_time": "2022-03-21T22:23:52.376Z"
   },
   {
    "duration": 197,
    "start_time": "2022-03-21T22:23:52.383Z"
   },
   {
    "duration": 9,
    "start_time": "2022-03-21T22:23:52.582Z"
   },
   {
    "duration": 7,
    "start_time": "2022-03-21T22:23:52.593Z"
   },
   {
    "duration": 7,
    "start_time": "2022-03-21T22:23:52.602Z"
   },
   {
    "duration": 3,
    "start_time": "2022-03-21T22:23:52.611Z"
   },
   {
    "duration": 21,
    "start_time": "2022-03-21T22:23:52.632Z"
   },
   {
    "duration": 25,
    "start_time": "2022-03-21T22:23:52.654Z"
   },
   {
    "duration": 4,
    "start_time": "2022-03-21T22:23:52.681Z"
   },
   {
    "duration": 196,
    "start_time": "2022-03-21T22:23:52.686Z"
   },
   {
    "duration": 17,
    "start_time": "2022-03-21T22:23:52.884Z"
   },
   {
    "duration": 30,
    "start_time": "2022-03-21T22:23:52.903Z"
   },
   {
    "duration": 18,
    "start_time": "2022-03-21T22:23:52.935Z"
   },
   {
    "duration": 12,
    "start_time": "2022-03-21T22:23:52.955Z"
   },
   {
    "duration": 6,
    "start_time": "2022-03-21T22:23:52.969Z"
   },
   {
    "duration": 11,
    "start_time": "2022-03-21T22:23:52.977Z"
   },
   {
    "duration": 10,
    "start_time": "2022-03-21T22:23:52.989Z"
   },
   {
    "duration": 54,
    "start_time": "2022-03-21T22:23:53.000Z"
   },
   {
    "duration": 15,
    "start_time": "2022-03-21T22:23:53.056Z"
   },
   {
    "duration": 10,
    "start_time": "2022-03-21T22:23:53.073Z"
   },
   {
    "duration": 8,
    "start_time": "2022-03-21T22:23:53.085Z"
   },
   {
    "duration": 13,
    "start_time": "2022-03-21T22:23:53.131Z"
   },
   {
    "duration": 20,
    "start_time": "2022-03-21T22:23:53.146Z"
   },
   {
    "duration": 5,
    "start_time": "2022-03-21T22:23:53.168Z"
   },
   {
    "duration": 6,
    "start_time": "2022-03-21T22:23:53.175Z"
   },
   {
    "duration": 13,
    "start_time": "2022-03-21T22:23:53.182Z"
   },
   {
    "duration": 41,
    "start_time": "2022-03-21T22:23:53.199Z"
   },
   {
    "duration": 5,
    "start_time": "2022-03-21T22:23:53.242Z"
   },
   {
    "duration": 13,
    "start_time": "2022-03-21T22:23:53.249Z"
   },
   {
    "duration": 627,
    "start_time": "2022-03-21T22:23:53.263Z"
   },
   {
    "duration": 562,
    "start_time": "2022-03-21T22:23:53.892Z"
   },
   {
    "duration": 3,
    "start_time": "2022-03-21T22:23:54.456Z"
   },
   {
    "duration": 39,
    "start_time": "2022-03-21T22:23:54.460Z"
   },
   {
    "duration": 19,
    "start_time": "2022-03-21T22:23:54.501Z"
   },
   {
    "duration": 24,
    "start_time": "2022-03-21T22:23:54.522Z"
   },
   {
    "duration": 7,
    "start_time": "2022-03-21T22:23:54.548Z"
   },
   {
    "duration": 18,
    "start_time": "2022-03-21T22:23:54.556Z"
   },
   {
    "duration": 35,
    "start_time": "2022-03-21T22:23:54.576Z"
   },
   {
    "duration": 14,
    "start_time": "2022-03-21T22:23:54.613Z"
   },
   {
    "duration": 160,
    "start_time": "2022-03-21T22:23:54.628Z"
   },
   {
    "duration": 10,
    "start_time": "2022-03-21T22:23:54.789Z"
   },
   {
    "duration": 22,
    "start_time": "2022-03-21T22:23:54.801Z"
   },
   {
    "duration": 3,
    "start_time": "2022-03-21T22:23:54.831Z"
   },
   {
    "duration": 5,
    "start_time": "2022-03-21T22:23:54.836Z"
   },
   {
    "duration": 13,
    "start_time": "2022-03-21T22:23:54.843Z"
   },
   {
    "duration": 7,
    "start_time": "2022-03-21T22:23:54.858Z"
   },
   {
    "duration": 27,
    "start_time": "2022-03-21T22:23:54.866Z"
   },
   {
    "duration": 3,
    "start_time": "2022-03-21T22:23:54.894Z"
   },
   {
    "duration": 2935,
    "start_time": "2022-03-21T22:23:54.898Z"
   },
   {
    "duration": 9387,
    "start_time": "2022-03-21T22:23:57.834Z"
   },
   {
    "duration": 544,
    "start_time": "2022-03-21T22:26:19.524Z"
   },
   {
    "duration": 551,
    "start_time": "2022-03-21T22:26:28.765Z"
   },
   {
    "duration": 21,
    "start_time": "2022-03-21T22:27:25.385Z"
   },
   {
    "duration": 14,
    "start_time": "2022-03-21T22:29:22.111Z"
   },
   {
    "duration": 27,
    "start_time": "2022-03-21T22:29:33.593Z"
   },
   {
    "duration": 4,
    "start_time": "2022-03-21T22:30:52.718Z"
   },
   {
    "duration": 350,
    "start_time": "2022-03-21T22:30:52.724Z"
   },
   {
    "duration": 20,
    "start_time": "2022-03-21T22:30:53.077Z"
   },
   {
    "duration": 145,
    "start_time": "2022-03-21T22:30:53.099Z"
   },
   {
    "duration": 81,
    "start_time": "2022-03-21T22:30:53.246Z"
   },
   {
    "duration": 21,
    "start_time": "2022-03-21T22:30:53.329Z"
   },
   {
    "duration": 19,
    "start_time": "2022-03-21T22:30:53.351Z"
   },
   {
    "duration": 404,
    "start_time": "2022-03-21T22:30:53.372Z"
   },
   {
    "duration": 19,
    "start_time": "2022-03-21T22:30:53.778Z"
   },
   {
    "duration": 4,
    "start_time": "2022-03-21T22:30:53.799Z"
   },
   {
    "duration": 26,
    "start_time": "2022-03-21T22:30:53.805Z"
   },
   {
    "duration": 11,
    "start_time": "2022-03-21T22:30:53.833Z"
   },
   {
    "duration": 7,
    "start_time": "2022-03-21T22:30:53.845Z"
   },
   {
    "duration": 10,
    "start_time": "2022-03-21T22:30:53.854Z"
   },
   {
    "duration": 5,
    "start_time": "2022-03-21T22:30:53.866Z"
   },
   {
    "duration": 196,
    "start_time": "2022-03-21T22:30:53.873Z"
   },
   {
    "duration": 9,
    "start_time": "2022-03-21T22:30:54.070Z"
   },
   {
    "duration": 7,
    "start_time": "2022-03-21T22:30:54.081Z"
   },
   {
    "duration": 9,
    "start_time": "2022-03-21T22:30:54.090Z"
   },
   {
    "duration": 2,
    "start_time": "2022-03-21T22:30:54.101Z"
   },
   {
    "duration": 43,
    "start_time": "2022-03-21T22:30:54.105Z"
   },
   {
    "duration": 17,
    "start_time": "2022-03-21T22:30:54.150Z"
   },
   {
    "duration": 3,
    "start_time": "2022-03-21T22:30:54.169Z"
   },
   {
    "duration": 192,
    "start_time": "2022-03-21T22:30:54.174Z"
   },
   {
    "duration": 19,
    "start_time": "2022-03-21T22:30:54.368Z"
   },
   {
    "duration": 22,
    "start_time": "2022-03-21T22:30:54.389Z"
   },
   {
    "duration": 33,
    "start_time": "2022-03-21T22:30:54.413Z"
   },
   {
    "duration": 17,
    "start_time": "2022-03-21T22:30:54.447Z"
   },
   {
    "duration": 7,
    "start_time": "2022-03-21T22:30:54.468Z"
   },
   {
    "duration": 12,
    "start_time": "2022-03-21T22:30:54.477Z"
   },
   {
    "duration": 11,
    "start_time": "2022-03-21T22:30:54.490Z"
   },
   {
    "duration": 23,
    "start_time": "2022-03-21T22:30:54.532Z"
   },
   {
    "duration": 16,
    "start_time": "2022-03-21T22:30:54.557Z"
   },
   {
    "duration": 8,
    "start_time": "2022-03-21T22:30:54.575Z"
   },
   {
    "duration": 8,
    "start_time": "2022-03-21T22:30:54.585Z"
   },
   {
    "duration": 42,
    "start_time": "2022-03-21T22:30:54.595Z"
   },
   {
    "duration": 21,
    "start_time": "2022-03-21T22:30:54.639Z"
   },
   {
    "duration": 5,
    "start_time": "2022-03-21T22:30:54.662Z"
   },
   {
    "duration": 8,
    "start_time": "2022-03-21T22:30:54.668Z"
   },
   {
    "duration": 9,
    "start_time": "2022-03-21T22:30:54.677Z"
   },
   {
    "duration": 17,
    "start_time": "2022-03-21T22:30:54.687Z"
   },
   {
    "duration": 27,
    "start_time": "2022-03-21T22:30:54.706Z"
   },
   {
    "duration": 15,
    "start_time": "2022-03-21T22:30:54.735Z"
   },
   {
    "duration": 567,
    "start_time": "2022-03-21T22:30:54.751Z"
   },
   {
    "duration": 574,
    "start_time": "2022-03-21T22:30:55.320Z"
   },
   {
    "duration": 3,
    "start_time": "2022-03-21T22:30:55.895Z"
   },
   {
    "duration": 12,
    "start_time": "2022-03-21T22:30:55.900Z"
   },
   {
    "duration": 22,
    "start_time": "2022-03-21T22:30:55.914Z"
   },
   {
    "duration": 7,
    "start_time": "2022-03-21T22:30:55.938Z"
   },
   {
    "duration": 8,
    "start_time": "2022-03-21T22:30:55.947Z"
   },
   {
    "duration": 9,
    "start_time": "2022-03-21T22:30:55.957Z"
   },
   {
    "duration": 16,
    "start_time": "2022-03-21T22:30:55.968Z"
   },
   {
    "duration": 6,
    "start_time": "2022-03-21T22:30:55.986Z"
   },
   {
    "duration": 168,
    "start_time": "2022-03-21T22:30:55.994Z"
   },
   {
    "duration": 10,
    "start_time": "2022-03-21T22:30:56.163Z"
   },
   {
    "duration": 14,
    "start_time": "2022-03-21T22:30:56.175Z"
   },
   {
    "duration": 4,
    "start_time": "2022-03-21T22:30:56.191Z"
   },
   {
    "duration": 17,
    "start_time": "2022-03-21T22:30:56.196Z"
   },
   {
    "duration": 17,
    "start_time": "2022-03-21T22:30:56.215Z"
   },
   {
    "duration": 7,
    "start_time": "2022-03-21T22:30:56.234Z"
   },
   {
    "duration": 27,
    "start_time": "2022-03-21T22:30:56.242Z"
   },
   {
    "duration": 3,
    "start_time": "2022-03-21T22:30:56.271Z"
   },
   {
    "duration": 3056,
    "start_time": "2022-03-21T22:30:56.276Z"
   },
   {
    "duration": 9611,
    "start_time": "2022-03-21T22:30:59.334Z"
   },
   {
    "duration": 7,
    "start_time": "2022-03-21T22:33:53.799Z"
   },
   {
    "duration": 71413,
    "start_time": "2022-03-21T22:39:54.384Z"
   },
   {
    "duration": 3,
    "start_time": "2022-03-21T22:46:50.824Z"
   },
   {
    "duration": 3,
    "start_time": "2022-03-21T22:46:51.218Z"
   },
   {
    "duration": 6,
    "start_time": "2022-03-21T22:46:53.458Z"
   },
   {
    "duration": 3,
    "start_time": "2022-03-21T22:46:55.847Z"
   },
   {
    "duration": 17,
    "start_time": "2022-03-21T22:46:58.677Z"
   },
   {
    "duration": 3,
    "start_time": "2022-03-21T22:46:59.187Z"
   },
   {
    "duration": 2471,
    "start_time": "2022-03-21T22:47:00.167Z"
   },
   {
    "duration": 9691,
    "start_time": "2022-03-21T22:47:06.327Z"
   },
   {
    "duration": 29824,
    "start_time": "2022-03-21T22:47:16.021Z"
   },
   {
    "duration": 4,
    "start_time": "2022-03-21T22:48:02.656Z"
   },
   {
    "duration": 351,
    "start_time": "2022-03-21T22:48:02.662Z"
   },
   {
    "duration": 28,
    "start_time": "2022-03-21T22:48:03.015Z"
   },
   {
    "duration": 24,
    "start_time": "2022-03-21T22:48:03.046Z"
   },
   {
    "duration": 89,
    "start_time": "2022-03-21T22:48:03.072Z"
   },
   {
    "duration": 22,
    "start_time": "2022-03-21T22:48:03.163Z"
   },
   {
    "duration": 21,
    "start_time": "2022-03-21T22:48:03.187Z"
   },
   {
    "duration": 407,
    "start_time": "2022-03-21T22:48:03.209Z"
   },
   {
    "duration": 28,
    "start_time": "2022-03-21T22:48:03.617Z"
   },
   {
    "duration": 4,
    "start_time": "2022-03-21T22:48:03.648Z"
   },
   {
    "duration": 12,
    "start_time": "2022-03-21T22:48:03.653Z"
   },
   {
    "duration": 13,
    "start_time": "2022-03-21T22:48:03.667Z"
   },
   {
    "duration": 6,
    "start_time": "2022-03-21T22:48:03.682Z"
   },
   {
    "duration": 12,
    "start_time": "2022-03-21T22:48:03.689Z"
   },
   {
    "duration": 3,
    "start_time": "2022-03-21T22:48:03.703Z"
   },
   {
    "duration": 180,
    "start_time": "2022-03-21T22:48:03.732Z"
   },
   {
    "duration": 18,
    "start_time": "2022-03-21T22:48:03.914Z"
   },
   {
    "duration": 5,
    "start_time": "2022-03-21T22:48:03.934Z"
   },
   {
    "duration": 10,
    "start_time": "2022-03-21T22:48:03.941Z"
   },
   {
    "duration": 4,
    "start_time": "2022-03-21T22:48:03.953Z"
   },
   {
    "duration": 25,
    "start_time": "2022-03-21T22:48:03.959Z"
   },
   {
    "duration": 18,
    "start_time": "2022-03-21T22:48:03.985Z"
   },
   {
    "duration": 28,
    "start_time": "2022-03-21T22:48:04.005Z"
   },
   {
    "duration": 179,
    "start_time": "2022-03-21T22:48:04.034Z"
   },
   {
    "duration": 27,
    "start_time": "2022-03-21T22:48:04.214Z"
   },
   {
    "duration": 19,
    "start_time": "2022-03-21T22:48:04.243Z"
   },
   {
    "duration": 26,
    "start_time": "2022-03-21T22:48:04.264Z"
   },
   {
    "duration": 15,
    "start_time": "2022-03-21T22:48:04.294Z"
   },
   {
    "duration": 23,
    "start_time": "2022-03-21T22:48:04.311Z"
   },
   {
    "duration": 11,
    "start_time": "2022-03-21T22:48:04.335Z"
   },
   {
    "duration": 10,
    "start_time": "2022-03-21T22:48:04.348Z"
   },
   {
    "duration": 23,
    "start_time": "2022-03-21T22:48:04.360Z"
   },
   {
    "duration": 51,
    "start_time": "2022-03-21T22:48:04.385Z"
   },
   {
    "duration": 8,
    "start_time": "2022-03-21T22:48:04.438Z"
   },
   {
    "duration": 7,
    "start_time": "2022-03-21T22:48:04.448Z"
   },
   {
    "duration": 17,
    "start_time": "2022-03-21T22:48:04.457Z"
   },
   {
    "duration": 20,
    "start_time": "2022-03-21T22:48:04.476Z"
   },
   {
    "duration": 6,
    "start_time": "2022-03-21T22:48:04.497Z"
   },
   {
    "duration": 4,
    "start_time": "2022-03-21T22:48:04.532Z"
   },
   {
    "duration": 8,
    "start_time": "2022-03-21T22:48:04.538Z"
   },
   {
    "duration": 23,
    "start_time": "2022-03-21T22:48:04.547Z"
   },
   {
    "duration": 6,
    "start_time": "2022-03-21T22:48:04.572Z"
   },
   {
    "duration": 13,
    "start_time": "2022-03-21T22:48:04.580Z"
   },
   {
    "duration": 698,
    "start_time": "2022-03-21T22:48:04.595Z"
   },
   {
    "duration": 588,
    "start_time": "2022-03-21T22:48:05.295Z"
   },
   {
    "duration": 3,
    "start_time": "2022-03-21T22:48:05.884Z"
   },
   {
    "duration": 9,
    "start_time": "2022-03-21T22:48:05.889Z"
   },
   {
    "duration": 19,
    "start_time": "2022-03-21T22:48:05.900Z"
   },
   {
    "duration": 4,
    "start_time": "2022-03-21T22:48:05.932Z"
   },
   {
    "duration": 7,
    "start_time": "2022-03-21T22:48:05.938Z"
   },
   {
    "duration": 5,
    "start_time": "2022-03-21T22:48:05.947Z"
   },
   {
    "duration": 22,
    "start_time": "2022-03-21T22:48:05.954Z"
   },
   {
    "duration": 7,
    "start_time": "2022-03-21T22:48:05.979Z"
   },
   {
    "duration": 177,
    "start_time": "2022-03-21T22:48:05.988Z"
   },
   {
    "duration": 10,
    "start_time": "2022-03-21T22:48:06.166Z"
   },
   {
    "duration": 15,
    "start_time": "2022-03-21T22:48:06.177Z"
   },
   {
    "duration": 3,
    "start_time": "2022-03-21T22:48:06.194Z"
   },
   {
    "duration": 10,
    "start_time": "2022-03-21T22:48:06.199Z"
   },
   {
    "duration": 23,
    "start_time": "2022-03-21T22:48:06.211Z"
   },
   {
    "duration": 18,
    "start_time": "2022-03-21T22:48:06.236Z"
   },
   {
    "duration": 21,
    "start_time": "2022-03-21T22:48:06.256Z"
   },
   {
    "duration": 3,
    "start_time": "2022-03-21T22:48:06.279Z"
   },
   {
    "duration": 2655,
    "start_time": "2022-03-21T22:48:06.283Z"
   },
   {
    "duration": 9540,
    "start_time": "2022-03-21T22:48:08.941Z"
   },
   {
    "duration": 29979,
    "start_time": "2022-03-21T22:48:18.483Z"
   },
   {
    "duration": 7,
    "start_time": "2022-03-21T23:10:23.681Z"
   },
   {
    "duration": 294,
    "start_time": "2022-03-21T23:10:23.733Z"
   },
   {
    "duration": 26,
    "start_time": "2022-03-21T23:10:24.050Z"
   },
   {
    "duration": 17,
    "start_time": "2022-03-21T23:10:24.135Z"
   },
   {
    "duration": 92,
    "start_time": "2022-03-21T23:10:24.196Z"
   },
   {
    "duration": 21,
    "start_time": "2022-03-21T23:10:24.380Z"
   },
   {
    "duration": 13,
    "start_time": "2022-03-21T23:10:24.586Z"
   },
   {
    "duration": 388,
    "start_time": "2022-03-21T23:10:25.507Z"
   },
   {
    "duration": 18,
    "start_time": "2022-03-21T23:10:26.776Z"
   },
   {
    "duration": 7,
    "start_time": "2022-03-21T23:10:26.801Z"
   },
   {
    "duration": 8,
    "start_time": "2022-03-21T23:10:27.107Z"
   },
   {
    "duration": 14,
    "start_time": "2022-03-21T23:10:27.148Z"
   },
   {
    "duration": 6,
    "start_time": "2022-03-21T23:10:27.186Z"
   },
   {
    "duration": 10,
    "start_time": "2022-03-21T23:10:27.284Z"
   },
   {
    "duration": 3,
    "start_time": "2022-03-21T23:10:27.331Z"
   },
   {
    "duration": 186,
    "start_time": "2022-03-21T23:10:27.357Z"
   },
   {
    "duration": 9,
    "start_time": "2022-03-21T23:10:27.916Z"
   },
   {
    "duration": 5,
    "start_time": "2022-03-21T23:10:27.951Z"
   },
   {
    "duration": 10,
    "start_time": "2022-03-21T23:10:27.965Z"
   },
   {
    "duration": 6,
    "start_time": "2022-03-21T23:10:27.990Z"
   },
   {
    "duration": 21,
    "start_time": "2022-03-21T23:10:28.035Z"
   },
   {
    "duration": 17,
    "start_time": "2022-03-21T23:10:28.065Z"
   },
   {
    "duration": 11,
    "start_time": "2022-03-21T23:10:28.100Z"
   },
   {
    "duration": 172,
    "start_time": "2022-03-21T23:10:28.137Z"
   },
   {
    "duration": 18,
    "start_time": "2022-03-21T23:10:28.492Z"
   },
   {
    "duration": 22,
    "start_time": "2022-03-21T23:10:28.535Z"
   },
   {
    "duration": 19,
    "start_time": "2022-03-21T23:10:28.569Z"
   },
   {
    "duration": 35,
    "start_time": "2022-03-21T23:10:28.602Z"
   },
   {
    "duration": 10,
    "start_time": "2022-03-21T23:10:28.643Z"
   },
   {
    "duration": 11,
    "start_time": "2022-03-21T23:10:28.679Z"
   },
   {
    "duration": 11,
    "start_time": "2022-03-21T23:10:28.739Z"
   },
   {
    "duration": 23,
    "start_time": "2022-03-21T23:10:28.758Z"
   },
   {
    "duration": 14,
    "start_time": "2022-03-21T23:10:28.958Z"
   },
   {
    "duration": 11,
    "start_time": "2022-03-21T23:10:28.994Z"
   },
   {
    "duration": 11,
    "start_time": "2022-03-21T23:10:29.050Z"
   },
   {
    "duration": 13,
    "start_time": "2022-03-21T23:10:29.083Z"
   },
   {
    "duration": 21,
    "start_time": "2022-03-21T23:10:29.134Z"
   },
   {
    "duration": 3,
    "start_time": "2022-03-21T23:10:29.168Z"
   },
   {
    "duration": 4,
    "start_time": "2022-03-21T23:10:29.189Z"
   },
   {
    "duration": 4,
    "start_time": "2022-03-21T23:10:29.237Z"
   },
   {
    "duration": 12,
    "start_time": "2022-03-21T23:10:29.268Z"
   },
   {
    "duration": 4,
    "start_time": "2022-03-21T23:10:29.300Z"
   },
   {
    "duration": 11,
    "start_time": "2022-03-21T23:10:29.335Z"
   },
   {
    "duration": 557,
    "start_time": "2022-03-21T23:10:29.356Z"
   },
   {
    "duration": 688,
    "start_time": "2022-03-21T23:10:29.934Z"
   },
   {
    "duration": 3,
    "start_time": "2022-03-21T23:10:30.651Z"
   },
   {
    "duration": 10,
    "start_time": "2022-03-21T23:10:30.667Z"
   },
   {
    "duration": 26,
    "start_time": "2022-03-21T23:10:30.693Z"
   },
   {
    "duration": 13,
    "start_time": "2022-03-21T23:10:30.734Z"
   },
   {
    "duration": 19,
    "start_time": "2022-03-21T23:10:30.774Z"
   },
   {
    "duration": 10,
    "start_time": "2022-03-21T23:10:30.816Z"
   },
   {
    "duration": 15,
    "start_time": "2022-03-21T23:10:30.847Z"
   },
   {
    "duration": 3,
    "start_time": "2022-03-21T23:10:31.433Z"
   },
   {
    "duration": 153,
    "start_time": "2022-03-21T23:10:32.026Z"
   },
   {
    "duration": 13,
    "start_time": "2022-03-21T23:10:32.185Z"
   },
   {
    "duration": 33,
    "start_time": "2022-03-21T23:10:32.205Z"
   },
   {
    "duration": 5,
    "start_time": "2022-03-21T23:10:32.259Z"
   },
   {
    "duration": 5,
    "start_time": "2022-03-21T23:10:32.275Z"
   },
   {
    "duration": 9,
    "start_time": "2022-03-21T23:10:32.292Z"
   },
   {
    "duration": 8,
    "start_time": "2022-03-21T23:10:32.335Z"
   },
   {
    "duration": 18,
    "start_time": "2022-03-21T23:10:32.367Z"
   },
   {
    "duration": 12,
    "start_time": "2022-03-21T23:10:32.392Z"
   },
   {
    "duration": 2860,
    "start_time": "2022-03-21T23:10:32.573Z"
   },
   {
    "duration": 9209,
    "start_time": "2022-03-21T23:10:35.447Z"
   },
   {
    "duration": 29356,
    "start_time": "2022-03-21T23:10:44.683Z"
   },
   {
    "duration": 4,
    "start_time": "2022-03-21T23:24:15.448Z"
   },
   {
    "duration": 322,
    "start_time": "2022-03-21T23:24:15.455Z"
   },
   {
    "duration": 21,
    "start_time": "2022-03-21T23:24:15.779Z"
   },
   {
    "duration": 32,
    "start_time": "2022-03-21T23:24:15.802Z"
   },
   {
    "duration": 77,
    "start_time": "2022-03-21T23:24:15.836Z"
   },
   {
    "duration": 25,
    "start_time": "2022-03-21T23:24:15.915Z"
   },
   {
    "duration": 14,
    "start_time": "2022-03-21T23:24:15.942Z"
   },
   {
    "duration": 398,
    "start_time": "2022-03-21T23:24:15.958Z"
   },
   {
    "duration": 20,
    "start_time": "2022-03-21T23:24:16.358Z"
   },
   {
    "duration": 4,
    "start_time": "2022-03-21T23:24:16.380Z"
   },
   {
    "duration": 12,
    "start_time": "2022-03-21T23:24:16.386Z"
   },
   {
    "duration": 35,
    "start_time": "2022-03-21T23:24:16.400Z"
   },
   {
    "duration": 6,
    "start_time": "2022-03-21T23:24:16.437Z"
   },
   {
    "duration": 10,
    "start_time": "2022-03-21T23:24:16.447Z"
   },
   {
    "duration": 6,
    "start_time": "2022-03-21T23:24:16.459Z"
   },
   {
    "duration": 196,
    "start_time": "2022-03-21T23:24:16.467Z"
   },
   {
    "duration": 9,
    "start_time": "2022-03-21T23:24:16.665Z"
   },
   {
    "duration": 8,
    "start_time": "2022-03-21T23:24:16.676Z"
   },
   {
    "duration": 8,
    "start_time": "2022-03-21T23:24:16.686Z"
   },
   {
    "duration": 3,
    "start_time": "2022-03-21T23:24:16.695Z"
   },
   {
    "duration": 50,
    "start_time": "2022-03-21T23:24:16.700Z"
   },
   {
    "duration": 14,
    "start_time": "2022-03-21T23:24:16.751Z"
   },
   {
    "duration": 3,
    "start_time": "2022-03-21T23:24:16.767Z"
   },
   {
    "duration": 370,
    "start_time": "2022-03-21T23:24:16.772Z"
   },
   {
    "duration": 18,
    "start_time": "2022-03-21T23:24:17.144Z"
   },
   {
    "duration": 21,
    "start_time": "2022-03-21T23:24:17.164Z"
   },
   {
    "duration": 18,
    "start_time": "2022-03-21T23:24:17.187Z"
   },
   {
    "duration": 12,
    "start_time": "2022-03-21T23:24:17.207Z"
   },
   {
    "duration": 12,
    "start_time": "2022-03-21T23:24:17.220Z"
   },
   {
    "duration": 10,
    "start_time": "2022-03-21T23:24:17.234Z"
   },
   {
    "duration": 10,
    "start_time": "2022-03-21T23:24:17.246Z"
   },
   {
    "duration": 23,
    "start_time": "2022-03-21T23:24:17.257Z"
   },
   {
    "duration": 15,
    "start_time": "2022-03-21T23:24:17.281Z"
   },
   {
    "duration": 8,
    "start_time": "2022-03-21T23:24:17.298Z"
   },
   {
    "duration": 7,
    "start_time": "2022-03-21T23:24:17.308Z"
   },
   {
    "duration": 11,
    "start_time": "2022-03-21T23:24:17.331Z"
   },
   {
    "duration": 18,
    "start_time": "2022-03-21T23:24:17.344Z"
   },
   {
    "duration": 7,
    "start_time": "2022-03-21T23:24:17.364Z"
   },
   {
    "duration": 6,
    "start_time": "2022-03-21T23:24:17.373Z"
   },
   {
    "duration": 5,
    "start_time": "2022-03-21T23:24:17.380Z"
   },
   {
    "duration": 15,
    "start_time": "2022-03-21T23:24:17.389Z"
   },
   {
    "duration": 5,
    "start_time": "2022-03-21T23:24:17.406Z"
   },
   {
    "duration": 12,
    "start_time": "2022-03-21T23:24:17.412Z"
   },
   {
    "duration": 617,
    "start_time": "2022-03-21T23:24:17.425Z"
   },
   {
    "duration": 715,
    "start_time": "2022-03-21T23:24:18.043Z"
   },
   {
    "duration": 3,
    "start_time": "2022-03-21T23:24:18.760Z"
   },
   {
    "duration": 8,
    "start_time": "2022-03-21T23:24:18.764Z"
   },
   {
    "duration": 23,
    "start_time": "2022-03-21T23:24:18.773Z"
   },
   {
    "duration": 7,
    "start_time": "2022-03-21T23:24:18.798Z"
   },
   {
    "duration": 6,
    "start_time": "2022-03-21T23:24:18.806Z"
   },
   {
    "duration": 5,
    "start_time": "2022-03-21T23:24:18.832Z"
   },
   {
    "duration": 18,
    "start_time": "2022-03-21T23:24:18.839Z"
   },
   {
    "duration": 7,
    "start_time": "2022-03-21T23:24:18.859Z"
   },
   {
    "duration": 152,
    "start_time": "2022-03-21T23:24:18.867Z"
   },
   {
    "duration": 18,
    "start_time": "2022-03-21T23:24:19.021Z"
   },
   {
    "duration": 15,
    "start_time": "2022-03-21T23:24:19.041Z"
   },
   {
    "duration": 3,
    "start_time": "2022-03-21T23:24:19.058Z"
   },
   {
    "duration": 7,
    "start_time": "2022-03-21T23:24:19.062Z"
   },
   {
    "duration": 8,
    "start_time": "2022-03-21T23:24:19.071Z"
   },
   {
    "duration": 9,
    "start_time": "2022-03-21T23:24:19.080Z"
   },
   {
    "duration": 41,
    "start_time": "2022-03-21T23:24:19.091Z"
   },
   {
    "duration": 3,
    "start_time": "2022-03-21T23:24:19.133Z"
   },
   {
    "duration": 2799,
    "start_time": "2022-03-21T23:24:19.138Z"
   },
   {
    "duration": 9280,
    "start_time": "2022-03-21T23:24:21.940Z"
   },
   {
    "duration": 29180,
    "start_time": "2022-03-21T23:24:31.222Z"
   },
   {
    "duration": 535271,
    "start_time": "2022-03-21T23:25:07.235Z"
   },
   {
    "duration": 13,
    "start_time": "2022-03-21T23:41:22.703Z"
   },
   {
    "duration": 5,
    "start_time": "2022-03-21T23:41:28.095Z"
   },
   {
    "duration": 308,
    "start_time": "2022-03-21T23:41:28.102Z"
   },
   {
    "duration": 28,
    "start_time": "2022-03-21T23:41:28.412Z"
   },
   {
    "duration": 18,
    "start_time": "2022-03-21T23:41:28.442Z"
   },
   {
    "duration": 84,
    "start_time": "2022-03-21T23:41:28.462Z"
   },
   {
    "duration": 20,
    "start_time": "2022-03-21T23:41:28.548Z"
   },
   {
    "duration": 14,
    "start_time": "2022-03-21T23:41:28.570Z"
   },
   {
    "duration": 396,
    "start_time": "2022-03-21T23:41:28.586Z"
   },
   {
    "duration": 19,
    "start_time": "2022-03-21T23:41:28.984Z"
   },
   {
    "duration": 4,
    "start_time": "2022-03-21T23:41:29.006Z"
   },
   {
    "duration": 22,
    "start_time": "2022-03-21T23:41:29.012Z"
   },
   {
    "duration": 13,
    "start_time": "2022-03-21T23:41:29.036Z"
   },
   {
    "duration": 6,
    "start_time": "2022-03-21T23:41:29.050Z"
   },
   {
    "duration": 10,
    "start_time": "2022-03-21T23:41:29.057Z"
   },
   {
    "duration": 5,
    "start_time": "2022-03-21T23:41:29.069Z"
   },
   {
    "duration": 199,
    "start_time": "2022-03-21T23:41:29.076Z"
   },
   {
    "duration": 9,
    "start_time": "2022-03-21T23:41:29.277Z"
   },
   {
    "duration": 15,
    "start_time": "2022-03-21T23:41:29.288Z"
   },
   {
    "duration": 10,
    "start_time": "2022-03-21T23:41:29.305Z"
   },
   {
    "duration": 18,
    "start_time": "2022-03-21T23:41:29.317Z"
   },
   {
    "duration": 33,
    "start_time": "2022-03-21T23:41:29.337Z"
   },
   {
    "duration": 14,
    "start_time": "2022-03-21T23:41:29.372Z"
   },
   {
    "duration": 4,
    "start_time": "2022-03-21T23:41:29.387Z"
   },
   {
    "duration": 172,
    "start_time": "2022-03-21T23:41:29.392Z"
   },
   {
    "duration": 17,
    "start_time": "2022-03-21T23:41:29.566Z"
   },
   {
    "duration": 22,
    "start_time": "2022-03-21T23:41:29.584Z"
   },
   {
    "duration": 32,
    "start_time": "2022-03-21T23:41:29.608Z"
   },
   {
    "duration": 12,
    "start_time": "2022-03-21T23:41:29.644Z"
   },
   {
    "duration": 9,
    "start_time": "2022-03-21T23:41:29.658Z"
   },
   {
    "duration": 21,
    "start_time": "2022-03-21T23:41:29.669Z"
   },
   {
    "duration": 11,
    "start_time": "2022-03-21T23:41:29.692Z"
   },
   {
    "duration": 46,
    "start_time": "2022-03-21T23:41:29.705Z"
   },
   {
    "duration": 14,
    "start_time": "2022-03-21T23:41:29.753Z"
   },
   {
    "duration": 12,
    "start_time": "2022-03-21T23:41:29.768Z"
   },
   {
    "duration": 8,
    "start_time": "2022-03-21T23:41:29.782Z"
   },
   {
    "duration": 42,
    "start_time": "2022-03-21T23:41:29.791Z"
   },
   {
    "duration": 20,
    "start_time": "2022-03-21T23:41:29.834Z"
   },
   {
    "duration": 4,
    "start_time": "2022-03-21T23:41:29.856Z"
   },
   {
    "duration": 6,
    "start_time": "2022-03-21T23:41:29.862Z"
   },
   {
    "duration": 9,
    "start_time": "2022-03-21T23:41:29.870Z"
   },
   {
    "duration": 17,
    "start_time": "2022-03-21T23:41:29.881Z"
   },
   {
    "duration": 5,
    "start_time": "2022-03-21T23:41:29.900Z"
   },
   {
    "duration": 34,
    "start_time": "2022-03-21T23:41:29.907Z"
   },
   {
    "duration": 714,
    "start_time": "2022-03-21T23:41:29.943Z"
   },
   {
    "duration": 580,
    "start_time": "2022-03-21T23:41:30.659Z"
   },
   {
    "duration": 3,
    "start_time": "2022-03-21T23:41:31.241Z"
   },
   {
    "duration": 37,
    "start_time": "2022-03-21T23:41:31.246Z"
   },
   {
    "duration": 37,
    "start_time": "2022-03-21T23:41:31.285Z"
   },
   {
    "duration": 16,
    "start_time": "2022-03-21T23:41:31.324Z"
   },
   {
    "duration": 20,
    "start_time": "2022-03-21T23:41:31.342Z"
   },
   {
    "duration": 14,
    "start_time": "2022-03-21T23:41:31.364Z"
   },
   {
    "duration": 30,
    "start_time": "2022-03-21T23:41:31.379Z"
   },
   {
    "duration": 9,
    "start_time": "2022-03-21T23:41:31.411Z"
   },
   {
    "duration": 152,
    "start_time": "2022-03-21T23:41:31.422Z"
   },
   {
    "duration": 9,
    "start_time": "2022-03-21T23:41:31.576Z"
   },
   {
    "duration": 25,
    "start_time": "2022-03-21T23:41:31.587Z"
   },
   {
    "duration": 11,
    "start_time": "2022-03-21T23:41:31.614Z"
   },
   {
    "duration": 13,
    "start_time": "2022-03-21T23:41:31.627Z"
   },
   {
    "duration": 25,
    "start_time": "2022-03-21T23:41:31.641Z"
   },
   {
    "duration": 0,
    "start_time": "2022-03-21T23:41:31.668Z"
   },
   {
    "duration": 0,
    "start_time": "2022-03-21T23:41:31.669Z"
   },
   {
    "duration": 0,
    "start_time": "2022-03-21T23:41:31.670Z"
   },
   {
    "duration": 0,
    "start_time": "2022-03-21T23:41:31.671Z"
   },
   {
    "duration": 0,
    "start_time": "2022-03-21T23:41:31.672Z"
   },
   {
    "duration": 0,
    "start_time": "2022-03-21T23:41:31.673Z"
   },
   {
    "duration": 0,
    "start_time": "2022-03-21T23:41:31.674Z"
   },
   {
    "duration": 0,
    "start_time": "2022-03-21T23:41:31.675Z"
   },
   {
    "duration": 0,
    "start_time": "2022-03-21T23:41:31.677Z"
   },
   {
    "duration": 1739,
    "start_time": "2022-03-22T11:47:13.746Z"
   },
   {
    "duration": 279,
    "start_time": "2022-03-22T11:47:15.487Z"
   },
   {
    "duration": 23,
    "start_time": "2022-03-22T11:47:15.768Z"
   },
   {
    "duration": 17,
    "start_time": "2022-03-22T11:47:15.802Z"
   },
   {
    "duration": 81,
    "start_time": "2022-03-22T11:47:15.821Z"
   },
   {
    "duration": 18,
    "start_time": "2022-03-22T11:47:15.904Z"
   },
   {
    "duration": 15,
    "start_time": "2022-03-22T11:47:15.923Z"
   },
   {
    "duration": 362,
    "start_time": "2022-03-22T11:47:15.939Z"
   },
   {
    "duration": 17,
    "start_time": "2022-03-22T11:47:16.303Z"
   },
   {
    "duration": 3,
    "start_time": "2022-03-22T11:47:16.323Z"
   },
   {
    "duration": 11,
    "start_time": "2022-03-22T11:47:16.328Z"
   },
   {
    "duration": 12,
    "start_time": "2022-03-22T11:47:16.341Z"
   },
   {
    "duration": 10,
    "start_time": "2022-03-22T11:47:16.354Z"
   },
   {
    "duration": 11,
    "start_time": "2022-03-22T11:47:16.366Z"
   },
   {
    "duration": 24,
    "start_time": "2022-03-22T11:47:16.379Z"
   },
   {
    "duration": 173,
    "start_time": "2022-03-22T11:47:16.404Z"
   },
   {
    "duration": 8,
    "start_time": "2022-03-22T11:47:16.579Z"
   },
   {
    "duration": 13,
    "start_time": "2022-03-22T11:47:16.589Z"
   },
   {
    "duration": 11,
    "start_time": "2022-03-22T11:47:16.603Z"
   },
   {
    "duration": 3,
    "start_time": "2022-03-22T11:47:16.615Z"
   },
   {
    "duration": 22,
    "start_time": "2022-03-22T11:47:16.619Z"
   },
   {
    "duration": 14,
    "start_time": "2022-03-22T11:47:16.642Z"
   },
   {
    "duration": 4,
    "start_time": "2022-03-22T11:47:16.657Z"
   },
   {
    "duration": 184,
    "start_time": "2022-03-22T11:47:16.662Z"
   },
   {
    "duration": 16,
    "start_time": "2022-03-22T11:47:16.848Z"
   },
   {
    "duration": 18,
    "start_time": "2022-03-22T11:47:16.866Z"
   },
   {
    "duration": 31,
    "start_time": "2022-03-22T11:47:16.885Z"
   },
   {
    "duration": 8,
    "start_time": "2022-03-22T11:47:16.920Z"
   },
   {
    "duration": 7,
    "start_time": "2022-03-22T11:47:16.929Z"
   },
   {
    "duration": 9,
    "start_time": "2022-03-22T11:47:16.937Z"
   },
   {
    "duration": 10,
    "start_time": "2022-03-22T11:47:16.947Z"
   },
   {
    "duration": 49,
    "start_time": "2022-03-22T11:47:16.959Z"
   },
   {
    "duration": 12,
    "start_time": "2022-03-22T11:47:17.010Z"
   },
   {
    "duration": 7,
    "start_time": "2022-03-22T11:47:17.024Z"
   },
   {
    "duration": 6,
    "start_time": "2022-03-22T11:47:17.033Z"
   },
   {
    "duration": 14,
    "start_time": "2022-03-22T11:47:17.040Z"
   },
   {
    "duration": 18,
    "start_time": "2022-03-22T11:47:17.055Z"
   },
   {
    "duration": 3,
    "start_time": "2022-03-22T11:47:17.100Z"
   },
   {
    "duration": 12,
    "start_time": "2022-03-22T11:47:17.105Z"
   },
   {
    "duration": 9,
    "start_time": "2022-03-22T11:47:17.119Z"
   },
   {
    "duration": 18,
    "start_time": "2022-03-22T11:47:17.130Z"
   },
   {
    "duration": 9,
    "start_time": "2022-03-22T11:47:17.149Z"
   },
   {
    "duration": 14,
    "start_time": "2022-03-22T11:47:17.159Z"
   },
   {
    "duration": 465,
    "start_time": "2022-03-22T11:47:17.175Z"
   },
   {
    "duration": 543,
    "start_time": "2022-03-22T11:47:17.641Z"
   },
   {
    "duration": 3,
    "start_time": "2022-03-22T11:47:18.185Z"
   },
   {
    "duration": 12,
    "start_time": "2022-03-22T11:47:18.189Z"
   },
   {
    "duration": 15,
    "start_time": "2022-03-22T11:47:18.203Z"
   },
   {
    "duration": 5,
    "start_time": "2022-03-22T11:47:18.219Z"
   },
   {
    "duration": 7,
    "start_time": "2022-03-22T11:47:18.225Z"
   },
   {
    "duration": 6,
    "start_time": "2022-03-22T11:47:18.234Z"
   },
   {
    "duration": 16,
    "start_time": "2022-03-22T11:47:18.241Z"
   },
   {
    "duration": 6,
    "start_time": "2022-03-22T11:47:18.258Z"
   },
   {
    "duration": 152,
    "start_time": "2022-03-22T11:47:18.265Z"
   },
   {
    "duration": 11,
    "start_time": "2022-03-22T11:47:18.419Z"
   },
   {
    "duration": 18,
    "start_time": "2022-03-22T11:47:18.432Z"
   },
   {
    "duration": 3,
    "start_time": "2022-03-22T11:47:18.452Z"
   },
   {
    "duration": 9,
    "start_time": "2022-03-22T11:47:18.457Z"
   },
   {
    "duration": 14,
    "start_time": "2022-03-22T11:47:18.467Z"
   },
   {
    "duration": 1637,
    "start_time": "2022-03-22T11:57:36.015Z"
   },
   {
    "duration": 259,
    "start_time": "2022-03-22T11:57:37.654Z"
   },
   {
    "duration": 23,
    "start_time": "2022-03-22T11:57:37.914Z"
   },
   {
    "duration": 33,
    "start_time": "2022-03-22T11:57:37.939Z"
   },
   {
    "duration": 82,
    "start_time": "2022-03-22T11:57:37.974Z"
   },
   {
    "duration": 20,
    "start_time": "2022-03-22T11:57:38.058Z"
   },
   {
    "duration": 13,
    "start_time": "2022-03-22T11:57:38.079Z"
   },
   {
    "duration": 350,
    "start_time": "2022-03-22T11:57:38.101Z"
   },
   {
    "duration": 16,
    "start_time": "2022-03-22T11:57:38.453Z"
   },
   {
    "duration": 4,
    "start_time": "2022-03-22T11:57:38.471Z"
   },
   {
    "duration": 26,
    "start_time": "2022-03-22T11:57:38.476Z"
   },
   {
    "duration": 8,
    "start_time": "2022-03-22T11:57:38.503Z"
   },
   {
    "duration": 9,
    "start_time": "2022-03-22T11:57:38.513Z"
   },
   {
    "duration": 8,
    "start_time": "2022-03-22T11:57:38.523Z"
   },
   {
    "duration": 4,
    "start_time": "2022-03-22T11:57:38.532Z"
   },
   {
    "duration": 178,
    "start_time": "2022-03-22T11:57:38.537Z"
   },
   {
    "duration": 8,
    "start_time": "2022-03-22T11:57:38.717Z"
   },
   {
    "duration": 7,
    "start_time": "2022-03-22T11:57:38.726Z"
   },
   {
    "duration": 6,
    "start_time": "2022-03-22T11:57:38.734Z"
   },
   {
    "duration": 2,
    "start_time": "2022-03-22T11:57:38.742Z"
   },
   {
    "duration": 20,
    "start_time": "2022-03-22T11:57:38.746Z"
   },
   {
    "duration": 41,
    "start_time": "2022-03-22T11:57:38.767Z"
   },
   {
    "duration": 3,
    "start_time": "2022-03-22T11:57:38.810Z"
   },
   {
    "duration": 160,
    "start_time": "2022-03-22T11:57:38.814Z"
   },
   {
    "duration": 25,
    "start_time": "2022-03-22T11:57:38.976Z"
   },
   {
    "duration": 15,
    "start_time": "2022-03-22T11:57:39.002Z"
   },
   {
    "duration": 16,
    "start_time": "2022-03-22T11:57:39.019Z"
   },
   {
    "duration": 9,
    "start_time": "2022-03-22T11:57:39.039Z"
   },
   {
    "duration": 5,
    "start_time": "2022-03-22T11:57:39.050Z"
   },
   {
    "duration": 10,
    "start_time": "2022-03-22T11:57:39.056Z"
   },
   {
    "duration": 39,
    "start_time": "2022-03-22T11:57:39.068Z"
   },
   {
    "duration": 19,
    "start_time": "2022-03-22T11:57:39.109Z"
   },
   {
    "duration": 11,
    "start_time": "2022-03-22T11:57:39.130Z"
   },
   {
    "duration": 7,
    "start_time": "2022-03-22T11:57:39.142Z"
   },
   {
    "duration": 6,
    "start_time": "2022-03-22T11:57:39.151Z"
   },
   {
    "duration": 11,
    "start_time": "2022-03-22T11:57:39.158Z"
   },
   {
    "duration": 47,
    "start_time": "2022-03-22T11:57:39.170Z"
   },
   {
    "duration": 7,
    "start_time": "2022-03-22T11:57:39.218Z"
   },
   {
    "duration": 5,
    "start_time": "2022-03-22T11:57:39.226Z"
   },
   {
    "duration": 8,
    "start_time": "2022-03-22T11:57:39.232Z"
   },
   {
    "duration": 19,
    "start_time": "2022-03-22T11:57:39.241Z"
   },
   {
    "duration": 9,
    "start_time": "2022-03-22T11:57:39.261Z"
   },
   {
    "duration": 15,
    "start_time": "2022-03-22T11:57:39.271Z"
   },
   {
    "duration": 475,
    "start_time": "2022-03-22T11:57:39.288Z"
   },
   {
    "duration": 556,
    "start_time": "2022-03-22T11:57:39.764Z"
   },
   {
    "duration": 3,
    "start_time": "2022-03-22T11:57:40.321Z"
   },
   {
    "duration": 9,
    "start_time": "2022-03-22T11:57:40.326Z"
   },
   {
    "duration": 16,
    "start_time": "2022-03-22T11:57:40.337Z"
   },
   {
    "duration": 5,
    "start_time": "2022-03-22T11:57:40.355Z"
   },
   {
    "duration": 4,
    "start_time": "2022-03-22T11:57:40.361Z"
   },
   {
    "duration": 5,
    "start_time": "2022-03-22T11:57:40.367Z"
   },
   {
    "duration": 40,
    "start_time": "2022-03-22T11:57:40.373Z"
   },
   {
    "duration": 3,
    "start_time": "2022-03-22T11:57:40.414Z"
   },
   {
    "duration": 133,
    "start_time": "2022-03-22T11:57:40.419Z"
   },
   {
    "duration": 11,
    "start_time": "2022-03-22T11:57:40.554Z"
   },
   {
    "duration": 18,
    "start_time": "2022-03-22T11:57:40.566Z"
   },
   {
    "duration": 15,
    "start_time": "2022-03-22T11:57:40.586Z"
   },
   {
    "duration": 5,
    "start_time": "2022-03-22T11:57:40.603Z"
   },
   {
    "duration": 15,
    "start_time": "2022-03-22T11:57:40.610Z"
   },
   {
    "duration": 6,
    "start_time": "2022-03-22T11:57:40.626Z"
   },
   {
    "duration": 18,
    "start_time": "2022-03-22T11:57:40.634Z"
   },
   {
    "duration": 2,
    "start_time": "2022-03-22T11:57:40.654Z"
   },
   {
    "duration": 3047,
    "start_time": "2022-03-22T11:57:40.658Z"
   },
   {
    "duration": 5,
    "start_time": "2022-03-22T11:58:22.200Z"
   },
   {
    "duration": 523,
    "start_time": "2022-03-22T11:58:22.207Z"
   },
   {
    "duration": 69,
    "start_time": "2022-03-22T11:58:22.732Z"
   },
   {
    "duration": 16,
    "start_time": "2022-03-22T11:58:22.803Z"
   },
   {
    "duration": 123,
    "start_time": "2022-03-22T11:58:22.820Z"
   },
   {
    "duration": 72,
    "start_time": "2022-03-22T11:58:22.945Z"
   },
   {
    "duration": 11,
    "start_time": "2022-03-22T11:58:23.019Z"
   },
   {
    "duration": 696,
    "start_time": "2022-03-22T11:58:23.031Z"
   },
   {
    "duration": 17,
    "start_time": "2022-03-22T11:58:23.728Z"
   },
   {
    "duration": 3,
    "start_time": "2022-03-22T11:58:23.802Z"
   },
   {
    "duration": 13,
    "start_time": "2022-03-22T11:58:23.807Z"
   },
   {
    "duration": 10,
    "start_time": "2022-03-22T11:58:23.822Z"
   },
   {
    "duration": 5,
    "start_time": "2022-03-22T11:58:23.833Z"
   },
   {
    "duration": 8,
    "start_time": "2022-03-22T11:58:23.839Z"
   },
   {
    "duration": 53,
    "start_time": "2022-03-22T11:58:23.849Z"
   },
   {
    "duration": 307,
    "start_time": "2022-03-22T11:58:23.904Z"
   },
   {
    "duration": 8,
    "start_time": "2022-03-22T11:58:24.213Z"
   },
   {
    "duration": 6,
    "start_time": "2022-03-22T11:58:24.222Z"
   },
   {
    "duration": 6,
    "start_time": "2022-03-22T11:58:24.230Z"
   },
   {
    "duration": 3,
    "start_time": "2022-03-22T11:58:24.237Z"
   },
   {
    "duration": 76,
    "start_time": "2022-03-22T11:58:24.241Z"
   },
   {
    "duration": 12,
    "start_time": "2022-03-22T11:58:24.318Z"
   },
   {
    "duration": 4,
    "start_time": "2022-03-22T11:58:24.331Z"
   },
   {
    "duration": 366,
    "start_time": "2022-03-22T11:58:24.336Z"
   },
   {
    "duration": 18,
    "start_time": "2022-03-22T11:58:24.704Z"
   },
   {
    "duration": 18,
    "start_time": "2022-03-22T11:58:24.723Z"
   },
   {
    "duration": 70,
    "start_time": "2022-03-22T11:58:24.743Z"
   },
   {
    "duration": 12,
    "start_time": "2022-03-22T11:58:24.815Z"
   },
   {
    "duration": 7,
    "start_time": "2022-03-22T11:58:24.828Z"
   },
   {
    "duration": 8,
    "start_time": "2022-03-22T11:58:24.836Z"
   },
   {
    "duration": 11,
    "start_time": "2022-03-22T11:58:24.902Z"
   },
   {
    "duration": 22,
    "start_time": "2022-03-22T11:58:24.914Z"
   },
   {
    "duration": 64,
    "start_time": "2022-03-22T11:58:24.937Z"
   },
   {
    "duration": 8,
    "start_time": "2022-03-22T11:58:25.003Z"
   },
   {
    "duration": 6,
    "start_time": "2022-03-22T11:58:25.013Z"
   },
   {
    "duration": 10,
    "start_time": "2022-03-22T11:58:25.020Z"
   },
   {
    "duration": 72,
    "start_time": "2022-03-22T11:58:25.031Z"
   },
   {
    "duration": 3,
    "start_time": "2022-03-22T11:58:25.105Z"
   },
   {
    "duration": 7,
    "start_time": "2022-03-22T11:58:25.109Z"
   },
   {
    "duration": 5,
    "start_time": "2022-03-22T11:58:25.117Z"
   },
   {
    "duration": 14,
    "start_time": "2022-03-22T11:58:25.124Z"
   },
   {
    "duration": 4,
    "start_time": "2022-03-22T11:58:25.140Z"
   },
   {
    "duration": 74,
    "start_time": "2022-03-22T11:58:25.145Z"
   },
   {
    "duration": 815,
    "start_time": "2022-03-22T11:58:25.221Z"
   },
   {
    "duration": 493,
    "start_time": "2022-03-22T11:58:26.038Z"
   },
   {
    "duration": 3,
    "start_time": "2022-03-22T11:58:26.533Z"
   },
   {
    "duration": 9,
    "start_time": "2022-03-22T11:58:26.537Z"
   },
   {
    "duration": 22,
    "start_time": "2022-03-22T11:58:26.548Z"
   },
   {
    "duration": 4,
    "start_time": "2022-03-22T11:58:26.572Z"
   },
   {
    "duration": 4,
    "start_time": "2022-03-22T11:58:26.578Z"
   },
   {
    "duration": 4,
    "start_time": "2022-03-22T11:58:26.601Z"
   },
   {
    "duration": 15,
    "start_time": "2022-03-22T11:58:26.607Z"
   },
   {
    "duration": 4,
    "start_time": "2022-03-22T11:58:26.623Z"
   },
   {
    "duration": 232,
    "start_time": "2022-03-22T11:58:26.628Z"
   },
   {
    "duration": 8,
    "start_time": "2022-03-22T11:58:26.862Z"
   },
   {
    "duration": 30,
    "start_time": "2022-03-22T11:58:26.871Z"
   },
   {
    "duration": 4,
    "start_time": "2022-03-22T11:58:26.902Z"
   },
   {
    "duration": 5,
    "start_time": "2022-03-22T11:58:26.907Z"
   },
   {
    "duration": 9,
    "start_time": "2022-03-22T11:58:26.913Z"
   },
   {
    "duration": 11,
    "start_time": "2022-03-22T11:58:26.923Z"
   },
   {
    "duration": 21,
    "start_time": "2022-03-22T11:58:26.935Z"
   },
   {
    "duration": 2,
    "start_time": "2022-03-22T11:58:26.958Z"
   },
   {
    "duration": 2241,
    "start_time": "2022-03-22T11:58:26.961Z"
   },
   {
    "duration": 8958,
    "start_time": "2022-03-22T11:58:29.203Z"
   },
   {
    "duration": 28436,
    "start_time": "2022-03-22T11:58:38.162Z"
   },
   {
    "duration": 1799,
    "start_time": "2022-03-22T12:07:45.716Z"
   },
   {
    "duration": 342,
    "start_time": "2022-03-22T12:07:47.517Z"
   },
   {
    "duration": 41,
    "start_time": "2022-03-22T12:07:47.861Z"
   },
   {
    "duration": 26,
    "start_time": "2022-03-22T12:07:47.905Z"
   },
   {
    "duration": 117,
    "start_time": "2022-03-22T12:07:47.934Z"
   },
   {
    "duration": 28,
    "start_time": "2022-03-22T12:07:48.053Z"
   },
   {
    "duration": 29,
    "start_time": "2022-03-22T12:07:48.083Z"
   },
   {
    "duration": 564,
    "start_time": "2022-03-22T12:07:48.114Z"
   },
   {
    "duration": 23,
    "start_time": "2022-03-22T12:07:48.679Z"
   },
   {
    "duration": 12,
    "start_time": "2022-03-22T12:07:48.705Z"
   },
   {
    "duration": 19,
    "start_time": "2022-03-22T12:07:48.718Z"
   },
   {
    "duration": 14,
    "start_time": "2022-03-22T12:07:48.738Z"
   },
   {
    "duration": 10,
    "start_time": "2022-03-22T12:07:48.753Z"
   },
   {
    "duration": 10,
    "start_time": "2022-03-22T12:07:48.764Z"
   },
   {
    "duration": 5,
    "start_time": "2022-03-22T12:07:48.776Z"
   },
   {
    "duration": 166,
    "start_time": "2022-03-22T12:07:48.806Z"
   },
   {
    "duration": 8,
    "start_time": "2022-03-22T12:07:48.974Z"
   },
   {
    "duration": 6,
    "start_time": "2022-03-22T12:07:48.984Z"
   },
   {
    "duration": 9,
    "start_time": "2022-03-22T12:07:49.001Z"
   },
   {
    "duration": 9,
    "start_time": "2022-03-22T12:07:49.011Z"
   },
   {
    "duration": 27,
    "start_time": "2022-03-22T12:07:49.022Z"
   },
   {
    "duration": 16,
    "start_time": "2022-03-22T12:07:49.051Z"
   },
   {
    "duration": 3,
    "start_time": "2022-03-22T12:07:49.069Z"
   },
   {
    "duration": 202,
    "start_time": "2022-03-22T12:07:49.074Z"
   },
   {
    "duration": 27,
    "start_time": "2022-03-22T12:07:49.278Z"
   },
   {
    "duration": 24,
    "start_time": "2022-03-22T12:07:49.307Z"
   },
   {
    "duration": 17,
    "start_time": "2022-03-22T12:07:49.333Z"
   },
   {
    "duration": 9,
    "start_time": "2022-03-22T12:07:49.354Z"
   },
   {
    "duration": 9,
    "start_time": "2022-03-22T12:07:49.365Z"
   },
   {
    "duration": 15,
    "start_time": "2022-03-22T12:07:49.402Z"
   },
   {
    "duration": 14,
    "start_time": "2022-03-22T12:07:49.421Z"
   },
   {
    "duration": 27,
    "start_time": "2022-03-22T12:07:49.437Z"
   },
   {
    "duration": 13,
    "start_time": "2022-03-22T12:07:49.466Z"
   },
   {
    "duration": 16,
    "start_time": "2022-03-22T12:07:49.504Z"
   },
   {
    "duration": 8,
    "start_time": "2022-03-22T12:07:49.523Z"
   },
   {
    "duration": 16,
    "start_time": "2022-03-22T12:07:49.532Z"
   },
   {
    "duration": 20,
    "start_time": "2022-03-22T12:07:49.550Z"
   },
   {
    "duration": 22,
    "start_time": "2022-03-22T12:07:49.572Z"
   },
   {
    "duration": 13,
    "start_time": "2022-03-22T12:07:49.596Z"
   },
   {
    "duration": 13,
    "start_time": "2022-03-22T12:07:49.611Z"
   },
   {
    "duration": 15,
    "start_time": "2022-03-22T12:07:49.626Z"
   },
   {
    "duration": 7,
    "start_time": "2022-03-22T12:07:49.643Z"
   },
   {
    "duration": 14,
    "start_time": "2022-03-22T12:07:49.651Z"
   },
   {
    "duration": 519,
    "start_time": "2022-03-22T12:07:49.667Z"
   },
   {
    "duration": 586,
    "start_time": "2022-03-22T12:07:50.188Z"
   },
   {
    "duration": 3,
    "start_time": "2022-03-22T12:07:50.777Z"
   },
   {
    "duration": 23,
    "start_time": "2022-03-22T12:07:50.782Z"
   },
   {
    "duration": 22,
    "start_time": "2022-03-22T12:07:50.807Z"
   },
   {
    "duration": 25,
    "start_time": "2022-03-22T12:07:50.831Z"
   },
   {
    "duration": 17,
    "start_time": "2022-03-22T12:07:50.858Z"
   },
   {
    "duration": 23,
    "start_time": "2022-03-22T12:07:50.877Z"
   },
   {
    "duration": 26,
    "start_time": "2022-03-22T12:07:50.902Z"
   },
   {
    "duration": 14,
    "start_time": "2022-03-22T12:07:50.930Z"
   },
   {
    "duration": 172,
    "start_time": "2022-03-22T12:07:50.946Z"
   },
   {
    "duration": 11,
    "start_time": "2022-03-22T12:07:51.122Z"
   },
   {
    "duration": 18,
    "start_time": "2022-03-22T12:07:51.134Z"
   },
   {
    "duration": 6,
    "start_time": "2022-03-22T12:07:51.154Z"
   },
   {
    "duration": 8,
    "start_time": "2022-03-22T12:07:51.162Z"
   },
   {
    "duration": 17,
    "start_time": "2022-03-22T12:07:51.172Z"
   },
   {
    "duration": 24,
    "start_time": "2022-03-22T12:07:51.190Z"
   },
   {
    "duration": 28,
    "start_time": "2022-03-22T12:07:51.216Z"
   },
   {
    "duration": 3,
    "start_time": "2022-03-22T12:07:51.246Z"
   },
   {
    "duration": 4878,
    "start_time": "2022-03-22T12:07:51.250Z"
   },
   {
    "duration": 10378,
    "start_time": "2022-03-22T12:07:56.204Z"
   },
   {
    "duration": 33054,
    "start_time": "2022-03-22T12:08:06.584Z"
   },
   {
    "duration": 1788,
    "start_time": "2022-03-22T12:14:58.146Z"
   },
   {
    "duration": 287,
    "start_time": "2022-03-22T12:14:59.936Z"
   },
   {
    "duration": 24,
    "start_time": "2022-03-22T12:15:00.225Z"
   },
   {
    "duration": 22,
    "start_time": "2022-03-22T12:15:00.251Z"
   },
   {
    "duration": 93,
    "start_time": "2022-03-22T12:15:00.275Z"
   },
   {
    "duration": 38,
    "start_time": "2022-03-22T12:15:00.370Z"
   },
   {
    "duration": 29,
    "start_time": "2022-03-22T12:15:00.410Z"
   },
   {
    "duration": 385,
    "start_time": "2022-03-22T12:15:00.441Z"
   },
   {
    "duration": 25,
    "start_time": "2022-03-22T12:15:00.829Z"
   },
   {
    "duration": 5,
    "start_time": "2022-03-22T12:15:00.859Z"
   },
   {
    "duration": 25,
    "start_time": "2022-03-22T12:15:00.865Z"
   },
   {
    "duration": 12,
    "start_time": "2022-03-22T12:15:00.900Z"
   },
   {
    "duration": 18,
    "start_time": "2022-03-22T12:15:00.914Z"
   },
   {
    "duration": 16,
    "start_time": "2022-03-22T12:15:00.934Z"
   },
   {
    "duration": 13,
    "start_time": "2022-03-22T12:15:00.952Z"
   },
   {
    "duration": 261,
    "start_time": "2022-03-22T12:15:00.968Z"
   },
   {
    "duration": 12,
    "start_time": "2022-03-22T12:15:01.232Z"
   },
   {
    "duration": 9,
    "start_time": "2022-03-22T12:15:01.246Z"
   },
   {
    "duration": 9,
    "start_time": "2022-03-22T12:15:01.257Z"
   },
   {
    "duration": 4,
    "start_time": "2022-03-22T12:15:01.267Z"
   },
   {
    "duration": 49,
    "start_time": "2022-03-22T12:15:01.273Z"
   },
   {
    "duration": 16,
    "start_time": "2022-03-22T12:15:01.324Z"
   },
   {
    "duration": 6,
    "start_time": "2022-03-22T12:15:01.342Z"
   },
   {
    "duration": 187,
    "start_time": "2022-03-22T12:15:01.350Z"
   },
   {
    "duration": 19,
    "start_time": "2022-03-22T12:15:01.539Z"
   },
   {
    "duration": 21,
    "start_time": "2022-03-22T12:15:01.560Z"
   },
   {
    "duration": 20,
    "start_time": "2022-03-22T12:15:01.600Z"
   },
   {
    "duration": 10,
    "start_time": "2022-03-22T12:15:01.625Z"
   },
   {
    "duration": 9,
    "start_time": "2022-03-22T12:15:01.638Z"
   },
   {
    "duration": 16,
    "start_time": "2022-03-22T12:15:01.648Z"
   },
   {
    "duration": 47,
    "start_time": "2022-03-22T12:15:01.666Z"
   },
   {
    "duration": 28,
    "start_time": "2022-03-22T12:15:01.715Z"
   },
   {
    "duration": 12,
    "start_time": "2022-03-22T12:15:01.745Z"
   },
   {
    "duration": 9,
    "start_time": "2022-03-22T12:15:01.759Z"
   },
   {
    "duration": 37,
    "start_time": "2022-03-22T12:15:01.770Z"
   },
   {
    "duration": 20,
    "start_time": "2022-03-22T12:15:01.809Z"
   },
   {
    "duration": 29,
    "start_time": "2022-03-22T12:15:01.831Z"
   },
   {
    "duration": 5,
    "start_time": "2022-03-22T12:15:01.862Z"
   },
   {
    "duration": 6,
    "start_time": "2022-03-22T12:15:01.868Z"
   },
   {
    "duration": 5,
    "start_time": "2022-03-22T12:15:01.900Z"
   },
   {
    "duration": 14,
    "start_time": "2022-03-22T12:15:01.906Z"
   },
   {
    "duration": 6,
    "start_time": "2022-03-22T12:15:01.922Z"
   },
   {
    "duration": 17,
    "start_time": "2022-03-22T12:15:01.930Z"
   },
   {
    "duration": 835,
    "start_time": "2022-03-22T12:15:01.949Z"
   },
   {
    "duration": 881,
    "start_time": "2022-03-22T12:15:02.787Z"
   },
   {
    "duration": 4,
    "start_time": "2022-03-22T12:15:03.670Z"
   },
   {
    "duration": 10,
    "start_time": "2022-03-22T12:15:03.676Z"
   },
   {
    "duration": 27,
    "start_time": "2022-03-22T12:15:03.688Z"
   },
   {
    "duration": 6,
    "start_time": "2022-03-22T12:15:03.717Z"
   },
   {
    "duration": 5,
    "start_time": "2022-03-22T12:15:03.725Z"
   },
   {
    "duration": 13,
    "start_time": "2022-03-22T12:15:03.732Z"
   },
   {
    "duration": 25,
    "start_time": "2022-03-22T12:15:03.747Z"
   },
   {
    "duration": 4,
    "start_time": "2022-03-22T12:15:03.774Z"
   },
   {
    "duration": 152,
    "start_time": "2022-03-22T12:15:03.780Z"
   },
   {
    "duration": 13,
    "start_time": "2022-03-22T12:15:03.934Z"
   },
   {
    "duration": 19,
    "start_time": "2022-03-22T12:15:03.948Z"
   },
   {
    "duration": 4,
    "start_time": "2022-03-22T12:15:03.969Z"
   },
   {
    "duration": 26,
    "start_time": "2022-03-22T12:15:03.975Z"
   },
   {
    "duration": 7,
    "start_time": "2022-03-22T12:15:04.003Z"
   },
   {
    "duration": 7,
    "start_time": "2022-03-22T12:15:04.012Z"
   },
   {
    "duration": 22,
    "start_time": "2022-03-22T12:15:04.020Z"
   },
   {
    "duration": 2,
    "start_time": "2022-03-22T12:15:04.044Z"
   },
   {
    "duration": 4259,
    "start_time": "2022-03-22T12:15:04.048Z"
   },
   {
    "duration": 9946,
    "start_time": "2022-03-22T12:15:08.309Z"
   },
   {
    "duration": 31544,
    "start_time": "2022-03-22T12:15:18.258Z"
   },
   {
    "duration": 578410,
    "start_time": "2022-03-22T12:15:49.803Z"
   },
   {
    "duration": 1930372,
    "start_time": "2022-03-22T12:25:28.215Z"
   },
   {
    "duration": 1,
    "start_time": "2022-03-22T13:00:05.438Z"
   },
   {
    "duration": 0,
    "start_time": "2022-03-22T13:00:05.440Z"
   },
   {
    "duration": 185,
    "start_time": "2022-03-22T13:15:51.404Z"
   },
   {
    "duration": 3,
    "start_time": "2022-03-22T13:15:54.624Z"
   },
   {
    "duration": 4,
    "start_time": "2022-03-22T13:16:30.374Z"
   },
   {
    "duration": 11,
    "start_time": "2022-03-22T13:17:52.401Z"
   },
   {
    "duration": 8,
    "start_time": "2022-03-22T13:18:08.773Z"
   },
   {
    "duration": 3,
    "start_time": "2022-03-22T13:19:03.082Z"
   },
   {
    "duration": 9,
    "start_time": "2022-03-22T13:19:57.270Z"
   },
   {
    "duration": 4,
    "start_time": "2022-03-22T13:20:05.159Z"
   },
   {
    "duration": 302,
    "start_time": "2022-03-22T13:20:05.165Z"
   },
   {
    "duration": 21,
    "start_time": "2022-03-22T13:20:05.469Z"
   },
   {
    "duration": 18,
    "start_time": "2022-03-22T13:20:05.502Z"
   },
   {
    "duration": 80,
    "start_time": "2022-03-22T13:20:05.522Z"
   },
   {
    "duration": 20,
    "start_time": "2022-03-22T13:20:05.603Z"
   },
   {
    "duration": 17,
    "start_time": "2022-03-22T13:20:05.625Z"
   },
   {
    "duration": 363,
    "start_time": "2022-03-22T13:20:05.643Z"
   },
   {
    "duration": 18,
    "start_time": "2022-03-22T13:20:06.008Z"
   },
   {
    "duration": 4,
    "start_time": "2022-03-22T13:20:06.029Z"
   },
   {
    "duration": 13,
    "start_time": "2022-03-22T13:20:06.035Z"
   },
   {
    "duration": 11,
    "start_time": "2022-03-22T13:20:06.049Z"
   },
   {
    "duration": 6,
    "start_time": "2022-03-22T13:20:06.061Z"
   },
   {
    "duration": 34,
    "start_time": "2022-03-22T13:20:06.068Z"
   },
   {
    "duration": 4,
    "start_time": "2022-03-22T13:20:06.103Z"
   },
   {
    "duration": 177,
    "start_time": "2022-03-22T13:20:06.108Z"
   },
   {
    "duration": 9,
    "start_time": "2022-03-22T13:20:06.286Z"
   },
   {
    "duration": 5,
    "start_time": "2022-03-22T13:20:06.301Z"
   },
   {
    "duration": 6,
    "start_time": "2022-03-22T13:20:06.307Z"
   },
   {
    "duration": 2,
    "start_time": "2022-03-22T13:20:06.315Z"
   },
   {
    "duration": 21,
    "start_time": "2022-03-22T13:20:06.319Z"
   },
   {
    "duration": 13,
    "start_time": "2022-03-22T13:20:06.342Z"
   },
   {
    "duration": 3,
    "start_time": "2022-03-22T13:20:06.356Z"
   },
   {
    "duration": 173,
    "start_time": "2022-03-22T13:20:06.401Z"
   },
   {
    "duration": 26,
    "start_time": "2022-03-22T13:20:06.576Z"
   },
   {
    "duration": 21,
    "start_time": "2022-03-22T13:20:06.604Z"
   },
   {
    "duration": 18,
    "start_time": "2022-03-22T13:20:06.627Z"
   },
   {
    "duration": 9,
    "start_time": "2022-03-22T13:20:06.649Z"
   },
   {
    "duration": 8,
    "start_time": "2022-03-22T13:20:06.659Z"
   },
   {
    "duration": 11,
    "start_time": "2022-03-22T13:20:06.702Z"
   },
   {
    "duration": 11,
    "start_time": "2022-03-22T13:20:06.715Z"
   },
   {
    "duration": 22,
    "start_time": "2022-03-22T13:20:06.728Z"
   },
   {
    "duration": 12,
    "start_time": "2022-03-22T13:20:06.752Z"
   },
   {
    "duration": 41,
    "start_time": "2022-03-22T13:20:06.766Z"
   },
   {
    "duration": 8,
    "start_time": "2022-03-22T13:20:06.808Z"
   },
   {
    "duration": 13,
    "start_time": "2022-03-22T13:20:06.817Z"
   },
   {
    "duration": 19,
    "start_time": "2022-03-22T13:20:06.832Z"
   },
   {
    "duration": 4,
    "start_time": "2022-03-22T13:20:06.853Z"
   },
   {
    "duration": 14,
    "start_time": "2022-03-22T13:20:06.859Z"
   },
   {
    "duration": 29,
    "start_time": "2022-03-22T13:20:06.875Z"
   },
   {
    "duration": 13,
    "start_time": "2022-03-22T13:20:06.905Z"
   },
   {
    "duration": 7,
    "start_time": "2022-03-22T13:20:06.920Z"
   },
   {
    "duration": 18,
    "start_time": "2022-03-22T13:20:06.929Z"
   },
   {
    "duration": 571,
    "start_time": "2022-03-22T13:20:06.949Z"
   },
   {
    "duration": 522,
    "start_time": "2022-03-22T13:20:07.522Z"
   },
   {
    "duration": 3,
    "start_time": "2022-03-22T13:20:08.046Z"
   },
   {
    "duration": 8,
    "start_time": "2022-03-22T13:20:08.050Z"
   },
   {
    "duration": 19,
    "start_time": "2022-03-22T13:20:08.059Z"
   },
   {
    "duration": 23,
    "start_time": "2022-03-22T13:20:08.080Z"
   },
   {
    "duration": 6,
    "start_time": "2022-03-22T13:20:08.105Z"
   },
   {
    "duration": 10,
    "start_time": "2022-03-22T13:20:08.112Z"
   },
   {
    "duration": 15,
    "start_time": "2022-03-22T13:20:08.123Z"
   },
   {
    "duration": 4,
    "start_time": "2022-03-22T13:20:08.139Z"
   },
   {
    "duration": 158,
    "start_time": "2022-03-22T13:20:08.145Z"
   },
   {
    "duration": 10,
    "start_time": "2022-03-22T13:20:08.304Z"
   },
   {
    "duration": 14,
    "start_time": "2022-03-22T13:20:08.316Z"
   },
   {
    "duration": 4,
    "start_time": "2022-03-22T13:20:08.331Z"
   },
   {
    "duration": 5,
    "start_time": "2022-03-22T13:20:08.336Z"
   },
   {
    "duration": 4,
    "start_time": "2022-03-22T13:20:08.343Z"
   },
   {
    "duration": 9,
    "start_time": "2022-03-22T13:20:08.349Z"
   },
   {
    "duration": 42,
    "start_time": "2022-03-22T13:20:08.360Z"
   },
   {
    "duration": 6,
    "start_time": "2022-03-22T13:20:08.403Z"
   },
   {
    "duration": 55,
    "start_time": "2022-03-22T13:20:08.411Z"
   },
   {
    "duration": 0,
    "start_time": "2022-03-22T13:20:08.467Z"
   },
   {
    "duration": 4,
    "start_time": "2022-03-22T13:20:35.120Z"
   },
   {
    "duration": 305,
    "start_time": "2022-03-22T13:20:35.126Z"
   },
   {
    "duration": 20,
    "start_time": "2022-03-22T13:20:35.433Z"
   },
   {
    "duration": 21,
    "start_time": "2022-03-22T13:20:35.455Z"
   },
   {
    "duration": 112,
    "start_time": "2022-03-22T13:20:35.478Z"
   },
   {
    "duration": 33,
    "start_time": "2022-03-22T13:20:35.592Z"
   },
   {
    "duration": 22,
    "start_time": "2022-03-22T13:20:35.627Z"
   },
   {
    "duration": 379,
    "start_time": "2022-03-22T13:20:35.651Z"
   },
   {
    "duration": 19,
    "start_time": "2022-03-22T13:20:36.032Z"
   },
   {
    "duration": 4,
    "start_time": "2022-03-22T13:20:36.054Z"
   },
   {
    "duration": 12,
    "start_time": "2022-03-22T13:20:36.060Z"
   },
   {
    "duration": 35,
    "start_time": "2022-03-22T13:20:36.073Z"
   },
   {
    "duration": 6,
    "start_time": "2022-03-22T13:20:36.109Z"
   },
   {
    "duration": 11,
    "start_time": "2022-03-22T13:20:36.118Z"
   },
   {
    "duration": 3,
    "start_time": "2022-03-22T13:20:36.131Z"
   },
   {
    "duration": 194,
    "start_time": "2022-03-22T13:20:36.136Z"
   },
   {
    "duration": 11,
    "start_time": "2022-03-22T13:20:36.331Z"
   },
   {
    "duration": 7,
    "start_time": "2022-03-22T13:20:36.343Z"
   },
   {
    "duration": 7,
    "start_time": "2022-03-22T13:20:36.352Z"
   },
   {
    "duration": 3,
    "start_time": "2022-03-22T13:20:36.362Z"
   },
   {
    "duration": 57,
    "start_time": "2022-03-22T13:20:36.367Z"
   },
   {
    "duration": 15,
    "start_time": "2022-03-22T13:20:36.426Z"
   },
   {
    "duration": 3,
    "start_time": "2022-03-22T13:20:36.443Z"
   },
   {
    "duration": 223,
    "start_time": "2022-03-22T13:20:36.448Z"
   },
   {
    "duration": 18,
    "start_time": "2022-03-22T13:20:36.672Z"
   },
   {
    "duration": 24,
    "start_time": "2022-03-22T13:20:36.692Z"
   },
   {
    "duration": 19,
    "start_time": "2022-03-22T13:20:36.717Z"
   },
   {
    "duration": 10,
    "start_time": "2022-03-22T13:20:36.741Z"
   },
   {
    "duration": 8,
    "start_time": "2022-03-22T13:20:36.753Z"
   },
   {
    "duration": 44,
    "start_time": "2022-03-22T13:20:36.763Z"
   },
   {
    "duration": 10,
    "start_time": "2022-03-22T13:20:36.809Z"
   },
   {
    "duration": 21,
    "start_time": "2022-03-22T13:20:36.821Z"
   },
   {
    "duration": 14,
    "start_time": "2022-03-22T13:20:36.844Z"
   },
   {
    "duration": 42,
    "start_time": "2022-03-22T13:20:36.860Z"
   },
   {
    "duration": 8,
    "start_time": "2022-03-22T13:20:36.904Z"
   },
   {
    "duration": 10,
    "start_time": "2022-03-22T13:20:36.915Z"
   },
   {
    "duration": 21,
    "start_time": "2022-03-22T13:20:36.927Z"
   },
   {
    "duration": 4,
    "start_time": "2022-03-22T13:20:36.950Z"
   },
   {
    "duration": 45,
    "start_time": "2022-03-22T13:20:36.956Z"
   },
   {
    "duration": 5,
    "start_time": "2022-03-22T13:20:37.003Z"
   },
   {
    "duration": 14,
    "start_time": "2022-03-22T13:20:37.010Z"
   },
   {
    "duration": 4,
    "start_time": "2022-03-22T13:20:37.026Z"
   },
   {
    "duration": 14,
    "start_time": "2022-03-22T13:20:37.032Z"
   },
   {
    "duration": 511,
    "start_time": "2022-03-22T13:20:37.048Z"
   },
   {
    "duration": 884,
    "start_time": "2022-03-22T13:20:37.561Z"
   },
   {
    "duration": 3,
    "start_time": "2022-03-22T13:20:38.447Z"
   },
   {
    "duration": 11,
    "start_time": "2022-03-22T13:20:38.452Z"
   },
   {
    "duration": 27,
    "start_time": "2022-03-22T13:20:38.465Z"
   },
   {
    "duration": 6,
    "start_time": "2022-03-22T13:20:38.501Z"
   },
   {
    "duration": 5,
    "start_time": "2022-03-22T13:20:38.509Z"
   },
   {
    "duration": 7,
    "start_time": "2022-03-22T13:20:38.515Z"
   },
   {
    "duration": 14,
    "start_time": "2022-03-22T13:20:38.523Z"
   },
   {
    "duration": 3,
    "start_time": "2022-03-22T13:20:38.539Z"
   },
   {
    "duration": 157,
    "start_time": "2022-03-22T13:20:38.544Z"
   },
   {
    "duration": 9,
    "start_time": "2022-03-22T13:20:38.702Z"
   },
   {
    "duration": 13,
    "start_time": "2022-03-22T13:20:38.713Z"
   },
   {
    "duration": 3,
    "start_time": "2022-03-22T13:20:38.728Z"
   },
   {
    "duration": 6,
    "start_time": "2022-03-22T13:20:38.732Z"
   },
   {
    "duration": 6,
    "start_time": "2022-03-22T13:20:38.739Z"
   },
   {
    "duration": 10,
    "start_time": "2022-03-22T13:20:38.746Z"
   },
   {
    "duration": 9,
    "start_time": "2022-03-22T13:20:38.759Z"
   },
   {
    "duration": 8,
    "start_time": "2022-03-22T13:20:38.770Z"
   },
   {
    "duration": 46,
    "start_time": "2022-03-22T13:20:38.779Z"
   },
   {
    "duration": 326,
    "start_time": "2022-03-22T13:20:38.903Z"
   },
   {
    "duration": 4,
    "start_time": "2022-03-22T13:21:47.715Z"
   },
   {
    "duration": 295,
    "start_time": "2022-03-22T13:21:47.721Z"
   },
   {
    "duration": 21,
    "start_time": "2022-03-22T13:21:48.018Z"
   },
   {
    "duration": 17,
    "start_time": "2022-03-22T13:21:48.041Z"
   },
   {
    "duration": 80,
    "start_time": "2022-03-22T13:21:48.069Z"
   },
   {
    "duration": 21,
    "start_time": "2022-03-22T13:21:48.151Z"
   },
   {
    "duration": 28,
    "start_time": "2022-03-22T13:21:48.173Z"
   },
   {
    "duration": 364,
    "start_time": "2022-03-22T13:21:48.203Z"
   },
   {
    "duration": 17,
    "start_time": "2022-03-22T13:21:48.569Z"
   },
   {
    "duration": 4,
    "start_time": "2022-03-22T13:21:48.600Z"
   },
   {
    "duration": 10,
    "start_time": "2022-03-22T13:21:48.606Z"
   },
   {
    "duration": 10,
    "start_time": "2022-03-22T13:21:48.618Z"
   },
   {
    "duration": 6,
    "start_time": "2022-03-22T13:21:48.630Z"
   },
   {
    "duration": 10,
    "start_time": "2022-03-22T13:21:48.637Z"
   },
   {
    "duration": 5,
    "start_time": "2022-03-22T13:21:48.648Z"
   },
   {
    "duration": 193,
    "start_time": "2022-03-22T13:21:48.655Z"
   },
   {
    "duration": 9,
    "start_time": "2022-03-22T13:21:48.850Z"
   },
   {
    "duration": 9,
    "start_time": "2022-03-22T13:21:48.861Z"
   },
   {
    "duration": 7,
    "start_time": "2022-03-22T13:21:48.872Z"
   },
   {
    "duration": 21,
    "start_time": "2022-03-22T13:21:48.880Z"
   },
   {
    "duration": 20,
    "start_time": "2022-03-22T13:21:48.903Z"
   },
   {
    "duration": 15,
    "start_time": "2022-03-22T13:21:48.925Z"
   },
   {
    "duration": 4,
    "start_time": "2022-03-22T13:21:48.941Z"
   },
   {
    "duration": 189,
    "start_time": "2022-03-22T13:21:48.947Z"
   },
   {
    "duration": 18,
    "start_time": "2022-03-22T13:21:49.138Z"
   },
   {
    "duration": 21,
    "start_time": "2022-03-22T13:21:49.158Z"
   },
   {
    "duration": 17,
    "start_time": "2022-03-22T13:21:49.201Z"
   },
   {
    "duration": 9,
    "start_time": "2022-03-22T13:21:49.222Z"
   },
   {
    "duration": 7,
    "start_time": "2022-03-22T13:21:49.232Z"
   },
   {
    "duration": 11,
    "start_time": "2022-03-22T13:21:49.240Z"
   },
   {
    "duration": 11,
    "start_time": "2022-03-22T13:21:49.252Z"
   },
   {
    "duration": 58,
    "start_time": "2022-03-22T13:21:49.265Z"
   },
   {
    "duration": 14,
    "start_time": "2022-03-22T13:21:49.325Z"
   },
   {
    "duration": 9,
    "start_time": "2022-03-22T13:21:49.340Z"
   },
   {
    "duration": 13,
    "start_time": "2022-03-22T13:21:49.351Z"
   },
   {
    "duration": 43,
    "start_time": "2022-03-22T13:21:49.366Z"
   },
   {
    "duration": 19,
    "start_time": "2022-03-22T13:21:49.411Z"
   },
   {
    "duration": 11,
    "start_time": "2022-03-22T13:21:49.432Z"
   },
   {
    "duration": 9,
    "start_time": "2022-03-22T13:21:49.444Z"
   },
   {
    "duration": 7,
    "start_time": "2022-03-22T13:21:49.454Z"
   },
   {
    "duration": 20,
    "start_time": "2022-03-22T13:21:49.463Z"
   },
   {
    "duration": 18,
    "start_time": "2022-03-22T13:21:49.485Z"
   },
   {
    "duration": 14,
    "start_time": "2022-03-22T13:21:49.505Z"
   },
   {
    "duration": 552,
    "start_time": "2022-03-22T13:21:49.521Z"
   },
   {
    "duration": 753,
    "start_time": "2022-03-22T13:21:50.075Z"
   },
   {
    "duration": 3,
    "start_time": "2022-03-22T13:21:50.830Z"
   },
   {
    "duration": 6,
    "start_time": "2022-03-22T13:21:50.834Z"
   },
   {
    "duration": 15,
    "start_time": "2022-03-22T13:21:50.842Z"
   },
   {
    "duration": 5,
    "start_time": "2022-03-22T13:21:50.859Z"
   },
   {
    "duration": 5,
    "start_time": "2022-03-22T13:21:50.865Z"
   },
   {
    "duration": 4,
    "start_time": "2022-03-22T13:21:50.872Z"
   },
   {
    "duration": 21,
    "start_time": "2022-03-22T13:21:50.902Z"
   },
   {
    "duration": 4,
    "start_time": "2022-03-22T13:21:50.925Z"
   },
   {
    "duration": 216,
    "start_time": "2022-03-22T13:21:50.930Z"
   },
   {
    "duration": 14,
    "start_time": "2022-03-22T13:21:51.149Z"
   },
   {
    "duration": 36,
    "start_time": "2022-03-22T13:21:51.165Z"
   },
   {
    "duration": 3,
    "start_time": "2022-03-22T13:21:51.203Z"
   },
   {
    "duration": 4,
    "start_time": "2022-03-22T13:21:51.208Z"
   },
   {
    "duration": 10,
    "start_time": "2022-03-22T13:21:51.214Z"
   },
   {
    "duration": 6,
    "start_time": "2022-03-22T13:21:51.226Z"
   },
   {
    "duration": 172,
    "start_time": "2022-03-22T13:21:51.233Z"
   },
   {
    "duration": 611,
    "start_time": "2022-03-22T13:21:51.407Z"
   },
   {
    "duration": 6,
    "start_time": "2022-03-22T13:25:07.513Z"
   },
   {
    "duration": 5,
    "start_time": "2022-03-22T13:27:07.259Z"
   },
   {
    "duration": 299,
    "start_time": "2022-03-22T13:27:07.267Z"
   },
   {
    "duration": 20,
    "start_time": "2022-03-22T13:27:07.568Z"
   },
   {
    "duration": 16,
    "start_time": "2022-03-22T13:27:07.601Z"
   },
   {
    "duration": 85,
    "start_time": "2022-03-22T13:27:07.619Z"
   },
   {
    "duration": 20,
    "start_time": "2022-03-22T13:27:07.705Z"
   },
   {
    "duration": 15,
    "start_time": "2022-03-22T13:27:07.726Z"
   },
   {
    "duration": 539,
    "start_time": "2022-03-22T13:27:07.744Z"
   },
   {
    "duration": 28,
    "start_time": "2022-03-22T13:27:08.285Z"
   },
   {
    "duration": 5,
    "start_time": "2022-03-22T13:27:08.316Z"
   },
   {
    "duration": 34,
    "start_time": "2022-03-22T13:27:08.322Z"
   },
   {
    "duration": 25,
    "start_time": "2022-03-22T13:27:08.358Z"
   },
   {
    "duration": 25,
    "start_time": "2022-03-22T13:27:08.385Z"
   },
   {
    "duration": 29,
    "start_time": "2022-03-22T13:27:08.412Z"
   },
   {
    "duration": 20,
    "start_time": "2022-03-22T13:27:08.443Z"
   },
   {
    "duration": 198,
    "start_time": "2022-03-22T13:27:08.465Z"
   },
   {
    "duration": 9,
    "start_time": "2022-03-22T13:27:08.666Z"
   },
   {
    "duration": 26,
    "start_time": "2022-03-22T13:27:08.676Z"
   },
   {
    "duration": 28,
    "start_time": "2022-03-22T13:27:08.704Z"
   },
   {
    "duration": 21,
    "start_time": "2022-03-22T13:27:08.733Z"
   },
   {
    "duration": 39,
    "start_time": "2022-03-22T13:27:08.755Z"
   },
   {
    "duration": 25,
    "start_time": "2022-03-22T13:27:08.795Z"
   },
   {
    "duration": 20,
    "start_time": "2022-03-22T13:27:08.821Z"
   },
   {
    "duration": 167,
    "start_time": "2022-03-22T13:27:08.843Z"
   },
   {
    "duration": 17,
    "start_time": "2022-03-22T13:27:09.012Z"
   },
   {
    "duration": 34,
    "start_time": "2022-03-22T13:27:09.030Z"
   },
   {
    "duration": 38,
    "start_time": "2022-03-22T13:27:09.066Z"
   },
   {
    "duration": 32,
    "start_time": "2022-03-22T13:27:09.108Z"
   },
   {
    "duration": 10,
    "start_time": "2022-03-22T13:27:09.142Z"
   },
   {
    "duration": 38,
    "start_time": "2022-03-22T13:27:09.154Z"
   },
   {
    "duration": 27,
    "start_time": "2022-03-22T13:27:09.194Z"
   },
   {
    "duration": 32,
    "start_time": "2022-03-22T13:27:09.222Z"
   },
   {
    "duration": 25,
    "start_time": "2022-03-22T13:27:09.256Z"
   },
   {
    "duration": 27,
    "start_time": "2022-03-22T13:27:09.283Z"
   },
   {
    "duration": 29,
    "start_time": "2022-03-22T13:27:09.311Z"
   },
   {
    "duration": 25,
    "start_time": "2022-03-22T13:27:09.342Z"
   },
   {
    "duration": 25,
    "start_time": "2022-03-22T13:27:09.369Z"
   },
   {
    "duration": 8,
    "start_time": "2022-03-22T13:27:09.396Z"
   },
   {
    "duration": 6,
    "start_time": "2022-03-22T13:27:09.407Z"
   },
   {
    "duration": 14,
    "start_time": "2022-03-22T13:27:09.414Z"
   },
   {
    "duration": 34,
    "start_time": "2022-03-22T13:27:09.430Z"
   },
   {
    "duration": 19,
    "start_time": "2022-03-22T13:27:09.465Z"
   },
   {
    "duration": 38,
    "start_time": "2022-03-22T13:27:09.486Z"
   },
   {
    "duration": 691,
    "start_time": "2022-03-22T13:27:09.526Z"
   },
   {
    "duration": 507,
    "start_time": "2022-03-22T13:27:10.219Z"
   },
   {
    "duration": 3,
    "start_time": "2022-03-22T13:27:10.728Z"
   },
   {
    "duration": 23,
    "start_time": "2022-03-22T13:27:10.733Z"
   },
   {
    "duration": 26,
    "start_time": "2022-03-22T13:27:10.758Z"
   },
   {
    "duration": 18,
    "start_time": "2022-03-22T13:27:10.786Z"
   },
   {
    "duration": 10,
    "start_time": "2022-03-22T13:27:10.806Z"
   },
   {
    "duration": 18,
    "start_time": "2022-03-22T13:27:10.818Z"
   },
   {
    "duration": 44,
    "start_time": "2022-03-22T13:27:10.837Z"
   },
   {
    "duration": 15,
    "start_time": "2022-03-22T13:27:10.882Z"
   },
   {
    "duration": 152,
    "start_time": "2022-03-22T13:27:10.898Z"
   },
   {
    "duration": 10,
    "start_time": "2022-03-22T13:27:11.052Z"
   },
   {
    "duration": 28,
    "start_time": "2022-03-22T13:27:11.063Z"
   },
   {
    "duration": 12,
    "start_time": "2022-03-22T13:27:11.093Z"
   },
   {
    "duration": 28,
    "start_time": "2022-03-22T13:27:11.106Z"
   },
   {
    "duration": 24,
    "start_time": "2022-03-22T13:27:11.136Z"
   },
   {
    "duration": 571741,
    "start_time": "2022-03-22T13:27:11.162Z"
   },
   {
    "duration": 15,
    "start_time": "2022-03-22T13:52:34.108Z"
   },
   {
    "duration": 592983,
    "start_time": "2022-03-22T13:53:04.320Z"
   },
   {
    "duration": 5,
    "start_time": "2022-03-22T14:05:11.299Z"
   },
   {
    "duration": 586308,
    "start_time": "2022-03-22T14:05:12.030Z"
   },
   {
    "duration": 6,
    "start_time": "2022-03-22T14:18:36.830Z"
   },
   {
    "duration": 338,
    "start_time": "2022-03-22T14:18:36.838Z"
   },
   {
    "duration": 34,
    "start_time": "2022-03-22T14:18:37.178Z"
   },
   {
    "duration": 18,
    "start_time": "2022-03-22T14:18:37.215Z"
   },
   {
    "duration": 80,
    "start_time": "2022-03-22T14:18:37.235Z"
   },
   {
    "duration": 23,
    "start_time": "2022-03-22T14:18:37.317Z"
   },
   {
    "duration": 19,
    "start_time": "2022-03-22T14:18:37.343Z"
   },
   {
    "duration": 418,
    "start_time": "2022-03-22T14:18:37.365Z"
   },
   {
    "duration": 26,
    "start_time": "2022-03-22T14:18:37.785Z"
   },
   {
    "duration": 4,
    "start_time": "2022-03-22T14:18:37.815Z"
   },
   {
    "duration": 24,
    "start_time": "2022-03-22T14:18:37.821Z"
   },
   {
    "duration": 9,
    "start_time": "2022-03-22T14:18:37.847Z"
   },
   {
    "duration": 9,
    "start_time": "2022-03-22T14:18:37.858Z"
   },
   {
    "duration": 17,
    "start_time": "2022-03-22T14:18:37.869Z"
   },
   {
    "duration": 5,
    "start_time": "2022-03-22T14:18:37.909Z"
   },
   {
    "duration": 198,
    "start_time": "2022-03-22T14:18:37.917Z"
   },
   {
    "duration": 9,
    "start_time": "2022-03-22T14:18:38.118Z"
   },
   {
    "duration": 6,
    "start_time": "2022-03-22T14:18:38.129Z"
   },
   {
    "duration": 11,
    "start_time": "2022-03-22T14:18:38.137Z"
   },
   {
    "duration": 4,
    "start_time": "2022-03-22T14:18:38.150Z"
   },
   {
    "duration": 66,
    "start_time": "2022-03-22T14:18:38.156Z"
   },
   {
    "duration": 17,
    "start_time": "2022-03-22T14:18:38.224Z"
   },
   {
    "duration": 4,
    "start_time": "2022-03-22T14:18:38.243Z"
   },
   {
    "duration": 214,
    "start_time": "2022-03-22T14:18:38.249Z"
   },
   {
    "duration": 25,
    "start_time": "2022-03-22T14:18:38.465Z"
   },
   {
    "duration": 37,
    "start_time": "2022-03-22T14:18:38.491Z"
   },
   {
    "duration": 27,
    "start_time": "2022-03-22T14:18:38.530Z"
   },
   {
    "duration": 9,
    "start_time": "2022-03-22T14:18:38.562Z"
   },
   {
    "duration": 8,
    "start_time": "2022-03-22T14:18:38.573Z"
   },
   {
    "duration": 15,
    "start_time": "2022-03-22T14:18:38.609Z"
   },
   {
    "duration": 12,
    "start_time": "2022-03-22T14:18:38.630Z"
   },
   {
    "duration": 35,
    "start_time": "2022-03-22T14:18:38.644Z"
   },
   {
    "duration": 35,
    "start_time": "2022-03-22T14:18:38.681Z"
   },
   {
    "duration": 12,
    "start_time": "2022-03-22T14:18:38.719Z"
   },
   {
    "duration": 13,
    "start_time": "2022-03-22T14:18:38.735Z"
   },
   {
    "duration": 13,
    "start_time": "2022-03-22T14:18:38.750Z"
   },
   {
    "duration": 53,
    "start_time": "2022-03-22T14:18:38.767Z"
   },
   {
    "duration": 3,
    "start_time": "2022-03-22T14:18:38.822Z"
   },
   {
    "duration": 11,
    "start_time": "2022-03-22T14:18:38.828Z"
   },
   {
    "duration": 7,
    "start_time": "2022-03-22T14:18:38.840Z"
   },
   {
    "duration": 17,
    "start_time": "2022-03-22T14:18:38.848Z"
   },
   {
    "duration": 6,
    "start_time": "2022-03-22T14:18:38.866Z"
   },
   {
    "duration": 33,
    "start_time": "2022-03-22T14:18:38.874Z"
   },
   {
    "duration": 947,
    "start_time": "2022-03-22T14:18:38.913Z"
   },
   {
    "duration": 890,
    "start_time": "2022-03-22T14:18:39.862Z"
   },
   {
    "duration": 4,
    "start_time": "2022-03-22T14:18:40.754Z"
   },
   {
    "duration": 9,
    "start_time": "2022-03-22T14:18:40.761Z"
   },
   {
    "duration": 34,
    "start_time": "2022-03-22T14:18:40.772Z"
   },
   {
    "duration": 30,
    "start_time": "2022-03-22T14:18:40.808Z"
   },
   {
    "duration": 11,
    "start_time": "2022-03-22T14:18:40.840Z"
   },
   {
    "duration": 11,
    "start_time": "2022-03-22T14:18:40.853Z"
   },
   {
    "duration": 31,
    "start_time": "2022-03-22T14:18:40.866Z"
   },
   {
    "duration": 10,
    "start_time": "2022-03-22T14:18:40.899Z"
   },
   {
    "duration": 211,
    "start_time": "2022-03-22T14:18:40.911Z"
   },
   {
    "duration": 13,
    "start_time": "2022-03-22T14:18:41.125Z"
   },
   {
    "duration": 18,
    "start_time": "2022-03-22T14:18:41.141Z"
   },
   {
    "duration": 4,
    "start_time": "2022-03-22T14:18:41.161Z"
   },
   {
    "duration": 4,
    "start_time": "2022-03-22T14:18:41.167Z"
   },
   {
    "duration": 31,
    "start_time": "2022-03-22T14:18:41.173Z"
   },
   {
    "duration": 590430,
    "start_time": "2022-03-22T14:18:41.206Z"
   },
   {
    "duration": 4,
    "start_time": "2022-03-22T14:37:52.118Z"
   },
   {
    "duration": 147803,
    "start_time": "2022-03-22T14:37:52.582Z"
   },
   {
    "duration": 13,
    "start_time": "2022-03-22T14:42:09.945Z"
   },
   {
    "duration": 8,
    "start_time": "2022-03-22T14:43:17.418Z"
   },
   {
    "duration": 17,
    "start_time": "2022-03-22T14:45:24.123Z"
   },
   {
    "duration": 327,
    "start_time": "2022-03-22T14:50:55.881Z"
   },
   {
    "duration": 10,
    "start_time": "2022-03-22T14:51:02.631Z"
   },
   {
    "duration": 15,
    "start_time": "2022-03-22T14:51:07.801Z"
   },
   {
    "duration": 449,
    "start_time": "2022-03-22T14:51:24.460Z"
   },
   {
    "duration": 9,
    "start_time": "2022-03-22T14:51:25.960Z"
   },
   {
    "duration": 16,
    "start_time": "2022-03-22T14:51:29.849Z"
   },
   {
    "duration": 476,
    "start_time": "2022-03-22T14:51:59.828Z"
   },
   {
    "duration": 9,
    "start_time": "2022-03-22T14:52:01.118Z"
   },
   {
    "duration": 9,
    "start_time": "2022-03-22T14:52:06.759Z"
   },
   {
    "duration": 10,
    "start_time": "2022-03-22T14:52:10.379Z"
   },
   {
    "duration": 366,
    "start_time": "2022-03-22T14:52:27.540Z"
   },
   {
    "duration": 8,
    "start_time": "2022-03-22T14:52:28.580Z"
   },
   {
    "duration": 16,
    "start_time": "2022-03-22T14:52:29.929Z"
   },
   {
    "duration": 218,
    "start_time": "2022-03-22T14:53:40.875Z"
   },
   {
    "duration": 48175,
    "start_time": "2022-03-23T06:09:37.562Z"
   },
   {
    "duration": 3554,
    "start_time": "2022-03-23T06:10:25.739Z"
   },
   {
    "duration": 28,
    "start_time": "2022-03-23T06:10:29.294Z"
   },
   {
    "duration": 17,
    "start_time": "2022-03-23T06:10:29.323Z"
   },
   {
    "duration": 66,
    "start_time": "2022-03-23T06:10:29.341Z"
   },
   {
    "duration": 17,
    "start_time": "2022-03-23T06:10:29.409Z"
   },
   {
    "duration": 17,
    "start_time": "2022-03-23T06:10:29.428Z"
   },
   {
    "duration": 310,
    "start_time": "2022-03-23T06:10:29.447Z"
   },
   {
    "duration": 16,
    "start_time": "2022-03-23T06:10:29.758Z"
   },
   {
    "duration": 3,
    "start_time": "2022-03-23T06:10:29.777Z"
   },
   {
    "duration": 20,
    "start_time": "2022-03-23T06:10:29.782Z"
   },
   {
    "duration": 11,
    "start_time": "2022-03-23T06:10:29.803Z"
   },
   {
    "duration": 8,
    "start_time": "2022-03-23T06:10:29.815Z"
   },
   {
    "duration": 9,
    "start_time": "2022-03-23T06:10:29.824Z"
   },
   {
    "duration": 3,
    "start_time": "2022-03-23T06:10:29.834Z"
   },
   {
    "duration": 178,
    "start_time": "2022-03-23T06:10:29.838Z"
   },
   {
    "duration": 9,
    "start_time": "2022-03-23T06:10:30.018Z"
   },
   {
    "duration": 8,
    "start_time": "2022-03-23T06:10:30.029Z"
   },
   {
    "duration": 7,
    "start_time": "2022-03-23T06:10:30.039Z"
   },
   {
    "duration": 7,
    "start_time": "2022-03-23T06:10:30.047Z"
   },
   {
    "duration": 20,
    "start_time": "2022-03-23T06:10:30.056Z"
   },
   {
    "duration": 34,
    "start_time": "2022-03-23T06:10:30.078Z"
   },
   {
    "duration": 14,
    "start_time": "2022-03-23T06:10:30.114Z"
   },
   {
    "duration": 27,
    "start_time": "2022-03-23T06:10:30.130Z"
   },
   {
    "duration": 3018,
    "start_time": "2022-03-23T07:19:46.422Z"
   },
   {
    "duration": 317,
    "start_time": "2022-03-23T07:19:49.443Z"
   },
   {
    "duration": 41,
    "start_time": "2022-03-23T07:19:49.763Z"
   },
   {
    "duration": 29,
    "start_time": "2022-03-23T07:19:49.806Z"
   },
   {
    "duration": 109,
    "start_time": "2022-03-23T07:19:49.837Z"
   },
   {
    "duration": 41,
    "start_time": "2022-03-23T07:19:49.948Z"
   },
   {
    "duration": 20,
    "start_time": "2022-03-23T07:19:49.991Z"
   },
   {
    "duration": 428,
    "start_time": "2022-03-23T07:19:50.014Z"
   },
   {
    "duration": 41,
    "start_time": "2022-03-23T07:19:50.444Z"
   },
   {
    "duration": 5,
    "start_time": "2022-03-23T07:19:50.489Z"
   },
   {
    "duration": 15,
    "start_time": "2022-03-23T07:19:50.496Z"
   },
   {
    "duration": 22,
    "start_time": "2022-03-23T07:19:50.513Z"
   },
   {
    "duration": 42,
    "start_time": "2022-03-23T07:19:50.537Z"
   },
   {
    "duration": 14,
    "start_time": "2022-03-23T07:19:50.581Z"
   },
   {
    "duration": 5,
    "start_time": "2022-03-23T07:19:50.597Z"
   },
   {
    "duration": 328,
    "start_time": "2022-03-23T07:19:50.604Z"
   },
   {
    "duration": 14,
    "start_time": "2022-03-23T07:19:50.934Z"
   },
   {
    "duration": 25,
    "start_time": "2022-03-23T07:19:50.950Z"
   },
   {
    "duration": 11,
    "start_time": "2022-03-23T07:19:50.977Z"
   },
   {
    "duration": 4,
    "start_time": "2022-03-23T07:19:50.991Z"
   },
   {
    "duration": 35,
    "start_time": "2022-03-23T07:19:50.997Z"
   },
   {
    "duration": 55,
    "start_time": "2022-03-23T07:19:51.034Z"
   },
   {
    "duration": 7,
    "start_time": "2022-03-23T07:19:51.091Z"
   },
   {
    "duration": 42,
    "start_time": "2022-03-23T07:19:51.101Z"
   },
   {
    "duration": 301,
    "start_time": "2022-03-23T07:19:51.145Z"
   },
   {
    "duration": 37,
    "start_time": "2022-03-23T07:19:51.448Z"
   },
   {
    "duration": 33,
    "start_time": "2022-03-23T07:19:51.487Z"
   },
   {
    "duration": 54,
    "start_time": "2022-03-23T07:19:51.525Z"
   },
   {
    "duration": 12,
    "start_time": "2022-03-23T07:19:51.582Z"
   },
   {
    "duration": 10,
    "start_time": "2022-03-23T07:19:51.596Z"
   },
   {
    "duration": 15,
    "start_time": "2022-03-23T07:19:51.608Z"
   },
   {
    "duration": 61,
    "start_time": "2022-03-23T07:19:51.625Z"
   },
   {
    "duration": 37,
    "start_time": "2022-03-23T07:19:51.688Z"
   },
   {
    "duration": 135,
    "start_time": "2022-03-23T07:19:51.727Z"
   },
   {
    "duration": 13,
    "start_time": "2022-03-23T07:19:51.873Z"
   },
   {
    "duration": 9,
    "start_time": "2022-03-23T07:19:51.888Z"
   },
   {
    "duration": 16,
    "start_time": "2022-03-23T07:19:51.899Z"
   },
   {
    "duration": 75,
    "start_time": "2022-03-23T07:19:51.917Z"
   },
   {
    "duration": 4,
    "start_time": "2022-03-23T07:19:51.994Z"
   },
   {
    "duration": 11,
    "start_time": "2022-03-23T07:19:52.000Z"
   },
   {
    "duration": 11,
    "start_time": "2022-03-23T07:19:52.013Z"
   },
   {
    "duration": 49,
    "start_time": "2022-03-23T07:19:52.026Z"
   },
   {
    "duration": 7,
    "start_time": "2022-03-23T07:19:52.078Z"
   },
   {
    "duration": 18,
    "start_time": "2022-03-23T07:19:52.088Z"
   },
   {
    "duration": 941,
    "start_time": "2022-03-23T07:19:52.108Z"
   },
   {
    "duration": 1012,
    "start_time": "2022-03-23T07:19:53.051Z"
   },
   {
    "duration": 5,
    "start_time": "2022-03-23T07:19:54.073Z"
   },
   {
    "duration": 30,
    "start_time": "2022-03-23T07:19:54.080Z"
   },
   {
    "duration": 39,
    "start_time": "2022-03-23T07:19:54.113Z"
   },
   {
    "duration": 36,
    "start_time": "2022-03-23T07:19:54.154Z"
   },
   {
    "duration": 41,
    "start_time": "2022-03-23T07:19:54.192Z"
   },
   {
    "duration": 18,
    "start_time": "2022-03-23T07:19:54.236Z"
   },
   {
    "duration": 46,
    "start_time": "2022-03-23T07:19:54.257Z"
   },
   {
    "duration": 23,
    "start_time": "2022-03-23T07:19:54.306Z"
   },
   {
    "duration": 252,
    "start_time": "2022-03-23T07:19:54.331Z"
   },
   {
    "duration": 16,
    "start_time": "2022-03-23T07:19:54.585Z"
   },
   {
    "duration": 33,
    "start_time": "2022-03-23T07:19:54.604Z"
   },
   {
    "duration": 4,
    "start_time": "2022-03-23T07:19:54.640Z"
   },
   {
    "duration": 4,
    "start_time": "2022-03-23T07:19:54.675Z"
   },
   {
    "duration": 17,
    "start_time": "2022-03-23T07:19:54.682Z"
   },
   {
    "duration": 294,
    "start_time": "2022-03-23T07:19:54.701Z"
   },
   {
    "duration": 6,
    "start_time": "2022-03-23T07:19:54.999Z"
   },
   {
    "duration": 204,
    "start_time": "2022-03-23T07:19:55.007Z"
   },
   {
    "duration": 0,
    "start_time": "2022-03-23T07:19:55.214Z"
   },
   {
    "duration": 0,
    "start_time": "2022-03-23T07:19:55.217Z"
   },
   {
    "duration": 43,
    "start_time": "2022-03-23T07:24:50.029Z"
   },
   {
    "duration": 27,
    "start_time": "2022-03-23T07:25:07.514Z"
   },
   {
    "duration": 6,
    "start_time": "2022-03-23T07:25:18.693Z"
   },
   {
    "duration": 359,
    "start_time": "2022-03-23T07:25:18.702Z"
   },
   {
    "duration": 41,
    "start_time": "2022-03-23T07:25:19.063Z"
   },
   {
    "duration": 33,
    "start_time": "2022-03-23T07:25:19.108Z"
   },
   {
    "duration": 108,
    "start_time": "2022-03-23T07:25:19.144Z"
   },
   {
    "duration": 40,
    "start_time": "2022-03-23T07:25:19.257Z"
   },
   {
    "duration": 20,
    "start_time": "2022-03-23T07:25:19.299Z"
   },
   {
    "duration": 603,
    "start_time": "2022-03-23T07:25:19.321Z"
   },
   {
    "duration": 47,
    "start_time": "2022-03-23T07:25:19.927Z"
   },
   {
    "duration": 6,
    "start_time": "2022-03-23T07:25:19.979Z"
   },
   {
    "duration": 17,
    "start_time": "2022-03-23T07:25:19.988Z"
   },
   {
    "duration": 19,
    "start_time": "2022-03-23T07:25:20.008Z"
   },
   {
    "duration": 12,
    "start_time": "2022-03-23T07:25:20.029Z"
   },
   {
    "duration": 19,
    "start_time": "2022-03-23T07:25:20.073Z"
   },
   {
    "duration": 16,
    "start_time": "2022-03-23T07:25:20.095Z"
   },
   {
    "duration": 313,
    "start_time": "2022-03-23T07:25:20.114Z"
   },
   {
    "duration": 14,
    "start_time": "2022-03-23T07:25:20.430Z"
   },
   {
    "duration": 29,
    "start_time": "2022-03-23T07:25:20.447Z"
   },
   {
    "duration": 22,
    "start_time": "2022-03-23T07:25:20.478Z"
   },
   {
    "duration": 38,
    "start_time": "2022-03-23T07:25:20.503Z"
   },
   {
    "duration": 78,
    "start_time": "2022-03-23T07:25:20.544Z"
   },
   {
    "duration": 39,
    "start_time": "2022-03-23T07:25:20.625Z"
   },
   {
    "duration": 24,
    "start_time": "2022-03-23T07:25:20.666Z"
   },
   {
    "duration": 66,
    "start_time": "2022-03-23T07:25:20.692Z"
   },
   {
    "duration": 380,
    "start_time": "2022-03-23T07:25:20.762Z"
   },
   {
    "duration": 39,
    "start_time": "2022-03-23T07:25:21.144Z"
   },
   {
    "duration": 84,
    "start_time": "2022-03-23T07:25:21.185Z"
   },
   {
    "duration": 37,
    "start_time": "2022-03-23T07:25:21.278Z"
   },
   {
    "duration": 29,
    "start_time": "2022-03-23T07:25:21.317Z"
   },
   {
    "duration": 21,
    "start_time": "2022-03-23T07:25:21.349Z"
   },
   {
    "duration": 32,
    "start_time": "2022-03-23T07:25:21.377Z"
   },
   {
    "duration": 32,
    "start_time": "2022-03-23T07:25:21.411Z"
   },
   {
    "duration": 54,
    "start_time": "2022-03-23T07:25:21.445Z"
   },
   {
    "duration": 119,
    "start_time": "2022-03-23T07:25:21.502Z"
   },
   {
    "duration": 28,
    "start_time": "2022-03-23T07:25:21.624Z"
   },
   {
    "duration": 32,
    "start_time": "2022-03-23T07:25:21.655Z"
   },
   {
    "duration": 19,
    "start_time": "2022-03-23T07:25:21.689Z"
   },
   {
    "duration": 22,
    "start_time": "2022-03-23T07:25:21.711Z"
   },
   {
    "duration": 76,
    "start_time": "2022-03-23T07:25:21.736Z"
   },
   {
    "duration": 6,
    "start_time": "2022-03-23T07:25:21.815Z"
   },
   {
    "duration": 36,
    "start_time": "2022-03-23T07:25:21.823Z"
   },
   {
    "duration": 27,
    "start_time": "2022-03-23T07:25:21.861Z"
   },
   {
    "duration": 43,
    "start_time": "2022-03-23T07:25:21.890Z"
   },
   {
    "duration": 25,
    "start_time": "2022-03-23T07:25:21.935Z"
   },
   {
    "duration": 44,
    "start_time": "2022-03-23T07:25:21.963Z"
   },
   {
    "duration": 905,
    "start_time": "2022-03-23T07:25:22.009Z"
   },
   {
    "duration": 1270,
    "start_time": "2022-03-23T07:25:22.916Z"
   },
   {
    "duration": 5,
    "start_time": "2022-03-23T07:25:24.188Z"
   },
   {
    "duration": 9,
    "start_time": "2022-03-23T07:25:24.196Z"
   },
   {
    "duration": 27,
    "start_time": "2022-03-23T07:25:24.208Z"
   },
   {
    "duration": 38,
    "start_time": "2022-03-23T07:25:24.237Z"
   },
   {
    "duration": 10,
    "start_time": "2022-03-23T07:25:24.278Z"
   },
   {
    "duration": 9,
    "start_time": "2022-03-23T07:25:24.291Z"
   },
   {
    "duration": 29,
    "start_time": "2022-03-23T07:25:24.303Z"
   },
   {
    "duration": 5,
    "start_time": "2022-03-23T07:25:24.334Z"
   },
   {
    "duration": 403,
    "start_time": "2022-03-23T07:25:24.341Z"
   },
   {
    "duration": 27,
    "start_time": "2022-03-23T07:25:24.747Z"
   },
   {
    "duration": 28,
    "start_time": "2022-03-23T07:25:24.777Z"
   },
   {
    "duration": 4,
    "start_time": "2022-03-23T07:25:24.808Z"
   },
   {
    "duration": 5,
    "start_time": "2022-03-23T07:25:24.814Z"
   },
   {
    "duration": 11,
    "start_time": "2022-03-23T07:25:24.822Z"
   },
   {
    "duration": 314,
    "start_time": "2022-03-23T07:25:24.835Z"
   },
   {
    "duration": 6,
    "start_time": "2022-03-23T07:25:25.152Z"
   },
   {
    "duration": 38,
    "start_time": "2022-03-23T07:25:25.160Z"
   },
   {
    "duration": 0,
    "start_time": "2022-03-23T07:25:25.200Z"
   },
   {
    "duration": 0,
    "start_time": "2022-03-23T07:25:25.202Z"
   },
   {
    "duration": 9,
    "start_time": "2022-03-23T07:26:07.508Z"
   },
   {
    "duration": 485,
    "start_time": "2022-03-23T07:26:07.520Z"
   },
   {
    "duration": 37,
    "start_time": "2022-03-23T07:26:08.008Z"
   },
   {
    "duration": 52,
    "start_time": "2022-03-23T07:26:08.049Z"
   },
   {
    "duration": 114,
    "start_time": "2022-03-23T07:26:08.103Z"
   },
   {
    "duration": 32,
    "start_time": "2022-03-23T07:26:08.219Z"
   },
   {
    "duration": 47,
    "start_time": "2022-03-23T07:26:08.254Z"
   },
   {
    "duration": 524,
    "start_time": "2022-03-23T07:26:08.303Z"
   },
   {
    "duration": 27,
    "start_time": "2022-03-23T07:26:08.830Z"
   },
   {
    "duration": 6,
    "start_time": "2022-03-23T07:26:08.874Z"
   },
   {
    "duration": 22,
    "start_time": "2022-03-23T07:26:08.883Z"
   },
   {
    "duration": 21,
    "start_time": "2022-03-23T07:26:08.909Z"
   },
   {
    "duration": 10,
    "start_time": "2022-03-23T07:26:08.933Z"
   },
   {
    "duration": 18,
    "start_time": "2022-03-23T07:26:08.974Z"
   },
   {
    "duration": 12,
    "start_time": "2022-03-23T07:26:08.995Z"
   },
   {
    "duration": 464,
    "start_time": "2022-03-23T07:26:09.010Z"
   },
   {
    "duration": 18,
    "start_time": "2022-03-23T07:26:09.477Z"
   },
   {
    "duration": 16,
    "start_time": "2022-03-23T07:26:09.498Z"
   },
   {
    "duration": 40,
    "start_time": "2022-03-23T07:26:09.517Z"
   },
   {
    "duration": 26,
    "start_time": "2022-03-23T07:26:09.574Z"
   },
   {
    "duration": 48,
    "start_time": "2022-03-23T07:26:09.602Z"
   },
   {
    "duration": 24,
    "start_time": "2022-03-23T07:26:09.653Z"
   },
   {
    "duration": 4,
    "start_time": "2022-03-23T07:26:09.680Z"
   },
   {
    "duration": 55,
    "start_time": "2022-03-23T07:26:09.687Z"
   },
   {
    "duration": 359,
    "start_time": "2022-03-23T07:26:09.744Z"
   },
   {
    "duration": 45,
    "start_time": "2022-03-23T07:26:10.107Z"
   },
   {
    "duration": 36,
    "start_time": "2022-03-23T07:26:10.176Z"
   },
   {
    "duration": 58,
    "start_time": "2022-03-23T07:26:10.221Z"
   },
   {
    "duration": 22,
    "start_time": "2022-03-23T07:26:10.282Z"
   },
   {
    "duration": 16,
    "start_time": "2022-03-23T07:26:10.308Z"
   },
   {
    "duration": 53,
    "start_time": "2022-03-23T07:26:10.327Z"
   },
   {
    "duration": 19,
    "start_time": "2022-03-23T07:26:10.383Z"
   },
   {
    "duration": 74,
    "start_time": "2022-03-23T07:26:10.406Z"
   },
   {
    "duration": 69,
    "start_time": "2022-03-23T07:26:10.483Z"
   },
   {
    "duration": 82,
    "start_time": "2022-03-23T07:26:10.555Z"
   },
   {
    "duration": 91,
    "start_time": "2022-03-23T07:26:10.640Z"
   },
   {
    "duration": 47,
    "start_time": "2022-03-23T07:26:10.734Z"
   },
   {
    "duration": 14,
    "start_time": "2022-03-23T07:26:10.784Z"
   },
   {
    "duration": 13,
    "start_time": "2022-03-23T07:26:10.800Z"
   },
   {
    "duration": 15,
    "start_time": "2022-03-23T07:26:10.816Z"
   },
   {
    "duration": 69,
    "start_time": "2022-03-23T07:26:10.833Z"
   },
   {
    "duration": 9,
    "start_time": "2022-03-23T07:26:10.905Z"
   },
   {
    "duration": 8,
    "start_time": "2022-03-23T07:26:10.917Z"
   },
   {
    "duration": 46,
    "start_time": "2022-03-23T07:26:10.927Z"
   },
   {
    "duration": 21,
    "start_time": "2022-03-23T07:26:10.976Z"
   },
   {
    "duration": 13,
    "start_time": "2022-03-23T07:26:11.000Z"
   },
   {
    "duration": 15,
    "start_time": "2022-03-23T07:26:11.015Z"
   },
   {
    "duration": 1174,
    "start_time": "2022-03-23T07:26:11.033Z"
   },
   {
    "duration": 1122,
    "start_time": "2022-03-23T07:26:12.209Z"
   },
   {
    "duration": 4,
    "start_time": "2022-03-23T07:26:13.334Z"
   },
   {
    "duration": 12,
    "start_time": "2022-03-23T07:26:13.340Z"
   },
   {
    "duration": 34,
    "start_time": "2022-03-23T07:26:13.373Z"
   },
   {
    "duration": 7,
    "start_time": "2022-03-23T07:26:13.410Z"
   },
   {
    "duration": 13,
    "start_time": "2022-03-23T07:26:13.419Z"
   },
   {
    "duration": 7,
    "start_time": "2022-03-23T07:26:13.435Z"
   },
   {
    "duration": 24,
    "start_time": "2022-03-23T07:26:13.474Z"
   },
   {
    "duration": 5,
    "start_time": "2022-03-23T07:26:13.501Z"
   },
   {
    "duration": 433,
    "start_time": "2022-03-23T07:26:13.508Z"
   },
   {
    "duration": 29,
    "start_time": "2022-03-23T07:26:13.945Z"
   },
   {
    "duration": 36,
    "start_time": "2022-03-23T07:26:13.976Z"
   },
   {
    "duration": 4,
    "start_time": "2022-03-23T07:26:14.015Z"
   },
   {
    "duration": 16,
    "start_time": "2022-03-23T07:26:14.023Z"
   },
   {
    "duration": 30,
    "start_time": "2022-03-23T07:26:14.044Z"
   },
   {
    "duration": 372,
    "start_time": "2022-03-23T07:26:14.078Z"
   },
   {
    "duration": 10,
    "start_time": "2022-03-23T07:26:14.453Z"
   },
   {
    "duration": 40,
    "start_time": "2022-03-23T07:26:14.466Z"
   },
   {
    "duration": 0,
    "start_time": "2022-03-23T07:26:14.509Z"
   },
   {
    "duration": 0,
    "start_time": "2022-03-23T07:26:14.511Z"
   },
   {
    "duration": 7,
    "start_time": "2022-03-23T07:27:11.138Z"
   },
   {
    "duration": 438,
    "start_time": "2022-03-23T07:27:11.148Z"
   },
   {
    "duration": 33,
    "start_time": "2022-03-23T07:27:11.588Z"
   },
   {
    "duration": 52,
    "start_time": "2022-03-23T07:27:11.624Z"
   },
   {
    "duration": 105,
    "start_time": "2022-03-23T07:27:11.678Z"
   },
   {
    "duration": 40,
    "start_time": "2022-03-23T07:27:11.786Z"
   },
   {
    "duration": 46,
    "start_time": "2022-03-23T07:27:11.829Z"
   },
   {
    "duration": 498,
    "start_time": "2022-03-23T07:27:11.878Z"
   },
   {
    "duration": 27,
    "start_time": "2022-03-23T07:27:12.378Z"
   },
   {
    "duration": 5,
    "start_time": "2022-03-23T07:27:12.409Z"
   },
   {
    "duration": 34,
    "start_time": "2022-03-23T07:27:12.416Z"
   },
   {
    "duration": 32,
    "start_time": "2022-03-23T07:27:12.452Z"
   },
   {
    "duration": 12,
    "start_time": "2022-03-23T07:27:12.487Z"
   },
   {
    "duration": 23,
    "start_time": "2022-03-23T07:27:12.502Z"
   },
   {
    "duration": 14,
    "start_time": "2022-03-23T07:27:12.528Z"
   },
   {
    "duration": 324,
    "start_time": "2022-03-23T07:27:12.544Z"
   },
   {
    "duration": 15,
    "start_time": "2022-03-23T07:27:12.871Z"
   },
   {
    "duration": 17,
    "start_time": "2022-03-23T07:27:12.889Z"
   },
   {
    "duration": 12,
    "start_time": "2022-03-23T07:27:12.909Z"
   },
   {
    "duration": 8,
    "start_time": "2022-03-23T07:27:12.924Z"
   },
   {
    "duration": 62,
    "start_time": "2022-03-23T07:27:12.935Z"
   },
   {
    "duration": 25,
    "start_time": "2022-03-23T07:27:13.000Z"
   },
   {
    "duration": 7,
    "start_time": "2022-03-23T07:27:13.028Z"
   },
   {
    "duration": 84,
    "start_time": "2022-03-23T07:27:13.037Z"
   },
   {
    "duration": 307,
    "start_time": "2022-03-23T07:27:13.124Z"
   },
   {
    "duration": 32,
    "start_time": "2022-03-23T07:27:13.433Z"
   },
   {
    "duration": 56,
    "start_time": "2022-03-23T07:27:13.475Z"
   },
   {
    "duration": 45,
    "start_time": "2022-03-23T07:27:13.540Z"
   },
   {
    "duration": 25,
    "start_time": "2022-03-23T07:27:13.588Z"
   },
   {
    "duration": 13,
    "start_time": "2022-03-23T07:27:13.616Z"
   },
   {
    "duration": 44,
    "start_time": "2022-03-23T07:27:13.633Z"
   },
   {
    "duration": 18,
    "start_time": "2022-03-23T07:27:13.680Z"
   },
   {
    "duration": 42,
    "start_time": "2022-03-23T07:27:13.700Z"
   },
   {
    "duration": 58,
    "start_time": "2022-03-23T07:27:13.745Z"
   },
   {
    "duration": 24,
    "start_time": "2022-03-23T07:27:13.805Z"
   },
   {
    "duration": 27,
    "start_time": "2022-03-23T07:27:13.831Z"
   },
   {
    "duration": 11,
    "start_time": "2022-03-23T07:27:13.875Z"
   },
   {
    "duration": 17,
    "start_time": "2022-03-23T07:27:13.889Z"
   },
   {
    "duration": 16,
    "start_time": "2022-03-23T07:27:13.910Z"
   },
   {
    "duration": 70,
    "start_time": "2022-03-23T07:27:13.929Z"
   },
   {
    "duration": 5,
    "start_time": "2022-03-23T07:27:14.001Z"
   },
   {
    "duration": 12,
    "start_time": "2022-03-23T07:27:14.008Z"
   },
   {
    "duration": 13,
    "start_time": "2022-03-23T07:27:14.023Z"
   },
   {
    "duration": 47,
    "start_time": "2022-03-23T07:27:14.038Z"
   },
   {
    "duration": 6,
    "start_time": "2022-03-23T07:27:14.087Z"
   },
   {
    "duration": 30,
    "start_time": "2022-03-23T07:27:14.094Z"
   },
   {
    "duration": 1178,
    "start_time": "2022-03-23T07:27:14.127Z"
   },
   {
    "duration": 918,
    "start_time": "2022-03-23T07:27:15.308Z"
   },
   {
    "duration": 4,
    "start_time": "2022-03-23T07:27:16.228Z"
   },
   {
    "duration": 12,
    "start_time": "2022-03-23T07:27:16.234Z"
   },
   {
    "duration": 42,
    "start_time": "2022-03-23T07:27:16.248Z"
   },
   {
    "duration": 8,
    "start_time": "2022-03-23T07:27:16.292Z"
   },
   {
    "duration": 8,
    "start_time": "2022-03-23T07:27:16.302Z"
   },
   {
    "duration": 7,
    "start_time": "2022-03-23T07:27:16.312Z"
   },
   {
    "duration": 24,
    "start_time": "2022-03-23T07:27:16.322Z"
   },
   {
    "duration": 4,
    "start_time": "2022-03-23T07:27:16.375Z"
   },
   {
    "duration": 254,
    "start_time": "2022-03-23T07:27:16.381Z"
   },
   {
    "duration": 13,
    "start_time": "2022-03-23T07:27:16.638Z"
   },
   {
    "duration": 38,
    "start_time": "2022-03-23T07:27:16.654Z"
   },
   {
    "duration": 4,
    "start_time": "2022-03-23T07:27:16.695Z"
   },
   {
    "duration": 14,
    "start_time": "2022-03-23T07:27:16.702Z"
   },
   {
    "duration": 10,
    "start_time": "2022-03-23T07:27:16.719Z"
   },
   {
    "duration": 299,
    "start_time": "2022-03-23T07:27:16.731Z"
   },
   {
    "duration": 6,
    "start_time": "2022-03-23T07:27:17.032Z"
   },
   {
    "duration": 44,
    "start_time": "2022-03-23T07:27:17.040Z"
   },
   {
    "duration": 0,
    "start_time": "2022-03-23T07:27:17.086Z"
   },
   {
    "duration": 0,
    "start_time": "2022-03-23T07:27:17.087Z"
   },
   {
    "duration": 44,
    "start_time": "2022-03-23T18:53:22.204Z"
   },
   {
    "duration": 1691,
    "start_time": "2022-03-23T18:53:26.007Z"
   },
   {
    "duration": 244,
    "start_time": "2022-03-23T18:53:27.701Z"
   },
   {
    "duration": 22,
    "start_time": "2022-03-23T18:53:27.947Z"
   },
   {
    "duration": 33,
    "start_time": "2022-03-23T18:53:27.971Z"
   },
   {
    "duration": 72,
    "start_time": "2022-03-23T18:53:28.005Z"
   },
   {
    "duration": 17,
    "start_time": "2022-03-23T18:53:28.079Z"
   },
   {
    "duration": 12,
    "start_time": "2022-03-23T18:53:28.101Z"
   },
   {
    "duration": 314,
    "start_time": "2022-03-23T18:53:28.114Z"
   },
   {
    "duration": 16,
    "start_time": "2022-03-23T18:53:28.429Z"
   },
   {
    "duration": 4,
    "start_time": "2022-03-23T18:53:28.447Z"
   },
   {
    "duration": 9,
    "start_time": "2022-03-23T18:53:28.453Z"
   },
   {
    "duration": 10,
    "start_time": "2022-03-23T18:53:28.463Z"
   },
   {
    "duration": 30,
    "start_time": "2022-03-23T18:53:28.474Z"
   },
   {
    "duration": 9,
    "start_time": "2022-03-23T18:53:28.505Z"
   },
   {
    "duration": 3,
    "start_time": "2022-03-23T18:53:28.516Z"
   },
   {
    "duration": 183,
    "start_time": "2022-03-23T18:53:28.521Z"
   },
   {
    "duration": 9,
    "start_time": "2022-03-23T18:53:28.706Z"
   },
   {
    "duration": 6,
    "start_time": "2022-03-23T18:53:28.717Z"
   },
   {
    "duration": 7,
    "start_time": "2022-03-23T18:53:28.725Z"
   },
   {
    "duration": 2,
    "start_time": "2022-03-23T18:53:28.733Z"
   },
   {
    "duration": 22,
    "start_time": "2022-03-23T18:53:28.737Z"
   },
   {
    "duration": 49,
    "start_time": "2022-03-23T18:53:28.761Z"
   },
   {
    "duration": 4,
    "start_time": "2022-03-23T18:53:28.812Z"
   },
   {
    "duration": 24,
    "start_time": "2022-03-23T18:53:28.817Z"
   },
   {
    "duration": 172,
    "start_time": "2022-03-23T18:53:28.843Z"
   },
   {
    "duration": 16,
    "start_time": "2022-03-23T18:53:29.017Z"
   },
   {
    "duration": 17,
    "start_time": "2022-03-23T18:53:29.035Z"
   },
   {
    "duration": 47,
    "start_time": "2022-03-23T18:53:29.059Z"
   },
   {
    "duration": 9,
    "start_time": "2022-03-23T18:53:29.108Z"
   },
   {
    "duration": 6,
    "start_time": "2022-03-23T18:53:29.118Z"
   },
   {
    "duration": 8,
    "start_time": "2022-03-23T18:53:29.126Z"
   },
   {
    "duration": 11,
    "start_time": "2022-03-23T18:53:29.136Z"
   },
   {
    "duration": 59,
    "start_time": "2022-03-23T18:53:29.148Z"
   },
   {
    "duration": 9,
    "start_time": "2022-03-23T18:53:29.209Z"
   },
   {
    "duration": 14,
    "start_time": "2022-03-23T18:53:29.220Z"
   },
   {
    "duration": 21,
    "start_time": "2022-03-23T18:53:29.236Z"
   },
   {
    "duration": 6,
    "start_time": "2022-03-23T18:53:29.259Z"
   },
   {
    "duration": 7,
    "start_time": "2022-03-23T18:53:29.267Z"
   },
   {
    "duration": 32,
    "start_time": "2022-03-23T18:53:29.275Z"
   },
   {
    "duration": 26,
    "start_time": "2022-03-23T18:53:29.309Z"
   },
   {
    "duration": 3,
    "start_time": "2022-03-23T18:53:29.336Z"
   },
   {
    "duration": 6,
    "start_time": "2022-03-23T18:53:29.340Z"
   },
   {
    "duration": 8,
    "start_time": "2022-03-23T18:53:29.347Z"
   },
   {
    "duration": 54,
    "start_time": "2022-03-23T18:53:29.356Z"
   },
   {
    "duration": 4,
    "start_time": "2022-03-23T18:53:29.411Z"
   },
   {
    "duration": 12,
    "start_time": "2022-03-23T18:53:29.417Z"
   },
   {
    "duration": 497,
    "start_time": "2022-03-23T18:53:29.430Z"
   },
   {
    "duration": 652,
    "start_time": "2022-03-23T18:53:29.929Z"
   },
   {
    "duration": 3,
    "start_time": "2022-03-23T18:53:30.583Z"
   },
   {
    "duration": 22,
    "start_time": "2022-03-23T18:53:30.587Z"
   },
   {
    "duration": 17,
    "start_time": "2022-03-23T18:53:30.610Z"
   },
   {
    "duration": 9,
    "start_time": "2022-03-23T18:53:30.629Z"
   },
   {
    "duration": 11,
    "start_time": "2022-03-23T18:53:30.639Z"
   },
   {
    "duration": 24,
    "start_time": "2022-03-23T18:53:30.652Z"
   },
   {
    "duration": 30,
    "start_time": "2022-03-23T18:53:30.678Z"
   },
   {
    "duration": 75,
    "start_time": "2022-03-23T18:53:30.709Z"
   },
   {
    "duration": 131,
    "start_time": "2022-03-23T18:53:30.786Z"
   },
   {
    "duration": 11,
    "start_time": "2022-03-23T18:53:30.918Z"
   },
   {
    "duration": 19,
    "start_time": "2022-03-23T18:53:30.930Z"
   },
   {
    "duration": 13,
    "start_time": "2022-03-23T18:53:30.951Z"
   },
   {
    "duration": 10,
    "start_time": "2022-03-23T18:53:30.965Z"
   },
   {
    "duration": 8,
    "start_time": "2022-03-23T18:53:30.977Z"
   },
   {
    "duration": 156,
    "start_time": "2022-03-23T18:53:30.987Z"
   },
   {
    "duration": 3,
    "start_time": "2022-03-23T18:53:31.145Z"
   },
   {
    "duration": 152,
    "start_time": "2022-03-23T18:53:31.150Z"
   },
   {
    "duration": 0,
    "start_time": "2022-03-23T18:53:31.304Z"
   },
   {
    "duration": 0,
    "start_time": "2022-03-23T18:53:31.306Z"
   },
   {
    "duration": 4,
    "start_time": "2022-03-23T18:54:22.362Z"
   },
   {
    "duration": 275,
    "start_time": "2022-03-23T18:54:22.367Z"
   },
   {
    "duration": 19,
    "start_time": "2022-03-23T18:54:22.643Z"
   },
   {
    "duration": 18,
    "start_time": "2022-03-23T18:54:22.665Z"
   },
   {
    "duration": 71,
    "start_time": "2022-03-23T18:54:22.701Z"
   },
   {
    "duration": 20,
    "start_time": "2022-03-23T18:54:22.774Z"
   },
   {
    "duration": 14,
    "start_time": "2022-03-23T18:54:22.795Z"
   },
   {
    "duration": 329,
    "start_time": "2022-03-23T18:54:22.810Z"
   },
   {
    "duration": 17,
    "start_time": "2022-03-23T18:54:23.140Z"
   },
   {
    "duration": 4,
    "start_time": "2022-03-23T18:54:23.160Z"
   },
   {
    "duration": 10,
    "start_time": "2022-03-23T18:54:23.165Z"
   },
   {
    "duration": 30,
    "start_time": "2022-03-23T18:54:23.177Z"
   },
   {
    "duration": 7,
    "start_time": "2022-03-23T18:54:23.209Z"
   },
   {
    "duration": 8,
    "start_time": "2022-03-23T18:54:23.218Z"
   },
   {
    "duration": 4,
    "start_time": "2022-03-23T18:54:23.228Z"
   },
   {
    "duration": 190,
    "start_time": "2022-03-23T18:54:23.233Z"
   },
   {
    "duration": 8,
    "start_time": "2022-03-23T18:54:23.424Z"
   },
   {
    "duration": 6,
    "start_time": "2022-03-23T18:54:23.433Z"
   },
   {
    "duration": 7,
    "start_time": "2022-03-23T18:54:23.441Z"
   },
   {
    "duration": 5,
    "start_time": "2022-03-23T18:54:23.450Z"
   },
   {
    "duration": 20,
    "start_time": "2022-03-23T18:54:23.456Z"
   },
   {
    "duration": 33,
    "start_time": "2022-03-23T18:54:23.478Z"
   },
   {
    "duration": 4,
    "start_time": "2022-03-23T18:54:23.513Z"
   },
   {
    "duration": 27,
    "start_time": "2022-03-23T18:54:23.518Z"
   },
   {
    "duration": 169,
    "start_time": "2022-03-23T18:54:23.547Z"
   },
   {
    "duration": 16,
    "start_time": "2022-03-23T18:54:23.718Z"
   },
   {
    "duration": 20,
    "start_time": "2022-03-23T18:54:23.736Z"
   },
   {
    "duration": 16,
    "start_time": "2022-03-23T18:54:23.760Z"
   },
   {
    "duration": 25,
    "start_time": "2022-03-23T18:54:23.777Z"
   },
   {
    "duration": 7,
    "start_time": "2022-03-23T18:54:23.803Z"
   },
   {
    "duration": 11,
    "start_time": "2022-03-23T18:54:23.811Z"
   },
   {
    "duration": 9,
    "start_time": "2022-03-23T18:54:23.823Z"
   },
   {
    "duration": 21,
    "start_time": "2022-03-23T18:54:23.834Z"
   },
   {
    "duration": 46,
    "start_time": "2022-03-23T18:54:23.856Z"
   },
   {
    "duration": 13,
    "start_time": "2022-03-23T18:54:23.904Z"
   },
   {
    "duration": 21,
    "start_time": "2022-03-23T18:54:23.919Z"
   },
   {
    "duration": 8,
    "start_time": "2022-03-23T18:54:23.941Z"
   },
   {
    "duration": 6,
    "start_time": "2022-03-23T18:54:23.951Z"
   },
   {
    "duration": 9,
    "start_time": "2022-03-23T18:54:23.959Z"
   },
   {
    "duration": 19,
    "start_time": "2022-03-23T18:54:24.001Z"
   },
   {
    "duration": 5,
    "start_time": "2022-03-23T18:54:24.022Z"
   },
   {
    "duration": 5,
    "start_time": "2022-03-23T18:54:24.028Z"
   },
   {
    "duration": 8,
    "start_time": "2022-03-23T18:54:24.035Z"
   },
   {
    "duration": 18,
    "start_time": "2022-03-23T18:54:24.044Z"
   },
   {
    "duration": 7,
    "start_time": "2022-03-23T18:54:24.063Z"
   },
   {
    "duration": 31,
    "start_time": "2022-03-23T18:54:24.071Z"
   },
   {
    "duration": 460,
    "start_time": "2022-03-23T18:54:24.103Z"
   },
   {
    "duration": 466,
    "start_time": "2022-03-23T18:54:24.565Z"
   },
   {
    "duration": 3,
    "start_time": "2022-03-23T18:54:25.033Z"
   },
   {
    "duration": 7,
    "start_time": "2022-03-23T18:54:25.037Z"
   },
   {
    "duration": 17,
    "start_time": "2022-03-23T18:54:25.046Z"
   },
   {
    "duration": 7,
    "start_time": "2022-03-23T18:54:25.065Z"
   },
   {
    "duration": 28,
    "start_time": "2022-03-23T18:54:25.073Z"
   },
   {
    "duration": 4,
    "start_time": "2022-03-23T18:54:25.102Z"
   },
   {
    "duration": 18,
    "start_time": "2022-03-23T18:54:25.108Z"
   },
   {
    "duration": 3,
    "start_time": "2022-03-23T18:54:25.128Z"
   },
   {
    "duration": 229,
    "start_time": "2022-03-23T18:54:25.133Z"
   },
   {
    "duration": 9,
    "start_time": "2022-03-23T18:54:25.364Z"
   },
   {
    "duration": 30,
    "start_time": "2022-03-23T18:54:25.375Z"
   },
   {
    "duration": 4,
    "start_time": "2022-03-23T18:54:25.407Z"
   },
   {
    "duration": 4,
    "start_time": "2022-03-23T18:54:25.412Z"
   },
   {
    "duration": 6,
    "start_time": "2022-03-23T18:54:25.418Z"
   },
   {
    "duration": 414776,
    "start_time": "2022-03-23T18:54:25.425Z"
   },
   {
    "duration": 4,
    "start_time": "2022-03-23T19:01:20.203Z"
   },
   {
    "duration": 493,
    "start_time": "2022-03-23T19:01:20.208Z"
   },
   {
    "duration": 9,
    "start_time": "2022-03-23T19:01:20.703Z"
   },
   {
    "duration": 92,
    "start_time": "2022-03-23T19:01:20.714Z"
   },
   {
    "duration": 11,
    "start_time": "2022-03-23T19:22:11.241Z"
   },
   {
    "duration": 303,
    "start_time": "2022-03-23T19:22:17.606Z"
   },
   {
    "duration": 9,
    "start_time": "2022-03-23T19:22:22.645Z"
   },
   {
    "duration": 356,
    "start_time": "2022-03-23T19:23:04.553Z"
   },
   {
    "duration": 9,
    "start_time": "2022-03-23T19:23:08.415Z"
   },
   {
    "duration": 16,
    "start_time": "2022-03-23T19:23:15.107Z"
   },
   {
    "duration": 50,
    "start_time": "2022-03-24T09:38:15.270Z"
   },
   {
    "duration": 1683,
    "start_time": "2022-03-24T09:38:18.159Z"
   },
   {
    "duration": 241,
    "start_time": "2022-03-24T09:38:19.844Z"
   },
   {
    "duration": 28,
    "start_time": "2022-03-24T09:38:20.087Z"
   },
   {
    "duration": 18,
    "start_time": "2022-03-24T09:38:20.118Z"
   },
   {
    "duration": 82,
    "start_time": "2022-03-24T09:38:20.138Z"
   },
   {
    "duration": 23,
    "start_time": "2022-03-24T09:38:20.222Z"
   },
   {
    "duration": 14,
    "start_time": "2022-03-24T09:38:20.247Z"
   },
   {
    "duration": 340,
    "start_time": "2022-03-24T09:38:20.263Z"
   },
   {
    "duration": 18,
    "start_time": "2022-03-24T09:38:20.605Z"
   },
   {
    "duration": 3,
    "start_time": "2022-03-24T09:38:20.626Z"
   },
   {
    "duration": 10,
    "start_time": "2022-03-24T09:38:20.631Z"
   },
   {
    "duration": 9,
    "start_time": "2022-03-24T09:38:20.643Z"
   },
   {
    "duration": 9,
    "start_time": "2022-03-24T09:38:20.654Z"
   },
   {
    "duration": 44,
    "start_time": "2022-03-24T09:38:20.664Z"
   },
   {
    "duration": 4,
    "start_time": "2022-03-24T09:38:20.710Z"
   },
   {
    "duration": 178,
    "start_time": "2022-03-24T09:38:20.716Z"
   },
   {
    "duration": 8,
    "start_time": "2022-03-24T09:38:20.896Z"
   },
   {
    "duration": 5,
    "start_time": "2022-03-24T09:38:20.906Z"
   },
   {
    "duration": 7,
    "start_time": "2022-03-24T09:38:20.913Z"
   },
   {
    "duration": 3,
    "start_time": "2022-03-24T09:38:20.921Z"
   },
   {
    "duration": 19,
    "start_time": "2022-03-24T09:38:20.926Z"
   },
   {
    "duration": 13,
    "start_time": "2022-03-24T09:38:20.947Z"
   },
   {
    "duration": 4,
    "start_time": "2022-03-24T09:38:20.961Z"
   },
   {
    "duration": 26,
    "start_time": "2022-03-24T09:38:21.002Z"
   },
   {
    "duration": 166,
    "start_time": "2022-03-24T09:38:21.030Z"
   },
   {
    "duration": 17,
    "start_time": "2022-03-24T09:38:21.197Z"
   },
   {
    "duration": 23,
    "start_time": "2022-03-24T09:38:21.216Z"
   },
   {
    "duration": 17,
    "start_time": "2022-03-24T09:38:21.243Z"
   },
   {
    "duration": 11,
    "start_time": "2022-03-24T09:38:21.261Z"
   },
   {
    "duration": 28,
    "start_time": "2022-03-24T09:38:21.274Z"
   },
   {
    "duration": 11,
    "start_time": "2022-03-24T09:38:21.304Z"
   },
   {
    "duration": 12,
    "start_time": "2022-03-24T09:38:21.316Z"
   },
   {
    "duration": 24,
    "start_time": "2022-03-24T09:38:21.330Z"
   },
   {
    "duration": 46,
    "start_time": "2022-03-24T09:38:21.356Z"
   },
   {
    "duration": 15,
    "start_time": "2022-03-24T09:38:21.404Z"
   },
   {
    "duration": 22,
    "start_time": "2022-03-24T09:38:21.421Z"
   },
   {
    "duration": 8,
    "start_time": "2022-03-24T09:38:21.445Z"
   },
   {
    "duration": 47,
    "start_time": "2022-03-24T09:38:21.455Z"
   },
   {
    "duration": 10,
    "start_time": "2022-03-24T09:38:21.505Z"
   },
   {
    "duration": 20,
    "start_time": "2022-03-24T09:38:21.516Z"
   },
   {
    "duration": 4,
    "start_time": "2022-03-24T09:38:21.538Z"
   },
   {
    "duration": 6,
    "start_time": "2022-03-24T09:38:21.544Z"
   },
   {
    "duration": 7,
    "start_time": "2022-03-24T09:38:21.551Z"
   },
   {
    "duration": 48,
    "start_time": "2022-03-24T09:38:21.560Z"
   },
   {
    "duration": 3,
    "start_time": "2022-03-24T09:38:21.610Z"
   },
   {
    "duration": 13,
    "start_time": "2022-03-24T09:38:21.615Z"
   },
   {
    "duration": 522,
    "start_time": "2022-03-24T09:38:21.630Z"
   },
   {
    "duration": 542,
    "start_time": "2022-03-24T09:38:22.154Z"
   },
   {
    "duration": 3,
    "start_time": "2022-03-24T09:38:22.701Z"
   },
   {
    "duration": 9,
    "start_time": "2022-03-24T09:38:22.706Z"
   },
   {
    "duration": 15,
    "start_time": "2022-03-24T09:38:22.716Z"
   },
   {
    "duration": 4,
    "start_time": "2022-03-24T09:38:22.733Z"
   },
   {
    "duration": 4,
    "start_time": "2022-03-24T09:38:22.739Z"
   },
   {
    "duration": 4,
    "start_time": "2022-03-24T09:38:22.745Z"
   },
   {
    "duration": 16,
    "start_time": "2022-03-24T09:38:22.751Z"
   },
   {
    "duration": 7,
    "start_time": "2022-03-24T09:38:22.768Z"
   },
   {
    "duration": 131,
    "start_time": "2022-03-24T09:38:22.802Z"
   },
   {
    "duration": 8,
    "start_time": "2022-03-24T09:38:22.935Z"
   },
   {
    "duration": 17,
    "start_time": "2022-03-24T09:38:22.944Z"
   },
   {
    "duration": 3,
    "start_time": "2022-03-24T09:38:22.962Z"
   },
   {
    "duration": 5,
    "start_time": "2022-03-24T09:38:22.966Z"
   },
   {
    "duration": 29,
    "start_time": "2022-03-24T09:38:22.972Z"
   },
   {
    "duration": 425600,
    "start_time": "2022-03-24T09:38:23.003Z"
   },
   {
    "duration": 5,
    "start_time": "2022-03-24T09:45:28.604Z"
   },
   {
    "duration": 602,
    "start_time": "2022-03-24T09:45:28.610Z"
   },
   {
    "duration": 91,
    "start_time": "2022-03-24T09:45:29.214Z"
   },
   {
    "duration": 17,
    "start_time": "2022-03-24T09:45:29.307Z"
   },
   {
    "duration": 147,
    "start_time": "2022-03-24T09:49:53.637Z"
   },
   {
    "duration": 16,
    "start_time": "2022-03-24T09:50:07.448Z"
   },
   {
    "duration": 15,
    "start_time": "2022-03-24T09:55:08.466Z"
   },
   {
    "duration": 4,
    "start_time": "2022-03-24T09:55:46.267Z"
   },
   {
    "duration": 243,
    "start_time": "2022-03-24T09:55:46.273Z"
   },
   {
    "duration": 18,
    "start_time": "2022-03-24T09:55:46.518Z"
   },
   {
    "duration": 16,
    "start_time": "2022-03-24T09:55:46.537Z"
   },
   {
    "duration": 76,
    "start_time": "2022-03-24T09:55:46.555Z"
   },
   {
    "duration": 17,
    "start_time": "2022-03-24T09:55:46.632Z"
   },
   {
    "duration": 15,
    "start_time": "2022-03-24T09:55:46.650Z"
   },
   {
    "duration": 303,
    "start_time": "2022-03-24T09:55:46.666Z"
   },
   {
    "duration": 15,
    "start_time": "2022-03-24T09:55:46.970Z"
   },
   {
    "duration": 15,
    "start_time": "2022-03-24T09:55:46.986Z"
   },
   {
    "duration": 8,
    "start_time": "2022-03-24T09:55:47.002Z"
   },
   {
    "duration": 10,
    "start_time": "2022-03-24T09:55:47.011Z"
   },
   {
    "duration": 5,
    "start_time": "2022-03-24T09:55:47.022Z"
   },
   {
    "duration": 8,
    "start_time": "2022-03-24T09:55:47.029Z"
   },
   {
    "duration": 3,
    "start_time": "2022-03-24T09:55:47.038Z"
   },
   {
    "duration": 184,
    "start_time": "2022-03-24T09:55:47.042Z"
   },
   {
    "duration": 8,
    "start_time": "2022-03-24T09:55:47.227Z"
   },
   {
    "duration": 7,
    "start_time": "2022-03-24T09:55:47.236Z"
   },
   {
    "duration": 6,
    "start_time": "2022-03-24T09:55:47.244Z"
   },
   {
    "duration": 2,
    "start_time": "2022-03-24T09:55:47.252Z"
   },
   {
    "duration": 19,
    "start_time": "2022-03-24T09:55:47.255Z"
   },
   {
    "duration": 35,
    "start_time": "2022-03-24T09:55:47.275Z"
   },
   {
    "duration": 3,
    "start_time": "2022-03-24T09:55:47.312Z"
   },
   {
    "duration": 25,
    "start_time": "2022-03-24T09:55:47.316Z"
   },
   {
    "duration": 184,
    "start_time": "2022-03-24T09:55:47.343Z"
   },
   {
    "duration": 21,
    "start_time": "2022-03-24T09:55:47.529Z"
   },
   {
    "duration": 21,
    "start_time": "2022-03-24T09:55:47.552Z"
   },
   {
    "duration": 34,
    "start_time": "2022-03-24T09:55:47.575Z"
   },
   {
    "duration": 10,
    "start_time": "2022-03-24T09:55:47.611Z"
   },
   {
    "duration": 6,
    "start_time": "2022-03-24T09:55:47.622Z"
   },
   {
    "duration": 9,
    "start_time": "2022-03-24T09:55:47.629Z"
   },
   {
    "duration": 8,
    "start_time": "2022-03-24T09:55:47.639Z"
   },
   {
    "duration": 20,
    "start_time": "2022-03-24T09:55:47.649Z"
   },
   {
    "duration": 10,
    "start_time": "2022-03-24T09:55:47.702Z"
   },
   {
    "duration": 12,
    "start_time": "2022-03-24T09:55:47.713Z"
   },
   {
    "duration": 17,
    "start_time": "2022-03-24T09:55:47.727Z"
   },
   {
    "duration": 6,
    "start_time": "2022-03-24T09:55:47.746Z"
   },
   {
    "duration": 6,
    "start_time": "2022-03-24T09:55:47.754Z"
   },
   {
    "duration": 44,
    "start_time": "2022-03-24T09:55:47.761Z"
   },
   {
    "duration": 18,
    "start_time": "2022-03-24T09:55:47.806Z"
   },
   {
    "duration": 3,
    "start_time": "2022-03-24T09:55:47.829Z"
   },
   {
    "duration": 5,
    "start_time": "2022-03-24T09:55:47.834Z"
   },
   {
    "duration": 9,
    "start_time": "2022-03-24T09:55:47.840Z"
   },
   {
    "duration": 17,
    "start_time": "2022-03-24T09:55:47.851Z"
   },
   {
    "duration": 6,
    "start_time": "2022-03-24T09:55:47.870Z"
   },
   {
    "duration": 32,
    "start_time": "2022-03-24T09:55:47.878Z"
   },
   {
    "duration": 455,
    "start_time": "2022-03-24T09:55:47.911Z"
   },
   {
    "duration": 477,
    "start_time": "2022-03-24T09:55:48.367Z"
   },
   {
    "duration": 3,
    "start_time": "2022-03-24T09:55:48.846Z"
   },
   {
    "duration": 8,
    "start_time": "2022-03-24T09:55:48.850Z"
   },
   {
    "duration": 20,
    "start_time": "2022-03-24T09:55:48.859Z"
   },
   {
    "duration": 20,
    "start_time": "2022-03-24T09:55:48.881Z"
   },
   {
    "duration": 4,
    "start_time": "2022-03-24T09:55:48.902Z"
   },
   {
    "duration": 5,
    "start_time": "2022-03-24T09:55:48.908Z"
   },
   {
    "duration": 14,
    "start_time": "2022-03-24T09:55:48.915Z"
   },
   {
    "duration": 4,
    "start_time": "2022-03-24T09:55:48.931Z"
   },
   {
    "duration": 216,
    "start_time": "2022-03-24T09:55:48.936Z"
   },
   {
    "duration": 8,
    "start_time": "2022-03-24T09:55:49.153Z"
   },
   {
    "duration": 18,
    "start_time": "2022-03-24T09:55:49.162Z"
   },
   {
    "duration": 3,
    "start_time": "2022-03-24T09:55:49.181Z"
   },
   {
    "duration": 15,
    "start_time": "2022-03-24T09:55:49.186Z"
   },
   {
    "duration": 4,
    "start_time": "2022-03-24T09:55:49.203Z"
   },
   {
    "duration": 414499,
    "start_time": "2022-03-24T09:55:49.208Z"
   },
   {
    "duration": 4,
    "start_time": "2022-03-24T10:02:43.709Z"
   },
   {
    "duration": 686,
    "start_time": "2022-03-24T10:02:43.715Z"
   },
   {
    "duration": 11,
    "start_time": "2022-03-24T10:02:44.403Z"
   },
   {
    "duration": 104,
    "start_time": "2022-03-24T10:02:44.416Z"
   },
   {
    "duration": 4,
    "start_time": "2022-03-24T10:19:15.742Z"
   },
   {
    "duration": 282,
    "start_time": "2022-03-24T10:19:15.749Z"
   },
   {
    "duration": 20,
    "start_time": "2022-03-24T10:19:16.033Z"
   },
   {
    "duration": 18,
    "start_time": "2022-03-24T10:19:16.055Z"
   },
   {
    "duration": 77,
    "start_time": "2022-03-24T10:19:16.075Z"
   },
   {
    "duration": 19,
    "start_time": "2022-03-24T10:19:16.153Z"
   },
   {
    "duration": 28,
    "start_time": "2022-03-24T10:19:16.174Z"
   },
   {
    "duration": 313,
    "start_time": "2022-03-24T10:19:16.204Z"
   },
   {
    "duration": 17,
    "start_time": "2022-03-24T10:19:16.520Z"
   },
   {
    "duration": 4,
    "start_time": "2022-03-24T10:19:16.538Z"
   },
   {
    "duration": 9,
    "start_time": "2022-03-24T10:19:16.544Z"
   },
   {
    "duration": 12,
    "start_time": "2022-03-24T10:19:16.555Z"
   },
   {
    "duration": 6,
    "start_time": "2022-03-24T10:19:16.568Z"
   },
   {
    "duration": 34,
    "start_time": "2022-03-24T10:19:16.576Z"
   },
   {
    "duration": 4,
    "start_time": "2022-03-24T10:19:16.612Z"
   },
   {
    "duration": 190,
    "start_time": "2022-03-24T10:19:16.618Z"
   },
   {
    "duration": 8,
    "start_time": "2022-03-24T10:19:16.810Z"
   },
   {
    "duration": 7,
    "start_time": "2022-03-24T10:19:16.820Z"
   },
   {
    "duration": 7,
    "start_time": "2022-03-24T10:19:16.828Z"
   },
   {
    "duration": 5,
    "start_time": "2022-03-24T10:19:16.837Z"
   },
   {
    "duration": 22,
    "start_time": "2022-03-24T10:19:16.843Z"
   },
   {
    "duration": 46,
    "start_time": "2022-03-24T10:19:16.867Z"
   },
   {
    "duration": 5,
    "start_time": "2022-03-24T10:19:16.915Z"
   },
   {
    "duration": 25,
    "start_time": "2022-03-24T10:19:16.923Z"
   },
   {
    "duration": 181,
    "start_time": "2022-03-24T10:19:16.950Z"
   },
   {
    "duration": 17,
    "start_time": "2022-03-24T10:19:17.133Z"
   },
   {
    "duration": 26,
    "start_time": "2022-03-24T10:19:17.152Z"
   },
   {
    "duration": 28,
    "start_time": "2022-03-24T10:19:17.180Z"
   },
   {
    "duration": 15,
    "start_time": "2022-03-24T10:19:17.210Z"
   },
   {
    "duration": 6,
    "start_time": "2022-03-24T10:19:17.227Z"
   },
   {
    "duration": 10,
    "start_time": "2022-03-24T10:19:17.235Z"
   },
   {
    "duration": 9,
    "start_time": "2022-03-24T10:19:17.246Z"
   },
   {
    "duration": 48,
    "start_time": "2022-03-24T10:19:17.256Z"
   },
   {
    "duration": 11,
    "start_time": "2022-03-24T10:19:17.306Z"
   },
   {
    "duration": 15,
    "start_time": "2022-03-24T10:19:17.319Z"
   },
   {
    "duration": 22,
    "start_time": "2022-03-24T10:19:17.336Z"
   },
   {
    "duration": 43,
    "start_time": "2022-03-24T10:19:17.359Z"
   },
   {
    "duration": 7,
    "start_time": "2022-03-24T10:19:17.404Z"
   },
   {
    "duration": 13,
    "start_time": "2022-03-24T10:19:17.413Z"
   },
   {
    "duration": 20,
    "start_time": "2022-03-24T10:19:17.428Z"
   },
   {
    "duration": 4,
    "start_time": "2022-03-24T10:19:17.449Z"
   },
   {
    "duration": 8,
    "start_time": "2022-03-24T10:19:17.454Z"
   },
   {
    "duration": 8,
    "start_time": "2022-03-24T10:19:17.464Z"
   },
   {
    "duration": 14,
    "start_time": "2022-03-24T10:19:17.502Z"
   },
   {
    "duration": 9,
    "start_time": "2022-03-24T10:19:17.518Z"
   },
   {
    "duration": 17,
    "start_time": "2022-03-24T10:19:17.529Z"
   },
   {
    "duration": 487,
    "start_time": "2022-03-24T10:19:17.549Z"
   },
   {
    "duration": 604,
    "start_time": "2022-03-24T10:19:18.038Z"
   },
   {
    "duration": 3,
    "start_time": "2022-03-24T10:19:18.645Z"
   },
   {
    "duration": 6,
    "start_time": "2022-03-24T10:19:18.651Z"
   },
   {
    "duration": 23,
    "start_time": "2022-03-24T10:19:18.660Z"
   },
   {
    "duration": 4,
    "start_time": "2022-03-24T10:19:18.702Z"
   },
   {
    "duration": 6,
    "start_time": "2022-03-24T10:19:18.708Z"
   },
   {
    "duration": 11,
    "start_time": "2022-03-24T10:19:18.715Z"
   },
   {
    "duration": 22,
    "start_time": "2022-03-24T10:19:18.728Z"
   },
   {
    "duration": 3,
    "start_time": "2022-03-24T10:19:18.752Z"
   },
   {
    "duration": 172,
    "start_time": "2022-03-24T10:19:18.756Z"
   },
   {
    "duration": 8,
    "start_time": "2022-03-24T10:19:18.930Z"
   },
   {
    "duration": 13,
    "start_time": "2022-03-24T10:19:18.940Z"
   },
   {
    "duration": 3,
    "start_time": "2022-03-24T10:19:18.955Z"
   },
   {
    "duration": 4,
    "start_time": "2022-03-24T10:19:18.959Z"
   },
   {
    "duration": 6,
    "start_time": "2022-03-24T10:19:18.965Z"
   },
   {
    "duration": 424930,
    "start_time": "2022-03-24T10:19:18.972Z"
   },
   {
    "duration": 5,
    "start_time": "2022-03-24T10:26:23.904Z"
   },
   {
    "duration": 597,
    "start_time": "2022-03-24T10:26:23.910Z"
   },
   {
    "duration": 97,
    "start_time": "2022-03-24T10:26:24.510Z"
   },
   {
    "duration": 20,
    "start_time": "2022-03-24T10:26:24.609Z"
   },
   {
    "duration": 305,
    "start_time": "2022-03-24T10:28:57.507Z"
   },
   {
    "duration": 10,
    "start_time": "2022-03-24T10:29:01.196Z"
   },
   {
    "duration": 17,
    "start_time": "2022-03-24T10:29:05.396Z"
   },
   {
    "duration": 449,
    "start_time": "2022-03-24T10:29:21.356Z"
   },
   {
    "duration": 9,
    "start_time": "2022-03-24T10:29:25.396Z"
   },
   {
    "duration": 1804,
    "start_time": "2022-03-31T12:48:15.293Z"
   },
   {
    "duration": 258,
    "start_time": "2022-03-31T12:48:17.100Z"
   },
   {
    "duration": 26,
    "start_time": "2022-03-31T12:48:17.359Z"
   },
   {
    "duration": 31,
    "start_time": "2022-03-31T12:48:17.387Z"
   },
   {
    "duration": 68,
    "start_time": "2022-03-31T12:48:17.420Z"
   },
   {
    "duration": 28,
    "start_time": "2022-03-31T12:48:17.490Z"
   },
   {
    "duration": 13,
    "start_time": "2022-03-31T12:48:17.520Z"
   },
   {
    "duration": 336,
    "start_time": "2022-03-31T12:48:17.535Z"
   },
   {
    "duration": 19,
    "start_time": "2022-03-31T12:48:17.873Z"
   },
   {
    "duration": 4,
    "start_time": "2022-03-31T12:48:17.908Z"
   },
   {
    "duration": 12,
    "start_time": "2022-03-31T12:48:17.914Z"
   },
   {
    "duration": 11,
    "start_time": "2022-03-31T12:48:17.928Z"
   },
   {
    "duration": 10,
    "start_time": "2022-03-31T12:48:17.941Z"
   },
   {
    "duration": 9,
    "start_time": "2022-03-31T12:48:17.953Z"
   },
   {
    "duration": 3,
    "start_time": "2022-03-31T12:48:17.964Z"
   },
   {
    "duration": 196,
    "start_time": "2022-03-31T12:48:17.969Z"
   },
   {
    "duration": 10,
    "start_time": "2022-03-31T12:48:18.167Z"
   },
   {
    "duration": 7,
    "start_time": "2022-03-31T12:48:18.178Z"
   },
   {
    "duration": 22,
    "start_time": "2022-03-31T12:48:18.186Z"
   },
   {
    "duration": 3,
    "start_time": "2022-03-31T12:48:18.210Z"
   },
   {
    "duration": 22,
    "start_time": "2022-03-31T12:48:18.215Z"
   },
   {
    "duration": 15,
    "start_time": "2022-03-31T12:48:18.239Z"
   },
   {
    "duration": 4,
    "start_time": "2022-03-31T12:48:18.256Z"
   },
   {
    "duration": 60,
    "start_time": "2022-03-31T12:48:18.262Z"
   },
   {
    "duration": 188,
    "start_time": "2022-03-31T12:48:18.324Z"
   },
   {
    "duration": 19,
    "start_time": "2022-03-31T12:48:18.514Z"
   },
   {
    "duration": 26,
    "start_time": "2022-03-31T12:48:18.534Z"
   },
   {
    "duration": 20,
    "start_time": "2022-03-31T12:48:18.565Z"
   },
   {
    "duration": 30,
    "start_time": "2022-03-31T12:48:18.587Z"
   },
   {
    "duration": 8,
    "start_time": "2022-03-31T12:48:18.619Z"
   },
   {
    "duration": 11,
    "start_time": "2022-03-31T12:48:18.628Z"
   },
   {
    "duration": 12,
    "start_time": "2022-03-31T12:48:18.640Z"
   },
   {
    "duration": 60,
    "start_time": "2022-03-31T12:48:18.653Z"
   },
   {
    "duration": 13,
    "start_time": "2022-03-31T12:48:18.714Z"
   },
   {
    "duration": 16,
    "start_time": "2022-03-31T12:48:18.729Z"
   },
   {
    "duration": 23,
    "start_time": "2022-03-31T12:48:18.747Z"
   },
   {
    "duration": 41,
    "start_time": "2022-03-31T12:48:18.771Z"
   },
   {
    "duration": 7,
    "start_time": "2022-03-31T12:48:18.814Z"
   },
   {
    "duration": 10,
    "start_time": "2022-03-31T12:48:18.823Z"
   },
   {
    "duration": 22,
    "start_time": "2022-03-31T12:48:18.834Z"
   },
   {
    "duration": 3,
    "start_time": "2022-03-31T12:48:18.858Z"
   },
   {
    "duration": 5,
    "start_time": "2022-03-31T12:48:18.863Z"
   },
   {
    "duration": 41,
    "start_time": "2022-03-31T12:48:18.869Z"
   },
   {
    "duration": 15,
    "start_time": "2022-03-31T12:48:18.911Z"
   },
   {
    "duration": 5,
    "start_time": "2022-03-31T12:48:18.928Z"
   },
   {
    "duration": 10,
    "start_time": "2022-03-31T12:48:18.935Z"
   },
   {
    "duration": 569,
    "start_time": "2022-03-31T12:48:18.947Z"
   },
   {
    "duration": 618,
    "start_time": "2022-03-31T12:48:19.518Z"
   },
   {
    "duration": 4,
    "start_time": "2022-03-31T12:48:20.138Z"
   },
   {
    "duration": 9,
    "start_time": "2022-03-31T12:48:20.144Z"
   },
   {
    "duration": 18,
    "start_time": "2022-03-31T12:48:20.155Z"
   },
   {
    "duration": 6,
    "start_time": "2022-03-31T12:48:20.176Z"
   },
   {
    "duration": 26,
    "start_time": "2022-03-31T12:48:20.183Z"
   },
   {
    "duration": 7,
    "start_time": "2022-03-31T12:48:20.211Z"
   },
   {
    "duration": 36,
    "start_time": "2022-03-31T12:48:20.219Z"
   },
   {
    "duration": 4,
    "start_time": "2022-03-31T12:48:20.257Z"
   },
   {
    "duration": 157,
    "start_time": "2022-03-31T12:48:20.263Z"
   },
   {
    "duration": 10,
    "start_time": "2022-03-31T12:48:20.422Z"
   },
   {
    "duration": 20,
    "start_time": "2022-03-31T12:48:20.434Z"
   },
   {
    "duration": 3,
    "start_time": "2022-03-31T12:48:20.456Z"
   },
   {
    "duration": 5,
    "start_time": "2022-03-31T12:48:20.461Z"
   },
   {
    "duration": 9,
    "start_time": "2022-03-31T12:48:20.467Z"
   },
   {
    "duration": 0,
    "start_time": "2022-03-31T12:55:32.804Z"
   },
   {
    "duration": 0,
    "start_time": "2022-03-31T12:55:32.806Z"
   },
   {
    "duration": 0,
    "start_time": "2022-03-31T12:55:32.809Z"
   },
   {
    "duration": 0,
    "start_time": "2022-03-31T12:55:32.810Z"
   },
   {
    "duration": 0,
    "start_time": "2022-03-31T12:55:32.812Z"
   },
   {
    "duration": 0,
    "start_time": "2022-03-31T12:55:32.814Z"
   },
   {
    "duration": 0,
    "start_time": "2022-03-31T12:55:32.815Z"
   },
   {
    "duration": 0,
    "start_time": "2022-03-31T12:55:32.816Z"
   },
   {
    "duration": 0,
    "start_time": "2022-03-31T12:55:32.817Z"
   },
   {
    "duration": 0,
    "start_time": "2022-03-31T12:55:32.818Z"
   },
   {
    "duration": 0,
    "start_time": "2022-03-31T12:55:32.819Z"
   },
   {
    "duration": 0,
    "start_time": "2022-03-31T12:55:32.820Z"
   },
   {
    "duration": 0,
    "start_time": "2022-03-31T12:55:32.821Z"
   },
   {
    "duration": 0,
    "start_time": "2022-03-31T12:55:32.822Z"
   },
   {
    "duration": 0,
    "start_time": "2022-03-31T12:55:32.823Z"
   },
   {
    "duration": 0,
    "start_time": "2022-03-31T12:55:32.824Z"
   },
   {
    "duration": 0,
    "start_time": "2022-03-31T12:55:32.825Z"
   },
   {
    "duration": 0,
    "start_time": "2022-03-31T12:55:32.825Z"
   },
   {
    "duration": 0,
    "start_time": "2022-03-31T12:55:32.826Z"
   },
   {
    "duration": 0,
    "start_time": "2022-03-31T12:55:32.828Z"
   },
   {
    "duration": 0,
    "start_time": "2022-03-31T12:55:32.828Z"
   },
   {
    "duration": 0,
    "start_time": "2022-03-31T12:55:32.830Z"
   },
   {
    "duration": 0,
    "start_time": "2022-03-31T12:55:32.831Z"
   },
   {
    "duration": 0,
    "start_time": "2022-03-31T12:55:32.832Z"
   },
   {
    "duration": 0,
    "start_time": "2022-03-31T12:55:32.833Z"
   },
   {
    "duration": 0,
    "start_time": "2022-03-31T12:55:32.834Z"
   },
   {
    "duration": 0,
    "start_time": "2022-03-31T12:55:32.835Z"
   },
   {
    "duration": 0,
    "start_time": "2022-03-31T12:55:32.836Z"
   },
   {
    "duration": 0,
    "start_time": "2022-03-31T12:55:32.837Z"
   },
   {
    "duration": 0,
    "start_time": "2022-03-31T12:55:32.838Z"
   },
   {
    "duration": 0,
    "start_time": "2022-03-31T12:55:32.839Z"
   },
   {
    "duration": 0,
    "start_time": "2022-03-31T12:55:32.840Z"
   },
   {
    "duration": 0,
    "start_time": "2022-03-31T12:55:32.841Z"
   },
   {
    "duration": 0,
    "start_time": "2022-03-31T12:55:32.842Z"
   },
   {
    "duration": 0,
    "start_time": "2022-03-31T12:55:32.843Z"
   },
   {
    "duration": 0,
    "start_time": "2022-03-31T12:55:32.844Z"
   },
   {
    "duration": 0,
    "start_time": "2022-03-31T12:55:32.845Z"
   },
   {
    "duration": 0,
    "start_time": "2022-03-31T12:55:32.846Z"
   },
   {
    "duration": 0,
    "start_time": "2022-03-31T12:55:32.846Z"
   },
   {
    "duration": 0,
    "start_time": "2022-03-31T12:55:32.909Z"
   },
   {
    "duration": 0,
    "start_time": "2022-03-31T12:55:32.910Z"
   },
   {
    "duration": 0,
    "start_time": "2022-03-31T12:55:32.911Z"
   },
   {
    "duration": 0,
    "start_time": "2022-03-31T12:55:32.912Z"
   },
   {
    "duration": 0,
    "start_time": "2022-03-31T12:55:32.913Z"
   },
   {
    "duration": 0,
    "start_time": "2022-03-31T12:55:32.913Z"
   },
   {
    "duration": 0,
    "start_time": "2022-03-31T12:55:32.914Z"
   },
   {
    "duration": 0,
    "start_time": "2022-03-31T12:55:32.915Z"
   },
   {
    "duration": 0,
    "start_time": "2022-03-31T12:55:32.916Z"
   },
   {
    "duration": 0,
    "start_time": "2022-03-31T12:55:32.917Z"
   },
   {
    "duration": 0,
    "start_time": "2022-03-31T12:55:32.918Z"
   },
   {
    "duration": 0,
    "start_time": "2022-03-31T12:55:32.918Z"
   },
   {
    "duration": 0,
    "start_time": "2022-03-31T12:55:32.920Z"
   },
   {
    "duration": 0,
    "start_time": "2022-03-31T12:55:32.921Z"
   },
   {
    "duration": 0,
    "start_time": "2022-03-31T12:55:32.921Z"
   },
   {
    "duration": 0,
    "start_time": "2022-03-31T12:55:32.922Z"
   },
   {
    "duration": 0,
    "start_time": "2022-03-31T12:55:32.923Z"
   },
   {
    "duration": 0,
    "start_time": "2022-03-31T12:55:32.925Z"
   },
   {
    "duration": 0,
    "start_time": "2022-03-31T12:55:32.926Z"
   },
   {
    "duration": 0,
    "start_time": "2022-03-31T12:55:32.927Z"
   },
   {
    "duration": 0,
    "start_time": "2022-03-31T12:55:32.929Z"
   },
   {
    "duration": 0,
    "start_time": "2022-03-31T12:55:32.930Z"
   },
   {
    "duration": 0,
    "start_time": "2022-03-31T12:55:32.932Z"
   },
   {
    "duration": 0,
    "start_time": "2022-03-31T12:55:32.933Z"
   },
   {
    "duration": 0,
    "start_time": "2022-03-31T12:55:32.935Z"
   },
   {
    "duration": 0,
    "start_time": "2022-03-31T12:55:32.936Z"
   },
   {
    "duration": 0,
    "start_time": "2022-03-31T12:55:32.937Z"
   },
   {
    "duration": 0,
    "start_time": "2022-03-31T12:55:32.938Z"
   },
   {
    "duration": 0,
    "start_time": "2022-03-31T12:55:32.939Z"
   },
   {
    "duration": 0,
    "start_time": "2022-03-31T12:55:32.940Z"
   },
   {
    "duration": 1391,
    "start_time": "2022-03-31T12:56:43.400Z"
   },
   {
    "duration": 252,
    "start_time": "2022-03-31T12:56:44.793Z"
   },
   {
    "duration": 25,
    "start_time": "2022-03-31T12:56:45.047Z"
   },
   {
    "duration": 37,
    "start_time": "2022-03-31T12:56:45.075Z"
   },
   {
    "duration": 70,
    "start_time": "2022-03-31T12:56:45.114Z"
   },
   {
    "duration": 32,
    "start_time": "2022-03-31T12:56:45.186Z"
   },
   {
    "duration": 28,
    "start_time": "2022-03-31T12:56:45.219Z"
   },
   {
    "duration": 317,
    "start_time": "2022-03-31T12:56:45.248Z"
   },
   {
    "duration": 16,
    "start_time": "2022-03-31T12:56:45.567Z"
   },
   {
    "duration": 3,
    "start_time": "2022-03-31T12:56:45.586Z"
   },
   {
    "duration": 26,
    "start_time": "2022-03-31T12:56:45.591Z"
   },
   {
    "duration": 13,
    "start_time": "2022-03-31T12:56:45.619Z"
   },
   {
    "duration": 11,
    "start_time": "2022-03-31T12:56:45.633Z"
   },
   {
    "duration": 9,
    "start_time": "2022-03-31T12:56:45.646Z"
   },
   {
    "duration": 5,
    "start_time": "2022-03-31T12:56:45.657Z"
   },
   {
    "duration": 194,
    "start_time": "2022-03-31T12:56:45.663Z"
   },
   {
    "duration": 11,
    "start_time": "2022-03-31T12:56:45.859Z"
   },
   {
    "duration": 9,
    "start_time": "2022-03-31T12:56:45.872Z"
   },
   {
    "duration": 31,
    "start_time": "2022-03-31T12:56:45.883Z"
   },
   {
    "duration": 8,
    "start_time": "2022-03-31T12:56:45.915Z"
   },
   {
    "duration": 25,
    "start_time": "2022-03-31T12:56:45.925Z"
   },
   {
    "duration": 15,
    "start_time": "2022-03-31T12:56:45.952Z"
   },
   {
    "duration": 8,
    "start_time": "2022-03-31T12:56:45.968Z"
   },
   {
    "duration": 49,
    "start_time": "2022-03-31T12:56:45.977Z"
   },
   {
    "duration": 188,
    "start_time": "2022-03-31T12:56:46.028Z"
   },
   {
    "duration": 20,
    "start_time": "2022-03-31T12:56:46.218Z"
   },
   {
    "duration": 20,
    "start_time": "2022-03-31T12:56:46.240Z"
   },
   {
    "duration": 49,
    "start_time": "2022-03-31T12:56:46.264Z"
   },
   {
    "duration": 9,
    "start_time": "2022-03-31T12:56:46.315Z"
   },
   {
    "duration": 8,
    "start_time": "2022-03-31T12:56:46.325Z"
   },
   {
    "duration": 10,
    "start_time": "2022-03-31T12:56:46.335Z"
   },
   {
    "duration": 11,
    "start_time": "2022-03-31T12:56:46.347Z"
   },
   {
    "duration": 70,
    "start_time": "2022-03-31T12:56:46.360Z"
   },
   {
    "duration": 12,
    "start_time": "2022-03-31T12:56:46.432Z"
   },
   {
    "duration": 17,
    "start_time": "2022-03-31T12:56:46.447Z"
   },
   {
    "duration": 56,
    "start_time": "2022-03-31T12:56:46.466Z"
   },
   {
    "duration": 10,
    "start_time": "2022-03-31T12:56:46.524Z"
   },
   {
    "duration": 7,
    "start_time": "2022-03-31T12:56:46.536Z"
   },
   {
    "duration": 12,
    "start_time": "2022-03-31T12:56:46.545Z"
   },
   {
    "duration": 52,
    "start_time": "2022-03-31T12:56:46.558Z"
   },
   {
    "duration": 5,
    "start_time": "2022-03-31T12:56:46.612Z"
   },
   {
    "duration": 7,
    "start_time": "2022-03-31T12:56:46.618Z"
   },
   {
    "duration": 5,
    "start_time": "2022-03-31T12:56:46.627Z"
   },
   {
    "duration": 15,
    "start_time": "2022-03-31T12:56:46.634Z"
   },
   {
    "duration": 5,
    "start_time": "2022-03-31T12:56:46.651Z"
   },
   {
    "duration": 52,
    "start_time": "2022-03-31T12:56:46.658Z"
   },
   {
    "duration": 555,
    "start_time": "2022-03-31T12:56:46.712Z"
   },
   {
    "duration": 579,
    "start_time": "2022-03-31T12:56:47.269Z"
   },
   {
    "duration": 3,
    "start_time": "2022-03-31T12:56:47.850Z"
   },
   {
    "duration": 12,
    "start_time": "2022-03-31T12:56:47.854Z"
   },
   {
    "duration": 21,
    "start_time": "2022-03-31T12:56:47.867Z"
   },
   {
    "duration": 20,
    "start_time": "2022-03-31T12:56:47.889Z"
   },
   {
    "duration": 8,
    "start_time": "2022-03-31T12:56:47.910Z"
   },
   {
    "duration": 6,
    "start_time": "2022-03-31T12:56:47.920Z"
   },
   {
    "duration": 20,
    "start_time": "2022-03-31T12:56:47.927Z"
   },
   {
    "duration": 4,
    "start_time": "2022-03-31T12:56:47.948Z"
   },
   {
    "duration": 167,
    "start_time": "2022-03-31T12:56:47.954Z"
   },
   {
    "duration": 9,
    "start_time": "2022-03-31T12:56:48.123Z"
   },
   {
    "duration": 18,
    "start_time": "2022-03-31T12:56:48.134Z"
   },
   {
    "duration": 3,
    "start_time": "2022-03-31T12:56:48.154Z"
   },
   {
    "duration": 4,
    "start_time": "2022-03-31T12:56:48.159Z"
   },
   {
    "duration": 9,
    "start_time": "2022-03-31T12:56:48.165Z"
   },
   {
    "duration": 33,
    "start_time": "2022-03-31T12:56:48.176Z"
   },
   {
    "duration": 126,
    "start_time": "2022-03-31T12:56:48.210Z"
   },
   {
    "duration": 0,
    "start_time": "2022-03-31T12:56:48.338Z"
   },
   {
    "duration": 0,
    "start_time": "2022-03-31T12:56:48.339Z"
   },
   {
    "duration": 0,
    "start_time": "2022-03-31T12:56:48.340Z"
   },
   {
    "duration": 0,
    "start_time": "2022-03-31T12:56:48.341Z"
   },
   {
    "duration": 0,
    "start_time": "2022-03-31T12:56:48.342Z"
   },
   {
    "duration": 7,
    "start_time": "2022-03-31T12:58:00.560Z"
   },
   {
    "duration": 9,
    "start_time": "2022-03-31T12:58:01.076Z"
   },
   {
    "duration": 1531,
    "start_time": "2022-03-31T12:58:14.136Z"
   },
   {
    "duration": 288,
    "start_time": "2022-03-31T12:58:15.669Z"
   },
   {
    "duration": 25,
    "start_time": "2022-03-31T12:58:15.958Z"
   },
   {
    "duration": 38,
    "start_time": "2022-03-31T12:58:15.985Z"
   },
   {
    "duration": 71,
    "start_time": "2022-03-31T12:58:16.026Z"
   },
   {
    "duration": 42,
    "start_time": "2022-03-31T12:58:16.098Z"
   },
   {
    "duration": 13,
    "start_time": "2022-03-31T12:58:16.142Z"
   },
   {
    "duration": 395,
    "start_time": "2022-03-31T12:58:16.157Z"
   },
   {
    "duration": 17,
    "start_time": "2022-03-31T12:58:16.553Z"
   },
   {
    "duration": 3,
    "start_time": "2022-03-31T12:58:16.573Z"
   },
   {
    "duration": 11,
    "start_time": "2022-03-31T12:58:16.578Z"
   },
   {
    "duration": 36,
    "start_time": "2022-03-31T12:58:16.591Z"
   },
   {
    "duration": 8,
    "start_time": "2022-03-31T12:58:16.631Z"
   },
   {
    "duration": 10,
    "start_time": "2022-03-31T12:58:16.641Z"
   },
   {
    "duration": 4,
    "start_time": "2022-03-31T12:58:16.652Z"
   },
   {
    "duration": 234,
    "start_time": "2022-03-31T12:58:16.658Z"
   },
   {
    "duration": 10,
    "start_time": "2022-03-31T12:58:16.893Z"
   },
   {
    "duration": 9,
    "start_time": "2022-03-31T12:58:16.911Z"
   },
   {
    "duration": 9,
    "start_time": "2022-03-31T12:58:16.924Z"
   },
   {
    "duration": 3,
    "start_time": "2022-03-31T12:58:16.936Z"
   },
   {
    "duration": 25,
    "start_time": "2022-03-31T12:58:16.941Z"
   },
   {
    "duration": 26,
    "start_time": "2022-03-31T12:58:17.008Z"
   },
   {
    "duration": 4,
    "start_time": "2022-03-31T12:58:17.037Z"
   },
   {
    "duration": 28,
    "start_time": "2022-03-31T12:58:17.044Z"
   },
   {
    "duration": 216,
    "start_time": "2022-03-31T12:58:17.074Z"
   },
   {
    "duration": 39,
    "start_time": "2022-03-31T12:58:17.292Z"
   },
   {
    "duration": 21,
    "start_time": "2022-03-31T12:58:17.332Z"
   },
   {
    "duration": 18,
    "start_time": "2022-03-31T12:58:17.357Z"
   },
   {
    "duration": 45,
    "start_time": "2022-03-31T12:58:17.376Z"
   },
   {
    "duration": 12,
    "start_time": "2022-03-31T12:58:17.424Z"
   },
   {
    "duration": 16,
    "start_time": "2022-03-31T12:58:17.438Z"
   },
   {
    "duration": 15,
    "start_time": "2022-03-31T12:58:17.456Z"
   },
   {
    "duration": 73,
    "start_time": "2022-03-31T12:58:17.472Z"
   },
   {
    "duration": 11,
    "start_time": "2022-03-31T12:58:17.546Z"
   },
   {
    "duration": 15,
    "start_time": "2022-03-31T12:58:17.558Z"
   },
   {
    "duration": 57,
    "start_time": "2022-03-31T12:58:17.575Z"
   },
   {
    "duration": 8,
    "start_time": "2022-03-31T12:58:17.634Z"
   },
   {
    "duration": 9,
    "start_time": "2022-03-31T12:58:17.643Z"
   },
   {
    "duration": 11,
    "start_time": "2022-03-31T12:58:17.654Z"
   },
   {
    "duration": 72,
    "start_time": "2022-03-31T12:58:17.666Z"
   },
   {
    "duration": 4,
    "start_time": "2022-03-31T12:58:17.740Z"
   },
   {
    "duration": 8,
    "start_time": "2022-03-31T12:58:17.745Z"
   },
   {
    "duration": 8,
    "start_time": "2022-03-31T12:58:17.755Z"
   },
   {
    "duration": 19,
    "start_time": "2022-03-31T12:58:17.764Z"
   },
   {
    "duration": 8,
    "start_time": "2022-03-31T12:58:17.812Z"
   },
   {
    "duration": 15,
    "start_time": "2022-03-31T12:58:17.823Z"
   },
   {
    "duration": 624,
    "start_time": "2022-03-31T12:58:17.840Z"
   },
   {
    "duration": 689,
    "start_time": "2022-03-31T12:58:18.465Z"
   },
   {
    "duration": 4,
    "start_time": "2022-03-31T12:58:19.156Z"
   },
   {
    "duration": 6,
    "start_time": "2022-03-31T12:58:19.161Z"
   },
   {
    "duration": 25,
    "start_time": "2022-03-31T12:58:19.169Z"
   },
   {
    "duration": 19,
    "start_time": "2022-03-31T12:58:19.195Z"
   },
   {
    "duration": 9,
    "start_time": "2022-03-31T12:58:19.218Z"
   },
   {
    "duration": 7,
    "start_time": "2022-03-31T12:58:19.231Z"
   },
   {
    "duration": 20,
    "start_time": "2022-03-31T12:58:19.239Z"
   },
   {
    "duration": 5,
    "start_time": "2022-03-31T12:58:19.261Z"
   },
   {
    "duration": 204,
    "start_time": "2022-03-31T12:58:19.267Z"
   },
   {
    "duration": 9,
    "start_time": "2022-03-31T12:58:19.473Z"
   },
   {
    "duration": 39,
    "start_time": "2022-03-31T12:58:19.484Z"
   },
   {
    "duration": 6,
    "start_time": "2022-03-31T12:58:19.525Z"
   },
   {
    "duration": 4,
    "start_time": "2022-03-31T12:58:19.534Z"
   },
   {
    "duration": 8,
    "start_time": "2022-03-31T12:58:19.540Z"
   },
   {
    "duration": 152,
    "start_time": "2022-03-31T12:58:19.550Z"
   },
   {
    "duration": 0,
    "start_time": "2022-03-31T12:58:19.705Z"
   },
   {
    "duration": 0,
    "start_time": "2022-03-31T12:58:19.713Z"
   },
   {
    "duration": 0,
    "start_time": "2022-03-31T12:58:19.714Z"
   },
   {
    "duration": 0,
    "start_time": "2022-03-31T12:58:19.716Z"
   },
   {
    "duration": 0,
    "start_time": "2022-03-31T12:58:19.718Z"
   },
   {
    "duration": 0,
    "start_time": "2022-03-31T12:58:19.719Z"
   },
   {
    "duration": 0,
    "start_time": "2022-03-31T12:58:19.721Z"
   },
   {
    "duration": 1483,
    "start_time": "2022-03-31T12:58:51.702Z"
   },
   {
    "duration": 248,
    "start_time": "2022-03-31T12:58:53.187Z"
   },
   {
    "duration": 26,
    "start_time": "2022-03-31T12:58:53.436Z"
   },
   {
    "duration": 18,
    "start_time": "2022-03-31T12:58:53.465Z"
   },
   {
    "duration": 83,
    "start_time": "2022-03-31T12:58:53.485Z"
   },
   {
    "duration": 22,
    "start_time": "2022-03-31T12:58:53.570Z"
   },
   {
    "duration": 14,
    "start_time": "2022-03-31T12:58:53.608Z"
   },
   {
    "duration": 328,
    "start_time": "2022-03-31T12:58:53.623Z"
   },
   {
    "duration": 19,
    "start_time": "2022-03-31T12:58:53.952Z"
   },
   {
    "duration": 3,
    "start_time": "2022-03-31T12:58:53.974Z"
   },
   {
    "duration": 31,
    "start_time": "2022-03-31T12:58:53.979Z"
   },
   {
    "duration": 11,
    "start_time": "2022-03-31T12:58:54.011Z"
   },
   {
    "duration": 7,
    "start_time": "2022-03-31T12:58:54.024Z"
   },
   {
    "duration": 9,
    "start_time": "2022-03-31T12:58:54.032Z"
   },
   {
    "duration": 8,
    "start_time": "2022-03-31T12:58:54.043Z"
   },
   {
    "duration": 186,
    "start_time": "2022-03-31T12:58:54.052Z"
   },
   {
    "duration": 9,
    "start_time": "2022-03-31T12:58:54.240Z"
   },
   {
    "duration": 7,
    "start_time": "2022-03-31T12:58:54.251Z"
   },
   {
    "duration": 8,
    "start_time": "2022-03-31T12:58:54.259Z"
   },
   {
    "duration": 4,
    "start_time": "2022-03-31T12:58:54.268Z"
   },
   {
    "duration": 46,
    "start_time": "2022-03-31T12:58:54.273Z"
   },
   {
    "duration": 13,
    "start_time": "2022-03-31T12:58:54.321Z"
   },
   {
    "duration": 5,
    "start_time": "2022-03-31T12:58:54.336Z"
   },
   {
    "duration": 30,
    "start_time": "2022-03-31T12:58:54.343Z"
   },
   {
    "duration": 192,
    "start_time": "2022-03-31T12:58:54.375Z"
   },
   {
    "duration": 17,
    "start_time": "2022-03-31T12:58:54.569Z"
   },
   {
    "duration": 30,
    "start_time": "2022-03-31T12:58:54.588Z"
   },
   {
    "duration": 19,
    "start_time": "2022-03-31T12:58:54.622Z"
   },
   {
    "duration": 13,
    "start_time": "2022-03-31T12:58:54.642Z"
   },
   {
    "duration": 8,
    "start_time": "2022-03-31T12:58:54.656Z"
   },
   {
    "duration": 10,
    "start_time": "2022-03-31T12:58:54.665Z"
   },
   {
    "duration": 40,
    "start_time": "2022-03-31T12:58:54.677Z"
   },
   {
    "duration": 25,
    "start_time": "2022-03-31T12:58:54.719Z"
   },
   {
    "duration": 10,
    "start_time": "2022-03-31T12:58:54.746Z"
   },
   {
    "duration": 17,
    "start_time": "2022-03-31T12:58:54.757Z"
   },
   {
    "duration": 52,
    "start_time": "2022-03-31T12:58:54.775Z"
   },
   {
    "duration": 7,
    "start_time": "2022-03-31T12:58:54.829Z"
   },
   {
    "duration": 9,
    "start_time": "2022-03-31T12:58:54.837Z"
   },
   {
    "duration": 10,
    "start_time": "2022-03-31T12:58:54.847Z"
   },
   {
    "duration": 51,
    "start_time": "2022-03-31T12:58:54.859Z"
   },
   {
    "duration": 3,
    "start_time": "2022-03-31T12:58:54.912Z"
   },
   {
    "duration": 5,
    "start_time": "2022-03-31T12:58:54.917Z"
   },
   {
    "duration": 5,
    "start_time": "2022-03-31T12:58:54.924Z"
   },
   {
    "duration": 14,
    "start_time": "2022-03-31T12:58:54.930Z"
   },
   {
    "duration": 9,
    "start_time": "2022-03-31T12:58:54.946Z"
   },
   {
    "duration": 12,
    "start_time": "2022-03-31T12:58:54.956Z"
   },
   {
    "duration": 542,
    "start_time": "2022-03-31T12:58:54.969Z"
   },
   {
    "duration": 589,
    "start_time": "2022-03-31T12:58:55.513Z"
   },
   {
    "duration": 4,
    "start_time": "2022-03-31T12:58:56.104Z"
   },
   {
    "duration": 8,
    "start_time": "2022-03-31T12:58:56.110Z"
   },
   {
    "duration": 20,
    "start_time": "2022-03-31T12:58:56.120Z"
   },
   {
    "duration": 7,
    "start_time": "2022-03-31T12:58:56.141Z"
   },
   {
    "duration": 5,
    "start_time": "2022-03-31T12:58:56.149Z"
   },
   {
    "duration": 6,
    "start_time": "2022-03-31T12:58:56.155Z"
   },
   {
    "duration": 16,
    "start_time": "2022-03-31T12:58:56.162Z"
   },
   {
    "duration": 30,
    "start_time": "2022-03-31T12:58:56.180Z"
   },
   {
    "duration": 146,
    "start_time": "2022-03-31T12:58:56.211Z"
   },
   {
    "duration": 8,
    "start_time": "2022-03-31T12:58:56.359Z"
   },
   {
    "duration": 18,
    "start_time": "2022-03-31T12:58:56.369Z"
   },
   {
    "duration": 21,
    "start_time": "2022-03-31T12:58:56.388Z"
   },
   {
    "duration": 6,
    "start_time": "2022-03-31T12:58:56.410Z"
   },
   {
    "duration": 9,
    "start_time": "2022-03-31T12:58:56.417Z"
   },
   {
    "duration": 5,
    "start_time": "2022-03-31T12:58:56.427Z"
   },
   {
    "duration": 5,
    "start_time": "2022-03-31T12:58:56.433Z"
   },
   {
    "duration": 17821,
    "start_time": "2022-03-31T12:58:56.440Z"
   },
   {
    "duration": 0,
    "start_time": "2022-03-31T12:59:14.262Z"
   },
   {
    "duration": 0,
    "start_time": "2022-03-31T12:59:14.264Z"
   },
   {
    "duration": 0,
    "start_time": "2022-03-31T12:59:14.265Z"
   },
   {
    "duration": 0,
    "start_time": "2022-03-31T12:59:14.266Z"
   },
   {
    "duration": 0,
    "start_time": "2022-03-31T12:59:14.268Z"
   },
   {
    "duration": 18261,
    "start_time": "2022-03-31T13:01:03.887Z"
   },
   {
    "duration": 2,
    "start_time": "2022-03-31T13:03:48.765Z"
   },
   {
    "duration": 2,
    "start_time": "2022-03-31T13:03:49.224Z"
   },
   {
    "duration": 1312,
    "start_time": "2022-03-31T13:06:31.352Z"
   },
   {
    "duration": 246,
    "start_time": "2022-03-31T13:06:32.666Z"
   },
   {
    "duration": 25,
    "start_time": "2022-03-31T13:06:32.914Z"
   },
   {
    "duration": 19,
    "start_time": "2022-03-31T13:06:32.941Z"
   },
   {
    "duration": 85,
    "start_time": "2022-03-31T13:06:32.963Z"
   },
   {
    "duration": 23,
    "start_time": "2022-03-31T13:06:33.050Z"
   },
   {
    "duration": 15,
    "start_time": "2022-03-31T13:06:33.075Z"
   },
   {
    "duration": 326,
    "start_time": "2022-03-31T13:06:33.109Z"
   },
   {
    "duration": 28,
    "start_time": "2022-03-31T13:06:33.437Z"
   },
   {
    "duration": 3,
    "start_time": "2022-03-31T13:06:33.467Z"
   },
   {
    "duration": 17,
    "start_time": "2022-03-31T13:06:33.473Z"
   },
   {
    "duration": 26,
    "start_time": "2022-03-31T13:06:33.491Z"
   },
   {
    "duration": 11,
    "start_time": "2022-03-31T13:06:33.518Z"
   },
   {
    "duration": 9,
    "start_time": "2022-03-31T13:06:33.532Z"
   },
   {
    "duration": 6,
    "start_time": "2022-03-31T13:06:33.542Z"
   },
   {
    "duration": 201,
    "start_time": "2022-03-31T13:06:33.550Z"
   },
   {
    "duration": 10,
    "start_time": "2022-03-31T13:06:33.753Z"
   },
   {
    "duration": 10,
    "start_time": "2022-03-31T13:06:33.765Z"
   },
   {
    "duration": 9,
    "start_time": "2022-03-31T13:06:33.777Z"
   },
   {
    "duration": 3,
    "start_time": "2022-03-31T13:06:33.809Z"
   },
   {
    "duration": 23,
    "start_time": "2022-03-31T13:06:33.814Z"
   },
   {
    "duration": 13,
    "start_time": "2022-03-31T13:06:33.839Z"
   },
   {
    "duration": 4,
    "start_time": "2022-03-31T13:06:33.854Z"
   },
   {
    "duration": 51,
    "start_time": "2022-03-31T13:06:33.859Z"
   },
   {
    "duration": 190,
    "start_time": "2022-03-31T13:06:33.912Z"
   },
   {
    "duration": 20,
    "start_time": "2022-03-31T13:06:34.104Z"
   },
   {
    "duration": 22,
    "start_time": "2022-03-31T13:06:34.126Z"
   },
   {
    "duration": 20,
    "start_time": "2022-03-31T13:06:34.150Z"
   },
   {
    "duration": 11,
    "start_time": "2022-03-31T13:06:34.172Z"
   },
   {
    "duration": 7,
    "start_time": "2022-03-31T13:06:34.208Z"
   },
   {
    "duration": 11,
    "start_time": "2022-03-31T13:06:34.217Z"
   },
   {
    "duration": 12,
    "start_time": "2022-03-31T13:06:34.230Z"
   },
   {
    "duration": 70,
    "start_time": "2022-03-31T13:06:34.244Z"
   },
   {
    "duration": 11,
    "start_time": "2022-03-31T13:06:34.316Z"
   },
   {
    "duration": 16,
    "start_time": "2022-03-31T13:06:34.328Z"
   },
   {
    "duration": 22,
    "start_time": "2022-03-31T13:06:34.345Z"
   },
   {
    "duration": 8,
    "start_time": "2022-03-31T13:06:34.368Z"
   },
   {
    "duration": 8,
    "start_time": "2022-03-31T13:06:34.409Z"
   },
   {
    "duration": 10,
    "start_time": "2022-03-31T13:06:34.418Z"
   },
   {
    "duration": 22,
    "start_time": "2022-03-31T13:06:34.430Z"
   },
   {
    "duration": 9,
    "start_time": "2022-03-31T13:06:34.456Z"
   },
   {
    "duration": 7,
    "start_time": "2022-03-31T13:06:34.466Z"
   },
   {
    "duration": 35,
    "start_time": "2022-03-31T13:06:34.475Z"
   },
   {
    "duration": 16,
    "start_time": "2022-03-31T13:06:34.512Z"
   },
   {
    "duration": 6,
    "start_time": "2022-03-31T13:06:34.530Z"
   },
   {
    "duration": 15,
    "start_time": "2022-03-31T13:06:34.538Z"
   },
   {
    "duration": 571,
    "start_time": "2022-03-31T13:06:34.555Z"
   },
   {
    "duration": 631,
    "start_time": "2022-03-31T13:06:35.128Z"
   },
   {
    "duration": 4,
    "start_time": "2022-03-31T13:06:35.762Z"
   },
   {
    "duration": 10,
    "start_time": "2022-03-31T13:06:35.768Z"
   },
   {
    "duration": 40,
    "start_time": "2022-03-31T13:06:35.780Z"
   },
   {
    "duration": 5,
    "start_time": "2022-03-31T13:06:35.823Z"
   },
   {
    "duration": 6,
    "start_time": "2022-03-31T13:06:35.830Z"
   },
   {
    "duration": 5,
    "start_time": "2022-03-31T13:06:35.838Z"
   },
   {
    "duration": 20,
    "start_time": "2022-03-31T13:06:35.845Z"
   },
   {
    "duration": 4,
    "start_time": "2022-03-31T13:06:35.866Z"
   },
   {
    "duration": 180,
    "start_time": "2022-03-31T13:06:35.872Z"
   },
   {
    "duration": 9,
    "start_time": "2022-03-31T13:06:36.054Z"
   },
   {
    "duration": 44,
    "start_time": "2022-03-31T13:06:36.065Z"
   },
   {
    "duration": 4,
    "start_time": "2022-03-31T13:06:36.110Z"
   },
   {
    "duration": 5,
    "start_time": "2022-03-31T13:06:36.115Z"
   },
   {
    "duration": 9,
    "start_time": "2022-03-31T13:06:36.121Z"
   },
   {
    "duration": 5,
    "start_time": "2022-03-31T13:06:36.132Z"
   },
   {
    "duration": 4,
    "start_time": "2022-03-31T13:06:36.139Z"
   },
   {
    "duration": 679733,
    "start_time": "2022-03-31T13:06:36.144Z"
   },
   {
    "duration": 1520,
    "start_time": "2022-03-31T13:23:31.596Z"
   },
   {
    "duration": 251,
    "start_time": "2022-03-31T13:23:33.118Z"
   },
   {
    "duration": 24,
    "start_time": "2022-03-31T13:23:33.371Z"
   },
   {
    "duration": 26,
    "start_time": "2022-03-31T13:23:33.396Z"
   },
   {
    "duration": 66,
    "start_time": "2022-03-31T13:23:33.425Z"
   },
   {
    "duration": 29,
    "start_time": "2022-03-31T13:23:33.493Z"
   },
   {
    "duration": 14,
    "start_time": "2022-03-31T13:23:33.524Z"
   },
   {
    "duration": 330,
    "start_time": "2022-03-31T13:23:33.540Z"
   },
   {
    "duration": 19,
    "start_time": "2022-03-31T13:23:33.872Z"
   },
   {
    "duration": 16,
    "start_time": "2022-03-31T13:23:33.893Z"
   },
   {
    "duration": 15,
    "start_time": "2022-03-31T13:23:33.911Z"
   },
   {
    "duration": 10,
    "start_time": "2022-03-31T13:23:33.928Z"
   },
   {
    "duration": 9,
    "start_time": "2022-03-31T13:23:33.940Z"
   },
   {
    "duration": 12,
    "start_time": "2022-03-31T13:23:33.952Z"
   },
   {
    "duration": 6,
    "start_time": "2022-03-31T13:23:33.965Z"
   },
   {
    "duration": 185,
    "start_time": "2022-03-31T13:23:33.973Z"
   },
   {
    "duration": 9,
    "start_time": "2022-03-31T13:23:34.160Z"
   },
   {
    "duration": 9,
    "start_time": "2022-03-31T13:23:34.170Z"
   },
   {
    "duration": 7,
    "start_time": "2022-03-31T13:23:34.180Z"
   },
   {
    "duration": 21,
    "start_time": "2022-03-31T13:23:34.188Z"
   },
   {
    "duration": 23,
    "start_time": "2022-03-31T13:23:34.211Z"
   },
   {
    "duration": 15,
    "start_time": "2022-03-31T13:23:34.236Z"
   },
   {
    "duration": 4,
    "start_time": "2022-03-31T13:23:34.253Z"
   },
   {
    "duration": 57,
    "start_time": "2022-03-31T13:23:34.259Z"
   },
   {
    "duration": 184,
    "start_time": "2022-03-31T13:23:34.318Z"
   },
   {
    "duration": 21,
    "start_time": "2022-03-31T13:23:34.504Z"
   },
   {
    "duration": 22,
    "start_time": "2022-03-31T13:23:34.527Z"
   },
   {
    "duration": 19,
    "start_time": "2022-03-31T13:23:34.550Z"
   },
   {
    "duration": 40,
    "start_time": "2022-03-31T13:23:34.571Z"
   },
   {
    "duration": 9,
    "start_time": "2022-03-31T13:23:34.613Z"
   },
   {
    "duration": 11,
    "start_time": "2022-03-31T13:23:34.624Z"
   },
   {
    "duration": 13,
    "start_time": "2022-03-31T13:23:34.637Z"
   },
   {
    "duration": 60,
    "start_time": "2022-03-31T13:23:34.652Z"
   },
   {
    "duration": 11,
    "start_time": "2022-03-31T13:23:34.714Z"
   },
   {
    "duration": 16,
    "start_time": "2022-03-31T13:23:34.727Z"
   },
   {
    "duration": 25,
    "start_time": "2022-03-31T13:23:34.744Z"
   },
   {
    "duration": 44,
    "start_time": "2022-03-31T13:23:34.770Z"
   },
   {
    "duration": 7,
    "start_time": "2022-03-31T13:23:34.816Z"
   },
   {
    "duration": 10,
    "start_time": "2022-03-31T13:23:34.825Z"
   },
   {
    "duration": 20,
    "start_time": "2022-03-31T13:23:34.837Z"
   },
   {
    "duration": 3,
    "start_time": "2022-03-31T13:23:34.862Z"
   },
   {
    "duration": 5,
    "start_time": "2022-03-31T13:23:34.866Z"
   },
   {
    "duration": 37,
    "start_time": "2022-03-31T13:23:34.873Z"
   },
   {
    "duration": 14,
    "start_time": "2022-03-31T13:23:34.911Z"
   },
   {
    "duration": 5,
    "start_time": "2022-03-31T13:23:34.926Z"
   },
   {
    "duration": 12,
    "start_time": "2022-03-31T13:23:34.933Z"
   },
   {
    "duration": 553,
    "start_time": "2022-03-31T13:23:34.947Z"
   },
   {
    "duration": 607,
    "start_time": "2022-03-31T13:23:35.502Z"
   },
   {
    "duration": 3,
    "start_time": "2022-03-31T13:23:36.111Z"
   },
   {
    "duration": 9,
    "start_time": "2022-03-31T13:23:36.116Z"
   },
   {
    "duration": 18,
    "start_time": "2022-03-31T13:23:36.126Z"
   },
   {
    "duration": 11,
    "start_time": "2022-03-31T13:23:36.146Z"
   },
   {
    "duration": 5,
    "start_time": "2022-03-31T13:23:36.158Z"
   },
   {
    "duration": 8,
    "start_time": "2022-03-31T13:23:36.164Z"
   },
   {
    "duration": 16,
    "start_time": "2022-03-31T13:23:36.174Z"
   },
   {
    "duration": 3,
    "start_time": "2022-03-31T13:23:36.209Z"
   },
   {
    "duration": 149,
    "start_time": "2022-03-31T13:23:36.213Z"
   },
   {
    "duration": 8,
    "start_time": "2022-03-31T13:23:36.364Z"
   },
   {
    "duration": 22,
    "start_time": "2022-03-31T13:23:36.374Z"
   },
   {
    "duration": 3,
    "start_time": "2022-03-31T13:23:36.409Z"
   },
   {
    "duration": 11,
    "start_time": "2022-03-31T13:23:36.413Z"
   },
   {
    "duration": 8,
    "start_time": "2022-03-31T13:23:36.426Z"
   },
   {
    "duration": 5,
    "start_time": "2022-03-31T13:23:36.435Z"
   },
   {
    "duration": 4,
    "start_time": "2022-03-31T13:23:36.442Z"
   },
   {
    "duration": 1502,
    "start_time": "2022-03-31T13:46:19.816Z"
   },
   {
    "duration": 274,
    "start_time": "2022-03-31T13:46:21.320Z"
   },
   {
    "duration": 28,
    "start_time": "2022-03-31T13:46:21.596Z"
   },
   {
    "duration": 19,
    "start_time": "2022-03-31T13:46:21.627Z"
   },
   {
    "duration": 96,
    "start_time": "2022-03-31T13:46:21.648Z"
   },
   {
    "duration": 23,
    "start_time": "2022-03-31T13:46:21.746Z"
   },
   {
    "duration": 14,
    "start_time": "2022-03-31T13:46:21.770Z"
   },
   {
    "duration": 373,
    "start_time": "2022-03-31T13:46:21.785Z"
   },
   {
    "duration": 17,
    "start_time": "2022-03-31T13:46:22.160Z"
   },
   {
    "duration": 3,
    "start_time": "2022-03-31T13:46:22.180Z"
   },
   {
    "duration": 29,
    "start_time": "2022-03-31T13:46:22.184Z"
   },
   {
    "duration": 12,
    "start_time": "2022-03-31T13:46:22.214Z"
   },
   {
    "duration": 8,
    "start_time": "2022-03-31T13:46:22.228Z"
   },
   {
    "duration": 10,
    "start_time": "2022-03-31T13:46:22.237Z"
   },
   {
    "duration": 4,
    "start_time": "2022-03-31T13:46:22.248Z"
   },
   {
    "duration": 196,
    "start_time": "2022-03-31T13:46:22.253Z"
   },
   {
    "duration": 9,
    "start_time": "2022-03-31T13:46:22.451Z"
   },
   {
    "duration": 6,
    "start_time": "2022-03-31T13:46:22.462Z"
   },
   {
    "duration": 7,
    "start_time": "2022-03-31T13:46:22.470Z"
   },
   {
    "duration": 4,
    "start_time": "2022-03-31T13:46:22.478Z"
   },
   {
    "duration": 45,
    "start_time": "2022-03-31T13:46:22.483Z"
   },
   {
    "duration": 14,
    "start_time": "2022-03-31T13:46:22.530Z"
   },
   {
    "duration": 4,
    "start_time": "2022-03-31T13:46:22.545Z"
   },
   {
    "duration": 29,
    "start_time": "2022-03-31T13:46:22.551Z"
   },
   {
    "duration": 202,
    "start_time": "2022-03-31T13:46:22.582Z"
   },
   {
    "duration": 25,
    "start_time": "2022-03-31T13:46:22.786Z"
   },
   {
    "duration": 22,
    "start_time": "2022-03-31T13:46:22.812Z"
   },
   {
    "duration": 20,
    "start_time": "2022-03-31T13:46:22.838Z"
   },
   {
    "duration": 10,
    "start_time": "2022-03-31T13:46:22.860Z"
   },
   {
    "duration": 41,
    "start_time": "2022-03-31T13:46:22.871Z"
   },
   {
    "duration": 11,
    "start_time": "2022-03-31T13:46:22.913Z"
   },
   {
    "duration": 12,
    "start_time": "2022-03-31T13:46:22.925Z"
   },
   {
    "duration": 25,
    "start_time": "2022-03-31T13:46:22.939Z"
   },
   {
    "duration": 13,
    "start_time": "2022-03-31T13:46:22.965Z"
   },
   {
    "duration": 41,
    "start_time": "2022-03-31T13:46:22.980Z"
   },
   {
    "duration": 25,
    "start_time": "2022-03-31T13:46:23.023Z"
   },
   {
    "duration": 8,
    "start_time": "2022-03-31T13:46:23.050Z"
   },
   {
    "duration": 7,
    "start_time": "2022-03-31T13:46:23.060Z"
   },
   {
    "duration": 44,
    "start_time": "2022-03-31T13:46:23.069Z"
   },
   {
    "duration": 21,
    "start_time": "2022-03-31T13:46:23.115Z"
   },
   {
    "duration": 5,
    "start_time": "2022-03-31T13:46:23.138Z"
   },
   {
    "duration": 8,
    "start_time": "2022-03-31T13:46:23.145Z"
   },
   {
    "duration": 7,
    "start_time": "2022-03-31T13:46:23.154Z"
   },
   {
    "duration": 16,
    "start_time": "2022-03-31T13:46:23.162Z"
   },
   {
    "duration": 30,
    "start_time": "2022-03-31T13:46:23.180Z"
   },
   {
    "duration": 13,
    "start_time": "2022-03-31T13:46:23.212Z"
   },
   {
    "duration": 544,
    "start_time": "2022-03-31T13:46:23.227Z"
   },
   {
    "duration": 611,
    "start_time": "2022-03-31T13:46:23.773Z"
   },
   {
    "duration": 4,
    "start_time": "2022-03-31T13:46:24.385Z"
   },
   {
    "duration": 19,
    "start_time": "2022-03-31T13:46:24.390Z"
   },
   {
    "duration": 20,
    "start_time": "2022-03-31T13:46:24.411Z"
   },
   {
    "duration": 5,
    "start_time": "2022-03-31T13:46:24.433Z"
   },
   {
    "duration": 6,
    "start_time": "2022-03-31T13:46:24.439Z"
   },
   {
    "duration": 5,
    "start_time": "2022-03-31T13:46:24.446Z"
   },
   {
    "duration": 19,
    "start_time": "2022-03-31T13:46:24.453Z"
   },
   {
    "duration": 5,
    "start_time": "2022-03-31T13:46:24.473Z"
   },
   {
    "duration": 155,
    "start_time": "2022-03-31T13:46:24.479Z"
   },
   {
    "duration": 10,
    "start_time": "2022-03-31T13:46:24.636Z"
   },
   {
    "duration": 20,
    "start_time": "2022-03-31T13:46:24.648Z"
   },
   {
    "duration": 3,
    "start_time": "2022-03-31T13:46:24.669Z"
   },
   {
    "duration": 8,
    "start_time": "2022-03-31T13:46:24.674Z"
   },
   {
    "duration": 27,
    "start_time": "2022-03-31T13:46:24.683Z"
   },
   {
    "duration": 21,
    "start_time": "2022-03-31T13:46:24.712Z"
   },
   {
    "duration": 3,
    "start_time": "2022-03-31T13:46:24.734Z"
   },
   {
    "duration": 2578,
    "start_time": "2022-03-31T13:46:24.738Z"
   },
   {
    "duration": 7247,
    "start_time": "2022-03-31T13:46:27.319Z"
   },
   {
    "duration": 23220,
    "start_time": "2022-03-31T13:46:34.568Z"
   },
   {
    "duration": 1347,
    "start_time": "2022-03-31T13:49:36.250Z"
   },
   {
    "duration": 272,
    "start_time": "2022-03-31T13:49:37.599Z"
   },
   {
    "duration": 25,
    "start_time": "2022-03-31T13:49:37.872Z"
   },
   {
    "duration": 22,
    "start_time": "2022-03-31T13:49:37.900Z"
   },
   {
    "duration": 74,
    "start_time": "2022-03-31T13:49:37.923Z"
   },
   {
    "duration": 27,
    "start_time": "2022-03-31T13:49:37.999Z"
   },
   {
    "duration": 13,
    "start_time": "2022-03-31T13:49:38.028Z"
   },
   {
    "duration": 365,
    "start_time": "2022-03-31T13:49:38.043Z"
   },
   {
    "duration": 17,
    "start_time": "2022-03-31T13:49:38.410Z"
   },
   {
    "duration": 3,
    "start_time": "2022-03-31T13:49:38.430Z"
   },
   {
    "duration": 11,
    "start_time": "2022-03-31T13:49:38.435Z"
   },
   {
    "duration": 14,
    "start_time": "2022-03-31T13:49:38.448Z"
   },
   {
    "duration": 7,
    "start_time": "2022-03-31T13:49:38.463Z"
   },
   {
    "duration": 36,
    "start_time": "2022-03-31T13:49:38.472Z"
   },
   {
    "duration": 4,
    "start_time": "2022-03-31T13:49:38.510Z"
   },
   {
    "duration": 177,
    "start_time": "2022-03-31T13:49:38.516Z"
   },
   {
    "duration": 9,
    "start_time": "2022-03-31T13:49:38.695Z"
   },
   {
    "duration": 5,
    "start_time": "2022-03-31T13:49:38.708Z"
   },
   {
    "duration": 8,
    "start_time": "2022-03-31T13:49:38.715Z"
   },
   {
    "duration": 6,
    "start_time": "2022-03-31T13:49:38.724Z"
   },
   {
    "duration": 27,
    "start_time": "2022-03-31T13:49:38.732Z"
   },
   {
    "duration": 14,
    "start_time": "2022-03-31T13:49:38.761Z"
   },
   {
    "duration": 4,
    "start_time": "2022-03-31T13:49:38.776Z"
   },
   {
    "duration": 52,
    "start_time": "2022-03-31T13:49:38.782Z"
   },
   {
    "duration": 193,
    "start_time": "2022-03-31T13:49:38.836Z"
   },
   {
    "duration": 18,
    "start_time": "2022-03-31T13:49:39.031Z"
   },
   {
    "duration": 19,
    "start_time": "2022-03-31T13:49:39.051Z"
   },
   {
    "duration": 37,
    "start_time": "2022-03-31T13:49:39.074Z"
   },
   {
    "duration": 12,
    "start_time": "2022-03-31T13:49:39.113Z"
   },
   {
    "duration": 6,
    "start_time": "2022-03-31T13:49:39.127Z"
   },
   {
    "duration": 10,
    "start_time": "2022-03-31T13:49:39.135Z"
   },
   {
    "duration": 12,
    "start_time": "2022-03-31T13:49:39.146Z"
   },
   {
    "duration": 53,
    "start_time": "2022-03-31T13:49:39.160Z"
   },
   {
    "duration": 10,
    "start_time": "2022-03-31T13:49:39.215Z"
   },
   {
    "duration": 16,
    "start_time": "2022-03-31T13:49:39.226Z"
   },
   {
    "duration": 22,
    "start_time": "2022-03-31T13:49:39.244Z"
   },
   {
    "duration": 41,
    "start_time": "2022-03-31T13:49:39.268Z"
   },
   {
    "duration": 7,
    "start_time": "2022-03-31T13:49:39.311Z"
   },
   {
    "duration": 19,
    "start_time": "2022-03-31T13:49:39.320Z"
   },
   {
    "duration": 21,
    "start_time": "2022-03-31T13:49:39.341Z"
   },
   {
    "duration": 3,
    "start_time": "2022-03-31T13:49:39.363Z"
   },
   {
    "duration": 8,
    "start_time": "2022-03-31T13:49:39.369Z"
   },
   {
    "duration": 7,
    "start_time": "2022-03-31T13:49:39.379Z"
   },
   {
    "duration": 14,
    "start_time": "2022-03-31T13:49:39.408Z"
   },
   {
    "duration": 7,
    "start_time": "2022-03-31T13:49:39.424Z"
   },
   {
    "duration": 16,
    "start_time": "2022-03-31T13:49:39.433Z"
   },
   {
    "duration": 521,
    "start_time": "2022-03-31T13:49:39.451Z"
   },
   {
    "duration": 573,
    "start_time": "2022-03-31T13:49:39.974Z"
   },
   {
    "duration": 4,
    "start_time": "2022-03-31T13:49:40.549Z"
   },
   {
    "duration": 10,
    "start_time": "2022-03-31T13:49:40.554Z"
   },
   {
    "duration": 17,
    "start_time": "2022-03-31T13:49:40.565Z"
   },
   {
    "duration": 5,
    "start_time": "2022-03-31T13:49:40.583Z"
   },
   {
    "duration": 19,
    "start_time": "2022-03-31T13:49:40.590Z"
   },
   {
    "duration": 8,
    "start_time": "2022-03-31T13:49:40.610Z"
   },
   {
    "duration": 16,
    "start_time": "2022-03-31T13:49:40.619Z"
   },
   {
    "duration": 4,
    "start_time": "2022-03-31T13:49:40.637Z"
   },
   {
    "duration": 153,
    "start_time": "2022-03-31T13:49:40.642Z"
   },
   {
    "duration": 19,
    "start_time": "2022-03-31T13:49:40.796Z"
   },
   {
    "duration": 19,
    "start_time": "2022-03-31T13:49:40.817Z"
   },
   {
    "duration": 3,
    "start_time": "2022-03-31T13:49:40.838Z"
   },
   {
    "duration": 7,
    "start_time": "2022-03-31T13:49:40.842Z"
   },
   {
    "duration": 9,
    "start_time": "2022-03-31T13:49:40.850Z"
   },
   {
    "duration": 16,
    "start_time": "2022-03-31T13:49:40.861Z"
   },
   {
    "duration": 2,
    "start_time": "2022-03-31T13:49:40.879Z"
   },
   {
    "duration": 2628,
    "start_time": "2022-03-31T13:49:40.883Z"
   },
   {
    "duration": 7118,
    "start_time": "2022-03-31T13:49:43.513Z"
   },
   {
    "duration": 23815,
    "start_time": "2022-03-31T13:49:50.633Z"
   },
   {
    "duration": 402981,
    "start_time": "2022-03-31T13:50:14.450Z"
   },
   {
    "duration": 1408882,
    "start_time": "2022-03-31T13:56:57.433Z"
   },
   {
    "duration": 5,
    "start_time": "2022-03-31T14:20:26.317Z"
   },
   {
    "duration": 124,
    "start_time": "2022-03-31T14:20:26.323Z"
   },
   {
    "duration": 0,
    "start_time": "2022-03-31T14:20:26.448Z"
   },
   {
    "duration": 0,
    "start_time": "2022-03-31T14:20:26.450Z"
   },
   {
    "duration": 5107,
    "start_time": "2022-03-31T14:25:49.605Z"
   },
   {
    "duration": 5437,
    "start_time": "2022-03-31T14:26:13.394Z"
   },
   {
    "duration": 11,
    "start_time": "2022-03-31T14:26:22.034Z"
   },
   {
    "duration": 18,
    "start_time": "2022-03-31T14:26:25.073Z"
   },
   {
    "duration": 5117,
    "start_time": "2022-03-31T14:28:45.123Z"
   },
   {
    "duration": 5276,
    "start_time": "2022-03-31T14:28:50.242Z"
   },
   {
    "duration": 10,
    "start_time": "2022-03-31T14:28:59.349Z"
   },
   {
    "duration": 18,
    "start_time": "2022-03-31T14:29:01.572Z"
   },
   {
    "duration": 9,
    "start_time": "2022-03-31T14:29:03.922Z"
   },
   {
    "duration": 4989,
    "start_time": "2022-03-31T14:29:52.809Z"
   },
   {
    "duration": 5373,
    "start_time": "2022-03-31T14:29:57.800Z"
   },
   {
    "duration": 5000,
    "start_time": "2022-03-31T14:30:49.981Z"
   },
   {
    "duration": 5113,
    "start_time": "2022-03-31T14:30:54.983Z"
   },
   {
    "duration": 13,
    "start_time": "2022-03-31T14:31:00.098Z"
   },
   {
    "duration": 60568,
    "start_time": "2022-04-01T09:17:08.216Z"
   },
   {
    "duration": 292,
    "start_time": "2022-04-01T09:18:08.787Z"
   },
   {
    "duration": 38,
    "start_time": "2022-04-01T09:18:09.081Z"
   },
   {
    "duration": 56,
    "start_time": "2022-04-01T09:18:09.123Z"
   },
   {
    "duration": 80,
    "start_time": "2022-04-01T09:18:09.181Z"
   },
   {
    "duration": 40,
    "start_time": "2022-04-01T09:18:09.263Z"
   },
   {
    "duration": 30,
    "start_time": "2022-04-01T09:18:09.306Z"
   },
   {
    "duration": 397,
    "start_time": "2022-04-01T09:18:09.338Z"
   },
   {
    "duration": 37,
    "start_time": "2022-04-01T09:18:09.737Z"
   },
   {
    "duration": 5,
    "start_time": "2022-04-01T09:18:09.778Z"
   },
   {
    "duration": 29,
    "start_time": "2022-04-01T09:18:09.785Z"
   },
   {
    "duration": 21,
    "start_time": "2022-04-01T09:18:09.817Z"
   },
   {
    "duration": 50,
    "start_time": "2022-04-01T09:18:09.840Z"
   },
   {
    "duration": 13,
    "start_time": "2022-04-01T09:18:09.892Z"
   },
   {
    "duration": 21,
    "start_time": "2022-04-01T09:18:09.907Z"
   },
   {
    "duration": 298,
    "start_time": "2022-04-01T09:18:09.931Z"
   },
   {
    "duration": 13,
    "start_time": "2022-04-01T09:18:10.231Z"
   },
   {
    "duration": 17,
    "start_time": "2022-04-01T09:18:10.246Z"
   },
   {
    "duration": 18,
    "start_time": "2022-04-01T09:18:10.265Z"
   },
   {
    "duration": 21,
    "start_time": "2022-04-01T09:18:10.285Z"
   },
   {
    "duration": 44,
    "start_time": "2022-04-01T09:18:10.308Z"
   },
   {
    "duration": 32,
    "start_time": "2022-04-01T09:18:10.355Z"
   },
   {
    "duration": 5,
    "start_time": "2022-04-01T09:18:10.389Z"
   },
   {
    "duration": 48,
    "start_time": "2022-04-01T09:18:10.396Z"
   },
   {
    "duration": 266,
    "start_time": "2022-04-01T09:18:10.445Z"
   },
   {
    "duration": 26,
    "start_time": "2022-04-01T09:18:10.713Z"
   },
   {
    "duration": 48,
    "start_time": "2022-04-01T09:18:10.742Z"
   },
   {
    "duration": 28,
    "start_time": "2022-04-01T09:18:10.794Z"
   },
   {
    "duration": 21,
    "start_time": "2022-04-01T09:18:10.824Z"
   },
   {
    "duration": 29,
    "start_time": "2022-04-01T09:18:10.848Z"
   },
   {
    "duration": 13,
    "start_time": "2022-04-01T09:18:10.880Z"
   },
   {
    "duration": 17,
    "start_time": "2022-04-01T09:18:10.895Z"
   },
   {
    "duration": 68,
    "start_time": "2022-04-01T09:18:10.914Z"
   },
   {
    "duration": 14,
    "start_time": "2022-04-01T09:18:10.984Z"
   },
   {
    "duration": 22,
    "start_time": "2022-04-01T09:18:11.000Z"
   },
   {
    "duration": 68,
    "start_time": "2022-04-01T09:18:11.024Z"
   },
   {
    "duration": 10,
    "start_time": "2022-04-01T09:18:11.094Z"
   },
   {
    "duration": 9,
    "start_time": "2022-04-01T09:18:11.107Z"
   },
   {
    "duration": 13,
    "start_time": "2022-04-01T09:18:11.119Z"
   },
   {
    "duration": 5,
    "start_time": "2022-04-01T09:19:12.263Z"
   },
   {
    "duration": 6,
    "start_time": "2022-04-01T09:19:12.738Z"
   },
   {
    "duration": 33,
    "start_time": "2022-04-01T09:19:12.974Z"
   },
   {
    "duration": 6,
    "start_time": "2022-04-01T09:19:13.478Z"
   },
   {
    "duration": 6,
    "start_time": "2022-04-01T09:19:14.018Z"
   },
   {
    "duration": 6,
    "start_time": "2022-04-01T09:19:14.216Z"
   },
   {
    "duration": 22,
    "start_time": "2022-04-01T09:19:14.386Z"
   },
   {
    "duration": 4,
    "start_time": "2022-04-01T09:19:14.547Z"
   },
   {
    "duration": 284,
    "start_time": "2022-04-01T09:19:14.749Z"
   },
   {
    "duration": 16,
    "start_time": "2022-04-01T09:19:15.367Z"
   },
   {
    "duration": 30,
    "start_time": "2022-04-01T09:19:15.752Z"
   },
   {
    "duration": 5,
    "start_time": "2022-04-01T09:19:17.458Z"
   },
   {
    "duration": 4,
    "start_time": "2022-04-01T09:19:18.227Z"
   },
   {
    "duration": 10,
    "start_time": "2022-04-01T09:19:24.110Z"
   },
   {
    "duration": 20,
    "start_time": "2022-04-01T09:19:24.851Z"
   },
   {
    "duration": 4,
    "start_time": "2022-04-01T09:19:25.818Z"
   },
   {
    "duration": 2915,
    "start_time": "2022-04-01T09:19:28.960Z"
   },
   {
    "duration": 6,
    "start_time": "2022-04-01T09:19:38.397Z"
   },
   {
    "duration": 28,
    "start_time": "2022-04-01T09:19:49.377Z"
   },
   {
    "duration": 160,
    "start_time": "2022-04-01T09:20:04.948Z"
   },
   {
    "duration": 13,
    "start_time": "2022-04-01T09:20:18.299Z"
   },
   {
    "duration": 6608,
    "start_time": "2022-04-01T09:20:29.755Z"
   },
   {
    "duration": 6810,
    "start_time": "2022-04-01T09:20:36.365Z"
   },
   {
    "duration": 15,
    "start_time": "2022-04-01T09:20:43.177Z"
   },
   {
    "duration": 23,
    "start_time": "2022-04-01T09:20:43.195Z"
   },
   {
    "duration": 23,
    "start_time": "2022-04-01T09:21:08.087Z"
   },
   {
    "duration": 23,
    "start_time": "2022-04-01T09:21:40.079Z"
   },
   {
    "duration": 22,
    "start_time": "2022-04-01T09:23:26.212Z"
   },
   {
    "duration": 6586,
    "start_time": "2022-04-01T09:25:09.355Z"
   },
   {
    "duration": 6858,
    "start_time": "2022-04-01T09:25:15.944Z"
   },
   {
    "duration": 14,
    "start_time": "2022-04-01T09:25:22.804Z"
   },
   {
    "duration": 8,
    "start_time": "2022-04-01T09:25:54.309Z"
   },
   {
    "duration": 22,
    "start_time": "2022-04-01T09:27:19.222Z"
   },
   {
    "duration": 30,
    "start_time": "2022-04-01T09:27:30.252Z"
   },
   {
    "duration": 24,
    "start_time": "2022-04-01T09:27:43.034Z"
   }
  ],
  "kernelspec": {
   "display_name": "Python 3 (ipykernel)",
   "language": "python",
   "name": "python3"
  },
  "language_info": {
   "codemirror_mode": {
    "name": "ipython",
    "version": 3
   },
   "file_extension": ".py",
   "mimetype": "text/x-python",
   "name": "python",
   "nbconvert_exporter": "python",
   "pygments_lexer": "ipython3",
   "version": "3.9.7"
  },
  "toc": {
   "base_numbering": 1,
   "nav_menu": {},
   "number_sections": true,
   "sideBar": true,
   "skip_h1_title": true,
   "title_cell": "Содержание",
   "title_sidebar": "Contents",
   "toc_cell": true,
   "toc_position": {
    "height": "calc(100% - 180px)",
    "left": "10px",
    "top": "150px",
    "width": "366.387px"
   },
   "toc_section_display": true,
   "toc_window_display": true
  }
 },
 "nbformat": 4,
 "nbformat_minor": 2
}
