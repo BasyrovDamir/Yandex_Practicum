{
 "cells": [
  {
   "cell_type": "markdown",
   "metadata": {},
   "source": [
    "# Выбор локации для скважины"
   ]
  },
  {
   "cell_type": "markdown",
   "metadata": {},
   "source": [
    "Допустим, вы работаете в добывающей компании «ГлавРосГосНефть». Нужно решить, где бурить новую скважину.\n",
    "\n",
    "Вам предоставлены пробы нефти в трёх регионах: в каждом 10 000 месторождений, где измерили качество нефти и объём её запасов. Постройте модель машинного обучения, которая поможет определить регион, где добыча принесёт наибольшую прибыль. Проанализируйте возможную прибыль и риски техникой *Bootstrap.*\n",
    "\n",
    "Шаги для выбора локации:\n",
    "\n",
    "- В избранном регионе ищут месторождения, для каждого определяют значения признаков;\n",
    "- Строят модель и оценивают объём запасов;\n",
    "- Выбирают месторождения с самым высокими оценками значений. Количество месторождений зависит от бюджета компании и стоимости разработки одной скважины;\n",
    "- Прибыль равна суммарной прибыли отобранных месторождений.\n",
    "\n",
    "- id — уникальный идентификатор скважины;\n",
    "- f0, f1, f2 — три признака точек (неважно, что они означают, но сами признаки значимы);\n",
    "- product — объём запасов в скважине (тыс. баррелей)."
   ]
  },
  {
   "cell_type": "markdown",
   "metadata": {},
   "source": [
    "## Загрузка и подготовка данных"
   ]
  },
  {
   "cell_type": "code",
   "execution_count": 183,
   "metadata": {},
   "outputs": [],
   "source": [
    "import pandas as pd\n",
    "from sklearn.model_selection import train_test_split\n",
    "from sklearn.metrics import mean_squared_error\n",
    "from sklearn.linear_model import LinearRegression\n",
    "import seaborn as sns\n",
    "import matplotlib.pyplot as plt\n",
    "import numpy as np\n",
    "from scipy import stats as st"
   ]
  },
  {
   "cell_type": "code",
   "execution_count": 184,
   "metadata": {},
   "outputs": [],
   "source": [
    "region_one = pd.read_csv('/datasets/geo_data_0.csv')"
   ]
  },
  {
   "cell_type": "code",
   "execution_count": 185,
   "metadata": {},
   "outputs": [
    {
     "name": "stdout",
     "output_type": "stream",
     "text": [
      "<class 'pandas.core.frame.DataFrame'>\n",
      "RangeIndex: 100000 entries, 0 to 99999\n",
      "Data columns (total 5 columns):\n",
      "id         100000 non-null object\n",
      "f0         100000 non-null float64\n",
      "f1         100000 non-null float64\n",
      "f2         100000 non-null float64\n",
      "product    100000 non-null float64\n",
      "dtypes: float64(4), object(1)\n",
      "memory usage: 3.8+ MB\n"
     ]
    }
   ],
   "source": [
    "region_one.info()"
   ]
  },
  {
   "cell_type": "code",
   "execution_count": 186,
   "metadata": {},
   "outputs": [],
   "source": [
    "region_two = pd.read_csv('/datasets/geo_data_1.csv')"
   ]
  },
  {
   "cell_type": "code",
   "execution_count": 187,
   "metadata": {},
   "outputs": [
    {
     "name": "stdout",
     "output_type": "stream",
     "text": [
      "<class 'pandas.core.frame.DataFrame'>\n",
      "RangeIndex: 100000 entries, 0 to 99999\n",
      "Data columns (total 5 columns):\n",
      "id         100000 non-null object\n",
      "f0         100000 non-null float64\n",
      "f1         100000 non-null float64\n",
      "f2         100000 non-null float64\n",
      "product    100000 non-null float64\n",
      "dtypes: float64(4), object(1)\n",
      "memory usage: 3.8+ MB\n"
     ]
    }
   ],
   "source": [
    "region_two.info()"
   ]
  },
  {
   "cell_type": "code",
   "execution_count": 188,
   "metadata": {},
   "outputs": [],
   "source": [
    "region_three = pd.read_csv('/datasets/geo_data_2.csv')"
   ]
  },
  {
   "cell_type": "code",
   "execution_count": 189,
   "metadata": {},
   "outputs": [
    {
     "name": "stdout",
     "output_type": "stream",
     "text": [
      "<class 'pandas.core.frame.DataFrame'>\n",
      "RangeIndex: 100000 entries, 0 to 99999\n",
      "Data columns (total 5 columns):\n",
      "id         100000 non-null object\n",
      "f0         100000 non-null float64\n",
      "f1         100000 non-null float64\n",
      "f2         100000 non-null float64\n",
      "product    100000 non-null float64\n",
      "dtypes: float64(4), object(1)\n",
      "memory usage: 3.8+ MB\n"
     ]
    }
   ],
   "source": [
    "region_three.info()"
   ]
  },
  {
   "cell_type": "code",
   "execution_count": 190,
   "metadata": {},
   "outputs": [
    {
     "data": {
      "text/html": [
       "<div>\n",
       "<style scoped>\n",
       "    .dataframe tbody tr th:only-of-type {\n",
       "        vertical-align: middle;\n",
       "    }\n",
       "\n",
       "    .dataframe tbody tr th {\n",
       "        vertical-align: top;\n",
       "    }\n",
       "\n",
       "    .dataframe thead th {\n",
       "        text-align: right;\n",
       "    }\n",
       "</style>\n",
       "<table border=\"1\" class=\"dataframe\">\n",
       "  <thead>\n",
       "    <tr style=\"text-align: right;\">\n",
       "      <th></th>\n",
       "      <th>id</th>\n",
       "      <th>f0</th>\n",
       "      <th>f1</th>\n",
       "      <th>f2</th>\n",
       "      <th>product</th>\n",
       "    </tr>\n",
       "  </thead>\n",
       "  <tbody>\n",
       "    <tr>\n",
       "      <td>0</td>\n",
       "      <td>txEyH</td>\n",
       "      <td>0.705745</td>\n",
       "      <td>-0.497823</td>\n",
       "      <td>1.221170</td>\n",
       "      <td>105.280062</td>\n",
       "    </tr>\n",
       "    <tr>\n",
       "      <td>1</td>\n",
       "      <td>2acmU</td>\n",
       "      <td>1.334711</td>\n",
       "      <td>-0.340164</td>\n",
       "      <td>4.365080</td>\n",
       "      <td>73.037750</td>\n",
       "    </tr>\n",
       "    <tr>\n",
       "      <td>2</td>\n",
       "      <td>409Wp</td>\n",
       "      <td>1.022732</td>\n",
       "      <td>0.151990</td>\n",
       "      <td>1.419926</td>\n",
       "      <td>85.265647</td>\n",
       "    </tr>\n",
       "    <tr>\n",
       "      <td>3</td>\n",
       "      <td>iJLyR</td>\n",
       "      <td>-0.032172</td>\n",
       "      <td>0.139033</td>\n",
       "      <td>2.978566</td>\n",
       "      <td>168.620776</td>\n",
       "    </tr>\n",
       "    <tr>\n",
       "      <td>4</td>\n",
       "      <td>Xdl7t</td>\n",
       "      <td>1.988431</td>\n",
       "      <td>0.155413</td>\n",
       "      <td>4.751769</td>\n",
       "      <td>154.036647</td>\n",
       "    </tr>\n",
       "  </tbody>\n",
       "</table>\n",
       "</div>"
      ],
      "text/plain": [
       "      id        f0        f1        f2     product\n",
       "0  txEyH  0.705745 -0.497823  1.221170  105.280062\n",
       "1  2acmU  1.334711 -0.340164  4.365080   73.037750\n",
       "2  409Wp  1.022732  0.151990  1.419926   85.265647\n",
       "3  iJLyR -0.032172  0.139033  2.978566  168.620776\n",
       "4  Xdl7t  1.988431  0.155413  4.751769  154.036647"
      ]
     },
     "execution_count": 190,
     "metadata": {},
     "output_type": "execute_result"
    }
   ],
   "source": [
    "region_one.head()"
   ]
  },
  {
   "cell_type": "code",
   "execution_count": 191,
   "metadata": {},
   "outputs": [
    {
     "data": {
      "text/html": [
       "<div>\n",
       "<style scoped>\n",
       "    .dataframe tbody tr th:only-of-type {\n",
       "        vertical-align: middle;\n",
       "    }\n",
       "\n",
       "    .dataframe tbody tr th {\n",
       "        vertical-align: top;\n",
       "    }\n",
       "\n",
       "    .dataframe thead th {\n",
       "        text-align: right;\n",
       "    }\n",
       "</style>\n",
       "<table border=\"1\" class=\"dataframe\">\n",
       "  <thead>\n",
       "    <tr style=\"text-align: right;\">\n",
       "      <th></th>\n",
       "      <th>id</th>\n",
       "      <th>f0</th>\n",
       "      <th>f1</th>\n",
       "      <th>f2</th>\n",
       "      <th>product</th>\n",
       "    </tr>\n",
       "  </thead>\n",
       "  <tbody>\n",
       "    <tr>\n",
       "      <td>0</td>\n",
       "      <td>kBEdx</td>\n",
       "      <td>-15.001348</td>\n",
       "      <td>-8.276000</td>\n",
       "      <td>-0.005876</td>\n",
       "      <td>3.179103</td>\n",
       "    </tr>\n",
       "    <tr>\n",
       "      <td>1</td>\n",
       "      <td>62mP7</td>\n",
       "      <td>14.272088</td>\n",
       "      <td>-3.475083</td>\n",
       "      <td>0.999183</td>\n",
       "      <td>26.953261</td>\n",
       "    </tr>\n",
       "    <tr>\n",
       "      <td>2</td>\n",
       "      <td>vyE1P</td>\n",
       "      <td>6.263187</td>\n",
       "      <td>-5.948386</td>\n",
       "      <td>5.001160</td>\n",
       "      <td>134.766305</td>\n",
       "    </tr>\n",
       "    <tr>\n",
       "      <td>3</td>\n",
       "      <td>KcrkZ</td>\n",
       "      <td>-13.081196</td>\n",
       "      <td>-11.506057</td>\n",
       "      <td>4.999415</td>\n",
       "      <td>137.945408</td>\n",
       "    </tr>\n",
       "    <tr>\n",
       "      <td>4</td>\n",
       "      <td>AHL4O</td>\n",
       "      <td>12.702195</td>\n",
       "      <td>-8.147433</td>\n",
       "      <td>5.004363</td>\n",
       "      <td>134.766305</td>\n",
       "    </tr>\n",
       "  </tbody>\n",
       "</table>\n",
       "</div>"
      ],
      "text/plain": [
       "      id         f0         f1        f2     product\n",
       "0  kBEdx -15.001348  -8.276000 -0.005876    3.179103\n",
       "1  62mP7  14.272088  -3.475083  0.999183   26.953261\n",
       "2  vyE1P   6.263187  -5.948386  5.001160  134.766305\n",
       "3  KcrkZ -13.081196 -11.506057  4.999415  137.945408\n",
       "4  AHL4O  12.702195  -8.147433  5.004363  134.766305"
      ]
     },
     "execution_count": 191,
     "metadata": {},
     "output_type": "execute_result"
    }
   ],
   "source": [
    "region_two.head()"
   ]
  },
  {
   "cell_type": "code",
   "execution_count": 192,
   "metadata": {},
   "outputs": [
    {
     "data": {
      "text/html": [
       "<div>\n",
       "<style scoped>\n",
       "    .dataframe tbody tr th:only-of-type {\n",
       "        vertical-align: middle;\n",
       "    }\n",
       "\n",
       "    .dataframe tbody tr th {\n",
       "        vertical-align: top;\n",
       "    }\n",
       "\n",
       "    .dataframe thead th {\n",
       "        text-align: right;\n",
       "    }\n",
       "</style>\n",
       "<table border=\"1\" class=\"dataframe\">\n",
       "  <thead>\n",
       "    <tr style=\"text-align: right;\">\n",
       "      <th></th>\n",
       "      <th>id</th>\n",
       "      <th>f0</th>\n",
       "      <th>f1</th>\n",
       "      <th>f2</th>\n",
       "      <th>product</th>\n",
       "    </tr>\n",
       "  </thead>\n",
       "  <tbody>\n",
       "    <tr>\n",
       "      <td>0</td>\n",
       "      <td>fwXo0</td>\n",
       "      <td>-1.146987</td>\n",
       "      <td>0.963328</td>\n",
       "      <td>-0.828965</td>\n",
       "      <td>27.758673</td>\n",
       "    </tr>\n",
       "    <tr>\n",
       "      <td>1</td>\n",
       "      <td>WJtFt</td>\n",
       "      <td>0.262778</td>\n",
       "      <td>0.269839</td>\n",
       "      <td>-2.530187</td>\n",
       "      <td>56.069697</td>\n",
       "    </tr>\n",
       "    <tr>\n",
       "      <td>2</td>\n",
       "      <td>ovLUW</td>\n",
       "      <td>0.194587</td>\n",
       "      <td>0.289035</td>\n",
       "      <td>-5.586433</td>\n",
       "      <td>62.871910</td>\n",
       "    </tr>\n",
       "    <tr>\n",
       "      <td>3</td>\n",
       "      <td>q6cA6</td>\n",
       "      <td>2.236060</td>\n",
       "      <td>-0.553760</td>\n",
       "      <td>0.930038</td>\n",
       "      <td>114.572842</td>\n",
       "    </tr>\n",
       "    <tr>\n",
       "      <td>4</td>\n",
       "      <td>WPMUX</td>\n",
       "      <td>-0.515993</td>\n",
       "      <td>1.716266</td>\n",
       "      <td>5.899011</td>\n",
       "      <td>149.600746</td>\n",
       "    </tr>\n",
       "  </tbody>\n",
       "</table>\n",
       "</div>"
      ],
      "text/plain": [
       "      id        f0        f1        f2     product\n",
       "0  fwXo0 -1.146987  0.963328 -0.828965   27.758673\n",
       "1  WJtFt  0.262778  0.269839 -2.530187   56.069697\n",
       "2  ovLUW  0.194587  0.289035 -5.586433   62.871910\n",
       "3  q6cA6  2.236060 -0.553760  0.930038  114.572842\n",
       "4  WPMUX -0.515993  1.716266  5.899011  149.600746"
      ]
     },
     "execution_count": 192,
     "metadata": {},
     "output_type": "execute_result"
    }
   ],
   "source": [
    "region_three.head()"
   ]
  },
  {
   "cell_type": "code",
   "execution_count": 193,
   "metadata": {},
   "outputs": [],
   "source": [
    "# Удаляем строки с дублированными данными в колонке id\n",
    "regions = [region_one, region_two, region_three]\n",
    "for region in regions:\n",
    "    region.drop(region.query('id.duplicated() == True').index, inplace=True)"
   ]
  },
  {
   "cell_type": "code",
   "execution_count": 194,
   "metadata": {},
   "outputs": [
    {
     "data": {
      "text/plain": [
       "0"
      ]
     },
     "execution_count": 194,
     "metadata": {},
     "output_type": "execute_result"
    }
   ],
   "source": [
    "region_one['id'].duplicated().sum()"
   ]
  },
  {
   "cell_type": "code",
   "execution_count": 195,
   "metadata": {},
   "outputs": [
    {
     "data": {
      "text/plain": [
       "0"
      ]
     },
     "execution_count": 195,
     "metadata": {},
     "output_type": "execute_result"
    }
   ],
   "source": [
    "region_two['id'].duplicated().sum()"
   ]
  },
  {
   "cell_type": "code",
   "execution_count": 196,
   "metadata": {},
   "outputs": [
    {
     "data": {
      "text/plain": [
       "0"
      ]
     },
     "execution_count": 196,
     "metadata": {},
     "output_type": "execute_result"
    }
   ],
   "source": [
    "region_three['id'].duplicated().sum()"
   ]
  },
  {
   "cell_type": "code",
   "execution_count": 197,
   "metadata": {},
   "outputs": [],
   "source": [
    "# Выделяем целевые и независимые признаки в регионах\n",
    "# Для выборок независимых признаков также удаляем колонку id, т.к. данные в ней будут мешать обучению моделей.\n",
    "region_one_A = region_one.drop(['product','id'], axis=1)\n",
    "region_one_B = region_one['product']\n",
    "region_two_A = region_two.drop(['product','id'], axis=1)\n",
    "region_two_B = region_two['product']\n",
    "region_three_A = region_three.drop(['product','id'], axis=1)\n",
    "region_three_B = region_three['product']"
   ]
  },
  {
   "cell_type": "markdown",
   "metadata": {},
   "source": [
    "###### Вывод"
   ]
  },
  {
   "cell_type": "markdown",
   "metadata": {},
   "source": [
    "- Чтобы избежать ошибок, в датасетах были удалены строки с дублирующимися id.\n",
    "- Для каждого региона были выделены независимые и целевые признаки"
   ]
  },
  {
   "cell_type": "markdown",
   "metadata": {},
   "source": [
    "## Обучение и проверка модели"
   ]
  },
  {
   "cell_type": "code",
   "execution_count": 198,
   "metadata": {},
   "outputs": [],
   "source": [
    "# Делим данные трёх регионов на обучающие и валидационные выборки\n",
    "# Для удобства регион №1 будет называться north, а регионы №2 и №3 соответственно middle и south\n",
    "north_A_train, north_A_valid, north_B_train, north_B_valid = train_test_split(region_one_A, region_one_B, test_size=0.25) # отделите 25% данных для валидационной выборки\n",
    "middle_A_train, middle_A_valid, middle_B_train, middle_B_valid = train_test_split(region_two_A, region_two_B, test_size=0.25) # отделите 25% данных для валидационной выборки\n",
    "south_A_train, south_A_valid, south_B_train, south_B_valid = train_test_split(region_three_A, region_three_B, test_size=0.25) # отделите 25% данных для валидационной выборки"
   ]
  },
  {
   "cell_type": "code",
   "execution_count": 199,
   "metadata": {},
   "outputs": [],
   "source": [
    "# создаем нашу модель линейной регрессии\n",
    "model = LinearRegression()"
   ]
  },
  {
   "cell_type": "code",
   "execution_count": 200,
   "metadata": {},
   "outputs": [
    {
     "name": "stdout",
     "output_type": "stream",
     "text": [
      "Регион №1. Средний запас предсказанного сырья: 92.48550252860535, RMSE = 37.682515408574076\n"
     ]
    }
   ],
   "source": [
    "# обучаем модель на данных региона №1\n",
    "model.fit(north_A_train, north_B_train)\n",
    "north_predicted = model.predict(north_A_valid)\n",
    "mse_north = mean_squared_error(north_B_valid, north_predicted)\n",
    "rmse_north = mse_north**0.5\n",
    "north_mean = north_predicted.mean()\n",
    "print(f'Регион №1. Средний запас предсказанного сырья: {north_mean}, RMSE = {rmse_north}')"
   ]
  },
  {
   "cell_type": "code",
   "execution_count": 201,
   "metadata": {},
   "outputs": [
    {
     "name": "stdout",
     "output_type": "stream",
     "text": [
      "Регион №2. Средний запас предсказанного сырья: 68.68272756165844, RMSE = 0.8916819868937543\n"
     ]
    }
   ],
   "source": [
    "# обучаем модель на данных региона №2\n",
    "model.fit(middle_A_train, middle_B_train)\n",
    "middle_predicted = model.predict(middle_A_valid)\n",
    "mse_middle = mean_squared_error(middle_B_valid, middle_predicted)\n",
    "rmse_middle = mse_middle**0.5\n",
    "middle_mean = middle_predicted.mean()\n",
    "print(f'Регион №2. Средний запас предсказанного сырья: {middle_mean}, RMSE = {rmse_middle}')"
   ]
  },
  {
   "cell_type": "code",
   "execution_count": 202,
   "metadata": {},
   "outputs": [
    {
     "name": "stdout",
     "output_type": "stream",
     "text": [
      "Регион №3. Средний запас предсказанного сырья: 94.67826896996021, RMSE = 40.04535578503351\n"
     ]
    }
   ],
   "source": [
    "# обучаем модель на данных региона №3\n",
    "model.fit(south_A_train, south_B_train)\n",
    "south_predicted = model.predict(south_A_valid)\n",
    "mse_south = mean_squared_error(south_B_valid, south_predicted)\n",
    "rmse_south = mse_south**0.5\n",
    "south_mean = south_predicted.mean()\n",
    "print(f'Регион №3. Средний запас предсказанного сырья: {south_mean}, RMSE = {rmse_south}')"
   ]
  },
  {
   "cell_type": "code",
   "execution_count": 203,
   "metadata": {},
   "outputs": [
    {
     "data": {
      "image/png": "[encoded data removed]",
      "text/plain": [
       "<Figure size 432x288 with 2 Axes>"
      ]
     },
     "metadata": {
      "needs_background": "light"
     },
     "output_type": "display_data"
    },
    {
     "data": {
      "image/png": "[encoded data removed]",
      "text/plain": [
       "<Figure size 432x288 with 2 Axes>"
      ]
     },
     "metadata": {
      "needs_background": "light"
     },
     "output_type": "display_data"
    },
    {
     "data": {
      "image/png": "[encoded data removed]",
      "text/plain": [
       "<Figure size 432x288 with 2 Axes>"
      ]
     },
     "metadata": {
      "needs_background": "light"
     },
     "output_type": "display_data"
    }
   ],
   "source": [
    "for i in range(len(regions)):\n",
    "    ax = plt.axes()\n",
    "    sns.heatmap(regions[i].corr(), annot = True)\n",
    "    ax.set_title('region ' + str(i+1))\n",
    "    plt.show()"
   ]
  },
  {
   "cell_type": "code",
   "execution_count": 204,
   "metadata": {},
   "outputs": [
    {
     "data": {
      "image/png": "[encoded data removed]",
      "text/plain": [
       "<Figure size 432x288 with 1 Axes>"
      ]
     },
     "metadata": {
      "needs_background": "light"
     },
     "output_type": "display_data"
    }
   ],
   "source": [
    "region_two_A.plot(x='f2', y='f2', kind='scatter', grid=True) \n",
    "plt.text(5, 5, 'коэффициент корреляции: ' + str(round(region_two_A['f2'].corr(region_two_A['f2']), 2)))\n",
    "plt.title(\"Корреляции между числом и продолжительностью звонков\")\n",
    "plt.ylabel(\"Минут\")\n",
    "plt.xlabel(\"Звонков\")\n",
    "plt.show()"
   ]
  },
  {
   "cell_type": "markdown",
   "metadata": {},
   "source": [
    "###### Вывод\n",
    "- Мы разделили данные каждого региона на обучающую и валидационную выборки;\n",
    "- Обучили модель линейной регрессии на тренировочных данных каждого региона;\n",
    "- Посчитали среднее количество предсказанных запасов в каждом регионе, и посчитали среднеквадратическую ошибку;\n",
    "- В регионе №1. Средний запас предсказанного сырья: 92.516 тыс.баррелей, RMSE = 37.7387;\n",
    "- В регионе №2. Средний запас предсказанного сырья: 68.966 тыс.баррелей, RMSE = 0.8907;\n",
    "- В регионе №3. Средний запас предсказанного сырья: 95.0019 тыс.баррелей, RMSE = 39.94007;\n",
    "- Для проверки корреляции признаков мы построили тепловые карты данных для каждого региона. Удалось обнаружить высокую корреляцию между признако f2 и целевым признаком в регионе №2, потому среднеквадратическая ошибка в этом регионе меньше единицы."
   ]
  },
  {
   "cell_type": "markdown",
   "metadata": {},
   "source": [
    "## Подготовка к расчёту прибыли"
   ]
  },
  {
   "cell_type": "code",
   "execution_count": 205,
   "metadata": {},
   "outputs": [],
   "source": [
    "# Сохраняем ключевые значения для расчетов\n",
    "REGIONAL_BUDGET = 10_000_000_000 # Бюджет на разработку скважин в регионе\n",
    "ONE_BARREL_INCOME = 450  # Доход с одного барреля сырья \n",
    "INCOME_PER_UNIT = 450_000 # Доход с каждой единицы продукта \n",
    "MINES_COUNT = 200 # Количество лучших шахт для расчета прибыли"
   ]
  },
  {
   "cell_type": "code",
   "execution_count": 206,
   "metadata": {},
   "outputs": [
    {
     "data": {
      "text/plain": [
       "111.11"
      ]
     },
     "execution_count": 206,
     "metadata": {},
     "output_type": "execute_result"
    }
   ],
   "source": [
    "# Рассчитываем достаточный объём сырья для безубыточной разработки новой скважины\n",
    "REGIONAL_DEVELOPMENT = REGIONAL_BUDGET/INCOME_PER_UNIT\n",
    "STAPLE_VOLUME = REGIONAL_DEVELOPMENT / MINES_COUNT\n",
    "round(STAPLE_VOLUME, 2)"
   ]
  },
  {
   "cell_type": "code",
   "execution_count": 207,
   "metadata": {},
   "outputs": [],
   "source": [
    "# Сравнение средних запасов предсказанного сырья в регионах по сравнению с объёмом достаточным для безубыточной разработки\n",
    "means = [north_mean, middle_mean, south_mean]"
   ]
  },
  {
   "cell_type": "code",
   "execution_count": 208,
   "metadata": {},
   "outputs": [
    {
     "name": "stdout",
     "output_type": "stream",
     "text": [
      "Для безубыточной разработки необходимо чтобы одна скважина добывала не менее: 112 тыс. баррелей \n",
      "\n",
      "В среднем первый регион добывает: 92 тыс. баррелей\n",
      "В среднем второй регион добывает: 69 тыс. баррелей\n",
      "В среднем третий регион добывает: 95 тыс. баррелей\n",
      "10000000000\n"
     ]
    }
   ],
   "source": [
    "print('Для безубыточной разработки необходимо чтобы одна скважина добывала не менее:', round(STAPLE_VOLUME + 1), 'тыс. баррелей \\n')\n",
    "# Рассчитаем средний запас по каждому региону\n",
    "\n",
    "print('В среднем первый регион добывает:', round(region_one['product'].mean()), 'тыс. баррелей')\n",
    "print('В среднем второй регион добывает:', round(region_two['product'].mean()), 'тыс. баррелей')\n",
    "print('В среднем третий регион добывает:', round(region_three['product'].mean()), 'тыс. баррелей')\n",
    "print(REGIONAL_BUDGET)"
   ]
  },
  {
   "cell_type": "markdown",
   "metadata": {},
   "source": [
    "###### Вывод\n",
    " - При таком раскладе у нас не очень утешительный прогноз, действительно одна скважина должна добывать не менее 112 тыс. баррелей, а средние значения по каждому из регионов меньше. Т.е мы должны выбирать только самые лучшие месторождения и не имеем право на сильное отклонение"
   ]
  },
  {
   "cell_type": "markdown",
   "metadata": {},
   "source": [
    "## Функция для расчёта прибыли по выбранным скважинам и предсказаниям модели"
   ]
  },
  {
   "cell_type": "code",
   "execution_count": 209,
   "metadata": {},
   "outputs": [],
   "source": [
    "# Функция для расчета прибыли по выбранным скважинам и предсказаниям модели\n",
    "def profit(target, predictions):\n",
    "    target = pd.Series(target).reset_index(drop=True)\n",
    "    predictions = pd.Series(predictions).reset_index(drop=True)\n",
    "    predictions_s = predictions.sort_values(ascending=False)[:MINES_COUNT].index\n",
    "    selected = target[predictions_s]\n",
    "    profit = selected.sum() * INCOME_PER_UNIT - REGIONAL_BUDGET\n",
    "    return round(profit, 2)"
   ]
  },
  {
   "cell_type": "code",
   "execution_count": 210,
   "metadata": {},
   "outputs": [
    {
     "data": {
      "text/plain": [
       "3384963940.12"
      ]
     },
     "execution_count": 210,
     "metadata": {},
     "output_type": "execute_result"
    }
   ],
   "source": [
    "profit(north_B_valid, north_predicted)"
   ]
  },
  {
   "cell_type": "code",
   "execution_count": 211,
   "metadata": {},
   "outputs": [
    {
     "data": {
      "text/plain": [
       "2415086696.68"
      ]
     },
     "execution_count": 211,
     "metadata": {},
     "output_type": "execute_result"
    }
   ],
   "source": [
    "profit(middle_B_valid, middle_predicted)"
   ]
  },
  {
   "cell_type": "code",
   "execution_count": 212,
   "metadata": {},
   "outputs": [
    {
     "data": {
      "text/plain": [
       "2357513643.43"
      ]
     },
     "execution_count": 212,
     "metadata": {},
     "output_type": "execute_result"
    }
   ],
   "source": [
    "profit(south_B_valid, south_predicted)"
   ]
  },
  {
   "cell_type": "markdown",
   "metadata": {},
   "source": [
    "## Расчёт прибыли и рисков "
   ]
  },
  {
   "cell_type": "code",
   "execution_count": 213,
   "metadata": {},
   "outputs": [],
   "source": [
    "def bootstrap(target, probabilities, iterations, sample_size):\n",
    "    state = np.random.RandomState(12345)\n",
    "    values = []\n",
    "    for i in range(iterations):\n",
    "        target_subsample = target.sample(n=sample_size, random_state=state, replace=True)\n",
    "        probs_subsample = probabilities[target_subsample.index]\n",
    "        values.append(profit(target_subsample, probs_subsample))\n",
    "\n",
    "    values = pd.Series(values)\n",
    "    mean = values.mean()\n",
    "    risk = (values < 0).mean()\n",
    "    confidence_interval = st.t.interval(0.95, len(values)-1, loc=values.mean(), scale=values.sem())\n",
    "    \n",
    "    lower = values.quantile(0.025)\n",
    "    upper = values.quantile(0.975)\n",
    "    quantile_interval = (lower, upper)\n",
    "    return round(mean,2), confidence_interval, round(risk*100, 2), quantile_interval"
   ]
  },
  {
   "cell_type": "code",
   "execution_count": 214,
   "metadata": {},
   "outputs": [
    {
     "name": "stdout",
     "output_type": "stream",
     "text": [
      "Регион №1 средняя выручка =  438676268.66\n",
      "Регион №1 95 %ый доверительный интервал по квантилям =  (-43360530.066750005, 934542927.4825)\n",
      "Регион №1 Риск убытков: 3.5%\n"
     ]
    }
   ],
   "source": [
    "north_mean, north_interval, north_risk, north_quantile = bootstrap(north_B_valid.reset_index(drop=True), north_predicted, 1000, 500)\n",
    "print('Регион №1 средняя выручка = ', north_mean)\n",
    "print('Регион №1 95 %ый доверительный интервал по квантилям = ', north_quantile)\n",
    "print(f'Регион №1 Риск убытков: {north_risk}%')"
   ]
  },
  {
   "cell_type": "code",
   "execution_count": 215,
   "metadata": {},
   "outputs": [
    {
     "name": "stdout",
     "output_type": "stream",
     "text": [
      "Регион №1 средняя выручка =  429058588.58\n",
      "Регион №1 95 %ый доверительный интервал по квантилям =  (19610957.516000003, 810145956.9157499)\n",
      "Регион №1 Риск убытков: 2.1%\n"
     ]
    }
   ],
   "source": [
    "middle_mean, middle_interval, middle_risk, middle_quantile = bootstrap(middle_B_valid.reset_index(drop=True), middle_predicted, 1000, 500)\n",
    "print('Регион №1 средняя выручка = ', middle_mean)\n",
    "print('Регион №1 95 %ый доверительный интервал по квантилям = ', middle_quantile)\n",
    "print(f'Регион №1 Риск убытков: {middle_risk}%')"
   ]
  },
  {
   "cell_type": "code",
   "execution_count": 216,
   "metadata": {},
   "outputs": [
    {
     "name": "stdout",
     "output_type": "stream",
     "text": [
      "Регион №1 средняя выручка =  417666823.42\n",
      "Регион №1 95 %ый доверительный интервал по квантилям =  (-138849889.26624998, 933818684.1442499)\n",
      "Регион №1 Риск убытков: 6.4%\n"
     ]
    }
   ],
   "source": [
    "south_mean, south_interval, south_risk, south_quantile = bootstrap(south_B_valid.reset_index(drop=True), south_predicted, 1000, 500)\n",
    "print('Регион №1 средняя выручка = ', south_mean)\n",
    "print('Регион №1 95 %ый доверительный интервал по квантилям = ', south_quantile)\n",
    "print(f'Регион №1 Риск убытков: {south_risk}%')"
   ]
  },
  {
   "cell_type": "markdown",
   "metadata": {},
   "source": [
    "###### Вывод"
   ]
  },
  {
   "cell_type": "markdown",
   "metadata": {},
   "source": [
    "Согласно техникой bootsrap прибыльной разработкой месторождения считается регион №2. В этом регионе самая высокая средняя выручка и самый минимальный риск убытков."
   ]
  }
 ],
 "metadata": {
  "ExecuteTimeLog": [
   {
    "duration": 1444,
    "start_time": "2022-03-03T21:12:35.934Z"
   },
   {
    "duration": 5,
    "start_time": "2022-03-03T21:12:41.767Z"
   },
   {
    "duration": 341,
    "start_time": "2022-03-03T21:13:02.606Z"
   },
   {
    "duration": 4,
    "start_time": "2022-03-03T21:13:21.650Z"
   },
   {
    "duration": 183,
    "start_time": "2022-03-03T21:13:21.658Z"
   },
   {
    "duration": 146,
    "start_time": "2022-03-03T21:16:27.123Z"
   },
   {
    "duration": 15,
    "start_time": "2022-03-03T21:16:39.862Z"
   },
   {
    "duration": 141,
    "start_time": "2022-03-03T21:22:29.495Z"
   },
   {
    "duration": 17,
    "start_time": "2022-03-03T21:23:03.217Z"
   },
   {
    "duration": 1318,
    "start_time": "2022-03-05T09:07:58.786Z"
   },
   {
    "duration": 129,
    "start_time": "2022-03-05T09:08:00.106Z"
   },
   {
    "duration": 11,
    "start_time": "2022-03-05T09:08:00.237Z"
   },
   {
    "duration": 132,
    "start_time": "2022-03-05T09:08:00.250Z"
   },
   {
    "duration": 12,
    "start_time": "2022-03-05T09:08:00.384Z"
   },
   {
    "duration": 142,
    "start_time": "2022-03-05T09:08:00.398Z"
   },
   {
    "duration": 10,
    "start_time": "2022-03-05T09:08:17.856Z"
   },
   {
    "duration": 17,
    "start_time": "2022-03-05T09:22:20.152Z"
   },
   {
    "duration": 10,
    "start_time": "2022-03-05T09:23:23.401Z"
   },
   {
    "duration": 12,
    "start_time": "2022-03-05T09:23:47.401Z"
   },
   {
    "duration": 12,
    "start_time": "2022-03-05T09:28:56.693Z"
   },
   {
    "duration": 12,
    "start_time": "2022-03-05T09:29:02.126Z"
   },
   {
    "duration": 10,
    "start_time": "2022-03-05T09:29:22.666Z"
   },
   {
    "duration": 11,
    "start_time": "2022-03-05T09:29:30.475Z"
   },
   {
    "duration": 49,
    "start_time": "2022-03-05T09:37:55.386Z"
   },
   {
    "duration": 49,
    "start_time": "2022-03-05T09:38:03.553Z"
   },
   {
    "duration": 43,
    "start_time": "2022-03-05T09:38:08.209Z"
   },
   {
    "duration": 19,
    "start_time": "2022-03-05T09:38:46.158Z"
   },
   {
    "duration": 18,
    "start_time": "2022-03-05T09:38:51.928Z"
   },
   {
    "duration": 15,
    "start_time": "2022-03-05T09:38:56.018Z"
   },
   {
    "duration": 7,
    "start_time": "2022-03-05T09:45:17.003Z"
   },
   {
    "duration": 5,
    "start_time": "2022-03-05T10:18:39.056Z"
   },
   {
    "duration": 343,
    "start_time": "2022-03-05T10:19:21.800Z"
   },
   {
    "duration": 17,
    "start_time": "2022-03-05T10:22:28.925Z"
   },
   {
    "duration": 23,
    "start_time": "2022-03-05T10:22:56.152Z"
   },
   {
    "duration": 73,
    "start_time": "2022-03-05T10:26:06.211Z"
   },
   {
    "duration": 15,
    "start_time": "2022-03-05T10:27:10.140Z"
   },
   {
    "duration": 15,
    "start_time": "2022-03-05T10:27:25.020Z"
   },
   {
    "duration": 16,
    "start_time": "2022-03-05T10:27:41.468Z"
   },
   {
    "duration": -24,
    "start_time": "2022-03-05T11:34:15.456Z"
   },
   {
    "duration": -25,
    "start_time": "2022-03-05T11:34:15.458Z"
   },
   {
    "duration": -25,
    "start_time": "2022-03-05T11:34:15.459Z"
   },
   {
    "duration": -24,
    "start_time": "2022-03-05T11:34:15.459Z"
   },
   {
    "duration": -23,
    "start_time": "2022-03-05T11:34:15.460Z"
   },
   {
    "duration": -23,
    "start_time": "2022-03-05T11:34:15.461Z"
   },
   {
    "duration": -23,
    "start_time": "2022-03-05T11:34:15.462Z"
   },
   {
    "duration": -23,
    "start_time": "2022-03-05T11:34:15.463Z"
   },
   {
    "duration": -23,
    "start_time": "2022-03-05T11:34:15.464Z"
   },
   {
    "duration": -23,
    "start_time": "2022-03-05T11:34:15.465Z"
   },
   {
    "duration": -23,
    "start_time": "2022-03-05T11:34:15.466Z"
   },
   {
    "duration": -23,
    "start_time": "2022-03-05T11:34:15.467Z"
   },
   {
    "duration": -22,
    "start_time": "2022-03-05T11:34:15.468Z"
   },
   {
    "duration": -79,
    "start_time": "2022-03-05T11:34:15.526Z"
   },
   {
    "duration": -84,
    "start_time": "2022-03-05T11:34:15.531Z"
   },
   {
    "duration": 1506,
    "start_time": "2022-03-06T09:27:03.198Z"
   },
   {
    "duration": 152,
    "start_time": "2022-03-06T09:27:04.707Z"
   },
   {
    "duration": 14,
    "start_time": "2022-03-06T09:27:04.862Z"
   },
   {
    "duration": 157,
    "start_time": "2022-03-06T09:27:04.879Z"
   },
   {
    "duration": 13,
    "start_time": "2022-03-06T09:27:05.039Z"
   },
   {
    "duration": 158,
    "start_time": "2022-03-06T09:27:05.055Z"
   },
   {
    "duration": 23,
    "start_time": "2022-03-06T09:27:05.216Z"
   },
   {
    "duration": 16,
    "start_time": "2022-03-06T09:27:05.241Z"
   },
   {
    "duration": 11,
    "start_time": "2022-03-06T09:27:05.261Z"
   },
   {
    "duration": 12,
    "start_time": "2022-03-06T09:27:05.275Z"
   },
   {
    "duration": 125,
    "start_time": "2022-03-06T09:27:05.290Z"
   },
   {
    "duration": 19,
    "start_time": "2022-03-06T09:27:05.417Z"
   },
   {
    "duration": 20,
    "start_time": "2022-03-06T09:27:05.438Z"
   },
   {
    "duration": 19,
    "start_time": "2022-03-06T09:27:05.460Z"
   },
   {
    "duration": 7201,
    "start_time": "2022-03-06T09:27:05.481Z"
   },
   {
    "duration": 1293,
    "start_time": "2022-03-06T09:27:11.392Z"
   },
   {
    "duration": 14,
    "start_time": "2022-03-06T09:27:45.783Z"
   },
   {
    "duration": 5,
    "start_time": "2022-03-06T09:27:52.038Z"
   },
   {
    "duration": 156,
    "start_time": "2022-03-06T09:27:52.045Z"
   },
   {
    "duration": 15,
    "start_time": "2022-03-06T09:27:52.203Z"
   },
   {
    "duration": 158,
    "start_time": "2022-03-06T09:27:52.231Z"
   },
   {
    "duration": 13,
    "start_time": "2022-03-06T09:27:52.392Z"
   },
   {
    "duration": 158,
    "start_time": "2022-03-06T09:27:52.407Z"
   },
   {
    "duration": 13,
    "start_time": "2022-03-06T09:27:52.568Z"
   },
   {
    "duration": 11,
    "start_time": "2022-03-06T09:27:52.584Z"
   },
   {
    "duration": 36,
    "start_time": "2022-03-06T09:27:52.599Z"
   },
   {
    "duration": 16,
    "start_time": "2022-03-06T09:27:52.638Z"
   },
   {
    "duration": 104,
    "start_time": "2022-03-06T09:27:52.656Z"
   },
   {
    "duration": 18,
    "start_time": "2022-03-06T09:27:52.763Z"
   },
   {
    "duration": 19,
    "start_time": "2022-03-06T09:27:52.784Z"
   },
   {
    "duration": 40,
    "start_time": "2022-03-06T09:27:52.805Z"
   },
   {
    "duration": 12,
    "start_time": "2022-03-06T09:27:52.848Z"
   },
   {
    "duration": 46,
    "start_time": "2022-03-06T09:27:52.862Z"
   },
   {
    "duration": 5,
    "start_time": "2022-03-06T09:34:31.284Z"
   },
   {
    "duration": 164,
    "start_time": "2022-03-06T09:34:31.292Z"
   },
   {
    "duration": 14,
    "start_time": "2022-03-06T09:34:31.459Z"
   },
   {
    "duration": 158,
    "start_time": "2022-03-06T09:34:31.476Z"
   },
   {
    "duration": 13,
    "start_time": "2022-03-06T09:34:31.637Z"
   },
   {
    "duration": 161,
    "start_time": "2022-03-06T09:34:31.653Z"
   },
   {
    "duration": 17,
    "start_time": "2022-03-06T09:34:31.817Z"
   },
   {
    "duration": 12,
    "start_time": "2022-03-06T09:34:31.837Z"
   },
   {
    "duration": 12,
    "start_time": "2022-03-06T09:34:31.852Z"
   },
   {
    "duration": 13,
    "start_time": "2022-03-06T09:34:31.867Z"
   },
   {
    "duration": 122,
    "start_time": "2022-03-06T09:34:31.882Z"
   },
   {
    "duration": 28,
    "start_time": "2022-03-06T09:34:32.006Z"
   },
   {
    "duration": 19,
    "start_time": "2022-03-06T09:34:32.036Z"
   },
   {
    "duration": 19,
    "start_time": "2022-03-06T09:34:32.057Z"
   },
   {
    "duration": 13,
    "start_time": "2022-03-06T09:34:32.078Z"
   },
   {
    "duration": 71,
    "start_time": "2022-03-06T09:34:32.094Z"
   },
   {
    "duration": 2,
    "start_time": "2022-03-06T09:34:32.168Z"
   },
   {
    "duration": 14,
    "start_time": "2022-03-06T09:38:53.644Z"
   },
   {
    "duration": 65,
    "start_time": "2022-03-06T10:14:42.668Z"
   },
   {
    "duration": 1150,
    "start_time": "2022-03-06T12:40:00.974Z"
   },
   {
    "duration": 115,
    "start_time": "2022-03-06T12:40:02.125Z"
   },
   {
    "duration": 11,
    "start_time": "2022-03-06T12:40:02.242Z"
   },
   {
    "duration": 129,
    "start_time": "2022-03-06T12:40:02.255Z"
   },
   {
    "duration": 9,
    "start_time": "2022-03-06T12:40:02.386Z"
   },
   {
    "duration": 114,
    "start_time": "2022-03-06T12:40:02.397Z"
   },
   {
    "duration": 10,
    "start_time": "2022-03-06T12:40:02.512Z"
   },
   {
    "duration": 18,
    "start_time": "2022-03-06T12:40:02.523Z"
   },
   {
    "duration": 7,
    "start_time": "2022-03-06T12:40:02.544Z"
   },
   {
    "duration": 7,
    "start_time": "2022-03-06T12:40:02.563Z"
   },
   {
    "duration": 74,
    "start_time": "2022-03-06T12:40:02.572Z"
   },
   {
    "duration": 28,
    "start_time": "2022-03-06T12:40:02.647Z"
   },
   {
    "duration": 20,
    "start_time": "2022-03-06T12:40:02.676Z"
   },
   {
    "duration": 20,
    "start_time": "2022-03-06T12:40:02.697Z"
   },
   {
    "duration": 14,
    "start_time": "2022-03-06T12:40:02.719Z"
   },
   {
    "duration": 40,
    "start_time": "2022-03-06T12:40:02.735Z"
   },
   {
    "duration": 2,
    "start_time": "2022-03-06T12:40:02.777Z"
   },
   {
    "duration": 19,
    "start_time": "2022-03-06T12:40:02.780Z"
   },
   {
    "duration": 106,
    "start_time": "2022-03-06T12:40:02.863Z"
   },
   {
    "duration": 3,
    "start_time": "2022-03-06T12:42:01.075Z"
   },
   {
    "duration": 152,
    "start_time": "2022-03-06T12:42:01.080Z"
   },
   {
    "duration": 11,
    "start_time": "2022-03-06T12:42:01.234Z"
   },
   {
    "duration": 126,
    "start_time": "2022-03-06T12:42:01.247Z"
   },
   {
    "duration": 10,
    "start_time": "2022-03-06T12:42:01.375Z"
   },
   {
    "duration": 127,
    "start_time": "2022-03-06T12:42:01.387Z"
   },
   {
    "duration": 9,
    "start_time": "2022-03-06T12:42:01.516Z"
   },
   {
    "duration": 12,
    "start_time": "2022-03-06T12:42:01.527Z"
   },
   {
    "duration": 13,
    "start_time": "2022-03-06T12:42:01.541Z"
   },
   {
    "duration": 21,
    "start_time": "2022-03-06T12:42:01.556Z"
   },
   {
    "duration": 80,
    "start_time": "2022-03-06T12:42:01.579Z"
   },
   {
    "duration": 13,
    "start_time": "2022-03-06T12:42:01.661Z"
   },
   {
    "duration": 17,
    "start_time": "2022-03-06T12:42:01.676Z"
   },
   {
    "duration": 18,
    "start_time": "2022-03-06T12:42:01.695Z"
   },
   {
    "duration": 12,
    "start_time": "2022-03-06T12:42:01.715Z"
   },
   {
    "duration": 49,
    "start_time": "2022-03-06T12:42:01.729Z"
   },
   {
    "duration": 3,
    "start_time": "2022-03-06T12:42:01.779Z"
   },
   {
    "duration": 82,
    "start_time": "2022-03-06T12:42:01.783Z"
   },
   {
    "duration": 109,
    "start_time": "2022-03-06T12:42:01.867Z"
   },
   {
    "duration": 3,
    "start_time": "2022-03-06T12:43:09.961Z"
   },
   {
    "duration": 124,
    "start_time": "2022-03-06T12:43:09.966Z"
   },
   {
    "duration": 10,
    "start_time": "2022-03-06T12:43:10.092Z"
   },
   {
    "duration": 121,
    "start_time": "2022-03-06T12:43:10.104Z"
   },
   {
    "duration": 11,
    "start_time": "2022-03-06T12:43:10.227Z"
   },
   {
    "duration": 128,
    "start_time": "2022-03-06T12:43:10.240Z"
   },
   {
    "duration": 11,
    "start_time": "2022-03-06T12:43:10.370Z"
   },
   {
    "duration": 9,
    "start_time": "2022-03-06T12:43:10.383Z"
   },
   {
    "duration": 13,
    "start_time": "2022-03-06T12:43:10.395Z"
   },
   {
    "duration": 10,
    "start_time": "2022-03-06T12:43:10.410Z"
   },
   {
    "duration": 93,
    "start_time": "2022-03-06T12:43:10.421Z"
   },
   {
    "duration": 13,
    "start_time": "2022-03-06T12:43:10.516Z"
   },
   {
    "duration": 15,
    "start_time": "2022-03-06T12:43:10.530Z"
   },
   {
    "duration": 27,
    "start_time": "2022-03-06T12:43:10.546Z"
   },
   {
    "duration": 9,
    "start_time": "2022-03-06T12:43:10.575Z"
   },
   {
    "duration": 30,
    "start_time": "2022-03-06T12:43:10.585Z"
   },
   {
    "duration": 2,
    "start_time": "2022-03-06T12:43:10.616Z"
   },
   {
    "duration": 46,
    "start_time": "2022-03-06T12:43:10.620Z"
   },
   {
    "duration": 105,
    "start_time": "2022-03-06T12:43:10.668Z"
   },
   {
    "duration": 3,
    "start_time": "2022-03-06T12:46:04.256Z"
   },
   {
    "duration": 125,
    "start_time": "2022-03-06T12:46:04.261Z"
   },
   {
    "duration": 9,
    "start_time": "2022-03-06T12:46:04.388Z"
   },
   {
    "duration": 120,
    "start_time": "2022-03-06T12:46:04.399Z"
   },
   {
    "duration": 10,
    "start_time": "2022-03-06T12:46:04.521Z"
   },
   {
    "duration": 123,
    "start_time": "2022-03-06T12:46:04.532Z"
   },
   {
    "duration": 13,
    "start_time": "2022-03-06T12:46:04.657Z"
   },
   {
    "duration": 8,
    "start_time": "2022-03-06T12:46:04.673Z"
   },
   {
    "duration": 10,
    "start_time": "2022-03-06T12:46:04.683Z"
   },
   {
    "duration": 11,
    "start_time": "2022-03-06T12:46:04.695Z"
   },
   {
    "duration": 92,
    "start_time": "2022-03-06T12:46:04.707Z"
   },
   {
    "duration": 14,
    "start_time": "2022-03-06T12:46:04.801Z"
   },
   {
    "duration": 19,
    "start_time": "2022-03-06T12:46:04.817Z"
   },
   {
    "duration": 26,
    "start_time": "2022-03-06T12:46:04.838Z"
   },
   {
    "duration": 11,
    "start_time": "2022-03-06T12:46:04.866Z"
   },
   {
    "duration": 38,
    "start_time": "2022-03-06T12:46:04.879Z"
   },
   {
    "duration": 2,
    "start_time": "2022-03-06T12:46:04.919Z"
   },
   {
    "duration": 51,
    "start_time": "2022-03-06T12:46:04.922Z"
   },
   {
    "duration": 14,
    "start_time": "2022-03-06T12:46:05.065Z"
   },
   {
    "duration": 4,
    "start_time": "2022-03-06T12:56:07.368Z"
   },
   {
    "duration": 124,
    "start_time": "2022-03-06T12:56:07.374Z"
   },
   {
    "duration": 10,
    "start_time": "2022-03-06T12:56:07.500Z"
   },
   {
    "duration": 116,
    "start_time": "2022-03-06T12:56:07.512Z"
   },
   {
    "duration": 10,
    "start_time": "2022-03-06T12:56:07.629Z"
   },
   {
    "duration": 122,
    "start_time": "2022-03-06T12:56:07.640Z"
   },
   {
    "duration": 10,
    "start_time": "2022-03-06T12:56:07.764Z"
   },
   {
    "duration": 11,
    "start_time": "2022-03-06T12:56:07.775Z"
   },
   {
    "duration": 19,
    "start_time": "2022-03-06T12:56:07.789Z"
   },
   {
    "duration": 14,
    "start_time": "2022-03-06T12:56:07.809Z"
   },
   {
    "duration": 82,
    "start_time": "2022-03-06T12:56:07.824Z"
   },
   {
    "duration": 15,
    "start_time": "2022-03-06T12:56:07.908Z"
   },
   {
    "duration": 27,
    "start_time": "2022-03-06T12:56:07.924Z"
   },
   {
    "duration": 25,
    "start_time": "2022-03-06T12:56:07.953Z"
   },
   {
    "duration": 20,
    "start_time": "2022-03-06T12:56:07.979Z"
   },
   {
    "duration": 36,
    "start_time": "2022-03-06T12:56:08.000Z"
   },
   {
    "duration": 3,
    "start_time": "2022-03-06T12:56:08.037Z"
   },
   {
    "duration": 30,
    "start_time": "2022-03-06T12:56:08.042Z"
   },
   {
    "duration": 105,
    "start_time": "2022-03-06T12:56:08.164Z"
   },
   {
    "duration": 399,
    "start_time": "2022-03-06T13:12:50.499Z"
   },
   {
    "duration": 4,
    "start_time": "2022-03-06T13:13:01.430Z"
   },
   {
    "duration": 142,
    "start_time": "2022-03-06T13:13:01.437Z"
   },
   {
    "duration": 13,
    "start_time": "2022-03-06T13:13:01.581Z"
   },
   {
    "duration": 131,
    "start_time": "2022-03-06T13:13:01.596Z"
   },
   {
    "duration": 11,
    "start_time": "2022-03-06T13:13:01.729Z"
   },
   {
    "duration": 123,
    "start_time": "2022-03-06T13:13:01.742Z"
   },
   {
    "duration": 12,
    "start_time": "2022-03-06T13:13:01.867Z"
   },
   {
    "duration": 29,
    "start_time": "2022-03-06T13:13:01.881Z"
   },
   {
    "duration": 10,
    "start_time": "2022-03-06T13:13:01.914Z"
   },
   {
    "duration": 12,
    "start_time": "2022-03-06T13:13:01.926Z"
   },
   {
    "duration": 85,
    "start_time": "2022-03-06T13:13:01.940Z"
   },
   {
    "duration": 15,
    "start_time": "2022-03-06T13:13:02.026Z"
   },
   {
    "duration": 24,
    "start_time": "2022-03-06T13:13:02.042Z"
   },
   {
    "duration": 17,
    "start_time": "2022-03-06T13:13:02.067Z"
   },
   {
    "duration": 9,
    "start_time": "2022-03-06T13:13:02.085Z"
   },
   {
    "duration": 36,
    "start_time": "2022-03-06T13:13:02.096Z"
   },
   {
    "duration": 3,
    "start_time": "2022-03-06T13:13:02.134Z"
   },
   {
    "duration": 30,
    "start_time": "2022-03-06T13:13:02.138Z"
   },
   {
    "duration": 198,
    "start_time": "2022-03-06T13:13:02.170Z"
   },
   {
    "duration": 359,
    "start_time": "2022-03-06T13:13:02.463Z"
   },
   {
    "duration": 12,
    "start_time": "2022-03-06T13:13:18.580Z"
   },
   {
    "duration": 59,
    "start_time": "2022-03-06T13:23:27.438Z"
   },
   {
    "duration": 3,
    "start_time": "2022-03-06T13:23:32.490Z"
   },
   {
    "duration": 119,
    "start_time": "2022-03-06T13:23:32.495Z"
   },
   {
    "duration": 11,
    "start_time": "2022-03-06T13:23:32.617Z"
   },
   {
    "duration": 121,
    "start_time": "2022-03-06T13:23:32.631Z"
   },
   {
    "duration": 12,
    "start_time": "2022-03-06T13:23:32.753Z"
   },
   {
    "duration": 122,
    "start_time": "2022-03-06T13:23:32.767Z"
   },
   {
    "duration": 10,
    "start_time": "2022-03-06T13:23:32.891Z"
   },
   {
    "duration": 9,
    "start_time": "2022-03-06T13:23:32.902Z"
   },
   {
    "duration": 9,
    "start_time": "2022-03-06T13:23:32.913Z"
   },
   {
    "duration": 9,
    "start_time": "2022-03-06T13:23:32.924Z"
   },
   {
    "duration": 89,
    "start_time": "2022-03-06T13:23:32.934Z"
   },
   {
    "duration": 15,
    "start_time": "2022-03-06T13:23:33.024Z"
   },
   {
    "duration": 30,
    "start_time": "2022-03-06T13:23:33.041Z"
   },
   {
    "duration": 21,
    "start_time": "2022-03-06T13:23:33.074Z"
   },
   {
    "duration": 9,
    "start_time": "2022-03-06T13:23:33.097Z"
   },
   {
    "duration": 38,
    "start_time": "2022-03-06T13:23:33.107Z"
   },
   {
    "duration": 3,
    "start_time": "2022-03-06T13:23:33.146Z"
   },
   {
    "duration": 100,
    "start_time": "2022-03-06T13:23:33.163Z"
   },
   {
    "duration": 104,
    "start_time": "2022-03-06T13:23:33.266Z"
   },
   {
    "duration": 97,
    "start_time": "2022-03-06T13:23:33.373Z"
   },
   {
    "duration": 190,
    "start_time": "2022-03-06T13:23:33.473Z"
   },
   {
    "duration": 18015,
    "start_time": "2022-03-06T13:24:16.582Z"
   },
   {
    "duration": 18493,
    "start_time": "2022-03-06T13:29:32.247Z"
   },
   {
    "duration": 19021,
    "start_time": "2022-03-06T13:33:46.882Z"
   },
   {
    "duration": 769,
    "start_time": "2022-03-06T13:46:07.613Z"
   },
   {
    "duration": 165,
    "start_time": "2022-03-06T22:27:58.871Z"
   },
   {
    "duration": 1081,
    "start_time": "2022-03-06T22:29:13.076Z"
   },
   {
    "duration": 124,
    "start_time": "2022-03-06T22:29:14.158Z"
   },
   {
    "duration": 10,
    "start_time": "2022-03-06T22:29:14.284Z"
   },
   {
    "duration": 115,
    "start_time": "2022-03-06T22:29:14.296Z"
   },
   {
    "duration": 9,
    "start_time": "2022-03-06T22:29:14.412Z"
   },
   {
    "duration": 111,
    "start_time": "2022-03-06T22:29:14.432Z"
   },
   {
    "duration": 10,
    "start_time": "2022-03-06T22:29:14.545Z"
   },
   {
    "duration": 10,
    "start_time": "2022-03-06T22:29:14.556Z"
   },
   {
    "duration": 7,
    "start_time": "2022-03-06T22:29:14.568Z"
   },
   {
    "duration": 9,
    "start_time": "2022-03-06T22:29:14.577Z"
   },
   {
    "duration": 97,
    "start_time": "2022-03-06T22:29:14.588Z"
   },
   {
    "duration": 14,
    "start_time": "2022-03-06T22:29:14.687Z"
   },
   {
    "duration": 16,
    "start_time": "2022-03-06T22:29:14.702Z"
   },
   {
    "duration": 26,
    "start_time": "2022-03-06T22:29:14.720Z"
   },
   {
    "duration": 11,
    "start_time": "2022-03-06T22:29:14.748Z"
   },
   {
    "duration": 36,
    "start_time": "2022-03-06T22:29:14.761Z"
   },
   {
    "duration": 3,
    "start_time": "2022-03-06T22:29:14.798Z"
   },
   {
    "duration": 46,
    "start_time": "2022-03-06T22:29:14.802Z"
   },
   {
    "duration": 107,
    "start_time": "2022-03-06T22:29:14.934Z"
   },
   {
    "duration": 190,
    "start_time": "2022-03-06T22:29:15.044Z"
   },
   {
    "duration": 865,
    "start_time": "2022-03-06T22:30:10.741Z"
   },
   {
    "duration": 4,
    "start_time": "2022-03-06T22:38:51.075Z"
   },
   {
    "duration": 122,
    "start_time": "2022-03-06T22:38:51.082Z"
   },
   {
    "duration": 10,
    "start_time": "2022-03-06T22:38:51.206Z"
   },
   {
    "duration": 119,
    "start_time": "2022-03-06T22:38:51.218Z"
   },
   {
    "duration": 10,
    "start_time": "2022-03-06T22:38:51.338Z"
   },
   {
    "duration": 122,
    "start_time": "2022-03-06T22:38:51.349Z"
   },
   {
    "duration": 9,
    "start_time": "2022-03-06T22:38:51.473Z"
   },
   {
    "duration": 8,
    "start_time": "2022-03-06T22:38:51.484Z"
   },
   {
    "duration": 9,
    "start_time": "2022-03-06T22:38:51.494Z"
   },
   {
    "duration": 30,
    "start_time": "2022-03-06T22:38:51.504Z"
   },
   {
    "duration": 65,
    "start_time": "2022-03-06T22:38:51.535Z"
   },
   {
    "duration": 13,
    "start_time": "2022-03-06T22:38:51.601Z"
   },
   {
    "duration": 30,
    "start_time": "2022-03-06T22:38:51.616Z"
   },
   {
    "duration": 15,
    "start_time": "2022-03-06T22:38:51.647Z"
   },
   {
    "duration": 13,
    "start_time": "2022-03-06T22:38:51.663Z"
   },
   {
    "duration": 37,
    "start_time": "2022-03-06T22:38:51.678Z"
   },
   {
    "duration": 16,
    "start_time": "2022-03-06T22:38:51.717Z"
   },
   {
    "duration": 97,
    "start_time": "2022-03-06T22:38:51.735Z"
   },
   {
    "duration": 103,
    "start_time": "2022-03-06T22:38:51.835Z"
   },
   {
    "duration": 195,
    "start_time": "2022-03-06T22:38:51.941Z"
   },
   {
    "duration": 1102,
    "start_time": "2022-03-06T22:38:52.138Z"
   },
   {
    "duration": 3722,
    "start_time": "2022-03-06T22:38:53.242Z"
   },
   {
    "duration": 42,
    "start_time": "2022-03-06T22:39:23.913Z"
   },
   {
    "duration": 47,
    "start_time": "2022-03-06T22:39:33.563Z"
   },
   {
    "duration": 1075,
    "start_time": "2022-03-06T22:41:48.439Z"
   },
   {
    "duration": 4,
    "start_time": "2022-03-06T22:47:17.523Z"
   },
   {
    "duration": 114,
    "start_time": "2022-03-06T22:47:17.529Z"
   },
   {
    "duration": 11,
    "start_time": "2022-03-06T22:47:17.645Z"
   },
   {
    "duration": 169,
    "start_time": "2022-03-06T22:47:17.658Z"
   },
   {
    "duration": 10,
    "start_time": "2022-03-06T22:47:17.828Z"
   },
   {
    "duration": 124,
    "start_time": "2022-03-06T22:47:17.840Z"
   },
   {
    "duration": 9,
    "start_time": "2022-03-06T22:47:17.966Z"
   },
   {
    "duration": 8,
    "start_time": "2022-03-06T22:47:17.977Z"
   },
   {
    "duration": 9,
    "start_time": "2022-03-06T22:47:17.988Z"
   },
   {
    "duration": 9,
    "start_time": "2022-03-06T22:47:17.998Z"
   },
   {
    "duration": 94,
    "start_time": "2022-03-06T22:47:18.008Z"
   },
   {
    "duration": 14,
    "start_time": "2022-03-06T22:47:18.103Z"
   },
   {
    "duration": 27,
    "start_time": "2022-03-06T22:47:18.119Z"
   },
   {
    "duration": 16,
    "start_time": "2022-03-06T22:47:18.147Z"
   },
   {
    "duration": 13,
    "start_time": "2022-03-06T22:47:18.164Z"
   },
   {
    "duration": 55,
    "start_time": "2022-03-06T22:47:18.178Z"
   },
   {
    "duration": 3,
    "start_time": "2022-03-06T22:47:18.234Z"
   },
   {
    "duration": 95,
    "start_time": "2022-03-06T22:47:18.238Z"
   },
   {
    "duration": 103,
    "start_time": "2022-03-06T22:47:18.336Z"
   },
   {
    "duration": 95,
    "start_time": "2022-03-06T22:47:18.441Z"
   },
   {
    "duration": 1074,
    "start_time": "2022-03-06T22:47:18.538Z"
   },
   {
    "duration": 1073,
    "start_time": "2022-03-06T22:47:19.613Z"
   },
   {
    "duration": 181,
    "start_time": "2022-03-06T23:04:01.274Z"
   },
   {
    "duration": 4,
    "start_time": "2022-03-06T23:04:05.927Z"
   },
   {
    "duration": 124,
    "start_time": "2022-03-06T23:04:05.932Z"
   },
   {
    "duration": 10,
    "start_time": "2022-03-06T23:04:06.058Z"
   },
   {
    "duration": 121,
    "start_time": "2022-03-06T23:04:06.070Z"
   },
   {
    "duration": 11,
    "start_time": "2022-03-06T23:04:06.192Z"
   },
   {
    "duration": 130,
    "start_time": "2022-03-06T23:04:06.205Z"
   },
   {
    "duration": 12,
    "start_time": "2022-03-06T23:04:06.336Z"
   },
   {
    "duration": 9,
    "start_time": "2022-03-06T23:04:06.351Z"
   },
   {
    "duration": 9,
    "start_time": "2022-03-06T23:04:06.362Z"
   },
   {
    "duration": 9,
    "start_time": "2022-03-06T23:04:06.373Z"
   },
   {
    "duration": 106,
    "start_time": "2022-03-06T23:04:06.383Z"
   },
   {
    "duration": 13,
    "start_time": "2022-03-06T23:04:06.491Z"
   },
   {
    "duration": 14,
    "start_time": "2022-03-06T23:04:06.505Z"
   },
   {
    "duration": 24,
    "start_time": "2022-03-06T23:04:06.520Z"
   },
   {
    "duration": 11,
    "start_time": "2022-03-06T23:04:06.546Z"
   },
   {
    "duration": 29,
    "start_time": "2022-03-06T23:04:06.558Z"
   },
   {
    "duration": 2,
    "start_time": "2022-03-06T23:04:06.589Z"
   },
   {
    "duration": 46,
    "start_time": "2022-03-06T23:04:06.592Z"
   },
   {
    "duration": 102,
    "start_time": "2022-03-06T23:04:06.641Z"
   },
   {
    "duration": 96,
    "start_time": "2022-03-06T23:04:06.745Z"
   },
   {
    "duration": 1008,
    "start_time": "2022-03-06T23:04:06.935Z"
   },
   {
    "duration": 1177,
    "start_time": "2022-03-06T23:04:07.944Z"
   },
   {
    "duration": 3,
    "start_time": "2022-03-06T23:04:09.124Z"
   },
   {
    "duration": 6,
    "start_time": "2022-03-06T23:04:09.133Z"
   },
   {
    "duration": 3,
    "start_time": "2022-03-06T23:09:05.926Z"
   },
   {
    "duration": 8,
    "start_time": "2022-03-06T23:22:19.653Z"
   },
   {
    "duration": 7,
    "start_time": "2022-03-06T23:23:46.887Z"
   },
   {
    "duration": 2208,
    "start_time": "2022-03-10T21:44:00.957Z"
   },
   {
    "duration": 256,
    "start_time": "2022-03-10T21:44:03.169Z"
   },
   {
    "duration": 23,
    "start_time": "2022-03-10T21:44:03.430Z"
   },
   {
    "duration": 210,
    "start_time": "2022-03-10T21:44:03.457Z"
   },
   {
    "duration": 21,
    "start_time": "2022-03-10T21:44:03.669Z"
   },
   {
    "duration": 209,
    "start_time": "2022-03-10T21:44:03.694Z"
   },
   {
    "duration": 22,
    "start_time": "2022-03-10T21:44:03.907Z"
   },
   {
    "duration": 19,
    "start_time": "2022-03-10T21:44:03.932Z"
   },
   {
    "duration": 15,
    "start_time": "2022-03-10T21:44:03.977Z"
   },
   {
    "duration": 14,
    "start_time": "2022-03-10T21:44:03.996Z"
   },
   {
    "duration": 146,
    "start_time": "2022-03-10T21:44:04.013Z"
   },
   {
    "duration": 28,
    "start_time": "2022-03-10T21:44:04.161Z"
   },
   {
    "duration": 26,
    "start_time": "2022-03-10T21:44:04.192Z"
   },
   {
    "duration": 23,
    "start_time": "2022-03-10T21:44:04.220Z"
   },
   {
    "duration": 39,
    "start_time": "2022-03-10T21:44:04.246Z"
   },
   {
    "duration": 47,
    "start_time": "2022-03-10T21:44:04.287Z"
   },
   {
    "duration": 3,
    "start_time": "2022-03-10T21:44:04.337Z"
   },
   {
    "duration": 131,
    "start_time": "2022-03-10T21:44:04.343Z"
   },
   {
    "duration": 109,
    "start_time": "2022-03-10T21:44:04.478Z"
   },
   {
    "duration": 189,
    "start_time": "2022-03-10T21:44:04.591Z"
   },
   {
    "duration": 1376,
    "start_time": "2022-03-10T21:44:04.783Z"
   },
   {
    "duration": 1664,
    "start_time": "2022-03-10T21:44:06.161Z"
   },
   {
    "duration": 4,
    "start_time": "2022-03-10T21:44:07.827Z"
   },
   {
    "duration": 21,
    "start_time": "2022-03-10T21:44:07.833Z"
   },
   {
    "duration": 15,
    "start_time": "2022-03-10T21:44:07.856Z"
   },
   {
    "duration": 31,
    "start_time": "2022-03-10T21:44:07.874Z"
   },
   {
    "duration": 6,
    "start_time": "2022-03-10T21:44:07.910Z"
   },
   {
    "duration": 451,
    "start_time": "2022-03-10T21:44:07.918Z"
   },
   {
    "duration": 13,
    "start_time": "2022-03-10T21:52:48.424Z"
   },
   {
    "duration": 14,
    "start_time": "2022-03-10T21:57:36.059Z"
   },
   {
    "duration": 13,
    "start_time": "2022-03-10T22:07:35.247Z"
   },
   {
    "duration": 218,
    "start_time": "2022-03-11T11:42:39.349Z"
   },
   {
    "duration": 1212,
    "start_time": "2022-03-11T11:42:44.152Z"
   },
   {
    "duration": 132,
    "start_time": "2022-03-11T11:42:45.366Z"
   },
   {
    "duration": 12,
    "start_time": "2022-03-11T11:42:45.500Z"
   },
   {
    "duration": 147,
    "start_time": "2022-03-11T11:42:45.514Z"
   },
   {
    "duration": 9,
    "start_time": "2022-03-11T11:42:45.663Z"
   },
   {
    "duration": 138,
    "start_time": "2022-03-11T11:42:45.674Z"
   },
   {
    "duration": 10,
    "start_time": "2022-03-11T11:42:45.814Z"
   },
   {
    "duration": 25,
    "start_time": "2022-03-11T11:42:45.826Z"
   },
   {
    "duration": 22,
    "start_time": "2022-03-11T11:42:45.854Z"
   },
   {
    "duration": 32,
    "start_time": "2022-03-11T11:42:45.878Z"
   },
   {
    "duration": 105,
    "start_time": "2022-03-11T11:42:45.912Z"
   },
   {
    "duration": 20,
    "start_time": "2022-03-11T11:42:46.019Z"
   },
   {
    "duration": 23,
    "start_time": "2022-03-11T11:42:46.041Z"
   },
   {
    "duration": 22,
    "start_time": "2022-03-11T11:42:46.066Z"
   },
   {
    "duration": 33,
    "start_time": "2022-03-11T11:42:46.090Z"
   },
   {
    "duration": 68,
    "start_time": "2022-03-11T11:42:46.125Z"
   },
   {
    "duration": 3,
    "start_time": "2022-03-11T11:42:46.195Z"
   },
   {
    "duration": 51,
    "start_time": "2022-03-11T11:42:46.199Z"
   },
   {
    "duration": 105,
    "start_time": "2022-03-11T11:42:46.252Z"
   },
   {
    "duration": 117,
    "start_time": "2022-03-11T11:42:46.439Z"
   },
   {
    "duration": 1162,
    "start_time": "2022-03-11T11:42:46.560Z"
   },
   {
    "duration": 1202,
    "start_time": "2022-03-11T11:42:47.724Z"
   },
   {
    "duration": 3,
    "start_time": "2022-03-11T11:42:48.929Z"
   },
   {
    "duration": 50,
    "start_time": "2022-03-11T11:42:48.939Z"
   },
   {
    "duration": 32,
    "start_time": "2022-03-11T11:42:48.991Z"
   },
   {
    "duration": 31,
    "start_time": "2022-03-11T11:42:49.025Z"
   },
   {
    "duration": 31,
    "start_time": "2022-03-11T11:42:49.058Z"
   },
   {
    "duration": 30,
    "start_time": "2022-03-11T11:42:49.091Z"
   },
   {
    "duration": 34,
    "start_time": "2022-03-11T11:42:49.122Z"
   },
   {
    "duration": 13,
    "start_time": "2022-03-11T11:42:49.158Z"
   },
   {
    "duration": 227,
    "start_time": "2022-03-11T11:42:49.172Z"
   },
   {
    "duration": 3,
    "start_time": "2022-03-11T11:43:27.575Z"
   },
   {
    "duration": 138,
    "start_time": "2022-03-11T11:43:27.580Z"
   },
   {
    "duration": 17,
    "start_time": "2022-03-11T11:43:27.721Z"
   },
   {
    "duration": 131,
    "start_time": "2022-03-11T11:43:27.740Z"
   },
   {
    "duration": 10,
    "start_time": "2022-03-11T11:43:27.873Z"
   },
   {
    "duration": 125,
    "start_time": "2022-03-11T11:43:27.885Z"
   },
   {
    "duration": 11,
    "start_time": "2022-03-11T11:43:28.012Z"
   },
   {
    "duration": 24,
    "start_time": "2022-03-11T11:43:28.025Z"
   },
   {
    "duration": 19,
    "start_time": "2022-03-11T11:43:28.052Z"
   },
   {
    "duration": 10,
    "start_time": "2022-03-11T11:43:28.073Z"
   },
   {
    "duration": 106,
    "start_time": "2022-03-11T11:43:28.084Z"
   },
   {
    "duration": 17,
    "start_time": "2022-03-11T11:43:28.191Z"
   },
   {
    "duration": 29,
    "start_time": "2022-03-11T11:43:28.210Z"
   },
   {
    "duration": 23,
    "start_time": "2022-03-11T11:43:28.241Z"
   },
   {
    "duration": 12,
    "start_time": "2022-03-11T11:43:28.266Z"
   },
   {
    "duration": 42,
    "start_time": "2022-03-11T11:43:28.280Z"
   },
   {
    "duration": 3,
    "start_time": "2022-03-11T11:43:28.339Z"
   },
   {
    "duration": 34,
    "start_time": "2022-03-11T11:43:28.344Z"
   },
   {
    "duration": 160,
    "start_time": "2022-03-11T11:43:28.381Z"
   },
   {
    "duration": 204,
    "start_time": "2022-03-11T11:43:28.544Z"
   },
   {
    "duration": 1231,
    "start_time": "2022-03-11T11:43:28.751Z"
   },
   {
    "duration": 1237,
    "start_time": "2022-03-11T11:43:29.984Z"
   },
   {
    "duration": 2,
    "start_time": "2022-03-11T11:43:31.225Z"
   },
   {
    "duration": 23,
    "start_time": "2022-03-11T11:43:31.238Z"
   },
   {
    "duration": 20,
    "start_time": "2022-03-11T11:43:31.263Z"
   },
   {
    "duration": 19,
    "start_time": "2022-03-11T11:43:31.285Z"
   },
   {
    "duration": 6,
    "start_time": "2022-03-11T11:43:31.306Z"
   },
   {
    "duration": 18,
    "start_time": "2022-03-11T11:43:31.314Z"
   },
   {
    "duration": 10,
    "start_time": "2022-03-11T11:43:31.334Z"
   },
   {
    "duration": 12,
    "start_time": "2022-03-11T11:43:31.346Z"
   },
   {
    "duration": 7,
    "start_time": "2022-03-11T11:43:31.360Z"
   },
   {
    "duration": 2249,
    "start_time": "2022-03-11T11:53:00.172Z"
   },
   {
    "duration": 3,
    "start_time": "2022-03-11T11:53:15.827Z"
   },
   {
    "duration": 133,
    "start_time": "2022-03-11T11:53:15.833Z"
   },
   {
    "duration": 16,
    "start_time": "2022-03-11T11:53:15.968Z"
   },
   {
    "duration": 132,
    "start_time": "2022-03-11T11:53:15.987Z"
   },
   {
    "duration": 18,
    "start_time": "2022-03-11T11:53:16.120Z"
   },
   {
    "duration": 129,
    "start_time": "2022-03-11T11:53:16.140Z"
   },
   {
    "duration": 15,
    "start_time": "2022-03-11T11:53:16.271Z"
   },
   {
    "duration": 11,
    "start_time": "2022-03-11T11:53:16.288Z"
   },
   {
    "duration": 12,
    "start_time": "2022-03-11T11:53:16.302Z"
   },
   {
    "duration": 12,
    "start_time": "2022-03-11T11:53:16.339Z"
   },
   {
    "duration": 90,
    "start_time": "2022-03-11T11:53:16.353Z"
   },
   {
    "duration": 14,
    "start_time": "2022-03-11T11:53:16.445Z"
   },
   {
    "duration": 16,
    "start_time": "2022-03-11T11:53:16.461Z"
   },
   {
    "duration": 17,
    "start_time": "2022-03-11T11:53:16.479Z"
   },
   {
    "duration": 40,
    "start_time": "2022-03-11T11:53:16.498Z"
   },
   {
    "duration": 42,
    "start_time": "2022-03-11T11:53:16.540Z"
   },
   {
    "duration": 3,
    "start_time": "2022-03-11T11:53:16.584Z"
   },
   {
    "duration": 150,
    "start_time": "2022-03-11T11:53:16.588Z"
   },
   {
    "duration": 20,
    "start_time": "2022-03-11T11:53:16.740Z"
   },
   {
    "duration": 276,
    "start_time": "2022-03-11T11:53:16.762Z"
   },
   {
    "duration": 1007,
    "start_time": "2022-03-11T11:53:17.045Z"
   },
   {
    "duration": 1115,
    "start_time": "2022-03-11T11:53:18.054Z"
   },
   {
    "duration": 4,
    "start_time": "2022-03-11T11:53:19.171Z"
   },
   {
    "duration": 11,
    "start_time": "2022-03-11T11:53:19.176Z"
   },
   {
    "duration": 5,
    "start_time": "2022-03-11T11:53:19.189Z"
   },
   {
    "duration": 11,
    "start_time": "2022-03-11T11:53:19.196Z"
   },
   {
    "duration": 27,
    "start_time": "2022-03-11T11:53:19.211Z"
   },
   {
    "duration": 15,
    "start_time": "2022-03-11T11:53:19.241Z"
   },
   {
    "duration": 8,
    "start_time": "2022-03-11T11:53:19.258Z"
   },
   {
    "duration": 8,
    "start_time": "2022-03-11T11:53:19.268Z"
   },
   {
    "duration": 9,
    "start_time": "2022-03-11T11:53:19.277Z"
   },
   {
    "duration": 1950,
    "start_time": "2022-03-11T11:53:19.288Z"
   },
   {
    "duration": 5,
    "start_time": "2022-03-11T11:55:17.752Z"
   },
   {
    "duration": 1864,
    "start_time": "2022-03-11T11:55:19.442Z"
   },
   {
    "duration": 6,
    "start_time": "2022-03-11T11:55:54.582Z"
   },
   {
    "duration": 1616,
    "start_time": "2022-03-11T11:55:55.031Z"
   },
   {
    "duration": 1666,
    "start_time": "2022-03-11T11:57:21.159Z"
   },
   {
    "duration": 1716,
    "start_time": "2022-03-11T12:00:59.254Z"
   },
   {
    "duration": 95,
    "start_time": "2022-03-11T16:39:59.364Z"
   },
   {
    "duration": 5,
    "start_time": "2022-03-11T16:48:47.344Z"
   },
   {
    "duration": 1487,
    "start_time": "2022-03-11T16:48:51.912Z"
   },
   {
    "duration": 157,
    "start_time": "2022-03-11T16:48:53.403Z"
   },
   {
    "duration": 23,
    "start_time": "2022-03-11T16:48:53.564Z"
   },
   {
    "duration": 158,
    "start_time": "2022-03-11T16:48:53.590Z"
   },
   {
    "duration": 16,
    "start_time": "2022-03-11T16:48:53.750Z"
   },
   {
    "duration": 165,
    "start_time": "2022-03-11T16:48:53.768Z"
   },
   {
    "duration": 14,
    "start_time": "2022-03-11T16:48:53.936Z"
   },
   {
    "duration": 35,
    "start_time": "2022-03-11T16:48:53.954Z"
   },
   {
    "duration": 11,
    "start_time": "2022-03-11T16:48:53.992Z"
   },
   {
    "duration": 13,
    "start_time": "2022-03-11T16:48:54.006Z"
   },
   {
    "duration": 121,
    "start_time": "2022-03-11T16:48:54.022Z"
   },
   {
    "duration": 22,
    "start_time": "2022-03-11T16:48:54.145Z"
   },
   {
    "duration": 31,
    "start_time": "2022-03-11T16:48:54.169Z"
   },
   {
    "duration": 22,
    "start_time": "2022-03-11T16:48:54.202Z"
   },
   {
    "duration": 19,
    "start_time": "2022-03-11T16:48:54.227Z"
   },
   {
    "duration": 66,
    "start_time": "2022-03-11T16:48:54.248Z"
   },
   {
    "duration": 4,
    "start_time": "2022-03-11T16:48:54.316Z"
   },
   {
    "duration": 73,
    "start_time": "2022-03-11T16:48:54.322Z"
   },
   {
    "duration": 19,
    "start_time": "2022-03-11T16:48:54.488Z"
   },
   {
    "duration": 110,
    "start_time": "2022-03-11T16:48:54.587Z"
   },
   {
    "duration": 1503,
    "start_time": "2022-03-11T16:48:54.701Z"
   },
   {
    "duration": 1697,
    "start_time": "2022-03-11T16:48:56.207Z"
   },
   {
    "duration": 3,
    "start_time": "2022-03-11T16:48:57.909Z"
   },
   {
    "duration": 8,
    "start_time": "2022-03-11T16:48:57.915Z"
   },
   {
    "duration": 8,
    "start_time": "2022-03-11T16:48:57.925Z"
   },
   {
    "duration": 14,
    "start_time": "2022-03-11T16:48:57.935Z"
   },
   {
    "duration": 37,
    "start_time": "2022-03-11T16:48:57.951Z"
   },
   {
    "duration": 443,
    "start_time": "2022-03-11T16:48:57.991Z"
   },
   {
    "duration": -6,
    "start_time": "2022-03-11T16:48:58.443Z"
   },
   {
    "duration": -6,
    "start_time": "2022-03-11T16:48:58.445Z"
   },
   {
    "duration": -8,
    "start_time": "2022-03-11T16:48:58.449Z"
   },
   {
    "duration": -8,
    "start_time": "2022-03-11T16:48:58.451Z"
   },
   {
    "duration": -8,
    "start_time": "2022-03-11T16:48:58.453Z"
   },
   {
    "duration": -9,
    "start_time": "2022-03-11T16:48:58.457Z"
   },
   {
    "duration": 344,
    "start_time": "2022-03-11T16:50:13.775Z"
   },
   {
    "duration": 14,
    "start_time": "2022-03-11T16:50:14.395Z"
   },
   {
    "duration": 14,
    "start_time": "2022-03-11T16:50:16.385Z"
   },
   {
    "duration": 13,
    "start_time": "2022-03-11T16:50:32.522Z"
   },
   {
    "duration": 16,
    "start_time": "2022-03-11T16:50:33.685Z"
   },
   {
    "duration": 5,
    "start_time": "2022-03-11T17:13:52.645Z"
   },
   {
    "duration": 160,
    "start_time": "2022-03-11T17:13:52.652Z"
   },
   {
    "duration": 14,
    "start_time": "2022-03-11T17:13:52.815Z"
   },
   {
    "duration": 161,
    "start_time": "2022-03-11T17:13:52.832Z"
   },
   {
    "duration": 13,
    "start_time": "2022-03-11T17:13:52.996Z"
   },
   {
    "duration": 163,
    "start_time": "2022-03-11T17:13:53.012Z"
   },
   {
    "duration": 15,
    "start_time": "2022-03-11T17:13:53.178Z"
   },
   {
    "duration": 13,
    "start_time": "2022-03-11T17:13:53.195Z"
   },
   {
    "duration": 15,
    "start_time": "2022-03-11T17:13:53.212Z"
   },
   {
    "duration": 22,
    "start_time": "2022-03-11T17:13:53.230Z"
   },
   {
    "duration": 121,
    "start_time": "2022-03-11T17:13:53.254Z"
   },
   {
    "duration": 28,
    "start_time": "2022-03-11T17:13:53.377Z"
   },
   {
    "duration": 22,
    "start_time": "2022-03-11T17:13:53.408Z"
   },
   {
    "duration": 22,
    "start_time": "2022-03-11T17:13:53.433Z"
   },
   {
    "duration": 44,
    "start_time": "2022-03-11T17:13:53.457Z"
   },
   {
    "duration": 64,
    "start_time": "2022-03-11T17:13:53.504Z"
   },
   {
    "duration": 4,
    "start_time": "2022-03-11T17:13:53.588Z"
   },
   {
    "duration": 99,
    "start_time": "2022-03-11T17:13:53.595Z"
   },
   {
    "duration": 104,
    "start_time": "2022-03-11T17:13:53.698Z"
   },
   {
    "duration": 186,
    "start_time": "2022-03-11T17:13:53.805Z"
   },
   {
    "duration": 1423,
    "start_time": "2022-03-11T17:13:53.994Z"
   },
   {
    "duration": 1754,
    "start_time": "2022-03-11T17:13:55.420Z"
   },
   {
    "duration": 15,
    "start_time": "2022-03-11T17:13:57.176Z"
   },
   {
    "duration": 6,
    "start_time": "2022-03-11T17:13:57.193Z"
   },
   {
    "duration": 8,
    "start_time": "2022-03-11T17:13:57.202Z"
   },
   {
    "duration": 19,
    "start_time": "2022-03-11T17:13:57.212Z"
   },
   {
    "duration": 5,
    "start_time": "2022-03-11T17:13:57.237Z"
   },
   {
    "duration": 52,
    "start_time": "2022-03-11T17:13:57.244Z"
   },
   {
    "duration": 12,
    "start_time": "2022-03-11T17:13:57.298Z"
   },
   {
    "duration": 13,
    "start_time": "2022-03-11T17:13:57.313Z"
   },
   {
    "duration": 8,
    "start_time": "2022-03-11T17:13:57.345Z"
   },
   {
    "duration": 524,
    "start_time": "2022-03-11T17:13:57.356Z"
   },
   {
    "duration": -24,
    "start_time": "2022-03-11T17:13:57.907Z"
   },
   {
    "duration": -25,
    "start_time": "2022-03-11T17:13:57.909Z"
   },
   {
    "duration": 4,
    "start_time": "2022-03-11T17:17:02.141Z"
   },
   {
    "duration": 175,
    "start_time": "2022-03-11T17:17:02.148Z"
   },
   {
    "duration": 14,
    "start_time": "2022-03-11T17:17:02.326Z"
   },
   {
    "duration": 160,
    "start_time": "2022-03-11T17:17:02.343Z"
   },
   {
    "duration": 14,
    "start_time": "2022-03-11T17:17:02.505Z"
   },
   {
    "duration": 176,
    "start_time": "2022-03-11T17:17:02.521Z"
   },
   {
    "duration": 13,
    "start_time": "2022-03-11T17:17:02.699Z"
   },
   {
    "duration": 27,
    "start_time": "2022-03-11T17:17:02.716Z"
   },
   {
    "duration": 13,
    "start_time": "2022-03-11T17:17:02.746Z"
   },
   {
    "duration": 31,
    "start_time": "2022-03-11T17:17:02.762Z"
   },
   {
    "duration": 105,
    "start_time": "2022-03-11T17:17:02.796Z"
   },
   {
    "duration": 19,
    "start_time": "2022-03-11T17:17:02.904Z"
   },
   {
    "duration": 25,
    "start_time": "2022-03-11T17:17:02.926Z"
   },
   {
    "duration": 46,
    "start_time": "2022-03-11T17:17:02.953Z"
   },
   {
    "duration": 24,
    "start_time": "2022-03-11T17:17:03.001Z"
   },
   {
    "duration": 57,
    "start_time": "2022-03-11T17:17:03.027Z"
   },
   {
    "duration": 3,
    "start_time": "2022-03-11T17:17:03.087Z"
   },
   {
    "duration": 31,
    "start_time": "2022-03-11T17:17:03.093Z"
   },
   {
    "duration": 104,
    "start_time": "2022-03-11T17:17:03.191Z"
   },
   {
    "duration": 191,
    "start_time": "2022-03-11T17:17:03.299Z"
   },
   {
    "duration": 1305,
    "start_time": "2022-03-11T17:17:03.493Z"
   },
   {
    "duration": 1739,
    "start_time": "2022-03-11T17:17:04.800Z"
   },
   {
    "duration": 3,
    "start_time": "2022-03-11T17:17:06.544Z"
   },
   {
    "duration": 11,
    "start_time": "2022-03-11T17:17:06.550Z"
   },
   {
    "duration": 5,
    "start_time": "2022-03-11T17:17:06.563Z"
   },
   {
    "duration": 12,
    "start_time": "2022-03-11T17:17:06.588Z"
   },
   {
    "duration": 5,
    "start_time": "2022-03-11T17:17:06.603Z"
   },
   {
    "duration": 16,
    "start_time": "2022-03-11T17:17:06.611Z"
   },
   {
    "duration": 11,
    "start_time": "2022-03-11T17:17:06.630Z"
   },
   {
    "duration": 49,
    "start_time": "2022-03-11T17:17:06.643Z"
   },
   {
    "duration": 8,
    "start_time": "2022-03-11T17:17:06.694Z"
   },
   {
    "duration": 2971,
    "start_time": "2022-03-11T17:17:06.705Z"
   },
   {
    "duration": 3094,
    "start_time": "2022-03-11T17:17:09.678Z"
   },
   {
    "duration": 2934,
    "start_time": "2022-03-11T17:17:12.774Z"
   },
   {
    "duration": 5,
    "start_time": "2022-03-11T17:30:27.439Z"
   },
   {
    "duration": 226,
    "start_time": "2022-03-11T17:30:27.447Z"
   },
   {
    "duration": 25,
    "start_time": "2022-03-11T17:30:27.677Z"
   },
   {
    "duration": 241,
    "start_time": "2022-03-11T17:30:27.705Z"
   },
   {
    "duration": 20,
    "start_time": "2022-03-11T17:30:27.949Z"
   },
   {
    "duration": 195,
    "start_time": "2022-03-11T17:30:27.972Z"
   },
   {
    "duration": 25,
    "start_time": "2022-03-11T17:30:28.170Z"
   },
   {
    "duration": 17,
    "start_time": "2022-03-11T17:30:28.200Z"
   },
   {
    "duration": 22,
    "start_time": "2022-03-11T17:30:28.220Z"
   },
   {
    "duration": 21,
    "start_time": "2022-03-11T17:30:28.244Z"
   },
   {
    "duration": 101,
    "start_time": "2022-03-11T17:30:28.288Z"
   },
   {
    "duration": 19,
    "start_time": "2022-03-11T17:30:28.392Z"
   },
   {
    "duration": 22,
    "start_time": "2022-03-11T17:30:28.414Z"
   },
   {
    "duration": 49,
    "start_time": "2022-03-11T17:30:28.439Z"
   },
   {
    "duration": 14,
    "start_time": "2022-03-11T17:30:28.491Z"
   },
   {
    "duration": 50,
    "start_time": "2022-03-11T17:30:28.508Z"
   },
   {
    "duration": 4,
    "start_time": "2022-03-11T17:30:28.560Z"
   },
   {
    "duration": 120,
    "start_time": "2022-03-11T17:30:28.567Z"
   },
   {
    "duration": 198,
    "start_time": "2022-03-11T17:30:28.691Z"
   },
   {
    "duration": 111,
    "start_time": "2022-03-11T17:30:28.892Z"
   },
   {
    "duration": 1424,
    "start_time": "2022-03-11T17:30:29.007Z"
   },
   {
    "duration": 1814,
    "start_time": "2022-03-11T17:30:30.434Z"
   },
   {
    "duration": 4,
    "start_time": "2022-03-11T17:30:32.252Z"
   },
   {
    "duration": 10,
    "start_time": "2022-03-11T17:30:32.260Z"
   },
   {
    "duration": 4,
    "start_time": "2022-03-11T17:30:32.287Z"
   },
   {
    "duration": 14,
    "start_time": "2022-03-11T17:30:32.293Z"
   },
   {
    "duration": 5,
    "start_time": "2022-03-11T17:30:32.310Z"
   },
   {
    "duration": 15,
    "start_time": "2022-03-11T17:30:32.318Z"
   },
   {
    "duration": 52,
    "start_time": "2022-03-11T17:30:32.335Z"
   },
   {
    "duration": 11,
    "start_time": "2022-03-11T17:30:32.390Z"
   },
   {
    "duration": 8,
    "start_time": "2022-03-11T17:30:32.404Z"
   },
   {
    "duration": 3446,
    "start_time": "2022-03-11T17:30:32.415Z"
   },
   {
    "duration": -109,
    "start_time": "2022-03-11T17:30:35.973Z"
   },
   {
    "duration": -114,
    "start_time": "2022-03-11T17:30:35.980Z"
   },
   {
    "duration": 9,
    "start_time": "2022-03-11T17:31:08.409Z"
   },
   {
    "duration": 4560,
    "start_time": "2022-03-11T17:31:09.280Z"
   },
   {
    "duration": 4,
    "start_time": "2022-03-11T17:31:17.552Z"
   },
   {
    "duration": 146,
    "start_time": "2022-03-11T17:31:17.559Z"
   },
   {
    "duration": 15,
    "start_time": "2022-03-11T17:31:17.708Z"
   },
   {
    "duration": 162,
    "start_time": "2022-03-11T17:31:17.725Z"
   },
   {
    "duration": 13,
    "start_time": "2022-03-11T17:31:17.890Z"
   },
   {
    "duration": 163,
    "start_time": "2022-03-11T17:31:17.906Z"
   },
   {
    "duration": 17,
    "start_time": "2022-03-11T17:31:18.071Z"
   },
   {
    "duration": 14,
    "start_time": "2022-03-11T17:31:18.092Z"
   },
   {
    "duration": 21,
    "start_time": "2022-03-11T17:31:18.109Z"
   },
   {
    "duration": 31,
    "start_time": "2022-03-11T17:31:18.132Z"
   },
   {
    "duration": 107,
    "start_time": "2022-03-11T17:31:18.165Z"
   },
   {
    "duration": 24,
    "start_time": "2022-03-11T17:31:18.275Z"
   },
   {
    "duration": 29,
    "start_time": "2022-03-11T17:31:18.301Z"
   },
   {
    "duration": 30,
    "start_time": "2022-03-11T17:31:18.332Z"
   },
   {
    "duration": 24,
    "start_time": "2022-03-11T17:31:18.365Z"
   },
   {
    "duration": 64,
    "start_time": "2022-03-11T17:31:18.392Z"
   },
   {
    "duration": 3,
    "start_time": "2022-03-11T17:31:18.459Z"
   },
   {
    "duration": 54,
    "start_time": "2022-03-11T17:31:18.465Z"
   },
   {
    "duration": 182,
    "start_time": "2022-03-11T17:31:18.523Z"
   },
   {
    "duration": 279,
    "start_time": "2022-03-11T17:31:18.709Z"
   },
   {
    "duration": 1325,
    "start_time": "2022-03-11T17:31:18.992Z"
   },
   {
    "duration": 1709,
    "start_time": "2022-03-11T17:31:20.320Z"
   },
   {
    "duration": 4,
    "start_time": "2022-03-11T17:31:22.033Z"
   },
   {
    "duration": 10,
    "start_time": "2022-03-11T17:31:22.041Z"
   },
   {
    "duration": 35,
    "start_time": "2022-03-11T17:31:22.054Z"
   },
   {
    "duration": 23,
    "start_time": "2022-03-11T17:31:22.092Z"
   },
   {
    "duration": 5,
    "start_time": "2022-03-11T17:31:22.118Z"
   },
   {
    "duration": 27,
    "start_time": "2022-03-11T17:31:22.126Z"
   },
   {
    "duration": 30,
    "start_time": "2022-03-11T17:31:22.157Z"
   },
   {
    "duration": 14,
    "start_time": "2022-03-11T17:31:22.189Z"
   },
   {
    "duration": 8,
    "start_time": "2022-03-11T17:31:22.206Z"
   },
   {
    "duration": 3345,
    "start_time": "2022-03-11T17:31:22.217Z"
   },
   {
    "duration": -96,
    "start_time": "2022-03-11T17:31:25.660Z"
   },
   {
    "duration": -111,
    "start_time": "2022-03-11T17:31:25.676Z"
   },
   {
    "duration": 6,
    "start_time": "2022-03-11T17:33:52.369Z"
   },
   {
    "duration": 163,
    "start_time": "2022-03-11T17:33:52.378Z"
   },
   {
    "duration": 14,
    "start_time": "2022-03-11T17:33:52.544Z"
   },
   {
    "duration": 158,
    "start_time": "2022-03-11T17:33:52.561Z"
   },
   {
    "duration": 14,
    "start_time": "2022-03-11T17:33:52.721Z"
   },
   {
    "duration": 169,
    "start_time": "2022-03-11T17:33:52.737Z"
   },
   {
    "duration": 16,
    "start_time": "2022-03-11T17:33:52.909Z"
   },
   {
    "duration": 13,
    "start_time": "2022-03-11T17:33:52.931Z"
   },
   {
    "duration": 53,
    "start_time": "2022-03-11T17:33:52.948Z"
   },
   {
    "duration": 15,
    "start_time": "2022-03-11T17:33:53.004Z"
   },
   {
    "duration": 104,
    "start_time": "2022-03-11T17:33:53.022Z"
   },
   {
    "duration": 21,
    "start_time": "2022-03-11T17:33:53.129Z"
   },
   {
    "duration": 38,
    "start_time": "2022-03-11T17:33:53.152Z"
   },
   {
    "duration": 26,
    "start_time": "2022-03-11T17:33:53.193Z"
   },
   {
    "duration": 19,
    "start_time": "2022-03-11T17:33:53.223Z"
   },
   {
    "duration": 73,
    "start_time": "2022-03-11T17:33:53.244Z"
   },
   {
    "duration": 4,
    "start_time": "2022-03-11T17:33:53.319Z"
   },
   {
    "duration": 66,
    "start_time": "2022-03-11T17:33:53.326Z"
   },
   {
    "duration": 107,
    "start_time": "2022-03-11T17:33:53.395Z"
   },
   {
    "duration": 104,
    "start_time": "2022-03-11T17:33:53.587Z"
   },
   {
    "duration": 1392,
    "start_time": "2022-03-11T17:33:53.695Z"
   },
   {
    "duration": 1641,
    "start_time": "2022-03-11T17:33:55.089Z"
   },
   {
    "duration": 4,
    "start_time": "2022-03-11T17:33:56.735Z"
   },
   {
    "duration": 18,
    "start_time": "2022-03-11T17:33:56.743Z"
   },
   {
    "duration": 22,
    "start_time": "2022-03-11T17:33:56.764Z"
   },
   {
    "duration": 15,
    "start_time": "2022-03-11T17:33:56.789Z"
   },
   {
    "duration": 7,
    "start_time": "2022-03-11T17:33:56.807Z"
   },
   {
    "duration": 18,
    "start_time": "2022-03-11T17:33:56.817Z"
   },
   {
    "duration": 50,
    "start_time": "2022-03-11T17:33:56.837Z"
   },
   {
    "duration": 12,
    "start_time": "2022-03-11T17:33:56.890Z"
   },
   {
    "duration": 7,
    "start_time": "2022-03-11T17:33:56.904Z"
   },
   {
    "duration": 545,
    "start_time": "2022-03-11T17:33:56.913Z"
   },
   {
    "duration": -28,
    "start_time": "2022-03-11T17:33:57.488Z"
   },
   {
    "duration": -28,
    "start_time": "2022-03-11T17:33:57.490Z"
   },
   {
    "duration": 8,
    "start_time": "2022-03-11T17:36:40.773Z"
   },
   {
    "duration": 2766,
    "start_time": "2022-03-11T17:36:41.956Z"
   },
   {
    "duration": 5,
    "start_time": "2022-03-11T17:37:39.193Z"
   },
   {
    "duration": 174,
    "start_time": "2022-03-11T17:37:39.201Z"
   },
   {
    "duration": 18,
    "start_time": "2022-03-11T17:37:39.378Z"
   },
   {
    "duration": 162,
    "start_time": "2022-03-11T17:37:39.399Z"
   },
   {
    "duration": 14,
    "start_time": "2022-03-11T17:37:39.563Z"
   },
   {
    "duration": 157,
    "start_time": "2022-03-11T17:37:39.588Z"
   },
   {
    "duration": 14,
    "start_time": "2022-03-11T17:37:39.748Z"
   },
   {
    "duration": 26,
    "start_time": "2022-03-11T17:37:39.766Z"
   },
   {
    "duration": 17,
    "start_time": "2022-03-11T17:37:39.795Z"
   },
   {
    "duration": 18,
    "start_time": "2022-03-11T17:37:39.815Z"
   },
   {
    "duration": 118,
    "start_time": "2022-03-11T17:37:39.836Z"
   },
   {
    "duration": 31,
    "start_time": "2022-03-11T17:37:39.956Z"
   },
   {
    "duration": 25,
    "start_time": "2022-03-11T17:37:39.989Z"
   },
   {
    "duration": 25,
    "start_time": "2022-03-11T17:37:40.016Z"
   },
   {
    "duration": 16,
    "start_time": "2022-03-11T17:37:40.043Z"
   },
   {
    "duration": 60,
    "start_time": "2022-03-11T17:37:40.062Z"
   },
   {
    "duration": 3,
    "start_time": "2022-03-11T17:37:40.124Z"
   },
   {
    "duration": 65,
    "start_time": "2022-03-11T17:37:40.130Z"
   },
   {
    "duration": 19,
    "start_time": "2022-03-11T17:37:40.288Z"
   },
   {
    "duration": 184,
    "start_time": "2022-03-11T17:37:40.310Z"
   },
   {
    "duration": 1649,
    "start_time": "2022-03-11T17:37:40.497Z"
   },
   {
    "duration": 1700,
    "start_time": "2022-03-11T17:37:42.149Z"
   },
   {
    "duration": 4,
    "start_time": "2022-03-11T17:37:43.854Z"
   },
   {
    "duration": 32,
    "start_time": "2022-03-11T17:37:43.860Z"
   },
   {
    "duration": 10,
    "start_time": "2022-03-11T17:37:43.894Z"
   },
   {
    "duration": 20,
    "start_time": "2022-03-11T17:37:43.909Z"
   },
   {
    "duration": 5,
    "start_time": "2022-03-11T17:37:43.932Z"
   },
   {
    "duration": 30,
    "start_time": "2022-03-11T17:37:43.940Z"
   },
   {
    "duration": 21,
    "start_time": "2022-03-11T17:37:43.973Z"
   },
   {
    "duration": 12,
    "start_time": "2022-03-11T17:37:43.997Z"
   },
   {
    "duration": 8,
    "start_time": "2022-03-11T17:37:44.012Z"
   },
   {
    "duration": 2858,
    "start_time": "2022-03-11T17:37:44.023Z"
   },
   {
    "duration": 2902,
    "start_time": "2022-03-11T17:37:46.886Z"
   },
   {
    "duration": 2834,
    "start_time": "2022-03-11T17:37:49.791Z"
   },
   {
    "duration": 283,
    "start_time": "2022-03-12T22:07:22.821Z"
   },
   {
    "duration": 1050,
    "start_time": "2022-03-12T22:07:26.759Z"
   },
   {
    "duration": 763,
    "start_time": "2022-03-12T22:07:27.811Z"
   },
   {
    "duration": 9,
    "start_time": "2022-03-12T22:07:28.576Z"
   },
   {
    "duration": 908,
    "start_time": "2022-03-12T22:07:28.587Z"
   },
   {
    "duration": 9,
    "start_time": "2022-03-12T22:07:29.496Z"
   },
   {
    "duration": 2844,
    "start_time": "2022-03-12T22:07:29.507Z"
   },
   {
    "duration": 10,
    "start_time": "2022-03-12T22:07:32.353Z"
   },
   {
    "duration": 11,
    "start_time": "2022-03-12T22:07:32.365Z"
   },
   {
    "duration": 7,
    "start_time": "2022-03-12T22:07:32.379Z"
   },
   {
    "duration": 8,
    "start_time": "2022-03-12T22:07:32.405Z"
   },
   {
    "duration": 67,
    "start_time": "2022-03-12T22:07:32.414Z"
   },
   {
    "duration": 25,
    "start_time": "2022-03-12T22:07:32.482Z"
   },
   {
    "duration": 12,
    "start_time": "2022-03-12T22:07:32.509Z"
   },
   {
    "duration": 13,
    "start_time": "2022-03-12T22:07:32.522Z"
   },
   {
    "duration": 11,
    "start_time": "2022-03-12T22:07:32.537Z"
   },
   {
    "duration": 35,
    "start_time": "2022-03-12T22:07:32.549Z"
   },
   {
    "duration": 223,
    "start_time": "2022-03-12T22:07:32.586Z"
   },
   {
    "duration": 3,
    "start_time": "2022-03-12T22:07:32.811Z"
   },
   {
    "duration": 114,
    "start_time": "2022-03-12T22:07:32.906Z"
   },
   {
    "duration": 186,
    "start_time": "2022-03-12T22:07:33.022Z"
   },
   {
    "duration": 106,
    "start_time": "2022-03-12T22:07:33.210Z"
   },
   {
    "duration": 1075,
    "start_time": "2022-03-12T22:07:33.318Z"
   },
   {
    "duration": 980,
    "start_time": "2022-03-12T22:07:34.395Z"
   },
   {
    "duration": 3,
    "start_time": "2022-03-12T22:07:35.376Z"
   },
   {
    "duration": 6,
    "start_time": "2022-03-12T22:07:35.380Z"
   },
   {
    "duration": 3,
    "start_time": "2022-03-12T22:07:35.387Z"
   },
   {
    "duration": 15,
    "start_time": "2022-03-12T22:07:35.393Z"
   },
   {
    "duration": 3,
    "start_time": "2022-03-12T22:07:35.409Z"
   },
   {
    "duration": 755,
    "start_time": "2022-03-12T22:07:35.414Z"
   },
   {
    "duration": 959,
    "start_time": "2022-03-12T22:07:35.211Z"
   },
   {
    "duration": 959,
    "start_time": "2022-03-12T22:07:35.212Z"
   },
   {
    "duration": 958,
    "start_time": "2022-03-12T22:07:35.214Z"
   },
   {
    "duration": 958,
    "start_time": "2022-03-12T22:07:35.215Z"
   },
   {
    "duration": 956,
    "start_time": "2022-03-12T22:07:35.217Z"
   },
   {
    "duration": 928,
    "start_time": "2022-03-12T22:07:35.246Z"
   },
   {
    "duration": 4,
    "start_time": "2022-03-12T22:08:05.181Z"
   },
   {
    "duration": 137,
    "start_time": "2022-03-12T22:08:05.188Z"
   },
   {
    "duration": 10,
    "start_time": "2022-03-12T22:08:05.327Z"
   },
   {
    "duration": 125,
    "start_time": "2022-03-12T22:08:05.338Z"
   },
   {
    "duration": 9,
    "start_time": "2022-03-12T22:08:05.465Z"
   },
   {
    "duration": 127,
    "start_time": "2022-03-12T22:08:05.476Z"
   },
   {
    "duration": 11,
    "start_time": "2022-03-12T22:08:05.604Z"
   },
   {
    "duration": 8,
    "start_time": "2022-03-12T22:08:05.618Z"
   },
   {
    "duration": 8,
    "start_time": "2022-03-12T22:08:05.628Z"
   },
   {
    "duration": 8,
    "start_time": "2022-03-12T22:08:05.638Z"
   },
   {
    "duration": 97,
    "start_time": "2022-03-12T22:08:05.648Z"
   },
   {
    "duration": 12,
    "start_time": "2022-03-12T22:08:05.747Z"
   },
   {
    "duration": 14,
    "start_time": "2022-03-12T22:08:05.761Z"
   },
   {
    "duration": 29,
    "start_time": "2022-03-12T22:08:05.776Z"
   },
   {
    "duration": 12,
    "start_time": "2022-03-12T22:08:05.807Z"
   },
   {
    "duration": 35,
    "start_time": "2022-03-12T22:08:05.820Z"
   },
   {
    "duration": 258,
    "start_time": "2022-03-12T22:08:05.856Z"
   },
   {
    "duration": 1008,
    "start_time": "2022-03-12T22:08:06.116Z"
   },
   {
    "duration": 982,
    "start_time": "2022-03-12T22:08:07.126Z"
   },
   {
    "duration": 3,
    "start_time": "2022-03-12T22:08:08.109Z"
   },
   {
    "duration": 6,
    "start_time": "2022-03-12T22:08:08.113Z"
   },
   {
    "duration": 5,
    "start_time": "2022-03-12T22:08:08.120Z"
   },
   {
    "duration": 7,
    "start_time": "2022-03-12T22:08:08.128Z"
   },
   {
    "duration": 3,
    "start_time": "2022-03-12T22:08:08.137Z"
   },
   {
    "duration": 491,
    "start_time": "2022-03-12T22:08:08.141Z"
   },
   {
    "duration": 1258,
    "start_time": "2022-03-12T22:08:07.375Z"
   },
   {
    "duration": 1254,
    "start_time": "2022-03-12T22:08:07.380Z"
   },
   {
    "duration": 1254,
    "start_time": "2022-03-12T22:08:07.381Z"
   },
   {
    "duration": 1253,
    "start_time": "2022-03-12T22:08:07.383Z"
   },
   {
    "duration": 1249,
    "start_time": "2022-03-12T22:08:07.388Z"
   },
   {
    "duration": 1249,
    "start_time": "2022-03-12T22:08:07.389Z"
   },
   {
    "duration": 29,
    "start_time": "2022-03-12T22:09:05.443Z"
   },
   {
    "duration": 75,
    "start_time": "2022-03-12T22:09:05.936Z"
   },
   {
    "duration": 3,
    "start_time": "2022-03-12T22:09:52.456Z"
   },
   {
    "duration": 116,
    "start_time": "2022-03-12T22:09:52.461Z"
   },
   {
    "duration": 9,
    "start_time": "2022-03-12T22:09:52.579Z"
   },
   {
    "duration": 116,
    "start_time": "2022-03-12T22:09:52.589Z"
   },
   {
    "duration": 10,
    "start_time": "2022-03-12T22:09:52.707Z"
   },
   {
    "duration": 115,
    "start_time": "2022-03-12T22:09:52.719Z"
   },
   {
    "duration": 9,
    "start_time": "2022-03-12T22:09:52.835Z"
   },
   {
    "duration": 13,
    "start_time": "2022-03-12T22:09:52.846Z"
   },
   {
    "duration": 14,
    "start_time": "2022-03-12T22:09:52.862Z"
   },
   {
    "duration": 14,
    "start_time": "2022-03-12T22:09:52.878Z"
   },
   {
    "duration": 72,
    "start_time": "2022-03-12T22:09:52.893Z"
   },
   {
    "duration": 12,
    "start_time": "2022-03-12T22:09:52.967Z"
   },
   {
    "duration": 26,
    "start_time": "2022-03-12T22:09:52.980Z"
   },
   {
    "duration": 13,
    "start_time": "2022-03-12T22:09:53.008Z"
   },
   {
    "duration": 10,
    "start_time": "2022-03-12T22:09:53.023Z"
   },
   {
    "duration": 31,
    "start_time": "2022-03-12T22:09:53.034Z"
   },
   {
    "duration": 142,
    "start_time": "2022-03-12T22:09:53.067Z"
   },
   {
    "duration": 925,
    "start_time": "2022-03-12T22:09:53.211Z"
   },
   {
    "duration": 1302,
    "start_time": "2022-03-12T22:09:54.137Z"
   },
   {
    "duration": 3,
    "start_time": "2022-03-12T22:09:55.440Z"
   },
   {
    "duration": 17,
    "start_time": "2022-03-12T22:09:55.444Z"
   },
   {
    "duration": 11,
    "start_time": "2022-03-12T22:09:55.463Z"
   },
   {
    "duration": 23,
    "start_time": "2022-03-12T22:09:55.476Z"
   },
   {
    "duration": 15,
    "start_time": "2022-03-12T22:09:55.501Z"
   },
   {
    "duration": 598,
    "start_time": "2022-03-12T22:09:55.517Z"
   },
   {
    "duration": 1247,
    "start_time": "2022-03-12T22:09:54.870Z"
   },
   {
    "duration": 1220,
    "start_time": "2022-03-12T22:09:54.898Z"
   },
   {
    "duration": 1217,
    "start_time": "2022-03-12T22:09:54.902Z"
   },
   {
    "duration": 1215,
    "start_time": "2022-03-12T22:09:54.904Z"
   },
   {
    "duration": 1214,
    "start_time": "2022-03-12T22:09:54.906Z"
   },
   {
    "duration": 1214,
    "start_time": "2022-03-12T22:09:54.907Z"
   },
   {
    "duration": 3,
    "start_time": "2022-03-12T22:18:29.315Z"
   },
   {
    "duration": 117,
    "start_time": "2022-03-12T22:18:29.320Z"
   },
   {
    "duration": 8,
    "start_time": "2022-03-12T22:18:29.439Z"
   },
   {
    "duration": 113,
    "start_time": "2022-03-12T22:18:29.449Z"
   },
   {
    "duration": 9,
    "start_time": "2022-03-12T22:18:29.563Z"
   },
   {
    "duration": 113,
    "start_time": "2022-03-12T22:18:29.574Z"
   },
   {
    "duration": 8,
    "start_time": "2022-03-12T22:18:29.689Z"
   },
   {
    "duration": 7,
    "start_time": "2022-03-12T22:18:29.700Z"
   },
   {
    "duration": 8,
    "start_time": "2022-03-12T22:18:29.709Z"
   },
   {
    "duration": 9,
    "start_time": "2022-03-12T22:18:29.719Z"
   },
   {
    "duration": 77,
    "start_time": "2022-03-12T22:18:29.729Z"
   },
   {
    "duration": 13,
    "start_time": "2022-03-12T22:18:29.808Z"
   },
   {
    "duration": 15,
    "start_time": "2022-03-12T22:18:29.822Z"
   },
   {
    "duration": 12,
    "start_time": "2022-03-12T22:18:29.839Z"
   },
   {
    "duration": 8,
    "start_time": "2022-03-12T22:18:29.852Z"
   },
   {
    "duration": 45,
    "start_time": "2022-03-12T22:18:29.862Z"
   },
   {
    "duration": 200,
    "start_time": "2022-03-12T22:18:29.908Z"
   },
   {
    "duration": 958,
    "start_time": "2022-03-12T22:18:30.114Z"
   },
   {
    "duration": 998,
    "start_time": "2022-03-12T22:18:31.073Z"
   },
   {
    "duration": 3,
    "start_time": "2022-03-12T22:18:32.072Z"
   },
   {
    "duration": 12,
    "start_time": "2022-03-12T22:18:32.076Z"
   },
   {
    "duration": 11,
    "start_time": "2022-03-12T22:18:32.090Z"
   },
   {
    "duration": 19,
    "start_time": "2022-03-12T22:18:32.103Z"
   },
   {
    "duration": 8,
    "start_time": "2022-03-12T22:18:32.124Z"
   },
   {
    "duration": 491,
    "start_time": "2022-03-12T22:18:32.134Z"
   },
   {
    "duration": 1257,
    "start_time": "2022-03-12T22:18:31.370Z"
   },
   {
    "duration": 1256,
    "start_time": "2022-03-12T22:18:31.372Z"
   },
   {
    "duration": 1252,
    "start_time": "2022-03-12T22:18:31.377Z"
   },
   {
    "duration": 1250,
    "start_time": "2022-03-12T22:18:31.379Z"
   },
   {
    "duration": 1249,
    "start_time": "2022-03-12T22:18:31.381Z"
   },
   {
    "duration": 1249,
    "start_time": "2022-03-12T22:18:31.382Z"
   },
   {
    "duration": 4,
    "start_time": "2022-03-12T22:19:49.586Z"
   },
   {
    "duration": 128,
    "start_time": "2022-03-12T22:19:49.592Z"
   },
   {
    "duration": 10,
    "start_time": "2022-03-12T22:19:49.722Z"
   },
   {
    "duration": 124,
    "start_time": "2022-03-12T22:19:49.734Z"
   },
   {
    "duration": 10,
    "start_time": "2022-03-12T22:19:49.859Z"
   },
   {
    "duration": 125,
    "start_time": "2022-03-12T22:19:49.871Z"
   },
   {
    "duration": 15,
    "start_time": "2022-03-12T22:19:49.997Z"
   },
   {
    "duration": 100,
    "start_time": "2022-03-12T22:19:50.014Z"
   },
   {
    "duration": 9,
    "start_time": "2022-03-12T22:19:50.117Z"
   },
   {
    "duration": 12,
    "start_time": "2022-03-12T22:19:50.128Z"
   },
   {
    "duration": 77,
    "start_time": "2022-03-12T22:19:50.142Z"
   },
   {
    "duration": 13,
    "start_time": "2022-03-12T22:19:50.221Z"
   },
   {
    "duration": 14,
    "start_time": "2022-03-12T22:19:50.236Z"
   },
   {
    "duration": 14,
    "start_time": "2022-03-12T22:19:50.252Z"
   },
   {
    "duration": 10,
    "start_time": "2022-03-12T22:19:50.267Z"
   },
   {
    "duration": 29,
    "start_time": "2022-03-12T22:19:50.305Z"
   },
   {
    "duration": 174,
    "start_time": "2022-03-12T22:19:50.336Z"
   },
   {
    "duration": 1075,
    "start_time": "2022-03-12T22:19:50.512Z"
   },
   {
    "duration": 1043,
    "start_time": "2022-03-12T22:19:51.589Z"
   },
   {
    "duration": 4,
    "start_time": "2022-03-12T22:19:52.634Z"
   },
   {
    "duration": 6,
    "start_time": "2022-03-12T22:19:52.639Z"
   },
   {
    "duration": 3,
    "start_time": "2022-03-12T22:19:52.647Z"
   },
   {
    "duration": 8,
    "start_time": "2022-03-12T22:19:52.652Z"
   },
   {
    "duration": 4,
    "start_time": "2022-03-12T22:19:52.662Z"
   },
   {
    "duration": 39,
    "start_time": "2022-03-12T22:19:52.667Z"
   },
   {
    "duration": 8,
    "start_time": "2022-03-12T22:19:52.708Z"
   },
   {
    "duration": 8,
    "start_time": "2022-03-12T22:19:52.719Z"
   },
   {
    "duration": 5,
    "start_time": "2022-03-12T22:19:52.728Z"
   },
   {
    "duration": 1500,
    "start_time": "2022-03-12T22:19:52.734Z"
   },
   {
    "duration": 1415,
    "start_time": "2022-03-12T22:19:54.235Z"
   },
   {
    "duration": 1410,
    "start_time": "2022-03-12T22:19:55.651Z"
   },
   {
    "duration": 1617,
    "start_time": "2022-03-13T22:24:47.577Z"
   },
   {
    "duration": 166,
    "start_time": "2022-03-13T22:24:49.197Z"
   },
   {
    "duration": 14,
    "start_time": "2022-03-13T22:24:49.366Z"
   },
   {
    "duration": 166,
    "start_time": "2022-03-13T22:24:49.383Z"
   },
   {
    "duration": 21,
    "start_time": "2022-03-13T22:24:49.552Z"
   },
   {
    "duration": 166,
    "start_time": "2022-03-13T22:24:49.576Z"
   },
   {
    "duration": 14,
    "start_time": "2022-03-13T22:24:49.745Z"
   },
   {
    "duration": 18,
    "start_time": "2022-03-13T22:24:49.777Z"
   },
   {
    "duration": 21,
    "start_time": "2022-03-13T22:24:49.799Z"
   },
   {
    "duration": 15,
    "start_time": "2022-03-13T22:24:49.823Z"
   },
   {
    "duration": 144,
    "start_time": "2022-03-13T22:24:49.841Z"
   },
   {
    "duration": 22,
    "start_time": "2022-03-13T22:24:49.988Z"
   },
   {
    "duration": 28,
    "start_time": "2022-03-13T22:24:50.013Z"
   },
   {
    "duration": 45,
    "start_time": "2022-03-13T22:24:50.043Z"
   },
   {
    "duration": 20,
    "start_time": "2022-03-13T22:24:50.091Z"
   },
   {
    "duration": 128,
    "start_time": "2022-03-13T22:24:50.114Z"
   },
   {
    "duration": 784,
    "start_time": "2022-03-13T22:24:49.462Z"
   },
   {
    "duration": 783,
    "start_time": "2022-03-13T22:24:49.465Z"
   },
   {
    "duration": 783,
    "start_time": "2022-03-13T22:24:49.467Z"
   },
   {
    "duration": 783,
    "start_time": "2022-03-13T22:24:49.469Z"
   },
   {
    "duration": 783,
    "start_time": "2022-03-13T22:24:49.471Z"
   },
   {
    "duration": 783,
    "start_time": "2022-03-13T22:24:49.473Z"
   },
   {
    "duration": 780,
    "start_time": "2022-03-13T22:24:49.479Z"
   },
   {
    "duration": 780,
    "start_time": "2022-03-13T22:24:49.481Z"
   },
   {
    "duration": 780,
    "start_time": "2022-03-13T22:24:49.483Z"
   },
   {
    "duration": 780,
    "start_time": "2022-03-13T22:24:49.484Z"
   },
   {
    "duration": 780,
    "start_time": "2022-03-13T22:24:49.486Z"
   },
   {
    "duration": 780,
    "start_time": "2022-03-13T22:24:49.487Z"
   },
   {
    "duration": 779,
    "start_time": "2022-03-13T22:24:49.489Z"
   },
   {
    "duration": 779,
    "start_time": "2022-03-13T22:24:49.491Z"
   },
   {
    "duration": 779,
    "start_time": "2022-03-13T22:24:49.492Z"
   },
   {
    "duration": 774,
    "start_time": "2022-03-13T22:24:49.498Z"
   },
   {
    "duration": 4,
    "start_time": "2022-03-13T22:25:14.975Z"
   },
   {
    "duration": 5,
    "start_time": "2022-03-13T22:26:00.471Z"
   },
   {
    "duration": 189,
    "start_time": "2022-03-13T22:26:00.478Z"
   },
   {
    "duration": 14,
    "start_time": "2022-03-13T22:26:00.670Z"
   },
   {
    "duration": 175,
    "start_time": "2022-03-13T22:26:00.687Z"
   },
   {
    "duration": 18,
    "start_time": "2022-03-13T22:26:00.865Z"
   },
   {
    "duration": 181,
    "start_time": "2022-03-13T22:26:00.886Z"
   },
   {
    "duration": 15,
    "start_time": "2022-03-13T22:26:01.069Z"
   },
   {
    "duration": 14,
    "start_time": "2022-03-13T22:26:01.090Z"
   },
   {
    "duration": 21,
    "start_time": "2022-03-13T22:26:01.108Z"
   },
   {
    "duration": 53,
    "start_time": "2022-03-13T22:26:01.132Z"
   },
   {
    "duration": 147,
    "start_time": "2022-03-13T22:26:01.188Z"
   },
   {
    "duration": 35,
    "start_time": "2022-03-13T22:26:01.338Z"
   },
   {
    "duration": 49,
    "start_time": "2022-03-13T22:26:01.376Z"
   },
   {
    "duration": 42,
    "start_time": "2022-03-13T22:26:01.428Z"
   },
   {
    "duration": 31,
    "start_time": "2022-03-13T22:26:01.473Z"
   },
   {
    "duration": 10,
    "start_time": "2022-03-13T22:26:01.507Z"
   },
   {
    "duration": 81,
    "start_time": "2022-03-13T22:26:01.520Z"
   },
   {
    "duration": 181,
    "start_time": "2022-03-13T22:26:01.604Z"
   },
   {
    "duration": 1314,
    "start_time": "2022-03-13T22:26:01.875Z"
   },
   {
    "duration": 1772,
    "start_time": "2022-03-13T22:26:03.191Z"
   },
   {
    "duration": 4,
    "start_time": "2022-03-13T22:26:04.973Z"
   },
   {
    "duration": 10,
    "start_time": "2022-03-13T22:26:04.980Z"
   },
   {
    "duration": 499,
    "start_time": "2022-03-13T22:26:04.994Z"
   },
   {
    "duration": 795,
    "start_time": "2022-03-13T22:26:04.701Z"
   },
   {
    "duration": 794,
    "start_time": "2022-03-13T22:26:04.703Z"
   },
   {
    "duration": 791,
    "start_time": "2022-03-13T22:26:04.708Z"
   },
   {
    "duration": 790,
    "start_time": "2022-03-13T22:26:04.710Z"
   },
   {
    "duration": 789,
    "start_time": "2022-03-13T22:26:04.712Z"
   },
   {
    "duration": 790,
    "start_time": "2022-03-13T22:26:04.713Z"
   },
   {
    "duration": 714,
    "start_time": "2022-03-13T22:26:04.790Z"
   },
   {
    "duration": 712,
    "start_time": "2022-03-13T22:26:04.793Z"
   },
   {
    "duration": 707,
    "start_time": "2022-03-13T22:26:04.800Z"
   },
   {
    "duration": 5,
    "start_time": "2022-03-13T22:27:33.208Z"
   },
   {
    "duration": 174,
    "start_time": "2022-03-13T22:27:33.216Z"
   },
   {
    "duration": 15,
    "start_time": "2022-03-13T22:27:33.393Z"
   },
   {
    "duration": 180,
    "start_time": "2022-03-13T22:27:33.410Z"
   },
   {
    "duration": 14,
    "start_time": "2022-03-13T22:27:33.592Z"
   },
   {
    "duration": 183,
    "start_time": "2022-03-13T22:27:33.609Z"
   },
   {
    "duration": 14,
    "start_time": "2022-03-13T22:27:33.794Z"
   },
   {
    "duration": 21,
    "start_time": "2022-03-13T22:27:33.812Z"
   },
   {
    "duration": 21,
    "start_time": "2022-03-13T22:27:33.836Z"
   },
   {
    "duration": 13,
    "start_time": "2022-03-13T22:27:33.874Z"
   },
   {
    "duration": 131,
    "start_time": "2022-03-13T22:27:33.889Z"
   },
   {
    "duration": 23,
    "start_time": "2022-03-13T22:27:34.022Z"
   },
   {
    "duration": 40,
    "start_time": "2022-03-13T22:27:34.048Z"
   },
   {
    "duration": 28,
    "start_time": "2022-03-13T22:27:34.091Z"
   },
   {
    "duration": 30,
    "start_time": "2022-03-13T22:27:34.122Z"
   },
   {
    "duration": 34,
    "start_time": "2022-03-13T22:27:34.155Z"
   },
   {
    "duration": 8309,
    "start_time": "2022-03-13T22:27:34.192Z"
   },
   {
    "duration": 729,
    "start_time": "2022-03-13T22:27:41.777Z"
   },
   {
    "duration": 728,
    "start_time": "2022-03-13T22:27:41.779Z"
   },
   {
    "duration": 726,
    "start_time": "2022-03-13T22:27:41.784Z"
   },
   {
    "duration": 722,
    "start_time": "2022-03-13T22:27:41.790Z"
   },
   {
    "duration": 723,
    "start_time": "2022-03-13T22:27:41.792Z"
   },
   {
    "duration": 720,
    "start_time": "2022-03-13T22:27:41.797Z"
   },
   {
    "duration": 721,
    "start_time": "2022-03-13T22:27:41.798Z"
   },
   {
    "duration": 718,
    "start_time": "2022-03-13T22:27:41.803Z"
   },
   {
    "duration": 718,
    "start_time": "2022-03-13T22:27:41.805Z"
   },
   {
    "duration": 715,
    "start_time": "2022-03-13T22:27:41.810Z"
   },
   {
    "duration": 715,
    "start_time": "2022-03-13T22:27:41.812Z"
   },
   {
    "duration": 712,
    "start_time": "2022-03-13T22:27:41.817Z"
   },
   {
    "duration": 711,
    "start_time": "2022-03-13T22:27:41.820Z"
   },
   {
    "duration": 679,
    "start_time": "2022-03-13T22:27:41.854Z"
   },
   {
    "duration": 679,
    "start_time": "2022-03-13T22:27:41.856Z"
   },
   {
    "duration": 676,
    "start_time": "2022-03-13T22:27:41.861Z"
   },
   {
    "duration": 5,
    "start_time": "2022-03-13T22:27:59.697Z"
   },
   {
    "duration": 168,
    "start_time": "2022-03-13T22:27:59.705Z"
   },
   {
    "duration": 14,
    "start_time": "2022-03-13T22:27:59.876Z"
   },
   {
    "duration": 172,
    "start_time": "2022-03-13T22:27:59.893Z"
   },
   {
    "duration": 19,
    "start_time": "2022-03-13T22:28:00.067Z"
   },
   {
    "duration": 173,
    "start_time": "2022-03-13T22:28:00.088Z"
   },
   {
    "duration": 18,
    "start_time": "2022-03-13T22:28:00.264Z"
   },
   {
    "duration": 19,
    "start_time": "2022-03-13T22:28:00.286Z"
   },
   {
    "duration": 33,
    "start_time": "2022-03-13T22:28:00.308Z"
   },
   {
    "duration": 23,
    "start_time": "2022-03-13T22:28:00.344Z"
   },
   {
    "duration": 111,
    "start_time": "2022-03-13T22:28:00.369Z"
   },
   {
    "duration": 22,
    "start_time": "2022-03-13T22:28:00.483Z"
   },
   {
    "duration": 39,
    "start_time": "2022-03-13T22:28:00.508Z"
   },
   {
    "duration": 37,
    "start_time": "2022-03-13T22:28:00.550Z"
   },
   {
    "duration": 21,
    "start_time": "2022-03-13T22:28:00.590Z"
   },
   {
    "duration": 20,
    "start_time": "2022-03-13T22:28:00.613Z"
   },
   {
    "duration": 9710,
    "start_time": "2022-03-13T22:28:00.635Z"
   },
   {
    "duration": 714,
    "start_time": "2022-03-13T22:28:09.635Z"
   },
   {
    "duration": 713,
    "start_time": "2022-03-13T22:28:09.638Z"
   },
   {
    "duration": 714,
    "start_time": "2022-03-13T22:28:09.639Z"
   },
   {
    "duration": 612,
    "start_time": "2022-03-13T22:28:09.744Z"
   },
   {
    "duration": 597,
    "start_time": "2022-03-13T22:28:09.761Z"
   },
   {
    "duration": 597,
    "start_time": "2022-03-13T22:28:09.763Z"
   },
   {
    "duration": 598,
    "start_time": "2022-03-13T22:28:09.764Z"
   },
   {
    "duration": 598,
    "start_time": "2022-03-13T22:28:09.766Z"
   },
   {
    "duration": 598,
    "start_time": "2022-03-13T22:28:09.768Z"
   },
   {
    "duration": 599,
    "start_time": "2022-03-13T22:28:09.769Z"
   },
   {
    "duration": 599,
    "start_time": "2022-03-13T22:28:09.771Z"
   },
   {
    "duration": 600,
    "start_time": "2022-03-13T22:28:09.772Z"
   },
   {
    "duration": 600,
    "start_time": "2022-03-13T22:28:09.774Z"
   },
   {
    "duration": 601,
    "start_time": "2022-03-13T22:28:09.775Z"
   },
   {
    "duration": 601,
    "start_time": "2022-03-13T22:28:09.777Z"
   },
   {
    "duration": 602,
    "start_time": "2022-03-13T22:28:09.778Z"
   },
   {
    "duration": 6,
    "start_time": "2022-03-13T22:29:46.029Z"
   },
   {
    "duration": 175,
    "start_time": "2022-03-13T22:29:46.037Z"
   },
   {
    "duration": 14,
    "start_time": "2022-03-13T22:29:46.216Z"
   },
   {
    "duration": 193,
    "start_time": "2022-03-13T22:29:46.233Z"
   },
   {
    "duration": 14,
    "start_time": "2022-03-13T22:29:46.428Z"
   },
   {
    "duration": 188,
    "start_time": "2022-03-13T22:29:46.445Z"
   },
   {
    "duration": 23,
    "start_time": "2022-03-13T22:29:46.636Z"
   },
   {
    "duration": 19,
    "start_time": "2022-03-13T22:29:46.681Z"
   },
   {
    "duration": 17,
    "start_time": "2022-03-13T22:29:46.704Z"
   },
   {
    "duration": 21,
    "start_time": "2022-03-13T22:29:46.724Z"
   },
   {
    "duration": 168,
    "start_time": "2022-03-13T22:29:46.747Z"
   },
   {
    "duration": 28,
    "start_time": "2022-03-13T22:29:46.919Z"
   },
   {
    "duration": 57,
    "start_time": "2022-03-13T22:29:46.950Z"
   },
   {
    "duration": 37,
    "start_time": "2022-03-13T22:29:47.010Z"
   },
   {
    "duration": 38,
    "start_time": "2022-03-13T22:29:47.051Z"
   },
   {
    "duration": 18,
    "start_time": "2022-03-13T22:29:47.092Z"
   },
   {
    "duration": 886,
    "start_time": "2022-03-13T22:29:47.113Z"
   },
   {
    "duration": 772,
    "start_time": "2022-03-13T22:29:47.231Z"
   },
   {
    "duration": 731,
    "start_time": "2022-03-13T22:29:47.274Z"
   },
   {
    "duration": 729,
    "start_time": "2022-03-13T22:29:47.278Z"
   },
   {
    "duration": 728,
    "start_time": "2022-03-13T22:29:47.281Z"
   },
   {
    "duration": 725,
    "start_time": "2022-03-13T22:29:47.286Z"
   },
   {
    "duration": 725,
    "start_time": "2022-03-13T22:29:47.288Z"
   },
   {
    "duration": 724,
    "start_time": "2022-03-13T22:29:47.292Z"
   },
   {
    "duration": 724,
    "start_time": "2022-03-13T22:29:47.294Z"
   },
   {
    "duration": 723,
    "start_time": "2022-03-13T22:29:47.298Z"
   },
   {
    "duration": 723,
    "start_time": "2022-03-13T22:29:47.300Z"
   },
   {
    "duration": 723,
    "start_time": "2022-03-13T22:29:47.302Z"
   },
   {
    "duration": 720,
    "start_time": "2022-03-13T22:29:47.307Z"
   },
   {
    "duration": 720,
    "start_time": "2022-03-13T22:29:47.309Z"
   },
   {
    "duration": 718,
    "start_time": "2022-03-13T22:29:47.313Z"
   },
   {
    "duration": 718,
    "start_time": "2022-03-13T22:29:47.315Z"
   },
   {
    "duration": 719,
    "start_time": "2022-03-13T22:29:47.317Z"
   },
   {
    "duration": 4,
    "start_time": "2022-03-13T22:34:07.470Z"
   },
   {
    "duration": 187,
    "start_time": "2022-03-13T22:34:07.477Z"
   },
   {
    "duration": 17,
    "start_time": "2022-03-13T22:34:07.667Z"
   },
   {
    "duration": 166,
    "start_time": "2022-03-13T22:34:07.687Z"
   },
   {
    "duration": 22,
    "start_time": "2022-03-13T22:34:07.855Z"
   },
   {
    "duration": 171,
    "start_time": "2022-03-13T22:34:07.880Z"
   },
   {
    "duration": 22,
    "start_time": "2022-03-13T22:34:08.054Z"
   },
   {
    "duration": 12,
    "start_time": "2022-03-13T22:34:08.078Z"
   },
   {
    "duration": 15,
    "start_time": "2022-03-13T22:34:08.093Z"
   },
   {
    "duration": 13,
    "start_time": "2022-03-13T22:34:08.110Z"
   },
   {
    "duration": 130,
    "start_time": "2022-03-13T22:34:08.126Z"
   },
   {
    "duration": 27,
    "start_time": "2022-03-13T22:34:08.259Z"
   },
   {
    "duration": 26,
    "start_time": "2022-03-13T22:34:08.288Z"
   },
   {
    "duration": 27,
    "start_time": "2022-03-13T22:34:08.316Z"
   },
   {
    "duration": 32,
    "start_time": "2022-03-13T22:34:08.345Z"
   },
   {
    "duration": 401,
    "start_time": "2022-03-13T22:34:08.380Z"
   },
   {
    "duration": 792,
    "start_time": "2022-03-13T22:34:07.991Z"
   },
   {
    "duration": 788,
    "start_time": "2022-03-13T22:34:07.997Z"
   },
   {
    "duration": 787,
    "start_time": "2022-03-13T22:34:07.999Z"
   },
   {
    "duration": 783,
    "start_time": "2022-03-13T22:34:08.004Z"
   },
   {
    "duration": 731,
    "start_time": "2022-03-13T22:34:08.058Z"
   },
   {
    "duration": 730,
    "start_time": "2022-03-13T22:34:08.060Z"
   },
   {
    "duration": 730,
    "start_time": "2022-03-13T22:34:08.061Z"
   },
   {
    "duration": 727,
    "start_time": "2022-03-13T22:34:08.066Z"
   },
   {
    "duration": 726,
    "start_time": "2022-03-13T22:34:08.068Z"
   },
   {
    "duration": 724,
    "start_time": "2022-03-13T22:34:08.073Z"
   },
   {
    "duration": 723,
    "start_time": "2022-03-13T22:34:08.075Z"
   },
   {
    "duration": 722,
    "start_time": "2022-03-13T22:34:08.077Z"
   },
   {
    "duration": 720,
    "start_time": "2022-03-13T22:34:08.081Z"
   },
   {
    "duration": 719,
    "start_time": "2022-03-13T22:34:08.083Z"
   },
   {
    "duration": 715,
    "start_time": "2022-03-13T22:34:08.088Z"
   },
   {
    "duration": 714,
    "start_time": "2022-03-13T22:34:08.091Z"
   },
   {
    "duration": 6,
    "start_time": "2022-03-13T22:44:56.014Z"
   },
   {
    "duration": 163,
    "start_time": "2022-03-13T22:44:56.023Z"
   },
   {
    "duration": 14,
    "start_time": "2022-03-13T22:44:56.189Z"
   },
   {
    "duration": 159,
    "start_time": "2022-03-13T22:44:56.206Z"
   },
   {
    "duration": 14,
    "start_time": "2022-03-13T22:44:56.368Z"
   },
   {
    "duration": 176,
    "start_time": "2022-03-13T22:44:56.385Z"
   },
   {
    "duration": 20,
    "start_time": "2022-03-13T22:44:56.564Z"
   },
   {
    "duration": 13,
    "start_time": "2022-03-13T22:44:56.589Z"
   },
   {
    "duration": 14,
    "start_time": "2022-03-13T22:44:56.605Z"
   },
   {
    "duration": 15,
    "start_time": "2022-03-13T22:44:56.622Z"
   },
   {
    "duration": 100,
    "start_time": "2022-03-13T22:44:56.673Z"
   },
   {
    "duration": 21,
    "start_time": "2022-03-13T22:44:56.776Z"
   },
   {
    "duration": 22,
    "start_time": "2022-03-13T22:44:56.799Z"
   },
   {
    "duration": 25,
    "start_time": "2022-03-13T22:44:56.824Z"
   },
   {
    "duration": 11,
    "start_time": "2022-03-13T22:44:56.874Z"
   },
   {
    "duration": 49,
    "start_time": "2022-03-13T22:44:56.887Z"
   },
   {
    "duration": 336,
    "start_time": "2022-03-13T22:44:56.938Z"
   },
   {
    "duration": 1302,
    "start_time": "2022-03-13T22:44:57.278Z"
   },
   {
    "duration": 1665,
    "start_time": "2022-03-13T22:44:58.582Z"
   },
   {
    "duration": 4,
    "start_time": "2022-03-13T22:45:00.250Z"
   },
   {
    "duration": 21,
    "start_time": "2022-03-13T22:45:00.256Z"
   },
   {
    "duration": 317,
    "start_time": "2022-03-13T22:45:00.280Z"
   },
   {
    "duration": 797,
    "start_time": "2022-03-13T22:44:59.802Z"
   },
   {
    "duration": 795,
    "start_time": "2022-03-13T22:44:59.806Z"
   },
   {
    "duration": 794,
    "start_time": "2022-03-13T22:44:59.808Z"
   },
   {
    "duration": 791,
    "start_time": "2022-03-13T22:44:59.812Z"
   },
   {
    "duration": 791,
    "start_time": "2022-03-13T22:44:59.814Z"
   },
   {
    "duration": 787,
    "start_time": "2022-03-13T22:44:59.819Z"
   },
   {
    "duration": 788,
    "start_time": "2022-03-13T22:44:59.820Z"
   },
   {
    "duration": 787,
    "start_time": "2022-03-13T22:44:59.822Z"
   },
   {
    "duration": 783,
    "start_time": "2022-03-13T22:44:59.827Z"
   },
   {
    "duration": 3,
    "start_time": "2022-03-13T22:47:08.784Z"
   },
   {
    "duration": 5,
    "start_time": "2022-03-13T22:47:13.397Z"
   },
   {
    "duration": 166,
    "start_time": "2022-03-13T22:47:13.405Z"
   },
   {
    "duration": 14,
    "start_time": "2022-03-13T22:47:13.574Z"
   },
   {
    "duration": 173,
    "start_time": "2022-03-13T22:47:13.591Z"
   },
   {
    "duration": 18,
    "start_time": "2022-03-13T22:47:13.766Z"
   },
   {
    "duration": 184,
    "start_time": "2022-03-13T22:47:13.787Z"
   },
   {
    "duration": 14,
    "start_time": "2022-03-13T22:47:13.973Z"
   },
   {
    "duration": 12,
    "start_time": "2022-03-13T22:47:13.989Z"
   },
   {
    "duration": 14,
    "start_time": "2022-03-13T22:47:14.005Z"
   },
   {
    "duration": 14,
    "start_time": "2022-03-13T22:47:14.022Z"
   },
   {
    "duration": 103,
    "start_time": "2022-03-13T22:47:14.074Z"
   },
   {
    "duration": 23,
    "start_time": "2022-03-13T22:47:14.179Z"
   },
   {
    "duration": 24,
    "start_time": "2022-03-13T22:47:14.205Z"
   },
   {
    "duration": 57,
    "start_time": "2022-03-13T22:47:14.232Z"
   },
   {
    "duration": 13,
    "start_time": "2022-03-13T22:47:14.292Z"
   },
   {
    "duration": 71,
    "start_time": "2022-03-13T22:47:14.308Z"
   },
   {
    "duration": 291,
    "start_time": "2022-03-13T22:47:14.382Z"
   },
   {
    "duration": 1296,
    "start_time": "2022-03-13T22:47:14.677Z"
   },
   {
    "duration": 1877,
    "start_time": "2022-03-13T22:47:15.976Z"
   },
   {
    "duration": 4,
    "start_time": "2022-03-13T22:47:17.855Z"
   },
   {
    "duration": 17,
    "start_time": "2022-03-13T22:47:17.861Z"
   },
   {
    "duration": 10,
    "start_time": "2022-03-13T22:47:17.880Z"
   },
   {
    "duration": 12,
    "start_time": "2022-03-13T22:47:17.893Z"
   },
   {
    "duration": 5,
    "start_time": "2022-03-13T22:47:17.907Z"
   },
   {
    "duration": 394,
    "start_time": "2022-03-13T22:47:17.914Z"
   },
   {
    "duration": 794,
    "start_time": "2022-03-13T22:47:17.517Z"
   },
   {
    "duration": 795,
    "start_time": "2022-03-13T22:47:17.519Z"
   },
   {
    "duration": 792,
    "start_time": "2022-03-13T22:47:17.525Z"
   },
   {
    "duration": 792,
    "start_time": "2022-03-13T22:47:17.527Z"
   },
   {
    "duration": 789,
    "start_time": "2022-03-13T22:47:17.532Z"
   },
   {
    "duration": 786,
    "start_time": "2022-03-13T22:47:17.537Z"
   },
   {
    "duration": 103,
    "start_time": "2022-03-13T22:54:34.278Z"
   },
   {
    "duration": 4,
    "start_time": "2022-03-13T22:54:37.817Z"
   },
   {
    "duration": 5,
    "start_time": "2022-03-13T22:54:40.788Z"
   },
   {
    "duration": 178,
    "start_time": "2022-03-13T22:54:40.795Z"
   },
   {
    "duration": 15,
    "start_time": "2022-03-13T22:54:40.976Z"
   },
   {
    "duration": 179,
    "start_time": "2022-03-13T22:54:40.995Z"
   },
   {
    "duration": 14,
    "start_time": "2022-03-13T22:54:41.177Z"
   },
   {
    "duration": 174,
    "start_time": "2022-03-13T22:54:41.193Z"
   },
   {
    "duration": 15,
    "start_time": "2022-03-13T22:54:41.369Z"
   },
   {
    "duration": 12,
    "start_time": "2022-03-13T22:54:41.386Z"
   },
   {
    "duration": 12,
    "start_time": "2022-03-13T22:54:41.403Z"
   },
   {
    "duration": 15,
    "start_time": "2022-03-13T22:54:41.418Z"
   },
   {
    "duration": 143,
    "start_time": "2022-03-13T22:54:41.435Z"
   },
   {
    "duration": 21,
    "start_time": "2022-03-13T22:54:41.581Z"
   },
   {
    "duration": 21,
    "start_time": "2022-03-13T22:54:41.604Z"
   },
   {
    "duration": 48,
    "start_time": "2022-03-13T22:54:41.627Z"
   },
   {
    "duration": 10,
    "start_time": "2022-03-13T22:54:41.677Z"
   },
   {
    "duration": 47,
    "start_time": "2022-03-13T22:54:41.690Z"
   },
   {
    "duration": 336,
    "start_time": "2022-03-13T22:54:41.739Z"
   },
   {
    "duration": 1397,
    "start_time": "2022-03-13T22:54:42.079Z"
   },
   {
    "duration": 1655,
    "start_time": "2022-03-13T22:54:43.478Z"
   },
   {
    "duration": 4,
    "start_time": "2022-03-13T22:54:45.135Z"
   },
   {
    "duration": 9,
    "start_time": "2022-03-13T22:54:45.142Z"
   },
   {
    "duration": 24,
    "start_time": "2022-03-13T22:54:45.154Z"
   },
   {
    "duration": 12,
    "start_time": "2022-03-13T22:54:45.181Z"
   },
   {
    "duration": 7,
    "start_time": "2022-03-13T22:54:45.195Z"
   },
   {
    "duration": 346,
    "start_time": "2022-03-13T22:54:45.204Z"
   },
   {
    "duration": 795,
    "start_time": "2022-03-13T22:54:44.759Z"
   },
   {
    "duration": 790,
    "start_time": "2022-03-13T22:54:44.766Z"
   },
   {
    "duration": 785,
    "start_time": "2022-03-13T22:54:44.773Z"
   },
   {
    "duration": 785,
    "start_time": "2022-03-13T22:54:44.775Z"
   },
   {
    "duration": 786,
    "start_time": "2022-03-13T22:54:44.776Z"
   },
   {
    "duration": 783,
    "start_time": "2022-03-13T22:54:44.782Z"
   },
   {
    "duration": 5,
    "start_time": "2022-03-13T22:57:40.516Z"
   },
   {
    "duration": 6,
    "start_time": "2022-03-13T22:57:44.223Z"
   },
   {
    "duration": 155,
    "start_time": "2022-03-13T22:57:44.232Z"
   },
   {
    "duration": 18,
    "start_time": "2022-03-13T22:57:44.391Z"
   },
   {
    "duration": 163,
    "start_time": "2022-03-13T22:57:44.411Z"
   },
   {
    "duration": 15,
    "start_time": "2022-03-13T22:57:44.576Z"
   },
   {
    "duration": 180,
    "start_time": "2022-03-13T22:57:44.594Z"
   },
   {
    "duration": 19,
    "start_time": "2022-03-13T22:57:44.777Z"
   },
   {
    "duration": 14,
    "start_time": "2022-03-13T22:57:44.802Z"
   },
   {
    "duration": 21,
    "start_time": "2022-03-13T22:57:44.819Z"
   },
   {
    "duration": 21,
    "start_time": "2022-03-13T22:57:44.873Z"
   },
   {
    "duration": 118,
    "start_time": "2022-03-13T22:57:44.897Z"
   },
   {
    "duration": 24,
    "start_time": "2022-03-13T22:57:45.018Z"
   },
   {
    "duration": 59,
    "start_time": "2022-03-13T22:57:45.045Z"
   },
   {
    "duration": 33,
    "start_time": "2022-03-13T22:57:45.108Z"
   },
   {
    "duration": 38,
    "start_time": "2022-03-13T22:57:45.144Z"
   },
   {
    "duration": 52,
    "start_time": "2022-03-13T22:57:45.185Z"
   },
   {
    "duration": 240,
    "start_time": "2022-03-13T22:57:45.239Z"
   },
   {
    "duration": 1612,
    "start_time": "2022-03-13T22:57:45.482Z"
   },
   {
    "duration": 1897,
    "start_time": "2022-03-13T22:57:47.096Z"
   },
   {
    "duration": 5,
    "start_time": "2022-03-13T22:57:48.996Z"
   },
   {
    "duration": 12,
    "start_time": "2022-03-13T22:57:49.003Z"
   },
   {
    "duration": 6,
    "start_time": "2022-03-13T22:57:49.018Z"
   },
   {
    "duration": 48,
    "start_time": "2022-03-13T22:57:49.030Z"
   },
   {
    "duration": 7,
    "start_time": "2022-03-13T22:57:49.081Z"
   },
   {
    "duration": 390,
    "start_time": "2022-03-13T22:57:49.091Z"
   },
   {
    "duration": 775,
    "start_time": "2022-03-13T22:57:48.709Z"
   },
   {
    "duration": 773,
    "start_time": "2022-03-13T22:57:48.712Z"
   },
   {
    "duration": 772,
    "start_time": "2022-03-13T22:57:48.714Z"
   },
   {
    "duration": 771,
    "start_time": "2022-03-13T22:57:48.716Z"
   },
   {
    "duration": 769,
    "start_time": "2022-03-13T22:57:48.719Z"
   },
   {
    "duration": 769,
    "start_time": "2022-03-13T22:57:48.720Z"
   },
   {
    "duration": 272,
    "start_time": "2022-03-13T22:58:46.505Z"
   },
   {
    "duration": 11,
    "start_time": "2022-03-13T22:58:49.849Z"
   },
   {
    "duration": 5,
    "start_time": "2022-03-13T22:58:51.605Z"
   },
   {
    "duration": 164,
    "start_time": "2022-03-13T22:58:51.612Z"
   },
   {
    "duration": 15,
    "start_time": "2022-03-13T22:58:51.779Z"
   },
   {
    "duration": 164,
    "start_time": "2022-03-13T22:58:51.796Z"
   },
   {
    "duration": 19,
    "start_time": "2022-03-13T22:58:51.963Z"
   },
   {
    "duration": 175,
    "start_time": "2022-03-13T22:58:51.984Z"
   },
   {
    "duration": 18,
    "start_time": "2022-03-13T22:58:52.161Z"
   },
   {
    "duration": 13,
    "start_time": "2022-03-13T22:58:52.183Z"
   },
   {
    "duration": 14,
    "start_time": "2022-03-13T22:58:52.199Z"
   },
   {
    "duration": 16,
    "start_time": "2022-03-13T22:58:52.215Z"
   },
   {
    "duration": 139,
    "start_time": "2022-03-13T22:58:52.234Z"
   },
   {
    "duration": 21,
    "start_time": "2022-03-13T22:58:52.376Z"
   },
   {
    "duration": 33,
    "start_time": "2022-03-13T22:58:52.399Z"
   },
   {
    "duration": 41,
    "start_time": "2022-03-13T22:58:52.435Z"
   },
   {
    "duration": 20,
    "start_time": "2022-03-13T22:58:52.478Z"
   },
   {
    "duration": 56,
    "start_time": "2022-03-13T22:58:52.500Z"
   },
   {
    "duration": 319,
    "start_time": "2022-03-13T22:58:52.558Z"
   },
   {
    "duration": 1512,
    "start_time": "2022-03-13T22:58:52.882Z"
   },
   {
    "duration": 1790,
    "start_time": "2022-03-13T22:58:54.396Z"
   },
   {
    "duration": 4,
    "start_time": "2022-03-13T22:58:56.188Z"
   },
   {
    "duration": 8,
    "start_time": "2022-03-13T22:58:56.194Z"
   },
   {
    "duration": 275,
    "start_time": "2022-03-13T22:58:56.204Z"
   },
   {
    "duration": 11,
    "start_time": "2022-03-13T22:58:56.575Z"
   },
   {
    "duration": 6,
    "start_time": "2022-03-13T22:58:56.588Z"
   },
   {
    "duration": 331,
    "start_time": "2022-03-13T22:58:56.596Z"
   },
   {
    "duration": 795,
    "start_time": "2022-03-13T22:58:56.135Z"
   },
   {
    "duration": 790,
    "start_time": "2022-03-13T22:58:56.141Z"
   },
   {
    "duration": 790,
    "start_time": "2022-03-13T22:58:56.143Z"
   },
   {
    "duration": 787,
    "start_time": "2022-03-13T22:58:56.148Z"
   },
   {
    "duration": 785,
    "start_time": "2022-03-13T22:58:56.151Z"
   },
   {
    "duration": 687,
    "start_time": "2022-03-13T22:58:56.250Z"
   },
   {
    "duration": 17,
    "start_time": "2022-03-13T23:01:58.829Z"
   },
   {
    "duration": 6,
    "start_time": "2022-03-13T23:02:42.580Z"
   },
   {
    "duration": 5,
    "start_time": "2022-03-13T23:03:02.947Z"
   },
   {
    "duration": 174,
    "start_time": "2022-03-13T23:03:02.955Z"
   },
   {
    "duration": 14,
    "start_time": "2022-03-13T23:03:03.132Z"
   },
   {
    "duration": 182,
    "start_time": "2022-03-13T23:03:03.149Z"
   },
   {
    "duration": 14,
    "start_time": "2022-03-13T23:03:03.333Z"
   },
   {
    "duration": 169,
    "start_time": "2022-03-13T23:03:03.350Z"
   },
   {
    "duration": 14,
    "start_time": "2022-03-13T23:03:03.522Z"
   },
   {
    "duration": 34,
    "start_time": "2022-03-13T23:03:03.539Z"
   },
   {
    "duration": 14,
    "start_time": "2022-03-13T23:03:03.577Z"
   },
   {
    "duration": 29,
    "start_time": "2022-03-13T23:03:03.595Z"
   },
   {
    "duration": 139,
    "start_time": "2022-03-13T23:03:03.627Z"
   },
   {
    "duration": 27,
    "start_time": "2022-03-13T23:03:03.770Z"
   },
   {
    "duration": 29,
    "start_time": "2022-03-13T23:03:03.800Z"
   },
   {
    "duration": 45,
    "start_time": "2022-03-13T23:03:03.831Z"
   },
   {
    "duration": 54,
    "start_time": "2022-03-13T23:03:03.879Z"
   },
   {
    "duration": 61,
    "start_time": "2022-03-13T23:03:03.935Z"
   },
   {
    "duration": 282,
    "start_time": "2022-03-13T23:03:03.998Z"
   },
   {
    "duration": 1495,
    "start_time": "2022-03-13T23:03:04.283Z"
   },
   {
    "duration": 1792,
    "start_time": "2022-03-13T23:03:05.781Z"
   },
   {
    "duration": 4,
    "start_time": "2022-03-13T23:03:07.575Z"
   },
   {
    "duration": 12,
    "start_time": "2022-03-13T23:03:07.581Z"
   },
   {
    "duration": 10,
    "start_time": "2022-03-13T23:03:07.595Z"
   },
   {
    "duration": 11,
    "start_time": "2022-03-13T23:03:07.607Z"
   },
   {
    "duration": 5,
    "start_time": "2022-03-13T23:03:07.621Z"
   },
   {
    "duration": 401,
    "start_time": "2022-03-13T23:03:07.628Z"
   },
   {
    "duration": 771,
    "start_time": "2022-03-13T23:03:07.260Z"
   },
   {
    "duration": 769,
    "start_time": "2022-03-13T23:03:07.263Z"
   },
   {
    "duration": 768,
    "start_time": "2022-03-13T23:03:07.266Z"
   },
   {
    "duration": 763,
    "start_time": "2022-03-13T23:03:07.272Z"
   },
   {
    "duration": 761,
    "start_time": "2022-03-13T23:03:07.275Z"
   },
   {
    "duration": 715,
    "start_time": "2022-03-13T23:03:07.323Z"
   },
   {
    "duration": 5,
    "start_time": "2022-03-13T23:05:58.468Z"
   },
   {
    "duration": 183,
    "start_time": "2022-03-13T23:05:58.476Z"
   },
   {
    "duration": 18,
    "start_time": "2022-03-13T23:05:58.662Z"
   },
   {
    "duration": 166,
    "start_time": "2022-03-13T23:05:58.683Z"
   },
   {
    "duration": 23,
    "start_time": "2022-03-13T23:05:58.851Z"
   },
   {
    "duration": 168,
    "start_time": "2022-03-13T23:05:58.876Z"
   },
   {
    "duration": 14,
    "start_time": "2022-03-13T23:05:59.047Z"
   },
   {
    "duration": 13,
    "start_time": "2022-03-13T23:05:59.074Z"
   },
   {
    "duration": 17,
    "start_time": "2022-03-13T23:05:59.092Z"
   },
   {
    "duration": 14,
    "start_time": "2022-03-13T23:05:59.112Z"
   },
   {
    "duration": 130,
    "start_time": "2022-03-13T23:05:59.128Z"
   },
   {
    "duration": 39,
    "start_time": "2022-03-13T23:05:59.260Z"
   },
   {
    "duration": 24,
    "start_time": "2022-03-13T23:05:59.301Z"
   },
   {
    "duration": 46,
    "start_time": "2022-03-13T23:05:59.327Z"
   },
   {
    "duration": 11,
    "start_time": "2022-03-13T23:05:59.376Z"
   },
   {
    "duration": 53,
    "start_time": "2022-03-13T23:05:59.389Z"
   },
   {
    "duration": 333,
    "start_time": "2022-03-13T23:05:59.445Z"
   },
   {
    "duration": 1425,
    "start_time": "2022-03-13T23:05:59.783Z"
   },
   {
    "duration": 1695,
    "start_time": "2022-03-13T23:06:01.211Z"
   },
   {
    "duration": 5,
    "start_time": "2022-03-13T23:06:02.908Z"
   },
   {
    "duration": 28,
    "start_time": "2022-03-13T23:06:02.915Z"
   },
   {
    "duration": 15,
    "start_time": "2022-03-13T23:06:02.945Z"
   },
   {
    "duration": 16,
    "start_time": "2022-03-13T23:06:02.963Z"
   },
   {
    "duration": 13,
    "start_time": "2022-03-13T23:06:02.981Z"
   },
   {
    "duration": 316,
    "start_time": "2022-03-13T23:06:02.997Z"
   },
   {
    "duration": 782,
    "start_time": "2022-03-13T23:06:02.533Z"
   },
   {
    "duration": 782,
    "start_time": "2022-03-13T23:06:02.535Z"
   },
   {
    "duration": 782,
    "start_time": "2022-03-13T23:06:02.537Z"
   },
   {
    "duration": 782,
    "start_time": "2022-03-13T23:06:02.538Z"
   },
   {
    "duration": 779,
    "start_time": "2022-03-13T23:06:02.543Z"
   },
   {
    "duration": 775,
    "start_time": "2022-03-13T23:06:02.548Z"
   },
   {
    "duration": 1022,
    "start_time": "2022-03-14T22:21:30.558Z"
   },
   {
    "duration": 1341,
    "start_time": "2022-03-14T22:21:35.382Z"
   },
   {
    "duration": 531,
    "start_time": "2022-03-14T22:21:36.725Z"
   },
   {
    "duration": 11,
    "start_time": "2022-03-14T22:21:37.258Z"
   },
   {
    "duration": 212,
    "start_time": "2022-03-14T22:21:37.271Z"
   },
   {
    "duration": 10,
    "start_time": "2022-03-14T22:21:37.485Z"
   },
   {
    "duration": 210,
    "start_time": "2022-03-14T22:21:37.497Z"
   },
   {
    "duration": 11,
    "start_time": "2022-03-14T22:21:37.709Z"
   },
   {
    "duration": 12,
    "start_time": "2022-03-14T22:21:37.722Z"
   },
   {
    "duration": 8,
    "start_time": "2022-03-14T22:21:37.736Z"
   },
   {
    "duration": 25,
    "start_time": "2022-03-14T22:21:37.745Z"
   },
   {
    "duration": 94,
    "start_time": "2022-03-14T22:21:37.771Z"
   },
   {
    "duration": 14,
    "start_time": "2022-03-14T22:21:37.867Z"
   },
   {
    "duration": 17,
    "start_time": "2022-03-14T22:21:37.883Z"
   },
   {
    "duration": 15,
    "start_time": "2022-03-14T22:21:37.901Z"
   },
   {
    "duration": 13,
    "start_time": "2022-03-14T22:21:37.918Z"
   },
   {
    "duration": 68,
    "start_time": "2022-03-14T22:21:37.933Z"
   },
   {
    "duration": 265,
    "start_time": "2022-03-14T22:21:38.003Z"
   },
   {
    "duration": 1097,
    "start_time": "2022-03-14T22:21:38.271Z"
   },
   {
    "duration": 1138,
    "start_time": "2022-03-14T22:21:39.370Z"
   },
   {
    "duration": 3,
    "start_time": "2022-03-14T22:21:40.510Z"
   },
   {
    "duration": 6,
    "start_time": "2022-03-14T22:21:40.514Z"
   },
   {
    "duration": 3,
    "start_time": "2022-03-14T22:21:40.522Z"
   },
   {
    "duration": 8,
    "start_time": "2022-03-14T22:21:40.528Z"
   },
   {
    "duration": 27,
    "start_time": "2022-03-14T22:21:40.538Z"
   },
   {
    "duration": 12,
    "start_time": "2022-03-14T22:21:40.567Z"
   },
   {
    "duration": 847,
    "start_time": "2022-03-14T22:21:40.581Z"
   },
   {
    "duration": 99,
    "start_time": "2022-03-14T22:21:41.331Z"
   },
   {
    "duration": 99,
    "start_time": "2022-03-14T22:21:41.332Z"
   },
   {
    "duration": 98,
    "start_time": "2022-03-14T22:21:41.334Z"
   },
   {
    "duration": 8,
    "start_time": "2022-03-14T22:21:41.425Z"
   },
   {
    "duration": 8,
    "start_time": "2022-03-14T22:21:41.426Z"
   },
   {
    "duration": 4,
    "start_time": "2022-03-14T22:22:57.831Z"
   },
   {
    "duration": 135,
    "start_time": "2022-03-14T22:22:57.836Z"
   },
   {
    "duration": 11,
    "start_time": "2022-03-14T22:22:57.973Z"
   },
   {
    "duration": 128,
    "start_time": "2022-03-14T22:22:57.986Z"
   },
   {
    "duration": 12,
    "start_time": "2022-03-14T22:22:58.116Z"
   },
   {
    "duration": 133,
    "start_time": "2022-03-14T22:22:58.131Z"
   },
   {
    "duration": 12,
    "start_time": "2022-03-14T22:22:58.266Z"
   },
   {
    "duration": 9,
    "start_time": "2022-03-14T22:22:58.281Z"
   },
   {
    "duration": 10,
    "start_time": "2022-03-14T22:22:58.292Z"
   },
   {
    "duration": 9,
    "start_time": "2022-03-14T22:22:58.304Z"
   },
   {
    "duration": 112,
    "start_time": "2022-03-14T22:22:58.315Z"
   },
   {
    "duration": 18,
    "start_time": "2022-03-14T22:22:58.429Z"
   },
   {
    "duration": 28,
    "start_time": "2022-03-14T22:22:58.449Z"
   },
   {
    "duration": 15,
    "start_time": "2022-03-14T22:22:58.479Z"
   },
   {
    "duration": 14,
    "start_time": "2022-03-14T22:22:58.496Z"
   },
   {
    "duration": 62,
    "start_time": "2022-03-14T22:22:58.512Z"
   },
   {
    "duration": 187,
    "start_time": "2022-03-14T22:22:58.576Z"
   },
   {
    "duration": 1118,
    "start_time": "2022-03-14T22:22:58.766Z"
   },
   {
    "duration": 1244,
    "start_time": "2022-03-14T22:22:59.885Z"
   },
   {
    "duration": 3,
    "start_time": "2022-03-14T22:23:01.132Z"
   },
   {
    "duration": 10,
    "start_time": "2022-03-14T22:23:01.137Z"
   },
   {
    "duration": 20,
    "start_time": "2022-03-14T22:23:01.149Z"
   },
   {
    "duration": 11,
    "start_time": "2022-03-14T22:23:01.173Z"
   },
   {
    "duration": 4,
    "start_time": "2022-03-14T22:23:01.187Z"
   },
   {
    "duration": 26,
    "start_time": "2022-03-14T22:23:01.193Z"
   },
   {
    "duration": 11,
    "start_time": "2022-03-14T22:23:01.221Z"
   },
   {
    "duration": 30,
    "start_time": "2022-03-14T22:23:01.234Z"
   },
   {
    "duration": 6,
    "start_time": "2022-03-14T22:23:01.266Z"
   },
   {
    "duration": 1057,
    "start_time": "2022-03-14T22:23:01.274Z"
   },
   {
    "duration": 102,
    "start_time": "2022-03-14T22:23:02.232Z"
   },
   {
    "duration": 16,
    "start_time": "2022-03-14T22:23:02.319Z"
   },
   {
    "duration": 3,
    "start_time": "2022-03-14T22:24:38.110Z"
   },
   {
    "duration": 138,
    "start_time": "2022-03-14T22:24:38.115Z"
   },
   {
    "duration": 11,
    "start_time": "2022-03-14T22:24:38.256Z"
   },
   {
    "duration": 133,
    "start_time": "2022-03-14T22:24:38.269Z"
   },
   {
    "duration": 13,
    "start_time": "2022-03-14T22:24:38.404Z"
   },
   {
    "duration": 136,
    "start_time": "2022-03-14T22:24:38.418Z"
   },
   {
    "duration": 17,
    "start_time": "2022-03-14T22:24:38.556Z"
   },
   {
    "duration": 11,
    "start_time": "2022-03-14T22:24:38.576Z"
   },
   {
    "duration": 11,
    "start_time": "2022-03-14T22:24:38.590Z"
   },
   {
    "duration": 10,
    "start_time": "2022-03-14T22:24:38.603Z"
   },
   {
    "duration": 106,
    "start_time": "2022-03-14T22:24:38.615Z"
   },
   {
    "duration": 15,
    "start_time": "2022-03-14T22:24:38.723Z"
   },
   {
    "duration": 31,
    "start_time": "2022-03-14T22:24:38.739Z"
   },
   {
    "duration": 17,
    "start_time": "2022-03-14T22:24:38.772Z"
   },
   {
    "duration": 12,
    "start_time": "2022-03-14T22:24:38.791Z"
   },
   {
    "duration": 34,
    "start_time": "2022-03-14T22:24:38.805Z"
   },
   {
    "duration": 3,
    "start_time": "2022-03-14T22:24:38.841Z"
   },
   {
    "duration": 939,
    "start_time": "2022-03-14T22:24:38.845Z"
   },
   {
    "duration": 1124,
    "start_time": "2022-03-14T22:24:39.786Z"
   },
   {
    "duration": 3,
    "start_time": "2022-03-14T22:24:40.912Z"
   },
   {
    "duration": 13,
    "start_time": "2022-03-14T22:24:40.916Z"
   },
   {
    "duration": 17,
    "start_time": "2022-03-14T22:24:40.931Z"
   },
   {
    "duration": 19,
    "start_time": "2022-03-14T22:24:40.951Z"
   },
   {
    "duration": 30,
    "start_time": "2022-03-14T22:24:40.972Z"
   },
   {
    "duration": 21,
    "start_time": "2022-03-14T22:24:41.004Z"
   },
   {
    "duration": 9,
    "start_time": "2022-03-14T22:24:41.027Z"
   },
   {
    "duration": 19,
    "start_time": "2022-03-14T22:24:41.039Z"
   },
   {
    "duration": 12,
    "start_time": "2022-03-14T22:24:41.060Z"
   },
   {
    "duration": 3719,
    "start_time": "2022-03-14T22:24:41.074Z"
   },
   {
    "duration": 15,
    "start_time": "2022-03-14T22:24:44.780Z"
   },
   {
    "duration": 15,
    "start_time": "2022-03-14T22:24:44.782Z"
   },
   {
    "duration": 3,
    "start_time": "2022-03-14T22:25:22.359Z"
   },
   {
    "duration": 133,
    "start_time": "2022-03-14T22:25:22.364Z"
   },
   {
    "duration": 11,
    "start_time": "2022-03-14T22:25:22.499Z"
   },
   {
    "duration": 125,
    "start_time": "2022-03-14T22:25:22.512Z"
   },
   {
    "duration": 10,
    "start_time": "2022-03-14T22:25:22.639Z"
   },
   {
    "duration": 132,
    "start_time": "2022-03-14T22:25:22.651Z"
   },
   {
    "duration": 10,
    "start_time": "2022-03-14T22:25:22.785Z"
   },
   {
    "duration": 8,
    "start_time": "2022-03-14T22:25:22.798Z"
   },
   {
    "duration": 13,
    "start_time": "2022-03-14T22:25:22.808Z"
   },
   {
    "duration": 10,
    "start_time": "2022-03-14T22:25:22.823Z"
   },
   {
    "duration": 101,
    "start_time": "2022-03-14T22:25:22.834Z"
   },
   {
    "duration": 16,
    "start_time": "2022-03-14T22:25:22.936Z"
   },
   {
    "duration": 21,
    "start_time": "2022-03-14T22:25:22.953Z"
   },
   {
    "duration": 20,
    "start_time": "2022-03-14T22:25:22.976Z"
   },
   {
    "duration": 11,
    "start_time": "2022-03-14T22:25:22.998Z"
   },
   {
    "duration": 52,
    "start_time": "2022-03-14T22:25:23.011Z"
   },
   {
    "duration": 2,
    "start_time": "2022-03-14T22:25:23.065Z"
   },
   {
    "duration": 631,
    "start_time": "2022-03-14T22:25:23.069Z"
   },
   {
    "duration": 61,
    "start_time": "2022-03-14T22:25:23.641Z"
   },
   {
    "duration": 54,
    "start_time": "2022-03-14T22:25:23.649Z"
   },
   {
    "duration": 49,
    "start_time": "2022-03-14T22:25:23.655Z"
   },
   {
    "duration": 13,
    "start_time": "2022-03-14T22:25:23.692Z"
   },
   {
    "duration": -5,
    "start_time": "2022-03-14T22:25:23.711Z"
   },
   {
    "duration": -8,
    "start_time": "2022-03-14T22:25:23.715Z"
   },
   {
    "duration": -11,
    "start_time": "2022-03-14T22:25:23.719Z"
   },
   {
    "duration": -13,
    "start_time": "2022-03-14T22:25:23.722Z"
   },
   {
    "duration": -14,
    "start_time": "2022-03-14T22:25:23.724Z"
   },
   {
    "duration": -15,
    "start_time": "2022-03-14T22:25:23.726Z"
   },
   {
    "duration": -16,
    "start_time": "2022-03-14T22:25:23.727Z"
   },
   {
    "duration": -16,
    "start_time": "2022-03-14T22:25:23.728Z"
   },
   {
    "duration": -17,
    "start_time": "2022-03-14T22:25:23.730Z"
   },
   {
    "duration": -18,
    "start_time": "2022-03-14T22:25:23.732Z"
   },
   {
    "duration": -19,
    "start_time": "2022-03-14T22:25:23.734Z"
   },
   {
    "duration": 4,
    "start_time": "2022-03-14T22:26:31.925Z"
   },
   {
    "duration": 139,
    "start_time": "2022-03-14T22:26:31.931Z"
   },
   {
    "duration": 13,
    "start_time": "2022-03-14T22:26:32.072Z"
   },
   {
    "duration": 133,
    "start_time": "2022-03-14T22:26:32.087Z"
   },
   {
    "duration": 13,
    "start_time": "2022-03-14T22:26:32.222Z"
   },
   {
    "duration": 131,
    "start_time": "2022-03-14T22:26:32.237Z"
   },
   {
    "duration": 12,
    "start_time": "2022-03-14T22:26:32.370Z"
   },
   {
    "duration": 8,
    "start_time": "2022-03-14T22:26:32.385Z"
   },
   {
    "duration": 10,
    "start_time": "2022-03-14T22:26:32.395Z"
   },
   {
    "duration": 10,
    "start_time": "2022-03-14T22:26:32.406Z"
   },
   {
    "duration": 101,
    "start_time": "2022-03-14T22:26:32.417Z"
   },
   {
    "duration": 14,
    "start_time": "2022-03-14T22:26:32.520Z"
   },
   {
    "duration": 28,
    "start_time": "2022-03-14T22:26:32.536Z"
   },
   {
    "duration": 16,
    "start_time": "2022-03-14T22:26:32.566Z"
   },
   {
    "duration": 11,
    "start_time": "2022-03-14T22:26:32.584Z"
   },
   {
    "duration": 35,
    "start_time": "2022-03-14T22:26:32.596Z"
   },
   {
    "duration": 3,
    "start_time": "2022-03-14T22:26:32.632Z"
   },
   {
    "duration": 643,
    "start_time": "2022-03-14T22:26:32.637Z"
   },
   {
    "duration": 83,
    "start_time": "2022-03-14T22:26:33.199Z"
   },
   {
    "duration": 81,
    "start_time": "2022-03-14T22:26:33.202Z"
   },
   {
    "duration": 80,
    "start_time": "2022-03-14T22:26:33.204Z"
   },
   {
    "duration": 78,
    "start_time": "2022-03-14T22:26:33.207Z"
   },
   {
    "duration": 74,
    "start_time": "2022-03-14T22:26:33.212Z"
   },
   {
    "duration": 72,
    "start_time": "2022-03-14T22:26:33.215Z"
   },
   {
    "duration": 71,
    "start_time": "2022-03-14T22:26:33.217Z"
   },
   {
    "duration": 70,
    "start_time": "2022-03-14T22:26:33.219Z"
   },
   {
    "duration": 70,
    "start_time": "2022-03-14T22:26:33.220Z"
   },
   {
    "duration": 69,
    "start_time": "2022-03-14T22:26:33.222Z"
   },
   {
    "duration": 21,
    "start_time": "2022-03-14T22:26:33.271Z"
   },
   {
    "duration": 14,
    "start_time": "2022-03-14T22:26:33.280Z"
   },
   {
    "duration": 12,
    "start_time": "2022-03-14T22:26:33.283Z"
   },
   {
    "duration": 10,
    "start_time": "2022-03-14T22:26:33.286Z"
   },
   {
    "duration": 9,
    "start_time": "2022-03-14T22:26:33.288Z"
   },
   {
    "duration": 8,
    "start_time": "2022-03-14T22:26:33.290Z"
   },
   {
    "duration": 558,
    "start_time": "2022-03-14T22:30:55.228Z"
   },
   {
    "duration": 516,
    "start_time": "2022-03-14T22:31:06.687Z"
   },
   {
    "duration": 12,
    "start_time": "2022-03-14T22:31:28.108Z"
   },
   {
    "duration": 719,
    "start_time": "2022-03-14T22:43:08.466Z"
   },
   {
    "duration": 3,
    "start_time": "2022-03-14T22:43:33.021Z"
   },
   {
    "duration": 132,
    "start_time": "2022-03-14T22:43:33.026Z"
   },
   {
    "duration": 10,
    "start_time": "2022-03-14T22:43:33.160Z"
   },
   {
    "duration": 131,
    "start_time": "2022-03-14T22:43:33.172Z"
   },
   {
    "duration": 12,
    "start_time": "2022-03-14T22:43:33.305Z"
   },
   {
    "duration": 136,
    "start_time": "2022-03-14T22:43:33.319Z"
   },
   {
    "duration": 12,
    "start_time": "2022-03-14T22:43:33.457Z"
   },
   {
    "duration": 10,
    "start_time": "2022-03-14T22:43:33.471Z"
   },
   {
    "duration": 10,
    "start_time": "2022-03-14T22:43:33.483Z"
   },
   {
    "duration": 9,
    "start_time": "2022-03-14T22:43:33.495Z"
   },
   {
    "duration": 114,
    "start_time": "2022-03-14T22:43:33.505Z"
   },
   {
    "duration": 15,
    "start_time": "2022-03-14T22:43:33.621Z"
   },
   {
    "duration": 34,
    "start_time": "2022-03-14T22:43:33.638Z"
   },
   {
    "duration": 17,
    "start_time": "2022-03-14T22:43:33.673Z"
   },
   {
    "duration": 11,
    "start_time": "2022-03-14T22:43:33.692Z"
   },
   {
    "duration": 36,
    "start_time": "2022-03-14T22:43:33.705Z"
   },
   {
    "duration": 20,
    "start_time": "2022-03-14T22:43:33.743Z"
   },
   {
    "duration": 98,
    "start_time": "2022-03-14T22:43:33.765Z"
   },
   {
    "duration": 576,
    "start_time": "2022-03-14T22:43:33.867Z"
   },
   {
    "duration": 95,
    "start_time": "2022-03-14T22:43:34.350Z"
   },
   {
    "duration": 86,
    "start_time": "2022-03-14T22:43:34.360Z"
   },
   {
    "duration": 83,
    "start_time": "2022-03-14T22:43:34.364Z"
   },
   {
    "duration": 79,
    "start_time": "2022-03-14T22:43:34.369Z"
   },
   {
    "duration": 79,
    "start_time": "2022-03-14T22:43:34.370Z"
   },
   {
    "duration": 78,
    "start_time": "2022-03-14T22:43:34.372Z"
   },
   {
    "duration": 77,
    "start_time": "2022-03-14T22:43:34.374Z"
   },
   {
    "duration": 13,
    "start_time": "2022-03-14T22:43:34.439Z"
   },
   {
    "duration": 12,
    "start_time": "2022-03-14T22:43:34.441Z"
   },
   {
    "duration": 11,
    "start_time": "2022-03-14T22:43:34.443Z"
   },
   {
    "duration": 11,
    "start_time": "2022-03-14T22:43:34.444Z"
   },
   {
    "duration": 10,
    "start_time": "2022-03-14T22:43:34.446Z"
   },
   {
    "duration": 10,
    "start_time": "2022-03-14T22:43:34.447Z"
   },
   {
    "duration": 9,
    "start_time": "2022-03-14T22:43:34.449Z"
   },
   {
    "duration": 9,
    "start_time": "2022-03-14T22:43:34.450Z"
   },
   {
    "duration": 331,
    "start_time": "2022-03-14T22:44:52.615Z"
   },
   {
    "duration": 13,
    "start_time": "2022-03-14T22:45:43.406Z"
   },
   {
    "duration": 567,
    "start_time": "2022-03-14T22:49:18.901Z"
   },
   {
    "duration": 19,
    "start_time": "2022-03-14T22:49:32.846Z"
   },
   {
    "duration": 3,
    "start_time": "2022-03-14T22:49:42.759Z"
   },
   {
    "duration": 136,
    "start_time": "2022-03-14T22:49:42.764Z"
   },
   {
    "duration": 11,
    "start_time": "2022-03-14T22:49:42.902Z"
   },
   {
    "duration": 131,
    "start_time": "2022-03-14T22:49:42.914Z"
   },
   {
    "duration": 16,
    "start_time": "2022-03-14T22:49:43.047Z"
   },
   {
    "duration": 125,
    "start_time": "2022-03-14T22:49:43.064Z"
   },
   {
    "duration": 11,
    "start_time": "2022-03-14T22:49:43.191Z"
   },
   {
    "duration": 13,
    "start_time": "2022-03-14T22:49:43.205Z"
   },
   {
    "duration": 12,
    "start_time": "2022-03-14T22:49:43.221Z"
   },
   {
    "duration": 32,
    "start_time": "2022-03-14T22:49:43.235Z"
   },
   {
    "duration": 93,
    "start_time": "2022-03-14T22:49:43.269Z"
   },
   {
    "duration": 16,
    "start_time": "2022-03-14T22:49:43.364Z"
   },
   {
    "duration": 30,
    "start_time": "2022-03-14T22:49:43.382Z"
   },
   {
    "duration": 23,
    "start_time": "2022-03-14T22:49:43.415Z"
   },
   {
    "duration": 10,
    "start_time": "2022-03-14T22:49:43.440Z"
   },
   {
    "duration": 41,
    "start_time": "2022-03-14T22:49:43.452Z"
   },
   {
    "duration": 3,
    "start_time": "2022-03-14T22:49:43.495Z"
   },
   {
    "duration": 64,
    "start_time": "2022-03-14T22:49:43.500Z"
   },
   {
    "duration": 102,
    "start_time": "2022-03-14T22:49:43.567Z"
   },
   {
    "duration": 195,
    "start_time": "2022-03-14T22:49:43.672Z"
   },
   {
    "duration": 1115,
    "start_time": "2022-03-14T22:49:43.869Z"
   },
   {
    "duration": 1229,
    "start_time": "2022-03-14T22:49:44.986Z"
   },
   {
    "duration": 2,
    "start_time": "2022-03-14T22:49:46.219Z"
   },
   {
    "duration": 10,
    "start_time": "2022-03-14T22:49:46.223Z"
   },
   {
    "duration": 5,
    "start_time": "2022-03-14T22:49:46.235Z"
   },
   {
    "duration": 22,
    "start_time": "2022-03-14T22:49:46.242Z"
   },
   {
    "duration": 4,
    "start_time": "2022-03-14T22:49:46.266Z"
   },
   {
    "duration": 11,
    "start_time": "2022-03-14T22:49:46.272Z"
   },
   {
    "duration": 8,
    "start_time": "2022-03-14T22:49:46.285Z"
   },
   {
    "duration": 8,
    "start_time": "2022-03-14T22:49:46.295Z"
   },
   {
    "duration": 5,
    "start_time": "2022-03-14T22:49:46.305Z"
   },
   {
    "duration": 1660,
    "start_time": "2022-03-14T22:49:46.311Z"
   },
   {
    "duration": 1609,
    "start_time": "2022-03-14T22:49:47.973Z"
   },
   {
    "duration": 1605,
    "start_time": "2022-03-14T22:49:49.584Z"
   },
   {
    "duration": 3,
    "start_time": "2022-03-14T22:52:42.666Z"
   },
   {
    "duration": 127,
    "start_time": "2022-03-14T22:52:42.671Z"
   },
   {
    "duration": 11,
    "start_time": "2022-03-14T22:52:42.800Z"
   },
   {
    "duration": 135,
    "start_time": "2022-03-14T22:52:42.813Z"
   },
   {
    "duration": 15,
    "start_time": "2022-03-14T22:52:42.950Z"
   },
   {
    "duration": 127,
    "start_time": "2022-03-14T22:52:42.967Z"
   },
   {
    "duration": 11,
    "start_time": "2022-03-14T22:52:43.096Z"
   },
   {
    "duration": 8,
    "start_time": "2022-03-14T22:52:43.108Z"
   },
   {
    "duration": 10,
    "start_time": "2022-03-14T22:52:43.119Z"
   },
   {
    "duration": 9,
    "start_time": "2022-03-14T22:52:43.131Z"
   },
   {
    "duration": 104,
    "start_time": "2022-03-14T22:52:43.141Z"
   },
   {
    "duration": 26,
    "start_time": "2022-03-14T22:52:43.246Z"
   },
   {
    "duration": 15,
    "start_time": "2022-03-14T22:52:43.274Z"
   },
   {
    "duration": 17,
    "start_time": "2022-03-14T22:52:43.291Z"
   },
   {
    "duration": 9,
    "start_time": "2022-03-14T22:52:43.309Z"
   },
   {
    "duration": 63,
    "start_time": "2022-03-14T22:52:43.320Z"
   },
   {
    "duration": 3,
    "start_time": "2022-03-14T22:52:43.385Z"
   },
   {
    "duration": 78,
    "start_time": "2022-03-14T22:52:43.390Z"
   },
   {
    "duration": 103,
    "start_time": "2022-03-14T22:52:43.470Z"
   },
   {
    "duration": 189,
    "start_time": "2022-03-14T22:52:43.575Z"
   },
   {
    "duration": 988,
    "start_time": "2022-03-14T22:52:43.767Z"
   },
   {
    "duration": 1111,
    "start_time": "2022-03-14T22:52:44.762Z"
   },
   {
    "duration": 4,
    "start_time": "2022-03-14T22:52:45.875Z"
   },
   {
    "duration": 6,
    "start_time": "2022-03-14T22:52:45.880Z"
   },
   {
    "duration": 3,
    "start_time": "2022-03-14T22:52:45.888Z"
   },
   {
    "duration": 9,
    "start_time": "2022-03-14T22:52:45.893Z"
   },
   {
    "duration": 4,
    "start_time": "2022-03-14T22:52:45.906Z"
   },
   {
    "duration": 10,
    "start_time": "2022-03-14T22:52:45.912Z"
   },
   {
    "duration": 10,
    "start_time": "2022-03-14T22:52:45.964Z"
   },
   {
    "duration": 9,
    "start_time": "2022-03-14T22:52:45.976Z"
   },
   {
    "duration": 6,
    "start_time": "2022-03-14T22:52:45.986Z"
   },
   {
    "duration": 1612,
    "start_time": "2022-03-14T22:52:45.994Z"
   },
   {
    "duration": 1711,
    "start_time": "2022-03-14T22:52:47.609Z"
   },
   {
    "duration": 1606,
    "start_time": "2022-03-14T22:52:49.322Z"
   }
  ],
  "kernelspec": {
   "display_name": "Python 3 (ipykernel)",
   "language": "python",
   "name": "python3"
  },
  "language_info": {
   "codemirror_mode": {
    "name": "ipython",
    "version": 3
   },
   "file_extension": ".py",
   "mimetype": "text/x-python",
   "name": "python",
   "nbconvert_exporter": "python",
   "pygments_lexer": "ipython3",
   "version": "3.9.7"
  },
  "toc": {
   "base_numbering": 1,
   "nav_menu": {},
   "number_sections": true,
   "sideBar": true,
   "skip_h1_title": true,
   "title_cell": "Table of Contents",
   "title_sidebar": "Contents",
   "toc_cell": false,
   "toc_position": {},
   "toc_section_display": true,
   "toc_window_display": false
  }
 },
 "nbformat": 4,
 "nbformat_minor": 2
}
