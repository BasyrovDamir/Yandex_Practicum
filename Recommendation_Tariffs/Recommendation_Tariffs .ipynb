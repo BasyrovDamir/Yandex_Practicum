{
 "cells": [
  {
   "cell_type": "markdown",
   "metadata": {
    "toc": true
   },
   "source": [
    "<h1>Содержание<span class=\"tocSkip\"></span></h1>\n",
    "<div class=\"toc\"><ul class=\"toc-item\"><li><span><a href=\"#Подготовка-данных\" data-toc-modified-id=\"Подготовка-данных-1\"><span class=\"toc-item-num\">1&nbsp;&nbsp;</span>Подготовка данных</a></span><ul class=\"toc-item\"><li><span><a href=\"#Заменим-пропуски\" data-toc-modified-id=\"Заменим-пропуски-1.1\"><span class=\"toc-item-num\">1.1&nbsp;&nbsp;</span>Заменим пропуски</a></span></li><li><span><a href=\"#Удалим-столбцы-CustomerId,-RowNumber,-Surname\" data-toc-modified-id=\"Удалим-столбцы-CustomerId,-RowNumber,-Surname-1.2\"><span class=\"toc-item-num\">1.2&nbsp;&nbsp;</span>Удалим столбцы CustomerId, RowNumber, Surname</a></span></li><li><span><a href=\"#Преобразуем-методом-OHE-Geography-и----Gender\" data-toc-modified-id=\"Преобразуем-методом-OHE-Geography-и----Gender-1.3\"><span class=\"toc-item-num\">1.3&nbsp;&nbsp;</span>Преобразуем методом OHE Geography и    Gender</a></span></li><li><span><a href=\"#Масштабируем-численные-признаки-выборок-для-выравнивания-весов\" data-toc-modified-id=\"Масштабируем-численные-признаки-выборок-для-выравнивания-весов-1.4\"><span class=\"toc-item-num\">1.4&nbsp;&nbsp;</span>Масштабируем численные признаки выборок для выравнивания весов</a></span></li></ul></li><li><span><a href=\"#Исследование-задачи\" data-toc-modified-id=\"Исследование-задачи-2\"><span class=\"toc-item-num\">2&nbsp;&nbsp;</span>Исследование задачи</a></span><ul class=\"toc-item\"><li><span><a href=\"#Баланс-данных\" data-toc-modified-id=\"Баланс-данных-2.1\"><span class=\"toc-item-num\">2.1&nbsp;&nbsp;</span>Баланс данных</a></span></li></ul></li><li><span><a href=\"#Борьба-с-дисбалансом\" data-toc-modified-id=\"Борьба-с-дисбалансом-3\"><span class=\"toc-item-num\">3&nbsp;&nbsp;</span>Борьба с дисбалансом</a></span></li><li><span><a href=\"#Тестирование-модели\" data-toc-modified-id=\"Тестирование-модели-4\"><span class=\"toc-item-num\">4&nbsp;&nbsp;</span>Тестирование модели</a></span></li><li><span><a href=\"#Чек-лист-готовности-проекта\" data-toc-modified-id=\"Чек-лист-готовности-проекта-5\"><span class=\"toc-item-num\">5&nbsp;&nbsp;</span>Чек-лист готовности проекта</a></span></li></ul></div>"
   ]
  },
  {
   "cell_type": "markdown",
   "metadata": {},
   "source": [
    "# Отток клиентов"
   ]
  },
  {
   "cell_type": "markdown",
   "metadata": {},
   "source": [
    "Из «Бета-Банка» стали уходить клиенты. Каждый месяц. Немного, но заметно. Банковские маркетологи посчитали: сохранять текущих клиентов дешевле, чем привлекать новых.\n",
    "\n",
    "Нужно спрогнозировать, уйдёт клиент из банка в ближайшее время или нет. Вам предоставлены исторические данные о поведении клиентов и расторжении договоров с банком. \n",
    "\n",
    "Постройте модель с предельно большим значением *F1*-меры. Чтобы сдать проект успешно, нужно довести метрику до 0.59. Проверьте *F1*-меру на тестовой выборке самостоятельно.\n",
    "\n",
    "Дополнительно измеряйте *AUC-ROC*, сравнивайте её значение с *F1*-мерой.\n",
    "\n",
    "Источник данных: [https://www.kaggle.com/barelydedicated/bank-customer-churn-modeling](https://www.kaggle.com/barelydedicated/bank-customer-churn-modeling)"
   ]
  },
  {
   "cell_type": "markdown",
   "metadata": {},
   "source": [
    "###### Инструкция по выполнению проекта\n",
    "- Загрузите и подготовьте данные. Поясните порядок действий.\n",
    "- Исследуйте баланс классов, обучите модель без учёта дисбаланса. Кратко опишите выводы.\n",
    "- Улучшите качество модели, учитывая дисбаланс классов. Обучите разные модели и найдите лучшую. Кратко опишите выводы.\n",
    "- Проведите финальное тестирование.\n",
    "###### Описание данных\n",
    "- Данные находятся в файле /datasets/Churn.csv (англ. «отток клиентов»). Скачать датасет\n",
    "###### Признаки\n",
    "- RowNumber — индекс строки в данных\n",
    "- CustomerId — уникальный идентификатор клиента\n",
    "- Surname — фамилия\n",
    "- CreditScore — кредитный рейтинг\n",
    "- Geography — страна проживания\n",
    "- Gender — пол\n",
    "- Age — возраст\n",
    "- Tenure — сколько лет человек является клиентом банка\n",
    "- Balance — баланс на счёте\n",
    "- NumOfProducts — количество продуктов банка, используемых клиентом\n",
    "- HasCrCard — наличие кредитной карты\n",
    "- IsActiveMember — активность клиента\n",
    "- EstimatedSalary — предполагаемая зарплата\n",
    "###### Целевой признак\n",
    "- Exited — факт ухода клиента"
   ]
  },
  {
   "cell_type": "markdown",
   "metadata": {},
   "source": [
    "## Подготовка данных"
   ]
  },
  {
   "cell_type": "code",
   "execution_count": 13,
   "metadata": {},
   "outputs": [],
   "source": [
    "import pandas as pd\n",
    "import numpy as np\n",
    "from sklearn.preprocessing import OrdinalEncoder\n",
    "from sklearn.model_selection import train_test_split\n",
    "from sklearn.preprocessing import StandardScaler\n",
    "from sklearn.pipeline import make_pipeline\n",
    "from sklearn.linear_model import LogisticRegression\n",
    "from sklearn.metrics import recall_score\n",
    "from sklearn.metrics import precision_score\n",
    "from sklearn.metrics import f1_score\n",
    "from sklearn.metrics import roc_auc_score\n",
    "from sklearn.metrics import roc_curve\n",
    "from sklearn.metrics import confusion_matrix\n",
    "from sklearn.metrics import accuracy_score\n",
    "import matplotlib.pyplot as plt\n",
    "from sklearn.utils import shuffle\n",
    "from sklearn.ensemble import RandomForestClassifier\n",
    "from sklearn.tree import DecisionTreeClassifier\n",
    "import warnings\n",
    "warnings.filterwarnings('ignore')"
   ]
  },
  {
   "cell_type": "code",
   "execution_count": 14,
   "metadata": {},
   "outputs": [],
   "source": [
    "data = pd.read_csv('/datasets/Churn.csv')"
   ]
  },
  {
   "cell_type": "code",
   "execution_count": 15,
   "metadata": {},
   "outputs": [
    {
     "data": {
      "text/html": [
       "<div>\n",
       "<style scoped>\n",
       "    .dataframe tbody tr th:only-of-type {\n",
       "        vertical-align: middle;\n",
       "    }\n",
       "\n",
       "    .dataframe tbody tr th {\n",
       "        vertical-align: top;\n",
       "    }\n",
       "\n",
       "    .dataframe thead th {\n",
       "        text-align: right;\n",
       "    }\n",
       "</style>\n",
       "<table border=\"1\" class=\"dataframe\">\n",
       "  <thead>\n",
       "    <tr style=\"text-align: right;\">\n",
       "      <th></th>\n",
       "      <th>RowNumber</th>\n",
       "      <th>CustomerId</th>\n",
       "      <th>Surname</th>\n",
       "      <th>CreditScore</th>\n",
       "      <th>Geography</th>\n",
       "      <th>Gender</th>\n",
       "      <th>Age</th>\n",
       "      <th>Tenure</th>\n",
       "      <th>Balance</th>\n",
       "      <th>NumOfProducts</th>\n",
       "      <th>HasCrCard</th>\n",
       "      <th>IsActiveMember</th>\n",
       "      <th>EstimatedSalary</th>\n",
       "      <th>Exited</th>\n",
       "    </tr>\n",
       "  </thead>\n",
       "  <tbody>\n",
       "    <tr>\n",
       "      <td>0</td>\n",
       "      <td>1</td>\n",
       "      <td>15634602</td>\n",
       "      <td>Hargrave</td>\n",
       "      <td>619</td>\n",
       "      <td>France</td>\n",
       "      <td>Female</td>\n",
       "      <td>42</td>\n",
       "      <td>2.0</td>\n",
       "      <td>0.00</td>\n",
       "      <td>1</td>\n",
       "      <td>1</td>\n",
       "      <td>1</td>\n",
       "      <td>101348.88</td>\n",
       "      <td>1</td>\n",
       "    </tr>\n",
       "    <tr>\n",
       "      <td>1</td>\n",
       "      <td>2</td>\n",
       "      <td>15647311</td>\n",
       "      <td>Hill</td>\n",
       "      <td>608</td>\n",
       "      <td>Spain</td>\n",
       "      <td>Female</td>\n",
       "      <td>41</td>\n",
       "      <td>1.0</td>\n",
       "      <td>83807.86</td>\n",
       "      <td>1</td>\n",
       "      <td>0</td>\n",
       "      <td>1</td>\n",
       "      <td>112542.58</td>\n",
       "      <td>0</td>\n",
       "    </tr>\n",
       "    <tr>\n",
       "      <td>2</td>\n",
       "      <td>3</td>\n",
       "      <td>15619304</td>\n",
       "      <td>Onio</td>\n",
       "      <td>502</td>\n",
       "      <td>France</td>\n",
       "      <td>Female</td>\n",
       "      <td>42</td>\n",
       "      <td>8.0</td>\n",
       "      <td>159660.80</td>\n",
       "      <td>3</td>\n",
       "      <td>1</td>\n",
       "      <td>0</td>\n",
       "      <td>113931.57</td>\n",
       "      <td>1</td>\n",
       "    </tr>\n",
       "    <tr>\n",
       "      <td>3</td>\n",
       "      <td>4</td>\n",
       "      <td>15701354</td>\n",
       "      <td>Boni</td>\n",
       "      <td>699</td>\n",
       "      <td>France</td>\n",
       "      <td>Female</td>\n",
       "      <td>39</td>\n",
       "      <td>1.0</td>\n",
       "      <td>0.00</td>\n",
       "      <td>2</td>\n",
       "      <td>0</td>\n",
       "      <td>0</td>\n",
       "      <td>93826.63</td>\n",
       "      <td>0</td>\n",
       "    </tr>\n",
       "    <tr>\n",
       "      <td>4</td>\n",
       "      <td>5</td>\n",
       "      <td>15737888</td>\n",
       "      <td>Mitchell</td>\n",
       "      <td>850</td>\n",
       "      <td>Spain</td>\n",
       "      <td>Female</td>\n",
       "      <td>43</td>\n",
       "      <td>2.0</td>\n",
       "      <td>125510.82</td>\n",
       "      <td>1</td>\n",
       "      <td>1</td>\n",
       "      <td>1</td>\n",
       "      <td>79084.10</td>\n",
       "      <td>0</td>\n",
       "    </tr>\n",
       "    <tr>\n",
       "      <td>...</td>\n",
       "      <td>...</td>\n",
       "      <td>...</td>\n",
       "      <td>...</td>\n",
       "      <td>...</td>\n",
       "      <td>...</td>\n",
       "      <td>...</td>\n",
       "      <td>...</td>\n",
       "      <td>...</td>\n",
       "      <td>...</td>\n",
       "      <td>...</td>\n",
       "      <td>...</td>\n",
       "      <td>...</td>\n",
       "      <td>...</td>\n",
       "      <td>...</td>\n",
       "    </tr>\n",
       "    <tr>\n",
       "      <td>9995</td>\n",
       "      <td>9996</td>\n",
       "      <td>15606229</td>\n",
       "      <td>Obijiaku</td>\n",
       "      <td>771</td>\n",
       "      <td>France</td>\n",
       "      <td>Male</td>\n",
       "      <td>39</td>\n",
       "      <td>5.0</td>\n",
       "      <td>0.00</td>\n",
       "      <td>2</td>\n",
       "      <td>1</td>\n",
       "      <td>0</td>\n",
       "      <td>96270.64</td>\n",
       "      <td>0</td>\n",
       "    </tr>\n",
       "    <tr>\n",
       "      <td>9996</td>\n",
       "      <td>9997</td>\n",
       "      <td>15569892</td>\n",
       "      <td>Johnstone</td>\n",
       "      <td>516</td>\n",
       "      <td>France</td>\n",
       "      <td>Male</td>\n",
       "      <td>35</td>\n",
       "      <td>10.0</td>\n",
       "      <td>57369.61</td>\n",
       "      <td>1</td>\n",
       "      <td>1</td>\n",
       "      <td>1</td>\n",
       "      <td>101699.77</td>\n",
       "      <td>0</td>\n",
       "    </tr>\n",
       "    <tr>\n",
       "      <td>9997</td>\n",
       "      <td>9998</td>\n",
       "      <td>15584532</td>\n",
       "      <td>Liu</td>\n",
       "      <td>709</td>\n",
       "      <td>France</td>\n",
       "      <td>Female</td>\n",
       "      <td>36</td>\n",
       "      <td>7.0</td>\n",
       "      <td>0.00</td>\n",
       "      <td>1</td>\n",
       "      <td>0</td>\n",
       "      <td>1</td>\n",
       "      <td>42085.58</td>\n",
       "      <td>1</td>\n",
       "    </tr>\n",
       "    <tr>\n",
       "      <td>9998</td>\n",
       "      <td>9999</td>\n",
       "      <td>15682355</td>\n",
       "      <td>Sabbatini</td>\n",
       "      <td>772</td>\n",
       "      <td>Germany</td>\n",
       "      <td>Male</td>\n",
       "      <td>42</td>\n",
       "      <td>3.0</td>\n",
       "      <td>75075.31</td>\n",
       "      <td>2</td>\n",
       "      <td>1</td>\n",
       "      <td>0</td>\n",
       "      <td>92888.52</td>\n",
       "      <td>1</td>\n",
       "    </tr>\n",
       "    <tr>\n",
       "      <td>9999</td>\n",
       "      <td>10000</td>\n",
       "      <td>15628319</td>\n",
       "      <td>Walker</td>\n",
       "      <td>792</td>\n",
       "      <td>France</td>\n",
       "      <td>Female</td>\n",
       "      <td>28</td>\n",
       "      <td>NaN</td>\n",
       "      <td>130142.79</td>\n",
       "      <td>1</td>\n",
       "      <td>1</td>\n",
       "      <td>0</td>\n",
       "      <td>38190.78</td>\n",
       "      <td>0</td>\n",
       "    </tr>\n",
       "  </tbody>\n",
       "</table>\n",
       "<p>10000 rows × 14 columns</p>\n",
       "</div>"
      ],
      "text/plain": [
       "      RowNumber  CustomerId    Surname  CreditScore Geography  Gender  Age  \\\n",
       "0             1    15634602   Hargrave          619    France  Female   42   \n",
       "1             2    15647311       Hill          608     Spain  Female   41   \n",
       "2             3    15619304       Onio          502    France  Female   42   \n",
       "3             4    15701354       Boni          699    France  Female   39   \n",
       "4             5    15737888   Mitchell          850     Spain  Female   43   \n",
       "...         ...         ...        ...          ...       ...     ...  ...   \n",
       "9995       9996    15606229   Obijiaku          771    France    Male   39   \n",
       "9996       9997    15569892  Johnstone          516    France    Male   35   \n",
       "9997       9998    15584532        Liu          709    France  Female   36   \n",
       "9998       9999    15682355  Sabbatini          772   Germany    Male   42   \n",
       "9999      10000    15628319     Walker          792    France  Female   28   \n",
       "\n",
       "      Tenure    Balance  NumOfProducts  HasCrCard  IsActiveMember  \\\n",
       "0        2.0       0.00              1          1               1   \n",
       "1        1.0   83807.86              1          0               1   \n",
       "2        8.0  159660.80              3          1               0   \n",
       "3        1.0       0.00              2          0               0   \n",
       "4        2.0  125510.82              1          1               1   \n",
       "...      ...        ...            ...        ...             ...   \n",
       "9995     5.0       0.00              2          1               0   \n",
       "9996    10.0   57369.61              1          1               1   \n",
       "9997     7.0       0.00              1          0               1   \n",
       "9998     3.0   75075.31              2          1               0   \n",
       "9999     NaN  130142.79              1          1               0   \n",
       "\n",
       "      EstimatedSalary  Exited  \n",
       "0           101348.88       1  \n",
       "1           112542.58       0  \n",
       "2           113931.57       1  \n",
       "3            93826.63       0  \n",
       "4            79084.10       0  \n",
       "...               ...     ...  \n",
       "9995         96270.64       0  \n",
       "9996        101699.77       0  \n",
       "9997         42085.58       1  \n",
       "9998         92888.52       1  \n",
       "9999         38190.78       0  \n",
       "\n",
       "[10000 rows x 14 columns]"
      ]
     },
     "execution_count": 15,
     "metadata": {},
     "output_type": "execute_result"
    }
   ],
   "source": [
    "data"
   ]
  },
  {
   "cell_type": "code",
   "execution_count": 16,
   "metadata": {},
   "outputs": [
    {
     "name": "stdout",
     "output_type": "stream",
     "text": [
      "<class 'pandas.core.frame.DataFrame'>\n",
      "RangeIndex: 10000 entries, 0 to 9999\n",
      "Data columns (total 14 columns):\n",
      "RowNumber          10000 non-null int64\n",
      "CustomerId         10000 non-null int64\n",
      "Surname            10000 non-null object\n",
      "CreditScore        10000 non-null int64\n",
      "Geography          10000 non-null object\n",
      "Gender             10000 non-null object\n",
      "Age                10000 non-null int64\n",
      "Tenure             9091 non-null float64\n",
      "Balance            10000 non-null float64\n",
      "NumOfProducts      10000 non-null int64\n",
      "HasCrCard          10000 non-null int64\n",
      "IsActiveMember     10000 non-null int64\n",
      "EstimatedSalary    10000 non-null float64\n",
      "Exited             10000 non-null int64\n",
      "dtypes: float64(3), int64(8), object(3)\n",
      "memory usage: 1.1+ MB\n"
     ]
    }
   ],
   "source": [
    "data.info()"
   ]
  },
  {
   "cell_type": "code",
   "execution_count": 17,
   "metadata": {},
   "outputs": [
    {
     "data": {
      "text/plain": [
       "RowNumber            0\n",
       "CustomerId           0\n",
       "Surname              0\n",
       "CreditScore          0\n",
       "Geography            0\n",
       "Gender               0\n",
       "Age                  0\n",
       "Tenure             909\n",
       "Balance              0\n",
       "NumOfProducts        0\n",
       "HasCrCard            0\n",
       "IsActiveMember       0\n",
       "EstimatedSalary      0\n",
       "Exited               0\n",
       "dtype: int64"
      ]
     },
     "execution_count": 17,
     "metadata": {},
     "output_type": "execute_result"
    }
   ],
   "source": [
    "data.isnull().sum()"
   ]
  },
  {
   "cell_type": "markdown",
   "metadata": {},
   "source": [
    "###### Вывод\n",
    "- Данные состоят из 10000 строк и 14 столбцов\n",
    "- Целевой признак для нашей задачи – Exited, т.е. модель, которую мы попытаемся построить, будет предсказывать значение 1 если клиент уйдет или 0 если клиент останется.\n",
    "- Geography, Gender — преобразовать методом One hot encoder\n",
    "- Так же нужно обработать пропуски в столбце Tenure.\n",
    "- удалим 'CustomerId', RowNumber и 'Surname', так как они бесполезны для прогнозирования Exited\n",
    "- CreditScore, Age, Tenur, Balance, NumOfProducts, EstimatedSalary — масштабируем"
   ]
  },
  {
   "cell_type": "markdown",
   "metadata": {},
   "source": [
    "# Предобработка данных"
   ]
  },
  {
   "cell_type": "markdown",
   "metadata": {},
   "source": [
    "### Заменим пропуски"
   ]
  },
  {
   "cell_type": "markdown",
   "metadata": {},
   "source": [
    "- Заменим пропуски в столбце Tenure на случайные значения"
   ]
  },
  {
   "cell_type": "code",
   "execution_count": 18,
   "metadata": {},
   "outputs": [
    {
     "data": {
      "text/plain": [
       "2.0     0.10\n",
       "1.0     0.10\n",
       "3.0     0.10\n",
       "8.0     0.10\n",
       "5.0     0.10\n",
       "4.0     0.10\n",
       "7.0     0.10\n",
       "6.0     0.10\n",
       "9.0     0.10\n",
       "10.0    0.05\n",
       "0.0     0.05\n",
       "Name: Tenure, dtype: float64"
      ]
     },
     "execution_count": 18,
     "metadata": {},
     "output_type": "execute_result"
    }
   ],
   "source": [
    "#Зафиксируем последовательность случайнеых чисел\n",
    "np.random.seed(12345)\n",
    "#Заполняем пропуски\n",
    "data.loc[data['Tenure'].isna(), 'Tenure'] = pd.Series(np.random.randint(0, 11, len(data)))\n",
    "#Посмотрим распределение после заполнения пропусков\n",
    "data['Tenure'].value_counts(normalize=True).round(2)"
   ]
  },
  {
   "cell_type": "markdown",
   "metadata": {},
   "source": [
    "### Удалим столбцы CustomerId, RowNumber, Surname"
   ]
  },
  {
   "cell_type": "code",
   "execution_count": 19,
   "metadata": {},
   "outputs": [],
   "source": [
    "data = data.drop(['RowNumber','CustomerId','Surname'], axis=1)"
   ]
  },
  {
   "cell_type": "code",
   "execution_count": 20,
   "metadata": {},
   "outputs": [
    {
     "data": {
      "text/html": [
       "<div>\n",
       "<style scoped>\n",
       "    .dataframe tbody tr th:only-of-type {\n",
       "        vertical-align: middle;\n",
       "    }\n",
       "\n",
       "    .dataframe tbody tr th {\n",
       "        vertical-align: top;\n",
       "    }\n",
       "\n",
       "    .dataframe thead th {\n",
       "        text-align: right;\n",
       "    }\n",
       "</style>\n",
       "<table border=\"1\" class=\"dataframe\">\n",
       "  <thead>\n",
       "    <tr style=\"text-align: right;\">\n",
       "      <th></th>\n",
       "      <th>CreditScore</th>\n",
       "      <th>Geography</th>\n",
       "      <th>Gender</th>\n",
       "      <th>Age</th>\n",
       "      <th>Tenure</th>\n",
       "      <th>Balance</th>\n",
       "      <th>NumOfProducts</th>\n",
       "      <th>HasCrCard</th>\n",
       "      <th>IsActiveMember</th>\n",
       "      <th>EstimatedSalary</th>\n",
       "      <th>Exited</th>\n",
       "    </tr>\n",
       "  </thead>\n",
       "  <tbody>\n",
       "    <tr>\n",
       "      <td>0</td>\n",
       "      <td>619</td>\n",
       "      <td>France</td>\n",
       "      <td>Female</td>\n",
       "      <td>42</td>\n",
       "      <td>2.0</td>\n",
       "      <td>0.00</td>\n",
       "      <td>1</td>\n",
       "      <td>1</td>\n",
       "      <td>1</td>\n",
       "      <td>101348.88</td>\n",
       "      <td>1</td>\n",
       "    </tr>\n",
       "    <tr>\n",
       "      <td>1</td>\n",
       "      <td>608</td>\n",
       "      <td>Spain</td>\n",
       "      <td>Female</td>\n",
       "      <td>41</td>\n",
       "      <td>1.0</td>\n",
       "      <td>83807.86</td>\n",
       "      <td>1</td>\n",
       "      <td>0</td>\n",
       "      <td>1</td>\n",
       "      <td>112542.58</td>\n",
       "      <td>0</td>\n",
       "    </tr>\n",
       "    <tr>\n",
       "      <td>2</td>\n",
       "      <td>502</td>\n",
       "      <td>France</td>\n",
       "      <td>Female</td>\n",
       "      <td>42</td>\n",
       "      <td>8.0</td>\n",
       "      <td>159660.80</td>\n",
       "      <td>3</td>\n",
       "      <td>1</td>\n",
       "      <td>0</td>\n",
       "      <td>113931.57</td>\n",
       "      <td>1</td>\n",
       "    </tr>\n",
       "    <tr>\n",
       "      <td>3</td>\n",
       "      <td>699</td>\n",
       "      <td>France</td>\n",
       "      <td>Female</td>\n",
       "      <td>39</td>\n",
       "      <td>1.0</td>\n",
       "      <td>0.00</td>\n",
       "      <td>2</td>\n",
       "      <td>0</td>\n",
       "      <td>0</td>\n",
       "      <td>93826.63</td>\n",
       "      <td>0</td>\n",
       "    </tr>\n",
       "    <tr>\n",
       "      <td>4</td>\n",
       "      <td>850</td>\n",
       "      <td>Spain</td>\n",
       "      <td>Female</td>\n",
       "      <td>43</td>\n",
       "      <td>2.0</td>\n",
       "      <td>125510.82</td>\n",
       "      <td>1</td>\n",
       "      <td>1</td>\n",
       "      <td>1</td>\n",
       "      <td>79084.10</td>\n",
       "      <td>0</td>\n",
       "    </tr>\n",
       "    <tr>\n",
       "      <td>...</td>\n",
       "      <td>...</td>\n",
       "      <td>...</td>\n",
       "      <td>...</td>\n",
       "      <td>...</td>\n",
       "      <td>...</td>\n",
       "      <td>...</td>\n",
       "      <td>...</td>\n",
       "      <td>...</td>\n",
       "      <td>...</td>\n",
       "      <td>...</td>\n",
       "      <td>...</td>\n",
       "    </tr>\n",
       "    <tr>\n",
       "      <td>9995</td>\n",
       "      <td>771</td>\n",
       "      <td>France</td>\n",
       "      <td>Male</td>\n",
       "      <td>39</td>\n",
       "      <td>5.0</td>\n",
       "      <td>0.00</td>\n",
       "      <td>2</td>\n",
       "      <td>1</td>\n",
       "      <td>0</td>\n",
       "      <td>96270.64</td>\n",
       "      <td>0</td>\n",
       "    </tr>\n",
       "    <tr>\n",
       "      <td>9996</td>\n",
       "      <td>516</td>\n",
       "      <td>France</td>\n",
       "      <td>Male</td>\n",
       "      <td>35</td>\n",
       "      <td>10.0</td>\n",
       "      <td>57369.61</td>\n",
       "      <td>1</td>\n",
       "      <td>1</td>\n",
       "      <td>1</td>\n",
       "      <td>101699.77</td>\n",
       "      <td>0</td>\n",
       "    </tr>\n",
       "    <tr>\n",
       "      <td>9997</td>\n",
       "      <td>709</td>\n",
       "      <td>France</td>\n",
       "      <td>Female</td>\n",
       "      <td>36</td>\n",
       "      <td>7.0</td>\n",
       "      <td>0.00</td>\n",
       "      <td>1</td>\n",
       "      <td>0</td>\n",
       "      <td>1</td>\n",
       "      <td>42085.58</td>\n",
       "      <td>1</td>\n",
       "    </tr>\n",
       "    <tr>\n",
       "      <td>9998</td>\n",
       "      <td>772</td>\n",
       "      <td>Germany</td>\n",
       "      <td>Male</td>\n",
       "      <td>42</td>\n",
       "      <td>3.0</td>\n",
       "      <td>75075.31</td>\n",
       "      <td>2</td>\n",
       "      <td>1</td>\n",
       "      <td>0</td>\n",
       "      <td>92888.52</td>\n",
       "      <td>1</td>\n",
       "    </tr>\n",
       "    <tr>\n",
       "      <td>9999</td>\n",
       "      <td>792</td>\n",
       "      <td>France</td>\n",
       "      <td>Female</td>\n",
       "      <td>28</td>\n",
       "      <td>2.0</td>\n",
       "      <td>130142.79</td>\n",
       "      <td>1</td>\n",
       "      <td>1</td>\n",
       "      <td>0</td>\n",
       "      <td>38190.78</td>\n",
       "      <td>0</td>\n",
       "    </tr>\n",
       "  </tbody>\n",
       "</table>\n",
       "<p>10000 rows × 11 columns</p>\n",
       "</div>"
      ],
      "text/plain": [
       "      CreditScore Geography  Gender  Age  Tenure    Balance  NumOfProducts  \\\n",
       "0             619    France  Female   42     2.0       0.00              1   \n",
       "1             608     Spain  Female   41     1.0   83807.86              1   \n",
       "2             502    France  Female   42     8.0  159660.80              3   \n",
       "3             699    France  Female   39     1.0       0.00              2   \n",
       "4             850     Spain  Female   43     2.0  125510.82              1   \n",
       "...           ...       ...     ...  ...     ...        ...            ...   \n",
       "9995          771    France    Male   39     5.0       0.00              2   \n",
       "9996          516    France    Male   35    10.0   57369.61              1   \n",
       "9997          709    France  Female   36     7.0       0.00              1   \n",
       "9998          772   Germany    Male   42     3.0   75075.31              2   \n",
       "9999          792    France  Female   28     2.0  130142.79              1   \n",
       "\n",
       "      HasCrCard  IsActiveMember  EstimatedSalary  Exited  \n",
       "0             1               1        101348.88       1  \n",
       "1             0               1        112542.58       0  \n",
       "2             1               0        113931.57       1  \n",
       "3             0               0         93826.63       0  \n",
       "4             1               1         79084.10       0  \n",
       "...         ...             ...              ...     ...  \n",
       "9995          1               0         96270.64       0  \n",
       "9996          1               1        101699.77       0  \n",
       "9997          0               1         42085.58       1  \n",
       "9998          1               0         92888.52       1  \n",
       "9999          1               0         38190.78       0  \n",
       "\n",
       "[10000 rows x 11 columns]"
      ]
     },
     "execution_count": 20,
     "metadata": {},
     "output_type": "execute_result"
    }
   ],
   "source": [
    "data"
   ]
  },
  {
   "cell_type": "markdown",
   "metadata": {},
   "source": [
    "### Преобразуем методом OHE Geography и\tGender"
   ]
  },
  {
   "cell_type": "code",
   "execution_count": 21,
   "metadata": {
    "scrolled": false
   },
   "outputs": [
    {
     "data": {
      "text/html": [
       "<div>\n",
       "<style scoped>\n",
       "    .dataframe tbody tr th:only-of-type {\n",
       "        vertical-align: middle;\n",
       "    }\n",
       "\n",
       "    .dataframe tbody tr th {\n",
       "        vertical-align: top;\n",
       "    }\n",
       "\n",
       "    .dataframe thead th {\n",
       "        text-align: right;\n",
       "    }\n",
       "</style>\n",
       "<table border=\"1\" class=\"dataframe\">\n",
       "  <thead>\n",
       "    <tr style=\"text-align: right;\">\n",
       "      <th></th>\n",
       "      <th>CreditScore</th>\n",
       "      <th>Age</th>\n",
       "      <th>Tenure</th>\n",
       "      <th>Balance</th>\n",
       "      <th>NumOfProducts</th>\n",
       "      <th>HasCrCard</th>\n",
       "      <th>IsActiveMember</th>\n",
       "      <th>EstimatedSalary</th>\n",
       "      <th>Exited</th>\n",
       "      <th>Geography_Germany</th>\n",
       "      <th>Geography_Spain</th>\n",
       "      <th>Gender_Male</th>\n",
       "    </tr>\n",
       "  </thead>\n",
       "  <tbody>\n",
       "    <tr>\n",
       "      <td>0</td>\n",
       "      <td>619</td>\n",
       "      <td>42</td>\n",
       "      <td>2.0</td>\n",
       "      <td>0.00</td>\n",
       "      <td>1</td>\n",
       "      <td>1</td>\n",
       "      <td>1</td>\n",
       "      <td>101348.88</td>\n",
       "      <td>1</td>\n",
       "      <td>0</td>\n",
       "      <td>0</td>\n",
       "      <td>0</td>\n",
       "    </tr>\n",
       "    <tr>\n",
       "      <td>1</td>\n",
       "      <td>608</td>\n",
       "      <td>41</td>\n",
       "      <td>1.0</td>\n",
       "      <td>83807.86</td>\n",
       "      <td>1</td>\n",
       "      <td>0</td>\n",
       "      <td>1</td>\n",
       "      <td>112542.58</td>\n",
       "      <td>0</td>\n",
       "      <td>0</td>\n",
       "      <td>1</td>\n",
       "      <td>0</td>\n",
       "    </tr>\n",
       "    <tr>\n",
       "      <td>2</td>\n",
       "      <td>502</td>\n",
       "      <td>42</td>\n",
       "      <td>8.0</td>\n",
       "      <td>159660.80</td>\n",
       "      <td>3</td>\n",
       "      <td>1</td>\n",
       "      <td>0</td>\n",
       "      <td>113931.57</td>\n",
       "      <td>1</td>\n",
       "      <td>0</td>\n",
       "      <td>0</td>\n",
       "      <td>0</td>\n",
       "    </tr>\n",
       "    <tr>\n",
       "      <td>3</td>\n",
       "      <td>699</td>\n",
       "      <td>39</td>\n",
       "      <td>1.0</td>\n",
       "      <td>0.00</td>\n",
       "      <td>2</td>\n",
       "      <td>0</td>\n",
       "      <td>0</td>\n",
       "      <td>93826.63</td>\n",
       "      <td>0</td>\n",
       "      <td>0</td>\n",
       "      <td>0</td>\n",
       "      <td>0</td>\n",
       "    </tr>\n",
       "    <tr>\n",
       "      <td>4</td>\n",
       "      <td>850</td>\n",
       "      <td>43</td>\n",
       "      <td>2.0</td>\n",
       "      <td>125510.82</td>\n",
       "      <td>1</td>\n",
       "      <td>1</td>\n",
       "      <td>1</td>\n",
       "      <td>79084.10</td>\n",
       "      <td>0</td>\n",
       "      <td>0</td>\n",
       "      <td>1</td>\n",
       "      <td>0</td>\n",
       "    </tr>\n",
       "  </tbody>\n",
       "</table>\n",
       "</div>"
      ],
      "text/plain": [
       "   CreditScore  Age  Tenure    Balance  NumOfProducts  HasCrCard  \\\n",
       "0          619   42     2.0       0.00              1          1   \n",
       "1          608   41     1.0   83807.86              1          0   \n",
       "2          502   42     8.0  159660.80              3          1   \n",
       "3          699   39     1.0       0.00              2          0   \n",
       "4          850   43     2.0  125510.82              1          1   \n",
       "\n",
       "   IsActiveMember  EstimatedSalary  Exited  Geography_Germany  \\\n",
       "0               1        101348.88       1                  0   \n",
       "1               1        112542.58       0                  0   \n",
       "2               0        113931.57       1                  0   \n",
       "3               0         93826.63       0                  0   \n",
       "4               1         79084.10       0                  0   \n",
       "\n",
       "   Geography_Spain  Gender_Male  \n",
       "0                0            0  \n",
       "1                1            0  \n",
       "2                0            0  \n",
       "3                0            0  \n",
       "4                1            0  "
      ]
     },
     "execution_count": 21,
     "metadata": {},
     "output_type": "execute_result"
    }
   ],
   "source": [
    "data = pd.get_dummies(data, drop_first=True)\n",
    "data.head()"
   ]
  },
  {
   "cell_type": "code",
   "execution_count": 22,
   "metadata": {},
   "outputs": [],
   "source": [
    "features=data.drop(['Exited'],axis=1)\n",
    "target=data['Exited']"
   ]
  },
  {
   "cell_type": "code",
   "execution_count": 23,
   "metadata": {
    "scrolled": true
   },
   "outputs": [
    {
     "name": "stdout",
     "output_type": "stream",
     "text": [
      "(6000, 11) (2000, 11) (2000, 11)\n",
      "(6000,) (2000,) (2000,)\n"
     ]
    }
   ],
   "source": [
    "target = data['Exited']\n",
    "features = data.drop('Exited', axis=1)\n",
    "\n",
    "train_features, valid_features, train_target, valid_target = train_test_split(features, target, test_size=0.4, \n",
    "                                                                              random_state=12345)\n",
    "valid_features, test_features, valid_target, test_target = train_test_split(valid_features, valid_target, test_size=0.5, \n",
    "                                                                              random_state=12345 )\n",
    "print(train_features.shape, valid_features.shape, test_features.shape)\n",
    "print(train_target.shape, valid_target.shape, test_target.shape)"
   ]
  },
  {
   "cell_type": "markdown",
   "metadata": {},
   "source": [
    "### Масштабируем численные признаки выборок для выравнивания весов"
   ]
  },
  {
   "cell_type": "code",
   "execution_count": 24,
   "metadata": {
    "scrolled": true
   },
   "outputs": [
    {
     "data": {
      "text/html": [
       "<div>\n",
       "<style scoped>\n",
       "    .dataframe tbody tr th:only-of-type {\n",
       "        vertical-align: middle;\n",
       "    }\n",
       "\n",
       "    .dataframe tbody tr th {\n",
       "        vertical-align: top;\n",
       "    }\n",
       "\n",
       "    .dataframe thead th {\n",
       "        text-align: right;\n",
       "    }\n",
       "</style>\n",
       "<table border=\"1\" class=\"dataframe\">\n",
       "  <thead>\n",
       "    <tr style=\"text-align: right;\">\n",
       "      <th></th>\n",
       "      <th>CreditScore</th>\n",
       "      <th>Age</th>\n",
       "      <th>Tenure</th>\n",
       "      <th>Balance</th>\n",
       "      <th>NumOfProducts</th>\n",
       "      <th>HasCrCard</th>\n",
       "      <th>IsActiveMember</th>\n",
       "      <th>EstimatedSalary</th>\n",
       "      <th>Geography_Germany</th>\n",
       "      <th>Geography_Spain</th>\n",
       "      <th>Gender_Male</th>\n",
       "    </tr>\n",
       "  </thead>\n",
       "  <tbody>\n",
       "    <tr>\n",
       "      <td>7479</td>\n",
       "      <td>-0.886751</td>\n",
       "      <td>-0.373192</td>\n",
       "      <td>1.019194</td>\n",
       "      <td>1.232271</td>\n",
       "      <td>-0.891560</td>\n",
       "      <td>1</td>\n",
       "      <td>0</td>\n",
       "      <td>-0.187705</td>\n",
       "      <td>0</td>\n",
       "      <td>1</td>\n",
       "      <td>1</td>\n",
       "    </tr>\n",
       "    <tr>\n",
       "      <td>3411</td>\n",
       "      <td>0.608663</td>\n",
       "      <td>-0.183385</td>\n",
       "      <td>1.019194</td>\n",
       "      <td>0.600563</td>\n",
       "      <td>-0.891560</td>\n",
       "      <td>0</td>\n",
       "      <td>0</td>\n",
       "      <td>-0.333945</td>\n",
       "      <td>0</td>\n",
       "      <td>0</td>\n",
       "      <td>0</td>\n",
       "    </tr>\n",
       "    <tr>\n",
       "      <td>6027</td>\n",
       "      <td>2.052152</td>\n",
       "      <td>0.480939</td>\n",
       "      <td>-0.701449</td>\n",
       "      <td>1.027098</td>\n",
       "      <td>0.830152</td>\n",
       "      <td>0</td>\n",
       "      <td>1</td>\n",
       "      <td>1.503095</td>\n",
       "      <td>1</td>\n",
       "      <td>0</td>\n",
       "      <td>1</td>\n",
       "    </tr>\n",
       "    <tr>\n",
       "      <td>1247</td>\n",
       "      <td>-1.457915</td>\n",
       "      <td>-1.417129</td>\n",
       "      <td>0.330937</td>\n",
       "      <td>-1.233163</td>\n",
       "      <td>0.830152</td>\n",
       "      <td>1</td>\n",
       "      <td>0</td>\n",
       "      <td>-1.071061</td>\n",
       "      <td>0</td>\n",
       "      <td>0</td>\n",
       "      <td>1</td>\n",
       "    </tr>\n",
       "    <tr>\n",
       "      <td>3716</td>\n",
       "      <td>0.130961</td>\n",
       "      <td>-1.132419</td>\n",
       "      <td>-1.045578</td>\n",
       "      <td>1.140475</td>\n",
       "      <td>-0.891560</td>\n",
       "      <td>0</td>\n",
       "      <td>0</td>\n",
       "      <td>1.524268</td>\n",
       "      <td>1</td>\n",
       "      <td>0</td>\n",
       "      <td>0</td>\n",
       "    </tr>\n",
       "  </tbody>\n",
       "</table>\n",
       "</div>"
      ],
      "text/plain": [
       "      CreditScore       Age    Tenure   Balance  NumOfProducts  HasCrCard  \\\n",
       "7479    -0.886751 -0.373192  1.019194  1.232271      -0.891560          1   \n",
       "3411     0.608663 -0.183385  1.019194  0.600563      -0.891560          0   \n",
       "6027     2.052152  0.480939 -0.701449  1.027098       0.830152          0   \n",
       "1247    -1.457915 -1.417129  0.330937 -1.233163       0.830152          1   \n",
       "3716     0.130961 -1.132419 -1.045578  1.140475      -0.891560          0   \n",
       "\n",
       "      IsActiveMember  EstimatedSalary  Geography_Germany  Geography_Spain  \\\n",
       "7479               0        -0.187705                  0                1   \n",
       "3411               0        -0.333945                  0                0   \n",
       "6027               1         1.503095                  1                0   \n",
       "1247               0        -1.071061                  0                0   \n",
       "3716               0         1.524268                  1                0   \n",
       "\n",
       "      Gender_Male  \n",
       "7479            1  \n",
       "3411            0  \n",
       "6027            1  \n",
       "1247            1  \n",
       "3716            0  "
      ]
     },
     "execution_count": 24,
     "metadata": {},
     "output_type": "execute_result"
    }
   ],
   "source": [
    "numeric = ['CreditScore', 'Age', 'Tenure', 'Balance', 'NumOfProducts', 'EstimatedSalary']\n",
    "scaler = StandardScaler()\n",
    "scaler.fit(train_features[numeric]) \n",
    "train_features[numeric] = scaler.transform(train_features[numeric])\n",
    "valid_features[numeric] = scaler.transform(valid_features[numeric])\n",
    "test_features[numeric] = scaler.transform(test_features[numeric])\n",
    "train_features.head()"
   ]
  },
  {
   "cell_type": "markdown",
   "metadata": {},
   "source": [
    "## Исследование задачи"
   ]
  },
  {
   "cell_type": "markdown",
   "metadata": {},
   "source": [
    "### Баланс данных"
   ]
  },
  {
   "cell_type": "code",
   "execution_count": 25,
   "metadata": {},
   "outputs": [
    {
     "data": {
      "text/plain": [
       "0    7963\n",
       "1    2037\n",
       "Name: Exited, dtype: int64"
      ]
     },
     "execution_count": 25,
     "metadata": {},
     "output_type": "execute_result"
    },
    {
     "data": {
      "image/png": "[encoded data removed]",
      "text/plain": [
       "<Figure size 720x432 with 1 Axes>"
      ]
     },
     "metadata": {
      "needs_background": "light"
     },
     "output_type": "display_data"
    }
   ],
   "source": [
    "data['Exited'].value_counts().plot(kind='bar', grid=True,figsize=(10,6),title='Соотношение ушедших к оставшимся клиентам')\n",
    "data['Exited'].value_counts()"
   ]
  },
  {
   "cell_type": "markdown",
   "metadata": {},
   "source": [
    "- Соотношение оттока и тех кто остался 1:4. Вывод: такое соотношение говорит, что присутствует дисбаланс в данных."
   ]
  },
  {
   "cell_type": "markdown",
   "metadata": {},
   "source": [
    "###### Обучим модели случайного дерева с перебором глубины, найдем гиперпараметры с наибольшей метрикой f1."
   ]
  },
  {
   "cell_type": "code",
   "execution_count": 26,
   "metadata": {},
   "outputs": [
    {
     "name": "stdout",
     "output_type": "stream",
     "text": [
      "Max depth 6 F1-score 0.5696969696969697\n"
     ]
    }
   ],
   "source": [
    "f1_best = 0\n",
    "depth_best = 0\n",
    "for depth in range(1, 7):\n",
    "    model = DecisionTreeClassifier(random_state=12345, max_depth=depth)\n",
    "    model.fit(train_features, train_target)\n",
    "    prediction = model.predict(valid_features)\n",
    "    f1 = f1_score(valid_target, prediction)\n",
    "    if f1>f1_best:\n",
    "        f1_best=f1\n",
    "        depth_best=depth\n",
    "print('Max depth', depth_best,'F1-score', f1_best)"
   ]
  },
  {
   "cell_type": "markdown",
   "metadata": {},
   "source": [
    "###### Проведем оценку accuracy, precision, recall, F1, AUC-ROC на полученных гиперпараметрах"
   ]
  },
  {
   "cell_type": "code",
   "execution_count": 27,
   "metadata": {},
   "outputs": [
    {
     "name": "stdout",
     "output_type": "stream",
     "text": [
      "Accuracy 0.858\n",
      "Precision 0.7768595041322314\n",
      "Recall 0.44976076555023925\n",
      "F1 0.5696969696969697\n",
      "AUC-ROC 0.8164631712023421\n"
     ]
    }
   ],
   "source": [
    "model = DecisionTreeClassifier(random_state=12345, max_depth=depth)\n",
    "model.fit(train_features, train_target)\n",
    "prediction = model.predict(valid_features)\n",
    "print('Accuracy', accuracy_score(valid_target, prediction))\n",
    "print('Precision', precision_score(valid_target, prediction))\n",
    "print('Recall', recall_score(valid_target, prediction))\n",
    "print('F1', f1_score(valid_target, prediction))\n",
    "probabilities_valid = model.predict_proba(valid_features)[:, 1]\n",
    "print(\"AUC-ROC\", roc_auc_score(valid_target, probabilities_valid))"
   ]
  },
  {
   "cell_type": "markdown",
   "metadata": {},
   "source": [
    "###### Обучим модель случайного леса с перебором гиперпараментров, которые дают наибольшую метрику f1"
   ]
  },
  {
   "cell_type": "code",
   "execution_count": 28,
   "metadata": {},
   "outputs": [
    {
     "name": "stdout",
     "output_type": "stream",
     "text": [
      "n_estimators = 10 Max depth 13 F1-score 0.6011730205278591\n"
     ]
    }
   ],
   "source": [
    "f1_best = 0\n",
    "estim_best = 0\n",
    "depth_best = 0\n",
    "\n",
    "for estim in range(1, 15):\n",
    "    for depth in range(8, 14):\n",
    "        model = RandomForestClassifier(n_estimators=estim, random_state=12345, max_depth=depth)\n",
    "        model.fit(train_features, train_target)\n",
    "        prediction = model.predict(valid_features)\n",
    "        f1 = f1_score(valid_target, prediction)\n",
    "        if f1>f1_best:\n",
    "            f1_best=f1\n",
    "            estim_best=estim\n",
    "            depth_best=depth\n",
    "            \n",
    "            \n",
    "print('n_estimators =', estim_best, 'Max depth', depth_best, 'F1-score', f1_best)"
   ]
  },
  {
   "cell_type": "markdown",
   "metadata": {},
   "source": [
    "###### Проведем оценку accuracy, precision, recall, F1, AUC-ROC на полученных гиперпараметрах"
   ]
  },
  {
   "cell_type": "code",
   "execution_count": 29,
   "metadata": {},
   "outputs": [
    {
     "name": "stdout",
     "output_type": "stream",
     "text": [
      "Accuracy 0.851\n",
      "Precision 0.7419354838709677\n",
      "Recall 0.44019138755980863\n",
      "F1 0.5525525525525525\n",
      "AUC-ROC 0.8215805503299681\n"
     ]
    }
   ],
   "source": [
    "model = RandomForestClassifier(n_estimators=estim_best, max_depth=depth_best)\n",
    "model.fit(train_features, train_target)\n",
    "prediction = model.predict(valid_features)\n",
    "print('Accuracy', accuracy_score(valid_target, prediction))\n",
    "print('Precision', precision_score(valid_target, prediction))\n",
    "print('Recall', recall_score(valid_target, prediction))\n",
    "print('F1', f1_score(valid_target, prediction))\n",
    "probabilities_valid = model.predict_proba(valid_features)[:, 1]\n",
    "print(\"AUC-ROC\", roc_auc_score(valid_target, probabilities_valid))"
   ]
  },
  {
   "cell_type": "markdown",
   "metadata": {},
   "source": [
    "###### Обучим модель регрессии с перебором гиперпараментров, которые дают наибольшую метрику f1"
   ]
  },
  {
   "cell_type": "code",
   "execution_count": 30,
   "metadata": {},
   "outputs": [
    {
     "name": "stdout",
     "output_type": "stream",
     "text": [
      "Accuracy 0.8025\n",
      "Precision 0.5657142857142857\n",
      "Recall 0.23684210526315788\n",
      "F1 0.33389544688026984\n",
      "AUC-ROC 0.7587013591904137\n"
     ]
    }
   ],
   "source": [
    "model =  LogisticRegression()\n",
    "model.fit(train_features, train_target)\n",
    "prediction = model.predict(valid_features)\n",
    "print('Accuracy', accuracy_score(valid_target, prediction))\n",
    "print('Precision', precision_score(valid_target, prediction))\n",
    "print('Recall', recall_score(valid_target, prediction))\n",
    "print('F1', f1_score(valid_target, prediction))\n",
    "probabilities_valid = model.predict_proba(valid_features)[:, 1]\n",
    "print(\"AUC-ROC\", roc_auc_score(valid_target, probabilities_valid))"
   ]
  },
  {
   "cell_type": "markdown",
   "metadata": {},
   "source": [
    "###### Вывод\n",
    "- Из-за несбалансированности данных, все модели имеют recall ниже, чем percision, это влияет на F-меру. Модель случайного леса имеет метрику близкую к необходимой"
   ]
  },
  {
   "cell_type": "markdown",
   "metadata": {},
   "source": [
    "## Борьба с дисбалансом"
   ]
  },
  {
   "cell_type": "markdown",
   "metadata": {},
   "source": [
    "###### Обучение моделей с параметром автоматической регулировки весов."
   ]
  },
  {
   "cell_type": "code",
   "execution_count": 31,
   "metadata": {},
   "outputs": [
    {
     "name": "stdout",
     "output_type": "stream",
     "text": [
      "Max depth 5 F1-score 0.5963791267305644\n"
     ]
    }
   ],
   "source": [
    "# Модель случайного дерева\n",
    "# Подбор гиперпараметров\n",
    "f1_best = 0\n",
    "depth_best = 0\n",
    "for depth in range(1, 30):\n",
    "    model = DecisionTreeClassifier(random_state=12345, max_depth=depth, class_weight='balanced')\n",
    "    model.fit(train_features, train_target)\n",
    "    prediction = model.predict(valid_features)\n",
    "    f1 = f1_score(valid_target, prediction)\n",
    "    if f1>f1_best:\n",
    "        f1_best=f1\n",
    "        depth_best=depth\n",
    "print('Max depth', depth_best,'F1-score', f1_best)"
   ]
  },
  {
   "cell_type": "code",
   "execution_count": 32,
   "metadata": {},
   "outputs": [
    {
     "name": "stdout",
     "output_type": "stream",
     "text": [
      "Accuracy 0.799\n",
      "Precision 0.5198019801980198\n",
      "Recall 0.5023923444976076\n",
      "F1 0.510948905109489\n",
      "AUC-ROC 0.6898813808455169\n"
     ]
    }
   ],
   "source": [
    "model = DecisionTreeClassifier(random_state=12345, max_depth=depth, class_weight='balanced')\n",
    "model.fit(train_features, train_target)\n",
    "prediction = model.predict(valid_features)\n",
    "print('Accuracy', accuracy_score(valid_target, prediction))\n",
    "print('Precision', precision_score(valid_target, prediction))\n",
    "print('Recall', recall_score(valid_target, prediction))\n",
    "print('F1', f1_score(valid_target, prediction))\n",
    "probabilities_valid = model.predict_proba(valid_features)[:, 1]\n",
    "print(\"AUC-ROC\", roc_auc_score(valid_target, probabilities_valid))"
   ]
  },
  {
   "cell_type": "code",
   "execution_count": 33,
   "metadata": {},
   "outputs": [
    {
     "name": "stdout",
     "output_type": "stream",
     "text": [
      "n_estimators = 45 Max depth 10 F1-score 0.6179640718562874\n"
     ]
    }
   ],
   "source": [
    "f1_best = 0\n",
    "estim_best = 0\n",
    "depth_best = 0\n",
    "\n",
    "for estim in range(43, 47):\n",
    "    for depth in range(10, 12):\n",
    "        model = RandomForestClassifier(n_estimators=estim, random_state=12345, max_depth=depth, class_weight='balanced')\n",
    "        model.fit(train_features, train_target)\n",
    "        prediction = model.predict(valid_features)\n",
    "        f1 = f1_score(valid_target, prediction)\n",
    "        if f1>f1_best:\n",
    "            f1_best=f1\n",
    "            estim_best=estim\n",
    "            depth_best=depth\n",
    "            \n",
    "            \n",
    "print('n_estimators =', estim_best, 'Max depth', depth_best, 'F1-score', f1_best)"
   ]
  },
  {
   "cell_type": "code",
   "execution_count": 34,
   "metadata": {},
   "outputs": [
    {
     "name": "stdout",
     "output_type": "stream",
     "text": [
      "Accuracy 0.8395\n",
      "Precision 0.6185819070904646\n",
      "Recall 0.6052631578947368\n",
      "F1 0.6118500604594921\n",
      "AUC-ROC 0.8512436562040662\n"
     ]
    }
   ],
   "source": [
    "model = RandomForestClassifier(n_estimators=estim_best, max_depth=depth_best, class_weight='balanced')\n",
    "model.fit(train_features, train_target)\n",
    "prediction = model.predict(valid_features)\n",
    "print('Accuracy', accuracy_score(valid_target, prediction))\n",
    "print('Precision', precision_score(valid_target, prediction))\n",
    "print('Recall', recall_score(valid_target, prediction))\n",
    "print('F1', f1_score(valid_target, prediction))\n",
    "probabilities_valid = model.predict_proba(valid_features)[:, 1]\n",
    "print(\"AUC-ROC\", roc_auc_score(valid_target, probabilities_valid))"
   ]
  },
  {
   "cell_type": "code",
   "execution_count": 35,
   "metadata": {},
   "outputs": [
    {
     "name": "stdout",
     "output_type": "stream",
     "text": [
      "Accuracy 0.6995\n",
      "Precision 0.3784860557768924\n",
      "Recall 0.6818181818181818\n",
      "F1 0.48676345004269855\n",
      "AUC-ROC 0.7636176120107186\n"
     ]
    }
   ],
   "source": [
    "model =  LogisticRegression(class_weight='balanced')\n",
    "model.fit(train_features, train_target)\n",
    "prediction = model.predict(valid_features)\n",
    "print('Accuracy', accuracy_score(valid_target, prediction))\n",
    "print('Precision', precision_score(valid_target, prediction))\n",
    "print('Recall', recall_score(valid_target, prediction))\n",
    "print('F1', f1_score(valid_target, prediction))\n",
    "probabilities_valid = model.predict_proba(valid_features)[:, 1]\n",
    "print(\"AUC-ROC\", roc_auc_score(valid_target, probabilities_valid))"
   ]
  },
  {
   "cell_type": "markdown",
   "metadata": {},
   "source": [
    "###### После регулировки весов F1 мера стала лучше"
   ]
  },
  {
   "cell_type": "markdown",
   "metadata": {},
   "source": [
    "###### Применим Upsampling, увеличим количество колличество target=0"
   ]
  },
  {
   "cell_type": "code",
   "execution_count": 36,
   "metadata": {},
   "outputs": [],
   "source": [
    "def upsampling (features,target,repeat):\n",
    "    #Разделяем выборку по значениям целевой функции\n",
    "    target_one=target[target==1]\n",
    "    target_null=target[target==0]\n",
    "    features_one=features[target==1]\n",
    "    features_null=features[target==0]\n",
    "    \n",
    "    #Увеличиваем и соединяем обратно\n",
    "    upsampling_features=pd.concat([features_null]+[features_one]*repeat)\n",
    "    upsampling_target=pd.concat([target_null]+[target_one]*repeat)\n",
    "    \n",
    "    # Перемешиваем\n",
    "    upsampling_features,upsampling_target=shuffle(upsampling_features,upsampling_target,random_state=12345)\n",
    "    \n",
    "    return upsampling_features,upsampling_target"
   ]
  },
  {
   "cell_type": "code",
   "execution_count": 37,
   "metadata": {},
   "outputs": [],
   "source": [
    "features_balance,target_balance=upsampling(train_features,train_target,4)"
   ]
  },
  {
   "cell_type": "code",
   "execution_count": 38,
   "metadata": {},
   "outputs": [
    {
     "name": "stdout",
     "output_type": "stream",
     "text": [
      "Max depth 5 F1-score 0.5963791267305644\n"
     ]
    }
   ],
   "source": [
    "# Модель случайного дерева\n",
    "# Подбор гиперпараметров\n",
    "f1_best = 0\n",
    "depth_best = 0\n",
    "for depth in range(1, 10):\n",
    "    model = DecisionTreeClassifier(random_state=12345, max_depth=depth)\n",
    "    model.fit(features_balance,target_balance)\n",
    "    prediction = model.predict(valid_features)\n",
    "    f1 = f1_score(valid_target, prediction)\n",
    "    if f1>f1_best:\n",
    "            f1_best=f1\n",
    "            depth_best=depth\n",
    "print('Max depth', depth_best,'F1-score', f1_best)"
   ]
  },
  {
   "cell_type": "code",
   "execution_count": 39,
   "metadata": {},
   "outputs": [
    {
     "name": "stdout",
     "output_type": "stream",
     "text": [
      "Accuracy 0.8105\n",
      "Precision 0.5374280230326296\n",
      "Recall 0.6698564593301436\n",
      "F1 0.5963791267305644\n",
      "AUC-ROC 0.8310244134068074\n"
     ]
    }
   ],
   "source": [
    "model = DecisionTreeClassifier(random_state=12345, max_depth=depth_best)\n",
    "model.fit(features_balance,target_balance)\n",
    "prediction = model.predict(valid_features)\n",
    "print('Accuracy', accuracy_score(valid_target, prediction))\n",
    "print('Precision', precision_score(valid_target, prediction))\n",
    "print('Recall', recall_score(valid_target, prediction))\n",
    "print('F1', f1_score(valid_target, prediction))\n",
    "probabilities_valid = model.predict_proba(valid_features)[:, 1]\n",
    "print(\"AUC-ROC\", roc_auc_score(valid_target, probabilities_valid))\n",
    "fpr_tree, tpr_tree, thresholds = roc_curve(valid_target, probabilities_valid)"
   ]
  },
  {
   "cell_type": "code",
   "execution_count": 40,
   "metadata": {},
   "outputs": [
    {
     "name": "stdout",
     "output_type": "stream",
     "text": [
      "n_estimators = 46 Max depth 8 F1-score 0.6329896907216496\n"
     ]
    }
   ],
   "source": [
    "# Модель случайного леса\n",
    "# Подбор гиперпараметров\n",
    "f1_best = 0\n",
    "estim_best = 0\n",
    "depth_best = 0\n",
    "\n",
    "for estim in range(44, 60):\n",
    "    for depth in range(7, 9):\n",
    "        model = RandomForestClassifier(n_estimators=estim, random_state=12345, max_depth=depth)\n",
    "        model.fit(features_balance,target_balance)\n",
    "        prediction = model.predict(valid_features)\n",
    "        f1 = f1_score(valid_target, prediction)\n",
    "        if f1>f1_best:\n",
    "            f1_best=f1\n",
    "            estim_best=estim\n",
    "            depth_best=depth\n",
    "            \n",
    "            \n",
    "print('n_estimators =', estim_best, 'Max depth', depth_best, 'F1-score', f1_best)"
   ]
  },
  {
   "cell_type": "code",
   "execution_count": 41,
   "metadata": {},
   "outputs": [
    {
     "name": "stdout",
     "output_type": "stream",
     "text": [
      "Accuracy 0.822\n",
      "Precision 0.5561594202898551\n",
      "Recall 0.7344497607655502\n",
      "F1 0.6329896907216496\n",
      "AUC-ROC 0.8549244188508278\n"
     ]
    }
   ],
   "source": [
    "model = RandomForestClassifier(n_estimators=estim_best, max_depth=depth_best, random_state=12345)\n",
    "model.fit(features_balance,target_balance)\n",
    "prediction = model.predict(valid_features)\n",
    "print('Accuracy', accuracy_score(valid_target, prediction))\n",
    "print('Precision', precision_score(valid_target, prediction))\n",
    "print('Recall', recall_score(valid_target, prediction))\n",
    "print('F1', f1_score(valid_target, prediction))\n",
    "probabilities_valid = model.predict_proba(valid_features)[:, 1]\n",
    "print(\"AUC-ROC\", roc_auc_score(valid_target, probabilities_valid))\n",
    "fpr_forest, tpr_forest, thresholds = roc_curve(valid_target, probabilities_valid)"
   ]
  },
  {
   "cell_type": "code",
   "execution_count": 42,
   "metadata": {},
   "outputs": [
    {
     "name": "stdout",
     "output_type": "stream",
     "text": [
      "Accuracy 0.6995\n",
      "Precision 0.3784860557768924\n",
      "Recall 0.6818181818181818\n",
      "F1 0.48676345004269855\n",
      "AUC-ROC 0.7635919041368506\n"
     ]
    }
   ],
   "source": [
    "model =  LogisticRegression(class_weight='balanced')\n",
    "model.fit(features_balance,target_balance)\n",
    "prediction = model.predict(valid_features)\n",
    "print('Accuracy', accuracy_score(valid_target, prediction))\n",
    "print('Precision', precision_score(valid_target, prediction))\n",
    "print('Recall', recall_score(valid_target, prediction))\n",
    "print('F1', f1_score(valid_target, prediction))\n",
    "probabilities_valid = model.predict_proba(valid_features)[:, 1]\n",
    "print(\"AUC-ROC\", roc_auc_score(valid_target, probabilities_valid))\n",
    "fpr_log, tpr_log, thresholds = roc_curve(valid_target, probabilities_valid)"
   ]
  },
  {
   "cell_type": "markdown",
   "metadata": {},
   "source": [
    "###### Изобразим на графике auc-roc"
   ]
  },
  {
   "cell_type": "code",
   "execution_count": 43,
   "metadata": {},
   "outputs": [
    {
     "data": {
      "text/plain": [
       "<Figure size 432x288 with 0 Axes>"
      ]
     },
     "metadata": {},
     "output_type": "display_data"
    },
    {
     "data": {
      "image/png": "[encoded data removed]",
      "text/plain": [
       "<Figure size 720x504 with 1 Axes>"
      ]
     },
     "metadata": {
      "needs_background": "light"
     },
     "output_type": "display_data"
    }
   ],
   "source": [
    "plt.figure()\n",
    "\n",
    "plt.figure(figsize=(10,7))\n",
    "plt.plot([0, 1], [0, 1], linestyle='--')\n",
    "plt.xlim([0.0, 1.0])\n",
    "plt.ylim([0.0, 1.0])\n",
    "plt.plot(fpr_forest,tpr_forest)\n",
    "plt.plot(fpr_log,tpr_log)\n",
    "plt.plot(fpr_tree,tpr_tree)\n",
    "\n",
    "plt.xlabel('False Positive Rate')\n",
    "plt.ylabel('True Positive Rate')\n",
    "plt.title('ROC-кривая')\n",
    "plt.legend(('Случайная модель','Случайный лес','Логистическая регрессия','Дерево решения'),\n",
    "           loc= 'upper left') \n",
    "plt.show()"
   ]
  },
  {
   "cell_type": "markdown",
   "metadata": {},
   "source": [
    "###### При регулировке весов модель случайного леса показала себя лучше остальных. Так же метрика AUC-ROC Случайного леса лучше остальных"
   ]
  },
  {
   "cell_type": "markdown",
   "metadata": {},
   "source": [
    "## Тестирование модели"
   ]
  },
  {
   "cell_type": "markdown",
   "metadata": {},
   "source": [
    "###### Обучим финальную модель после регулировки весов"
   ]
  },
  {
   "cell_type": "code",
   "execution_count": 44,
   "metadata": {},
   "outputs": [
    {
     "name": "stdout",
     "output_type": "stream",
     "text": [
      "Accuracy 0.8435\n",
      "Precision 0.6415094339622641\n",
      "Recall 0.569377990430622\n",
      "F1 0.603295310519645\n",
      "AUC-ROC 0.8494607395399196\n"
     ]
    }
   ],
   "source": [
    "model_final = RandomForestClassifier(n_estimators=159, max_depth=11, random_state=12345, class_weight='balanced')\n",
    "model_final.fit(train_features, train_target)\n",
    "prediction = model_final.predict(valid_features)\n",
    "print('Accuracy', accuracy_score(valid_target, prediction))\n",
    "print('Precision', precision_score(valid_target, prediction))\n",
    "print('Recall', recall_score(valid_target, prediction))\n",
    "print('F1', f1_score(valid_target, prediction))\n",
    "probabilities_valid = model_final.predict_proba(valid_features)[:, 1]\n",
    "print(\"AUC-ROC\", roc_auc_score(valid_target, probabilities_valid))"
   ]
  },
  {
   "cell_type": "markdown",
   "metadata": {},
   "source": [
    "###### Проверим на адекватность модель"
   ]
  },
  {
   "cell_type": "code",
   "execution_count": 45,
   "metadata": {},
   "outputs": [
    {
     "data": {
      "text/plain": [
       "0    2000\n",
       "dtype: int64"
      ]
     },
     "execution_count": 45,
     "metadata": {},
     "output_type": "execute_result"
    }
   ],
   "source": [
    "#Создаем константную модель\n",
    "target_predict_constant = pd.Series([0]*len(valid_target))\n",
    "target_predict_constant.value_counts()"
   ]
  },
  {
   "cell_type": "code",
   "execution_count": 46,
   "metadata": {},
   "outputs": [
    {
     "name": "stdout",
     "output_type": "stream",
     "text": [
      "accuracy_score константой модели: 0.791\n",
      "accuracy_score финальной модели: 0.8435\n"
     ]
    }
   ],
   "source": [
    "#Сравним показатель точности (accuracy_score) константной модели и финальной\n",
    "print('accuracy_score константой модели:', accuracy_score(valid_target, target_predict_constant))\n",
    "print('accuracy_score финальной модели:', accuracy_score(valid_target, prediction))"
   ]
  },
  {
   "cell_type": "code",
   "execution_count": 47,
   "metadata": {},
   "outputs": [
    {
     "name": "stdout",
     "output_type": "stream",
     "text": [
      "AUC-ROC константой модели: 0.5\n",
      "AUC-ROC финальной модели: 0.8494607395399196\n"
     ]
    }
   ],
   "source": [
    "#Сравним AUC-ROC, остальные метрики не работают на константной модели.\n",
    "print('AUC-ROC константой модели:', roc_auc_score(valid_target, target_predict_constant))\n",
    "print('AUC-ROC финальной модели:', roc_auc_score(valid_target, probabilities_valid))"
   ]
  },
  {
   "cell_type": "markdown",
   "metadata": {},
   "source": [
    "###### Метрики финальной модели, выше константной. Модель прошла проверку на адекватность"
   ]
  },
  {
   "cell_type": "markdown",
   "metadata": {},
   "source": [
    "###### Тестируем модель"
   ]
  },
  {
   "cell_type": "code",
   "execution_count": 48,
   "metadata": {},
   "outputs": [
    {
     "name": "stdout",
     "output_type": "stream",
     "text": [
      "Accuracy 0.841\n",
      "Precision 0.6454293628808865\n",
      "Recall 0.5508274231678487\n",
      "F1 0.5943877551020409\n",
      "AUC-ROC 0.8573075429751854\n"
     ]
    }
   ],
   "source": [
    "model_final\n",
    "prediction = model_final.predict(test_features)\n",
    "print('Accuracy', accuracy_score(test_target, prediction))\n",
    "print('Precision', precision_score(test_target, prediction))\n",
    "print('Recall', recall_score(test_target, prediction))\n",
    "print('F1', f1_score(test_target, prediction))\n",
    "probabilities_valid = model_final.predict_proba(test_features)[:, 1]\n",
    "print(\"AUC-ROC\", roc_auc_score(test_target, probabilities_valid))\n",
    "fpr, tpr, thresholds = roc_curve(test_target, probabilities_valid)"
   ]
  },
  {
   "cell_type": "code",
   "execution_count": 49,
   "metadata": {
    "scrolled": true
   },
   "outputs": [
    {
     "data": {
      "text/plain": [
       "<Figure size 432x288 with 0 Axes>"
      ]
     },
     "metadata": {},
     "output_type": "display_data"
    },
    {
     "data": {
      "image/png": "[encoded data removed]",
      "text/plain": [
       "<Figure size 720x504 with 1 Axes>"
      ]
     },
     "metadata": {
      "needs_background": "light"
     },
     "output_type": "display_data"
    }
   ],
   "source": [
    "plt.figure()\n",
    "\n",
    "plt.figure(figsize=(10,7))\n",
    "plt.plot([0, 1], [0, 1], linestyle='--')\n",
    "plt.xlim([0.0, 1.0])\n",
    "plt.ylim([0.0, 1.0])\n",
    "plt.plot(fpr,tpr)\n",
    "plt.xlabel('False Positive Rate')\n",
    "plt.ylabel('True Positive Rate')\n",
    "plt.title('ROC-кривая')\n",
    "plt.legend(('Случайная модель','Тестируемая модель'),\n",
    "           loc= 'upper left') \n",
    "plt.show()"
   ]
  },
  {
   "cell_type": "markdown",
   "metadata": {},
   "source": [
    "###### Вывод"
   ]
  },
  {
   "cell_type": "markdown",
   "metadata": {},
   "source": [
    "- Модели со сбалансированными данными путем увеличения количества недостающих классов показали себя лучше других видов баланса и несбалансированных моделей. Финальная модель на тестовой выборке достигла заданного порога и показывает адекватные результаты (AUC-ROC 0.85) Модель с большой вероятностью предскажет уход клиента из банка за счет высокой точности (0.641) Модель находит большую часть ушедших клиентов на тестовой выборке (полнота = 0.55)"
   ]
  },
  {
   "cell_type": "code",
   "execution_count": 53,
   "metadata": {},
   "outputs": [
    {
     "data": {
      "image/png": "[encoded data removed]",
      "text/plain": [
       "<Figure size 432x288 with 1 Axes>"
      ]
     },
     "metadata": {
      "needs_background": "light"
     },
     "output_type": "display_data"
    }
   ],
   "source": [
    "import seaborn as sns\n",
    "feature_importance = model_final.feature_importances_\n",
    "feature_imp = pd.DataFrame(sorted(zip(feature_importance, features.columns)), columns=['Value','Feature'])\n",
    "sns.barplot(x=\"Value\", y=\"Feature\", data=feature_imp.sort_values(by=\"Value\", ascending=False))\n",
    "plt.title('Feature importance')\n",
    "plt.tight_layout()\n",
    "plt.show();"
   ]
  }
 ],
 "metadata": {
  "ExecuteTimeLog": [
   {
    "duration": 237,
    "start_time": "2022-02-17T10:03:41.313Z"
   },
   {
    "duration": 1188,
    "start_time": "2022-02-17T10:03:44.655Z"
   },
   {
    "duration": 24,
    "start_time": "2022-02-17T10:03:45.845Z"
   },
   {
    "duration": 80,
    "start_time": "2022-02-17T10:03:45.871Z"
   },
   {
    "duration": 4,
    "start_time": "2022-02-17T10:31:57.308Z"
   },
   {
    "duration": 31,
    "start_time": "2022-02-17T10:31:58.030Z"
   },
   {
    "duration": 23,
    "start_time": "2022-02-17T10:31:59.230Z"
   },
   {
    "duration": 10,
    "start_time": "2022-02-17T10:32:22.830Z"
   },
   {
    "duration": 98,
    "start_time": "2022-02-17T10:43:43.208Z"
   },
   {
    "duration": 348,
    "start_time": "2022-02-17T10:49:38.436Z"
   },
   {
    "duration": 5,
    "start_time": "2022-02-17T10:49:43.690Z"
   },
   {
    "duration": 36,
    "start_time": "2022-02-17T10:49:43.697Z"
   },
   {
    "duration": 25,
    "start_time": "2022-02-17T10:49:43.735Z"
   },
   {
    "duration": 17,
    "start_time": "2022-02-17T10:49:43.762Z"
   },
   {
    "duration": 4,
    "start_time": "2022-02-17T10:49:43.780Z"
   },
   {
    "duration": 243,
    "start_time": "2022-02-17T10:50:19.528Z"
   },
   {
    "duration": 4,
    "start_time": "2022-02-17T10:50:24.147Z"
   },
   {
    "duration": 32,
    "start_time": "2022-02-17T10:50:24.153Z"
   },
   {
    "duration": 24,
    "start_time": "2022-02-17T10:50:24.188Z"
   },
   {
    "duration": 16,
    "start_time": "2022-02-17T10:50:24.214Z"
   },
   {
    "duration": 325,
    "start_time": "2022-02-17T10:50:24.232Z"
   },
   {
    "duration": 204,
    "start_time": "2022-02-17T10:50:38.735Z"
   },
   {
    "duration": 8,
    "start_time": "2022-02-17T10:50:43.695Z"
   },
   {
    "duration": 198,
    "start_time": "2022-02-17T10:50:51.555Z"
   },
   {
    "duration": 6,
    "start_time": "2022-02-17T10:51:01.155Z"
   },
   {
    "duration": 8,
    "start_time": "2022-02-17T11:02:43.190Z"
   },
   {
    "duration": 6,
    "start_time": "2022-02-17T12:43:28.199Z"
   },
   {
    "duration": 4,
    "start_time": "2022-02-17T12:44:19.749Z"
   },
   {
    "duration": 34,
    "start_time": "2022-02-17T12:44:27.158Z"
   },
   {
    "duration": 369,
    "start_time": "2022-02-17T12:47:51.475Z"
   },
   {
    "duration": 803,
    "start_time": "2022-02-17T12:49:37.344Z"
   },
   {
    "duration": 5,
    "start_time": "2022-02-17T12:49:52.209Z"
   },
   {
    "duration": 38,
    "start_time": "2022-02-17T12:49:52.217Z"
   },
   {
    "duration": 23,
    "start_time": "2022-02-17T12:49:52.257Z"
   },
   {
    "duration": 41,
    "start_time": "2022-02-17T12:49:52.283Z"
   },
   {
    "duration": 14,
    "start_time": "2022-02-17T12:49:52.326Z"
   },
   {
    "duration": 8,
    "start_time": "2022-02-17T12:49:52.342Z"
   },
   {
    "duration": 568,
    "start_time": "2022-02-17T12:49:52.352Z"
   },
   {
    "duration": 8,
    "start_time": "2022-02-17T12:50:27.484Z"
   },
   {
    "duration": 18,
    "start_time": "2022-02-17T12:50:34.313Z"
   },
   {
    "duration": 25,
    "start_time": "2022-02-17T12:53:01.372Z"
   },
   {
    "duration": 299,
    "start_time": "2022-02-17T12:56:34.516Z"
   },
   {
    "duration": 34155,
    "start_time": "2022-02-17T12:56:42.939Z"
   },
   {
    "duration": 5,
    "start_time": "2022-02-17T13:05:32.059Z"
   },
   {
    "duration": 20,
    "start_time": "2022-02-17T13:05:40.341Z"
   },
   {
    "duration": 236,
    "start_time": "2022-02-17T13:37:22.984Z"
   },
   {
    "duration": 6,
    "start_time": "2022-02-17T13:37:33.657Z"
   },
   {
    "duration": 43,
    "start_time": "2022-02-17T13:37:33.665Z"
   },
   {
    "duration": 25,
    "start_time": "2022-02-17T13:37:33.710Z"
   },
   {
    "duration": 15,
    "start_time": "2022-02-17T13:37:33.738Z"
   },
   {
    "duration": 10,
    "start_time": "2022-02-17T13:37:33.755Z"
   },
   {
    "duration": 9,
    "start_time": "2022-02-17T13:37:33.767Z"
   },
   {
    "duration": 34,
    "start_time": "2022-02-17T13:37:33.778Z"
   },
   {
    "duration": 38,
    "start_time": "2022-02-17T13:37:33.816Z"
   },
   {
    "duration": 58,
    "start_time": "2022-02-17T13:37:33.857Z"
   },
   {
    "duration": 19,
    "start_time": "2022-02-17T13:37:33.917Z"
   },
   {
    "duration": 9,
    "start_time": "2022-02-17T13:37:33.939Z"
   },
   {
    "duration": 8,
    "start_time": "2022-02-17T13:37:33.951Z"
   },
   {
    "duration": 220,
    "start_time": "2022-02-17T13:43:02.029Z"
   },
   {
    "duration": 7,
    "start_time": "2022-02-17T13:43:09.350Z"
   },
   {
    "duration": 28,
    "start_time": "2022-02-17T13:43:09.359Z"
   },
   {
    "duration": 25,
    "start_time": "2022-02-17T13:43:09.389Z"
   },
   {
    "duration": 16,
    "start_time": "2022-02-17T13:43:09.417Z"
   },
   {
    "duration": 12,
    "start_time": "2022-02-17T13:43:09.436Z"
   },
   {
    "duration": 11,
    "start_time": "2022-02-17T13:43:09.450Z"
   },
   {
    "duration": 12,
    "start_time": "2022-02-17T13:43:09.464Z"
   },
   {
    "duration": 33,
    "start_time": "2022-02-17T13:43:09.479Z"
   },
   {
    "duration": 29,
    "start_time": "2022-02-17T13:43:09.515Z"
   },
   {
    "duration": 292,
    "start_time": "2022-02-17T13:43:09.546Z"
   },
   {
    "duration": -131,
    "start_time": "2022-02-17T13:43:09.971Z"
   },
   {
    "duration": -131,
    "start_time": "2022-02-17T13:43:09.973Z"
   },
   {
    "duration": 6,
    "start_time": "2022-02-17T13:43:41.730Z"
   },
   {
    "duration": 47,
    "start_time": "2022-02-17T13:43:41.739Z"
   },
   {
    "duration": 24,
    "start_time": "2022-02-17T13:43:41.789Z"
   },
   {
    "duration": 28,
    "start_time": "2022-02-17T13:43:41.816Z"
   },
   {
    "duration": 19,
    "start_time": "2022-02-17T13:43:41.847Z"
   },
   {
    "duration": 26,
    "start_time": "2022-02-17T13:43:41.868Z"
   },
   {
    "duration": 31,
    "start_time": "2022-02-17T13:43:41.897Z"
   },
   {
    "duration": 44,
    "start_time": "2022-02-17T13:43:41.930Z"
   },
   {
    "duration": 24,
    "start_time": "2022-02-17T13:43:41.977Z"
   },
   {
    "duration": 233,
    "start_time": "2022-02-17T13:43:42.004Z"
   },
   {
    "duration": -147,
    "start_time": "2022-02-17T13:43:42.387Z"
   },
   {
    "duration": -149,
    "start_time": "2022-02-17T13:43:42.390Z"
   },
   {
    "duration": 9,
    "start_time": "2022-02-17T13:44:31.975Z"
   },
   {
    "duration": 7,
    "start_time": "2022-02-17T13:44:47.730Z"
   },
   {
    "duration": 5,
    "start_time": "2022-02-17T13:44:48.219Z"
   },
   {
    "duration": 6,
    "start_time": "2022-02-17T13:45:00.082Z"
   },
   {
    "duration": 46,
    "start_time": "2022-02-17T13:45:00.090Z"
   },
   {
    "duration": 48,
    "start_time": "2022-02-17T13:45:00.140Z"
   },
   {
    "duration": 17,
    "start_time": "2022-02-17T13:45:00.190Z"
   },
   {
    "duration": 59,
    "start_time": "2022-02-17T13:45:00.209Z"
   },
   {
    "duration": 38,
    "start_time": "2022-02-17T13:45:00.270Z"
   },
   {
    "duration": 35,
    "start_time": "2022-02-17T13:45:00.310Z"
   },
   {
    "duration": 50,
    "start_time": "2022-02-17T13:45:00.347Z"
   },
   {
    "duration": 64,
    "start_time": "2022-02-17T13:45:00.400Z"
   },
   {
    "duration": 41,
    "start_time": "2022-02-17T13:45:00.466Z"
   },
   {
    "duration": 11,
    "start_time": "2022-02-17T13:45:00.510Z"
   },
   {
    "duration": 33,
    "start_time": "2022-02-17T13:45:00.523Z"
   },
   {
    "duration": 6,
    "start_time": "2022-02-17T13:46:04.186Z"
   },
   {
    "duration": 43,
    "start_time": "2022-02-17T13:46:04.194Z"
   },
   {
    "duration": 24,
    "start_time": "2022-02-17T13:46:04.240Z"
   },
   {
    "duration": 12,
    "start_time": "2022-02-17T13:46:04.266Z"
   },
   {
    "duration": 29,
    "start_time": "2022-02-17T13:46:04.280Z"
   },
   {
    "duration": 11,
    "start_time": "2022-02-17T13:46:04.311Z"
   },
   {
    "duration": 18,
    "start_time": "2022-02-17T13:46:04.324Z"
   },
   {
    "duration": 35,
    "start_time": "2022-02-17T13:46:04.345Z"
   },
   {
    "duration": 38,
    "start_time": "2022-02-17T13:46:04.383Z"
   },
   {
    "duration": 33,
    "start_time": "2022-02-17T13:46:04.424Z"
   },
   {
    "duration": 54,
    "start_time": "2022-02-17T13:46:04.459Z"
   },
   {
    "duration": 6,
    "start_time": "2022-02-17T13:46:40.330Z"
   },
   {
    "duration": 34,
    "start_time": "2022-02-17T13:46:40.338Z"
   },
   {
    "duration": 28,
    "start_time": "2022-02-17T13:46:40.374Z"
   },
   {
    "duration": 20,
    "start_time": "2022-02-17T13:46:40.405Z"
   },
   {
    "duration": 12,
    "start_time": "2022-02-17T13:46:40.428Z"
   },
   {
    "duration": 13,
    "start_time": "2022-02-17T13:46:40.443Z"
   },
   {
    "duration": 40,
    "start_time": "2022-02-17T13:46:40.459Z"
   },
   {
    "duration": 28,
    "start_time": "2022-02-17T13:46:40.502Z"
   },
   {
    "duration": 24,
    "start_time": "2022-02-17T13:46:40.532Z"
   },
   {
    "duration": 6,
    "start_time": "2022-02-17T13:46:40.558Z"
   },
   {
    "duration": 16,
    "start_time": "2022-02-17T13:46:40.566Z"
   },
   {
    "duration": 23,
    "start_time": "2022-02-17T13:46:40.585Z"
   },
   {
    "duration": 6,
    "start_time": "2022-02-17T13:47:07.746Z"
   },
   {
    "duration": 28,
    "start_time": "2022-02-17T13:47:07.754Z"
   },
   {
    "duration": 23,
    "start_time": "2022-02-17T13:47:07.785Z"
   },
   {
    "duration": 19,
    "start_time": "2022-02-17T13:47:07.811Z"
   },
   {
    "duration": 9,
    "start_time": "2022-02-17T13:47:07.832Z"
   },
   {
    "duration": 10,
    "start_time": "2022-02-17T13:47:07.844Z"
   },
   {
    "duration": 10,
    "start_time": "2022-02-17T13:47:07.856Z"
   },
   {
    "duration": 24,
    "start_time": "2022-02-17T13:47:07.868Z"
   },
   {
    "duration": 22,
    "start_time": "2022-02-17T13:47:07.909Z"
   },
   {
    "duration": 7,
    "start_time": "2022-02-17T13:47:07.933Z"
   },
   {
    "duration": 23,
    "start_time": "2022-02-17T13:47:07.942Z"
   },
   {
    "duration": 8,
    "start_time": "2022-02-17T13:47:07.967Z"
   },
   {
    "duration": 14,
    "start_time": "2022-02-17T13:48:03.816Z"
   },
   {
    "duration": 5,
    "start_time": "2022-02-17T13:48:07.149Z"
   },
   {
    "duration": 33,
    "start_time": "2022-02-17T13:48:07.156Z"
   },
   {
    "duration": 27,
    "start_time": "2022-02-17T13:48:07.191Z"
   },
   {
    "duration": 11,
    "start_time": "2022-02-17T13:48:07.220Z"
   },
   {
    "duration": 9,
    "start_time": "2022-02-17T13:48:07.233Z"
   },
   {
    "duration": 6,
    "start_time": "2022-02-17T13:48:07.244Z"
   },
   {
    "duration": 9,
    "start_time": "2022-02-17T13:48:07.252Z"
   },
   {
    "duration": 43,
    "start_time": "2022-02-17T13:48:07.264Z"
   },
   {
    "duration": 23,
    "start_time": "2022-02-17T13:48:07.311Z"
   },
   {
    "duration": 39,
    "start_time": "2022-02-17T13:48:07.337Z"
   },
   {
    "duration": 18,
    "start_time": "2022-02-17T13:48:07.378Z"
   },
   {
    "duration": 207,
    "start_time": "2022-02-17T14:00:24.844Z"
   },
   {
    "duration": 214,
    "start_time": "2022-02-17T14:05:03.710Z"
   },
   {
    "duration": 5,
    "start_time": "2022-02-17T14:05:07.005Z"
   },
   {
    "duration": 40,
    "start_time": "2022-02-17T14:05:07.013Z"
   },
   {
    "duration": 27,
    "start_time": "2022-02-17T14:05:07.056Z"
   },
   {
    "duration": 28,
    "start_time": "2022-02-17T14:05:07.085Z"
   },
   {
    "duration": 25,
    "start_time": "2022-02-17T14:05:07.115Z"
   },
   {
    "duration": 17,
    "start_time": "2022-02-17T14:05:07.142Z"
   },
   {
    "duration": 22,
    "start_time": "2022-02-17T14:05:07.161Z"
   },
   {
    "duration": 46,
    "start_time": "2022-02-17T14:05:07.186Z"
   },
   {
    "duration": 34,
    "start_time": "2022-02-17T14:05:07.234Z"
   },
   {
    "duration": 9,
    "start_time": "2022-02-17T14:05:07.270Z"
   },
   {
    "duration": 38,
    "start_time": "2022-02-17T14:05:07.281Z"
   },
   {
    "duration": 244,
    "start_time": "2022-02-17T14:05:07.321Z"
   },
   {
    "duration": 287,
    "start_time": "2022-02-17T14:05:27.781Z"
   },
   {
    "duration": 32,
    "start_time": "2022-02-17T14:06:08.622Z"
   },
   {
    "duration": 194,
    "start_time": "2022-02-17T14:13:52.713Z"
   },
   {
    "duration": 207,
    "start_time": "2022-02-17T14:31:55.941Z"
   },
   {
    "duration": 205,
    "start_time": "2022-02-17T14:37:36.206Z"
   },
   {
    "duration": 90,
    "start_time": "2022-02-17T14:38:36.420Z"
   },
   {
    "duration": 379,
    "start_time": "2022-02-17T22:05:17.587Z"
   },
   {
    "duration": 1574,
    "start_time": "2022-02-17T22:05:28.828Z"
   },
   {
    "duration": 33,
    "start_time": "2022-02-17T22:05:30.405Z"
   },
   {
    "duration": 44,
    "start_time": "2022-02-17T22:05:30.442Z"
   },
   {
    "duration": 14,
    "start_time": "2022-02-17T22:05:30.488Z"
   },
   {
    "duration": 9,
    "start_time": "2022-02-17T22:05:30.505Z"
   },
   {
    "duration": 46,
    "start_time": "2022-02-17T22:05:30.516Z"
   },
   {
    "duration": 11,
    "start_time": "2022-02-17T22:05:30.565Z"
   },
   {
    "duration": 33,
    "start_time": "2022-02-17T22:05:30.578Z"
   },
   {
    "duration": 56,
    "start_time": "2022-02-17T22:05:30.615Z"
   },
   {
    "duration": 8,
    "start_time": "2022-02-17T22:05:30.673Z"
   },
   {
    "duration": 19,
    "start_time": "2022-02-17T22:05:30.683Z"
   },
   {
    "duration": 81,
    "start_time": "2022-02-17T22:05:30.705Z"
   },
   {
    "duration": 319,
    "start_time": "2022-02-17T22:05:30.788Z"
   },
   {
    "duration": 25,
    "start_time": "2022-02-17T22:05:31.109Z"
   },
   {
    "duration": 10,
    "start_time": "2022-02-17T22:05:50.649Z"
   },
   {
    "duration": 100,
    "start_time": "2022-02-17T23:28:55.797Z"
   },
   {
    "duration": 9,
    "start_time": "2022-02-17T23:29:00.429Z"
   },
   {
    "duration": 40,
    "start_time": "2022-02-17T23:29:00.442Z"
   },
   {
    "duration": 31,
    "start_time": "2022-02-17T23:29:00.485Z"
   },
   {
    "duration": 15,
    "start_time": "2022-02-17T23:29:00.518Z"
   },
   {
    "duration": 31,
    "start_time": "2022-02-17T23:29:00.535Z"
   },
   {
    "duration": 15,
    "start_time": "2022-02-17T23:29:00.568Z"
   },
   {
    "duration": 7,
    "start_time": "2022-02-17T23:29:00.586Z"
   },
   {
    "duration": 27,
    "start_time": "2022-02-17T23:29:00.596Z"
   },
   {
    "duration": 64,
    "start_time": "2022-02-17T23:29:00.627Z"
   },
   {
    "duration": 8,
    "start_time": "2022-02-17T23:29:00.694Z"
   },
   {
    "duration": 29,
    "start_time": "2022-02-17T23:29:00.705Z"
   },
   {
    "duration": 70,
    "start_time": "2022-02-17T23:29:00.736Z"
   },
   {
    "duration": 311,
    "start_time": "2022-02-17T23:29:00.808Z"
   },
   {
    "duration": 102,
    "start_time": "2022-02-17T23:29:01.122Z"
   },
   {
    "duration": 433,
    "start_time": "2022-02-17T23:35:17.363Z"
   },
   {
    "duration": 355,
    "start_time": "2022-02-17T23:35:39.500Z"
   },
   {
    "duration": 7,
    "start_time": "2022-02-17T23:35:43.221Z"
   },
   {
    "duration": 45,
    "start_time": "2022-02-17T23:35:43.231Z"
   },
   {
    "duration": 32,
    "start_time": "2022-02-17T23:35:43.279Z"
   },
   {
    "duration": 15,
    "start_time": "2022-02-17T23:35:43.314Z"
   },
   {
    "duration": 41,
    "start_time": "2022-02-17T23:35:43.332Z"
   },
   {
    "duration": 11,
    "start_time": "2022-02-17T23:35:43.376Z"
   },
   {
    "duration": 12,
    "start_time": "2022-02-17T23:35:43.389Z"
   },
   {
    "duration": 27,
    "start_time": "2022-02-17T23:35:43.405Z"
   },
   {
    "duration": 68,
    "start_time": "2022-02-17T23:35:43.435Z"
   },
   {
    "duration": 9,
    "start_time": "2022-02-17T23:35:43.506Z"
   },
   {
    "duration": 51,
    "start_time": "2022-02-17T23:35:43.518Z"
   },
   {
    "duration": 52,
    "start_time": "2022-02-17T23:35:43.572Z"
   },
   {
    "duration": 358,
    "start_time": "2022-02-17T23:35:43.627Z"
   },
   {
    "duration": 338,
    "start_time": "2022-02-17T23:35:43.987Z"
   },
   {
    "duration": 7,
    "start_time": "2022-02-17T23:36:23.444Z"
   },
   {
    "duration": 46,
    "start_time": "2022-02-17T23:36:23.454Z"
   },
   {
    "duration": 31,
    "start_time": "2022-02-17T23:36:23.504Z"
   },
   {
    "duration": 27,
    "start_time": "2022-02-17T23:36:23.538Z"
   },
   {
    "duration": 14,
    "start_time": "2022-02-17T23:36:23.569Z"
   },
   {
    "duration": 7,
    "start_time": "2022-02-17T23:36:23.585Z"
   },
   {
    "duration": 9,
    "start_time": "2022-02-17T23:36:23.594Z"
   },
   {
    "duration": 62,
    "start_time": "2022-02-17T23:36:23.606Z"
   },
   {
    "duration": 33,
    "start_time": "2022-02-17T23:36:23.673Z"
   },
   {
    "duration": 7,
    "start_time": "2022-02-17T23:36:23.709Z"
   },
   {
    "duration": 59,
    "start_time": "2022-02-17T23:36:23.718Z"
   },
   {
    "duration": 52,
    "start_time": "2022-02-17T23:36:23.780Z"
   },
   {
    "duration": 357,
    "start_time": "2022-02-17T23:36:23.834Z"
   },
   {
    "duration": 131,
    "start_time": "2022-02-17T23:36:24.194Z"
   },
   {
    "duration": 137,
    "start_time": "2022-02-17T23:37:36.357Z"
   },
   {
    "duration": 115,
    "start_time": "2022-02-17T23:41:25.306Z"
   },
   {
    "duration": 146,
    "start_time": "2022-02-17T23:41:56.785Z"
   },
   {
    "duration": 114,
    "start_time": "2022-02-17T23:42:03.225Z"
   },
   {
    "duration": 7,
    "start_time": "2022-02-17T23:42:06.962Z"
   },
   {
    "duration": 31,
    "start_time": "2022-02-17T23:42:06.972Z"
   },
   {
    "duration": 54,
    "start_time": "2022-02-17T23:42:07.006Z"
   },
   {
    "duration": 11,
    "start_time": "2022-02-17T23:42:07.063Z"
   },
   {
    "duration": 10,
    "start_time": "2022-02-17T23:42:07.077Z"
   },
   {
    "duration": 5,
    "start_time": "2022-02-17T23:42:07.090Z"
   },
   {
    "duration": 9,
    "start_time": "2022-02-17T23:42:07.097Z"
   },
   {
    "duration": 66,
    "start_time": "2022-02-17T23:42:07.109Z"
   },
   {
    "duration": 31,
    "start_time": "2022-02-17T23:42:07.178Z"
   },
   {
    "duration": 9,
    "start_time": "2022-02-17T23:42:07.211Z"
   },
   {
    "duration": 50,
    "start_time": "2022-02-17T23:42:07.222Z"
   },
   {
    "duration": 43,
    "start_time": "2022-02-17T23:42:07.275Z"
   },
   {
    "duration": 321,
    "start_time": "2022-02-17T23:42:07.320Z"
   },
   {
    "duration": 103,
    "start_time": "2022-02-17T23:42:07.643Z"
   },
   {
    "duration": 106,
    "start_time": "2022-02-17T23:42:24.805Z"
   },
   {
    "duration": 8,
    "start_time": "2022-02-17T23:42:53.025Z"
   },
   {
    "duration": 34,
    "start_time": "2022-02-17T23:42:53.035Z"
   },
   {
    "duration": 33,
    "start_time": "2022-02-17T23:42:53.072Z"
   },
   {
    "duration": 15,
    "start_time": "2022-02-17T23:42:53.109Z"
   },
   {
    "duration": 9,
    "start_time": "2022-02-17T23:42:53.127Z"
   },
   {
    "duration": 27,
    "start_time": "2022-02-17T23:42:53.138Z"
   },
   {
    "duration": 7,
    "start_time": "2022-02-17T23:42:53.167Z"
   },
   {
    "duration": 27,
    "start_time": "2022-02-17T23:42:53.177Z"
   },
   {
    "duration": 74,
    "start_time": "2022-02-17T23:42:53.208Z"
   },
   {
    "duration": 8,
    "start_time": "2022-02-17T23:42:53.285Z"
   },
   {
    "duration": 23,
    "start_time": "2022-02-17T23:42:53.296Z"
   },
   {
    "duration": 78,
    "start_time": "2022-02-17T23:42:53.321Z"
   },
   {
    "duration": 327,
    "start_time": "2022-02-17T23:42:53.402Z"
   },
   {
    "duration": 101,
    "start_time": "2022-02-17T23:42:53.731Z"
   },
   {
    "duration": 118,
    "start_time": "2022-02-17T23:43:03.867Z"
   },
   {
    "duration": 102,
    "start_time": "2022-02-17T23:43:21.024Z"
   },
   {
    "duration": 7,
    "start_time": "2022-02-17T23:43:26.306Z"
   },
   {
    "duration": 34,
    "start_time": "2022-02-17T23:43:26.316Z"
   },
   {
    "duration": 32,
    "start_time": "2022-02-17T23:43:26.353Z"
   },
   {
    "duration": 19,
    "start_time": "2022-02-17T23:43:26.388Z"
   },
   {
    "duration": 9,
    "start_time": "2022-02-17T23:43:26.414Z"
   },
   {
    "duration": 5,
    "start_time": "2022-02-17T23:43:26.426Z"
   },
   {
    "duration": 31,
    "start_time": "2022-02-17T23:43:26.433Z"
   },
   {
    "duration": 102,
    "start_time": "2022-02-17T23:43:26.468Z"
   },
   {
    "duration": 29,
    "start_time": "2022-02-17T23:43:26.573Z"
   },
   {
    "duration": 6,
    "start_time": "2022-02-17T23:43:26.605Z"
   },
   {
    "duration": 15,
    "start_time": "2022-02-17T23:43:26.614Z"
   },
   {
    "duration": 49,
    "start_time": "2022-02-17T23:43:26.662Z"
   },
   {
    "duration": 328,
    "start_time": "2022-02-17T23:43:26.714Z"
   },
   {
    "duration": 105,
    "start_time": "2022-02-17T23:43:27.045Z"
   },
   {
    "duration": 129,
    "start_time": "2022-02-17T23:44:02.853Z"
   },
   {
    "duration": 7,
    "start_time": "2022-02-17T23:44:08.530Z"
   },
   {
    "duration": 31,
    "start_time": "2022-02-17T23:44:08.540Z"
   },
   {
    "duration": 31,
    "start_time": "2022-02-17T23:44:08.574Z"
   },
   {
    "duration": 12,
    "start_time": "2022-02-17T23:44:08.608Z"
   },
   {
    "duration": 9,
    "start_time": "2022-02-17T23:44:08.622Z"
   },
   {
    "duration": 6,
    "start_time": "2022-02-17T23:44:08.662Z"
   },
   {
    "duration": 7,
    "start_time": "2022-02-17T23:44:08.670Z"
   },
   {
    "duration": 26,
    "start_time": "2022-02-17T23:44:08.679Z"
   },
   {
    "duration": 65,
    "start_time": "2022-02-17T23:44:08.709Z"
   },
   {
    "duration": 6,
    "start_time": "2022-02-17T23:44:08.777Z"
   },
   {
    "duration": 15,
    "start_time": "2022-02-17T23:44:08.786Z"
   },
   {
    "duration": 78,
    "start_time": "2022-02-17T23:44:08.803Z"
   },
   {
    "duration": 301,
    "start_time": "2022-02-17T23:44:08.884Z"
   },
   {
    "duration": 143,
    "start_time": "2022-02-17T23:44:09.188Z"
   },
   {
    "duration": 125,
    "start_time": "2022-02-17T23:44:29.373Z"
   },
   {
    "duration": 1524,
    "start_time": "2022-02-18T07:36:24.436Z"
   },
   {
    "duration": 37,
    "start_time": "2022-02-18T07:36:25.963Z"
   },
   {
    "duration": 38,
    "start_time": "2022-02-18T07:36:26.004Z"
   },
   {
    "duration": 14,
    "start_time": "2022-02-18T07:36:26.046Z"
   },
   {
    "duration": 11,
    "start_time": "2022-02-18T07:36:26.062Z"
   },
   {
    "duration": 8,
    "start_time": "2022-02-18T07:36:26.112Z"
   },
   {
    "duration": 6,
    "start_time": "2022-02-18T07:36:26.123Z"
   },
   {
    "duration": 28,
    "start_time": "2022-02-18T07:36:26.132Z"
   },
   {
    "duration": 72,
    "start_time": "2022-02-18T07:36:26.163Z"
   },
   {
    "duration": 8,
    "start_time": "2022-02-18T07:36:26.238Z"
   },
   {
    "duration": 17,
    "start_time": "2022-02-18T07:36:26.249Z"
   },
   {
    "duration": 78,
    "start_time": "2022-02-18T07:36:26.268Z"
   },
   {
    "duration": 336,
    "start_time": "2022-02-18T07:36:26.349Z"
   },
   {
    "duration": 191,
    "start_time": "2022-02-18T07:36:26.687Z"
   },
   {
    "duration": 144,
    "start_time": "2022-02-18T07:42:29.598Z"
   },
   {
    "duration": 105,
    "start_time": "2022-02-18T07:42:47.671Z"
   },
   {
    "duration": 37,
    "start_time": "2022-02-18T07:42:54.069Z"
   },
   {
    "duration": 109,
    "start_time": "2022-02-18T07:45:04.288Z"
   },
   {
    "duration": 45,
    "start_time": "2022-02-18T07:45:16.097Z"
   },
   {
    "duration": 48,
    "start_time": "2022-02-18T07:53:47.937Z"
   },
   {
    "duration": 49,
    "start_time": "2022-02-18T07:56:52.247Z"
   },
   {
    "duration": 48,
    "start_time": "2022-02-18T07:57:15.307Z"
   },
   {
    "duration": 53,
    "start_time": "2022-02-18T08:01:59.274Z"
   },
   {
    "duration": 7,
    "start_time": "2022-02-18T08:02:06.166Z"
   },
   {
    "duration": 37,
    "start_time": "2022-02-18T08:02:06.176Z"
   },
   {
    "duration": 31,
    "start_time": "2022-02-18T08:02:06.215Z"
   },
   {
    "duration": 11,
    "start_time": "2022-02-18T08:02:06.248Z"
   },
   {
    "duration": 8,
    "start_time": "2022-02-18T08:02:06.262Z"
   },
   {
    "duration": 39,
    "start_time": "2022-02-18T08:02:06.272Z"
   },
   {
    "duration": 10,
    "start_time": "2022-02-18T08:02:06.313Z"
   },
   {
    "duration": 24,
    "start_time": "2022-02-18T08:02:06.325Z"
   },
   {
    "duration": 63,
    "start_time": "2022-02-18T08:02:06.352Z"
   },
   {
    "duration": 7,
    "start_time": "2022-02-18T08:02:06.418Z"
   },
   {
    "duration": 16,
    "start_time": "2022-02-18T08:02:06.427Z"
   },
   {
    "duration": 75,
    "start_time": "2022-02-18T08:02:06.445Z"
   },
   {
    "duration": 307,
    "start_time": "2022-02-18T08:02:06.523Z"
   },
   {
    "duration": 129,
    "start_time": "2022-02-18T08:02:06.832Z"
   },
   {
    "duration": 61,
    "start_time": "2022-02-18T08:02:06.963Z"
   },
   {
    "duration": 521,
    "start_time": "2022-02-18T08:02:27.102Z"
   },
   {
    "duration": 53,
    "start_time": "2022-02-18T08:03:23.712Z"
   },
   {
    "duration": 333,
    "start_time": "2022-02-18T09:04:39.328Z"
   },
   {
    "duration": 127,
    "start_time": "2022-02-18T09:07:59.054Z"
   },
   {
    "duration": 6,
    "start_time": "2022-02-18T09:23:09.436Z"
   },
   {
    "duration": 38,
    "start_time": "2022-02-18T09:23:09.446Z"
   },
   {
    "duration": 52,
    "start_time": "2022-02-18T09:23:09.486Z"
   },
   {
    "duration": 12,
    "start_time": "2022-02-18T09:23:09.540Z"
   },
   {
    "duration": 8,
    "start_time": "2022-02-18T09:23:09.554Z"
   },
   {
    "duration": 5,
    "start_time": "2022-02-18T09:23:09.564Z"
   },
   {
    "duration": 49,
    "start_time": "2022-02-18T09:23:09.573Z"
   },
   {
    "duration": 27,
    "start_time": "2022-02-18T09:23:09.625Z"
   },
   {
    "duration": 32,
    "start_time": "2022-02-18T09:23:09.654Z"
   },
   {
    "duration": 34,
    "start_time": "2022-02-18T09:23:09.688Z"
   },
   {
    "duration": 17,
    "start_time": "2022-02-18T09:23:09.724Z"
   },
   {
    "duration": 48,
    "start_time": "2022-02-18T09:23:09.744Z"
   },
   {
    "duration": 324,
    "start_time": "2022-02-18T09:23:09.819Z"
   },
   {
    "duration": 138,
    "start_time": "2022-02-18T09:23:10.145Z"
   },
   {
    "duration": 61,
    "start_time": "2022-02-18T09:23:10.286Z"
   },
   {
    "duration": 3236,
    "start_time": "2022-02-18T09:23:10.350Z"
   },
   {
    "duration": 318,
    "start_time": "2022-02-19T20:31:41.621Z"
   },
   {
    "duration": 1575,
    "start_time": "2022-02-19T20:31:47.069Z"
   },
   {
    "duration": 41,
    "start_time": "2022-02-19T20:31:48.649Z"
   },
   {
    "duration": 55,
    "start_time": "2022-02-19T20:31:48.695Z"
   },
   {
    "duration": 13,
    "start_time": "2022-02-19T20:31:48.754Z"
   },
   {
    "duration": 9,
    "start_time": "2022-02-19T20:31:48.770Z"
   },
   {
    "duration": 6,
    "start_time": "2022-02-19T20:31:48.782Z"
   },
   {
    "duration": 21,
    "start_time": "2022-02-19T20:31:48.791Z"
   },
   {
    "duration": 68,
    "start_time": "2022-02-19T20:31:48.816Z"
   },
   {
    "duration": 62,
    "start_time": "2022-02-19T20:31:48.889Z"
   },
   {
    "duration": 8,
    "start_time": "2022-02-19T20:31:48.954Z"
   },
   {
    "duration": 19,
    "start_time": "2022-02-19T20:31:48.965Z"
   },
   {
    "duration": 82,
    "start_time": "2022-02-19T20:31:48.987Z"
   },
   {
    "duration": 351,
    "start_time": "2022-02-19T20:31:49.072Z"
   },
   {
    "duration": 354,
    "start_time": "2022-02-19T20:31:49.426Z"
   },
   {
    "duration": 1676,
    "start_time": "2022-02-19T20:31:48.106Z"
   },
   {
    "duration": 1677,
    "start_time": "2022-02-19T20:31:48.107Z"
   },
   {
    "duration": 264,
    "start_time": "2022-02-19T20:34:46.491Z"
   },
   {
    "duration": 258,
    "start_time": "2022-02-19T20:34:58.972Z"
   },
   {
    "duration": 10,
    "start_time": "2022-02-19T20:35:06.352Z"
   },
   {
    "duration": 22,
    "start_time": "2022-02-19T20:36:28.861Z"
   },
   {
    "duration": 10,
    "start_time": "2022-02-19T20:36:41.306Z"
   },
   {
    "duration": 42,
    "start_time": "2022-02-19T20:36:41.320Z"
   },
   {
    "duration": 49,
    "start_time": "2022-02-19T20:36:41.367Z"
   },
   {
    "duration": 33,
    "start_time": "2022-02-19T20:36:41.419Z"
   },
   {
    "duration": 12,
    "start_time": "2022-02-19T20:36:41.455Z"
   },
   {
    "duration": 17,
    "start_time": "2022-02-19T20:36:41.470Z"
   },
   {
    "duration": 11,
    "start_time": "2022-02-19T20:36:41.490Z"
   },
   {
    "duration": 60,
    "start_time": "2022-02-19T20:36:41.504Z"
   },
   {
    "duration": 36,
    "start_time": "2022-02-19T20:36:41.568Z"
   },
   {
    "duration": 9,
    "start_time": "2022-02-19T20:36:41.607Z"
   },
   {
    "duration": 16,
    "start_time": "2022-02-19T20:36:41.649Z"
   },
   {
    "duration": 62,
    "start_time": "2022-02-19T20:36:41.667Z"
   },
   {
    "duration": 333,
    "start_time": "2022-02-19T20:36:41.731Z"
   },
   {
    "duration": 150,
    "start_time": "2022-02-19T20:36:42.067Z"
   },
   {
    "duration": 66,
    "start_time": "2022-02-19T20:36:42.220Z"
   },
   {
    "duration": 3159,
    "start_time": "2022-02-19T20:36:42.288Z"
   },
   {
    "duration": 9,
    "start_time": "2022-02-19T21:31:24.349Z"
   },
   {
    "duration": 38,
    "start_time": "2022-02-19T21:31:24.362Z"
   },
   {
    "duration": 54,
    "start_time": "2022-02-19T21:31:24.402Z"
   },
   {
    "duration": 14,
    "start_time": "2022-02-19T21:31:24.459Z"
   },
   {
    "duration": 9,
    "start_time": "2022-02-19T21:31:24.476Z"
   },
   {
    "duration": 13,
    "start_time": "2022-02-19T21:31:24.488Z"
   },
   {
    "duration": 47,
    "start_time": "2022-02-19T21:31:24.504Z"
   },
   {
    "duration": 33,
    "start_time": "2022-02-19T21:31:24.554Z"
   },
   {
    "duration": 65,
    "start_time": "2022-02-19T21:31:24.593Z"
   },
   {
    "duration": 10,
    "start_time": "2022-02-19T21:31:24.661Z"
   },
   {
    "duration": 18,
    "start_time": "2022-02-19T21:31:24.673Z"
   },
   {
    "duration": 85,
    "start_time": "2022-02-19T21:31:24.694Z"
   },
   {
    "duration": 323,
    "start_time": "2022-02-19T21:31:24.782Z"
   },
   {
    "duration": 142,
    "start_time": "2022-02-19T21:31:25.108Z"
   },
   {
    "duration": 52,
    "start_time": "2022-02-19T21:31:25.252Z"
   },
   {
    "duration": 3180,
    "start_time": "2022-02-19T21:31:25.306Z"
   },
   {
    "duration": 599,
    "start_time": "2022-02-19T21:31:28.488Z"
   },
   {
    "duration": 360,
    "start_time": "2022-02-19T21:39:50.502Z"
   },
   {
    "duration": 572,
    "start_time": "2022-02-19T21:46:52.669Z"
   },
   {
    "duration": 27,
    "start_time": "2022-02-19T22:02:38.256Z"
   },
   {
    "duration": 204,
    "start_time": "2022-02-19T22:03:03.245Z"
   },
   {
    "duration": 9,
    "start_time": "2022-02-19T22:03:07.917Z"
   },
   {
    "duration": 38,
    "start_time": "2022-02-19T22:03:07.929Z"
   },
   {
    "duration": 31,
    "start_time": "2022-02-19T22:03:07.970Z"
   },
   {
    "duration": 16,
    "start_time": "2022-02-19T22:03:08.004Z"
   },
   {
    "duration": 34,
    "start_time": "2022-02-19T22:03:08.022Z"
   },
   {
    "duration": 17,
    "start_time": "2022-02-19T22:03:08.058Z"
   },
   {
    "duration": 6,
    "start_time": "2022-02-19T22:03:08.077Z"
   },
   {
    "duration": 33,
    "start_time": "2022-02-19T22:03:08.086Z"
   },
   {
    "duration": 33,
    "start_time": "2022-02-19T22:03:08.151Z"
   },
   {
    "duration": 7,
    "start_time": "2022-02-19T22:03:08.188Z"
   },
   {
    "duration": 20,
    "start_time": "2022-02-19T22:03:08.198Z"
   },
   {
    "duration": 51,
    "start_time": "2022-02-19T22:03:08.248Z"
   },
   {
    "duration": 339,
    "start_time": "2022-02-19T22:03:08.302Z"
   },
   {
    "duration": 140,
    "start_time": "2022-02-19T22:03:08.644Z"
   },
   {
    "duration": 66,
    "start_time": "2022-02-19T22:03:08.787Z"
   },
   {
    "duration": 3097,
    "start_time": "2022-02-19T22:03:08.855Z"
   },
   {
    "duration": 579,
    "start_time": "2022-02-19T22:03:11.955Z"
   },
   {
    "duration": 214,
    "start_time": "2022-02-19T22:03:12.537Z"
   },
   {
    "duration": 161,
    "start_time": "2022-02-20T11:16:37.214Z"
   },
   {
    "duration": 1062,
    "start_time": "2022-02-20T11:16:41.779Z"
   },
   {
    "duration": 29,
    "start_time": "2022-02-20T11:16:42.843Z"
   },
   {
    "duration": 23,
    "start_time": "2022-02-20T11:16:42.874Z"
   },
   {
    "duration": 8,
    "start_time": "2022-02-20T11:16:42.898Z"
   },
   {
    "duration": 7,
    "start_time": "2022-02-20T11:16:42.908Z"
   },
   {
    "duration": 12,
    "start_time": "2022-02-20T11:16:42.930Z"
   },
   {
    "duration": 4,
    "start_time": "2022-02-20T11:16:42.943Z"
   },
   {
    "duration": 20,
    "start_time": "2022-02-20T11:16:42.949Z"
   },
   {
    "duration": 22,
    "start_time": "2022-02-20T11:16:42.971Z"
   },
   {
    "duration": 5,
    "start_time": "2022-02-20T11:16:42.995Z"
   },
   {
    "duration": 36,
    "start_time": "2022-02-20T11:16:43.002Z"
   },
   {
    "duration": 32,
    "start_time": "2022-02-20T11:16:43.039Z"
   },
   {
    "duration": 205,
    "start_time": "2022-02-20T11:16:43.072Z"
   },
   {
    "duration": 132,
    "start_time": "2022-02-20T11:16:43.279Z"
   },
   {
    "duration": 58,
    "start_time": "2022-02-20T11:16:43.413Z"
   },
   {
    "duration": 2092,
    "start_time": "2022-02-20T11:16:43.472Z"
   },
   {
    "duration": 367,
    "start_time": "2022-02-20T11:16:45.566Z"
   },
   {
    "duration": 100,
    "start_time": "2022-02-20T11:16:45.935Z"
   },
   {
    "duration": 533,
    "start_time": "2022-02-20T11:16:46.037Z"
   },
   {
    "duration": 376,
    "start_time": "2022-02-20T11:17:09.981Z"
   },
   {
    "duration": 357,
    "start_time": "2022-02-20T11:17:17.501Z"
   },
   {
    "duration": 251,
    "start_time": "2022-02-20T11:17:25.909Z"
   },
   {
    "duration": 46,
    "start_time": "2022-02-20T11:17:39.120Z"
   },
   {
    "duration": 95,
    "start_time": "2022-02-20T11:18:31.112Z"
   },
   {
    "duration": 367,
    "start_time": "2022-02-20T11:21:10.520Z"
   },
   {
    "duration": 366,
    "start_time": "2022-02-20T11:21:17.987Z"
   },
   {
    "duration": 39,
    "start_time": "2022-02-20T11:22:42.623Z"
   },
   {
    "duration": 344,
    "start_time": "2022-02-20T11:23:12.542Z"
   },
   {
    "duration": 40,
    "start_time": "2022-02-20T11:23:13.695Z"
   },
   {
    "duration": 360,
    "start_time": "2022-02-20T11:23:29.706Z"
   },
   {
    "duration": 40,
    "start_time": "2022-02-20T11:23:30.575Z"
   },
   {
    "duration": 379,
    "start_time": "2022-02-20T11:23:36.665Z"
   },
   {
    "duration": 41,
    "start_time": "2022-02-20T11:23:37.225Z"
   },
   {
    "duration": 400,
    "start_time": "2022-02-20T11:24:02.095Z"
   },
   {
    "duration": 41,
    "start_time": "2022-02-20T11:24:02.885Z"
   },
   {
    "duration": 417,
    "start_time": "2022-02-20T11:24:09.594Z"
   },
   {
    "duration": 41,
    "start_time": "2022-02-20T11:24:11.724Z"
   },
   {
    "duration": 476,
    "start_time": "2022-02-20T11:24:18.855Z"
   },
   {
    "duration": 41,
    "start_time": "2022-02-20T11:24:19.434Z"
   },
   {
    "duration": 504,
    "start_time": "2022-02-20T11:24:25.485Z"
   },
   {
    "duration": 39,
    "start_time": "2022-02-20T11:24:26.614Z"
   },
   {
    "duration": 485,
    "start_time": "2022-02-20T11:24:30.884Z"
   },
   {
    "duration": 38,
    "start_time": "2022-02-20T11:24:31.514Z"
   },
   {
    "duration": 464,
    "start_time": "2022-02-20T11:24:35.593Z"
   },
   {
    "duration": 42,
    "start_time": "2022-02-20T11:24:36.554Z"
   },
   {
    "duration": 43,
    "start_time": "2022-02-20T11:24:44.806Z"
   },
   {
    "duration": 459,
    "start_time": "2022-02-20T11:24:48.184Z"
   },
   {
    "duration": 40,
    "start_time": "2022-02-20T11:24:48.724Z"
   },
   {
    "duration": 480,
    "start_time": "2022-02-20T11:24:54.453Z"
   },
   {
    "duration": 40,
    "start_time": "2022-02-20T11:24:54.963Z"
   },
   {
    "duration": 480,
    "start_time": "2022-02-20T11:25:01.393Z"
   },
   {
    "duration": 40,
    "start_time": "2022-02-20T11:25:02.024Z"
   },
   {
    "duration": 507,
    "start_time": "2022-02-20T11:25:32.063Z"
   },
   {
    "duration": 42,
    "start_time": "2022-02-20T11:25:32.703Z"
   },
   {
    "duration": 496,
    "start_time": "2022-02-20T11:25:37.643Z"
   },
   {
    "duration": 42,
    "start_time": "2022-02-20T11:25:38.141Z"
   },
   {
    "duration": 6091,
    "start_time": "2022-02-20T11:25:43.094Z"
   },
   {
    "duration": 50,
    "start_time": "2022-02-20T11:25:49.187Z"
   },
   {
    "duration": 326,
    "start_time": "2022-02-20T11:25:50.543Z"
   },
   {
    "duration": 41,
    "start_time": "2022-02-20T11:25:51.043Z"
   },
   {
    "duration": 409,
    "start_time": "2022-02-20T11:25:56.883Z"
   },
   {
    "duration": 48,
    "start_time": "2022-02-20T11:25:57.293Z"
   },
   {
    "duration": 434,
    "start_time": "2022-02-20T11:26:01.963Z"
   },
   {
    "duration": 41,
    "start_time": "2022-02-20T11:26:02.452Z"
   },
   {
    "duration": 142,
    "start_time": "2022-02-20T11:31:51.278Z"
   },
   {
    "duration": 36,
    "start_time": "2022-02-20T11:31:51.988Z"
   },
   {
    "duration": 140,
    "start_time": "2022-02-20T11:34:35.336Z"
   },
   {
    "duration": 34,
    "start_time": "2022-02-20T11:34:35.966Z"
   },
   {
    "duration": 2022,
    "start_time": "2022-02-20T11:36:52.293Z"
   },
   {
    "duration": 21758,
    "start_time": "2022-02-20T11:41:01.019Z"
   },
   {
    "duration": 2077,
    "start_time": "2022-02-20T11:41:55.699Z"
   },
   {
    "duration": 664,
    "start_time": "2022-02-20T11:42:06.139Z"
   },
   {
    "duration": 40,
    "start_time": "2022-02-20T11:42:14.028Z"
   },
   {
    "duration": 1975,
    "start_time": "2022-02-20T11:42:17.418Z"
   },
   {
    "duration": 117,
    "start_time": "2022-02-20T11:44:33.218Z"
   },
   {
    "duration": 188,
    "start_time": "2022-02-20T12:04:30.661Z"
   },
   {
    "duration": 5,
    "start_time": "2022-02-20T12:04:34.776Z"
   },
   {
    "duration": 24,
    "start_time": "2022-02-20T12:04:34.783Z"
   },
   {
    "duration": 20,
    "start_time": "2022-02-20T12:04:34.809Z"
   },
   {
    "duration": 12,
    "start_time": "2022-02-20T12:04:34.831Z"
   },
   {
    "duration": 6,
    "start_time": "2022-02-20T12:04:34.845Z"
   },
   {
    "duration": 10,
    "start_time": "2022-02-20T12:04:34.852Z"
   },
   {
    "duration": 5,
    "start_time": "2022-02-20T12:04:34.863Z"
   },
   {
    "duration": 18,
    "start_time": "2022-02-20T12:04:34.869Z"
   },
   {
    "duration": 51,
    "start_time": "2022-02-20T12:04:34.889Z"
   },
   {
    "duration": 5,
    "start_time": "2022-02-20T12:04:34.942Z"
   },
   {
    "duration": 12,
    "start_time": "2022-02-20T12:04:34.949Z"
   },
   {
    "duration": 30,
    "start_time": "2022-02-20T12:04:34.963Z"
   },
   {
    "duration": 211,
    "start_time": "2022-02-20T12:04:34.995Z"
   },
   {
    "duration": 95,
    "start_time": "2022-02-20T12:04:35.208Z"
   },
   {
    "duration": 44,
    "start_time": "2022-02-20T12:04:35.305Z"
   },
   {
    "duration": 2011,
    "start_time": "2022-02-20T12:04:35.351Z"
   },
   {
    "duration": 357,
    "start_time": "2022-02-20T12:04:37.364Z"
   },
   {
    "duration": 106,
    "start_time": "2022-02-20T12:04:37.730Z"
   },
   {
    "duration": 857,
    "start_time": "2022-02-20T12:04:37.838Z"
   },
   {
    "duration": 48,
    "start_time": "2022-02-20T12:04:38.697Z"
   },
   {
    "duration": 1963,
    "start_time": "2022-02-20T12:04:38.747Z"
   },
   {
    "duration": 119,
    "start_time": "2022-02-20T12:04:40.711Z"
   },
   {
    "duration": 10,
    "start_time": "2022-02-20T12:04:40.835Z"
   },
   {
    "duration": 149,
    "start_time": "2022-02-20T12:04:40.931Z"
   },
   {
    "duration": 136,
    "start_time": "2022-02-20T12:06:47.909Z"
   },
   {
    "duration": 3,
    "start_time": "2022-02-20T12:07:21.329Z"
   },
   {
    "duration": 12,
    "start_time": "2022-02-20T12:07:21.920Z"
   },
   {
    "duration": 250,
    "start_time": "2022-02-20T12:10:14.457Z"
   },
   {
    "duration": 242,
    "start_time": "2022-02-20T12:13:30.755Z"
   },
   {
    "duration": 33,
    "start_time": "2022-02-20T12:13:55.125Z"
   },
   {
    "duration": 5,
    "start_time": "2022-02-20T12:14:41.495Z"
   },
   {
    "duration": 25,
    "start_time": "2022-02-20T12:14:41.501Z"
   },
   {
    "duration": 19,
    "start_time": "2022-02-20T12:14:41.528Z"
   },
   {
    "duration": 8,
    "start_time": "2022-02-20T12:14:41.548Z"
   },
   {
    "duration": 9,
    "start_time": "2022-02-20T12:14:41.558Z"
   },
   {
    "duration": 10,
    "start_time": "2022-02-20T12:14:41.568Z"
   },
   {
    "duration": 3,
    "start_time": "2022-02-20T12:14:41.580Z"
   },
   {
    "duration": 47,
    "start_time": "2022-02-20T12:14:41.584Z"
   },
   {
    "duration": 21,
    "start_time": "2022-02-20T12:14:41.634Z"
   },
   {
    "duration": 6,
    "start_time": "2022-02-20T12:14:41.657Z"
   },
   {
    "duration": 17,
    "start_time": "2022-02-20T12:14:41.665Z"
   },
   {
    "duration": 51,
    "start_time": "2022-02-20T12:14:41.684Z"
   },
   {
    "duration": 193,
    "start_time": "2022-02-20T12:14:41.737Z"
   },
   {
    "duration": 98,
    "start_time": "2022-02-20T12:14:41.932Z"
   },
   {
    "duration": 35,
    "start_time": "2022-02-20T12:14:42.031Z"
   },
   {
    "duration": 2012,
    "start_time": "2022-02-20T12:14:42.068Z"
   },
   {
    "duration": 381,
    "start_time": "2022-02-20T12:14:44.081Z"
   },
   {
    "duration": 78,
    "start_time": "2022-02-20T12:14:44.464Z"
   },
   {
    "duration": 775,
    "start_time": "2022-02-20T12:14:44.632Z"
   },
   {
    "duration": 47,
    "start_time": "2022-02-20T12:14:45.409Z"
   },
   {
    "duration": 1928,
    "start_time": "2022-02-20T12:14:45.458Z"
   },
   {
    "duration": 50,
    "start_time": "2022-02-20T12:14:47.388Z"
   },
   {
    "duration": 5,
    "start_time": "2022-02-20T12:14:47.530Z"
   },
   {
    "duration": 105,
    "start_time": "2022-02-20T12:14:47.537Z"
   },
   {
    "duration": 166,
    "start_time": "2022-02-20T12:14:47.644Z"
   },
   {
    "duration": 36,
    "start_time": "2022-02-20T12:14:47.812Z"
   },
   {
    "duration": 506,
    "start_time": "2022-02-20T12:14:52.502Z"
   },
   {
    "duration": 172,
    "start_time": "2022-02-20T12:15:00.162Z"
   },
   {
    "duration": 32,
    "start_time": "2022-02-20T12:15:02.713Z"
   },
   {
    "duration": 180,
    "start_time": "2022-02-20T12:16:02.813Z"
   },
   {
    "duration": 193,
    "start_time": "2022-02-20T12:16:20.872Z"
   },
   {
    "duration": 92384,
    "start_time": "2022-02-20T12:23:02.688Z"
   },
   {
    "duration": 1752,
    "start_time": "2022-02-20T12:27:48.724Z"
   },
   {
    "duration": 973,
    "start_time": "2022-02-20T12:30:17.812Z"
   },
   {
    "duration": 69,
    "start_time": "2022-02-20T12:30:27.621Z"
   },
   {
    "duration": 235386,
    "start_time": "2022-02-20T12:30:51.061Z"
   },
   {
    "duration": 3843,
    "start_time": "2022-02-20T12:35:12.017Z"
   },
   {
    "duration": 79,
    "start_time": "2022-02-20T12:35:23.307Z"
   },
   {
    "duration": 143,
    "start_time": "2022-02-20T12:35:27.187Z"
   },
   {
    "duration": 113,
    "start_time": "2022-02-20T12:57:31.622Z"
   },
   {
    "duration": 106,
    "start_time": "2022-02-20T12:57:39.060Z"
   },
   {
    "duration": 111,
    "start_time": "2022-02-20T12:58:09.240Z"
   },
   {
    "duration": 10655,
    "start_time": "2022-02-20T12:58:36.230Z"
   },
   {
    "duration": 10727,
    "start_time": "2022-02-20T12:58:51.309Z"
   },
   {
    "duration": 328,
    "start_time": "2022-02-20T12:59:02.038Z"
   },
   {
    "duration": 348,
    "start_time": "2022-02-20T13:00:11.468Z"
   },
   {
    "duration": 95,
    "start_time": "2022-02-20T13:02:48.735Z"
   },
   {
    "duration": 163,
    "start_time": "2022-02-20T13:03:04.376Z"
   },
   {
    "duration": 236,
    "start_time": "2022-02-20T13:04:11.955Z"
   },
   {
    "duration": 5,
    "start_time": "2022-02-20T13:05:46.772Z"
   },
   {
    "duration": 30,
    "start_time": "2022-02-20T13:05:46.779Z"
   },
   {
    "duration": 21,
    "start_time": "2022-02-20T13:05:46.811Z"
   },
   {
    "duration": 13,
    "start_time": "2022-02-20T13:05:46.834Z"
   },
   {
    "duration": 21,
    "start_time": "2022-02-20T13:05:46.850Z"
   },
   {
    "duration": 13,
    "start_time": "2022-02-20T13:05:46.873Z"
   },
   {
    "duration": 5,
    "start_time": "2022-02-20T13:05:46.887Z"
   },
   {
    "duration": 87,
    "start_time": "2022-02-20T13:05:46.894Z"
   },
   {
    "duration": 18,
    "start_time": "2022-02-20T13:05:46.983Z"
   },
   {
    "duration": 5,
    "start_time": "2022-02-20T13:05:47.003Z"
   },
   {
    "duration": 28,
    "start_time": "2022-02-20T13:05:47.009Z"
   },
   {
    "duration": 29,
    "start_time": "2022-02-20T13:05:47.039Z"
   },
   {
    "duration": 195,
    "start_time": "2022-02-20T13:05:47.069Z"
   },
   {
    "duration": 80,
    "start_time": "2022-02-20T13:05:47.266Z"
   },
   {
    "duration": 27,
    "start_time": "2022-02-20T13:05:47.348Z"
   },
   {
    "duration": 3987,
    "start_time": "2022-02-20T13:05:47.377Z"
   },
   {
    "duration": 92,
    "start_time": "2022-02-20T13:05:51.365Z"
   },
   {
    "duration": 171,
    "start_time": "2022-02-20T13:05:51.459Z"
   },
   {
    "duration": 791,
    "start_time": "2022-02-20T13:05:51.633Z"
   },
   {
    "duration": 43,
    "start_time": "2022-02-20T13:05:52.425Z"
   },
   {
    "duration": 2863,
    "start_time": "2022-02-20T13:05:52.469Z"
   },
   {
    "duration": 403,
    "start_time": "2022-02-20T13:05:55.334Z"
   },
   {
    "duration": 99,
    "start_time": "2022-02-20T13:05:55.740Z"
   },
   {
    "duration": 89,
    "start_time": "2022-02-20T13:05:55.842Z"
   },
   {
    "duration": 107,
    "start_time": "2022-02-20T13:05:55.933Z"
   },
   {
    "duration": 250,
    "start_time": "2022-02-20T13:05:56.041Z"
   },
   {
    "duration": 53,
    "start_time": "2022-02-20T13:05:56.293Z"
   },
   {
    "duration": 15100,
    "start_time": "2022-02-20T13:05:56.348Z"
   },
   {
    "duration": 475,
    "start_time": "2022-02-20T13:06:11.450Z"
   },
   {
    "duration": 110,
    "start_time": "2022-02-20T13:06:11.927Z"
   },
   {
    "duration": 424,
    "start_time": "2022-02-20T13:06:12.038Z"
   },
   {
    "duration": 352,
    "start_time": "2022-02-20T20:12:06.192Z"
   },
   {
    "duration": 1526,
    "start_time": "2022-02-20T20:12:13.623Z"
   },
   {
    "duration": 31,
    "start_time": "2022-02-20T20:12:15.152Z"
   },
   {
    "duration": 42,
    "start_time": "2022-02-20T20:12:15.186Z"
   },
   {
    "duration": 14,
    "start_time": "2022-02-20T20:12:15.231Z"
   },
   {
    "duration": 9,
    "start_time": "2022-02-20T20:12:15.247Z"
   },
   {
    "duration": 49,
    "start_time": "2022-02-20T20:12:15.259Z"
   },
   {
    "duration": 6,
    "start_time": "2022-02-20T20:12:15.310Z"
   },
   {
    "duration": 36,
    "start_time": "2022-02-20T20:12:15.319Z"
   },
   {
    "duration": 64,
    "start_time": "2022-02-20T20:12:15.359Z"
   },
   {
    "duration": 7,
    "start_time": "2022-02-20T20:12:15.426Z"
   },
   {
    "duration": 16,
    "start_time": "2022-02-20T20:12:15.435Z"
   },
   {
    "duration": 92,
    "start_time": "2022-02-20T20:12:15.453Z"
   },
   {
    "duration": 350,
    "start_time": "2022-02-20T20:12:15.549Z"
   },
   {
    "duration": 117,
    "start_time": "2022-02-20T20:12:15.901Z"
   },
   {
    "duration": 41,
    "start_time": "2022-02-20T20:12:16.020Z"
   },
   {
    "duration": 5817,
    "start_time": "2022-02-20T20:12:16.063Z"
   },
   {
    "duration": 136,
    "start_time": "2022-02-20T20:12:21.883Z"
   },
   {
    "duration": 179,
    "start_time": "2022-02-20T20:12:22.022Z"
   },
   {
    "duration": 1188,
    "start_time": "2022-02-20T20:12:22.207Z"
   },
   {
    "duration": 63,
    "start_time": "2022-02-20T20:12:23.397Z"
   },
   {
    "duration": 3160,
    "start_time": "2022-02-20T20:12:23.462Z"
   },
   {
    "duration": 438,
    "start_time": "2022-02-20T20:12:26.624Z"
   },
   {
    "duration": 239,
    "start_time": "2022-02-20T20:12:27.065Z"
   },
   {
    "duration": 88,
    "start_time": "2022-02-20T20:12:27.307Z"
   },
   {
    "duration": 100,
    "start_time": "2022-02-20T20:12:27.398Z"
   },
   {
    "duration": 280,
    "start_time": "2022-02-20T20:12:27.501Z"
   },
   {
    "duration": 53,
    "start_time": "2022-02-20T20:12:27.786Z"
   },
   {
    "duration": 16805,
    "start_time": "2022-02-20T20:12:27.842Z"
   },
   {
    "duration": 552,
    "start_time": "2022-02-20T20:12:44.649Z"
   },
   {
    "duration": 191,
    "start_time": "2022-02-20T20:12:45.204Z"
   },
   {
    "duration": 503,
    "start_time": "2022-02-20T20:12:45.397Z"
   },
   {
    "duration": 1475,
    "start_time": "2022-02-20T20:12:45.903Z"
   },
   {
    "duration": 10,
    "start_time": "2022-02-20T20:27:55.311Z"
   },
   {
    "duration": 8,
    "start_time": "2022-02-20T20:28:10.281Z"
   },
   {
    "duration": 11,
    "start_time": "2022-02-20T20:32:22.988Z"
   },
   {
    "duration": 184,
    "start_time": "2022-02-20T20:57:28.194Z"
   },
   {
    "duration": 696,
    "start_time": "2022-02-20T20:58:24.265Z"
   },
   {
    "duration": 8,
    "start_time": "2022-02-20T20:58:50.162Z"
   },
   {
    "duration": 36,
    "start_time": "2022-02-20T20:58:50.172Z"
   },
   {
    "duration": 35,
    "start_time": "2022-02-20T20:58:50.214Z"
   },
   {
    "duration": 45,
    "start_time": "2022-02-20T20:58:50.252Z"
   },
   {
    "duration": 17,
    "start_time": "2022-02-20T20:58:50.300Z"
   },
   {
    "duration": 21,
    "start_time": "2022-02-20T20:58:50.319Z"
   },
   {
    "duration": 8,
    "start_time": "2022-02-20T20:58:50.343Z"
   },
   {
    "duration": 64,
    "start_time": "2022-02-20T20:58:50.353Z"
   },
   {
    "duration": 37,
    "start_time": "2022-02-20T20:58:50.423Z"
   },
   {
    "duration": 32,
    "start_time": "2022-02-20T20:58:50.463Z"
   },
   {
    "duration": 24,
    "start_time": "2022-02-20T20:58:50.498Z"
   },
   {
    "duration": 72,
    "start_time": "2022-02-20T20:58:50.526Z"
   },
   {
    "duration": 329,
    "start_time": "2022-02-20T20:58:50.601Z"
   },
   {
    "duration": 127,
    "start_time": "2022-02-20T20:58:50.933Z"
   },
   {
    "duration": 59,
    "start_time": "2022-02-20T20:58:51.062Z"
   },
   {
    "duration": 6406,
    "start_time": "2022-02-20T20:58:51.123Z"
   },
   {
    "duration": 146,
    "start_time": "2022-02-20T20:58:57.532Z"
   },
   {
    "duration": 125,
    "start_time": "2022-02-20T20:58:57.681Z"
   },
   {
    "duration": 1214,
    "start_time": "2022-02-20T20:58:57.810Z"
   },
   {
    "duration": 81,
    "start_time": "2022-02-20T20:58:59.027Z"
   },
   {
    "duration": 3173,
    "start_time": "2022-02-20T20:58:59.111Z"
   },
   {
    "duration": 431,
    "start_time": "2022-02-20T20:59:02.295Z"
   },
   {
    "duration": 168,
    "start_time": "2022-02-20T20:59:02.729Z"
   },
   {
    "duration": 94,
    "start_time": "2022-02-20T20:59:02.901Z"
   },
   {
    "duration": 33,
    "start_time": "2022-02-20T20:59:02.999Z"
   },
   {
    "duration": 287,
    "start_time": "2022-02-20T20:59:03.034Z"
   },
   {
    "duration": 52,
    "start_time": "2022-02-20T20:59:03.326Z"
   },
   {
    "duration": 18914,
    "start_time": "2022-02-20T20:59:03.394Z"
   },
   {
    "duration": 777,
    "start_time": "2022-02-20T20:59:22.311Z"
   },
   {
    "duration": 116,
    "start_time": "2022-02-20T20:59:23.095Z"
   },
   {
    "duration": 703,
    "start_time": "2022-02-20T20:59:23.294Z"
   },
   {
    "duration": 1725,
    "start_time": "2022-02-20T20:59:24.000Z"
   },
   {
    "duration": 10,
    "start_time": "2022-02-20T20:59:25.728Z"
   },
   {
    "duration": 18,
    "start_time": "2022-02-20T20:59:25.741Z"
   },
   {
    "duration": 32,
    "start_time": "2022-02-20T20:59:25.762Z"
   },
   {
    "duration": 198,
    "start_time": "2022-02-20T20:59:25.797Z"
   },
   {
    "duration": 635,
    "start_time": "2022-02-20T20:59:25.998Z"
   },
   {
    "duration": 183,
    "start_time": "2022-02-20T21:00:23.874Z"
   },
   {
    "duration": 417,
    "start_time": "2022-02-20T21:00:25.315Z"
   },
   {
    "duration": 86,
    "start_time": "2022-02-21T09:08:16.824Z"
   },
   {
    "duration": 87,
    "start_time": "2022-02-21T09:10:20.417Z"
   },
   {
    "duration": 1425,
    "start_time": "2022-02-21T09:34:05.419Z"
   },
   {
    "duration": 38,
    "start_time": "2022-02-21T09:34:06.847Z"
   },
   {
    "duration": 38,
    "start_time": "2022-02-21T09:34:06.889Z"
   },
   {
    "duration": 12,
    "start_time": "2022-02-21T09:34:06.930Z"
   },
   {
    "duration": 13,
    "start_time": "2022-02-21T09:34:06.945Z"
   },
   {
    "duration": 16,
    "start_time": "2022-02-21T09:34:06.993Z"
   },
   {
    "duration": 6,
    "start_time": "2022-02-21T09:34:07.011Z"
   },
   {
    "duration": 29,
    "start_time": "2022-02-21T09:34:07.020Z"
   },
   {
    "duration": 70,
    "start_time": "2022-02-21T09:34:07.054Z"
   },
   {
    "duration": 9,
    "start_time": "2022-02-21T09:34:07.127Z"
   },
   {
    "duration": 23,
    "start_time": "2022-02-21T09:34:07.139Z"
   },
   {
    "duration": 76,
    "start_time": "2022-02-21T09:34:07.164Z"
   },
   {
    "duration": 6,
    "start_time": "2022-02-21T09:34:16.751Z"
   },
   {
    "duration": 33,
    "start_time": "2022-02-21T09:34:16.760Z"
   },
   {
    "duration": 30,
    "start_time": "2022-02-21T09:34:16.797Z"
   },
   {
    "duration": 13,
    "start_time": "2022-02-21T09:34:16.830Z"
   },
   {
    "duration": 8,
    "start_time": "2022-02-21T09:34:16.845Z"
   },
   {
    "duration": 46,
    "start_time": "2022-02-21T09:34:16.856Z"
   },
   {
    "duration": 5,
    "start_time": "2022-02-21T09:34:16.904Z"
   },
   {
    "duration": 27,
    "start_time": "2022-02-21T09:34:16.911Z"
   },
   {
    "duration": 66,
    "start_time": "2022-02-21T09:34:16.942Z"
   },
   {
    "duration": 8,
    "start_time": "2022-02-21T09:34:17.011Z"
   },
   {
    "duration": 17,
    "start_time": "2022-02-21T09:34:17.021Z"
   },
   {
    "duration": 68,
    "start_time": "2022-02-21T09:34:17.040Z"
   },
   {
    "duration": 306,
    "start_time": "2022-02-21T09:34:17.110Z"
   },
   {
    "duration": 112,
    "start_time": "2022-02-21T09:34:17.419Z"
   },
   {
    "duration": 40,
    "start_time": "2022-02-21T09:34:17.533Z"
   },
   {
    "duration": 5845,
    "start_time": "2022-02-21T09:34:17.575Z"
   },
   {
    "duration": 146,
    "start_time": "2022-02-21T09:34:23.423Z"
   },
   {
    "duration": 130,
    "start_time": "2022-02-21T09:34:23.572Z"
   },
   {
    "duration": 1193,
    "start_time": "2022-02-21T09:34:23.708Z"
   },
   {
    "duration": 63,
    "start_time": "2022-02-21T09:34:24.904Z"
   },
   {
    "duration": 3442,
    "start_time": "2022-02-21T09:34:24.969Z"
   },
   {
    "duration": 436,
    "start_time": "2022-02-21T09:34:28.415Z"
   },
   {
    "duration": 145,
    "start_time": "2022-02-21T09:34:28.854Z"
   },
   {
    "duration": 92,
    "start_time": "2022-02-21T09:34:29.002Z"
   },
   {
    "duration": 40,
    "start_time": "2022-02-21T09:34:29.098Z"
   },
   {
    "duration": 312,
    "start_time": "2022-02-21T09:34:29.140Z"
   },
   {
    "duration": 63,
    "start_time": "2022-02-21T09:34:29.457Z"
   },
   {
    "duration": 16739,
    "start_time": "2022-02-21T09:34:29.523Z"
   },
   {
    "duration": 603,
    "start_time": "2022-02-21T09:34:46.264Z"
   },
   {
    "duration": 225,
    "start_time": "2022-02-21T09:34:46.869Z"
   },
   {
    "duration": 512,
    "start_time": "2022-02-21T09:34:47.097Z"
   },
   {
    "duration": 1487,
    "start_time": "2022-02-21T09:34:47.612Z"
   },
   {
    "duration": 9,
    "start_time": "2022-02-21T09:34:49.102Z"
   },
   {
    "duration": 11,
    "start_time": "2022-02-21T09:34:49.114Z"
   },
   {
    "duration": 12,
    "start_time": "2022-02-21T09:34:49.127Z"
   },
   {
    "duration": 222,
    "start_time": "2022-02-21T09:34:49.142Z"
   },
   {
    "duration": 408,
    "start_time": "2022-02-21T09:34:49.367Z"
   },
   {
    "duration": 515,
    "start_time": "2022-02-21T09:34:55.113Z"
   },
   {
    "duration": 298,
    "start_time": "2022-02-21T09:35:06.411Z"
   },
   {
    "duration": 79,
    "start_time": "2022-02-21T09:35:13.846Z"
   },
   {
    "duration": 577,
    "start_time": "2022-02-21T09:35:15.907Z"
   }
  ],
  "kernelspec": {
   "display_name": "Python 3 (ipykernel)",
   "language": "python",
   "name": "python3"
  },
  "language_info": {
   "codemirror_mode": {
    "name": "ipython",
    "version": 3
   },
   "file_extension": ".py",
   "mimetype": "text/x-python",
   "name": "python",
   "nbconvert_exporter": "python",
   "pygments_lexer": "ipython3",
   "version": "3.9.7"
  },
  "toc": {
   "base_numbering": 1,
   "nav_menu": {},
   "number_sections": true,
   "sideBar": true,
   "skip_h1_title": true,
   "title_cell": "Содержание",
   "title_sidebar": "Contents",
   "toc_cell": true,
   "toc_position": {},
   "toc_section_display": true,
   "toc_window_display": true
  }
 },
 "nbformat": 4,
 "nbformat_minor": 2
}
