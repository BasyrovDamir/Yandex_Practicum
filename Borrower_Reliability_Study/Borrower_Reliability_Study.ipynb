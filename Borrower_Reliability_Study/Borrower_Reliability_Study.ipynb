{
 "cells": [
  {
   "cell_type": "markdown",
   "metadata": {},
   "source": [
    "# Исследование надёжности заёмщиков\n",
    "\n",
    "Заказчик — кредитный отдел банка. Нужно разобраться, влияет ли семейное положение и количество детей клиента на факт погашения кредита в срок. Входные данные от банка — статистика о платёжеспособности клиентов.\n",
    "\n",
    "Результаты исследования будут учтены при построении модели **кредитного скоринга** — специальной системы, которая оценивает способность потенциального заёмщика вернуть кредит банку."
   ]
  },
  {
   "cell_type": "markdown",
   "metadata": {},
   "source": [
    "## Исследование надёжности заёмщиков\n",
    "Заказчик — кредитный отдел банка. Нужно разобраться, влияет ли семейное положение и количество детей клиента на факт погашения кредита в срок. Входные данные от банка — статистика о платёжеспособности клиентов.\n",
    "\n",
    "Результаты исследования будут учтены при построении модели **кредитного скоринга** — специальной системы, которая оценивает способность потенциального заёмщика вернуть кредит банку.\n",
    "**Цель исследования** — ответить на вопросы:\n",
    "\n",
    "1. Есть ли зависимость между наличием детей и возвратом кредита в срок?\n",
    "2. Есть ли зависимость между семейным положением и возвратом кредита в срок?\n",
    "3. Есть ли зависимость между уровнем дохода и возвратом кредита в срок?\n",
    "4. Как разные цели кредита влияют на его возврат в срок?\n",
    "\n",
    "**Ход исследования**\n",
    "\n",
    "Данные о о заемщиках мы получили из файла '/datasets/data.csv'. О качестве данных ничего не известно. Поэтому перед проверкой гипотез понадобится обзор данных.\n",
    "\n",
    "Таким образом, исследование пройдёт в три этапа:\n",
    "\n",
    "1. [Обзор данных.](#start)\n",
    "2. [Предобработка данных.](#preprocessing)\n",
    "3. [Ответы на вопросы.](#questions)"
   ]
  },
  {
   "cell_type": "code",
   "execution_count": 13,
   "metadata": {
    "scrolled": true
   },
   "outputs": [
    {
     "name": "stdout",
     "output_type": "stream",
     "text": [
      "<class 'pandas.core.frame.DataFrame'>\n",
      "RangeIndex: 21525 entries, 0 to 21524\n",
      "Data columns (total 12 columns):\n",
      "children            21525 non-null int64\n",
      "days_employed       19351 non-null float64\n",
      "dob_years           21525 non-null int64\n",
      "education           21525 non-null object\n",
      "education_id        21525 non-null int64\n",
      "family_status       21525 non-null object\n",
      "family_status_id    21525 non-null int64\n",
      "gender              21525 non-null object\n",
      "income_type         21525 non-null object\n",
      "debt                21525 non-null int64\n",
      "total_income        19351 non-null float64\n",
      "purpose             21525 non-null object\n",
      "dtypes: float64(2), int64(5), object(5)\n",
      "memory usage: 2.0+ MB\n"
     ]
    },
    {
     "data": {
      "text/html": [
       "<div>\n",
       "<style scoped>\n",
       "    .dataframe tbody tr th:only-of-type {\n",
       "        vertical-align: middle;\n",
       "    }\n",
       "\n",
       "    .dataframe tbody tr th {\n",
       "        vertical-align: top;\n",
       "    }\n",
       "\n",
       "    .dataframe thead th {\n",
       "        text-align: right;\n",
       "    }\n",
       "</style>\n",
       "<table border=\"1\" class=\"dataframe\">\n",
       "  <thead>\n",
       "    <tr style=\"text-align: right;\">\n",
       "      <th></th>\n",
       "      <th>children</th>\n",
       "      <th>days_employed</th>\n",
       "      <th>dob_years</th>\n",
       "      <th>education</th>\n",
       "      <th>education_id</th>\n",
       "      <th>family_status</th>\n",
       "      <th>family_status_id</th>\n",
       "      <th>gender</th>\n",
       "      <th>income_type</th>\n",
       "      <th>debt</th>\n",
       "      <th>total_income</th>\n",
       "      <th>purpose</th>\n",
       "    </tr>\n",
       "  </thead>\n",
       "  <tbody>\n",
       "    <tr>\n",
       "      <td>0</td>\n",
       "      <td>1</td>\n",
       "      <td>-8437.673028</td>\n",
       "      <td>42</td>\n",
       "      <td>высшее</td>\n",
       "      <td>0</td>\n",
       "      <td>женат / замужем</td>\n",
       "      <td>0</td>\n",
       "      <td>F</td>\n",
       "      <td>сотрудник</td>\n",
       "      <td>0</td>\n",
       "      <td>253875.639453</td>\n",
       "      <td>покупка жилья</td>\n",
       "    </tr>\n",
       "    <tr>\n",
       "      <td>1</td>\n",
       "      <td>1</td>\n",
       "      <td>-4024.803754</td>\n",
       "      <td>36</td>\n",
       "      <td>среднее</td>\n",
       "      <td>1</td>\n",
       "      <td>женат / замужем</td>\n",
       "      <td>0</td>\n",
       "      <td>F</td>\n",
       "      <td>сотрудник</td>\n",
       "      <td>0</td>\n",
       "      <td>112080.014102</td>\n",
       "      <td>приобретение автомобиля</td>\n",
       "    </tr>\n",
       "    <tr>\n",
       "      <td>2</td>\n",
       "      <td>0</td>\n",
       "      <td>-5623.422610</td>\n",
       "      <td>33</td>\n",
       "      <td>Среднее</td>\n",
       "      <td>1</td>\n",
       "      <td>женат / замужем</td>\n",
       "      <td>0</td>\n",
       "      <td>M</td>\n",
       "      <td>сотрудник</td>\n",
       "      <td>0</td>\n",
       "      <td>145885.952297</td>\n",
       "      <td>покупка жилья</td>\n",
       "    </tr>\n",
       "    <tr>\n",
       "      <td>3</td>\n",
       "      <td>3</td>\n",
       "      <td>-4124.747207</td>\n",
       "      <td>32</td>\n",
       "      <td>среднее</td>\n",
       "      <td>1</td>\n",
       "      <td>женат / замужем</td>\n",
       "      <td>0</td>\n",
       "      <td>M</td>\n",
       "      <td>сотрудник</td>\n",
       "      <td>0</td>\n",
       "      <td>267628.550329</td>\n",
       "      <td>дополнительное образование</td>\n",
       "    </tr>\n",
       "    <tr>\n",
       "      <td>4</td>\n",
       "      <td>0</td>\n",
       "      <td>340266.072047</td>\n",
       "      <td>53</td>\n",
       "      <td>среднее</td>\n",
       "      <td>1</td>\n",
       "      <td>гражданский брак</td>\n",
       "      <td>1</td>\n",
       "      <td>F</td>\n",
       "      <td>пенсионер</td>\n",
       "      <td>0</td>\n",
       "      <td>158616.077870</td>\n",
       "      <td>сыграть свадьбу</td>\n",
       "    </tr>\n",
       "  </tbody>\n",
       "</table>\n",
       "</div>"
      ],
      "text/plain": [
       "   children  days_employed  dob_years education  education_id  \\\n",
       "0         1   -8437.673028         42    высшее             0   \n",
       "1         1   -4024.803754         36   среднее             1   \n",
       "2         0   -5623.422610         33   Среднее             1   \n",
       "3         3   -4124.747207         32   среднее             1   \n",
       "4         0  340266.072047         53   среднее             1   \n",
       "\n",
       "      family_status  family_status_id gender income_type  debt   total_income  \\\n",
       "0   женат / замужем                 0      F   сотрудник     0  253875.639453   \n",
       "1   женат / замужем                 0      F   сотрудник     0  112080.014102   \n",
       "2   женат / замужем                 0      M   сотрудник     0  145885.952297   \n",
       "3   женат / замужем                 0      M   сотрудник     0  267628.550329   \n",
       "4  гражданский брак                 1      F   пенсионер     0  158616.077870   \n",
       "\n",
       "                      purpose  \n",
       "0               покупка жилья  \n",
       "1     приобретение автомобиля  \n",
       "2               покупка жилья  \n",
       "3  дополнительное образование  \n",
       "4             сыграть свадьбу  "
      ]
     },
     "execution_count": 13,
     "metadata": {},
     "output_type": "execute_result"
    }
   ],
   "source": [
    "import pandas as pd\n",
    "from pymystem3 import Mystem\n",
    "m = Mystem()\n",
    "df = pd.read_csv('/datasets/data.csv')\n",
    "df.info() #посмотрим информацию\n",
    "df.head() #визуально изучим таблицу"
   ]
  },
  {
   "cell_type": "markdown",
   "metadata": {},
   "source": [
    "**Вывод**"
   ]
  },
  {
   "cell_type": "markdown",
   "metadata": {},
   "source": [
    "Со столбцами days_employed и total_income явно что-то не так. В total_income тип данных нужно переименовать в int для удобного формата. Так же days_employed часто отрицательные, а в столбце education проблемы с регистром."
   ]
  },
  {
   "cell_type": "markdown",
   "metadata": {},
   "source": [
    "## Шаг 2. Предобработка данных"
   ]
  },
  {
   "cell_type": "markdown",
   "metadata": {},
   "source": [
    "### Обработка пропусков"
   ]
  },
  {
   "cell_type": "code",
   "execution_count": 14,
   "metadata": {},
   "outputs": [
    {
     "name": "stdout",
     "output_type": "stream",
     "text": [
      "<class 'pandas.core.frame.DataFrame'>\n",
      "RangeIndex: 21525 entries, 0 to 21524\n",
      "Data columns (total 12 columns):\n",
      "children            21525 non-null int64\n",
      "days_employed       19351 non-null float64\n",
      "dob_years           21525 non-null int64\n",
      "education           21525 non-null object\n",
      "education_id        21525 non-null int64\n",
      "family_status       21525 non-null object\n",
      "family_status_id    21525 non-null int64\n",
      "gender              21525 non-null object\n",
      "income_type         21525 non-null object\n",
      "debt                21525 non-null int64\n",
      "total_income        19351 non-null float64\n",
      "purpose             21525 non-null object\n",
      "dtypes: float64(2), int64(5), object(5)\n",
      "memory usage: 2.0+ MB\n"
     ]
    },
    {
     "data": {
      "text/html": [
       "<div>\n",
       "<style scoped>\n",
       "    .dataframe tbody tr th:only-of-type {\n",
       "        vertical-align: middle;\n",
       "    }\n",
       "\n",
       "    .dataframe tbody tr th {\n",
       "        vertical-align: top;\n",
       "    }\n",
       "\n",
       "    .dataframe thead th {\n",
       "        text-align: right;\n",
       "    }\n",
       "</style>\n",
       "<table border=\"1\" class=\"dataframe\">\n",
       "  <thead>\n",
       "    <tr style=\"text-align: right;\">\n",
       "      <th></th>\n",
       "      <th>children</th>\n",
       "      <th>days_employed</th>\n",
       "      <th>dob_years</th>\n",
       "      <th>education</th>\n",
       "      <th>education_id</th>\n",
       "      <th>family_status</th>\n",
       "      <th>family_status_id</th>\n",
       "      <th>gender</th>\n",
       "      <th>income_type</th>\n",
       "      <th>debt</th>\n",
       "      <th>total_income</th>\n",
       "      <th>purpose</th>\n",
       "    </tr>\n",
       "  </thead>\n",
       "  <tbody>\n",
       "    <tr>\n",
       "      <td>0</td>\n",
       "      <td>1</td>\n",
       "      <td>8437.673028</td>\n",
       "      <td>42</td>\n",
       "      <td>высшее</td>\n",
       "      <td>0</td>\n",
       "      <td>женат / замужем</td>\n",
       "      <td>0</td>\n",
       "      <td>F</td>\n",
       "      <td>сотрудник</td>\n",
       "      <td>0</td>\n",
       "      <td>253875.639453</td>\n",
       "      <td>покупка жилья</td>\n",
       "    </tr>\n",
       "    <tr>\n",
       "      <td>1</td>\n",
       "      <td>1</td>\n",
       "      <td>4024.803754</td>\n",
       "      <td>36</td>\n",
       "      <td>среднее</td>\n",
       "      <td>1</td>\n",
       "      <td>женат / замужем</td>\n",
       "      <td>0</td>\n",
       "      <td>F</td>\n",
       "      <td>сотрудник</td>\n",
       "      <td>0</td>\n",
       "      <td>112080.014102</td>\n",
       "      <td>приобретение автомобиля</td>\n",
       "    </tr>\n",
       "    <tr>\n",
       "      <td>2</td>\n",
       "      <td>0</td>\n",
       "      <td>5623.422610</td>\n",
       "      <td>33</td>\n",
       "      <td>Среднее</td>\n",
       "      <td>1</td>\n",
       "      <td>женат / замужем</td>\n",
       "      <td>0</td>\n",
       "      <td>M</td>\n",
       "      <td>сотрудник</td>\n",
       "      <td>0</td>\n",
       "      <td>145885.952297</td>\n",
       "      <td>покупка жилья</td>\n",
       "    </tr>\n",
       "    <tr>\n",
       "      <td>3</td>\n",
       "      <td>3</td>\n",
       "      <td>4124.747207</td>\n",
       "      <td>32</td>\n",
       "      <td>среднее</td>\n",
       "      <td>1</td>\n",
       "      <td>женат / замужем</td>\n",
       "      <td>0</td>\n",
       "      <td>M</td>\n",
       "      <td>сотрудник</td>\n",
       "      <td>0</td>\n",
       "      <td>267628.550329</td>\n",
       "      <td>дополнительное образование</td>\n",
       "    </tr>\n",
       "    <tr>\n",
       "      <td>4</td>\n",
       "      <td>0</td>\n",
       "      <td>340266.072047</td>\n",
       "      <td>53</td>\n",
       "      <td>среднее</td>\n",
       "      <td>1</td>\n",
       "      <td>гражданский брак</td>\n",
       "      <td>1</td>\n",
       "      <td>F</td>\n",
       "      <td>пенсионер</td>\n",
       "      <td>0</td>\n",
       "      <td>158616.077870</td>\n",
       "      <td>сыграть свадьбу</td>\n",
       "    </tr>\n",
       "    <tr>\n",
       "      <td>5</td>\n",
       "      <td>0</td>\n",
       "      <td>926.185831</td>\n",
       "      <td>27</td>\n",
       "      <td>высшее</td>\n",
       "      <td>0</td>\n",
       "      <td>гражданский брак</td>\n",
       "      <td>1</td>\n",
       "      <td>M</td>\n",
       "      <td>компаньон</td>\n",
       "      <td>0</td>\n",
       "      <td>255763.565419</td>\n",
       "      <td>покупка жилья</td>\n",
       "    </tr>\n",
       "    <tr>\n",
       "      <td>6</td>\n",
       "      <td>0</td>\n",
       "      <td>2879.202052</td>\n",
       "      <td>43</td>\n",
       "      <td>высшее</td>\n",
       "      <td>0</td>\n",
       "      <td>женат / замужем</td>\n",
       "      <td>0</td>\n",
       "      <td>F</td>\n",
       "      <td>компаньон</td>\n",
       "      <td>0</td>\n",
       "      <td>240525.971920</td>\n",
       "      <td>операции с жильем</td>\n",
       "    </tr>\n",
       "    <tr>\n",
       "      <td>7</td>\n",
       "      <td>0</td>\n",
       "      <td>152.779569</td>\n",
       "      <td>50</td>\n",
       "      <td>СРЕДНЕЕ</td>\n",
       "      <td>1</td>\n",
       "      <td>женат / замужем</td>\n",
       "      <td>0</td>\n",
       "      <td>M</td>\n",
       "      <td>сотрудник</td>\n",
       "      <td>0</td>\n",
       "      <td>135823.934197</td>\n",
       "      <td>образование</td>\n",
       "    </tr>\n",
       "    <tr>\n",
       "      <td>8</td>\n",
       "      <td>2</td>\n",
       "      <td>6929.865299</td>\n",
       "      <td>35</td>\n",
       "      <td>ВЫСШЕЕ</td>\n",
       "      <td>0</td>\n",
       "      <td>гражданский брак</td>\n",
       "      <td>1</td>\n",
       "      <td>F</td>\n",
       "      <td>сотрудник</td>\n",
       "      <td>0</td>\n",
       "      <td>95856.832424</td>\n",
       "      <td>на проведение свадьбы</td>\n",
       "    </tr>\n",
       "    <tr>\n",
       "      <td>9</td>\n",
       "      <td>0</td>\n",
       "      <td>2188.756445</td>\n",
       "      <td>41</td>\n",
       "      <td>среднее</td>\n",
       "      <td>1</td>\n",
       "      <td>женат / замужем</td>\n",
       "      <td>0</td>\n",
       "      <td>M</td>\n",
       "      <td>сотрудник</td>\n",
       "      <td>0</td>\n",
       "      <td>144425.938277</td>\n",
       "      <td>покупка жилья для семьи</td>\n",
       "    </tr>\n",
       "  </tbody>\n",
       "</table>\n",
       "</div>"
      ],
      "text/plain": [
       "   children  days_employed  dob_years education  education_id  \\\n",
       "0         1    8437.673028         42    высшее             0   \n",
       "1         1    4024.803754         36   среднее             1   \n",
       "2         0    5623.422610         33   Среднее             1   \n",
       "3         3    4124.747207         32   среднее             1   \n",
       "4         0  340266.072047         53   среднее             1   \n",
       "5         0     926.185831         27    высшее             0   \n",
       "6         0    2879.202052         43    высшее             0   \n",
       "7         0     152.779569         50   СРЕДНЕЕ             1   \n",
       "8         2    6929.865299         35    ВЫСШЕЕ             0   \n",
       "9         0    2188.756445         41   среднее             1   \n",
       "\n",
       "      family_status  family_status_id gender income_type  debt   total_income  \\\n",
       "0   женат / замужем                 0      F   сотрудник     0  253875.639453   \n",
       "1   женат / замужем                 0      F   сотрудник     0  112080.014102   \n",
       "2   женат / замужем                 0      M   сотрудник     0  145885.952297   \n",
       "3   женат / замужем                 0      M   сотрудник     0  267628.550329   \n",
       "4  гражданский брак                 1      F   пенсионер     0  158616.077870   \n",
       "5  гражданский брак                 1      M   компаньон     0  255763.565419   \n",
       "6   женат / замужем                 0      F   компаньон     0  240525.971920   \n",
       "7   женат / замужем                 0      M   сотрудник     0  135823.934197   \n",
       "8  гражданский брак                 1      F   сотрудник     0   95856.832424   \n",
       "9   женат / замужем                 0      M   сотрудник     0  144425.938277   \n",
       "\n",
       "                      purpose  \n",
       "0               покупка жилья  \n",
       "1     приобретение автомобиля  \n",
       "2               покупка жилья  \n",
       "3  дополнительное образование  \n",
       "4             сыграть свадьбу  \n",
       "5               покупка жилья  \n",
       "6           операции с жильем  \n",
       "7                 образование  \n",
       "8       на проведение свадьбы  \n",
       "9     покупка жилья для семьи  "
      ]
     },
     "execution_count": 14,
     "metadata": {},
     "output_type": "execute_result"
    }
   ],
   "source": [
    "df.info() # Проверяем типы данных и длины столбцов, для заполнения пропусков \n",
    "# в столбцах days_employed и total_income меньше значений, чем в остальных => думаем как заполнить пропуски\n",
    "\n",
    "income_grouped_mean = df.groupby('income_type')['total_income'].mean() \n",
    "# print(income_grouped_mean)\n",
    "\n",
    "income_grouped_median = df.groupby('income_type')['total_income'].median()\n",
    "# print(income_grouped_median) # данные среднего и медианы совпадают, заполняем пропуски\n",
    "\n",
    "def fillbygroup(df, row): # функция заменяет NaN в row на медианное значение этого столбца у соответствующего income_type\n",
    "    unique_ins_type = df['income_type'].unique()\n",
    "    for type in unique_ins_type:\n",
    "        df.loc[df['income_type'] == type, row] = df.loc[df['income_type'] == type, row].fillna(df.loc[df['income_type'] == type]['total_income'].median())\n",
    "    return df\n",
    "df = fillbygroup(df, 'total_income') # вызываем df.info() и проверяем замену пропусков 'total_income'\n",
    "days_employed_mean = df['days_employed'].mean() #найдем среднее для столбца\n",
    "#заменим отрицательные числа на положительные в стаже\n",
    "def negative_to_pozitive(value):\n",
    "    if value < 0:\n",
    "        value *= -1\n",
    "        return value\n",
    "    else:\n",
    "        return value\n",
    "df['days_employed'] = df['days_employed'].apply(negative_to_pozitive) #применение метода к значения столбца\n",
    "df['days_employed'] = df['days_employed'].fillna(days_employed_mean) #заполним пропущенные значения для столбца 'days_employed'\n",
    "df.head(10)"
   ]
  },
  {
   "cell_type": "code",
   "execution_count": 15,
   "metadata": {},
   "outputs": [
    {
     "data": {
      "text/plain": [
       "0          8437.673028\n",
       "1          4024.803754\n",
       "2          5623.422610\n",
       "3          4124.747207\n",
       "4        340266.072047\n",
       "             ...      \n",
       "21520      4529.316663\n",
       "21521    343937.404131\n",
       "21522      2113.346888\n",
       "21523      3112.481705\n",
       "21524      1984.507589\n",
       "Name: days_employed, Length: 21525, dtype: float64"
      ]
     },
     "execution_count": 15,
     "metadata": {},
     "output_type": "execute_result"
    }
   ],
   "source": [
    "df['days_employed'].abs()"
   ]
  },
  {
   "cell_type": "markdown",
   "metadata": {},
   "source": [
    "**Вывод**"
   ]
  },
  {
   "cell_type": "markdown",
   "metadata": {},
   "source": [
    "В столбце days_employed отрицательные числа сделали положительными. заменили пропуски в столбцах days_employed и total_income на среднее значение."
   ]
  },
  {
   "cell_type": "markdown",
   "metadata": {},
   "source": [
    "### Замена типа данных"
   ]
  },
  {
   "cell_type": "code",
   "execution_count": 16,
   "metadata": {},
   "outputs": [],
   "source": [
    "df['days_employed'] = df['days_employed'].astype('int')\n",
    "df['total_income'] = df['total_income'].astype('int')\n",
    "#проверяем тип данных через df.info(), визуализируем через df.head(). типы данных заменили)"
   ]
  },
  {
   "cell_type": "markdown",
   "metadata": {},
   "source": [
    "**Вывод**"
   ]
  },
  {
   "cell_type": "markdown",
   "metadata": {},
   "source": [
    "В стаже и доходе тип данных стоял float64, теперь заменили на int с помощью функцией astype."
   ]
  },
  {
   "cell_type": "markdown",
   "metadata": {},
   "source": [
    "### Обработка дубликатов"
   ]
  },
  {
   "cell_type": "code",
   "execution_count": 17,
   "metadata": {
    "scrolled": true
   },
   "outputs": [
    {
     "data": {
      "text/html": [
       "<div>\n",
       "<style scoped>\n",
       "    .dataframe tbody tr th:only-of-type {\n",
       "        vertical-align: middle;\n",
       "    }\n",
       "\n",
       "    .dataframe tbody tr th {\n",
       "        vertical-align: top;\n",
       "    }\n",
       "\n",
       "    .dataframe thead th {\n",
       "        text-align: right;\n",
       "    }\n",
       "</style>\n",
       "<table border=\"1\" class=\"dataframe\">\n",
       "  <thead>\n",
       "    <tr style=\"text-align: right;\">\n",
       "      <th></th>\n",
       "      <th>Кол-во заёмщиков по кол-ву детей</th>\n",
       "    </tr>\n",
       "  </thead>\n",
       "  <tbody>\n",
       "    <tr>\n",
       "      <td>0</td>\n",
       "      <td>14225</td>\n",
       "    </tr>\n",
       "    <tr>\n",
       "      <td>1</td>\n",
       "      <td>4865</td>\n",
       "    </tr>\n",
       "    <tr>\n",
       "      <td>2</td>\n",
       "      <td>2055</td>\n",
       "    </tr>\n",
       "    <tr>\n",
       "      <td>3</td>\n",
       "      <td>330</td>\n",
       "    </tr>\n",
       "    <tr>\n",
       "      <td>4</td>\n",
       "      <td>41</td>\n",
       "    </tr>\n",
       "    <tr>\n",
       "      <td>5</td>\n",
       "      <td>9</td>\n",
       "    </tr>\n",
       "  </tbody>\n",
       "</table>\n",
       "</div>"
      ],
      "text/plain": [
       "   Кол-во заёмщиков по кол-ву детей\n",
       "0                             14225\n",
       "1                              4865\n",
       "2                              2055\n",
       "3                               330\n",
       "4                                41\n",
       "5                                 9"
      ]
     },
     "execution_count": 17,
     "metadata": {},
     "output_type": "execute_result"
    }
   ],
   "source": [
    "from collections import Counter #приведем в единный формат, уберем дубликаты, которые были созданы из-за разного регистра\n",
    "Counter(['df.education'])\n",
    "df['education'] = df['education'].str.lower() #приведем строки к нижнему регистру\n",
    "Counter(['df.education'])\n",
    "Counter(df['family_status']) #проверяем формат столбца 'семейный статус'\n",
    "Counter(df['income_type']) # проверяем формат столбца 'профессии'\n",
    "Counter(df['purpose']) #проверяем формат столбца цель кредита\n",
    "df['children'].value_counts() #проверим формат столбца количества детей\n",
    "#видим ошибку в значениях количества детей, заменим -1 на 1, а 20 медианным значением.\n",
    "df['children'] = df['children'].replace(-1, 1)\n",
    "children_median = df.loc[df.loc[:, 'children'] != 20]['children'].median()\n",
    "df['children'] = df['children'].replace(20, children_median)\n",
    "pd.DataFrame({'Кол-во заёмщиков по кол-ву детей':df['children'].value_counts()})"
   ]
  },
  {
   "cell_type": "code",
   "execution_count": 18,
   "metadata": {},
   "outputs": [
    {
     "data": {
      "text/plain": [
       "0"
      ]
     },
     "execution_count": 18,
     "metadata": {},
     "output_type": "execute_result"
    }
   ],
   "source": [
    "df.duplicated().sum() #посмотрим на них\n",
    "df[df.duplicated(keep=False)].sort_values(by=['total_income', 'days_employed']) #видим, что это банальное задвоение, все дубликаты одинаковые. удаляем их\n",
    "df = df.drop_duplicates() #удаляем\n",
    "df.duplicated().sum() #проверяем\n",
    "\n"
   ]
  },
  {
   "cell_type": "markdown",
   "metadata": {},
   "source": [
    "**Вывод**"
   ]
  },
  {
   "cell_type": "markdown",
   "metadata": {},
   "source": [
    "Привели значения в единный формат, проверили остальные столбцы через метод Counter и метод value_counts(). Были отрицательные значения детей и неверное значение 20 детей. Обработали эти значения."
   ]
  },
  {
   "cell_type": "markdown",
   "metadata": {},
   "source": [
    "### Лемматизация"
   ]
  },
  {
   "cell_type": "code",
   "execution_count": 19,
   "metadata": {},
   "outputs": [
    {
     "data": {
      "text/plain": [
       "Counter({'недвижимость': 10811,\n",
       "         'авто': 4306,\n",
       "         'образование': 4013,\n",
       "         'свадьба': 2324})"
      ]
     },
     "execution_count": 19,
     "metadata": {},
     "output_type": "execute_result"
    }
   ],
   "source": [
    "#столбец цель кредита нужно лемматизировать и на основе его создать новый столбец с категориями \n",
    "\n",
    "estate = ['недвижим', 'жиль']\n",
    "wedding = ['свадьб']\n",
    "auto = ['автомоб']\n",
    "education = ['образова']\n",
    "\n",
    "df['purpose_category'] = 0\n",
    "def categoryzer(list_of_words, category):\n",
    "    join = '|'.join(list_of_words)\n",
    "    index = df[df['purpose'].str.lower().str.contains(join)].index.to_list()\n",
    "    for i in index:\n",
    "        df.loc[i, 'purpose_category'] = category\n",
    "    return df\n",
    "\n",
    "\n",
    "categoryzer(wedding, 'свадьба')\n",
    "categoryzer(estate, 'недвижимость')\n",
    "categoryzer(auto, 'авто')\n",
    "categoryzer(education, 'образование')\n",
    "\n",
    "#проверим результат и убедимся, что значений None не осталось\n",
    "Counter(df['purpose_category'])"
   ]
  },
  {
   "cell_type": "markdown",
   "metadata": {},
   "source": [
    "**Вывод**"
   ]
  },
  {
   "cell_type": "markdown",
   "metadata": {},
   "source": [
    "Видим, что многие уникальные значения цели кредита названы похожим образом, но имеют одинаковый смысл. Мы лемматизируем их, чтобы затем разбить на категории. Обе задачи мы выполнили с помощью одной функции. В итоге мы получили 4 категории целей кредита. В нашей задаче это не понадобится, но наша категоризация сможет помочь другим аналитикам, которые изучают влияние цели кредита на возврат денег в срок."
   ]
  },
  {
   "cell_type": "markdown",
   "metadata": {},
   "source": [
    "### Категоризация данных"
   ]
  },
  {
   "cell_type": "code",
   "execution_count": 20,
   "metadata": {},
   "outputs": [],
   "source": [
    "debt_from_children = pd.DataFrame()\n",
    "debt_from_children['count_children'] = df.groupby('children')['debt'].count() #посчитаем сколько имеют задолженность по кредиту\n",
    "debt_from_children['sum_children'] = df.groupby('children')['debt'].sum() #посчитаем сумму задолженности по кредиту\n",
    "debt_from_children['result_children'] = debt_from_children['sum_children'] / debt_from_children['count_children'] #посчитаем отношение суммы задолженности на количество кредитов"
   ]
  },
  {
   "cell_type": "markdown",
   "metadata": {},
   "source": [
    "**Вывод**"
   ]
  },
  {
   "cell_type": "markdown",
   "metadata": {},
   "source": [
    "Так как мы изучаем влияние семейного положения и наличия детей на факт погашения в срок, мы не будем разбивать возраста на категории, так как они нам не понадобятся. Для сдачи проекта категоризация была применена вместе с лемматизацией выше в одной функции. Категоризовать количество детей нет необходимости, категориями будет как раз их количество, так как всего 6 вариантов."
   ]
  },
  {
   "cell_type": "markdown",
   "metadata": {},
   "source": [
    "## Шаг 3. Ответьте на вопросы"
   ]
  },
  {
   "cell_type": "markdown",
   "metadata": {},
   "source": [
    "- Есть ли зависимость между наличием детей и возвратом кредита в срок?"
   ]
  },
  {
   "cell_type": "code",
   "execution_count": 21,
   "metadata": {},
   "outputs": [
    {
     "data": {
      "text/html": [
       "<div>\n",
       "<style scoped>\n",
       "    .dataframe tbody tr th:only-of-type {\n",
       "        vertical-align: middle;\n",
       "    }\n",
       "\n",
       "    .dataframe tbody tr th {\n",
       "        vertical-align: top;\n",
       "    }\n",
       "\n",
       "    .dataframe thead th {\n",
       "        text-align: right;\n",
       "    }\n",
       "</style>\n",
       "<table border=\"1\" class=\"dataframe\">\n",
       "  <thead>\n",
       "    <tr style=\"text-align: right;\">\n",
       "      <th></th>\n",
       "      <th>count_children</th>\n",
       "      <th>sum_children</th>\n",
       "      <th>result_children</th>\n",
       "    </tr>\n",
       "    <tr>\n",
       "      <th>children</th>\n",
       "      <th></th>\n",
       "      <th></th>\n",
       "      <th></th>\n",
       "    </tr>\n",
       "  </thead>\n",
       "  <tbody>\n",
       "    <tr>\n",
       "      <td>4</td>\n",
       "      <td>41</td>\n",
       "      <td>4</td>\n",
       "      <td>0.097561</td>\n",
       "    </tr>\n",
       "    <tr>\n",
       "      <td>2</td>\n",
       "      <td>2052</td>\n",
       "      <td>194</td>\n",
       "      <td>0.094542</td>\n",
       "    </tr>\n",
       "    <tr>\n",
       "      <td>1</td>\n",
       "      <td>4855</td>\n",
       "      <td>445</td>\n",
       "      <td>0.091658</td>\n",
       "    </tr>\n",
       "    <tr>\n",
       "      <td>3</td>\n",
       "      <td>330</td>\n",
       "      <td>27</td>\n",
       "      <td>0.081818</td>\n",
       "    </tr>\n",
       "    <tr>\n",
       "      <td>0</td>\n",
       "      <td>14167</td>\n",
       "      <td>1071</td>\n",
       "      <td>0.075598</td>\n",
       "    </tr>\n",
       "    <tr>\n",
       "      <td>5</td>\n",
       "      <td>9</td>\n",
       "      <td>0</td>\n",
       "      <td>0.000000</td>\n",
       "    </tr>\n",
       "  </tbody>\n",
       "</table>\n",
       "</div>"
      ],
      "text/plain": [
       "          count_children  sum_children  result_children\n",
       "children                                               \n",
       "4                     41             4         0.097561\n",
       "2                   2052           194         0.094542\n",
       "1                   4855           445         0.091658\n",
       "3                    330            27         0.081818\n",
       "0                  14167          1071         0.075598\n",
       "5                      9             0         0.000000"
      ]
     },
     "execution_count": 21,
     "metadata": {},
     "output_type": "execute_result"
    }
   ],
   "source": [
    "debt_from_children = pd.DataFrame()\n",
    "debt_from_children['count_children'] =  df.groupby('children')['debt'].count()\n",
    "debt_from_children['sum_children'] = df.groupby('children')['debt'].sum()\n",
    "debt_from_children['result_children'] = debt_from_children['sum_children'] / debt_from_children['count_children'] \n",
    "debt_from_children.sort_values('result_children', ascending = False) #отсортируем таблицу по столбцу 'result_children' и выведем на экран"
   ]
  },
  {
   "cell_type": "markdown",
   "metadata": {},
   "source": [
    "**Вывод**"
   ]
  },
  {
   "cell_type": "markdown",
   "metadata": {},
   "source": [
    "По таблице видно, что семьи с тремя детьями чаще возвращают кредит, чем семьи с одним ребенком. Так же бездетные просрачивают реже, чем люди с детьями."
   ]
  },
  {
   "cell_type": "markdown",
   "metadata": {},
   "source": [
    "- Есть ли зависимость между семейным положением и возвратом кредита в срок?"
   ]
  },
  {
   "cell_type": "code",
   "execution_count": 22,
   "metadata": {},
   "outputs": [
    {
     "data": {
      "text/html": [
       "<div>\n",
       "<style scoped>\n",
       "    .dataframe tbody tr th:only-of-type {\n",
       "        vertical-align: middle;\n",
       "    }\n",
       "\n",
       "    .dataframe tbody tr th {\n",
       "        vertical-align: top;\n",
       "    }\n",
       "\n",
       "    .dataframe thead th {\n",
       "        text-align: right;\n",
       "    }\n",
       "</style>\n",
       "<table border=\"1\" class=\"dataframe\">\n",
       "  <thead>\n",
       "    <tr style=\"text-align: right;\">\n",
       "      <th></th>\n",
       "      <th>sum_family_status</th>\n",
       "      <th>count_family_status</th>\n",
       "      <th>result_family_status</th>\n",
       "    </tr>\n",
       "    <tr>\n",
       "      <th>family_status</th>\n",
       "      <th></th>\n",
       "      <th></th>\n",
       "      <th></th>\n",
       "    </tr>\n",
       "  </thead>\n",
       "  <tbody>\n",
       "    <tr>\n",
       "      <td>Не женат / не замужем</td>\n",
       "      <td>274</td>\n",
       "      <td>2810</td>\n",
       "      <td>0.097509</td>\n",
       "    </tr>\n",
       "    <tr>\n",
       "      <td>гражданский брак</td>\n",
       "      <td>388</td>\n",
       "      <td>4151</td>\n",
       "      <td>0.093471</td>\n",
       "    </tr>\n",
       "    <tr>\n",
       "      <td>женат / замужем</td>\n",
       "      <td>931</td>\n",
       "      <td>12339</td>\n",
       "      <td>0.075452</td>\n",
       "    </tr>\n",
       "    <tr>\n",
       "      <td>в разводе</td>\n",
       "      <td>85</td>\n",
       "      <td>1195</td>\n",
       "      <td>0.071130</td>\n",
       "    </tr>\n",
       "    <tr>\n",
       "      <td>вдовец / вдова</td>\n",
       "      <td>63</td>\n",
       "      <td>959</td>\n",
       "      <td>0.065693</td>\n",
       "    </tr>\n",
       "  </tbody>\n",
       "</table>\n",
       "</div>"
      ],
      "text/plain": [
       "                       sum_family_status  count_family_status  \\\n",
       "family_status                                                   \n",
       "Не женат / не замужем                274                 2810   \n",
       "гражданский брак                     388                 4151   \n",
       "женат / замужем                      931                12339   \n",
       "в разводе                             85                 1195   \n",
       "вдовец / вдова                        63                  959   \n",
       "\n",
       "                       result_family_status  \n",
       "family_status                                \n",
       "Не женат / не замужем              0.097509  \n",
       "гражданский брак                   0.093471  \n",
       "женат / замужем                    0.075452  \n",
       "в разводе                          0.071130  \n",
       "вдовец / вдова                     0.065693  "
      ]
     },
     "execution_count": 22,
     "metadata": {},
     "output_type": "execute_result"
    }
   ],
   "source": [
    "debt_from_family_status = pd.DataFrame()\n",
    "debt_from_family_status['sum_family_status'] = df.groupby('family_status')['debt'].sum()\n",
    "debt_from_family_status['count_family_status'] = df.groupby('family_status')['debt'].count()\n",
    "debt_from_family_status['result_family_status'] = debt_from_family_status['sum_family_status'] / debt_from_family_status['count_family_status'] \n",
    "debt_from_family_status.sort_values('result_family_status', ascending = False) #отсортируем таблицу по столбцу 'result_children' и выведем на экран"
   ]
  },
  {
   "cell_type": "markdown",
   "metadata": {},
   "source": [
    "**Вывод**"
   ]
  },
  {
   "cell_type": "markdown",
   "metadata": {},
   "source": [
    "По таблице видим, что люди не в браке и не бывавшие в браке, имеют больший процент по невозврату кредита, чем те кто развелись или овдовели."
   ]
  },
  {
   "cell_type": "markdown",
   "metadata": {},
   "source": [
    "- Есть ли зависимость между уровнем дохода и возвратом кредита в срок?"
   ]
  },
  {
   "cell_type": "code",
   "execution_count": 23,
   "metadata": {},
   "outputs": [
    {
     "data": {
      "text/html": [
       "<div>\n",
       "<style scoped>\n",
       "    .dataframe tbody tr th:only-of-type {\n",
       "        vertical-align: middle;\n",
       "    }\n",
       "\n",
       "    .dataframe tbody tr th {\n",
       "        vertical-align: top;\n",
       "    }\n",
       "\n",
       "    .dataframe thead th {\n",
       "        text-align: right;\n",
       "    }\n",
       "</style>\n",
       "<table border=\"1\" class=\"dataframe\">\n",
       "  <thead>\n",
       "    <tr style=\"text-align: right;\">\n",
       "      <th></th>\n",
       "      <th>sum</th>\n",
       "      <th>count</th>\n",
       "      <th>conversion</th>\n",
       "    </tr>\n",
       "    <tr>\n",
       "      <th>total_income_id</th>\n",
       "      <th></th>\n",
       "      <th></th>\n",
       "      <th></th>\n",
       "    </tr>\n",
       "  </thead>\n",
       "  <tbody>\n",
       "    <tr>\n",
       "      <td>2</td>\n",
       "      <td>624</td>\n",
       "      <td>7160</td>\n",
       "      <td>0.087151</td>\n",
       "    </tr>\n",
       "    <tr>\n",
       "      <td>3</td>\n",
       "      <td>405</td>\n",
       "      <td>4764</td>\n",
       "      <td>0.085013</td>\n",
       "    </tr>\n",
       "    <tr>\n",
       "      <td>6</td>\n",
       "      <td>51</td>\n",
       "      <td>624</td>\n",
       "      <td>0.081731</td>\n",
       "    </tr>\n",
       "    <tr>\n",
       "      <td>1</td>\n",
       "      <td>331</td>\n",
       "      <td>4091</td>\n",
       "      <td>0.080909</td>\n",
       "    </tr>\n",
       "    <tr>\n",
       "      <td>4</td>\n",
       "      <td>164</td>\n",
       "      <td>2254</td>\n",
       "      <td>0.072760</td>\n",
       "    </tr>\n",
       "    <tr>\n",
       "      <td>7</td>\n",
       "      <td>24</td>\n",
       "      <td>330</td>\n",
       "      <td>0.072727</td>\n",
       "    </tr>\n",
       "    <tr>\n",
       "      <td>8</td>\n",
       "      <td>13</td>\n",
       "      <td>196</td>\n",
       "      <td>0.066327</td>\n",
       "    </tr>\n",
       "    <tr>\n",
       "      <td>5</td>\n",
       "      <td>88</td>\n",
       "      <td>1330</td>\n",
       "      <td>0.066165</td>\n",
       "    </tr>\n",
       "    <tr>\n",
       "      <td>10</td>\n",
       "      <td>14</td>\n",
       "      <td>222</td>\n",
       "      <td>0.063063</td>\n",
       "    </tr>\n",
       "    <tr>\n",
       "      <td>0</td>\n",
       "      <td>23</td>\n",
       "      <td>372</td>\n",
       "      <td>0.061828</td>\n",
       "    </tr>\n",
       "    <tr>\n",
       "      <td>9</td>\n",
       "      <td>4</td>\n",
       "      <td>111</td>\n",
       "      <td>0.036036</td>\n",
       "    </tr>\n",
       "  </tbody>\n",
       "</table>\n",
       "</div>"
      ],
      "text/plain": [
       "                 sum  count  conversion\n",
       "total_income_id                        \n",
       "2                624   7160    0.087151\n",
       "3                405   4764    0.085013\n",
       "6                 51    624    0.081731\n",
       "1                331   4091    0.080909\n",
       "4                164   2254    0.072760\n",
       "7                 24    330    0.072727\n",
       "8                 13    196    0.066327\n",
       "5                 88   1330    0.066165\n",
       "10                14    222    0.063063\n",
       "0                 23    372    0.061828\n",
       "9                  4    111    0.036036"
      ]
     },
     "execution_count": 23,
     "metadata": {},
     "output_type": "execute_result"
    }
   ],
   "source": [
    "def total_income_category(value):\n",
    "    if value >= 500000:\n",
    "        return 10\n",
    "    else:\n",
    "        value = value // 50000 #выполним целочисленное деление, разбив людей на каждые 500000 дохода\n",
    "        return value\n",
    "df['total_income_id'] = df['total_income'].apply(total_income_category) #категоризуем уровень дохода создав доп столбец'total_income_id'\n",
    "df['total_income_id'].value_counts()\n",
    "debt_from_total_income = pd.DataFrame()\n",
    "debt_from_total_income['sum'] = df.groupby('total_income_id')['debt'].sum()\n",
    "debt_from_total_income['count'] = df.groupby('total_income_id')['debt'].count()\n",
    "debt_from_total_income['conversion'] = debt_from_total_income['sum'] / debt_from_total_income['count'] #найдем конверсию зависимости дохода и возврата кредита\n",
    "debt_from_total_income.sort_values('conversion', ascending = False) #отсортируем по столбцу"
   ]
  },
  {
   "cell_type": "markdown",
   "metadata": {},
   "source": [
    "**Вывод**"
   ]
  },
  {
   "cell_type": "markdown",
   "metadata": {},
   "source": [
    "Зависимости между уровнем дохода и возвратом кредита в срок нет!"
   ]
  },
  {
   "cell_type": "markdown",
   "metadata": {},
   "source": [
    "- Как разные цели кредита влияют на его возврат в срок?"
   ]
  },
  {
   "cell_type": "code",
   "execution_count": 24,
   "metadata": {},
   "outputs": [
    {
     "data": {
      "text/html": [
       "<div>\n",
       "<style scoped>\n",
       "    .dataframe tbody tr th:only-of-type {\n",
       "        vertical-align: middle;\n",
       "    }\n",
       "\n",
       "    .dataframe tbody tr th {\n",
       "        vertical-align: top;\n",
       "    }\n",
       "\n",
       "    .dataframe thead th {\n",
       "        text-align: right;\n",
       "    }\n",
       "</style>\n",
       "<table border=\"1\" class=\"dataframe\">\n",
       "  <thead>\n",
       "    <tr style=\"text-align: right;\">\n",
       "      <th></th>\n",
       "      <th>sum_purpose_category</th>\n",
       "      <th>count_purpose_category</th>\n",
       "      <th>result_purpose_category</th>\n",
       "    </tr>\n",
       "    <tr>\n",
       "      <th>purpose_category</th>\n",
       "      <th></th>\n",
       "      <th></th>\n",
       "      <th></th>\n",
       "    </tr>\n",
       "  </thead>\n",
       "  <tbody>\n",
       "    <tr>\n",
       "      <td>авто</td>\n",
       "      <td>403</td>\n",
       "      <td>4306</td>\n",
       "      <td>0.093590</td>\n",
       "    </tr>\n",
       "    <tr>\n",
       "      <td>образование</td>\n",
       "      <td>370</td>\n",
       "      <td>4013</td>\n",
       "      <td>0.092200</td>\n",
       "    </tr>\n",
       "    <tr>\n",
       "      <td>свадьба</td>\n",
       "      <td>186</td>\n",
       "      <td>2324</td>\n",
       "      <td>0.080034</td>\n",
       "    </tr>\n",
       "    <tr>\n",
       "      <td>недвижимость</td>\n",
       "      <td>782</td>\n",
       "      <td>10811</td>\n",
       "      <td>0.072334</td>\n",
       "    </tr>\n",
       "  </tbody>\n",
       "</table>\n",
       "</div>"
      ],
      "text/plain": [
       "                  sum_purpose_category  count_purpose_category  \\\n",
       "purpose_category                                                 \n",
       "авто                               403                    4306   \n",
       "образование                        370                    4013   \n",
       "свадьба                            186                    2324   \n",
       "недвижимость                       782                   10811   \n",
       "\n",
       "                  result_purpose_category  \n",
       "purpose_category                           \n",
       "авто                             0.093590  \n",
       "образование                      0.092200  \n",
       "свадьба                          0.080034  \n",
       "недвижимость                     0.072334  "
      ]
     },
     "execution_count": 24,
     "metadata": {},
     "output_type": "execute_result"
    }
   ],
   "source": [
    "debt_from_purpose_category = pd.DataFrame()\n",
    "debt_from_purpose_category['sum_purpose_category'] = df.groupby('purpose_category')['debt'].sum()#посчитаем сумму всех целей в категории\n",
    "debt_from_purpose_category['count_purpose_category'] = df.groupby('purpose_category')['debt'].count() #посчитаем сумму каждой строки целей\n",
    "debt_from_purpose_category['result_purpose_category'] = debt_from_purpose_category['sum_purpose_category'] / debt_from_purpose_category['count_purpose_category'] #найдем отношение, оно точно покажет какие цели кредита влияют на его возврата в срок \n",
    "debt_from_purpose_category.sort_values('result_purpose_category', ascending = False)"
   ]
  },
  {
   "cell_type": "markdown",
   "metadata": {},
   "source": [
    "**Вывод**"
   ]
  },
  {
   "cell_type": "markdown",
   "metadata": {},
   "source": [
    "Как мы видим по таблице, за авто и образование чаще появляется задолженность, нежели за свадьбу и недвижимость"
   ]
  },
  {
   "cell_type": "markdown",
   "metadata": {},
   "source": [
    "## Шаг 4. Общий вывод"
   ]
  },
  {
   "cell_type": "markdown",
   "metadata": {},
   "source": [
    "Общий вывод - семейный статус влияет на вероятность платежей по кредиту в срок - люди, бывавшие в браке чаще плятят в срок чем те, кто не бывали в браке, причем разведенные и овдовевшие платят в срок чаще, чем люди в браке. Чем больше детей, тем чаще платят не в срок, бездетные реже просрачивают оплату."
   ]
  },
  {
   "cell_type": "markdown",
   "metadata": {},
   "source": [
    "## Чек-лист готовности проекта\n",
    "\n",
    "Поставьте 'x' в выполненных пунктах. Далее нажмите Shift+Enter."
   ]
  },
  {
   "cell_type": "markdown",
   "metadata": {},
   "source": [
    "- [x]  открыт файл;\n",
    "- [x]  файл изучен;\n",
    "- [x]  определены пропущенные значения;\n",
    "- [x]  заполнены пропущенные значения;\n",
    "- [x]  есть пояснение, какие пропущенные значения обнаружены;\n",
    "- [x]  описаны возможные причины появления пропусков в данных;\n",
    "- [x]  объяснено, по какому принципу заполнены пропуски;\n",
    "- [x]  заменен вещественный тип данных на целочисленный;\n",
    "- [x]  есть пояснение, какой метод используется для изменения типа данных и почему;\n",
    "- [x]  удалены дубликаты;\n",
    "- [x]  есть пояснение, какой метод используется для поиска и удаления дубликатов;\n",
    "- [x]  описаны возможные причины появления дубликатов в данных;\n",
    "- [x]  выделены леммы в значениях столбца с целями получения кредита;\n",
    "- [x]  описан процесс лемматизации;\n",
    "- [x]  данные категоризированы;\n",
    "- [x]  есть объяснение принципа категоризации данных;\n",
    "- [x]  есть ответ на вопрос: \"Есть ли зависимость между наличием детей и возвратом кредита в срок?\";\n",
    "- [x]  есть ответ на вопрос: \"Есть ли зависимость между семейным положением и возвратом кредита в срок?\";\n",
    "- [x]  есть ответ на вопрос: \"Есть ли зависимость между уровнем дохода и возвратом кредита в срок?\";\n",
    "- [x]  есть ответ на вопрос: \"Как разные цели кредита влияют на его возврат в срок?\";\n",
    "- [x]  в каждом этапе есть выводы;\n",
    "- [x]  есть общий вывод."
   ]
  }
 ],
 "metadata": {
  "ExecuteTimeLog": [
   {
    "duration": 668,
    "start_time": "2021-12-02T18:48:20.535Z"
   },
   {
    "duration": 70,
    "start_time": "2021-12-02T18:57:12.481Z"
   },
   {
    "duration": 57,
    "start_time": "2021-12-02T18:57:38.979Z"
   },
   {
    "duration": 59,
    "start_time": "2021-12-02T18:58:20.542Z"
   },
   {
    "duration": 621,
    "start_time": "2021-12-02T19:01:15.854Z"
   },
   {
    "duration": 65,
    "start_time": "2021-12-02T19:13:03.019Z"
   },
   {
    "duration": 54,
    "start_time": "2021-12-02T19:14:04.141Z"
   },
   {
    "duration": 73,
    "start_time": "2021-12-02T19:17:17.342Z"
   },
   {
    "duration": 73,
    "start_time": "2021-12-02T19:20:29.353Z"
   },
   {
    "duration": 62,
    "start_time": "2021-12-02T19:29:43.517Z"
   },
   {
    "duration": 67,
    "start_time": "2021-12-02T19:52:20.143Z"
   },
   {
    "duration": 7111,
    "start_time": "2021-12-02T20:01:23.485Z"
   },
   {
    "duration": 72,
    "start_time": "2021-12-02T20:01:59.498Z"
   },
   {
    "duration": 6396,
    "start_time": "2021-12-02T20:01:59.572Z"
   },
   {
    "duration": 67,
    "start_time": "2021-12-02T20:08:42.008Z"
   },
   {
    "duration": 262,
    "start_time": "2021-12-02T20:08:42.076Z"
   },
   {
    "duration": 277,
    "start_time": "2021-12-02T20:08:55.785Z"
   },
   {
    "duration": 65,
    "start_time": "2021-12-02T20:10:29.138Z"
   },
   {
    "duration": 10,
    "start_time": "2021-12-02T20:10:29.204Z"
   },
   {
    "duration": 68,
    "start_time": "2021-12-02T22:14:54.379Z"
   },
   {
    "duration": 15,
    "start_time": "2021-12-02T22:14:54.448Z"
   },
   {
    "duration": 992,
    "start_time": "2021-12-03T09:21:41.898Z"
   },
   {
    "duration": 34,
    "start_time": "2021-12-03T09:21:42.893Z"
   },
   {
    "duration": 84,
    "start_time": "2021-12-03T09:39:01.184Z"
   },
   {
    "duration": 107,
    "start_time": "2021-12-03T09:39:01.271Z"
   },
   {
    "duration": 89,
    "start_time": "2021-12-03T09:39:21.309Z"
   },
   {
    "duration": 25,
    "start_time": "2021-12-03T09:39:21.401Z"
   },
   {
    "duration": 129,
    "start_time": "2021-12-03T09:39:48.820Z"
   },
   {
    "duration": 10,
    "start_time": "2021-12-03T09:39:48.952Z"
   },
   {
    "duration": 10,
    "start_time": "2021-12-03T09:40:02.072Z"
   },
   {
    "duration": 86,
    "start_time": "2021-12-03T09:40:25.562Z"
   },
   {
    "duration": 10,
    "start_time": "2021-12-03T09:40:25.651Z"
   },
   {
    "duration": 123,
    "start_time": "2021-12-03T09:41:00.052Z"
   },
   {
    "duration": 10,
    "start_time": "2021-12-03T09:41:00.178Z"
   },
   {
    "duration": 125,
    "start_time": "2021-12-03T09:41:30.390Z"
   },
   {
    "duration": 27,
    "start_time": "2021-12-03T09:41:30.519Z"
   },
   {
    "duration": 84,
    "start_time": "2021-12-03T09:42:09.108Z"
   },
   {
    "duration": 22,
    "start_time": "2021-12-03T09:42:09.195Z"
   },
   {
    "duration": 88,
    "start_time": "2021-12-03T09:43:53.056Z"
   },
   {
    "duration": 9,
    "start_time": "2021-12-03T09:43:53.147Z"
   },
   {
    "duration": 1537,
    "start_time": "2021-12-03T09:44:18.215Z"
   },
   {
    "duration": 30,
    "start_time": "2021-12-03T09:44:19.754Z"
   },
   {
    "duration": 120,
    "start_time": "2021-12-03T09:51:33.841Z"
   },
   {
    "duration": 430,
    "start_time": "2021-12-03T09:51:33.964Z"
   },
   {
    "duration": 89,
    "start_time": "2021-12-03T09:51:50.234Z"
   },
   {
    "duration": 314,
    "start_time": "2021-12-03T09:51:50.327Z"
   },
   {
    "duration": 84,
    "start_time": "2021-12-03T09:52:05.398Z"
   },
   {
    "duration": 305,
    "start_time": "2021-12-03T09:52:05.485Z"
   },
   {
    "duration": 84,
    "start_time": "2021-12-03T09:52:15.824Z"
   },
   {
    "duration": 308,
    "start_time": "2021-12-03T09:52:15.911Z"
   },
   {
    "duration": 124,
    "start_time": "2021-12-03T09:52:56.194Z"
   },
   {
    "duration": 323,
    "start_time": "2021-12-03T09:52:56.321Z"
   },
   {
    "duration": 84,
    "start_time": "2021-12-03T09:54:11.663Z"
   },
   {
    "duration": 324,
    "start_time": "2021-12-03T09:54:11.750Z"
   },
   {
    "duration": 85,
    "start_time": "2021-12-03T09:55:01.864Z"
   },
   {
    "duration": 207,
    "start_time": "2021-12-03T09:55:01.952Z"
   },
   {
    "duration": 91,
    "start_time": "2021-12-03T09:55:40.693Z"
   },
   {
    "duration": 246,
    "start_time": "2021-12-03T09:55:40.788Z"
   },
   {
    "duration": 87,
    "start_time": "2021-12-03T10:10:38.618Z"
   },
   {
    "duration": 91,
    "start_time": "2021-12-03T10:10:38.708Z"
   },
   {
    "duration": 94,
    "start_time": "2021-12-03T10:11:17.542Z"
   },
   {
    "duration": 472,
    "start_time": "2021-12-03T10:11:17.640Z"
   },
   {
    "duration": 121,
    "start_time": "2021-12-03T10:11:29.102Z"
   },
   {
    "duration": 25,
    "start_time": "2021-12-03T10:11:29.226Z"
   },
   {
    "duration": 87,
    "start_time": "2021-12-03T10:13:25.712Z"
   },
   {
    "duration": 122,
    "start_time": "2021-12-03T10:13:25.802Z"
   },
   {
    "duration": 87,
    "start_time": "2021-12-03T10:18:36.790Z"
   },
   {
    "duration": 125,
    "start_time": "2021-12-03T10:18:36.880Z"
   },
   {
    "duration": 88,
    "start_time": "2021-12-03T10:19:06.886Z"
   },
   {
    "duration": 141,
    "start_time": "2021-12-03T10:19:06.981Z"
   },
   {
    "duration": 96,
    "start_time": "2021-12-03T10:19:31.228Z"
   },
   {
    "duration": 138,
    "start_time": "2021-12-03T10:19:31.327Z"
   },
   {
    "duration": 86,
    "start_time": "2021-12-03T10:30:39.290Z"
   },
   {
    "duration": 143,
    "start_time": "2021-12-03T10:30:39.378Z"
   },
   {
    "duration": 89,
    "start_time": "2021-12-03T10:31:01.781Z"
   },
   {
    "duration": 179,
    "start_time": "2021-12-03T10:31:01.873Z"
   },
   {
    "duration": 88,
    "start_time": "2021-12-03T10:34:13.603Z"
   },
   {
    "duration": 210,
    "start_time": "2021-12-03T10:34:13.695Z"
   },
   {
    "duration": 10,
    "start_time": "2021-12-03T10:34:13.909Z"
   },
   {
    "duration": 85,
    "start_time": "2021-12-03T10:34:59.564Z"
   },
   {
    "duration": 139,
    "start_time": "2021-12-03T10:34:59.652Z"
   },
   {
    "duration": 17,
    "start_time": "2021-12-03T10:34:59.794Z"
   },
   {
    "duration": 84,
    "start_time": "2021-12-03T10:36:16.361Z"
   },
   {
    "duration": 136,
    "start_time": "2021-12-03T10:36:16.449Z"
   },
   {
    "duration": 17,
    "start_time": "2021-12-03T10:36:16.588Z"
   },
   {
    "duration": 85,
    "start_time": "2021-12-03T10:36:34.417Z"
   },
   {
    "duration": 138,
    "start_time": "2021-12-03T10:36:34.505Z"
   },
   {
    "duration": 37,
    "start_time": "2021-12-03T10:36:34.646Z"
   },
   {
    "duration": 87,
    "start_time": "2021-12-03T10:38:52.510Z"
   },
   {
    "duration": 151,
    "start_time": "2021-12-03T10:38:52.600Z"
   },
   {
    "duration": 29,
    "start_time": "2021-12-03T10:38:52.754Z"
   },
   {
    "duration": 86,
    "start_time": "2021-12-03T10:48:00.171Z"
   },
   {
    "duration": 143,
    "start_time": "2021-12-03T10:48:00.259Z"
   },
   {
    "duration": 7,
    "start_time": "2021-12-03T10:48:00.405Z"
   },
   {
    "duration": 33,
    "start_time": "2021-12-03T10:48:00.414Z"
   },
   {
    "duration": 94,
    "start_time": "2021-12-03T10:50:57.825Z"
   },
   {
    "duration": 159,
    "start_time": "2021-12-03T10:50:57.923Z"
   },
   {
    "duration": 7,
    "start_time": "2021-12-03T10:50:58.086Z"
   },
   {
    "duration": 22,
    "start_time": "2021-12-03T10:50:58.096Z"
   },
   {
    "duration": 90,
    "start_time": "2021-12-03T10:51:52.185Z"
   },
   {
    "duration": 162,
    "start_time": "2021-12-03T10:51:52.281Z"
   },
   {
    "duration": 7,
    "start_time": "2021-12-03T10:51:52.446Z"
   },
   {
    "duration": 52,
    "start_time": "2021-12-03T10:51:52.455Z"
   },
   {
    "duration": 104,
    "start_time": "2021-12-03T10:53:03.780Z"
   },
   {
    "duration": 182,
    "start_time": "2021-12-03T10:53:03.889Z"
   },
   {
    "duration": 10,
    "start_time": "2021-12-03T10:53:04.075Z"
   },
   {
    "duration": 59,
    "start_time": "2021-12-03T10:53:04.088Z"
   },
   {
    "duration": 128,
    "start_time": "2021-12-03T10:54:02.647Z"
   },
   {
    "duration": 226,
    "start_time": "2021-12-03T10:54:02.778Z"
   },
   {
    "duration": 8,
    "start_time": "2021-12-03T10:54:03.009Z"
   },
   {
    "duration": 64,
    "start_time": "2021-12-03T10:54:03.021Z"
   },
   {
    "duration": 134,
    "start_time": "2021-12-03T10:57:12.944Z"
   },
   {
    "duration": 175,
    "start_time": "2021-12-03T10:57:13.083Z"
   },
   {
    "duration": 23,
    "start_time": "2021-12-03T10:57:13.262Z"
   },
   {
    "duration": 36,
    "start_time": "2021-12-03T10:57:13.290Z"
   },
   {
    "duration": 93,
    "start_time": "2021-12-03T10:58:08.657Z"
   },
   {
    "duration": 176,
    "start_time": "2021-12-03T10:58:08.753Z"
   },
   {
    "duration": 7,
    "start_time": "2021-12-03T10:58:08.932Z"
   },
   {
    "duration": 69,
    "start_time": "2021-12-03T10:58:08.942Z"
   },
   {
    "duration": 96,
    "start_time": "2021-12-03T10:59:32.992Z"
   },
   {
    "duration": 179,
    "start_time": "2021-12-03T10:59:33.093Z"
   },
   {
    "duration": 14,
    "start_time": "2021-12-03T10:59:33.276Z"
   },
   {
    "duration": 49,
    "start_time": "2021-12-03T10:59:33.294Z"
   },
   {
    "duration": 111,
    "start_time": "2021-12-03T11:04:07.732Z"
   },
   {
    "duration": 151,
    "start_time": "2021-12-03T11:04:07.845Z"
   },
   {
    "duration": 9,
    "start_time": "2021-12-03T11:04:08.000Z"
   },
   {
    "duration": 68,
    "start_time": "2021-12-03T11:04:08.026Z"
   },
   {
    "duration": 95,
    "start_time": "2021-12-03T11:10:59.405Z"
   },
   {
    "duration": 143,
    "start_time": "2021-12-03T11:10:59.502Z"
   },
   {
    "duration": 6,
    "start_time": "2021-12-03T11:10:59.648Z"
   },
   {
    "duration": 339,
    "start_time": "2021-12-03T11:10:59.657Z"
   },
   {
    "duration": 92,
    "start_time": "2021-12-03T11:11:20.409Z"
   },
   {
    "duration": 158,
    "start_time": "2021-12-03T11:11:20.505Z"
   },
   {
    "duration": 6,
    "start_time": "2021-12-03T11:11:20.666Z"
   },
   {
    "duration": 342,
    "start_time": "2021-12-03T11:11:20.674Z"
   },
   {
    "duration": 94,
    "start_time": "2021-12-03T11:13:14.840Z"
   },
   {
    "duration": 151,
    "start_time": "2021-12-03T11:13:14.937Z"
   },
   {
    "duration": 7,
    "start_time": "2021-12-03T11:13:15.092Z"
   },
   {
    "duration": 64,
    "start_time": "2021-12-03T11:13:15.102Z"
   },
   {
    "duration": 99,
    "start_time": "2021-12-03T11:35:28.963Z"
   },
   {
    "duration": 152,
    "start_time": "2021-12-03T11:35:29.066Z"
   },
   {
    "duration": 8,
    "start_time": "2021-12-03T11:35:29.222Z"
   },
   {
    "duration": 75,
    "start_time": "2021-12-03T11:35:29.233Z"
   },
   {
    "duration": 8,
    "start_time": "2021-12-03T11:35:29.310Z"
   },
   {
    "duration": 94,
    "start_time": "2021-12-03T11:36:43.303Z"
   },
   {
    "duration": 147,
    "start_time": "2021-12-03T11:36:43.400Z"
   },
   {
    "duration": 6,
    "start_time": "2021-12-03T11:36:43.550Z"
   },
   {
    "duration": 73,
    "start_time": "2021-12-03T11:36:43.559Z"
   },
   {
    "duration": 705,
    "start_time": "2021-12-03T11:36:43.635Z"
   },
   {
    "duration": 94,
    "start_time": "2021-12-03T11:37:11.517Z"
   },
   {
    "duration": 147,
    "start_time": "2021-12-03T11:37:11.613Z"
   },
   {
    "duration": 6,
    "start_time": "2021-12-03T11:37:11.763Z"
   },
   {
    "duration": 57,
    "start_time": "2021-12-03T11:37:11.782Z"
   },
   {
    "duration": 200,
    "start_time": "2021-12-03T11:37:11.842Z"
   },
   {
    "duration": 94,
    "start_time": "2021-12-03T11:38:02.021Z"
   },
   {
    "duration": 155,
    "start_time": "2021-12-03T11:38:02.118Z"
   },
   {
    "duration": 10,
    "start_time": "2021-12-03T11:38:02.278Z"
   },
   {
    "duration": 73,
    "start_time": "2021-12-03T11:38:02.291Z"
   },
   {
    "duration": 627,
    "start_time": "2021-12-03T11:38:02.366Z"
   },
   {
    "duration": 94,
    "start_time": "2021-12-03T11:38:09.670Z"
   },
   {
    "duration": 232,
    "start_time": "2021-12-03T11:38:09.766Z"
   },
   {
    "duration": 8,
    "start_time": "2021-12-03T11:38:10.003Z"
   },
   {
    "duration": 73,
    "start_time": "2021-12-03T11:38:10.014Z"
   },
   {
    "duration": 92,
    "start_time": "2021-12-03T11:38:29.334Z"
   },
   {
    "duration": 154,
    "start_time": "2021-12-03T11:38:29.429Z"
   },
   {
    "duration": 9,
    "start_time": "2021-12-03T11:38:29.588Z"
   },
   {
    "duration": 50,
    "start_time": "2021-12-03T11:38:29.601Z"
   },
   {
    "duration": 205,
    "start_time": "2021-12-03T11:38:29.654Z"
   },
   {
    "duration": 94,
    "start_time": "2021-12-03T11:39:06.866Z"
   },
   {
    "duration": 158,
    "start_time": "2021-12-03T11:39:06.962Z"
   },
   {
    "duration": 6,
    "start_time": "2021-12-03T11:39:07.123Z"
   },
   {
    "duration": 79,
    "start_time": "2021-12-03T11:39:07.133Z"
   },
   {
    "duration": 107,
    "start_time": "2021-12-03T11:39:31.103Z"
   },
   {
    "duration": 191,
    "start_time": "2021-12-03T11:39:31.213Z"
   },
   {
    "duration": 8,
    "start_time": "2021-12-03T11:39:31.407Z"
   },
   {
    "duration": 88,
    "start_time": "2021-12-03T11:39:31.418Z"
   },
   {
    "duration": 179,
    "start_time": "2021-12-03T11:39:31.509Z"
   },
   {
    "duration": 97,
    "start_time": "2021-12-03T11:39:42.733Z"
   },
   {
    "duration": 161,
    "start_time": "2021-12-03T11:39:42.833Z"
   },
   {
    "duration": 8,
    "start_time": "2021-12-03T11:39:42.999Z"
   },
   {
    "duration": 98,
    "start_time": "2021-12-03T11:39:43.010Z"
   },
   {
    "duration": 104,
    "start_time": "2021-12-03T11:39:43.111Z"
   },
   {
    "duration": 94,
    "start_time": "2021-12-03T11:40:04.025Z"
   },
   {
    "duration": 152,
    "start_time": "2021-12-03T11:40:04.122Z"
   },
   {
    "duration": 13,
    "start_time": "2021-12-03T11:40:04.277Z"
   },
   {
    "duration": 55,
    "start_time": "2021-12-03T11:40:04.294Z"
   },
   {
    "duration": 128,
    "start_time": "2021-12-03T11:40:35.761Z"
   },
   {
    "duration": 228,
    "start_time": "2021-12-03T11:40:35.893Z"
   },
   {
    "duration": 7,
    "start_time": "2021-12-03T11:40:36.124Z"
   },
   {
    "duration": 99,
    "start_time": "2021-12-03T11:40:36.134Z"
   },
   {
    "duration": 268,
    "start_time": "2021-12-03T11:40:36.238Z"
   },
   {
    "duration": 88,
    "start_time": "2021-12-03T11:41:41.392Z"
   },
   {
    "duration": 167,
    "start_time": "2021-12-03T11:41:41.487Z"
   },
   {
    "duration": 7,
    "start_time": "2021-12-03T11:41:41.658Z"
   },
   {
    "duration": 70,
    "start_time": "2021-12-03T11:41:41.668Z"
   },
   {
    "duration": 609,
    "start_time": "2021-12-03T11:41:41.740Z"
   },
   {
    "duration": 92,
    "start_time": "2021-12-03T11:41:49.474Z"
   },
   {
    "duration": 152,
    "start_time": "2021-12-03T11:41:49.570Z"
   },
   {
    "duration": 7,
    "start_time": "2021-12-03T11:41:49.724Z"
   },
   {
    "duration": 74,
    "start_time": "2021-12-03T11:41:49.735Z"
   },
   {
    "duration": 24614,
    "start_time": "2021-12-03T11:41:49.811Z"
   },
   {
    "duration": 102,
    "start_time": "2021-12-03T11:42:48.863Z"
   },
   {
    "duration": 154,
    "start_time": "2021-12-03T11:42:48.968Z"
   },
   {
    "duration": 6,
    "start_time": "2021-12-03T11:42:49.126Z"
   },
   {
    "duration": 84,
    "start_time": "2021-12-03T11:42:49.135Z"
   },
   {
    "duration": 135,
    "start_time": "2021-12-03T11:43:17.770Z"
   },
   {
    "duration": 216,
    "start_time": "2021-12-03T11:43:17.907Z"
   },
   {
    "duration": 7,
    "start_time": "2021-12-03T11:43:18.127Z"
   },
   {
    "duration": 68,
    "start_time": "2021-12-03T11:43:18.136Z"
   },
   {
    "duration": 108,
    "start_time": "2021-12-03T11:43:18.207Z"
   },
   {
    "duration": 84,
    "start_time": "2021-12-03T11:45:15.896Z"
   },
   {
    "duration": 220,
    "start_time": "2021-12-03T11:45:15.987Z"
   },
   {
    "duration": 6,
    "start_time": "2021-12-03T11:45:16.210Z"
   },
   {
    "duration": 87,
    "start_time": "2021-12-03T11:45:16.218Z"
   },
   {
    "duration": 295,
    "start_time": "2021-12-03T11:45:16.307Z"
   },
   {
    "duration": 96,
    "start_time": "2021-12-03T11:45:28.536Z"
   },
   {
    "duration": 157,
    "start_time": "2021-12-03T11:45:28.636Z"
   },
   {
    "duration": 8,
    "start_time": "2021-12-03T11:45:28.802Z"
   },
   {
    "duration": 88,
    "start_time": "2021-12-03T11:45:28.813Z"
   },
   {
    "duration": 24,
    "start_time": "2021-12-03T11:45:28.904Z"
   },
   {
    "duration": 93,
    "start_time": "2021-12-03T11:46:51.672Z"
   },
   {
    "duration": 163,
    "start_time": "2021-12-03T11:46:51.768Z"
   },
   {
    "duration": 5,
    "start_time": "2021-12-03T11:46:51.935Z"
   },
   {
    "duration": 81,
    "start_time": "2021-12-03T11:46:51.943Z"
   },
   {
    "duration": 296,
    "start_time": "2021-12-03T11:46:52.027Z"
   },
   {
    "duration": 102,
    "start_time": "2021-12-03T11:47:11.495Z"
   },
   {
    "duration": 144,
    "start_time": "2021-12-03T11:47:11.600Z"
   },
   {
    "duration": 6,
    "start_time": "2021-12-03T11:47:11.747Z"
   },
   {
    "duration": 78,
    "start_time": "2021-12-03T11:47:11.756Z"
   },
   {
    "duration": 5192,
    "start_time": "2021-12-03T11:47:11.837Z"
   },
   {
    "duration": 128,
    "start_time": "2021-12-03T11:55:26.359Z"
   },
   {
    "duration": 188,
    "start_time": "2021-12-03T11:55:26.491Z"
   },
   {
    "duration": 11,
    "start_time": "2021-12-03T11:55:26.690Z"
   },
   {
    "duration": 61,
    "start_time": "2021-12-03T11:55:26.703Z"
   },
   {
    "duration": 5146,
    "start_time": "2021-12-03T11:55:26.767Z"
   },
   {
    "duration": 161,
    "start_time": "2021-12-03T11:57:32.468Z"
   },
   {
    "duration": 168,
    "start_time": "2021-12-03T11:57:32.632Z"
   },
   {
    "duration": 7,
    "start_time": "2021-12-03T11:57:32.803Z"
   },
   {
    "duration": 88,
    "start_time": "2021-12-03T11:57:32.814Z"
   },
   {
    "duration": 6051,
    "start_time": "2021-12-03T11:57:32.905Z"
   },
   {
    "duration": 131,
    "start_time": "2021-12-03T12:04:19.481Z"
   },
   {
    "duration": 167,
    "start_time": "2021-12-03T12:04:19.615Z"
   },
   {
    "duration": 10,
    "start_time": "2021-12-03T12:04:19.786Z"
   },
   {
    "duration": 51,
    "start_time": "2021-12-03T12:04:19.800Z"
   },
   {
    "duration": 5341,
    "start_time": "2021-12-03T12:04:19.853Z"
   },
   {
    "duration": 124,
    "start_time": "2021-12-03T12:09:21.030Z"
   },
   {
    "duration": 149,
    "start_time": "2021-12-03T12:09:21.157Z"
   },
   {
    "duration": 6,
    "start_time": "2021-12-03T12:09:21.309Z"
   },
   {
    "duration": 76,
    "start_time": "2021-12-03T12:09:21.318Z"
   },
   {
    "duration": 5106,
    "start_time": "2021-12-03T12:09:21.396Z"
   },
   {
    "duration": 128,
    "start_time": "2021-12-03T12:10:12.623Z"
   },
   {
    "duration": 167,
    "start_time": "2021-12-03T12:10:12.754Z"
   },
   {
    "duration": 7,
    "start_time": "2021-12-03T12:10:12.925Z"
   },
   {
    "duration": 80,
    "start_time": "2021-12-03T12:10:12.934Z"
   },
   {
    "duration": 5724,
    "start_time": "2021-12-03T12:10:13.017Z"
   },
   {
    "duration": 122,
    "start_time": "2021-12-03T12:10:28.797Z"
   },
   {
    "duration": 154,
    "start_time": "2021-12-03T12:10:28.923Z"
   },
   {
    "duration": 8,
    "start_time": "2021-12-03T12:10:29.084Z"
   },
   {
    "duration": 53,
    "start_time": "2021-12-03T12:10:29.095Z"
   },
   {
    "duration": 5080,
    "start_time": "2021-12-03T12:10:29.182Z"
   },
   {
    "duration": 120,
    "start_time": "2021-12-03T12:15:54.892Z"
   },
   {
    "duration": 152,
    "start_time": "2021-12-03T12:15:55.015Z"
   },
   {
    "duration": 14,
    "start_time": "2021-12-03T12:15:55.170Z"
   },
   {
    "duration": 60,
    "start_time": "2021-12-03T12:15:55.187Z"
   },
   {
    "duration": 282,
    "start_time": "2021-12-03T12:15:55.250Z"
   },
   {
    "duration": 87,
    "start_time": "2021-12-03T12:16:45.709Z"
   },
   {
    "duration": 142,
    "start_time": "2021-12-03T12:16:45.799Z"
   },
   {
    "duration": 8,
    "start_time": "2021-12-03T12:16:45.945Z"
   },
   {
    "duration": 73,
    "start_time": "2021-12-03T12:16:45.956Z"
   },
   {
    "duration": 86,
    "start_time": "2021-12-03T12:19:05.469Z"
   },
   {
    "duration": 145,
    "start_time": "2021-12-03T12:19:05.557Z"
   },
   {
    "duration": 6,
    "start_time": "2021-12-03T12:19:05.705Z"
   },
   {
    "duration": 70,
    "start_time": "2021-12-03T12:19:05.713Z"
   },
   {
    "duration": 6,
    "start_time": "2021-12-03T12:19:05.786Z"
   },
   {
    "duration": 87,
    "start_time": "2021-12-03T12:20:37.702Z"
   },
   {
    "duration": 150,
    "start_time": "2021-12-03T12:20:37.791Z"
   },
   {
    "duration": 6,
    "start_time": "2021-12-03T12:20:37.944Z"
   },
   {
    "duration": 66,
    "start_time": "2021-12-03T12:20:37.953Z"
   },
   {
    "duration": 270,
    "start_time": "2021-12-03T12:20:38.022Z"
   },
   {
    "duration": 92,
    "start_time": "2021-12-03T12:21:47.547Z"
   },
   {
    "duration": 160,
    "start_time": "2021-12-03T12:21:47.642Z"
   },
   {
    "duration": 7,
    "start_time": "2021-12-03T12:21:47.806Z"
   },
   {
    "duration": 76,
    "start_time": "2021-12-03T12:21:47.816Z"
   },
   {
    "duration": 7,
    "start_time": "2021-12-03T12:21:47.895Z"
   },
   {
    "duration": 84,
    "start_time": "2021-12-03T12:22:05.373Z"
   },
   {
    "duration": 150,
    "start_time": "2021-12-03T12:22:05.460Z"
   },
   {
    "duration": 7,
    "start_time": "2021-12-03T12:22:05.614Z"
   },
   {
    "duration": 96,
    "start_time": "2021-12-03T12:22:05.625Z"
   },
   {
    "duration": 32,
    "start_time": "2021-12-03T12:22:05.724Z"
   },
   {
    "duration": 90,
    "start_time": "2021-12-03T12:22:32.819Z"
   },
   {
    "duration": 143,
    "start_time": "2021-12-03T12:22:32.911Z"
   },
   {
    "duration": 25,
    "start_time": "2021-12-03T12:22:33.057Z"
   },
   {
    "duration": 51,
    "start_time": "2021-12-03T12:22:33.084Z"
   },
   {
    "duration": 296,
    "start_time": "2021-12-03T12:22:33.138Z"
   },
   {
    "duration": 923,
    "start_time": "2021-12-03T12:23:08.439Z"
   },
   {
    "duration": 148,
    "start_time": "2021-12-03T12:23:09.364Z"
   },
   {
    "duration": 6,
    "start_time": "2021-12-03T12:23:09.515Z"
   },
   {
    "duration": 73,
    "start_time": "2021-12-03T12:23:09.524Z"
   },
   {
    "duration": 1699,
    "start_time": "2021-12-03T12:23:49.026Z"
   },
   {
    "duration": 1696,
    "start_time": "2021-12-03T12:23:49.031Z"
   },
   {
    "duration": 1697,
    "start_time": "2021-12-03T12:23:49.032Z"
   },
   {
    "duration": 1696,
    "start_time": "2021-12-03T12:23:49.035Z"
   },
   {
    "duration": 1697,
    "start_time": "2021-12-03T12:23:49.036Z"
   },
   {
    "duration": 145,
    "start_time": "2021-12-03T12:25:02.499Z"
   },
   {
    "duration": 148,
    "start_time": "2021-12-03T12:25:02.647Z"
   },
   {
    "duration": 6,
    "start_time": "2021-12-03T12:25:02.797Z"
   },
   {
    "duration": 78,
    "start_time": "2021-12-03T12:25:02.806Z"
   },
   {
    "duration": 22475,
    "start_time": "2021-12-03T12:25:02.887Z"
   },
   {
    "duration": 94,
    "start_time": "2021-12-03T12:25:26.471Z"
   },
   {
    "duration": 160,
    "start_time": "2021-12-03T12:25:26.567Z"
   },
   {
    "duration": 7,
    "start_time": "2021-12-03T12:25:26.732Z"
   },
   {
    "duration": 93,
    "start_time": "2021-12-03T12:25:26.743Z"
   },
   {
    "duration": 170,
    "start_time": "2021-12-03T12:25:26.839Z"
   },
   {
    "duration": 136,
    "start_time": "2021-12-03T12:26:03.246Z"
   },
   {
    "duration": 218,
    "start_time": "2021-12-03T12:26:03.386Z"
   },
   {
    "duration": 7,
    "start_time": "2021-12-03T12:26:03.608Z"
   },
   {
    "duration": 98,
    "start_time": "2021-12-03T12:26:03.618Z"
   },
   {
    "duration": 186,
    "start_time": "2021-12-03T12:26:28.805Z"
   },
   {
    "duration": 147,
    "start_time": "2021-12-03T12:26:28.994Z"
   },
   {
    "duration": 8,
    "start_time": "2021-12-03T12:26:29.144Z"
   },
   {
    "duration": 75,
    "start_time": "2021-12-03T12:26:29.155Z"
   },
   {
    "duration": 23205,
    "start_time": "2021-12-03T12:26:29.233Z"
   },
   {
    "duration": 26,
    "start_time": "2021-12-03T12:26:52.442Z"
   },
   {
    "duration": 89,
    "start_time": "2021-12-03T12:32:29.034Z"
   },
   {
    "duration": 147,
    "start_time": "2021-12-03T12:32:29.126Z"
   },
   {
    "duration": 6,
    "start_time": "2021-12-03T12:32:29.283Z"
   },
   {
    "duration": 48,
    "start_time": "2021-12-03T12:32:29.291Z"
   },
   {
    "duration": 310,
    "start_time": "2021-12-03T12:32:29.342Z"
   },
   {
    "duration": 90,
    "start_time": "2021-12-03T12:33:04.524Z"
   },
   {
    "duration": 148,
    "start_time": "2021-12-03T12:33:04.617Z"
   },
   {
    "duration": 13,
    "start_time": "2021-12-03T12:33:04.769Z"
   },
   {
    "duration": 51,
    "start_time": "2021-12-03T12:33:04.786Z"
   },
   {
    "duration": 4913,
    "start_time": "2021-12-03T12:33:04.840Z"
   },
   {
    "duration": 116,
    "start_time": "2021-12-03T12:33:53.426Z"
   },
   {
    "duration": 138,
    "start_time": "2021-12-03T12:33:53.545Z"
   },
   {
    "duration": 6,
    "start_time": "2021-12-03T12:33:53.686Z"
   },
   {
    "duration": 51,
    "start_time": "2021-12-03T12:33:53.694Z"
   },
   {
    "duration": 5281,
    "start_time": "2021-12-03T12:33:53.747Z"
   },
   {
    "duration": 131,
    "start_time": "2021-12-03T12:40:15.853Z"
   },
   {
    "duration": 142,
    "start_time": "2021-12-03T12:40:15.988Z"
   },
   {
    "duration": 5,
    "start_time": "2021-12-03T12:40:16.133Z"
   },
   {
    "duration": 74,
    "start_time": "2021-12-03T12:40:16.141Z"
   },
   {
    "duration": 4889,
    "start_time": "2021-12-03T12:40:16.217Z"
   },
   {
    "duration": 117,
    "start_time": "2021-12-03T12:41:39.228Z"
   },
   {
    "duration": 143,
    "start_time": "2021-12-03T12:41:39.349Z"
   },
   {
    "duration": 5,
    "start_time": "2021-12-03T12:41:39.495Z"
   },
   {
    "duration": 63,
    "start_time": "2021-12-03T12:41:39.502Z"
   },
   {
    "duration": 286,
    "start_time": "2021-12-03T12:41:39.567Z"
   },
   {
    "duration": 128,
    "start_time": "2021-12-03T12:42:01.607Z"
   },
   {
    "duration": 231,
    "start_time": "2021-12-03T12:42:01.738Z"
   },
   {
    "duration": 8,
    "start_time": "2021-12-03T12:42:01.981Z"
   },
   {
    "duration": 92,
    "start_time": "2021-12-03T12:42:01.992Z"
   },
   {
    "duration": 5053,
    "start_time": "2021-12-03T12:42:02.087Z"
   },
   {
    "duration": 113,
    "start_time": "2021-12-03T12:42:56.537Z"
   },
   {
    "duration": 136,
    "start_time": "2021-12-03T12:42:56.653Z"
   },
   {
    "duration": 6,
    "start_time": "2021-12-03T12:42:56.792Z"
   },
   {
    "duration": 60,
    "start_time": "2021-12-03T12:42:56.800Z"
   },
   {
    "duration": 4945,
    "start_time": "2021-12-03T12:42:56.863Z"
   },
   {
    "duration": 117,
    "start_time": "2021-12-03T12:49:58.937Z"
   },
   {
    "duration": 236,
    "start_time": "2021-12-03T12:49:59.057Z"
   },
   {
    "duration": 7,
    "start_time": "2021-12-03T12:49:59.297Z"
   },
   {
    "duration": 93,
    "start_time": "2021-12-03T12:49:59.307Z"
   },
   {
    "duration": 278,
    "start_time": "2021-12-03T12:49:59.403Z"
   },
   {
    "duration": 89,
    "start_time": "2021-12-03T12:50:14.857Z"
   },
   {
    "duration": 142,
    "start_time": "2021-12-03T12:50:14.949Z"
   },
   {
    "duration": 6,
    "start_time": "2021-12-03T12:50:15.094Z"
   },
   {
    "duration": 79,
    "start_time": "2021-12-03T12:50:15.103Z"
   },
   {
    "duration": 15,
    "start_time": "2021-12-03T12:50:15.184Z"
   },
   {
    "duration": 90,
    "start_time": "2021-12-03T12:50:47.346Z"
   },
   {
    "duration": 161,
    "start_time": "2021-12-03T12:50:47.440Z"
   },
   {
    "duration": 6,
    "start_time": "2021-12-03T12:50:47.604Z"
   },
   {
    "duration": 73,
    "start_time": "2021-12-03T12:50:47.612Z"
   },
   {
    "duration": 286,
    "start_time": "2021-12-03T12:50:47.687Z"
   },
   {
    "duration": 292,
    "start_time": "2021-12-03T12:51:02.997Z"
   },
   {
    "duration": 146,
    "start_time": "2021-12-03T12:51:03.292Z"
   },
   {
    "duration": 6,
    "start_time": "2021-12-03T12:51:03.442Z"
   },
   {
    "duration": 65,
    "start_time": "2021-12-03T12:51:03.451Z"
   },
   {
    "duration": 4894,
    "start_time": "2021-12-03T12:51:03.519Z"
   },
   {
    "duration": 126,
    "start_time": "2021-12-03T12:51:28.567Z"
   },
   {
    "duration": 154,
    "start_time": "2021-12-03T12:51:28.695Z"
   },
   {
    "duration": 6,
    "start_time": "2021-12-03T12:51:28.852Z"
   },
   {
    "duration": 70,
    "start_time": "2021-12-03T12:51:28.860Z"
   },
   {
    "duration": 4933,
    "start_time": "2021-12-03T12:51:28.932Z"
   },
   {
    "duration": 119,
    "start_time": "2021-12-03T12:51:54.242Z"
   },
   {
    "duration": 146,
    "start_time": "2021-12-03T12:51:54.364Z"
   },
   {
    "duration": 7,
    "start_time": "2021-12-03T12:51:54.513Z"
   },
   {
    "duration": 71,
    "start_time": "2021-12-03T12:51:54.523Z"
   },
   {
    "duration": 4933,
    "start_time": "2021-12-03T12:51:54.597Z"
   },
   {
    "duration": 126,
    "start_time": "2021-12-03T12:52:56.459Z"
   },
   {
    "duration": 152,
    "start_time": "2021-12-03T12:52:56.589Z"
   },
   {
    "duration": 6,
    "start_time": "2021-12-03T12:52:56.743Z"
   },
   {
    "duration": 67,
    "start_time": "2021-12-03T12:52:56.752Z"
   },
   {
    "duration": 5366,
    "start_time": "2021-12-03T12:52:56.822Z"
   },
   {
    "duration": 119,
    "start_time": "2021-12-03T12:54:45.732Z"
   },
   {
    "duration": 144,
    "start_time": "2021-12-03T12:54:45.854Z"
   },
   {
    "duration": 7,
    "start_time": "2021-12-03T12:54:46.001Z"
   },
   {
    "duration": 85,
    "start_time": "2021-12-03T12:54:46.011Z"
   },
   {
    "duration": 278,
    "start_time": "2021-12-03T12:54:46.099Z"
   },
   {
    "duration": 88,
    "start_time": "2021-12-03T12:55:45.858Z"
   },
   {
    "duration": 136,
    "start_time": "2021-12-03T12:55:45.948Z"
   },
   {
    "duration": 6,
    "start_time": "2021-12-03T12:55:46.087Z"
   },
   {
    "duration": 50,
    "start_time": "2021-12-03T12:55:46.096Z"
   },
   {
    "duration": 4,
    "start_time": "2021-12-03T12:55:46.149Z"
   },
   {
    "duration": 91,
    "start_time": "2021-12-03T13:00:30.692Z"
   },
   {
    "duration": 150,
    "start_time": "2021-12-03T13:00:30.787Z"
   },
   {
    "duration": 6,
    "start_time": "2021-12-03T13:00:30.940Z"
   },
   {
    "duration": 66,
    "start_time": "2021-12-03T13:00:30.949Z"
   },
   {
    "duration": 325,
    "start_time": "2021-12-03T13:00:31.018Z"
   },
   {
    "duration": 88,
    "start_time": "2021-12-03T13:02:34.173Z"
   },
   {
    "duration": 141,
    "start_time": "2021-12-03T13:02:34.264Z"
   },
   {
    "duration": 7,
    "start_time": "2021-12-03T13:02:34.408Z"
   },
   {
    "duration": 70,
    "start_time": "2021-12-03T13:02:34.418Z"
   },
   {
    "duration": 287,
    "start_time": "2021-12-03T13:02:34.491Z"
   },
   {
    "duration": 87,
    "start_time": "2021-12-03T13:02:57.027Z"
   },
   {
    "duration": 165,
    "start_time": "2021-12-03T13:02:57.117Z"
   },
   {
    "duration": 7,
    "start_time": "2021-12-03T13:02:57.285Z"
   },
   {
    "duration": 97,
    "start_time": "2021-12-03T13:02:57.296Z"
   },
   {
    "duration": 122,
    "start_time": "2021-12-03T13:03:40.045Z"
   },
   {
    "duration": 142,
    "start_time": "2021-12-03T13:03:40.170Z"
   },
   {
    "duration": 8,
    "start_time": "2021-12-03T13:03:40.316Z"
   },
   {
    "duration": 78,
    "start_time": "2021-12-03T13:03:40.326Z"
   },
   {
    "duration": 41440,
    "start_time": "2021-12-03T13:03:40.409Z"
   },
   {
    "duration": 1679,
    "start_time": "2021-12-03T13:04:20.486Z"
   },
   {
    "duration": 134,
    "start_time": "2021-12-03T13:09:11.877Z"
   },
   {
    "duration": 167,
    "start_time": "2021-12-03T13:09:12.015Z"
   },
   {
    "duration": 7,
    "start_time": "2021-12-03T13:09:12.184Z"
   },
   {
    "duration": 90,
    "start_time": "2021-12-03T13:09:12.194Z"
   },
   {
    "duration": 5,
    "start_time": "2021-12-03T13:09:12.287Z"
   },
   {
    "duration": 375,
    "start_time": "2021-12-03T13:09:12.296Z"
   },
   {
    "duration": 137,
    "start_time": "2021-12-03T13:09:21.769Z"
   },
   {
    "duration": 227,
    "start_time": "2021-12-03T13:09:21.910Z"
   },
   {
    "duration": 7,
    "start_time": "2021-12-03T13:09:22.140Z"
   },
   {
    "duration": 71,
    "start_time": "2021-12-03T13:09:22.150Z"
   },
   {
    "duration": 3,
    "start_time": "2021-12-03T13:09:22.224Z"
   },
   {
    "duration": 15,
    "start_time": "2021-12-03T13:09:22.230Z"
   },
   {
    "duration": 90,
    "start_time": "2021-12-03T13:09:37.178Z"
   },
   {
    "duration": 148,
    "start_time": "2021-12-03T13:09:37.271Z"
   },
   {
    "duration": 7,
    "start_time": "2021-12-03T13:09:37.423Z"
   },
   {
    "duration": 70,
    "start_time": "2021-12-03T13:09:37.433Z"
   },
   {
    "duration": 10,
    "start_time": "2021-12-03T13:09:37.506Z"
   },
   {
    "duration": 26,
    "start_time": "2021-12-03T13:09:37.519Z"
   },
   {
    "duration": 89,
    "start_time": "2021-12-03T13:09:47.924Z"
   },
   {
    "duration": 201,
    "start_time": "2021-12-03T13:09:48.016Z"
   },
   {
    "duration": 6,
    "start_time": "2021-12-03T13:09:48.220Z"
   },
   {
    "duration": 77,
    "start_time": "2021-12-03T13:09:48.228Z"
   },
   {
    "duration": 13,
    "start_time": "2021-12-03T13:09:48.307Z"
   },
   {
    "duration": 103,
    "start_time": "2021-12-03T13:12:56.830Z"
   },
   {
    "duration": 215,
    "start_time": "2021-12-03T13:12:56.936Z"
   },
   {
    "duration": 29,
    "start_time": "2021-12-03T13:12:57.155Z"
   },
   {
    "duration": 79,
    "start_time": "2021-12-03T13:12:57.187Z"
   },
   {
    "duration": 14,
    "start_time": "2021-12-03T13:12:57.282Z"
   },
   {
    "duration": 90,
    "start_time": "2021-12-03T13:13:52.353Z"
   },
   {
    "duration": 138,
    "start_time": "2021-12-03T13:13:52.445Z"
   },
   {
    "duration": 6,
    "start_time": "2021-12-03T13:13:52.586Z"
   },
   {
    "duration": 50,
    "start_time": "2021-12-03T13:13:52.595Z"
   },
   {
    "duration": 43,
    "start_time": "2021-12-03T13:13:52.648Z"
   },
   {
    "duration": 89,
    "start_time": "2021-12-03T13:15:34.781Z"
   },
   {
    "duration": 151,
    "start_time": "2021-12-03T13:15:34.872Z"
   },
   {
    "duration": 6,
    "start_time": "2021-12-03T13:15:35.026Z"
   },
   {
    "duration": 72,
    "start_time": "2021-12-03T13:15:35.034Z"
   },
   {
    "duration": 91,
    "start_time": "2021-12-03T13:15:35.109Z"
   },
   {
    "duration": 87,
    "start_time": "2021-12-03T13:15:58.289Z"
   },
   {
    "duration": 141,
    "start_time": "2021-12-03T13:15:58.378Z"
   },
   {
    "duration": 7,
    "start_time": "2021-12-03T13:15:58.522Z"
   },
   {
    "duration": 74,
    "start_time": "2021-12-03T13:15:58.531Z"
   },
   {
    "duration": 13,
    "start_time": "2021-12-03T13:15:58.608Z"
   },
   {
    "duration": 88,
    "start_time": "2021-12-03T13:16:55.169Z"
   },
   {
    "duration": 143,
    "start_time": "2021-12-03T13:16:55.260Z"
   },
   {
    "duration": 6,
    "start_time": "2021-12-03T13:16:55.406Z"
   },
   {
    "duration": 72,
    "start_time": "2021-12-03T13:16:55.415Z"
   },
   {
    "duration": 380,
    "start_time": "2021-12-03T13:16:55.489Z"
   },
   {
    "duration": 92,
    "start_time": "2021-12-03T13:18:00.918Z"
   },
   {
    "duration": 148,
    "start_time": "2021-12-03T13:18:01.013Z"
   },
   {
    "duration": 21,
    "start_time": "2021-12-03T13:18:01.163Z"
   },
   {
    "duration": 71,
    "start_time": "2021-12-03T13:18:01.187Z"
   },
   {
    "duration": 322,
    "start_time": "2021-12-03T13:18:01.260Z"
   },
   {
    "duration": 91,
    "start_time": "2021-12-03T13:18:46.241Z"
   },
   {
    "duration": 152,
    "start_time": "2021-12-03T13:18:46.336Z"
   },
   {
    "duration": 6,
    "start_time": "2021-12-03T13:18:46.491Z"
   },
   {
    "duration": 63,
    "start_time": "2021-12-03T13:18:46.500Z"
   },
   {
    "duration": 468,
    "start_time": "2021-12-03T13:18:46.565Z"
   },
   {
    "duration": 90,
    "start_time": "2021-12-03T13:19:27.902Z"
   },
   {
    "duration": 142,
    "start_time": "2021-12-03T13:19:27.995Z"
   },
   {
    "duration": 7,
    "start_time": "2021-12-03T13:19:28.140Z"
   },
   {
    "duration": 70,
    "start_time": "2021-12-03T13:19:28.149Z"
   },
   {
    "duration": 29386,
    "start_time": "2021-12-03T13:19:28.221Z"
   },
   {
    "duration": 89,
    "start_time": "2021-12-03T13:21:23.285Z"
   },
   {
    "duration": 142,
    "start_time": "2021-12-03T13:21:23.377Z"
   },
   {
    "duration": 6,
    "start_time": "2021-12-03T13:21:23.522Z"
   },
   {
    "duration": 68,
    "start_time": "2021-12-03T13:21:23.531Z"
   },
   {
    "duration": 113,
    "start_time": "2021-12-03T13:22:10.134Z"
   },
   {
    "duration": 147,
    "start_time": "2021-12-03T13:22:10.250Z"
   },
   {
    "duration": 5,
    "start_time": "2021-12-03T13:22:10.400Z"
   },
   {
    "duration": 48,
    "start_time": "2021-12-03T13:22:10.408Z"
   },
   {
    "duration": 108,
    "start_time": "2021-12-03T13:22:33.114Z"
   },
   {
    "duration": 143,
    "start_time": "2021-12-03T13:22:33.225Z"
   },
   {
    "duration": 8,
    "start_time": "2021-12-03T13:22:33.383Z"
   },
   {
    "duration": 90,
    "start_time": "2021-12-03T13:22:33.394Z"
   },
   {
    "duration": 471,
    "start_time": "2021-12-03T13:22:33.487Z"
   },
   {
    "duration": 1663,
    "start_time": "2021-12-03T13:22:32.299Z"
   },
   {
    "duration": 88,
    "start_time": "2021-12-03T13:23:03.434Z"
   },
   {
    "duration": 158,
    "start_time": "2021-12-03T13:23:03.525Z"
   },
   {
    "duration": 8,
    "start_time": "2021-12-03T13:23:03.687Z"
   },
   {
    "duration": 55,
    "start_time": "2021-12-03T13:23:03.698Z"
   },
   {
    "duration": 555,
    "start_time": "2021-12-03T13:23:03.756Z"
   },
   {
    "duration": 1667,
    "start_time": "2021-12-03T13:23:02.648Z"
   },
   {
    "duration": 102,
    "start_time": "2021-12-03T13:24:21.874Z"
   },
   {
    "duration": 149,
    "start_time": "2021-12-03T13:24:21.979Z"
   },
   {
    "duration": 7,
    "start_time": "2021-12-03T13:24:22.132Z"
   },
   {
    "duration": 75,
    "start_time": "2021-12-03T13:24:22.142Z"
   },
   {
    "duration": 23027,
    "start_time": "2021-12-03T13:24:22.219Z"
   },
   {
    "duration": 36,
    "start_time": "2021-12-03T13:24:45.248Z"
   },
   {
    "duration": 126,
    "start_time": "2021-12-03T13:44:58.555Z"
   },
   {
    "duration": 146,
    "start_time": "2021-12-03T13:44:58.684Z"
   },
   {
    "duration": 6,
    "start_time": "2021-12-03T13:44:58.833Z"
   },
   {
    "duration": 70,
    "start_time": "2021-12-03T13:44:58.843Z"
   },
   {
    "duration": 22604,
    "start_time": "2021-12-03T13:44:58.915Z"
   },
   {
    "duration": 22,
    "start_time": "2021-12-03T13:45:21.521Z"
   },
   {
    "duration": 53,
    "start_time": "2021-12-03T13:45:21.546Z"
   },
   {
    "duration": 130,
    "start_time": "2021-12-03T13:45:33.783Z"
   },
   {
    "duration": 157,
    "start_time": "2021-12-03T13:45:33.915Z"
   },
   {
    "duration": 7,
    "start_time": "2021-12-03T13:45:34.082Z"
   },
   {
    "duration": 48,
    "start_time": "2021-12-03T13:45:34.093Z"
   },
   {
    "duration": 31420,
    "start_time": "2021-12-03T13:45:34.144Z"
   },
   {
    "duration": 37,
    "start_time": "2021-12-03T13:46:05.566Z"
   },
   {
    "duration": 26,
    "start_time": "2021-12-03T13:46:05.605Z"
   },
   {
    "duration": 124,
    "start_time": "2021-12-03T13:56:07.553Z"
   },
   {
    "duration": 141,
    "start_time": "2021-12-03T13:56:07.682Z"
   },
   {
    "duration": 6,
    "start_time": "2021-12-03T13:56:07.826Z"
   },
   {
    "duration": 69,
    "start_time": "2021-12-03T13:56:07.835Z"
   },
   {
    "duration": 22724,
    "start_time": "2021-12-03T13:56:07.907Z"
   },
   {
    "duration": 13,
    "start_time": "2021-12-03T13:56:30.633Z"
   },
   {
    "duration": 42,
    "start_time": "2021-12-03T13:56:30.648Z"
   },
   {
    "duration": 7503,
    "start_time": "2021-12-03T13:56:30.694Z"
   },
   {
    "duration": 87,
    "start_time": "2021-12-03T13:58:33.807Z"
   },
   {
    "duration": 148,
    "start_time": "2021-12-03T13:58:33.897Z"
   },
   {
    "duration": 6,
    "start_time": "2021-12-03T13:58:34.048Z"
   },
   {
    "duration": 66,
    "start_time": "2021-12-03T13:58:34.057Z"
   },
   {
    "duration": 22318,
    "start_time": "2021-12-03T13:58:34.125Z"
   },
   {
    "duration": 12,
    "start_time": "2021-12-03T13:58:56.446Z"
   },
   {
    "duration": 38,
    "start_time": "2021-12-03T13:58:56.461Z"
   },
   {
    "duration": 23,
    "start_time": "2021-12-03T13:58:56.502Z"
   },
   {
    "duration": 431,
    "start_time": "2021-12-03T18:43:11.388Z"
   },
   {
    "duration": 916,
    "start_time": "2021-12-03T18:43:45.634Z"
   },
   {
    "duration": 129,
    "start_time": "2021-12-03T18:43:46.553Z"
   },
   {
    "duration": 6,
    "start_time": "2021-12-03T18:43:46.685Z"
   },
   {
    "duration": 76,
    "start_time": "2021-12-03T18:43:46.693Z"
   },
   {
    "duration": 22234,
    "start_time": "2021-12-03T18:43:46.771Z"
   },
   {
    "duration": 18,
    "start_time": "2021-12-03T18:44:09.007Z"
   },
   {
    "duration": 39,
    "start_time": "2021-12-03T18:44:09.027Z"
   },
   {
    "duration": 28,
    "start_time": "2021-12-03T18:44:09.069Z"
   },
   {
    "duration": 85,
    "start_time": "2021-12-03T18:48:55.591Z"
   },
   {
    "duration": 133,
    "start_time": "2021-12-03T18:48:55.679Z"
   },
   {
    "duration": 6,
    "start_time": "2021-12-03T18:48:55.816Z"
   },
   {
    "duration": 69,
    "start_time": "2021-12-03T18:48:55.824Z"
   },
   {
    "duration": 22302,
    "start_time": "2021-12-03T18:48:55.895Z"
   },
   {
    "duration": 12,
    "start_time": "2021-12-03T18:49:18.200Z"
   },
   {
    "duration": 19,
    "start_time": "2021-12-03T18:49:18.215Z"
   },
   {
    "duration": 23,
    "start_time": "2021-12-03T18:49:18.261Z"
   },
   {
    "duration": 87,
    "start_time": "2021-12-03T19:01:26.643Z"
   },
   {
    "duration": 132,
    "start_time": "2021-12-03T19:01:26.733Z"
   },
   {
    "duration": 7,
    "start_time": "2021-12-03T19:01:26.870Z"
   },
   {
    "duration": 82,
    "start_time": "2021-12-03T19:01:26.879Z"
   },
   {
    "duration": 22605,
    "start_time": "2021-12-03T19:01:26.964Z"
   },
   {
    "duration": 11,
    "start_time": "2021-12-03T19:01:49.571Z"
   },
   {
    "duration": 17,
    "start_time": "2021-12-03T19:01:49.584Z"
   },
   {
    "duration": 20,
    "start_time": "2021-12-03T19:01:49.604Z"
   },
   {
    "duration": 385,
    "start_time": "2021-12-03T19:01:49.658Z"
   },
   {
    "duration": 111,
    "start_time": "2021-12-03T19:05:58.978Z"
   },
   {
    "duration": 141,
    "start_time": "2021-12-03T19:05:59.092Z"
   },
   {
    "duration": 22,
    "start_time": "2021-12-03T19:05:59.237Z"
   },
   {
    "duration": 49,
    "start_time": "2021-12-03T19:05:59.262Z"
   },
   {
    "duration": 21991,
    "start_time": "2021-12-03T19:05:59.314Z"
   },
   {
    "duration": 11,
    "start_time": "2021-12-03T19:06:21.307Z"
   },
   {
    "duration": 40,
    "start_time": "2021-12-03T19:06:21.321Z"
   },
   {
    "duration": 23,
    "start_time": "2021-12-03T19:06:21.364Z"
   },
   {
    "duration": 341,
    "start_time": "2021-12-03T19:06:21.389Z"
   },
   {
    "duration": 88,
    "start_time": "2021-12-03T19:23:56.539Z"
   },
   {
    "duration": 153,
    "start_time": "2021-12-03T19:23:56.630Z"
   },
   {
    "duration": 8,
    "start_time": "2021-12-03T19:23:56.787Z"
   },
   {
    "duration": 73,
    "start_time": "2021-12-03T19:23:56.797Z"
   },
   {
    "duration": 24487,
    "start_time": "2021-12-03T19:23:56.873Z"
   },
   {
    "duration": 11,
    "start_time": "2021-12-03T19:24:21.362Z"
   },
   {
    "duration": 20,
    "start_time": "2021-12-03T19:24:21.376Z"
   },
   {
    "duration": 21,
    "start_time": "2021-12-03T19:24:21.399Z"
   },
   {
    "duration": 10885,
    "start_time": "2021-12-03T19:24:21.459Z"
   },
   {
    "duration": 86,
    "start_time": "2021-12-03T19:30:43.590Z"
   },
   {
    "duration": 142,
    "start_time": "2021-12-03T19:30:43.679Z"
   },
   {
    "duration": 5,
    "start_time": "2021-12-03T19:30:43.824Z"
   },
   {
    "duration": 70,
    "start_time": "2021-12-03T19:30:43.832Z"
   },
   {
    "duration": 26847,
    "start_time": "2021-12-03T19:30:43.905Z"
   },
   {
    "duration": 20,
    "start_time": "2021-12-03T19:31:10.755Z"
   },
   {
    "duration": 19,
    "start_time": "2021-12-03T19:31:10.778Z"
   },
   {
    "duration": 20,
    "start_time": "2021-12-03T19:31:10.800Z"
   },
   {
    "duration": 69,
    "start_time": "2021-12-03T19:31:10.822Z"
   },
   {
    "duration": 89,
    "start_time": "2021-12-03T19:52:44.328Z"
   },
   {
    "duration": 223,
    "start_time": "2021-12-03T19:52:44.420Z"
   },
   {
    "duration": 16,
    "start_time": "2021-12-03T19:52:44.647Z"
   },
   {
    "duration": 92,
    "start_time": "2021-12-03T19:52:44.667Z"
   },
   {
    "duration": 22651,
    "start_time": "2021-12-03T19:52:44.763Z"
   },
   {
    "duration": 12,
    "start_time": "2021-12-03T19:53:07.416Z"
   },
   {
    "duration": 38,
    "start_time": "2021-12-03T19:53:07.431Z"
   },
   {
    "duration": 22,
    "start_time": "2021-12-03T19:53:07.472Z"
   },
   {
    "duration": 64,
    "start_time": "2021-12-03T19:53:07.496Z"
   },
   {
    "duration": 36,
    "start_time": "2021-12-03T19:56:50.864Z"
   },
   {
    "duration": 85,
    "start_time": "2021-12-03T19:56:53.316Z"
   },
   {
    "duration": 148,
    "start_time": "2021-12-03T19:56:53.403Z"
   },
   {
    "duration": 8,
    "start_time": "2021-12-03T19:56:53.560Z"
   },
   {
    "duration": 92,
    "start_time": "2021-12-03T19:56:53.571Z"
   },
   {
    "duration": 24473,
    "start_time": "2021-12-03T19:56:53.666Z"
   },
   {
    "duration": 20,
    "start_time": "2021-12-03T19:57:18.141Z"
   },
   {
    "duration": 21,
    "start_time": "2021-12-03T19:57:18.163Z"
   },
   {
    "duration": 23,
    "start_time": "2021-12-03T19:57:18.188Z"
   },
   {
    "duration": 71,
    "start_time": "2021-12-03T19:57:18.213Z"
   },
   {
    "duration": 87,
    "start_time": "2021-12-03T20:04:04.324Z"
   },
   {
    "duration": 146,
    "start_time": "2021-12-03T20:04:04.413Z"
   },
   {
    "duration": 6,
    "start_time": "2021-12-03T20:04:04.561Z"
   },
   {
    "duration": 50,
    "start_time": "2021-12-03T20:04:04.570Z"
   },
   {
    "duration": 22113,
    "start_time": "2021-12-03T20:04:04.622Z"
   },
   {
    "duration": 24,
    "start_time": "2021-12-03T20:04:26.738Z"
   },
   {
    "duration": 19,
    "start_time": "2021-12-03T20:04:26.764Z"
   },
   {
    "duration": 23,
    "start_time": "2021-12-03T20:04:26.786Z"
   },
   {
    "duration": 65,
    "start_time": "2021-12-03T20:04:26.811Z"
   },
   {
    "duration": 109,
    "start_time": "2021-12-03T20:04:26.878Z"
   },
   {
    "duration": 4,
    "start_time": "2021-12-03T20:04:26.986Z"
   },
   {
    "duration": 86,
    "start_time": "2021-12-03T20:05:43.062Z"
   },
   {
    "duration": 142,
    "start_time": "2021-12-03T20:05:43.151Z"
   },
   {
    "duration": 6,
    "start_time": "2021-12-03T20:05:43.296Z"
   },
   {
    "duration": 71,
    "start_time": "2021-12-03T20:05:43.305Z"
   },
   {
    "duration": 22497,
    "start_time": "2021-12-03T20:05:43.379Z"
   },
   {
    "duration": 12,
    "start_time": "2021-12-03T20:06:05.879Z"
   },
   {
    "duration": 20,
    "start_time": "2021-12-03T20:06:05.893Z"
   },
   {
    "duration": 55,
    "start_time": "2021-12-03T20:06:05.916Z"
   },
   {
    "duration": 44,
    "start_time": "2021-12-03T20:06:05.973Z"
   },
   {
    "duration": 118,
    "start_time": "2021-12-03T20:06:06.019Z"
   },
   {
    "duration": 24,
    "start_time": "2021-12-03T20:06:06.116Z"
   },
   {
    "duration": 90,
    "start_time": "2021-12-03T20:09:24.839Z"
   },
   {
    "duration": 152,
    "start_time": "2021-12-03T20:09:24.932Z"
   },
   {
    "duration": 6,
    "start_time": "2021-12-03T20:09:25.087Z"
   },
   {
    "duration": 74,
    "start_time": "2021-12-03T20:09:25.095Z"
   },
   {
    "duration": 23169,
    "start_time": "2021-12-03T20:09:25.171Z"
   },
   {
    "duration": 21,
    "start_time": "2021-12-03T20:09:48.343Z"
   },
   {
    "duration": 23,
    "start_time": "2021-12-03T20:09:48.366Z"
   },
   {
    "duration": 23,
    "start_time": "2021-12-03T20:09:48.392Z"
   },
   {
    "duration": 79,
    "start_time": "2021-12-03T20:09:48.417Z"
   },
   {
    "duration": 366,
    "start_time": "2021-12-03T20:09:48.499Z"
   },
   {
    "duration": 95,
    "start_time": "2021-12-03T20:11:57.905Z"
   },
   {
    "duration": 138,
    "start_time": "2021-12-03T20:11:58.003Z"
   },
   {
    "duration": 17,
    "start_time": "2021-12-03T20:11:58.145Z"
   },
   {
    "duration": 60,
    "start_time": "2021-12-03T20:11:58.165Z"
   },
   {
    "duration": 22532,
    "start_time": "2021-12-03T20:11:58.227Z"
   },
   {
    "duration": 17,
    "start_time": "2021-12-03T20:12:20.762Z"
   },
   {
    "duration": 26,
    "start_time": "2021-12-03T20:12:20.782Z"
   },
   {
    "duration": 54,
    "start_time": "2021-12-03T20:12:20.812Z"
   },
   {
    "duration": 42,
    "start_time": "2021-12-03T20:12:20.869Z"
   },
   {
    "duration": 21,
    "start_time": "2021-12-03T20:12:20.913Z"
   },
   {
    "duration": 829,
    "start_time": "2021-12-04T09:55:27.816Z"
   },
   {
    "duration": 140,
    "start_time": "2021-12-04T09:55:28.648Z"
   },
   {
    "duration": 6,
    "start_time": "2021-12-04T09:55:28.792Z"
   },
   {
    "duration": 73,
    "start_time": "2021-12-04T09:55:28.801Z"
   },
   {
    "duration": 21712,
    "start_time": "2021-12-04T09:55:28.876Z"
   },
   {
    "duration": 18,
    "start_time": "2021-12-04T09:55:50.590Z"
   },
   {
    "duration": 20,
    "start_time": "2021-12-04T09:55:50.610Z"
   },
   {
    "duration": 26,
    "start_time": "2021-12-04T09:55:50.660Z"
   },
   {
    "duration": 39,
    "start_time": "2021-12-04T09:55:50.690Z"
   },
   {
    "duration": 47,
    "start_time": "2021-12-04T09:55:50.731Z"
   },
   {
    "duration": 13,
    "start_time": "2021-12-04T09:56:29.856Z"
   },
   {
    "duration": 889,
    "start_time": "2021-12-04T14:57:47.150Z"
   },
   {
    "duration": 140,
    "start_time": "2021-12-04T14:57:48.042Z"
   },
   {
    "duration": 7,
    "start_time": "2021-12-04T14:57:48.185Z"
   },
   {
    "duration": 6,
    "start_time": "2021-12-04T14:57:48.195Z"
   },
   {
    "duration": 94,
    "start_time": "2021-12-04T14:57:48.203Z"
   },
   {
    "duration": 24047,
    "start_time": "2021-12-04T14:57:48.300Z"
   },
   {
    "duration": 17,
    "start_time": "2021-12-04T14:58:12.350Z"
   },
   {
    "duration": 27,
    "start_time": "2021-12-04T14:58:12.370Z"
   },
   {
    "duration": 22,
    "start_time": "2021-12-04T14:58:12.399Z"
   },
   {
    "duration": 69,
    "start_time": "2021-12-04T14:58:12.423Z"
   },
   {
    "duration": 21,
    "start_time": "2021-12-04T14:58:12.495Z"
   },
   {
    "duration": 730,
    "start_time": "2021-12-04T15:08:45.865Z"
   },
   {
    "duration": 213,
    "start_time": "2021-12-04T15:08:46.599Z"
   },
   {
    "duration": 11,
    "start_time": "2021-12-04T15:08:46.816Z"
   },
   {
    "duration": 8,
    "start_time": "2021-12-04T15:08:46.832Z"
   },
   {
    "duration": 624,
    "start_time": "2021-12-04T15:08:46.844Z"
   },
   {
    "duration": 1195,
    "start_time": "2021-12-04T15:08:46.277Z"
   },
   {
    "duration": 1195,
    "start_time": "2021-12-04T15:08:46.279Z"
   },
   {
    "duration": 1196,
    "start_time": "2021-12-04T15:08:46.281Z"
   },
   {
    "duration": 1196,
    "start_time": "2021-12-04T15:08:46.283Z"
   },
   {
    "duration": 1197,
    "start_time": "2021-12-04T15:08:46.286Z"
   },
   {
    "duration": 1192,
    "start_time": "2021-12-04T15:08:46.293Z"
   },
   {
    "duration": 92,
    "start_time": "2021-12-04T15:09:04.049Z"
   },
   {
    "duration": 237,
    "start_time": "2021-12-04T15:09:04.145Z"
   },
   {
    "duration": 8,
    "start_time": "2021-12-04T15:09:04.385Z"
   },
   {
    "duration": 9,
    "start_time": "2021-12-04T15:09:04.396Z"
   },
   {
    "duration": 75,
    "start_time": "2021-12-04T15:09:04.408Z"
   },
   {
    "duration": 23604,
    "start_time": "2021-12-04T15:09:04.485Z"
   },
   {
    "duration": 11,
    "start_time": "2021-12-04T15:09:28.092Z"
   },
   {
    "duration": 19,
    "start_time": "2021-12-04T15:09:28.107Z"
   },
   {
    "duration": 58,
    "start_time": "2021-12-04T15:09:28.129Z"
   },
   {
    "duration": 41,
    "start_time": "2021-12-04T15:09:28.190Z"
   },
   {
    "duration": 51,
    "start_time": "2021-12-04T15:09:28.234Z"
   },
   {
    "duration": 89,
    "start_time": "2021-12-04T15:13:50.042Z"
   },
   {
    "duration": 140,
    "start_time": "2021-12-04T15:13:50.133Z"
   },
   {
    "duration": 8,
    "start_time": "2021-12-04T15:13:50.283Z"
   },
   {
    "duration": 9,
    "start_time": "2021-12-04T15:13:50.294Z"
   },
   {
    "duration": 341,
    "start_time": "2021-12-04T15:13:50.305Z"
   },
   {
    "duration": 1216,
    "start_time": "2021-12-04T15:13:49.433Z"
   },
   {
    "duration": 1214,
    "start_time": "2021-12-04T15:13:49.437Z"
   },
   {
    "duration": 1210,
    "start_time": "2021-12-04T15:13:49.443Z"
   },
   {
    "duration": 1208,
    "start_time": "2021-12-04T15:13:49.446Z"
   },
   {
    "duration": 1204,
    "start_time": "2021-12-04T15:13:49.453Z"
   },
   {
    "duration": 1200,
    "start_time": "2021-12-04T15:13:49.459Z"
   },
   {
    "duration": 128,
    "start_time": "2021-12-04T15:14:19.754Z"
   },
   {
    "duration": 224,
    "start_time": "2021-12-04T15:14:19.885Z"
   },
   {
    "duration": 11,
    "start_time": "2021-12-04T15:14:20.114Z"
   },
   {
    "duration": 7,
    "start_time": "2021-12-04T15:14:20.128Z"
   },
   {
    "duration": 80,
    "start_time": "2021-12-04T15:14:20.138Z"
   },
   {
    "duration": 22315,
    "start_time": "2021-12-04T15:14:20.220Z"
   },
   {
    "duration": 11,
    "start_time": "2021-12-04T15:14:42.538Z"
   },
   {
    "duration": 40,
    "start_time": "2021-12-04T15:14:42.552Z"
   },
   {
    "duration": 23,
    "start_time": "2021-12-04T15:14:42.594Z"
   },
   {
    "duration": 74,
    "start_time": "2021-12-04T15:14:42.619Z"
   },
   {
    "duration": 32,
    "start_time": "2021-12-04T15:14:42.696Z"
   },
   {
    "duration": 91,
    "start_time": "2021-12-04T15:19:00.418Z"
   },
   {
    "duration": 141,
    "start_time": "2021-12-04T15:19:00.512Z"
   },
   {
    "duration": 9,
    "start_time": "2021-12-04T15:19:00.657Z"
   },
   {
    "duration": 8,
    "start_time": "2021-12-04T15:19:00.684Z"
   },
   {
    "duration": 55,
    "start_time": "2021-12-04T15:19:00.696Z"
   },
   {
    "duration": 25675,
    "start_time": "2021-12-04T15:19:00.754Z"
   },
   {
    "duration": 16,
    "start_time": "2021-12-04T15:19:26.432Z"
   },
   {
    "duration": 48,
    "start_time": "2021-12-04T15:19:26.453Z"
   },
   {
    "duration": 33,
    "start_time": "2021-12-04T15:19:26.504Z"
   },
   {
    "duration": 86,
    "start_time": "2021-12-04T15:19:26.540Z"
   },
   {
    "duration": 32,
    "start_time": "2021-12-04T15:19:26.629Z"
   },
   {
    "duration": 642,
    "start_time": "2021-12-05T11:46:37.116Z"
   },
   {
    "duration": 76,
    "start_time": "2021-12-05T11:46:37.760Z"
   },
   {
    "duration": 6,
    "start_time": "2021-12-05T11:46:37.838Z"
   },
   {
    "duration": 6,
    "start_time": "2021-12-05T11:46:37.846Z"
   },
   {
    "duration": 58,
    "start_time": "2021-12-05T11:46:37.854Z"
   },
   {
    "duration": 12025,
    "start_time": "2021-12-05T11:46:37.914Z"
   },
   {
    "duration": 11,
    "start_time": "2021-12-05T11:46:49.941Z"
   },
   {
    "duration": 11,
    "start_time": "2021-12-05T11:46:49.954Z"
   },
   {
    "duration": 30,
    "start_time": "2021-12-05T11:46:49.966Z"
   },
   {
    "duration": 25,
    "start_time": "2021-12-05T11:46:49.997Z"
   },
   {
    "duration": 13,
    "start_time": "2021-12-05T11:46:50.023Z"
   },
   {
    "duration": 17,
    "start_time": "2021-12-05T11:46:54.729Z"
   },
   {
    "duration": 609,
    "start_time": "2021-12-05T17:09:53.955Z"
   },
   {
    "duration": 100,
    "start_time": "2021-12-05T17:09:54.566Z"
   },
   {
    "duration": 6,
    "start_time": "2021-12-05T17:09:54.668Z"
   },
   {
    "duration": 18,
    "start_time": "2021-12-05T17:09:54.676Z"
   },
   {
    "duration": 44,
    "start_time": "2021-12-05T17:09:54.696Z"
   },
   {
    "duration": 25,
    "start_time": "2021-12-05T17:09:54.742Z"
   },
   {
    "duration": 12663,
    "start_time": "2021-12-05T17:09:54.769Z"
   },
   {
    "duration": 9,
    "start_time": "2021-12-05T17:10:07.434Z"
   },
   {
    "duration": 12,
    "start_time": "2021-12-05T17:10:07.445Z"
   },
   {
    "duration": 36,
    "start_time": "2021-12-05T17:10:07.458Z"
   },
   {
    "duration": 25,
    "start_time": "2021-12-05T17:10:07.496Z"
   },
   {
    "duration": 14,
    "start_time": "2021-12-05T17:10:07.522Z"
   },
   {
    "duration": 67,
    "start_time": "2021-12-05T17:18:12.452Z"
   },
   {
    "duration": 95,
    "start_time": "2021-12-05T17:18:12.521Z"
   },
   {
    "duration": 5,
    "start_time": "2021-12-05T17:18:12.619Z"
   },
   {
    "duration": 6,
    "start_time": "2021-12-05T17:18:12.625Z"
   },
   {
    "duration": 31,
    "start_time": "2021-12-05T17:18:12.633Z"
   },
   {
    "duration": 40,
    "start_time": "2021-12-05T17:18:12.666Z"
   },
   {
    "duration": 12674,
    "start_time": "2021-12-05T17:18:12.708Z"
   },
   {
    "duration": 12,
    "start_time": "2021-12-05T17:18:25.384Z"
   },
   {
    "duration": 15,
    "start_time": "2021-12-05T17:18:25.397Z"
   },
   {
    "duration": 17,
    "start_time": "2021-12-05T17:18:25.413Z"
   },
   {
    "duration": 26,
    "start_time": "2021-12-05T17:18:25.431Z"
   },
   {
    "duration": 43,
    "start_time": "2021-12-05T17:18:25.458Z"
   },
   {
    "duration": 67,
    "start_time": "2021-12-05T17:19:06.906Z"
   },
   {
    "duration": 86,
    "start_time": "2021-12-05T17:19:06.974Z"
   },
   {
    "duration": 6,
    "start_time": "2021-12-05T17:19:07.062Z"
   },
   {
    "duration": 23,
    "start_time": "2021-12-05T17:19:07.070Z"
   },
   {
    "duration": 35,
    "start_time": "2021-12-05T17:19:07.094Z"
   },
   {
    "duration": 20,
    "start_time": "2021-12-05T17:19:07.130Z"
   },
   {
    "duration": 12557,
    "start_time": "2021-12-05T17:19:07.152Z"
   },
   {
    "duration": 10,
    "start_time": "2021-12-05T17:19:19.712Z"
   },
   {
    "duration": 18,
    "start_time": "2021-12-05T17:19:19.724Z"
   },
   {
    "duration": 21,
    "start_time": "2021-12-05T17:19:19.744Z"
   },
   {
    "duration": 37,
    "start_time": "2021-12-05T17:19:19.791Z"
   },
   {
    "duration": 14,
    "start_time": "2021-12-05T17:19:19.830Z"
   },
   {
    "duration": 65,
    "start_time": "2021-12-05T17:24:45.068Z"
   },
   {
    "duration": 95,
    "start_time": "2021-12-05T17:24:45.135Z"
   },
   {
    "duration": 5,
    "start_time": "2021-12-05T17:24:45.232Z"
   },
   {
    "duration": 5,
    "start_time": "2021-12-05T17:24:45.239Z"
   },
   {
    "duration": 52,
    "start_time": "2021-12-05T17:24:45.246Z"
   },
   {
    "duration": 18,
    "start_time": "2021-12-05T17:24:45.300Z"
   },
   {
    "duration": 65,
    "start_time": "2021-12-05T17:24:58.001Z"
   },
   {
    "duration": 94,
    "start_time": "2021-12-05T17:24:58.068Z"
   },
   {
    "duration": 5,
    "start_time": "2021-12-05T17:24:58.164Z"
   },
   {
    "duration": 20,
    "start_time": "2021-12-05T17:24:58.171Z"
   },
   {
    "duration": 29,
    "start_time": "2021-12-05T17:24:58.193Z"
   },
   {
    "duration": 18,
    "start_time": "2021-12-05T17:24:58.224Z"
   },
   {
    "duration": 12555,
    "start_time": "2021-12-05T17:24:58.244Z"
   },
   {
    "duration": 9,
    "start_time": "2021-12-05T17:25:10.800Z"
   },
   {
    "duration": 13,
    "start_time": "2021-12-05T17:25:10.810Z"
   },
   {
    "duration": 16,
    "start_time": "2021-12-05T17:25:10.825Z"
   },
   {
    "duration": 60,
    "start_time": "2021-12-05T17:25:10.845Z"
   },
   {
    "duration": 21,
    "start_time": "2021-12-05T17:25:10.907Z"
   },
   {
    "duration": 68,
    "start_time": "2021-12-05T17:25:22.515Z"
   },
   {
    "duration": 83,
    "start_time": "2021-12-05T17:25:22.584Z"
   },
   {
    "duration": 5,
    "start_time": "2021-12-05T17:25:22.669Z"
   },
   {
    "duration": 22,
    "start_time": "2021-12-05T17:25:22.676Z"
   },
   {
    "duration": 56,
    "start_time": "2021-12-05T17:25:22.699Z"
   },
   {
    "duration": 28,
    "start_time": "2021-12-05T17:25:22.757Z"
   },
   {
    "duration": 12876,
    "start_time": "2021-12-05T17:25:22.786Z"
   },
   {
    "duration": 11,
    "start_time": "2021-12-05T17:25:35.663Z"
   },
   {
    "duration": 30,
    "start_time": "2021-12-05T17:25:35.678Z"
   },
   {
    "duration": 20,
    "start_time": "2021-12-05T17:25:35.710Z"
   },
   {
    "duration": 30,
    "start_time": "2021-12-05T17:25:35.732Z"
   },
   {
    "duration": 45,
    "start_time": "2021-12-05T17:25:35.764Z"
   },
   {
    "duration": 1013,
    "start_time": "2021-12-05T20:48:40.899Z"
   },
   {
    "duration": 161,
    "start_time": "2021-12-05T20:48:41.915Z"
   },
   {
    "duration": 9,
    "start_time": "2021-12-05T20:48:42.080Z"
   },
   {
    "duration": 10,
    "start_time": "2021-12-05T20:48:42.092Z"
   },
   {
    "duration": 80,
    "start_time": "2021-12-05T20:48:42.105Z"
   },
   {
    "duration": 84,
    "start_time": "2021-12-05T20:48:42.189Z"
   },
   {
    "duration": 23113,
    "start_time": "2021-12-05T20:48:42.276Z"
   },
   {
    "duration": 21,
    "start_time": "2021-12-05T20:49:05.394Z"
   },
   {
    "duration": 53,
    "start_time": "2021-12-05T20:49:05.419Z"
   },
   {
    "duration": 34,
    "start_time": "2021-12-05T20:49:05.474Z"
   },
   {
    "duration": 84,
    "start_time": "2021-12-05T20:49:05.511Z"
   },
   {
    "duration": 30,
    "start_time": "2021-12-05T20:49:05.598Z"
   },
   {
    "duration": 88,
    "start_time": "2021-12-05T20:52:58.765Z"
   },
   {
    "duration": 156,
    "start_time": "2021-12-05T20:52:58.855Z"
   },
   {
    "duration": 8,
    "start_time": "2021-12-05T20:52:59.014Z"
   },
   {
    "duration": 7,
    "start_time": "2021-12-05T20:52:59.025Z"
   },
   {
    "duration": 77,
    "start_time": "2021-12-05T20:52:59.035Z"
   },
   {
    "duration": 95,
    "start_time": "2021-12-05T20:52:59.114Z"
   },
   {
    "duration": 23929,
    "start_time": "2021-12-05T20:52:59.212Z"
   },
   {
    "duration": 26,
    "start_time": "2021-12-05T20:53:23.146Z"
   },
   {
    "duration": 19,
    "start_time": "2021-12-05T20:53:23.175Z"
   },
   {
    "duration": 24,
    "start_time": "2021-12-05T20:53:23.197Z"
   },
   {
    "duration": 74,
    "start_time": "2021-12-05T20:53:23.223Z"
   },
   {
    "duration": 21,
    "start_time": "2021-12-05T20:53:23.299Z"
   }
  ],
  "kernelspec": {
   "display_name": "Python 3 (ipykernel)",
   "language": "python",
   "name": "python3"
  },
  "language_info": {
   "codemirror_mode": {
    "name": "ipython",
    "version": 3
   },
   "file_extension": ".py",
   "mimetype": "text/x-python",
   "name": "python",
   "nbconvert_exporter": "python",
   "pygments_lexer": "ipython3",
   "version": "3.9.7"
  },
  "toc": {
   "base_numbering": 1,
   "nav_menu": {},
   "number_sections": true,
   "sideBar": true,
   "skip_h1_title": true,
   "title_cell": "Table of Contents",
   "title_sidebar": "Contents",
   "toc_cell": false,
   "toc_position": {},
   "toc_section_display": true,
   "toc_window_display": false
  }
 },
 "nbformat": 4,
 "nbformat_minor": 2
}
