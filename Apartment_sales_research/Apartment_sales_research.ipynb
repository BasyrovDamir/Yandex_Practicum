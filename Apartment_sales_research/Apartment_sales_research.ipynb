{
 "cells": [
  {
   "cell_type": "markdown",
   "metadata": {},
   "source": [
    "# Исследование объявлений о продаже квартир\n",
    "\n",
    "В вашем распоряжении данные сервиса Яндекс.Недвижимость — архив объявлений о продаже квартир в Санкт-Петербурге и соседних населённых пунктах за несколько лет. Нужно научиться определять рыночную стоимость объектов недвижимости. Ваша задача — установить параметры. Это позволит построить автоматизированную систему: она отследит аномалии и мошенническую деятельность. \n",
    "\n",
    "По каждой квартире на продажу доступны два вида данных. Первые вписаны пользователем, вторые получены автоматически на основе картографических данных. Например, расстояние до центра, аэропорта, ближайшего парка и водоёма. "
   ]
  },
  {
   "cell_type": "markdown",
   "metadata": {},
   "source": [
    "## Изучение данных из файла"
   ]
  },
  {
   "cell_type": "code",
   "execution_count": 275,
   "metadata": {
    "scrolled": true
   },
   "outputs": [],
   "source": [
    "import pandas as pd\n",
    "import numpy as np\n",
    "import matplotlib.pyplot as plt\n",
    "import seaborn as sns\n",
    "%matplotlib inline"
   ]
  },
  {
   "cell_type": "code",
   "execution_count": 276,
   "metadata": {},
   "outputs": [],
   "source": [
    "data = pd.read_csv('/datasets/real_estate_data.csv', sep='\\t')"
   ]
  },
  {
   "cell_type": "code",
   "execution_count": 277,
   "metadata": {},
   "outputs": [
    {
     "data": {
      "text/html": [
       "<div>\n",
       "<style scoped>\n",
       "    .dataframe tbody tr th:only-of-type {\n",
       "        vertical-align: middle;\n",
       "    }\n",
       "\n",
       "    .dataframe tbody tr th {\n",
       "        vertical-align: top;\n",
       "    }\n",
       "\n",
       "    .dataframe thead th {\n",
       "        text-align: right;\n",
       "    }\n",
       "</style>\n",
       "<table border=\"1\" class=\"dataframe\">\n",
       "  <thead>\n",
       "    <tr style=\"text-align: right;\">\n",
       "      <th></th>\n",
       "      <th>total_images</th>\n",
       "      <th>last_price</th>\n",
       "      <th>total_area</th>\n",
       "      <th>first_day_exposition</th>\n",
       "      <th>rooms</th>\n",
       "      <th>ceiling_height</th>\n",
       "      <th>floors_total</th>\n",
       "      <th>living_area</th>\n",
       "      <th>floor</th>\n",
       "      <th>is_apartment</th>\n",
       "      <th>...</th>\n",
       "      <th>kitchen_area</th>\n",
       "      <th>balcony</th>\n",
       "      <th>locality_name</th>\n",
       "      <th>airports_nearest</th>\n",
       "      <th>cityCenters_nearest</th>\n",
       "      <th>parks_around3000</th>\n",
       "      <th>parks_nearest</th>\n",
       "      <th>ponds_around3000</th>\n",
       "      <th>ponds_nearest</th>\n",
       "      <th>days_exposition</th>\n",
       "    </tr>\n",
       "  </thead>\n",
       "  <tbody>\n",
       "    <tr>\n",
       "      <td>0</td>\n",
       "      <td>20</td>\n",
       "      <td>13000000.0</td>\n",
       "      <td>108.0</td>\n",
       "      <td>2019-03-07T00:00:00</td>\n",
       "      <td>3</td>\n",
       "      <td>2.70</td>\n",
       "      <td>16.0</td>\n",
       "      <td>51.0</td>\n",
       "      <td>8</td>\n",
       "      <td>NaN</td>\n",
       "      <td>...</td>\n",
       "      <td>25.0</td>\n",
       "      <td>NaN</td>\n",
       "      <td>Санкт-Петербург</td>\n",
       "      <td>18863.0</td>\n",
       "      <td>16028.0</td>\n",
       "      <td>1.0</td>\n",
       "      <td>482.0</td>\n",
       "      <td>2.0</td>\n",
       "      <td>755.0</td>\n",
       "      <td>NaN</td>\n",
       "    </tr>\n",
       "    <tr>\n",
       "      <td>1</td>\n",
       "      <td>7</td>\n",
       "      <td>3350000.0</td>\n",
       "      <td>40.4</td>\n",
       "      <td>2018-12-04T00:00:00</td>\n",
       "      <td>1</td>\n",
       "      <td>NaN</td>\n",
       "      <td>11.0</td>\n",
       "      <td>18.6</td>\n",
       "      <td>1</td>\n",
       "      <td>NaN</td>\n",
       "      <td>...</td>\n",
       "      <td>11.0</td>\n",
       "      <td>2.0</td>\n",
       "      <td>посёлок Шушары</td>\n",
       "      <td>12817.0</td>\n",
       "      <td>18603.0</td>\n",
       "      <td>0.0</td>\n",
       "      <td>NaN</td>\n",
       "      <td>0.0</td>\n",
       "      <td>NaN</td>\n",
       "      <td>81.0</td>\n",
       "    </tr>\n",
       "    <tr>\n",
       "      <td>2</td>\n",
       "      <td>10</td>\n",
       "      <td>5196000.0</td>\n",
       "      <td>56.0</td>\n",
       "      <td>2015-08-20T00:00:00</td>\n",
       "      <td>2</td>\n",
       "      <td>NaN</td>\n",
       "      <td>5.0</td>\n",
       "      <td>34.3</td>\n",
       "      <td>4</td>\n",
       "      <td>NaN</td>\n",
       "      <td>...</td>\n",
       "      <td>8.3</td>\n",
       "      <td>0.0</td>\n",
       "      <td>Санкт-Петербург</td>\n",
       "      <td>21741.0</td>\n",
       "      <td>13933.0</td>\n",
       "      <td>1.0</td>\n",
       "      <td>90.0</td>\n",
       "      <td>2.0</td>\n",
       "      <td>574.0</td>\n",
       "      <td>558.0</td>\n",
       "    </tr>\n",
       "    <tr>\n",
       "      <td>3</td>\n",
       "      <td>0</td>\n",
       "      <td>64900000.0</td>\n",
       "      <td>159.0</td>\n",
       "      <td>2015-07-24T00:00:00</td>\n",
       "      <td>3</td>\n",
       "      <td>NaN</td>\n",
       "      <td>14.0</td>\n",
       "      <td>NaN</td>\n",
       "      <td>9</td>\n",
       "      <td>NaN</td>\n",
       "      <td>...</td>\n",
       "      <td>NaN</td>\n",
       "      <td>0.0</td>\n",
       "      <td>Санкт-Петербург</td>\n",
       "      <td>28098.0</td>\n",
       "      <td>6800.0</td>\n",
       "      <td>2.0</td>\n",
       "      <td>84.0</td>\n",
       "      <td>3.0</td>\n",
       "      <td>234.0</td>\n",
       "      <td>424.0</td>\n",
       "    </tr>\n",
       "    <tr>\n",
       "      <td>4</td>\n",
       "      <td>2</td>\n",
       "      <td>10000000.0</td>\n",
       "      <td>100.0</td>\n",
       "      <td>2018-06-19T00:00:00</td>\n",
       "      <td>2</td>\n",
       "      <td>3.03</td>\n",
       "      <td>14.0</td>\n",
       "      <td>32.0</td>\n",
       "      <td>13</td>\n",
       "      <td>NaN</td>\n",
       "      <td>...</td>\n",
       "      <td>41.0</td>\n",
       "      <td>NaN</td>\n",
       "      <td>Санкт-Петербург</td>\n",
       "      <td>31856.0</td>\n",
       "      <td>8098.0</td>\n",
       "      <td>2.0</td>\n",
       "      <td>112.0</td>\n",
       "      <td>1.0</td>\n",
       "      <td>48.0</td>\n",
       "      <td>121.0</td>\n",
       "    </tr>\n",
       "  </tbody>\n",
       "</table>\n",
       "<p>5 rows × 22 columns</p>\n",
       "</div>"
      ],
      "text/plain": [
       "   total_images  last_price  total_area first_day_exposition  rooms  \\\n",
       "0            20  13000000.0       108.0  2019-03-07T00:00:00      3   \n",
       "1             7   3350000.0        40.4  2018-12-04T00:00:00      1   \n",
       "2            10   5196000.0        56.0  2015-08-20T00:00:00      2   \n",
       "3             0  64900000.0       159.0  2015-07-24T00:00:00      3   \n",
       "4             2  10000000.0       100.0  2018-06-19T00:00:00      2   \n",
       "\n",
       "   ceiling_height  floors_total  living_area  floor is_apartment  ...  \\\n",
       "0            2.70          16.0         51.0      8          NaN  ...   \n",
       "1             NaN          11.0         18.6      1          NaN  ...   \n",
       "2             NaN           5.0         34.3      4          NaN  ...   \n",
       "3             NaN          14.0          NaN      9          NaN  ...   \n",
       "4            3.03          14.0         32.0     13          NaN  ...   \n",
       "\n",
       "   kitchen_area  balcony    locality_name  airports_nearest  \\\n",
       "0          25.0      NaN  Санкт-Петербург           18863.0   \n",
       "1          11.0      2.0   посёлок Шушары           12817.0   \n",
       "2           8.3      0.0  Санкт-Петербург           21741.0   \n",
       "3           NaN      0.0  Санкт-Петербург           28098.0   \n",
       "4          41.0      NaN  Санкт-Петербург           31856.0   \n",
       "\n",
       "  cityCenters_nearest  parks_around3000  parks_nearest  ponds_around3000  \\\n",
       "0             16028.0               1.0          482.0               2.0   \n",
       "1             18603.0               0.0            NaN               0.0   \n",
       "2             13933.0               1.0           90.0               2.0   \n",
       "3              6800.0               2.0           84.0               3.0   \n",
       "4              8098.0               2.0          112.0               1.0   \n",
       "\n",
       "   ponds_nearest  days_exposition  \n",
       "0          755.0              NaN  \n",
       "1            NaN             81.0  \n",
       "2          574.0            558.0  \n",
       "3          234.0            424.0  \n",
       "4           48.0            121.0  \n",
       "\n",
       "[5 rows x 22 columns]"
      ]
     },
     "execution_count": 277,
     "metadata": {},
     "output_type": "execute_result"
    }
   ],
   "source": [
    "data.head()"
   ]
  },
  {
   "cell_type": "code",
   "execution_count": 278,
   "metadata": {},
   "outputs": [
    {
     "name": "stdout",
     "output_type": "stream",
     "text": [
      "<class 'pandas.core.frame.DataFrame'>\n",
      "RangeIndex: 23699 entries, 0 to 23698\n",
      "Data columns (total 22 columns):\n",
      "total_images            23699 non-null int64\n",
      "last_price              23699 non-null float64\n",
      "total_area              23699 non-null float64\n",
      "first_day_exposition    23699 non-null object\n",
      "rooms                   23699 non-null int64\n",
      "ceiling_height          14504 non-null float64\n",
      "floors_total            23613 non-null float64\n",
      "living_area             21796 non-null float64\n",
      "floor                   23699 non-null int64\n",
      "is_apartment            2775 non-null object\n",
      "studio                  23699 non-null bool\n",
      "open_plan               23699 non-null bool\n",
      "kitchen_area            21421 non-null float64\n",
      "balcony                 12180 non-null float64\n",
      "locality_name           23650 non-null object\n",
      "airports_nearest        18157 non-null float64\n",
      "cityCenters_nearest     18180 non-null float64\n",
      "parks_around3000        18181 non-null float64\n",
      "parks_nearest           8079 non-null float64\n",
      "ponds_around3000        18181 non-null float64\n",
      "ponds_nearest           9110 non-null float64\n",
      "days_exposition         20518 non-null float64\n",
      "dtypes: bool(2), float64(14), int64(3), object(3)\n",
      "memory usage: 3.7+ MB\n"
     ]
    }
   ],
   "source": [
    "data.info()"
   ]
  },
  {
   "cell_type": "code",
   "execution_count": 279,
   "metadata": {},
   "outputs": [
    {
     "data": {
      "text/plain": [
       "total_images             0.000000\n",
       "last_price               0.000000\n",
       "total_area               0.000000\n",
       "first_day_exposition     0.000000\n",
       "rooms                    0.000000\n",
       "ceiling_height          38.799105\n",
       "floors_total             0.362885\n",
       "living_area              8.029875\n",
       "floor                    0.000000\n",
       "is_apartment            88.290645\n",
       "studio                   0.000000\n",
       "open_plan                0.000000\n",
       "kitchen_area             9.612220\n",
       "balcony                 48.605426\n",
       "locality_name            0.206760\n",
       "airports_nearest        23.384953\n",
       "cityCenters_nearest     23.287902\n",
       "parks_around3000        23.283683\n",
       "parks_nearest           65.909954\n",
       "ponds_around3000        23.283683\n",
       "ponds_nearest           61.559559\n",
       "days_exposition         13.422507\n",
       "dtype: float64"
      ]
     },
     "execution_count": 279,
     "metadata": {},
     "output_type": "execute_result"
    }
   ],
   "source": [
    "#количество пропусков\n",
    "data.isnull().sum()\n",
    "data.isnull().mean() *100"
   ]
  },
  {
   "cell_type": "code",
   "execution_count": 280,
   "metadata": {},
   "outputs": [
    {
     "data": {
      "text/plain": [
       "0"
      ]
     },
     "execution_count": 280,
     "metadata": {},
     "output_type": "execute_result"
    }
   ],
   "source": [
    "data.duplicated().sum() #проверим дубликаты"
   ]
  },
  {
   "cell_type": "markdown",
   "metadata": {},
   "source": [
    "### Вывод\n",
    "###### Датасет содержит 22 столбца и 23699 строк, во многих строках имеются множественные пропуски, которые придется заполнять разными методами. Некоторые будем заполнять нулями или False, количественные - медианами, а некоторые данные, возможно, получится достать из уже имеющихся.¶\n",
    "###### Датасет также содержит различные типы данных, которые мы также преобразуем на втором шаге - предобработка данных. Дубликатов в данных нет."
   ]
  },
  {
   "cell_type": "markdown",
   "metadata": {},
   "source": []
  },
  {
   "cell_type": "markdown",
   "metadata": {},
   "source": [
    "## Предобработка данных"
   ]
  },
  {
   "cell_type": "markdown",
   "metadata": {},
   "source": [
    "### Обработка выбросов"
   ]
  },
  {
   "cell_type": "markdown",
   "metadata": {},
   "source": [
    "#### Рассмотрим высоту потолков"
   ]
  },
  {
   "cell_type": "code",
   "execution_count": 281,
   "metadata": {},
   "outputs": [
    {
     "data": {
      "image/png": "[encoded data removed]",
      "text/plain": [
       "<Figure size 288x360 with 1 Axes>"
      ]
     },
     "metadata": {
      "needs_background": "light"
     },
     "output_type": "display_data"
    }
   ],
   "source": [
    "data.boxplot([\"ceiling_height\"], figsize=(4,5), fontsize=14)\n",
    "plt.ylabel(\"metres\", fontsize=14)\n",
    "plt.show()"
   ]
  },
  {
   "cell_type": "code",
   "execution_count": 282,
   "metadata": {},
   "outputs": [
    {
     "data": {
      "text/html": [
       "<div>\n",
       "<style scoped>\n",
       "    .dataframe tbody tr th:only-of-type {\n",
       "        vertical-align: middle;\n",
       "    }\n",
       "\n",
       "    .dataframe tbody tr th {\n",
       "        vertical-align: top;\n",
       "    }\n",
       "\n",
       "    .dataframe thead th {\n",
       "        text-align: right;\n",
       "    }\n",
       "</style>\n",
       "<table border=\"1\" class=\"dataframe\">\n",
       "  <thead>\n",
       "    <tr style=\"text-align: right;\">\n",
       "      <th></th>\n",
       "      <th>total_images</th>\n",
       "      <th>last_price</th>\n",
       "      <th>total_area</th>\n",
       "      <th>first_day_exposition</th>\n",
       "      <th>rooms</th>\n",
       "      <th>ceiling_height</th>\n",
       "      <th>floors_total</th>\n",
       "      <th>living_area</th>\n",
       "      <th>floor</th>\n",
       "      <th>is_apartment</th>\n",
       "      <th>...</th>\n",
       "      <th>kitchen_area</th>\n",
       "      <th>balcony</th>\n",
       "      <th>locality_name</th>\n",
       "      <th>airports_nearest</th>\n",
       "      <th>cityCenters_nearest</th>\n",
       "      <th>parks_around3000</th>\n",
       "      <th>parks_nearest</th>\n",
       "      <th>ponds_around3000</th>\n",
       "      <th>ponds_nearest</th>\n",
       "      <th>days_exposition</th>\n",
       "    </tr>\n",
       "  </thead>\n",
       "  <tbody>\n",
       "    <tr>\n",
       "      <td>355</td>\n",
       "      <td>17</td>\n",
       "      <td>3600000.0</td>\n",
       "      <td>55.2</td>\n",
       "      <td>2018-07-12T00:00:00</td>\n",
       "      <td>2</td>\n",
       "      <td>25.0</td>\n",
       "      <td>5.0</td>\n",
       "      <td>32.0</td>\n",
       "      <td>2</td>\n",
       "      <td>False</td>\n",
       "      <td>...</td>\n",
       "      <td>NaN</td>\n",
       "      <td>2.0</td>\n",
       "      <td>Гатчина</td>\n",
       "      <td>NaN</td>\n",
       "      <td>NaN</td>\n",
       "      <td>NaN</td>\n",
       "      <td>NaN</td>\n",
       "      <td>NaN</td>\n",
       "      <td>NaN</td>\n",
       "      <td>259.0</td>\n",
       "    </tr>\n",
       "    <tr>\n",
       "      <td>3148</td>\n",
       "      <td>14</td>\n",
       "      <td>2900000.0</td>\n",
       "      <td>75.0</td>\n",
       "      <td>2018-11-12T00:00:00</td>\n",
       "      <td>3</td>\n",
       "      <td>32.0</td>\n",
       "      <td>3.0</td>\n",
       "      <td>53.0</td>\n",
       "      <td>2</td>\n",
       "      <td>NaN</td>\n",
       "      <td>...</td>\n",
       "      <td>8.0</td>\n",
       "      <td>NaN</td>\n",
       "      <td>Волхов</td>\n",
       "      <td>NaN</td>\n",
       "      <td>NaN</td>\n",
       "      <td>NaN</td>\n",
       "      <td>NaN</td>\n",
       "      <td>NaN</td>\n",
       "      <td>NaN</td>\n",
       "      <td>NaN</td>\n",
       "    </tr>\n",
       "    <tr>\n",
       "      <td>4643</td>\n",
       "      <td>0</td>\n",
       "      <td>4300000.0</td>\n",
       "      <td>45.0</td>\n",
       "      <td>2018-02-01T00:00:00</td>\n",
       "      <td>2</td>\n",
       "      <td>25.0</td>\n",
       "      <td>9.0</td>\n",
       "      <td>30.0</td>\n",
       "      <td>2</td>\n",
       "      <td>NaN</td>\n",
       "      <td>...</td>\n",
       "      <td>7.0</td>\n",
       "      <td>1.0</td>\n",
       "      <td>Санкт-Петербург</td>\n",
       "      <td>12016.0</td>\n",
       "      <td>13256.0</td>\n",
       "      <td>1.0</td>\n",
       "      <td>658.0</td>\n",
       "      <td>1.0</td>\n",
       "      <td>331.0</td>\n",
       "      <td>181.0</td>\n",
       "    </tr>\n",
       "  </tbody>\n",
       "</table>\n",
       "<p>3 rows × 22 columns</p>\n",
       "</div>"
      ],
      "text/plain": [
       "      total_images  last_price  total_area first_day_exposition  rooms  \\\n",
       "355             17   3600000.0        55.2  2018-07-12T00:00:00      2   \n",
       "3148            14   2900000.0        75.0  2018-11-12T00:00:00      3   \n",
       "4643             0   4300000.0        45.0  2018-02-01T00:00:00      2   \n",
       "\n",
       "      ceiling_height  floors_total  living_area  floor is_apartment  ...  \\\n",
       "355             25.0           5.0         32.0      2        False  ...   \n",
       "3148            32.0           3.0         53.0      2          NaN  ...   \n",
       "4643            25.0           9.0         30.0      2          NaN  ...   \n",
       "\n",
       "      kitchen_area  balcony    locality_name  airports_nearest  \\\n",
       "355            NaN      2.0          Гатчина               NaN   \n",
       "3148           8.0      NaN           Волхов               NaN   \n",
       "4643           7.0      1.0  Санкт-Петербург           12016.0   \n",
       "\n",
       "     cityCenters_nearest  parks_around3000  parks_nearest  ponds_around3000  \\\n",
       "355                  NaN               NaN            NaN               NaN   \n",
       "3148                 NaN               NaN            NaN               NaN   \n",
       "4643             13256.0               1.0          658.0               1.0   \n",
       "\n",
       "      ponds_nearest  days_exposition  \n",
       "355             NaN            259.0  \n",
       "3148            NaN              NaN  \n",
       "4643          331.0            181.0  \n",
       "\n",
       "[3 rows x 22 columns]"
      ]
     },
     "execution_count": 282,
     "metadata": {},
     "output_type": "execute_result"
    }
   ],
   "source": [
    "data[data.ceiling_height > 20].head(3)"
   ]
  },
  {
   "cell_type": "code",
   "execution_count": 283,
   "metadata": {},
   "outputs": [
    {
     "data": {
      "text/plain": [
       "22869    100.0\n",
       "3148      32.0\n",
       "22336     32.0\n",
       "21377     27.5\n",
       "10773     27.0\n",
       "         ...  \n",
       "23687      NaN\n",
       "23690      NaN\n",
       "23692      NaN\n",
       "23695      NaN\n",
       "23696      NaN\n",
       "Name: ceiling_height, Length: 23699, dtype: float64"
      ]
     },
     "execution_count": 283,
     "metadata": {},
     "output_type": "execute_result"
    }
   ],
   "source": [
    "data['ceiling_height'].sort_values(ascending=False)"
   ]
  },
  {
   "cell_type": "markdown",
   "metadata": {},
   "source": []
  },
  {
   "cell_type": "markdown",
   "metadata": {},
   "source": [
    "Как мы видим единственный выброс это 100 метровый потолок. Исбавимся от него.Остальные значения, где потолок больше 20 это аномальные значения, мы разделим его на 10. "
   ]
  },
  {
   "cell_type": "code",
   "execution_count": 284,
   "metadata": {},
   "outputs": [],
   "source": [
    "data = data.drop([22869])"
   ]
  },
  {
   "cell_type": "code",
   "execution_count": 285,
   "metadata": {},
   "outputs": [],
   "source": [
    "data['ceiling_height'] = data['ceiling_height'].apply( lambda x: x if (x < 20) else x/10 ) # делим значения потолков, которые больше 20 на 10"
   ]
  },
  {
   "cell_type": "markdown",
   "metadata": {},
   "source": [
    "###### Удалим строки с аномально высокими и низкими потолками"
   ]
  },
  {
   "cell_type": "code",
   "execution_count": 286,
   "metadata": {},
   "outputs": [],
   "source": [
    "data.drop(data[data.ceiling_height > 3.5].index, inplace=True)\n",
    "data.drop(data[data.ceiling_height < 2.001].index, inplace=True)"
   ]
  },
  {
   "cell_type": "markdown",
   "metadata": {},
   "source": [
    "###### Проверим как выглядит boxplot теперь"
   ]
  },
  {
   "cell_type": "code",
   "execution_count": 287,
   "metadata": {},
   "outputs": [
    {
     "data": {
      "image/png": "[encoded data removed]",
      "text/plain": [
       "<Figure size 288x360 with 1 Axes>"
      ]
     },
     "metadata": {
      "needs_background": "light"
     },
     "output_type": "display_data"
    }
   ],
   "source": [
    "data.boxplot([\"ceiling_height\"], figsize=(4,5), fontsize=15)\n",
    "plt.ylabel(\"metres\", fontsize=15)\n",
    "plt.show()"
   ]
  },
  {
   "cell_type": "code",
   "execution_count": 288,
   "metadata": {},
   "outputs": [],
   "source": [
    "data.reset_index(inplace=True) #Дадим новые индексы"
   ]
  },
  {
   "cell_type": "code",
   "execution_count": 289,
   "metadata": {},
   "outputs": [
    {
     "data": {
      "text/html": [
       "<div>\n",
       "<style scoped>\n",
       "    .dataframe tbody tr th:only-of-type {\n",
       "        vertical-align: middle;\n",
       "    }\n",
       "\n",
       "    .dataframe tbody tr th {\n",
       "        vertical-align: top;\n",
       "    }\n",
       "\n",
       "    .dataframe thead th {\n",
       "        text-align: right;\n",
       "    }\n",
       "</style>\n",
       "<table border=\"1\" class=\"dataframe\">\n",
       "  <thead>\n",
       "    <tr style=\"text-align: right;\">\n",
       "      <th></th>\n",
       "      <th>index</th>\n",
       "      <th>total_images</th>\n",
       "      <th>last_price</th>\n",
       "      <th>total_area</th>\n",
       "      <th>first_day_exposition</th>\n",
       "      <th>rooms</th>\n",
       "      <th>ceiling_height</th>\n",
       "      <th>floors_total</th>\n",
       "      <th>living_area</th>\n",
       "      <th>floor</th>\n",
       "      <th>...</th>\n",
       "      <th>kitchen_area</th>\n",
       "      <th>balcony</th>\n",
       "      <th>locality_name</th>\n",
       "      <th>airports_nearest</th>\n",
       "      <th>cityCenters_nearest</th>\n",
       "      <th>parks_around3000</th>\n",
       "      <th>parks_nearest</th>\n",
       "      <th>ponds_around3000</th>\n",
       "      <th>ponds_nearest</th>\n",
       "      <th>days_exposition</th>\n",
       "    </tr>\n",
       "  </thead>\n",
       "  <tbody>\n",
       "    <tr>\n",
       "      <td>0</td>\n",
       "      <td>0</td>\n",
       "      <td>20</td>\n",
       "      <td>13000000.0</td>\n",
       "      <td>108.0</td>\n",
       "      <td>2019-03-07T00:00:00</td>\n",
       "      <td>3</td>\n",
       "      <td>2.70</td>\n",
       "      <td>16.0</td>\n",
       "      <td>51.0</td>\n",
       "      <td>8</td>\n",
       "      <td>...</td>\n",
       "      <td>25.0</td>\n",
       "      <td>NaN</td>\n",
       "      <td>Санкт-Петербург</td>\n",
       "      <td>18863.0</td>\n",
       "      <td>16028.0</td>\n",
       "      <td>1.0</td>\n",
       "      <td>482.0</td>\n",
       "      <td>2.0</td>\n",
       "      <td>755.0</td>\n",
       "      <td>NaN</td>\n",
       "    </tr>\n",
       "    <tr>\n",
       "      <td>1</td>\n",
       "      <td>1</td>\n",
       "      <td>7</td>\n",
       "      <td>3350000.0</td>\n",
       "      <td>40.4</td>\n",
       "      <td>2018-12-04T00:00:00</td>\n",
       "      <td>1</td>\n",
       "      <td>NaN</td>\n",
       "      <td>11.0</td>\n",
       "      <td>18.6</td>\n",
       "      <td>1</td>\n",
       "      <td>...</td>\n",
       "      <td>11.0</td>\n",
       "      <td>2.0</td>\n",
       "      <td>посёлок Шушары</td>\n",
       "      <td>12817.0</td>\n",
       "      <td>18603.0</td>\n",
       "      <td>0.0</td>\n",
       "      <td>NaN</td>\n",
       "      <td>0.0</td>\n",
       "      <td>NaN</td>\n",
       "      <td>81.0</td>\n",
       "    </tr>\n",
       "    <tr>\n",
       "      <td>2</td>\n",
       "      <td>2</td>\n",
       "      <td>10</td>\n",
       "      <td>5196000.0</td>\n",
       "      <td>56.0</td>\n",
       "      <td>2015-08-20T00:00:00</td>\n",
       "      <td>2</td>\n",
       "      <td>NaN</td>\n",
       "      <td>5.0</td>\n",
       "      <td>34.3</td>\n",
       "      <td>4</td>\n",
       "      <td>...</td>\n",
       "      <td>8.3</td>\n",
       "      <td>0.0</td>\n",
       "      <td>Санкт-Петербург</td>\n",
       "      <td>21741.0</td>\n",
       "      <td>13933.0</td>\n",
       "      <td>1.0</td>\n",
       "      <td>90.0</td>\n",
       "      <td>2.0</td>\n",
       "      <td>574.0</td>\n",
       "      <td>558.0</td>\n",
       "    </tr>\n",
       "    <tr>\n",
       "      <td>3</td>\n",
       "      <td>3</td>\n",
       "      <td>0</td>\n",
       "      <td>64900000.0</td>\n",
       "      <td>159.0</td>\n",
       "      <td>2015-07-24T00:00:00</td>\n",
       "      <td>3</td>\n",
       "      <td>NaN</td>\n",
       "      <td>14.0</td>\n",
       "      <td>NaN</td>\n",
       "      <td>9</td>\n",
       "      <td>...</td>\n",
       "      <td>NaN</td>\n",
       "      <td>0.0</td>\n",
       "      <td>Санкт-Петербург</td>\n",
       "      <td>28098.0</td>\n",
       "      <td>6800.0</td>\n",
       "      <td>2.0</td>\n",
       "      <td>84.0</td>\n",
       "      <td>3.0</td>\n",
       "      <td>234.0</td>\n",
       "      <td>424.0</td>\n",
       "    </tr>\n",
       "    <tr>\n",
       "      <td>4</td>\n",
       "      <td>4</td>\n",
       "      <td>2</td>\n",
       "      <td>10000000.0</td>\n",
       "      <td>100.0</td>\n",
       "      <td>2018-06-19T00:00:00</td>\n",
       "      <td>2</td>\n",
       "      <td>3.03</td>\n",
       "      <td>14.0</td>\n",
       "      <td>32.0</td>\n",
       "      <td>13</td>\n",
       "      <td>...</td>\n",
       "      <td>41.0</td>\n",
       "      <td>NaN</td>\n",
       "      <td>Санкт-Петербург</td>\n",
       "      <td>31856.0</td>\n",
       "      <td>8098.0</td>\n",
       "      <td>2.0</td>\n",
       "      <td>112.0</td>\n",
       "      <td>1.0</td>\n",
       "      <td>48.0</td>\n",
       "      <td>121.0</td>\n",
       "    </tr>\n",
       "  </tbody>\n",
       "</table>\n",
       "<p>5 rows × 23 columns</p>\n",
       "</div>"
      ],
      "text/plain": [
       "   index  total_images  last_price  total_area first_day_exposition  rooms  \\\n",
       "0      0            20  13000000.0       108.0  2019-03-07T00:00:00      3   \n",
       "1      1             7   3350000.0        40.4  2018-12-04T00:00:00      1   \n",
       "2      2            10   5196000.0        56.0  2015-08-20T00:00:00      2   \n",
       "3      3             0  64900000.0       159.0  2015-07-24T00:00:00      3   \n",
       "4      4             2  10000000.0       100.0  2018-06-19T00:00:00      2   \n",
       "\n",
       "   ceiling_height  floors_total  living_area  floor  ... kitchen_area  \\\n",
       "0            2.70          16.0         51.0      8  ...         25.0   \n",
       "1             NaN          11.0         18.6      1  ...         11.0   \n",
       "2             NaN           5.0         34.3      4  ...          8.3   \n",
       "3             NaN          14.0          NaN      9  ...          NaN   \n",
       "4            3.03          14.0         32.0     13  ...         41.0   \n",
       "\n",
       "   balcony    locality_name  airports_nearest  cityCenters_nearest  \\\n",
       "0      NaN  Санкт-Петербург           18863.0              16028.0   \n",
       "1      2.0   посёлок Шушары           12817.0              18603.0   \n",
       "2      0.0  Санкт-Петербург           21741.0              13933.0   \n",
       "3      0.0  Санкт-Петербург           28098.0               6800.0   \n",
       "4      NaN  Санкт-Петербург           31856.0               8098.0   \n",
       "\n",
       "  parks_around3000  parks_nearest  ponds_around3000  ponds_nearest  \\\n",
       "0              1.0          482.0               2.0          755.0   \n",
       "1              0.0            NaN               0.0            NaN   \n",
       "2              1.0           90.0               2.0          574.0   \n",
       "3              2.0           84.0               3.0          234.0   \n",
       "4              2.0          112.0               1.0           48.0   \n",
       "\n",
       "   days_exposition  \n",
       "0              NaN  \n",
       "1             81.0  \n",
       "2            558.0  \n",
       "3            424.0  \n",
       "4            121.0  \n",
       "\n",
       "[5 rows x 23 columns]"
      ]
     },
     "execution_count": 289,
     "metadata": {},
     "output_type": "execute_result"
    }
   ],
   "source": [
    "data.head()"
   ]
  },
  {
   "cell_type": "code",
   "execution_count": 290,
   "metadata": {},
   "outputs": [],
   "source": [
    "data.drop(labels='index', axis=1, inplace=True)"
   ]
  },
  {
   "cell_type": "code",
   "execution_count": 291,
   "metadata": {},
   "outputs": [
    {
     "name": "stdout",
     "output_type": "stream",
     "text": [
      "Среднее по высоте потолков: 2.70\n",
      "Медиана по высоте потолков: 2.65\n"
     ]
    }
   ],
   "source": [
    "print(\"Среднее по высоте потолков: {:.2f}\".format(data.ceiling_height.mean()))\n",
    "print(\"Медиана по высоте потолков: {:.2f}\".format(data.ceiling_height.median()))"
   ]
  },
  {
   "cell_type": "markdown",
   "metadata": {},
   "source": [
    "#### Цена объекта"
   ]
  },
  {
   "cell_type": "code",
   "execution_count": 292,
   "metadata": {},
   "outputs": [
    {
     "data": {
      "image/png": "[encoded data removed]",
      "text/plain": [
       "<Figure size 288x360 with 1 Axes>"
      ]
     },
     "metadata": {
      "needs_background": "light"
     },
     "output_type": "display_data"
    },
    {
     "data": {
      "text/plain": [
       "count    2.340200e+04\n",
       "mean     6.355715e+06\n",
       "std      1.035309e+07\n",
       "min      1.219000e+04\n",
       "25%      3.400000e+06\n",
       "50%      4.600000e+06\n",
       "75%      6.700000e+06\n",
       "max      7.630000e+08\n",
       "Name: last_price, dtype: float64"
      ]
     },
     "execution_count": 292,
     "metadata": {},
     "output_type": "execute_result"
    }
   ],
   "source": [
    "data.boxplot([\"last_price\"], figsize=(4,5), fontsize=15)\n",
    "plt.ylabel(\"price\", fontsize=15)\n",
    "plt.show()\n",
    "data['last_price'].describe()"
   ]
  },
  {
   "cell_type": "code",
   "execution_count": 293,
   "metadata": {},
   "outputs": [
    {
     "name": "stdout",
     "output_type": "stream",
     "text": [
      "Медианная стоимость квартиры : 4600000\n",
      "Средняя стоимость квартиры : 6355715\n",
      "Количество квартир стоимостью более 20 млн. : 639\n",
      "Количество квартир стоимостью менее 500 тыс. : 14\n"
     ]
    }
   ],
   "source": [
    "print(\"Медианная стоимость квартиры : {:.0f}\".format(data['last_price'].median()))\n",
    "print(\"Средняя стоимость квартиры : {:.0f}\".format(data['last_price'].mean()))\n",
    "print(\"Количество квартир стоимостью более 20 млн. : {}\".format(data[data.last_price > 20000000]['last_price'].count()))\n",
    "print(\"Количество квартир стоимостью менее 500 тыс. : {}\".format(data[data.last_price < 500000]['last_price'].count()))"
   ]
  },
  {
   "cell_type": "markdown",
   "metadata": {},
   "source": [
    "###### В нашей выборке очень мало квартир дороже 20 млн и дешевле 500 тыс. Избавимся от аномальных наблюдений"
   ]
  },
  {
   "cell_type": "code",
   "execution_count": 294,
   "metadata": {},
   "outputs": [],
   "source": [
    "data.drop(data[data.last_price > 20000000].index, inplace=True)\n",
    "data.drop(data[data.last_price < 500000].index, inplace=True)"
   ]
  },
  {
   "cell_type": "markdown",
   "metadata": {},
   "source": [
    "#### Общая площадь"
   ]
  },
  {
   "cell_type": "code",
   "execution_count": 295,
   "metadata": {},
   "outputs": [
    {
     "data": {
      "image/png": "[encoded data removed]",
      "text/plain": [
       "<Figure size 288x360 with 1 Axes>"
      ]
     },
     "metadata": {
      "needs_background": "light"
     },
     "output_type": "display_data"
    },
    {
     "data": {
      "text/plain": [
       "count    22749.000000\n",
       "mean        56.424877\n",
       "std         24.396864\n",
       "min         12.000000\n",
       "25%         39.900000\n",
       "50%         51.000000\n",
       "75%         67.000000\n",
       "max        460.800000\n",
       "Name: total_area, dtype: float64"
      ]
     },
     "execution_count": 295,
     "metadata": {},
     "output_type": "execute_result"
    }
   ],
   "source": [
    "data.boxplot([\"total_area\"], figsize=(4,5), fontsize=15)\n",
    "plt.ylabel(\"square metres\", fontsize=15)\n",
    "plt.show()\n",
    "data['total_area'].describe()"
   ]
  },
  {
   "cell_type": "code",
   "execution_count": 296,
   "metadata": {},
   "outputs": [
    {
     "name": "stdout",
     "output_type": "stream",
     "text": [
      "Медианная площадь квартиры : 51\n",
      "Средняя площадь квартиры : 56\n",
      "Количество квартир площадью более 120 кв. м. : 483\n",
      "Количество квартир площадью менее 15 кв.м. : 6\n"
     ]
    }
   ],
   "source": [
    "print(\"Медианная площадь квартиры : {:.0f}\".format(data['total_area'].median()))\n",
    "print(\"Средняя площадь квартиры : {:.0f}\".format(data['total_area'].mean()))\n",
    "print(\"Количество квартир площадью более 120 кв. м. : {}\".format(data[data.total_area > 120]['total_area'].count()))\n",
    "print(\"Количество квартир площадью менее 15 кв.м. : {}\".format(data[data.total_area < 15]['total_area'].count()))"
   ]
  },
  {
   "cell_type": "markdown",
   "metadata": {},
   "source": [
    "###### Избавимся от аномальных значений"
   ]
  },
  {
   "cell_type": "code",
   "execution_count": 297,
   "metadata": {},
   "outputs": [],
   "source": [
    "data.drop(data[data.total_area > 120].index, inplace=True)\n",
    "data.drop(data[data.total_area < 15].index, inplace=True)"
   ]
  },
  {
   "cell_type": "code",
   "execution_count": 298,
   "metadata": {},
   "outputs": [
    {
     "data": {
      "image/png": "[encoded data removed]",
      "text/plain": [
       "<Figure size 216x360 with 1 Axes>"
      ]
     },
     "metadata": {
      "needs_background": "light"
     },
     "output_type": "display_data"
    },
    {
     "data": {
      "text/plain": [
       "count    22260.000000\n",
       "mean        54.387649\n",
       "std         19.627693\n",
       "min         15.000000\n",
       "25%         39.300000\n",
       "50%         50.000000\n",
       "75%         65.300000\n",
       "max        120.000000\n",
       "Name: total_area, dtype: float64"
      ]
     },
     "execution_count": 298,
     "metadata": {},
     "output_type": "execute_result"
    }
   ],
   "source": [
    "data.boxplot([\"total_area\"], figsize=(3,5), fontsize=10)\n",
    "plt.ylabel(\"square metres\", fontsize=10)\n",
    "plt.show()\n",
    "data['total_area'].describe()"
   ]
  },
  {
   "cell_type": "markdown",
   "metadata": {},
   "source": [
    "### Заполнение пропусков"
   ]
  },
  {
   "cell_type": "markdown",
   "metadata": {},
   "source": [
    "###### Пропуски в столбцах:"
   ]
  },
  {
   "cell_type": "code",
   "execution_count": 299,
   "metadata": {},
   "outputs": [
    {
     "data": {
      "text/plain": [
       "total_images            0.000000\n",
       "last_price              0.000000\n",
       "total_area              0.000000\n",
       "first_day_exposition    0.000000\n",
       "rooms                   0.000000\n",
       "ceiling_height          0.394789\n",
       "floors_total            0.003684\n",
       "living_area             0.078347\n",
       "floor                   0.000000\n",
       "is_apartment            0.883872\n",
       "studio                  0.000000\n",
       "open_plan               0.000000\n",
       "kitchen_area            0.095912\n",
       "balcony                 0.480144\n",
       "locality_name           0.001977\n",
       "airports_nearest        0.245418\n",
       "cityCenters_nearest     0.244654\n",
       "parks_around3000        0.244609\n",
       "parks_nearest           0.679335\n",
       "ponds_around3000        0.244609\n",
       "ponds_nearest           0.633423\n",
       "days_exposition         0.126595\n",
       "dtype: float64"
      ]
     },
     "execution_count": 299,
     "metadata": {},
     "output_type": "execute_result"
    }
   ],
   "source": [
    "data.isna().sum()\n",
    "data.isna().mean()"
   ]
  },
  {
   "cell_type": "markdown",
   "metadata": {},
   "source": [
    "#### Стратегия заполнения пропусков\n",
    "###### 1) floors_total - по возможности заполним пропуски уже имеющимися данными по тому же дому из датасета (предположим, что каждый дом однозначно определяется расстоянием до аэропорта и центра города), оставшиеся пропуски заполним медианными значениями      \n",
    "###### 2) ceiling_height - попробуем определить высоту потолков по существующим домам, оставшиеся пропуски оставим незаполненными living_area , kitchen_area - заполним медианой\n",
    "###### 3) is_apartment - заполним пропуски значениями False\n",
    "###### 4) balcony - пропущенные значения заменим на 0\n",
    "###### 5) locality_name - на пустую строку \" \"\n",
    "###### 6) airports_nearest , cityCenters_nearest , parks_nearest , ponds_nearest , days_exposition - оставим пропущенные значения как они есть, чтобы не исказить статистики и в будущем иметь возможность работать с ними как с числовыми столбцами. Заполнять пропуски в данных столбцах не будем\n",
    "###### 7) ponds_around3000 , parks_around3000 - заполним нулями"
   ]
  },
  {
   "cell_type": "markdown",
   "metadata": {},
   "source": [
    "#### Заполним пропущенные значения этажности"
   ]
  },
  {
   "cell_type": "code",
   "execution_count": 300,
   "metadata": {},
   "outputs": [
    {
     "name": "stdout",
     "output_type": "stream",
     "text": [
      "Пропущенных значений этажности дома: 82\n"
     ]
    }
   ],
   "source": [
    "print(\"Пропущенных значений этажности дома:\", data.floors_total.isna().sum())"
   ]
  },
  {
   "cell_type": "markdown",
   "metadata": {},
   "source": [
    "###### Создадим для этого сводную таблицу, где индексами будет выступать расстояние до центра, а столбцами - расстояния до аэропорта"
   ]
  },
  {
   "cell_type": "code",
   "execution_count": 301,
   "metadata": {},
   "outputs": [],
   "source": [
    "floors_pivot = data.pivot_table(index='cityCenters_nearest', columns='airports_nearest', values='floors_total', aggfunc='first')"
   ]
  },
  {
   "cell_type": "markdown",
   "metadata": {},
   "source": [
    "###### Используем цикл, пробегающий по датафрейму, в котором пропущены значения этажности дома"
   ]
  },
  {
   "cell_type": "code",
   "execution_count": 302,
   "metadata": {},
   "outputs": [
    {
     "name": "stdout",
     "output_type": "stream",
     "text": [
      "Пропусков: 30\n"
     ]
    }
   ],
   "source": [
    "for index, row in data[data.ceiling_height.isna()].iterrows():\n",
    "    try:\n",
    "        cell = floors_pivot.loc[ (row['cityCenters_nearest']) , (row['airports_nearest']) ]\n",
    "        \n",
    "        if not(pd.isnull(cell)):                       # Проверяем не равно ли NaN значение ячейки в pivot_table\n",
    "            data.loc[index, 'floors_total'] = cell       # Заменяем пропущенное значение этажности в нашем df на значение из pivot\n",
    "    \n",
    "    except:\n",
    "        pass # В случае если такого дома не существует\n",
    "print(\"Пропусков:\", data.floors_total.isna().sum())"
   ]
  },
  {
   "cell_type": "markdown",
   "metadata": {},
   "source": [
    "###### Оставшиеся 33 пропуска этажности заполним средними значениями, не получилось заменить те значения, где нет подобного сочетания расстояний, т.е. дом не существует. Большую часть значений удалось заменить, значит многие дома встречаются как минимум дважды"
   ]
  },
  {
   "cell_type": "code",
   "execution_count": 303,
   "metadata": {},
   "outputs": [
    {
     "name": "stdout",
     "output_type": "stream",
     "text": [
      "Пропусков этажности: 0\n"
     ]
    }
   ],
   "source": [
    "data.floors_total.fillna(value=data['floors_total'].mean(), inplace=True)\n",
    "print(\"Пропусков этажности:\", data.floors_total.isna().sum())"
   ]
  },
  {
   "cell_type": "markdown",
   "metadata": {},
   "source": [
    "#### Заполним пропущенные значения высоты потолков"
   ]
  },
  {
   "cell_type": "code",
   "execution_count": 304,
   "metadata": {},
   "outputs": [],
   "source": [
    "ceilings_pivot = data.pivot_table(index='cityCenters_nearest', columns='airports_nearest', values='ceiling_height', aggfunc='first')"
   ]
  },
  {
   "cell_type": "code",
   "execution_count": 305,
   "metadata": {},
   "outputs": [
    {
     "name": "stdout",
     "output_type": "stream",
     "text": [
      "Количество пропусков в столбце высоты потолков: 5328\n",
      "Таким способом нам удалось устранить 3822 пропуска точно правильными значениями\n"
     ]
    }
   ],
   "source": [
    "for index, row in data[data.ceiling_height.isna()].iterrows() :\n",
    "    \n",
    "    try:\n",
    "        cell = ceilings_pivot.loc[ (row['cityCenters_nearest']) , (row['airports_nearest']) ]\n",
    "        \n",
    "        if not(pd.isnull(cell)):                       # Проверяем не равно ли NaN значение ячейки в pivot_table\n",
    "            data.loc[index, 'ceiling_height'] = cell       # Заменяем пропущенное значение этажности в нашем df на значение из pivot\n",
    "    \n",
    "    except:\n",
    "        pass # В случае если такого дома не существует\n",
    "print(\"Количество пропусков в столбце высоты потолков:\", data.ceiling_height.isna().sum())\n",
    "print(f\"Таким способом нам удалось устранить {9150 - data.ceiling_height.isna().sum()} пропуска точно правильными значениями\" )"
   ]
  },
  {
   "cell_type": "markdown",
   "metadata": {},
   "source": [
    "#### Заполним оставшиеся пропуски"
   ]
  },
  {
   "cell_type": "code",
   "execution_count": 306,
   "metadata": {},
   "outputs": [],
   "source": [
    "data.fillna( \n",
    "    value =     \n",
    "                {\n",
    "                 'living_area' : data['living_area'].median(),   # Заполним пропуски в столбце жилой и кухонной\n",
    "                 'kitchen_area' : data['kitchen_area'].median(), # площади на медианное значение\n",
    "                 'is_apartment' : False,                       # Заполним пропуски на False в столбце is_apartment\n",
    "                 'balcony' : 0,                             \n",
    "                 'parks_around3000' : 0,\n",
    "                 'ponds_around3000' : 0,\n",
    "                 'locality_name' : \" \",                        # Заполним пропущенные значения locality_name на пустую строку\n",
    "                 }, \n",
    "          \n",
    "                  inplace=True )"
   ]
  },
  {
   "cell_type": "markdown",
   "metadata": {},
   "source": []
  },
  {
   "cell_type": "markdown",
   "metadata": {},
   "source": [
    "#### Обработаем столбец с временем"
   ]
  },
  {
   "cell_type": "code",
   "execution_count": 307,
   "metadata": {},
   "outputs": [
    {
     "data": {
      "text/plain": [
       "0   2019-03-07\n",
       "1   2018-12-04\n",
       "2   2015-08-20\n",
       "Name: first_day_exposition, dtype: datetime64[ns]"
      ]
     },
     "execution_count": 307,
     "metadata": {},
     "output_type": "execute_result"
    }
   ],
   "source": [
    "data['first_day_exposition'] = pd.to_datetime(data['first_day_exposition'], format='%Y-%m-%dT%H:%M:%S')\n",
    "data.first_day_exposition.head(3)"
   ]
  },
  {
   "cell_type": "markdown",
   "metadata": {},
   "source": [
    "#### Преобразуем типы данных"
   ]
  },
  {
   "cell_type": "code",
   "execution_count": 308,
   "metadata": {},
   "outputs": [],
   "source": [
    "data['last_price'] = data['last_price'].astype(int)\n",
    "data['floors_total'] = data['floors_total'].astype(int)\n",
    "data['balcony'] = data['balcony'].astype(int)"
   ]
  },
  {
   "cell_type": "code",
   "execution_count": 309,
   "metadata": {},
   "outputs": [],
   "source": [
    "# data[(data.rooms == 0) & (data.studio == False)]['total_area'].value_counts().sort_index().tail(10)\n",
    "# Рассмотрим квартиры с нулевым количество комнат и не студии"
   ]
  },
  {
   "cell_type": "code",
   "execution_count": 310,
   "metadata": {},
   "outputs": [],
   "source": [
    "#Скорее всего это пропуски при заполнении данных, заменим количество комнат для квартир площадью менее 45 кв.м. на 1, для тех у которых меньше 100 кв.м. на 2, для остальных - на 5 "
   ]
  },
  {
   "cell_type": "markdown",
   "metadata": {},
   "source": [
    "#### Расмотрим квартиры с нулевым значением комнат и не являющиеся студиями:"
   ]
  },
  {
   "cell_type": "code",
   "execution_count": 311,
   "metadata": {},
   "outputs": [
    {
     "data": {
      "text/plain": [
       "58"
      ]
     },
     "execution_count": 311,
     "metadata": {},
     "output_type": "execute_result"
    }
   ],
   "source": [
    "data[(data.rooms == 0) & (data.studio == False)]['total_area'].value_counts().sum()"
   ]
  },
  {
   "cell_type": "markdown",
   "metadata": {},
   "source": [
    "удалим строки"
   ]
  },
  {
   "cell_type": "code",
   "execution_count": 312,
   "metadata": {},
   "outputs": [],
   "source": [
    "data.drop(data[(data.rooms == 0) & (data.studio == False)].index, inplace=True)"
   ]
  },
  {
   "cell_type": "markdown",
   "metadata": {},
   "source": [
    "###### Вывод"
   ]
  },
  {
   "cell_type": "markdown",
   "metadata": {},
   "source": [
    "На данном этапе мы очистили данные от выбросов.\n",
    "Произвели различные замены пропущенных значений.\n",
    "Для многих квартир отсутствовали значения total_floors или ceiling_height - многие из них нам удалось восстановить из имеющихся данных, поскольку дома в датасете повторяются.\n",
    "Некоторые пропущенные значения оставили незаполненными для того, чтобы избежать искажения статистики, а также с NaN удобно проводить вычисления, так как это тип float\n",
    "Количественные параметры: living_area , kitchen_area были заменены на медианные.\n",
    "Также преобразованы типы данных: из строковых в формат даты, из чисел с плавающей точкой в целочисленный.\n",
    "Квартиры с нулевым количеством комнат были удалены из датафрейма."
   ]
  },
  {
   "cell_type": "markdown",
   "metadata": {},
   "source": [
    "## Расчёты и добавление результатов в таблицу\n"
   ]
  },
  {
   "cell_type": "markdown",
   "metadata": {},
   "source": [
    "### Добавим цену за кв. метр. в таблицу"
   ]
  },
  {
   "cell_type": "code",
   "execution_count": 313,
   "metadata": {},
   "outputs": [],
   "source": [
    "data['price_for_square_meter'] = data['last_price'] / data['total_area']"
   ]
  },
  {
   "cell_type": "markdown",
   "metadata": {},
   "source": [
    "###  Добавим столбцы с днем недели, месяцем и годом"
   ]
  },
  {
   "cell_type": "code",
   "execution_count": 314,
   "metadata": {},
   "outputs": [],
   "source": [
    "data['weekday'] = data['first_day_exposition'].dt.weekday\n",
    "data['month'] = data['first_day_exposition'].dt.month\n",
    "data['year'] = data['first_day_exposition'].dt.year"
   ]
  },
  {
   "cell_type": "markdown",
   "metadata": {},
   "source": [
    "### Столбец с этажом: первый, последний, другой"
   ]
  },
  {
   "cell_type": "code",
   "execution_count": 315,
   "metadata": {},
   "outputs": [],
   "source": [
    "def flat_floor(row):\n",
    "    if row['floor'] == 1:\n",
    "        return 'первый'\n",
    "    if row['floor'] == row['floors_total']:\n",
    "        return 'последний'\n",
    "    return 'другой'"
   ]
  },
  {
   "cell_type": "code",
   "execution_count": 316,
   "metadata": {},
   "outputs": [],
   "source": [
    "data['floor_category'] = data.apply(flat_floor, axis=1)"
   ]
  },
  {
   "cell_type": "code",
   "execution_count": 317,
   "metadata": {},
   "outputs": [
    {
     "data": {
      "text/plain": [
       "другой       16383\n",
       "последний     3021\n",
       "первый        2798\n",
       "Name: floor_category, dtype: int64"
      ]
     },
     "execution_count": 317,
     "metadata": {},
     "output_type": "execute_result"
    }
   ],
   "source": [
    "data.floor_category.value_counts()"
   ]
  },
  {
   "cell_type": "markdown",
   "metadata": {},
   "source": [
    "###  Добавим отношение жилой площади к общей"
   ]
  },
  {
   "cell_type": "code",
   "execution_count": 318,
   "metadata": {},
   "outputs": [],
   "source": [
    "data['living_to_total'] = data['living_area'] / data['total_area']"
   ]
  },
  {
   "cell_type": "markdown",
   "metadata": {},
   "source": [
    "### Добавим отношение площади кухни к общей"
   ]
  },
  {
   "cell_type": "code",
   "execution_count": 319,
   "metadata": {},
   "outputs": [
    {
     "data": {
      "text/html": [
       "<div>\n",
       "<style scoped>\n",
       "    .dataframe tbody tr th:only-of-type {\n",
       "        vertical-align: middle;\n",
       "    }\n",
       "\n",
       "    .dataframe tbody tr th {\n",
       "        vertical-align: top;\n",
       "    }\n",
       "\n",
       "    .dataframe thead th {\n",
       "        text-align: right;\n",
       "    }\n",
       "</style>\n",
       "<table border=\"1\" class=\"dataframe\">\n",
       "  <thead>\n",
       "    <tr style=\"text-align: right;\">\n",
       "      <th></th>\n",
       "      <th>total_images</th>\n",
       "      <th>last_price</th>\n",
       "      <th>total_area</th>\n",
       "      <th>first_day_exposition</th>\n",
       "      <th>rooms</th>\n",
       "      <th>ceiling_height</th>\n",
       "      <th>floors_total</th>\n",
       "      <th>living_area</th>\n",
       "      <th>floor</th>\n",
       "      <th>is_apartment</th>\n",
       "      <th>...</th>\n",
       "      <th>ponds_around3000</th>\n",
       "      <th>ponds_nearest</th>\n",
       "      <th>days_exposition</th>\n",
       "      <th>price_for_square_meter</th>\n",
       "      <th>weekday</th>\n",
       "      <th>month</th>\n",
       "      <th>year</th>\n",
       "      <th>floor_category</th>\n",
       "      <th>living_to_total</th>\n",
       "      <th>kitchen_to_total</th>\n",
       "    </tr>\n",
       "  </thead>\n",
       "  <tbody>\n",
       "    <tr>\n",
       "      <td>0</td>\n",
       "      <td>20</td>\n",
       "      <td>13000000</td>\n",
       "      <td>108.0</td>\n",
       "      <td>2019-03-07</td>\n",
       "      <td>3</td>\n",
       "      <td>2.70</td>\n",
       "      <td>16</td>\n",
       "      <td>51.0</td>\n",
       "      <td>8</td>\n",
       "      <td>False</td>\n",
       "      <td>...</td>\n",
       "      <td>2.0</td>\n",
       "      <td>755.0</td>\n",
       "      <td>NaN</td>\n",
       "      <td>120370.370370</td>\n",
       "      <td>3</td>\n",
       "      <td>3</td>\n",
       "      <td>2019</td>\n",
       "      <td>другой</td>\n",
       "      <td>0.472222</td>\n",
       "      <td>0.231481</td>\n",
       "    </tr>\n",
       "    <tr>\n",
       "      <td>1</td>\n",
       "      <td>7</td>\n",
       "      <td>3350000</td>\n",
       "      <td>40.4</td>\n",
       "      <td>2018-12-04</td>\n",
       "      <td>1</td>\n",
       "      <td>NaN</td>\n",
       "      <td>11</td>\n",
       "      <td>18.6</td>\n",
       "      <td>1</td>\n",
       "      <td>False</td>\n",
       "      <td>...</td>\n",
       "      <td>0.0</td>\n",
       "      <td>NaN</td>\n",
       "      <td>81.0</td>\n",
       "      <td>82920.792079</td>\n",
       "      <td>1</td>\n",
       "      <td>12</td>\n",
       "      <td>2018</td>\n",
       "      <td>первый</td>\n",
       "      <td>0.460396</td>\n",
       "      <td>0.272277</td>\n",
       "    </tr>\n",
       "    <tr>\n",
       "      <td>2</td>\n",
       "      <td>10</td>\n",
       "      <td>5196000</td>\n",
       "      <td>56.0</td>\n",
       "      <td>2015-08-20</td>\n",
       "      <td>2</td>\n",
       "      <td>NaN</td>\n",
       "      <td>5</td>\n",
       "      <td>34.3</td>\n",
       "      <td>4</td>\n",
       "      <td>False</td>\n",
       "      <td>...</td>\n",
       "      <td>2.0</td>\n",
       "      <td>574.0</td>\n",
       "      <td>558.0</td>\n",
       "      <td>92785.714286</td>\n",
       "      <td>3</td>\n",
       "      <td>8</td>\n",
       "      <td>2015</td>\n",
       "      <td>другой</td>\n",
       "      <td>0.612500</td>\n",
       "      <td>0.148214</td>\n",
       "    </tr>\n",
       "    <tr>\n",
       "      <td>4</td>\n",
       "      <td>2</td>\n",
       "      <td>10000000</td>\n",
       "      <td>100.0</td>\n",
       "      <td>2018-06-19</td>\n",
       "      <td>2</td>\n",
       "      <td>3.03</td>\n",
       "      <td>14</td>\n",
       "      <td>32.0</td>\n",
       "      <td>13</td>\n",
       "      <td>False</td>\n",
       "      <td>...</td>\n",
       "      <td>1.0</td>\n",
       "      <td>48.0</td>\n",
       "      <td>121.0</td>\n",
       "      <td>100000.000000</td>\n",
       "      <td>1</td>\n",
       "      <td>6</td>\n",
       "      <td>2018</td>\n",
       "      <td>другой</td>\n",
       "      <td>0.320000</td>\n",
       "      <td>0.410000</td>\n",
       "    </tr>\n",
       "    <tr>\n",
       "      <td>5</td>\n",
       "      <td>10</td>\n",
       "      <td>2890000</td>\n",
       "      <td>30.4</td>\n",
       "      <td>2018-09-10</td>\n",
       "      <td>1</td>\n",
       "      <td>NaN</td>\n",
       "      <td>12</td>\n",
       "      <td>14.4</td>\n",
       "      <td>5</td>\n",
       "      <td>False</td>\n",
       "      <td>...</td>\n",
       "      <td>0.0</td>\n",
       "      <td>NaN</td>\n",
       "      <td>55.0</td>\n",
       "      <td>95065.789474</td>\n",
       "      <td>0</td>\n",
       "      <td>9</td>\n",
       "      <td>2018</td>\n",
       "      <td>другой</td>\n",
       "      <td>0.473684</td>\n",
       "      <td>0.299342</td>\n",
       "    </tr>\n",
       "  </tbody>\n",
       "</table>\n",
       "<p>5 rows × 29 columns</p>\n",
       "</div>"
      ],
      "text/plain": [
       "   total_images  last_price  total_area first_day_exposition  rooms  \\\n",
       "0            20    13000000       108.0           2019-03-07      3   \n",
       "1             7     3350000        40.4           2018-12-04      1   \n",
       "2            10     5196000        56.0           2015-08-20      2   \n",
       "4             2    10000000       100.0           2018-06-19      2   \n",
       "5            10     2890000        30.4           2018-09-10      1   \n",
       "\n",
       "   ceiling_height  floors_total  living_area  floor  is_apartment  ...  \\\n",
       "0            2.70            16         51.0      8         False  ...   \n",
       "1             NaN            11         18.6      1         False  ...   \n",
       "2             NaN             5         34.3      4         False  ...   \n",
       "4            3.03            14         32.0     13         False  ...   \n",
       "5             NaN            12         14.4      5         False  ...   \n",
       "\n",
       "   ponds_around3000  ponds_nearest  days_exposition  price_for_square_meter  \\\n",
       "0               2.0          755.0              NaN           120370.370370   \n",
       "1               0.0            NaN             81.0            82920.792079   \n",
       "2               2.0          574.0            558.0            92785.714286   \n",
       "4               1.0           48.0            121.0           100000.000000   \n",
       "5               0.0            NaN             55.0            95065.789474   \n",
       "\n",
       "  weekday  month  year  floor_category  living_to_total  kitchen_to_total  \n",
       "0       3      3  2019          другой         0.472222          0.231481  \n",
       "1       1     12  2018          первый         0.460396          0.272277  \n",
       "2       3      8  2015          другой         0.612500          0.148214  \n",
       "4       1      6  2018          другой         0.320000          0.410000  \n",
       "5       0      9  2018          другой         0.473684          0.299342  \n",
       "\n",
       "[5 rows x 29 columns]"
      ]
     },
     "execution_count": 319,
     "metadata": {},
     "output_type": "execute_result"
    }
   ],
   "source": [
    "data['kitchen_to_total'] = data['kitchen_area'] / data['total_area']\n",
    "data.head()"
   ]
  },
  {
   "cell_type": "markdown",
   "metadata": {},
   "source": [
    "## Исследовательский анализ данных\n"
   ]
  },
  {
   "cell_type": "markdown",
   "metadata": {},
   "source": [
    "###  Построим гистограммы распределения Общей площади , Цены , Комнат , Высоты потолков"
   ]
  },
  {
   "cell_type": "code",
   "execution_count": 320,
   "metadata": {},
   "outputs": [
    {
     "data": {
      "image/png": "[encoded data removed]",
      "text/plain": [
       "<Figure size 576x432 with 1 Axes>"
      ]
     },
     "metadata": {
      "needs_background": "light"
     },
     "output_type": "display_data"
    }
   ],
   "source": [
    "data.plot(y='total_area', kind='hist', density=True, bins=50, xlim=(0,200), figsize=(8,6),  title='Гистрограмма общей площади', legend=None)\n",
    "plt.xlabel('Общая площадь, кв.м')\n",
    "plt.ylabel('Частота')\n",
    "plt.show()"
   ]
  },
  {
   "cell_type": "markdown",
   "metadata": {},
   "source": [
    "###### График показывает, что квартиры от 25 кв.м до 60 кв.м пользуется популярностью"
   ]
  },
  {
   "cell_type": "code",
   "execution_count": 321,
   "metadata": {},
   "outputs": [
    {
     "data": {
      "image/png": "[encoded data removed]",
      "text/plain": [
       "<Figure size 576x432 with 1 Axes>"
      ]
     },
     "metadata": {
      "needs_background": "light"
     },
     "output_type": "display_data"
    }
   ],
   "source": [
    "data.plot(y='last_price', kind='hist', density=True, bins=50, xlim=(12190,40000000), figsize=(8,6), title='Гистограмма стоимости квартир', legend=None)\n",
    "plt.xlabel('Стоимость')\n",
    "plt.ylabel('Частота')\n",
    "plt.show()"
   ]
  },
  {
   "cell_type": "markdown",
   "metadata": {},
   "source": [
    "###### с данными все впорядке, но значения выводятся в экспоненциальной записи чисел"
   ]
  },
  {
   "cell_type": "code",
   "execution_count": 322,
   "metadata": {},
   "outputs": [
    {
     "data": {
      "image/png": "[encoded data removed]",
      "text/plain": [
       "<Figure size 576x432 with 1 Axes>"
      ]
     },
     "metadata": {
      "needs_background": "light"
     },
     "output_type": "display_data"
    }
   ],
   "source": [
    "data.plot(y='rooms', kind='hist', density=True, bins=7, range=(0, 7), figsize=(8,6), title='Гистограмма числа комнат', legend=None)\n",
    "plt.xlabel('Число комнат')\n",
    "plt.ylabel('Частота')\n",
    "plt.show()"
   ]
  },
  {
   "cell_type": "markdown",
   "metadata": {},
   "source": [
    "###### по графику видим, что однокомнатные и двухкомнатные квартиры имеют большую популярность"
   ]
  },
  {
   "cell_type": "code",
   "execution_count": 323,
   "metadata": {
    "scrolled": true
   },
   "outputs": [
    {
     "data": {
      "image/png": "[encoded data removed]",
      "text/plain": [
       "<Figure size 576x432 with 1 Axes>"
      ]
     },
     "metadata": {
      "needs_background": "light"
     },
     "output_type": "display_data"
    }
   ],
   "source": [
    "data.plot(y='ceiling_height', kind='hist', bins=50, range=(2.2, 3.5), density=True, figsize=(8,6), title='Гистограмма высоты потолков', legend=None)\n",
    "plt.xlabel('Высота потолков')\n",
    "plt.ylabel('Частота')\n",
    "plt.show()"
   ]
  },
  {
   "cell_type": "markdown",
   "metadata": {},
   "source": [
    "###### По графику видим, что высота потолков от 2.5 до 3 метров преобладает в городе"
   ]
  },
  {
   "cell_type": "code",
   "execution_count": 324,
   "metadata": {},
   "outputs": [
    {
     "data": {
      "text/plain": [
       "50.1"
      ]
     },
     "execution_count": 324,
     "metadata": {},
     "output_type": "execute_result"
    }
   ],
   "source": [
    "data['total_area'].median()"
   ]
  },
  {
   "cell_type": "code",
   "execution_count": 325,
   "metadata": {},
   "outputs": [
    {
     "data": {
      "text/plain": [
       "4500000.0"
      ]
     },
     "execution_count": 325,
     "metadata": {},
     "output_type": "execute_result"
    }
   ],
   "source": [
    "data['last_price'].median()"
   ]
  },
  {
   "cell_type": "code",
   "execution_count": 326,
   "metadata": {},
   "outputs": [
    {
     "data": {
      "text/plain": [
       "2.65"
      ]
     },
     "execution_count": 326,
     "metadata": {},
     "output_type": "execute_result"
    }
   ],
   "source": [
    "data['ceiling_height'].median()"
   ]
  },
  {
   "cell_type": "markdown",
   "metadata": {},
   "source": [
    "###### Вывод\n",
    "Медианное значение площади - 50 кв.м., распределение имеет вид Пуассоновского с пиком около 40 кв.м.\n",
    "Медианная стоимость квартиры составляет 4.5 млн.\n",
    "Наибольшее количество квартир однокомнатные, хотя двухкомнатных всего лишь немногим меньше.\n",
    "Высота потолков составляет 2.65 метра."
   ]
  },
  {
   "cell_type": "markdown",
   "metadata": {},
   "source": []
  },
  {
   "cell_type": "markdown",
   "metadata": {},
   "source": [
    "### Рассмотрим распределение времени продаж"
   ]
  },
  {
   "cell_type": "code",
   "execution_count": 327,
   "metadata": {},
   "outputs": [
    {
     "data": {
      "image/png": "[encoded data removed]",
      "text/plain": [
       "<Figure size 1152x432 with 1 Axes>"
      ]
     },
     "metadata": {
      "needs_background": "light"
     },
     "output_type": "display_data"
    }
   ],
   "source": [
    "data.plot(y='days_exposition', kind='hist', bins=100, figsize=(16,6), xlim=(0,1000), title='Время продажи')\n",
    "plt.xlabel(\"days\")\n",
    "plt.show()"
   ]
  },
  {
   "cell_type": "code",
   "execution_count": 328,
   "metadata": {},
   "outputs": [
    {
     "name": "stdout",
     "output_type": "stream",
     "text": [
      "Медианное значение времени, требующееся на продажу квартиры: 93\n",
      "Среднее значение времени на продажу квартиры: 175.3\n"
     ]
    }
   ],
   "source": [
    "print(\"Медианное значение времени, требующееся на продажу квартиры: {:.0f}\".format(data.days_exposition.median() ))\n",
    "print(\"Среднее значение времени на продажу квартиры: {:.1f}\".format(data.days_exposition.mean() ))"
   ]
  },
  {
   "cell_type": "markdown",
   "metadata": {},
   "source": [
    "###### среднее значение слишком аномальное, присутсвуют выбросы"
   ]
  },
  {
   "cell_type": "code",
   "execution_count": 329,
   "metadata": {},
   "outputs": [
    {
     "data": {
      "image/png": "[encoded data removed]",
      "text/plain": [
       "<Figure size 288x360 with 1 Axes>"
      ]
     },
     "metadata": {
      "needs_background": "light"
     },
     "output_type": "display_data"
    }
   ],
   "source": [
    "data.boxplot([\"days_exposition\"], figsize=(4,5), fontsize=14)\n",
    "plt.ylabel(\"days\", fontsize=14)\n",
    "plt.show()"
   ]
  },
  {
   "cell_type": "markdown",
   "metadata": {},
   "source": [
    "###### Избавимся от аномальных значений. Будем считать продажу быстрой, если она уложилась в неделю, и медленной, если она длилась более полутора лет¶"
   ]
  },
  {
   "cell_type": "markdown",
   "metadata": {},
   "source": [
    "<div class=\"alert alert-success\" style=\"border-radius: 15px; box-shadow: 4px 4px 4px;border: 1px solid \">\n",
    "<h2> Комментарий ревьюера</h2>\n",
    "    \n",
    "Согласна. </div>"
   ]
  },
  {
   "cell_type": "code",
   "execution_count": 330,
   "metadata": {},
   "outputs": [],
   "source": [
    "good_exposition_data = data.query('7<days_exposition<550')['days_exposition'] # избавляемся от выбросов и аномальных \n",
    "                                                                              # по скорости продаж\n",
    "good_exposition_data = good_exposition_data.astype(int)"
   ]
  },
  {
   "cell_type": "code",
   "execution_count": 331,
   "metadata": {},
   "outputs": [
    {
     "data": {
      "image/png": "[encoded data removed]",
      "text/plain": [
       "<Figure size 1152x432 with 1 Axes>"
      ]
     },
     "metadata": {
      "needs_background": "light"
     },
     "output_type": "display_data"
    }
   ],
   "source": [
    "good_exposition_data.plot(kind='hist', bins=80, xlim=(8,550), figsize=(16,6))\n",
    "plt.xlabel(\"Дни\")\n",
    "plt.title(\"Дней на продаже\")\n",
    "plt.show()"
   ]
  },
  {
   "cell_type": "code",
   "execution_count": 332,
   "metadata": {},
   "outputs": [
    {
     "data": {
      "text/plain": [
       "45    861\n",
       "60    532\n",
       "30    200\n",
       "90    156\n",
       "Name: days_exposition, dtype: int64"
      ]
     },
     "execution_count": 332,
     "metadata": {},
     "output_type": "execute_result"
    }
   ],
   "source": [
    "good_exposition_data.value_counts().head(4)"
   ]
  },
  {
   "cell_type": "markdown",
   "metadata": {},
   "source": [
    "###### Значения 45, 60, 30, 90 - самые популярные и явно отличаются от других в большую сторону"
   ]
  },
  {
   "cell_type": "code",
   "execution_count": 333,
   "metadata": {},
   "outputs": [
    {
     "name": "stdout",
     "output_type": "stream",
     "text": [
      "Мединное значение времени продажи - порядка 90.0 дней\n"
     ]
    }
   ],
   "source": [
    "print(f\"Мединное значение времени продажи - порядка {good_exposition_data.median()} дней\")"
   ]
  },
  {
   "cell_type": "markdown",
   "metadata": {},
   "source": [
    "### Посмотрим, как стоимость Квартиры зависит от площади , числа комнат , удалённости от центра"
   ]
  },
  {
   "cell_type": "code",
   "execution_count": 334,
   "metadata": {},
   "outputs": [
    {
     "data": {
      "image/png": "[encoded data removed]",
      "text/plain": [
       "<Figure size 1440x288 with 3 Axes>"
      ]
     },
     "metadata": {
      "needs_background": "light"
     },
     "output_type": "display_data"
    }
   ],
   "source": [
    "fig, (ax1, ax2, ax3) = plt.subplots(1, 3, figsize=(20,4))\n",
    "\n",
    "ax1.scatter(data['last_price'], data['total_area'], c='pink', alpha=0.05)\n",
    "ax1.set_xlim([0,20000000])\n",
    "ax1.set_ylim([0,250])\n",
    "ax1.set_ylabel('total_area', fontsize=14)\n",
    "ax1.set_xlabel('price', fontsize=14)\n",
    "\n",
    "rooms_price = data[['rooms', 'last_price']].groupby(['rooms']).median()\n",
    "ax2.barh( rooms_price.index, rooms_price['last_price'])\n",
    "ax2.set_ylabel('rooms', fontsize=14)\n",
    "ax2.set_xlabel('price', fontsize=14)\n",
    "y_pos = np.arange(0,8)\n",
    "ax2.set_yticks(y_pos)\n",
    "ax2.set_yticklabels([str(i) for i in range(0,8)])\n",
    "\n",
    "ax3.scatter(data['last_price'], data['cityCenters_nearest'], c='violet', alpha=0.05)\n",
    "ax3.set_xlim([0,20000000])\n",
    "ax3.set_ylabel('Distance to center', fontsize=14)\n",
    "ax3.set_xlabel('price', fontsize=14)\n",
    "\n",
    "plt.show()"
   ]
  },
  {
   "cell_type": "code",
   "execution_count": 335,
   "metadata": {},
   "outputs": [
    {
     "data": {
      "text/html": [
       "<div>\n",
       "<style scoped>\n",
       "    .dataframe tbody tr th:only-of-type {\n",
       "        vertical-align: middle;\n",
       "    }\n",
       "\n",
       "    .dataframe tbody tr th {\n",
       "        vertical-align: top;\n",
       "    }\n",
       "\n",
       "    .dataframe thead th {\n",
       "        text-align: right;\n",
       "    }\n",
       "</style>\n",
       "<table border=\"1\" class=\"dataframe\">\n",
       "  <thead>\n",
       "    <tr style=\"text-align: right;\">\n",
       "      <th></th>\n",
       "      <th>last_price</th>\n",
       "      <th>total_area</th>\n",
       "      <th>cityCenters_nearest</th>\n",
       "      <th>rooms</th>\n",
       "    </tr>\n",
       "  </thead>\n",
       "  <tbody>\n",
       "    <tr>\n",
       "      <td>last_price</td>\n",
       "      <td>1.000000</td>\n",
       "      <td>0.735474</td>\n",
       "      <td>-0.346756</td>\n",
       "      <td>0.439876</td>\n",
       "    </tr>\n",
       "    <tr>\n",
       "      <td>total_area</td>\n",
       "      <td>0.735474</td>\n",
       "      <td>1.000000</td>\n",
       "      <td>-0.171292</td>\n",
       "      <td>0.793398</td>\n",
       "    </tr>\n",
       "    <tr>\n",
       "      <td>cityCenters_nearest</td>\n",
       "      <td>-0.346756</td>\n",
       "      <td>-0.171292</td>\n",
       "      <td>1.000000</td>\n",
       "      <td>-0.103201</td>\n",
       "    </tr>\n",
       "    <tr>\n",
       "      <td>rooms</td>\n",
       "      <td>0.439876</td>\n",
       "      <td>0.793398</td>\n",
       "      <td>-0.103201</td>\n",
       "      <td>1.000000</td>\n",
       "    </tr>\n",
       "  </tbody>\n",
       "</table>\n",
       "</div>"
      ],
      "text/plain": [
       "                     last_price  total_area  cityCenters_nearest     rooms\n",
       "last_price             1.000000    0.735474            -0.346756  0.439876\n",
       "total_area             0.735474    1.000000            -0.171292  0.793398\n",
       "cityCenters_nearest   -0.346756   -0.171292             1.000000 -0.103201\n",
       "rooms                  0.439876    0.793398            -0.103201  1.000000"
      ]
     },
     "execution_count": 335,
     "metadata": {},
     "output_type": "execute_result"
    }
   ],
   "source": [
    "data[['last_price','total_area','cityCenters_nearest','rooms']].corr()"
   ]
  },
  {
   "cell_type": "markdown",
   "metadata": {},
   "source": [
    "###### На графике зависимости стоимости квартиры от общей площади явно видна положительная корреляция.\n",
    "###### На столбчатой диаграмме также заметна увеличивающаяся стоимость квартиры с увеличением числа комнат.\n",
    "###### На графике зависимости стоимости квартиры от расстояния до центра города также видна зависимость, предположительно - гиперболическая. Чем дальше квартира - тем дешевле она стоит"
   ]
  },
  {
   "cell_type": "markdown",
   "metadata": {},
   "source": [
    "### Рассмотрим как зависит стоимость квартиры от этажа"
   ]
  },
  {
   "cell_type": "code",
   "execution_count": 336,
   "metadata": {},
   "outputs": [],
   "source": [
    "floor_price = data[['floor_category', 'last_price']].groupby(['floor_category']).median().sort_values('last_price')"
   ]
  },
  {
   "cell_type": "code",
   "execution_count": 337,
   "metadata": {},
   "outputs": [
    {
     "data": {
      "image/png": "[encoded data removed]",
      "text/plain": [
       "<Figure size 720x360 with 1 Axes>"
      ]
     },
     "metadata": {
      "needs_background": "light"
     },
     "output_type": "display_data"
    }
   ],
   "source": [
    "plt.figure(figsize=(10,5))\n",
    "plt.barh( floor_price.index, floor_price['last_price'])\n",
    "plt.title(\"Этаж\")\n",
    "plt.xlabel(\"Стоимость\")\n",
    "plt.show()"
   ]
  },
  {
   "cell_type": "markdown",
   "metadata": {},
   "source": [
    "###### Как мы видим, квартиры на 1 этаже стоят гораздо дешевле других. На последнем ненамного дороже, тех кто на первом."
   ]
  },
  {
   "cell_type": "markdown",
   "metadata": {},
   "source": [
    "### Рассмотрим как зависит стоимость квартиры от даты размещения: дня недели, месяца и года."
   ]
  },
  {
   "cell_type": "code",
   "execution_count": 338,
   "metadata": {},
   "outputs": [],
   "source": [
    "year_price = data[['year', 'last_price']].groupby(['year']).median().sort_values('last_price')"
   ]
  },
  {
   "cell_type": "code",
   "execution_count": 339,
   "metadata": {},
   "outputs": [
    {
     "data": {
      "image/png": "[encoded data removed]",
      "text/plain": [
       "<Figure size 864x360 with 1 Axes>"
      ]
     },
     "metadata": {
      "needs_background": "light"
     },
     "output_type": "display_data"
    }
   ],
   "source": [
    "plt.figure(figsize=(12,5))\n",
    "plt.bar( year_price.index, year_price['last_price'])\n",
    "plt.title(\"Стоимость квартиры по годам\", fontsize=16)\n",
    "plt.ylabel(\"Стоимость\", fontsize=12)\n",
    "plt.ylim(4000000, 7000000)\n",
    "plt.show()"
   ]
  },
  {
   "cell_type": "markdown",
   "metadata": {},
   "source": [
    "###### Как мы видим по графику, в 2014 году квартиры были самыми дорогими, дальше рынок снижался и постепенный рост стал наблюдаться к 2018-2019 году."
   ]
  },
  {
   "cell_type": "code",
   "execution_count": 340,
   "metadata": {},
   "outputs": [],
   "source": [
    "month_price = data[['month', 'last_price']].groupby(['month']).median().sort_index()\n",
    "month_price.index = ['январь', 'февраль', 'март', \"апрель\", \"май\", \"июнь\", \"июль\", \"август\", \"сентябрь\", \"октябрь\", \"ноябрь\", \"декабрь\"]"
   ]
  },
  {
   "cell_type": "markdown",
   "metadata": {},
   "source": [
    "###### Месяц"
   ]
  },
  {
   "cell_type": "code",
   "execution_count": 341,
   "metadata": {
    "scrolled": true
   },
   "outputs": [
    {
     "data": {
      "image/png": "[encoded data removed]",
      "text/plain": [
       "<Figure size 864x360 with 1 Axes>"
      ]
     },
     "metadata": {
      "needs_background": "light"
     },
     "output_type": "display_data"
    }
   ],
   "source": [
    "plt.figure(figsize=(12,5))\n",
    "plt.plot( month_price.index, month_price['last_price'])\n",
    "plt.title(\"Стоимость квартиры в зависимости от месяца\")\n",
    "plt.ylabel(\"Стоимость\", fontsize=12)\n",
    "plt.show()"
   ]
  },
  {
   "cell_type": "markdown",
   "metadata": {},
   "source": [
    "###### Как мы видим, в июне квартиры продаются дешевле остальных. В апреле наблюдается максимальный рост по цене"
   ]
  },
  {
   "cell_type": "markdown",
   "metadata": {},
   "source": [
    "###### День"
   ]
  },
  {
   "cell_type": "code",
   "execution_count": 342,
   "metadata": {},
   "outputs": [],
   "source": [
    "day_price = data[['weekday', 'last_price']].groupby(['weekday']).median().sort_index()\n",
    "day_price.index = ['понедельник', 'вторник', 'среда', \"четверг\", \"пятница\", \"суббота\", \"воскресенье\"]"
   ]
  },
  {
   "cell_type": "code",
   "execution_count": 343,
   "metadata": {},
   "outputs": [
    {
     "data": {
      "image/png": "[encoded data removed]",
      "text/plain": [
       "<Figure size 864x360 with 1 Axes>"
      ]
     },
     "metadata": {
      "needs_background": "light"
     },
     "output_type": "display_data"
    }
   ],
   "source": [
    "plt.figure(figsize=(12,5))\n",
    "plt.plot( day_price.index, day_price['last_price'])\n",
    "plt.ylabel(\"Стоимость\", fontsize=12)\n",
    "plt.title(\"Стоимость квартиры в зависимости от дня недели\")\n",
    "plt.show()"
   ]
  },
  {
   "cell_type": "markdown",
   "metadata": {},
   "source": [
    "###### График показывает, что на вторник присутствует пик по цене. В выходные обычно продаются дешевле"
   ]
  },
  {
   "cell_type": "markdown",
   "metadata": {},
   "source": [
    "### 10 населенных пунктов с самой высокой стоимостью кв. метра"
   ]
  },
  {
   "cell_type": "code",
   "execution_count": 344,
   "metadata": {},
   "outputs": [],
   "source": [
    "top_locals = data.groupby('locality_name')['locality_name'].count().sort_values(ascending=False).head(10).index.values.tolist()"
   ]
  },
  {
   "cell_type": "code",
   "execution_count": 345,
   "metadata": {},
   "outputs": [],
   "source": [
    "data_filtered = data.query('locality_name in @top_locals')"
   ]
  },
  {
   "cell_type": "code",
   "execution_count": 346,
   "metadata": {},
   "outputs": [
    {
     "data": {
      "text/plain": [
       "locality_name\n",
       "Санкт-Петербург      108645.684395\n",
       "Пушкин               101913.956187\n",
       "деревня Кудрово       92312.310411\n",
       "посёлок Парголово     90348.996281\n",
       "посёлок Мурино        85563.326907\n",
       "посёлок Шушары        78643.827638\n",
       "Колпино               75370.025473\n",
       "Гатчина               68974.051834\n",
       "Всеволожск            67173.646003\n",
       "Выборг                58336.368985\n",
       "Name: price_for_square_meter, dtype: float64"
      ]
     },
     "execution_count": 346,
     "metadata": {},
     "output_type": "execute_result"
    }
   ],
   "source": [
    "data_filtered.groupby('locality_name')['price_for_square_meter'].mean().sort_values(ascending=False)"
   ]
  },
  {
   "cell_type": "markdown",
   "metadata": {},
   "source": [
    "###### Самые дорогие квартиры расположены, в Санкт-Петербурге\n",
    "###### В Гатчине и Всеволжске квартиры стоят одинаково\n",
    "###### В Выборге квартиры стоят дешевле всего."
   ]
  },
  {
   "cell_type": "markdown",
   "metadata": {},
   "source": [
    "### Стоимость квартир в центре"
   ]
  },
  {
   "cell_type": "code",
   "execution_count": 347,
   "metadata": {},
   "outputs": [
    {
     "data": {
      "image/png": "[encoded data removed]",
      "text/plain": [
       "<Figure size 864x360 with 1 Axes>"
      ]
     },
     "metadata": {
      "needs_background": "light"
     },
     "output_type": "display_data"
    }
   ],
   "source": [
    "data['kilometres_to_cityCenters'] =( data['cityCenters_nearest']/1000 ).round()\n",
    "plt.figure(figsize=(12,5))\n",
    "data.groupby('kilometres_to_cityCenters')['last_price'].mean().plot()\n",
    "plt.plot([9,9],[1000000,30000000],color='ghostwhite')\n",
    "plt.xlim(0,20)\n",
    "plt.title(\"Стоимость квартиры в зависимости от расстояния до центра\")\n",
    "plt.ylabel(\"Стоимость\")\n",
    "plt.show()"
   ]
  },
  {
   "cell_type": "markdown",
   "metadata": {},
   "source": [
    "###### Видим, что цена начинает увеличиваться после 3 км, это объсняется, тем что затрагиваются дорогие районы с красивым видом, но это не будет являться центром города. До 3 км будет считать границей центра города"
   ]
  },
  {
   "cell_type": "markdown",
   "metadata": {},
   "source": [
    "### Анализ квартир в центре"
   ]
  },
  {
   "cell_type": "code",
   "execution_count": 348,
   "metadata": {},
   "outputs": [],
   "source": [
    "data_flats_in_center = data.query('kilometres_to_cityCenters <= 3 and locality_name == \"Санкт-Петербург\"')"
   ]
  },
  {
   "cell_type": "code",
   "execution_count": 349,
   "metadata": {},
   "outputs": [
    {
     "data": {
      "image/png": "[encoded data removed]",
      "text/plain": [
       "<Figure size 576x432 with 1 Axes>"
      ]
     },
     "metadata": {
      "needs_background": "light"
     },
     "output_type": "display_data"
    },
    {
     "data": {
      "image/png": "[encoded data removed]",
      "text/plain": [
       "<Figure size 576x432 with 1 Axes>"
      ]
     },
     "metadata": {
      "needs_background": "light"
     },
     "output_type": "display_data"
    },
    {
     "data": {
      "image/png": "[encoded data removed]",
      "text/plain": [
       "<Figure size 576x432 with 1 Axes>"
      ]
     },
     "metadata": {
      "needs_background": "light"
     },
     "output_type": "display_data"
    },
    {
     "data": {
      "image/png": "[encoded data removed]",
      "text/plain": [
       "<Figure size 576x432 with 1 Axes>"
      ]
     },
     "metadata": {
      "needs_background": "light"
     },
     "output_type": "display_data"
    }
   ],
   "source": [
    "data_flats_in_center.plot(y='total_area', kind='hist', density=True, bins=50, xlim=(0,500), figsize=(8,6), title='Общая площадь')\n",
    "data_flats_in_center.plot(y='last_price', kind='hist', density=True, bins=200, xlim=(12190,40000000.0), figsize=(8,6), title='Стоимость')\n",
    "data_flats_in_center.plot(y='rooms', kind='hist', bins=10, range=(0, 10), figsize=(8,6), title='Число комнат')\n",
    "data_flats_in_center.plot(y='ceiling_height', kind='hist', bins=50, range=(2.5, 5), density=True, figsize=(8,6), title='Высота потолков')\n",
    "plt.show()"
   ]
  },
  {
   "cell_type": "code",
   "execution_count": 350,
   "metadata": {},
   "outputs": [
    {
     "name": "stdout",
     "output_type": "stream",
     "text": [
      "Медианное значение площади 73.0\n"
     ]
    }
   ],
   "source": [
    "print(\"Медианное значение площади\", data_flats_in_center['total_area'].median())"
   ]
  },
  {
   "cell_type": "code",
   "execution_count": 351,
   "metadata": {},
   "outputs": [
    {
     "name": "stdout",
     "output_type": "stream",
     "text": [
      "Медианное значение цены 8250000.0\n"
     ]
    }
   ],
   "source": [
    "print(\"Медианное значение цены\", data_flats_in_center['last_price'].median())"
   ]
  },
  {
   "cell_type": "code",
   "execution_count": 352,
   "metadata": {
    "scrolled": true
   },
   "outputs": [
    {
     "name": "stdout",
     "output_type": "stream",
     "text": [
      "Медианное значение высоты потолков 3.04\n"
     ]
    }
   ],
   "source": [
    "print(\"Медианное значение высоты потолков\", data_flats_in_center.ceiling_height.median())"
   ]
  },
  {
   "cell_type": "markdown",
   "metadata": {},
   "source": [
    "###### В квартирах центре наблюдается большая площадь в размере 73 квадратов\n",
    "###### Квартиры в центре города более дорогие, чем обычно. Медианная цена состовляет 8 млн, хотя для остальных это 4.5 млн. Цена завышена почти в 2 раза.\n",
    "###### В квартирах в центре города наблюдаются высокие потолки 3 метра"
   ]
  },
  {
   "cell_type": "markdown",
   "metadata": {},
   "source": [
    "### Выясним какие факторы влияют на стоимость квартиры в центре (число комнат, этаж, удалённость от центра, дата размещения объявления) и сравним с выводом по всем квартирам"
   ]
  },
  {
   "cell_type": "markdown",
   "metadata": {},
   "source": [
    "###### Число комнат"
   ]
  },
  {
   "cell_type": "code",
   "execution_count": 353,
   "metadata": {},
   "outputs": [
    {
     "data": {
      "image/png": "[encoded data removed]",
      "text/plain": [
       "<Figure size 432x288 with 1 Axes>"
      ]
     },
     "metadata": {
      "needs_background": "light"
     },
     "output_type": "display_data"
    }
   ],
   "source": [
    "rooms_price_center = data_flats_in_center[['rooms', 'last_price']].groupby(['rooms']).median()\n",
    "ax = sns.barplot(x=rooms_price_center.index, y=rooms_price_center['last_price'] , color='green' )\n",
    "# put bars in background:\n",
    "for c in ax.patches:\n",
    "    c.set_zorder(0)\n",
    "# plot regplot with numbers 0,..,len(a) as x value\n",
    "sns.regplot(x=np.arange(0,len(rooms_price_center)), y=rooms_price_center['last_price'], ax=ax)\n",
    "sns.despine(offset=10, trim=True)\n",
    "ax.set_ylabel(\"Стоимость\")\n",
    "plt.show()"
   ]
  },
  {
   "cell_type": "markdown",
   "metadata": {},
   "source": [
    "###### Стоимость квартир увеличивается в зависимости от комнат."
   ]
  },
  {
   "cell_type": "markdown",
   "metadata": {},
   "source": [
    "###### Этаж"
   ]
  },
  {
   "cell_type": "code",
   "execution_count": 354,
   "metadata": {},
   "outputs": [],
   "source": [
    "floor_price_center = data_flats_in_center[['floor_category', 'last_price']].groupby('floor_category').median().sort_values('last_price')"
   ]
  },
  {
   "cell_type": "code",
   "execution_count": 355,
   "metadata": {},
   "outputs": [
    {
     "data": {
      "image/png": "[encoded data removed]",
      "text/plain": [
       "<Figure size 720x360 with 1 Axes>"
      ]
     },
     "metadata": {
      "needs_background": "light"
     },
     "output_type": "display_data"
    }
   ],
   "source": [
    "plt.figure(figsize=(10,5))\n",
    "plt.barh( floor_price.index, floor_price['last_price'])\n",
    "plt.title(\"Этаж\")\n",
    "plt.xlabel(\"Стоимость\")\n",
    "plt.show()"
   ]
  },
  {
   "cell_type": "markdown",
   "metadata": {},
   "source": [
    "###### Квартиры на первом этаже в центре стоят, так же дешевле, как и во всем датасете"
   ]
  },
  {
   "cell_type": "markdown",
   "metadata": {},
   "source": [
    "###### Удаленность"
   ]
  },
  {
   "cell_type": "code",
   "execution_count": 356,
   "metadata": {},
   "outputs": [
    {
     "data": {
      "image/png": "[encoded data removed]",
      "text/plain": [
       "<Figure size 432x288 with 1 Axes>"
      ]
     },
     "metadata": {
      "needs_background": "light"
     },
     "output_type": "display_data"
    }
   ],
   "source": [
    "plt.scatter(data_flats_in_center['last_price'], data_flats_in_center['cityCenters_nearest'], c='b', alpha=0.05)\n",
    "plt.xlim([0,20000000])\n",
    "plt.xlabel('price', fontsize=14)\n",
    "plt.ylabel('Distance to center', fontsize=14)\n",
    "plt.show()"
   ]
  },
  {
   "cell_type": "code",
   "execution_count": 357,
   "metadata": {},
   "outputs": [
    {
     "data": {
      "text/html": [
       "<div>\n",
       "<style scoped>\n",
       "    .dataframe tbody tr th:only-of-type {\n",
       "        vertical-align: middle;\n",
       "    }\n",
       "\n",
       "    .dataframe tbody tr th {\n",
       "        vertical-align: top;\n",
       "    }\n",
       "\n",
       "    .dataframe thead th {\n",
       "        text-align: right;\n",
       "    }\n",
       "</style>\n",
       "<table border=\"1\" class=\"dataframe\">\n",
       "  <thead>\n",
       "    <tr style=\"text-align: right;\">\n",
       "      <th></th>\n",
       "      <th>last_price</th>\n",
       "      <th>cityCenters_nearest</th>\n",
       "    </tr>\n",
       "  </thead>\n",
       "  <tbody>\n",
       "    <tr>\n",
       "      <td>last_price</td>\n",
       "      <td>1.000000</td>\n",
       "      <td>-0.175769</td>\n",
       "    </tr>\n",
       "    <tr>\n",
       "      <td>cityCenters_nearest</td>\n",
       "      <td>-0.175769</td>\n",
       "      <td>1.000000</td>\n",
       "    </tr>\n",
       "  </tbody>\n",
       "</table>\n",
       "</div>"
      ],
      "text/plain": [
       "                     last_price  cityCenters_nearest\n",
       "last_price             1.000000            -0.175769\n",
       "cityCenters_nearest   -0.175769             1.000000"
      ]
     },
     "execution_count": 357,
     "metadata": {},
     "output_type": "execute_result"
    }
   ],
   "source": [
    "data_flats_in_center[['last_price','cityCenters_nearest']].corr()"
   ]
  },
  {
   "cell_type": "markdown",
   "metadata": {},
   "source": [
    "###### Зависимости не наблюдается, квартиры в центре могут стоить по разному"
   ]
  },
  {
   "cell_type": "markdown",
   "metadata": {},
   "source": [
    "### Рассмотрим зависимость от даты"
   ]
  },
  {
   "cell_type": "markdown",
   "metadata": {},
   "source": [
    "###### Год"
   ]
  },
  {
   "cell_type": "code",
   "execution_count": 358,
   "metadata": {},
   "outputs": [],
   "source": [
    "year_price_center = data_flats_in_center[['year', 'last_price']].groupby(['year']).median().sort_index()"
   ]
  },
  {
   "cell_type": "code",
   "execution_count": 359,
   "metadata": {},
   "outputs": [
    {
     "data": {
      "image/png": "[encoded data removed]",
      "text/plain": [
       "<Figure size 864x360 with 1 Axes>"
      ]
     },
     "metadata": {
      "needs_background": "light"
     },
     "output_type": "display_data"
    }
   ],
   "source": [
    "plt.figure(figsize=(12,5))\n",
    "plt.bar( year_price_center.index, year_price_center['last_price'], color='gray' )\n",
    "plt.title(\"Стоимость квартиры по годам\", fontsize=16)\n",
    "plt.ylabel(\"Стоимость\", fontsize=12)\n",
    "plt.ylim(7000000,9000000)\n",
    "plt.show()"
   ]
  },
  {
   "cell_type": "markdown",
   "metadata": {},
   "source": [
    "###### Диаграмма такая же, как и для всей выборки. С 2014 года произошло падение и с 2017 начинало расти"
   ]
  },
  {
   "cell_type": "markdown",
   "metadata": {},
   "source": [
    "###### месяц"
   ]
  },
  {
   "cell_type": "code",
   "execution_count": 360,
   "metadata": {},
   "outputs": [],
   "source": [
    "month_price_center = data_flats_in_center[['month', 'last_price']].groupby(['month']).median().sort_index()\n",
    "month_price_center.index = ['январь', 'февраль', 'март', \"апрель\", \"май\", \"июнь\", \"июль\", \"август\", \"сентябрь\", \"октябрь\", \"ноябрь\", \"декабрь\"]"
   ]
  },
  {
   "cell_type": "code",
   "execution_count": 361,
   "metadata": {},
   "outputs": [
    {
     "data": {
      "image/png": "[encoded data removed]",
      "text/plain": [
       "<Figure size 864x360 with 1 Axes>"
      ]
     },
     "metadata": {
      "needs_background": "light"
     },
     "output_type": "display_data"
    }
   ],
   "source": [
    "plt.figure(figsize=(12,5))\n",
    "plt.plot( month_price_center.index, month_price_center['last_price'])\n",
    "plt.title(\"Стоимость квартиры в зависимости от месяца\")\n",
    "plt.ylabel(\"Стоимость\", fontsize=12)\n",
    "plt.show()"
   ]
  },
  {
   "cell_type": "markdown",
   "metadata": {},
   "source": [
    "###### По графику видно, что квартиры в центре Санкт-петербурга в сентябре дороже всего. Возмодно связано, с началом учебного/рабочего времени.\n",
    "###### В декабре наоборот, квартиры дешевле пошлых месяцев."
   ]
  },
  {
   "cell_type": "code",
   "execution_count": 362,
   "metadata": {},
   "outputs": [],
   "source": [
    "day_price_center = data_flats_in_center[['weekday', 'last_price']].groupby(['weekday']).median().sort_index()\n",
    "day_price_center.index = ['понедельник', 'вторник', 'среда', \"четверг\", \"пятница\", \"суббота\", \"воскресенье\"]"
   ]
  },
  {
   "cell_type": "code",
   "execution_count": 363,
   "metadata": {},
   "outputs": [
    {
     "data": {
      "image/png": "[encoded data removed]",
      "text/plain": [
       "<Figure size 864x360 with 1 Axes>"
      ]
     },
     "metadata": {
      "needs_background": "light"
     },
     "output_type": "display_data"
    }
   ],
   "source": [
    "plt.figure(figsize=(12,5))\n",
    "plt.plot( day_price_center.index, day_price_center['last_price'])\n",
    "plt.ylabel(\"Стоимость\", fontsize=12)\n",
    "plt.title(\"Стоимость квартиры в зависимости от дня недели\")\n",
    "plt.show()"
   ]
  },
  {
   "cell_type": "markdown",
   "metadata": {},
   "source": [
    "###### Зависимость квартир по дням так же различается, дешевле всего квартиры выставляются в четверг. Дороже всего в воскресенье"
   ]
  },
  {
   "cell_type": "markdown",
   "metadata": {},
   "source": [
    "## Общий вывод"
   ]
  },
  {
   "cell_type": "markdown",
   "metadata": {},
   "source": [
    "###### 1) На первом шаге при знакомстве с датасетом были обнаружены множественные пропуски, а также много аномалий, от которых мы в последствии успешно избавились.\n",
    "###### 2. На втором этапе для пропущенных значений этажности и высоты потолков домов были восстановлены значения по доступным данным из датасета. Заполнены другие пропущенные значения. Изменены типы данных, обработаны выбросы и аномальные значения.\n",
    "###### 3. На третьем шаге были посчитаны и добавлены в таблицу:\n",
    "1. Цена квадратного метра;\n",
    "2. День недели, месяц и год публикации объявления;\n",
    "3. Этаж квартиры; варианты — первый, последний, другой;\n",
    "4. Соотношение жилой и общей площади, а также отношение площади кухни к общей.\n",
    "4. На четвертом этапе был произведен исследовательский анализ данных и было выявлено, что:\n",
    "1. В среднем квартира продается около трех месяцев\n",
    "2. Стоимость квартиры прямопропорционально зависит от площади и количества комнат и обратно пропорциональна расстоянию до центра\n",
    "3. На первом этаже квартиры стоят дешевле\n",
    "4. Стоимость квартир с 2014 по 2017 снизилась более чем на 2,5 млн. руб.\n",
    "5. В июне квартиры продаются по самой низкой стоимости, а в апреле по самой высокой\n",
    "6. Квартира выставленная на продажу в воскресенье в среднем продается на 200 тыс. дешевле чем в пик - во вторник\n",
    "7. Самые дорогие квартиры находятся в Санкт-Петербурге и Пушкине, а самые дешевые в Выборге\n",
    "8. Граница центра - 3 километров\n",
    "9. Медианное значение площади квартир в центре 73 кв.м, а по всей выборки 51 кв.м. В центре намного больше квартиры\n",
    "10. Медианное значение цена квартир в центре 8 млн 250 тыс, а по всей выборке 4 млн 600 тыс. Почти в 2 раза дороже квартиры в центре.\n",
    "11. Медианное значение высоты потолков в центре 3 метра, а по всей выборке 2.65. В центре немного повыше потолки, чем по всей выборке.\n",
    "12. Квартиры в центре сильно отличаются в цене, они примерно в два раза дороже. Площадь квартир больше в среднем на 15 кв.м. Чаще встречаются двух- и трехкомнатные квартиры, нежели однокомнатные. Более высокие потолки - 3 метра, для остальных квартир из датасета - 2,65. \n",
    "13. Стоимость квартир в центре также зависит от количества комнат, от этажа (на первом - дешевле), а от удаленности цена квартиры не зависит, в отличие от квартир из всей выборки.\n",
    "14. Стоимость квартир в центре Санкт-Петербурга также упала с 2014 года.\n",
    "15. По самой дешевой цене квартиры продаются в декабре, по самой дорогой - в сентябре\n",
    "16. Квартиры, размещаемые на продажу по четвергам продаются дешевле, чем в остальные дни. Пик стоимости приходится на воскресенье"
   ]
  }
 ],
 "metadata": {
  "ExecuteTimeLog": [
   {
    "duration": 880,
    "start_time": "2021-12-15T09:51:05.124Z"
   },
   {
    "duration": 62,
    "start_time": "2021-12-15T09:51:19.500Z"
   },
   {
    "duration": 74,
    "start_time": "2021-12-15T09:51:54.030Z"
   },
   {
    "duration": 95,
    "start_time": "2021-12-15T09:52:22.678Z"
   },
   {
    "duration": 252,
    "start_time": "2021-12-15T10:32:25.453Z"
   },
   {
    "duration": 252,
    "start_time": "2021-12-15T10:32:32.141Z"
   },
   {
    "duration": 96,
    "start_time": "2021-12-15T10:32:44.579Z"
   },
   {
    "duration": 243,
    "start_time": "2021-12-15T10:32:44.677Z"
   },
   {
    "duration": 4,
    "start_time": "2021-12-15T10:33:05.233Z"
   },
   {
    "duration": 6,
    "start_time": "2021-12-15T10:36:52.200Z"
   },
   {
    "duration": 8,
    "start_time": "2021-12-15T10:39:10.638Z"
   },
   {
    "duration": 24,
    "start_time": "2021-12-15T10:41:12.067Z"
   },
   {
    "duration": 20,
    "start_time": "2021-12-15T10:48:42.078Z"
   },
   {
    "duration": 314,
    "start_time": "2021-12-15T10:51:36.198Z"
   },
   {
    "duration": 79,
    "start_time": "2021-12-15T10:52:37.106Z"
   },
   {
    "duration": 20,
    "start_time": "2021-12-15T10:52:45.496Z"
   },
   {
    "duration": 93,
    "start_time": "2021-12-15T10:53:00.397Z"
   },
   {
    "duration": 19,
    "start_time": "2021-12-15T10:53:00.491Z"
   },
   {
    "duration": 40,
    "start_time": "2021-12-15T10:53:33.395Z"
   },
   {
    "duration": 27,
    "start_time": "2021-12-15T10:53:37.515Z"
   },
   {
    "duration": 19,
    "start_time": "2021-12-15T11:00:16.821Z"
   },
   {
    "duration": 32,
    "start_time": "2021-12-15T11:06:02.921Z"
   },
   {
    "duration": 47,
    "start_time": "2021-12-15T11:06:26.242Z"
   },
   {
    "duration": 331,
    "start_time": "2021-12-15T11:08:33.107Z"
   },
   {
    "duration": 28,
    "start_time": "2021-12-15T11:09:27.957Z"
   },
   {
    "duration": 80,
    "start_time": "2021-12-15T11:11:44.206Z"
   },
   {
    "duration": 44,
    "start_time": "2021-12-15T11:11:55.105Z"
   },
   {
    "duration": 46,
    "start_time": "2021-12-15T11:13:23.606Z"
   },
   {
    "duration": 86,
    "start_time": "2021-12-15T11:14:44.344Z"
   },
   {
    "duration": 26,
    "start_time": "2021-12-15T11:14:52.704Z"
   },
   {
    "duration": 25,
    "start_time": "2021-12-15T11:15:33.653Z"
   },
   {
    "duration": 98,
    "start_time": "2021-12-15T11:15:42.174Z"
   },
   {
    "duration": 34,
    "start_time": "2021-12-15T11:15:42.273Z"
   },
   {
    "duration": 297,
    "start_time": "2021-12-15T11:18:04.850Z"
   },
   {
    "duration": 227,
    "start_time": "2021-12-15T11:22:51.668Z"
   },
   {
    "duration": 228,
    "start_time": "2021-12-15T11:23:43.178Z"
   },
   {
    "duration": 269,
    "start_time": "2021-12-15T11:24:06.767Z"
   },
   {
    "duration": 214,
    "start_time": "2021-12-15T11:24:14.846Z"
   },
   {
    "duration": 251,
    "start_time": "2021-12-15T11:24:20.905Z"
   },
   {
    "duration": 341,
    "start_time": "2021-12-15T11:24:29.456Z"
   },
   {
    "duration": 248,
    "start_time": "2021-12-15T11:24:53.827Z"
   },
   {
    "duration": 285,
    "start_time": "2021-12-15T11:25:28.567Z"
   },
   {
    "duration": 216,
    "start_time": "2021-12-15T11:26:22.576Z"
   },
   {
    "duration": 487,
    "start_time": "2021-12-15T11:26:32.715Z"
   },
   {
    "duration": 219,
    "start_time": "2021-12-15T11:27:11.644Z"
   },
   {
    "duration": 246,
    "start_time": "2021-12-15T11:27:19.785Z"
   },
   {
    "duration": 223,
    "start_time": "2021-12-15T11:27:37.344Z"
   },
   {
    "duration": 310,
    "start_time": "2021-12-15T11:27:48.353Z"
   },
   {
    "duration": 295,
    "start_time": "2021-12-15T11:28:13.383Z"
   },
   {
    "duration": 221,
    "start_time": "2021-12-15T11:34:36.250Z"
   },
   {
    "duration": 285,
    "start_time": "2021-12-15T11:40:27.302Z"
   },
   {
    "duration": 254,
    "start_time": "2021-12-15T12:03:14.386Z"
   },
   {
    "duration": 221,
    "start_time": "2021-12-15T12:03:40.404Z"
   },
   {
    "duration": 243,
    "start_time": "2021-12-15T12:04:40.992Z"
   },
   {
    "duration": 242,
    "start_time": "2021-12-15T12:04:52.573Z"
   },
   {
    "duration": 227,
    "start_time": "2021-12-15T12:10:45.749Z"
   },
   {
    "duration": 254,
    "start_time": "2021-12-15T12:14:02.022Z"
   },
   {
    "duration": 233,
    "start_time": "2021-12-15T12:14:11.255Z"
   },
   {
    "duration": 343,
    "start_time": "2021-12-15T12:15:45.243Z"
   },
   {
    "duration": 34,
    "start_time": "2021-12-15T12:17:05.753Z"
   },
   {
    "duration": -139,
    "start_time": "2021-12-15T12:47:31.148Z"
   },
   {
    "duration": -146,
    "start_time": "2021-12-15T12:47:31.156Z"
   },
   {
    "duration": -147,
    "start_time": "2021-12-15T12:47:31.158Z"
   },
   {
    "duration": 6339,
    "start_time": "2021-12-15T12:48:12.766Z"
   },
   {
    "duration": 93,
    "start_time": "2021-12-15T12:48:53.345Z"
   },
   {
    "duration": 52,
    "start_time": "2021-12-15T12:48:53.440Z"
   },
   {
    "duration": 11,
    "start_time": "2021-12-15T12:48:53.494Z"
   },
   {
    "duration": 7,
    "start_time": "2021-12-15T12:49:26.166Z"
   },
   {
    "duration": 5,
    "start_time": "2021-12-15T12:50:14.504Z"
   },
   {
    "duration": 11,
    "start_time": "2021-12-15T12:51:10.954Z"
   },
   {
    "duration": 7,
    "start_time": "2021-12-15T12:51:50.864Z"
   },
   {
    "duration": 9,
    "start_time": "2021-12-15T12:52:03.034Z"
   },
   {
    "duration": 8,
    "start_time": "2021-12-15T12:52:16.152Z"
   },
   {
    "duration": 9,
    "start_time": "2021-12-15T12:57:59.556Z"
   },
   {
    "duration": 92,
    "start_time": "2021-12-15T12:58:04.472Z"
   },
   {
    "duration": 46,
    "start_time": "2021-12-15T12:58:04.566Z"
   },
   {
    "duration": 9,
    "start_time": "2021-12-15T12:58:04.614Z"
   },
   {
    "duration": 30,
    "start_time": "2021-12-15T12:58:20.377Z"
   },
   {
    "duration": 26,
    "start_time": "2021-12-15T13:00:53.474Z"
   },
   {
    "duration": 32,
    "start_time": "2021-12-15T13:00:59.216Z"
   },
   {
    "duration": 32,
    "start_time": "2021-12-15T13:01:48.323Z"
   },
   {
    "duration": 34,
    "start_time": "2021-12-15T13:04:35.510Z"
   },
   {
    "duration": 3337,
    "start_time": "2021-12-15T13:26:08.304Z"
   },
   {
    "duration": 97,
    "start_time": "2021-12-15T13:26:11.996Z"
   },
   {
    "duration": 45,
    "start_time": "2021-12-15T13:26:12.095Z"
   },
   {
    "duration": 3466,
    "start_time": "2021-12-15T13:26:12.142Z"
   },
   {
    "duration": 94,
    "start_time": "2021-12-15T13:26:48.950Z"
   },
   {
    "duration": 53,
    "start_time": "2021-12-15T13:26:49.046Z"
   },
   {
    "duration": 254,
    "start_time": "2021-12-15T13:26:49.101Z"
   },
   {
    "duration": 91,
    "start_time": "2021-12-15T13:27:16.779Z"
   },
   {
    "duration": 45,
    "start_time": "2021-12-15T13:27:16.872Z"
   },
   {
    "duration": 3506,
    "start_time": "2021-12-15T13:27:16.919Z"
   },
   {
    "duration": 92,
    "start_time": "2021-12-15T13:28:21.804Z"
   },
   {
    "duration": 46,
    "start_time": "2021-12-15T13:28:21.899Z"
   },
   {
    "duration": 579,
    "start_time": "2021-12-15T13:28:21.947Z"
   },
   {
    "duration": 488,
    "start_time": "2021-12-15T13:28:51.842Z"
   },
   {
    "duration": 286,
    "start_time": "2021-12-15T13:34:00.957Z"
   },
   {
    "duration": 83,
    "start_time": "2021-12-15T13:34:09.088Z"
   },
   {
    "duration": 476,
    "start_time": "2021-12-15T13:34:35.536Z"
   },
   {
    "duration": 464,
    "start_time": "2021-12-15T13:39:12.141Z"
   },
   {
    "duration": 99,
    "start_time": "2021-12-15T13:39:36.835Z"
   },
   {
    "duration": 57,
    "start_time": "2021-12-15T13:39:36.936Z"
   },
   {
    "duration": 534,
    "start_time": "2021-12-15T13:39:36.995Z"
   },
   {
    "duration": 811,
    "start_time": "2021-12-15T13:39:49.213Z"
   },
   {
    "duration": 510,
    "start_time": "2021-12-15T13:40:29.253Z"
   },
   {
    "duration": 471,
    "start_time": "2021-12-15T13:41:53.811Z"
   },
   {
    "duration": 514,
    "start_time": "2021-12-15T13:42:19.081Z"
   },
   {
    "duration": 569,
    "start_time": "2021-12-15T13:42:25.040Z"
   },
   {
    "duration": 888,
    "start_time": "2021-12-15T21:28:13.809Z"
   },
   {
    "duration": 88,
    "start_time": "2021-12-15T21:28:14.700Z"
   },
   {
    "duration": 880,
    "start_time": "2021-12-15T21:28:14.791Z"
   },
   {
    "duration": 832,
    "start_time": "2021-12-15T23:04:26.575Z"
   },
   {
    "duration": 284,
    "start_time": "2021-12-16T19:17:07.660Z"
   },
   {
    "duration": 847,
    "start_time": "2021-12-16T19:17:12.218Z"
   },
   {
    "duration": 57,
    "start_time": "2021-12-16T19:17:13.068Z"
   },
   {
    "duration": 592,
    "start_time": "2021-12-16T19:17:13.127Z"
   },
   {
    "duration": 57,
    "start_time": "2021-12-16T19:17:13.721Z"
   },
   {
    "duration": 279,
    "start_time": "2021-12-16T19:29:01.912Z"
   },
   {
    "duration": 217,
    "start_time": "2021-12-16T19:30:44.010Z"
   },
   {
    "duration": 250,
    "start_time": "2021-12-16T19:33:39.987Z"
   },
   {
    "duration": 172,
    "start_time": "2021-12-16T19:33:48.835Z"
   },
   {
    "duration": 330,
    "start_time": "2021-12-16T19:34:46.284Z"
   },
   {
    "duration": 353,
    "start_time": "2021-12-16T19:36:34.134Z"
   },
   {
    "duration": 402,
    "start_time": "2021-12-16T19:39:58.581Z"
   },
   {
    "duration": 341,
    "start_time": "2021-12-16T19:48:20.224Z"
   },
   {
    "duration": 725,
    "start_time": "2021-12-16T19:49:48.391Z"
   },
   {
    "duration": 690,
    "start_time": "2021-12-16T19:56:55.596Z"
   },
   {
    "duration": 725,
    "start_time": "2021-12-16T20:02:51.347Z"
   },
   {
    "duration": 991,
    "start_time": "2021-12-16T20:06:53.136Z"
   },
   {
    "duration": 887,
    "start_time": "2021-12-16T20:10:38.964Z"
   },
   {
    "duration": 93,
    "start_time": "2021-12-16T20:17:53.755Z"
   },
   {
    "duration": 42,
    "start_time": "2021-12-16T20:17:53.849Z"
   },
   {
    "duration": 500,
    "start_time": "2021-12-16T20:17:53.894Z"
   },
   {
    "duration": 1424,
    "start_time": "2021-12-16T20:17:54.396Z"
   },
   {
    "duration": 893,
    "start_time": "2021-12-17T13:50:27.664Z"
   },
   {
    "duration": 69,
    "start_time": "2021-12-17T13:50:28.560Z"
   },
   {
    "duration": 978,
    "start_time": "2021-12-17T13:50:28.632Z"
   },
   {
    "duration": 2264,
    "start_time": "2021-12-17T13:50:29.613Z"
   },
   {
    "duration": 2096,
    "start_time": "2021-12-17T13:58:22.763Z"
   },
   {
    "duration": 770,
    "start_time": "2021-12-18T08:13:15.998Z"
   },
   {
    "duration": 106,
    "start_time": "2021-12-18T08:14:52.607Z"
   },
   {
    "duration": 817,
    "start_time": "2021-12-18T08:14:58.336Z"
   },
   {
    "duration": 105,
    "start_time": "2021-12-18T08:14:59.156Z"
   },
   {
    "duration": 58,
    "start_time": "2021-12-18T08:16:40.702Z"
   },
   {
    "duration": 23,
    "start_time": "2021-12-18T08:17:23.956Z"
   },
   {
    "duration": -418,
    "start_time": "2021-12-18T08:25:01.622Z"
   },
   {
    "duration": -423,
    "start_time": "2021-12-18T08:25:01.628Z"
   },
   {
    "duration": -423,
    "start_time": "2021-12-18T08:25:01.629Z"
   },
   {
    "duration": -426,
    "start_time": "2021-12-18T08:25:01.633Z"
   },
   {
    "duration": -427,
    "start_time": "2021-12-18T08:25:01.635Z"
   },
   {
    "duration": 43,
    "start_time": "2021-12-18T08:25:19.178Z"
   },
   {
    "duration": 15,
    "start_time": "2021-12-18T08:25:32.016Z"
   },
   {
    "duration": 303,
    "start_time": "2021-12-18T08:25:36.018Z"
   },
   {
    "duration": 12,
    "start_time": "2021-12-18T08:25:41.739Z"
   },
   {
    "duration": 41,
    "start_time": "2021-12-18T08:27:33.247Z"
   },
   {
    "duration": 7,
    "start_time": "2021-12-18T08:31:44.118Z"
   },
   {
    "duration": 109,
    "start_time": "2021-12-18T08:31:44.437Z"
   },
   {
    "duration": 51,
    "start_time": "2021-12-18T08:31:44.549Z"
   },
   {
    "duration": 44,
    "start_time": "2021-12-18T08:31:44.604Z"
   },
   {
    "duration": 23,
    "start_time": "2021-12-18T08:31:44.651Z"
   },
   {
    "duration": 59,
    "start_time": "2021-12-18T08:31:44.677Z"
   },
   {
    "duration": 306,
    "start_time": "2021-12-18T10:59:14.421Z"
   },
   {
    "duration": 248,
    "start_time": "2021-12-18T10:59:19.005Z"
   },
   {
    "duration": 219,
    "start_time": "2021-12-18T11:00:01.566Z"
   },
   {
    "duration": 40,
    "start_time": "2021-12-18T11:01:54.353Z"
   },
   {
    "duration": 232,
    "start_time": "2021-12-18T11:02:46.693Z"
   },
   {
    "duration": 12,
    "start_time": "2021-12-18T11:08:21.988Z"
   },
   {
    "duration": 304,
    "start_time": "2021-12-18T11:08:56.947Z"
   },
   {
    "duration": 12,
    "start_time": "2021-12-18T11:09:11.567Z"
   },
   {
    "duration": 39,
    "start_time": "2021-12-18T11:11:32.136Z"
   },
   {
    "duration": 208,
    "start_time": "2021-12-18T11:12:07.624Z"
   },
   {
    "duration": 37,
    "start_time": "2021-12-18T11:13:52.054Z"
   },
   {
    "duration": 40,
    "start_time": "2021-12-18T11:13:57.174Z"
   },
   {
    "duration": 37,
    "start_time": "2021-12-18T11:14:06.834Z"
   },
   {
    "duration": 232,
    "start_time": "2021-12-18T11:19:29.789Z"
   },
   {
    "duration": 47,
    "start_time": "2021-12-18T11:19:30.024Z"
   },
   {
    "duration": 542,
    "start_time": "2021-12-18T11:19:38.488Z"
   },
   {
    "duration": -495,
    "start_time": "2021-12-18T11:19:39.528Z"
   },
   {
    "duration": 530,
    "start_time": "2021-12-18T11:19:41.938Z"
   },
   {
    "duration": 1363,
    "start_time": "2021-12-18T11:20:06.249Z"
   },
   {
    "duration": 703,
    "start_time": "2021-12-18T11:20:12.908Z"
   },
   {
    "duration": 46,
    "start_time": "2021-12-18T11:20:25.056Z"
   },
   {
    "duration": 404,
    "start_time": "2021-12-18T11:20:35.526Z"
   },
   {
    "duration": 53,
    "start_time": "2021-12-18T11:21:03.707Z"
   },
   {
    "duration": 45,
    "start_time": "2021-12-18T11:21:31.756Z"
   },
   {
    "duration": 44,
    "start_time": "2021-12-18T11:21:46.757Z"
   },
   {
    "duration": 45,
    "start_time": "2021-12-18T11:21:59.146Z"
   },
   {
    "duration": 321,
    "start_time": "2021-12-18T11:22:04.857Z"
   },
   {
    "duration": 40,
    "start_time": "2021-12-18T11:22:15.116Z"
   },
   {
    "duration": 13,
    "start_time": "2021-12-18T11:22:26.365Z"
   },
   {
    "duration": 491,
    "start_time": "2021-12-18T11:23:06.616Z"
   },
   {
    "duration": 17,
    "start_time": "2021-12-18T11:23:16.025Z"
   },
   {
    "duration": 14,
    "start_time": "2021-12-18T11:31:01.189Z"
   },
   {
    "duration": 4,
    "start_time": "2021-12-18T11:32:20.967Z"
   },
   {
    "duration": 286,
    "start_time": "2021-12-18T11:33:35.547Z"
   },
   {
    "duration": 302,
    "start_time": "2021-12-18T11:34:03.336Z"
   },
   {
    "duration": 238,
    "start_time": "2021-12-18T11:34:24.075Z"
   },
   {
    "duration": 624,
    "start_time": "2021-12-18T11:34:58.805Z"
   },
   {
    "duration": 548,
    "start_time": "2021-12-18T11:35:30.585Z"
   },
   {
    "duration": 224,
    "start_time": "2021-12-18T11:35:36.684Z"
   },
   {
    "duration": 47,
    "start_time": "2021-12-18T11:36:20.975Z"
   },
   {
    "duration": 427,
    "start_time": "2021-12-18T11:36:58.524Z"
   },
   {
    "duration": 350,
    "start_time": "2021-12-18T11:37:02.753Z"
   },
   {
    "duration": 5,
    "start_time": "2021-12-18T11:37:45.831Z"
   },
   {
    "duration": 100,
    "start_time": "2021-12-18T11:37:45.839Z"
   },
   {
    "duration": 40,
    "start_time": "2021-12-18T11:37:45.943Z"
   },
   {
    "duration": 30,
    "start_time": "2021-12-18T11:37:45.986Z"
   },
   {
    "duration": 34,
    "start_time": "2021-12-18T11:37:46.018Z"
   },
   {
    "duration": 54,
    "start_time": "2021-12-18T11:37:46.054Z"
   },
   {
    "duration": 230,
    "start_time": "2021-12-18T11:37:46.110Z"
   },
   {
    "duration": 48,
    "start_time": "2021-12-18T11:37:46.343Z"
   },
   {
    "duration": 39,
    "start_time": "2021-12-18T11:37:46.395Z"
   },
   {
    "duration": 309,
    "start_time": "2021-12-18T11:37:46.436Z"
   },
   {
    "duration": -505,
    "start_time": "2021-12-18T11:37:47.253Z"
   },
   {
    "duration": -506,
    "start_time": "2021-12-18T11:37:47.255Z"
   },
   {
    "duration": -510,
    "start_time": "2021-12-18T11:37:47.261Z"
   },
   {
    "duration": -510,
    "start_time": "2021-12-18T11:37:47.263Z"
   },
   {
    "duration": -513,
    "start_time": "2021-12-18T11:37:47.267Z"
   },
   {
    "duration": -512,
    "start_time": "2021-12-18T11:37:47.268Z"
   },
   {
    "duration": -514,
    "start_time": "2021-12-18T11:37:47.272Z"
   },
   {
    "duration": 6,
    "start_time": "2021-12-18T11:38:00.080Z"
   },
   {
    "duration": 110,
    "start_time": "2021-12-18T11:38:00.090Z"
   },
   {
    "duration": 38,
    "start_time": "2021-12-18T11:38:00.204Z"
   },
   {
    "duration": 31,
    "start_time": "2021-12-18T11:38:00.246Z"
   },
   {
    "duration": 12,
    "start_time": "2021-12-18T11:38:00.280Z"
   },
   {
    "duration": 76,
    "start_time": "2021-12-18T11:38:00.294Z"
   },
   {
    "duration": 279,
    "start_time": "2021-12-18T11:38:00.373Z"
   },
   {
    "duration": 46,
    "start_time": "2021-12-18T11:38:00.654Z"
   },
   {
    "duration": 24,
    "start_time": "2021-12-18T11:38:00.705Z"
   },
   {
    "duration": 8,
    "start_time": "2021-12-18T11:38:00.732Z"
   },
   {
    "duration": 14,
    "start_time": "2021-12-18T11:38:00.767Z"
   },
   {
    "duration": 26,
    "start_time": "2021-12-18T11:38:00.784Z"
   },
   {
    "duration": 254,
    "start_time": "2021-12-18T11:38:00.813Z"
   },
   {
    "duration": 5,
    "start_time": "2021-12-18T11:38:01.069Z"
   },
   {
    "duration": 80,
    "start_time": "2021-12-18T11:38:01.076Z"
   },
   {
    "duration": 33,
    "start_time": "2021-12-18T11:38:01.159Z"
   },
   {
    "duration": 364,
    "start_time": "2021-12-18T11:38:01.195Z"
   },
   {
    "duration": 6,
    "start_time": "2021-12-18T11:38:17.220Z"
   },
   {
    "duration": 91,
    "start_time": "2021-12-18T11:38:17.228Z"
   },
   {
    "duration": 35,
    "start_time": "2021-12-18T11:38:17.322Z"
   },
   {
    "duration": 15,
    "start_time": "2021-12-18T11:38:17.367Z"
   },
   {
    "duration": 12,
    "start_time": "2021-12-18T11:38:17.384Z"
   },
   {
    "duration": 82,
    "start_time": "2021-12-18T11:38:17.398Z"
   },
   {
    "duration": 231,
    "start_time": "2021-12-18T11:38:17.483Z"
   },
   {
    "duration": 53,
    "start_time": "2021-12-18T11:38:17.716Z"
   },
   {
    "duration": 10,
    "start_time": "2021-12-18T11:38:17.773Z"
   },
   {
    "duration": 8,
    "start_time": "2021-12-18T11:38:17.786Z"
   },
   {
    "duration": 21,
    "start_time": "2021-12-18T11:38:17.796Z"
   },
   {
    "duration": 55,
    "start_time": "2021-12-18T11:38:17.820Z"
   },
   {
    "duration": 248,
    "start_time": "2021-12-18T11:38:17.877Z"
   },
   {
    "duration": 5,
    "start_time": "2021-12-18T11:38:18.128Z"
   },
   {
    "duration": 58,
    "start_time": "2021-12-18T11:38:18.135Z"
   },
   {
    "duration": 8,
    "start_time": "2021-12-18T11:38:18.196Z"
   },
   {
    "duration": 8,
    "start_time": "2021-12-18T11:38:18.206Z"
   },
   {
    "duration": 249,
    "start_time": "2021-12-18T11:42:40.850Z"
   },
   {
    "duration": 341,
    "start_time": "2021-12-18T11:45:13.827Z"
   },
   {
    "duration": 604,
    "start_time": "2021-12-18T11:49:10.263Z"
   },
   {
    "duration": 561,
    "start_time": "2021-12-18T11:49:14.973Z"
   },
   {
    "duration": 373,
    "start_time": "2021-12-18T11:50:36.803Z"
   },
   {
    "duration": 14,
    "start_time": "2021-12-18T11:54:47.229Z"
   },
   {
    "duration": 29,
    "start_time": "2021-12-18T12:01:20.584Z"
   },
   {
    "duration": 8,
    "start_time": "2021-12-18T12:01:36.787Z"
   },
   {
    "duration": 114,
    "start_time": "2021-12-18T12:01:36.799Z"
   },
   {
    "duration": 51,
    "start_time": "2021-12-18T12:01:36.917Z"
   },
   {
    "duration": 36,
    "start_time": "2021-12-18T12:01:36.972Z"
   },
   {
    "duration": 27,
    "start_time": "2021-12-18T12:01:37.010Z"
   },
   {
    "duration": 58,
    "start_time": "2021-12-18T12:01:37.039Z"
   },
   {
    "duration": 233,
    "start_time": "2021-12-18T12:01:37.100Z"
   },
   {
    "duration": 49,
    "start_time": "2021-12-18T12:01:37.336Z"
   },
   {
    "duration": 22,
    "start_time": "2021-12-18T12:01:37.389Z"
   },
   {
    "duration": 22,
    "start_time": "2021-12-18T12:01:37.414Z"
   },
   {
    "duration": 33,
    "start_time": "2021-12-18T12:01:37.438Z"
   },
   {
    "duration": 16,
    "start_time": "2021-12-18T12:01:37.474Z"
   },
   {
    "duration": 247,
    "start_time": "2021-12-18T12:01:37.493Z"
   },
   {
    "duration": 6,
    "start_time": "2021-12-18T12:01:37.742Z"
   },
   {
    "duration": 40,
    "start_time": "2021-12-18T12:01:37.767Z"
   },
   {
    "duration": 9,
    "start_time": "2021-12-18T12:01:37.809Z"
   },
   {
    "duration": 8,
    "start_time": "2021-12-18T12:01:37.821Z"
   },
   {
    "duration": 269,
    "start_time": "2021-12-18T12:01:37.868Z"
   },
   {
    "duration": 31,
    "start_time": "2021-12-18T12:01:38.139Z"
   },
   {
    "duration": 27,
    "start_time": "2021-12-18T12:01:38.173Z"
   },
   {
    "duration": 20,
    "start_time": "2021-12-18T12:02:02.413Z"
   },
   {
    "duration": 220,
    "start_time": "2021-12-18T12:06:33.809Z"
   },
   {
    "duration": 1305,
    "start_time": "2021-12-18T12:08:07.577Z"
   },
   {
    "duration": 13,
    "start_time": "2021-12-18T12:08:33.157Z"
   },
   {
    "duration": 17,
    "start_time": "2021-12-18T12:11:21.784Z"
   },
   {
    "duration": 222,
    "start_time": "2021-12-18T12:12:33.994Z"
   },
   {
    "duration": 211,
    "start_time": "2021-12-18T12:13:03.524Z"
   },
   {
    "duration": 344,
    "start_time": "2021-12-18T16:41:44.854Z"
   },
   {
    "duration": 1477,
    "start_time": "2021-12-18T16:41:53.515Z"
   },
   {
    "duration": 92,
    "start_time": "2021-12-18T16:41:54.995Z"
   },
   {
    "duration": 50,
    "start_time": "2021-12-18T16:41:55.090Z"
   },
   {
    "duration": 18,
    "start_time": "2021-12-18T16:41:55.143Z"
   },
   {
    "duration": 53,
    "start_time": "2021-12-18T16:41:55.164Z"
   },
   {
    "duration": 42,
    "start_time": "2021-12-18T16:41:55.219Z"
   },
   {
    "duration": 240,
    "start_time": "2021-12-18T16:41:55.264Z"
   },
   {
    "duration": 42,
    "start_time": "2021-12-18T16:41:55.507Z"
   },
   {
    "duration": 9,
    "start_time": "2021-12-18T16:41:55.552Z"
   },
   {
    "duration": 9,
    "start_time": "2021-12-18T16:41:55.563Z"
   },
   {
    "duration": 52,
    "start_time": "2021-12-18T16:41:55.574Z"
   },
   {
    "duration": 20,
    "start_time": "2021-12-18T16:41:55.629Z"
   },
   {
    "duration": 236,
    "start_time": "2021-12-18T16:41:55.651Z"
   },
   {
    "duration": 5,
    "start_time": "2021-12-18T16:41:55.889Z"
   },
   {
    "duration": 47,
    "start_time": "2021-12-18T16:41:55.897Z"
   },
   {
    "duration": 11,
    "start_time": "2021-12-18T16:41:55.946Z"
   },
   {
    "duration": 7,
    "start_time": "2021-12-18T16:41:55.960Z"
   },
   {
    "duration": 275,
    "start_time": "2021-12-18T16:41:55.969Z"
   },
   {
    "duration": 12,
    "start_time": "2021-12-18T16:41:56.246Z"
   },
   {
    "duration": 18,
    "start_time": "2021-12-18T16:41:56.260Z"
   },
   {
    "duration": 243,
    "start_time": "2021-12-18T16:41:56.280Z"
   },
   {
    "duration": 12,
    "start_time": "2021-12-18T16:41:56.526Z"
   },
   {
    "duration": 16,
    "start_time": "2021-12-18T16:41:56.542Z"
   },
   {
    "duration": 241,
    "start_time": "2021-12-18T16:41:56.560Z"
   },
   {
    "duration": 31,
    "start_time": "2021-12-18T16:42:30.934Z"
   },
   {
    "duration": 55,
    "start_time": "2021-12-18T16:42:31.013Z"
   },
   {
    "duration": 3,
    "start_time": "2021-12-18T17:01:40.712Z"
   },
   {
    "duration": 359,
    "start_time": "2021-12-18T17:03:39.521Z"
   },
   {
    "duration": 110,
    "start_time": "2021-12-18T17:03:56.191Z"
   },
   {
    "duration": 12,
    "start_time": "2021-12-18T17:03:59.596Z"
   },
   {
    "duration": 17,
    "start_time": "2021-12-18T17:05:20.465Z"
   },
   {
    "duration": 273,
    "start_time": "2021-12-18T17:14:27.206Z"
   },
   {
    "duration": 6,
    "start_time": "2021-12-18T17:14:34.344Z"
   },
   {
    "duration": 1061,
    "start_time": "2021-12-18T17:19:44.997Z"
   },
   {
    "duration": 6,
    "start_time": "2021-12-18T17:19:49.006Z"
   },
   {
    "duration": 86,
    "start_time": "2021-12-18T17:19:49.015Z"
   },
   {
    "duration": 36,
    "start_time": "2021-12-18T17:19:49.117Z"
   },
   {
    "duration": 15,
    "start_time": "2021-12-18T17:19:49.155Z"
   },
   {
    "duration": 46,
    "start_time": "2021-12-18T17:19:49.172Z"
   },
   {
    "duration": 36,
    "start_time": "2021-12-18T17:19:49.221Z"
   },
   {
    "duration": 227,
    "start_time": "2021-12-18T17:19:49.259Z"
   },
   {
    "duration": 43,
    "start_time": "2021-12-18T17:19:49.490Z"
   },
   {
    "duration": 10,
    "start_time": "2021-12-18T17:19:49.536Z"
   },
   {
    "duration": 7,
    "start_time": "2021-12-18T17:19:49.549Z"
   },
   {
    "duration": 14,
    "start_time": "2021-12-18T17:19:49.559Z"
   },
   {
    "duration": 52,
    "start_time": "2021-12-18T17:19:49.575Z"
   },
   {
    "duration": 296,
    "start_time": "2021-12-18T17:19:49.629Z"
   },
   {
    "duration": 5,
    "start_time": "2021-12-18T17:19:49.927Z"
   },
   {
    "duration": 34,
    "start_time": "2021-12-18T17:19:49.935Z"
   },
   {
    "duration": 8,
    "start_time": "2021-12-18T17:19:49.971Z"
   },
   {
    "duration": 37,
    "start_time": "2021-12-18T17:19:49.981Z"
   },
   {
    "duration": 244,
    "start_time": "2021-12-18T17:19:50.021Z"
   },
   {
    "duration": 12,
    "start_time": "2021-12-18T17:19:50.267Z"
   },
   {
    "duration": 39,
    "start_time": "2021-12-18T17:19:50.281Z"
   },
   {
    "duration": 223,
    "start_time": "2021-12-18T17:19:50.322Z"
   },
   {
    "duration": 13,
    "start_time": "2021-12-18T17:19:50.547Z"
   },
   {
    "duration": 15,
    "start_time": "2021-12-18T17:19:50.564Z"
   },
   {
    "duration": 242,
    "start_time": "2021-12-18T17:19:50.582Z"
   },
   {
    "duration": 17,
    "start_time": "2021-12-18T17:19:50.826Z"
   },
   {
    "duration": 5,
    "start_time": "2021-12-18T17:19:50.846Z"
   },
   {
    "duration": 1010,
    "start_time": "2021-12-18T17:19:50.853Z"
   },
   {
    "duration": 285,
    "start_time": "2021-12-18T17:22:12.991Z"
   },
   {
    "duration": 290,
    "start_time": "2021-12-18T17:22:33.247Z"
   },
   {
    "duration": 6,
    "start_time": "2021-12-18T17:22:45.723Z"
   },
   {
    "duration": 97,
    "start_time": "2021-12-18T17:22:45.733Z"
   },
   {
    "duration": 38,
    "start_time": "2021-12-18T17:22:45.833Z"
   },
   {
    "duration": 16,
    "start_time": "2021-12-18T17:22:45.874Z"
   },
   {
    "duration": 40,
    "start_time": "2021-12-18T17:22:45.892Z"
   },
   {
    "duration": 37,
    "start_time": "2021-12-18T17:22:45.934Z"
   },
   {
    "duration": 242,
    "start_time": "2021-12-18T17:22:45.975Z"
   },
   {
    "duration": 34,
    "start_time": "2021-12-18T17:22:46.220Z"
   },
   {
    "duration": 10,
    "start_time": "2021-12-18T17:22:46.257Z"
   },
   {
    "duration": 7,
    "start_time": "2021-12-18T17:22:46.269Z"
   },
   {
    "duration": 51,
    "start_time": "2021-12-18T17:22:46.278Z"
   },
   {
    "duration": 19,
    "start_time": "2021-12-18T17:22:46.331Z"
   },
   {
    "duration": 230,
    "start_time": "2021-12-18T17:22:46.352Z"
   },
   {
    "duration": 5,
    "start_time": "2021-12-18T17:22:46.584Z"
   },
   {
    "duration": 52,
    "start_time": "2021-12-18T17:22:46.591Z"
   },
   {
    "duration": 8,
    "start_time": "2021-12-18T17:22:46.646Z"
   },
   {
    "duration": 8,
    "start_time": "2021-12-18T17:22:46.656Z"
   },
   {
    "duration": 353,
    "start_time": "2021-12-18T17:22:46.667Z"
   },
   {
    "duration": 12,
    "start_time": "2021-12-18T17:22:47.022Z"
   },
   {
    "duration": 17,
    "start_time": "2021-12-18T17:22:47.036Z"
   },
   {
    "duration": 251,
    "start_time": "2021-12-18T17:22:47.055Z"
   },
   {
    "duration": 16,
    "start_time": "2021-12-18T17:22:47.310Z"
   },
   {
    "duration": 16,
    "start_time": "2021-12-18T17:22:47.329Z"
   },
   {
    "duration": 239,
    "start_time": "2021-12-18T17:22:47.348Z"
   },
   {
    "duration": 34,
    "start_time": "2021-12-18T17:22:47.589Z"
   },
   {
    "duration": 6,
    "start_time": "2021-12-18T17:22:47.626Z"
   },
   {
    "duration": 1013,
    "start_time": "2021-12-18T17:22:47.634Z"
   },
   {
    "duration": 6386,
    "start_time": "2021-12-18T17:22:48.649Z"
   },
   {
    "duration": 349,
    "start_time": "2021-12-18T17:25:05.468Z"
   },
   {
    "duration": 6,
    "start_time": "2021-12-18T17:25:10.138Z"
   },
   {
    "duration": 86,
    "start_time": "2021-12-18T17:25:10.147Z"
   },
   {
    "duration": 36,
    "start_time": "2021-12-18T17:25:10.236Z"
   },
   {
    "duration": 27,
    "start_time": "2021-12-18T17:25:10.275Z"
   },
   {
    "duration": 31,
    "start_time": "2021-12-18T17:25:10.304Z"
   },
   {
    "duration": 61,
    "start_time": "2021-12-18T17:25:10.338Z"
   },
   {
    "duration": 236,
    "start_time": "2021-12-18T17:25:10.419Z"
   },
   {
    "duration": 35,
    "start_time": "2021-12-18T17:25:10.659Z"
   },
   {
    "duration": 29,
    "start_time": "2021-12-18T17:25:10.697Z"
   },
   {
    "duration": 7,
    "start_time": "2021-12-18T17:25:10.728Z"
   },
   {
    "duration": 14,
    "start_time": "2021-12-18T17:25:10.737Z"
   },
   {
    "duration": 18,
    "start_time": "2021-12-18T17:25:10.753Z"
   },
   {
    "duration": 251,
    "start_time": "2021-12-18T17:25:10.774Z"
   },
   {
    "duration": 6,
    "start_time": "2021-12-18T17:25:11.028Z"
   },
   {
    "duration": 37,
    "start_time": "2021-12-18T17:25:11.036Z"
   },
   {
    "duration": 7,
    "start_time": "2021-12-18T17:25:11.076Z"
   },
   {
    "duration": 36,
    "start_time": "2021-12-18T17:25:11.086Z"
   },
   {
    "duration": 247,
    "start_time": "2021-12-18T17:25:11.124Z"
   },
   {
    "duration": 11,
    "start_time": "2021-12-18T17:25:11.374Z"
   },
   {
    "duration": 43,
    "start_time": "2021-12-18T17:25:11.387Z"
   },
   {
    "duration": 312,
    "start_time": "2021-12-18T17:25:11.433Z"
   },
   {
    "duration": 14,
    "start_time": "2021-12-18T17:25:11.747Z"
   },
   {
    "duration": 15,
    "start_time": "2021-12-18T17:25:11.765Z"
   },
   {
    "duration": 252,
    "start_time": "2021-12-18T17:25:11.783Z"
   },
   {
    "duration": 17,
    "start_time": "2021-12-18T17:25:12.038Z"
   },
   {
    "duration": 15,
    "start_time": "2021-12-18T17:25:12.057Z"
   },
   {
    "duration": 1124,
    "start_time": "2021-12-18T17:25:12.074Z"
   },
   {
    "duration": 6443,
    "start_time": "2021-12-18T17:25:13.201Z"
   },
   {
    "duration": 272,
    "start_time": "2021-12-18T17:25:19.646Z"
   },
   {
    "duration": 8,
    "start_time": "2021-12-18T17:28:20.974Z"
   },
   {
    "duration": 6,
    "start_time": "2021-12-18T17:41:24.589Z"
   },
   {
    "duration": 89,
    "start_time": "2021-12-18T17:41:24.598Z"
   },
   {
    "duration": 42,
    "start_time": "2021-12-18T17:41:24.690Z"
   },
   {
    "duration": 14,
    "start_time": "2021-12-18T17:41:24.735Z"
   },
   {
    "duration": 16,
    "start_time": "2021-12-18T17:41:24.751Z"
   },
   {
    "duration": 68,
    "start_time": "2021-12-18T17:41:24.770Z"
   },
   {
    "duration": 218,
    "start_time": "2021-12-18T17:41:24.840Z"
   },
   {
    "duration": 38,
    "start_time": "2021-12-18T17:41:25.060Z"
   },
   {
    "duration": 21,
    "start_time": "2021-12-18T17:41:25.102Z"
   },
   {
    "duration": 8,
    "start_time": "2021-12-18T17:41:25.126Z"
   },
   {
    "duration": 14,
    "start_time": "2021-12-18T17:41:25.136Z"
   },
   {
    "duration": 17,
    "start_time": "2021-12-18T17:41:25.152Z"
   },
   {
    "duration": 274,
    "start_time": "2021-12-18T17:41:25.172Z"
   },
   {
    "duration": 5,
    "start_time": "2021-12-18T17:41:25.449Z"
   },
   {
    "duration": 34,
    "start_time": "2021-12-18T17:41:25.457Z"
   },
   {
    "duration": 8,
    "start_time": "2021-12-18T17:41:25.517Z"
   },
   {
    "duration": 8,
    "start_time": "2021-12-18T17:41:25.527Z"
   },
   {
    "duration": 280,
    "start_time": "2021-12-18T17:41:25.538Z"
   },
   {
    "duration": 13,
    "start_time": "2021-12-18T17:41:25.820Z"
   },
   {
    "duration": 17,
    "start_time": "2021-12-18T17:41:25.835Z"
   },
   {
    "duration": 238,
    "start_time": "2021-12-18T17:41:25.854Z"
   },
   {
    "duration": 27,
    "start_time": "2021-12-18T17:41:26.094Z"
   },
   {
    "duration": 16,
    "start_time": "2021-12-18T17:41:26.124Z"
   },
   {
    "duration": 307,
    "start_time": "2021-12-18T17:41:26.142Z"
   },
   {
    "duration": 17,
    "start_time": "2021-12-18T17:41:26.451Z"
   },
   {
    "duration": 5,
    "start_time": "2021-12-18T17:41:26.470Z"
   },
   {
    "duration": 1021,
    "start_time": "2021-12-18T17:41:26.480Z"
   },
   {
    "duration": 6448,
    "start_time": "2021-12-18T17:41:27.504Z"
   },
   {
    "duration": 8,
    "start_time": "2021-12-18T17:41:33.954Z"
   },
   {
    "duration": 290,
    "start_time": "2021-12-18T17:41:33.964Z"
   },
   {
    "duration": 6,
    "start_time": "2021-12-18T17:41:42.182Z"
   },
   {
    "duration": 83,
    "start_time": "2021-12-18T17:41:42.196Z"
   },
   {
    "duration": 39,
    "start_time": "2021-12-18T17:41:42.281Z"
   },
   {
    "duration": 15,
    "start_time": "2021-12-18T17:41:42.323Z"
   },
   {
    "duration": 17,
    "start_time": "2021-12-18T17:41:42.340Z"
   },
   {
    "duration": 69,
    "start_time": "2021-12-18T17:41:42.359Z"
   },
   {
    "duration": 221,
    "start_time": "2021-12-18T17:41:42.430Z"
   },
   {
    "duration": 35,
    "start_time": "2021-12-18T17:41:42.654Z"
   },
   {
    "duration": 26,
    "start_time": "2021-12-18T17:41:42.692Z"
   },
   {
    "duration": 8,
    "start_time": "2021-12-18T17:41:42.723Z"
   },
   {
    "duration": 12,
    "start_time": "2021-12-18T17:41:42.735Z"
   },
   {
    "duration": 19,
    "start_time": "2021-12-18T17:41:42.750Z"
   },
   {
    "duration": 255,
    "start_time": "2021-12-18T17:41:42.771Z"
   },
   {
    "duration": 5,
    "start_time": "2021-12-18T17:41:43.028Z"
   },
   {
    "duration": 37,
    "start_time": "2021-12-18T17:41:43.035Z"
   },
   {
    "duration": 12,
    "start_time": "2021-12-18T17:41:43.075Z"
   },
   {
    "duration": 36,
    "start_time": "2021-12-18T17:41:43.090Z"
   },
   {
    "duration": 238,
    "start_time": "2021-12-18T17:41:43.128Z"
   },
   {
    "duration": 12,
    "start_time": "2021-12-18T17:41:43.368Z"
   },
   {
    "duration": 38,
    "start_time": "2021-12-18T17:41:43.382Z"
   },
   {
    "duration": 226,
    "start_time": "2021-12-18T17:41:43.423Z"
   },
   {
    "duration": 11,
    "start_time": "2021-12-18T17:41:43.652Z"
   },
   {
    "duration": 15,
    "start_time": "2021-12-18T17:41:43.665Z"
   },
   {
    "duration": 236,
    "start_time": "2021-12-18T17:41:43.682Z"
   },
   {
    "duration": 17,
    "start_time": "2021-12-18T17:41:43.920Z"
   },
   {
    "duration": 5,
    "start_time": "2021-12-18T17:41:43.939Z"
   },
   {
    "duration": 1014,
    "start_time": "2021-12-18T17:41:43.946Z"
   },
   {
    "duration": 6661,
    "start_time": "2021-12-18T17:41:44.965Z"
   },
   {
    "duration": 7,
    "start_time": "2021-12-18T17:41:51.628Z"
   },
   {
    "duration": 618,
    "start_time": "2021-12-18T17:41:51.637Z"
   },
   {
    "duration": 783,
    "start_time": "2021-12-18T17:42:51.703Z"
   },
   {
    "duration": 621,
    "start_time": "2021-12-18T17:42:58.342Z"
   },
   {
    "duration": 639,
    "start_time": "2021-12-18T17:43:12.182Z"
   },
   {
    "duration": 625,
    "start_time": "2021-12-18T17:43:17.792Z"
   },
   {
    "duration": 274,
    "start_time": "2021-12-18T17:45:28.958Z"
   },
   {
    "duration": 4863,
    "start_time": "2021-12-18T17:46:01.921Z"
   },
   {
    "duration": 97,
    "start_time": "2021-12-18T17:50:27.306Z"
   },
   {
    "duration": 14,
    "start_time": "2021-12-18T17:50:58.165Z"
   },
   {
    "duration": 5,
    "start_time": "2021-12-18T17:54:11.040Z"
   },
   {
    "duration": 93,
    "start_time": "2021-12-18T17:54:11.048Z"
   },
   {
    "duration": 40,
    "start_time": "2021-12-18T17:54:11.144Z"
   },
   {
    "duration": 38,
    "start_time": "2021-12-18T17:54:11.188Z"
   },
   {
    "duration": 18,
    "start_time": "2021-12-18T17:54:11.228Z"
   },
   {
    "duration": 36,
    "start_time": "2021-12-18T17:54:11.248Z"
   },
   {
    "duration": 224,
    "start_time": "2021-12-18T17:54:11.318Z"
   },
   {
    "duration": 36,
    "start_time": "2021-12-18T17:54:11.548Z"
   },
   {
    "duration": 35,
    "start_time": "2021-12-18T17:54:11.587Z"
   },
   {
    "duration": 8,
    "start_time": "2021-12-18T17:54:11.625Z"
   },
   {
    "duration": 14,
    "start_time": "2021-12-18T17:54:11.635Z"
   },
   {
    "duration": 19,
    "start_time": "2021-12-18T17:54:11.652Z"
   },
   {
    "duration": 253,
    "start_time": "2021-12-18T17:54:11.674Z"
   },
   {
    "duration": 6,
    "start_time": "2021-12-18T17:54:11.929Z"
   },
   {
    "duration": 35,
    "start_time": "2021-12-18T17:54:11.938Z"
   },
   {
    "duration": 9,
    "start_time": "2021-12-18T17:54:11.975Z"
   },
   {
    "duration": 8,
    "start_time": "2021-12-18T17:54:12.017Z"
   },
   {
    "duration": 254,
    "start_time": "2021-12-18T17:54:12.027Z"
   },
   {
    "duration": 13,
    "start_time": "2021-12-18T17:54:12.283Z"
   },
   {
    "duration": 16,
    "start_time": "2021-12-18T17:54:12.318Z"
   },
   {
    "duration": 307,
    "start_time": "2021-12-18T17:54:12.337Z"
   },
   {
    "duration": 13,
    "start_time": "2021-12-18T17:54:12.646Z"
   },
   {
    "duration": 19,
    "start_time": "2021-12-18T17:54:12.664Z"
   },
   {
    "duration": 250,
    "start_time": "2021-12-18T17:54:12.685Z"
   },
   {
    "duration": 18,
    "start_time": "2021-12-18T17:54:12.937Z"
   },
   {
    "duration": 5,
    "start_time": "2021-12-18T17:54:12.957Z"
   },
   {
    "duration": 1014,
    "start_time": "2021-12-18T17:54:12.964Z"
   },
   {
    "duration": 6340,
    "start_time": "2021-12-18T17:54:13.981Z"
   },
   {
    "duration": 6,
    "start_time": "2021-12-18T17:54:20.324Z"
   },
   {
    "duration": 685,
    "start_time": "2021-12-18T17:54:20.333Z"
   },
   {
    "duration": 4942,
    "start_time": "2021-12-18T17:54:21.021Z"
   },
   {
    "duration": 13,
    "start_time": "2021-12-18T17:54:25.966Z"
   },
   {
    "duration": 14,
    "start_time": "2021-12-18T18:02:00.006Z"
   },
   {
    "duration": 5,
    "start_time": "2021-12-18T18:10:19.555Z"
   },
   {
    "duration": 971,
    "start_time": "2021-12-18T18:10:40.329Z"
   },
   {
    "duration": 5,
    "start_time": "2021-12-18T18:10:53.739Z"
   },
   {
    "duration": 6,
    "start_time": "2021-12-18T18:11:02.787Z"
   },
   {
    "duration": 8,
    "start_time": "2021-12-18T18:18:55.601Z"
   },
   {
    "duration": 6,
    "start_time": "2021-12-18T18:23:32.938Z"
   },
   {
    "duration": 91,
    "start_time": "2021-12-18T18:23:32.947Z"
   },
   {
    "duration": 35,
    "start_time": "2021-12-18T18:23:33.041Z"
   },
   {
    "duration": 21,
    "start_time": "2021-12-18T18:23:33.078Z"
   },
   {
    "duration": 44,
    "start_time": "2021-12-18T18:23:33.101Z"
   },
   {
    "duration": 39,
    "start_time": "2021-12-18T18:23:33.148Z"
   },
   {
    "duration": 230,
    "start_time": "2021-12-18T18:23:33.190Z"
   },
   {
    "duration": 37,
    "start_time": "2021-12-18T18:23:33.425Z"
   },
   {
    "duration": 11,
    "start_time": "2021-12-18T18:23:33.467Z"
   },
   {
    "duration": 42,
    "start_time": "2021-12-18T18:23:33.481Z"
   },
   {
    "duration": 16,
    "start_time": "2021-12-18T18:23:33.525Z"
   },
   {
    "duration": 20,
    "start_time": "2021-12-18T18:23:33.545Z"
   },
   {
    "duration": 264,
    "start_time": "2021-12-18T18:23:33.568Z"
   },
   {
    "duration": 5,
    "start_time": "2021-12-18T18:23:33.835Z"
   },
   {
    "duration": 41,
    "start_time": "2021-12-18T18:23:33.843Z"
   },
   {
    "duration": 30,
    "start_time": "2021-12-18T18:23:33.887Z"
   },
   {
    "duration": 7,
    "start_time": "2021-12-18T18:23:33.920Z"
   },
   {
    "duration": 363,
    "start_time": "2021-12-18T18:23:33.930Z"
   },
   {
    "duration": 25,
    "start_time": "2021-12-18T18:23:34.296Z"
   },
   {
    "duration": 18,
    "start_time": "2021-12-18T18:23:34.324Z"
   },
   {
    "duration": 250,
    "start_time": "2021-12-18T18:23:34.345Z"
   },
   {
    "duration": 26,
    "start_time": "2021-12-18T18:23:34.597Z"
   },
   {
    "duration": 17,
    "start_time": "2021-12-18T18:23:34.628Z"
   },
   {
    "duration": 237,
    "start_time": "2021-12-18T18:23:34.648Z"
   },
   {
    "duration": 34,
    "start_time": "2021-12-18T18:23:34.887Z"
   },
   {
    "duration": 6,
    "start_time": "2021-12-18T18:23:34.923Z"
   },
   {
    "duration": 1001,
    "start_time": "2021-12-18T18:23:34.931Z"
   },
   {
    "duration": 6395,
    "start_time": "2021-12-18T18:23:35.934Z"
   },
   {
    "duration": 8,
    "start_time": "2021-12-18T18:23:42.332Z"
   },
   {
    "duration": 621,
    "start_time": "2021-12-18T18:23:42.342Z"
   },
   {
    "duration": 5360,
    "start_time": "2021-12-18T18:23:42.965Z"
   },
   {
    "duration": 14,
    "start_time": "2021-12-18T18:23:48.327Z"
   },
   {
    "duration": 14,
    "start_time": "2021-12-18T18:23:48.343Z"
   },
   {
    "duration": 9,
    "start_time": "2021-12-18T18:23:48.360Z"
   },
   {
    "duration": 274,
    "start_time": "2021-12-18T18:23:48.372Z"
   },
   {
    "duration": 13,
    "start_time": "2021-12-18T18:23:53.834Z"
   },
   {
    "duration": 3,
    "start_time": "2021-12-18T18:24:29.017Z"
   },
   {
    "duration": 9,
    "start_time": "2021-12-18T18:28:07.755Z"
   },
   {
    "duration": 84,
    "start_time": "2021-12-18T18:28:07.767Z"
   },
   {
    "duration": 35,
    "start_time": "2021-12-18T18:28:07.855Z"
   },
   {
    "duration": 39,
    "start_time": "2021-12-18T18:28:07.894Z"
   },
   {
    "duration": 20,
    "start_time": "2021-12-18T18:28:07.936Z"
   },
   {
    "duration": 69,
    "start_time": "2021-12-18T18:28:07.959Z"
   },
   {
    "duration": 228,
    "start_time": "2021-12-18T18:28:08.031Z"
   },
   {
    "duration": 37,
    "start_time": "2021-12-18T18:28:08.263Z"
   },
   {
    "duration": 10,
    "start_time": "2021-12-18T18:28:08.318Z"
   },
   {
    "duration": 9,
    "start_time": "2021-12-18T18:28:08.330Z"
   },
   {
    "duration": 14,
    "start_time": "2021-12-18T18:28:08.342Z"
   },
   {
    "duration": 17,
    "start_time": "2021-12-18T18:28:08.359Z"
   },
   {
    "duration": 415,
    "start_time": "2021-12-18T18:28:08.418Z"
   },
   {
    "duration": 7,
    "start_time": "2021-12-18T18:28:08.836Z"
   },
   {
    "duration": 73,
    "start_time": "2021-12-18T18:28:08.846Z"
   },
   {
    "duration": 7,
    "start_time": "2021-12-18T18:28:08.922Z"
   },
   {
    "duration": 7,
    "start_time": "2021-12-18T18:28:08.932Z"
   },
   {
    "duration": 266,
    "start_time": "2021-12-18T18:28:08.941Z"
   },
   {
    "duration": 17,
    "start_time": "2021-12-18T18:28:09.218Z"
   },
   {
    "duration": 16,
    "start_time": "2021-12-18T18:28:09.237Z"
   },
   {
    "duration": 246,
    "start_time": "2021-12-18T18:28:09.256Z"
   },
   {
    "duration": 25,
    "start_time": "2021-12-18T18:28:09.505Z"
   },
   {
    "duration": 19,
    "start_time": "2021-12-18T18:28:09.537Z"
   },
   {
    "duration": 257,
    "start_time": "2021-12-18T18:28:09.560Z"
   },
   {
    "duration": 26,
    "start_time": "2021-12-18T18:28:09.820Z"
   },
   {
    "duration": 6,
    "start_time": "2021-12-18T18:28:09.849Z"
   },
   {
    "duration": 1082,
    "start_time": "2021-12-18T18:28:09.858Z"
   },
   {
    "duration": 6931,
    "start_time": "2021-12-18T18:28:10.942Z"
   },
   {
    "duration": 8,
    "start_time": "2021-12-18T18:28:17.875Z"
   },
   {
    "duration": 632,
    "start_time": "2021-12-18T18:28:17.885Z"
   },
   {
    "duration": 4933,
    "start_time": "2021-12-18T18:28:18.520Z"
   },
   {
    "duration": 14,
    "start_time": "2021-12-18T18:28:23.455Z"
   },
   {
    "duration": 14,
    "start_time": "2021-12-18T18:28:23.471Z"
   },
   {
    "duration": 33,
    "start_time": "2021-12-18T18:28:23.488Z"
   },
   {
    "duration": 3,
    "start_time": "2021-12-18T18:28:23.523Z"
   },
   {
    "duration": 7,
    "start_time": "2021-12-18T18:28:23.528Z"
   },
   {
    "duration": 17,
    "start_time": "2021-12-18T18:28:23.537Z"
   },
   {
    "duration": 309,
    "start_time": "2021-12-18T18:39:48.334Z"
   },
   {
    "duration": 11,
    "start_time": "2021-12-18T18:40:11.119Z"
   },
   {
    "duration": 24,
    "start_time": "2021-12-18T18:42:11.321Z"
   },
   {
    "duration": 14,
    "start_time": "2021-12-18T18:42:23.571Z"
   },
   {
    "duration": 98,
    "start_time": "2021-12-18T18:51:30.935Z"
   },
   {
    "duration": 5,
    "start_time": "2021-12-18T19:00:37.774Z"
   },
   {
    "duration": 39,
    "start_time": "2021-12-18T19:09:51.245Z"
   },
   {
    "duration": 8,
    "start_time": "2021-12-18T19:13:12.652Z"
   },
   {
    "duration": 128,
    "start_time": "2021-12-18T19:13:12.663Z"
   },
   {
    "duration": 40,
    "start_time": "2021-12-18T19:13:12.795Z"
   },
   {
    "duration": 16,
    "start_time": "2021-12-18T19:13:12.839Z"
   },
   {
    "duration": 19,
    "start_time": "2021-12-18T19:13:12.858Z"
   },
   {
    "duration": 70,
    "start_time": "2021-12-18T19:13:12.880Z"
   },
   {
    "duration": 319,
    "start_time": "2021-12-18T19:13:12.953Z"
   },
   {
    "duration": 43,
    "start_time": "2021-12-18T19:13:13.274Z"
   },
   {
    "duration": 10,
    "start_time": "2021-12-18T19:13:13.324Z"
   },
   {
    "duration": 9,
    "start_time": "2021-12-18T19:13:13.337Z"
   },
   {
    "duration": 13,
    "start_time": "2021-12-18T19:13:13.348Z"
   },
   {
    "duration": 56,
    "start_time": "2021-12-18T19:13:13.364Z"
   },
   {
    "duration": 227,
    "start_time": "2021-12-18T19:13:13.423Z"
   },
   {
    "duration": 5,
    "start_time": "2021-12-18T19:13:13.652Z"
   },
   {
    "duration": 43,
    "start_time": "2021-12-18T19:13:13.659Z"
   },
   {
    "duration": 7,
    "start_time": "2021-12-18T19:13:13.717Z"
   },
   {
    "duration": 8,
    "start_time": "2021-12-18T19:13:13.727Z"
   },
   {
    "duration": 407,
    "start_time": "2021-12-18T19:13:13.738Z"
   },
   {
    "duration": 17,
    "start_time": "2021-12-18T19:13:14.148Z"
   },
   {
    "duration": 49,
    "start_time": "2021-12-18T19:13:14.168Z"
   },
   {
    "duration": 345,
    "start_time": "2021-12-18T19:13:14.220Z"
   },
   {
    "duration": 16,
    "start_time": "2021-12-18T19:13:14.568Z"
   },
   {
    "duration": 43,
    "start_time": "2021-12-18T19:13:14.587Z"
   },
   {
    "duration": 347,
    "start_time": "2021-12-18T19:13:14.633Z"
   },
   {
    "duration": 41,
    "start_time": "2021-12-18T19:13:14.983Z"
   },
   {
    "duration": 6,
    "start_time": "2021-12-18T19:13:15.028Z"
   },
   {
    "duration": 987,
    "start_time": "2021-12-18T19:13:15.039Z"
   },
   {
    "duration": 6341,
    "start_time": "2021-12-18T19:13:16.029Z"
   },
   {
    "duration": 7,
    "start_time": "2021-12-18T19:13:22.373Z"
   },
   {
    "duration": 611,
    "start_time": "2021-12-18T19:13:22.382Z"
   },
   {
    "duration": 4947,
    "start_time": "2021-12-18T19:13:22.995Z"
   },
   {
    "duration": 15,
    "start_time": "2021-12-18T19:13:27.945Z"
   },
   {
    "duration": 14,
    "start_time": "2021-12-18T19:13:27.963Z"
   },
   {
    "duration": 24,
    "start_time": "2021-12-18T19:13:27.980Z"
   },
   {
    "duration": 11,
    "start_time": "2021-12-18T19:13:28.007Z"
   },
   {
    "duration": 12,
    "start_time": "2021-12-18T19:13:28.020Z"
   },
   {
    "duration": 30,
    "start_time": "2021-12-18T19:13:28.034Z"
   },
   {
    "duration": 11,
    "start_time": "2021-12-18T19:13:28.066Z"
   },
   {
    "duration": 12,
    "start_time": "2021-12-18T19:13:28.079Z"
   },
   {
    "duration": 26,
    "start_time": "2021-12-18T19:13:28.093Z"
   },
   {
    "duration": 272,
    "start_time": "2021-12-18T19:22:16.169Z"
   },
   {
    "duration": 310,
    "start_time": "2021-12-18T19:23:11.908Z"
   },
   {
    "duration": 6,
    "start_time": "2021-12-18T19:27:02.479Z"
   },
   {
    "duration": 90,
    "start_time": "2021-12-18T19:27:02.487Z"
   },
   {
    "duration": 48,
    "start_time": "2021-12-18T19:27:02.580Z"
   },
   {
    "duration": 15,
    "start_time": "2021-12-18T19:27:02.631Z"
   },
   {
    "duration": 17,
    "start_time": "2021-12-18T19:27:02.648Z"
   },
   {
    "duration": 77,
    "start_time": "2021-12-18T19:27:02.668Z"
   },
   {
    "duration": 224,
    "start_time": "2021-12-18T19:27:02.747Z"
   },
   {
    "duration": 49,
    "start_time": "2021-12-18T19:27:02.976Z"
   },
   {
    "duration": 11,
    "start_time": "2021-12-18T19:27:03.030Z"
   },
   {
    "duration": 8,
    "start_time": "2021-12-18T19:27:03.043Z"
   },
   {
    "duration": 14,
    "start_time": "2021-12-18T19:27:03.054Z"
   },
   {
    "duration": 56,
    "start_time": "2021-12-18T19:27:03.070Z"
   },
   {
    "duration": 233,
    "start_time": "2021-12-18T19:27:03.128Z"
   },
   {
    "duration": 6,
    "start_time": "2021-12-18T19:27:03.363Z"
   },
   {
    "duration": 67,
    "start_time": "2021-12-18T19:27:03.372Z"
   },
   {
    "duration": 20,
    "start_time": "2021-12-18T19:27:03.442Z"
   },
   {
    "duration": 8,
    "start_time": "2021-12-18T19:27:03.465Z"
   },
   {
    "duration": 315,
    "start_time": "2021-12-18T19:27:03.476Z"
   },
   {
    "duration": 27,
    "start_time": "2021-12-18T19:27:03.793Z"
   },
   {
    "duration": 18,
    "start_time": "2021-12-18T19:27:03.822Z"
   },
   {
    "duration": 236,
    "start_time": "2021-12-18T19:27:03.842Z"
   },
   {
    "duration": 14,
    "start_time": "2021-12-18T19:27:04.080Z"
   },
   {
    "duration": 18,
    "start_time": "2021-12-18T19:27:04.119Z"
   },
   {
    "duration": 232,
    "start_time": "2021-12-18T19:27:04.140Z"
   },
   {
    "duration": 18,
    "start_time": "2021-12-18T19:27:04.374Z"
   },
   {
    "duration": 27,
    "start_time": "2021-12-18T19:27:04.394Z"
   },
   {
    "duration": 973,
    "start_time": "2021-12-18T19:27:04.423Z"
   },
   {
    "duration": 6478,
    "start_time": "2021-12-18T19:27:05.399Z"
   },
   {
    "duration": 8,
    "start_time": "2021-12-18T19:27:11.879Z"
   },
   {
    "duration": 621,
    "start_time": "2021-12-18T19:27:11.889Z"
   },
   {
    "duration": 6005,
    "start_time": "2021-12-18T19:27:12.513Z"
   },
   {
    "duration": 15,
    "start_time": "2021-12-18T19:27:18.521Z"
   },
   {
    "duration": 16,
    "start_time": "2021-12-18T19:27:18.538Z"
   },
   {
    "duration": 10,
    "start_time": "2021-12-18T19:27:18.557Z"
   },
   {
    "duration": 3,
    "start_time": "2021-12-18T19:27:18.571Z"
   },
   {
    "duration": 41,
    "start_time": "2021-12-18T19:27:18.576Z"
   },
   {
    "duration": 17,
    "start_time": "2021-12-18T19:27:18.620Z"
   },
   {
    "duration": 13,
    "start_time": "2021-12-18T19:27:18.640Z"
   },
   {
    "duration": 6,
    "start_time": "2021-12-18T19:27:18.656Z"
   },
   {
    "duration": 60,
    "start_time": "2021-12-18T19:27:18.665Z"
   },
   {
    "duration": 7,
    "start_time": "2021-12-18T19:27:18.728Z"
   },
   {
    "duration": 1203,
    "start_time": "2021-12-18T19:27:18.738Z"
   },
   {
    "duration": 13,
    "start_time": "2021-12-18T19:27:19.944Z"
   },
   {
    "duration": 37,
    "start_time": "2021-12-18T19:30:09.561Z"
   },
   {
    "duration": 9,
    "start_time": "2021-12-18T19:30:22.241Z"
   },
   {
    "duration": 6,
    "start_time": "2021-12-18T19:33:29.578Z"
   },
   {
    "duration": 51,
    "start_time": "2021-12-18T19:59:53.927Z"
   },
   {
    "duration": 4735,
    "start_time": "2021-12-18T20:25:44.575Z"
   },
   {
    "duration": 647,
    "start_time": "2021-12-18T20:28:50.173Z"
   },
   {
    "duration": 548,
    "start_time": "2021-12-18T20:29:01.302Z"
   },
   {
    "duration": 465,
    "start_time": "2021-12-18T20:29:30.602Z"
   },
   {
    "duration": 548,
    "start_time": "2021-12-18T20:29:39.211Z"
   },
   {
    "duration": 627,
    "start_time": "2021-12-18T20:29:48.452Z"
   },
   {
    "duration": 647,
    "start_time": "2021-12-18T20:30:03.951Z"
   },
   {
    "duration": 828,
    "start_time": "2021-12-18T20:31:09.350Z"
   },
   {
    "duration": 6,
    "start_time": "2021-12-18T20:32:24.462Z"
   },
   {
    "duration": 85,
    "start_time": "2021-12-18T20:32:24.471Z"
   },
   {
    "duration": 37,
    "start_time": "2021-12-18T20:32:24.560Z"
   },
   {
    "duration": 15,
    "start_time": "2021-12-18T20:32:24.618Z"
   },
   {
    "duration": 20,
    "start_time": "2021-12-18T20:32:24.636Z"
   },
   {
    "duration": 192,
    "start_time": "2021-12-18T20:32:24.659Z"
   },
   {
    "duration": 220,
    "start_time": "2021-12-18T20:32:24.854Z"
   },
   {
    "duration": 49,
    "start_time": "2021-12-18T20:32:25.077Z"
   },
   {
    "duration": 10,
    "start_time": "2021-12-18T20:32:25.130Z"
   },
   {
    "duration": 8,
    "start_time": "2021-12-18T20:32:25.143Z"
   },
   {
    "duration": 14,
    "start_time": "2021-12-18T20:32:25.154Z"
   },
   {
    "duration": 55,
    "start_time": "2021-12-18T20:32:25.170Z"
   },
   {
    "duration": 273,
    "start_time": "2021-12-18T20:32:25.227Z"
   },
   {
    "duration": 6,
    "start_time": "2021-12-18T20:32:25.503Z"
   },
   {
    "duration": 34,
    "start_time": "2021-12-18T20:32:25.517Z"
   },
   {
    "duration": 13,
    "start_time": "2021-12-18T20:32:25.554Z"
   },
   {
    "duration": 10,
    "start_time": "2021-12-18T20:32:25.570Z"
   },
   {
    "duration": 252,
    "start_time": "2021-12-18T20:32:25.618Z"
   },
   {
    "duration": 12,
    "start_time": "2021-12-18T20:32:25.872Z"
   },
   {
    "duration": 37,
    "start_time": "2021-12-18T20:32:25.887Z"
   },
   {
    "duration": 256,
    "start_time": "2021-12-18T20:32:25.927Z"
   },
   {
    "duration": 11,
    "start_time": "2021-12-18T20:32:26.186Z"
   },
   {
    "duration": 24,
    "start_time": "2021-12-18T20:32:26.199Z"
   },
   {
    "duration": 207,
    "start_time": "2021-12-18T20:32:26.226Z"
   },
   {
    "duration": 17,
    "start_time": "2021-12-18T20:32:26.435Z"
   },
   {
    "duration": 5,
    "start_time": "2021-12-18T20:32:26.454Z"
   },
   {
    "duration": 1279,
    "start_time": "2021-12-18T20:32:26.464Z"
   },
   {
    "duration": 6411,
    "start_time": "2021-12-18T20:32:27.746Z"
   },
   {
    "duration": 7,
    "start_time": "2021-12-18T20:32:34.159Z"
   },
   {
    "duration": 615,
    "start_time": "2021-12-18T20:32:34.169Z"
   },
   {
    "duration": 5312,
    "start_time": "2021-12-18T20:32:34.786Z"
   },
   {
    "duration": 22,
    "start_time": "2021-12-18T20:32:40.101Z"
   },
   {
    "duration": 14,
    "start_time": "2021-12-18T20:32:40.125Z"
   },
   {
    "duration": 9,
    "start_time": "2021-12-18T20:32:40.141Z"
   },
   {
    "duration": 3,
    "start_time": "2021-12-18T20:32:40.152Z"
   },
   {
    "duration": 9,
    "start_time": "2021-12-18T20:32:40.158Z"
   },
   {
    "duration": 12,
    "start_time": "2021-12-18T20:32:40.170Z"
   },
   {
    "duration": 11,
    "start_time": "2021-12-18T20:32:40.217Z"
   },
   {
    "duration": 6,
    "start_time": "2021-12-18T20:32:40.231Z"
   },
   {
    "duration": 20,
    "start_time": "2021-12-18T20:32:40.240Z"
   },
   {
    "duration": 4,
    "start_time": "2021-12-18T20:32:40.263Z"
   },
   {
    "duration": 1081,
    "start_time": "2021-12-18T20:32:40.270Z"
   },
   {
    "duration": 9,
    "start_time": "2021-12-18T20:32:41.354Z"
   },
   {
    "duration": 9,
    "start_time": "2021-12-18T20:32:41.367Z"
   },
   {
    "duration": 61,
    "start_time": "2021-12-18T20:32:41.379Z"
   },
   {
    "duration": 1823,
    "start_time": "2021-12-18T20:32:41.443Z"
   },
   {
    "duration": 1818,
    "start_time": "2021-12-18T20:35:31.785Z"
   },
   {
    "duration": 6,
    "start_time": "2021-12-18T20:38:29.294Z"
   },
   {
    "duration": 8,
    "start_time": "2021-12-18T20:39:09.893Z"
   },
   {
    "duration": 7,
    "start_time": "2021-12-18T20:40:46.379Z"
   },
   {
    "duration": 2260,
    "start_time": "2021-12-18T20:49:52.612Z"
   },
   {
    "duration": 1487,
    "start_time": "2021-12-18T20:50:10.035Z"
   },
   {
    "duration": 1960,
    "start_time": "2021-12-18T20:50:22.946Z"
   },
   {
    "duration": 832,
    "start_time": "2021-12-18T20:50:48.713Z"
   },
   {
    "duration": 1948,
    "start_time": "2021-12-18T20:50:58.283Z"
   },
   {
    "duration": 1824,
    "start_time": "2021-12-18T20:51:33.153Z"
   },
   {
    "duration": 604,
    "start_time": "2021-12-18T20:54:50.980Z"
   },
   {
    "duration": 931,
    "start_time": "2021-12-18T20:55:56.218Z"
   },
   {
    "duration": 9,
    "start_time": "2021-12-18T20:58:02.177Z"
   },
   {
    "duration": 7,
    "start_time": "2021-12-18T20:58:14.057Z"
   },
   {
    "duration": 285,
    "start_time": "2021-12-18T20:59:16.366Z"
   },
   {
    "duration": 7,
    "start_time": "2021-12-18T20:59:28.286Z"
   },
   {
    "duration": 276,
    "start_time": "2021-12-18T21:04:31.982Z"
   },
   {
    "duration": 238,
    "start_time": "2021-12-18T21:04:41.101Z"
   },
   {
    "duration": 17,
    "start_time": "2021-12-18T21:12:07.616Z"
   },
   {
    "duration": 7,
    "start_time": "2021-12-18T21:12:41.949Z"
   },
   {
    "duration": 90,
    "start_time": "2021-12-18T21:12:41.959Z"
   },
   {
    "duration": 34,
    "start_time": "2021-12-18T21:12:42.052Z"
   },
   {
    "duration": 20,
    "start_time": "2021-12-18T21:12:42.117Z"
   },
   {
    "duration": 24,
    "start_time": "2021-12-18T21:12:42.140Z"
   },
   {
    "duration": 250,
    "start_time": "2021-12-18T21:12:42.167Z"
   },
   {
    "duration": 298,
    "start_time": "2021-12-18T21:12:42.419Z"
   },
   {
    "duration": 48,
    "start_time": "2021-12-18T21:12:42.719Z"
   },
   {
    "duration": 11,
    "start_time": "2021-12-18T21:12:42.773Z"
   },
   {
    "duration": 35,
    "start_time": "2021-12-18T21:12:42.788Z"
   },
   {
    "duration": 21,
    "start_time": "2021-12-18T21:12:42.826Z"
   },
   {
    "duration": 21,
    "start_time": "2021-12-18T21:12:42.850Z"
   },
   {
    "duration": 272,
    "start_time": "2021-12-18T21:12:42.874Z"
   },
   {
    "duration": 4,
    "start_time": "2021-12-18T21:12:43.149Z"
   },
   {
    "duration": 37,
    "start_time": "2021-12-18T21:12:43.155Z"
   },
   {
    "duration": 24,
    "start_time": "2021-12-18T21:12:43.194Z"
   },
   {
    "duration": 8,
    "start_time": "2021-12-18T21:12:43.221Z"
   },
   {
    "duration": 266,
    "start_time": "2021-12-18T21:12:43.232Z"
   },
   {
    "duration": 25,
    "start_time": "2021-12-18T21:12:43.500Z"
   },
   {
    "duration": 17,
    "start_time": "2021-12-18T21:12:43.527Z"
   },
   {
    "duration": 239,
    "start_time": "2021-12-18T21:12:43.546Z"
   },
   {
    "duration": 29,
    "start_time": "2021-12-18T21:12:43.788Z"
   },
   {
    "duration": 19,
    "start_time": "2021-12-18T21:12:43.820Z"
   },
   {
    "duration": 239,
    "start_time": "2021-12-18T21:12:43.842Z"
   },
   {
    "duration": 36,
    "start_time": "2021-12-18T21:12:44.084Z"
   },
   {
    "duration": 6,
    "start_time": "2021-12-18T21:12:44.122Z"
   },
   {
    "duration": 993,
    "start_time": "2021-12-18T21:12:44.134Z"
   },
   {
    "duration": 6392,
    "start_time": "2021-12-18T21:12:45.131Z"
   },
   {
    "duration": 8,
    "start_time": "2021-12-18T21:12:51.525Z"
   },
   {
    "duration": 612,
    "start_time": "2021-12-18T21:12:51.536Z"
   },
   {
    "duration": 4994,
    "start_time": "2021-12-18T21:12:52.150Z"
   },
   {
    "duration": 15,
    "start_time": "2021-12-18T21:12:57.146Z"
   },
   {
    "duration": 14,
    "start_time": "2021-12-18T21:12:57.164Z"
   },
   {
    "duration": 39,
    "start_time": "2021-12-18T21:12:57.180Z"
   },
   {
    "duration": 3,
    "start_time": "2021-12-18T21:12:57.221Z"
   },
   {
    "duration": 6,
    "start_time": "2021-12-18T21:12:57.226Z"
   },
   {
    "duration": 12,
    "start_time": "2021-12-18T21:12:57.234Z"
   },
   {
    "duration": 10,
    "start_time": "2021-12-18T21:12:57.248Z"
   },
   {
    "duration": 5,
    "start_time": "2021-12-18T21:12:57.261Z"
   },
   {
    "duration": 62,
    "start_time": "2021-12-18T21:12:57.268Z"
   },
   {
    "duration": 4,
    "start_time": "2021-12-18T21:12:57.332Z"
   },
   {
    "duration": 887,
    "start_time": "2021-12-18T21:12:57.338Z"
   },
   {
    "duration": 10,
    "start_time": "2021-12-18T21:12:58.227Z"
   },
   {
    "duration": 5,
    "start_time": "2021-12-18T21:12:58.240Z"
   },
   {
    "duration": 34,
    "start_time": "2021-12-18T21:12:58.248Z"
   },
   {
    "duration": 1940,
    "start_time": "2021-12-18T21:12:58.285Z"
   },
   {
    "duration": 8,
    "start_time": "2021-12-18T21:13:00.228Z"
   },
   {
    "duration": 9,
    "start_time": "2021-12-18T21:13:00.239Z"
   },
   {
    "duration": 9,
    "start_time": "2021-12-18T21:13:00.250Z"
   },
   {
    "duration": 744,
    "start_time": "2021-12-18T21:13:00.261Z"
   },
   {
    "duration": 14,
    "start_time": "2021-12-18T21:13:01.007Z"
   },
   {
    "duration": 249,
    "start_time": "2021-12-18T21:13:01.023Z"
   },
   {
    "duration": 16,
    "start_time": "2021-12-18T21:13:01.275Z"
   },
   {
    "duration": 741,
    "start_time": "2021-12-18T21:14:36.754Z"
   },
   {
    "duration": 588,
    "start_time": "2021-12-18T21:15:07.623Z"
   },
   {
    "duration": 590,
    "start_time": "2021-12-18T21:15:29.183Z"
   },
   {
    "duration": 582,
    "start_time": "2021-12-18T21:16:41.761Z"
   },
   {
    "duration": 605,
    "start_time": "2021-12-18T21:16:54.691Z"
   },
   {
    "duration": 592,
    "start_time": "2021-12-18T21:17:04.151Z"
   },
   {
    "duration": 8,
    "start_time": "2021-12-18T21:25:20.913Z"
   },
   {
    "duration": 279,
    "start_time": "2021-12-18T21:26:40.633Z"
   },
   {
    "duration": 5,
    "start_time": "2021-12-18T21:29:48.840Z"
   },
   {
    "duration": 5,
    "start_time": "2021-12-18T21:30:13.360Z"
   },
   {
    "duration": 6,
    "start_time": "2021-12-18T21:32:12.808Z"
   },
   {
    "duration": 1792,
    "start_time": "2021-12-18T21:59:20.030Z"
   },
   {
    "duration": 1659,
    "start_time": "2021-12-18T21:59:45.716Z"
   },
   {
    "duration": 19,
    "start_time": "2021-12-18T22:00:54.885Z"
   },
   {
    "duration": 375,
    "start_time": "2021-12-20T09:35:59.623Z"
   },
   {
    "duration": 1653,
    "start_time": "2021-12-20T09:36:17.220Z"
   },
   {
    "duration": 85,
    "start_time": "2021-12-20T09:36:18.876Z"
   },
   {
    "duration": 37,
    "start_time": "2021-12-20T09:36:18.964Z"
   },
   {
    "duration": 33,
    "start_time": "2021-12-20T09:36:19.004Z"
   },
   {
    "duration": 20,
    "start_time": "2021-12-20T09:36:19.040Z"
   },
   {
    "duration": 75,
    "start_time": "2021-12-20T09:36:19.062Z"
   },
   {
    "duration": 209,
    "start_time": "2021-12-20T09:36:19.140Z"
   },
   {
    "duration": 34,
    "start_time": "2021-12-20T09:36:19.353Z"
   },
   {
    "duration": 35,
    "start_time": "2021-12-20T09:36:19.390Z"
   },
   {
    "duration": 9,
    "start_time": "2021-12-20T09:36:19.427Z"
   },
   {
    "duration": 18,
    "start_time": "2021-12-20T09:36:19.439Z"
   },
   {
    "duration": 18,
    "start_time": "2021-12-20T09:36:19.459Z"
   },
   {
    "duration": 267,
    "start_time": "2021-12-20T09:36:19.479Z"
   },
   {
    "duration": 6,
    "start_time": "2021-12-20T09:36:19.749Z"
   },
   {
    "duration": 36,
    "start_time": "2021-12-20T09:36:19.757Z"
   },
   {
    "duration": 11,
    "start_time": "2021-12-20T09:36:19.825Z"
   },
   {
    "duration": 10,
    "start_time": "2021-12-20T09:36:19.838Z"
   },
   {
    "duration": 275,
    "start_time": "2021-12-20T09:36:19.850Z"
   },
   {
    "duration": 15,
    "start_time": "2021-12-20T09:36:20.128Z"
   },
   {
    "duration": 21,
    "start_time": "2021-12-20T09:36:20.146Z"
   },
   {
    "duration": 274,
    "start_time": "2021-12-20T09:36:20.170Z"
   },
   {
    "duration": 11,
    "start_time": "2021-12-20T09:36:20.446Z"
   },
   {
    "duration": 14,
    "start_time": "2021-12-20T09:36:20.463Z"
   },
   {
    "duration": 232,
    "start_time": "2021-12-20T09:36:20.480Z"
   },
   {
    "duration": 28,
    "start_time": "2021-12-20T09:36:20.714Z"
   },
   {
    "duration": 6,
    "start_time": "2021-12-20T09:36:20.745Z"
   },
   {
    "duration": 1050,
    "start_time": "2021-12-20T09:36:20.754Z"
   },
   {
    "duration": 6851,
    "start_time": "2021-12-20T09:36:21.806Z"
   },
   {
    "duration": 10,
    "start_time": "2021-12-20T09:36:28.659Z"
   },
   {
    "duration": 635,
    "start_time": "2021-12-20T09:36:28.671Z"
   },
   {
    "duration": 5245,
    "start_time": "2021-12-20T09:36:29.308Z"
   },
   {
    "duration": 14,
    "start_time": "2021-12-20T09:36:34.556Z"
   },
   {
    "duration": 37,
    "start_time": "2021-12-20T09:36:34.572Z"
   },
   {
    "duration": 13,
    "start_time": "2021-12-20T09:36:34.612Z"
   },
   {
    "duration": 13,
    "start_time": "2021-12-20T09:36:34.628Z"
   },
   {
    "duration": 14,
    "start_time": "2021-12-20T09:36:34.644Z"
   },
   {
    "duration": 20,
    "start_time": "2021-12-20T09:36:34.660Z"
   },
   {
    "duration": 24,
    "start_time": "2021-12-20T09:36:34.682Z"
   },
   {
    "duration": 18,
    "start_time": "2021-12-20T09:36:34.708Z"
   },
   {
    "duration": 30,
    "start_time": "2021-12-20T09:36:34.729Z"
   },
   {
    "duration": 8,
    "start_time": "2021-12-20T09:36:34.762Z"
   },
   {
    "duration": 896,
    "start_time": "2021-12-20T09:36:34.772Z"
   },
   {
    "duration": 10,
    "start_time": "2021-12-20T09:36:35.670Z"
   },
   {
    "duration": 15,
    "start_time": "2021-12-20T09:36:35.682Z"
   },
   {
    "duration": 60,
    "start_time": "2021-12-20T09:36:35.699Z"
   },
   {
    "duration": 2025,
    "start_time": "2021-12-20T09:36:35.761Z"
   },
   {
    "duration": 7,
    "start_time": "2021-12-20T09:36:37.788Z"
   },
   {
    "duration": 41,
    "start_time": "2021-12-20T09:36:37.797Z"
   },
   {
    "duration": 21,
    "start_time": "2021-12-20T09:36:37.840Z"
   },
   {
    "duration": 842,
    "start_time": "2021-12-20T09:36:37.863Z"
   },
   {
    "duration": 18,
    "start_time": "2021-12-20T09:36:38.708Z"
   },
   {
    "duration": 248,
    "start_time": "2021-12-20T09:36:38.728Z"
   },
   {
    "duration": 13,
    "start_time": "2021-12-20T09:36:38.979Z"
   },
   {
    "duration": 666,
    "start_time": "2021-12-20T09:36:38.994Z"
   },
   {
    "duration": 10,
    "start_time": "2021-12-20T09:36:39.663Z"
   },
   {
    "duration": 28,
    "start_time": "2021-12-20T09:36:39.676Z"
   },
   {
    "duration": 1654,
    "start_time": "2021-12-20T09:36:39.706Z"
   },
   {
    "duration": 15,
    "start_time": "2021-12-20T09:36:41.363Z"
   },
   {
    "duration": 57,
    "start_time": "2021-12-20T09:36:41.380Z"
   },
   {
    "duration": 16,
    "start_time": "2021-12-20T09:39:53.880Z"
   },
   {
    "duration": 543,
    "start_time": "2021-12-20T09:41:14.701Z"
   },
   {
    "duration": 327,
    "start_time": "2021-12-20T09:41:41.861Z"
   },
   {
    "duration": 17,
    "start_time": "2021-12-20T09:42:07.231Z"
   },
   {
    "duration": 257,
    "start_time": "2021-12-20T09:42:07.279Z"
   },
   {
    "duration": 278,
    "start_time": "2021-12-20T09:50:15.835Z"
   },
   {
    "duration": 11,
    "start_time": "2021-12-20T09:50:57.664Z"
   },
   {
    "duration": 6,
    "start_time": "2021-12-20T09:51:01.141Z"
   },
   {
    "duration": 111,
    "start_time": "2021-12-20T09:51:01.150Z"
   },
   {
    "duration": 34,
    "start_time": "2021-12-20T09:51:01.264Z"
   },
   {
    "duration": 19,
    "start_time": "2021-12-20T09:51:01.325Z"
   },
   {
    "duration": 17,
    "start_time": "2021-12-20T09:51:01.346Z"
   },
   {
    "duration": 70,
    "start_time": "2021-12-20T09:51:01.366Z"
   },
   {
    "duration": 227,
    "start_time": "2021-12-20T09:51:01.439Z"
   },
   {
    "duration": 37,
    "start_time": "2021-12-20T09:51:01.669Z"
   },
   {
    "duration": 11,
    "start_time": "2021-12-20T09:51:01.725Z"
   },
   {
    "duration": 8,
    "start_time": "2021-12-20T09:51:01.739Z"
   },
   {
    "duration": 15,
    "start_time": "2021-12-20T09:51:01.749Z"
   },
   {
    "duration": 56,
    "start_time": "2021-12-20T09:51:01.767Z"
   },
   {
    "duration": 228,
    "start_time": "2021-12-20T09:51:01.826Z"
   },
   {
    "duration": 6,
    "start_time": "2021-12-20T09:51:02.057Z"
   },
   {
    "duration": 58,
    "start_time": "2021-12-20T09:51:02.065Z"
   },
   {
    "duration": 9,
    "start_time": "2021-12-20T09:51:02.126Z"
   },
   {
    "duration": 10,
    "start_time": "2021-12-20T09:51:02.137Z"
   },
   {
    "duration": 264,
    "start_time": "2021-12-20T09:51:02.149Z"
   },
   {
    "duration": 15,
    "start_time": "2021-12-20T09:51:02.424Z"
   },
   {
    "duration": 17,
    "start_time": "2021-12-20T09:51:02.442Z"
   },
   {
    "duration": 347,
    "start_time": "2021-12-20T09:51:02.461Z"
   },
   {
    "duration": 17,
    "start_time": "2021-12-20T09:51:02.811Z"
   },
   {
    "duration": 16,
    "start_time": "2021-12-20T09:51:02.837Z"
   },
   {
    "duration": 282,
    "start_time": "2021-12-20T09:51:02.858Z"
   },
   {
    "duration": 20,
    "start_time": "2021-12-20T09:51:03.143Z"
   },
   {
    "duration": 7,
    "start_time": "2021-12-20T09:51:03.165Z"
   },
   {
    "duration": 1012,
    "start_time": "2021-12-20T09:51:03.175Z"
   },
   {
    "duration": 6896,
    "start_time": "2021-12-20T09:51:04.190Z"
   },
   {
    "duration": 6,
    "start_time": "2021-12-20T09:51:11.089Z"
   },
   {
    "duration": 628,
    "start_time": "2021-12-20T09:51:11.097Z"
   },
   {
    "duration": 5622,
    "start_time": "2021-12-20T09:51:11.728Z"
   },
   {
    "duration": 14,
    "start_time": "2021-12-20T09:51:17.352Z"
   },
   {
    "duration": 13,
    "start_time": "2021-12-20T09:51:17.369Z"
   },
   {
    "duration": 40,
    "start_time": "2021-12-20T09:51:17.385Z"
   },
   {
    "duration": 2,
    "start_time": "2021-12-20T09:51:17.428Z"
   },
   {
    "duration": 12,
    "start_time": "2021-12-20T09:51:17.432Z"
   },
   {
    "duration": 15,
    "start_time": "2021-12-20T09:51:17.447Z"
   },
   {
    "duration": 9,
    "start_time": "2021-12-20T09:51:17.465Z"
   },
   {
    "duration": 5,
    "start_time": "2021-12-20T09:51:17.477Z"
   },
   {
    "duration": 55,
    "start_time": "2021-12-20T09:51:17.484Z"
   },
   {
    "duration": 5,
    "start_time": "2021-12-20T09:51:17.542Z"
   },
   {
    "duration": 1153,
    "start_time": "2021-12-20T09:51:17.550Z"
   },
   {
    "duration": 18,
    "start_time": "2021-12-20T09:51:18.705Z"
   },
   {
    "duration": 6,
    "start_time": "2021-12-20T09:51:18.725Z"
   },
   {
    "duration": 44,
    "start_time": "2021-12-20T09:51:18.734Z"
   },
   {
    "duration": 1928,
    "start_time": "2021-12-20T09:51:18.780Z"
   },
   {
    "duration": 13,
    "start_time": "2021-12-20T09:51:20.710Z"
   },
   {
    "duration": 7,
    "start_time": "2021-12-20T09:51:20.725Z"
   },
   {
    "duration": 34,
    "start_time": "2021-12-20T09:51:20.734Z"
   },
   {
    "duration": 736,
    "start_time": "2021-12-20T09:51:20.770Z"
   },
   {
    "duration": 19,
    "start_time": "2021-12-20T09:51:21.508Z"
   },
   {
    "duration": 246,
    "start_time": "2021-12-20T09:51:21.529Z"
   },
   {
    "duration": 12,
    "start_time": "2021-12-20T09:51:21.778Z"
   },
   {
    "duration": 666,
    "start_time": "2021-12-20T09:51:21.792Z"
   },
   {
    "duration": 8,
    "start_time": "2021-12-20T09:51:22.461Z"
   },
   {
    "duration": 26,
    "start_time": "2021-12-20T09:51:22.472Z"
   },
   {
    "duration": 1842,
    "start_time": "2021-12-20T09:51:22.500Z"
   },
   {
    "duration": 17,
    "start_time": "2021-12-20T09:51:24.345Z"
   },
   {
    "duration": 28,
    "start_time": "2021-12-20T09:51:24.365Z"
   },
   {
    "duration": 366,
    "start_time": "2021-12-20T09:51:24.396Z"
   },
   {
    "duration": 12,
    "start_time": "2021-12-20T09:51:24.765Z"
   },
   {
    "duration": 16,
    "start_time": "2021-12-20T09:51:50.836Z"
   },
   {
    "duration": 315,
    "start_time": "2021-12-20T09:56:08.550Z"
   },
   {
    "duration": 363,
    "start_time": "2021-12-20T09:56:30.668Z"
   },
   {
    "duration": 344,
    "start_time": "2021-12-20T21:21:07.085Z"
   },
   {
    "duration": 289,
    "start_time": "2021-12-20T21:21:23.652Z"
   },
   {
    "duration": 1499,
    "start_time": "2021-12-20T21:21:33.005Z"
   },
   {
    "duration": 95,
    "start_time": "2021-12-20T21:21:34.507Z"
   },
   {
    "duration": 40,
    "start_time": "2021-12-20T21:21:34.606Z"
   },
   {
    "duration": 17,
    "start_time": "2021-12-20T21:21:34.650Z"
   },
   {
    "duration": 54,
    "start_time": "2021-12-20T21:21:34.670Z"
   },
   {
    "duration": 40,
    "start_time": "2021-12-20T21:21:34.727Z"
   },
   {
    "duration": 235,
    "start_time": "2021-12-20T21:21:34.770Z"
   },
   {
    "duration": 37,
    "start_time": "2021-12-20T21:21:35.019Z"
   },
   {
    "duration": 13,
    "start_time": "2021-12-20T21:21:35.059Z"
   },
   {
    "duration": 9,
    "start_time": "2021-12-20T21:21:35.074Z"
   },
   {
    "duration": 17,
    "start_time": "2021-12-20T21:21:35.118Z"
   },
   {
    "duration": 22,
    "start_time": "2021-12-20T21:21:35.138Z"
   },
   {
    "duration": 242,
    "start_time": "2021-12-20T21:21:35.163Z"
   },
   {
    "duration": 11,
    "start_time": "2021-12-20T21:21:35.408Z"
   },
   {
    "duration": 40,
    "start_time": "2021-12-20T21:21:35.422Z"
   },
   {
    "duration": 11,
    "start_time": "2021-12-20T21:21:35.465Z"
   },
   {
    "duration": 43,
    "start_time": "2021-12-20T21:21:35.478Z"
   },
   {
    "duration": 243,
    "start_time": "2021-12-20T21:21:35.523Z"
   },
   {
    "duration": 12,
    "start_time": "2021-12-20T21:21:35.769Z"
   },
   {
    "duration": 44,
    "start_time": "2021-12-20T21:21:35.783Z"
   },
   {
    "duration": 223,
    "start_time": "2021-12-20T21:21:35.830Z"
   },
   {
    "duration": 12,
    "start_time": "2021-12-20T21:21:36.055Z"
   },
   {
    "duration": 17,
    "start_time": "2021-12-20T21:21:36.073Z"
   },
   {
    "duration": 241,
    "start_time": "2021-12-20T21:21:36.093Z"
   },
   {
    "duration": 16,
    "start_time": "2021-12-20T21:21:36.336Z"
   },
   {
    "duration": 5,
    "start_time": "2021-12-20T21:21:36.355Z"
   },
   {
    "duration": 1018,
    "start_time": "2021-12-20T21:21:36.363Z"
   },
   {
    "duration": 6373,
    "start_time": "2021-12-20T21:21:37.383Z"
   },
   {
    "duration": 7,
    "start_time": "2021-12-20T21:21:43.758Z"
   },
   {
    "duration": 622,
    "start_time": "2021-12-20T21:21:43.767Z"
   },
   {
    "duration": 5023,
    "start_time": "2021-12-20T21:21:44.391Z"
   },
   {
    "duration": 14,
    "start_time": "2021-12-20T21:21:49.417Z"
   },
   {
    "duration": 14,
    "start_time": "2021-12-20T21:21:49.433Z"
   },
   {
    "duration": 10,
    "start_time": "2021-12-20T21:21:49.449Z"
   },
   {
    "duration": 3,
    "start_time": "2021-12-20T21:21:49.461Z"
   },
   {
    "duration": 49,
    "start_time": "2021-12-20T21:21:49.467Z"
   },
   {
    "duration": 14,
    "start_time": "2021-12-20T21:21:49.519Z"
   },
   {
    "duration": 12,
    "start_time": "2021-12-20T21:21:49.535Z"
   },
   {
    "duration": 7,
    "start_time": "2021-12-20T21:21:49.549Z"
   },
   {
    "duration": 64,
    "start_time": "2021-12-20T21:21:49.559Z"
   },
   {
    "duration": 5,
    "start_time": "2021-12-20T21:21:49.625Z"
   },
   {
    "duration": 932,
    "start_time": "2021-12-20T21:21:49.632Z"
   },
   {
    "duration": 9,
    "start_time": "2021-12-20T21:21:50.566Z"
   },
   {
    "duration": 9,
    "start_time": "2021-12-20T21:21:50.577Z"
   },
   {
    "duration": 52,
    "start_time": "2021-12-20T21:21:50.588Z"
   },
   {
    "duration": 2048,
    "start_time": "2021-12-20T21:21:50.642Z"
   },
   {
    "duration": 6,
    "start_time": "2021-12-20T21:21:52.693Z"
   },
   {
    "duration": 20,
    "start_time": "2021-12-20T21:21:52.702Z"
   },
   {
    "duration": 8,
    "start_time": "2021-12-20T21:21:52.724Z"
   },
   {
    "duration": 719,
    "start_time": "2021-12-20T21:21:52.735Z"
   },
   {
    "duration": 8,
    "start_time": "2021-12-20T21:21:53.456Z"
   },
   {
    "duration": 242,
    "start_time": "2021-12-20T21:21:53.466Z"
   },
   {
    "duration": 16,
    "start_time": "2021-12-20T21:21:53.711Z"
   },
   {
    "duration": 707,
    "start_time": "2021-12-20T21:21:53.729Z"
   },
   {
    "duration": 8,
    "start_time": "2021-12-20T21:21:54.439Z"
   },
   {
    "duration": 11,
    "start_time": "2021-12-20T21:21:54.450Z"
   },
   {
    "duration": 1584,
    "start_time": "2021-12-20T21:21:54.464Z"
   },
   {
    "duration": 15,
    "start_time": "2021-12-20T21:21:56.050Z"
   },
   {
    "duration": 11,
    "start_time": "2021-12-20T21:21:56.067Z"
   },
   {
    "duration": 273,
    "start_time": "2021-12-20T21:21:56.081Z"
   },
   {
    "duration": 9,
    "start_time": "2021-12-20T21:21:56.356Z"
   },
   {
    "duration": 345,
    "start_time": "2021-12-20T21:21:56.368Z"
   },
   {
    "duration": 371,
    "start_time": "2021-12-20T21:21:56.716Z"
   },
   {
    "duration": 364,
    "start_time": "2021-12-20T21:22:50.855Z"
   },
   {
    "duration": 312,
    "start_time": "2021-12-20T21:22:54.730Z"
   },
   {
    "duration": 298,
    "start_time": "2021-12-20T21:23:20.809Z"
   },
   {
    "duration": 320,
    "start_time": "2021-12-20T21:25:31.227Z"
   },
   {
    "duration": 5,
    "start_time": "2021-12-20T21:25:45.049Z"
   },
   {
    "duration": 100,
    "start_time": "2021-12-20T21:25:45.057Z"
   },
   {
    "duration": 60,
    "start_time": "2021-12-20T21:25:45.159Z"
   },
   {
    "duration": 16,
    "start_time": "2021-12-20T21:25:45.222Z"
   },
   {
    "duration": 20,
    "start_time": "2021-12-20T21:25:45.241Z"
   },
   {
    "duration": 81,
    "start_time": "2021-12-20T21:25:45.264Z"
   },
   {
    "duration": 221,
    "start_time": "2021-12-20T21:25:45.348Z"
   },
   {
    "duration": 49,
    "start_time": "2021-12-20T21:25:45.572Z"
   },
   {
    "duration": 9,
    "start_time": "2021-12-20T21:25:45.625Z"
   },
   {
    "duration": 9,
    "start_time": "2021-12-20T21:25:45.637Z"
   },
   {
    "duration": 14,
    "start_time": "2021-12-20T21:25:45.648Z"
   },
   {
    "duration": 55,
    "start_time": "2021-12-20T21:25:45.665Z"
   },
   {
    "duration": 223,
    "start_time": "2021-12-20T21:25:45.723Z"
   },
   {
    "duration": 5,
    "start_time": "2021-12-20T21:25:45.948Z"
   },
   {
    "duration": 39,
    "start_time": "2021-12-20T21:25:45.955Z"
   },
   {
    "duration": 26,
    "start_time": "2021-12-20T21:25:45.996Z"
   },
   {
    "duration": 6,
    "start_time": "2021-12-20T21:25:46.025Z"
   },
   {
    "duration": 258,
    "start_time": "2021-12-20T21:25:46.033Z"
   },
   {
    "duration": 26,
    "start_time": "2021-12-20T21:25:46.293Z"
   },
   {
    "duration": 18,
    "start_time": "2021-12-20T21:25:46.322Z"
   },
   {
    "duration": 337,
    "start_time": "2021-12-20T21:25:46.342Z"
   },
   {
    "duration": 12,
    "start_time": "2021-12-20T21:25:46.681Z"
   },
   {
    "duration": 34,
    "start_time": "2021-12-20T21:25:46.699Z"
   },
   {
    "duration": 234,
    "start_time": "2021-12-20T21:25:46.736Z"
   },
   {
    "duration": 17,
    "start_time": "2021-12-20T21:25:46.973Z"
   },
   {
    "duration": 26,
    "start_time": "2021-12-20T21:25:46.992Z"
   },
   {
    "duration": 993,
    "start_time": "2021-12-20T21:25:47.021Z"
   },
   {
    "duration": 6615,
    "start_time": "2021-12-20T21:25:48.017Z"
   },
   {
    "duration": 7,
    "start_time": "2021-12-20T21:25:54.634Z"
   },
   {
    "duration": 616,
    "start_time": "2021-12-20T21:25:54.643Z"
   },
   {
    "duration": 5244,
    "start_time": "2021-12-20T21:25:55.261Z"
   },
   {
    "duration": 13,
    "start_time": "2021-12-20T21:26:00.508Z"
   },
   {
    "duration": 15,
    "start_time": "2021-12-20T21:26:00.523Z"
   },
   {
    "duration": 11,
    "start_time": "2021-12-20T21:26:00.541Z"
   },
   {
    "duration": 14,
    "start_time": "2021-12-20T21:26:00.554Z"
   },
   {
    "duration": 12,
    "start_time": "2021-12-20T21:26:00.571Z"
   },
   {
    "duration": 38,
    "start_time": "2021-12-20T21:26:00.585Z"
   },
   {
    "duration": 26,
    "start_time": "2021-12-20T21:26:00.625Z"
   },
   {
    "duration": 12,
    "start_time": "2021-12-20T21:26:00.653Z"
   },
   {
    "duration": 22,
    "start_time": "2021-12-20T21:26:00.668Z"
   },
   {
    "duration": 4,
    "start_time": "2021-12-20T21:26:00.693Z"
   },
   {
    "duration": 1003,
    "start_time": "2021-12-20T21:26:00.699Z"
   },
   {
    "duration": 14,
    "start_time": "2021-12-20T21:26:01.705Z"
   },
   {
    "duration": 8,
    "start_time": "2021-12-20T21:26:01.722Z"
   },
   {
    "duration": 45,
    "start_time": "2021-12-20T21:26:01.732Z"
   },
   {
    "duration": 1831,
    "start_time": "2021-12-20T21:26:01.780Z"
   },
   {
    "duration": 7,
    "start_time": "2021-12-20T21:26:03.617Z"
   },
   {
    "duration": 7,
    "start_time": "2021-12-20T21:26:03.627Z"
   },
   {
    "duration": 7,
    "start_time": "2021-12-20T21:26:03.637Z"
   },
   {
    "duration": 732,
    "start_time": "2021-12-20T21:26:03.646Z"
   },
   {
    "duration": 8,
    "start_time": "2021-12-20T21:26:04.380Z"
   },
   {
    "duration": 254,
    "start_time": "2021-12-20T21:26:04.390Z"
   },
   {
    "duration": 13,
    "start_time": "2021-12-20T21:26:04.646Z"
   },
   {
    "duration": 616,
    "start_time": "2021-12-20T21:26:04.662Z"
   },
   {
    "duration": 10,
    "start_time": "2021-12-20T21:26:05.281Z"
   },
   {
    "duration": 28,
    "start_time": "2021-12-20T21:26:05.293Z"
   },
   {
    "duration": 1672,
    "start_time": "2021-12-20T21:26:05.324Z"
   },
   {
    "duration": 26,
    "start_time": "2021-12-20T21:26:06.999Z"
   },
   {
    "duration": 13,
    "start_time": "2021-12-20T21:26:07.028Z"
   },
   {
    "duration": 411,
    "start_time": "2021-12-20T21:26:07.044Z"
   },
   {
    "duration": 10,
    "start_time": "2021-12-20T21:26:07.459Z"
   },
   {
    "duration": 379,
    "start_time": "2021-12-20T21:26:07.471Z"
   },
   {
    "duration": 299,
    "start_time": "2021-12-20T21:26:07.852Z"
   },
   {
    "duration": 11,
    "start_time": "2021-12-20T21:26:57.955Z"
   },
   {
    "duration": 12,
    "start_time": "2021-12-20T21:27:08.316Z"
   },
   {
    "duration": 293,
    "start_time": "2021-12-20T21:27:43.045Z"
   },
   {
    "duration": 7,
    "start_time": "2021-12-20T21:28:27.958Z"
   },
   {
    "duration": 102,
    "start_time": "2021-12-20T21:28:27.968Z"
   },
   {
    "duration": 68,
    "start_time": "2021-12-20T21:28:28.074Z"
   },
   {
    "duration": 17,
    "start_time": "2021-12-20T21:28:28.146Z"
   },
   {
    "duration": 18,
    "start_time": "2021-12-20T21:28:28.165Z"
   },
   {
    "duration": 38,
    "start_time": "2021-12-20T21:28:28.218Z"
   },
   {
    "duration": 228,
    "start_time": "2021-12-20T21:28:28.259Z"
   },
   {
    "duration": 43,
    "start_time": "2021-12-20T21:28:28.493Z"
   },
   {
    "duration": 10,
    "start_time": "2021-12-20T21:28:28.539Z"
   },
   {
    "duration": 8,
    "start_time": "2021-12-20T21:28:28.552Z"
   },
   {
    "duration": 14,
    "start_time": "2021-12-20T21:28:28.562Z"
   },
   {
    "duration": 53,
    "start_time": "2021-12-20T21:28:28.579Z"
   },
   {
    "duration": 230,
    "start_time": "2021-12-20T21:28:28.635Z"
   },
   {
    "duration": 5,
    "start_time": "2021-12-20T21:28:28.868Z"
   },
   {
    "duration": 48,
    "start_time": "2021-12-20T21:28:28.875Z"
   },
   {
    "duration": 7,
    "start_time": "2021-12-20T21:28:28.926Z"
   },
   {
    "duration": 7,
    "start_time": "2021-12-20T21:28:28.936Z"
   },
   {
    "duration": 258,
    "start_time": "2021-12-20T21:28:28.945Z"
   },
   {
    "duration": 22,
    "start_time": "2021-12-20T21:28:29.205Z"
   },
   {
    "duration": 17,
    "start_time": "2021-12-20T21:28:29.229Z"
   },
   {
    "duration": 233,
    "start_time": "2021-12-20T21:28:29.248Z"
   },
   {
    "duration": 13,
    "start_time": "2021-12-20T21:28:29.483Z"
   },
   {
    "duration": 17,
    "start_time": "2021-12-20T21:28:29.518Z"
   },
   {
    "duration": 224,
    "start_time": "2021-12-20T21:28:29.538Z"
   },
   {
    "duration": 18,
    "start_time": "2021-12-20T21:28:29.764Z"
   },
   {
    "duration": 5,
    "start_time": "2021-12-20T21:28:29.784Z"
   },
   {
    "duration": 1102,
    "start_time": "2021-12-20T21:28:29.791Z"
   },
   {
    "duration": 6660,
    "start_time": "2021-12-20T21:28:30.895Z"
   },
   {
    "duration": 7,
    "start_time": "2021-12-20T21:28:37.557Z"
   },
   {
    "duration": 664,
    "start_time": "2021-12-20T21:28:37.566Z"
   },
   {
    "duration": 4885,
    "start_time": "2021-12-20T21:28:38.232Z"
   },
   {
    "duration": 13,
    "start_time": "2021-12-20T21:28:43.120Z"
   },
   {
    "duration": 13,
    "start_time": "2021-12-20T21:28:43.136Z"
   },
   {
    "duration": 8,
    "start_time": "2021-12-20T21:28:43.152Z"
   },
   {
    "duration": 4,
    "start_time": "2021-12-20T21:28:43.162Z"
   },
   {
    "duration": 5,
    "start_time": "2021-12-20T21:28:43.168Z"
   },
   {
    "duration": 51,
    "start_time": "2021-12-20T21:28:43.175Z"
   },
   {
    "duration": 10,
    "start_time": "2021-12-20T21:28:43.229Z"
   },
   {
    "duration": 5,
    "start_time": "2021-12-20T21:28:43.242Z"
   },
   {
    "duration": 18,
    "start_time": "2021-12-20T21:28:43.249Z"
   },
   {
    "duration": 5,
    "start_time": "2021-12-20T21:28:43.269Z"
   },
   {
    "duration": 922,
    "start_time": "2021-12-20T21:28:43.276Z"
   },
   {
    "duration": 9,
    "start_time": "2021-12-20T21:28:44.201Z"
   },
   {
    "duration": 6,
    "start_time": "2021-12-20T21:28:44.217Z"
   },
   {
    "duration": 34,
    "start_time": "2021-12-20T21:28:44.225Z"
   },
   {
    "duration": 1958,
    "start_time": "2021-12-20T21:28:44.262Z"
   },
   {
    "duration": 7,
    "start_time": "2021-12-20T21:28:46.222Z"
   },
   {
    "duration": 6,
    "start_time": "2021-12-20T21:28:46.232Z"
   },
   {
    "duration": 6,
    "start_time": "2021-12-20T21:28:46.240Z"
   },
   {
    "duration": 772,
    "start_time": "2021-12-20T21:28:46.248Z"
   },
   {
    "duration": 7,
    "start_time": "2021-12-20T21:28:47.023Z"
   },
   {
    "duration": 351,
    "start_time": "2021-12-20T21:28:47.033Z"
   },
   {
    "duration": 12,
    "start_time": "2021-12-20T21:28:47.387Z"
   },
   {
    "duration": 742,
    "start_time": "2021-12-20T21:28:47.401Z"
   },
   {
    "duration": 8,
    "start_time": "2021-12-20T21:28:48.145Z"
   },
   {
    "duration": 6,
    "start_time": "2021-12-20T21:28:48.155Z"
   },
   {
    "duration": 1847,
    "start_time": "2021-12-20T21:28:48.164Z"
   },
   {
    "duration": 21,
    "start_time": "2021-12-20T21:28:50.013Z"
   },
   {
    "duration": 11,
    "start_time": "2021-12-20T21:28:50.036Z"
   },
   {
    "duration": 304,
    "start_time": "2021-12-20T21:28:50.050Z"
   },
   {
    "duration": 11,
    "start_time": "2021-12-20T21:28:50.357Z"
   },
   {
    "duration": 405,
    "start_time": "2021-12-20T21:28:50.370Z"
   },
   {
    "duration": 15,
    "start_time": "2021-12-20T21:28:50.778Z"
   },
   {
    "duration": 373,
    "start_time": "2021-12-20T21:28:50.796Z"
   },
   {
    "duration": 339,
    "start_time": "2021-12-20T21:35:39.204Z"
   },
   {
    "duration": 330,
    "start_time": "2021-12-20T21:35:51.819Z"
   },
   {
    "duration": 5,
    "start_time": "2021-12-20T21:36:46.565Z"
   },
   {
    "duration": 88,
    "start_time": "2021-12-20T21:36:46.573Z"
   },
   {
    "duration": 63,
    "start_time": "2021-12-20T21:36:46.663Z"
   },
   {
    "duration": 15,
    "start_time": "2021-12-20T21:36:46.729Z"
   },
   {
    "duration": 19,
    "start_time": "2021-12-20T21:36:46.746Z"
   },
   {
    "duration": 68,
    "start_time": "2021-12-20T21:36:46.767Z"
   },
   {
    "duration": 221,
    "start_time": "2021-12-20T21:36:46.838Z"
   },
   {
    "duration": 36,
    "start_time": "2021-12-20T21:36:47.062Z"
   },
   {
    "duration": 23,
    "start_time": "2021-12-20T21:36:47.101Z"
   },
   {
    "duration": 7,
    "start_time": "2021-12-20T21:36:47.127Z"
   },
   {
    "duration": 14,
    "start_time": "2021-12-20T21:36:47.136Z"
   },
   {
    "duration": 16,
    "start_time": "2021-12-20T21:36:47.152Z"
   },
   {
    "duration": 252,
    "start_time": "2021-12-20T21:36:47.170Z"
   },
   {
    "duration": 5,
    "start_time": "2021-12-20T21:36:47.424Z"
   },
   {
    "duration": 37,
    "start_time": "2021-12-20T21:36:47.431Z"
   },
   {
    "duration": 8,
    "start_time": "2021-12-20T21:36:47.470Z"
   },
   {
    "duration": 6,
    "start_time": "2021-12-20T21:36:47.481Z"
   },
   {
    "duration": 243,
    "start_time": "2021-12-20T21:36:47.518Z"
   },
   {
    "duration": 15,
    "start_time": "2021-12-20T21:36:47.763Z"
   },
   {
    "duration": 46,
    "start_time": "2021-12-20T21:36:47.780Z"
   },
   {
    "duration": 224,
    "start_time": "2021-12-20T21:36:47.829Z"
   },
   {
    "duration": 11,
    "start_time": "2021-12-20T21:36:48.056Z"
   },
   {
    "duration": 17,
    "start_time": "2021-12-20T21:36:48.074Z"
   },
   {
    "duration": 222,
    "start_time": "2021-12-20T21:36:48.119Z"
   },
   {
    "duration": 20,
    "start_time": "2021-12-20T21:36:48.344Z"
   },
   {
    "duration": 6,
    "start_time": "2021-12-20T21:36:48.367Z"
   },
   {
    "duration": 1017,
    "start_time": "2021-12-20T21:36:48.376Z"
   },
   {
    "duration": 6496,
    "start_time": "2021-12-20T21:36:49.396Z"
   },
   {
    "duration": 7,
    "start_time": "2021-12-20T21:36:55.894Z"
   },
   {
    "duration": 735,
    "start_time": "2021-12-20T21:36:55.904Z"
   },
   {
    "duration": 4946,
    "start_time": "2021-12-20T21:36:56.641Z"
   },
   {
    "duration": 27,
    "start_time": "2021-12-20T21:37:01.590Z"
   },
   {
    "duration": 15,
    "start_time": "2021-12-20T21:37:01.619Z"
   },
   {
    "duration": 27,
    "start_time": "2021-12-20T21:37:01.637Z"
   },
   {
    "duration": 18,
    "start_time": "2021-12-20T21:37:01.666Z"
   },
   {
    "duration": 19,
    "start_time": "2021-12-20T21:37:01.686Z"
   },
   {
    "duration": 18,
    "start_time": "2021-12-20T21:37:01.707Z"
   },
   {
    "duration": 11,
    "start_time": "2021-12-20T21:37:01.728Z"
   },
   {
    "duration": 5,
    "start_time": "2021-12-20T21:37:01.741Z"
   },
   {
    "duration": 32,
    "start_time": "2021-12-20T21:37:01.749Z"
   },
   {
    "duration": 5,
    "start_time": "2021-12-20T21:37:01.783Z"
   },
   {
    "duration": 1010,
    "start_time": "2021-12-20T21:37:01.790Z"
   },
   {
    "duration": 16,
    "start_time": "2021-12-20T21:37:02.802Z"
   },
   {
    "duration": 5,
    "start_time": "2021-12-20T21:37:02.821Z"
   },
   {
    "duration": 37,
    "start_time": "2021-12-20T21:37:02.828Z"
   },
   {
    "duration": 1907,
    "start_time": "2021-12-20T21:37:02.867Z"
   },
   {
    "duration": 6,
    "start_time": "2021-12-20T21:37:04.776Z"
   },
   {
    "duration": 13,
    "start_time": "2021-12-20T21:37:04.784Z"
   },
   {
    "duration": 22,
    "start_time": "2021-12-20T21:37:04.799Z"
   },
   {
    "duration": 710,
    "start_time": "2021-12-20T21:37:04.823Z"
   },
   {
    "duration": 6,
    "start_time": "2021-12-20T21:37:05.535Z"
   },
   {
    "duration": 258,
    "start_time": "2021-12-20T21:37:05.544Z"
   },
   {
    "duration": 21,
    "start_time": "2021-12-20T21:37:05.804Z"
   },
   {
    "duration": 606,
    "start_time": "2021-12-20T21:37:05.828Z"
   },
   {
    "duration": 7,
    "start_time": "2021-12-20T21:37:06.437Z"
   },
   {
    "duration": 5,
    "start_time": "2021-12-20T21:37:06.447Z"
   },
   {
    "duration": 1647,
    "start_time": "2021-12-20T21:37:06.455Z"
   },
   {
    "duration": 23,
    "start_time": "2021-12-20T21:37:08.105Z"
   },
   {
    "duration": 11,
    "start_time": "2021-12-20T21:37:08.131Z"
   },
   {
    "duration": 265,
    "start_time": "2021-12-20T21:37:08.145Z"
   },
   {
    "duration": 11,
    "start_time": "2021-12-20T21:37:08.416Z"
   },
   {
    "duration": 356,
    "start_time": "2021-12-20T21:37:08.430Z"
   },
   {
    "duration": 28,
    "start_time": "2021-12-20T21:37:08.789Z"
   },
   {
    "duration": 350,
    "start_time": "2021-12-20T21:37:08.820Z"
   },
   {
    "duration": 336,
    "start_time": "2021-12-20T21:37:09.173Z"
   },
   {
    "duration": 12,
    "start_time": "2021-12-20T21:37:45.413Z"
   },
   {
    "duration": 12,
    "start_time": "2021-12-20T21:37:48.306Z"
   },
   {
    "duration": 5,
    "start_time": "2021-12-20T21:38:38.210Z"
   },
   {
    "duration": 116,
    "start_time": "2021-12-20T21:38:38.218Z"
   },
   {
    "duration": 36,
    "start_time": "2021-12-20T21:38:38.337Z"
   },
   {
    "duration": 48,
    "start_time": "2021-12-20T21:38:38.376Z"
   },
   {
    "duration": 18,
    "start_time": "2021-12-20T21:38:38.427Z"
   },
   {
    "duration": 37,
    "start_time": "2021-12-20T21:38:38.447Z"
   },
   {
    "duration": 245,
    "start_time": "2021-12-20T21:38:38.486Z"
   },
   {
    "duration": 35,
    "start_time": "2021-12-20T21:38:38.735Z"
   },
   {
    "duration": 10,
    "start_time": "2021-12-20T21:38:38.773Z"
   },
   {
    "duration": 32,
    "start_time": "2021-12-20T21:38:38.786Z"
   },
   {
    "duration": 16,
    "start_time": "2021-12-20T21:38:38.820Z"
   },
   {
    "duration": 17,
    "start_time": "2021-12-20T21:38:38.838Z"
   },
   {
    "duration": 245,
    "start_time": "2021-12-20T21:38:38.857Z"
   },
   {
    "duration": 14,
    "start_time": "2021-12-20T21:38:39.104Z"
   },
   {
    "duration": 36,
    "start_time": "2021-12-20T21:38:39.120Z"
   },
   {
    "duration": 9,
    "start_time": "2021-12-20T21:38:39.158Z"
   },
   {
    "duration": 7,
    "start_time": "2021-12-20T21:38:39.170Z"
   },
   {
    "duration": 407,
    "start_time": "2021-12-20T21:38:39.179Z"
   },
   {
    "duration": 31,
    "start_time": "2021-12-20T21:38:39.589Z"
   },
   {
    "duration": 19,
    "start_time": "2021-12-20T21:38:39.622Z"
   },
   {
    "duration": 229,
    "start_time": "2021-12-20T21:38:39.643Z"
   },
   {
    "duration": 14,
    "start_time": "2021-12-20T21:38:39.875Z"
   },
   {
    "duration": 37,
    "start_time": "2021-12-20T21:38:39.894Z"
   },
   {
    "duration": 316,
    "start_time": "2021-12-20T21:38:39.934Z"
   },
   {
    "duration": 16,
    "start_time": "2021-12-20T21:38:40.253Z"
   },
   {
    "duration": 5,
    "start_time": "2021-12-20T21:38:40.272Z"
   },
   {
    "duration": 1010,
    "start_time": "2021-12-20T21:38:40.279Z"
   },
   {
    "duration": 6696,
    "start_time": "2021-12-20T21:38:41.291Z"
   },
   {
    "duration": 9,
    "start_time": "2021-12-20T21:38:47.990Z"
   },
   {
    "duration": 608,
    "start_time": "2021-12-20T21:38:48.018Z"
   },
   {
    "duration": 5095,
    "start_time": "2021-12-20T21:38:48.628Z"
   },
   {
    "duration": 14,
    "start_time": "2021-12-20T21:38:53.726Z"
   },
   {
    "duration": 15,
    "start_time": "2021-12-20T21:38:53.742Z"
   },
   {
    "duration": 9,
    "start_time": "2021-12-20T21:38:53.760Z"
   },
   {
    "duration": 6,
    "start_time": "2021-12-20T21:38:53.771Z"
   },
   {
    "duration": 41,
    "start_time": "2021-12-20T21:38:53.779Z"
   },
   {
    "duration": 16,
    "start_time": "2021-12-20T21:38:53.822Z"
   },
   {
    "duration": 10,
    "start_time": "2021-12-20T21:38:53.842Z"
   },
   {
    "duration": 8,
    "start_time": "2021-12-20T21:38:53.854Z"
   },
   {
    "duration": 53,
    "start_time": "2021-12-20T21:38:53.864Z"
   },
   {
    "duration": 5,
    "start_time": "2021-12-20T21:38:53.920Z"
   },
   {
    "duration": 1229,
    "start_time": "2021-12-20T21:38:53.928Z"
   },
   {
    "duration": 10,
    "start_time": "2021-12-20T21:38:55.160Z"
   },
   {
    "duration": 6,
    "start_time": "2021-12-20T21:38:55.172Z"
   },
   {
    "duration": 59,
    "start_time": "2021-12-20T21:38:55.181Z"
   },
   {
    "duration": 2021,
    "start_time": "2021-12-20T21:38:55.243Z"
   },
   {
    "duration": 7,
    "start_time": "2021-12-20T21:38:57.267Z"
   },
   {
    "duration": 7,
    "start_time": "2021-12-20T21:38:57.276Z"
   },
   {
    "duration": 33,
    "start_time": "2021-12-20T21:38:57.285Z"
   },
   {
    "duration": 834,
    "start_time": "2021-12-20T21:38:57.321Z"
   },
   {
    "duration": 8,
    "start_time": "2021-12-20T21:38:58.157Z"
   },
   {
    "duration": 358,
    "start_time": "2021-12-20T21:38:58.167Z"
   },
   {
    "duration": 13,
    "start_time": "2021-12-20T21:38:58.527Z"
   },
   {
    "duration": 608,
    "start_time": "2021-12-20T21:38:58.542Z"
   },
   {
    "duration": 8,
    "start_time": "2021-12-20T21:38:59.152Z"
   },
   {
    "duration": 5,
    "start_time": "2021-12-20T21:38:59.163Z"
   },
   {
    "duration": 1927,
    "start_time": "2021-12-20T21:38:59.170Z"
   },
   {
    "duration": 25,
    "start_time": "2021-12-20T21:39:01.099Z"
   },
   {
    "duration": 12,
    "start_time": "2021-12-20T21:39:01.126Z"
   },
   {
    "duration": 277,
    "start_time": "2021-12-20T21:39:01.140Z"
   },
   {
    "duration": 11,
    "start_time": "2021-12-20T21:39:01.419Z"
   },
   {
    "duration": 364,
    "start_time": "2021-12-20T21:39:01.432Z"
   },
   {
    "duration": 19,
    "start_time": "2021-12-20T21:39:01.798Z"
   },
   {
    "duration": 364,
    "start_time": "2021-12-20T21:39:01.819Z"
   },
   {
    "duration": 10,
    "start_time": "2021-12-20T21:39:02.186Z"
   },
   {
    "duration": 321,
    "start_time": "2021-12-20T21:39:02.198Z"
   },
   {
    "duration": 12,
    "start_time": "2021-12-20T21:50:53.646Z"
   },
   {
    "duration": 361,
    "start_time": "2021-12-20T21:52:24.306Z"
   },
   {
    "duration": 5,
    "start_time": "2021-12-20T21:52:41.335Z"
   },
   {
    "duration": 96,
    "start_time": "2021-12-20T21:52:41.343Z"
   },
   {
    "duration": 35,
    "start_time": "2021-12-20T21:52:41.442Z"
   },
   {
    "duration": 50,
    "start_time": "2021-12-20T21:52:41.480Z"
   },
   {
    "duration": 18,
    "start_time": "2021-12-20T21:52:41.532Z"
   },
   {
    "duration": 66,
    "start_time": "2021-12-20T21:52:41.552Z"
   },
   {
    "duration": 220,
    "start_time": "2021-12-20T21:52:41.621Z"
   },
   {
    "duration": 36,
    "start_time": "2021-12-20T21:52:41.845Z"
   },
   {
    "duration": 33,
    "start_time": "2021-12-20T21:52:41.884Z"
   },
   {
    "duration": 7,
    "start_time": "2021-12-20T21:52:41.920Z"
   },
   {
    "duration": 15,
    "start_time": "2021-12-20T21:52:41.929Z"
   },
   {
    "duration": 17,
    "start_time": "2021-12-20T21:52:41.947Z"
   },
   {
    "duration": 253,
    "start_time": "2021-12-20T21:52:41.966Z"
   },
   {
    "duration": 5,
    "start_time": "2021-12-20T21:52:42.222Z"
   },
   {
    "duration": 35,
    "start_time": "2021-12-20T21:52:42.229Z"
   },
   {
    "duration": 8,
    "start_time": "2021-12-20T21:52:42.266Z"
   },
   {
    "duration": 7,
    "start_time": "2021-12-20T21:52:42.276Z"
   },
   {
    "duration": 272,
    "start_time": "2021-12-20T21:52:42.285Z"
   },
   {
    "duration": 12,
    "start_time": "2021-12-20T21:52:42.559Z"
   },
   {
    "duration": 16,
    "start_time": "2021-12-20T21:52:42.573Z"
   },
   {
    "duration": 221,
    "start_time": "2021-12-20T21:52:42.617Z"
   },
   {
    "duration": 13,
    "start_time": "2021-12-20T21:52:42.840Z"
   },
   {
    "duration": 16,
    "start_time": "2021-12-20T21:52:42.858Z"
   },
   {
    "duration": 241,
    "start_time": "2021-12-20T21:52:42.878Z"
   },
   {
    "duration": 17,
    "start_time": "2021-12-20T21:52:43.121Z"
   },
   {
    "duration": 5,
    "start_time": "2021-12-20T21:52:43.140Z"
   },
   {
    "duration": 996,
    "start_time": "2021-12-20T21:52:43.147Z"
   },
   {
    "duration": 6426,
    "start_time": "2021-12-20T21:52:44.146Z"
   },
   {
    "duration": 8,
    "start_time": "2021-12-20T21:52:50.575Z"
   },
   {
    "duration": 640,
    "start_time": "2021-12-20T21:52:50.586Z"
   },
   {
    "duration": 4891,
    "start_time": "2021-12-20T21:52:51.229Z"
   },
   {
    "duration": 14,
    "start_time": "2021-12-20T21:52:56.122Z"
   },
   {
    "duration": 14,
    "start_time": "2021-12-20T21:52:56.139Z"
   },
   {
    "duration": 8,
    "start_time": "2021-12-20T21:52:56.156Z"
   },
   {
    "duration": 6,
    "start_time": "2021-12-20T21:52:56.166Z"
   },
   {
    "duration": 6,
    "start_time": "2021-12-20T21:52:56.175Z"
   },
   {
    "duration": 47,
    "start_time": "2021-12-20T21:52:56.183Z"
   },
   {
    "duration": 11,
    "start_time": "2021-12-20T21:52:56.232Z"
   },
   {
    "duration": 6,
    "start_time": "2021-12-20T21:52:56.245Z"
   },
   {
    "duration": 64,
    "start_time": "2021-12-20T21:52:56.253Z"
   },
   {
    "duration": 5,
    "start_time": "2021-12-20T21:52:56.320Z"
   },
   {
    "duration": 1110,
    "start_time": "2021-12-20T21:52:56.328Z"
   },
   {
    "duration": 11,
    "start_time": "2021-12-20T21:52:57.440Z"
   },
   {
    "duration": 6,
    "start_time": "2021-12-20T21:52:57.454Z"
   },
   {
    "duration": 63,
    "start_time": "2021-12-20T21:52:57.463Z"
   },
   {
    "duration": 1797,
    "start_time": "2021-12-20T21:52:57.528Z"
   },
   {
    "duration": 7,
    "start_time": "2021-12-20T21:52:59.328Z"
   },
   {
    "duration": 13,
    "start_time": "2021-12-20T21:52:59.337Z"
   },
   {
    "duration": 8,
    "start_time": "2021-12-20T21:52:59.353Z"
   },
   {
    "duration": 979,
    "start_time": "2021-12-20T21:52:59.364Z"
   },
   {
    "duration": 9,
    "start_time": "2021-12-20T21:53:00.346Z"
   },
   {
    "duration": 253,
    "start_time": "2021-12-20T21:53:00.358Z"
   },
   {
    "duration": 13,
    "start_time": "2021-12-20T21:53:00.617Z"
   },
   {
    "duration": 612,
    "start_time": "2021-12-20T21:53:00.632Z"
   },
   {
    "duration": 9,
    "start_time": "2021-12-20T21:53:01.247Z"
   },
   {
    "duration": 45,
    "start_time": "2021-12-20T21:53:01.258Z"
   },
   {
    "duration": 1624,
    "start_time": "2021-12-20T21:53:01.306Z"
   },
   {
    "duration": 15,
    "start_time": "2021-12-20T21:53:02.933Z"
   },
   {
    "duration": 11,
    "start_time": "2021-12-20T21:53:02.950Z"
   },
   {
    "duration": 269,
    "start_time": "2021-12-20T21:53:02.963Z"
   },
   {
    "duration": 10,
    "start_time": "2021-12-20T21:53:03.234Z"
   },
   {
    "duration": 354,
    "start_time": "2021-12-20T21:53:03.247Z"
   },
   {
    "duration": 18,
    "start_time": "2021-12-20T21:53:03.603Z"
   },
   {
    "duration": 341,
    "start_time": "2021-12-20T21:53:03.623Z"
   },
   {
    "duration": 9,
    "start_time": "2021-12-20T21:53:03.967Z"
   },
   {
    "duration": 298,
    "start_time": "2021-12-20T21:53:03.978Z"
   },
   {
    "duration": 10,
    "start_time": "2021-12-20T21:53:04.278Z"
   },
   {
    "duration": 77,
    "start_time": "2021-12-20T21:53:04.295Z"
   },
   {
    "duration": 10,
    "start_time": "2021-12-20T21:53:32.191Z"
   },
   {
    "duration": 60,
    "start_time": "2021-12-20T21:53:39.763Z"
   },
   {
    "duration": 11,
    "start_time": "2021-12-20T21:54:39.962Z"
   },
   {
    "duration": 6,
    "start_time": "2021-12-20T22:15:10.002Z"
   },
   {
    "duration": 6,
    "start_time": "2021-12-20T22:15:17.196Z"
   },
   {
    "duration": 133,
    "start_time": "2021-12-20T22:15:17.204Z"
   },
   {
    "duration": 36,
    "start_time": "2021-12-20T22:15:17.340Z"
   },
   {
    "duration": 48,
    "start_time": "2021-12-20T22:15:17.379Z"
   },
   {
    "duration": 20,
    "start_time": "2021-12-20T22:15:17.430Z"
   },
   {
    "duration": 76,
    "start_time": "2021-12-20T22:15:17.453Z"
   },
   {
    "duration": 228,
    "start_time": "2021-12-20T22:15:17.532Z"
   },
   {
    "duration": 53,
    "start_time": "2021-12-20T22:15:17.764Z"
   },
   {
    "duration": 24,
    "start_time": "2021-12-20T22:15:17.820Z"
   },
   {
    "duration": 21,
    "start_time": "2021-12-20T22:15:17.846Z"
   },
   {
    "duration": 30,
    "start_time": "2021-12-20T22:15:17.869Z"
   },
   {
    "duration": 35,
    "start_time": "2021-12-20T22:15:17.901Z"
   },
   {
    "duration": 231,
    "start_time": "2021-12-20T22:15:17.939Z"
   },
   {
    "duration": 5,
    "start_time": "2021-12-20T22:15:18.172Z"
   },
   {
    "duration": 51,
    "start_time": "2021-12-20T22:15:18.180Z"
   },
   {
    "duration": 21,
    "start_time": "2021-12-20T22:15:18.233Z"
   },
   {
    "duration": 28,
    "start_time": "2021-12-20T22:15:18.257Z"
   },
   {
    "duration": 264,
    "start_time": "2021-12-20T22:15:18.287Z"
   },
   {
    "duration": 14,
    "start_time": "2021-12-20T22:15:18.553Z"
   },
   {
    "duration": 29,
    "start_time": "2021-12-20T22:15:18.570Z"
   },
   {
    "duration": 226,
    "start_time": "2021-12-20T22:15:18.617Z"
   },
   {
    "duration": 12,
    "start_time": "2021-12-20T22:15:18.846Z"
   },
   {
    "duration": 30,
    "start_time": "2021-12-20T22:15:18.864Z"
   },
   {
    "duration": 244,
    "start_time": "2021-12-20T22:15:18.898Z"
   },
   {
    "duration": 18,
    "start_time": "2021-12-20T22:15:19.145Z"
   },
   {
    "duration": 9,
    "start_time": "2021-12-20T22:15:19.165Z"
   },
   {
    "duration": 1056,
    "start_time": "2021-12-20T22:15:19.176Z"
   },
   {
    "duration": 7070,
    "start_time": "2021-12-20T22:15:20.235Z"
   },
   {
    "duration": 10,
    "start_time": "2021-12-20T22:15:27.316Z"
   },
   {
    "duration": 645,
    "start_time": "2021-12-20T22:15:27.329Z"
   },
   {
    "duration": 5287,
    "start_time": "2021-12-20T22:15:27.977Z"
   },
   {
    "duration": 15,
    "start_time": "2021-12-20T22:15:33.266Z"
   },
   {
    "duration": 35,
    "start_time": "2021-12-20T22:15:33.283Z"
   },
   {
    "duration": 10,
    "start_time": "2021-12-20T22:15:33.321Z"
   },
   {
    "duration": 18,
    "start_time": "2021-12-20T22:15:33.333Z"
   },
   {
    "duration": 16,
    "start_time": "2021-12-20T22:15:33.353Z"
   },
   {
    "duration": 23,
    "start_time": "2021-12-20T22:15:33.371Z"
   },
   {
    "duration": 20,
    "start_time": "2021-12-20T22:15:33.397Z"
   },
   {
    "duration": 8,
    "start_time": "2021-12-20T22:15:33.419Z"
   },
   {
    "duration": 23,
    "start_time": "2021-12-20T22:15:33.429Z"
   },
   {
    "duration": 4,
    "start_time": "2021-12-20T22:15:33.455Z"
   },
   {
    "duration": 1032,
    "start_time": "2021-12-20T22:15:33.462Z"
   },
   {
    "duration": 11,
    "start_time": "2021-12-20T22:15:34.496Z"
   },
   {
    "duration": 5,
    "start_time": "2021-12-20T22:15:34.517Z"
   },
   {
    "duration": 39,
    "start_time": "2021-12-20T22:15:34.524Z"
   },
   {
    "duration": 2037,
    "start_time": "2021-12-20T22:15:34.566Z"
   },
   {
    "duration": 15,
    "start_time": "2021-12-20T22:15:36.606Z"
   },
   {
    "duration": 8,
    "start_time": "2021-12-20T22:15:36.623Z"
   },
   {
    "duration": 14,
    "start_time": "2021-12-20T22:15:36.634Z"
   },
   {
    "duration": 772,
    "start_time": "2021-12-20T22:15:36.650Z"
   },
   {
    "duration": 7,
    "start_time": "2021-12-20T22:15:37.425Z"
   },
   {
    "duration": 263,
    "start_time": "2021-12-20T22:15:37.434Z"
   },
   {
    "duration": 23,
    "start_time": "2021-12-20T22:15:37.700Z"
   },
   {
    "duration": 628,
    "start_time": "2021-12-20T22:15:37.725Z"
   },
   {
    "duration": 9,
    "start_time": "2021-12-20T22:15:38.355Z"
   },
   {
    "duration": 7,
    "start_time": "2021-12-20T22:15:38.367Z"
   },
   {
    "duration": 1783,
    "start_time": "2021-12-20T22:15:38.376Z"
   },
   {
    "duration": 19,
    "start_time": "2021-12-20T22:15:40.161Z"
   },
   {
    "duration": 37,
    "start_time": "2021-12-20T22:15:40.182Z"
   },
   {
    "duration": 270,
    "start_time": "2021-12-20T22:15:40.221Z"
   },
   {
    "duration": 23,
    "start_time": "2021-12-20T22:15:40.493Z"
   },
   {
    "duration": 363,
    "start_time": "2021-12-20T22:15:40.519Z"
   },
   {
    "duration": 13,
    "start_time": "2021-12-20T22:15:40.885Z"
   },
   {
    "duration": 388,
    "start_time": "2021-12-20T22:15:40.901Z"
   },
   {
    "duration": 25,
    "start_time": "2021-12-20T22:15:41.292Z"
   },
   {
    "duration": 304,
    "start_time": "2021-12-20T22:15:41.319Z"
   },
   {
    "duration": 10,
    "start_time": "2021-12-20T22:15:41.625Z"
   },
   {
    "duration": 11,
    "start_time": "2021-12-20T22:15:41.642Z"
   },
   {
    "duration": 13,
    "start_time": "2021-12-20T22:15:41.655Z"
   },
   {
    "duration": 6,
    "start_time": "2021-12-20T22:15:41.671Z"
   },
   {
    "duration": 317,
    "start_time": "2021-12-20T22:16:31.604Z"
   },
   {
    "duration": 358,
    "start_time": "2021-12-20T22:16:38.665Z"
   },
   {
    "duration": 12,
    "start_time": "2021-12-20T22:25:01.139Z"
   },
   {
    "duration": 5,
    "start_time": "2021-12-20T22:25:04.315Z"
   },
   {
    "duration": 120,
    "start_time": "2021-12-20T22:25:04.323Z"
   },
   {
    "duration": 73,
    "start_time": "2021-12-20T22:25:04.446Z"
   },
   {
    "duration": 15,
    "start_time": "2021-12-20T22:25:04.522Z"
   },
   {
    "duration": 19,
    "start_time": "2021-12-20T22:25:04.539Z"
   },
   {
    "duration": 68,
    "start_time": "2021-12-20T22:25:04.560Z"
   },
   {
    "duration": 224,
    "start_time": "2021-12-20T22:25:04.630Z"
   },
   {
    "duration": 37,
    "start_time": "2021-12-20T22:25:04.858Z"
   },
   {
    "duration": 27,
    "start_time": "2021-12-20T22:25:04.898Z"
   },
   {
    "duration": 7,
    "start_time": "2021-12-20T22:25:04.927Z"
   },
   {
    "duration": 15,
    "start_time": "2021-12-20T22:25:04.936Z"
   },
   {
    "duration": 19,
    "start_time": "2021-12-20T22:25:04.954Z"
   },
   {
    "duration": 487,
    "start_time": "2021-12-20T22:25:04.975Z"
   },
   {
    "duration": 7,
    "start_time": "2021-12-20T22:25:05.464Z"
   },
   {
    "duration": 51,
    "start_time": "2021-12-20T22:25:05.474Z"
   },
   {
    "duration": 12,
    "start_time": "2021-12-20T22:25:05.527Z"
   },
   {
    "duration": 7,
    "start_time": "2021-12-20T22:25:05.542Z"
   },
   {
    "duration": 269,
    "start_time": "2021-12-20T22:25:05.552Z"
   },
   {
    "duration": 13,
    "start_time": "2021-12-20T22:25:05.824Z"
   },
   {
    "duration": 19,
    "start_time": "2021-12-20T22:25:05.839Z"
   },
   {
    "duration": 262,
    "start_time": "2021-12-20T22:25:05.861Z"
   },
   {
    "duration": 12,
    "start_time": "2021-12-20T22:25:06.125Z"
   },
   {
    "duration": 17,
    "start_time": "2021-12-20T22:25:06.143Z"
   },
   {
    "duration": 252,
    "start_time": "2021-12-20T22:25:06.164Z"
   },
   {
    "duration": 19,
    "start_time": "2021-12-20T22:25:06.419Z"
   },
   {
    "duration": 5,
    "start_time": "2021-12-20T22:25:06.440Z"
   },
   {
    "duration": 1046,
    "start_time": "2021-12-20T22:25:06.447Z"
   },
   {
    "duration": 6845,
    "start_time": "2021-12-20T22:25:07.496Z"
   },
   {
    "duration": 7,
    "start_time": "2021-12-20T22:25:14.343Z"
   },
   {
    "duration": 734,
    "start_time": "2021-12-20T22:25:14.352Z"
   },
   {
    "duration": 5473,
    "start_time": "2021-12-20T22:25:15.089Z"
   },
   {
    "duration": 14,
    "start_time": "2021-12-20T22:25:20.564Z"
   },
   {
    "duration": 19,
    "start_time": "2021-12-20T22:25:20.580Z"
   },
   {
    "duration": 8,
    "start_time": "2021-12-20T22:25:20.617Z"
   },
   {
    "duration": 5,
    "start_time": "2021-12-20T22:25:20.627Z"
   },
   {
    "duration": 10,
    "start_time": "2021-12-20T22:25:20.635Z"
   },
   {
    "duration": 14,
    "start_time": "2021-12-20T22:25:20.647Z"
   },
   {
    "duration": 11,
    "start_time": "2021-12-20T22:25:20.664Z"
   },
   {
    "duration": 41,
    "start_time": "2021-12-20T22:25:20.677Z"
   },
   {
    "duration": 18,
    "start_time": "2021-12-20T22:25:20.720Z"
   },
   {
    "duration": 6,
    "start_time": "2021-12-20T22:25:20.741Z"
   },
   {
    "duration": 998,
    "start_time": "2021-12-20T22:25:20.750Z"
   },
   {
    "duration": 10,
    "start_time": "2021-12-20T22:25:21.751Z"
   },
   {
    "duration": 10,
    "start_time": "2021-12-20T22:25:21.764Z"
   },
   {
    "duration": 63,
    "start_time": "2021-12-20T22:25:21.776Z"
   },
   {
    "duration": 1867,
    "start_time": "2021-12-20T22:25:21.841Z"
   },
   {
    "duration": 11,
    "start_time": "2021-12-20T22:25:23.710Z"
   },
   {
    "duration": 6,
    "start_time": "2021-12-20T22:25:23.723Z"
   },
   {
    "duration": 8,
    "start_time": "2021-12-20T22:25:23.731Z"
   },
   {
    "duration": 729,
    "start_time": "2021-12-20T22:25:23.741Z"
   },
   {
    "duration": 7,
    "start_time": "2021-12-20T22:25:24.473Z"
   },
   {
    "duration": 258,
    "start_time": "2021-12-20T22:25:24.482Z"
   },
   {
    "duration": 12,
    "start_time": "2021-12-20T22:25:24.742Z"
   },
   {
    "duration": 611,
    "start_time": "2021-12-20T22:25:24.757Z"
   },
   {
    "duration": 10,
    "start_time": "2021-12-20T22:25:25.371Z"
   },
   {
    "duration": 6,
    "start_time": "2021-12-20T22:25:25.384Z"
   },
   {
    "duration": 1718,
    "start_time": "2021-12-20T22:25:25.417Z"
   },
   {
    "duration": 16,
    "start_time": "2021-12-20T22:25:27.137Z"
   },
   {
    "duration": 12,
    "start_time": "2021-12-20T22:25:27.155Z"
   },
   {
    "duration": 274,
    "start_time": "2021-12-20T22:25:27.169Z"
   },
   {
    "duration": 10,
    "start_time": "2021-12-20T22:25:27.445Z"
   },
   {
    "duration": 362,
    "start_time": "2021-12-20T22:25:27.457Z"
   },
   {
    "duration": 11,
    "start_time": "2021-12-20T22:25:27.822Z"
   },
   {
    "duration": 350,
    "start_time": "2021-12-20T22:25:27.835Z"
   },
   {
    "duration": 10,
    "start_time": "2021-12-20T22:25:28.188Z"
   },
   {
    "duration": 315,
    "start_time": "2021-12-20T22:25:28.217Z"
   },
   {
    "duration": 10,
    "start_time": "2021-12-20T22:25:28.534Z"
   },
   {
    "duration": 10,
    "start_time": "2021-12-20T22:25:28.552Z"
   },
   {
    "duration": 11,
    "start_time": "2021-12-20T22:25:28.564Z"
   },
   {
    "duration": 399,
    "start_time": "2021-12-20T22:25:28.577Z"
   },
   {
    "duration": 12,
    "start_time": "2021-12-20T22:25:28.979Z"
   },
   {
    "duration": 2410,
    "start_time": "2021-12-20T22:25:37.607Z"
   },
   {
    "duration": 322,
    "start_time": "2021-12-20T22:28:12.096Z"
   },
   {
    "duration": 5,
    "start_time": "2021-12-20T22:28:18.706Z"
   },
   {
    "duration": 291,
    "start_time": "2021-12-20T22:28:43.254Z"
   },
   {
    "duration": 7,
    "start_time": "2021-12-20T22:28:47.763Z"
   },
   {
    "duration": 6,
    "start_time": "2021-12-20T22:28:58.494Z"
   },
   {
    "duration": 298,
    "start_time": "2021-12-20T22:29:22.554Z"
   },
   {
    "duration": 6,
    "start_time": "2021-12-20T22:29:26.863Z"
   },
   {
    "duration": 11,
    "start_time": "2021-12-20T22:29:47.052Z"
   },
   {
    "duration": 2309,
    "start_time": "2021-12-20T22:29:47.094Z"
   },
   {
    "duration": 5,
    "start_time": "2021-12-20T22:29:52.814Z"
   },
   {
    "duration": 5,
    "start_time": "2021-12-20T22:29:53.633Z"
   },
   {
    "duration": 7,
    "start_time": "2021-12-20T22:29:54.383Z"
   },
   {
    "duration": 2255,
    "start_time": "2021-12-21T14:55:36.060Z"
   },
   {
    "duration": 351,
    "start_time": "2021-12-21T14:55:42.916Z"
   },
   {
    "duration": 413,
    "start_time": "2021-12-21T14:55:56.967Z"
   },
   {
    "duration": 304,
    "start_time": "2021-12-21T14:56:36.637Z"
   },
   {
    "duration": 404,
    "start_time": "2021-12-21T14:59:51.324Z"
   },
   {
    "duration": 1472,
    "start_time": "2021-12-21T15:00:13.867Z"
   },
   {
    "duration": 90,
    "start_time": "2021-12-21T15:00:15.342Z"
   },
   {
    "duration": 46,
    "start_time": "2021-12-21T15:00:15.435Z"
   },
   {
    "duration": 16,
    "start_time": "2021-12-21T15:00:15.484Z"
   },
   {
    "duration": 18,
    "start_time": "2021-12-21T15:00:15.502Z"
   },
   {
    "duration": 71,
    "start_time": "2021-12-21T15:00:15.522Z"
   },
   {
    "duration": 238,
    "start_time": "2021-12-21T15:00:15.596Z"
   },
   {
    "duration": 50,
    "start_time": "2021-12-21T15:00:15.838Z"
   },
   {
    "duration": 10,
    "start_time": "2021-12-21T15:00:15.891Z"
   },
   {
    "duration": 9,
    "start_time": "2021-12-21T15:00:15.904Z"
   },
   {
    "duration": 13,
    "start_time": "2021-12-21T15:00:15.915Z"
   },
   {
    "duration": 19,
    "start_time": "2021-12-21T15:00:15.960Z"
   },
   {
    "duration": 328,
    "start_time": "2021-12-21T15:00:15.982Z"
   },
   {
    "duration": 6,
    "start_time": "2021-12-21T15:00:16.313Z"
   },
   {
    "duration": 54,
    "start_time": "2021-12-21T15:00:16.322Z"
   },
   {
    "duration": 10,
    "start_time": "2021-12-21T15:00:16.378Z"
   },
   {
    "duration": 13,
    "start_time": "2021-12-21T15:00:16.391Z"
   },
   {
    "duration": 277,
    "start_time": "2021-12-21T15:00:16.406Z"
   },
   {
    "duration": 12,
    "start_time": "2021-12-21T15:00:16.685Z"
   },
   {
    "duration": 24,
    "start_time": "2021-12-21T15:00:16.700Z"
   },
   {
    "duration": 262,
    "start_time": "2021-12-21T15:00:16.727Z"
   },
   {
    "duration": 12,
    "start_time": "2021-12-21T15:00:16.991Z"
   },
   {
    "duration": 19,
    "start_time": "2021-12-21T15:00:17.009Z"
   },
   {
    "duration": 245,
    "start_time": "2021-12-21T15:00:17.032Z"
   },
   {
    "duration": 16,
    "start_time": "2021-12-21T15:00:17.280Z"
   },
   {
    "duration": 5,
    "start_time": "2021-12-21T15:00:17.298Z"
   },
   {
    "duration": 1053,
    "start_time": "2021-12-21T15:00:17.306Z"
   },
   {
    "duration": 6645,
    "start_time": "2021-12-21T15:00:18.362Z"
   },
   {
    "duration": 10,
    "start_time": "2021-12-21T15:00:25.010Z"
   },
   {
    "duration": 847,
    "start_time": "2021-12-21T15:00:25.023Z"
   },
   {
    "duration": 7448,
    "start_time": "2021-12-21T15:00:25.874Z"
   },
   {
    "duration": 33,
    "start_time": "2021-12-21T15:00:33.326Z"
   },
   {
    "duration": 23,
    "start_time": "2021-12-21T15:00:33.362Z"
   },
   {
    "duration": 11,
    "start_time": "2021-12-21T15:00:33.388Z"
   },
   {
    "duration": 4,
    "start_time": "2021-12-21T15:00:33.402Z"
   },
   {
    "duration": 5,
    "start_time": "2021-12-21T15:00:33.408Z"
   },
   {
    "duration": 46,
    "start_time": "2021-12-21T15:00:33.415Z"
   },
   {
    "duration": 13,
    "start_time": "2021-12-21T15:00:33.463Z"
   },
   {
    "duration": 6,
    "start_time": "2021-12-21T15:00:33.479Z"
   },
   {
    "duration": 22,
    "start_time": "2021-12-21T15:00:33.487Z"
   },
   {
    "duration": 4,
    "start_time": "2021-12-21T15:00:33.511Z"
   },
   {
    "duration": 968,
    "start_time": "2021-12-21T15:00:33.517Z"
   },
   {
    "duration": 12,
    "start_time": "2021-12-21T15:00:34.487Z"
   },
   {
    "duration": 11,
    "start_time": "2021-12-21T15:00:34.501Z"
   },
   {
    "duration": 61,
    "start_time": "2021-12-21T15:00:34.514Z"
   },
   {
    "duration": 2108,
    "start_time": "2021-12-21T15:00:34.578Z"
   },
   {
    "duration": 7,
    "start_time": "2021-12-21T15:00:36.688Z"
   },
   {
    "duration": 7,
    "start_time": "2021-12-21T15:00:36.699Z"
   },
   {
    "duration": 8,
    "start_time": "2021-12-21T15:00:36.709Z"
   },
   {
    "duration": 771,
    "start_time": "2021-12-21T15:00:36.720Z"
   },
   {
    "duration": 8,
    "start_time": "2021-12-21T15:00:37.493Z"
   },
   {
    "duration": 258,
    "start_time": "2021-12-21T15:00:37.504Z"
   },
   {
    "duration": 15,
    "start_time": "2021-12-21T15:00:37.764Z"
   },
   {
    "duration": 647,
    "start_time": "2021-12-21T15:00:37.782Z"
   },
   {
    "duration": 8,
    "start_time": "2021-12-21T15:00:38.432Z"
   },
   {
    "duration": 10,
    "start_time": "2021-12-21T15:00:38.459Z"
   },
   {
    "duration": 1711,
    "start_time": "2021-12-21T15:00:38.472Z"
   },
   {
    "duration": 15,
    "start_time": "2021-12-21T15:00:40.186Z"
   },
   {
    "duration": 11,
    "start_time": "2021-12-21T15:00:40.204Z"
   },
   {
    "duration": 290,
    "start_time": "2021-12-21T15:00:40.217Z"
   },
   {
    "duration": 11,
    "start_time": "2021-12-21T15:00:40.509Z"
   },
   {
    "duration": 364,
    "start_time": "2021-12-21T15:00:40.523Z"
   },
   {
    "duration": 12,
    "start_time": "2021-12-21T15:00:40.890Z"
   },
   {
    "duration": 517,
    "start_time": "2021-12-21T15:00:40.905Z"
   },
   {
    "duration": 10,
    "start_time": "2021-12-21T15:00:41.425Z"
   },
   {
    "duration": 321,
    "start_time": "2021-12-21T15:00:41.438Z"
   },
   {
    "duration": 10,
    "start_time": "2021-12-21T15:00:41.761Z"
   },
   {
    "duration": 18,
    "start_time": "2021-12-21T15:00:41.778Z"
   },
   {
    "duration": 16,
    "start_time": "2021-12-21T15:00:41.799Z"
   },
   {
    "duration": 394,
    "start_time": "2021-12-21T15:00:41.818Z"
   },
   {
    "duration": 13,
    "start_time": "2021-12-21T15:00:42.215Z"
   },
   {
    "duration": 2518,
    "start_time": "2021-12-21T15:00:42.233Z"
   },
   {
    "duration": 10,
    "start_time": "2021-12-21T15:00:44.754Z"
   },
   {
    "duration": 8,
    "start_time": "2021-12-21T15:00:44.766Z"
   },
   {
    "duration": 15,
    "start_time": "2021-12-21T15:00:44.777Z"
   },
   {
    "duration": 447,
    "start_time": "2021-12-21T15:00:44.795Z"
   },
   {
    "duration": 646,
    "start_time": "2021-12-21T15:01:48.157Z"
   },
   {
    "duration": 277,
    "start_time": "2021-12-21T15:09:45.343Z"
   },
   {
    "duration": 340,
    "start_time": "2021-12-21T15:26:24.901Z"
   },
   {
    "duration": 418,
    "start_time": "2021-12-21T15:28:07.306Z"
   },
   {
    "duration": 604,
    "start_time": "2021-12-21T15:28:14.218Z"
   },
   {
    "duration": 485,
    "start_time": "2021-12-21T15:28:29.808Z"
   },
   {
    "duration": 587,
    "start_time": "2021-12-21T15:28:34.998Z"
   },
   {
    "duration": 593,
    "start_time": "2021-12-21T15:28:48.648Z"
   },
   {
    "duration": 15,
    "start_time": "2021-12-21T15:30:28.066Z"
   },
   {
    "duration": 327,
    "start_time": "2021-12-21T15:47:38.677Z"
   },
   {
    "duration": 6,
    "start_time": "2021-12-21T15:47:44.480Z"
   },
   {
    "duration": 96,
    "start_time": "2021-12-21T15:47:44.488Z"
   },
   {
    "duration": 35,
    "start_time": "2021-12-21T15:47:44.586Z"
   },
   {
    "duration": 50,
    "start_time": "2021-12-21T15:47:44.623Z"
   },
   {
    "duration": 19,
    "start_time": "2021-12-21T15:47:44.676Z"
   },
   {
    "duration": 86,
    "start_time": "2021-12-21T15:47:44.697Z"
   },
   {
    "duration": 222,
    "start_time": "2021-12-21T15:47:44.785Z"
   },
   {
    "duration": 53,
    "start_time": "2021-12-21T15:47:45.011Z"
   },
   {
    "duration": 11,
    "start_time": "2021-12-21T15:47:45.067Z"
   },
   {
    "duration": 9,
    "start_time": "2021-12-21T15:47:45.081Z"
   },
   {
    "duration": 15,
    "start_time": "2021-12-21T15:47:45.092Z"
   },
   {
    "duration": 55,
    "start_time": "2021-12-21T15:47:45.110Z"
   },
   {
    "duration": 227,
    "start_time": "2021-12-21T15:47:45.167Z"
   },
   {
    "duration": 5,
    "start_time": "2021-12-21T15:47:45.396Z"
   },
   {
    "duration": 58,
    "start_time": "2021-12-21T15:47:45.404Z"
   },
   {
    "duration": 11,
    "start_time": "2021-12-21T15:47:45.464Z"
   },
   {
    "duration": 11,
    "start_time": "2021-12-21T15:47:45.478Z"
   },
   {
    "duration": 252,
    "start_time": "2021-12-21T15:47:45.491Z"
   },
   {
    "duration": 22,
    "start_time": "2021-12-21T15:47:45.746Z"
   },
   {
    "duration": 18,
    "start_time": "2021-12-21T15:47:45.770Z"
   },
   {
    "duration": 245,
    "start_time": "2021-12-21T15:47:45.790Z"
   },
   {
    "duration": 27,
    "start_time": "2021-12-21T15:47:46.037Z"
   },
   {
    "duration": 17,
    "start_time": "2021-12-21T15:47:46.071Z"
   },
   {
    "duration": 236,
    "start_time": "2021-12-21T15:47:46.092Z"
   },
   {
    "duration": 31,
    "start_time": "2021-12-21T15:47:46.330Z"
   },
   {
    "duration": 6,
    "start_time": "2021-12-21T15:47:46.363Z"
   },
   {
    "duration": 1223,
    "start_time": "2021-12-21T15:47:46.372Z"
   },
   {
    "duration": 7034,
    "start_time": "2021-12-21T15:47:47.597Z"
   },
   {
    "duration": 24,
    "start_time": "2021-12-21T15:47:54.636Z"
   },
   {
    "duration": 689,
    "start_time": "2021-12-21T15:47:54.670Z"
   },
   {
    "duration": 5004,
    "start_time": "2021-12-21T15:47:55.361Z"
   },
   {
    "duration": 14,
    "start_time": "2021-12-21T15:48:00.368Z"
   },
   {
    "duration": 17,
    "start_time": "2021-12-21T15:48:00.384Z"
   },
   {
    "duration": 8,
    "start_time": "2021-12-21T15:48:00.403Z"
   },
   {
    "duration": 6,
    "start_time": "2021-12-21T15:48:00.413Z"
   },
   {
    "duration": 39,
    "start_time": "2021-12-21T15:48:00.421Z"
   },
   {
    "duration": 12,
    "start_time": "2021-12-21T15:48:00.462Z"
   },
   {
    "duration": 11,
    "start_time": "2021-12-21T15:48:00.477Z"
   },
   {
    "duration": 7,
    "start_time": "2021-12-21T15:48:00.490Z"
   },
   {
    "duration": 20,
    "start_time": "2021-12-21T15:48:00.500Z"
   },
   {
    "duration": 38,
    "start_time": "2021-12-21T15:48:00.522Z"
   },
   {
    "duration": 897,
    "start_time": "2021-12-21T15:48:00.563Z"
   },
   {
    "duration": 10,
    "start_time": "2021-12-21T15:48:01.463Z"
   },
   {
    "duration": 7,
    "start_time": "2021-12-21T15:48:01.476Z"
   },
   {
    "duration": 36,
    "start_time": "2021-12-21T15:48:01.486Z"
   },
   {
    "duration": 1917,
    "start_time": "2021-12-21T15:48:01.525Z"
   },
   {
    "duration": 18,
    "start_time": "2021-12-21T15:48:03.444Z"
   },
   {
    "duration": 6,
    "start_time": "2021-12-21T15:48:03.465Z"
   },
   {
    "duration": 7,
    "start_time": "2021-12-21T15:48:03.474Z"
   },
   {
    "duration": 802,
    "start_time": "2021-12-21T15:48:03.484Z"
   },
   {
    "duration": 7,
    "start_time": "2021-12-21T15:48:04.289Z"
   },
   {
    "duration": 380,
    "start_time": "2021-12-21T15:48:04.298Z"
   },
   {
    "duration": 15,
    "start_time": "2021-12-21T15:48:04.681Z"
   },
   {
    "duration": 660,
    "start_time": "2021-12-21T15:48:04.699Z"
   },
   {
    "duration": 10,
    "start_time": "2021-12-21T15:48:05.362Z"
   },
   {
    "duration": 5,
    "start_time": "2021-12-21T15:48:05.375Z"
   },
   {
    "duration": 1656,
    "start_time": "2021-12-21T15:48:05.383Z"
   },
   {
    "duration": 23,
    "start_time": "2021-12-21T15:48:07.042Z"
   },
   {
    "duration": 12,
    "start_time": "2021-12-21T15:48:07.068Z"
   },
   {
    "duration": 283,
    "start_time": "2021-12-21T15:48:07.083Z"
   },
   {
    "duration": 10,
    "start_time": "2021-12-21T15:48:07.369Z"
   },
   {
    "duration": 372,
    "start_time": "2021-12-21T15:48:07.381Z"
   },
   {
    "duration": 11,
    "start_time": "2021-12-21T15:48:07.760Z"
   },
   {
    "duration": 356,
    "start_time": "2021-12-21T15:48:07.773Z"
   },
   {
    "duration": 10,
    "start_time": "2021-12-21T15:48:08.131Z"
   },
   {
    "duration": 306,
    "start_time": "2021-12-21T15:48:08.144Z"
   },
   {
    "duration": 16,
    "start_time": "2021-12-21T15:48:08.452Z"
   },
   {
    "duration": 11,
    "start_time": "2021-12-21T15:48:08.477Z"
   },
   {
    "duration": 12,
    "start_time": "2021-12-21T15:48:08.492Z"
   },
   {
    "duration": 408,
    "start_time": "2021-12-21T15:48:08.507Z"
   },
   {
    "duration": 14,
    "start_time": "2021-12-21T15:48:08.918Z"
   },
   {
    "duration": 2440,
    "start_time": "2021-12-21T15:48:08.934Z"
   },
   {
    "duration": 5,
    "start_time": "2021-12-21T15:48:11.377Z"
   },
   {
    "duration": 5,
    "start_time": "2021-12-21T15:48:11.385Z"
   },
   {
    "duration": 10,
    "start_time": "2021-12-21T15:48:11.393Z"
   },
   {
    "duration": 554,
    "start_time": "2021-12-21T15:48:11.405Z"
   },
   {
    "duration": 9,
    "start_time": "2021-12-21T15:48:11.962Z"
   },
   {
    "duration": 265,
    "start_time": "2021-12-21T15:48:11.973Z"
   },
   {
    "duration": 475,
    "start_time": "2021-12-21T15:48:12.240Z"
   },
   {
    "duration": 12,
    "start_time": "2021-12-21T15:48:12.717Z"
   },
   {
    "duration": 28,
    "start_time": "2021-12-21T15:48:12.731Z"
   },
   {
    "duration": 655,
    "start_time": "2021-12-21T15:48:12.761Z"
   },
   {
    "duration": 657,
    "start_time": "2021-12-21T15:48:45.491Z"
   },
   {
    "duration": 6,
    "start_time": "2021-12-21T15:49:40.778Z"
   },
   {
    "duration": 101,
    "start_time": "2021-12-21T15:49:40.787Z"
   },
   {
    "duration": 70,
    "start_time": "2021-12-21T15:49:40.891Z"
   },
   {
    "duration": 22,
    "start_time": "2021-12-21T15:49:40.964Z"
   },
   {
    "duration": 21,
    "start_time": "2021-12-21T15:49:40.989Z"
   },
   {
    "duration": 83,
    "start_time": "2021-12-21T15:49:41.013Z"
   },
   {
    "duration": 230,
    "start_time": "2021-12-21T15:49:41.099Z"
   },
   {
    "duration": 45,
    "start_time": "2021-12-21T15:49:41.333Z"
   },
   {
    "duration": 11,
    "start_time": "2021-12-21T15:49:41.381Z"
   },
   {
    "duration": 8,
    "start_time": "2021-12-21T15:49:41.394Z"
   },
   {
    "duration": 14,
    "start_time": "2021-12-21T15:49:41.404Z"
   },
   {
    "duration": 52,
    "start_time": "2021-12-21T15:49:41.421Z"
   },
   {
    "duration": 232,
    "start_time": "2021-12-21T15:49:41.476Z"
   },
   {
    "duration": 5,
    "start_time": "2021-12-21T15:49:41.710Z"
   },
   {
    "duration": 54,
    "start_time": "2021-12-21T15:49:41.717Z"
   },
   {
    "duration": 9,
    "start_time": "2021-12-21T15:49:41.774Z"
   },
   {
    "duration": 7,
    "start_time": "2021-12-21T15:49:41.786Z"
   },
   {
    "duration": 265,
    "start_time": "2021-12-21T15:49:41.795Z"
   },
   {
    "duration": 12,
    "start_time": "2021-12-21T15:49:42.062Z"
   },
   {
    "duration": 16,
    "start_time": "2021-12-21T15:49:42.077Z"
   },
   {
    "duration": 242,
    "start_time": "2021-12-21T15:49:42.096Z"
   },
   {
    "duration": 19,
    "start_time": "2021-12-21T15:49:42.341Z"
   },
   {
    "duration": 16,
    "start_time": "2021-12-21T15:49:42.366Z"
   },
   {
    "duration": 235,
    "start_time": "2021-12-21T15:49:42.386Z"
   },
   {
    "duration": 17,
    "start_time": "2021-12-21T15:49:42.624Z"
   },
   {
    "duration": 6,
    "start_time": "2021-12-21T15:49:42.660Z"
   },
   {
    "duration": 1002,
    "start_time": "2021-12-21T15:49:42.668Z"
   },
   {
    "duration": 6654,
    "start_time": "2021-12-21T15:49:43.672Z"
   },
   {
    "duration": 7,
    "start_time": "2021-12-21T15:49:50.329Z"
   },
   {
    "duration": 638,
    "start_time": "2021-12-21T15:49:50.339Z"
   },
   {
    "duration": 5654,
    "start_time": "2021-12-21T15:49:50.979Z"
   },
   {
    "duration": 30,
    "start_time": "2021-12-21T15:49:56.636Z"
   },
   {
    "duration": 14,
    "start_time": "2021-12-21T15:49:56.669Z"
   },
   {
    "duration": 8,
    "start_time": "2021-12-21T15:49:56.685Z"
   },
   {
    "duration": 3,
    "start_time": "2021-12-21T15:49:56.696Z"
   },
   {
    "duration": 4,
    "start_time": "2021-12-21T15:49:56.701Z"
   },
   {
    "duration": 53,
    "start_time": "2021-12-21T15:49:56.708Z"
   },
   {
    "duration": 12,
    "start_time": "2021-12-21T15:49:56.763Z"
   },
   {
    "duration": 6,
    "start_time": "2021-12-21T15:49:56.777Z"
   },
   {
    "duration": 18,
    "start_time": "2021-12-21T15:49:56.785Z"
   },
   {
    "duration": 4,
    "start_time": "2021-12-21T15:49:56.805Z"
   },
   {
    "duration": 920,
    "start_time": "2021-12-21T15:49:56.811Z"
   },
   {
    "duration": 10,
    "start_time": "2021-12-21T15:49:57.733Z"
   },
   {
    "duration": 16,
    "start_time": "2021-12-21T15:49:57.745Z"
   },
   {
    "duration": 36,
    "start_time": "2021-12-21T15:49:57.764Z"
   },
   {
    "duration": 1904,
    "start_time": "2021-12-21T15:49:57.803Z"
   },
   {
    "duration": 7,
    "start_time": "2021-12-21T15:49:59.709Z"
   },
   {
    "duration": 17,
    "start_time": "2021-12-21T15:49:59.718Z"
   },
   {
    "duration": 25,
    "start_time": "2021-12-21T15:49:59.737Z"
   },
   {
    "duration": 732,
    "start_time": "2021-12-21T15:49:59.764Z"
   },
   {
    "duration": 9,
    "start_time": "2021-12-21T15:50:00.499Z"
   },
   {
    "duration": 256,
    "start_time": "2021-12-21T15:50:00.511Z"
   },
   {
    "duration": 13,
    "start_time": "2021-12-21T15:50:00.770Z"
   },
   {
    "duration": 631,
    "start_time": "2021-12-21T15:50:00.786Z"
   },
   {
    "duration": 9,
    "start_time": "2021-12-21T15:50:01.420Z"
   },
   {
    "duration": 27,
    "start_time": "2021-12-21T15:50:01.432Z"
   },
   {
    "duration": 1660,
    "start_time": "2021-12-21T15:50:01.462Z"
   },
   {
    "duration": 16,
    "start_time": "2021-12-21T15:50:03.124Z"
   },
   {
    "duration": 24,
    "start_time": "2021-12-21T15:50:03.143Z"
   },
   {
    "duration": 273,
    "start_time": "2021-12-21T15:50:03.169Z"
   },
   {
    "duration": 20,
    "start_time": "2021-12-21T15:50:03.445Z"
   },
   {
    "duration": 385,
    "start_time": "2021-12-21T15:50:03.467Z"
   },
   {
    "duration": 13,
    "start_time": "2021-12-21T15:50:03.859Z"
   },
   {
    "duration": 498,
    "start_time": "2021-12-21T15:50:03.875Z"
   },
   {
    "duration": 10,
    "start_time": "2021-12-21T15:50:04.376Z"
   },
   {
    "duration": 312,
    "start_time": "2021-12-21T15:50:04.388Z"
   },
   {
    "duration": 10,
    "start_time": "2021-12-21T15:50:04.703Z"
   },
   {
    "duration": 11,
    "start_time": "2021-12-21T15:50:04.721Z"
   },
   {
    "duration": 34,
    "start_time": "2021-12-21T15:50:04.735Z"
   },
   {
    "duration": 391,
    "start_time": "2021-12-21T15:50:04.772Z"
   },
   {
    "duration": 13,
    "start_time": "2021-12-21T15:50:05.166Z"
   },
   {
    "duration": 2459,
    "start_time": "2021-12-21T15:50:05.182Z"
   },
   {
    "duration": 17,
    "start_time": "2021-12-21T15:50:07.644Z"
   },
   {
    "duration": 6,
    "start_time": "2021-12-21T15:50:07.664Z"
   },
   {
    "duration": 6,
    "start_time": "2021-12-21T15:50:07.673Z"
   },
   {
    "duration": 578,
    "start_time": "2021-12-21T15:50:07.681Z"
   },
   {
    "duration": 10,
    "start_time": "2021-12-21T15:50:08.262Z"
   },
   {
    "duration": 264,
    "start_time": "2021-12-21T15:50:08.274Z"
   },
   {
    "duration": 586,
    "start_time": "2021-12-21T15:50:08.541Z"
   },
   {
    "duration": 13,
    "start_time": "2021-12-21T15:50:09.129Z"
   },
   {
    "duration": 10,
    "start_time": "2021-12-21T15:50:09.160Z"
   },
   {
    "duration": 671,
    "start_time": "2021-12-21T15:50:09.172Z"
   },
   {
    "duration": 680,
    "start_time": "2021-12-21T15:50:17.665Z"
   },
   {
    "duration": 10,
    "start_time": "2021-12-21T15:51:47.747Z"
   },
   {
    "duration": 770,
    "start_time": "2021-12-21T15:51:50.657Z"
   },
   {
    "duration": 363,
    "start_time": "2021-12-21T15:52:08.558Z"
   },
   {
    "duration": 344,
    "start_time": "2021-12-21T15:52:18.036Z"
   },
   {
    "duration": 663,
    "start_time": "2021-12-21T15:52:29.286Z"
   },
   {
    "duration": 650,
    "start_time": "2021-12-21T15:52:37.704Z"
   },
   {
    "duration": 636,
    "start_time": "2021-12-21T15:52:41.826Z"
   },
   {
    "duration": 733,
    "start_time": "2021-12-21T15:53:55.486Z"
   },
   {
    "duration": 372,
    "start_time": "2021-12-21T15:54:06.365Z"
   },
   {
    "duration": 421,
    "start_time": "2021-12-21T16:18:59.921Z"
   },
   {
    "duration": 5,
    "start_time": "2021-12-21T16:19:05.639Z"
   },
   {
    "duration": 124,
    "start_time": "2021-12-21T16:19:05.647Z"
   },
   {
    "duration": 65,
    "start_time": "2021-12-21T16:19:05.775Z"
   },
   {
    "duration": 21,
    "start_time": "2021-12-21T16:19:05.861Z"
   },
   {
    "duration": 19,
    "start_time": "2021-12-21T16:19:05.885Z"
   },
   {
    "duration": 70,
    "start_time": "2021-12-21T16:19:05.907Z"
   },
   {
    "duration": 234,
    "start_time": "2021-12-21T16:19:05.979Z"
   },
   {
    "duration": 49,
    "start_time": "2021-12-21T16:19:06.218Z"
   },
   {
    "duration": 37,
    "start_time": "2021-12-21T16:19:06.271Z"
   },
   {
    "duration": 8,
    "start_time": "2021-12-21T16:19:06.311Z"
   },
   {
    "duration": 17,
    "start_time": "2021-12-21T16:19:06.322Z"
   },
   {
    "duration": 21,
    "start_time": "2021-12-21T16:19:06.361Z"
   },
   {
    "duration": 394,
    "start_time": "2021-12-21T16:19:06.385Z"
   },
   {
    "duration": 6,
    "start_time": "2021-12-21T16:19:06.781Z"
   },
   {
    "duration": 41,
    "start_time": "2021-12-21T16:19:06.789Z"
   },
   {
    "duration": 33,
    "start_time": "2021-12-21T16:19:06.833Z"
   },
   {
    "duration": 8,
    "start_time": "2021-12-21T16:19:06.869Z"
   },
   {
    "duration": 289,
    "start_time": "2021-12-21T16:19:06.880Z"
   },
   {
    "duration": 18,
    "start_time": "2021-12-21T16:19:07.173Z"
   },
   {
    "duration": 28,
    "start_time": "2021-12-21T16:19:07.195Z"
   },
   {
    "duration": 285,
    "start_time": "2021-12-21T16:19:07.227Z"
   },
   {
    "duration": 12,
    "start_time": "2021-12-21T16:19:07.515Z"
   },
   {
    "duration": 39,
    "start_time": "2021-12-21T16:19:07.534Z"
   },
   {
    "duration": 251,
    "start_time": "2021-12-21T16:19:07.578Z"
   },
   {
    "duration": 30,
    "start_time": "2021-12-21T16:19:07.832Z"
   },
   {
    "duration": 6,
    "start_time": "2021-12-21T16:19:07.864Z"
   },
   {
    "duration": 1589,
    "start_time": "2021-12-21T16:19:07.872Z"
   },
   {
    "duration": 7312,
    "start_time": "2021-12-21T16:19:09.464Z"
   },
   {
    "duration": 9,
    "start_time": "2021-12-21T16:19:16.780Z"
   },
   {
    "duration": 668,
    "start_time": "2021-12-21T16:19:16.792Z"
   },
   {
    "duration": 5531,
    "start_time": "2021-12-21T16:19:17.462Z"
   },
   {
    "duration": 20,
    "start_time": "2021-12-21T16:19:22.997Z"
   },
   {
    "duration": 44,
    "start_time": "2021-12-21T16:19:23.021Z"
   },
   {
    "duration": 16,
    "start_time": "2021-12-21T16:19:23.068Z"
   },
   {
    "duration": 3,
    "start_time": "2021-12-21T16:19:23.087Z"
   },
   {
    "duration": 4,
    "start_time": "2021-12-21T16:19:23.093Z"
   },
   {
    "duration": 16,
    "start_time": "2021-12-21T16:19:23.100Z"
   },
   {
    "duration": 12,
    "start_time": "2021-12-21T16:19:23.159Z"
   },
   {
    "duration": 6,
    "start_time": "2021-12-21T16:19:23.174Z"
   },
   {
    "duration": 20,
    "start_time": "2021-12-21T16:19:23.183Z"
   },
   {
    "duration": 4,
    "start_time": "2021-12-21T16:19:23.205Z"
   },
   {
    "duration": 952,
    "start_time": "2021-12-21T16:19:23.212Z"
   },
   {
    "duration": 10,
    "start_time": "2021-12-21T16:19:24.166Z"
   },
   {
    "duration": 6,
    "start_time": "2021-12-21T16:19:24.179Z"
   },
   {
    "duration": 39,
    "start_time": "2021-12-21T16:19:24.188Z"
   },
   {
    "duration": 2162,
    "start_time": "2021-12-21T16:19:24.258Z"
   },
   {
    "duration": 8,
    "start_time": "2021-12-21T16:19:26.424Z"
   },
   {
    "duration": 25,
    "start_time": "2021-12-21T16:19:26.437Z"
   },
   {
    "duration": 12,
    "start_time": "2021-12-21T16:19:26.464Z"
   },
   {
    "duration": 1034,
    "start_time": "2021-12-21T16:19:26.479Z"
   },
   {
    "duration": 7,
    "start_time": "2021-12-21T16:19:27.516Z"
   },
   {
    "duration": 269,
    "start_time": "2021-12-21T16:19:27.525Z"
   },
   {
    "duration": 13,
    "start_time": "2021-12-21T16:19:27.798Z"
   },
   {
    "duration": 683,
    "start_time": "2021-12-21T16:19:27.813Z"
   },
   {
    "duration": 9,
    "start_time": "2021-12-21T16:19:28.499Z"
   },
   {
    "duration": 7,
    "start_time": "2021-12-21T16:19:28.510Z"
   },
   {
    "duration": 2361,
    "start_time": "2021-12-21T16:19:28.519Z"
   },
   {
    "duration": 26,
    "start_time": "2021-12-21T16:19:30.884Z"
   },
   {
    "duration": 51,
    "start_time": "2021-12-21T16:19:30.913Z"
   },
   {
    "duration": 416,
    "start_time": "2021-12-21T16:19:30.968Z"
   },
   {
    "duration": 15,
    "start_time": "2021-12-21T16:19:31.387Z"
   },
   {
    "duration": 380,
    "start_time": "2021-12-21T16:19:31.405Z"
   },
   {
    "duration": 15,
    "start_time": "2021-12-21T16:19:31.788Z"
   },
   {
    "duration": 535,
    "start_time": "2021-12-21T16:19:31.806Z"
   },
   {
    "duration": 22,
    "start_time": "2021-12-21T16:19:32.344Z"
   },
   {
    "duration": 326,
    "start_time": "2021-12-21T16:19:32.369Z"
   },
   {
    "duration": 10,
    "start_time": "2021-12-21T16:19:32.698Z"
   },
   {
    "duration": 23,
    "start_time": "2021-12-21T16:19:32.717Z"
   },
   {
    "duration": 25,
    "start_time": "2021-12-21T16:19:32.743Z"
   },
   {
    "duration": 374,
    "start_time": "2021-12-21T16:19:32.771Z"
   },
   {
    "duration": 19,
    "start_time": "2021-12-21T16:19:33.148Z"
   },
   {
    "duration": 2646,
    "start_time": "2021-12-21T16:19:33.169Z"
   },
   {
    "duration": 7,
    "start_time": "2021-12-21T16:19:35.819Z"
   },
   {
    "duration": 34,
    "start_time": "2021-12-21T16:19:35.829Z"
   },
   {
    "duration": 7,
    "start_time": "2021-12-21T16:19:35.865Z"
   },
   {
    "duration": 723,
    "start_time": "2021-12-21T16:19:35.876Z"
   },
   {
    "duration": 16,
    "start_time": "2021-12-21T16:19:36.603Z"
   },
   {
    "duration": 302,
    "start_time": "2021-12-21T16:19:36.622Z"
   },
   {
    "duration": 495,
    "start_time": "2021-12-21T16:19:36.926Z"
   },
   {
    "duration": 14,
    "start_time": "2021-12-21T16:19:37.423Z"
   },
   {
    "duration": 23,
    "start_time": "2021-12-21T16:19:37.439Z"
   },
   {
    "duration": 415,
    "start_time": "2021-12-21T16:19:37.465Z"
   },
   {
    "duration": 11,
    "start_time": "2021-12-21T16:19:37.882Z"
   },
   {
    "duration": 366,
    "start_time": "2021-12-21T16:19:37.895Z"
   },
   {
    "duration": 10,
    "start_time": "2021-12-21T16:19:42.589Z"
   },
   {
    "duration": 363,
    "start_time": "2021-12-21T16:19:43.502Z"
   },
   {
    "duration": 6,
    "start_time": "2021-12-21T16:20:05.424Z"
   },
   {
    "duration": 140,
    "start_time": "2021-12-21T16:20:05.434Z"
   },
   {
    "duration": 38,
    "start_time": "2021-12-21T16:20:05.577Z"
   },
   {
    "duration": 53,
    "start_time": "2021-12-21T16:20:05.618Z"
   },
   {
    "duration": 22,
    "start_time": "2021-12-21T16:20:05.675Z"
   },
   {
    "duration": 75,
    "start_time": "2021-12-21T16:20:05.699Z"
   },
   {
    "duration": 368,
    "start_time": "2021-12-21T16:20:05.776Z"
   },
   {
    "duration": 50,
    "start_time": "2021-12-21T16:20:06.158Z"
   },
   {
    "duration": 11,
    "start_time": "2021-12-21T16:20:06.211Z"
   },
   {
    "duration": 39,
    "start_time": "2021-12-21T16:20:06.225Z"
   },
   {
    "duration": 19,
    "start_time": "2021-12-21T16:20:06.267Z"
   },
   {
    "duration": 40,
    "start_time": "2021-12-21T16:20:06.290Z"
   },
   {
    "duration": 263,
    "start_time": "2021-12-21T16:20:06.334Z"
   },
   {
    "duration": 6,
    "start_time": "2021-12-21T16:20:06.601Z"
   },
   {
    "duration": 55,
    "start_time": "2021-12-21T16:20:06.610Z"
   },
   {
    "duration": 9,
    "start_time": "2021-12-21T16:20:06.667Z"
   },
   {
    "duration": 9,
    "start_time": "2021-12-21T16:20:06.679Z"
   },
   {
    "duration": 280,
    "start_time": "2021-12-21T16:20:06.691Z"
   },
   {
    "duration": 13,
    "start_time": "2021-12-21T16:20:06.974Z"
   },
   {
    "duration": 18,
    "start_time": "2021-12-21T16:20:06.989Z"
   },
   {
    "duration": 267,
    "start_time": "2021-12-21T16:20:07.010Z"
   },
   {
    "duration": 12,
    "start_time": "2021-12-21T16:20:07.280Z"
   },
   {
    "duration": 17,
    "start_time": "2021-12-21T16:20:07.298Z"
   },
   {
    "duration": 265,
    "start_time": "2021-12-21T16:20:07.321Z"
   },
   {
    "duration": 18,
    "start_time": "2021-12-21T16:20:07.588Z"
   },
   {
    "duration": 6,
    "start_time": "2021-12-21T16:20:07.609Z"
   },
   {
    "duration": 1053,
    "start_time": "2021-12-21T16:20:07.618Z"
   },
   {
    "duration": 6764,
    "start_time": "2021-12-21T16:20:08.674Z"
   },
   {
    "duration": 21,
    "start_time": "2021-12-21T16:20:15.441Z"
   },
   {
    "duration": 915,
    "start_time": "2021-12-21T16:20:15.465Z"
   },
   {
    "duration": 8468,
    "start_time": "2021-12-21T16:20:16.383Z"
   },
   {
    "duration": 17,
    "start_time": "2021-12-21T16:20:24.858Z"
   },
   {
    "duration": 15,
    "start_time": "2021-12-21T16:20:24.877Z"
   },
   {
    "duration": 9,
    "start_time": "2021-12-21T16:20:24.895Z"
   },
   {
    "duration": 5,
    "start_time": "2021-12-21T16:20:24.906Z"
   },
   {
    "duration": 47,
    "start_time": "2021-12-21T16:20:24.914Z"
   },
   {
    "duration": 15,
    "start_time": "2021-12-21T16:20:24.964Z"
   },
   {
    "duration": 10,
    "start_time": "2021-12-21T16:20:24.982Z"
   },
   {
    "duration": 6,
    "start_time": "2021-12-21T16:20:24.995Z"
   },
   {
    "duration": 60,
    "start_time": "2021-12-21T16:20:25.003Z"
   },
   {
    "duration": 5,
    "start_time": "2021-12-21T16:20:25.066Z"
   },
   {
    "duration": 904,
    "start_time": "2021-12-21T16:20:25.075Z"
   },
   {
    "duration": 12,
    "start_time": "2021-12-21T16:20:25.982Z"
   },
   {
    "duration": 10,
    "start_time": "2021-12-21T16:20:25.996Z"
   },
   {
    "duration": 61,
    "start_time": "2021-12-21T16:20:26.008Z"
   },
   {
    "duration": 1939,
    "start_time": "2021-12-21T16:20:26.072Z"
   },
   {
    "duration": 10,
    "start_time": "2021-12-21T16:20:28.014Z"
   },
   {
    "duration": 36,
    "start_time": "2021-12-21T16:20:28.027Z"
   },
   {
    "duration": 8,
    "start_time": "2021-12-21T16:20:28.066Z"
   },
   {
    "duration": 792,
    "start_time": "2021-12-21T16:20:28.077Z"
   },
   {
    "duration": 7,
    "start_time": "2021-12-21T16:20:28.871Z"
   },
   {
    "duration": 264,
    "start_time": "2021-12-21T16:20:28.880Z"
   },
   {
    "duration": 25,
    "start_time": "2021-12-21T16:20:29.147Z"
   },
   {
    "duration": 1231,
    "start_time": "2021-12-21T16:20:29.176Z"
   },
   {
    "duration": 13,
    "start_time": "2021-12-21T16:20:30.410Z"
   },
   {
    "duration": 34,
    "start_time": "2021-12-21T16:20:30.426Z"
   },
   {
    "duration": 2398,
    "start_time": "2021-12-21T16:20:30.463Z"
   },
   {
    "duration": 24,
    "start_time": "2021-12-21T16:20:32.864Z"
   },
   {
    "duration": 18,
    "start_time": "2021-12-21T16:20:32.891Z"
   },
   {
    "duration": 293,
    "start_time": "2021-12-21T16:20:32.912Z"
   },
   {
    "duration": 13,
    "start_time": "2021-12-21T16:20:33.207Z"
   },
   {
    "duration": 379,
    "start_time": "2021-12-21T16:20:33.223Z"
   },
   {
    "duration": 13,
    "start_time": "2021-12-21T16:20:33.606Z"
   },
   {
    "duration": 380,
    "start_time": "2021-12-21T16:20:33.622Z"
   },
   {
    "duration": 11,
    "start_time": "2021-12-21T16:20:34.006Z"
   },
   {
    "duration": 340,
    "start_time": "2021-12-21T16:20:34.019Z"
   },
   {
    "duration": 9,
    "start_time": "2021-12-21T16:20:34.362Z"
   },
   {
    "duration": 10,
    "start_time": "2021-12-21T16:20:34.381Z"
   },
   {
    "duration": 11,
    "start_time": "2021-12-21T16:20:34.394Z"
   },
   {
    "duration": 421,
    "start_time": "2021-12-21T16:20:34.408Z"
   },
   {
    "duration": 13,
    "start_time": "2021-12-21T16:20:34.831Z"
   },
   {
    "duration": 2712,
    "start_time": "2021-12-21T16:20:34.847Z"
   },
   {
    "duration": 6,
    "start_time": "2021-12-21T16:20:37.561Z"
   },
   {
    "duration": 6,
    "start_time": "2021-12-21T16:20:37.570Z"
   },
   {
    "duration": 8,
    "start_time": "2021-12-21T16:20:37.578Z"
   },
   {
    "duration": 590,
    "start_time": "2021-12-21T16:20:37.589Z"
   },
   {
    "duration": 10,
    "start_time": "2021-12-21T16:20:38.182Z"
   },
   {
    "duration": 275,
    "start_time": "2021-12-21T16:20:38.194Z"
   },
   {
    "duration": 464,
    "start_time": "2021-12-21T16:20:38.472Z"
   },
   {
    "duration": 22,
    "start_time": "2021-12-21T16:20:38.939Z"
   },
   {
    "duration": 10,
    "start_time": "2021-12-21T16:20:38.963Z"
   },
   {
    "duration": 394,
    "start_time": "2021-12-21T16:20:38.975Z"
   },
   {
    "duration": 10,
    "start_time": "2021-12-21T16:20:39.371Z"
   },
   {
    "duration": 617,
    "start_time": "2021-12-21T16:20:39.384Z"
   },
   {
    "duration": 433,
    "start_time": "2021-12-21T16:20:59.349Z"
   },
   {
    "duration": 11,
    "start_time": "2021-12-21T16:21:20.021Z"
   },
   {
    "duration": 360,
    "start_time": "2021-12-21T16:21:22.571Z"
   },
   {
    "duration": 1365,
    "start_time": "2021-12-21T16:21:43.329Z"
   },
   {
    "duration": 379,
    "start_time": "2021-12-21T16:21:44.920Z"
   },
   {
    "duration": 6,
    "start_time": "2021-12-21T16:21:48.577Z"
   },
   {
    "duration": 108,
    "start_time": "2021-12-21T16:21:48.586Z"
   },
   {
    "duration": 79,
    "start_time": "2021-12-21T16:21:48.697Z"
   },
   {
    "duration": 16,
    "start_time": "2021-12-21T16:21:48.779Z"
   },
   {
    "duration": 19,
    "start_time": "2021-12-21T16:21:48.797Z"
   },
   {
    "duration": 37,
    "start_time": "2021-12-21T16:21:48.861Z"
   },
   {
    "duration": 246,
    "start_time": "2021-12-21T16:21:48.901Z"
   },
   {
    "duration": 43,
    "start_time": "2021-12-21T16:21:49.152Z"
   },
   {
    "duration": 10,
    "start_time": "2021-12-21T16:21:49.199Z"
   },
   {
    "duration": 9,
    "start_time": "2021-12-21T16:21:49.211Z"
   },
   {
    "duration": 55,
    "start_time": "2021-12-21T16:21:49.224Z"
   },
   {
    "duration": 31,
    "start_time": "2021-12-21T16:21:49.282Z"
   },
   {
    "duration": 400,
    "start_time": "2021-12-21T16:21:49.316Z"
   },
   {
    "duration": 7,
    "start_time": "2021-12-21T16:21:49.719Z"
   },
   {
    "duration": 76,
    "start_time": "2021-12-21T16:21:49.729Z"
   },
   {
    "duration": 12,
    "start_time": "2021-12-21T16:21:49.809Z"
   },
   {
    "duration": 9,
    "start_time": "2021-12-21T16:21:49.825Z"
   },
   {
    "duration": 265,
    "start_time": "2021-12-21T16:21:49.861Z"
   },
   {
    "duration": 14,
    "start_time": "2021-12-21T16:21:50.129Z"
   },
   {
    "duration": 19,
    "start_time": "2021-12-21T16:21:50.161Z"
   },
   {
    "duration": 252,
    "start_time": "2021-12-21T16:21:50.183Z"
   },
   {
    "duration": 24,
    "start_time": "2021-12-21T16:21:50.437Z"
   },
   {
    "duration": 19,
    "start_time": "2021-12-21T16:21:50.468Z"
   },
   {
    "duration": 368,
    "start_time": "2021-12-21T16:21:50.491Z"
   },
   {
    "duration": 27,
    "start_time": "2021-12-21T16:21:50.862Z"
   },
   {
    "duration": 7,
    "start_time": "2021-12-21T16:21:50.892Z"
   },
   {
    "duration": 1105,
    "start_time": "2021-12-21T16:21:50.902Z"
   },
   {
    "duration": 7444,
    "start_time": "2021-12-21T16:21:52.009Z"
   },
   {
    "duration": 8,
    "start_time": "2021-12-21T16:21:59.459Z"
   },
   {
    "duration": 643,
    "start_time": "2021-12-21T16:21:59.470Z"
   },
   {
    "duration": 5654,
    "start_time": "2021-12-21T16:22:00.116Z"
   },
   {
    "duration": 22,
    "start_time": "2021-12-21T16:22:05.774Z"
   },
   {
    "duration": 23,
    "start_time": "2021-12-21T16:22:05.800Z"
   },
   {
    "duration": 37,
    "start_time": "2021-12-21T16:22:05.826Z"
   },
   {
    "duration": 15,
    "start_time": "2021-12-21T16:22:05.866Z"
   },
   {
    "duration": 27,
    "start_time": "2021-12-21T16:22:05.884Z"
   },
   {
    "duration": 24,
    "start_time": "2021-12-21T16:22:05.914Z"
   },
   {
    "duration": 21,
    "start_time": "2021-12-21T16:22:05.941Z"
   },
   {
    "duration": 21,
    "start_time": "2021-12-21T16:22:05.964Z"
   },
   {
    "duration": 46,
    "start_time": "2021-12-21T16:22:05.988Z"
   },
   {
    "duration": 6,
    "start_time": "2021-12-21T16:22:06.038Z"
   },
   {
    "duration": 1055,
    "start_time": "2021-12-21T16:22:06.047Z"
   },
   {
    "duration": 12,
    "start_time": "2021-12-21T16:22:07.105Z"
   },
   {
    "duration": 32,
    "start_time": "2021-12-21T16:22:07.120Z"
   },
   {
    "duration": 76,
    "start_time": "2021-12-21T16:22:07.155Z"
   },
   {
    "duration": 2039,
    "start_time": "2021-12-21T16:22:07.234Z"
   },
   {
    "duration": 12,
    "start_time": "2021-12-21T16:22:09.276Z"
   },
   {
    "duration": 12,
    "start_time": "2021-12-21T16:22:09.291Z"
   },
   {
    "duration": 9,
    "start_time": "2021-12-21T16:22:09.306Z"
   },
   {
    "duration": 913,
    "start_time": "2021-12-21T16:22:09.318Z"
   },
   {
    "duration": 7,
    "start_time": "2021-12-21T16:22:10.233Z"
   },
   {
    "duration": 244,
    "start_time": "2021-12-21T16:22:10.261Z"
   },
   {
    "duration": 13,
    "start_time": "2021-12-21T16:22:10.507Z"
   },
   {
    "duration": 640,
    "start_time": "2021-12-21T16:22:10.522Z"
   },
   {
    "duration": 11,
    "start_time": "2021-12-21T16:22:11.165Z"
   },
   {
    "duration": 6,
    "start_time": "2021-12-21T16:22:11.179Z"
   },
   {
    "duration": 1742,
    "start_time": "2021-12-21T16:22:11.187Z"
   },
   {
    "duration": 29,
    "start_time": "2021-12-21T16:22:12.932Z"
   },
   {
    "duration": 12,
    "start_time": "2021-12-21T16:22:12.963Z"
   },
   {
    "duration": 265,
    "start_time": "2021-12-21T16:22:12.977Z"
   },
   {
    "duration": 25,
    "start_time": "2021-12-21T16:22:13.244Z"
   },
   {
    "duration": 375,
    "start_time": "2021-12-21T16:22:13.272Z"
   },
   {
    "duration": 18,
    "start_time": "2021-12-21T16:22:13.650Z"
   },
   {
    "duration": 391,
    "start_time": "2021-12-21T16:22:13.672Z"
   },
   {
    "duration": 16,
    "start_time": "2021-12-21T16:22:14.066Z"
   },
   {
    "duration": 340,
    "start_time": "2021-12-21T16:22:14.085Z"
   },
   {
    "duration": 12,
    "start_time": "2021-12-21T16:22:14.428Z"
   },
   {
    "duration": 13,
    "start_time": "2021-12-21T16:22:14.464Z"
   },
   {
    "duration": 15,
    "start_time": "2021-12-21T16:22:14.481Z"
   },
   {
    "duration": 446,
    "start_time": "2021-12-21T16:22:14.499Z"
   },
   {
    "duration": 22,
    "start_time": "2021-12-21T16:22:14.947Z"
   },
   {
    "duration": 2893,
    "start_time": "2021-12-21T16:22:14.972Z"
   },
   {
    "duration": 8,
    "start_time": "2021-12-21T16:22:17.868Z"
   },
   {
    "duration": 11,
    "start_time": "2021-12-21T16:22:17.879Z"
   },
   {
    "duration": 17,
    "start_time": "2021-12-21T16:22:17.893Z"
   },
   {
    "duration": 575,
    "start_time": "2021-12-21T16:22:17.912Z"
   },
   {
    "duration": 12,
    "start_time": "2021-12-21T16:22:18.489Z"
   },
   {
    "duration": 275,
    "start_time": "2021-12-21T16:22:18.503Z"
   },
   {
    "duration": 471,
    "start_time": "2021-12-21T16:22:18.781Z"
   },
   {
    "duration": 13,
    "start_time": "2021-12-21T16:22:19.255Z"
   },
   {
    "duration": 10,
    "start_time": "2021-12-21T16:22:19.271Z"
   },
   {
    "duration": 400,
    "start_time": "2021-12-21T16:22:19.283Z"
   },
   {
    "duration": 1861,
    "start_time": "2021-12-21T16:22:19.686Z"
   },
   {
    "duration": 870,
    "start_time": "2021-12-21T16:22:20.680Z"
   },
   {
    "duration": 443,
    "start_time": "2021-12-21T16:22:30.827Z"
   },
   {
    "duration": 377,
    "start_time": "2021-12-21T16:23:21.958Z"
   },
   {
    "duration": 849,
    "start_time": "2021-12-21T16:23:21.489Z"
   },
   {
    "duration": 11,
    "start_time": "2021-12-21T16:23:35.340Z"
   },
   {
    "duration": 369,
    "start_time": "2021-12-21T16:23:39.850Z"
   },
   {
    "duration": 314,
    "start_time": "2021-12-21T16:30:54.001Z"
   },
   {
    "duration": 1301,
    "start_time": "2021-12-22T08:43:01.066Z"
   },
   {
    "duration": 78,
    "start_time": "2021-12-22T08:43:02.369Z"
   },
   {
    "duration": 30,
    "start_time": "2021-12-22T08:43:02.450Z"
   },
   {
    "duration": 25,
    "start_time": "2021-12-22T08:43:02.482Z"
   },
   {
    "duration": 21,
    "start_time": "2021-12-22T08:43:02.509Z"
   },
   {
    "duration": 38,
    "start_time": "2021-12-22T08:43:02.533Z"
   },
   {
    "duration": 150,
    "start_time": "2021-12-22T08:43:02.573Z"
   },
   {
    "duration": 37,
    "start_time": "2021-12-22T08:43:02.725Z"
   },
   {
    "duration": 9,
    "start_time": "2021-12-22T08:43:02.765Z"
   },
   {
    "duration": 7,
    "start_time": "2021-12-22T08:43:02.776Z"
   },
   {
    "duration": 10,
    "start_time": "2021-12-22T08:43:02.785Z"
   },
   {
    "duration": 23,
    "start_time": "2021-12-22T08:43:02.796Z"
   },
   {
    "duration": 167,
    "start_time": "2021-12-22T08:43:02.821Z"
   },
   {
    "duration": 4,
    "start_time": "2021-12-22T08:43:02.990Z"
   },
   {
    "duration": 45,
    "start_time": "2021-12-22T08:43:02.996Z"
   },
   {
    "duration": 9,
    "start_time": "2021-12-22T08:43:03.043Z"
   },
   {
    "duration": 9,
    "start_time": "2021-12-22T08:43:03.054Z"
   },
   {
    "duration": 180,
    "start_time": "2021-12-22T08:43:03.065Z"
   },
   {
    "duration": 19,
    "start_time": "2021-12-22T08:43:03.247Z"
   },
   {
    "duration": 30,
    "start_time": "2021-12-22T08:43:03.268Z"
   },
   {
    "duration": 166,
    "start_time": "2021-12-22T08:43:03.300Z"
   },
   {
    "duration": 9,
    "start_time": "2021-12-22T08:43:03.468Z"
   },
   {
    "duration": 28,
    "start_time": "2021-12-22T08:43:03.479Z"
   },
   {
    "duration": 147,
    "start_time": "2021-12-22T08:43:03.509Z"
   },
   {
    "duration": 13,
    "start_time": "2021-12-22T08:43:03.658Z"
   },
   {
    "duration": 4,
    "start_time": "2021-12-22T08:43:03.673Z"
   },
   {
    "duration": 825,
    "start_time": "2021-12-22T08:43:03.681Z"
   },
   {
    "duration": 4085,
    "start_time": "2021-12-22T08:43:04.509Z"
   },
   {
    "duration": 6,
    "start_time": "2021-12-22T08:43:08.595Z"
   },
   {
    "duration": 499,
    "start_time": "2021-12-22T08:43:08.602Z"
   },
   {
    "duration": 3160,
    "start_time": "2021-12-22T08:43:09.102Z"
   },
   {
    "duration": 11,
    "start_time": "2021-12-22T08:43:12.263Z"
   },
   {
    "duration": 13,
    "start_time": "2021-12-22T08:43:12.276Z"
   },
   {
    "duration": 9,
    "start_time": "2021-12-22T08:43:12.291Z"
   },
   {
    "duration": 3,
    "start_time": "2021-12-22T08:43:12.302Z"
   },
   {
    "duration": 6,
    "start_time": "2021-12-22T08:43:12.307Z"
   },
   {
    "duration": 12,
    "start_time": "2021-12-22T08:43:12.315Z"
   },
   {
    "duration": 42,
    "start_time": "2021-12-22T08:43:12.328Z"
   },
   {
    "duration": 11,
    "start_time": "2021-12-22T08:43:12.373Z"
   },
   {
    "duration": 17,
    "start_time": "2021-12-22T08:43:12.385Z"
   },
   {
    "duration": 3,
    "start_time": "2021-12-22T08:43:12.404Z"
   },
   {
    "duration": 546,
    "start_time": "2021-12-22T08:43:12.408Z"
   },
   {
    "duration": 8,
    "start_time": "2021-12-22T08:43:12.955Z"
   },
   {
    "duration": 9,
    "start_time": "2021-12-22T08:43:12.965Z"
   },
   {
    "duration": 43,
    "start_time": "2021-12-22T08:43:12.975Z"
   },
   {
    "duration": 1224,
    "start_time": "2021-12-22T08:43:13.020Z"
   },
   {
    "duration": 15,
    "start_time": "2021-12-22T08:43:14.246Z"
   },
   {
    "duration": 19,
    "start_time": "2021-12-22T08:43:14.264Z"
   },
   {
    "duration": 15,
    "start_time": "2021-12-22T08:43:14.285Z"
   },
   {
    "duration": 438,
    "start_time": "2021-12-22T08:43:14.302Z"
   },
   {
    "duration": 18,
    "start_time": "2021-12-22T08:43:14.742Z"
   },
   {
    "duration": 151,
    "start_time": "2021-12-22T08:43:14.762Z"
   },
   {
    "duration": 11,
    "start_time": "2021-12-22T08:43:14.915Z"
   },
   {
    "duration": 414,
    "start_time": "2021-12-22T08:43:14.928Z"
   },
   {
    "duration": 17,
    "start_time": "2021-12-22T08:43:15.343Z"
   },
   {
    "duration": 4,
    "start_time": "2021-12-22T08:43:15.362Z"
   },
   {
    "duration": 1129,
    "start_time": "2021-12-22T08:43:15.368Z"
   },
   {
    "duration": 11,
    "start_time": "2021-12-22T08:43:16.499Z"
   },
   {
    "duration": 9,
    "start_time": "2021-12-22T08:43:16.512Z"
   },
   {
    "duration": 185,
    "start_time": "2021-12-22T08:43:16.522Z"
   },
   {
    "duration": 8,
    "start_time": "2021-12-22T08:43:16.709Z"
   },
   {
    "duration": 235,
    "start_time": "2021-12-22T08:43:16.719Z"
   },
   {
    "duration": 8,
    "start_time": "2021-12-22T08:43:16.955Z"
   },
   {
    "duration": 240,
    "start_time": "2021-12-22T08:43:16.965Z"
   },
   {
    "duration": 7,
    "start_time": "2021-12-22T08:43:17.207Z"
   },
   {
    "duration": 204,
    "start_time": "2021-12-22T08:43:17.216Z"
   },
   {
    "duration": 8,
    "start_time": "2021-12-22T08:43:17.422Z"
   },
   {
    "duration": 8,
    "start_time": "2021-12-22T08:43:17.432Z"
   },
   {
    "duration": 25,
    "start_time": "2021-12-22T08:43:17.442Z"
   },
   {
    "duration": 357,
    "start_time": "2021-12-22T08:43:17.469Z"
   },
   {
    "duration": 10,
    "start_time": "2021-12-22T08:43:17.828Z"
   },
   {
    "duration": 1434,
    "start_time": "2021-12-22T08:43:17.840Z"
   },
   {
    "duration": 4,
    "start_time": "2021-12-22T08:43:19.276Z"
   },
   {
    "duration": 8,
    "start_time": "2021-12-22T08:43:19.282Z"
   },
   {
    "duration": 5,
    "start_time": "2021-12-22T08:43:19.292Z"
   },
   {
    "duration": 377,
    "start_time": "2021-12-22T08:43:19.299Z"
   },
   {
    "duration": 8,
    "start_time": "2021-12-22T08:43:19.678Z"
   },
   {
    "duration": 168,
    "start_time": "2021-12-22T08:43:19.688Z"
   },
   {
    "duration": 342,
    "start_time": "2021-12-22T08:43:19.861Z"
   },
   {
    "duration": 9,
    "start_time": "2021-12-22T08:43:20.205Z"
   },
   {
    "duration": 6,
    "start_time": "2021-12-22T08:43:20.220Z"
   },
   {
    "duration": 236,
    "start_time": "2021-12-22T08:43:20.228Z"
   },
   {
    "duration": 7,
    "start_time": "2021-12-22T08:43:20.466Z"
   },
   {
    "duration": 343,
    "start_time": "2021-12-22T08:43:20.474Z"
   },
   {
    "duration": 6,
    "start_time": "2021-12-22T08:43:20.819Z"
   },
   {
    "duration": 202,
    "start_time": "2021-12-22T08:43:20.827Z"
   },
   {
    "duration": 35,
    "start_time": "2021-12-22T08:46:09.660Z"
   },
   {
    "duration": 24,
    "start_time": "2021-12-22T08:51:28.468Z"
   },
   {
    "duration": 333,
    "start_time": "2021-12-22T15:47:37.502Z"
   },
   {
    "duration": 1523,
    "start_time": "2021-12-22T15:47:40.971Z"
   },
   {
    "duration": 89,
    "start_time": "2021-12-22T15:47:42.496Z"
   },
   {
    "duration": 45,
    "start_time": "2021-12-22T15:47:42.588Z"
   },
   {
    "duration": 14,
    "start_time": "2021-12-22T15:47:42.636Z"
   },
   {
    "duration": 19,
    "start_time": "2021-12-22T15:47:42.653Z"
   },
   {
    "duration": 73,
    "start_time": "2021-12-22T15:47:42.674Z"
   },
   {
    "duration": 223,
    "start_time": "2021-12-22T15:47:42.750Z"
   },
   {
    "duration": 43,
    "start_time": "2021-12-22T15:47:42.977Z"
   },
   {
    "duration": 13,
    "start_time": "2021-12-22T15:47:43.023Z"
   },
   {
    "duration": 9,
    "start_time": "2021-12-22T15:47:43.039Z"
   },
   {
    "duration": 15,
    "start_time": "2021-12-22T15:47:43.050Z"
   },
   {
    "duration": 59,
    "start_time": "2021-12-22T15:47:43.067Z"
   },
   {
    "duration": 231,
    "start_time": "2021-12-22T15:47:43.129Z"
   },
   {
    "duration": 5,
    "start_time": "2021-12-22T15:47:43.362Z"
   },
   {
    "duration": 51,
    "start_time": "2021-12-22T15:47:43.369Z"
   },
   {
    "duration": 12,
    "start_time": "2021-12-22T15:47:43.424Z"
   },
   {
    "duration": 8,
    "start_time": "2021-12-22T15:47:43.438Z"
   },
   {
    "duration": 276,
    "start_time": "2021-12-22T15:47:43.449Z"
   },
   {
    "duration": 12,
    "start_time": "2021-12-22T15:47:43.727Z"
   },
   {
    "duration": 18,
    "start_time": "2021-12-22T15:47:43.741Z"
   },
   {
    "duration": 245,
    "start_time": "2021-12-22T15:47:43.762Z"
   },
   {
    "duration": 12,
    "start_time": "2021-12-22T15:47:44.017Z"
   },
   {
    "duration": 17,
    "start_time": "2021-12-22T15:47:44.035Z"
   },
   {
    "duration": 230,
    "start_time": "2021-12-22T15:47:44.056Z"
   },
   {
    "duration": 30,
    "start_time": "2021-12-22T15:47:44.288Z"
   },
   {
    "duration": 5,
    "start_time": "2021-12-22T15:47:44.321Z"
   },
   {
    "duration": 1011,
    "start_time": "2021-12-22T15:47:44.328Z"
   },
   {
    "duration": 6476,
    "start_time": "2021-12-22T15:47:45.341Z"
   },
   {
    "duration": 7,
    "start_time": "2021-12-22T15:47:51.819Z"
   },
   {
    "duration": 628,
    "start_time": "2021-12-22T15:47:51.828Z"
   },
   {
    "duration": 4999,
    "start_time": "2021-12-22T15:47:52.458Z"
   },
   {
    "duration": 19,
    "start_time": "2021-12-22T15:47:57.459Z"
   },
   {
    "duration": 39,
    "start_time": "2021-12-22T15:47:57.480Z"
   },
   {
    "duration": 10,
    "start_time": "2021-12-22T15:47:57.522Z"
   },
   {
    "duration": 3,
    "start_time": "2021-12-22T15:47:57.535Z"
   },
   {
    "duration": 5,
    "start_time": "2021-12-22T15:47:57.541Z"
   },
   {
    "duration": 15,
    "start_time": "2021-12-22T15:47:57.548Z"
   },
   {
    "duration": 53,
    "start_time": "2021-12-22T15:47:57.565Z"
   },
   {
    "duration": 7,
    "start_time": "2021-12-22T15:47:57.621Z"
   },
   {
    "duration": 19,
    "start_time": "2021-12-22T15:47:57.630Z"
   },
   {
    "duration": 5,
    "start_time": "2021-12-22T15:47:57.651Z"
   },
   {
    "duration": 929,
    "start_time": "2021-12-22T15:47:57.658Z"
   },
   {
    "duration": 10,
    "start_time": "2021-12-22T15:47:58.589Z"
   },
   {
    "duration": 18,
    "start_time": "2021-12-22T15:47:58.601Z"
   },
   {
    "duration": 38,
    "start_time": "2021-12-22T15:47:58.622Z"
   },
   {
    "duration": 2044,
    "start_time": "2021-12-22T15:47:58.662Z"
   },
   {
    "duration": 13,
    "start_time": "2021-12-22T15:48:00.708Z"
   },
   {
    "duration": 831,
    "start_time": "2021-12-22T15:48:00.723Z"
   },
   {
    "duration": 14,
    "start_time": "2021-12-22T15:48:01.557Z"
   },
   {
    "duration": 756,
    "start_time": "2021-12-22T15:48:01.574Z"
   },
   {
    "duration": 7,
    "start_time": "2021-12-22T15:48:02.333Z"
   },
   {
    "duration": 263,
    "start_time": "2021-12-22T15:48:02.342Z"
   },
   {
    "duration": 17,
    "start_time": "2021-12-22T15:48:02.607Z"
   },
   {
    "duration": 661,
    "start_time": "2021-12-22T15:48:02.626Z"
   },
   {
    "duration": 8,
    "start_time": "2021-12-22T15:48:03.290Z"
   },
   {
    "duration": 20,
    "start_time": "2021-12-22T15:48:03.300Z"
   },
   {
    "duration": 2272,
    "start_time": "2021-12-22T15:48:03.322Z"
   },
   {
    "duration": 27,
    "start_time": "2021-12-22T15:48:05.597Z"
   },
   {
    "duration": 14,
    "start_time": "2021-12-22T15:48:05.627Z"
   },
   {
    "duration": 282,
    "start_time": "2021-12-22T15:48:05.643Z"
   },
   {
    "duration": 12,
    "start_time": "2021-12-22T15:48:05.928Z"
   },
   {
    "duration": 376,
    "start_time": "2021-12-22T15:48:05.943Z"
   },
   {
    "duration": 12,
    "start_time": "2021-12-22T15:48:06.322Z"
   },
   {
    "duration": 368,
    "start_time": "2021-12-22T15:48:06.336Z"
   },
   {
    "duration": 16,
    "start_time": "2021-12-22T15:48:06.706Z"
   },
   {
    "duration": 312,
    "start_time": "2021-12-22T15:48:06.725Z"
   },
   {
    "duration": 10,
    "start_time": "2021-12-22T15:48:07.040Z"
   },
   {
    "duration": 704,
    "start_time": "2021-12-22T15:48:07.057Z"
   },
   {
    "duration": 11,
    "start_time": "2021-12-22T15:48:07.764Z"
   },
   {
    "duration": 354,
    "start_time": "2021-12-22T15:48:07.777Z"
   },
   {
    "duration": 12,
    "start_time": "2021-12-22T15:48:08.133Z"
   },
   {
    "duration": 2604,
    "start_time": "2021-12-22T15:48:08.147Z"
   },
   {
    "duration": 6,
    "start_time": "2021-12-22T15:48:10.753Z"
   },
   {
    "duration": 10,
    "start_time": "2021-12-22T15:48:10.762Z"
   },
   {
    "duration": 6,
    "start_time": "2021-12-22T15:48:10.774Z"
   },
   {
    "duration": 540,
    "start_time": "2021-12-22T15:48:10.783Z"
   },
   {
    "duration": 10,
    "start_time": "2021-12-22T15:48:11.325Z"
   },
   {
    "duration": 268,
    "start_time": "2021-12-22T15:48:11.338Z"
   },
   {
    "duration": 493,
    "start_time": "2021-12-22T15:48:11.609Z"
   },
   {
    "duration": 21,
    "start_time": "2021-12-22T15:48:12.104Z"
   },
   {
    "duration": 12,
    "start_time": "2021-12-22T15:48:12.127Z"
   },
   {
    "duration": 398,
    "start_time": "2021-12-22T15:48:12.141Z"
   },
   {
    "duration": 11,
    "start_time": "2021-12-22T15:48:12.542Z"
   },
   {
    "duration": 372,
    "start_time": "2021-12-22T15:48:12.555Z"
   },
   {
    "duration": 9,
    "start_time": "2021-12-22T15:48:12.929Z"
   },
   {
    "duration": 433,
    "start_time": "2021-12-22T15:48:12.940Z"
   },
   {
    "duration": 2582,
    "start_time": "2021-12-22T15:58:26.637Z"
   },
   {
    "duration": 5,
    "start_time": "2021-12-22T15:58:40.541Z"
   },
   {
    "duration": 97,
    "start_time": "2021-12-22T15:58:40.550Z"
   },
   {
    "duration": 67,
    "start_time": "2021-12-22T15:58:40.650Z"
   },
   {
    "duration": 16,
    "start_time": "2021-12-22T15:58:40.721Z"
   },
   {
    "duration": 19,
    "start_time": "2021-12-22T15:58:40.740Z"
   },
   {
    "duration": 85,
    "start_time": "2021-12-22T15:58:40.761Z"
   },
   {
    "duration": 250,
    "start_time": "2021-12-22T15:58:40.848Z"
   },
   {
    "duration": 49,
    "start_time": "2021-12-22T15:58:41.101Z"
   },
   {
    "duration": 11,
    "start_time": "2021-12-22T15:58:41.153Z"
   },
   {
    "duration": 8,
    "start_time": "2021-12-22T15:58:41.167Z"
   },
   {
    "duration": 43,
    "start_time": "2021-12-22T15:58:41.177Z"
   },
   {
    "duration": 21,
    "start_time": "2021-12-22T15:58:41.223Z"
   },
   {
    "duration": 296,
    "start_time": "2021-12-22T15:58:41.246Z"
   },
   {
    "duration": 11,
    "start_time": "2021-12-22T15:58:41.545Z"
   },
   {
    "duration": 35,
    "start_time": "2021-12-22T15:58:41.559Z"
   },
   {
    "duration": 8,
    "start_time": "2021-12-22T15:58:41.597Z"
   },
   {
    "duration": 6,
    "start_time": "2021-12-22T15:58:41.608Z"
   },
   {
    "duration": 239,
    "start_time": "2021-12-22T15:58:41.618Z"
   },
   {
    "duration": 13,
    "start_time": "2021-12-22T15:58:41.859Z"
   },
   {
    "duration": 20,
    "start_time": "2021-12-22T15:58:41.874Z"
   },
   {
    "duration": 233,
    "start_time": "2021-12-22T15:58:41.897Z"
   },
   {
    "duration": 12,
    "start_time": "2021-12-22T15:58:42.132Z"
   },
   {
    "duration": 16,
    "start_time": "2021-12-22T15:58:42.150Z"
   },
   {
    "duration": 227,
    "start_time": "2021-12-22T15:58:42.170Z"
   },
   {
    "duration": 24,
    "start_time": "2021-12-22T15:58:42.400Z"
   },
   {
    "duration": 6,
    "start_time": "2021-12-22T15:58:42.426Z"
   },
   {
    "duration": 1364,
    "start_time": "2021-12-22T15:58:42.434Z"
   },
   {
    "duration": 6731,
    "start_time": "2021-12-22T15:58:43.800Z"
   },
   {
    "duration": 7,
    "start_time": "2021-12-22T15:58:50.533Z"
   },
   {
    "duration": 642,
    "start_time": "2021-12-22T15:58:50.543Z"
   },
   {
    "duration": 4935,
    "start_time": "2021-12-22T15:58:51.187Z"
   },
   {
    "duration": 14,
    "start_time": "2021-12-22T15:58:56.124Z"
   },
   {
    "duration": 16,
    "start_time": "2021-12-22T15:58:56.141Z"
   },
   {
    "duration": 9,
    "start_time": "2021-12-22T15:58:56.159Z"
   },
   {
    "duration": 3,
    "start_time": "2021-12-22T15:58:56.170Z"
   },
   {
    "duration": 45,
    "start_time": "2021-12-22T15:58:56.175Z"
   },
   {
    "duration": 15,
    "start_time": "2021-12-22T15:58:56.223Z"
   },
   {
    "duration": 11,
    "start_time": "2021-12-22T15:58:56.240Z"
   },
   {
    "duration": 6,
    "start_time": "2021-12-22T15:58:56.254Z"
   },
   {
    "duration": 57,
    "start_time": "2021-12-22T15:58:56.262Z"
   },
   {
    "duration": 4,
    "start_time": "2021-12-22T15:58:56.322Z"
   },
   {
    "duration": 892,
    "start_time": "2021-12-22T15:58:56.329Z"
   },
   {
    "duration": 9,
    "start_time": "2021-12-22T15:58:57.224Z"
   },
   {
    "duration": 7,
    "start_time": "2021-12-22T15:58:57.235Z"
   },
   {
    "duration": 38,
    "start_time": "2021-12-22T15:58:57.244Z"
   },
   {
    "duration": 2488,
    "start_time": "2021-12-22T15:58:57.284Z"
   },
   {
    "duration": 1925,
    "start_time": "2021-12-22T15:58:57.850Z"
   },
   {
    "duration": 1924,
    "start_time": "2021-12-22T15:58:57.853Z"
   },
   {
    "duration": 1905,
    "start_time": "2021-12-22T15:58:57.873Z"
   },
   {
    "duration": 1886,
    "start_time": "2021-12-22T15:58:57.893Z"
   },
   {
    "duration": 1870,
    "start_time": "2021-12-22T15:58:57.911Z"
   },
   {
    "duration": 1855,
    "start_time": "2021-12-22T15:58:57.927Z"
   },
   {
    "duration": 1834,
    "start_time": "2021-12-22T15:58:57.949Z"
   },
   {
    "duration": 1818,
    "start_time": "2021-12-22T15:58:57.966Z"
   },
   {
    "duration": 1803,
    "start_time": "2021-12-22T15:58:57.983Z"
   },
   {
    "duration": 1789,
    "start_time": "2021-12-22T15:58:57.998Z"
   },
   {
    "duration": 1774,
    "start_time": "2021-12-22T15:58:58.014Z"
   },
   {
    "duration": 1758,
    "start_time": "2021-12-22T15:58:58.032Z"
   },
   {
    "duration": 1749,
    "start_time": "2021-12-22T15:58:58.042Z"
   },
   {
    "duration": 1746,
    "start_time": "2021-12-22T15:58:58.046Z"
   },
   {
    "duration": 1745,
    "start_time": "2021-12-22T15:58:58.049Z"
   },
   {
    "duration": 1742,
    "start_time": "2021-12-22T15:58:58.053Z"
   },
   {
    "duration": 1740,
    "start_time": "2021-12-22T15:58:58.057Z"
   },
   {
    "duration": 1738,
    "start_time": "2021-12-22T15:58:58.060Z"
   },
   {
    "duration": 1736,
    "start_time": "2021-12-22T15:58:58.063Z"
   },
   {
    "duration": 1735,
    "start_time": "2021-12-22T15:58:58.066Z"
   },
   {
    "duration": 1733,
    "start_time": "2021-12-22T15:58:58.069Z"
   },
   {
    "duration": 1730,
    "start_time": "2021-12-22T15:58:58.073Z"
   },
   {
    "duration": 1729,
    "start_time": "2021-12-22T15:58:58.076Z"
   },
   {
    "duration": 1737,
    "start_time": "2021-12-22T15:58:58.079Z"
   },
   {
    "duration": 1736,
    "start_time": "2021-12-22T15:58:58.082Z"
   },
   {
    "duration": 1735,
    "start_time": "2021-12-22T15:58:58.085Z"
   },
   {
    "duration": 1732,
    "start_time": "2021-12-22T15:58:58.089Z"
   },
   {
    "duration": 1731,
    "start_time": "2021-12-22T15:58:58.092Z"
   },
   {
    "duration": 1730,
    "start_time": "2021-12-22T15:58:58.095Z"
   },
   {
    "duration": 1729,
    "start_time": "2021-12-22T15:58:58.098Z"
   },
   {
    "duration": 1727,
    "start_time": "2021-12-22T15:58:58.101Z"
   },
   {
    "duration": 1726,
    "start_time": "2021-12-22T15:58:58.104Z"
   },
   {
    "duration": 1723,
    "start_time": "2021-12-22T15:58:58.108Z"
   },
   {
    "duration": 1722,
    "start_time": "2021-12-22T15:58:58.110Z"
   },
   {
    "duration": 1719,
    "start_time": "2021-12-22T15:58:58.114Z"
   },
   {
    "duration": 1718,
    "start_time": "2021-12-22T15:58:58.117Z"
   },
   {
    "duration": 1716,
    "start_time": "2021-12-22T15:58:58.120Z"
   },
   {
    "duration": 1713,
    "start_time": "2021-12-22T15:58:58.124Z"
   },
   {
    "duration": 1711,
    "start_time": "2021-12-22T15:58:58.127Z"
   },
   {
    "duration": 1710,
    "start_time": "2021-12-22T15:58:58.130Z"
   },
   {
    "duration": 1858,
    "start_time": "2021-12-22T16:04:21.247Z"
   },
   {
    "duration": 1734,
    "start_time": "2021-12-22T16:05:25.054Z"
   },
   {
    "duration": 139,
    "start_time": "2021-12-22T16:16:27.921Z"
   },
   {
    "duration": 834,
    "start_time": "2021-12-22T16:16:53.623Z"
   },
   {
    "duration": 1859,
    "start_time": "2021-12-22T16:17:33.363Z"
   },
   {
    "duration": 849,
    "start_time": "2021-12-22T16:20:06.581Z"
   },
   {
    "duration": 1930,
    "start_time": "2021-12-22T16:20:24.191Z"
   },
   {
    "duration": 826,
    "start_time": "2021-12-22T16:22:43.318Z"
   },
   {
    "duration": 1950,
    "start_time": "2021-12-22T16:23:00.308Z"
   },
   {
    "duration": 99,
    "start_time": "2021-12-22T16:24:46.756Z"
   },
   {
    "duration": 147,
    "start_time": "2021-12-22T16:25:00.866Z"
   },
   {
    "duration": 1730,
    "start_time": "2021-12-22T16:27:32.234Z"
   },
   {
    "duration": 1756,
    "start_time": "2021-12-22T16:28:27.984Z"
   },
   {
    "duration": 1854,
    "start_time": "2021-12-22T16:33:56.518Z"
   },
   {
    "duration": 1709,
    "start_time": "2021-12-22T16:34:15.779Z"
   },
   {
    "duration": 1759,
    "start_time": "2021-12-22T16:35:19.529Z"
   },
   {
    "duration": 1924,
    "start_time": "2021-12-22T16:37:11.574Z"
   },
   {
    "duration": 469,
    "start_time": "2021-12-22T16:55:01.520Z"
   },
   {
    "duration": 5,
    "start_time": "2021-12-22T16:55:05.747Z"
   },
   {
    "duration": 383,
    "start_time": "2021-12-22T16:55:05.754Z"
   },
   {
    "duration": 733,
    "start_time": "2021-12-22T16:55:06.140Z"
   },
   {
    "duration": 553,
    "start_time": "2021-12-22T16:55:06.876Z"
   },
   {
    "duration": 244,
    "start_time": "2021-12-22T16:55:07.431Z"
   },
   {
    "duration": 278,
    "start_time": "2021-12-22T16:55:07.679Z"
   },
   {
    "duration": 564,
    "start_time": "2021-12-22T16:55:07.959Z"
   },
   {
    "duration": 197,
    "start_time": "2021-12-22T16:55:08.527Z"
   },
   {
    "duration": 366,
    "start_time": "2021-12-22T16:55:08.727Z"
   },
   {
    "duration": 238,
    "start_time": "2021-12-22T16:55:09.096Z"
   },
   {
    "duration": 198,
    "start_time": "2021-12-22T16:55:09.336Z"
   },
   {
    "duration": 432,
    "start_time": "2021-12-22T16:55:09.536Z"
   },
   {
    "duration": 398,
    "start_time": "2021-12-22T16:55:09.970Z"
   },
   {
    "duration": 69,
    "start_time": "2021-12-22T16:55:10.370Z"
   },
   {
    "duration": 394,
    "start_time": "2021-12-22T16:55:10.441Z"
   },
   {
    "duration": 191,
    "start_time": "2021-12-22T16:55:10.838Z"
   },
   {
    "duration": 146,
    "start_time": "2021-12-22T16:55:11.032Z"
   },
   {
    "duration": 625,
    "start_time": "2021-12-22T16:55:11.181Z"
   },
   {
    "duration": 391,
    "start_time": "2021-12-22T16:55:11.808Z"
   },
   {
    "duration": 323,
    "start_time": "2021-12-22T16:55:12.202Z"
   },
   {
    "duration": 340,
    "start_time": "2021-12-22T16:55:12.527Z"
   },
   {
    "duration": 12,
    "start_time": "2021-12-22T16:55:12.870Z"
   },
   {
    "duration": 295,
    "start_time": "2021-12-22T16:55:12.888Z"
   },
   {
    "duration": 597,
    "start_time": "2021-12-22T16:55:13.186Z"
   },
   {
    "duration": 31,
    "start_time": "2021-12-22T16:55:13.786Z"
   },
   {
    "duration": 424,
    "start_time": "2021-12-22T16:55:13.820Z"
   },
   {
    "duration": 1303,
    "start_time": "2021-12-22T16:55:14.246Z"
   },
   {
    "duration": 6698,
    "start_time": "2021-12-22T16:55:15.552Z"
   },
   {
    "duration": 6,
    "start_time": "2021-12-22T16:55:22.252Z"
   },
   {
    "duration": 815,
    "start_time": "2021-12-22T16:55:22.260Z"
   },
   {
    "duration": 5122,
    "start_time": "2021-12-22T16:55:23.078Z"
   },
   {
    "duration": 18,
    "start_time": "2021-12-22T16:55:28.203Z"
   },
   {
    "duration": 562,
    "start_time": "2021-12-22T16:55:28.224Z"
   },
   {
    "duration": 213,
    "start_time": "2021-12-22T16:55:28.789Z"
   },
   {
    "duration": 267,
    "start_time": "2021-12-22T16:55:29.005Z"
   },
   {
    "duration": 708,
    "start_time": "2021-12-22T16:55:29.274Z"
   },
   {
    "duration": 1782,
    "start_time": "2021-12-22T16:55:29.984Z"
   },
   {
    "duration": 783,
    "start_time": "2021-12-22T16:55:31.768Z"
   },
   {
    "duration": 217,
    "start_time": "2021-12-22T16:55:32.553Z"
   },
   {
    "duration": 913,
    "start_time": "2021-12-22T16:55:32.773Z"
   },
   {
    "duration": 645,
    "start_time": "2021-12-22T16:55:33.688Z"
   },
   {
    "duration": 1034,
    "start_time": "2021-12-22T16:55:34.336Z"
   },
   {
    "duration": 9,
    "start_time": "2021-12-22T16:55:35.373Z"
   },
   {
    "duration": 142,
    "start_time": "2021-12-22T16:55:35.384Z"
   },
   {
    "duration": 193,
    "start_time": "2021-12-22T16:55:35.529Z"
   },
   {
    "duration": 615,
    "start_time": "2021-12-22T16:55:35.725Z"
   },
   {
    "duration": 480,
    "start_time": "2021-12-22T16:55:36.343Z"
   },
   {
    "duration": 471,
    "start_time": "2021-12-22T16:55:36.826Z"
   },
   {
    "duration": 452,
    "start_time": "2021-12-22T16:55:37.299Z"
   },
   {
    "duration": 6,
    "start_time": "2021-12-22T16:55:37.754Z"
   },
   {
    "duration": 142,
    "start_time": "2021-12-22T16:55:37.762Z"
   },
   {
    "duration": 120,
    "start_time": "2021-12-22T16:55:37.906Z"
   },
   {
    "duration": 1001,
    "start_time": "2021-12-22T16:55:38.029Z"
   },
   {
    "duration": 8,
    "start_time": "2021-12-22T16:55:39.032Z"
   },
   {
    "duration": 409,
    "start_time": "2021-12-22T16:55:39.043Z"
   },
   {
    "duration": 12,
    "start_time": "2021-12-22T16:55:39.455Z"
   },
   {
    "duration": 706,
    "start_time": "2021-12-22T16:55:39.470Z"
   },
   {
    "duration": 10,
    "start_time": "2021-12-22T16:55:40.178Z"
   },
   {
    "duration": 188,
    "start_time": "2021-12-22T16:55:40.190Z"
   },
   {
    "duration": 1739,
    "start_time": "2021-12-22T16:55:40.381Z"
   },
   {
    "duration": 18,
    "start_time": "2021-12-22T16:55:42.124Z"
   },
   {
    "duration": 252,
    "start_time": "2021-12-22T16:55:42.144Z"
   },
   {
    "duration": 443,
    "start_time": "2021-12-22T16:55:42.399Z"
   },
   {
    "duration": 9,
    "start_time": "2021-12-22T16:55:42.845Z"
   },
   {
    "duration": 604,
    "start_time": "2021-12-22T16:55:42.856Z"
   },
   {
    "duration": 10,
    "start_time": "2021-12-22T16:55:43.462Z"
   },
   {
    "duration": 501,
    "start_time": "2021-12-22T16:55:43.474Z"
   },
   {
    "duration": 11,
    "start_time": "2021-12-22T16:55:43.983Z"
   },
   {
    "duration": 724,
    "start_time": "2021-12-22T16:55:43.996Z"
   },
   {
    "duration": 14,
    "start_time": "2021-12-22T16:55:44.723Z"
   },
   {
    "duration": 106,
    "start_time": "2021-12-22T16:55:44.740Z"
   },
   {
    "duration": 95,
    "start_time": "2021-12-22T16:55:44.849Z"
   },
   {
    "duration": 462,
    "start_time": "2021-12-22T16:55:44.947Z"
   },
   {
    "duration": 14,
    "start_time": "2021-12-22T16:55:45.416Z"
   },
   {
    "duration": 2770,
    "start_time": "2021-12-22T16:55:45.432Z"
   },
   {
    "duration": 15,
    "start_time": "2021-12-22T16:55:48.204Z"
   },
   {
    "duration": 51,
    "start_time": "2021-12-22T16:55:48.222Z"
   },
   {
    "duration": 159,
    "start_time": "2021-12-22T16:55:48.275Z"
   },
   {
    "duration": 671,
    "start_time": "2021-12-22T16:55:48.437Z"
   },
   {
    "duration": 16,
    "start_time": "2021-12-22T16:55:49.111Z"
   },
   {
    "duration": 655,
    "start_time": "2021-12-22T16:55:49.130Z"
   },
   {
    "duration": 536,
    "start_time": "2021-12-22T16:55:49.788Z"
   },
   {
    "duration": 13,
    "start_time": "2021-12-22T16:55:50.326Z"
   },
   {
    "duration": 712,
    "start_time": "2021-12-22T16:55:50.342Z"
   },
   {
    "duration": 834,
    "start_time": "2021-12-22T16:55:51.056Z"
   },
   {
    "duration": 10,
    "start_time": "2021-12-22T16:55:51.893Z"
   },
   {
    "duration": 583,
    "start_time": "2021-12-22T16:55:51.918Z"
   },
   {
    "duration": 25,
    "start_time": "2021-12-22T16:55:52.504Z"
   },
   {
    "duration": 498,
    "start_time": "2021-12-22T16:55:52.531Z"
   },
   {
    "duration": 472,
    "start_time": "2021-12-22T16:57:25.823Z"
   },
   {
    "duration": 486,
    "start_time": "2021-12-22T17:01:22.084Z"
   },
   {
    "duration": 473,
    "start_time": "2021-12-22T17:03:05.163Z"
   },
   {
    "duration": 451,
    "start_time": "2021-12-22T17:03:12.372Z"
   },
   {
    "duration": 103,
    "start_time": "2021-12-22T17:10:21.173Z"
   },
   {
    "duration": 1922,
    "start_time": "2021-12-22T17:10:19.356Z"
   },
   {
    "duration": 346,
    "start_time": "2021-12-22T17:13:26.996Z"
   },
   {
    "duration": 371,
    "start_time": "2021-12-22T17:14:05.264Z"
   },
   {
    "duration": 340,
    "start_time": "2021-12-22T17:14:16.322Z"
   },
   {
    "duration": 350,
    "start_time": "2021-12-22T17:14:24.213Z"
   },
   {
    "duration": 358,
    "start_time": "2021-12-22T17:14:58.303Z"
   },
   {
    "duration": 357,
    "start_time": "2021-12-22T17:15:04.973Z"
   },
   {
    "duration": 859,
    "start_time": "2021-12-22T17:16:38.822Z"
   },
   {
    "duration": 895,
    "start_time": "2021-12-22T17:16:47.480Z"
   },
   {
    "duration": 911,
    "start_time": "2021-12-22T17:17:05.432Z"
   },
   {
    "duration": 509,
    "start_time": "2021-12-22T17:17:17.859Z"
   },
   {
    "duration": 760,
    "start_time": "2021-12-22T17:22:00.341Z"
   },
   {
    "duration": 727,
    "start_time": "2021-12-22T17:22:17.468Z"
   },
   {
    "duration": 357,
    "start_time": "2021-12-22T17:22:31.747Z"
   },
   {
    "duration": 319,
    "start_time": "2021-12-22T17:23:07.955Z"
   },
   {
    "duration": 301,
    "start_time": "2021-12-22T17:23:40.173Z"
   },
   {
    "duration": 407,
    "start_time": "2021-12-22T17:23:50.505Z"
   },
   {
    "duration": 108,
    "start_time": "2021-12-22T17:28:28.282Z"
   },
   {
    "duration": 396,
    "start_time": "2021-12-22T17:28:40.641Z"
   },
   {
    "duration": 376,
    "start_time": "2021-12-22T17:39:39.722Z"
   },
   {
    "duration": 363,
    "start_time": "2021-12-22T17:39:57.801Z"
   },
   {
    "duration": 364,
    "start_time": "2021-12-22T17:42:56.317Z"
   },
   {
    "duration": 370,
    "start_time": "2021-12-22T17:43:11.558Z"
   },
   {
    "duration": 12,
    "start_time": "2021-12-22T17:45:23.252Z"
   },
   {
    "duration": 2515,
    "start_time": "2021-12-22T17:45:24.146Z"
   },
   {
    "duration": 6,
    "start_time": "2021-12-22T17:45:35.566Z"
   },
   {
    "duration": 6,
    "start_time": "2021-12-22T17:45:36.355Z"
   },
   {
    "duration": 6,
    "start_time": "2021-12-22T17:45:37.066Z"
   },
   {
    "duration": 447,
    "start_time": "2021-12-22T17:54:12.615Z"
   },
   {
    "duration": 6,
    "start_time": "2021-12-22T18:04:15.700Z"
   },
   {
    "duration": 795,
    "start_time": "2021-12-22T18:04:15.709Z"
   },
   {
    "duration": 199,
    "start_time": "2021-12-22T18:04:16.507Z"
   },
   {
    "duration": 316,
    "start_time": "2021-12-22T18:04:16.708Z"
   },
   {
    "duration": 283,
    "start_time": "2021-12-22T18:04:17.026Z"
   },
   {
    "duration": 304,
    "start_time": "2021-12-22T18:04:17.311Z"
   },
   {
    "duration": 836,
    "start_time": "2021-12-22T18:04:17.618Z"
   },
   {
    "duration": 160,
    "start_time": "2021-12-22T18:04:18.457Z"
   },
   {
    "duration": 267,
    "start_time": "2021-12-22T18:04:18.620Z"
   },
   {
    "duration": 366,
    "start_time": "2021-12-22T18:04:18.889Z"
   },
   {
    "duration": 279,
    "start_time": "2021-12-22T18:04:19.257Z"
   },
   {
    "duration": 274,
    "start_time": "2021-12-22T18:04:19.538Z"
   },
   {
    "duration": 563,
    "start_time": "2021-12-22T18:04:19.814Z"
   },
   {
    "duration": 190,
    "start_time": "2021-12-22T18:04:20.379Z"
   },
   {
    "duration": 305,
    "start_time": "2021-12-22T18:04:20.571Z"
   },
   {
    "duration": 203,
    "start_time": "2021-12-22T18:04:20.879Z"
   },
   {
    "duration": 257,
    "start_time": "2021-12-22T18:04:21.084Z"
   },
   {
    "duration": 597,
    "start_time": "2021-12-22T18:04:21.343Z"
   },
   {
    "duration": 89,
    "start_time": "2021-12-22T18:04:21.943Z"
   },
   {
    "duration": 623,
    "start_time": "2021-12-22T18:04:22.034Z"
   },
   {
    "duration": 685,
    "start_time": "2021-12-22T18:04:22.660Z"
   },
   {
    "duration": 180,
    "start_time": "2021-12-22T18:04:23.347Z"
   },
   {
    "duration": 705,
    "start_time": "2021-12-22T18:04:23.533Z"
   },
   {
    "duration": 630,
    "start_time": "2021-12-22T18:04:24.242Z"
   },
   {
    "duration": 227,
    "start_time": "2021-12-22T18:04:24.875Z"
   },
   {
    "duration": 256,
    "start_time": "2021-12-22T18:04:25.105Z"
   },
   {
    "duration": 1277,
    "start_time": "2021-12-22T18:04:25.364Z"
   },
   {
    "duration": 6825,
    "start_time": "2021-12-22T18:04:26.644Z"
   },
   {
    "duration": 8,
    "start_time": "2021-12-22T18:04:33.471Z"
   },
   {
    "duration": 868,
    "start_time": "2021-12-22T18:04:33.481Z"
   },
   {
    "duration": 4979,
    "start_time": "2021-12-22T18:04:34.351Z"
   },
   {
    "duration": 14,
    "start_time": "2021-12-22T18:04:39.332Z"
   },
   {
    "duration": 254,
    "start_time": "2021-12-22T18:04:39.348Z"
   },
   {
    "duration": 338,
    "start_time": "2021-12-22T18:04:39.604Z"
   },
   {
    "duration": 240,
    "start_time": "2021-12-22T18:04:39.945Z"
   },
   {
    "duration": 360,
    "start_time": "2021-12-22T18:04:40.187Z"
   },
   {
    "duration": 270,
    "start_time": "2021-12-22T18:04:40.549Z"
   },
   {
    "duration": 489,
    "start_time": "2021-12-22T18:04:40.821Z"
   },
   {
    "duration": 489,
    "start_time": "2021-12-22T18:04:41.312Z"
   },
   {
    "duration": 263,
    "start_time": "2021-12-22T18:04:41.804Z"
   },
   {
    "duration": 289,
    "start_time": "2021-12-22T18:04:42.069Z"
   },
   {
    "duration": 1375,
    "start_time": "2021-12-22T18:04:42.361Z"
   },
   {
    "duration": 9,
    "start_time": "2021-12-22T18:04:43.738Z"
   },
   {
    "duration": 514,
    "start_time": "2021-12-22T18:04:43.749Z"
   },
   {
    "duration": 425,
    "start_time": "2021-12-22T18:04:44.266Z"
   },
   {
    "duration": 667,
    "start_time": "2021-12-22T18:04:44.693Z"
   },
   {
    "duration": 470,
    "start_time": "2021-12-22T18:04:45.363Z"
   },
   {
    "duration": 439,
    "start_time": "2021-12-22T18:04:45.836Z"
   },
   {
    "duration": 563,
    "start_time": "2021-12-22T18:04:46.277Z"
   },
   {
    "duration": 6,
    "start_time": "2021-12-22T18:04:46.842Z"
   },
   {
    "duration": 479,
    "start_time": "2021-12-22T18:04:46.850Z"
   },
   {
    "duration": 469,
    "start_time": "2021-12-22T18:04:47.331Z"
   },
   {
    "duration": 1264,
    "start_time": "2021-12-22T18:04:47.803Z"
   },
   {
    "duration": 7,
    "start_time": "2021-12-22T18:04:49.069Z"
   },
   {
    "duration": 663,
    "start_time": "2021-12-22T18:04:49.079Z"
   },
   {
    "duration": 112,
    "start_time": "2021-12-22T18:04:49.745Z"
   },
   {
    "duration": 996,
    "start_time": "2021-12-22T18:04:49.860Z"
   },
   {
    "duration": 8,
    "start_time": "2021-12-22T18:04:50.858Z"
   },
   {
    "duration": 523,
    "start_time": "2021-12-22T18:04:50.867Z"
   },
   {
    "duration": 2125,
    "start_time": "2021-12-22T18:04:51.392Z"
   },
   {
    "duration": 16,
    "start_time": "2021-12-22T18:04:53.519Z"
   },
   {
    "duration": 501,
    "start_time": "2021-12-22T18:04:53.538Z"
   },
   {
    "duration": 588,
    "start_time": "2021-12-22T18:04:54.041Z"
   },
   {
    "duration": 35,
    "start_time": "2021-12-22T18:04:54.631Z"
   },
   {
    "duration": 650,
    "start_time": "2021-12-22T18:04:54.669Z"
   },
   {
    "duration": 11,
    "start_time": "2021-12-22T18:04:55.321Z"
   },
   {
    "duration": 650,
    "start_time": "2021-12-22T18:04:55.335Z"
   },
   {
    "duration": 23,
    "start_time": "2021-12-22T18:04:55.995Z"
   },
   {
    "duration": 707,
    "start_time": "2021-12-22T18:04:56.022Z"
   },
   {
    "duration": 11,
    "start_time": "2021-12-22T18:04:56.731Z"
   },
   {
    "duration": 524,
    "start_time": "2021-12-22T18:04:56.744Z"
   },
   {
    "duration": 567,
    "start_time": "2021-12-22T18:04:57.271Z"
   },
   {
    "duration": 813,
    "start_time": "2021-12-22T18:04:57.840Z"
   },
   {
    "duration": 12,
    "start_time": "2021-12-22T18:04:58.655Z"
   },
   {
    "duration": 2842,
    "start_time": "2021-12-22T18:04:58.669Z"
   },
   {
    "duration": 5,
    "start_time": "2021-12-22T18:05:01.517Z"
   },
   {
    "duration": 276,
    "start_time": "2021-12-22T18:05:01.525Z"
   },
   {
    "duration": 551,
    "start_time": "2021-12-22T18:05:01.803Z"
   },
   {
    "duration": 861,
    "start_time": "2021-12-22T18:05:02.356Z"
   },
   {
    "duration": 10,
    "start_time": "2021-12-22T18:05:03.219Z"
   },
   {
    "duration": 710,
    "start_time": "2021-12-22T18:05:03.231Z"
   },
   {
    "duration": 880,
    "start_time": "2021-12-22T18:05:03.943Z"
   },
   {
    "duration": 429,
    "start_time": "2021-12-22T18:05:04.825Z"
   },
   {
    "duration": 800,
    "start_time": "2021-12-22T18:05:05.257Z"
   },
   {
    "duration": 1057,
    "start_time": "2021-12-22T18:05:06.060Z"
   },
   {
    "duration": 10,
    "start_time": "2021-12-22T18:05:07.119Z"
   },
   {
    "duration": 742,
    "start_time": "2021-12-22T18:05:07.131Z"
   },
   {
    "duration": 17,
    "start_time": "2021-12-22T18:05:07.875Z"
   },
   {
    "duration": 581,
    "start_time": "2021-12-22T18:05:07.894Z"
   },
   {
    "duration": 1930,
    "start_time": "2021-12-22T18:05:06.768Z"
   }
  ],
  "kernelspec": {
   "display_name": "Python 3 (ipykernel)",
   "language": "python",
   "name": "python3"
  },
  "language_info": {
   "codemirror_mode": {
    "name": "ipython",
    "version": 3
   },
   "file_extension": ".py",
   "mimetype": "text/x-python",
   "name": "python",
   "nbconvert_exporter": "python",
   "pygments_lexer": "ipython3",
   "version": "3.9.7"
  },
  "toc": {
   "base_numbering": 1,
   "nav_menu": {},
   "number_sections": true,
   "sideBar": true,
   "skip_h1_title": true,
   "title_cell": "Содержание",
   "title_sidebar": "Contents",
   "toc_cell": true,
   "toc_position": {
    "height": "calc(100% - 180px)",
    "left": "10px",
    "top": "150px",
    "width": "254px"
   },
   "toc_section_display": true,
   "toc_window_display": true
  }
 },
 "nbformat": 4,
 "nbformat_minor": 2
}
